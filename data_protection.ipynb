{
  "cells": [
    {
      "cell_type": "markdown",
      "metadata": {
        "toc": true,
        "id": "5K0srzl-Antw"
      },
      "source": [
        "<h1>Содержание<span class=\"tocSkip\"></span></h1>\n",
        "<div class=\"toc\"><ul class=\"toc-item\"><li><span><a href=\"#Загрузка-данных\" data-toc-modified-id=\"Загрузка-данных-1\"><span class=\"toc-item-num\">1&nbsp;&nbsp;</span>Загрузка данных</a></span></li><li><span><a href=\"#Умножение-матриц\" data-toc-modified-id=\"Умножение-матриц-2\"><span class=\"toc-item-num\">2&nbsp;&nbsp;</span>Умножение матриц</a></span></li><li><span><a href=\"#Алгоритм-преобразования\" data-toc-modified-id=\"Алгоритм-преобразования-3\"><span class=\"toc-item-num\">3&nbsp;&nbsp;</span>Алгоритм преобразования</a></span></li><li><span><a href=\"#Проверка-алгоритма\" data-toc-modified-id=\"Проверка-алгоритма-4\"><span class=\"toc-item-num\">4&nbsp;&nbsp;</span>Проверка алгоритма</a></span></li><li><span><a href=\"#Чек-лист-проверки\" data-toc-modified-id=\"Чек-лист-проверки-5\"><span class=\"toc-item-num\">5&nbsp;&nbsp;</span>Чек-лист проверки</a></span></li></ul></div>"
      ]
    },
    {
      "cell_type": "markdown",
      "metadata": {
        "id": "crKHeGd7Antw"
      },
      "source": [
        "# Защита персональных данных клиентов"
      ]
    },
    {
      "cell_type": "markdown",
      "metadata": {
        "id": "YFVHCDx0Antx"
      },
      "source": [
        "Вам нужно защитить данные клиентов страховой компании «Хоть потоп». Разработайте такой метод преобразования данных, чтобы по ним было сложно восстановить персональную информацию. Обоснуйте корректность его работы.\n",
        "\n",
        "Нужно защитить данные, чтобы при преобразовании качество моделей машинного обучения не ухудшилось. Подбирать наилучшую модель не требуется."
      ]
    },
    {
      "cell_type": "markdown",
      "metadata": {
        "id": "cuaKBjSFAntx"
      },
      "source": [
        "## Загрузка данных"
      ]
    },
    {
      "cell_type": "code",
      "execution_count": null,
      "metadata": {
        "id": "e7FYLofOAntx"
      },
      "outputs": [],
      "source": [
        "import matplotlib.pyplot as plt\n",
        "import warnings\n",
        "warnings.simplefilter(action='ignore', category=FutureWarning)\n",
        "import numpy as np\n",
        "import pandas as pd\n",
        "import seaborn as sns\n",
        "from sklearn.datasets import make_spd_matrix\n",
        "from sklearn.linear_model import LinearRegression\n",
        "from sklearn.metrics import r2_score\n",
        "from sklearn.model_selection import train_test_split"
      ]
    },
    {
      "cell_type": "code",
      "execution_count": null,
      "metadata": {
        "id": "KGAnK5NrAnty",
        "outputId": "c2d13db1-36e1-45a7-f217-3ac85669192e"
      },
      "outputs": [
        {
          "data": {
            "text/html": [
              "<div>\n",
              "<style scoped>\n",
              "    .dataframe tbody tr th:only-of-type {\n",
              "        vertical-align: middle;\n",
              "    }\n",
              "\n",
              "    .dataframe tbody tr th {\n",
              "        vertical-align: top;\n",
              "    }\n",
              "\n",
              "    .dataframe thead th {\n",
              "        text-align: right;\n",
              "    }\n",
              "</style>\n",
              "<table border=\"1\" class=\"dataframe\">\n",
              "  <thead>\n",
              "    <tr style=\"text-align: right;\">\n",
              "      <th></th>\n",
              "      <th>Пол</th>\n",
              "      <th>Возраст</th>\n",
              "      <th>Зарплата</th>\n",
              "      <th>Члены семьи</th>\n",
              "      <th>Страховые выплаты</th>\n",
              "    </tr>\n",
              "  </thead>\n",
              "  <tbody>\n",
              "    <tr>\n",
              "      <th>0</th>\n",
              "      <td>1</td>\n",
              "      <td>41.0</td>\n",
              "      <td>49600.0</td>\n",
              "      <td>1</td>\n",
              "      <td>0</td>\n",
              "    </tr>\n",
              "    <tr>\n",
              "      <th>1</th>\n",
              "      <td>0</td>\n",
              "      <td>46.0</td>\n",
              "      <td>38000.0</td>\n",
              "      <td>1</td>\n",
              "      <td>1</td>\n",
              "    </tr>\n",
              "    <tr>\n",
              "      <th>2</th>\n",
              "      <td>0</td>\n",
              "      <td>29.0</td>\n",
              "      <td>21000.0</td>\n",
              "      <td>0</td>\n",
              "      <td>0</td>\n",
              "    </tr>\n",
              "    <tr>\n",
              "      <th>3</th>\n",
              "      <td>0</td>\n",
              "      <td>21.0</td>\n",
              "      <td>41700.0</td>\n",
              "      <td>2</td>\n",
              "      <td>0</td>\n",
              "    </tr>\n",
              "    <tr>\n",
              "      <th>4</th>\n",
              "      <td>1</td>\n",
              "      <td>28.0</td>\n",
              "      <td>26100.0</td>\n",
              "      <td>0</td>\n",
              "      <td>0</td>\n",
              "    </tr>\n",
              "    <tr>\n",
              "      <th>...</th>\n",
              "      <td>...</td>\n",
              "      <td>...</td>\n",
              "      <td>...</td>\n",
              "      <td>...</td>\n",
              "      <td>...</td>\n",
              "    </tr>\n",
              "    <tr>\n",
              "      <th>4995</th>\n",
              "      <td>0</td>\n",
              "      <td>28.0</td>\n",
              "      <td>35700.0</td>\n",
              "      <td>2</td>\n",
              "      <td>0</td>\n",
              "    </tr>\n",
              "    <tr>\n",
              "      <th>4996</th>\n",
              "      <td>0</td>\n",
              "      <td>34.0</td>\n",
              "      <td>52400.0</td>\n",
              "      <td>1</td>\n",
              "      <td>0</td>\n",
              "    </tr>\n",
              "    <tr>\n",
              "      <th>4997</th>\n",
              "      <td>0</td>\n",
              "      <td>20.0</td>\n",
              "      <td>33900.0</td>\n",
              "      <td>2</td>\n",
              "      <td>0</td>\n",
              "    </tr>\n",
              "    <tr>\n",
              "      <th>4998</th>\n",
              "      <td>1</td>\n",
              "      <td>22.0</td>\n",
              "      <td>32700.0</td>\n",
              "      <td>3</td>\n",
              "      <td>0</td>\n",
              "    </tr>\n",
              "    <tr>\n",
              "      <th>4999</th>\n",
              "      <td>1</td>\n",
              "      <td>28.0</td>\n",
              "      <td>40600.0</td>\n",
              "      <td>1</td>\n",
              "      <td>0</td>\n",
              "    </tr>\n",
              "  </tbody>\n",
              "</table>\n",
              "<p>5000 rows × 5 columns</p>\n",
              "</div>"
            ],
            "text/plain": [
              "      Пол  Возраст  Зарплата  Члены семьи  Страховые выплаты\n",
              "0       1     41.0   49600.0            1                  0\n",
              "1       0     46.0   38000.0            1                  1\n",
              "2       0     29.0   21000.0            0                  0\n",
              "3       0     21.0   41700.0            2                  0\n",
              "4       1     28.0   26100.0            0                  0\n",
              "...   ...      ...       ...          ...                ...\n",
              "4995    0     28.0   35700.0            2                  0\n",
              "4996    0     34.0   52400.0            1                  0\n",
              "4997    0     20.0   33900.0            2                  0\n",
              "4998    1     22.0   32700.0            3                  0\n",
              "4999    1     28.0   40600.0            1                  0\n",
              "\n",
              "[5000 rows x 5 columns]"
            ]
          },
          "execution_count": 2,
          "metadata": {},
          "output_type": "execute_result"
        }
      ],
      "source": [
        "try: \n",
        "    df = pd.read_csv(\"/datasets/insurance.csv\")\n",
        "\n",
        "except:\n",
        "    df = pd.read_csv('https://code.s3.yandex.net/datasets/insurance.csv')"
      ]
    },
    {
      "cell_type": "code",
      "execution_count": null,
      "metadata": {
        "id": "GOzxAluMAntz",
        "outputId": "232d3504-4240-444d-b196-3078e30a1879"
      },
      "outputs": [
        {
          "data": {
            "text/plain": [
              "Пол                  0\n",
              "Возраст              0\n",
              "Зарплата             0\n",
              "Члены семьи          0\n",
              "Страховые выплаты    0\n",
              "dtype: int64"
            ]
          },
          "execution_count": 3,
          "metadata": {},
          "output_type": "execute_result"
        }
      ],
      "source": [
        "df.isnull().sum()"
      ]
    },
    {
      "cell_type": "code",
      "execution_count": null,
      "metadata": {
        "id": "N5B0QTceAnt0",
        "outputId": "29748e44-6afd-4d8a-b438-bb2f41072d68"
      },
      "outputs": [
        {
          "name": "stdout",
          "output_type": "stream",
          "text": [
            "<class 'pandas.core.frame.DataFrame'>\n",
            "RangeIndex: 5000 entries, 0 to 4999\n",
            "Data columns (total 5 columns):\n",
            " #   Column             Non-Null Count  Dtype  \n",
            "---  ------             --------------  -----  \n",
            " 0   Пол                5000 non-null   int64  \n",
            " 1   Возраст            5000 non-null   float64\n",
            " 2   Зарплата           5000 non-null   float64\n",
            " 3   Члены семьи        5000 non-null   int64  \n",
            " 4   Страховые выплаты  5000 non-null   int64  \n",
            "dtypes: float64(2), int64(3)\n",
            "memory usage: 195.4 KB\n"
          ]
        }
      ],
      "source": [
        "df.info()"
      ]
    },
    {
      "cell_type": "code",
      "execution_count": null,
      "metadata": {
        "id": "kZ1TRvoBAnt0",
        "outputId": "1ae3c830-8ef5-451c-a110-cb63d1de58dc"
      },
      "outputs": [
        {
          "data": {
            "text/html": [
              "<div>\n",
              "<style scoped>\n",
              "    .dataframe tbody tr th:only-of-type {\n",
              "        vertical-align: middle;\n",
              "    }\n",
              "\n",
              "    .dataframe tbody tr th {\n",
              "        vertical-align: top;\n",
              "    }\n",
              "\n",
              "    .dataframe thead th {\n",
              "        text-align: right;\n",
              "    }\n",
              "</style>\n",
              "<table border=\"1\" class=\"dataframe\">\n",
              "  <thead>\n",
              "    <tr style=\"text-align: right;\">\n",
              "      <th></th>\n",
              "      <th>Пол</th>\n",
              "      <th>Возраст</th>\n",
              "      <th>Зарплата</th>\n",
              "      <th>Члены семьи</th>\n",
              "      <th>Страховые выплаты</th>\n",
              "    </tr>\n",
              "  </thead>\n",
              "  <tbody>\n",
              "    <tr>\n",
              "      <th>count</th>\n",
              "      <td>5000.000000</td>\n",
              "      <td>5000.000000</td>\n",
              "      <td>5000.000000</td>\n",
              "      <td>5000.000000</td>\n",
              "      <td>5000.000000</td>\n",
              "    </tr>\n",
              "    <tr>\n",
              "      <th>mean</th>\n",
              "      <td>0.499000</td>\n",
              "      <td>30.952800</td>\n",
              "      <td>39916.360000</td>\n",
              "      <td>1.194200</td>\n",
              "      <td>0.148000</td>\n",
              "    </tr>\n",
              "    <tr>\n",
              "      <th>std</th>\n",
              "      <td>0.500049</td>\n",
              "      <td>8.440807</td>\n",
              "      <td>9900.083569</td>\n",
              "      <td>1.091387</td>\n",
              "      <td>0.463183</td>\n",
              "    </tr>\n",
              "    <tr>\n",
              "      <th>min</th>\n",
              "      <td>0.000000</td>\n",
              "      <td>18.000000</td>\n",
              "      <td>5300.000000</td>\n",
              "      <td>0.000000</td>\n",
              "      <td>0.000000</td>\n",
              "    </tr>\n",
              "    <tr>\n",
              "      <th>25%</th>\n",
              "      <td>0.000000</td>\n",
              "      <td>24.000000</td>\n",
              "      <td>33300.000000</td>\n",
              "      <td>0.000000</td>\n",
              "      <td>0.000000</td>\n",
              "    </tr>\n",
              "    <tr>\n",
              "      <th>50%</th>\n",
              "      <td>0.000000</td>\n",
              "      <td>30.000000</td>\n",
              "      <td>40200.000000</td>\n",
              "      <td>1.000000</td>\n",
              "      <td>0.000000</td>\n",
              "    </tr>\n",
              "    <tr>\n",
              "      <th>75%</th>\n",
              "      <td>1.000000</td>\n",
              "      <td>37.000000</td>\n",
              "      <td>46600.000000</td>\n",
              "      <td>2.000000</td>\n",
              "      <td>0.000000</td>\n",
              "    </tr>\n",
              "    <tr>\n",
              "      <th>max</th>\n",
              "      <td>1.000000</td>\n",
              "      <td>65.000000</td>\n",
              "      <td>79000.000000</td>\n",
              "      <td>6.000000</td>\n",
              "      <td>5.000000</td>\n",
              "    </tr>\n",
              "  </tbody>\n",
              "</table>\n",
              "</div>"
            ],
            "text/plain": [
              "               Пол      Возраст      Зарплата  Члены семьи  Страховые выплаты\n",
              "count  5000.000000  5000.000000   5000.000000  5000.000000        5000.000000\n",
              "mean      0.499000    30.952800  39916.360000     1.194200           0.148000\n",
              "std       0.500049     8.440807   9900.083569     1.091387           0.463183\n",
              "min       0.000000    18.000000   5300.000000     0.000000           0.000000\n",
              "25%       0.000000    24.000000  33300.000000     0.000000           0.000000\n",
              "50%       0.000000    30.000000  40200.000000     1.000000           0.000000\n",
              "75%       1.000000    37.000000  46600.000000     2.000000           0.000000\n",
              "max       1.000000    65.000000  79000.000000     6.000000           5.000000"
            ]
          },
          "execution_count": 6,
          "metadata": {},
          "output_type": "execute_result"
        }
      ],
      "source": [
        "df.describe()"
      ]
    },
    {
      "cell_type": "code",
      "execution_count": null,
      "metadata": {
        "id": "A1uhOM7jAnt0",
        "outputId": "deb1a928-4388-4464-c212-ebba8cd807b6"
      },
      "outputs": [
        {
          "data": {
            "image/png": "[encoded data removed]",
            "text/plain": [
              "<Figure size 864x432 with 1 Axes>"
            ]
          },
          "metadata": {
            "needs_background": "light"
          },
          "output_type": "display_data"
        },
        {
          "data": {
            "image/png": "[encoded data removed]",
            "text/plain": [
              "<Figure size 864x432 with 1 Axes>"
            ]
          },
          "metadata": {
            "needs_background": "light"
          },
          "output_type": "display_data"
        },
        {
          "data": {
            "image/png": "[encoded data removed]",
            "text/plain": [
              "<Figure size 864x432 with 1 Axes>"
            ]
          },
          "metadata": {
            "needs_background": "light"
          },
          "output_type": "display_data"
        },
        {
          "data": {
            "image/png": "[encoded data removed]",
            "text/plain": [
              "<Figure size 864x432 with 1 Axes>"
            ]
          },
          "metadata": {
            "needs_background": "light"
          },
          "output_type": "display_data"
        }
      ],
      "source": [
        "spisok = ['Пол', 'Возраст', 'Члены семьи', 'Страховые выплаты']\n",
        "dependencies = ['Зарплата']\n",
        "\n",
        "for i in spisok:\n",
        "    values = df[i].value_counts()\n",
        "    plt.figure(figsize=(12,6))\n",
        "    values.plot(kind = 'bar', color = 'purple')\n",
        "    plt.title(i)\n",
        "    plt.show()"
      ]
    },
    {
      "cell_type": "markdown",
      "metadata": {
        "id": "6j4JmlhcAnt1"
      },
      "source": [
        "* пропусков нет\n",
        "* типы данных корректны\n",
        "* женщин и мужчин среди клиентов почти одинаковое около 2500\n",
        "* от 19 до 41 года составляет большая часть людей, обратившихся в страховую компанию  \n",
        "* чаще всего клиенты имеют семью из 1-го члена семьи/не имеют"
      ]
    },
    {
      "cell_type": "markdown",
      "metadata": {
        "id": "00ViI7FlAnt2"
      },
      "source": [
        "## Умножение матриц"
      ]
    },
    {
      "cell_type": "markdown",
      "metadata": {
        "id": "SXv7wmBYAnt2"
      },
      "source": [
        "В этом задании вы можете записывать формулы в *Jupyter Notebook.*\n",
        "\n",
        "Чтобы записать формулу внутри текста, окружите её символами доллара \\\\$; если снаружи —  двойными символами \\\\$\\\\$. Эти формулы записываются на языке вёрстки *LaTeX.* \n",
        "\n",
        "Для примера мы записали формулы линейной регрессии. Можете их скопировать и отредактировать, чтобы решить задачу.\n",
        "\n",
        "Работать в *LaTeX* необязательно."
      ]
    },
    {
      "cell_type": "markdown",
      "metadata": {
        "id": "xV219hdlAnt2"
      },
      "source": [
        "Обозначения:\n",
        "\n",
        "- $X$ — матрица признаков (нулевой столбец состоит из единиц)\n",
        "\n",
        "- $y$ — вектор целевого признака\n",
        "\n",
        "- $P$ — матрица, на которую умножаются признаки\n",
        "\n",
        "- $w$ — вектор весов линейной регрессии (нулевой элемент равен сдвигу)"
      ]
    },
    {
      "cell_type": "markdown",
      "metadata": {
        "id": "gITpmywIAnt2"
      },
      "source": [
        "Предсказания:\n",
        "\n",
        "$$\n",
        "a = Xw\n",
        "$$\n",
        "\n",
        "Задача обучения:\n",
        "\n",
        "$$\n",
        "w = \\arg\\min_w MSE(Xw, y)\n",
        "$$\n",
        "\n",
        "Формула обучения:\n",
        "\n",
        "$$\n",
        "w = (X^T X)^{-1} X^T y\n",
        "$$"
      ]
    },
    {
      "cell_type": "markdown",
      "metadata": {
        "id": "_iy_J3zwAnt2"
      },
      "source": [
        "Если в задаче линеной регрессии $a = Xw$ умножить $X (M, N)$ на обратимую матрицу $Z$, размерности $(N, N)$, то при вычислении весов $w = (X^T X)^{-1} X^T y$ предсказания $a$ не дожны изменится."
      ]
    },
    {
      "cell_type": "markdown",
      "metadata": {
        "id": "A3nhw1zLAnt3"
      },
      "source": [
        "**Ответ:** не изменится. \n",
        "\n",
        "**Обоснование:**\n",
        "\n",
        "Новая матрица признаков:\n",
        "\n",
        "$$X' = XP$$\n",
        "\n",
        "Таким образом новый вектор весов $w'$ можем расчитать следующим образом:\n",
        "\n",
        "$$w' = ((XP)^{T} XP)^{-1} (XP)^{T} y = \\\\ \n",
        "     = (P^{T}X^{T} XP)^{-1}P^{T}X^{T}y  = \\\\ \n",
        "     = P^{-1} (X^{T} X)^{-1} (P^{T})^{-1} P^{T}X^{T}y = \\\\ \n",
        "     = P^{-1} w, $$ \n",
        "     \n",
        "так как внутри формулы можно выделить формулу расчета $w$, а\n",
        "\n",
        "$$(P^{T})^{-1} P^{T} = Е = 1$$\n",
        "\n",
        "\n",
        "Таким образом:\n",
        "\n",
        "$$ a' = X'w' = XPP^{-1}w = XEw = Xw= a $$\n",
        "\n",
        "Тут можно отметить, что, если любую матрицу Р умножить на единичную (или наоборот), получится эта же матрица Р. Т.е., матрицы будут одинаковыми, а качество линейной регрессии не изменится.\n",
        "\n",
        "**Вывод:** Предсказания модели не изменились, значит, и качество осталось тем же.\n"
      ]
    },
    {
      "cell_type": "markdown",
      "metadata": {
        "id": "ATYJH5-GAnt3"
      },
      "source": [
        "## Алгоритм преобразования"
      ]
    },
    {
      "cell_type": "markdown",
      "metadata": {
        "id": "5XmMcUOaAnt3"
      },
      "source": [
        "**Алгоритм**\n",
        "\n",
        "1) методом *make_spd_matrix* создам случайную матрицу A\n",
        "\n",
        "2) методом *np.linalg.inv()* проверю матрицу А на обратимость и получаем $А^{-1}$. Если матрица А провалила тест на обратимость, необходимо создать новую случайную матрицу \n",
        "\n",
        "Так как надо закодировать данные клиентов, матрица А будет ключом кодирования. \n",
        "\n",
        "3) умножаем матрицу признаков X на полученную матрицу А и получаем матрицу B с закодированными данными о клиентах:\n",
        "\n",
        "$$ B = X @ A $$\n",
        "\n",
        "4) После этого перейду к обучению модели линейной регрессии"
      ]
    },
    {
      "cell_type": "markdown",
      "metadata": {
        "id": "i9GL2l91Ant3"
      },
      "source": [
        "**Обоснование**\n",
        "\n",
        "алгоритм позволит защитить персональную информацию клиентов и при этом не должен повлиять на работу модели"
      ]
    },
    {
      "cell_type": "markdown",
      "metadata": {
        "id": "TdJ_dRTiAnt3"
      },
      "source": [
        "## Проверка алгоритма"
      ]
    },
    {
      "cell_type": "code",
      "execution_count": null,
      "metadata": {
        "id": "d71i_v2UAnt3",
        "outputId": "ca2c7227-01d4-4854-a5d7-d9bc3d6d3a2e"
      },
      "outputs": [
        {
          "data": {
            "text/plain": [
              "((5000, 4), (5000,))"
            ]
          },
          "execution_count": 5,
          "metadata": {},
          "output_type": "execute_result"
        }
      ],
      "source": [
        "features = df.drop('Страховые выплаты',axis=1)\n",
        "target = df['Страховые выплаты']\n",
        "features.shape, target.shape"
      ]
    },
    {
      "cell_type": "code",
      "execution_count": null,
      "metadata": {
        "id": "1B2sVOeeAnt4",
        "outputId": "ae509c24-b507-46be-877b-c60eb108ca18"
      },
      "outputs": [
        {
          "data": {
            "text/plain": [
              "array([[1.00e+00, 4.10e+01, 4.96e+04, 1.00e+00],\n",
              "       [0.00e+00, 4.60e+01, 3.80e+04, 1.00e+00],\n",
              "       [0.00e+00, 2.90e+01, 2.10e+04, 0.00e+00],\n",
              "       ...,\n",
              "       [0.00e+00, 2.00e+01, 3.39e+04, 2.00e+00],\n",
              "       [1.00e+00, 2.20e+01, 3.27e+04, 3.00e+00],\n",
              "       [1.00e+00, 2.80e+01, 4.06e+04, 1.00e+00]])"
            ]
          },
          "execution_count": 6,
          "metadata": {},
          "output_type": "execute_result"
        }
      ],
      "source": [
        "features_matrix = features.values\n",
        "features_matrix"
      ]
    },
    {
      "cell_type": "markdown",
      "metadata": {
        "id": "VdDkJzNWAnt4"
      },
      "source": [
        "создаем случайную матрицу методом make "
      ]
    },
    {
      "cell_type": "code",
      "execution_count": null,
      "metadata": {
        "id": "seC4rg_fAnt4",
        "outputId": "5b22cf3d-e0c7-42f8-af75-7ad7e05e9e64"
      },
      "outputs": [
        {
          "data": {
            "text/plain": [
              "array([[ 0.47243659,  0.36201499,  0.23624413, -0.20756552],\n",
              "       [ 0.36201499,  3.26723888,  1.70966795, -0.39838002],\n",
              "       [ 0.23624413,  1.70966795,  1.32704651, -0.17893753],\n",
              "       [-0.20756552, -0.39838002, -0.17893753,  0.35460046]])"
            ]
          },
          "execution_count": 7,
          "metadata": {},
          "output_type": "execute_result"
        }
      ],
      "source": [
        "random_matrix = make_spd_matrix(n_dim=4, random_state=123)\n",
        "random_matrix"
      ]
    },
    {
      "cell_type": "markdown",
      "metadata": {
        "id": "CqnyZfRLAnt4"
      },
      "source": [
        "проверяем ее на обратимость"
      ]
    },
    {
      "cell_type": "code",
      "execution_count": null,
      "metadata": {
        "id": "YhrazoGjAnt4",
        "outputId": "b7df95af-8c8f-451a-ec6a-f1310d23ea82"
      },
      "outputs": [
        {
          "data": {
            "text/plain": [
              "array([[ 2.97675307,  0.09601407, -0.43363796,  1.63149048],\n",
              "       [ 0.09601407,  1.02415391, -1.2595126 ,  0.57122764],\n",
              "       [-0.43363796, -1.2595126 ,  2.39108163, -0.46226306],\n",
              "       [ 1.63149048,  0.57122764, -0.46226306,  4.18355526]])"
            ]
          },
          "execution_count": 8,
          "metadata": {},
          "output_type": "execute_result"
        }
      ],
      "source": [
        "np.linalg.inv(random_matrix)"
      ]
    },
    {
      "cell_type": "markdown",
      "metadata": {
        "id": "HVOKmZemAnt4"
      },
      "source": [
        "=>матрица обратима.  "
      ]
    },
    {
      "cell_type": "code",
      "execution_count": null,
      "metadata": {
        "id": "U-tPwOSMAnt5",
        "outputId": "ef08a74d-dd80-4fbb-ff20-8f3126f36ac5"
      },
      "outputs": [
        {
          "data": {
            "text/plain": [
              "array([[11732.81637505, 84933.45064883, 65891.66076973, -8891.48812605],\n",
              "       [ 8993.72209566, 65117.27663171, 50506.23330695, -6817.59709104],\n",
              "       [ 4971.62518218, 35997.77683511, 27917.55715724, -3769.24118958],\n",
              "       ...,\n",
              "       [ 8015.50120409, 58022.29145405, 45020.71229678, -6073.24072949],\n",
              "       [ 7732.99714812, 55977.18802921, 43431.73312289, -5859.16541635],\n",
              "       [ 9601.91300269, 69503.96501156, 53926.01646352, -7275.87139908]])"
            ]
          },
          "execution_count": 9,
          "metadata": {},
          "output_type": "execute_result"
        }
      ],
      "source": [
        "encoded_matrix = features_matrix @ random_matrix\n",
        "encoded_matrix"
      ]
    },
    {
      "cell_type": "code",
      "execution_count": null,
      "metadata": {
        "id": "8hA0zxVgAnt5"
      },
      "outputs": [],
      "source": [
        "features_train, features_valid, target_train, target_valid = train_test_split(features, target,train_size=0.75,test_size=0.25,random_state=123)"
      ]
    },
    {
      "cell_type": "code",
      "execution_count": null,
      "metadata": {
        "id": "HLQhM_eMAnt5",
        "outputId": "0a627052-9266-4344-d587-fd100a1d819e"
      },
      "outputs": [
        {
          "name": "stdout",
          "output_type": "stream",
          "text": [
            "до преобразования данных: 0.43018469990932917\n"
          ]
        }
      ],
      "source": [
        "model_raw = LinearRegression()\n",
        "model_raw.fit(features_train, target_train)\n",
        "predictions_raw = model_raw.predict(features_valid)\n",
        "r2_raw = r2_score(target_valid, predictions_raw)\n",
        "print('до преобразования данных:', r2_raw)"
      ]
    },
    {
      "cell_type": "code",
      "execution_count": null,
      "metadata": {
        "id": "2lZ6BbZhAnt5"
      },
      "outputs": [],
      "source": [
        "features_train_encoded, features_valid_encoded, target_train_encoded, target_valid_encoded = train_test_split(\n",
        "    encoded_matrix, target, train_size=0.75, test_size=0.25, random_state=123)"
      ]
    },
    {
      "cell_type": "code",
      "execution_count": null,
      "metadata": {
        "id": "nLvu7mLMAnt5",
        "outputId": "d06b981f-08a3-4aa2-f93e-ea580d3ce9c0"
      },
      "outputs": [
        {
          "name": "stdout",
          "output_type": "stream",
          "text": [
            "после преобразования данных: 0.4301846999099589\n"
          ]
        }
      ],
      "source": [
        "model_encoded = LinearRegression()\n",
        "model_encoded.fit(features_train_encoded, target_train_encoded)\n",
        "predictions_encoded = model_encoded.predict(features_valid_encoded)\n",
        "r2_encoded = r2_score(target_valid_encoded, predictions_encoded)\n",
        "print('после преобразования данных:', r2_encoded)"
      ]
    },
    {
      "cell_type": "markdown",
      "metadata": {
        "id": "C_jnal01Ant5"
      },
      "source": [
        "Метрики почти идентичны, а это значит, что качество модели линейной регрессии после преобразования данных не изменилось."
      ]
    },
    {
      "cell_type": "markdown",
      "metadata": {
        "id": "GM2KarWPAnt5"
      },
      "source": [
        "Во время проекта мной было сделано:\n",
        "* загружены и проанализированы данные\n",
        "* с помощью математических доказательств я сделала вывод, что качетсво линейной регрессии не изменится, если умножать признаки на обратимую матрицу\n",
        "* сделала алгоритм преобразования данных\n",
        "* протестировала алгоритм \n",
        "* сделала доказательство, что качество модели линейной регресси не изменится после преобразования данных \n"
      ]
    }
  ],
  "metadata": {
    "ExecuteTimeLog": [
      {
        "duration": 1088,
        "start_time": "2022-12-21T14:25:08.422Z"
      },
      {
        "duration": 89,
        "start_time": "2022-12-21T14:25:26.825Z"
      },
      {
        "duration": 4,
        "start_time": "2022-12-21T14:25:44.503Z"
      },
      {
        "duration": 3,
        "start_time": "2022-12-21T14:25:56.715Z"
      },
      {
        "duration": 8,
        "start_time": "2022-12-21T14:29:38.885Z"
      },
      {
        "duration": 14,
        "start_time": "2022-12-21T14:30:14.082Z"
      },
      {
        "duration": 60,
        "start_time": "2022-12-21T14:30:42.566Z"
      },
      {
        "duration": 6,
        "start_time": "2022-12-21T14:31:33.094Z"
      },
      {
        "duration": 4,
        "start_time": "2022-12-21T14:34:45.797Z"
      },
      {
        "duration": 5,
        "start_time": "2022-12-21T14:35:26.818Z"
      },
      {
        "duration": 15,
        "start_time": "2022-12-21T14:36:28.008Z"
      },
      {
        "duration": 1008,
        "start_time": "2022-12-21T20:10:35.874Z"
      },
      {
        "duration": 123,
        "start_time": "2022-12-21T20:10:36.884Z"
      },
      {
        "duration": 5,
        "start_time": "2022-12-21T20:10:37.009Z"
      },
      {
        "duration": 12,
        "start_time": "2022-12-21T20:10:37.016Z"
      },
      {
        "duration": 5,
        "start_time": "2022-12-21T20:10:37.356Z"
      },
      {
        "duration": 12,
        "start_time": "2022-12-21T20:10:37.762Z"
      },
      {
        "duration": 103,
        "start_time": "2022-12-21T20:23:11.490Z"
      },
      {
        "duration": 77,
        "start_time": "2022-12-21T20:23:39.472Z"
      },
      {
        "duration": 6,
        "start_time": "2022-12-21T20:35:35.821Z"
      },
      {
        "duration": 87,
        "start_time": "2022-12-21T20:35:46.822Z"
      },
      {
        "duration": 483,
        "start_time": "2022-12-21T20:36:16.866Z"
      },
      {
        "duration": 39,
        "start_time": "2022-12-21T20:36:18.228Z"
      },
      {
        "duration": 6,
        "start_time": "2022-12-21T20:36:18.401Z"
      },
      {
        "duration": 11,
        "start_time": "2022-12-21T20:36:18.573Z"
      },
      {
        "duration": 5,
        "start_time": "2022-12-21T20:36:21.064Z"
      },
      {
        "duration": 5,
        "start_time": "2022-12-21T20:36:21.901Z"
      },
      {
        "duration": 74,
        "start_time": "2022-12-21T20:36:43.511Z"
      },
      {
        "duration": 5,
        "start_time": "2022-12-21T20:36:47.367Z"
      },
      {
        "duration": 71,
        "start_time": "2022-12-21T20:37:39.689Z"
      },
      {
        "duration": 9,
        "start_time": "2022-12-21T20:37:40.091Z"
      },
      {
        "duration": 70,
        "start_time": "2022-12-21T20:38:07.932Z"
      },
      {
        "duration": 4,
        "start_time": "2022-12-21T20:38:31.519Z"
      },
      {
        "duration": 5,
        "start_time": "2022-12-21T20:38:50.200Z"
      },
      {
        "duration": 11,
        "start_time": "2022-12-21T20:39:07.760Z"
      },
      {
        "duration": 5,
        "start_time": "2022-12-21T20:39:20.769Z"
      },
      {
        "duration": 6,
        "start_time": "2022-12-21T20:39:35.214Z"
      },
      {
        "duration": 6,
        "start_time": "2022-12-21T20:45:48.452Z"
      },
      {
        "duration": 2184,
        "start_time": "2022-12-21T22:07:59.306Z"
      },
      {
        "duration": 98,
        "start_time": "2022-12-21T22:08:01.492Z"
      },
      {
        "duration": 6,
        "start_time": "2022-12-21T22:08:42.857Z"
      },
      {
        "duration": 17,
        "start_time": "2022-12-21T22:08:43.301Z"
      },
      {
        "duration": 5,
        "start_time": "2022-12-21T22:11:53.553Z"
      },
      {
        "duration": 6,
        "start_time": "2022-12-21T22:11:54.351Z"
      },
      {
        "duration": 6,
        "start_time": "2022-12-21T22:11:56.068Z"
      },
      {
        "duration": 5,
        "start_time": "2022-12-21T22:11:59.640Z"
      },
      {
        "duration": 5,
        "start_time": "2022-12-21T22:13:10.762Z"
      },
      {
        "duration": 6,
        "start_time": "2022-12-21T22:13:11.890Z"
      },
      {
        "duration": 10,
        "start_time": "2022-12-21T22:13:12.422Z"
      },
      {
        "duration": 4,
        "start_time": "2022-12-21T22:13:13.351Z"
      },
      {
        "duration": 7,
        "start_time": "2022-12-21T22:13:14.416Z"
      },
      {
        "duration": 1624,
        "start_time": "2022-12-22T15:37:13.128Z"
      },
      {
        "duration": 133,
        "start_time": "2022-12-22T15:37:14.754Z"
      },
      {
        "duration": 7,
        "start_time": "2022-12-22T15:37:14.889Z"
      },
      {
        "duration": 11,
        "start_time": "2022-12-22T15:37:15.092Z"
      },
      {
        "duration": 10,
        "start_time": "2022-12-22T15:37:15.861Z"
      },
      {
        "duration": 24,
        "start_time": "2022-12-22T15:37:23.280Z"
      },
      {
        "duration": 1363,
        "start_time": "2022-12-22T15:38:49.483Z"
      },
      {
        "duration": 1168,
        "start_time": "2022-12-22T15:39:21.818Z"
      },
      {
        "duration": 1233,
        "start_time": "2022-12-22T15:39:49.618Z"
      },
      {
        "duration": 1071,
        "start_time": "2022-12-22T15:40:24.818Z"
      },
      {
        "duration": 1261,
        "start_time": "2022-12-22T15:42:52.321Z"
      },
      {
        "duration": 1076,
        "start_time": "2022-12-22T15:43:06.644Z"
      },
      {
        "duration": 1885,
        "start_time": "2022-12-22T15:43:29.830Z"
      },
      {
        "duration": 4,
        "start_time": "2022-12-22T15:44:34.401Z"
      },
      {
        "duration": 1887,
        "start_time": "2022-12-22T15:44:38.696Z"
      },
      {
        "duration": 1888,
        "start_time": "2022-12-22T15:44:48.480Z"
      },
      {
        "duration": 826,
        "start_time": "2022-12-22T15:45:05.026Z"
      },
      {
        "duration": 1705,
        "start_time": "2022-12-22T15:45:25.202Z"
      },
      {
        "duration": 120,
        "start_time": "2022-12-22T16:19:52.412Z"
      },
      {
        "duration": 1808,
        "start_time": "2022-12-22T16:19:58.707Z"
      },
      {
        "duration": 122,
        "start_time": "2022-12-22T16:20:13.784Z"
      },
      {
        "duration": 1745,
        "start_time": "2022-12-22T16:20:34.501Z"
      },
      {
        "duration": 839,
        "start_time": "2022-12-22T16:40:34.398Z"
      },
      {
        "duration": 1001,
        "start_time": "2022-12-22T16:42:09.942Z"
      },
      {
        "duration": 940,
        "start_time": "2022-12-22T16:42:18.660Z"
      },
      {
        "duration": 139,
        "start_time": "2022-12-22T16:42:44.672Z"
      },
      {
        "duration": 148,
        "start_time": "2022-12-22T16:42:48.570Z"
      },
      {
        "duration": 975,
        "start_time": "2022-12-22T16:42:54.113Z"
      },
      {
        "duration": 859,
        "start_time": "2022-12-22T16:46:31.149Z"
      },
      {
        "duration": 932,
        "start_time": "2022-12-22T16:49:50.329Z"
      },
      {
        "duration": 914,
        "start_time": "2022-12-22T16:50:08.680Z"
      }
    ],
    "kernelspec": {
      "display_name": "Python 3 (ipykernel)",
      "language": "python",
      "name": "python3"
    },
    "language_info": {
      "codemirror_mode": {
        "name": "ipython",
        "version": 3
      },
      "file_extension": ".py",
      "mimetype": "text/x-python",
      "name": "python",
      "nbconvert_exporter": "python",
      "pygments_lexer": "ipython3",
      "version": "3.9.5"
    },
    "toc": {
      "base_numbering": 1,
      "nav_menu": {},
      "number_sections": true,
      "sideBar": true,
      "skip_h1_title": true,
      "title_cell": "Содержание",
      "title_sidebar": "Contents",
      "toc_cell": true,
      "toc_position": {},
      "toc_section_display": true,
      "toc_window_display": true
    },
    "colab": {
      "provenance": []
    }
  },
  "nbformat": 4,
  "nbformat_minor": 0
}
