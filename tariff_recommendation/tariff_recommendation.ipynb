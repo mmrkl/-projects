{
  "cells": [
    {
      "cell_type": "markdown",
      "metadata": {
        "id": "ByJeCnLBxPQk"
      },
      "source": [
        "# Рекомендация тарифов"
      ]
    },
    {
      "cell_type": "markdown",
      "metadata": {
        "id": "_cE34KaCxPQl"
      },
      "source": [
        "Оператор мобильной связи «Мегалайн» выяснил: многие клиенты пользуются архивными тарифами. Они хотят построить систему, способную проанализировать поведение клиентов и предложить пользователям новый тариф: «Смарт» или «Ультра».\n",
        "\n",
        "\n",
        "В вашем распоряжении данные о поведении клиентов, которые уже перешли на эти тарифы (из проекта курса «Статистический анализ данных»). Нужно построить модель для задачи классификации, которая выберет подходящий тариф. Предобработка данных не понадобится — вы её уже сделали.\n",
        "\n",
        "\n",
        "Постройте модель с максимально большим значением accuracy. Чтобы сдать проект успешно, нужно довести долю правильных ответов по крайней мере до 0.75. Проверьте accuracy на тестовой выборке самостоятельно."
      ]
    },
    {
      "cell_type": "markdown",
      "metadata": {
        "id": "9c9pEBhQxPQl"
      },
      "source": [
        "## Откройте и изучите файл"
      ]
    },
    {
      "cell_type": "code",
      "execution_count": 17,
      "metadata": {
        "id": "IA7ARVZ7xPQm"
      },
      "outputs": [],
      "source": [
        "import pandas as pd \n",
        "import numpy as np\n",
        "from sklearn.model_selection import train_test_split\n",
        "from sklearn.tree import DecisionTreeClassifier\n",
        "from sklearn.ensemble import RandomForestClassifier\n",
        "from sklearn.linear_model import LogisticRegression\n",
        "from sklearn.metrics import accuracy_score"
      ]
    },
    {
      "cell_type": "code",
      "execution_count": 18,
      "metadata": {
        "id": "0dZGRcXcxPQn"
      },
      "outputs": [],
      "source": [
        "try:\n",
        "    df = pd.read_csv('users_behavior.csv')\n",
        "except:\n",
        "    df = pd.read_csv('https://code.s3.yandex.net/datasets/users_behavior.csv')"
      ]
    },
    {
      "cell_type": "code",
      "execution_count": 19,
      "metadata": {
        "colab": {
          "base_uri": "https://localhost:8080/"
        },
        "id": "fiwDg1h9xPQn",
        "outputId": "221191e6-88da-4c03-c042-4ed1ba4ed868"
      },
      "outputs": [
        {
          "output_type": "stream",
          "name": "stdout",
          "text": [
            "<class 'pandas.core.frame.DataFrame'>\n",
            "RangeIndex: 3214 entries, 0 to 3213\n",
            "Data columns (total 5 columns):\n",
            " #   Column    Non-Null Count  Dtype  \n",
            "---  ------    --------------  -----  \n",
            " 0   calls     3214 non-null   float64\n",
            " 1   minutes   3214 non-null   float64\n",
            " 2   messages  3214 non-null   float64\n",
            " 3   mb_used   3214 non-null   float64\n",
            " 4   is_ultra  3214 non-null   int64  \n",
            "dtypes: float64(4), int64(1)\n",
            "memory usage: 125.7 KB\n"
          ]
        }
      ],
      "source": [
        "df.info()"
      ]
    },
    {
      "cell_type": "markdown",
      "metadata": {
        "id": "F99TpcdHxPQo"
      },
      "source": [
        "всего у нас 5 прзнаков и 3214 объектов.\n",
        "* is_ultra - категориальный признак  \n"
      ]
    },
    {
      "cell_type": "code",
      "execution_count": 20,
      "metadata": {
        "colab": {
          "base_uri": "https://localhost:8080/"
        },
        "id": "1X18IgzPyh6G",
        "outputId": "deafc901-c56d-4a87-efcb-35b6f6843bd8"
      },
      "outputs": [
        {
          "output_type": "execute_result",
          "data": {
            "text/plain": [
              "0    2229\n",
              "1     985\n",
              "Name: is_ultra, dtype: int64"
            ]
          },
          "metadata": {},
          "execution_count": 20
        }
      ],
      "source": [
        "df['is_ultra'].value_counts()"
      ]
    },
    {
      "cell_type": "markdown",
      "metadata": {
        "id": "MQBfRVp7xPQp"
      },
      "source": [
        "## Разбейте данные на выборки"
      ]
    },
    {
      "cell_type": "markdown",
      "metadata": {
        "id": "j_tZUN5gxPQp"
      },
      "source": [
        "подготовим данные"
      ]
    },
    {
      "cell_type": "code",
      "source": [
        "df_train, df_valid = train_test_split(df, test_size=0.30, random_state=12345)\n",
        "df_valid, df_test = train_test_split(df_valid,test_size = 0.5, random_state=12345)"
      ],
      "metadata": {
        "id": "0RwvDq2Eis9M"
      },
      "execution_count": 21,
      "outputs": []
    },
    {
      "cell_type": "code",
      "source": [
        "features = df.drop(['is_ultra'], axis=1)\n",
        "target = df['is_ultra']\n",
        "\n",
        "#Валидационная выборка\n",
        "features_valid = df_valid.drop(['is_ultra'], axis=1)\n",
        "target_valid = df_valid['is_ultra']\n",
        "\n",
        "#Обучающая выборка\n",
        "features_train = df_train.drop(['is_ultra'], axis=1)\n",
        "target_train = df_train['is_ultra']\n",
        "\n",
        "#Тестовая выборка\n",
        "features_test = df_test.drop(['is_ultra'], axis=1)\n",
        "target_test = df_test['is_ultra']"
      ],
      "metadata": {
        "id": "hBFmwsTwiuOo"
      },
      "execution_count": 22,
      "outputs": []
    },
    {
      "cell_type": "markdown",
      "metadata": {
        "id": "Ku2ax_xmxPQr"
      },
      "source": [
        "## Исследуйте модели"
      ]
    },
    {
      "cell_type": "markdown",
      "metadata": {
        "id": "tn-514d7xPQr"
      },
      "source": [
        "рассмотрим  модели:\n",
        "\n",
        "* дерево решений \n",
        "* случайный лес \n",
        "* логистическую регрессию "
      ]
    },
    {
      "cell_type": "markdown",
      "metadata": {
        "id": "r9QVVC33xPQr"
      },
      "source": [
        "Decision Tree"
      ]
    },
    {
      "cell_type": "code",
      "execution_count": 23,
      "metadata": {
        "colab": {
          "base_uri": "https://localhost:8080/"
        },
        "id": "qjUx5cTnxPQr",
        "outputId": "f34dd9c3-ed68-4e56-bcb2-e6a75766793c"
      },
      "outputs": [
        {
          "output_type": "stream",
          "name": "stdout",
          "text": [
            "depth =  1 Accuracy: 0.7510373443983402\n",
            "depth =  3 Accuracy: 0.7863070539419087\n",
            "depth =  5 Accuracy: 0.7614107883817427\n",
            "depth =  7 Accuracy: 0.7821576763485477\n",
            "depth =  9 Accuracy: 0.7780082987551867\n",
            "depth =  11 Accuracy: 0.7904564315352697\n",
            "depth =  13 Accuracy: 0.7821576763485477\n",
            "depth =  15 Accuracy: 0.7593360995850622\n",
            "depth =  17 Accuracy: 0.7510373443983402\n",
            "depth =  19 Accuracy: 0.7551867219917012\n"
          ]
        }
      ],
      "source": [
        "for depth in range(1, 20, 2):\n",
        "    model =  DecisionTreeClassifier(random_state=12345, max_depth=depth)\n",
        "    model.fit(features_train , target_train) \n",
        "    predictions = model.predict(features_valid)\n",
        "    score = accuracy_score(target_valid, predictions)\n",
        "    print(\"depth = \", depth, \"Accuracy:\",score)"
      ]
    },
    {
      "cell_type": "markdown",
      "metadata": {
        "id": "29lYIVZxxPQs"
      },
      "source": [
        "При глубине depth =  11  точность  Accuracy: 0.7904564315352697 наибольшая"
      ]
    },
    {
      "cell_type": "markdown",
      "metadata": {
        "id": "q3mexlQgxPQs"
      },
      "source": [
        "Random Forest"
      ]
    },
    {
      "cell_type": "code",
      "execution_count": 24,
      "metadata": {
        "colab": {
          "base_uri": "https://localhost:8080/"
        },
        "id": "byjIuLEFxPQs",
        "outputId": "d9340a88-0e0b-4cfd-b889-a75bd0ac6007"
      },
      "outputs": [
        {
          "output_type": "stream",
          "name": "stdout",
          "text": [
            "n_est = 50 Accuracy: 0.8118195956454122\n",
            "n_est = 100 Accuracy: 0.8133748055987559\n",
            "n_est = 150 Accuracy: 0.8118195956454122\n",
            "n_est = 200 Accuracy: 0.8133748055987559\n",
            "n_est = 250 Accuracy: 0.8102643856920684\n",
            "n_est = 300 Accuracy: 0.8102643856920684\n",
            "n_est = 350 Accuracy: 0.8087091757387247\n",
            "n_est = 50 Accuracy: 0.8118195956454122\n",
            "n_est = 100 Accuracy: 0.8133748055987559\n",
            "n_est = 150 Accuracy: 0.8118195956454122\n",
            "n_est = 200 Accuracy: 0.8133748055987559\n",
            "n_est = 250 Accuracy: 0.8102643856920684\n",
            "n_est = 300 Accuracy: 0.8102643856920684\n",
            "n_est = 350 Accuracy: 0.8087091757387247\n",
            "n_est = 50 Accuracy: 0.8118195956454122\n",
            "n_est = 100 Accuracy: 0.8133748055987559\n",
            "n_est = 150 Accuracy: 0.8118195956454122\n",
            "n_est = 200 Accuracy: 0.8133748055987559\n",
            "n_est = 250 Accuracy: 0.8102643856920684\n",
            "n_est = 300 Accuracy: 0.8102643856920684\n",
            "n_est = 350 Accuracy: 0.8087091757387247\n",
            "n_est = 50 Accuracy: 0.8118195956454122\n",
            "n_est = 100 Accuracy: 0.8133748055987559\n",
            "n_est = 150 Accuracy: 0.8118195956454122\n",
            "n_est = 200 Accuracy: 0.8133748055987559\n",
            "n_est = 250 Accuracy: 0.8102643856920684\n",
            "n_est = 300 Accuracy: 0.8102643856920684\n",
            "n_est = 350 Accuracy: 0.8087091757387247\n",
            "n_est = 50 Accuracy: 0.8118195956454122\n",
            "n_est = 100 Accuracy: 0.8133748055987559\n",
            "n_est = 150 Accuracy: 0.8118195956454122\n",
            "n_est = 200 Accuracy: 0.8133748055987559\n",
            "n_est = 250 Accuracy: 0.8102643856920684\n",
            "n_est = 300 Accuracy: 0.8102643856920684\n",
            "n_est = 350 Accuracy: 0.8087091757387247\n",
            "n_est = 50 Accuracy: 0.8118195956454122\n",
            "n_est = 100 Accuracy: 0.8133748055987559\n",
            "n_est = 150 Accuracy: 0.8118195956454122\n",
            "n_est = 200 Accuracy: 0.8133748055987559\n",
            "n_est = 250 Accuracy: 0.8102643856920684\n",
            "n_est = 300 Accuracy: 0.8102643856920684\n",
            "n_est = 350 Accuracy: 0.8087091757387247\n",
            "n_est = 50 Accuracy: 0.8118195956454122\n",
            "n_est = 100 Accuracy: 0.8133748055987559\n",
            "n_est = 150 Accuracy: 0.8118195956454122\n",
            "n_est = 200 Accuracy: 0.8133748055987559\n",
            "n_est = 250 Accuracy: 0.8102643856920684\n",
            "n_est = 300 Accuracy: 0.8102643856920684\n",
            "n_est = 350 Accuracy: 0.8087091757387247\n",
            "n_est = 50 Accuracy: 0.8118195956454122\n",
            "n_est = 100 Accuracy: 0.8133748055987559\n",
            "n_est = 150 Accuracy: 0.8118195956454122\n",
            "n_est = 200 Accuracy: 0.8133748055987559\n",
            "n_est = 250 Accuracy: 0.8102643856920684\n",
            "n_est = 300 Accuracy: 0.8102643856920684\n",
            "n_est = 350 Accuracy: 0.8087091757387247\n",
            "n_est = 50 Accuracy: 0.8118195956454122\n",
            "n_est = 100 Accuracy: 0.8133748055987559\n",
            "n_est = 150 Accuracy: 0.8118195956454122\n",
            "n_est = 200 Accuracy: 0.8133748055987559\n",
            "n_est = 250 Accuracy: 0.8102643856920684\n",
            "n_est = 300 Accuracy: 0.8102643856920684\n",
            "n_est = 350 Accuracy: 0.8087091757387247\n",
            "n_est = 50 Accuracy: 0.8118195956454122\n",
            "n_est = 100 Accuracy: 0.8133748055987559\n",
            "n_est = 150 Accuracy: 0.8118195956454122\n",
            "n_est = 200 Accuracy: 0.8133748055987559\n",
            "n_est = 250 Accuracy: 0.8102643856920684\n",
            "n_est = 300 Accuracy: 0.8102643856920684\n",
            "n_est = 350 Accuracy: 0.8087091757387247\n"
          ]
        }
      ],
      "source": [
        "for depth in range(2, 22, 2):\n",
        "    for estim in range(50, 351, 50):\n",
        "             model = RandomForestClassifier(n_estimators=estim, max_depth=7, random_state=12345)\n",
        "             model.fit(X_train, y_train)\n",
        "             predictions = model.predict(X_valid)\n",
        "             score = accuracy_score(y_valid, predictions)\n",
        "             print(\"n_est =\", estim, \"Accuracy:\",score)"
      ]
    },
    {
      "cell_type": "markdown",
      "metadata": {
        "id": "MbZU8hxxxPQs"
      },
      "source": [
        "Модель случайного леса предсказывает тариф, 0.8008298755186722"
      ]
    },
    {
      "cell_type": "markdown",
      "metadata": {
        "id": "OUcmEmSgxPQt"
      },
      "source": [
        "Logistic Regression"
      ]
    },
    {
      "cell_type": "code",
      "execution_count": 25,
      "metadata": {
        "colab": {
          "base_uri": "https://localhost:8080/"
        },
        "id": "MiyKFn-sxPQt",
        "outputId": "f2b12b35-5105-462d-e638-e7d34b7f7711"
      },
      "outputs": [
        {
          "output_type": "stream",
          "name": "stdout",
          "text": [
            "0.6908713692946058\n"
          ]
        }
      ],
      "source": [
        "model = LogisticRegression(random_state=12345)\n",
        "model.fit(features_train, target_train)\n",
        "predictions_valid = model.predict(features_valid)\n",
        "score = accuracy_score(target_valid, predictions_valid)\n",
        "print(accuracy_score(target_valid, predictions_valid))"
      ]
    },
    {
      "cell_type": "markdown",
      "metadata": {
        "id": "gsfWYUwYxPQt"
      },
      "source": [
        "у логической регрессии наименьшая точность "
      ]
    },
    {
      "cell_type": "markdown",
      "metadata": {
        "id": "f67CnUOexPQt"
      },
      "source": [
        "## Проверьте модель на тестовой выборке"
      ]
    },
    {
      "cell_type": "code",
      "execution_count": 26,
      "metadata": {
        "colab": {
          "base_uri": "https://localhost:8080/"
        },
        "id": "AqoAgHxh7FFT",
        "outputId": "66ab4cfc-c4bb-4783-a8ed-310ce823a127"
      },
      "outputs": [
        {
          "output_type": "stream",
          "name": "stdout",
          "text": [
            "0.8198757763975155\n"
          ]
        }
      ],
      "source": [
        "best_model = RandomForestClassifier(n_estimators=estim, max_depth=7, random_state=12345)\n",
        "best_model.fit(features_train, target_train)\n",
        "pred_test = best_model.predict(features_test)\n",
        "test_score = accuracy_score(target_test, pred_test)\n",
        "print(test_score)"
      ]
    },
    {
      "cell_type": "markdown",
      "metadata": {
        "id": "vMany0tlxPQt"
      },
      "source": [
        "## Проверка модели на адекватность"
      ]
    },
    {
      "cell_type": "code",
      "execution_count": 29,
      "metadata": {
        "colab": {
          "base_uri": "https://localhost:8080/"
        },
        "id": "597Qov5-xPQt",
        "outputId": "92ecede3-a60d-4062-f9ea-88d88b01e651"
      },
      "outputs": [
        {
          "output_type": "execute_result",
          "data": {
            "text/plain": [
              "0    0.693528\n",
              "1    0.306472\n",
              "Name: is_ultra, dtype: float64"
            ]
          },
          "metadata": {},
          "execution_count": 29
        }
      ],
      "source": [
        "df['is_ultra'].value_counts(normalize=True)"
      ]
    },
    {
      "cell_type": "markdown",
      "metadata": {
        "id": "cVorkw5jxPQt"
      },
      "source": [
        "* Доля большего класса тестовой выборки равна ~69%; \n",
        "* Полученная нами модель имеет accuracy ~ 79 %. \n",
        "* Можем считать модель адекватной"
      ]
    }
  ],
  "metadata": {
    "ExecuteTimeLog": [
      {
        "duration": 362,
        "start_time": "2022-10-23T17:06:35.367Z"
      },
      {
        "duration": 147,
        "start_time": "2022-10-23T17:07:05.956Z"
      },
      {
        "duration": 11,
        "start_time": "2022-10-23T17:10:24.319Z"
      },
      {
        "duration": 681,
        "start_time": "2022-10-23T17:14:10.544Z"
      },
      {
        "duration": 66,
        "start_time": "2022-10-23T17:14:57.502Z"
      },
      {
        "duration": 101,
        "start_time": "2022-10-23T17:19:50.510Z"
      },
      {
        "duration": 6,
        "start_time": "2022-10-23T17:19:57.165Z"
      },
      {
        "duration": 83,
        "start_time": "2022-10-23T17:20:48.206Z"
      },
      {
        "duration": 6,
        "start_time": "2022-10-23T17:22:29.931Z"
      },
      {
        "duration": 9,
        "start_time": "2022-10-23T17:23:32.836Z"
      },
      {
        "duration": 11,
        "start_time": "2022-10-23T17:26:12.589Z"
      },
      {
        "duration": 4,
        "start_time": "2022-10-23T17:26:32.001Z"
      },
      {
        "duration": 9,
        "start_time": "2022-10-23T17:26:38.351Z"
      },
      {
        "duration": 13,
        "start_time": "2022-10-23T17:28:02.532Z"
      },
      {
        "duration": 7,
        "start_time": "2022-10-23T17:28:23.103Z"
      },
      {
        "duration": 6,
        "start_time": "2022-10-23T17:29:29.377Z"
      },
      {
        "duration": 23,
        "start_time": "2022-10-23T17:29:31.783Z"
      },
      {
        "duration": 8,
        "start_time": "2022-10-23T17:29:54.133Z"
      },
      {
        "duration": 15,
        "start_time": "2022-10-23T17:29:57.249Z"
      },
      {
        "duration": 14,
        "start_time": "2022-10-23T17:32:01.102Z"
      },
      {
        "duration": 82,
        "start_time": "2022-10-23T17:32:08.231Z"
      },
      {
        "duration": 16,
        "start_time": "2022-10-23T17:34:50.297Z"
      },
      {
        "duration": 13,
        "start_time": "2022-10-23T17:35:15.979Z"
      },
      {
        "duration": 12,
        "start_time": "2022-10-23T17:35:39.463Z"
      },
      {
        "duration": 90,
        "start_time": "2022-10-23T17:38:12.414Z"
      },
      {
        "duration": 92,
        "start_time": "2022-10-23T17:38:38.797Z"
      },
      {
        "duration": 91,
        "start_time": "2022-10-23T17:38:55.435Z"
      },
      {
        "duration": 94,
        "start_time": "2022-10-23T17:39:12.187Z"
      },
      {
        "duration": 90,
        "start_time": "2022-10-23T17:40:59.287Z"
      },
      {
        "duration": 74,
        "start_time": "2022-10-23T17:41:57.502Z"
      },
      {
        "duration": 40,
        "start_time": "2022-10-23T17:46:21.570Z"
      },
      {
        "duration": 290,
        "start_time": "2022-10-23T17:46:47.356Z"
      },
      {
        "duration": 10,
        "start_time": "2022-10-23T17:47:35.284Z"
      },
      {
        "duration": 39,
        "start_time": "2022-10-23T17:47:45.005Z"
      },
      {
        "duration": 1480,
        "start_time": "2022-10-23T17:49:56.271Z"
      },
      {
        "duration": 1523,
        "start_time": "2022-10-23T17:51:08.803Z"
      },
      {
        "duration": 1220,
        "start_time": "2022-10-23T17:51:23.750Z"
      },
      {
        "duration": 1197,
        "start_time": "2022-10-23T17:51:56.743Z"
      },
      {
        "duration": 111,
        "start_time": "2022-10-23T17:52:21.614Z"
      },
      {
        "duration": 92,
        "start_time": "2022-10-23T17:52:28.255Z"
      },
      {
        "duration": 81,
        "start_time": "2022-10-23T17:52:36.398Z"
      },
      {
        "duration": 107,
        "start_time": "2022-10-23T17:52:46.221Z"
      },
      {
        "duration": 90,
        "start_time": "2022-10-23T17:52:52.285Z"
      },
      {
        "duration": 95,
        "start_time": "2022-10-23T17:53:00.441Z"
      },
      {
        "duration": 89,
        "start_time": "2022-10-23T17:55:58.432Z"
      },
      {
        "duration": 1347,
        "start_time": "2022-10-23T17:56:01.839Z"
      },
      {
        "duration": 4,
        "start_time": "2022-10-23T18:01:58.986Z"
      },
      {
        "duration": 16,
        "start_time": "2022-10-23T18:02:11.885Z"
      },
      {
        "duration": 4,
        "start_time": "2022-10-23T18:02:18.489Z"
      },
      {
        "duration": 12,
        "start_time": "2022-10-23T18:02:23.649Z"
      },
      {
        "duration": 3,
        "start_time": "2022-10-23T18:02:33.991Z"
      },
      {
        "duration": 19,
        "start_time": "2022-10-23T18:02:35.432Z"
      },
      {
        "duration": 4,
        "start_time": "2022-10-23T18:03:26.675Z"
      },
      {
        "duration": 7,
        "start_time": "2022-10-23T18:04:23.561Z"
      },
      {
        "duration": 15,
        "start_time": "2022-10-23T18:04:24.706Z"
      },
      {
        "duration": 10,
        "start_time": "2022-10-23T18:11:43.973Z"
      },
      {
        "duration": 8,
        "start_time": "2022-10-23T18:12:03.838Z"
      },
      {
        "duration": 16,
        "start_time": "2022-10-23T18:12:05.439Z"
      },
      {
        "duration": 3,
        "start_time": "2022-10-23T18:22:34.828Z"
      },
      {
        "duration": 15,
        "start_time": "2022-10-23T18:22:36.280Z"
      },
      {
        "duration": 15,
        "start_time": "2022-10-23T18:24:43.009Z"
      },
      {
        "duration": 15,
        "start_time": "2022-10-23T18:25:05.368Z"
      },
      {
        "duration": 9,
        "start_time": "2022-10-23T18:25:32.340Z"
      },
      {
        "duration": 10,
        "start_time": "2022-10-23T18:25:37.644Z"
      },
      {
        "duration": 3,
        "start_time": "2022-10-23T18:26:20.928Z"
      },
      {
        "duration": 3,
        "start_time": "2022-10-23T18:26:42.106Z"
      },
      {
        "duration": 10,
        "start_time": "2022-10-23T18:26:43.857Z"
      },
      {
        "duration": 11,
        "start_time": "2022-10-23T18:27:17.373Z"
      },
      {
        "duration": 3,
        "start_time": "2022-10-23T18:27:37.209Z"
      },
      {
        "duration": 10,
        "start_time": "2022-10-23T18:27:37.918Z"
      },
      {
        "duration": 10,
        "start_time": "2022-10-23T18:28:13.648Z"
      },
      {
        "duration": 3,
        "start_time": "2022-10-23T18:28:57.717Z"
      },
      {
        "duration": 15,
        "start_time": "2022-10-23T18:28:59.813Z"
      },
      {
        "duration": 10,
        "start_time": "2022-10-23T18:29:17.784Z"
      },
      {
        "duration": 21,
        "start_time": "2022-10-23T18:29:30.018Z"
      },
      {
        "duration": 16,
        "start_time": "2022-10-23T18:29:33.347Z"
      },
      {
        "duration": 12,
        "start_time": "2022-10-23T18:30:30.599Z"
      },
      {
        "duration": 3,
        "start_time": "2022-10-23T18:30:39.391Z"
      },
      {
        "duration": 13,
        "start_time": "2022-10-23T18:30:43.826Z"
      },
      {
        "duration": 22,
        "start_time": "2022-10-23T18:31:04.888Z"
      },
      {
        "duration": 71,
        "start_time": "2022-10-23T18:31:29.706Z"
      },
      {
        "duration": 7,
        "start_time": "2022-10-23T18:32:58.441Z"
      }
    ],
    "colab": {
      "provenance": []
    },
    "kernelspec": {
      "display_name": "Python 3 (ipykernel)",
      "language": "python",
      "name": "python3"
    },
    "language_info": {
      "codemirror_mode": {
        "name": "ipython",
        "version": 3
      },
      "file_extension": ".py",
      "mimetype": "text/x-python",
      "name": "python",
      "nbconvert_exporter": "python",
      "pygments_lexer": "ipython3",
      "version": "3.9.5"
    },
    "toc": {
      "base_numbering": 1,
      "nav_menu": {},
      "number_sections": true,
      "sideBar": true,
      "skip_h1_title": true,
      "title_cell": "Table of Contents",
      "title_sidebar": "Contents",
      "toc_cell": false,
      "toc_position": {},
      "toc_section_display": true,
      "toc_window_display": false
    }
  },
  "nbformat": 4,
  "nbformat_minor": 0
}
