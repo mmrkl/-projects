{
  "cells": [
    {
      "cell_type": "markdown",
      "metadata": {
        "id": "DUUbg6bGH0ht"
      },
      "source": [
        "# Определение стоимости автомобилей"
      ]
    },
    {
      "cell_type": "markdown",
      "metadata": {
        "id": "oFvPsye5H0hv"
      },
      "source": [
        "Сервис по продаже автомобилей с пробегом «Не бит, не крашен» разрабатывает приложение для привлечения новых клиентов. В нём можно быстро узнать рыночную стоимость своего автомобиля. В вашем распоряжении исторические данные: технические характеристики, комплектации и цены автомобилей. Вам нужно построить модель для определения стоимости. \n",
        "\n",
        "Заказчику важны:\n",
        "\n",
        "- качество предсказания;\n",
        "- скорость предсказания;\n",
        "- время обучения."
      ]
    },
    {
      "cell_type": "markdown",
      "metadata": {
        "id": "izYBJgdQH0hw"
      },
      "source": [
        "Описание данных\n",
        "\n",
        "\n",
        "Признаки\n",
        "\n",
        "* DateCrawled — дата скачивания анкеты из базы\n",
        "* VehicleType — тип автомобильного кузова\n",
        "* RegistrationYear — год регистрации автомобиля\n",
        "* Gearbox — тип коробки передач\n",
        "* Power — мощность (л. с.)\n",
        "* Model — модель автомобиля\n",
        "* Kilometer — пробег (км)\n",
        "* RegistrationMonth — месяц регистрации автомобиля\n",
        "* FuelType — тип топлива\n",
        "* Brand — марка автомобиля\n",
        "* Repaired — была машина в ремонте или нет\n",
        "* DateCreated — дата создания анкеты\n",
        "* NumberOfPictures — количество фотографий автомобиля\n",
        "* PostalCode — почтовый индекс владельца анкеты (пользователя)\n",
        "* LastSeen — дата последней активности пользователя\n",
        "\n",
        "Целевой признак\n",
        "\n",
        "Price — цена (евро)"
      ]
    },
    {
      "cell_type": "markdown",
      "metadata": {
        "id": "4460G8XhH0hw"
      },
      "source": [
        "## Подготовка данных"
      ]
    },
    {
      "cell_type": "code",
      "execution_count": null,
      "metadata": {
        "id": "oWmNytsIH0hx",
        "colab": {
          "base_uri": "https://localhost:8080/"
        },
        "outputId": "c5eb5524-25af-427a-d1f9-850d52ae919c"
      },
      "outputs": [
        {
          "output_type": "stream",
          "name": "stdout",
          "text": [
            "\u001b[2K     \u001b[90m━━━━━━━━━━━━━━━━━━━━━━━━━━━━━━━━━━━━━━━━\u001b[0m \u001b[32m76.6/76.6 MB\u001b[0m \u001b[31m7.8 MB/s\u001b[0m eta \u001b[36m0:00:00\u001b[0m\n",
            "\u001b[?25hLooking in indexes: https://pypi.org/simple, https://us-python.pkg.dev/colab-wheels/public/simple/\n",
            "Requirement already satisfied: xgboost in /usr/local/lib/python3.8/dist-packages (0.90)\n",
            "Requirement already satisfied: numpy in /usr/local/lib/python3.8/dist-packages (from xgboost) (1.21.6)\n",
            "Requirement already satisfied: scipy in /usr/local/lib/python3.8/dist-packages (from xgboost) (1.7.3)\n"
          ]
        }
      ],
      "source": [
        "!pip install -qq catboost\n",
        "!pip install xgboost"
      ]
    },
    {
      "cell_type": "code",
      "execution_count": null,
      "metadata": {
        "id": "rNb-l-bAH0hw"
      },
      "outputs": [],
      "source": [
        "import numpy as np\n",
        "import pandas as pd\n",
        "from scipy import stats as st\n",
        "import time\n",
        "import warnings\n",
        "import datetime\n",
        "import xgboost as xgb\n",
        "import lightgbm as lgb\n",
        "import seaborn as sns\n",
        "import matplotlib.pyplot as plt\n",
        "from sklearn.metrics import mean_absolute_error,mean_squared_error\n",
        "from sklearn.model_selection import train_test_split\n",
        "from sklearn.linear_model import LinearRegression\n",
        "from sklearn.preprocessing import StandardScaler,  OrdinalEncoder,MinMaxScaler\n",
        "from sklearn.tree import DecisionTreeRegressor\n",
        "from sklearn.pipeline import Pipeline\n",
        "from sklearn.ensemble import RandomForestRegressor\n",
        "from catboost import Pool, CatBoostRegressor\n",
        "import warnings\n",
        "warnings.filterwarnings('ignore')\n",
        "from sklearn.metrics import r2_score, mean_squared_error, r2_score, mean_absolute_error,make_scorer\n",
        "from sklearn.model_selection import train_test_split, GridSearchCV, RandomizedSearchCV, cross_val_score\n",
        "from sklearn.compose import ColumnTransformer\n",
        "from sklearn.dummy import DummyRegressor"
      ]
    },
    {
      "cell_type": "code",
      "execution_count": null,
      "metadata": {
        "id": "IGGIMmbuH0hy"
      },
      "outputs": [],
      "source": [
        "try:\n",
        "   df =  pd.read_csv('/datasets/autos.csv')\n",
        "except:\n",
        "   df =  pd.read_csv('https://code.s3.yandex.net/datasets/autos.csv')"
      ]
    },
    {
      "cell_type": "code",
      "execution_count": null,
      "metadata": {
        "colab": {
          "base_uri": "https://localhost:8080/",
          "height": 623
        },
        "id": "R0r-5zziH0hy",
        "outputId": "e0d6838b-4d3c-4f1c-cdfd-5e2330823b8c",
        "scrolled": false
      },
      "outputs": [
        {
          "output_type": "stream",
          "name": "stdout",
          "text": [
            "<class 'pandas.core.frame.DataFrame'>\n",
            "RangeIndex: 354369 entries, 0 to 354368\n",
            "Data columns (total 16 columns):\n",
            " #   Column             Non-Null Count   Dtype \n",
            "---  ------             --------------   ----- \n",
            " 0   DateCrawled        354369 non-null  object\n",
            " 1   Price              354369 non-null  int64 \n",
            " 2   VehicleType        316879 non-null  object\n",
            " 3   RegistrationYear   354369 non-null  int64 \n",
            " 4   Gearbox            334536 non-null  object\n",
            " 5   Power              354369 non-null  int64 \n",
            " 6   Model              334664 non-null  object\n",
            " 7   Kilometer          354369 non-null  int64 \n",
            " 8   RegistrationMonth  354369 non-null  int64 \n",
            " 9   FuelType           321474 non-null  object\n",
            " 10  Brand              354369 non-null  object\n",
            " 11  Repaired           283215 non-null  object\n",
            " 12  DateCreated        354369 non-null  object\n",
            " 13  NumberOfPictures   354369 non-null  int64 \n",
            " 14  PostalCode         354369 non-null  int64 \n",
            " 15  LastSeen           354369 non-null  object\n",
            "dtypes: int64(7), object(9)\n",
            "memory usage: 43.3+ MB\n"
          ]
        },
        {
          "output_type": "display_data",
          "data": {
            "text/plain": [
              "None"
            ]
          },
          "metadata": {}
        },
        {
          "output_type": "display_data",
          "data": {
            "text/plain": [
              "           DateCrawled  Price VehicleType  RegistrationYear Gearbox  Power  \\\n",
              "0  2016-03-24 11:52:17    480         NaN              1993  manual      0   \n",
              "1  2016-03-24 10:58:45  18300       coupe              2011  manual    190   \n",
              "2  2016-03-14 12:52:21   9800         suv              2004    auto    163   \n",
              "3  2016-03-17 16:54:04   1500       small              2001  manual     75   \n",
              "4  2016-03-31 17:25:20   3600       small              2008  manual     69   \n",
              "\n",
              "   Model  Kilometer  RegistrationMonth  FuelType       Brand Repaired  \\\n",
              "0   golf     150000                  0    petrol  volkswagen      NaN   \n",
              "1    NaN     125000                  5  gasoline        audi      yes   \n",
              "2  grand     125000                  8  gasoline        jeep      NaN   \n",
              "3   golf     150000                  6    petrol  volkswagen       no   \n",
              "4  fabia      90000                  7  gasoline       skoda       no   \n",
              "\n",
              "           DateCreated  NumberOfPictures  PostalCode             LastSeen  \n",
              "0  2016-03-24 00:00:00                 0       70435  2016-04-07 03:16:57  \n",
              "1  2016-03-24 00:00:00                 0       66954  2016-04-07 01:46:50  \n",
              "2  2016-03-14 00:00:00                 0       90480  2016-04-05 12:47:46  \n",
              "3  2016-03-17 00:00:00                 0       91074  2016-03-17 17:40:17  \n",
              "4  2016-03-31 00:00:00                 0       60437  2016-04-06 10:17:21  "
            ],
            "text/html": [
              "\n",
              "  <div id=\"df-eb771a99-e6eb-4fea-8dbf-285a3ef0be37\">\n",
              "    <div class=\"colab-df-container\">\n",
              "      <div>\n",
              "<style scoped>\n",
              "    .dataframe tbody tr th:only-of-type {\n",
              "        vertical-align: middle;\n",
              "    }\n",
              "\n",
              "    .dataframe tbody tr th {\n",
              "        vertical-align: top;\n",
              "    }\n",
              "\n",
              "    .dataframe thead th {\n",
              "        text-align: right;\n",
              "    }\n",
              "</style>\n",
              "<table border=\"1\" class=\"dataframe\">\n",
              "  <thead>\n",
              "    <tr style=\"text-align: right;\">\n",
              "      <th></th>\n",
              "      <th>DateCrawled</th>\n",
              "      <th>Price</th>\n",
              "      <th>VehicleType</th>\n",
              "      <th>RegistrationYear</th>\n",
              "      <th>Gearbox</th>\n",
              "      <th>Power</th>\n",
              "      <th>Model</th>\n",
              "      <th>Kilometer</th>\n",
              "      <th>RegistrationMonth</th>\n",
              "      <th>FuelType</th>\n",
              "      <th>Brand</th>\n",
              "      <th>Repaired</th>\n",
              "      <th>DateCreated</th>\n",
              "      <th>NumberOfPictures</th>\n",
              "      <th>PostalCode</th>\n",
              "      <th>LastSeen</th>\n",
              "    </tr>\n",
              "  </thead>\n",
              "  <tbody>\n",
              "    <tr>\n",
              "      <th>0</th>\n",
              "      <td>2016-03-24 11:52:17</td>\n",
              "      <td>480</td>\n",
              "      <td>NaN</td>\n",
              "      <td>1993</td>\n",
              "      <td>manual</td>\n",
              "      <td>0</td>\n",
              "      <td>golf</td>\n",
              "      <td>150000</td>\n",
              "      <td>0</td>\n",
              "      <td>petrol</td>\n",
              "      <td>volkswagen</td>\n",
              "      <td>NaN</td>\n",
              "      <td>2016-03-24 00:00:00</td>\n",
              "      <td>0</td>\n",
              "      <td>70435</td>\n",
              "      <td>2016-04-07 03:16:57</td>\n",
              "    </tr>\n",
              "    <tr>\n",
              "      <th>1</th>\n",
              "      <td>2016-03-24 10:58:45</td>\n",
              "      <td>18300</td>\n",
              "      <td>coupe</td>\n",
              "      <td>2011</td>\n",
              "      <td>manual</td>\n",
              "      <td>190</td>\n",
              "      <td>NaN</td>\n",
              "      <td>125000</td>\n",
              "      <td>5</td>\n",
              "      <td>gasoline</td>\n",
              "      <td>audi</td>\n",
              "      <td>yes</td>\n",
              "      <td>2016-03-24 00:00:00</td>\n",
              "      <td>0</td>\n",
              "      <td>66954</td>\n",
              "      <td>2016-04-07 01:46:50</td>\n",
              "    </tr>\n",
              "    <tr>\n",
              "      <th>2</th>\n",
              "      <td>2016-03-14 12:52:21</td>\n",
              "      <td>9800</td>\n",
              "      <td>suv</td>\n",
              "      <td>2004</td>\n",
              "      <td>auto</td>\n",
              "      <td>163</td>\n",
              "      <td>grand</td>\n",
              "      <td>125000</td>\n",
              "      <td>8</td>\n",
              "      <td>gasoline</td>\n",
              "      <td>jeep</td>\n",
              "      <td>NaN</td>\n",
              "      <td>2016-03-14 00:00:00</td>\n",
              "      <td>0</td>\n",
              "      <td>90480</td>\n",
              "      <td>2016-04-05 12:47:46</td>\n",
              "    </tr>\n",
              "    <tr>\n",
              "      <th>3</th>\n",
              "      <td>2016-03-17 16:54:04</td>\n",
              "      <td>1500</td>\n",
              "      <td>small</td>\n",
              "      <td>2001</td>\n",
              "      <td>manual</td>\n",
              "      <td>75</td>\n",
              "      <td>golf</td>\n",
              "      <td>150000</td>\n",
              "      <td>6</td>\n",
              "      <td>petrol</td>\n",
              "      <td>volkswagen</td>\n",
              "      <td>no</td>\n",
              "      <td>2016-03-17 00:00:00</td>\n",
              "      <td>0</td>\n",
              "      <td>91074</td>\n",
              "      <td>2016-03-17 17:40:17</td>\n",
              "    </tr>\n",
              "    <tr>\n",
              "      <th>4</th>\n",
              "      <td>2016-03-31 17:25:20</td>\n",
              "      <td>3600</td>\n",
              "      <td>small</td>\n",
              "      <td>2008</td>\n",
              "      <td>manual</td>\n",
              "      <td>69</td>\n",
              "      <td>fabia</td>\n",
              "      <td>90000</td>\n",
              "      <td>7</td>\n",
              "      <td>gasoline</td>\n",
              "      <td>skoda</td>\n",
              "      <td>no</td>\n",
              "      <td>2016-03-31 00:00:00</td>\n",
              "      <td>0</td>\n",
              "      <td>60437</td>\n",
              "      <td>2016-04-06 10:17:21</td>\n",
              "    </tr>\n",
              "  </tbody>\n",
              "</table>\n",
              "</div>\n",
              "      <button class=\"colab-df-convert\" onclick=\"convertToInteractive('df-eb771a99-e6eb-4fea-8dbf-285a3ef0be37')\"\n",
              "              title=\"Convert this dataframe to an interactive table.\"\n",
              "              style=\"display:none;\">\n",
              "        \n",
              "  <svg xmlns=\"http://www.w3.org/2000/svg\" height=\"24px\"viewBox=\"0 0 24 24\"\n",
              "       width=\"24px\">\n",
              "    <path d=\"M0 0h24v24H0V0z\" fill=\"none\"/>\n",
              "    <path d=\"M18.56 5.44l.94 2.06.94-2.06 2.06-.94-2.06-.94-.94-2.06-.94 2.06-2.06.94zm-11 1L8.5 8.5l.94-2.06 2.06-.94-2.06-.94L8.5 2.5l-.94 2.06-2.06.94zm10 10l.94 2.06.94-2.06 2.06-.94-2.06-.94-.94-2.06-.94 2.06-2.06.94z\"/><path d=\"M17.41 7.96l-1.37-1.37c-.4-.4-.92-.59-1.43-.59-.52 0-1.04.2-1.43.59L10.3 9.45l-7.72 7.72c-.78.78-.78 2.05 0 2.83L4 21.41c.39.39.9.59 1.41.59.51 0 1.02-.2 1.41-.59l7.78-7.78 2.81-2.81c.8-.78.8-2.07 0-2.86zM5.41 20L4 18.59l7.72-7.72 1.47 1.35L5.41 20z\"/>\n",
              "  </svg>\n",
              "      </button>\n",
              "      \n",
              "  <style>\n",
              "    .colab-df-container {\n",
              "      display:flex;\n",
              "      flex-wrap:wrap;\n",
              "      gap: 12px;\n",
              "    }\n",
              "\n",
              "    .colab-df-convert {\n",
              "      background-color: #E8F0FE;\n",
              "      border: none;\n",
              "      border-radius: 50%;\n",
              "      cursor: pointer;\n",
              "      display: none;\n",
              "      fill: #1967D2;\n",
              "      height: 32px;\n",
              "      padding: 0 0 0 0;\n",
              "      width: 32px;\n",
              "    }\n",
              "\n",
              "    .colab-df-convert:hover {\n",
              "      background-color: #E2EBFA;\n",
              "      box-shadow: 0px 1px 2px rgba(60, 64, 67, 0.3), 0px 1px 3px 1px rgba(60, 64, 67, 0.15);\n",
              "      fill: #174EA6;\n",
              "    }\n",
              "\n",
              "    [theme=dark] .colab-df-convert {\n",
              "      background-color: #3B4455;\n",
              "      fill: #D2E3FC;\n",
              "    }\n",
              "\n",
              "    [theme=dark] .colab-df-convert:hover {\n",
              "      background-color: #434B5C;\n",
              "      box-shadow: 0px 1px 3px 1px rgba(0, 0, 0, 0.15);\n",
              "      filter: drop-shadow(0px 1px 2px rgba(0, 0, 0, 0.3));\n",
              "      fill: #FFFFFF;\n",
              "    }\n",
              "  </style>\n",
              "\n",
              "      <script>\n",
              "        const buttonEl =\n",
              "          document.querySelector('#df-eb771a99-e6eb-4fea-8dbf-285a3ef0be37 button.colab-df-convert');\n",
              "        buttonEl.style.display =\n",
              "          google.colab.kernel.accessAllowed ? 'block' : 'none';\n",
              "\n",
              "        async function convertToInteractive(key) {\n",
              "          const element = document.querySelector('#df-eb771a99-e6eb-4fea-8dbf-285a3ef0be37');\n",
              "          const dataTable =\n",
              "            await google.colab.kernel.invokeFunction('convertToInteractive',\n",
              "                                                     [key], {});\n",
              "          if (!dataTable) return;\n",
              "\n",
              "          const docLinkHtml = 'Like what you see? Visit the ' +\n",
              "            '<a target=\"_blank\" href=https://colab.research.google.com/notebooks/data_table.ipynb>data table notebook</a>'\n",
              "            + ' to learn more about interactive tables.';\n",
              "          element.innerHTML = '';\n",
              "          dataTable['output_type'] = 'display_data';\n",
              "          await google.colab.output.renderOutput(dataTable, element);\n",
              "          const docLink = document.createElement('div');\n",
              "          docLink.innerHTML = docLinkHtml;\n",
              "          element.appendChild(docLink);\n",
              "        }\n",
              "      </script>\n",
              "    </div>\n",
              "  </div>\n",
              "  "
            ]
          },
          "metadata": {}
        }
      ],
      "source": [
        "display(df.info())\n",
        "display(df.head())"
      ]
    },
    {
      "cell_type": "markdown",
      "metadata": {
        "id": "qpTjyuyVH0hz"
      },
      "source": [
        "### Перевод к нужным типам данных"
      ]
    },
    {
      "cell_type": "code",
      "execution_count": null,
      "metadata": {
        "id": "GzM7fczuH0hz"
      },
      "outputs": [],
      "source": [
        "#приведу столбы с датами из типа \"object\" к \"datetime\"\n",
        "df['DateCrawled'] = pd.to_datetime(df['DateCrawled'], format='%Y-%m-%d %H:%M:%S')\n",
        "df['DateCreated'] = pd.to_datetime(df['DateCreated'], format='%Y-%m-%d %H:%M:%S')\n",
        "df['LastSeen'] = pd.to_datetime(df['LastSeen'], format='%Y-%m-%d %H:%M:%S')"
      ]
    },
    {
      "cell_type": "markdown",
      "metadata": {
        "id": "DUpDI07rH0h0"
      },
      "source": [
        "Приведу названия столбов по стандарту snake_case"
      ]
    },
    {
      "cell_type": "code",
      "execution_count": null,
      "metadata": {
        "colab": {
          "base_uri": "https://localhost:8080/",
          "height": 817
        },
        "id": "Fwscaz_5H0h0",
        "outputId": "2a14e5d1-80bd-4647-c518-bcc29c6ca10e",
        "scrolled": true
      },
      "outputs": [
        {
          "data": {
            "text/html": [
              "<div>\n",
              "<style scoped>\n",
              "    .dataframe tbody tr th:only-of-type {\n",
              "        vertical-align: middle;\n",
              "    }\n",
              "\n",
              "    .dataframe tbody tr th {\n",
              "        vertical-align: top;\n",
              "    }\n",
              "\n",
              "    .dataframe thead th {\n",
              "        text-align: right;\n",
              "    }\n",
              "</style>\n",
              "<table border=\"1\" class=\"dataframe\">\n",
              "  <thead>\n",
              "    <tr style=\"text-align: right;\">\n",
              "      <th></th>\n",
              "      <th>date_crawled</th>\n",
              "      <th>price</th>\n",
              "      <th>vehicle_type</th>\n",
              "      <th>registration_year</th>\n",
              "      <th>grearbox</th>\n",
              "      <th>power</th>\n",
              "      <th>model</th>\n",
              "      <th>kilometer</th>\n",
              "      <th>registration_month</th>\n",
              "      <th>fuel_type</th>\n",
              "      <th>brand</th>\n",
              "      <th>repaired</th>\n",
              "      <th>date_created</th>\n",
              "      <th>number_of_pictures</th>\n",
              "      <th>postal_code</th>\n",
              "      <th>last_seen</th>\n",
              "    </tr>\n",
              "  </thead>\n",
              "  <tbody>\n",
              "    <tr>\n",
              "      <th>0</th>\n",
              "      <td>2016-03-24 11:52:17</td>\n",
              "      <td>480</td>\n",
              "      <td>NaN</td>\n",
              "      <td>1993</td>\n",
              "      <td>manual</td>\n",
              "      <td>0</td>\n",
              "      <td>golf</td>\n",
              "      <td>150000</td>\n",
              "      <td>0</td>\n",
              "      <td>petrol</td>\n",
              "      <td>volkswagen</td>\n",
              "      <td>NaN</td>\n",
              "      <td>2016-03-24</td>\n",
              "      <td>0</td>\n",
              "      <td>70435</td>\n",
              "      <td>2016-04-07 03:16:57</td>\n",
              "    </tr>\n",
              "    <tr>\n",
              "      <th>1</th>\n",
              "      <td>2016-03-24 10:58:45</td>\n",
              "      <td>18300</td>\n",
              "      <td>coupe</td>\n",
              "      <td>2011</td>\n",
              "      <td>manual</td>\n",
              "      <td>190</td>\n",
              "      <td>NaN</td>\n",
              "      <td>125000</td>\n",
              "      <td>5</td>\n",
              "      <td>gasoline</td>\n",
              "      <td>audi</td>\n",
              "      <td>yes</td>\n",
              "      <td>2016-03-24</td>\n",
              "      <td>0</td>\n",
              "      <td>66954</td>\n",
              "      <td>2016-04-07 01:46:50</td>\n",
              "    </tr>\n",
              "    <tr>\n",
              "      <th>2</th>\n",
              "      <td>2016-03-14 12:52:21</td>\n",
              "      <td>9800</td>\n",
              "      <td>suv</td>\n",
              "      <td>2004</td>\n",
              "      <td>auto</td>\n",
              "      <td>163</td>\n",
              "      <td>grand</td>\n",
              "      <td>125000</td>\n",
              "      <td>8</td>\n",
              "      <td>gasoline</td>\n",
              "      <td>jeep</td>\n",
              "      <td>NaN</td>\n",
              "      <td>2016-03-14</td>\n",
              "      <td>0</td>\n",
              "      <td>90480</td>\n",
              "      <td>2016-04-05 12:47:46</td>\n",
              "    </tr>\n",
              "    <tr>\n",
              "      <th>3</th>\n",
              "      <td>2016-03-17 16:54:04</td>\n",
              "      <td>1500</td>\n",
              "      <td>small</td>\n",
              "      <td>2001</td>\n",
              "      <td>manual</td>\n",
              "      <td>75</td>\n",
              "      <td>golf</td>\n",
              "      <td>150000</td>\n",
              "      <td>6</td>\n",
              "      <td>petrol</td>\n",
              "      <td>volkswagen</td>\n",
              "      <td>no</td>\n",
              "      <td>2016-03-17</td>\n",
              "      <td>0</td>\n",
              "      <td>91074</td>\n",
              "      <td>2016-03-17 17:40:17</td>\n",
              "    </tr>\n",
              "    <tr>\n",
              "      <th>4</th>\n",
              "      <td>2016-03-31 17:25:20</td>\n",
              "      <td>3600</td>\n",
              "      <td>small</td>\n",
              "      <td>2008</td>\n",
              "      <td>manual</td>\n",
              "      <td>69</td>\n",
              "      <td>fabia</td>\n",
              "      <td>90000</td>\n",
              "      <td>7</td>\n",
              "      <td>gasoline</td>\n",
              "      <td>skoda</td>\n",
              "      <td>no</td>\n",
              "      <td>2016-03-31</td>\n",
              "      <td>0</td>\n",
              "      <td>60437</td>\n",
              "      <td>2016-04-06 10:17:21</td>\n",
              "    </tr>\n",
              "    <tr>\n",
              "      <th>...</th>\n",
              "      <td>...</td>\n",
              "      <td>...</td>\n",
              "      <td>...</td>\n",
              "      <td>...</td>\n",
              "      <td>...</td>\n",
              "      <td>...</td>\n",
              "      <td>...</td>\n",
              "      <td>...</td>\n",
              "      <td>...</td>\n",
              "      <td>...</td>\n",
              "      <td>...</td>\n",
              "      <td>...</td>\n",
              "      <td>...</td>\n",
              "      <td>...</td>\n",
              "      <td>...</td>\n",
              "      <td>...</td>\n",
              "    </tr>\n",
              "    <tr>\n",
              "      <th>354364</th>\n",
              "      <td>2016-03-21 09:50:58</td>\n",
              "      <td>0</td>\n",
              "      <td>NaN</td>\n",
              "      <td>2005</td>\n",
              "      <td>manual</td>\n",
              "      <td>0</td>\n",
              "      <td>colt</td>\n",
              "      <td>150000</td>\n",
              "      <td>7</td>\n",
              "      <td>petrol</td>\n",
              "      <td>mitsubishi</td>\n",
              "      <td>yes</td>\n",
              "      <td>2016-03-21</td>\n",
              "      <td>0</td>\n",
              "      <td>2694</td>\n",
              "      <td>2016-03-21 10:42:49</td>\n",
              "    </tr>\n",
              "    <tr>\n",
              "      <th>354365</th>\n",
              "      <td>2016-03-14 17:48:27</td>\n",
              "      <td>2200</td>\n",
              "      <td>NaN</td>\n",
              "      <td>2005</td>\n",
              "      <td>NaN</td>\n",
              "      <td>0</td>\n",
              "      <td>NaN</td>\n",
              "      <td>20000</td>\n",
              "      <td>1</td>\n",
              "      <td>NaN</td>\n",
              "      <td>sonstige_autos</td>\n",
              "      <td>NaN</td>\n",
              "      <td>2016-03-14</td>\n",
              "      <td>0</td>\n",
              "      <td>39576</td>\n",
              "      <td>2016-04-06 00:46:52</td>\n",
              "    </tr>\n",
              "    <tr>\n",
              "      <th>354366</th>\n",
              "      <td>2016-03-05 19:56:21</td>\n",
              "      <td>1199</td>\n",
              "      <td>convertible</td>\n",
              "      <td>2000</td>\n",
              "      <td>auto</td>\n",
              "      <td>101</td>\n",
              "      <td>fortwo</td>\n",
              "      <td>125000</td>\n",
              "      <td>3</td>\n",
              "      <td>petrol</td>\n",
              "      <td>smart</td>\n",
              "      <td>no</td>\n",
              "      <td>2016-03-05</td>\n",
              "      <td>0</td>\n",
              "      <td>26135</td>\n",
              "      <td>2016-03-11 18:17:12</td>\n",
              "    </tr>\n",
              "    <tr>\n",
              "      <th>354367</th>\n",
              "      <td>2016-03-19 18:57:12</td>\n",
              "      <td>9200</td>\n",
              "      <td>bus</td>\n",
              "      <td>1996</td>\n",
              "      <td>manual</td>\n",
              "      <td>102</td>\n",
              "      <td>transporter</td>\n",
              "      <td>150000</td>\n",
              "      <td>3</td>\n",
              "      <td>gasoline</td>\n",
              "      <td>volkswagen</td>\n",
              "      <td>no</td>\n",
              "      <td>2016-03-19</td>\n",
              "      <td>0</td>\n",
              "      <td>87439</td>\n",
              "      <td>2016-04-07 07:15:26</td>\n",
              "    </tr>\n",
              "    <tr>\n",
              "      <th>354368</th>\n",
              "      <td>2016-03-20 19:41:08</td>\n",
              "      <td>3400</td>\n",
              "      <td>wagon</td>\n",
              "      <td>2002</td>\n",
              "      <td>manual</td>\n",
              "      <td>100</td>\n",
              "      <td>golf</td>\n",
              "      <td>150000</td>\n",
              "      <td>6</td>\n",
              "      <td>gasoline</td>\n",
              "      <td>volkswagen</td>\n",
              "      <td>NaN</td>\n",
              "      <td>2016-03-20</td>\n",
              "      <td>0</td>\n",
              "      <td>40764</td>\n",
              "      <td>2016-03-24 12:45:21</td>\n",
              "    </tr>\n",
              "  </tbody>\n",
              "</table>\n",
              "<p>354369 rows × 16 columns</p>\n",
              "</div>"
            ],
            "text/plain": [
              "              date_crawled  price vehicle_type  registration_year grearbox  \\\n",
              "0      2016-03-24 11:52:17    480          NaN               1993   manual   \n",
              "1      2016-03-24 10:58:45  18300        coupe               2011   manual   \n",
              "2      2016-03-14 12:52:21   9800          suv               2004     auto   \n",
              "3      2016-03-17 16:54:04   1500        small               2001   manual   \n",
              "4      2016-03-31 17:25:20   3600        small               2008   manual   \n",
              "...                    ...    ...          ...                ...      ...   \n",
              "354364 2016-03-21 09:50:58      0          NaN               2005   manual   \n",
              "354365 2016-03-14 17:48:27   2200          NaN               2005      NaN   \n",
              "354366 2016-03-05 19:56:21   1199  convertible               2000     auto   \n",
              "354367 2016-03-19 18:57:12   9200          bus               1996   manual   \n",
              "354368 2016-03-20 19:41:08   3400        wagon               2002   manual   \n",
              "\n",
              "        power        model  kilometer  registration_month fuel_type  \\\n",
              "0           0         golf     150000                   0    petrol   \n",
              "1         190          NaN     125000                   5  gasoline   \n",
              "2         163        grand     125000                   8  gasoline   \n",
              "3          75         golf     150000                   6    petrol   \n",
              "4          69        fabia      90000                   7  gasoline   \n",
              "...       ...          ...        ...                 ...       ...   \n",
              "354364      0         colt     150000                   7    petrol   \n",
              "354365      0          NaN      20000                   1       NaN   \n",
              "354366    101       fortwo     125000                   3    petrol   \n",
              "354367    102  transporter     150000                   3  gasoline   \n",
              "354368    100         golf     150000                   6  gasoline   \n",
              "\n",
              "                 brand repaired date_created  number_of_pictures  postal_code  \\\n",
              "0           volkswagen      NaN   2016-03-24                   0        70435   \n",
              "1                 audi      yes   2016-03-24                   0        66954   \n",
              "2                 jeep      NaN   2016-03-14                   0        90480   \n",
              "3           volkswagen       no   2016-03-17                   0        91074   \n",
              "4                skoda       no   2016-03-31                   0        60437   \n",
              "...                ...      ...          ...                 ...          ...   \n",
              "354364      mitsubishi      yes   2016-03-21                   0         2694   \n",
              "354365  sonstige_autos      NaN   2016-03-14                   0        39576   \n",
              "354366           smart       no   2016-03-05                   0        26135   \n",
              "354367      volkswagen       no   2016-03-19                   0        87439   \n",
              "354368      volkswagen      NaN   2016-03-20                   0        40764   \n",
              "\n",
              "                 last_seen  \n",
              "0      2016-04-07 03:16:57  \n",
              "1      2016-04-07 01:46:50  \n",
              "2      2016-04-05 12:47:46  \n",
              "3      2016-03-17 17:40:17  \n",
              "4      2016-04-06 10:17:21  \n",
              "...                    ...  \n",
              "354364 2016-03-21 10:42:49  \n",
              "354365 2016-04-06 00:46:52  \n",
              "354366 2016-03-11 18:17:12  \n",
              "354367 2016-04-07 07:15:26  \n",
              "354368 2016-03-24 12:45:21  \n",
              "\n",
              "[354369 rows x 16 columns]"
            ]
          },
          "execution_count": 7,
          "metadata": {},
          "output_type": "execute_result"
        }
      ],
      "source": [
        "df = df.rename(columns={'DateCrawled': 'date_crawled',\n",
        "                        'Price': 'price',\n",
        "                        'VehicleType': 'vehicle_type',\n",
        "                        'RegistrationYear': 'registration_year',\n",
        "                        'Gearbox' : 'grearbox',\t\n",
        "                        'Power':'power',\n",
        "                        'Model':'model',\n",
        "                        'Kilometer':'kilometer',\n",
        "                        'RegistrationMonth': 'registration_month',\n",
        "                        'FuelType': 'fuel_type',\n",
        "                        'Brand':'brand',\n",
        "                        'Repaired':'repaired',\n",
        "                        'DateCreated': 'date_created',\n",
        "                        'NumberOfPictures': 'number_of_pictures',\n",
        "                        'PostalCode': 'postal_code',\n",
        "                        'LastSeen': 'last_seen'})\n",
        "df"
      ]
    },
    {
      "cell_type": "markdown",
      "metadata": {
        "id": "8ImzMivuH0h0"
      },
      "source": [
        "### Просмотр дубликатов, нулевых значений, пропусков"
      ]
    },
    {
      "cell_type": "code",
      "execution_count": null,
      "metadata": {
        "colab": {
          "base_uri": "https://localhost:8080/"
        },
        "id": "D48pC1ZMH0h0",
        "outputId": "94baf94c-4fe3-4291-8ec3-fb892e91d7c3"
      },
      "outputs": [
        {
          "data": {
            "text/plain": [
              "date_crawled              0\n",
              "price                     0\n",
              "vehicle_type          37490\n",
              "registration_year         0\n",
              "grearbox              19833\n",
              "power                     0\n",
              "model                 19705\n",
              "kilometer                 0\n",
              "registration_month        0\n",
              "fuel_type             32895\n",
              "brand                     0\n",
              "repaired              71154\n",
              "date_created              0\n",
              "number_of_pictures        0\n",
              "postal_code               0\n",
              "last_seen                 0\n",
              "dtype: int64"
            ]
          },
          "execution_count": 8,
          "metadata": {},
          "output_type": "execute_result"
        }
      ],
      "source": [
        "df.isnull().sum()"
      ]
    },
    {
      "cell_type": "code",
      "execution_count": null,
      "metadata": {
        "colab": {
          "base_uri": "https://localhost:8080/"
        },
        "id": "SYt6c_MBH0h1",
        "outputId": "36fbb5cd-490c-4f2b-ddb1-9ee208d246e4"
      },
      "outputs": [
        {
          "data": {
            "text/plain": [
              "0"
            ]
          },
          "execution_count": 9,
          "metadata": {},
          "output_type": "execute_result"
        }
      ],
      "source": [
        "df = df.drop_duplicates()\n",
        "df.duplicated().sum()"
      ]
    },
    {
      "cell_type": "code",
      "execution_count": null,
      "metadata": {
        "colab": {
          "base_uri": "https://localhost:8080/"
        },
        "id": "Ewl7IEP6H0h1",
        "outputId": "57d85e5f-be93-4790-ccbb-a1451b21f682"
      },
      "outputs": [
        {
          "data": {
            "text/plain": [
              "date_crawled          0\n",
              "price                 0\n",
              "vehicle_type          0\n",
              "registration_year     0\n",
              "grearbox              0\n",
              "power                 0\n",
              "model                 0\n",
              "kilometer             0\n",
              "registration_month    0\n",
              "fuel_type             0\n",
              "brand                 0\n",
              "repaired              0\n",
              "date_created          0\n",
              "number_of_pictures    0\n",
              "postal_code           0\n",
              "last_seen             0\n",
              "dtype: int64"
            ]
          },
          "execution_count": 10,
          "metadata": {},
          "output_type": "execute_result"
        }
      ],
      "source": [
        "for i in df[[\"fuel_type\",\"repaired\", \"vehicle_type\", \"model\", \"grearbox\"]]:\n",
        "    df[i] = df[i].fillna(\"other\")\n",
        "df.isnull().sum()"
      ]
    },
    {
      "cell_type": "markdown",
      "metadata": {
        "id": "AZpxPOvfH0h1"
      },
      "source": [
        "### Нахождение аномальных значений и их удаление "
      ]
    },
    {
      "cell_type": "code",
      "execution_count": null,
      "metadata": {
        "colab": {
          "base_uri": "https://localhost:8080/"
        },
        "id": "tcHIt-QvH0h1",
        "outputId": "6af52dcb-8a0b-4b33-9115-a66a516a9689"
      },
      "outputs": [
        {
          "name": "stdout",
          "output_type": "stream",
          "text": [
            "date_crawled :\n",
            "['2016-03-24T11:52:17.000000000' '2016-03-24T10:58:45.000000000'\n",
            " '2016-03-14T12:52:21.000000000' ... '2016-03-21T09:50:58.000000000'\n",
            " '2016-03-14T17:48:27.000000000' '2016-03-19T18:57:12.000000000'] \n",
            "\n",
            "price :\n",
            "[  480 18300  9800 ... 12395 18429 10985] \n",
            "\n",
            "vehicle_type :\n",
            "['other' 'coupe' 'suv' 'small' 'sedan' 'convertible' 'bus' 'wagon'] \n",
            "\n",
            "registration_year :\n",
            "[1993 2011 2004 2001 2008 1995 1980 2014 1998 2005 1910 2016 2007 2009\n",
            " 2002 2018 1997 1990 2017 1981 2003 1994 1991 1984 2006 1999 2012 2010\n",
            " 2000 1992 2013 1996 1985 1989 2015 1982 1976 1983 1973 1111 1969 1971\n",
            " 1987 1986 1988 1970 1965 1945 1925 1974 1979 1955 1978 1972 1968 1977\n",
            " 1961 1960 1966 1975 1963 1964 5000 1954 1958 1967 1959 9999 1956 3200\n",
            " 1000 1941 8888 1500 2200 4100 1962 1929 1957 1940 3000 2066 1949 2019\n",
            " 1937 1951 1800 1953 1234 8000 5300 9000 2900 6000 5900 5911 1933 1400\n",
            " 1950 4000 1948 1952 1200 8500 1932 1255 3700 3800 4800 1942 7000 1935\n",
            " 1936 6500 1923 2290 2500 1930 1001 9450 1944 1943 1934 1938 1688 2800\n",
            " 1253 1928 1919 5555 5600 1600 2222 1039 9996 1300 8455 1931 1915 4500\n",
            " 1920 1602 7800 9229 1947 1927 7100 8200 1946 7500 3500] \n",
            "\n",
            "grearbox :\n",
            "['manual' 'auto' 'other'] \n",
            "\n",
            "power :\n",
            "[    0   190   163    75    69   102   109    50   125   101   105   140\n",
            "   115   131    60   136   160   231    90   118   193    99   113   218\n",
            "   122   129    70   306    95    61   177    80   170    55   143    64\n",
            "   286   232   150   156    82   155    54   185    87   180    86    84\n",
            "   224   235   200   178   265    77   110   144   120   116   184   126\n",
            "   204    88   194   305   197   179   250    45   313    41   165    98\n",
            "   130   114   211    56   201   213    58   107    83   174   100   220\n",
            "    85    73   192    68    66   299    74    52   147    65   310    71\n",
            "    97   239   203     5   300   103   258   320    63    81   148    44\n",
            "   145   230   280   260   104   188   333   186   117   141    59   132\n",
            "   234   158    39    92    51   135    53   209    43   146    67   106\n",
            "   166   276   344    72   249   237   245   111   326   279    23   138\n",
            "   175    96   226    26    37   301   334   128   133   124    33   219\n",
            "   241   167    94   182   196   238  1398   228   112    48   272   139\n",
            "  1799    40   240    79   256   360   243   375   252   396   340   108\n",
            "   121   345   187   289   222   198   284   450   233   387   152   347\n",
            "   172    57   137   212   476   314    30     7    47   173   290   207\n",
            "   205   171   750    78    91    89   349   325    76   151   350   953\n",
            "    93   142   500   343   199   119   164    16   264   367   208   210\n",
            "    46   435  1001   225   127   176   161   603   307   354    35   206\n",
            "   771   355   273   223   255   123   154   149  7515  1400   268   620\n",
            "   169   400   275    34     2   242  1779   285   162   328  1753   329\n",
            "   134   420   247   168 10317   215    18   330   283    62    10   214\n",
            "   183   254    15   321   322   315   952   600   181   426   599   379\n",
            "   999    22   157    42   195   553     4   309   507   381   271   440\n",
            "   189   401  1111  2729    21   236  1240  1704   521     1  1900   270\n",
            "    24   159   292   808   515  1200   303    29    38  1993    14   216\n",
            "   610   504    49   267   331   363   261   385  1011   253   696 10520\n",
            "   376   227   311    27   217    20  1999    11  1056    25   394    12\n",
            "   298   296  1659   294   551  6920   246    17  1800  1625   368   390\n",
            "   221  1367   259   606   327  2017  1597   266   374   392     9   405\n",
            "    13   262   601   430   295     8   411   900   541  7512   382 10218\n",
            "  7544  1102   287    19   751   297  1090   457   282   602   388     6\n",
            "  1000  5411   335  1360   202  3750   805  1062  1024 11530   364  1796\n",
            "  5000   269   460  1002   288  1780 12012 17932   316  2005  1399   191\n",
            "   278  1300   380   257   449  1256   153  1653   520   560   281 12510\n",
            "     3  1500   386    32  1202  2016  1436  1405   671   274  1288  1055\n",
            " 10912 15016  6226  1115   277  1105   341  1223  2340  8404  1968   338\n",
            "   445  1920   370   517  4400 10710 10522  9010   431  1164 11509   371\n",
            "  1501   428 11635    36   304   348  1703  1910  1995   579 10000   580\n",
            "   408    31  1005   358  1403   489  5575 19211   585   960   365   353\n",
            "   490   352  1801   346   550  3199   800  7508  1312   357  1937   950\n",
            "  4700  1600  3454 19208   251   850   337   700  8011  2331  2789   487\n",
            "   519  2461  6006  3500  5815  6018  1781  1503   612  1596   229  1506\n",
            "  5809 15020  5867  2172  1598 17410  1363   584  1054   851  1339   318\n",
            "   510   525  1700    28  1151   685  6011   317   703  1771 15001   514\n",
            "   362   332   324  6045   530   425   308  6010   475   903   640  2000\n",
            "   248   651  2799 17011   505  1103  1521   351 16051   398  9000  1998\n",
            " 10311   409  1230 17019 12684  8259  1895   901  1317   871   909  2201\n",
            "  1595   776 17700 11011  1199   459  1162  1120 15033  1896   339   361\n",
            "   574  6512   454   650 13616   604   607 16312  1082   336 20000   416\n",
            "   678  6012  1401  1021  1870 13636  1250  9710   323  1158  2009   902\n",
            "  6062  1275   572   244   399  1016   743  1221  2402 16011  1362   544\n",
            "   645   907   702 12512  1986  1003  1432  9013  9011   442  1017  1394\n",
            " 15017 10910  1992   540  2018 11025  1433  1701  2792  1502  1239  1390\n",
            " 14009  1160  1351 11111  1783  9007   923  1149   754  1988   402  2004\n",
            "  5420  1793  1324   356  7511  1299   293 19312  1079  1689   998  1100\n",
            "  9012  1933   508 16311   682  1252  1922  7529   732  2389  2200  1707\n",
            "  1416  8500  1012   485  3000 10110   421  4507  1631  7518   377  1004\n",
            "  2007  2598  1548  1241] \n",
            "\n",
            "model :\n",
            "['golf' 'other' 'grand' 'fabia' '3er' '2_reihe' 'c_max' '3_reihe' 'passat'\n",
            " 'navara' 'ka' 'polo' 'twingo' 'a_klasse' 'scirocco' '5er' 'meriva'\n",
            " 'arosa' 'c4' 'civic' 'transporter' 'punto' 'e_klasse' 'clio' 'kadett'\n",
            " 'kangoo' 'corsa' 'one' 'fortwo' '1er' 'b_klasse' 'signum' 'astra' 'a8'\n",
            " 'jetta' 'fiesta' 'c_klasse' 'micra' 'vito' 'sprinter' '156' 'escort'\n",
            " 'forester' 'xc_reihe' 'scenic' 'a4' 'a1' 'insignia' 'combo' 'focus' 'tt'\n",
            " 'a6' 'jazz' 'omega' 'slk' '7er' '80' '147' '100' 'z_reihe' 'sportage'\n",
            " 'sorento' 'v40' 'ibiza' 'mustang' 'eos' 'touran' 'getz' 'a3' 'almera'\n",
            " 'megane' 'lupo' 'r19' 'zafira' 'caddy' 'mondeo' 'cordoba' 'colt'\n",
            " 'impreza' 'vectra' 'berlingo' 'tiguan' 'i_reihe' 'espace' 'sharan'\n",
            " '6_reihe' 'panda' 'up' 'seicento' 'ceed' '5_reihe' 'yeti' 'octavia' 'mii'\n",
            " 'rx_reihe' '6er' 'modus' 'fox' 'matiz' 'beetle' 'c1' 'rio' 'touareg'\n",
            " 'logan' 'spider' 'cuore' 's_max' 'a2' 'galaxy' 'c3' 'viano' 's_klasse'\n",
            " '1_reihe' 'avensis' 'roomster' 'sl' 'kaefer' 'santa' 'cooper' 'leon'\n",
            " '4_reihe' 'a5' '500' 'laguna' 'ptcruiser' 'clk' 'primera' 'x_reihe'\n",
            " 'exeo' '159' 'transit' 'juke' 'qashqai' 'carisma' 'accord' 'corolla'\n",
            " 'lanos' 'phaeton' 'verso' 'swift' 'rav' 'picanto' 'boxster' 'kalos'\n",
            " 'superb' 'stilo' 'alhambra' 'mx_reihe' 'roadster' 'ypsilon' 'cayenne'\n",
            " 'galant' 'justy' '90' 'sirion' 'crossfire' 'agila' 'duster' 'cr_reihe'\n",
            " 'v50' 'c_reihe' 'v_klasse' 'm_klasse' 'yaris' 'c5' 'aygo' 'cc' 'carnival'\n",
            " 'fusion' '911' 'bora' 'forfour' 'm_reihe' 'cl' 'tigra' '300c' 'spark'\n",
            " 'v70' 'kuga' 'x_type' 'ducato' 's_type' 'x_trail' 'toledo' 'altea'\n",
            " 'voyager' 'calibra' 'bravo' 'antara' 'tucson' 'citigo' 'jimny' 'wrangler'\n",
            " 'lybra' 'q7' 'lancer' 'captiva' 'c2' 'discovery' 'freelander' 'sandero'\n",
            " 'note' '900' 'cherokee' 'clubman' 'samara' 'defender' '601' 'cx_reihe'\n",
            " 'legacy' 'pajero' 'auris' 'niva' 's60' 'nubira' 'vivaro' 'g_klasse'\n",
            " 'lodgy' '850' 'range_rover' 'q3' 'serie_2' 'glk' 'charade' 'croma'\n",
            " 'outlander' 'doblo' 'musa' 'move' '9000' 'v60' '145' 'aveo' '200' 'b_max'\n",
            " 'range_rover_sport' 'terios' 'rangerover' 'q5' 'range_rover_evoque'\n",
            " 'materia' 'delta' 'gl' 'kalina' 'amarok' 'elefantino' 'i3' 'kappa'\n",
            " 'serie_3' 'serie_1'] \n",
            "\n",
            "kilometer :\n",
            "[150000 125000  90000  40000  30000  70000   5000 100000  60000  20000\n",
            "  80000  50000  10000] \n",
            "\n",
            "registration_month :\n",
            "[ 0  5  8  6  7 10 12 11  2  3  1  4  9] \n",
            "\n",
            "fuel_type :\n",
            "['petrol' 'gasoline' 'other' 'lpg' 'hybrid' 'cng' 'electric'] \n",
            "\n",
            "brand :\n",
            "['volkswagen' 'audi' 'jeep' 'skoda' 'bmw' 'peugeot' 'ford' 'mazda'\n",
            " 'nissan' 'renault' 'mercedes_benz' 'opel' 'seat' 'citroen' 'honda' 'fiat'\n",
            " 'mini' 'smart' 'hyundai' 'sonstige_autos' 'alfa_romeo' 'subaru' 'volvo'\n",
            " 'mitsubishi' 'kia' 'suzuki' 'lancia' 'toyota' 'chevrolet' 'dacia'\n",
            " 'daihatsu' 'trabant' 'saab' 'chrysler' 'jaguar' 'daewoo' 'porsche'\n",
            " 'rover' 'land_rover' 'lada'] \n",
            "\n",
            "repaired :\n",
            "['other' 'yes' 'no'] \n",
            "\n",
            "date_created :\n",
            "['2016-03-24T00:00:00.000000000' '2016-03-14T00:00:00.000000000'\n",
            " '2016-03-17T00:00:00.000000000' '2016-03-31T00:00:00.000000000'\n",
            " '2016-04-04T00:00:00.000000000' '2016-04-01T00:00:00.000000000'\n",
            " '2016-03-21T00:00:00.000000000' '2016-03-26T00:00:00.000000000'\n",
            " '2016-04-07T00:00:00.000000000' '2016-03-15T00:00:00.000000000'\n",
            " '2016-03-11T00:00:00.000000000' '2016-03-20T00:00:00.000000000'\n",
            " '2016-03-23T00:00:00.000000000' '2016-03-27T00:00:00.000000000'\n",
            " '2016-03-12T00:00:00.000000000' '2016-03-13T00:00:00.000000000'\n",
            " '2016-03-18T00:00:00.000000000' '2016-03-10T00:00:00.000000000'\n",
            " '2016-03-07T00:00:00.000000000' '2016-03-09T00:00:00.000000000'\n",
            " '2016-03-08T00:00:00.000000000' '2016-04-03T00:00:00.000000000'\n",
            " '2016-03-29T00:00:00.000000000' '2016-03-25T00:00:00.000000000'\n",
            " '2016-03-28T00:00:00.000000000' '2016-03-30T00:00:00.000000000'\n",
            " '2016-03-22T00:00:00.000000000' '2016-02-09T00:00:00.000000000'\n",
            " '2016-03-05T00:00:00.000000000' '2016-04-02T00:00:00.000000000'\n",
            " '2016-03-16T00:00:00.000000000' '2016-03-19T00:00:00.000000000'\n",
            " '2016-04-05T00:00:00.000000000' '2016-03-06T00:00:00.000000000'\n",
            " '2016-02-12T00:00:00.000000000' '2016-03-03T00:00:00.000000000'\n",
            " '2016-03-01T00:00:00.000000000' '2016-03-04T00:00:00.000000000'\n",
            " '2016-04-06T00:00:00.000000000' '2016-02-15T00:00:00.000000000'\n",
            " '2016-02-24T00:00:00.000000000' '2016-02-27T00:00:00.000000000'\n",
            " '2015-03-20T00:00:00.000000000' '2016-02-28T00:00:00.000000000'\n",
            " '2016-02-17T00:00:00.000000000' '2016-01-27T00:00:00.000000000'\n",
            " '2016-02-20T00:00:00.000000000' '2016-02-29T00:00:00.000000000'\n",
            " '2016-02-10T00:00:00.000000000' '2016-02-23T00:00:00.000000000'\n",
            " '2016-02-21T00:00:00.000000000' '2015-11-02T00:00:00.000000000'\n",
            " '2016-02-19T00:00:00.000000000' '2016-02-26T00:00:00.000000000'\n",
            " '2016-02-11T00:00:00.000000000' '2016-01-10T00:00:00.000000000'\n",
            " '2016-02-06T00:00:00.000000000' '2016-02-18T00:00:00.000000000'\n",
            " '2016-01-29T00:00:00.000000000' '2016-03-02T00:00:00.000000000'\n",
            " '2015-12-06T00:00:00.000000000' '2016-01-24T00:00:00.000000000'\n",
            " '2016-01-30T00:00:00.000000000' '2016-02-02T00:00:00.000000000'\n",
            " '2016-02-16T00:00:00.000000000' '2016-02-13T00:00:00.000000000'\n",
            " '2016-02-05T00:00:00.000000000' '2016-02-22T00:00:00.000000000'\n",
            " '2015-11-17T00:00:00.000000000' '2014-03-10T00:00:00.000000000'\n",
            " '2016-02-07T00:00:00.000000000' '2016-01-23T00:00:00.000000000'\n",
            " '2016-02-25T00:00:00.000000000' '2016-02-14T00:00:00.000000000'\n",
            " '2016-01-02T00:00:00.000000000' '2015-09-04T00:00:00.000000000'\n",
            " '2015-11-12T00:00:00.000000000' '2015-12-27T00:00:00.000000000'\n",
            " '2015-11-24T00:00:00.000000000' '2016-01-20T00:00:00.000000000'\n",
            " '2016-02-03T00:00:00.000000000' '2015-12-05T00:00:00.000000000'\n",
            " '2015-08-07T00:00:00.000000000' '2016-01-28T00:00:00.000000000'\n",
            " '2016-01-31T00:00:00.000000000' '2016-02-08T00:00:00.000000000'\n",
            " '2016-01-07T00:00:00.000000000' '2016-01-22T00:00:00.000000000'\n",
            " '2016-01-18T00:00:00.000000000' '2016-01-08T00:00:00.000000000'\n",
            " '2015-11-23T00:00:00.000000000' '2016-01-13T00:00:00.000000000'\n",
            " '2016-01-17T00:00:00.000000000' '2016-01-15T00:00:00.000000000'\n",
            " '2015-11-08T00:00:00.000000000' '2016-01-26T00:00:00.000000000'\n",
            " '2016-02-04T00:00:00.000000000' '2016-01-25T00:00:00.000000000'\n",
            " '2016-01-16T00:00:00.000000000' '2015-08-10T00:00:00.000000000'\n",
            " '2016-01-03T00:00:00.000000000' '2016-01-19T00:00:00.000000000'\n",
            " '2015-12-30T00:00:00.000000000' '2016-02-01T00:00:00.000000000'\n",
            " '2015-12-17T00:00:00.000000000' '2015-11-10T00:00:00.000000000'\n",
            " '2016-01-06T00:00:00.000000000' '2015-09-09T00:00:00.000000000'\n",
            " '2015-06-18T00:00:00.000000000'] \n",
            "\n",
            "number_of_pictures :\n",
            "[0] \n",
            "\n",
            "postal_code :\n",
            "[70435 66954 90480 ... 38528 38325 31096] \n",
            "\n",
            "last_seen :\n",
            "['2016-04-07T03:16:57.000000000' '2016-04-07T01:46:50.000000000'\n",
            " '2016-04-05T12:47:46.000000000' ... '2016-03-19T20:44:43.000000000'\n",
            " '2016-03-29T10:17:23.000000000' '2016-03-21T10:42:49.000000000'] \n",
            "\n"
          ]
        }
      ],
      "source": [
        "for i in df:\n",
        "    print(i,\":\")\n",
        "    print(df[i].unique(), \"\\n\")"
      ]
    },
    {
      "cell_type": "code",
      "execution_count": null,
      "metadata": {
        "id": "TwuRz6x0H0h1"
      },
      "outputs": [],
      "source": [
        "df = df.query('registration_month > 0').reset_index(drop=True)"
      ]
    },
    {
      "cell_type": "code",
      "execution_count": null,
      "metadata": {
        "colab": {
          "base_uri": "https://localhost:8080/",
          "height": 555
        },
        "id": "W0DKtmnrH0h2",
        "outputId": "cb1c9dec-9ca6-4264-b60a-6088c91374fb",
        "scrolled": true
      },
      "outputs": [
        {
          "data": {
            "text/plain": [
              "<AxesSubplot:>"
            ]
          },
          "execution_count": 13,
          "metadata": {},
          "output_type": "execute_result"
        },
        {
          "data": {
            "image/png": "[encoded data removed]",
            "text/plain": [
              "<Figure size 1296x648 with 1 Axes>"
            ]
          },
          "metadata": {
            "needs_background": "light"
          },
          "output_type": "display_data"
        }
      ],
      "source": [
        "df[['price','power','kilometer','registration_month','registration_year','number_of_pictures','postal_code',]]\\\n",
        "                                                                  .boxplot(figsize=(18,9))"
      ]
    },
    {
      "cell_type": "code",
      "execution_count": null,
      "metadata": {
        "colab": {
          "base_uri": "https://localhost:8080/"
        },
        "id": "L3aT20_aH0h2",
        "outputId": "befb5ff6-3cc9-446a-f8a5-974d8aceb700"
      },
      "outputs": [
        {
          "name": "stdout",
          "output_type": "stream",
          "text": [
            "Межквартильный размах:  5600.0\n",
            "\n",
            "Первый квартиль:  1250.0\n",
            "\n",
            "Третий квартиль:  6850.0\n",
            "\n",
            "Минимум:  -7150.0\n",
            "\n",
            "Максимум:  15250.0\n"
          ]
        }
      ],
      "source": [
        "q3, q1 = np.percentile(df['price'], [75 ,25])\n",
        "iqr = q3 - q1\n",
        "print('Межквартильный размах: ', iqr)\n",
        "print()\n",
        "print('Первый квартиль: ', q1)\n",
        "print()\n",
        "print('Третий квартиль: ', q3)\n",
        "print()\n",
        "\n",
        "min = q1 - 1.5*iqr\n",
        "max = q3 + 1.5*iqr\n",
        "\n",
        "print('Минимум: ', min)\n",
        "print()\n",
        "print('Максимум: ', max)"
      ]
    },
    {
      "cell_type": "markdown",
      "metadata": {
        "id": "h1VuRLbKH0h2"
      },
      "source": [
        "Странно, что цена может быть отрицательной, удалю аномальные данные, которые меньше 0 "
      ]
    },
    {
      "cell_type": "code",
      "execution_count": null,
      "metadata": {
        "colab": {
          "base_uri": "https://localhost:8080/",
          "height": 282
        },
        "id": "-Og16nHTH0h2",
        "outputId": "42796d48-4c32-42fd-a2c4-ff3f8b97eb53"
      },
      "outputs": [
        {
          "data": {
            "text/plain": [
              "<AxesSubplot:>"
            ]
          },
          "execution_count": 15,
          "metadata": {},
          "output_type": "execute_result"
        },
        {
          "data": {
            "image/png": "[encoded data removed]",
            "text/plain": [
              "<Figure size 432x288 with 1 Axes>"
            ]
          },
          "metadata": {
            "needs_background": "light"
          },
          "output_type": "display_data"
        }
      ],
      "source": [
        "df = df.query('price > 0 and price < 14425').reset_index(drop=True)\n",
        "df[['price']].boxplot()"
      ]
    },
    {
      "cell_type": "code",
      "execution_count": null,
      "metadata": {
        "colab": {
          "base_uri": "https://localhost:8080/"
        },
        "id": "mFMNGLcIH0h3",
        "outputId": "d00d8407-4424-4db4-a73b-4502a110cf39"
      },
      "outputs": [
        {
          "name": "stdout",
          "output_type": "stream",
          "text": [
            "Межквартильный размах:  65.0\n",
            "\n",
            "Первый квартиль:  75.0\n",
            "\n",
            "Третий квартиль:  140.0\n",
            "\n",
            "Минимум:  -22.5\n",
            "\n",
            "Максимум:  237.5\n"
          ]
        }
      ],
      "source": [
        "q3, q1 = np.percentile(df['power'], [75 ,25])\n",
        "iqr = q3 - q1\n",
        "print('Межквартильный размах: ', iqr)\n",
        "print()\n",
        "print('Первый квартиль: ', q1)\n",
        "print()\n",
        "print('Третий квартиль: ', q3)\n",
        "print()\n",
        "\n",
        "min = q1 - 1.5*iqr\n",
        "max = q3 + 1.5*iqr\n",
        "\n",
        "print('Минимум: ', min)\n",
        "print()\n",
        "print('Максимум: ', max)"
      ]
    },
    {
      "cell_type": "code",
      "execution_count": null,
      "metadata": {
        "colab": {
          "base_uri": "https://localhost:8080/",
          "height": 282
        },
        "id": "4vPTv_XCH0h3",
        "outputId": "eabaccc6-b9af-467e-9d9e-5daf2426c221"
      },
      "outputs": [
        {
          "data": {
            "text/plain": [
              "<AxesSubplot:>"
            ]
          },
          "execution_count": 17,
          "metadata": {},
          "output_type": "execute_result"
        },
        {
          "data": {
            "image/png": "[encoded data removed]",
            "text/plain": [
              "<Figure size 432x288 with 1 Axes>"
            ]
          },
          "metadata": {
            "needs_background": "light"
          },
          "output_type": "display_data"
        }
      ],
      "source": [
        "df = df.query('power > 10 and power < 230').reset_index(drop=True)\n",
        "df[['power']].boxplot()"
      ]
    },
    {
      "cell_type": "code",
      "execution_count": null,
      "metadata": {
        "colab": {
          "base_uri": "https://localhost:8080/"
        },
        "id": "-Cdg2KXhH0h3",
        "outputId": "4920b77f-e404-4e75-c8ef-4ca2945adb4d"
      },
      "outputs": [
        {
          "name": "stdout",
          "output_type": "stream",
          "text": [
            "Межквартильный размах:  8.0\n",
            "\n",
            "Первый квартиль:  1999.0\n",
            "\n",
            "Третий квартиль:  2007.0\n",
            "\n",
            "Минимум:  1987.0\n",
            "\n",
            "Максимум:  2019.0\n"
          ]
        }
      ],
      "source": [
        "q3, q1 = np.percentile(df['registration_year'], [75 ,25])\n",
        "iqr = q3 - q1\n",
        "print('Межквартильный размах: ', iqr)\n",
        "print()\n",
        "print('Первый квартиль: ', q1)\n",
        "print()\n",
        "print('Третий квартиль: ', q3)\n",
        "print()\n",
        "\n",
        "min = q1 - 1.5*iqr\n",
        "max = q3 + 1.5*iqr\n",
        "\n",
        "print('Минимум: ', min)\n",
        "print()\n",
        "print('Максимум: ', max)"
      ]
    },
    {
      "cell_type": "code",
      "execution_count": null,
      "metadata": {
        "colab": {
          "base_uri": "https://localhost:8080/",
          "height": 387
        },
        "id": "pf_harHtH0h3",
        "outputId": "7f75acbc-68ac-48f4-ca2f-e2efdc753637"
      },
      "outputs": [
        {
          "name": "stdout",
          "output_type": "stream",
          "text": [
            "[1000 1234 1500 1800 1910 1928 1929 1931 1937 1938 1941 1942 1943 1945\n",
            " 1948 1949 1950 1951 1952 1953 1954 1955 1956 1957 1958 1959 1960 1961\n",
            " 1962 1963 1964 1965 1966 1967 1968 1969 1970 1971 1972 1973 1974 1975\n",
            " 1976 1977 1978 1979 1980 1981 1982 1983 1984 1985 1986 1987 1988 1989\n",
            " 1990 1991 1992 1993 1994 1995 1996 1997 1998 1999 2000 2001 2002 2003\n",
            " 2004 2005 2006 2007 2008 2009 2010 2011 2012 2013 2014 2015 2016 2017\n",
            " 2018 2019 2800 2900 6500 8200]\n"
          ]
        },
        {
          "data": {
            "text/plain": [
              "<AxesSubplot:>"
            ]
          },
          "execution_count": 19,
          "metadata": {},
          "output_type": "execute_result"
        },
        {
          "data": {
            "image/png": "[encoded data removed]",
            "text/plain": [
              "<Figure size 432x288 with 1 Axes>"
            ]
          },
          "metadata": {
            "needs_background": "light"
          },
          "output_type": "display_data"
        }
      ],
      "source": [
        "print(np.sort(df['registration_year'].unique()))\n",
        "df = df.query('registration_year > 1985 and registration_year < 2016').reset_index(drop=True)\n",
        "df[['registration_year']].boxplot()"
      ]
    },
    {
      "cell_type": "code",
      "execution_count": null,
      "metadata": {
        "colab": {
          "base_uri": "https://localhost:8080/"
        },
        "id": "clQa7TbeH0h3",
        "outputId": "a169373e-b96a-4c57-f126-a298223615f6"
      },
      "outputs": [
        {
          "name": "stdout",
          "output_type": "stream",
          "text": [
            "Уникальные значения столба: [0]\n",
            "count    244273.0\n",
            "mean          0.0\n",
            "std           0.0\n",
            "min           0.0\n",
            "25%           0.0\n",
            "50%           0.0\n",
            "75%           0.0\n",
            "max           0.0\n",
            "Name: number_of_pictures, dtype: float64\n"
          ]
        }
      ],
      "source": [
        "print(\"Уникальные значения столба:\" , df['number_of_pictures'].unique())\n",
        "print(df['number_of_pictures'].describe())"
      ]
    },
    {
      "cell_type": "markdown",
      "metadata": {
        "id": "4-5PLJuOH0h4"
      },
      "source": [
        "удалю столбец, который не несет никакой важной информации "
      ]
    },
    {
      "cell_type": "code",
      "execution_count": null,
      "metadata": {
        "id": "fd1Il1xRH0h4"
      },
      "outputs": [],
      "source": [
        "df = df.drop('number_of_pictures', axis=1)"
      ]
    },
    {
      "cell_type": "code",
      "execution_count": null,
      "metadata": {
        "colab": {
          "base_uri": "https://localhost:8080/",
          "height": 835
        },
        "id": "Zk-eLTIeH0h4",
        "outputId": "b5689ef4-1909-4c73-ab92-06160125003c"
      },
      "outputs": [
        {
          "data": {
            "text/html": [
              "<div>\n",
              "<style scoped>\n",
              "    .dataframe tbody tr th:only-of-type {\n",
              "        vertical-align: middle;\n",
              "    }\n",
              "\n",
              "    .dataframe tbody tr th {\n",
              "        vertical-align: top;\n",
              "    }\n",
              "\n",
              "    .dataframe thead th {\n",
              "        text-align: right;\n",
              "    }\n",
              "</style>\n",
              "<table border=\"1\" class=\"dataframe\">\n",
              "  <thead>\n",
              "    <tr style=\"text-align: right;\">\n",
              "      <th></th>\n",
              "      <th>date_crawled</th>\n",
              "      <th>price</th>\n",
              "      <th>vehicle_type</th>\n",
              "      <th>registration_year</th>\n",
              "      <th>grearbox</th>\n",
              "      <th>power</th>\n",
              "      <th>model</th>\n",
              "      <th>kilometer</th>\n",
              "      <th>registration_month</th>\n",
              "      <th>fuel_type</th>\n",
              "      <th>brand</th>\n",
              "      <th>repaired</th>\n",
              "      <th>date_created</th>\n",
              "      <th>postal_code</th>\n",
              "      <th>last_seen</th>\n",
              "    </tr>\n",
              "  </thead>\n",
              "  <tbody>\n",
              "    <tr>\n",
              "      <th>0</th>\n",
              "      <td>2016-03-14 12:52:21</td>\n",
              "      <td>9800</td>\n",
              "      <td>suv</td>\n",
              "      <td>2004</td>\n",
              "      <td>auto</td>\n",
              "      <td>163</td>\n",
              "      <td>grand</td>\n",
              "      <td>125000</td>\n",
              "      <td>8</td>\n",
              "      <td>gasoline</td>\n",
              "      <td>jeep</td>\n",
              "      <td>other</td>\n",
              "      <td>2016-03-14</td>\n",
              "      <td>90480</td>\n",
              "      <td>2016-04-05 12:47:46</td>\n",
              "    </tr>\n",
              "    <tr>\n",
              "      <th>1</th>\n",
              "      <td>2016-03-17 16:54:04</td>\n",
              "      <td>1500</td>\n",
              "      <td>small</td>\n",
              "      <td>2001</td>\n",
              "      <td>manual</td>\n",
              "      <td>75</td>\n",
              "      <td>golf</td>\n",
              "      <td>150000</td>\n",
              "      <td>6</td>\n",
              "      <td>petrol</td>\n",
              "      <td>volkswagen</td>\n",
              "      <td>no</td>\n",
              "      <td>2016-03-17</td>\n",
              "      <td>91074</td>\n",
              "      <td>2016-03-17 17:40:17</td>\n",
              "    </tr>\n",
              "    <tr>\n",
              "      <th>2</th>\n",
              "      <td>2016-03-31 17:25:20</td>\n",
              "      <td>3600</td>\n",
              "      <td>small</td>\n",
              "      <td>2008</td>\n",
              "      <td>manual</td>\n",
              "      <td>69</td>\n",
              "      <td>fabia</td>\n",
              "      <td>90000</td>\n",
              "      <td>7</td>\n",
              "      <td>gasoline</td>\n",
              "      <td>skoda</td>\n",
              "      <td>no</td>\n",
              "      <td>2016-03-31</td>\n",
              "      <td>60437</td>\n",
              "      <td>2016-04-06 10:17:21</td>\n",
              "    </tr>\n",
              "    <tr>\n",
              "      <th>3</th>\n",
              "      <td>2016-04-04 17:36:23</td>\n",
              "      <td>650</td>\n",
              "      <td>sedan</td>\n",
              "      <td>1995</td>\n",
              "      <td>manual</td>\n",
              "      <td>102</td>\n",
              "      <td>3er</td>\n",
              "      <td>150000</td>\n",
              "      <td>10</td>\n",
              "      <td>petrol</td>\n",
              "      <td>bmw</td>\n",
              "      <td>yes</td>\n",
              "      <td>2016-04-04</td>\n",
              "      <td>33775</td>\n",
              "      <td>2016-04-06 19:17:07</td>\n",
              "    </tr>\n",
              "    <tr>\n",
              "      <th>4</th>\n",
              "      <td>2016-04-01 20:48:51</td>\n",
              "      <td>2200</td>\n",
              "      <td>convertible</td>\n",
              "      <td>2004</td>\n",
              "      <td>manual</td>\n",
              "      <td>109</td>\n",
              "      <td>2_reihe</td>\n",
              "      <td>150000</td>\n",
              "      <td>8</td>\n",
              "      <td>petrol</td>\n",
              "      <td>peugeot</td>\n",
              "      <td>no</td>\n",
              "      <td>2016-04-01</td>\n",
              "      <td>67112</td>\n",
              "      <td>2016-04-05 18:18:39</td>\n",
              "    </tr>\n",
              "    <tr>\n",
              "      <th>...</th>\n",
              "      <td>...</td>\n",
              "      <td>...</td>\n",
              "      <td>...</td>\n",
              "      <td>...</td>\n",
              "      <td>...</td>\n",
              "      <td>...</td>\n",
              "      <td>...</td>\n",
              "      <td>...</td>\n",
              "      <td>...</td>\n",
              "      <td>...</td>\n",
              "      <td>...</td>\n",
              "      <td>...</td>\n",
              "      <td>...</td>\n",
              "      <td>...</td>\n",
              "      <td>...</td>\n",
              "    </tr>\n",
              "    <tr>\n",
              "      <th>244268</th>\n",
              "      <td>2016-03-28 13:48:07</td>\n",
              "      <td>7900</td>\n",
              "      <td>sedan</td>\n",
              "      <td>2010</td>\n",
              "      <td>manual</td>\n",
              "      <td>140</td>\n",
              "      <td>golf</td>\n",
              "      <td>150000</td>\n",
              "      <td>7</td>\n",
              "      <td>gasoline</td>\n",
              "      <td>volkswagen</td>\n",
              "      <td>no</td>\n",
              "      <td>2016-03-28</td>\n",
              "      <td>75223</td>\n",
              "      <td>2016-04-02 18:16:20</td>\n",
              "    </tr>\n",
              "    <tr>\n",
              "      <th>244269</th>\n",
              "      <td>2016-03-19 19:53:49</td>\n",
              "      <td>3200</td>\n",
              "      <td>sedan</td>\n",
              "      <td>2004</td>\n",
              "      <td>manual</td>\n",
              "      <td>225</td>\n",
              "      <td>leon</td>\n",
              "      <td>150000</td>\n",
              "      <td>5</td>\n",
              "      <td>petrol</td>\n",
              "      <td>seat</td>\n",
              "      <td>yes</td>\n",
              "      <td>2016-03-19</td>\n",
              "      <td>96465</td>\n",
              "      <td>2016-03-19 20:44:43</td>\n",
              "    </tr>\n",
              "    <tr>\n",
              "      <th>244270</th>\n",
              "      <td>2016-03-05 19:56:21</td>\n",
              "      <td>1199</td>\n",
              "      <td>convertible</td>\n",
              "      <td>2000</td>\n",
              "      <td>auto</td>\n",
              "      <td>101</td>\n",
              "      <td>fortwo</td>\n",
              "      <td>125000</td>\n",
              "      <td>3</td>\n",
              "      <td>petrol</td>\n",
              "      <td>smart</td>\n",
              "      <td>no</td>\n",
              "      <td>2016-03-05</td>\n",
              "      <td>26135</td>\n",
              "      <td>2016-03-11 18:17:12</td>\n",
              "    </tr>\n",
              "    <tr>\n",
              "      <th>244271</th>\n",
              "      <td>2016-03-19 18:57:12</td>\n",
              "      <td>9200</td>\n",
              "      <td>bus</td>\n",
              "      <td>1996</td>\n",
              "      <td>manual</td>\n",
              "      <td>102</td>\n",
              "      <td>transporter</td>\n",
              "      <td>150000</td>\n",
              "      <td>3</td>\n",
              "      <td>gasoline</td>\n",
              "      <td>volkswagen</td>\n",
              "      <td>no</td>\n",
              "      <td>2016-03-19</td>\n",
              "      <td>87439</td>\n",
              "      <td>2016-04-07 07:15:26</td>\n",
              "    </tr>\n",
              "    <tr>\n",
              "      <th>244272</th>\n",
              "      <td>2016-03-20 19:41:08</td>\n",
              "      <td>3400</td>\n",
              "      <td>wagon</td>\n",
              "      <td>2002</td>\n",
              "      <td>manual</td>\n",
              "      <td>100</td>\n",
              "      <td>golf</td>\n",
              "      <td>150000</td>\n",
              "      <td>6</td>\n",
              "      <td>gasoline</td>\n",
              "      <td>volkswagen</td>\n",
              "      <td>other</td>\n",
              "      <td>2016-03-20</td>\n",
              "      <td>40764</td>\n",
              "      <td>2016-03-24 12:45:21</td>\n",
              "    </tr>\n",
              "  </tbody>\n",
              "</table>\n",
              "<p>244273 rows × 15 columns</p>\n",
              "</div>"
            ],
            "text/plain": [
              "              date_crawled  price vehicle_type  registration_year grearbox  \\\n",
              "0      2016-03-14 12:52:21   9800          suv               2004     auto   \n",
              "1      2016-03-17 16:54:04   1500        small               2001   manual   \n",
              "2      2016-03-31 17:25:20   3600        small               2008   manual   \n",
              "3      2016-04-04 17:36:23    650        sedan               1995   manual   \n",
              "4      2016-04-01 20:48:51   2200  convertible               2004   manual   \n",
              "...                    ...    ...          ...                ...      ...   \n",
              "244268 2016-03-28 13:48:07   7900        sedan               2010   manual   \n",
              "244269 2016-03-19 19:53:49   3200        sedan               2004   manual   \n",
              "244270 2016-03-05 19:56:21   1199  convertible               2000     auto   \n",
              "244271 2016-03-19 18:57:12   9200          bus               1996   manual   \n",
              "244272 2016-03-20 19:41:08   3400        wagon               2002   manual   \n",
              "\n",
              "        power        model  kilometer  registration_month fuel_type  \\\n",
              "0         163        grand     125000                   8  gasoline   \n",
              "1          75         golf     150000                   6    petrol   \n",
              "2          69        fabia      90000                   7  gasoline   \n",
              "3         102          3er     150000                  10    petrol   \n",
              "4         109      2_reihe     150000                   8    petrol   \n",
              "...       ...          ...        ...                 ...       ...   \n",
              "244268    140         golf     150000                   7  gasoline   \n",
              "244269    225         leon     150000                   5    petrol   \n",
              "244270    101       fortwo     125000                   3    petrol   \n",
              "244271    102  transporter     150000                   3  gasoline   \n",
              "244272    100         golf     150000                   6  gasoline   \n",
              "\n",
              "             brand repaired date_created  postal_code           last_seen  \n",
              "0             jeep    other   2016-03-14        90480 2016-04-05 12:47:46  \n",
              "1       volkswagen       no   2016-03-17        91074 2016-03-17 17:40:17  \n",
              "2            skoda       no   2016-03-31        60437 2016-04-06 10:17:21  \n",
              "3              bmw      yes   2016-04-04        33775 2016-04-06 19:17:07  \n",
              "4          peugeot       no   2016-04-01        67112 2016-04-05 18:18:39  \n",
              "...            ...      ...          ...          ...                 ...  \n",
              "244268  volkswagen       no   2016-03-28        75223 2016-04-02 18:16:20  \n",
              "244269        seat      yes   2016-03-19        96465 2016-03-19 20:44:43  \n",
              "244270       smart       no   2016-03-05        26135 2016-03-11 18:17:12  \n",
              "244271  volkswagen       no   2016-03-19        87439 2016-04-07 07:15:26  \n",
              "244272  volkswagen    other   2016-03-20        40764 2016-03-24 12:45:21  \n",
              "\n",
              "[244273 rows x 15 columns]"
            ]
          },
          "execution_count": 22,
          "metadata": {},
          "output_type": "execute_result"
        }
      ],
      "source": [
        "df.reset_index(drop=True)"
      ]
    },
    {
      "cell_type": "code",
      "execution_count": null,
      "metadata": {
        "colab": {
          "base_uri": "https://localhost:8080/"
        },
        "id": "iVUFuhpUH0h4",
        "outputId": "82d7961a-e090-47fb-99f2-b240d3761e5e"
      },
      "outputs": [
        {
          "name": "stdout",
          "output_type": "stream",
          "text": [
            "<class 'pandas.core.frame.DataFrame'>\n",
            "RangeIndex: 244273 entries, 0 to 244272\n",
            "Data columns (total 15 columns):\n",
            " #   Column              Non-Null Count   Dtype         \n",
            "---  ------              --------------   -----         \n",
            " 0   date_crawled        244273 non-null  datetime64[ns]\n",
            " 1   price               244273 non-null  int64         \n",
            " 2   vehicle_type        244273 non-null  object        \n",
            " 3   registration_year   244273 non-null  int64         \n",
            " 4   grearbox            244273 non-null  object        \n",
            " 5   power               244273 non-null  int64         \n",
            " 6   model               244273 non-null  object        \n",
            " 7   kilometer           244273 non-null  int64         \n",
            " 8   registration_month  244273 non-null  int64         \n",
            " 9   fuel_type           244273 non-null  object        \n",
            " 10  brand               244273 non-null  object        \n",
            " 11  repaired            244273 non-null  object        \n",
            " 12  date_created        244273 non-null  datetime64[ns]\n",
            " 13  postal_code         244273 non-null  int64         \n",
            " 14  last_seen           244273 non-null  datetime64[ns]\n",
            "dtypes: datetime64[ns](3), int64(6), object(6)\n",
            "memory usage: 28.0+ MB\n"
          ]
        }
      ],
      "source": [
        "df.info()"
      ]
    },
    {
      "cell_type": "markdown",
      "metadata": {
        "id": "1ald3nFSH0h4"
      },
      "source": [
        "### Переведу столбы с категориальными признаками в численные: vehicle_type, model, fuel_type, brand, not_repaired. "
      ]
    },
    {
      "cell_type": "code",
      "execution_count": null,
      "metadata": {
        "colab": {
          "base_uri": "https://localhost:8080/"
        },
        "id": "ifI-KP7qH0h4",
        "outputId": "7f449a66-4163-4918-f3e0-54de55b61491"
      },
      "outputs": [
        {
          "name": "stdout",
          "output_type": "stream",
          "text": [
            "все ок, данные норм!\n"
          ]
        }
      ],
      "source": [
        "# Функция проверяет данные. Возвращает предобработанные данные для обучения.\n",
        "def get_preprocessed_data(df):\n",
        "    # проверяем данные\n",
        "    assert df.isna().sum().sum() == 0, \"Не должно быть пропущенных значений!\"\n",
        "    assert df.select_dtypes(exclude=[np.float64, np.int64, np.object, np.datetime64]).size == 0,\"Данные должны иметь только численный тип данных!\"\n",
        "    assert df.duplicated().sum().sum() == 0, \"В данных не должно быть дубликатов!\"\n",
        "    print('все ок, данные норм!')\n",
        "    #создаем копию оригинального датафрейма\n",
        "    preprocessed_data = df.copy()\n",
        "    return preprocessed_data\n",
        "df_new = get_preprocessed_data(df)"
      ]
    },
    {
      "cell_type": "code",
      "execution_count": null,
      "metadata": {
        "id": "b5NgIkuFCxpw"
      },
      "outputs": [],
      "source": [
        "df_model = df_new.copy()"
      ]
    },
    {
      "cell_type": "markdown",
      "metadata": {
        "id": "uBxJogTLH0h4"
      },
      "source": [
        "удалю столбцы, которые не нужны нам для обучения модели "
      ]
    },
    {
      "cell_type": "code",
      "execution_count": null,
      "metadata": {
        "colab": {
          "base_uri": "https://localhost:8080/",
          "height": 206
        },
        "id": "x2dBbDZuH0h5",
        "outputId": "ba55a255-aeb4-48c5-cb3d-4cf09859422d"
      },
      "outputs": [
        {
          "data": {
            "text/html": [
              "<div>\n",
              "<style scoped>\n",
              "    .dataframe tbody tr th:only-of-type {\n",
              "        vertical-align: middle;\n",
              "    }\n",
              "\n",
              "    .dataframe tbody tr th {\n",
              "        vertical-align: top;\n",
              "    }\n",
              "\n",
              "    .dataframe thead th {\n",
              "        text-align: right;\n",
              "    }\n",
              "</style>\n",
              "<table border=\"1\" class=\"dataframe\">\n",
              "  <thead>\n",
              "    <tr style=\"text-align: right;\">\n",
              "      <th></th>\n",
              "      <th>price</th>\n",
              "      <th>vehicle_type</th>\n",
              "      <th>registration_year</th>\n",
              "      <th>grearbox</th>\n",
              "      <th>power</th>\n",
              "      <th>model</th>\n",
              "      <th>kilometer</th>\n",
              "      <th>fuel_type</th>\n",
              "      <th>brand</th>\n",
              "      <th>repaired</th>\n",
              "    </tr>\n",
              "  </thead>\n",
              "  <tbody>\n",
              "    <tr>\n",
              "      <th>0</th>\n",
              "      <td>9800</td>\n",
              "      <td>suv</td>\n",
              "      <td>2004</td>\n",
              "      <td>auto</td>\n",
              "      <td>163</td>\n",
              "      <td>grand</td>\n",
              "      <td>125000</td>\n",
              "      <td>gasoline</td>\n",
              "      <td>jeep</td>\n",
              "      <td>other</td>\n",
              "    </tr>\n",
              "    <tr>\n",
              "      <th>1</th>\n",
              "      <td>1500</td>\n",
              "      <td>small</td>\n",
              "      <td>2001</td>\n",
              "      <td>manual</td>\n",
              "      <td>75</td>\n",
              "      <td>golf</td>\n",
              "      <td>150000</td>\n",
              "      <td>petrol</td>\n",
              "      <td>volkswagen</td>\n",
              "      <td>no</td>\n",
              "    </tr>\n",
              "    <tr>\n",
              "      <th>2</th>\n",
              "      <td>3600</td>\n",
              "      <td>small</td>\n",
              "      <td>2008</td>\n",
              "      <td>manual</td>\n",
              "      <td>69</td>\n",
              "      <td>fabia</td>\n",
              "      <td>90000</td>\n",
              "      <td>gasoline</td>\n",
              "      <td>skoda</td>\n",
              "      <td>no</td>\n",
              "    </tr>\n",
              "    <tr>\n",
              "      <th>3</th>\n",
              "      <td>650</td>\n",
              "      <td>sedan</td>\n",
              "      <td>1995</td>\n",
              "      <td>manual</td>\n",
              "      <td>102</td>\n",
              "      <td>3er</td>\n",
              "      <td>150000</td>\n",
              "      <td>petrol</td>\n",
              "      <td>bmw</td>\n",
              "      <td>yes</td>\n",
              "    </tr>\n",
              "    <tr>\n",
              "      <th>4</th>\n",
              "      <td>2200</td>\n",
              "      <td>convertible</td>\n",
              "      <td>2004</td>\n",
              "      <td>manual</td>\n",
              "      <td>109</td>\n",
              "      <td>2_reihe</td>\n",
              "      <td>150000</td>\n",
              "      <td>petrol</td>\n",
              "      <td>peugeot</td>\n",
              "      <td>no</td>\n",
              "    </tr>\n",
              "  </tbody>\n",
              "</table>\n",
              "</div>"
            ],
            "text/plain": [
              "   price vehicle_type  registration_year grearbox  power    model  kilometer  \\\n",
              "0   9800          suv               2004     auto    163    grand     125000   \n",
              "1   1500        small               2001   manual     75     golf     150000   \n",
              "2   3600        small               2008   manual     69    fabia      90000   \n",
              "3    650        sedan               1995   manual    102      3er     150000   \n",
              "4   2200  convertible               2004   manual    109  2_reihe     150000   \n",
              "\n",
              "  fuel_type       brand repaired  \n",
              "0  gasoline        jeep    other  \n",
              "1    petrol  volkswagen       no  \n",
              "2  gasoline       skoda       no  \n",
              "3    petrol         bmw      yes  \n",
              "4    petrol     peugeot       no  "
            ]
          },
          "execution_count": 26,
          "metadata": {},
          "output_type": "execute_result"
        }
      ],
      "source": [
        "df_model = df_model.drop(['date_crawled','date_created', 'postal_code', 'last_seen', 'registration_month'], axis=1)\n",
        "df_model.head()"
      ]
    },
    {
      "cell_type": "markdown",
      "metadata": {
        "id": "ZcsF1E5rH0h5"
      },
      "source": [
        "### Разделим  данные на нужные тестовую и обучающую выборку"
      ]
    },
    {
      "cell_type": "markdown",
      "metadata": {
        "id": "00AiAJiXH0h5"
      },
      "source": [
        "* Функция возвращает 1) целевой признак, 2) признаки без целевого\n",
        "* data - данные которые необходимо разделить\n",
        "* column - целевой признак"
      ]
    },
    {
      "cell_type": "code",
      "execution_count": null,
      "metadata": {
        "id": "RP6d7Vi7H0h5"
      },
      "outputs": [],
      "source": [
        "random_state =  12345"
      ]
    },
    {
      "cell_type": "code",
      "execution_count": null,
      "metadata": {
        "id": "0qYESLVpCxpz"
      },
      "outputs": [],
      "source": [
        "features = df_model.drop(['price'],axis=1)\n",
        "target = df_model['price']"
      ]
    },
    {
      "cell_type": "code",
      "execution_count": null,
      "metadata": {
        "id": "X0E99Pu-Cxpz",
        "outputId": "c2087c39-01e0-470a-dcd4-7ca8657fa785"
      },
      "outputs": [
        {
          "data": {
            "text/plain": [
              "Index(['vehicle_type', 'registration_year', 'grearbox', 'power', 'model',\n",
              "       'kilometer', 'fuel_type', 'brand', 'repaired'],\n",
              "      dtype='object')"
            ]
          },
          "execution_count": 29,
          "metadata": {},
          "output_type": "execute_result"
        }
      ],
      "source": [
        "features.columns"
      ]
    },
    {
      "cell_type": "code",
      "execution_count": null,
      "metadata": {
        "id": "6lXiX5KACxpz"
      },
      "outputs": [],
      "source": [
        "col = ['vehicle_type', 'registration_year', 'grearbox', 'power', 'model',\n",
        "       'kilometer', 'fuel_type', 'brand', 'repaired']"
      ]
    },
    {
      "cell_type": "code",
      "execution_count": null,
      "metadata": {
        "id": "up_EftH2Cxpz"
      },
      "outputs": [],
      "source": [
        "encoder = OrdinalEncoder()\n",
        "encoder.fit(features[col])\n",
        "features = features.copy()\n",
        "features[col]= pd.DataFrame(encoder.transform(features[col]), columns = features[col].columns)"
      ]
    },
    {
      "cell_type": "code",
      "execution_count": null,
      "metadata": {
        "id": "y_BZUd34Cxpz",
        "outputId": "703378d2-2f50-4d75-a6ad-c19f11ada767"
      },
      "outputs": [
        {
          "data": {
            "text/html": [
              "<div>\n",
              "<style scoped>\n",
              "    .dataframe tbody tr th:only-of-type {\n",
              "        vertical-align: middle;\n",
              "    }\n",
              "\n",
              "    .dataframe tbody tr th {\n",
              "        vertical-align: top;\n",
              "    }\n",
              "\n",
              "    .dataframe thead th {\n",
              "        text-align: right;\n",
              "    }\n",
              "</style>\n",
              "<table border=\"1\" class=\"dataframe\">\n",
              "  <thead>\n",
              "    <tr style=\"text-align: right;\">\n",
              "      <th></th>\n",
              "      <th>vehicle_type</th>\n",
              "      <th>registration_year</th>\n",
              "      <th>grearbox</th>\n",
              "      <th>power</th>\n",
              "      <th>model</th>\n",
              "      <th>kilometer</th>\n",
              "      <th>fuel_type</th>\n",
              "      <th>brand</th>\n",
              "      <th>repaired</th>\n",
              "    </tr>\n",
              "  </thead>\n",
              "  <tbody>\n",
              "    <tr>\n",
              "      <th>0</th>\n",
              "      <td>6.0</td>\n",
              "      <td>18.0</td>\n",
              "      <td>0.0</td>\n",
              "      <td>151.0</td>\n",
              "      <td>116.0</td>\n",
              "      <td>11.0</td>\n",
              "      <td>2.0</td>\n",
              "      <td>14.0</td>\n",
              "      <td>1.0</td>\n",
              "    </tr>\n",
              "    <tr>\n",
              "      <th>1</th>\n",
              "      <td>5.0</td>\n",
              "      <td>15.0</td>\n",
              "      <td>1.0</td>\n",
              "      <td>63.0</td>\n",
              "      <td>115.0</td>\n",
              "      <td>12.0</td>\n",
              "      <td>6.0</td>\n",
              "      <td>38.0</td>\n",
              "      <td>0.0</td>\n",
              "    </tr>\n",
              "    <tr>\n",
              "      <th>2</th>\n",
              "      <td>5.0</td>\n",
              "      <td>22.0</td>\n",
              "      <td>1.0</td>\n",
              "      <td>57.0</td>\n",
              "      <td>100.0</td>\n",
              "      <td>9.0</td>\n",
              "      <td>2.0</td>\n",
              "      <td>31.0</td>\n",
              "      <td>0.0</td>\n",
              "    </tr>\n",
              "  </tbody>\n",
              "</table>\n",
              "</div>"
            ],
            "text/plain": [
              "   vehicle_type  registration_year  grearbox  power  model  kilometer  \\\n",
              "0           6.0               18.0       0.0  151.0  116.0       11.0   \n",
              "1           5.0               15.0       1.0   63.0  115.0       12.0   \n",
              "2           5.0               22.0       1.0   57.0  100.0        9.0   \n",
              "\n",
              "   fuel_type  brand  repaired  \n",
              "0        2.0   14.0       1.0  \n",
              "1        6.0   38.0       0.0  \n",
              "2        2.0   31.0       0.0  "
            ]
          },
          "execution_count": 32,
          "metadata": {},
          "output_type": "execute_result"
        }
      ],
      "source": [
        "features.head(3)"
      ]
    },
    {
      "cell_type": "code",
      "execution_count": null,
      "metadata": {
        "id": "44F8F6KHH0h5"
      },
      "outputs": [],
      "source": [
        "def cross_val(target,features):\n",
        "    features_train, features_test, target_train, target_test = train_test_split(features, target,random_state=random_state,test_size=0.25)\n",
        "    return features_train, target_train, features_test, target_test"
      ]
    },
    {
      "cell_type": "code",
      "execution_count": null,
      "metadata": {
        "id": "3GSr6c60H0h5"
      },
      "outputs": [],
      "source": [
        "features_train_cross, target_train_cross, features_test_cross, target_test_cross = cross_val(target, features)"
      ]
    },
    {
      "cell_type": "markdown",
      "metadata": {
        "id": "mMZ-Az6zH0h6"
      },
      "source": [
        "### Стандартиризируем данные, где  features_train - признаки обучающей выборки, features_test - признаки тестовой выборки"
      ]
    },
    {
      "cell_type": "code",
      "execution_count": null,
      "metadata": {
        "id": "ddNyMdwGH0h6"
      },
      "outputs": [],
      "source": [
        "def crossValStandardScaling(features_train, features_test):\n",
        "    features_train_copy = features_train.copy()\n",
        "    features_test_copy = features_test.copy()\n",
        "    scaler = StandardScaler()\n",
        "    # численные столбцы \n",
        "    numeric = ['power','registration_year', 'kilometer']\n",
        "    # настраиваем на обучающей выборке\n",
        "    scaler.fit(features_train_copy.loc[:,numeric])\n",
        "    # преобразование выборки с помощью transform()\n",
        "    features_train_copy.loc[:,numeric] = scaler.transform(features_train_copy.loc[:,numeric])\n",
        "    features_test_copy.loc[:,numeric] = scaler.transform(features_test_copy.loc[:,numeric])\n",
        "    return features_train_copy, features_test_copy"
      ]
    },
    {
      "cell_type": "code",
      "execution_count": null,
      "metadata": {
        "id": "MtHtinOCH0h6"
      },
      "outputs": [],
      "source": [
        "features_train_cross, features_test_cross = crossValStandardScaling(features_train_cross, features_test_cross)"
      ]
    },
    {
      "cell_type": "markdown",
      "metadata": {
        "id": "o5JqU6lMH0h6"
      },
      "source": [
        "### По предварительной обработке было выявлено:\n",
        "* названия столбов были переименованы по стандарту snake_case\n",
        "* содержался столбец,который не нес важной информации, я его удалила\n",
        "* удалены явные дубликаты\n",
        "* price, kilometer, power содержали аномальные значения, которые я удалила \n",
        "* в столбцах содержатся пропуски: vehicle_type=37490, grearbox = 19833, model = 19705, fuel_type = 32895, repaired = 71154 были заменены \n",
        "* убрала из данных, на которых будут проводиться исследования столбы, которые не влиют на обучение\n",
        "* провелось кодирование\n",
        "* данные разделены с помощью кросс-валидации в отношении (75/25) на обучающую и тестовую выборку \n",
        "* масштабировала признаки с помощью стандартизации"
      ]
    },
    {
      "cell_type": "markdown",
      "metadata": {
        "id": "XAaycjhFH0h6"
      },
      "source": [
        "## Обучение моделей"
      ]
    },
    {
      "cell_type": "code",
      "execution_count": null,
      "metadata": {
        "id": "zmbOfHQIH0h6"
      },
      "outputs": [],
      "source": [
        "ml_models_stats = dict()"
      ]
    },
    {
      "cell_type": "code",
      "execution_count": null,
      "metadata": {
        "id": "gBUaXIRzH0h6"
      },
      "outputs": [],
      "source": [
        "def evaluate_model(model_name, model,training_time,features_test, target_test,features_train, target_train,parameters=None):\n",
        "    print(f'Оценка модели: {model_name}')\n",
        "    if parameters:\n",
        "        print(f'с параметрами: {parameters}')\n",
        "    predict_start = datetime.datetime.now()\n",
        "    predicted_test = model.predict(features_test)\n",
        "    predict_time = datetime.datetime.now() - predict_start\n",
        "    mse_test = mean_squared_error(target_test, predicted_test)\n",
        "    rmse_test = mse_test ** 0.5\n",
        "    predicted_train = model.predict(features_train)\n",
        "    mse_train = mean_squared_error(target_train, predicted_train)\n",
        "    rmse_train = mse_train ** 0.5\n",
        "    print(f'RMSE модели на обучающей выборке: {rmse_train}')\n",
        "    print(f'RMSE модели на тестовой выборке: {rmse_test}')\n",
        "    print(f'Время обучения модели: {training_time}')\n",
        "    print(f'Время предсказания модели: {predict_time}')\n",
        "    ml_models_stats[model_name] = {\n",
        "        'название': model_name,\n",
        "        'время_обучения': training_time,\n",
        "        'время_предсказания':predict_time,\n",
        "        'rmse_test':rmse_test,\n",
        "        'rmse_train':rmse_train }"
      ]
    },
    {
      "cell_type": "code",
      "execution_count": null,
      "metadata": {
        "id": "c1Ujhyi-H0h7"
      },
      "outputs": [],
      "source": [
        "def rmse(target,predictions):\n",
        "    mse = mean_squared_error(target, predictions)\n",
        "    return mse ** 0.5"
      ]
    },
    {
      "cell_type": "code",
      "execution_count": null,
      "metadata": {
        "id": "8QIgAtCZH0h7"
      },
      "outputs": [],
      "source": [
        "rmse_scorer = make_scorer(rmse, greater_is_better=False)"
      ]
    },
    {
      "cell_type": "markdown",
      "metadata": {
        "id": "54NdLnaHH0h7"
      },
      "source": [
        "### Дерево решений"
      ]
    },
    {
      "cell_type": "code",
      "execution_count": null,
      "metadata": {
        "colab": {
          "base_uri": "https://localhost:8080/"
        },
        "id": "F-p9AKaRH0h7",
        "outputId": "b08323df-7f82-4d04-d98e-ea6b668e9269"
      },
      "outputs": [
        {
          "name": "stdout",
          "output_type": "stream",
          "text": [
            "Оценка модели: Дерево решений\n",
            "с параметрами: {'min_samples_leaf': 8, 'max_depth': 10}\n",
            "RMSE модели на обучающей выборке: 1457.8266968653793\n",
            "RMSE модели на тестовой выборке: 1486.3326414124224\n",
            "Время обучения модели: 0:00:08.276294\n",
            "Время предсказания модели: 0:00:00.007043\n"
          ]
        }
      ],
      "source": [
        "start = datetime.datetime.now()\n",
        "decision_tree_model = DecisionTreeRegressor()\n",
        "decision_parameters = {\"max_depth\": range(1, 11),\"min_samples_leaf\": range(1, 11)}\n",
        "decision_grid =  RandomizedSearchCV(estimator=decision_tree_model, param_distributions=decision_parameters, cv=3,scoring=rmse_scorer, n_iter = 20, n_jobs=-1)\n",
        "decision_grid.fit(features_train_cross,target_train_cross)\n",
        "training_time = datetime.datetime.now() - start\n",
        "evaluate_model('Дерево решений', decision_grid,training_time,features_test_cross, target_test_cross,features_train_cross,target_train_cross,decision_grid.best_params_)"
      ]
    },
    {
      "cell_type": "code",
      "execution_count": null,
      "metadata": {
        "id": "g3Yppt_kCxp1",
        "outputId": "bb19d5d3-e866-4cc1-e3b2-10b8aef63a02"
      },
      "outputs": [
        {
          "name": "stdout",
          "output_type": "stream",
          "text": [
            "CPU times: user 7.37 s, sys: 22.1 ms, total: 7.4 s\n",
            "Wall time: 7.4 s\n"
          ]
        },
        {
          "data": {
            "text/plain": [
              "RandomizedSearchCV(cv=3, estimator=DecisionTreeRegressor(), n_iter=20,\n",
              "                   n_jobs=-1,\n",
              "                   param_distributions={'max_depth': range(1, 11),\n",
              "                                        'min_samples_leaf': range(1, 11)},\n",
              "                   scoring=make_scorer(rmse, greater_is_better=False))"
            ]
          },
          "execution_count": 42,
          "metadata": {},
          "output_type": "execute_result"
        }
      ],
      "source": [
        "%%time\n",
        "decision_grid.fit(features_train_cross,target_train_cross)"
      ]
    },
    {
      "cell_type": "markdown",
      "metadata": {
        "id": "ZYdz4YJsH0h7"
      },
      "source": [
        "### Рандомный лес"
      ]
    },
    {
      "cell_type": "code",
      "execution_count": null,
      "metadata": {
        "colab": {
          "base_uri": "https://localhost:8080/"
        },
        "id": "2ng6uXDqH0h7",
        "outputId": "3d1a5e07-7437-42a7-8ae1-d6f25c751ec6"
      },
      "outputs": [
        {
          "name": "stdout",
          "output_type": "stream",
          "text": [
            "Оценка модели: Рандомный лес\n",
            "с параметрами: {'n_estimators': 51, 'max_depth': 20}\n",
            "RMSE модели на обучающей выборке: 838.1879498143543\n",
            "RMSE модели на тестовой выборке: 1215.6862939104103\n",
            "Время обучения модели: 0:11:55.007719\n",
            "Время предсказания модели: 0:00:00.817754\n"
          ]
        }
      ],
      "source": [
        "start = datetime.datetime.now()\n",
        "random_forest_model = RandomForestRegressor()\n",
        "gs_params = {'max_depth': range(1, 30),'n_estimators':range(1,70,10)}\n",
        "forest_rs = RandomizedSearchCV(estimator=random_forest_model,param_distributions=gs_params,scoring=rmse_scorer,cv=5,n_iter = 20,n_jobs=-1)\n",
        "forest_rs.fit(features_train_cross,target_train_cross)\n",
        "training_time = datetime.datetime.now() - start\n",
        "evaluate_model('Рандомный лес', forest_rs,training_time,features_test_cross, target_test_cross,features_train_cross,target_train_cross,forest_rs.best_params_)"
      ]
    },
    {
      "cell_type": "markdown",
      "metadata": {
        "id": "YVNl6mLmH0h7"
      },
      "source": [
        "### LightGBM"
      ]
    },
    {
      "cell_type": "code",
      "execution_count": null,
      "metadata": {
        "colab": {
          "base_uri": "https://localhost:8080/"
        },
        "id": "5hmd8k8lH0h7",
        "outputId": "fff29d59-3fbd-4ed3-fc7a-b76285679c85"
      },
      "outputs": [
        {
          "name": "stdout",
          "output_type": "stream",
          "text": [
            "Оценка модели: LightGBM\n",
            "с параметрами: {'boosting_type': 'goss', 'max_depth': 30, 'num_leaves': 250, 'objective': 'regression'}\n",
            "RMSE модели на обучающей выборке: 1110.884506755396\n",
            "RMSE модели на тестовой выборке: 1186.3048436250533\n",
            "Время обучения модели: 0:23:16.140247\n",
            "Время предсказания модели: 0:00:00.812007\n"
          ]
        }
      ],
      "source": [
        "start = datetime.datetime.now()\n",
        "lgb_params = {\n",
        "    'objective': ['regression','binary'],\n",
        "    'boosting_type' : ['dart','gbdt','goss'],\n",
        "    'max_depth': [15,30],\n",
        "    'num_leaves': [10,200,250]}\n",
        "lgb_reg = lgb.LGBMRegressor()\n",
        "lgb_gs = GridSearchCV(lgb_reg, lgb_params,scoring=rmse_scorer,n_jobs=-1)\n",
        "lgb_gs.fit(features_train_cross,target_train_cross)\n",
        "training_time = datetime.datetime.now() - start\n",
        "evaluate_model('LightGBM', lgb_gs,training_time,features_test_cross, target_test_cross,features_train_cross,target_train_cross,lgb_gs.best_params_)"
      ]
    },
    {
      "cell_type": "markdown",
      "metadata": {
        "id": "hzMB8OXMH0h8"
      },
      "source": [
        "### XGBoost"
      ]
    },
    {
      "cell_type": "code",
      "execution_count": null,
      "metadata": {
        "colab": {
          "base_uri": "https://localhost:8080/"
        },
        "id": "LRxUc_gsH0h8",
        "outputId": "55555b96-2438-4686-c003-be58db6587bb"
      },
      "outputs": [
        {
          "name": "stdout",
          "output_type": "stream",
          "text": [
            "Оценка модели: XGBoost\n",
            "с параметрами: {'max_depth': 9, 'min_child_weight': 5}\n",
            "RMSE модели на обучающей выборке: 1028.8133844603642\n",
            "RMSE модели на тестовой выборке: 1187.2959792610766\n",
            "Время обучения модели: 0:31:07.577229\n",
            "Время предсказания модели: 0:00:00.309194\n"
          ]
        }
      ],
      "source": [
        "start = datetime.datetime.now()\n",
        "xgb_params = {\"max_depth\": range(3, 10,2), \"min_child_weight\": range(1,6,2)}\n",
        "xgb = xgb.XGBRegressor(nthread=-1) \n",
        "xgb_gs = GridSearchCV(xgb, xgb_params, scoring=rmse_scorer,n_jobs=-1)\n",
        "xgb_gs.fit(features_train_cross,target_train_cross)\n",
        "training_time = datetime.datetime.now() - start\n",
        "evaluate_model('XGBoost', xgb_gs,training_time,features_test_cross, target_test_cross,features_train_cross,target_train_cross,xgb_gs.best_params_)"
      ]
    },
    {
      "cell_type": "markdown",
      "metadata": {
        "id": "L2pDqGRYH0h8"
      },
      "source": [
        "### CatBoost"
      ]
    },
    {
      "cell_type": "code",
      "execution_count": null,
      "metadata": {
        "colab": {
          "base_uri": "https://localhost:8080/"
        },
        "id": "dALbvcicH0h8",
        "outputId": "8e09e07d-91b2-4006-ec1e-8c8581f8bf94"
      },
      "outputs": [
        {
          "name": "stdout",
          "output_type": "stream",
          "text": [
            "Оценка модели: CatBoost\n",
            "с параметрами: {'depth': 5, 'l2_leaf_reg': 3, 'learning_rate': 1}\n",
            "RMSE модели на обучающей выборке: 1087.565722845029\n",
            "RMSE модели на тестовой выборке: 1209.4122910060773\n",
            "Время обучения модели: 0:20:16.417620\n",
            "Время предсказания модели: 0:00:00.049648\n"
          ]
        }
      ],
      "source": [
        "start = datetime.datetime.now()\n",
        "catBoost_params = {\n",
        "    'learning_rate': [1],\n",
        "    'depth': [5, 6, 7, 8],\n",
        "    'l2_leaf_reg': [1, 2, 3]\n",
        "}\n",
        "catBoost_reg = CatBoostRegressor(loss_function='RMSE',random_state=random_state,silent=True,eval_metric=\"RMSE\")\n",
        "catBoost_gs = GridSearchCV(catBoost_reg, catBoost_params,scoring=rmse_scorer,n_jobs=-1)\n",
        "catBoost_gs.fit(features_train_cross,  target_train_cross)\n",
        "training_time = datetime.datetime.now() - start\n",
        "evaluate_model('CatBoost', catBoost_gs,training_time, features_test_cross, target_test_cross,features_train_cross,target_train_cross,catBoost_gs.best_params_)"
      ]
    },
    {
      "cell_type": "markdown",
      "metadata": {
        "id": "stevZl4bH0h8"
      },
      "source": [
        "### Проверка на адекватность Dummy"
      ]
    },
    {
      "cell_type": "code",
      "execution_count": null,
      "metadata": {
        "colab": {
          "base_uri": "https://localhost:8080/"
        },
        "id": "CI7-auzCH0h8",
        "outputId": "b61bc092-1163-41cf-e707-bca2b4fbdf2b"
      },
      "outputs": [
        {
          "name": "stdout",
          "output_type": "stream",
          "text": [
            "Оценка модели: Дамми модель\n",
            "RMSE модели на обучающей выборке: 3632.634206765539\n",
            "RMSE модели на тестовой выборке: 3620.195996420359\n",
            "Время обучения модели: 0:00:00.004095\n",
            "Время предсказания модели: 0:00:00.000353\n"
          ]
        }
      ],
      "source": [
        "start = datetime.datetime.now()\n",
        "dummy_model = DummyRegressor(strategy=\"constant\", constant=target_train_cross.median())\n",
        "dummy_model.fit(features_train_cross,target_train_cross)\n",
        "training_time = datetime.datetime.now() - start\n",
        "evaluate_model('Дамми модель', dummy_model, training_time, features_test_cross, target_test_cross,features_train_cross,target_train_cross)"
      ]
    },
    {
      "cell_type": "markdown",
      "metadata": {
        "id": "oxvoz1HyH0h8"
      },
      "source": [
        "## Анализ моделей"
      ]
    },
    {
      "cell_type": "code",
      "execution_count": null,
      "metadata": {
        "id": "pODNtrwFH0h8"
      },
      "outputs": [],
      "source": [
        "def drawPlot(df,x_axis, y_axis, x_label, y_label,plot_title, order_by=None):\n",
        "    plt.title(plot_title)\n",
        "    sns.barplot(x=x_axis,y=y_axis, data=df,order=df[order_by])\n",
        "    plt.xlabel(x_label)\n",
        "    plt.ylabel(y_label)\n",
        "    plt.show()"
      ]
    },
    {
      "cell_type": "code",
      "execution_count": null,
      "metadata": {
        "id": "VhoEcmPHH0h8",
        "outputId": "ed89fe03-feba-4521-9df6-a8664de72773"
      },
      "outputs": [
        {
          "data": {
            "text/html": [
              "<div>\n",
              "<style scoped>\n",
              "    .dataframe tbody tr th:only-of-type {\n",
              "        vertical-align: middle;\n",
              "    }\n",
              "\n",
              "    .dataframe tbody tr th {\n",
              "        vertical-align: top;\n",
              "    }\n",
              "\n",
              "    .dataframe thead th {\n",
              "        text-align: right;\n",
              "    }\n",
              "</style>\n",
              "<table border=\"1\" class=\"dataframe\">\n",
              "  <thead>\n",
              "    <tr style=\"text-align: right;\">\n",
              "      <th></th>\n",
              "      <th>название</th>\n",
              "      <th>время_обучения</th>\n",
              "      <th>время_предсказания</th>\n",
              "      <th>rmse_test</th>\n",
              "      <th>rmse_train</th>\n",
              "    </tr>\n",
              "  </thead>\n",
              "  <tbody>\n",
              "    <tr>\n",
              "      <th>0</th>\n",
              "      <td>Дерево решений</td>\n",
              "      <td>0 days 00:00:08.276294</td>\n",
              "      <td>0 days 00:00:00.007043</td>\n",
              "      <td>1486.332641</td>\n",
              "      <td>1457.826697</td>\n",
              "    </tr>\n",
              "    <tr>\n",
              "      <th>1</th>\n",
              "      <td>Рандомный лес</td>\n",
              "      <td>0 days 00:11:55.007719</td>\n",
              "      <td>0 days 00:00:00.817754</td>\n",
              "      <td>1215.686294</td>\n",
              "      <td>838.187950</td>\n",
              "    </tr>\n",
              "    <tr>\n",
              "      <th>2</th>\n",
              "      <td>LightGBM</td>\n",
              "      <td>0 days 00:23:16.140247</td>\n",
              "      <td>0 days 00:00:00.812007</td>\n",
              "      <td>1186.304844</td>\n",
              "      <td>1110.884507</td>\n",
              "    </tr>\n",
              "    <tr>\n",
              "      <th>3</th>\n",
              "      <td>XGBoost</td>\n",
              "      <td>0 days 00:31:07.577229</td>\n",
              "      <td>0 days 00:00:00.309194</td>\n",
              "      <td>1187.295979</td>\n",
              "      <td>1028.813384</td>\n",
              "    </tr>\n",
              "    <tr>\n",
              "      <th>4</th>\n",
              "      <td>CatBoost</td>\n",
              "      <td>0 days 00:20:16.417620</td>\n",
              "      <td>0 days 00:00:00.049648</td>\n",
              "      <td>1209.412291</td>\n",
              "      <td>1087.565723</td>\n",
              "    </tr>\n",
              "    <tr>\n",
              "      <th>5</th>\n",
              "      <td>Дамми модель</td>\n",
              "      <td>0 days 00:00:00.004095</td>\n",
              "      <td>0 days 00:00:00.000353</td>\n",
              "      <td>3620.195996</td>\n",
              "      <td>3632.634207</td>\n",
              "    </tr>\n",
              "  </tbody>\n",
              "</table>\n",
              "</div>"
            ],
            "text/plain": [
              "         название         время_обучения     время_предсказания    rmse_test  \\\n",
              "0  Дерево решений 0 days 00:00:08.276294 0 days 00:00:00.007043  1486.332641   \n",
              "1   Рандомный лес 0 days 00:11:55.007719 0 days 00:00:00.817754  1215.686294   \n",
              "2        LightGBM 0 days 00:23:16.140247 0 days 00:00:00.812007  1186.304844   \n",
              "3         XGBoost 0 days 00:31:07.577229 0 days 00:00:00.309194  1187.295979   \n",
              "4        CatBoost 0 days 00:20:16.417620 0 days 00:00:00.049648  1209.412291   \n",
              "5    Дамми модель 0 days 00:00:00.004095 0 days 00:00:00.000353  3620.195996   \n",
              "\n",
              "    rmse_train  \n",
              "0  1457.826697  \n",
              "1   838.187950  \n",
              "2  1110.884507  \n",
              "3  1028.813384  \n",
              "4  1087.565723  \n",
              "5  3632.634207  "
            ]
          },
          "execution_count": 59,
          "metadata": {},
          "output_type": "execute_result"
        }
      ],
      "source": [
        "ml_models = pd.DataFrame.from_dict(data=ml_models_stats, orient='index').reset_index(drop=True)\n",
        "ml_models"
      ]
    },
    {
      "cell_type": "code",
      "execution_count": null,
      "metadata": {
        "colab": {
          "base_uri": "https://localhost:8080/",
          "height": 206
        },
        "id": "kin_mL7iH0h8",
        "outputId": "4d484db9-4adf-4ca9-afad-b9504994ed28"
      },
      "outputs": [
        {
          "data": {
            "text/html": [
              "<div>\n",
              "<style scoped>\n",
              "    .dataframe tbody tr th:only-of-type {\n",
              "        vertical-align: middle;\n",
              "    }\n",
              "\n",
              "    .dataframe tbody tr th {\n",
              "        vertical-align: top;\n",
              "    }\n",
              "\n",
              "    .dataframe thead th {\n",
              "        text-align: right;\n",
              "    }\n",
              "</style>\n",
              "<table border=\"1\" class=\"dataframe\">\n",
              "  <thead>\n",
              "    <tr style=\"text-align: right;\">\n",
              "      <th></th>\n",
              "      <th>название</th>\n",
              "      <th>время_обучения</th>\n",
              "      <th>время_предсказания</th>\n",
              "      <th>rmse_test</th>\n",
              "      <th>rmse_train</th>\n",
              "    </tr>\n",
              "  </thead>\n",
              "  <tbody>\n",
              "    <tr>\n",
              "      <th>0</th>\n",
              "      <td>Дерево решений</td>\n",
              "      <td>0 days 00:00:08.276294</td>\n",
              "      <td>0 days 00:00:00.007043</td>\n",
              "      <td>1486.332641</td>\n",
              "      <td>1457.826697</td>\n",
              "    </tr>\n",
              "    <tr>\n",
              "      <th>1</th>\n",
              "      <td>Рандомный лес</td>\n",
              "      <td>0 days 00:11:55.007719</td>\n",
              "      <td>0 days 00:00:00.817754</td>\n",
              "      <td>1215.686294</td>\n",
              "      <td>838.187950</td>\n",
              "    </tr>\n",
              "    <tr>\n",
              "      <th>2</th>\n",
              "      <td>LightGBM</td>\n",
              "      <td>0 days 00:23:16.140247</td>\n",
              "      <td>0 days 00:00:00.812007</td>\n",
              "      <td>1186.304844</td>\n",
              "      <td>1110.884507</td>\n",
              "    </tr>\n",
              "    <tr>\n",
              "      <th>3</th>\n",
              "      <td>XGBoost</td>\n",
              "      <td>0 days 00:31:07.577229</td>\n",
              "      <td>0 days 00:00:00.309194</td>\n",
              "      <td>1187.295979</td>\n",
              "      <td>1028.813384</td>\n",
              "    </tr>\n",
              "    <tr>\n",
              "      <th>4</th>\n",
              "      <td>CatBoost</td>\n",
              "      <td>0 days 00:20:16.417620</td>\n",
              "      <td>0 days 00:00:00.049648</td>\n",
              "      <td>1209.412291</td>\n",
              "      <td>1087.565723</td>\n",
              "    </tr>\n",
              "  </tbody>\n",
              "</table>\n",
              "</div>"
            ],
            "text/plain": [
              "         название         время_обучения     время_предсказания    rmse_test  \\\n",
              "0  Дерево решений 0 days 00:00:08.276294 0 days 00:00:00.007043  1486.332641   \n",
              "1   Рандомный лес 0 days 00:11:55.007719 0 days 00:00:00.817754  1215.686294   \n",
              "2        LightGBM 0 days 00:23:16.140247 0 days 00:00:00.812007  1186.304844   \n",
              "3         XGBoost 0 days 00:31:07.577229 0 days 00:00:00.309194  1187.295979   \n",
              "4        CatBoost 0 days 00:20:16.417620 0 days 00:00:00.049648  1209.412291   \n",
              "\n",
              "    rmse_train  \n",
              "0  1457.826697  \n",
              "1   838.187950  \n",
              "2  1110.884507  \n",
              "3  1028.813384  \n",
              "4  1087.565723  "
            ]
          },
          "execution_count": 60,
          "metadata": {},
          "output_type": "execute_result"
        }
      ],
      "source": [
        "cool_models = ml_models.query(\"rmse_test < 2500\")\n",
        "cool_models"
      ]
    },
    {
      "cell_type": "code",
      "execution_count": null,
      "metadata": {
        "colab": {
          "base_uri": "https://localhost:8080/",
          "height": 484
        },
        "id": "GTbo40vmH0h9",
        "outputId": "659cc8a2-1ec4-4316-c722-82d89819b1a6"
      },
      "outputs": [
        {
          "data": {
            "text/html": [
              "<div>\n",
              "<style scoped>\n",
              "    .dataframe tbody tr th:only-of-type {\n",
              "        vertical-align: middle;\n",
              "    }\n",
              "\n",
              "    .dataframe tbody tr th {\n",
              "        vertical-align: top;\n",
              "    }\n",
              "\n",
              "    .dataframe thead th {\n",
              "        text-align: right;\n",
              "    }\n",
              "</style>\n",
              "<table border=\"1\" class=\"dataframe\">\n",
              "  <thead>\n",
              "    <tr style=\"text-align: right;\">\n",
              "      <th></th>\n",
              "      <th>название</th>\n",
              "      <th>rmse_test</th>\n",
              "    </tr>\n",
              "  </thead>\n",
              "  <tbody>\n",
              "    <tr>\n",
              "      <th>0</th>\n",
              "      <td>LightGBM</td>\n",
              "      <td>1186.304844</td>\n",
              "    </tr>\n",
              "    <tr>\n",
              "      <th>1</th>\n",
              "      <td>XGBoost</td>\n",
              "      <td>1187.295979</td>\n",
              "    </tr>\n",
              "    <tr>\n",
              "      <th>2</th>\n",
              "      <td>CatBoost</td>\n",
              "      <td>1209.412291</td>\n",
              "    </tr>\n",
              "    <tr>\n",
              "      <th>3</th>\n",
              "      <td>Рандомный лес</td>\n",
              "      <td>1215.686294</td>\n",
              "    </tr>\n",
              "    <tr>\n",
              "      <th>4</th>\n",
              "      <td>Дерево решений</td>\n",
              "      <td>1486.332641</td>\n",
              "    </tr>\n",
              "  </tbody>\n",
              "</table>\n",
              "</div>"
            ],
            "text/plain": [
              "         название    rmse_test\n",
              "0        LightGBM  1186.304844\n",
              "1         XGBoost  1187.295979\n",
              "2        CatBoost  1209.412291\n",
              "3   Рандомный лес  1215.686294\n",
              "4  Дерево решений  1486.332641"
            ]
          },
          "metadata": {},
          "output_type": "display_data"
        },
        {
          "data": {
            "image/png": "[encoded data removed]",
            "text/plain": [
              "<Figure size 432x288 with 1 Axes>"
            ]
          },
          "metadata": {
            "needs_background": "light"
          },
          "output_type": "display_data"
        }
      ],
      "source": [
        "rmse_test_sorted = cool_models.sort_values(by='rmse_test',ascending=True).reset_index()\n",
        "display(rmse_test_sorted[['название','rmse_test']])\n",
        "drawPlot(rmse_test_sorted, 'название','rmse_test','Модели','RMSE','RMSE моделей на тестовой выборке','название' )"
      ]
    },
    {
      "cell_type": "code",
      "execution_count": null,
      "metadata": {
        "colab": {
          "base_uri": "https://localhost:8080/",
          "height": 81
        },
        "id": "TSgbKh8gH0h9",
        "outputId": "363e9598-17fd-48f3-bc93-7e8557f1025c"
      },
      "outputs": [
        {
          "data": {
            "text/html": [
              "<div>\n",
              "<style scoped>\n",
              "    .dataframe tbody tr th:only-of-type {\n",
              "        vertical-align: middle;\n",
              "    }\n",
              "\n",
              "    .dataframe tbody tr th {\n",
              "        vertical-align: top;\n",
              "    }\n",
              "\n",
              "    .dataframe thead th {\n",
              "        text-align: right;\n",
              "    }\n",
              "</style>\n",
              "<table border=\"1\" class=\"dataframe\">\n",
              "  <thead>\n",
              "    <tr style=\"text-align: right;\">\n",
              "      <th></th>\n",
              "      <th>название</th>\n",
              "      <th>время_обучения</th>\n",
              "      <th>время_предсказания</th>\n",
              "      <th>rmse_test</th>\n",
              "      <th>rmse_train</th>\n",
              "    </tr>\n",
              "  </thead>\n",
              "  <tbody>\n",
              "    <tr>\n",
              "      <th>2</th>\n",
              "      <td>LightGBM</td>\n",
              "      <td>0 days 00:23:16.140247</td>\n",
              "      <td>0 days 00:00:00.812007</td>\n",
              "      <td>1186.304844</td>\n",
              "      <td>1110.884507</td>\n",
              "    </tr>\n",
              "  </tbody>\n",
              "</table>\n",
              "</div>"
            ],
            "text/plain": [
              "   название         время_обучения     время_предсказания    rmse_test  \\\n",
              "2  LightGBM 0 days 00:23:16.140247 0 days 00:00:00.812007  1186.304844   \n",
              "\n",
              "    rmse_train  \n",
              "2  1110.884507  "
            ]
          },
          "execution_count": 52,
          "metadata": {},
          "output_type": "execute_result"
        }
      ],
      "source": [
        "cool_models.query('название == \"LightGBM\"')"
      ]
    },
    {
      "cell_type": "markdown",
      "metadata": {
        "id": "SiCSDXFQH0h9"
      },
      "source": [
        "### Вывод по работе"
      ]
    },
    {
      "cell_type": "markdown",
      "metadata": {
        "id": "9G1_TsY1NtaL"
      },
      "source": [
        "По предварительной обработке было выявлено:\n",
        "    \n",
        "    \n",
        "* названия столбов были переименованы по стандарту snake_case\n",
        "* содержался столбец,который не нес важной информации, я его удалила\n",
        "* удалены явные дубликаты\n",
        "* price, kilometer, power содержали аномальные значения, которые я удалила \n",
        "* в столбцах содержатся пропуски: vehicle_type=37490, grearbox = 19833, model = 19705, fuel_type = 32895, repaired = 71154 были заменены \n",
        "* убрала из данных, на которых будут проводиться исследования столбы, которые не влиют на обучение\n",
        "* провелось кодирование\n",
        "* данные разделены с помощью кросс-валидации в отношении (75/25) на обучающую и тестовую выборку \n",
        "* масштабировала признаки с помощью стандартизации\n",
        "\n",
        "Итоги моделей машинного обучения:\n",
        "\n",
        "* были подобраны параметры с помощью GridSearchCV\n",
        "* линейная регрессия, дерево решений, рандомный лес, XGBoost, LightGBM, CatBoost использовались в проекте \n",
        "\n",
        "\n",
        "Провели анализ скорости и точности моделей:\n",
        "\n",
        "* была проведена проверка с помощью Dummy, все модели прошли тест.\n",
        "* основываясь на том, что RMSE должно быть меньше 2500, была выбраналучшую модель - LightGBM."
      ]
    }
  ],
  "metadata": {
    "ExecuteTimeLog": [
      {
        "duration": 1731,
        "start_time": "2023-01-02T12:37:34.473Z"
      },
      {
        "duration": 1235,
        "start_time": "2023-01-02T12:37:55.612Z"
      },
      {
        "duration": 1630,
        "start_time": "2023-01-08T16:01:52.263Z"
      },
      {
        "duration": 3051,
        "start_time": "2023-01-08T16:01:53.895Z"
      },
      {
        "duration": 153,
        "start_time": "2023-01-08T16:02:59.419Z"
      },
      {
        "duration": 149,
        "start_time": "2023-01-08T16:03:29.608Z"
      },
      {
        "duration": 129,
        "start_time": "2023-01-08T16:03:36.513Z"
      },
      {
        "duration": 139,
        "start_time": "2023-01-08T16:10:11.622Z"
      },
      {
        "duration": 124,
        "start_time": "2023-01-08T16:13:19.944Z"
      },
      {
        "duration": 298,
        "start_time": "2023-01-08T16:20:12.979Z"
      },
      {
        "duration": 204,
        "start_time": "2023-01-08T16:20:23.458Z"
      },
      {
        "duration": 4,
        "start_time": "2023-01-08T16:22:35.318Z"
      },
      {
        "duration": 1729,
        "start_time": "2023-01-08T16:22:36.023Z"
      },
      {
        "duration": 132,
        "start_time": "2023-01-08T16:22:37.754Z"
      },
      {
        "duration": 23,
        "start_time": "2023-01-08T16:32:05.139Z"
      },
      {
        "duration": 22,
        "start_time": "2023-01-08T16:32:09.976Z"
      },
      {
        "duration": 24,
        "start_time": "2023-01-08T16:36:52.081Z"
      },
      {
        "duration": 111,
        "start_time": "2023-01-08T16:36:58.199Z"
      },
      {
        "duration": 1473,
        "start_time": "2023-01-08T17:05:42.280Z"
      },
      {
        "duration": 886,
        "start_time": "2023-01-08T17:05:43.755Z"
      },
      {
        "duration": 138,
        "start_time": "2023-01-08T17:05:44.643Z"
      },
      {
        "duration": 136,
        "start_time": "2023-01-08T17:05:50.222Z"
      },
      {
        "duration": 377,
        "start_time": "2023-01-08T17:05:51.338Z"
      },
      {
        "duration": 32,
        "start_time": "2023-01-08T17:06:09.654Z"
      },
      {
        "duration": 74,
        "start_time": "2023-01-08T17:06:23.733Z"
      },
      {
        "duration": 60,
        "start_time": "2023-01-08T17:06:24.411Z"
      },
      {
        "duration": 65,
        "start_time": "2023-01-08T17:06:31.792Z"
      },
      {
        "duration": 104,
        "start_time": "2023-01-08T17:06:32.509Z"
      },
      {
        "duration": 90,
        "start_time": "2023-01-08T17:06:33.163Z"
      },
      {
        "duration": 36551,
        "start_time": "2023-01-08T17:06:33.784Z"
      },
      {
        "duration": 215,
        "start_time": "2023-01-08T17:07:53.703Z"
      },
      {
        "duration": 118,
        "start_time": "2023-01-08T17:08:09.028Z"
      },
      {
        "duration": 11,
        "start_time": "2023-01-08T17:08:45.945Z"
      },
      {
        "duration": 14,
        "start_time": "2023-01-08T17:08:51.046Z"
      },
      {
        "duration": 29,
        "start_time": "2023-01-08T17:08:56.217Z"
      },
      {
        "duration": 37134,
        "start_time": "2023-01-08T17:10:23.828Z"
      },
      {
        "duration": 2416,
        "start_time": "2023-01-08T17:11:23.766Z"
      },
      {
        "duration": 9,
        "start_time": "2023-01-08T17:11:44.224Z"
      },
      {
        "duration": 2337,
        "start_time": "2023-01-08T17:14:50.516Z"
      },
      {
        "duration": 1534,
        "start_time": "2023-01-08T17:16:28.077Z"
      },
      {
        "duration": 960,
        "start_time": "2023-01-08T17:16:43.614Z"
      },
      {
        "duration": 162,
        "start_time": "2023-01-08T17:16:44.576Z"
      },
      {
        "duration": 411,
        "start_time": "2023-01-08T17:16:51.600Z"
      },
      {
        "duration": 25,
        "start_time": "2023-01-08T17:17:06.097Z"
      },
      {
        "duration": 64,
        "start_time": "2023-01-08T17:17:12.064Z"
      },
      {
        "duration": 117,
        "start_time": "2023-01-08T17:17:19.500Z"
      },
      {
        "duration": 101,
        "start_time": "2023-01-08T17:17:20.216Z"
      },
      {
        "duration": 119,
        "start_time": "2023-01-08T17:17:21.431Z"
      },
      {
        "duration": 11,
        "start_time": "2023-01-08T17:17:28.141Z"
      },
      {
        "duration": 2605,
        "start_time": "2023-01-08T17:17:45.901Z"
      },
      {
        "duration": 2275,
        "start_time": "2023-01-08T17:22:05.709Z"
      },
      {
        "duration": 586,
        "start_time": "2023-01-08T17:22:48.560Z"
      },
      {
        "duration": 26,
        "start_time": "2023-01-08T17:24:06.552Z"
      },
      {
        "duration": 1955,
        "start_time": "2023-01-08T17:25:21.682Z"
      },
      {
        "duration": 14,
        "start_time": "2023-01-08T17:26:07.619Z"
      },
      {
        "duration": 699,
        "start_time": "2023-01-08T17:29:39.284Z"
      },
      {
        "duration": 86,
        "start_time": "2023-01-08T17:35:41.727Z"
      },
      {
        "duration": 466,
        "start_time": "2023-01-08T17:35:56.621Z"
      },
      {
        "duration": 476,
        "start_time": "2023-01-08T17:36:15.913Z"
      },
      {
        "duration": 482,
        "start_time": "2023-01-08T17:36:22.250Z"
      },
      {
        "duration": 513,
        "start_time": "2023-01-08T17:36:41.889Z"
      },
      {
        "duration": 12,
        "start_time": "2023-01-08T17:39:08.087Z"
      },
      {
        "duration": 437,
        "start_time": "2023-01-08T17:41:19.318Z"
      },
      {
        "duration": 359,
        "start_time": "2023-01-08T17:41:30.394Z"
      },
      {
        "duration": 309,
        "start_time": "2023-01-08T17:41:40.845Z"
      },
      {
        "duration": 271,
        "start_time": "2023-01-08T17:41:55.085Z"
      },
      {
        "duration": 250,
        "start_time": "2023-01-08T17:42:07.856Z"
      },
      {
        "duration": 250,
        "start_time": "2023-01-08T17:42:16.780Z"
      },
      {
        "duration": 256,
        "start_time": "2023-01-08T17:42:23.761Z"
      },
      {
        "duration": 262,
        "start_time": "2023-01-08T17:42:30.312Z"
      },
      {
        "duration": 361,
        "start_time": "2023-01-08T17:42:35.194Z"
      },
      {
        "duration": 250,
        "start_time": "2023-01-08T17:42:40.267Z"
      },
      {
        "duration": 268,
        "start_time": "2023-01-08T17:42:48.041Z"
      },
      {
        "duration": 249,
        "start_time": "2023-01-08T17:42:53.610Z"
      },
      {
        "duration": 92,
        "start_time": "2023-01-08T17:46:20.902Z"
      },
      {
        "duration": 1775,
        "start_time": "2023-01-10T13:44:59.931Z"
      },
      {
        "duration": 3029,
        "start_time": "2023-01-10T13:45:01.709Z"
      },
      {
        "duration": 172,
        "start_time": "2023-01-10T13:45:04.740Z"
      },
      {
        "duration": 390,
        "start_time": "2023-01-10T13:45:04.915Z"
      },
      {
        "duration": 72,
        "start_time": "2023-01-10T13:45:05.307Z"
      },
      {
        "duration": 99,
        "start_time": "2023-01-10T13:45:05.898Z"
      },
      {
        "duration": 115,
        "start_time": "2023-01-10T13:45:08.823Z"
      },
      {
        "duration": 628,
        "start_time": "2023-01-10T13:45:13.767Z"
      },
      {
        "duration": 1625,
        "start_time": "2023-01-10T13:45:14.657Z"
      },
      {
        "duration": 11,
        "start_time": "2023-01-10T13:45:25.503Z"
      },
      {
        "duration": 498,
        "start_time": "2023-01-10T13:45:34.914Z"
      },
      {
        "duration": 10,
        "start_time": "2023-01-10T13:46:37.247Z"
      },
      {
        "duration": 265,
        "start_time": "2023-01-10T13:46:38.025Z"
      },
      {
        "duration": 109,
        "start_time": "2023-01-10T13:47:46.121Z"
      },
      {
        "duration": 5,
        "start_time": "2023-01-10T13:47:53.273Z"
      },
      {
        "duration": 6,
        "start_time": "2023-01-10T13:48:05.654Z"
      },
      {
        "duration": 5,
        "start_time": "2023-01-10T13:48:08.526Z"
      },
      {
        "duration": 12,
        "start_time": "2023-01-10T13:48:26.149Z"
      },
      {
        "duration": 13,
        "start_time": "2023-01-10T13:49:06.864Z"
      },
      {
        "duration": 25,
        "start_time": "2023-01-10T13:49:25.505Z"
      },
      {
        "duration": 15,
        "start_time": "2023-01-10T13:50:41.988Z"
      },
      {
        "duration": 18,
        "start_time": "2023-01-10T13:50:49.785Z"
      },
      {
        "duration": 14,
        "start_time": "2023-01-10T13:50:58.450Z"
      },
      {
        "duration": 13,
        "start_time": "2023-01-10T13:51:17.157Z"
      },
      {
        "duration": 18,
        "start_time": "2023-01-10T13:51:45.257Z"
      },
      {
        "duration": 26,
        "start_time": "2023-01-10T13:52:02.333Z"
      },
      {
        "duration": 1238,
        "start_time": "2023-01-10T13:52:30.963Z"
      },
      {
        "duration": 1401,
        "start_time": "2023-01-10T13:52:49.618Z"
      },
      {
        "duration": 806,
        "start_time": "2023-01-10T13:52:51.021Z"
      },
      {
        "duration": 112,
        "start_time": "2023-01-10T13:52:51.828Z"
      },
      {
        "duration": 305,
        "start_time": "2023-01-10T13:52:51.943Z"
      },
      {
        "duration": 69,
        "start_time": "2023-01-10T13:52:52.249Z"
      },
      {
        "duration": 107,
        "start_time": "2023-01-10T13:52:52.320Z"
      },
      {
        "duration": 80,
        "start_time": "2023-01-10T13:52:52.428Z"
      },
      {
        "duration": 620,
        "start_time": "2023-01-10T13:52:52.509Z"
      },
      {
        "duration": 1678,
        "start_time": "2023-01-10T13:52:53.131Z"
      },
      {
        "duration": 12,
        "start_time": "2023-01-10T13:52:54.811Z"
      },
      {
        "duration": 31,
        "start_time": "2023-01-10T13:53:48.017Z"
      },
      {
        "duration": 332,
        "start_time": "2023-01-10T13:58:47.810Z"
      },
      {
        "duration": 15,
        "start_time": "2023-01-10T13:58:53.328Z"
      },
      {
        "duration": 117,
        "start_time": "2023-01-10T13:58:57.044Z"
      },
      {
        "duration": 18,
        "start_time": "2023-01-10T14:00:04.621Z"
      },
      {
        "duration": 16,
        "start_time": "2023-01-10T14:00:11.504Z"
      },
      {
        "duration": 14,
        "start_time": "2023-01-10T14:00:22.811Z"
      },
      {
        "duration": 22,
        "start_time": "2023-01-10T14:00:37.696Z"
      },
      {
        "duration": 15,
        "start_time": "2023-01-10T14:03:30.997Z"
      },
      {
        "duration": 27,
        "start_time": "2023-01-10T14:03:44.709Z"
      },
      {
        "duration": 26,
        "start_time": "2023-01-10T14:03:53.028Z"
      },
      {
        "duration": 1663,
        "start_time": "2023-01-10T14:24:43.817Z"
      },
      {
        "duration": 2902,
        "start_time": "2023-01-10T14:24:45.482Z"
      },
      {
        "duration": 118,
        "start_time": "2023-01-10T14:24:48.386Z"
      },
      {
        "duration": 347,
        "start_time": "2023-01-10T14:24:53.538Z"
      },
      {
        "duration": 60,
        "start_time": "2023-01-10T14:24:57.354Z"
      },
      {
        "duration": 103,
        "start_time": "2023-01-10T14:25:02.388Z"
      },
      {
        "duration": 83,
        "start_time": "2023-01-10T14:25:04.899Z"
      },
      {
        "duration": 104,
        "start_time": "2023-01-10T14:26:52.145Z"
      },
      {
        "duration": 5,
        "start_time": "2023-01-10T14:27:01.435Z"
      },
      {
        "duration": 409,
        "start_time": "2023-01-10T14:27:33.120Z"
      },
      {
        "duration": 10,
        "start_time": "2023-01-10T14:28:29.824Z"
      },
      {
        "duration": 11,
        "start_time": "2023-01-10T14:28:45.921Z"
      },
      {
        "duration": 59,
        "start_time": "2023-01-10T14:30:15.021Z"
      },
      {
        "duration": 72,
        "start_time": "2023-01-10T14:30:22.769Z"
      },
      {
        "duration": 463,
        "start_time": "2023-01-10T14:30:35.328Z"
      },
      {
        "duration": 489,
        "start_time": "2023-01-10T14:31:34.976Z"
      },
      {
        "duration": 2020,
        "start_time": "2023-01-10T14:33:54.242Z"
      },
      {
        "duration": 4,
        "start_time": "2023-01-10T14:34:19.849Z"
      },
      {
        "duration": 782,
        "start_time": "2023-01-10T14:34:20.078Z"
      },
      {
        "duration": 116,
        "start_time": "2023-01-10T14:34:20.862Z"
      },
      {
        "duration": 286,
        "start_time": "2023-01-10T14:34:21.192Z"
      },
      {
        "duration": 40,
        "start_time": "2023-01-10T14:34:22.707Z"
      },
      {
        "duration": 98,
        "start_time": "2023-01-10T14:34:23.512Z"
      },
      {
        "duration": 64,
        "start_time": "2023-01-10T14:34:24.155Z"
      },
      {
        "duration": 556,
        "start_time": "2023-01-10T14:34:24.951Z"
      },
      {
        "duration": 2016,
        "start_time": "2023-01-10T14:34:26.013Z"
      },
      {
        "duration": 1836,
        "start_time": "2023-01-10T14:34:45.529Z"
      },
      {
        "duration": 5,
        "start_time": "2023-01-10T14:39:02.919Z"
      },
      {
        "duration": 111,
        "start_time": "2023-01-10T14:40:46.291Z"
      },
      {
        "duration": 2184,
        "start_time": "2023-01-10T14:42:14.322Z"
      },
      {
        "duration": 2088,
        "start_time": "2023-01-10T14:43:11.268Z"
      },
      {
        "duration": 24,
        "start_time": "2023-01-10T14:43:13.358Z"
      },
      {
        "duration": 11,
        "start_time": "2023-01-10T14:43:26.998Z"
      },
      {
        "duration": 440,
        "start_time": "2023-01-10T14:43:30.322Z"
      },
      {
        "duration": 12,
        "start_time": "2023-01-10T14:43:52.393Z"
      },
      {
        "duration": 366,
        "start_time": "2023-01-10T14:43:57.951Z"
      },
      {
        "duration": 280,
        "start_time": "2023-01-10T14:44:07.339Z"
      },
      {
        "duration": 773,
        "start_time": "2023-01-10T14:45:18.994Z"
      },
      {
        "duration": 118,
        "start_time": "2023-01-10T14:45:19.769Z"
      },
      {
        "duration": 366,
        "start_time": "2023-01-10T14:45:20.024Z"
      },
      {
        "duration": 38,
        "start_time": "2023-01-10T14:45:24.864Z"
      },
      {
        "duration": 99,
        "start_time": "2023-01-10T14:45:24.904Z"
      },
      {
        "duration": 84,
        "start_time": "2023-01-10T14:45:25.005Z"
      },
      {
        "duration": 552,
        "start_time": "2023-01-10T14:45:25.092Z"
      },
      {
        "duration": 2132,
        "start_time": "2023-01-10T14:45:25.647Z"
      },
      {
        "duration": 12,
        "start_time": "2023-01-10T14:45:27.780Z"
      },
      {
        "duration": 525,
        "start_time": "2023-01-10T14:45:48.878Z"
      },
      {
        "duration": 11,
        "start_time": "2023-01-10T14:45:51.682Z"
      },
      {
        "duration": 281,
        "start_time": "2023-01-10T14:45:57.478Z"
      },
      {
        "duration": 281,
        "start_time": "2023-01-10T14:46:13.035Z"
      },
      {
        "duration": 302,
        "start_time": "2023-01-10T14:46:18.871Z"
      },
      {
        "duration": 12,
        "start_time": "2023-01-10T14:46:19.765Z"
      },
      {
        "duration": 406,
        "start_time": "2023-01-10T14:47:02.306Z"
      },
      {
        "duration": 386,
        "start_time": "2023-01-10T14:48:52.998Z"
      },
      {
        "duration": 1404,
        "start_time": "2023-01-10T14:49:40.669Z"
      },
      {
        "duration": 846,
        "start_time": "2023-01-10T14:49:42.075Z"
      },
      {
        "duration": 136,
        "start_time": "2023-01-10T14:49:42.924Z"
      },
      {
        "duration": 338,
        "start_time": "2023-01-10T14:49:43.063Z"
      },
      {
        "duration": 62,
        "start_time": "2023-01-10T14:49:43.403Z"
      },
      {
        "duration": 125,
        "start_time": "2023-01-10T14:49:43.466Z"
      },
      {
        "duration": 90,
        "start_time": "2023-01-10T14:49:43.593Z"
      },
      {
        "duration": 691,
        "start_time": "2023-01-10T14:49:43.685Z"
      },
      {
        "duration": 1942,
        "start_time": "2023-01-10T14:49:44.378Z"
      },
      {
        "duration": 11,
        "start_time": "2023-01-10T14:49:46.323Z"
      },
      {
        "duration": 445,
        "start_time": "2023-01-10T14:49:46.336Z"
      },
      {
        "duration": 11,
        "start_time": "2023-01-10T14:49:46.783Z"
      },
      {
        "duration": 383,
        "start_time": "2023-01-10T14:49:46.795Z"
      },
      {
        "duration": 10,
        "start_time": "2023-01-10T14:49:47.180Z"
      },
      {
        "duration": 398,
        "start_time": "2023-01-10T14:49:47.193Z"
      },
      {
        "duration": 12,
        "start_time": "2023-01-10T14:49:47.593Z"
      },
      {
        "duration": 103,
        "start_time": "2023-01-10T14:52:17.733Z"
      },
      {
        "duration": 118,
        "start_time": "2023-01-10T14:53:51.439Z"
      },
      {
        "duration": 81,
        "start_time": "2023-01-10T14:54:07.438Z"
      },
      {
        "duration": 119,
        "start_time": "2023-01-10T14:54:41.423Z"
      },
      {
        "duration": 116,
        "start_time": "2023-01-10T14:54:51.962Z"
      },
      {
        "duration": 126,
        "start_time": "2023-01-10T14:55:02.574Z"
      },
      {
        "duration": 124,
        "start_time": "2023-01-10T14:55:33.354Z"
      },
      {
        "duration": 130,
        "start_time": "2023-01-10T14:56:00.809Z"
      },
      {
        "duration": 86,
        "start_time": "2023-01-10T14:56:05.612Z"
      },
      {
        "duration": 126,
        "start_time": "2023-01-10T14:56:09.798Z"
      },
      {
        "duration": 1136,
        "start_time": "2023-01-10T14:57:09.170Z"
      },
      {
        "duration": 1411,
        "start_time": "2023-01-10T14:57:24.659Z"
      },
      {
        "duration": 833,
        "start_time": "2023-01-10T14:57:26.071Z"
      },
      {
        "duration": 125,
        "start_time": "2023-01-10T14:57:26.905Z"
      },
      {
        "duration": 352,
        "start_time": "2023-01-10T14:57:27.032Z"
      },
      {
        "duration": 58,
        "start_time": "2023-01-10T14:57:27.386Z"
      },
      {
        "duration": 112,
        "start_time": "2023-01-10T14:57:27.446Z"
      },
      {
        "duration": 74,
        "start_time": "2023-01-10T14:57:27.559Z"
      },
      {
        "duration": 574,
        "start_time": "2023-01-10T14:57:27.635Z"
      },
      {
        "duration": 1809,
        "start_time": "2023-01-10T14:57:28.211Z"
      },
      {
        "duration": 11,
        "start_time": "2023-01-10T14:57:30.022Z"
      },
      {
        "duration": 443,
        "start_time": "2023-01-10T14:57:30.034Z"
      },
      {
        "duration": 13,
        "start_time": "2023-01-10T14:57:30.479Z"
      },
      {
        "duration": 357,
        "start_time": "2023-01-10T14:57:30.494Z"
      },
      {
        "duration": 12,
        "start_time": "2023-01-10T14:57:30.852Z"
      },
      {
        "duration": 393,
        "start_time": "2023-01-10T14:57:30.878Z"
      },
      {
        "duration": 12,
        "start_time": "2023-01-10T14:57:31.277Z"
      },
      {
        "duration": 168,
        "start_time": "2023-01-10T14:57:31.291Z"
      },
      {
        "duration": 1378,
        "start_time": "2023-01-10T14:58:30.861Z"
      },
      {
        "duration": 815,
        "start_time": "2023-01-10T14:58:32.569Z"
      },
      {
        "duration": 102,
        "start_time": "2023-01-10T14:58:33.651Z"
      },
      {
        "duration": 356,
        "start_time": "2023-01-10T14:58:53.184Z"
      },
      {
        "duration": 59,
        "start_time": "2023-01-10T14:58:58.218Z"
      },
      {
        "duration": 100,
        "start_time": "2023-01-10T14:59:03.782Z"
      },
      {
        "duration": 72,
        "start_time": "2023-01-10T14:59:10.065Z"
      },
      {
        "duration": 156,
        "start_time": "2023-01-10T14:59:45.598Z"
      },
      {
        "duration": 1892,
        "start_time": "2023-01-10T14:59:56.530Z"
      },
      {
        "duration": 11,
        "start_time": "2023-01-10T15:00:11.567Z"
      },
      {
        "duration": 398,
        "start_time": "2023-01-10T15:00:17.400Z"
      },
      {
        "duration": 10,
        "start_time": "2023-01-10T15:00:24.369Z"
      },
      {
        "duration": 353,
        "start_time": "2023-01-10T15:00:27.452Z"
      },
      {
        "duration": 10,
        "start_time": "2023-01-10T15:00:36.164Z"
      },
      {
        "duration": 326,
        "start_time": "2023-01-10T15:00:37.508Z"
      },
      {
        "duration": 13,
        "start_time": "2023-01-10T15:00:54.186Z"
      },
      {
        "duration": 18,
        "start_time": "2023-01-10T15:01:49.587Z"
      },
      {
        "duration": 21,
        "start_time": "2023-01-10T15:01:58.804Z"
      },
      {
        "duration": 1300,
        "start_time": "2023-01-10T15:06:29.753Z"
      },
      {
        "duration": 1331,
        "start_time": "2023-01-10T15:06:45.026Z"
      },
      {
        "duration": 819,
        "start_time": "2023-01-10T15:06:57.876Z"
      },
      {
        "duration": 124,
        "start_time": "2023-01-10T15:06:59.773Z"
      },
      {
        "duration": 376,
        "start_time": "2023-01-10T15:09:15.974Z"
      },
      {
        "duration": 63,
        "start_time": "2023-01-10T15:11:56.880Z"
      },
      {
        "duration": 64,
        "start_time": "2023-01-10T15:11:58.400Z"
      },
      {
        "duration": 587,
        "start_time": "2023-01-10T15:12:01.261Z"
      },
      {
        "duration": 162,
        "start_time": "2023-01-10T15:12:04.280Z"
      },
      {
        "duration": 1898,
        "start_time": "2023-01-10T15:12:11.640Z"
      },
      {
        "duration": 14,
        "start_time": "2023-01-10T15:12:18.442Z"
      },
      {
        "duration": 422,
        "start_time": "2023-01-10T15:12:25.018Z"
      },
      {
        "duration": 11,
        "start_time": "2023-01-10T15:12:27.749Z"
      },
      {
        "duration": 330,
        "start_time": "2023-01-10T15:12:33.318Z"
      },
      {
        "duration": 11,
        "start_time": "2023-01-10T15:12:35.231Z"
      },
      {
        "duration": 375,
        "start_time": "2023-01-10T15:13:46.457Z"
      },
      {
        "duration": 15,
        "start_time": "2023-01-10T15:13:49.479Z"
      },
      {
        "duration": 22,
        "start_time": "2023-01-10T15:13:51.804Z"
      },
      {
        "duration": 138,
        "start_time": "2023-01-10T15:13:59.965Z"
      },
      {
        "duration": 1396,
        "start_time": "2023-01-10T15:14:49.878Z"
      },
      {
        "duration": 847,
        "start_time": "2023-01-10T15:14:51.276Z"
      },
      {
        "duration": 110,
        "start_time": "2023-01-10T15:14:52.125Z"
      },
      {
        "duration": 344,
        "start_time": "2023-01-10T15:14:52.237Z"
      },
      {
        "duration": 60,
        "start_time": "2023-01-10T15:14:52.583Z"
      },
      {
        "duration": 80,
        "start_time": "2023-01-10T15:14:52.645Z"
      },
      {
        "duration": 621,
        "start_time": "2023-01-10T15:14:52.727Z"
      },
      {
        "duration": 180,
        "start_time": "2023-01-10T15:14:53.350Z"
      },
      {
        "duration": 1962,
        "start_time": "2023-01-10T15:14:53.532Z"
      },
      {
        "duration": 10,
        "start_time": "2023-01-10T15:14:55.497Z"
      },
      {
        "duration": 474,
        "start_time": "2023-01-10T15:14:55.509Z"
      },
      {
        "duration": 10,
        "start_time": "2023-01-10T15:14:55.984Z"
      },
      {
        "duration": 343,
        "start_time": "2023-01-10T15:14:55.996Z"
      },
      {
        "duration": 12,
        "start_time": "2023-01-10T15:14:56.340Z"
      },
      {
        "duration": 361,
        "start_time": "2023-01-10T15:14:56.354Z"
      },
      {
        "duration": 13,
        "start_time": "2023-01-10T15:14:56.717Z"
      },
      {
        "duration": 17,
        "start_time": "2023-01-10T15:14:56.732Z"
      },
      {
        "duration": 49,
        "start_time": "2023-01-10T15:14:56.751Z"
      },
      {
        "duration": 22,
        "start_time": "2023-01-10T15:14:56.801Z"
      },
      {
        "duration": 54,
        "start_time": "2023-01-10T15:15:58.152Z"
      },
      {
        "duration": 116,
        "start_time": "2023-01-10T15:22:26.357Z"
      },
      {
        "duration": 1412,
        "start_time": "2023-01-10T15:22:41.362Z"
      },
      {
        "duration": 813,
        "start_time": "2023-01-10T15:22:42.778Z"
      },
      {
        "duration": 113,
        "start_time": "2023-01-10T15:22:43.593Z"
      },
      {
        "duration": 384,
        "start_time": "2023-01-10T15:22:43.708Z"
      },
      {
        "duration": 60,
        "start_time": "2023-01-10T15:22:44.094Z"
      },
      {
        "duration": 77,
        "start_time": "2023-01-10T15:22:44.156Z"
      },
      {
        "duration": 591,
        "start_time": "2023-01-10T15:22:44.235Z"
      },
      {
        "duration": 157,
        "start_time": "2023-01-10T15:22:44.828Z"
      },
      {
        "duration": 1941,
        "start_time": "2023-01-10T15:22:44.986Z"
      },
      {
        "duration": 12,
        "start_time": "2023-01-10T15:22:46.930Z"
      },
      {
        "duration": 489,
        "start_time": "2023-01-10T15:22:46.945Z"
      },
      {
        "duration": 13,
        "start_time": "2023-01-10T15:22:47.436Z"
      },
      {
        "duration": 379,
        "start_time": "2023-01-10T15:22:47.451Z"
      },
      {
        "duration": 12,
        "start_time": "2023-01-10T15:22:47.832Z"
      },
      {
        "duration": 411,
        "start_time": "2023-01-10T15:22:47.846Z"
      },
      {
        "duration": 27,
        "start_time": "2023-01-10T15:22:48.259Z"
      },
      {
        "duration": 22,
        "start_time": "2023-01-10T15:22:48.288Z"
      },
      {
        "duration": 73,
        "start_time": "2023-01-10T15:22:48.312Z"
      },
      {
        "duration": 4,
        "start_time": "2023-01-10T15:23:42.601Z"
      },
      {
        "duration": 1421,
        "start_time": "2023-01-10T15:50:55.344Z"
      },
      {
        "duration": 47,
        "start_time": "2023-01-10T15:51:04.819Z"
      },
      {
        "duration": 1430,
        "start_time": "2023-01-10T15:51:07.844Z"
      },
      {
        "duration": 820,
        "start_time": "2023-01-10T15:51:09.275Z"
      },
      {
        "duration": 110,
        "start_time": "2023-01-10T15:51:13.249Z"
      },
      {
        "duration": 296,
        "start_time": "2023-01-10T15:51:18.709Z"
      },
      {
        "duration": 1287,
        "start_time": "2023-01-10T15:51:21.153Z"
      },
      {
        "duration": 5,
        "start_time": "2023-01-10T15:51:48.811Z"
      },
      {
        "duration": 756,
        "start_time": "2023-01-10T15:51:51.756Z"
      },
      {
        "duration": 118,
        "start_time": "2023-01-10T15:51:54.725Z"
      },
      {
        "duration": 190,
        "start_time": "2023-01-10T15:51:58.773Z"
      },
      {
        "duration": 1290,
        "start_time": "2023-01-10T15:52:01.023Z"
      },
      {
        "duration": 1212,
        "start_time": "2023-01-10T15:52:11.841Z"
      },
      {
        "duration": 17,
        "start_time": "2023-01-10T15:52:37.355Z"
      },
      {
        "duration": 28,
        "start_time": "2023-01-10T15:52:43.471Z"
      },
      {
        "duration": 41,
        "start_time": "2023-01-10T15:56:26.127Z"
      },
      {
        "duration": 29,
        "start_time": "2023-01-10T15:56:54.258Z"
      },
      {
        "duration": 11,
        "start_time": "2023-01-10T15:57:15.769Z"
      },
      {
        "duration": 72,
        "start_time": "2023-01-10T15:57:43.181Z"
      },
      {
        "duration": 35,
        "start_time": "2023-01-10T15:57:50.903Z"
      },
      {
        "duration": 48,
        "start_time": "2023-01-10T15:58:52.682Z"
      },
      {
        "duration": 63,
        "start_time": "2023-01-10T15:59:10.277Z"
      },
      {
        "duration": 672,
        "start_time": "2023-01-10T15:59:11.220Z"
      },
      {
        "duration": 171,
        "start_time": "2023-01-10T15:59:14.555Z"
      },
      {
        "duration": 2118,
        "start_time": "2023-01-10T15:59:19.395Z"
      },
      {
        "duration": 11,
        "start_time": "2023-01-10T15:59:31.422Z"
      },
      {
        "duration": 443,
        "start_time": "2023-01-10T15:59:36.946Z"
      },
      {
        "duration": 10,
        "start_time": "2023-01-10T15:59:39.424Z"
      },
      {
        "duration": 325,
        "start_time": "2023-01-10T15:59:39.642Z"
      },
      {
        "duration": 11,
        "start_time": "2023-01-10T15:59:47.783Z"
      },
      {
        "duration": 438,
        "start_time": "2023-01-10T15:59:48.565Z"
      },
      {
        "duration": 14,
        "start_time": "2023-01-10T15:59:52.011Z"
      },
      {
        "duration": 17,
        "start_time": "2023-01-10T15:59:54.452Z"
      },
      {
        "duration": 31,
        "start_time": "2023-01-10T15:59:59.177Z"
      },
      {
        "duration": 1625,
        "start_time": "2023-01-12T12:28:20.311Z"
      },
      {
        "duration": 2220,
        "start_time": "2023-01-12T12:28:24.617Z"
      },
      {
        "duration": 1127,
        "start_time": "2023-01-12T12:28:29.242Z"
      },
      {
        "duration": 126,
        "start_time": "2023-01-12T12:28:33.342Z"
      },
      {
        "duration": 316,
        "start_time": "2023-01-12T12:28:38.052Z"
      },
      {
        "duration": 147,
        "start_time": "2023-01-12T12:28:42.018Z"
      },
      {
        "duration": 59,
        "start_time": "2023-01-12T12:28:56.412Z"
      },
      {
        "duration": 55,
        "start_time": "2023-01-12T12:29:00.340Z"
      },
      {
        "duration": 604,
        "start_time": "2023-01-12T12:29:03.368Z"
      },
      {
        "duration": 127,
        "start_time": "2023-01-12T12:29:04.738Z"
      },
      {
        "duration": 2005,
        "start_time": "2023-01-12T12:29:09.985Z"
      },
      {
        "duration": 14,
        "start_time": "2023-01-12T12:29:16.909Z"
      },
      {
        "duration": 411,
        "start_time": "2023-01-12T12:29:20.069Z"
      },
      {
        "duration": 11,
        "start_time": "2023-01-12T12:29:22.834Z"
      },
      {
        "duration": 360,
        "start_time": "2023-01-12T12:29:25.419Z"
      },
      {
        "duration": 13,
        "start_time": "2023-01-12T12:29:28.522Z"
      },
      {
        "duration": 389,
        "start_time": "2023-01-12T12:29:35.618Z"
      },
      {
        "duration": 18,
        "start_time": "2023-01-12T12:29:38.359Z"
      },
      {
        "duration": 24,
        "start_time": "2023-01-12T12:29:41.349Z"
      },
      {
        "duration": 31,
        "start_time": "2023-01-12T12:29:44.334Z"
      },
      {
        "duration": 135,
        "start_time": "2023-01-12T13:36:14.542Z"
      },
      {
        "duration": 10,
        "start_time": "2023-01-12T13:36:14.741Z"
      },
      {
        "duration": 432,
        "start_time": "2023-01-12T13:36:16.518Z"
      },
      {
        "duration": 11,
        "start_time": "2023-01-12T13:36:17.356Z"
      },
      {
        "duration": 343,
        "start_time": "2023-01-12T13:36:18.385Z"
      },
      {
        "duration": 13,
        "start_time": "2023-01-12T13:36:19.599Z"
      },
      {
        "duration": 426,
        "start_time": "2023-01-12T13:36:33.183Z"
      },
      {
        "duration": 823,
        "start_time": "2023-01-12T13:36:33.818Z"
      },
      {
        "duration": 5,
        "start_time": "2023-01-12T13:36:53.645Z"
      },
      {
        "duration": 2239,
        "start_time": "2023-01-12T13:36:54.385Z"
      },
      {
        "duration": 1107,
        "start_time": "2023-01-12T13:36:57.474Z"
      },
      {
        "duration": 136,
        "start_time": "2023-01-12T13:37:01.642Z"
      },
      {
        "duration": 267,
        "start_time": "2023-01-12T13:37:08.474Z"
      },
      {
        "duration": 144,
        "start_time": "2023-01-12T13:37:09.148Z"
      },
      {
        "duration": 55,
        "start_time": "2023-01-12T13:37:18.960Z"
      },
      {
        "duration": 58,
        "start_time": "2023-01-12T13:37:20.657Z"
      },
      {
        "duration": 649,
        "start_time": "2023-01-12T13:37:23.280Z"
      },
      {
        "duration": 144,
        "start_time": "2023-01-12T13:37:26.876Z"
      },
      {
        "duration": 2318,
        "start_time": "2023-01-12T13:37:32.526Z"
      },
      {
        "duration": 12,
        "start_time": "2023-01-12T13:37:39.561Z"
      },
      {
        "duration": 455,
        "start_time": "2023-01-12T13:37:41.398Z"
      },
      {
        "duration": 15,
        "start_time": "2023-01-12T13:37:57.621Z"
      },
      {
        "duration": 392,
        "start_time": "2023-01-12T13:37:58.350Z"
      },
      {
        "duration": 13,
        "start_time": "2023-01-12T13:37:59.661Z"
      },
      {
        "duration": 497,
        "start_time": "2023-01-12T13:38:00.715Z"
      },
      {
        "duration": 14,
        "start_time": "2023-01-12T13:38:04.055Z"
      },
      {
        "duration": 20,
        "start_time": "2023-01-12T13:38:07.925Z"
      },
      {
        "duration": 38,
        "start_time": "2023-01-12T13:38:10.383Z"
      },
      {
        "duration": 16,
        "start_time": "2023-01-12T13:39:15.108Z"
      },
      {
        "duration": 31,
        "start_time": "2023-01-12T13:39:24.654Z"
      },
      {
        "duration": 32,
        "start_time": "2023-01-12T13:39:37.526Z"
      },
      {
        "duration": 41,
        "start_time": "2023-01-12T13:40:36.405Z"
      },
      {
        "duration": 57,
        "start_time": "2023-01-12T13:41:10.402Z"
      },
      {
        "duration": 65,
        "start_time": "2023-01-12T13:41:15.832Z"
      },
      {
        "duration": 39,
        "start_time": "2023-01-12T13:41:45.637Z"
      },
      {
        "duration": 54,
        "start_time": "2023-01-12T13:42:17.372Z"
      },
      {
        "duration": 7,
        "start_time": "2023-01-12T13:44:21.277Z"
      },
      {
        "duration": 2617,
        "start_time": "2023-01-12T13:44:22.103Z"
      },
      {
        "duration": 848,
        "start_time": "2023-01-12T13:44:26.099Z"
      },
      {
        "duration": 2138,
        "start_time": "2023-01-12T13:44:40.667Z"
      },
      {
        "duration": 2334,
        "start_time": "2023-01-12T13:44:45.964Z"
      },
      {
        "duration": 1242,
        "start_time": "2023-01-12T13:44:48.301Z"
      },
      {
        "duration": 160,
        "start_time": "2023-01-12T13:44:49.544Z"
      },
      {
        "duration": 339,
        "start_time": "2023-01-12T13:44:51.139Z"
      },
      {
        "duration": 153,
        "start_time": "2023-01-12T13:44:52.013Z"
      },
      {
        "duration": 68,
        "start_time": "2023-01-12T13:44:54.352Z"
      },
      {
        "duration": 88,
        "start_time": "2023-01-12T13:44:59.268Z"
      },
      {
        "duration": 701,
        "start_time": "2023-01-12T13:45:02.250Z"
      },
      {
        "duration": 5,
        "start_time": "2023-01-12T13:45:36.034Z"
      },
      {
        "duration": 2455,
        "start_time": "2023-01-12T13:45:36.644Z"
      },
      {
        "duration": 1027,
        "start_time": "2023-01-12T13:45:39.103Z"
      },
      {
        "duration": 172,
        "start_time": "2023-01-12T13:45:40.132Z"
      },
      {
        "duration": 406,
        "start_time": "2023-01-12T13:46:14.616Z"
      },
      {
        "duration": 382,
        "start_time": "2023-01-12T13:46:39.261Z"
      },
      {
        "duration": 139,
        "start_time": "2023-01-12T13:52:32.701Z"
      },
      {
        "duration": 1413,
        "start_time": "2023-01-12T13:52:46.316Z"
      },
      {
        "duration": 4,
        "start_time": "2023-01-12T13:53:03.734Z"
      },
      {
        "duration": 2421,
        "start_time": "2023-01-12T13:53:03.934Z"
      },
      {
        "duration": 972,
        "start_time": "2023-01-12T13:53:06.358Z"
      },
      {
        "duration": 134,
        "start_time": "2023-01-12T13:53:07.332Z"
      },
      {
        "duration": 296,
        "start_time": "2023-01-12T13:53:09.246Z"
      },
      {
        "duration": 171,
        "start_time": "2023-01-12T13:53:10.068Z"
      },
      {
        "duration": 69,
        "start_time": "2023-01-12T13:53:12.333Z"
      },
      {
        "duration": 72,
        "start_time": "2023-01-12T13:53:16.352Z"
      },
      {
        "duration": 746,
        "start_time": "2023-01-12T13:53:23.403Z"
      },
      {
        "duration": 54,
        "start_time": "2023-01-12T13:53:24.311Z"
      },
      {
        "duration": 82,
        "start_time": "2023-01-12T13:53:25.948Z"
      },
      {
        "duration": 82,
        "start_time": "2023-01-12T13:53:42.840Z"
      },
      {
        "duration": 23,
        "start_time": "2023-01-12T13:54:30.559Z"
      },
      {
        "duration": 41,
        "start_time": "2023-01-12T13:55:36.509Z"
      },
      {
        "duration": 20,
        "start_time": "2023-01-12T13:55:39.781Z"
      },
      {
        "duration": 1115,
        "start_time": "2023-01-12T13:57:30.801Z"
      },
      {
        "duration": 1493,
        "start_time": "2023-01-12T13:57:46.143Z"
      },
      {
        "duration": 2271,
        "start_time": "2023-01-12T13:57:47.638Z"
      },
      {
        "duration": 891,
        "start_time": "2023-01-12T13:57:49.912Z"
      },
      {
        "duration": 142,
        "start_time": "2023-01-12T13:57:50.806Z"
      },
      {
        "duration": 297,
        "start_time": "2023-01-12T13:58:13.792Z"
      },
      {
        "duration": 68,
        "start_time": "2023-01-12T13:59:25.165Z"
      },
      {
        "duration": 75,
        "start_time": "2023-01-12T13:59:30.693Z"
      },
      {
        "duration": 686,
        "start_time": "2023-01-12T13:59:34.585Z"
      },
      {
        "duration": 1111,
        "start_time": "2023-01-12T14:01:28.176Z"
      },
      {
        "duration": 60,
        "start_time": "2023-01-12T14:01:29.712Z"
      },
      {
        "duration": 76,
        "start_time": "2023-01-12T14:01:38.612Z"
      },
      {
        "duration": 692,
        "start_time": "2023-01-12T14:01:39.615Z"
      },
      {
        "duration": 1555,
        "start_time": "2023-01-12T14:01:59.073Z"
      },
      {
        "duration": 2198,
        "start_time": "2023-01-12T14:02:00.631Z"
      },
      {
        "duration": 872,
        "start_time": "2023-01-12T14:02:02.832Z"
      },
      {
        "duration": 131,
        "start_time": "2023-01-12T14:02:03.706Z"
      },
      {
        "duration": 320,
        "start_time": "2023-01-12T14:02:12.635Z"
      },
      {
        "duration": 73,
        "start_time": "2023-01-12T14:02:18.332Z"
      },
      {
        "duration": 77,
        "start_time": "2023-01-12T14:02:24.671Z"
      },
      {
        "duration": 657,
        "start_time": "2023-01-12T14:02:27.383Z"
      },
      {
        "duration": 1641,
        "start_time": "2023-01-12T14:12:51.161Z"
      },
      {
        "duration": 2571,
        "start_time": "2023-01-12T14:12:53.952Z"
      },
      {
        "duration": 3250,
        "start_time": "2023-01-12T14:14:15.961Z"
      },
      {
        "duration": 172,
        "start_time": "2023-01-12T14:14:19.215Z"
      },
      {
        "duration": 303,
        "start_time": "2023-01-12T14:14:19.388Z"
      },
      {
        "duration": 65,
        "start_time": "2023-01-12T14:14:34.073Z"
      },
      {
        "duration": 89,
        "start_time": "2023-01-12T14:18:35.429Z"
      },
      {
        "duration": 76,
        "start_time": "2023-01-12T14:20:03.201Z"
      },
      {
        "duration": 81,
        "start_time": "2023-01-12T14:20:11.121Z"
      },
      {
        "duration": 102,
        "start_time": "2023-01-12T14:22:19.278Z"
      },
      {
        "duration": 62,
        "start_time": "2023-01-12T14:22:32.300Z"
      },
      {
        "duration": 24,
        "start_time": "2023-01-12T14:23:10.943Z"
      },
      {
        "duration": 67,
        "start_time": "2023-01-12T14:24:08.437Z"
      },
      {
        "duration": 73,
        "start_time": "2023-01-12T14:24:17.611Z"
      },
      {
        "duration": 117,
        "start_time": "2023-01-12T14:24:26.282Z"
      },
      {
        "duration": 70,
        "start_time": "2023-01-12T14:24:38.001Z"
      },
      {
        "duration": 68,
        "start_time": "2023-01-12T14:24:44.615Z"
      },
      {
        "duration": 323,
        "start_time": "2023-01-12T14:24:53.085Z"
      },
      {
        "duration": 94,
        "start_time": "2023-01-12T14:25:11.955Z"
      },
      {
        "duration": 70,
        "start_time": "2023-01-12T14:25:26.158Z"
      },
      {
        "duration": 72,
        "start_time": "2023-01-12T14:25:30.366Z"
      },
      {
        "duration": 72,
        "start_time": "2023-01-12T14:25:37.423Z"
      },
      {
        "duration": 79,
        "start_time": "2023-01-12T14:26:05.920Z"
      },
      {
        "duration": 85,
        "start_time": "2023-01-12T14:26:06.715Z"
      },
      {
        "duration": 123,
        "start_time": "2023-01-12T14:26:36.881Z"
      },
      {
        "duration": 87,
        "start_time": "2023-01-12T14:26:37.745Z"
      },
      {
        "duration": 48,
        "start_time": "2023-01-12T14:26:42.435Z"
      },
      {
        "duration": 177,
        "start_time": "2023-01-12T14:26:50.654Z"
      },
      {
        "duration": 2104,
        "start_time": "2023-01-12T14:27:42.042Z"
      },
      {
        "duration": 11,
        "start_time": "2023-01-12T14:27:44.148Z"
      },
      {
        "duration": 431,
        "start_time": "2023-01-12T14:27:45.909Z"
      },
      {
        "duration": 11,
        "start_time": "2023-01-12T14:27:47.305Z"
      },
      {
        "duration": 378,
        "start_time": "2023-01-12T14:27:48.699Z"
      },
      {
        "duration": 12,
        "start_time": "2023-01-12T14:27:50.146Z"
      },
      {
        "duration": 362,
        "start_time": "2023-01-12T14:27:51.363Z"
      },
      {
        "duration": 13,
        "start_time": "2023-01-12T14:27:54.535Z"
      },
      {
        "duration": 377,
        "start_time": "2023-01-12T14:28:27.406Z"
      },
      {
        "duration": 13,
        "start_time": "2023-01-12T14:28:36.857Z"
      },
      {
        "duration": 30,
        "start_time": "2023-01-12T14:28:42.170Z"
      },
      {
        "duration": 18,
        "start_time": "2023-01-12T14:29:16.558Z"
      },
      {
        "duration": 1560,
        "start_time": "2023-01-12T14:29:36.528Z"
      },
      {
        "duration": 2434,
        "start_time": "2023-01-12T14:29:38.090Z"
      },
      {
        "duration": 928,
        "start_time": "2023-01-12T14:29:40.526Z"
      },
      {
        "duration": 157,
        "start_time": "2023-01-12T14:29:41.456Z"
      },
      {
        "duration": 298,
        "start_time": "2023-01-12T14:29:41.614Z"
      },
      {
        "duration": 71,
        "start_time": "2023-01-12T14:29:42.143Z"
      },
      {
        "duration": 90,
        "start_time": "2023-01-12T14:29:43.780Z"
      },
      {
        "duration": 657,
        "start_time": "2023-01-12T14:29:44.822Z"
      },
      {
        "duration": 105,
        "start_time": "2023-01-12T14:29:45.641Z"
      },
      {
        "duration": 88,
        "start_time": "2023-01-12T14:29:46.869Z"
      },
      {
        "duration": 49,
        "start_time": "2023-01-12T14:29:49.668Z"
      },
      {
        "duration": 155,
        "start_time": "2023-01-12T14:29:51.887Z"
      },
      {
        "duration": 2204,
        "start_time": "2023-01-12T14:29:53.539Z"
      },
      {
        "duration": 12,
        "start_time": "2023-01-12T14:29:56.893Z"
      },
      {
        "duration": 466,
        "start_time": "2023-01-12T14:30:02.437Z"
      },
      {
        "duration": 12,
        "start_time": "2023-01-12T14:30:05.496Z"
      },
      {
        "duration": 384,
        "start_time": "2023-01-12T14:30:12.674Z"
      },
      {
        "duration": 10,
        "start_time": "2023-01-12T14:30:16.771Z"
      },
      {
        "duration": 377,
        "start_time": "2023-01-12T14:30:20.976Z"
      },
      {
        "duration": 13,
        "start_time": "2023-01-12T14:30:32.233Z"
      },
      {
        "duration": 22,
        "start_time": "2023-01-12T14:30:34.179Z"
      },
      {
        "duration": 30,
        "start_time": "2023-01-12T14:30:37.251Z"
      },
      {
        "duration": 2,
        "start_time": "2023-01-12T14:50:41.991Z"
      },
      {
        "duration": 17,
        "start_time": "2023-01-12T14:50:55.309Z"
      },
      {
        "duration": 5,
        "start_time": "2023-01-12T14:57:44.329Z"
      },
      {
        "duration": 3,
        "start_time": "2023-01-12T14:58:07.738Z"
      },
      {
        "duration": 49,
        "start_time": "2023-01-12T14:58:55.458Z"
      },
      {
        "duration": 70,
        "start_time": "2023-01-12T14:59:07.437Z"
      },
      {
        "duration": 68,
        "start_time": "2023-01-12T14:59:26.484Z"
      },
      {
        "duration": 3,
        "start_time": "2023-01-12T15:00:45.297Z"
      },
      {
        "duration": 67,
        "start_time": "2023-01-12T15:00:46.225Z"
      },
      {
        "duration": 67,
        "start_time": "2023-01-12T15:01:20.259Z"
      },
      {
        "duration": 3,
        "start_time": "2023-01-12T15:02:27.599Z"
      },
      {
        "duration": 67,
        "start_time": "2023-01-12T15:02:28.381Z"
      },
      {
        "duration": 127,
        "start_time": "2023-01-12T15:03:10.224Z"
      },
      {
        "duration": 15,
        "start_time": "2023-01-12T15:03:31.782Z"
      },
      {
        "duration": 5,
        "start_time": "2023-01-12T15:05:40.963Z"
      },
      {
        "duration": 12,
        "start_time": "2023-01-12T15:11:49.979Z"
      },
      {
        "duration": 2,
        "start_time": "2023-01-12T15:18:35.050Z"
      },
      {
        "duration": 10,
        "start_time": "2023-01-12T15:18:55.723Z"
      },
      {
        "duration": 11,
        "start_time": "2023-01-12T15:18:59.561Z"
      },
      {
        "duration": 3,
        "start_time": "2023-01-12T15:19:13.910Z"
      },
      {
        "duration": 442,
        "start_time": "2023-01-12T15:19:35.027Z"
      },
      {
        "duration": 430,
        "start_time": "2023-01-12T15:19:45.445Z"
      },
      {
        "duration": 445,
        "start_time": "2023-01-12T15:20:25.746Z"
      },
      {
        "duration": 47,
        "start_time": "2023-01-12T15:21:37.839Z"
      },
      {
        "duration": 10,
        "start_time": "2023-01-12T15:22:24.215Z"
      },
      {
        "duration": 77,
        "start_time": "2023-01-12T15:22:35.771Z"
      },
      {
        "duration": 3,
        "start_time": "2023-01-12T15:23:44.325Z"
      },
      {
        "duration": 14,
        "start_time": "2023-01-12T15:26:50.903Z"
      },
      {
        "duration": 20,
        "start_time": "2023-01-12T15:58:24.633Z"
      },
      {
        "duration": 5,
        "start_time": "2023-01-12T15:59:17.268Z"
      },
      {
        "duration": 24,
        "start_time": "2023-01-12T16:00:08.478Z"
      },
      {
        "duration": 9,
        "start_time": "2023-01-12T16:00:57.288Z"
      },
      {
        "duration": 36,
        "start_time": "2023-01-12T16:01:03.963Z"
      },
      {
        "duration": 1529,
        "start_time": "2023-01-12T16:01:19.693Z"
      },
      {
        "duration": 2297,
        "start_time": "2023-01-12T16:01:21.224Z"
      },
      {
        "duration": 912,
        "start_time": "2023-01-12T16:01:23.524Z"
      },
      {
        "duration": 152,
        "start_time": "2023-01-12T16:01:24.438Z"
      },
      {
        "duration": 295,
        "start_time": "2023-01-12T16:01:24.592Z"
      },
      {
        "duration": 70,
        "start_time": "2023-01-12T16:01:24.889Z"
      },
      {
        "duration": 100,
        "start_time": "2023-01-12T16:01:24.961Z"
      },
      {
        "duration": 678,
        "start_time": "2023-01-12T16:01:25.063Z"
      },
      {
        "duration": 113,
        "start_time": "2023-01-12T16:01:25.743Z"
      },
      {
        "duration": 95,
        "start_time": "2023-01-12T16:01:25.860Z"
      },
      {
        "duration": 49,
        "start_time": "2023-01-12T16:01:25.957Z"
      },
      {
        "duration": 169,
        "start_time": "2023-01-12T16:01:26.007Z"
      },
      {
        "duration": 2018,
        "start_time": "2023-01-12T16:01:26.178Z"
      },
      {
        "duration": 12,
        "start_time": "2023-01-12T16:01:28.198Z"
      },
      {
        "duration": 448,
        "start_time": "2023-01-12T16:01:28.211Z"
      },
      {
        "duration": 11,
        "start_time": "2023-01-12T16:01:28.661Z"
      },
      {
        "duration": 391,
        "start_time": "2023-01-12T16:01:28.674Z"
      },
      {
        "duration": 10,
        "start_time": "2023-01-12T16:01:29.067Z"
      },
      {
        "duration": 400,
        "start_time": "2023-01-12T16:01:29.079Z"
      },
      {
        "duration": 14,
        "start_time": "2023-01-12T16:01:29.480Z"
      },
      {
        "duration": 21,
        "start_time": "2023-01-12T16:01:29.495Z"
      },
      {
        "duration": 55,
        "start_time": "2023-01-12T16:01:29.518Z"
      },
      {
        "duration": 35,
        "start_time": "2023-01-12T16:01:29.578Z"
      },
      {
        "duration": 17,
        "start_time": "2023-01-12T16:01:29.616Z"
      },
      {
        "duration": 86,
        "start_time": "2023-01-12T16:01:29.637Z"
      },
      {
        "duration": 69,
        "start_time": "2023-01-12T16:01:56.978Z"
      },
      {
        "duration": 6,
        "start_time": "2023-01-12T16:02:19.220Z"
      },
      {
        "duration": 74,
        "start_time": "2023-01-12T16:02:33.494Z"
      },
      {
        "duration": 14,
        "start_time": "2023-01-12T16:03:08.514Z"
      },
      {
        "duration": 4,
        "start_time": "2023-01-12T16:03:28.885Z"
      },
      {
        "duration": 17,
        "start_time": "2023-01-12T16:04:09.438Z"
      },
      {
        "duration": 26,
        "start_time": "2023-01-12T16:05:40.557Z"
      },
      {
        "duration": 13,
        "start_time": "2023-01-12T16:05:41.226Z"
      },
      {
        "duration": 4,
        "start_time": "2023-01-12T16:06:22.864Z"
      },
      {
        "duration": 443,
        "start_time": "2023-01-12T16:07:18.286Z"
      },
      {
        "duration": 66,
        "start_time": "2023-01-12T16:09:16.769Z"
      },
      {
        "duration": 68,
        "start_time": "2023-01-12T16:10:42.181Z"
      },
      {
        "duration": 5,
        "start_time": "2023-01-12T16:12:21.619Z"
      },
      {
        "duration": 3,
        "start_time": "2023-01-12T16:12:22.475Z"
      },
      {
        "duration": 78,
        "start_time": "2023-01-12T16:12:23.474Z"
      },
      {
        "duration": 16,
        "start_time": "2023-01-12T16:12:24.159Z"
      },
      {
        "duration": 13,
        "start_time": "2023-01-12T16:12:25.340Z"
      },
      {
        "duration": 3,
        "start_time": "2023-01-12T16:12:26.051Z"
      },
      {
        "duration": 447,
        "start_time": "2023-01-12T16:12:26.937Z"
      },
      {
        "duration": 51,
        "start_time": "2023-01-12T16:12:32.201Z"
      },
      {
        "duration": 347,
        "start_time": "2023-01-12T16:14:42.593Z"
      },
      {
        "duration": 338,
        "start_time": "2023-01-12T16:15:11.678Z"
      },
      {
        "duration": 16,
        "start_time": "2023-01-12T16:15:18.320Z"
      },
      {
        "duration": 3,
        "start_time": "2023-01-12T16:16:20.001Z"
      },
      {
        "duration": 49,
        "start_time": "2023-01-12T16:16:20.922Z"
      },
      {
        "duration": 15,
        "start_time": "2023-01-12T16:16:24.353Z"
      },
      {
        "duration": 12,
        "start_time": "2023-01-12T16:16:25.085Z"
      },
      {
        "duration": 2,
        "start_time": "2023-01-12T16:16:26.253Z"
      },
      {
        "duration": 3,
        "start_time": "2023-01-12T16:16:39.045Z"
      },
      {
        "duration": 76,
        "start_time": "2023-01-12T16:16:39.960Z"
      },
      {
        "duration": 14,
        "start_time": "2023-01-12T16:16:44.298Z"
      },
      {
        "duration": 12,
        "start_time": "2023-01-12T16:16:45.286Z"
      },
      {
        "duration": 3,
        "start_time": "2023-01-12T16:16:55.871Z"
      },
      {
        "duration": 428,
        "start_time": "2023-01-12T16:16:56.508Z"
      },
      {
        "duration": 59,
        "start_time": "2023-01-12T16:16:59.722Z"
      },
      {
        "duration": 369,
        "start_time": "2023-01-12T16:17:11.497Z"
      },
      {
        "duration": 16,
        "start_time": "2023-01-12T16:17:12.456Z"
      },
      {
        "duration": 34,
        "start_time": "2023-01-12T16:19:08.464Z"
      },
      {
        "duration": 118,
        "start_time": "2023-01-12T16:19:10.017Z"
      },
      {
        "duration": 1447,
        "start_time": "2023-01-12T16:19:18.170Z"
      },
      {
        "duration": 2323,
        "start_time": "2023-01-12T16:19:19.619Z"
      },
      {
        "duration": 958,
        "start_time": "2023-01-12T16:19:21.944Z"
      },
      {
        "duration": 153,
        "start_time": "2023-01-12T16:19:22.905Z"
      },
      {
        "duration": 296,
        "start_time": "2023-01-12T16:19:23.061Z"
      },
      {
        "duration": 69,
        "start_time": "2023-01-12T16:19:23.359Z"
      },
      {
        "duration": 98,
        "start_time": "2023-01-12T16:19:23.430Z"
      },
      {
        "duration": 705,
        "start_time": "2023-01-12T16:19:23.530Z"
      },
      {
        "duration": 114,
        "start_time": "2023-01-12T16:19:24.237Z"
      },
      {
        "duration": 85,
        "start_time": "2023-01-12T16:19:24.353Z"
      },
      {
        "duration": 50,
        "start_time": "2023-01-12T16:19:24.451Z"
      },
      {
        "duration": 170,
        "start_time": "2023-01-12T16:19:24.503Z"
      },
      {
        "duration": 64,
        "start_time": "2023-01-12T16:19:24.675Z"
      },
      {
        "duration": 1948,
        "start_time": "2023-01-12T16:19:24.750Z"
      },
      {
        "duration": 10,
        "start_time": "2023-01-12T16:19:26.700Z"
      },
      {
        "duration": 414,
        "start_time": "2023-01-12T16:19:26.712Z"
      },
      {
        "duration": 10,
        "start_time": "2023-01-12T16:19:27.127Z"
      },
      {
        "duration": 377,
        "start_time": "2023-01-12T16:19:27.151Z"
      },
      {
        "duration": 27,
        "start_time": "2023-01-12T16:19:27.530Z"
      },
      {
        "duration": 353,
        "start_time": "2023-01-12T16:19:27.559Z"
      },
      {
        "duration": 13,
        "start_time": "2023-01-12T16:19:27.914Z"
      },
      {
        "duration": 30,
        "start_time": "2023-01-12T16:19:27.929Z"
      },
      {
        "duration": 38,
        "start_time": "2023-01-12T16:19:27.961Z"
      },
      {
        "duration": 4,
        "start_time": "2023-01-12T16:19:28.001Z"
      },
      {
        "duration": 14,
        "start_time": "2023-01-12T16:19:28.007Z"
      },
      {
        "duration": 88,
        "start_time": "2023-01-12T16:19:28.023Z"
      },
      {
        "duration": 13,
        "start_time": "2023-01-12T16:19:28.113Z"
      },
      {
        "duration": 3,
        "start_time": "2023-01-12T16:19:28.128Z"
      },
      {
        "duration": 447,
        "start_time": "2023-01-12T16:19:28.133Z"
      },
      {
        "duration": 46,
        "start_time": "2023-01-12T16:19:28.581Z"
      },
      {
        "duration": 379,
        "start_time": "2023-01-12T16:19:28.629Z"
      },
      {
        "duration": 16,
        "start_time": "2023-01-12T16:19:29.009Z"
      },
      {
        "duration": 3,
        "start_time": "2023-01-12T16:29:20.269Z"
      },
      {
        "duration": 280,
        "start_time": "2023-01-12T16:32:01.365Z"
      },
      {
        "duration": 161,
        "start_time": "2023-01-12T16:32:16.264Z"
      },
      {
        "duration": 5,
        "start_time": "2023-01-12T16:32:19.012Z"
      },
      {
        "duration": 422,
        "start_time": "2023-01-12T16:32:21.879Z"
      },
      {
        "duration": 4,
        "start_time": "2023-01-12T16:33:02.532Z"
      },
      {
        "duration": 11,
        "start_time": "2023-01-12T16:33:09.213Z"
      },
      {
        "duration": 5,
        "start_time": "2023-01-12T16:33:21.690Z"
      },
      {
        "duration": 159,
        "start_time": "2023-01-12T16:33:36.955Z"
      },
      {
        "duration": 4,
        "start_time": "2023-01-12T16:33:44.618Z"
      },
      {
        "duration": 171,
        "start_time": "2023-01-12T16:33:53.493Z"
      },
      {
        "duration": 355,
        "start_time": "2023-01-12T16:34:02.575Z"
      },
      {
        "duration": 193,
        "start_time": "2023-01-12T16:34:10.013Z"
      },
      {
        "duration": 209,
        "start_time": "2023-01-12T16:39:41.539Z"
      },
      {
        "duration": 1477,
        "start_time": "2023-01-12T16:42:44.415Z"
      },
      {
        "duration": 2273,
        "start_time": "2023-01-12T16:42:45.894Z"
      },
      {
        "duration": 924,
        "start_time": "2023-01-12T16:42:48.170Z"
      },
      {
        "duration": 170,
        "start_time": "2023-01-12T16:42:49.096Z"
      },
      {
        "duration": 290,
        "start_time": "2023-01-12T16:42:49.268Z"
      },
      {
        "duration": 64,
        "start_time": "2023-01-12T16:42:49.560Z"
      },
      {
        "duration": 140,
        "start_time": "2023-01-12T16:42:49.625Z"
      },
      {
        "duration": 748,
        "start_time": "2023-01-12T16:42:49.768Z"
      },
      {
        "duration": 117,
        "start_time": "2023-01-12T16:42:50.517Z"
      },
      {
        "duration": 94,
        "start_time": "2023-01-12T16:42:50.637Z"
      },
      {
        "duration": 56,
        "start_time": "2023-01-12T16:42:50.733Z"
      },
      {
        "duration": 166,
        "start_time": "2023-01-12T16:42:50.792Z"
      },
      {
        "duration": 64,
        "start_time": "2023-01-12T16:42:50.959Z"
      },
      {
        "duration": 1890,
        "start_time": "2023-01-12T16:42:51.025Z"
      },
      {
        "duration": 11,
        "start_time": "2023-01-12T16:42:52.917Z"
      },
      {
        "duration": 398,
        "start_time": "2023-01-12T16:42:52.930Z"
      },
      {
        "duration": 22,
        "start_time": "2023-01-12T16:42:53.330Z"
      },
      {
        "duration": 375,
        "start_time": "2023-01-12T16:42:53.354Z"
      },
      {
        "duration": 21,
        "start_time": "2023-01-12T16:42:53.731Z"
      },
      {
        "duration": 363,
        "start_time": "2023-01-12T16:42:53.754Z"
      },
      {
        "duration": 13,
        "start_time": "2023-01-12T16:42:54.119Z"
      },
      {
        "duration": 29,
        "start_time": "2023-01-12T16:42:54.134Z"
      },
      {
        "duration": 32,
        "start_time": "2023-01-12T16:42:54.165Z"
      },
      {
        "duration": 5,
        "start_time": "2023-01-12T16:42:54.199Z"
      },
      {
        "duration": 7,
        "start_time": "2023-01-12T16:42:54.205Z"
      },
      {
        "duration": 97,
        "start_time": "2023-01-12T16:42:54.214Z"
      },
      {
        "duration": 13,
        "start_time": "2023-01-12T16:42:54.313Z"
      },
      {
        "duration": 3,
        "start_time": "2023-01-12T16:42:54.329Z"
      },
      {
        "duration": 451,
        "start_time": "2023-01-12T16:42:54.334Z"
      },
      {
        "duration": 47,
        "start_time": "2023-01-12T16:42:54.787Z"
      },
      {
        "duration": 385,
        "start_time": "2023-01-12T16:42:54.836Z"
      },
      {
        "duration": 15,
        "start_time": "2023-01-12T16:42:55.223Z"
      },
      {
        "duration": 11,
        "start_time": "2023-01-12T16:42:55.240Z"
      },
      {
        "duration": 9,
        "start_time": "2023-01-12T16:42:55.252Z"
      },
      {
        "duration": 8,
        "start_time": "2023-01-12T16:42:55.263Z"
      },
      {
        "duration": 275,
        "start_time": "2023-01-12T16:42:55.273Z"
      },
      {
        "duration": 77,
        "start_time": "2023-01-12T16:50:02.149Z"
      },
      {
        "duration": 13,
        "start_time": "2023-01-12T16:57:18.983Z"
      },
      {
        "duration": 27,
        "start_time": "2023-01-12T16:57:26.989Z"
      },
      {
        "duration": 45,
        "start_time": "2023-01-12T16:57:36.544Z"
      },
      {
        "duration": 1517,
        "start_time": "2023-01-12T16:57:51.785Z"
      },
      {
        "duration": 2352,
        "start_time": "2023-01-12T16:57:53.304Z"
      },
      {
        "duration": 972,
        "start_time": "2023-01-12T16:57:55.659Z"
      },
      {
        "duration": 148,
        "start_time": "2023-01-12T16:57:56.634Z"
      },
      {
        "duration": 305,
        "start_time": "2023-01-12T16:57:56.784Z"
      },
      {
        "duration": 97,
        "start_time": "2023-01-12T16:57:57.092Z"
      },
      {
        "duration": 93,
        "start_time": "2023-01-12T16:57:57.191Z"
      },
      {
        "duration": 711,
        "start_time": "2023-01-12T16:57:57.286Z"
      },
      {
        "duration": 114,
        "start_time": "2023-01-12T16:57:57.998Z"
      },
      {
        "duration": 125,
        "start_time": "2023-01-12T16:57:58.115Z"
      },
      {
        "duration": 75,
        "start_time": "2023-01-12T16:57:58.242Z"
      },
      {
        "duration": 214,
        "start_time": "2023-01-12T16:57:58.319Z"
      },
      {
        "duration": 78,
        "start_time": "2023-01-12T16:57:58.535Z"
      },
      {
        "duration": 2166,
        "start_time": "2023-01-12T16:57:58.614Z"
      },
      {
        "duration": 12,
        "start_time": "2023-01-12T16:58:00.782Z"
      },
      {
        "duration": 486,
        "start_time": "2023-01-12T16:58:00.796Z"
      },
      {
        "duration": 14,
        "start_time": "2023-01-12T16:58:01.285Z"
      },
      {
        "duration": 482,
        "start_time": "2023-01-12T16:58:01.301Z"
      },
      {
        "duration": 12,
        "start_time": "2023-01-12T16:58:01.785Z"
      },
      {
        "duration": 397,
        "start_time": "2023-01-12T16:58:01.799Z"
      },
      {
        "duration": 16,
        "start_time": "2023-01-12T16:58:02.197Z"
      },
      {
        "duration": 36,
        "start_time": "2023-01-12T16:58:02.215Z"
      },
      {
        "duration": 46,
        "start_time": "2023-01-12T16:58:02.253Z"
      },
      {
        "duration": 90,
        "start_time": "2023-01-12T16:58:02.300Z"
      },
      {
        "duration": 165,
        "start_time": "2023-01-12T16:58:02.392Z"
      },
      {
        "duration": 58,
        "start_time": "2023-01-12T16:58:13.656Z"
      },
      {
        "duration": 5,
        "start_time": "2023-01-12T17:13:43.655Z"
      },
      {
        "duration": 11,
        "start_time": "2023-01-12T17:14:00.732Z"
      },
      {
        "duration": 181,
        "start_time": "2023-01-12T17:14:31.744Z"
      },
      {
        "duration": 258,
        "start_time": "2023-01-12T17:15:14.486Z"
      },
      {
        "duration": 285,
        "start_time": "2023-01-12T18:13:34.634Z"
      },
      {
        "duration": 12,
        "start_time": "2023-01-12T18:15:36.667Z"
      },
      {
        "duration": 11,
        "start_time": "2023-01-12T18:16:12.485Z"
      },
      {
        "duration": 12,
        "start_time": "2023-01-12T18:16:26.361Z"
      },
      {
        "duration": 18,
        "start_time": "2023-01-12T18:16:33.602Z"
      },
      {
        "duration": 18,
        "start_time": "2023-01-12T18:16:58.599Z"
      },
      {
        "duration": 5,
        "start_time": "2023-01-12T18:17:50.689Z"
      },
      {
        "duration": 42,
        "start_time": "2023-01-12T18:17:56.621Z"
      },
      {
        "duration": 17,
        "start_time": "2023-01-12T18:17:58.988Z"
      },
      {
        "duration": 2,
        "start_time": "2023-01-12T18:18:08.717Z"
      },
      {
        "duration": 18,
        "start_time": "2023-01-12T18:18:09.534Z"
      },
      {
        "duration": 254,
        "start_time": "2023-01-12T18:22:32.454Z"
      },
      {
        "duration": 3,
        "start_time": "2023-01-12T18:25:55.903Z"
      },
      {
        "duration": 30,
        "start_time": "2023-01-12T18:27:27.966Z"
      },
      {
        "duration": 27,
        "start_time": "2023-01-12T18:28:08.717Z"
      },
      {
        "duration": 17,
        "start_time": "2023-01-12T18:28:11.470Z"
      },
      {
        "duration": 5,
        "start_time": "2023-01-12T18:29:33.989Z"
      },
      {
        "duration": 10,
        "start_time": "2023-01-12T18:29:46.107Z"
      },
      {
        "duration": 16,
        "start_time": "2023-01-12T18:29:54.475Z"
      },
      {
        "duration": 18,
        "start_time": "2023-01-12T18:31:13.429Z"
      },
      {
        "duration": 4,
        "start_time": "2023-01-12T18:31:34.387Z"
      },
      {
        "duration": 304,
        "start_time": "2023-01-12T18:31:35.224Z"
      },
      {
        "duration": 4,
        "start_time": "2023-01-12T18:32:27.835Z"
      },
      {
        "duration": 273,
        "start_time": "2023-01-12T18:32:31.129Z"
      },
      {
        "duration": 3,
        "start_time": "2023-01-12T18:32:51.896Z"
      },
      {
        "duration": 29,
        "start_time": "2023-01-12T18:33:05.173Z"
      },
      {
        "duration": 4,
        "start_time": "2023-01-12T19:01:51.365Z"
      },
      {
        "duration": 287,
        "start_time": "2023-01-12T19:01:54.844Z"
      },
      {
        "duration": 3,
        "start_time": "2023-01-12T19:01:58.379Z"
      },
      {
        "duration": 12,
        "start_time": "2023-01-12T19:02:00.306Z"
      },
      {
        "duration": 53,
        "start_time": "2023-01-12T19:02:02.560Z"
      },
      {
        "duration": 19,
        "start_time": "2023-01-12T19:02:23.861Z"
      },
      {
        "duration": 16,
        "start_time": "2023-01-12T19:02:51.716Z"
      },
      {
        "duration": 22,
        "start_time": "2023-01-12T19:22:17.842Z"
      },
      {
        "duration": 16,
        "start_time": "2023-01-12T19:24:12.545Z"
      },
      {
        "duration": 1611,
        "start_time": "2023-01-12T19:29:18.377Z"
      },
      {
        "duration": 2304,
        "start_time": "2023-01-12T19:29:19.990Z"
      },
      {
        "duration": 936,
        "start_time": "2023-01-12T19:29:22.297Z"
      },
      {
        "duration": 157,
        "start_time": "2023-01-12T19:29:23.236Z"
      },
      {
        "duration": 311,
        "start_time": "2023-01-12T19:29:23.395Z"
      },
      {
        "duration": 76,
        "start_time": "2023-01-12T19:29:23.709Z"
      },
      {
        "duration": 93,
        "start_time": "2023-01-12T19:29:23.786Z"
      },
      {
        "duration": 695,
        "start_time": "2023-01-12T19:29:23.880Z"
      },
      {
        "duration": 114,
        "start_time": "2023-01-12T19:29:24.577Z"
      },
      {
        "duration": 107,
        "start_time": "2023-01-12T19:29:24.695Z"
      },
      {
        "duration": 58,
        "start_time": "2023-01-12T19:29:24.804Z"
      },
      {
        "duration": 170,
        "start_time": "2023-01-12T19:29:24.864Z"
      },
      {
        "duration": 74,
        "start_time": "2023-01-12T19:29:25.036Z"
      },
      {
        "duration": 1954,
        "start_time": "2023-01-12T19:29:25.112Z"
      },
      {
        "duration": 10,
        "start_time": "2023-01-12T19:29:27.068Z"
      },
      {
        "duration": 424,
        "start_time": "2023-01-12T19:29:27.080Z"
      },
      {
        "duration": 10,
        "start_time": "2023-01-12T19:29:27.506Z"
      },
      {
        "duration": 403,
        "start_time": "2023-01-12T19:29:27.518Z"
      },
      {
        "duration": 12,
        "start_time": "2023-01-12T19:29:27.923Z"
      },
      {
        "duration": 365,
        "start_time": "2023-01-12T19:29:27.950Z"
      },
      {
        "duration": 14,
        "start_time": "2023-01-12T19:29:28.318Z"
      },
      {
        "duration": 37,
        "start_time": "2023-01-12T19:29:28.334Z"
      },
      {
        "duration": 41,
        "start_time": "2023-01-12T19:29:28.372Z"
      },
      {
        "duration": 87,
        "start_time": "2023-01-12T19:29:28.414Z"
      },
      {
        "duration": 4,
        "start_time": "2023-01-12T19:29:28.502Z"
      },
      {
        "duration": 317,
        "start_time": "2023-01-12T19:29:28.508Z"
      },
      {
        "duration": 3,
        "start_time": "2023-01-12T19:29:28.827Z"
      },
      {
        "duration": 89,
        "start_time": "2023-01-12T19:29:28.833Z"
      },
      {
        "duration": 0,
        "start_time": "2023-01-12T19:29:28.924Z"
      },
      {
        "duration": 0,
        "start_time": "2023-01-12T19:29:28.925Z"
      },
      {
        "duration": 1,
        "start_time": "2023-01-12T19:29:28.926Z"
      },
      {
        "duration": 0,
        "start_time": "2023-01-12T19:29:28.927Z"
      },
      {
        "duration": 0,
        "start_time": "2023-01-12T19:29:28.929Z"
      },
      {
        "duration": 151,
        "start_time": "2023-01-12T19:38:13.577Z"
      },
      {
        "duration": 26,
        "start_time": "2023-01-12T19:40:30.206Z"
      },
      {
        "duration": 44,
        "start_time": "2023-01-12T19:42:36.630Z"
      },
      {
        "duration": 24,
        "start_time": "2023-01-12T19:43:37.048Z"
      },
      {
        "duration": 51,
        "start_time": "2023-01-12T19:44:11.144Z"
      },
      {
        "duration": 823,
        "start_time": "2023-01-12T19:44:59.843Z"
      },
      {
        "duration": 745,
        "start_time": "2023-01-12T19:46:43.665Z"
      },
      {
        "duration": 4,
        "start_time": "2023-01-12T19:50:36.200Z"
      },
      {
        "duration": 292,
        "start_time": "2023-01-12T19:50:39.218Z"
      },
      {
        "duration": 3,
        "start_time": "2023-01-12T19:52:15.138Z"
      },
      {
        "duration": 47,
        "start_time": "2023-01-12T19:52:58.176Z"
      },
      {
        "duration": 254,
        "start_time": "2023-01-12T19:57:10.987Z"
      },
      {
        "duration": 3,
        "start_time": "2023-01-12T20:02:31.533Z"
      },
      {
        "duration": 2,
        "start_time": "2023-01-12T20:03:24.794Z"
      },
      {
        "duration": 10,
        "start_time": "2023-01-12T20:04:38.241Z"
      },
      {
        "duration": 70,
        "start_time": "2023-01-12T20:09:18.368Z"
      },
      {
        "duration": 4,
        "start_time": "2023-01-12T20:11:51.580Z"
      },
      {
        "duration": 3,
        "start_time": "2023-01-12T20:11:56.911Z"
      },
      {
        "duration": 5,
        "start_time": "2023-01-12T20:11:58.187Z"
      },
      {
        "duration": 15,
        "start_time": "2023-01-12T20:12:17.982Z"
      },
      {
        "duration": 4,
        "start_time": "2023-01-12T20:12:30.867Z"
      },
      {
        "duration": 49,
        "start_time": "2023-01-12T20:12:31.822Z"
      },
      {
        "duration": 4,
        "start_time": "2023-01-12T20:13:04.661Z"
      },
      {
        "duration": 125,
        "start_time": "2023-01-12T20:13:21.283Z"
      },
      {
        "duration": 5,
        "start_time": "2023-01-12T20:14:41.877Z"
      },
      {
        "duration": 119,
        "start_time": "2023-01-12T20:14:49.393Z"
      },
      {
        "duration": 1531,
        "start_time": "2023-01-12T20:15:00.057Z"
      },
      {
        "duration": 2306,
        "start_time": "2023-01-12T20:15:01.590Z"
      },
      {
        "duration": 879,
        "start_time": "2023-01-12T20:15:03.898Z"
      },
      {
        "duration": 144,
        "start_time": "2023-01-12T20:15:04.778Z"
      },
      {
        "duration": 299,
        "start_time": "2023-01-12T20:15:04.924Z"
      },
      {
        "duration": 72,
        "start_time": "2023-01-12T20:15:05.225Z"
      },
      {
        "duration": 90,
        "start_time": "2023-01-12T20:15:05.298Z"
      },
      {
        "duration": 657,
        "start_time": "2023-01-12T20:15:05.390Z"
      },
      {
        "duration": 107,
        "start_time": "2023-01-12T20:15:06.050Z"
      },
      {
        "duration": 99,
        "start_time": "2023-01-12T20:15:06.159Z"
      },
      {
        "duration": 50,
        "start_time": "2023-01-12T20:15:06.260Z"
      },
      {
        "duration": 177,
        "start_time": "2023-01-12T20:15:06.312Z"
      },
      {
        "duration": 71,
        "start_time": "2023-01-12T20:15:06.491Z"
      },
      {
        "duration": 1865,
        "start_time": "2023-01-12T20:15:06.565Z"
      },
      {
        "duration": 20,
        "start_time": "2023-01-12T20:15:08.432Z"
      },
      {
        "duration": 374,
        "start_time": "2023-01-12T20:15:08.454Z"
      },
      {
        "duration": 26,
        "start_time": "2023-01-12T20:15:08.830Z"
      },
      {
        "duration": 379,
        "start_time": "2023-01-12T20:15:08.858Z"
      },
      {
        "duration": 18,
        "start_time": "2023-01-12T20:15:09.239Z"
      },
      {
        "duration": 365,
        "start_time": "2023-01-12T20:15:09.259Z"
      },
      {
        "duration": 29,
        "start_time": "2023-01-12T20:15:09.627Z"
      },
      {
        "duration": 20,
        "start_time": "2023-01-12T20:15:09.659Z"
      },
      {
        "duration": 40,
        "start_time": "2023-01-12T20:15:09.683Z"
      },
      {
        "duration": 111,
        "start_time": "2023-01-12T20:15:09.726Z"
      },
      {
        "duration": 336,
        "start_time": "2023-01-12T20:15:09.840Z"
      },
      {
        "duration": 3,
        "start_time": "2023-01-12T20:15:10.178Z"
      },
      {
        "duration": 819,
        "start_time": "2023-01-12T20:15:10.183Z"
      },
      {
        "duration": 25,
        "start_time": "2023-01-12T20:15:11.004Z"
      },
      {
        "duration": 20,
        "start_time": "2023-01-12T20:15:11.030Z"
      },
      {
        "duration": 7,
        "start_time": "2023-01-12T20:15:11.052Z"
      },
      {
        "duration": 14,
        "start_time": "2023-01-12T20:15:11.060Z"
      },
      {
        "duration": 46,
        "start_time": "2023-01-12T20:15:11.076Z"
      },
      {
        "duration": 5,
        "start_time": "2023-01-12T20:15:11.124Z"
      },
      {
        "duration": 134,
        "start_time": "2023-01-12T20:15:11.130Z"
      },
      {
        "duration": 4,
        "start_time": "2023-01-12T20:17:10.878Z"
      },
      {
        "duration": 13,
        "start_time": "2023-01-12T20:19:14.062Z"
      },
      {
        "duration": 56,
        "start_time": "2023-01-12T20:19:22.953Z"
      },
      {
        "duration": 4,
        "start_time": "2023-01-12T20:19:32.162Z"
      },
      {
        "duration": 76,
        "start_time": "2023-01-12T20:19:33.055Z"
      },
      {
        "duration": 4,
        "start_time": "2023-01-12T20:20:11.698Z"
      },
      {
        "duration": 71,
        "start_time": "2023-01-12T20:20:14.542Z"
      },
      {
        "duration": 6,
        "start_time": "2023-01-12T20:20:19.714Z"
      },
      {
        "duration": 7,
        "start_time": "2023-01-12T20:24:19.651Z"
      },
      {
        "duration": 142,
        "start_time": "2023-01-12T20:24:20.593Z"
      },
      {
        "duration": 3,
        "start_time": "2023-01-12T20:32:38.714Z"
      },
      {
        "duration": 7,
        "start_time": "2023-01-12T20:32:56.964Z"
      },
      {
        "duration": 4,
        "start_time": "2023-01-12T20:33:09.657Z"
      },
      {
        "duration": 3,
        "start_time": "2023-01-12T20:33:21.499Z"
      },
      {
        "duration": 15,
        "start_time": "2023-01-12T20:33:54.804Z"
      },
      {
        "duration": 5,
        "start_time": "2023-01-12T20:34:49.004Z"
      },
      {
        "duration": 16,
        "start_time": "2023-01-12T20:34:55.700Z"
      },
      {
        "duration": 13,
        "start_time": "2023-01-12T20:38:24.168Z"
      },
      {
        "duration": 21058,
        "start_time": "2023-01-12T20:38:45.490Z"
      },
      {
        "duration": 63,
        "start_time": "2023-01-12T20:40:01.957Z"
      },
      {
        "duration": 574143,
        "start_time": "2023-01-12T20:40:38.105Z"
      },
      {
        "duration": 2440,
        "start_time": "2023-01-12T20:50:12.251Z"
      },
      {
        "duration": 13,
        "start_time": "2023-01-12T20:50:14.693Z"
      },
      {
        "duration": 0,
        "start_time": "2023-01-12T20:50:14.708Z"
      },
      {
        "duration": 0,
        "start_time": "2023-01-12T20:50:14.709Z"
      },
      {
        "duration": 0,
        "start_time": "2023-01-12T20:50:14.710Z"
      },
      {
        "duration": 0,
        "start_time": "2023-01-12T20:50:14.712Z"
      },
      {
        "duration": 0,
        "start_time": "2023-01-12T20:50:14.713Z"
      },
      {
        "duration": 0,
        "start_time": "2023-01-12T20:50:14.714Z"
      },
      {
        "duration": 0,
        "start_time": "2023-01-12T20:50:14.715Z"
      },
      {
        "duration": 0,
        "start_time": "2023-01-12T20:50:14.716Z"
      },
      {
        "duration": 13,
        "start_time": "2023-01-12T21:01:52.928Z"
      },
      {
        "duration": 124,
        "start_time": "2023-01-12T21:03:22.963Z"
      },
      {
        "duration": 7,
        "start_time": "2023-01-12T21:03:26.519Z"
      },
      {
        "duration": 2082,
        "start_time": "2023-01-12T21:11:29.717Z"
      },
      {
        "duration": 2745,
        "start_time": "2023-01-12T21:11:31.802Z"
      },
      {
        "duration": 1082,
        "start_time": "2023-01-12T21:11:34.550Z"
      },
      {
        "duration": 203,
        "start_time": "2023-01-12T21:11:35.635Z"
      },
      {
        "duration": 380,
        "start_time": "2023-01-12T21:11:35.841Z"
      },
      {
        "duration": 81,
        "start_time": "2023-01-12T21:11:36.224Z"
      },
      {
        "duration": 137,
        "start_time": "2023-01-12T21:11:36.307Z"
      },
      {
        "duration": 741,
        "start_time": "2023-01-12T21:11:36.445Z"
      },
      {
        "duration": 159,
        "start_time": "2023-01-12T21:11:37.188Z"
      },
      {
        "duration": 149,
        "start_time": "2023-01-12T21:11:37.354Z"
      },
      {
        "duration": 82,
        "start_time": "2023-01-12T21:11:37.505Z"
      },
      {
        "duration": 246,
        "start_time": "2023-01-12T21:11:37.590Z"
      },
      {
        "duration": 88,
        "start_time": "2023-01-12T21:11:37.840Z"
      },
      {
        "duration": 2756,
        "start_time": "2023-01-12T21:11:37.933Z"
      },
      {
        "duration": 12,
        "start_time": "2023-01-12T21:11:40.691Z"
      },
      {
        "duration": 564,
        "start_time": "2023-01-12T21:11:40.711Z"
      },
      {
        "duration": 11,
        "start_time": "2023-01-12T21:11:41.277Z"
      },
      {
        "duration": 527,
        "start_time": "2023-01-12T21:11:41.290Z"
      },
      {
        "duration": 13,
        "start_time": "2023-01-12T21:11:41.819Z"
      },
      {
        "duration": 491,
        "start_time": "2023-01-12T21:11:41.835Z"
      },
      {
        "duration": 31,
        "start_time": "2023-01-12T21:11:42.328Z"
      },
      {
        "duration": 19,
        "start_time": "2023-01-12T21:11:42.361Z"
      },
      {
        "duration": 54,
        "start_time": "2023-01-12T21:11:42.382Z"
      },
      {
        "duration": 82,
        "start_time": "2023-01-12T21:11:42.438Z"
      },
      {
        "duration": 452,
        "start_time": "2023-01-12T21:11:42.522Z"
      },
      {
        "duration": 9,
        "start_time": "2023-01-12T21:11:42.977Z"
      },
      {
        "duration": 1050,
        "start_time": "2023-01-12T21:11:42.989Z"
      },
      {
        "duration": 52,
        "start_time": "2023-01-12T21:11:44.041Z"
      },
      {
        "duration": 23,
        "start_time": "2023-01-12T21:11:44.095Z"
      },
      {
        "duration": 13,
        "start_time": "2023-01-12T21:11:44.121Z"
      },
      {
        "duration": 21,
        "start_time": "2023-01-12T21:11:44.136Z"
      },
      {
        "duration": 6,
        "start_time": "2023-01-12T21:11:44.162Z"
      },
      {
        "duration": 108,
        "start_time": "2023-01-12T21:11:44.172Z"
      },
      {
        "duration": 210,
        "start_time": "2023-01-12T21:11:44.285Z"
      },
      {
        "duration": 0,
        "start_time": "2023-01-12T21:11:44.502Z"
      },
      {
        "duration": 0,
        "start_time": "2023-01-12T21:11:44.504Z"
      },
      {
        "duration": 0,
        "start_time": "2023-01-12T21:11:44.506Z"
      },
      {
        "duration": 0,
        "start_time": "2023-01-12T21:11:44.508Z"
      },
      {
        "duration": 0,
        "start_time": "2023-01-12T21:11:44.509Z"
      },
      {
        "duration": 1,
        "start_time": "2023-01-12T21:11:44.510Z"
      },
      {
        "duration": 0,
        "start_time": "2023-01-12T21:11:44.512Z"
      },
      {
        "duration": 0,
        "start_time": "2023-01-12T21:11:44.513Z"
      },
      {
        "duration": 0,
        "start_time": "2023-01-12T21:11:44.521Z"
      },
      {
        "duration": 0,
        "start_time": "2023-01-12T21:11:44.523Z"
      },
      {
        "duration": 0,
        "start_time": "2023-01-12T21:11:44.525Z"
      },
      {
        "duration": 0,
        "start_time": "2023-01-12T21:11:44.526Z"
      },
      {
        "duration": 0,
        "start_time": "2023-01-12T21:11:44.527Z"
      },
      {
        "duration": 0,
        "start_time": "2023-01-12T21:11:44.551Z"
      },
      {
        "duration": 0,
        "start_time": "2023-01-12T21:11:44.552Z"
      },
      {
        "duration": 0,
        "start_time": "2023-01-12T21:11:44.554Z"
      },
      {
        "duration": 10,
        "start_time": "2023-01-12T21:12:39.370Z"
      },
      {
        "duration": 4,
        "start_time": "2023-01-12T21:12:44.704Z"
      },
      {
        "duration": 46,
        "start_time": "2023-01-12T21:12:45.804Z"
      },
      {
        "duration": 10,
        "start_time": "2023-01-12T21:12:46.521Z"
      },
      {
        "duration": 14,
        "start_time": "2023-01-12T21:13:01.134Z"
      },
      {
        "duration": 20,
        "start_time": "2023-01-12T21:13:25.150Z"
      },
      {
        "duration": 1682,
        "start_time": "2023-01-12T21:14:40.064Z"
      },
      {
        "duration": 2555,
        "start_time": "2023-01-12T21:14:41.748Z"
      },
      {
        "duration": 1016,
        "start_time": "2023-01-12T21:14:44.305Z"
      },
      {
        "duration": 166,
        "start_time": "2023-01-12T21:14:45.324Z"
      },
      {
        "duration": 312,
        "start_time": "2023-01-12T21:14:45.492Z"
      },
      {
        "duration": 80,
        "start_time": "2023-01-12T21:14:45.806Z"
      },
      {
        "duration": 106,
        "start_time": "2023-01-12T21:14:45.888Z"
      },
      {
        "duration": 723,
        "start_time": "2023-01-12T21:14:45.996Z"
      },
      {
        "duration": 136,
        "start_time": "2023-01-12T21:14:46.721Z"
      },
      {
        "duration": 120,
        "start_time": "2023-01-12T21:14:46.862Z"
      },
      {
        "duration": 71,
        "start_time": "2023-01-12T21:14:46.985Z"
      },
      {
        "duration": 175,
        "start_time": "2023-01-12T21:14:47.060Z"
      },
      {
        "duration": 73,
        "start_time": "2023-01-12T21:14:47.237Z"
      },
      {
        "duration": 2232,
        "start_time": "2023-01-12T21:14:47.312Z"
      },
      {
        "duration": 17,
        "start_time": "2023-01-12T21:14:49.546Z"
      },
      {
        "duration": 573,
        "start_time": "2023-01-12T21:14:49.565Z"
      },
      {
        "duration": 23,
        "start_time": "2023-01-12T21:14:50.141Z"
      },
      {
        "duration": 441,
        "start_time": "2023-01-12T21:14:50.167Z"
      },
      {
        "duration": 17,
        "start_time": "2023-01-12T21:14:50.610Z"
      },
      {
        "duration": 394,
        "start_time": "2023-01-12T21:14:50.629Z"
      },
      {
        "duration": 33,
        "start_time": "2023-01-12T21:14:51.025Z"
      },
      {
        "duration": 20,
        "start_time": "2023-01-12T21:14:51.064Z"
      },
      {
        "duration": 48,
        "start_time": "2023-01-12T21:14:51.086Z"
      },
      {
        "duration": 92,
        "start_time": "2023-01-12T21:14:51.136Z"
      },
      {
        "duration": 339,
        "start_time": "2023-01-12T21:14:51.230Z"
      },
      {
        "duration": 3,
        "start_time": "2023-01-12T21:14:51.572Z"
      },
      {
        "duration": 896,
        "start_time": "2023-01-12T21:14:51.577Z"
      },
      {
        "duration": 24,
        "start_time": "2023-01-12T21:14:52.476Z"
      },
      {
        "duration": 3,
        "start_time": "2023-01-12T21:14:52.502Z"
      },
      {
        "duration": 9,
        "start_time": "2023-01-12T21:14:52.506Z"
      },
      {
        "duration": 14,
        "start_time": "2023-01-12T21:14:52.517Z"
      },
      {
        "duration": 141,
        "start_time": "2023-01-12T21:14:52.533Z"
      },
      {
        "duration": 0,
        "start_time": "2023-01-12T21:14:52.676Z"
      },
      {
        "duration": 0,
        "start_time": "2023-01-12T21:14:52.677Z"
      },
      {
        "duration": 0,
        "start_time": "2023-01-12T21:14:52.679Z"
      },
      {
        "duration": 0,
        "start_time": "2023-01-12T21:14:52.680Z"
      },
      {
        "duration": 0,
        "start_time": "2023-01-12T21:14:52.681Z"
      },
      {
        "duration": 0,
        "start_time": "2023-01-12T21:14:52.682Z"
      },
      {
        "duration": 0,
        "start_time": "2023-01-12T21:14:52.684Z"
      },
      {
        "duration": 0,
        "start_time": "2023-01-12T21:14:52.685Z"
      },
      {
        "duration": 0,
        "start_time": "2023-01-12T21:14:52.686Z"
      },
      {
        "duration": 0,
        "start_time": "2023-01-12T21:14:52.687Z"
      },
      {
        "duration": 0,
        "start_time": "2023-01-12T21:14:52.688Z"
      },
      {
        "duration": 0,
        "start_time": "2023-01-12T21:14:52.689Z"
      },
      {
        "duration": 0,
        "start_time": "2023-01-12T21:14:52.690Z"
      },
      {
        "duration": 0,
        "start_time": "2023-01-12T21:14:52.693Z"
      },
      {
        "duration": 0,
        "start_time": "2023-01-12T21:14:52.694Z"
      },
      {
        "duration": 0,
        "start_time": "2023-01-12T21:14:52.702Z"
      },
      {
        "duration": 0,
        "start_time": "2023-01-12T21:14:52.704Z"
      },
      {
        "duration": 4,
        "start_time": "2023-01-12T21:15:08.878Z"
      },
      {
        "duration": 47,
        "start_time": "2023-01-12T21:15:11.838Z"
      },
      {
        "duration": 14,
        "start_time": "2023-01-12T21:15:25.376Z"
      },
      {
        "duration": 1793,
        "start_time": "2023-01-12T21:16:30.228Z"
      },
      {
        "duration": 2608,
        "start_time": "2023-01-12T21:16:32.023Z"
      },
      {
        "duration": 1051,
        "start_time": "2023-01-12T21:16:34.633Z"
      },
      {
        "duration": 159,
        "start_time": "2023-01-12T21:16:35.688Z"
      },
      {
        "duration": 321,
        "start_time": "2023-01-12T21:16:35.851Z"
      },
      {
        "duration": 67,
        "start_time": "2023-01-12T21:16:36.181Z"
      },
      {
        "duration": 113,
        "start_time": "2023-01-12T21:16:36.250Z"
      },
      {
        "duration": 775,
        "start_time": "2023-01-12T21:16:36.367Z"
      },
      {
        "duration": 138,
        "start_time": "2023-01-12T21:16:37.144Z"
      },
      {
        "duration": 108,
        "start_time": "2023-01-12T21:16:37.284Z"
      },
      {
        "duration": 61,
        "start_time": "2023-01-12T21:16:37.394Z"
      },
      {
        "duration": 201,
        "start_time": "2023-01-12T21:16:37.464Z"
      },
      {
        "duration": 67,
        "start_time": "2023-01-12T21:16:37.672Z"
      },
      {
        "duration": 2359,
        "start_time": "2023-01-12T21:16:37.742Z"
      },
      {
        "duration": 12,
        "start_time": "2023-01-12T21:16:40.103Z"
      },
      {
        "duration": 511,
        "start_time": "2023-01-12T21:16:40.116Z"
      },
      {
        "duration": 11,
        "start_time": "2023-01-12T21:16:40.629Z"
      },
      {
        "duration": 454,
        "start_time": "2023-01-12T21:16:40.651Z"
      },
      {
        "duration": 10,
        "start_time": "2023-01-12T21:16:41.107Z"
      },
      {
        "duration": 418,
        "start_time": "2023-01-12T21:16:41.119Z"
      },
      {
        "duration": 21,
        "start_time": "2023-01-12T21:16:41.539Z"
      },
      {
        "duration": 44,
        "start_time": "2023-01-12T21:16:41.562Z"
      },
      {
        "duration": 39,
        "start_time": "2023-01-12T21:16:41.608Z"
      },
      {
        "duration": 85,
        "start_time": "2023-01-12T21:16:41.649Z"
      },
      {
        "duration": 354,
        "start_time": "2023-01-12T21:16:41.736Z"
      },
      {
        "duration": 3,
        "start_time": "2023-01-12T21:16:42.092Z"
      },
      {
        "duration": 926,
        "start_time": "2023-01-12T21:16:42.097Z"
      },
      {
        "duration": 45,
        "start_time": "2023-01-12T21:16:43.025Z"
      },
      {
        "duration": 3,
        "start_time": "2023-01-12T21:16:43.071Z"
      },
      {
        "duration": 20,
        "start_time": "2023-01-12T21:16:43.076Z"
      },
      {
        "duration": 19,
        "start_time": "2023-01-12T21:16:43.098Z"
      },
      {
        "duration": 5,
        "start_time": "2023-01-12T21:16:43.118Z"
      },
      {
        "duration": 49,
        "start_time": "2023-01-12T21:16:43.125Z"
      },
      {
        "duration": 4,
        "start_time": "2023-01-12T21:16:43.176Z"
      },
      {
        "duration": 146,
        "start_time": "2023-01-12T21:16:43.181Z"
      },
      {
        "duration": 2,
        "start_time": "2023-01-12T21:16:43.329Z"
      },
      {
        "duration": 9,
        "start_time": "2023-01-12T21:16:43.333Z"
      },
      {
        "duration": 26,
        "start_time": "2023-01-12T21:16:43.344Z"
      },
      {
        "duration": 22,
        "start_time": "2023-01-12T21:16:43.372Z"
      },
      {
        "duration": 10919,
        "start_time": "2023-01-12T21:16:43.396Z"
      },
      {
        "duration": 1687,
        "start_time": "2023-01-12T21:32:29.499Z"
      },
      {
        "duration": 2392,
        "start_time": "2023-01-12T21:32:31.188Z"
      },
      {
        "duration": 963,
        "start_time": "2023-01-12T21:32:33.582Z"
      },
      {
        "duration": 155,
        "start_time": "2023-01-12T21:32:34.550Z"
      },
      {
        "duration": 328,
        "start_time": "2023-01-12T21:32:34.709Z"
      },
      {
        "duration": 71,
        "start_time": "2023-01-12T21:32:35.039Z"
      },
      {
        "duration": 111,
        "start_time": "2023-01-12T21:32:35.112Z"
      },
      {
        "duration": 718,
        "start_time": "2023-01-12T21:32:35.224Z"
      },
      {
        "duration": 137,
        "start_time": "2023-01-12T21:32:35.944Z"
      },
      {
        "duration": 99,
        "start_time": "2023-01-12T21:32:36.083Z"
      },
      {
        "duration": 49,
        "start_time": "2023-01-12T21:32:36.184Z"
      },
      {
        "duration": 191,
        "start_time": "2023-01-12T21:32:36.234Z"
      },
      {
        "duration": 79,
        "start_time": "2023-01-12T21:32:36.427Z"
      },
      {
        "duration": 2117,
        "start_time": "2023-01-12T21:32:36.511Z"
      },
      {
        "duration": 32,
        "start_time": "2023-01-12T21:32:38.630Z"
      },
      {
        "duration": 431,
        "start_time": "2023-01-12T21:32:38.669Z"
      },
      {
        "duration": 10,
        "start_time": "2023-01-12T21:32:39.102Z"
      },
      {
        "duration": 469,
        "start_time": "2023-01-12T21:32:39.114Z"
      },
      {
        "duration": 15,
        "start_time": "2023-01-12T21:32:39.586Z"
      },
      {
        "duration": 517,
        "start_time": "2023-01-12T21:32:39.603Z"
      },
      {
        "duration": 37,
        "start_time": "2023-01-12T21:32:40.122Z"
      },
      {
        "duration": 24,
        "start_time": "2023-01-12T21:32:40.161Z"
      },
      {
        "duration": 46,
        "start_time": "2023-01-12T21:32:40.187Z"
      },
      {
        "duration": 93,
        "start_time": "2023-01-12T21:32:40.234Z"
      },
      {
        "duration": 366,
        "start_time": "2023-01-12T21:32:40.329Z"
      },
      {
        "duration": 4,
        "start_time": "2023-01-12T21:32:40.698Z"
      },
      {
        "duration": 885,
        "start_time": "2023-01-12T21:32:40.705Z"
      },
      {
        "duration": 30,
        "start_time": "2023-01-12T21:32:41.592Z"
      },
      {
        "duration": 5,
        "start_time": "2023-01-12T21:32:41.624Z"
      },
      {
        "duration": 48,
        "start_time": "2023-01-12T21:32:41.631Z"
      },
      {
        "duration": 29,
        "start_time": "2023-01-12T21:32:41.681Z"
      },
      {
        "duration": 36,
        "start_time": "2023-01-12T21:32:41.712Z"
      },
      {
        "duration": 66,
        "start_time": "2023-01-12T21:32:41.750Z"
      },
      {
        "duration": 5,
        "start_time": "2023-01-12T21:32:41.818Z"
      },
      {
        "duration": 165,
        "start_time": "2023-01-12T21:32:41.825Z"
      },
      {
        "duration": 3,
        "start_time": "2023-01-12T21:32:41.992Z"
      },
      {
        "duration": 8,
        "start_time": "2023-01-12T21:32:41.997Z"
      },
      {
        "duration": 12,
        "start_time": "2023-01-12T21:32:42.007Z"
      },
      {
        "duration": 5,
        "start_time": "2023-01-12T21:32:42.021Z"
      },
      {
        "duration": 10391,
        "start_time": "2023-01-12T21:32:42.028Z"
      },
      {
        "duration": 1730,
        "start_time": "2023-01-12T21:41:23.710Z"
      },
      {
        "duration": 2500,
        "start_time": "2023-01-12T21:41:25.442Z"
      },
      {
        "duration": 1088,
        "start_time": "2023-01-12T21:41:27.944Z"
      },
      {
        "duration": 258,
        "start_time": "2023-01-12T21:41:29.034Z"
      },
      {
        "duration": 409,
        "start_time": "2023-01-12T21:41:29.304Z"
      },
      {
        "duration": 82,
        "start_time": "2023-01-12T21:41:29.715Z"
      },
      {
        "duration": 146,
        "start_time": "2023-01-12T21:41:29.799Z"
      },
      {
        "duration": 901,
        "start_time": "2023-01-12T21:41:29.947Z"
      },
      {
        "duration": 148,
        "start_time": "2023-01-12T21:41:30.849Z"
      },
      {
        "duration": 120,
        "start_time": "2023-01-12T21:41:30.999Z"
      },
      {
        "duration": 67,
        "start_time": "2023-01-12T21:41:31.122Z"
      },
      {
        "duration": 207,
        "start_time": "2023-01-12T21:41:31.191Z"
      },
      {
        "duration": 83,
        "start_time": "2023-01-12T21:41:31.400Z"
      },
      {
        "duration": 2409,
        "start_time": "2023-01-12T21:41:31.487Z"
      },
      {
        "duration": 12,
        "start_time": "2023-01-12T21:41:33.898Z"
      },
      {
        "duration": 487,
        "start_time": "2023-01-12T21:41:33.912Z"
      },
      {
        "duration": 13,
        "start_time": "2023-01-12T21:41:34.401Z"
      },
      {
        "duration": 451,
        "start_time": "2023-01-12T21:41:34.415Z"
      },
      {
        "duration": 12,
        "start_time": "2023-01-12T21:41:34.868Z"
      },
      {
        "duration": 445,
        "start_time": "2023-01-12T21:41:34.883Z"
      },
      {
        "duration": 31,
        "start_time": "2023-01-12T21:41:35.330Z"
      },
      {
        "duration": 22,
        "start_time": "2023-01-12T21:41:35.371Z"
      },
      {
        "duration": 41,
        "start_time": "2023-01-12T21:41:35.395Z"
      },
      {
        "duration": 105,
        "start_time": "2023-01-12T21:41:35.438Z"
      },
      {
        "duration": 356,
        "start_time": "2023-01-12T21:41:35.551Z"
      },
      {
        "duration": 3,
        "start_time": "2023-01-12T21:41:35.909Z"
      },
      {
        "duration": 962,
        "start_time": "2023-01-12T21:41:35.914Z"
      },
      {
        "duration": 28,
        "start_time": "2023-01-12T21:41:36.884Z"
      },
      {
        "duration": 3,
        "start_time": "2023-01-12T21:41:36.914Z"
      },
      {
        "duration": 6,
        "start_time": "2023-01-12T21:41:36.919Z"
      },
      {
        "duration": 15,
        "start_time": "2023-01-12T21:41:36.927Z"
      },
      {
        "duration": 42,
        "start_time": "2023-01-12T21:41:36.944Z"
      },
      {
        "duration": 38,
        "start_time": "2023-01-12T21:41:36.988Z"
      },
      {
        "duration": 5,
        "start_time": "2023-01-12T21:41:37.028Z"
      },
      {
        "duration": 182,
        "start_time": "2023-01-12T21:41:37.035Z"
      },
      {
        "duration": 3,
        "start_time": "2023-01-12T21:41:37.219Z"
      },
      {
        "duration": 11,
        "start_time": "2023-01-12T21:41:37.224Z"
      },
      {
        "duration": 35,
        "start_time": "2023-01-12T21:41:37.237Z"
      },
      {
        "duration": 16,
        "start_time": "2023-01-12T21:41:37.274Z"
      },
      {
        "duration": 1849,
        "start_time": "2023-01-12T21:41:45.725Z"
      },
      {
        "duration": 2732,
        "start_time": "2023-01-12T21:41:47.577Z"
      },
      {
        "duration": 1088,
        "start_time": "2023-01-12T21:41:50.311Z"
      },
      {
        "duration": 211,
        "start_time": "2023-01-12T21:41:51.402Z"
      },
      {
        "duration": 382,
        "start_time": "2023-01-12T21:41:51.616Z"
      },
      {
        "duration": 83,
        "start_time": "2023-01-12T21:41:51.999Z"
      },
      {
        "duration": 116,
        "start_time": "2023-01-12T21:41:52.084Z"
      },
      {
        "duration": 822,
        "start_time": "2023-01-12T21:41:52.203Z"
      },
      {
        "duration": 141,
        "start_time": "2023-01-12T21:41:53.027Z"
      },
      {
        "duration": 115,
        "start_time": "2023-01-12T21:41:53.170Z"
      },
      {
        "duration": 67,
        "start_time": "2023-01-12T21:41:53.288Z"
      },
      {
        "duration": 201,
        "start_time": "2023-01-12T21:41:53.356Z"
      },
      {
        "duration": 72,
        "start_time": "2023-01-12T21:41:53.561Z"
      },
      {
        "duration": 2464,
        "start_time": "2023-01-12T21:41:53.637Z"
      },
      {
        "duration": 12,
        "start_time": "2023-01-12T21:41:56.103Z"
      },
      {
        "duration": 493,
        "start_time": "2023-01-12T21:41:56.117Z"
      },
      {
        "duration": 10,
        "start_time": "2023-01-12T21:41:56.612Z"
      },
      {
        "duration": 480,
        "start_time": "2023-01-12T21:41:56.624Z"
      },
      {
        "duration": 12,
        "start_time": "2023-01-12T21:41:57.106Z"
      },
      {
        "duration": 413,
        "start_time": "2023-01-12T21:41:57.120Z"
      },
      {
        "duration": 29,
        "start_time": "2023-01-12T21:41:57.536Z"
      },
      {
        "duration": 22,
        "start_time": "2023-01-12T21:41:57.567Z"
      },
      {
        "duration": 69,
        "start_time": "2023-01-12T21:41:57.592Z"
      },
      {
        "duration": 86,
        "start_time": "2023-01-12T21:41:57.666Z"
      },
      {
        "duration": 368,
        "start_time": "2023-01-12T21:41:57.758Z"
      },
      {
        "duration": 3,
        "start_time": "2023-01-12T21:41:58.128Z"
      },
      {
        "duration": 950,
        "start_time": "2023-01-12T21:41:58.133Z"
      },
      {
        "duration": 30,
        "start_time": "2023-01-12T21:41:59.086Z"
      },
      {
        "duration": 4,
        "start_time": "2023-01-12T21:41:59.118Z"
      },
      {
        "duration": 10,
        "start_time": "2023-01-12T21:41:59.124Z"
      },
      {
        "duration": 11,
        "start_time": "2023-01-12T21:41:59.150Z"
      },
      {
        "duration": 24,
        "start_time": "2023-01-12T21:41:59.166Z"
      },
      {
        "duration": 57,
        "start_time": "2023-01-12T21:41:59.192Z"
      },
      {
        "duration": 8,
        "start_time": "2023-01-12T21:41:59.252Z"
      },
      {
        "duration": 174,
        "start_time": "2023-01-12T21:41:59.272Z"
      },
      {
        "duration": 7,
        "start_time": "2023-01-12T21:41:59.448Z"
      },
      {
        "duration": 25,
        "start_time": "2023-01-12T21:41:59.461Z"
      },
      {
        "duration": 12,
        "start_time": "2023-01-12T21:41:59.488Z"
      },
      {
        "duration": 7,
        "start_time": "2023-01-12T21:41:59.502Z"
      },
      {
        "duration": 11803,
        "start_time": "2023-01-12T21:41:59.511Z"
      },
      {
        "duration": 1926,
        "start_time": "2023-01-12T21:43:54.273Z"
      },
      {
        "duration": 5,
        "start_time": "2023-01-12T21:44:04.077Z"
      },
      {
        "duration": 2785,
        "start_time": "2023-01-12T21:44:04.637Z"
      },
      {
        "duration": 1075,
        "start_time": "2023-01-12T21:44:07.425Z"
      },
      {
        "duration": 185,
        "start_time": "2023-01-12T21:44:08.502Z"
      },
      {
        "duration": 384,
        "start_time": "2023-01-12T21:44:08.690Z"
      },
      {
        "duration": 97,
        "start_time": "2023-01-12T21:44:14.295Z"
      },
      {
        "duration": 109,
        "start_time": "2023-01-12T21:44:16.293Z"
      },
      {
        "duration": 904,
        "start_time": "2023-01-12T21:44:17.587Z"
      },
      {
        "duration": 250,
        "start_time": "2023-01-12T21:44:18.877Z"
      },
      {
        "duration": 1749,
        "start_time": "2023-01-12T21:45:27.620Z"
      },
      {
        "duration": 2765,
        "start_time": "2023-01-12T21:45:29.371Z"
      },
      {
        "duration": 1163,
        "start_time": "2023-01-12T21:45:32.138Z"
      },
      {
        "duration": 181,
        "start_time": "2023-01-12T21:45:33.303Z"
      },
      {
        "duration": 337,
        "start_time": "2023-01-12T21:45:33.486Z"
      },
      {
        "duration": 81,
        "start_time": "2023-01-12T21:45:33.825Z"
      },
      {
        "duration": 118,
        "start_time": "2023-01-12T21:45:35.846Z"
      },
      {
        "duration": 787,
        "start_time": "2023-01-12T21:45:36.654Z"
      },
      {
        "duration": 231,
        "start_time": "2023-01-12T21:45:37.563Z"
      },
      {
        "duration": 226,
        "start_time": "2023-01-12T21:45:41.798Z"
      },
      {
        "duration": 87,
        "start_time": "2023-01-12T21:46:04.146Z"
      },
      {
        "duration": 2445,
        "start_time": "2023-01-12T21:46:04.837Z"
      },
      {
        "duration": 19,
        "start_time": "2023-01-12T21:46:11.540Z"
      },
      {
        "duration": 532,
        "start_time": "2023-01-12T21:46:15.069Z"
      },
      {
        "duration": 11,
        "start_time": "2023-01-12T21:46:16.599Z"
      },
      {
        "duration": 450,
        "start_time": "2023-01-12T21:46:17.384Z"
      },
      {
        "duration": 15,
        "start_time": "2023-01-12T21:46:18.637Z"
      },
      {
        "duration": 445,
        "start_time": "2023-01-12T21:46:20.277Z"
      },
      {
        "duration": 18,
        "start_time": "2023-01-12T21:46:22.722Z"
      },
      {
        "duration": 26,
        "start_time": "2023-01-12T21:46:24.346Z"
      },
      {
        "duration": 43,
        "start_time": "2023-01-12T21:46:25.339Z"
      },
      {
        "duration": 109,
        "start_time": "2023-01-12T21:46:26.190Z"
      },
      {
        "duration": 396,
        "start_time": "2023-01-12T21:46:51.930Z"
      },
      {
        "duration": 451,
        "start_time": "2023-01-12T21:47:04.622Z"
      },
      {
        "duration": 2,
        "start_time": "2023-01-12T21:47:08.793Z"
      },
      {
        "duration": 1010,
        "start_time": "2023-01-12T21:47:25.040Z"
      },
      {
        "duration": 1866,
        "start_time": "2023-01-12T21:47:45.139Z"
      },
      {
        "duration": 2753,
        "start_time": "2023-01-12T21:47:47.008Z"
      },
      {
        "duration": 1162,
        "start_time": "2023-01-12T21:47:49.764Z"
      },
      {
        "duration": 195,
        "start_time": "2023-01-12T21:47:50.928Z"
      },
      {
        "duration": 400,
        "start_time": "2023-01-12T21:47:51.125Z"
      },
      {
        "duration": 81,
        "start_time": "2023-01-12T21:47:51.527Z"
      },
      {
        "duration": 134,
        "start_time": "2023-01-12T21:47:53.904Z"
      },
      {
        "duration": 828,
        "start_time": "2023-01-12T21:47:55.110Z"
      },
      {
        "duration": 259,
        "start_time": "2023-01-12T21:47:56.003Z"
      },
      {
        "duration": 259,
        "start_time": "2023-01-12T21:48:10.731Z"
      },
      {
        "duration": 94,
        "start_time": "2023-01-12T21:48:14.192Z"
      },
      {
        "duration": 2893,
        "start_time": "2023-01-12T21:48:17.325Z"
      },
      {
        "duration": 16,
        "start_time": "2023-01-12T21:48:20.221Z"
      },
      {
        "duration": 632,
        "start_time": "2023-01-12T21:48:29.830Z"
      },
      {
        "duration": 16,
        "start_time": "2023-01-12T21:48:30.848Z"
      },
      {
        "duration": 510,
        "start_time": "2023-01-12T21:48:34.701Z"
      },
      {
        "duration": 10,
        "start_time": "2023-01-12T21:48:36.276Z"
      },
      {
        "duration": 531,
        "start_time": "2023-01-12T21:48:37.637Z"
      },
      {
        "duration": 16,
        "start_time": "2023-01-12T21:48:38.886Z"
      },
      {
        "duration": 25,
        "start_time": "2023-01-12T21:48:40.387Z"
      },
      {
        "duration": 43,
        "start_time": "2023-01-12T21:48:41.809Z"
      },
      {
        "duration": 87,
        "start_time": "2023-01-12T21:48:52.979Z"
      },
      {
        "duration": 429,
        "start_time": "2023-01-12T21:48:55.299Z"
      },
      {
        "duration": 1204,
        "start_time": "2023-01-12T21:48:59.363Z"
      },
      {
        "duration": 31,
        "start_time": "2023-01-12T21:49:06.911Z"
      },
      {
        "duration": 4,
        "start_time": "2023-01-12T21:49:16.195Z"
      },
      {
        "duration": 3,
        "start_time": "2023-01-12T21:49:16.921Z"
      },
      {
        "duration": 20,
        "start_time": "2023-01-12T21:49:19.282Z"
      },
      {
        "duration": 4,
        "start_time": "2023-01-12T21:49:23.896Z"
      },
      {
        "duration": 52,
        "start_time": "2023-01-12T21:49:24.721Z"
      },
      {
        "duration": 5,
        "start_time": "2023-01-12T21:49:27.045Z"
      },
      {
        "duration": 220,
        "start_time": "2023-01-12T21:49:28.126Z"
      },
      {
        "duration": 5,
        "start_time": "2023-01-12T21:49:33.672Z"
      },
      {
        "duration": 7,
        "start_time": "2023-01-12T21:49:34.712Z"
      },
      {
        "duration": 5,
        "start_time": "2023-01-12T21:49:35.621Z"
      },
      {
        "duration": 4,
        "start_time": "2023-01-12T21:49:36.482Z"
      },
      {
        "duration": 13352,
        "start_time": "2023-01-12T21:49:38.480Z"
      },
      {
        "duration": 1043530,
        "start_time": "2023-01-12T21:49:51.835Z"
      },
      {
        "duration": 3,
        "start_time": "2023-01-14T07:29:27.763Z"
      },
      {
        "duration": 3,
        "start_time": "2023-01-14T07:29:31.413Z"
      },
      {
        "duration": 47,
        "start_time": "2023-01-14T09:58:52.062Z"
      },
      {
        "duration": 3,
        "start_time": "2023-01-14T09:59:27.109Z"
      },
      {
        "duration": 12,
        "start_time": "2023-01-14T09:59:27.114Z"
      },
      {
        "duration": 1709,
        "start_time": "2023-01-14T09:59:27.127Z"
      },
      {
        "duration": 142,
        "start_time": "2023-01-14T09:59:28.838Z"
      },
      {
        "duration": 0,
        "start_time": "2023-01-14T09:59:28.983Z"
      },
      {
        "duration": 0,
        "start_time": "2023-01-14T09:59:28.985Z"
      },
      {
        "duration": 0,
        "start_time": "2023-01-14T09:59:28.986Z"
      },
      {
        "duration": 0,
        "start_time": "2023-01-14T09:59:28.987Z"
      },
      {
        "duration": 0,
        "start_time": "2023-01-14T09:59:28.988Z"
      },
      {
        "duration": 0,
        "start_time": "2023-01-14T09:59:28.989Z"
      },
      {
        "duration": 0,
        "start_time": "2023-01-14T09:59:28.991Z"
      },
      {
        "duration": 0,
        "start_time": "2023-01-14T09:59:28.992Z"
      },
      {
        "duration": 0,
        "start_time": "2023-01-14T09:59:28.993Z"
      },
      {
        "duration": 0,
        "start_time": "2023-01-14T09:59:28.994Z"
      },
      {
        "duration": 0,
        "start_time": "2023-01-14T09:59:28.995Z"
      },
      {
        "duration": 0,
        "start_time": "2023-01-14T09:59:28.996Z"
      },
      {
        "duration": 0,
        "start_time": "2023-01-14T09:59:28.997Z"
      },
      {
        "duration": 0,
        "start_time": "2023-01-14T09:59:28.998Z"
      },
      {
        "duration": 0,
        "start_time": "2023-01-14T09:59:28.999Z"
      },
      {
        "duration": 0,
        "start_time": "2023-01-14T09:59:29.000Z"
      },
      {
        "duration": 0,
        "start_time": "2023-01-14T09:59:29.001Z"
      },
      {
        "duration": 0,
        "start_time": "2023-01-14T09:59:29.002Z"
      },
      {
        "duration": 0,
        "start_time": "2023-01-14T09:59:29.036Z"
      },
      {
        "duration": 0,
        "start_time": "2023-01-14T09:59:29.037Z"
      },
      {
        "duration": 0,
        "start_time": "2023-01-14T09:59:29.038Z"
      },
      {
        "duration": 0,
        "start_time": "2023-01-14T09:59:29.039Z"
      },
      {
        "duration": 0,
        "start_time": "2023-01-14T09:59:29.040Z"
      },
      {
        "duration": 0,
        "start_time": "2023-01-14T09:59:29.041Z"
      },
      {
        "duration": 0,
        "start_time": "2023-01-14T09:59:29.043Z"
      },
      {
        "duration": 0,
        "start_time": "2023-01-14T09:59:29.044Z"
      },
      {
        "duration": 0,
        "start_time": "2023-01-14T09:59:29.045Z"
      },
      {
        "duration": 0,
        "start_time": "2023-01-14T09:59:29.046Z"
      },
      {
        "duration": 0,
        "start_time": "2023-01-14T09:59:29.048Z"
      },
      {
        "duration": 0,
        "start_time": "2023-01-14T09:59:29.049Z"
      },
      {
        "duration": 0,
        "start_time": "2023-01-14T09:59:29.050Z"
      },
      {
        "duration": 0,
        "start_time": "2023-01-14T09:59:29.051Z"
      },
      {
        "duration": 0,
        "start_time": "2023-01-14T09:59:29.052Z"
      },
      {
        "duration": 0,
        "start_time": "2023-01-14T09:59:29.053Z"
      },
      {
        "duration": 0,
        "start_time": "2023-01-14T09:59:29.055Z"
      },
      {
        "duration": 0,
        "start_time": "2023-01-14T09:59:29.056Z"
      },
      {
        "duration": 0,
        "start_time": "2023-01-14T09:59:29.057Z"
      },
      {
        "duration": 0,
        "start_time": "2023-01-14T09:59:29.058Z"
      },
      {
        "duration": 0,
        "start_time": "2023-01-14T09:59:29.060Z"
      },
      {
        "duration": 0,
        "start_time": "2023-01-14T09:59:29.061Z"
      },
      {
        "duration": 0,
        "start_time": "2023-01-14T09:59:29.062Z"
      },
      {
        "duration": 0,
        "start_time": "2023-01-14T09:59:29.063Z"
      },
      {
        "duration": 0,
        "start_time": "2023-01-14T09:59:29.064Z"
      },
      {
        "duration": 0,
        "start_time": "2023-01-14T09:59:29.065Z"
      },
      {
        "duration": 1099,
        "start_time": "2023-01-14T10:01:34.355Z"
      },
      {
        "duration": 3,
        "start_time": "2023-01-14T10:01:40.930Z"
      },
      {
        "duration": 19,
        "start_time": "2023-01-14T10:01:40.935Z"
      },
      {
        "duration": 1488,
        "start_time": "2023-01-14T10:01:40.956Z"
      },
      {
        "duration": 855,
        "start_time": "2023-01-14T10:01:42.446Z"
      },
      {
        "duration": 141,
        "start_time": "2023-01-14T10:01:43.303Z"
      },
      {
        "duration": 283,
        "start_time": "2023-01-14T10:01:43.446Z"
      },
      {
        "duration": 62,
        "start_time": "2023-01-14T10:01:43.730Z"
      },
      {
        "duration": 95,
        "start_time": "2023-01-14T10:01:43.794Z"
      },
      {
        "duration": 623,
        "start_time": "2023-01-14T10:01:43.890Z"
      },
      {
        "duration": 189,
        "start_time": "2023-01-14T10:01:44.516Z"
      },
      {
        "duration": 175,
        "start_time": "2023-01-14T10:01:44.707Z"
      },
      {
        "duration": 77,
        "start_time": "2023-01-14T10:01:44.885Z"
      },
      {
        "duration": 2006,
        "start_time": "2023-01-14T10:01:44.964Z"
      },
      {
        "duration": 11,
        "start_time": "2023-01-14T10:01:46.974Z"
      },
      {
        "duration": 465,
        "start_time": "2023-01-14T10:01:46.987Z"
      },
      {
        "duration": 9,
        "start_time": "2023-01-14T10:01:47.455Z"
      },
      {
        "duration": 295,
        "start_time": "2023-01-14T10:01:47.465Z"
      },
      {
        "duration": 10,
        "start_time": "2023-01-14T10:01:47.762Z"
      },
      {
        "duration": 370,
        "start_time": "2023-01-14T10:01:47.773Z"
      },
      {
        "duration": 12,
        "start_time": "2023-01-14T10:01:48.145Z"
      },
      {
        "duration": 26,
        "start_time": "2023-01-14T10:01:48.159Z"
      },
      {
        "duration": 30,
        "start_time": "2023-01-14T10:01:48.188Z"
      },
      {
        "duration": 82,
        "start_time": "2023-01-14T10:01:48.220Z"
      },
      {
        "duration": 323,
        "start_time": "2023-01-14T10:01:48.304Z"
      },
      {
        "duration": 841,
        "start_time": "2023-01-14T10:01:48.629Z"
      },
      {
        "duration": 23,
        "start_time": "2023-01-14T10:01:49.472Z"
      },
      {
        "duration": 3,
        "start_time": "2023-01-14T10:01:49.496Z"
      },
      {
        "duration": 9,
        "start_time": "2023-01-14T10:01:49.501Z"
      },
      {
        "duration": 30,
        "start_time": "2023-01-14T10:01:49.511Z"
      },
      {
        "duration": 23,
        "start_time": "2023-01-14T10:01:49.543Z"
      },
      {
        "duration": 62,
        "start_time": "2023-01-14T10:01:49.568Z"
      },
      {
        "duration": 4,
        "start_time": "2023-01-14T10:01:49.632Z"
      },
      {
        "duration": 152,
        "start_time": "2023-01-14T10:01:49.637Z"
      },
      {
        "duration": 3,
        "start_time": "2023-01-14T10:01:49.791Z"
      },
      {
        "duration": 17,
        "start_time": "2023-01-14T10:01:49.796Z"
      },
      {
        "duration": 34,
        "start_time": "2023-01-14T10:01:49.815Z"
      },
      {
        "duration": 9,
        "start_time": "2023-01-14T10:01:49.851Z"
      },
      {
        "duration": 8804,
        "start_time": "2023-01-14T10:01:49.861Z"
      },
      {
        "duration": 5,
        "start_time": "2023-01-14T13:05:02.389Z"
      },
      {
        "duration": 63,
        "start_time": "2023-01-14T13:05:02.396Z"
      },
      {
        "duration": 1579,
        "start_time": "2023-01-14T13:05:02.461Z"
      },
      {
        "duration": 1078,
        "start_time": "2023-01-14T13:05:04.042Z"
      },
      {
        "duration": 131,
        "start_time": "2023-01-14T13:05:05.121Z"
      },
      {
        "duration": 281,
        "start_time": "2023-01-14T13:05:05.255Z"
      },
      {
        "duration": 72,
        "start_time": "2023-01-14T13:05:05.538Z"
      },
      {
        "duration": 176,
        "start_time": "2023-01-14T13:05:05.621Z"
      },
      {
        "duration": 570,
        "start_time": "2023-01-14T13:05:05.800Z"
      },
      {
        "duration": 250,
        "start_time": "2023-01-14T13:05:06.372Z"
      },
      {
        "duration": 214,
        "start_time": "2023-01-14T13:05:06.624Z"
      },
      {
        "duration": 81,
        "start_time": "2023-01-14T13:05:06.840Z"
      },
      {
        "duration": 1877,
        "start_time": "2023-01-14T13:05:06.923Z"
      },
      {
        "duration": 10,
        "start_time": "2023-01-14T13:05:08.802Z"
      },
      {
        "duration": 360,
        "start_time": "2023-01-14T13:05:08.821Z"
      },
      {
        "duration": 10,
        "start_time": "2023-01-14T13:05:09.183Z"
      },
      {
        "duration": 285,
        "start_time": "2023-01-14T13:05:09.195Z"
      },
      {
        "duration": 11,
        "start_time": "2023-01-14T13:05:09.482Z"
      },
      {
        "duration": 316,
        "start_time": "2023-01-14T13:05:09.495Z"
      },
      {
        "duration": 19,
        "start_time": "2023-01-14T13:05:09.813Z"
      },
      {
        "duration": 15,
        "start_time": "2023-01-14T13:05:09.834Z"
      },
      {
        "duration": 27,
        "start_time": "2023-01-14T13:05:09.851Z"
      },
      {
        "duration": 89,
        "start_time": "2023-01-14T13:05:09.879Z"
      },
      {
        "duration": 281,
        "start_time": "2023-01-14T13:05:09.972Z"
      },
      {
        "duration": 737,
        "start_time": "2023-01-14T13:05:10.255Z"
      },
      {
        "duration": 48,
        "start_time": "2023-01-14T13:05:10.994Z"
      },
      {
        "duration": 0,
        "start_time": "2023-01-14T13:05:11.044Z"
      },
      {
        "duration": 0,
        "start_time": "2023-01-14T13:05:11.045Z"
      },
      {
        "duration": 0,
        "start_time": "2023-01-14T13:05:11.046Z"
      },
      {
        "duration": 0,
        "start_time": "2023-01-14T13:05:11.048Z"
      },
      {
        "duration": 0,
        "start_time": "2023-01-14T13:05:11.049Z"
      },
      {
        "duration": 0,
        "start_time": "2023-01-14T13:05:11.050Z"
      },
      {
        "duration": 0,
        "start_time": "2023-01-14T13:05:11.051Z"
      },
      {
        "duration": 0,
        "start_time": "2023-01-14T13:05:11.052Z"
      },
      {
        "duration": 0,
        "start_time": "2023-01-14T13:05:11.053Z"
      },
      {
        "duration": 0,
        "start_time": "2023-01-14T13:05:11.054Z"
      },
      {
        "duration": 0,
        "start_time": "2023-01-14T13:05:11.055Z"
      },
      {
        "duration": 0,
        "start_time": "2023-01-14T13:05:11.056Z"
      },
      {
        "duration": 0,
        "start_time": "2023-01-14T13:05:11.058Z"
      },
      {
        "duration": 0,
        "start_time": "2023-01-14T13:05:11.060Z"
      },
      {
        "duration": 0,
        "start_time": "2023-01-14T13:05:11.061Z"
      },
      {
        "duration": 0,
        "start_time": "2023-01-14T13:05:11.062Z"
      },
      {
        "duration": 0,
        "start_time": "2023-01-14T13:05:11.064Z"
      },
      {
        "duration": 0,
        "start_time": "2023-01-14T13:05:11.066Z"
      },
      {
        "duration": 0,
        "start_time": "2023-01-14T13:05:11.067Z"
      },
      {
        "duration": 0,
        "start_time": "2023-01-14T13:05:11.068Z"
      },
      {
        "duration": 0,
        "start_time": "2023-01-14T13:05:11.070Z"
      },
      {
        "duration": 0,
        "start_time": "2023-01-14T13:05:11.073Z"
      },
      {
        "duration": 0,
        "start_time": "2023-01-14T13:05:11.075Z"
      },
      {
        "duration": 3,
        "start_time": "2023-01-16T11:31:57.717Z"
      },
      {
        "duration": 7,
        "start_time": "2023-01-16T11:31:57.721Z"
      },
      {
        "duration": 1838,
        "start_time": "2023-01-16T11:31:57.730Z"
      },
      {
        "duration": 3284,
        "start_time": "2023-01-16T11:31:59.570Z"
      },
      {
        "duration": 155,
        "start_time": "2023-01-16T11:32:02.856Z"
      },
      {
        "duration": 295,
        "start_time": "2023-01-16T11:32:03.013Z"
      },
      {
        "duration": 67,
        "start_time": "2023-01-16T11:32:03.311Z"
      },
      {
        "duration": 104,
        "start_time": "2023-01-16T11:32:03.381Z"
      },
      {
        "duration": 680,
        "start_time": "2023-01-16T11:32:03.486Z"
      },
      {
        "duration": 192,
        "start_time": "2023-01-16T11:32:04.168Z"
      },
      {
        "duration": 181,
        "start_time": "2023-01-16T11:32:04.362Z"
      },
      {
        "duration": 79,
        "start_time": "2023-01-16T11:32:04.545Z"
      },
      {
        "duration": 2321,
        "start_time": "2023-01-16T11:32:04.626Z"
      },
      {
        "duration": 11,
        "start_time": "2023-01-16T11:32:06.948Z"
      },
      {
        "duration": 406,
        "start_time": "2023-01-16T11:32:06.960Z"
      },
      {
        "duration": 9,
        "start_time": "2023-01-16T11:32:07.367Z"
      },
      {
        "duration": 293,
        "start_time": "2023-01-16T11:32:07.377Z"
      },
      {
        "duration": 8,
        "start_time": "2023-01-16T11:32:07.672Z"
      },
      {
        "duration": 358,
        "start_time": "2023-01-16T11:32:07.682Z"
      },
      {
        "duration": 12,
        "start_time": "2023-01-16T11:32:08.042Z"
      },
      {
        "duration": 14,
        "start_time": "2023-01-16T11:32:08.056Z"
      },
      {
        "duration": 59,
        "start_time": "2023-01-16T11:32:08.072Z"
      },
      {
        "duration": 92,
        "start_time": "2023-01-16T11:32:08.132Z"
      },
      {
        "duration": 307,
        "start_time": "2023-01-16T11:32:08.226Z"
      },
      {
        "duration": 128,
        "start_time": "2023-01-16T11:32:08.535Z"
      },
      {
        "duration": 0,
        "start_time": "2023-01-16T11:32:08.665Z"
      },
      {
        "duration": 0,
        "start_time": "2023-01-16T11:32:08.667Z"
      },
      {
        "duration": 0,
        "start_time": "2023-01-16T11:32:08.668Z"
      },
      {
        "duration": 0,
        "start_time": "2023-01-16T11:32:08.670Z"
      },
      {
        "duration": 0,
        "start_time": "2023-01-16T11:32:08.671Z"
      },
      {
        "duration": 0,
        "start_time": "2023-01-16T11:32:08.672Z"
      },
      {
        "duration": 0,
        "start_time": "2023-01-16T11:32:08.674Z"
      },
      {
        "duration": 0,
        "start_time": "2023-01-16T11:32:08.675Z"
      },
      {
        "duration": 0,
        "start_time": "2023-01-16T11:32:08.677Z"
      },
      {
        "duration": 0,
        "start_time": "2023-01-16T11:32:08.705Z"
      },
      {
        "duration": 0,
        "start_time": "2023-01-16T11:32:08.707Z"
      },
      {
        "duration": 0,
        "start_time": "2023-01-16T11:32:08.708Z"
      },
      {
        "duration": 0,
        "start_time": "2023-01-16T11:32:08.709Z"
      },
      {
        "duration": 0,
        "start_time": "2023-01-16T11:32:08.712Z"
      },
      {
        "duration": 0,
        "start_time": "2023-01-16T11:32:08.714Z"
      },
      {
        "duration": 0,
        "start_time": "2023-01-16T11:32:08.716Z"
      },
      {
        "duration": 0,
        "start_time": "2023-01-16T11:32:08.717Z"
      },
      {
        "duration": 0,
        "start_time": "2023-01-16T11:32:08.719Z"
      },
      {
        "duration": 0,
        "start_time": "2023-01-16T11:32:08.720Z"
      },
      {
        "duration": 0,
        "start_time": "2023-01-16T11:32:08.721Z"
      },
      {
        "duration": 0,
        "start_time": "2023-01-16T11:32:08.722Z"
      },
      {
        "duration": 0,
        "start_time": "2023-01-16T11:32:08.724Z"
      },
      {
        "duration": 0,
        "start_time": "2023-01-16T11:32:08.725Z"
      },
      {
        "duration": 0,
        "start_time": "2023-01-16T11:32:08.726Z"
      },
      {
        "duration": 10,
        "start_time": "2023-01-16T11:35:38.293Z"
      },
      {
        "duration": 4,
        "start_time": "2023-01-16T11:35:46.402Z"
      },
      {
        "duration": 18,
        "start_time": "2023-01-16T11:35:46.408Z"
      },
      {
        "duration": 1354,
        "start_time": "2023-01-16T11:35:46.427Z"
      },
      {
        "duration": 747,
        "start_time": "2023-01-16T11:35:47.783Z"
      },
      {
        "duration": 135,
        "start_time": "2023-01-16T11:35:48.532Z"
      },
      {
        "duration": 266,
        "start_time": "2023-01-16T11:35:48.669Z"
      },
      {
        "duration": 78,
        "start_time": "2023-01-16T11:35:48.937Z"
      },
      {
        "duration": 124,
        "start_time": "2023-01-16T11:35:49.017Z"
      },
      {
        "duration": 602,
        "start_time": "2023-01-16T11:35:49.142Z"
      },
      {
        "duration": 176,
        "start_time": "2023-01-16T11:35:49.746Z"
      },
      {
        "duration": 212,
        "start_time": "2023-01-16T11:35:49.925Z"
      },
      {
        "duration": 80,
        "start_time": "2023-01-16T11:35:50.138Z"
      },
      {
        "duration": 1898,
        "start_time": "2023-01-16T11:35:50.220Z"
      },
      {
        "duration": 12,
        "start_time": "2023-01-16T11:35:52.120Z"
      },
      {
        "duration": 426,
        "start_time": "2023-01-16T11:35:52.135Z"
      },
      {
        "duration": 9,
        "start_time": "2023-01-16T11:35:52.563Z"
      },
      {
        "duration": 292,
        "start_time": "2023-01-16T11:35:52.573Z"
      },
      {
        "duration": 9,
        "start_time": "2023-01-16T11:35:52.866Z"
      },
      {
        "duration": 329,
        "start_time": "2023-01-16T11:35:52.876Z"
      },
      {
        "duration": 17,
        "start_time": "2023-01-16T11:35:53.206Z"
      },
      {
        "duration": 16,
        "start_time": "2023-01-16T11:35:53.224Z"
      },
      {
        "duration": 28,
        "start_time": "2023-01-16T11:35:53.242Z"
      },
      {
        "duration": 98,
        "start_time": "2023-01-16T11:35:53.271Z"
      },
      {
        "duration": 289,
        "start_time": "2023-01-16T11:35:53.370Z"
      },
      {
        "duration": 116,
        "start_time": "2023-01-16T11:35:53.661Z"
      },
      {
        "duration": 0,
        "start_time": "2023-01-16T11:35:53.779Z"
      },
      {
        "duration": 0,
        "start_time": "2023-01-16T11:35:53.781Z"
      },
      {
        "duration": 0,
        "start_time": "2023-01-16T11:35:53.782Z"
      },
      {
        "duration": 0,
        "start_time": "2023-01-16T11:35:53.797Z"
      },
      {
        "duration": 0,
        "start_time": "2023-01-16T11:35:53.798Z"
      },
      {
        "duration": 0,
        "start_time": "2023-01-16T11:35:53.799Z"
      },
      {
        "duration": 0,
        "start_time": "2023-01-16T11:35:53.800Z"
      },
      {
        "duration": 0,
        "start_time": "2023-01-16T11:35:53.801Z"
      },
      {
        "duration": 0,
        "start_time": "2023-01-16T11:35:53.802Z"
      },
      {
        "duration": 0,
        "start_time": "2023-01-16T11:35:53.803Z"
      },
      {
        "duration": 0,
        "start_time": "2023-01-16T11:35:53.804Z"
      },
      {
        "duration": 0,
        "start_time": "2023-01-16T11:35:53.805Z"
      },
      {
        "duration": 0,
        "start_time": "2023-01-16T11:35:53.807Z"
      },
      {
        "duration": 0,
        "start_time": "2023-01-16T11:35:53.808Z"
      },
      {
        "duration": 0,
        "start_time": "2023-01-16T11:35:53.809Z"
      },
      {
        "duration": 0,
        "start_time": "2023-01-16T11:35:53.810Z"
      },
      {
        "duration": 0,
        "start_time": "2023-01-16T11:35:53.811Z"
      },
      {
        "duration": 0,
        "start_time": "2023-01-16T11:35:53.812Z"
      },
      {
        "duration": 0,
        "start_time": "2023-01-16T11:35:53.814Z"
      },
      {
        "duration": 0,
        "start_time": "2023-01-16T11:35:53.814Z"
      },
      {
        "duration": 0,
        "start_time": "2023-01-16T11:35:53.815Z"
      },
      {
        "duration": 0,
        "start_time": "2023-01-16T11:35:53.816Z"
      },
      {
        "duration": 0,
        "start_time": "2023-01-16T11:35:53.817Z"
      },
      {
        "duration": 0,
        "start_time": "2023-01-16T11:35:53.819Z"
      },
      {
        "duration": 689,
        "start_time": "2023-01-16T11:37:17.102Z"
      },
      {
        "duration": 4,
        "start_time": "2023-01-16T11:49:32.034Z"
      },
      {
        "duration": 6,
        "start_time": "2023-01-16T11:49:32.040Z"
      },
      {
        "duration": 1450,
        "start_time": "2023-01-16T11:49:32.047Z"
      },
      {
        "duration": 798,
        "start_time": "2023-01-16T11:49:33.500Z"
      },
      {
        "duration": 141,
        "start_time": "2023-01-16T11:49:34.300Z"
      },
      {
        "duration": 333,
        "start_time": "2023-01-16T11:49:34.443Z"
      },
      {
        "duration": 84,
        "start_time": "2023-01-16T11:49:34.779Z"
      },
      {
        "duration": 113,
        "start_time": "2023-01-16T11:49:34.865Z"
      },
      {
        "duration": 650,
        "start_time": "2023-01-16T11:49:34.980Z"
      },
      {
        "duration": 190,
        "start_time": "2023-01-16T11:49:35.632Z"
      },
      {
        "duration": 184,
        "start_time": "2023-01-16T11:49:35.825Z"
      },
      {
        "duration": 67,
        "start_time": "2023-01-16T11:49:36.011Z"
      },
      {
        "duration": 1908,
        "start_time": "2023-01-16T11:49:36.080Z"
      },
      {
        "duration": 11,
        "start_time": "2023-01-16T11:49:37.997Z"
      },
      {
        "duration": 461,
        "start_time": "2023-01-16T11:49:38.010Z"
      },
      {
        "duration": 24,
        "start_time": "2023-01-16T11:49:38.473Z"
      },
      {
        "duration": 266,
        "start_time": "2023-01-16T11:49:38.498Z"
      },
      {
        "duration": 11,
        "start_time": "2023-01-16T11:49:38.765Z"
      },
      {
        "duration": 330,
        "start_time": "2023-01-16T11:49:38.778Z"
      },
      {
        "duration": 15,
        "start_time": "2023-01-16T11:49:39.109Z"
      },
      {
        "duration": 15,
        "start_time": "2023-01-16T11:49:39.125Z"
      },
      {
        "duration": 57,
        "start_time": "2023-01-16T11:49:39.142Z"
      },
      {
        "duration": 64,
        "start_time": "2023-01-16T11:49:39.200Z"
      },
      {
        "duration": 321,
        "start_time": "2023-01-16T11:49:39.266Z"
      },
      {
        "duration": 8,
        "start_time": "2023-01-16T11:49:39.589Z"
      },
      {
        "duration": 3,
        "start_time": "2023-01-16T11:49:39.599Z"
      },
      {
        "duration": 26,
        "start_time": "2023-01-16T11:49:39.603Z"
      },
      {
        "duration": 812,
        "start_time": "2023-01-16T11:49:39.631Z"
      },
      {
        "duration": 25,
        "start_time": "2023-01-16T11:49:40.445Z"
      },
      {
        "duration": 17,
        "start_time": "2023-01-16T11:49:40.472Z"
      },
      {
        "duration": 91,
        "start_time": "2023-01-16T11:49:40.497Z"
      },
      {
        "duration": 5,
        "start_time": "2023-01-16T11:49:40.593Z"
      },
      {
        "duration": 264,
        "start_time": "2023-01-16T11:49:40.600Z"
      },
      {
        "duration": 5,
        "start_time": "2023-01-16T11:49:40.866Z"
      },
      {
        "duration": 28,
        "start_time": "2023-01-16T11:49:40.874Z"
      },
      {
        "duration": 36,
        "start_time": "2023-01-16T11:49:40.904Z"
      },
      {
        "duration": 23,
        "start_time": "2023-01-16T11:49:40.942Z"
      },
      {
        "duration": 74743,
        "start_time": "2023-01-16T11:49:40.967Z"
      },
      {
        "duration": 0,
        "start_time": "2023-01-16T11:50:55.711Z"
      },
      {
        "duration": 0,
        "start_time": "2023-01-16T11:50:55.712Z"
      },
      {
        "duration": 0,
        "start_time": "2023-01-16T11:50:55.714Z"
      },
      {
        "duration": 0,
        "start_time": "2023-01-16T11:50:55.715Z"
      },
      {
        "duration": 0,
        "start_time": "2023-01-16T11:50:55.717Z"
      },
      {
        "duration": 0,
        "start_time": "2023-01-16T11:50:55.718Z"
      },
      {
        "duration": 0,
        "start_time": "2023-01-16T11:50:55.720Z"
      },
      {
        "duration": 0,
        "start_time": "2023-01-16T11:50:55.721Z"
      },
      {
        "duration": 0,
        "start_time": "2023-01-16T11:50:55.722Z"
      },
      {
        "duration": 0,
        "start_time": "2023-01-16T11:50:55.724Z"
      },
      {
        "duration": 5,
        "start_time": "2023-01-16T11:56:24.768Z"
      },
      {
        "duration": 21,
        "start_time": "2023-01-16T11:56:24.775Z"
      },
      {
        "duration": 1417,
        "start_time": "2023-01-16T11:56:24.798Z"
      },
      {
        "duration": 743,
        "start_time": "2023-01-16T11:56:26.217Z"
      },
      {
        "duration": 140,
        "start_time": "2023-01-16T11:56:26.962Z"
      },
      {
        "duration": 265,
        "start_time": "2023-01-16T11:56:27.104Z"
      },
      {
        "duration": 62,
        "start_time": "2023-01-16T11:56:27.371Z"
      },
      {
        "duration": 84,
        "start_time": "2023-01-16T11:56:27.434Z"
      },
      {
        "duration": 574,
        "start_time": "2023-01-16T11:56:27.520Z"
      },
      {
        "duration": 185,
        "start_time": "2023-01-16T11:56:28.098Z"
      },
      {
        "duration": 153,
        "start_time": "2023-01-16T11:56:28.285Z"
      },
      {
        "duration": 74,
        "start_time": "2023-01-16T11:56:28.439Z"
      },
      {
        "duration": 1796,
        "start_time": "2023-01-16T11:56:28.515Z"
      },
      {
        "duration": 10,
        "start_time": "2023-01-16T11:56:30.315Z"
      },
      {
        "duration": 531,
        "start_time": "2023-01-16T11:56:30.327Z"
      },
      {
        "duration": 9,
        "start_time": "2023-01-16T11:56:30.859Z"
      },
      {
        "duration": 374,
        "start_time": "2023-01-16T11:56:30.870Z"
      },
      {
        "duration": 9,
        "start_time": "2023-01-16T11:56:31.298Z"
      },
      {
        "duration": 414,
        "start_time": "2023-01-16T11:56:31.309Z"
      },
      {
        "duration": 12,
        "start_time": "2023-01-16T11:56:31.725Z"
      },
      {
        "duration": 18,
        "start_time": "2023-01-16T11:56:31.738Z"
      },
      {
        "duration": 43,
        "start_time": "2023-01-16T11:56:31.758Z"
      },
      {
        "duration": 96,
        "start_time": "2023-01-16T11:56:31.803Z"
      },
      {
        "duration": 285,
        "start_time": "2023-01-16T11:56:31.901Z"
      },
      {
        "duration": 9,
        "start_time": "2023-01-16T11:56:32.188Z"
      },
      {
        "duration": 19,
        "start_time": "2023-01-16T11:56:32.199Z"
      },
      {
        "duration": 31,
        "start_time": "2023-01-16T11:56:32.219Z"
      },
      {
        "duration": 717,
        "start_time": "2023-01-16T11:56:32.251Z"
      },
      {
        "duration": 32,
        "start_time": "2023-01-16T11:56:32.969Z"
      },
      {
        "duration": 3,
        "start_time": "2023-01-16T11:56:33.002Z"
      },
      {
        "duration": 68,
        "start_time": "2023-01-16T11:56:33.007Z"
      },
      {
        "duration": 4,
        "start_time": "2023-01-16T11:56:33.077Z"
      },
      {
        "duration": 141,
        "start_time": "2023-01-16T11:56:33.082Z"
      },
      {
        "duration": 3,
        "start_time": "2023-01-16T11:56:33.225Z"
      },
      {
        "duration": 8,
        "start_time": "2023-01-16T11:56:33.229Z"
      },
      {
        "duration": 17,
        "start_time": "2023-01-16T11:56:33.238Z"
      },
      {
        "duration": 6,
        "start_time": "2023-01-16T11:56:33.257Z"
      },
      {
        "duration": 66140,
        "start_time": "2023-01-16T11:56:33.265Z"
      },
      {
        "duration": 0,
        "start_time": "2023-01-16T11:57:39.407Z"
      },
      {
        "duration": 0,
        "start_time": "2023-01-16T11:57:39.408Z"
      },
      {
        "duration": 0,
        "start_time": "2023-01-16T11:57:39.409Z"
      },
      {
        "duration": 0,
        "start_time": "2023-01-16T11:57:39.410Z"
      },
      {
        "duration": 0,
        "start_time": "2023-01-16T11:57:39.411Z"
      },
      {
        "duration": 0,
        "start_time": "2023-01-16T11:57:39.412Z"
      },
      {
        "duration": 0,
        "start_time": "2023-01-16T11:57:39.413Z"
      },
      {
        "duration": 0,
        "start_time": "2023-01-16T11:57:39.414Z"
      },
      {
        "duration": 0,
        "start_time": "2023-01-16T11:57:39.415Z"
      },
      {
        "duration": 0,
        "start_time": "2023-01-16T11:57:39.416Z"
      },
      {
        "duration": 70137,
        "start_time": "2023-01-16T12:00:01.471Z"
      },
      {
        "duration": 0,
        "start_time": "2023-01-16T12:01:11.611Z"
      },
      {
        "duration": 733,
        "start_time": "2023-01-16T12:04:26.095Z"
      },
      {
        "duration": 35,
        "start_time": "2023-01-16T12:07:23.093Z"
      },
      {
        "duration": 3,
        "start_time": "2023-01-16T12:07:31.749Z"
      },
      {
        "duration": 65,
        "start_time": "2023-01-16T12:07:41.169Z"
      },
      {
        "duration": 4,
        "start_time": "2023-01-16T12:07:57.041Z"
      },
      {
        "duration": 122,
        "start_time": "2023-01-16T12:08:04.008Z"
      },
      {
        "duration": 2,
        "start_time": "2023-01-16T12:08:11.920Z"
      },
      {
        "duration": 7,
        "start_time": "2023-01-16T12:08:15.118Z"
      },
      {
        "duration": 3,
        "start_time": "2023-01-16T12:08:17.214Z"
      },
      {
        "duration": 3,
        "start_time": "2023-01-16T12:08:18.239Z"
      },
      {
        "duration": 66542,
        "start_time": "2023-01-16T12:08:21.208Z"
      },
      {
        "duration": 12,
        "start_time": "2023-01-16T12:09:57.875Z"
      },
      {
        "duration": 4,
        "start_time": "2023-01-16T12:10:06.898Z"
      },
      {
        "duration": 11,
        "start_time": "2023-01-16T12:10:06.904Z"
      },
      {
        "duration": 1433,
        "start_time": "2023-01-16T12:10:06.916Z"
      },
      {
        "duration": 828,
        "start_time": "2023-01-16T12:10:08.351Z"
      },
      {
        "duration": 147,
        "start_time": "2023-01-16T12:10:09.181Z"
      },
      {
        "duration": 268,
        "start_time": "2023-01-16T12:10:09.329Z"
      },
      {
        "duration": 63,
        "start_time": "2023-01-16T12:10:09.599Z"
      },
      {
        "duration": 98,
        "start_time": "2023-01-16T12:10:09.663Z"
      },
      {
        "duration": 638,
        "start_time": "2023-01-16T12:10:09.762Z"
      },
      {
        "duration": 187,
        "start_time": "2023-01-16T12:10:10.402Z"
      },
      {
        "duration": 171,
        "start_time": "2023-01-16T12:10:10.591Z"
      },
      {
        "duration": 75,
        "start_time": "2023-01-16T12:10:10.763Z"
      },
      {
        "duration": 1844,
        "start_time": "2023-01-16T12:10:10.839Z"
      },
      {
        "duration": 20,
        "start_time": "2023-01-16T12:10:12.686Z"
      },
      {
        "duration": 439,
        "start_time": "2023-01-16T12:10:12.707Z"
      },
      {
        "duration": 9,
        "start_time": "2023-01-16T12:10:13.147Z"
      },
      {
        "duration": 270,
        "start_time": "2023-01-16T12:10:13.157Z"
      },
      {
        "duration": 9,
        "start_time": "2023-01-16T12:10:13.428Z"
      },
      {
        "duration": 317,
        "start_time": "2023-01-16T12:10:13.439Z"
      },
      {
        "duration": 12,
        "start_time": "2023-01-16T12:10:13.758Z"
      },
      {
        "duration": 31,
        "start_time": "2023-01-16T12:10:13.771Z"
      },
      {
        "duration": 27,
        "start_time": "2023-01-16T12:10:13.804Z"
      },
      {
        "duration": 78,
        "start_time": "2023-01-16T12:10:13.833Z"
      },
      {
        "duration": 291,
        "start_time": "2023-01-16T12:10:13.913Z"
      },
      {
        "duration": 26,
        "start_time": "2023-01-16T12:10:14.205Z"
      },
      {
        "duration": 3,
        "start_time": "2023-01-16T12:10:14.232Z"
      },
      {
        "duration": 7,
        "start_time": "2023-01-16T12:10:14.237Z"
      },
      {
        "duration": 22,
        "start_time": "2023-01-16T12:10:14.246Z"
      },
      {
        "duration": 785,
        "start_time": "2023-01-16T12:10:14.270Z"
      },
      {
        "duration": 24,
        "start_time": "2023-01-16T12:10:15.056Z"
      },
      {
        "duration": 15,
        "start_time": "2023-01-16T12:10:15.082Z"
      },
      {
        "duration": 57,
        "start_time": "2023-01-16T12:10:15.099Z"
      },
      {
        "duration": 5,
        "start_time": "2023-01-16T12:10:15.158Z"
      },
      {
        "duration": 139,
        "start_time": "2023-01-16T12:10:15.165Z"
      },
      {
        "duration": 4,
        "start_time": "2023-01-16T12:10:15.305Z"
      },
      {
        "duration": 6,
        "start_time": "2023-01-16T12:10:15.311Z"
      },
      {
        "duration": 10,
        "start_time": "2023-01-16T12:10:15.318Z"
      },
      {
        "duration": 6,
        "start_time": "2023-01-16T12:10:15.330Z"
      },
      {
        "duration": 69929,
        "start_time": "2023-01-16T12:10:15.337Z"
      },
      {
        "duration": 0,
        "start_time": "2023-01-16T12:11:25.268Z"
      },
      {
        "duration": 0,
        "start_time": "2023-01-16T12:11:25.269Z"
      },
      {
        "duration": 0,
        "start_time": "2023-01-16T12:11:25.270Z"
      },
      {
        "duration": 0,
        "start_time": "2023-01-16T12:11:25.271Z"
      },
      {
        "duration": 0,
        "start_time": "2023-01-16T12:11:25.272Z"
      },
      {
        "duration": 0,
        "start_time": "2023-01-16T12:11:25.273Z"
      },
      {
        "duration": 0,
        "start_time": "2023-01-16T12:11:25.275Z"
      },
      {
        "duration": 0,
        "start_time": "2023-01-16T12:11:25.276Z"
      },
      {
        "duration": 0,
        "start_time": "2023-01-16T12:11:25.277Z"
      },
      {
        "duration": 0,
        "start_time": "2023-01-16T12:11:25.298Z"
      },
      {
        "duration": 0,
        "start_time": "2023-01-16T12:11:25.299Z"
      },
      {
        "duration": 5,
        "start_time": "2023-01-16T12:15:05.796Z"
      },
      {
        "duration": 21,
        "start_time": "2023-01-16T12:15:05.804Z"
      },
      {
        "duration": 1647,
        "start_time": "2023-01-16T12:15:05.827Z"
      },
      {
        "duration": 871,
        "start_time": "2023-01-16T12:15:07.476Z"
      },
      {
        "duration": 150,
        "start_time": "2023-01-16T12:15:08.349Z"
      },
      {
        "duration": 326,
        "start_time": "2023-01-16T12:15:08.501Z"
      },
      {
        "duration": 74,
        "start_time": "2023-01-16T12:15:08.829Z"
      },
      {
        "duration": 100,
        "start_time": "2023-01-16T12:15:08.906Z"
      },
      {
        "duration": 674,
        "start_time": "2023-01-16T12:15:09.009Z"
      },
      {
        "duration": 204,
        "start_time": "2023-01-16T12:15:09.686Z"
      },
      {
        "duration": 200,
        "start_time": "2023-01-16T12:15:09.892Z"
      },
      {
        "duration": 77,
        "start_time": "2023-01-16T12:15:10.097Z"
      },
      {
        "duration": 2082,
        "start_time": "2023-01-16T12:15:10.176Z"
      },
      {
        "duration": 12,
        "start_time": "2023-01-16T12:15:12.260Z"
      },
      {
        "duration": 492,
        "start_time": "2023-01-16T12:15:12.273Z"
      },
      {
        "duration": 8,
        "start_time": "2023-01-16T12:15:12.767Z"
      },
      {
        "duration": 303,
        "start_time": "2023-01-16T12:15:12.776Z"
      },
      {
        "duration": 10,
        "start_time": "2023-01-16T12:15:13.081Z"
      },
      {
        "duration": 340,
        "start_time": "2023-01-16T12:15:13.097Z"
      },
      {
        "duration": 12,
        "start_time": "2023-01-16T12:15:13.439Z"
      },
      {
        "duration": 15,
        "start_time": "2023-01-16T12:15:13.454Z"
      },
      {
        "duration": 58,
        "start_time": "2023-01-16T12:15:13.471Z"
      },
      {
        "duration": 68,
        "start_time": "2023-01-16T12:15:13.531Z"
      },
      {
        "duration": 288,
        "start_time": "2023-01-16T12:15:13.600Z"
      },
      {
        "duration": 30,
        "start_time": "2023-01-16T12:15:13.890Z"
      },
      {
        "duration": 4,
        "start_time": "2023-01-16T12:15:13.922Z"
      },
      {
        "duration": 7,
        "start_time": "2023-01-16T12:15:13.927Z"
      },
      {
        "duration": 32,
        "start_time": "2023-01-16T12:15:13.939Z"
      },
      {
        "duration": 826,
        "start_time": "2023-01-16T12:15:13.973Z"
      },
      {
        "duration": 28,
        "start_time": "2023-01-16T12:15:14.801Z"
      },
      {
        "duration": 5,
        "start_time": "2023-01-16T12:15:14.832Z"
      },
      {
        "duration": 82,
        "start_time": "2023-01-16T12:15:14.839Z"
      },
      {
        "duration": 5,
        "start_time": "2023-01-16T12:15:14.923Z"
      },
      {
        "duration": 149,
        "start_time": "2023-01-16T12:15:14.930Z"
      },
      {
        "duration": 3,
        "start_time": "2023-01-16T12:15:15.081Z"
      },
      {
        "duration": 14,
        "start_time": "2023-01-16T12:15:15.085Z"
      },
      {
        "duration": 7,
        "start_time": "2023-01-16T12:15:15.101Z"
      },
      {
        "duration": 7,
        "start_time": "2023-01-16T12:15:15.110Z"
      },
      {
        "duration": 68550,
        "start_time": "2023-01-16T12:15:15.120Z"
      },
      {
        "duration": 0,
        "start_time": "2023-01-16T12:16:23.671Z"
      },
      {
        "duration": 0,
        "start_time": "2023-01-16T12:16:23.672Z"
      },
      {
        "duration": 0,
        "start_time": "2023-01-16T12:16:23.673Z"
      },
      {
        "duration": 0,
        "start_time": "2023-01-16T12:16:23.675Z"
      },
      {
        "duration": 0,
        "start_time": "2023-01-16T12:16:23.675Z"
      },
      {
        "duration": 0,
        "start_time": "2023-01-16T12:16:23.676Z"
      },
      {
        "duration": 0,
        "start_time": "2023-01-16T12:16:23.677Z"
      },
      {
        "duration": 0,
        "start_time": "2023-01-16T12:16:23.678Z"
      },
      {
        "duration": 0,
        "start_time": "2023-01-16T12:16:23.679Z"
      },
      {
        "duration": 0,
        "start_time": "2023-01-16T12:16:23.680Z"
      },
      {
        "duration": 0,
        "start_time": "2023-01-16T12:16:23.696Z"
      },
      {
        "duration": 2450,
        "start_time": "2023-01-16T12:18:04.598Z"
      },
      {
        "duration": 2082,
        "start_time": "2023-01-16T12:18:07.051Z"
      },
      {
        "duration": 1481,
        "start_time": "2023-01-16T12:18:09.135Z"
      },
      {
        "duration": 825,
        "start_time": "2023-01-16T12:18:10.618Z"
      },
      {
        "duration": 170,
        "start_time": "2023-01-16T12:18:11.446Z"
      },
      {
        "duration": 296,
        "start_time": "2023-01-16T12:18:11.618Z"
      },
      {
        "duration": 66,
        "start_time": "2023-01-16T12:18:11.916Z"
      },
      {
        "duration": 90,
        "start_time": "2023-01-16T12:18:11.984Z"
      },
      {
        "duration": 672,
        "start_time": "2023-01-16T12:18:12.076Z"
      },
      {
        "duration": 194,
        "start_time": "2023-01-16T12:18:12.750Z"
      },
      {
        "duration": 163,
        "start_time": "2023-01-16T12:18:12.946Z"
      },
      {
        "duration": 66,
        "start_time": "2023-01-16T12:18:13.110Z"
      },
      {
        "duration": 1871,
        "start_time": "2023-01-16T12:18:13.177Z"
      },
      {
        "duration": 11,
        "start_time": "2023-01-16T12:18:15.052Z"
      },
      {
        "duration": 445,
        "start_time": "2023-01-16T12:18:15.064Z"
      },
      {
        "duration": 8,
        "start_time": "2023-01-16T12:18:15.511Z"
      },
      {
        "duration": 309,
        "start_time": "2023-01-16T12:18:15.521Z"
      },
      {
        "duration": 10,
        "start_time": "2023-01-16T12:18:15.832Z"
      },
      {
        "duration": 343,
        "start_time": "2023-01-16T12:18:15.843Z"
      },
      {
        "duration": 22,
        "start_time": "2023-01-16T12:18:16.187Z"
      },
      {
        "duration": 15,
        "start_time": "2023-01-16T12:18:16.211Z"
      },
      {
        "duration": 34,
        "start_time": "2023-01-16T12:18:16.228Z"
      },
      {
        "duration": 97,
        "start_time": "2023-01-16T12:18:16.264Z"
      },
      {
        "duration": 289,
        "start_time": "2023-01-16T12:18:16.363Z"
      },
      {
        "duration": 26,
        "start_time": "2023-01-16T12:18:16.654Z"
      },
      {
        "duration": 3,
        "start_time": "2023-01-16T12:18:16.682Z"
      },
      {
        "duration": 693,
        "start_time": "2023-01-16T12:18:16.698Z"
      },
      {
        "duration": 2,
        "start_time": "2023-01-16T12:18:17.392Z"
      },
      {
        "duration": 20,
        "start_time": "2023-01-16T12:18:17.397Z"
      },
      {
        "duration": 20,
        "start_time": "2023-01-16T12:18:17.419Z"
      },
      {
        "duration": 21,
        "start_time": "2023-01-16T12:18:17.441Z"
      },
      {
        "duration": 61,
        "start_time": "2023-01-16T12:18:17.464Z"
      },
      {
        "duration": 4,
        "start_time": "2023-01-16T12:18:17.527Z"
      },
      {
        "duration": 125,
        "start_time": "2023-01-16T12:18:17.532Z"
      },
      {
        "duration": 2,
        "start_time": "2023-01-16T12:18:17.659Z"
      },
      {
        "duration": 7,
        "start_time": "2023-01-16T12:18:17.662Z"
      },
      {
        "duration": 11,
        "start_time": "2023-01-16T12:18:17.670Z"
      },
      {
        "duration": 16,
        "start_time": "2023-01-16T12:18:17.683Z"
      },
      {
        "duration": 663,
        "start_time": "2023-01-16T12:18:17.700Z"
      },
      {
        "duration": 0,
        "start_time": "2023-01-16T12:18:18.365Z"
      },
      {
        "duration": 0,
        "start_time": "2023-01-16T12:18:18.366Z"
      },
      {
        "duration": 0,
        "start_time": "2023-01-16T12:18:18.367Z"
      },
      {
        "duration": 0,
        "start_time": "2023-01-16T12:18:18.369Z"
      },
      {
        "duration": 0,
        "start_time": "2023-01-16T12:18:18.370Z"
      },
      {
        "duration": 0,
        "start_time": "2023-01-16T12:18:18.371Z"
      },
      {
        "duration": 0,
        "start_time": "2023-01-16T12:18:18.372Z"
      },
      {
        "duration": 0,
        "start_time": "2023-01-16T12:18:18.373Z"
      },
      {
        "duration": 0,
        "start_time": "2023-01-16T12:18:18.374Z"
      },
      {
        "duration": 0,
        "start_time": "2023-01-16T12:18:18.375Z"
      },
      {
        "duration": 0,
        "start_time": "2023-01-16T12:18:18.376Z"
      },
      {
        "duration": 2163,
        "start_time": "2023-01-16T12:23:06.194Z"
      },
      {
        "duration": 2238,
        "start_time": "2023-01-16T12:23:08.360Z"
      },
      {
        "duration": 1480,
        "start_time": "2023-01-16T12:23:10.601Z"
      },
      {
        "duration": 794,
        "start_time": "2023-01-16T12:23:12.082Z"
      },
      {
        "duration": 139,
        "start_time": "2023-01-16T12:23:12.879Z"
      },
      {
        "duration": 272,
        "start_time": "2023-01-16T12:23:13.019Z"
      },
      {
        "duration": 62,
        "start_time": "2023-01-16T12:23:13.297Z"
      },
      {
        "duration": 91,
        "start_time": "2023-01-16T12:23:13.361Z"
      },
      {
        "duration": 609,
        "start_time": "2023-01-16T12:23:13.454Z"
      },
      {
        "duration": 185,
        "start_time": "2023-01-16T12:23:14.066Z"
      },
      {
        "duration": 175,
        "start_time": "2023-01-16T12:23:14.253Z"
      },
      {
        "duration": 73,
        "start_time": "2023-01-16T12:23:14.429Z"
      },
      {
        "duration": 2025,
        "start_time": "2023-01-16T12:23:14.504Z"
      },
      {
        "duration": 11,
        "start_time": "2023-01-16T12:23:16.533Z"
      },
      {
        "duration": 428,
        "start_time": "2023-01-16T12:23:16.546Z"
      },
      {
        "duration": 22,
        "start_time": "2023-01-16T12:23:16.976Z"
      },
      {
        "duration": 272,
        "start_time": "2023-01-16T12:23:16.999Z"
      },
      {
        "duration": 9,
        "start_time": "2023-01-16T12:23:17.272Z"
      },
      {
        "duration": 319,
        "start_time": "2023-01-16T12:23:17.283Z"
      },
      {
        "duration": 11,
        "start_time": "2023-01-16T12:23:17.604Z"
      },
      {
        "duration": 16,
        "start_time": "2023-01-16T12:23:17.617Z"
      },
      {
        "duration": 28,
        "start_time": "2023-01-16T12:23:17.635Z"
      },
      {
        "duration": 85,
        "start_time": "2023-01-16T12:23:17.664Z"
      },
      {
        "duration": 285,
        "start_time": "2023-01-16T12:23:17.750Z"
      },
      {
        "duration": 26,
        "start_time": "2023-01-16T12:23:18.037Z"
      },
      {
        "duration": 3,
        "start_time": "2023-01-16T12:23:18.065Z"
      },
      {
        "duration": 719,
        "start_time": "2023-01-16T12:23:18.069Z"
      },
      {
        "duration": 8,
        "start_time": "2023-01-16T12:23:18.789Z"
      },
      {
        "duration": 21,
        "start_time": "2023-01-16T12:23:18.799Z"
      },
      {
        "duration": 21,
        "start_time": "2023-01-16T12:23:18.822Z"
      },
      {
        "duration": 11,
        "start_time": "2023-01-16T12:23:18.845Z"
      },
      {
        "duration": 58,
        "start_time": "2023-01-16T12:23:18.858Z"
      },
      {
        "duration": 5,
        "start_time": "2023-01-16T12:23:18.918Z"
      },
      {
        "duration": 192,
        "start_time": "2023-01-16T12:23:18.925Z"
      },
      {
        "duration": 3,
        "start_time": "2023-01-16T12:23:19.119Z"
      },
      {
        "duration": 9,
        "start_time": "2023-01-16T12:23:19.124Z"
      },
      {
        "duration": 22,
        "start_time": "2023-01-16T12:23:19.134Z"
      },
      {
        "duration": 7,
        "start_time": "2023-01-16T12:23:19.157Z"
      },
      {
        "duration": 629,
        "start_time": "2023-01-16T12:23:19.166Z"
      },
      {
        "duration": 0,
        "start_time": "2023-01-16T12:23:19.797Z"
      },
      {
        "duration": 0,
        "start_time": "2023-01-16T12:23:19.798Z"
      },
      {
        "duration": 0,
        "start_time": "2023-01-16T12:23:19.799Z"
      },
      {
        "duration": 0,
        "start_time": "2023-01-16T12:23:19.800Z"
      },
      {
        "duration": 0,
        "start_time": "2023-01-16T12:23:19.801Z"
      },
      {
        "duration": 0,
        "start_time": "2023-01-16T12:23:19.803Z"
      },
      {
        "duration": 0,
        "start_time": "2023-01-16T12:23:19.805Z"
      },
      {
        "duration": 0,
        "start_time": "2023-01-16T12:23:19.806Z"
      },
      {
        "duration": 0,
        "start_time": "2023-01-16T12:23:19.807Z"
      },
      {
        "duration": 0,
        "start_time": "2023-01-16T12:23:19.809Z"
      },
      {
        "duration": 0,
        "start_time": "2023-01-16T12:23:19.810Z"
      },
      {
        "duration": 875,
        "start_time": "2023-01-16T12:23:59.101Z"
      },
      {
        "duration": 820,
        "start_time": "2023-01-16T12:24:34.715Z"
      },
      {
        "duration": 798,
        "start_time": "2023-01-16T12:24:41.800Z"
      },
      {
        "duration": 479,
        "start_time": "2023-01-16T12:25:29.109Z"
      },
      {
        "duration": 2019,
        "start_time": "2023-01-16T12:26:32.837Z"
      },
      {
        "duration": 1970,
        "start_time": "2023-01-16T12:26:34.859Z"
      },
      {
        "duration": 1403,
        "start_time": "2023-01-16T12:26:36.831Z"
      },
      {
        "duration": 750,
        "start_time": "2023-01-16T12:26:38.236Z"
      },
      {
        "duration": 134,
        "start_time": "2023-01-16T12:26:38.987Z"
      },
      {
        "duration": 256,
        "start_time": "2023-01-16T12:26:39.123Z"
      },
      {
        "duration": 68,
        "start_time": "2023-01-16T12:26:39.381Z"
      },
      {
        "duration": 83,
        "start_time": "2023-01-16T12:26:39.450Z"
      },
      {
        "duration": 587,
        "start_time": "2023-01-16T12:26:39.534Z"
      },
      {
        "duration": 169,
        "start_time": "2023-01-16T12:26:40.123Z"
      },
      {
        "duration": 152,
        "start_time": "2023-01-16T12:26:40.294Z"
      },
      {
        "duration": 72,
        "start_time": "2023-01-16T12:26:40.448Z"
      },
      {
        "duration": 1769,
        "start_time": "2023-01-16T12:26:40.522Z"
      },
      {
        "duration": 10,
        "start_time": "2023-01-16T12:26:42.297Z"
      },
      {
        "duration": 430,
        "start_time": "2023-01-16T12:26:42.309Z"
      },
      {
        "duration": 8,
        "start_time": "2023-01-16T12:26:42.740Z"
      },
      {
        "duration": 274,
        "start_time": "2023-01-16T12:26:42.750Z"
      },
      {
        "duration": 9,
        "start_time": "2023-01-16T12:26:43.025Z"
      },
      {
        "duration": 325,
        "start_time": "2023-01-16T12:26:43.036Z"
      },
      {
        "duration": 13,
        "start_time": "2023-01-16T12:26:43.363Z"
      },
      {
        "duration": 27,
        "start_time": "2023-01-16T12:26:43.377Z"
      },
      {
        "duration": 27,
        "start_time": "2023-01-16T12:26:43.405Z"
      },
      {
        "duration": 72,
        "start_time": "2023-01-16T12:26:43.433Z"
      },
      {
        "duration": 273,
        "start_time": "2023-01-16T12:26:43.506Z"
      },
      {
        "duration": 38,
        "start_time": "2023-01-16T12:26:43.781Z"
      },
      {
        "duration": 746,
        "start_time": "2023-01-16T12:26:43.820Z"
      },
      {
        "duration": 31,
        "start_time": "2023-01-16T12:26:44.568Z"
      },
      {
        "duration": 3,
        "start_time": "2023-01-16T12:26:44.603Z"
      },
      {
        "duration": 6,
        "start_time": "2023-01-16T12:26:44.608Z"
      },
      {
        "duration": 13,
        "start_time": "2023-01-16T12:26:44.616Z"
      },
      {
        "duration": 5,
        "start_time": "2023-01-16T12:26:44.631Z"
      },
      {
        "duration": 39,
        "start_time": "2023-01-16T12:26:44.638Z"
      },
      {
        "duration": 20,
        "start_time": "2023-01-16T12:26:44.679Z"
      },
      {
        "duration": 116,
        "start_time": "2023-01-16T12:26:44.701Z"
      },
      {
        "duration": 3,
        "start_time": "2023-01-16T12:26:44.819Z"
      },
      {
        "duration": 21,
        "start_time": "2023-01-16T12:26:44.824Z"
      },
      {
        "duration": 19,
        "start_time": "2023-01-16T12:26:44.847Z"
      },
      {
        "duration": 15,
        "start_time": "2023-01-16T12:26:44.867Z"
      },
      {
        "duration": 7326,
        "start_time": "2023-01-16T12:26:44.884Z"
      },
      {
        "duration": 626992,
        "start_time": "2023-01-16T12:26:52.212Z"
      },
      {
        "duration": 2169,
        "start_time": "2023-01-16T12:52:14.351Z"
      },
      {
        "duration": 2017,
        "start_time": "2023-01-16T12:52:16.523Z"
      },
      {
        "duration": 1472,
        "start_time": "2023-01-16T12:52:18.542Z"
      },
      {
        "duration": 801,
        "start_time": "2023-01-16T12:52:20.016Z"
      },
      {
        "duration": 131,
        "start_time": "2023-01-16T12:52:20.819Z"
      },
      {
        "duration": 279,
        "start_time": "2023-01-16T12:52:20.952Z"
      },
      {
        "duration": 70,
        "start_time": "2023-01-16T12:52:21.233Z"
      },
      {
        "duration": 101,
        "start_time": "2023-01-16T12:52:21.305Z"
      },
      {
        "duration": 637,
        "start_time": "2023-01-16T12:52:21.409Z"
      },
      {
        "duration": 189,
        "start_time": "2023-01-16T12:52:22.048Z"
      },
      {
        "duration": 178,
        "start_time": "2023-01-16T12:52:22.239Z"
      },
      {
        "duration": 84,
        "start_time": "2023-01-16T12:52:22.419Z"
      },
      {
        "duration": 1798,
        "start_time": "2023-01-16T12:52:22.505Z"
      },
      {
        "duration": 10,
        "start_time": "2023-01-16T12:52:24.306Z"
      },
      {
        "duration": 440,
        "start_time": "2023-01-16T12:52:24.318Z"
      },
      {
        "duration": 10,
        "start_time": "2023-01-16T12:52:24.760Z"
      },
      {
        "duration": 316,
        "start_time": "2023-01-16T12:52:24.772Z"
      },
      {
        "duration": 13,
        "start_time": "2023-01-16T12:52:25.090Z"
      },
      {
        "duration": 311,
        "start_time": "2023-01-16T12:52:25.104Z"
      },
      {
        "duration": 12,
        "start_time": "2023-01-16T12:52:25.416Z"
      },
      {
        "duration": 15,
        "start_time": "2023-01-16T12:52:25.429Z"
      },
      {
        "duration": 28,
        "start_time": "2023-01-16T12:52:25.445Z"
      },
      {
        "duration": 65,
        "start_time": "2023-01-16T12:52:25.496Z"
      },
      {
        "duration": 294,
        "start_time": "2023-01-16T12:52:25.563Z"
      },
      {
        "duration": 25,
        "start_time": "2023-01-16T12:52:25.859Z"
      },
      {
        "duration": 36,
        "start_time": "2023-01-16T12:52:25.886Z"
      },
      {
        "duration": 4,
        "start_time": "2023-01-16T12:52:25.924Z"
      },
      {
        "duration": 6,
        "start_time": "2023-01-16T12:52:25.930Z"
      },
      {
        "duration": 14,
        "start_time": "2023-01-16T12:52:25.938Z"
      },
      {
        "duration": 3,
        "start_time": "2023-01-16T12:52:25.953Z"
      },
      {
        "duration": 64,
        "start_time": "2023-01-16T12:52:25.958Z"
      },
      {
        "duration": 5,
        "start_time": "2023-01-16T12:52:26.024Z"
      },
      {
        "duration": 142,
        "start_time": "2023-01-16T12:52:26.030Z"
      },
      {
        "duration": 2,
        "start_time": "2023-01-16T12:52:26.174Z"
      },
      {
        "duration": 13,
        "start_time": "2023-01-16T12:52:26.179Z"
      },
      {
        "duration": 7,
        "start_time": "2023-01-16T12:52:26.198Z"
      },
      {
        "duration": 5,
        "start_time": "2023-01-16T12:52:26.207Z"
      },
      {
        "duration": 1921,
        "start_time": "2023-01-16T12:52:26.215Z"
      },
      {
        "duration": 0,
        "start_time": "2023-01-16T12:52:28.138Z"
      },
      {
        "duration": 0,
        "start_time": "2023-01-16T12:52:28.139Z"
      },
      {
        "duration": 0,
        "start_time": "2023-01-16T12:52:28.141Z"
      },
      {
        "duration": 1,
        "start_time": "2023-01-16T12:52:28.142Z"
      },
      {
        "duration": 0,
        "start_time": "2023-01-16T12:52:28.144Z"
      },
      {
        "duration": 0,
        "start_time": "2023-01-16T12:52:28.145Z"
      },
      {
        "duration": 0,
        "start_time": "2023-01-16T12:52:28.146Z"
      },
      {
        "duration": 0,
        "start_time": "2023-01-16T12:52:28.147Z"
      },
      {
        "duration": 0,
        "start_time": "2023-01-16T12:52:28.148Z"
      },
      {
        "duration": 0,
        "start_time": "2023-01-16T12:52:28.149Z"
      },
      {
        "duration": 0,
        "start_time": "2023-01-16T12:52:28.150Z"
      },
      {
        "duration": 1594,
        "start_time": "2023-01-16T13:31:29.219Z"
      },
      {
        "duration": 802,
        "start_time": "2023-01-16T13:31:30.815Z"
      },
      {
        "duration": 138,
        "start_time": "2023-01-16T13:31:31.619Z"
      },
      {
        "duration": 298,
        "start_time": "2023-01-16T13:31:32.866Z"
      },
      {
        "duration": 68,
        "start_time": "2023-01-16T13:31:34.863Z"
      },
      {
        "duration": 80,
        "start_time": "2023-01-16T13:31:37.384Z"
      },
      {
        "duration": 540,
        "start_time": "2023-01-16T13:31:38.107Z"
      },
      {
        "duration": 163,
        "start_time": "2023-01-16T13:31:39.480Z"
      },
      {
        "duration": 147,
        "start_time": "2023-01-16T13:31:42.504Z"
      },
      {
        "duration": 62,
        "start_time": "2023-01-16T13:31:43.671Z"
      },
      {
        "duration": 1736,
        "start_time": "2023-01-16T13:31:45.629Z"
      },
      {
        "duration": 10,
        "start_time": "2023-01-16T13:31:47.368Z"
      },
      {
        "duration": 391,
        "start_time": "2023-01-16T13:31:49.356Z"
      },
      {
        "duration": 11,
        "start_time": "2023-01-16T13:31:52.123Z"
      },
      {
        "duration": 253,
        "start_time": "2023-01-16T13:31:53.516Z"
      },
      {
        "duration": 11,
        "start_time": "2023-01-16T13:31:57.666Z"
      },
      {
        "duration": 308,
        "start_time": "2023-01-16T13:31:58.652Z"
      },
      {
        "duration": 12,
        "start_time": "2023-01-16T13:32:05.408Z"
      },
      {
        "duration": 15,
        "start_time": "2023-01-16T13:32:08.998Z"
      },
      {
        "duration": 29,
        "start_time": "2023-01-16T13:32:10.458Z"
      },
      {
        "duration": 63,
        "start_time": "2023-01-16T13:32:14.021Z"
      },
      {
        "duration": 278,
        "start_time": "2023-01-16T13:32:15.367Z"
      },
      {
        "duration": 25,
        "start_time": "2023-01-16T13:32:18.326Z"
      },
      {
        "duration": 34,
        "start_time": "2023-01-16T13:32:26.508Z"
      },
      {
        "duration": 107,
        "start_time": "2023-01-16T13:37:44.995Z"
      },
      {
        "duration": 11,
        "start_time": "2023-01-16T13:37:51.447Z"
      },
      {
        "duration": 4,
        "start_time": "2023-01-16T13:37:53.629Z"
      },
      {
        "duration": 3,
        "start_time": "2023-01-16T13:38:11.158Z"
      },
      {
        "duration": 442,
        "start_time": "2023-01-16T13:38:51.776Z"
      },
      {
        "duration": 10,
        "start_time": "2023-01-16T13:39:06.523Z"
      },
      {
        "duration": 13,
        "start_time": "2023-01-16T13:39:12.353Z"
      },
      {
        "duration": 2015,
        "start_time": "2023-01-16T13:46:15.516Z"
      },
      {
        "duration": 1958,
        "start_time": "2023-01-16T13:46:17.533Z"
      },
      {
        "duration": 1421,
        "start_time": "2023-01-16T13:46:19.493Z"
      },
      {
        "duration": 726,
        "start_time": "2023-01-16T13:46:20.916Z"
      },
      {
        "duration": 135,
        "start_time": "2023-01-16T13:46:21.644Z"
      },
      {
        "duration": 265,
        "start_time": "2023-01-16T13:46:21.781Z"
      },
      {
        "duration": 69,
        "start_time": "2023-01-16T13:46:22.048Z"
      },
      {
        "duration": 89,
        "start_time": "2023-01-16T13:46:22.119Z"
      },
      {
        "duration": 555,
        "start_time": "2023-01-16T13:46:22.210Z"
      },
      {
        "duration": 178,
        "start_time": "2023-01-16T13:46:22.768Z"
      },
      {
        "duration": 163,
        "start_time": "2023-01-16T13:46:22.947Z"
      },
      {
        "duration": 66,
        "start_time": "2023-01-16T13:46:23.112Z"
      },
      {
        "duration": 1824,
        "start_time": "2023-01-16T13:46:23.180Z"
      },
      {
        "duration": 11,
        "start_time": "2023-01-16T13:46:25.006Z"
      },
      {
        "duration": 429,
        "start_time": "2023-01-16T13:46:25.018Z"
      },
      {
        "duration": 10,
        "start_time": "2023-01-16T13:46:25.448Z"
      },
      {
        "duration": 279,
        "start_time": "2023-01-16T13:46:25.459Z"
      },
      {
        "duration": 8,
        "start_time": "2023-01-16T13:46:25.740Z"
      },
      {
        "duration": 308,
        "start_time": "2023-01-16T13:46:25.750Z"
      },
      {
        "duration": 11,
        "start_time": "2023-01-16T13:46:26.059Z"
      },
      {
        "duration": 27,
        "start_time": "2023-01-16T13:46:26.071Z"
      },
      {
        "duration": 26,
        "start_time": "2023-01-16T13:46:26.100Z"
      },
      {
        "duration": 76,
        "start_time": "2023-01-16T13:46:26.127Z"
      },
      {
        "duration": 284,
        "start_time": "2023-01-16T13:46:26.204Z"
      },
      {
        "duration": 34,
        "start_time": "2023-01-16T13:46:26.489Z"
      },
      {
        "duration": 26,
        "start_time": "2023-01-16T13:46:26.525Z"
      },
      {
        "duration": 3,
        "start_time": "2023-01-16T13:46:26.554Z"
      },
      {
        "duration": 35,
        "start_time": "2023-01-16T13:46:26.562Z"
      },
      {
        "duration": 5,
        "start_time": "2023-01-16T13:46:26.599Z"
      },
      {
        "duration": 4,
        "start_time": "2023-01-16T13:46:26.607Z"
      },
      {
        "duration": 468,
        "start_time": "2023-01-16T13:46:26.613Z"
      },
      {
        "duration": 15,
        "start_time": "2023-01-16T13:46:27.083Z"
      },
      {
        "duration": 4,
        "start_time": "2023-01-16T13:46:27.099Z"
      },
      {
        "duration": 37,
        "start_time": "2023-01-16T13:46:27.105Z"
      },
      {
        "duration": 5,
        "start_time": "2023-01-16T13:46:27.143Z"
      },
      {
        "duration": 36,
        "start_time": "2023-01-16T13:46:27.149Z"
      },
      {
        "duration": 2,
        "start_time": "2023-01-16T13:46:27.187Z"
      },
      {
        "duration": 5,
        "start_time": "2023-01-16T13:46:27.197Z"
      },
      {
        "duration": 14,
        "start_time": "2023-01-16T13:46:27.203Z"
      },
      {
        "duration": 7,
        "start_time": "2023-01-16T13:46:27.218Z"
      },
      {
        "duration": 8313,
        "start_time": "2023-01-16T13:46:27.226Z"
      },
      {
        "duration": 7410,
        "start_time": "2023-01-16T13:46:35.541Z"
      },
      {
        "duration": 718208,
        "start_time": "2023-01-16T13:46:42.953Z"
      },
      {
        "duration": 1399447,
        "start_time": "2023-01-16T13:58:41.163Z"
      },
      {
        "duration": 1868802,
        "start_time": "2023-01-16T14:22:00.612Z"
      },
      {
        "duration": 1216631,
        "start_time": "2023-01-16T14:53:09.416Z"
      },
      {
        "duration": 10,
        "start_time": "2023-01-16T15:13:26.048Z"
      },
      {
        "duration": 3,
        "start_time": "2023-01-16T15:13:26.059Z"
      },
      {
        "duration": 13,
        "start_time": "2023-01-16T15:13:26.063Z"
      },
      {
        "duration": 21,
        "start_time": "2023-01-16T15:13:26.077Z"
      },
      {
        "duration": 135,
        "start_time": "2023-01-16T15:13:26.099Z"
      },
      {
        "duration": 10,
        "start_time": "2023-01-16T15:13:26.236Z"
      },
      {
        "duration": 65,
        "start_time": "2023-01-16T15:13:26.249Z"
      },
      {
        "duration": 4,
        "start_time": "2023-01-16T15:25:11.137Z"
      },
      {
        "duration": 11,
        "start_time": "2023-01-16T15:25:12.040Z"
      },
      {
        "duration": 14,
        "start_time": "2023-01-16T15:25:13.133Z"
      },
      {
        "duration": 224,
        "start_time": "2023-01-16T15:25:14.023Z"
      },
      {
        "duration": 4,
        "start_time": "2023-01-16T15:25:31.956Z"
      },
      {
        "duration": 10,
        "start_time": "2023-01-16T15:30:21.682Z"
      },
      {
        "duration": 12,
        "start_time": "2023-01-16T15:30:22.246Z"
      },
      {
        "duration": 127,
        "start_time": "2023-01-16T15:30:23.094Z"
      }
    ],
    "colab": {
      "provenance": []
    },
    "kernelspec": {
      "display_name": "Python 3 (ipykernel)",
      "language": "python",
      "name": "python3"
    },
    "language_info": {
      "codemirror_mode": {
        "name": "ipython",
        "version": 3
      },
      "file_extension": ".py",
      "mimetype": "text/x-python",
      "name": "python",
      "nbconvert_exporter": "python",
      "pygments_lexer": "ipython3",
      "version": "3.9.5"
    },
    "toc": {
      "base_numbering": 1,
      "nav_menu": {},
      "number_sections": true,
      "sideBar": true,
      "skip_h1_title": true,
      "title_cell": "Table of Contents",
      "title_sidebar": "Contents",
      "toc_cell": false,
      "toc_position": {},
      "toc_section_display": true,
      "toc_window_display": false
    }
  },
  "nbformat": 4,
  "nbformat_minor": 0
}
