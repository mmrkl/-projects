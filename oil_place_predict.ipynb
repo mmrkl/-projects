{
  "cells": [
    {
      "cell_type": "markdown",
      "metadata": {
        "id": "dRJDwiuy6l-h"
      },
      "source": [
        "# Выбор локации для скважины"
      ]
    },
    {
      "cell_type": "markdown",
      "source": [
        "### Описание данных\n",
        "\n",
        "* id — уникальный идентификатор скважины;\n",
        "* f0, f1, f2 — три признака точек (неважно, что они означают, но сами признаки значимы);\n",
        "* product — объём запасов в скважине (тыс. баррелей)."
      ],
      "metadata": {
        "id": "wMDKxRFl71N6"
      }
    },
    {
      "cell_type": "markdown",
      "metadata": {
        "id": "RT21RUm_6l-h"
      },
      "source": [
        "## Загрузка и подготовка данных"
      ]
    },
    {
      "cell_type": "code",
      "execution_count": null,
      "metadata": {
        "id": "8e7R0qNG6l-h"
      },
      "outputs": [],
      "source": [
        "import pandas as pd\n",
        "import numpy as np\n",
        "import seaborn as sns\n",
        "import matplotlib\n",
        "import scipy.stats as st\n",
        "from sklearn.preprocessing import StandardScaler\n",
        "from sklearn.linear_model import LinearRegression\n",
        "\n",
        "from sklearn.metrics import mean_squared_error\n",
        "from sklearn.model_selection import train_test_split\n",
        "\n",
        "from sklearn.metrics import r2_score\n",
        "from sklearn.metrics import mean_absolute_error\n",
        "from scipy import stats as st\n",
        "import warnings\n",
        "warnings.filterwarnings('ignore')\n",
        "import matplotlib.pyplot as plt"
      ]
    },
    {
      "cell_type": "code",
      "source": [
        "try:\n",
        "    df1 = pd.read_csv('/datasets/geo_data_0.csv')\n",
        "    df2 = pd.read_csv('/datasets/geo_data_1.csv')\n",
        "    df3 = pd.read_csv('/datasets/geo_data_2.csv')\n",
        "except:\n",
        "    df1 = pd.read_csv('https://code.s3.yandex.net/datasets/geo_data_0.csv')\n",
        "    df2 = pd.read_csv('https://code.s3.yandex.net/datasets/geo_data_1.csv')\n",
        "    df3 = pd.read_csv('https://code.s3.yandex.net/datasets/geo_data_2.csv')"
      ],
      "metadata": {
        "id": "_jvQpbJD6tBY"
      },
      "execution_count": null,
      "outputs": []
    },
    {
      "cell_type": "markdown",
      "metadata": {
        "id": "h8EkxWXh6l-j"
      },
      "source": [
        "просмотрим,что у нас есть в таблицах"
      ]
    },
    {
      "cell_type": "code",
      "execution_count": null,
      "metadata": {
        "scrolled": true,
        "colab": {
          "base_uri": "https://localhost:8080/",
          "height": 606
        },
        "id": "evOoZlfa6l-k",
        "outputId": "323c7587-d088-464b-bdd0-e90085954d31"
      },
      "outputs": [
        {
          "output_type": "display_data",
          "data": {
            "text/plain": [
              "          id        f0        f1        f2     product\n",
              "11588  ZGXvW -0.036815  0.044511  0.620950   71.665724\n",
              "48440  e95rn -0.411728  1.046047  2.833828   40.029975\n",
              "67780  RaxWe -0.026753  0.215229  1.465753   74.463370\n",
              "44812  GqFn1  1.975477  0.512985  3.268113   98.517176\n",
              "40685  C8dhV  0.250439  0.337844  9.843387  161.291966\n",
              "89845  A4aE8  0.857203  0.527372 -0.024041   26.221907\n",
              "31829  1tec8 -0.647930  0.810935  0.417521   83.894691\n",
              "68131  xC4F2 -0.428290  0.887013 -0.784429   70.125814\n",
              "37081  O5g5A  0.833640  0.390825 -0.073384   61.069037\n",
              "71527  RVV0E  1.869032 -0.137368  5.278916  109.832817"
            ],
            "text/html": [
              "\n",
              "  <div id=\"df-1442cc1e-1e33-4099-b49b-7a52bc9c60d2\">\n",
              "    <div class=\"colab-df-container\">\n",
              "      <div>\n",
              "<style scoped>\n",
              "    .dataframe tbody tr th:only-of-type {\n",
              "        vertical-align: middle;\n",
              "    }\n",
              "\n",
              "    .dataframe tbody tr th {\n",
              "        vertical-align: top;\n",
              "    }\n",
              "\n",
              "    .dataframe thead th {\n",
              "        text-align: right;\n",
              "    }\n",
              "</style>\n",
              "<table border=\"1\" class=\"dataframe\">\n",
              "  <thead>\n",
              "    <tr style=\"text-align: right;\">\n",
              "      <th></th>\n",
              "      <th>id</th>\n",
              "      <th>f0</th>\n",
              "      <th>f1</th>\n",
              "      <th>f2</th>\n",
              "      <th>product</th>\n",
              "    </tr>\n",
              "  </thead>\n",
              "  <tbody>\n",
              "    <tr>\n",
              "      <th>11588</th>\n",
              "      <td>ZGXvW</td>\n",
              "      <td>-0.036815</td>\n",
              "      <td>0.044511</td>\n",
              "      <td>0.620950</td>\n",
              "      <td>71.665724</td>\n",
              "    </tr>\n",
              "    <tr>\n",
              "      <th>48440</th>\n",
              "      <td>e95rn</td>\n",
              "      <td>-0.411728</td>\n",
              "      <td>1.046047</td>\n",
              "      <td>2.833828</td>\n",
              "      <td>40.029975</td>\n",
              "    </tr>\n",
              "    <tr>\n",
              "      <th>67780</th>\n",
              "      <td>RaxWe</td>\n",
              "      <td>-0.026753</td>\n",
              "      <td>0.215229</td>\n",
              "      <td>1.465753</td>\n",
              "      <td>74.463370</td>\n",
              "    </tr>\n",
              "    <tr>\n",
              "      <th>44812</th>\n",
              "      <td>GqFn1</td>\n",
              "      <td>1.975477</td>\n",
              "      <td>0.512985</td>\n",
              "      <td>3.268113</td>\n",
              "      <td>98.517176</td>\n",
              "    </tr>\n",
              "    <tr>\n",
              "      <th>40685</th>\n",
              "      <td>C8dhV</td>\n",
              "      <td>0.250439</td>\n",
              "      <td>0.337844</td>\n",
              "      <td>9.843387</td>\n",
              "      <td>161.291966</td>\n",
              "    </tr>\n",
              "    <tr>\n",
              "      <th>89845</th>\n",
              "      <td>A4aE8</td>\n",
              "      <td>0.857203</td>\n",
              "      <td>0.527372</td>\n",
              "      <td>-0.024041</td>\n",
              "      <td>26.221907</td>\n",
              "    </tr>\n",
              "    <tr>\n",
              "      <th>31829</th>\n",
              "      <td>1tec8</td>\n",
              "      <td>-0.647930</td>\n",
              "      <td>0.810935</td>\n",
              "      <td>0.417521</td>\n",
              "      <td>83.894691</td>\n",
              "    </tr>\n",
              "    <tr>\n",
              "      <th>68131</th>\n",
              "      <td>xC4F2</td>\n",
              "      <td>-0.428290</td>\n",
              "      <td>0.887013</td>\n",
              "      <td>-0.784429</td>\n",
              "      <td>70.125814</td>\n",
              "    </tr>\n",
              "    <tr>\n",
              "      <th>37081</th>\n",
              "      <td>O5g5A</td>\n",
              "      <td>0.833640</td>\n",
              "      <td>0.390825</td>\n",
              "      <td>-0.073384</td>\n",
              "      <td>61.069037</td>\n",
              "    </tr>\n",
              "    <tr>\n",
              "      <th>71527</th>\n",
              "      <td>RVV0E</td>\n",
              "      <td>1.869032</td>\n",
              "      <td>-0.137368</td>\n",
              "      <td>5.278916</td>\n",
              "      <td>109.832817</td>\n",
              "    </tr>\n",
              "  </tbody>\n",
              "</table>\n",
              "</div>\n",
              "      <button class=\"colab-df-convert\" onclick=\"convertToInteractive('df-1442cc1e-1e33-4099-b49b-7a52bc9c60d2')\"\n",
              "              title=\"Convert this dataframe to an interactive table.\"\n",
              "              style=\"display:none;\">\n",
              "        \n",
              "  <svg xmlns=\"http://www.w3.org/2000/svg\" height=\"24px\"viewBox=\"0 0 24 24\"\n",
              "       width=\"24px\">\n",
              "    <path d=\"M0 0h24v24H0V0z\" fill=\"none\"/>\n",
              "    <path d=\"M18.56 5.44l.94 2.06.94-2.06 2.06-.94-2.06-.94-.94-2.06-.94 2.06-2.06.94zm-11 1L8.5 8.5l.94-2.06 2.06-.94-2.06-.94L8.5 2.5l-.94 2.06-2.06.94zm10 10l.94 2.06.94-2.06 2.06-.94-2.06-.94-.94-2.06-.94 2.06-2.06.94z\"/><path d=\"M17.41 7.96l-1.37-1.37c-.4-.4-.92-.59-1.43-.59-.52 0-1.04.2-1.43.59L10.3 9.45l-7.72 7.72c-.78.78-.78 2.05 0 2.83L4 21.41c.39.39.9.59 1.41.59.51 0 1.02-.2 1.41-.59l7.78-7.78 2.81-2.81c.8-.78.8-2.07 0-2.86zM5.41 20L4 18.59l7.72-7.72 1.47 1.35L5.41 20z\"/>\n",
              "  </svg>\n",
              "      </button>\n",
              "      \n",
              "  <style>\n",
              "    .colab-df-container {\n",
              "      display:flex;\n",
              "      flex-wrap:wrap;\n",
              "      gap: 12px;\n",
              "    }\n",
              "\n",
              "    .colab-df-convert {\n",
              "      background-color: #E8F0FE;\n",
              "      border: none;\n",
              "      border-radius: 50%;\n",
              "      cursor: pointer;\n",
              "      display: none;\n",
              "      fill: #1967D2;\n",
              "      height: 32px;\n",
              "      padding: 0 0 0 0;\n",
              "      width: 32px;\n",
              "    }\n",
              "\n",
              "    .colab-df-convert:hover {\n",
              "      background-color: #E2EBFA;\n",
              "      box-shadow: 0px 1px 2px rgba(60, 64, 67, 0.3), 0px 1px 3px 1px rgba(60, 64, 67, 0.15);\n",
              "      fill: #174EA6;\n",
              "    }\n",
              "\n",
              "    [theme=dark] .colab-df-convert {\n",
              "      background-color: #3B4455;\n",
              "      fill: #D2E3FC;\n",
              "    }\n",
              "\n",
              "    [theme=dark] .colab-df-convert:hover {\n",
              "      background-color: #434B5C;\n",
              "      box-shadow: 0px 1px 3px 1px rgba(0, 0, 0, 0.15);\n",
              "      filter: drop-shadow(0px 1px 2px rgba(0, 0, 0, 0.3));\n",
              "      fill: #FFFFFF;\n",
              "    }\n",
              "  </style>\n",
              "\n",
              "      <script>\n",
              "        const buttonEl =\n",
              "          document.querySelector('#df-1442cc1e-1e33-4099-b49b-7a52bc9c60d2 button.colab-df-convert');\n",
              "        buttonEl.style.display =\n",
              "          google.colab.kernel.accessAllowed ? 'block' : 'none';\n",
              "\n",
              "        async function convertToInteractive(key) {\n",
              "          const element = document.querySelector('#df-1442cc1e-1e33-4099-b49b-7a52bc9c60d2');\n",
              "          const dataTable =\n",
              "            await google.colab.kernel.invokeFunction('convertToInteractive',\n",
              "                                                     [key], {});\n",
              "          if (!dataTable) return;\n",
              "\n",
              "          const docLinkHtml = 'Like what you see? Visit the ' +\n",
              "            '<a target=\"_blank\" href=https://colab.research.google.com/notebooks/data_table.ipynb>data table notebook</a>'\n",
              "            + ' to learn more about interactive tables.';\n",
              "          element.innerHTML = '';\n",
              "          dataTable['output_type'] = 'display_data';\n",
              "          await google.colab.output.renderOutput(dataTable, element);\n",
              "          const docLink = document.createElement('div');\n",
              "          docLink.innerHTML = docLinkHtml;\n",
              "          element.appendChild(docLink);\n",
              "        }\n",
              "      </script>\n",
              "    </div>\n",
              "  </div>\n",
              "  "
            ]
          },
          "metadata": {}
        },
        {
          "output_type": "stream",
          "name": "stdout",
          "text": [
            "<class 'pandas.core.frame.DataFrame'>\n",
            "RangeIndex: 100000 entries, 0 to 99999\n",
            "Data columns (total 5 columns):\n",
            " #   Column   Non-Null Count   Dtype  \n",
            "---  ------   --------------   -----  \n",
            " 0   id       100000 non-null  object \n",
            " 1   f0       100000 non-null  float64\n",
            " 2   f1       100000 non-null  float64\n",
            " 3   f2       100000 non-null  float64\n",
            " 4   product  100000 non-null  float64\n",
            "dtypes: float64(4), object(1)\n",
            "memory usage: 3.8+ MB\n"
          ]
        },
        {
          "output_type": "display_data",
          "data": {
            "text/plain": [
              "None"
            ]
          },
          "metadata": {}
        },
        {
          "output_type": "stream",
          "name": "stdout",
          "text": [
            "Дубликатов: 0\n"
          ]
        }
      ],
      "source": [
        "display(df1.sample(10))\n",
        "display(df1.info())\n",
        "print('Дубликатов:', df1.duplicated().sum())"
      ]
    },
    {
      "cell_type": "code",
      "execution_count": null,
      "metadata": {
        "scrolled": true,
        "colab": {
          "base_uri": "https://localhost:8080/",
          "height": 606
        },
        "id": "8LwwMub96l-k",
        "outputId": "78ff6e90-eccc-48c2-baf0-cf294121930c"
      },
      "outputs": [
        {
          "output_type": "display_data",
          "data": {
            "text/plain": [
              "          id         f0         f1        f2     product\n",
              "89591  x6k75  -7.388499 -10.061942  4.991422  137.945408\n",
              "85746  4Rj7o   7.146024  -1.130503  4.009671  107.813044\n",
              "37300  C2jgP   9.459338  -1.317337  3.991202  107.813044\n",
              "64740  RH16l  -5.906126 -13.779398  2.997078   84.038886\n",
              "58467  Jcl7M   0.606797  -6.967608  3.999564  110.992147\n",
              "74078  QmJ89  -2.763667   5.934567  5.008211  137.945408\n",
              "20345  KPqmf -11.588493  -5.247651  4.996075  137.945408\n",
              "9547   yQs0q  11.789378  -0.806383  3.997266  107.813044\n",
              "65916  C9YdF   0.001477  -9.178145 -0.004588    3.179103\n",
              "40293  yazFt  -4.294518   1.245002  0.003952    3.179103"
            ],
            "text/html": [
              "\n",
              "  <div id=\"df-41adb172-c292-4bf6-9220-fbbdd1f61342\">\n",
              "    <div class=\"colab-df-container\">\n",
              "      <div>\n",
              "<style scoped>\n",
              "    .dataframe tbody tr th:only-of-type {\n",
              "        vertical-align: middle;\n",
              "    }\n",
              "\n",
              "    .dataframe tbody tr th {\n",
              "        vertical-align: top;\n",
              "    }\n",
              "\n",
              "    .dataframe thead th {\n",
              "        text-align: right;\n",
              "    }\n",
              "</style>\n",
              "<table border=\"1\" class=\"dataframe\">\n",
              "  <thead>\n",
              "    <tr style=\"text-align: right;\">\n",
              "      <th></th>\n",
              "      <th>id</th>\n",
              "      <th>f0</th>\n",
              "      <th>f1</th>\n",
              "      <th>f2</th>\n",
              "      <th>product</th>\n",
              "    </tr>\n",
              "  </thead>\n",
              "  <tbody>\n",
              "    <tr>\n",
              "      <th>89591</th>\n",
              "      <td>x6k75</td>\n",
              "      <td>-7.388499</td>\n",
              "      <td>-10.061942</td>\n",
              "      <td>4.991422</td>\n",
              "      <td>137.945408</td>\n",
              "    </tr>\n",
              "    <tr>\n",
              "      <th>85746</th>\n",
              "      <td>4Rj7o</td>\n",
              "      <td>7.146024</td>\n",
              "      <td>-1.130503</td>\n",
              "      <td>4.009671</td>\n",
              "      <td>107.813044</td>\n",
              "    </tr>\n",
              "    <tr>\n",
              "      <th>37300</th>\n",
              "      <td>C2jgP</td>\n",
              "      <td>9.459338</td>\n",
              "      <td>-1.317337</td>\n",
              "      <td>3.991202</td>\n",
              "      <td>107.813044</td>\n",
              "    </tr>\n",
              "    <tr>\n",
              "      <th>64740</th>\n",
              "      <td>RH16l</td>\n",
              "      <td>-5.906126</td>\n",
              "      <td>-13.779398</td>\n",
              "      <td>2.997078</td>\n",
              "      <td>84.038886</td>\n",
              "    </tr>\n",
              "    <tr>\n",
              "      <th>58467</th>\n",
              "      <td>Jcl7M</td>\n",
              "      <td>0.606797</td>\n",
              "      <td>-6.967608</td>\n",
              "      <td>3.999564</td>\n",
              "      <td>110.992147</td>\n",
              "    </tr>\n",
              "    <tr>\n",
              "      <th>74078</th>\n",
              "      <td>QmJ89</td>\n",
              "      <td>-2.763667</td>\n",
              "      <td>5.934567</td>\n",
              "      <td>5.008211</td>\n",
              "      <td>137.945408</td>\n",
              "    </tr>\n",
              "    <tr>\n",
              "      <th>20345</th>\n",
              "      <td>KPqmf</td>\n",
              "      <td>-11.588493</td>\n",
              "      <td>-5.247651</td>\n",
              "      <td>4.996075</td>\n",
              "      <td>137.945408</td>\n",
              "    </tr>\n",
              "    <tr>\n",
              "      <th>9547</th>\n",
              "      <td>yQs0q</td>\n",
              "      <td>11.789378</td>\n",
              "      <td>-0.806383</td>\n",
              "      <td>3.997266</td>\n",
              "      <td>107.813044</td>\n",
              "    </tr>\n",
              "    <tr>\n",
              "      <th>65916</th>\n",
              "      <td>C9YdF</td>\n",
              "      <td>0.001477</td>\n",
              "      <td>-9.178145</td>\n",
              "      <td>-0.004588</td>\n",
              "      <td>3.179103</td>\n",
              "    </tr>\n",
              "    <tr>\n",
              "      <th>40293</th>\n",
              "      <td>yazFt</td>\n",
              "      <td>-4.294518</td>\n",
              "      <td>1.245002</td>\n",
              "      <td>0.003952</td>\n",
              "      <td>3.179103</td>\n",
              "    </tr>\n",
              "  </tbody>\n",
              "</table>\n",
              "</div>\n",
              "      <button class=\"colab-df-convert\" onclick=\"convertToInteractive('df-41adb172-c292-4bf6-9220-fbbdd1f61342')\"\n",
              "              title=\"Convert this dataframe to an interactive table.\"\n",
              "              style=\"display:none;\">\n",
              "        \n",
              "  <svg xmlns=\"http://www.w3.org/2000/svg\" height=\"24px\"viewBox=\"0 0 24 24\"\n",
              "       width=\"24px\">\n",
              "    <path d=\"M0 0h24v24H0V0z\" fill=\"none\"/>\n",
              "    <path d=\"M18.56 5.44l.94 2.06.94-2.06 2.06-.94-2.06-.94-.94-2.06-.94 2.06-2.06.94zm-11 1L8.5 8.5l.94-2.06 2.06-.94-2.06-.94L8.5 2.5l-.94 2.06-2.06.94zm10 10l.94 2.06.94-2.06 2.06-.94-2.06-.94-.94-2.06-.94 2.06-2.06.94z\"/><path d=\"M17.41 7.96l-1.37-1.37c-.4-.4-.92-.59-1.43-.59-.52 0-1.04.2-1.43.59L10.3 9.45l-7.72 7.72c-.78.78-.78 2.05 0 2.83L4 21.41c.39.39.9.59 1.41.59.51 0 1.02-.2 1.41-.59l7.78-7.78 2.81-2.81c.8-.78.8-2.07 0-2.86zM5.41 20L4 18.59l7.72-7.72 1.47 1.35L5.41 20z\"/>\n",
              "  </svg>\n",
              "      </button>\n",
              "      \n",
              "  <style>\n",
              "    .colab-df-container {\n",
              "      display:flex;\n",
              "      flex-wrap:wrap;\n",
              "      gap: 12px;\n",
              "    }\n",
              "\n",
              "    .colab-df-convert {\n",
              "      background-color: #E8F0FE;\n",
              "      border: none;\n",
              "      border-radius: 50%;\n",
              "      cursor: pointer;\n",
              "      display: none;\n",
              "      fill: #1967D2;\n",
              "      height: 32px;\n",
              "      padding: 0 0 0 0;\n",
              "      width: 32px;\n",
              "    }\n",
              "\n",
              "    .colab-df-convert:hover {\n",
              "      background-color: #E2EBFA;\n",
              "      box-shadow: 0px 1px 2px rgba(60, 64, 67, 0.3), 0px 1px 3px 1px rgba(60, 64, 67, 0.15);\n",
              "      fill: #174EA6;\n",
              "    }\n",
              "\n",
              "    [theme=dark] .colab-df-convert {\n",
              "      background-color: #3B4455;\n",
              "      fill: #D2E3FC;\n",
              "    }\n",
              "\n",
              "    [theme=dark] .colab-df-convert:hover {\n",
              "      background-color: #434B5C;\n",
              "      box-shadow: 0px 1px 3px 1px rgba(0, 0, 0, 0.15);\n",
              "      filter: drop-shadow(0px 1px 2px rgba(0, 0, 0, 0.3));\n",
              "      fill: #FFFFFF;\n",
              "    }\n",
              "  </style>\n",
              "\n",
              "      <script>\n",
              "        const buttonEl =\n",
              "          document.querySelector('#df-41adb172-c292-4bf6-9220-fbbdd1f61342 button.colab-df-convert');\n",
              "        buttonEl.style.display =\n",
              "          google.colab.kernel.accessAllowed ? 'block' : 'none';\n",
              "\n",
              "        async function convertToInteractive(key) {\n",
              "          const element = document.querySelector('#df-41adb172-c292-4bf6-9220-fbbdd1f61342');\n",
              "          const dataTable =\n",
              "            await google.colab.kernel.invokeFunction('convertToInteractive',\n",
              "                                                     [key], {});\n",
              "          if (!dataTable) return;\n",
              "\n",
              "          const docLinkHtml = 'Like what you see? Visit the ' +\n",
              "            '<a target=\"_blank\" href=https://colab.research.google.com/notebooks/data_table.ipynb>data table notebook</a>'\n",
              "            + ' to learn more about interactive tables.';\n",
              "          element.innerHTML = '';\n",
              "          dataTable['output_type'] = 'display_data';\n",
              "          await google.colab.output.renderOutput(dataTable, element);\n",
              "          const docLink = document.createElement('div');\n",
              "          docLink.innerHTML = docLinkHtml;\n",
              "          element.appendChild(docLink);\n",
              "        }\n",
              "      </script>\n",
              "    </div>\n",
              "  </div>\n",
              "  "
            ]
          },
          "metadata": {}
        },
        {
          "output_type": "stream",
          "name": "stdout",
          "text": [
            "<class 'pandas.core.frame.DataFrame'>\n",
            "RangeIndex: 100000 entries, 0 to 99999\n",
            "Data columns (total 5 columns):\n",
            " #   Column   Non-Null Count   Dtype  \n",
            "---  ------   --------------   -----  \n",
            " 0   id       100000 non-null  object \n",
            " 1   f0       100000 non-null  float64\n",
            " 2   f1       100000 non-null  float64\n",
            " 3   f2       100000 non-null  float64\n",
            " 4   product  100000 non-null  float64\n",
            "dtypes: float64(4), object(1)\n",
            "memory usage: 3.8+ MB\n"
          ]
        },
        {
          "output_type": "display_data",
          "data": {
            "text/plain": [
              "None"
            ]
          },
          "metadata": {}
        },
        {
          "output_type": "stream",
          "name": "stdout",
          "text": [
            "Дубликаты: 0\n"
          ]
        }
      ],
      "source": [
        "display(df2.sample(10))\n",
        "display(df2.info())\n",
        "print('Дубликаты:', df2.duplicated().sum())"
      ]
    },
    {
      "cell_type": "code",
      "execution_count": null,
      "metadata": {
        "scrolled": true,
        "colab": {
          "base_uri": "https://localhost:8080/",
          "height": 606
        },
        "id": "kHt13Ehu6l-l",
        "outputId": "0fda817f-8b5d-46ea-d041-cd60d6214f83"
      },
      "outputs": [
        {
          "output_type": "display_data",
          "data": {
            "text/plain": [
              "          id        f0        f1        f2     product\n",
              "56518  0HPgN -1.656663  0.659790 -5.560090   46.286768\n",
              "9672   JkHhG -0.603060  0.145688 -1.662338   17.215205\n",
              "83523  7nVe5 -0.549056  0.169184  0.525163   10.411804\n",
              "28890  jAE2B  0.414256 -1.058251  0.694807   35.018181\n",
              "82359  fTF3h -0.102289 -4.190281 -1.858283   47.947748\n",
              "90127  4Paby  1.299994  1.175315 -3.138352   31.465458\n",
              "17874  neUqb -1.613635 -0.887832 -1.224979   49.180310\n",
              "290    A0Ycw  4.910944  1.670214  5.263181   88.684415\n",
              "33469  IezAH  0.407767  2.375780  6.002063  137.223423\n",
              "15927  H2bdz -0.202802 -2.566570  0.285357   59.799515"
            ],
            "text/html": [
              "\n",
              "  <div id=\"df-1bdf2ff6-0bc4-47e9-bc8c-a522fc5738b3\">\n",
              "    <div class=\"colab-df-container\">\n",
              "      <div>\n",
              "<style scoped>\n",
              "    .dataframe tbody tr th:only-of-type {\n",
              "        vertical-align: middle;\n",
              "    }\n",
              "\n",
              "    .dataframe tbody tr th {\n",
              "        vertical-align: top;\n",
              "    }\n",
              "\n",
              "    .dataframe thead th {\n",
              "        text-align: right;\n",
              "    }\n",
              "</style>\n",
              "<table border=\"1\" class=\"dataframe\">\n",
              "  <thead>\n",
              "    <tr style=\"text-align: right;\">\n",
              "      <th></th>\n",
              "      <th>id</th>\n",
              "      <th>f0</th>\n",
              "      <th>f1</th>\n",
              "      <th>f2</th>\n",
              "      <th>product</th>\n",
              "    </tr>\n",
              "  </thead>\n",
              "  <tbody>\n",
              "    <tr>\n",
              "      <th>56518</th>\n",
              "      <td>0HPgN</td>\n",
              "      <td>-1.656663</td>\n",
              "      <td>0.659790</td>\n",
              "      <td>-5.560090</td>\n",
              "      <td>46.286768</td>\n",
              "    </tr>\n",
              "    <tr>\n",
              "      <th>9672</th>\n",
              "      <td>JkHhG</td>\n",
              "      <td>-0.603060</td>\n",
              "      <td>0.145688</td>\n",
              "      <td>-1.662338</td>\n",
              "      <td>17.215205</td>\n",
              "    </tr>\n",
              "    <tr>\n",
              "      <th>83523</th>\n",
              "      <td>7nVe5</td>\n",
              "      <td>-0.549056</td>\n",
              "      <td>0.169184</td>\n",
              "      <td>0.525163</td>\n",
              "      <td>10.411804</td>\n",
              "    </tr>\n",
              "    <tr>\n",
              "      <th>28890</th>\n",
              "      <td>jAE2B</td>\n",
              "      <td>0.414256</td>\n",
              "      <td>-1.058251</td>\n",
              "      <td>0.694807</td>\n",
              "      <td>35.018181</td>\n",
              "    </tr>\n",
              "    <tr>\n",
              "      <th>82359</th>\n",
              "      <td>fTF3h</td>\n",
              "      <td>-0.102289</td>\n",
              "      <td>-4.190281</td>\n",
              "      <td>-1.858283</td>\n",
              "      <td>47.947748</td>\n",
              "    </tr>\n",
              "    <tr>\n",
              "      <th>90127</th>\n",
              "      <td>4Paby</td>\n",
              "      <td>1.299994</td>\n",
              "      <td>1.175315</td>\n",
              "      <td>-3.138352</td>\n",
              "      <td>31.465458</td>\n",
              "    </tr>\n",
              "    <tr>\n",
              "      <th>17874</th>\n",
              "      <td>neUqb</td>\n",
              "      <td>-1.613635</td>\n",
              "      <td>-0.887832</td>\n",
              "      <td>-1.224979</td>\n",
              "      <td>49.180310</td>\n",
              "    </tr>\n",
              "    <tr>\n",
              "      <th>290</th>\n",
              "      <td>A0Ycw</td>\n",
              "      <td>4.910944</td>\n",
              "      <td>1.670214</td>\n",
              "      <td>5.263181</td>\n",
              "      <td>88.684415</td>\n",
              "    </tr>\n",
              "    <tr>\n",
              "      <th>33469</th>\n",
              "      <td>IezAH</td>\n",
              "      <td>0.407767</td>\n",
              "      <td>2.375780</td>\n",
              "      <td>6.002063</td>\n",
              "      <td>137.223423</td>\n",
              "    </tr>\n",
              "    <tr>\n",
              "      <th>15927</th>\n",
              "      <td>H2bdz</td>\n",
              "      <td>-0.202802</td>\n",
              "      <td>-2.566570</td>\n",
              "      <td>0.285357</td>\n",
              "      <td>59.799515</td>\n",
              "    </tr>\n",
              "  </tbody>\n",
              "</table>\n",
              "</div>\n",
              "      <button class=\"colab-df-convert\" onclick=\"convertToInteractive('df-1bdf2ff6-0bc4-47e9-bc8c-a522fc5738b3')\"\n",
              "              title=\"Convert this dataframe to an interactive table.\"\n",
              "              style=\"display:none;\">\n",
              "        \n",
              "  <svg xmlns=\"http://www.w3.org/2000/svg\" height=\"24px\"viewBox=\"0 0 24 24\"\n",
              "       width=\"24px\">\n",
              "    <path d=\"M0 0h24v24H0V0z\" fill=\"none\"/>\n",
              "    <path d=\"M18.56 5.44l.94 2.06.94-2.06 2.06-.94-2.06-.94-.94-2.06-.94 2.06-2.06.94zm-11 1L8.5 8.5l.94-2.06 2.06-.94-2.06-.94L8.5 2.5l-.94 2.06-2.06.94zm10 10l.94 2.06.94-2.06 2.06-.94-2.06-.94-.94-2.06-.94 2.06-2.06.94z\"/><path d=\"M17.41 7.96l-1.37-1.37c-.4-.4-.92-.59-1.43-.59-.52 0-1.04.2-1.43.59L10.3 9.45l-7.72 7.72c-.78.78-.78 2.05 0 2.83L4 21.41c.39.39.9.59 1.41.59.51 0 1.02-.2 1.41-.59l7.78-7.78 2.81-2.81c.8-.78.8-2.07 0-2.86zM5.41 20L4 18.59l7.72-7.72 1.47 1.35L5.41 20z\"/>\n",
              "  </svg>\n",
              "      </button>\n",
              "      \n",
              "  <style>\n",
              "    .colab-df-container {\n",
              "      display:flex;\n",
              "      flex-wrap:wrap;\n",
              "      gap: 12px;\n",
              "    }\n",
              "\n",
              "    .colab-df-convert {\n",
              "      background-color: #E8F0FE;\n",
              "      border: none;\n",
              "      border-radius: 50%;\n",
              "      cursor: pointer;\n",
              "      display: none;\n",
              "      fill: #1967D2;\n",
              "      height: 32px;\n",
              "      padding: 0 0 0 0;\n",
              "      width: 32px;\n",
              "    }\n",
              "\n",
              "    .colab-df-convert:hover {\n",
              "      background-color: #E2EBFA;\n",
              "      box-shadow: 0px 1px 2px rgba(60, 64, 67, 0.3), 0px 1px 3px 1px rgba(60, 64, 67, 0.15);\n",
              "      fill: #174EA6;\n",
              "    }\n",
              "\n",
              "    [theme=dark] .colab-df-convert {\n",
              "      background-color: #3B4455;\n",
              "      fill: #D2E3FC;\n",
              "    }\n",
              "\n",
              "    [theme=dark] .colab-df-convert:hover {\n",
              "      background-color: #434B5C;\n",
              "      box-shadow: 0px 1px 3px 1px rgba(0, 0, 0, 0.15);\n",
              "      filter: drop-shadow(0px 1px 2px rgba(0, 0, 0, 0.3));\n",
              "      fill: #FFFFFF;\n",
              "    }\n",
              "  </style>\n",
              "\n",
              "      <script>\n",
              "        const buttonEl =\n",
              "          document.querySelector('#df-1bdf2ff6-0bc4-47e9-bc8c-a522fc5738b3 button.colab-df-convert');\n",
              "        buttonEl.style.display =\n",
              "          google.colab.kernel.accessAllowed ? 'block' : 'none';\n",
              "\n",
              "        async function convertToInteractive(key) {\n",
              "          const element = document.querySelector('#df-1bdf2ff6-0bc4-47e9-bc8c-a522fc5738b3');\n",
              "          const dataTable =\n",
              "            await google.colab.kernel.invokeFunction('convertToInteractive',\n",
              "                                                     [key], {});\n",
              "          if (!dataTable) return;\n",
              "\n",
              "          const docLinkHtml = 'Like what you see? Visit the ' +\n",
              "            '<a target=\"_blank\" href=https://colab.research.google.com/notebooks/data_table.ipynb>data table notebook</a>'\n",
              "            + ' to learn more about interactive tables.';\n",
              "          element.innerHTML = '';\n",
              "          dataTable['output_type'] = 'display_data';\n",
              "          await google.colab.output.renderOutput(dataTable, element);\n",
              "          const docLink = document.createElement('div');\n",
              "          docLink.innerHTML = docLinkHtml;\n",
              "          element.appendChild(docLink);\n",
              "        }\n",
              "      </script>\n",
              "    </div>\n",
              "  </div>\n",
              "  "
            ]
          },
          "metadata": {}
        },
        {
          "output_type": "stream",
          "name": "stdout",
          "text": [
            "<class 'pandas.core.frame.DataFrame'>\n",
            "RangeIndex: 100000 entries, 0 to 99999\n",
            "Data columns (total 5 columns):\n",
            " #   Column   Non-Null Count   Dtype  \n",
            "---  ------   --------------   -----  \n",
            " 0   id       100000 non-null  object \n",
            " 1   f0       100000 non-null  float64\n",
            " 2   f1       100000 non-null  float64\n",
            " 3   f2       100000 non-null  float64\n",
            " 4   product  100000 non-null  float64\n",
            "dtypes: float64(4), object(1)\n",
            "memory usage: 3.8+ MB\n"
          ]
        },
        {
          "output_type": "display_data",
          "data": {
            "text/plain": [
              "None"
            ]
          },
          "metadata": {}
        },
        {
          "output_type": "stream",
          "name": "stdout",
          "text": [
            "Дубликаты: 0\n"
          ]
        }
      ],
      "source": [
        "display(df3.sample(10))\n",
        "display(df3.info())\n",
        "print('Дубликаты:', df3.duplicated().sum())"
      ]
    },
    {
      "cell_type": "code",
      "execution_count": null,
      "metadata": {
        "colab": {
          "base_uri": "https://localhost:8080/"
        },
        "id": "Sl88maCq6l-l",
        "outputId": "57112141-7ec4-4e4a-c21d-f49f5d5f62dd"
      },
      "outputs": [
        {
          "output_type": "stream",
          "name": "stdout",
          "text": [
            "Уникальные значения столбца id\n",
            "['txEyH' '2acmU' '409Wp' ... '3rnvd' '7kl59' '1CWhH']\n",
            "Уникальные значения столбца f0\n",
            "[0.70574498 1.33471129 1.02273226 ... 1.02958465 0.99816289 1.76475393]\n",
            "Уникальные значения столбца f1\n",
            "[-0.4978225  -0.34016425  0.15199044 ...  0.01878693 -0.52858167\n",
            " -0.26641676]\n",
            "Уникальные значения столбца f2\n",
            "[ 1.22116995  4.36508033  1.41992624 ... -1.34830814  1.58386866\n",
            "  5.72284937]\n",
            "Уникальные значения столбца product\n",
            "[105.28006184  73.03775027  85.26564713 ...  64.37544259  74.04076435\n",
            " 149.63324561]\n",
            "Уникальные значения столбца id\n",
            "['kBEdx' '62mP7' 'vyE1P' ... '09gWa' 'rqwUm' 'relB0']\n",
            "Уникальные значения столбца f0\n",
            "[-15.00134818  14.27208781   6.26318735 ...  -7.37889139   0.66571381\n",
            "  -3.42613898]\n",
            "Уникальные значения столбца f1\n",
            "[-8.27599995 -3.47508322 -5.94838579 ... -3.08410387 -6.15259286\n",
            " -7.7942742 ]\n",
            "Уникальные значения столбца f2\n",
            "[-5.87601369e-03  9.99182737e-01  5.00116016e+00 ...  4.99865060e+00\n",
            "  1.00014635e+00 -3.29851829e-03]\n",
            "Уникальные значения столбца product\n",
            "[  3.17910258  26.95326103 134.76630516 137.94540774  84.03888568\n",
            " 110.99214671  53.90652206   0.         107.81304413  57.08562465\n",
            "  30.13236361  80.85978309]\n",
            "Уникальные значения столбца id\n",
            "['fwXo0' 'WJtFt' 'ovLUW' ... 'tKPY3' 'nmxp2' 'V9kWn']\n",
            "Уникальные значения столбца f0\n",
            "[-1.1469871   0.2627779   0.19458728 ... -1.19993432 -2.41989641\n",
            " -2.55142066]\n",
            "Уникальные значения столбца f1\n",
            "[ 0.96332792  0.26983896  0.289035   ... -2.95763723  2.41722066\n",
            " -2.02562514]\n",
            "Уникальные значения столбца f2\n",
            "[-0.82896492 -2.53018652 -5.58643277 ...  5.219411   -5.54844392\n",
            "  6.09089066]\n",
            "Уникальные значения столбца product\n",
            "[ 27.75867323  56.06969663  62.87191005 ... 157.08007975  51.79525299\n",
            " 102.77576749]\n"
          ]
        }
      ],
      "source": [
        "def check(data_frame):\n",
        "    for column in data_frame.columns:\n",
        "        print('Уникальные значения столбца', column)\n",
        "        print(data_frame[column].unique())\n",
        "check(df1)\n",
        "check(df2)\n",
        "check(df3)"
      ]
    },
    {
      "cell_type": "code",
      "execution_count": null,
      "metadata": {
        "id": "lY64U_yh6l-l"
      },
      "outputs": [],
      "source": [
        "df1 = df1.drop(['id'], axis=1)\n",
        "df2 = df2.drop(['id'], axis=1)\n",
        "df3 = df3.drop(['id'], axis=1)"
      ]
    },
    {
      "cell_type": "markdown",
      "metadata": {
        "id": "fThQ6eSH6l-m"
      },
      "source": [
        "# Просмотрим выбросы"
      ]
    },
    {
      "cell_type": "code",
      "execution_count": null,
      "metadata": {
        "scrolled": true,
        "colab": {
          "base_uri": "https://localhost:8080/",
          "height": 282
        },
        "id": "fj_EapY36l-m",
        "outputId": "004dfbbf-84d7-439a-b6c0-e4f36b1a087b"
      },
      "outputs": [
        {
          "output_type": "execute_result",
          "data": {
            "text/plain": [
              "<matplotlib.axes._subplots.AxesSubplot at 0x7f951883c820>"
            ]
          },
          "metadata": {},
          "execution_count": 8
        },
        {
          "output_type": "display_data",
          "data": {
            "text/plain": [
              "<Figure size 432x288 with 1 Axes>"
            ],
            "image/png": "[encoded data removed]"
          },
          "metadata": {
            "needs_background": "light"
          }
        }
      ],
      "source": [
        "df1[[\"f0\",\"f1\",\"f2\", \"product\"]].boxplot()"
      ]
    },
    {
      "cell_type": "code",
      "execution_count": null,
      "metadata": {
        "colab": {
          "base_uri": "https://localhost:8080/",
          "height": 282
        },
        "id": "-NsdNr9_6l-m",
        "outputId": "b19c3cbf-2ecd-4a5a-a45b-798ef75342da"
      },
      "outputs": [
        {
          "output_type": "execute_result",
          "data": {
            "text/plain": [
              "<matplotlib.axes._subplots.AxesSubplot at 0x7f95196470a0>"
            ]
          },
          "metadata": {},
          "execution_count": 9
        },
        {
          "output_type": "display_data",
          "data": {
            "text/plain": [
              "<Figure size 432x288 with 1 Axes>"
            ],
            "image/png": "[encoded data removed]"
          },
          "metadata": {
            "needs_background": "light"
          }
        }
      ],
      "source": [
        "df2[[\"f0\",\"f1\",\"f2\", \"product\"]].boxplot()"
      ]
    },
    {
      "cell_type": "code",
      "execution_count": null,
      "metadata": {
        "colab": {
          "base_uri": "https://localhost:8080/",
          "height": 286
        },
        "id": "t2OwPCjr6l-m",
        "outputId": "9cf44f3f-68fd-41ed-f7fd-f39c43d361af"
      },
      "outputs": [
        {
          "output_type": "execute_result",
          "data": {
            "text/plain": [
              "<matplotlib.axes._subplots.AxesSubplot at 0x7f9518d550a0>"
            ]
          },
          "metadata": {},
          "execution_count": 10
        },
        {
          "output_type": "display_data",
          "data": {
            "text/plain": [
              "<Figure size 432x288 with 1 Axes>"
            ],
            "image/png": "[encoded data removed]"
          },
          "metadata": {
            "needs_background": "light"
          }
        }
      ],
      "source": [
        "df3[[\"f0\",\"f1\",\"f2\", \"product\"]].boxplot()"
      ]
    },
    {
      "cell_type": "markdown",
      "metadata": {
        "id": "9PjfZwcS6l-n"
      },
      "source": [
        "При предработке данных было выяснено:\n",
        "1. Типы данных распределены верно\n",
        "2. В таблицах есть выбросы, которые необходимо удалить"
      ]
    },
    {
      "cell_type": "markdown",
      "metadata": {
        "id": "vRE6KY_B6l-n"
      },
      "source": [
        "# Выборка для таблицы df1"
      ]
    },
    {
      "cell_type": "code",
      "execution_count": null,
      "metadata": {
        "colab": {
          "base_uri": "https://localhost:8080/"
        },
        "id": "GQkQaIsX6l-n",
        "outputId": "14cfae04-cd72-4a71-ad1f-5500f35bd118"
      },
      "outputs": [
        {
          "output_type": "stream",
          "name": "stdout",
          "text": [
            "Межквартильный размах:  4.427339742598839\n",
            "\n",
            "Первый квартиль:  0.28774815581444596\n",
            "\n",
            "Третий квартиль:  4.715087898413286\n",
            "\n",
            "Минимум:  -6.3532614580838125\n",
            "\n",
            "Максимум:  11.356097512311544\n"
          ]
        }
      ],
      "source": [
        "q3, q1 = np.percentile(df1['f2'], [75 ,25])\n",
        "iqr = q3 - q1\n",
        "print('Межквартильный размах: ', iqr)\n",
        "print()\n",
        "print('Первый квартиль: ', q1)\n",
        "print()\n",
        "print('Третий квартиль: ', q3)\n",
        "print()\n",
        "\n",
        "min = q1 - 1.5*iqr\n",
        "max = q3 + 1.5*iqr\n",
        "\n",
        "print('Минимум: ', min)\n",
        "print()\n",
        "print('Максимум: ', max)"
      ]
    },
    {
      "cell_type": "code",
      "execution_count": null,
      "metadata": {
        "colab": {
          "base_uri": "https://localhost:8080/",
          "height": 282
        },
        "id": "-WtXWNCd6l-n",
        "outputId": "91ae33bd-c228-428c-83fe-5afc14842c3f"
      },
      "outputs": [
        {
          "output_type": "execute_result",
          "data": {
            "text/plain": [
              "<matplotlib.axes._subplots.AxesSubplot at 0x7f9519501490>"
            ]
          },
          "metadata": {},
          "execution_count": 12
        },
        {
          "output_type": "display_data",
          "data": {
            "text/plain": [
              "<Figure size 432x288 with 1 Axes>"
            ],
            "image/png": "[encoded data removed]"
          },
          "metadata": {
            "needs_background": "light"
          }
        }
      ],
      "source": [
        "df1 = df1.query('f2<11 and f2>-6').reset_index(drop=True)\n",
        "df1[['f2']].boxplot()"
      ]
    },
    {
      "cell_type": "markdown",
      "metadata": {
        "id": "X2pc3zqm6l-o"
      },
      "source": [
        "# Выборка для таблицы f2"
      ]
    },
    {
      "cell_type": "code",
      "execution_count": null,
      "metadata": {
        "colab": {
          "base_uri": "https://localhost:8080/",
          "height": 300
        },
        "id": "PJiqT9qr6l-o",
        "outputId": "266de2ad-eac7-441b-815a-b4c24f67135d"
      },
      "outputs": [
        {
          "output_type": "execute_result",
          "data": {
            "text/plain": [
              "                  f0\n",
              "count  100000.000000\n",
              "mean        1.141296\n",
              "std         8.965932\n",
              "min       -31.609576\n",
              "25%        -6.298551\n",
              "50%         1.153055\n",
              "75%         8.621015\n",
              "max        29.421755"
            ],
            "text/html": [
              "\n",
              "  <div id=\"df-082c05fa-8f37-468e-adb8-19ba7c73965b\">\n",
              "    <div class=\"colab-df-container\">\n",
              "      <div>\n",
              "<style scoped>\n",
              "    .dataframe tbody tr th:only-of-type {\n",
              "        vertical-align: middle;\n",
              "    }\n",
              "\n",
              "    .dataframe tbody tr th {\n",
              "        vertical-align: top;\n",
              "    }\n",
              "\n",
              "    .dataframe thead th {\n",
              "        text-align: right;\n",
              "    }\n",
              "</style>\n",
              "<table border=\"1\" class=\"dataframe\">\n",
              "  <thead>\n",
              "    <tr style=\"text-align: right;\">\n",
              "      <th></th>\n",
              "      <th>f0</th>\n",
              "    </tr>\n",
              "  </thead>\n",
              "  <tbody>\n",
              "    <tr>\n",
              "      <th>count</th>\n",
              "      <td>100000.000000</td>\n",
              "    </tr>\n",
              "    <tr>\n",
              "      <th>mean</th>\n",
              "      <td>1.141296</td>\n",
              "    </tr>\n",
              "    <tr>\n",
              "      <th>std</th>\n",
              "      <td>8.965932</td>\n",
              "    </tr>\n",
              "    <tr>\n",
              "      <th>min</th>\n",
              "      <td>-31.609576</td>\n",
              "    </tr>\n",
              "    <tr>\n",
              "      <th>25%</th>\n",
              "      <td>-6.298551</td>\n",
              "    </tr>\n",
              "    <tr>\n",
              "      <th>50%</th>\n",
              "      <td>1.153055</td>\n",
              "    </tr>\n",
              "    <tr>\n",
              "      <th>75%</th>\n",
              "      <td>8.621015</td>\n",
              "    </tr>\n",
              "    <tr>\n",
              "      <th>max</th>\n",
              "      <td>29.421755</td>\n",
              "    </tr>\n",
              "  </tbody>\n",
              "</table>\n",
              "</div>\n",
              "      <button class=\"colab-df-convert\" onclick=\"convertToInteractive('df-082c05fa-8f37-468e-adb8-19ba7c73965b')\"\n",
              "              title=\"Convert this dataframe to an interactive table.\"\n",
              "              style=\"display:none;\">\n",
              "        \n",
              "  <svg xmlns=\"http://www.w3.org/2000/svg\" height=\"24px\"viewBox=\"0 0 24 24\"\n",
              "       width=\"24px\">\n",
              "    <path d=\"M0 0h24v24H0V0z\" fill=\"none\"/>\n",
              "    <path d=\"M18.56 5.44l.94 2.06.94-2.06 2.06-.94-2.06-.94-.94-2.06-.94 2.06-2.06.94zm-11 1L8.5 8.5l.94-2.06 2.06-.94-2.06-.94L8.5 2.5l-.94 2.06-2.06.94zm10 10l.94 2.06.94-2.06 2.06-.94-2.06-.94-.94-2.06-.94 2.06-2.06.94z\"/><path d=\"M17.41 7.96l-1.37-1.37c-.4-.4-.92-.59-1.43-.59-.52 0-1.04.2-1.43.59L10.3 9.45l-7.72 7.72c-.78.78-.78 2.05 0 2.83L4 21.41c.39.39.9.59 1.41.59.51 0 1.02-.2 1.41-.59l7.78-7.78 2.81-2.81c.8-.78.8-2.07 0-2.86zM5.41 20L4 18.59l7.72-7.72 1.47 1.35L5.41 20z\"/>\n",
              "  </svg>\n",
              "      </button>\n",
              "      \n",
              "  <style>\n",
              "    .colab-df-container {\n",
              "      display:flex;\n",
              "      flex-wrap:wrap;\n",
              "      gap: 12px;\n",
              "    }\n",
              "\n",
              "    .colab-df-convert {\n",
              "      background-color: #E8F0FE;\n",
              "      border: none;\n",
              "      border-radius: 50%;\n",
              "      cursor: pointer;\n",
              "      display: none;\n",
              "      fill: #1967D2;\n",
              "      height: 32px;\n",
              "      padding: 0 0 0 0;\n",
              "      width: 32px;\n",
              "    }\n",
              "\n",
              "    .colab-df-convert:hover {\n",
              "      background-color: #E2EBFA;\n",
              "      box-shadow: 0px 1px 2px rgba(60, 64, 67, 0.3), 0px 1px 3px 1px rgba(60, 64, 67, 0.15);\n",
              "      fill: #174EA6;\n",
              "    }\n",
              "\n",
              "    [theme=dark] .colab-df-convert {\n",
              "      background-color: #3B4455;\n",
              "      fill: #D2E3FC;\n",
              "    }\n",
              "\n",
              "    [theme=dark] .colab-df-convert:hover {\n",
              "      background-color: #434B5C;\n",
              "      box-shadow: 0px 1px 3px 1px rgba(0, 0, 0, 0.15);\n",
              "      filter: drop-shadow(0px 1px 2px rgba(0, 0, 0, 0.3));\n",
              "      fill: #FFFFFF;\n",
              "    }\n",
              "  </style>\n",
              "\n",
              "      <script>\n",
              "        const buttonEl =\n",
              "          document.querySelector('#df-082c05fa-8f37-468e-adb8-19ba7c73965b button.colab-df-convert');\n",
              "        buttonEl.style.display =\n",
              "          google.colab.kernel.accessAllowed ? 'block' : 'none';\n",
              "\n",
              "        async function convertToInteractive(key) {\n",
              "          const element = document.querySelector('#df-082c05fa-8f37-468e-adb8-19ba7c73965b');\n",
              "          const dataTable =\n",
              "            await google.colab.kernel.invokeFunction('convertToInteractive',\n",
              "                                                     [key], {});\n",
              "          if (!dataTable) return;\n",
              "\n",
              "          const docLinkHtml = 'Like what you see? Visit the ' +\n",
              "            '<a target=\"_blank\" href=https://colab.research.google.com/notebooks/data_table.ipynb>data table notebook</a>'\n",
              "            + ' to learn more about interactive tables.';\n",
              "          element.innerHTML = '';\n",
              "          dataTable['output_type'] = 'display_data';\n",
              "          await google.colab.output.renderOutput(dataTable, element);\n",
              "          const docLink = document.createElement('div');\n",
              "          docLink.innerHTML = docLinkHtml;\n",
              "          element.appendChild(docLink);\n",
              "        }\n",
              "      </script>\n",
              "    </div>\n",
              "  </div>\n",
              "  "
            ]
          },
          "metadata": {},
          "execution_count": 13
        }
      ],
      "source": [
        "df2[[\"f0\"]].describe()"
      ]
    },
    {
      "cell_type": "code",
      "execution_count": null,
      "metadata": {
        "colab": {
          "base_uri": "https://localhost:8080/",
          "height": 282
        },
        "id": "fG27FlST6l-o",
        "outputId": "abc8766a-e0e6-48d6-aac6-131cb1a60d21"
      },
      "outputs": [
        {
          "output_type": "execute_result",
          "data": {
            "text/plain": [
              "<matplotlib.axes._subplots.AxesSubplot at 0x7f9518960400>"
            ]
          },
          "metadata": {},
          "execution_count": 14
        },
        {
          "output_type": "display_data",
          "data": {
            "text/plain": [
              "<Figure size 432x288 with 1 Axes>"
            ],
            "image/png": "[encoded data removed]"
          },
          "metadata": {
            "needs_background": "light"
          }
        }
      ],
      "source": [
        "df2 = df2.query('f0>-31').reset_index(drop=True)\n",
        "df2[[\"f0\"]].boxplot()"
      ]
    },
    {
      "cell_type": "code",
      "execution_count": null,
      "metadata": {
        "colab": {
          "base_uri": "https://localhost:8080/"
        },
        "id": "_H9M7KfG6l-o",
        "outputId": "248b4fdd-b8cc-4bbf-aa0e-b4c6629974fe"
      },
      "outputs": [
        {
          "output_type": "stream",
          "name": "stdout",
          "text": [
            "Межквартильный размах:  6.935198155797405\n",
            "\n",
            "Первый квартиль:  -8.26804333005673\n",
            "\n",
            "Третий квартиль:  -1.3328451742593255\n",
            "\n",
            "Минимум:  -18.67084056375284\n",
            "\n",
            "Максимум:  9.069952059436782\n"
          ]
        }
      ],
      "source": [
        "q3, q1 = np.percentile(df2['f1'], [75 ,25])\n",
        "iqr = q3 - q1\n",
        "print('Межквартильный размах: ', iqr)\n",
        "print()\n",
        "print('Первый квартиль: ', q1)\n",
        "print()\n",
        "print('Третий квартиль: ', q3)\n",
        "print()\n",
        "min = q1 - 1.5*iqr\n",
        "max = q3 + 1.5*iqr\n",
        "print('Минимум: ', min)\n",
        "print()\n",
        "print('Максимум: ', max)"
      ]
    },
    {
      "cell_type": "code",
      "execution_count": null,
      "metadata": {
        "colab": {
          "base_uri": "https://localhost:8080/",
          "height": 284
        },
        "id": "1z0Rmqnc6l-o",
        "outputId": "eb6afa5c-0874-4c31-a1d0-6278107358d5"
      },
      "outputs": [
        {
          "output_type": "execute_result",
          "data": {
            "text/plain": [
              "<matplotlib.axes._subplots.AxesSubplot at 0x7f9519ab3220>"
            ]
          },
          "metadata": {},
          "execution_count": 16
        },
        {
          "output_type": "display_data",
          "data": {
            "text/plain": [
              "<Figure size 432x288 with 1 Axes>"
            ],
            "image/png": "[encoded data removed]"
          },
          "metadata": {
            "needs_background": "light"
          }
        }
      ],
      "source": [
        "df2 = df2.query('f1>-18 and f1<9').reset_index(drop=True)\n",
        "df2[[\"f1\"]].boxplot()"
      ]
    },
    {
      "cell_type": "markdown",
      "metadata": {
        "id": "-GFKDF1a6l-p"
      },
      "source": [
        "# Выборка для f3"
      ]
    },
    {
      "cell_type": "code",
      "execution_count": null,
      "metadata": {
        "colab": {
          "base_uri": "https://localhost:8080/"
        },
        "id": "EoVvn5AL6l-p",
        "outputId": "e5132dff-852f-4f87-bb44-110a4b0531bb"
      },
      "outputs": [
        {
          "output_type": "stream",
          "name": "stdout",
          "text": [
            "Межквартильный размах:  2.3208238289103345\n",
            "\n",
            "Первый квартиль:  -1.1622884801574571\n",
            "\n",
            "Третий квартиль:  1.1585353487528773\n",
            "\n",
            "Минимум:  -4.643524223522959\n",
            "\n",
            "Максимум:  4.639771092118378\n"
          ]
        }
      ],
      "source": [
        "q3, q1 = np.percentile(df3['f0'], [75 ,25])\n",
        "iqr = q3 - q1\n",
        "print('Межквартильный размах: ', iqr)\n",
        "print()\n",
        "print('Первый квартиль: ', q1)\n",
        "print()\n",
        "print('Третий квартиль: ', q3)\n",
        "print()\n",
        "min = q1 - 1.5*iqr\n",
        "max = q3 + 1.5*iqr\n",
        "print('Минимум: ', min)\n",
        "print()\n",
        "print('Максимум: ', max)"
      ]
    },
    {
      "cell_type": "code",
      "execution_count": null,
      "metadata": {
        "colab": {
          "base_uri": "https://localhost:8080/",
          "height": 282
        },
        "id": "ztptQJdV6l-p",
        "outputId": "8b1e36f3-3afa-4aa1-a51a-f5c60c41c769"
      },
      "outputs": [
        {
          "output_type": "execute_result",
          "data": {
            "text/plain": [
              "<matplotlib.axes._subplots.AxesSubplot at 0x7f95187369d0>"
            ]
          },
          "metadata": {},
          "execution_count": 18
        },
        {
          "output_type": "display_data",
          "data": {
            "text/plain": [
              "<Figure size 432x288 with 1 Axes>"
            ],
            "image/png": "[encoded data removed]"
          },
          "metadata": {
            "needs_background": "light"
          }
        }
      ],
      "source": [
        "df3 = df3.query('f0>-4 and f0<4.63').reset_index(drop=True)\n",
        "df3[['f0']].boxplot()"
      ]
    },
    {
      "cell_type": "code",
      "execution_count": null,
      "metadata": {
        "colab": {
          "base_uri": "https://localhost:8080/"
        },
        "id": "zytyCLCh6l-p",
        "outputId": "7fa7358c-849e-4213-9b88-816f3f8d5443"
      },
      "outputs": [
        {
          "output_type": "stream",
          "name": "stdout",
          "text": [
            "Межквартильный размах:  2.3375306127069013\n",
            "\n",
            "Первый квартиль:  -1.1743591904176731\n",
            "\n",
            "Третий квартиль:  1.1631714222892282\n",
            "\n",
            "Минимум:  -4.680655109478025\n",
            "\n",
            "Максимум:  4.669467341349581\n"
          ]
        }
      ],
      "source": [
        "q3, q1 = np.percentile(df3['f1'], [75 ,25])\n",
        "iqr = q3 - q1\n",
        "print('Межквартильный размах: ', iqr)\n",
        "print()\n",
        "print('Первый квартиль: ', q1)\n",
        "print()\n",
        "print('Третий квартиль: ', q3)\n",
        "print()\n",
        "min = q1 - 1.5*iqr\n",
        "max = q3 + 1.5*iqr\n",
        "print('Минимум: ', min)\n",
        "print()\n",
        "print('Максимум: ', max)"
      ]
    },
    {
      "cell_type": "code",
      "execution_count": null,
      "metadata": {
        "colab": {
          "base_uri": "https://localhost:8080/",
          "height": 282
        },
        "id": "O98YHv5q6l-q",
        "outputId": "79a3881f-d2bf-4f7d-c202-1a2edbaa7d9b"
      },
      "outputs": [
        {
          "output_type": "execute_result",
          "data": {
            "text/plain": [
              "<matplotlib.axes._subplots.AxesSubplot at 0x7f9519139e20>"
            ]
          },
          "metadata": {},
          "execution_count": 20
        },
        {
          "output_type": "display_data",
          "data": {
            "text/plain": [
              "<Figure size 432x288 with 1 Axes>"
            ],
            "image/png": "[encoded data removed]"
          },
          "metadata": {
            "needs_background": "light"
          }
        }
      ],
      "source": [
        "df3 = df3.query('f1>-4 and f1<4.66').reset_index(drop=True)\n",
        "df3[['f1']].boxplot()"
      ]
    },
    {
      "cell_type": "code",
      "execution_count": null,
      "metadata": {
        "colab": {
          "base_uri": "https://localhost:8080/"
        },
        "id": "4DIRWIW_6l-q",
        "outputId": "ccee76ba-bc9f-4f0c-df98-b68447b77f52"
      },
      "outputs": [
        {
          "output_type": "stream",
          "name": "stdout",
          "text": [
            "Межквартильный размах:  4.727835228211241\n",
            "\n",
            "Первый квартиль:  0.12735190042160022\n",
            "\n",
            "Третий квартиль:  4.855187128632841\n",
            "\n",
            "Минимум:  -6.964400941895261\n",
            "\n",
            "Максимум:  11.946939970949703\n"
          ]
        }
      ],
      "source": [
        "q3, q1 = np.percentile(df3['f2'], [75 ,25])\n",
        "iqr = q3 - q1\n",
        "print('Межквартильный размах: ', iqr)\n",
        "print()\n",
        "print('Первый квартиль: ', q1)\n",
        "print()\n",
        "print('Третий квартиль: ', q3)\n",
        "print()\n",
        "min = q1 - 1.5*iqr\n",
        "max = q3 + 1.5*iqr\n",
        "print('Минимум: ', min)\n",
        "print()\n",
        "print('Максимум: ', max)"
      ]
    },
    {
      "cell_type": "code",
      "execution_count": null,
      "metadata": {
        "colab": {
          "base_uri": "https://localhost:8080/",
          "height": 283
        },
        "id": "Zton8g1h6l-q",
        "outputId": "e6cdee48-4c77-4e96-d3cd-e1d0e7cd5499"
      },
      "outputs": [
        {
          "output_type": "execute_result",
          "data": {
            "text/plain": [
              "<matplotlib.axes._subplots.AxesSubplot at 0x7f9518ffa700>"
            ]
          },
          "metadata": {},
          "execution_count": 22
        },
        {
          "output_type": "display_data",
          "data": {
            "text/plain": [
              "<Figure size 432x288 with 1 Axes>"
            ],
            "image/png": "[encoded data removed]"
          },
          "metadata": {
            "needs_background": "light"
          }
        }
      ],
      "source": [
        "df3 = df3.query('f2>-6 and f2<11.9').reset_index(drop=True)\n",
        "df3[['f2']].boxplot()"
      ]
    },
    {
      "cell_type": "markdown",
      "metadata": {
        "id": "r7uEl_bx6l-q"
      },
      "source": [
        "# Вывод по разделу 1\n",
        "* была просмотрена основная информация о таблицах,\n",
        "* просмотрены типы данных - они корректны,\n",
        "* были уничтожены выбросы\n",
        "* пропуски не были обнаружены\n",
        "* удалила столб, который не имел веса для модели"
      ]
    },
    {
      "cell_type": "markdown",
      "metadata": {
        "id": "VTzZvsjy6l-r"
      },
      "source": [
        "Возьмем и выделим для второго пункта\n",
        "Признаки для модели:\n",
        "* f0;\n",
        "* f1;\n",
        "* f2\n",
        "\n",
        "Целевой признак:\n",
        "* product."
      ]
    },
    {
      "cell_type": "markdown",
      "metadata": {
        "id": "PGoFH0x_6l-r"
      },
      "source": [
        "### Обучение и проверка модели"
      ]
    },
    {
      "cell_type": "markdown",
      "metadata": {
        "id": "xCZfRSus6l-r"
      },
      "source": [
        "Разделим датафреймы на обучающую df_train и валидационную df_valid выбороки в пропорциях 3:1"
      ]
    },
    {
      "cell_type": "code",
      "execution_count": null,
      "metadata": {
        "id": "woVoW0vh6l-r"
      },
      "outputs": [],
      "source": [
        "train_0, valid_0 = train_test_split(df1, test_size=0.25, random_state=12345)\n",
        "train_1, valid_1 = train_test_split(df2, test_size=0.25, random_state=12345)\n",
        "train_2, valid_2 = train_test_split(df3, test_size=0.25, random_state=12345)"
      ]
    },
    {
      "cell_type": "code",
      "execution_count": null,
      "metadata": {
        "colab": {
          "base_uri": "https://localhost:8080/"
        },
        "id": "NjuSi-lK6l-s",
        "outputId": "b748261d-79e3-4170-f5a6-c8ebb1697c8a"
      },
      "outputs": [
        {
          "output_type": "stream",
          "name": "stdout",
          "text": [
            "(74436, 4) (24813, 4)\n",
            "(74394, 4) (24799, 4)\n",
            "(72204, 4) (24068, 4)\n"
          ]
        }
      ],
      "source": [
        "print(train_0.shape, valid_0.shape)\n",
        "print(train_1.shape, valid_1.shape)\n",
        "print(train_2.shape, valid_2.shape)"
      ]
    },
    {
      "cell_type": "code",
      "execution_count": null,
      "metadata": {
        "id": "O9qODE_h6l-s"
      },
      "outputs": [],
      "source": [
        "def features_target_split(data):\n",
        "    features = data.drop(['product'], axis=1)\n",
        "    target = data['product']\n",
        "    return features, target\n",
        "\n",
        "train_features_0, train_target_0 = features_target_split(train_0)\n",
        "train_features_1, train_target_1 = features_target_split(train_1)\n",
        "train_features_2, train_target_2 = features_target_split(train_2)\n",
        "\n",
        "valid_features_0, valid_target_0 = features_target_split(valid_0)\n",
        "valid_features_1, valid_target_1 = features_target_split(valid_1)\n",
        "valid_features_2, valid_target_2 = features_target_split(valid_2)"
      ]
    },
    {
      "cell_type": "markdown",
      "metadata": {
        "id": "06xw_19h6l-s"
      },
      "source": [
        "Масштабируем данные"
      ]
    },
    {
      "cell_type": "code",
      "execution_count": null,
      "metadata": {
        "id": "H2e_-ba96l-s"
      },
      "outputs": [],
      "source": [
        "def data_to_StandardScaler(data):\n",
        "    scaler = StandardScaler()\n",
        "    scaler.fit(data)\n",
        "    data = scaler.transform(data)\n",
        "    return data\n",
        "\n",
        "train_features_0 = data_to_StandardScaler(train_features_0)\n",
        "train_features_1 = data_to_StandardScaler(train_features_1)\n",
        "train_features_2 = data_to_StandardScaler(train_features_2)\n",
        "\n",
        "valid_features_0 = data_to_StandardScaler(valid_features_0)\n",
        "valid_features_1 = data_to_StandardScaler(valid_features_1)\n",
        "valid_features_2 = data_to_StandardScaler(valid_features_2)"
      ]
    },
    {
      "cell_type": "code",
      "execution_count": null,
      "metadata": {
        "id": "kX-66vMg6l-t"
      },
      "outputs": [],
      "source": [
        "model = LinearRegression()\n",
        "def model_rmse(train_features, train_target, valid_features, valid_target):\n",
        "    model.fit(train_features, train_target)\n",
        "    predicted = model.predict(valid_features)\n",
        "    mse_0 = mean_squared_error(valid_target, predicted)\n",
        "    rmse_0 = mse_0 ** 0.5\n",
        "    print('RMSE {}'.format(rmse_0))\n",
        "    return predicted"
      ]
    },
    {
      "cell_type": "markdown",
      "metadata": {
        "id": "ynDp25Hs6l-t"
      },
      "source": [
        "Для таблицы 1"
      ]
    },
    {
      "cell_type": "code",
      "execution_count": null,
      "metadata": {
        "colab": {
          "base_uri": "https://localhost:8080/"
        },
        "id": "m3damVRx6l-t",
        "outputId": "c837ef90-7e32-417d-fc5f-82b71ee4201e"
      },
      "outputs": [
        {
          "output_type": "stream",
          "name": "stdout",
          "text": [
            "запас 92.49048879811178\n",
            "RMSE 37.67106964733876\n"
          ]
        }
      ],
      "source": [
        "print('запас {}'.format(df1['product'].mean()))\n",
        "predicted_valid_0  = model_rmse(train_features_0, train_target_0, valid_features_0, valid_target_0)"
      ]
    },
    {
      "cell_type": "markdown",
      "metadata": {
        "id": "VuYMkQrL6l-t"
      },
      "source": [
        "Для таблицы 2"
      ]
    },
    {
      "cell_type": "code",
      "execution_count": null,
      "metadata": {
        "colab": {
          "base_uri": "https://localhost:8080/"
        },
        "id": "n2PF4d9r6l-t",
        "outputId": "0e7babf1-f4cd-4571-d19b-66df2ef054fb"
      },
      "outputs": [
        {
          "output_type": "stream",
          "name": "stdout",
          "text": [
            "запас 68.79362705482326\n",
            "RMSE 1.0237588504941855\n"
          ]
        }
      ],
      "source": [
        "print('запас {}'.format(df2['product'].mean()))\n",
        "predicted_valid_1  = model_rmse(train_features_1, train_target_1, valid_features_1, valid_target_1)"
      ]
    },
    {
      "cell_type": "markdown",
      "metadata": {
        "id": "owmd1-kA6l-u"
      },
      "source": [
        "Для таблицы 3"
      ]
    },
    {
      "cell_type": "code",
      "execution_count": null,
      "metadata": {
        "colab": {
          "base_uri": "https://localhost:8080/"
        },
        "id": "fS5gSJ9Y6l-u",
        "outputId": "38acb96f-6065-402e-9c30-5b69ea3c3d7f"
      },
      "outputs": [
        {
          "output_type": "stream",
          "name": "stdout",
          "text": [
            "запас 94.73878325071396\n",
            "RMSE 40.24713061538547\n"
          ]
        }
      ],
      "source": [
        "print('запас {}'.format(df3['product'].mean()))\n",
        "predicted_valid_2  = model_rmse(train_features_2, train_target_2, valid_features_2, valid_target_2)"
      ]
    },
    {
      "cell_type": "markdown",
      "metadata": {
        "id": "0aBfCJGm6l-u"
      },
      "source": [
        "# Вывод раздел 2\n",
        "* Данные предсказались лучше всего на второй табличке, где RMSE = 1.02,  модель  переобучилась\n",
        "* Запас таблицы 1 - 92.49 наилучший\n",
        "* Запас таблицы 2 - 68.793\n",
        "* Запас таблицы 3 - 40.24"
      ]
    },
    {
      "cell_type": "markdown",
      "metadata": {
        "id": "XQrqctAA6l-v"
      },
      "source": [
        "## Подготовка к расчёту прибыли"
      ]
    },
    {
      "cell_type": "markdown",
      "metadata": {
        "id": "szc0QyzD6l-v"
      },
      "source": [
        "Уберем индексы таргетированного валидного признака со всех таблиц"
      ]
    },
    {
      "cell_type": "code",
      "execution_count": null,
      "metadata": {
        "id": "_5sRJs2B6l-v"
      },
      "outputs": [],
      "source": [
        "valid_target_0.reset_index(drop=True, inplace=True)\n",
        "valid_target_1.reset_index(drop=True, inplace=True)\n",
        "valid_target_2.reset_index(drop=True, inplace=True)"
      ]
    },
    {
      "cell_type": "markdown",
      "metadata": {
        "id": "mB93bRgz6l-v"
      },
      "source": [
        "Приведем данные к сериес"
      ]
    },
    {
      "cell_type": "code",
      "execution_count": null,
      "metadata": {
        "id": "U_8Dw3Z96l-v"
      },
      "outputs": [],
      "source": [
        "predicted_valid_0 = pd.Series(predicted_valid_0)\n",
        "predicted_valid_1 = pd.Series(predicted_valid_1)\n",
        "predicted_valid_2 = pd.Series(predicted_valid_2)"
      ]
    },
    {
      "cell_type": "markdown",
      "metadata": {
        "id": "haML_h6v6l-v"
      },
      "source": [
        "в тысячах"
      ]
    },
    {
      "cell_type": "code",
      "execution_count": null,
      "metadata": {
        "id": "SIjekQbu6l-v"
      },
      "outputs": [],
      "source": [
        "budget = 10*(10**9)\n",
        "chosen_points = 500\n",
        "best_points = 200\n",
        "price = 450000\n",
        "damage_threshold =  0.025"
      ]
    },
    {
      "cell_type": "code",
      "execution_count": null,
      "metadata": {
        "colab": {
          "base_uri": "https://localhost:8080/"
        },
        "id": "3yMuAq8s6l-w",
        "outputId": "44784a26-543b-4d4f-f7ed-5f537c1ade4d"
      },
      "outputs": [
        {
          "output_type": "stream",
          "name": "stdout",
          "text": [
            "Средняя прибыль:  50000000.0\n"
          ]
        }
      ],
      "source": [
        "average_profit_per_point = budget / best_points\n",
        "print('Средняя прибыль: ', average_profit_per_point)"
      ]
    },
    {
      "cell_type": "code",
      "execution_count": null,
      "metadata": {
        "colab": {
          "base_uri": "https://localhost:8080/"
        },
        "id": "WSelvmg96l-w",
        "outputId": "78c00e3d-9ae8-4ee4-f541-3c0e48109678"
      },
      "outputs": [
        {
          "output_type": "stream",
          "name": "stdout",
          "text": [
            "Средний объем нефти: 111.11111111111111\n"
          ]
        }
      ],
      "source": [
        "average_barrels_per_point = average_profit_per_point  / price\n",
        "print('Средний объем нефти:',average_barrels_per_point)"
      ]
    },
    {
      "cell_type": "code",
      "execution_count": null,
      "metadata": {
        "colab": {
          "base_uri": "https://localhost:8080/"
        },
        "id": "9m7R6BdY6l-w",
        "outputId": "93c61040-1bf5-4204-e552-bf63c8183227"
      },
      "outputs": [
        {
          "output_type": "stream",
          "name": "stdout",
          "text": [
            "Средний объем нефти на регион: 22222.222222222223\n"
          ]
        }
      ],
      "source": [
        "average_barrels = budget / price\n",
        "print('Средний объем нефти на регион:',average_barrels)"
      ]
    },
    {
      "cell_type": "markdown",
      "metadata": {
        "id": "N7c4GZUH6l-w"
      },
      "source": [
        "для 1 и 3 таблицы отличные показатели. Разброс значений вокруг среднего 92.5 и 94 говорит нам о том, что существует достаточно много скважин, где запасы больше необходимого среднего.\n",
        "\n",
        "безубыточность составила 111.(1)"
      ]
    },
    {
      "cell_type": "markdown",
      "metadata": {
        "id": "imyRqwRP6l-2"
      },
      "source": [
        "функция для расчёта прибыли по набору отобранных месторождений и предсказаний модели dis_revenue, принимающая на вход предсказания, истинные значения целевого признака и количество скважин и считающая общую прибыль\n",
        "\n"
      ]
    },
    {
      "cell_type": "code",
      "execution_count": null,
      "metadata": {
        "id": "qPWlsatC6l-2"
      },
      "outputs": [],
      "source": [
        "def revenue(target, probabilities, count):\n",
        "    probs_sorted = probabilities.sort_values(ascending=False)\n",
        "    selected = target[probs_sorted.index][:count]\n",
        "    return price*selected.sum() - budget"
      ]
    },
    {
      "cell_type": "markdown",
      "metadata": {
        "id": "VhO6Fo3p6l-3"
      },
      "source": [
        "## Расчёт прибыли и рисков"
      ]
    },
    {
      "cell_type": "code",
      "execution_count": null,
      "metadata": {
        "id": "TYqeYTYd6l-3"
      },
      "outputs": [],
      "source": [
        "state = np.random.RandomState(12345)\n",
        "def dis_revenue(target, probabilities):\n",
        "    values = []\n",
        "    lost = 0\n",
        "    for i in range(1000):\n",
        "        target_subsample = target.sample(n=500, replace=True, random_state=state)\n",
        "        probs_subsample = probabilities[target_subsample.index]\n",
        "        profit = revenue(target_subsample, probs_subsample, 200)\n",
        "        if profit < 0:\n",
        "            lost +=1\n",
        "        values.append(profit)\n",
        "\n",
        "\n",
        "    values = pd.Series(values)\n",
        "    lower = values.quantile(0.025)\n",
        "    upper = values.quantile(0.975)\n",
        "    average = values.mean()\n",
        "    risk = lost / 1000\n",
        "    return average, lower, upper, risk"
      ]
    },
    {
      "cell_type": "code",
      "execution_count": null,
      "metadata": {
        "colab": {
          "base_uri": "https://localhost:8080/"
        },
        "id": "vnx8pomx6l-4",
        "outputId": "d5770314-7de7-4d7f-dfd0-e132a084fdff"
      },
      "outputs": [
        {
          "output_type": "stream",
          "name": "stdout",
          "text": [
            "Средняя прибыль = 450815137.53 тыс.руб.\n",
            "95% доверительный интервал от -96554634.60 до 998708530.86 тыс.руб.\n",
            "Процент риска 5.30%\n"
          ]
        }
      ],
      "source": [
        "average_0, lower_0, upper_0, risk_0 = dis_revenue(valid_target_0, predicted_valid_0)\n",
        "print('Средняя прибыль = {:.2f} тыс.руб.'.format(average_0))\n",
        "print('95% доверительный интервал от {:.2f} до {:.2f} тыс.руб.'.format(lower_0, upper_0))\n",
        "print('Процент риска {:.2%}'.format(risk_0))"
      ]
    },
    {
      "cell_type": "code",
      "execution_count": null,
      "metadata": {
        "colab": {
          "base_uri": "https://localhost:8080/"
        },
        "id": "4E2tTr-O6l-4",
        "outputId": "a7fbb8bd-4056-488e-89af-690459892fa9"
      },
      "outputs": [
        {
          "output_type": "stream",
          "name": "stdout",
          "text": [
            "Средняя прибыль = 504960982.77 тыс.руб.\n",
            "95% доверительный интервал от 121697988.67 до 939342785.35 тыс.руб.\n",
            "Процент риска 0.70%\n"
          ]
        }
      ],
      "source": [
        "average_1, lower_1, upper_1, risk_1 = dis_revenue(valid_target_1, predicted_valid_1)\n",
        "print('Средняя прибыль = {:.2f} тыс.руб.'.format(average_1))\n",
        "print('95% доверительный интервал от {:.2f} до {:.2f} тыс.руб.'.format(lower_1, upper_1))\n",
        "print('Процент риска {:.2%}'.format(risk_1))"
      ]
    },
    {
      "cell_type": "code",
      "execution_count": null,
      "metadata": {
        "colab": {
          "base_uri": "https://localhost:8080/"
        },
        "id": "SHIGsnDi6l-4",
        "outputId": "7abeef77-397b-4dcb-82ec-9582c4357f9b"
      },
      "outputs": [
        {
          "output_type": "stream",
          "name": "stdout",
          "text": [
            "Средняя прибыль = 266616158.05 тыс.руб.\n",
            "95% доверительный интервал от -281942971.25 до 804606605.65 тыс.руб.\n",
            "Процент риска 19.20%\n"
          ]
        }
      ],
      "source": [
        "average_2, lower_2, upper_2, risk_2 = dis_revenue(valid_target_2, predicted_valid_2)\n",
        "print('Средняя прибыль = {:.2f} тыс.руб.'.format(average_2))\n",
        "print('95% доверительный интервал от {:.2f} до {:.2f} тыс.руб.'.format(lower_2, upper_2))\n",
        "print('Процент риска {:.2%}'.format(risk_2))"
      ]
    },
    {
      "cell_type": "markdown",
      "metadata": {
        "id": "q9K8qXGg6l-4"
      },
      "source": [
        "# Вывод\n",
        "* была проведена предработка данных\n",
        "* удалены выборосы, ненужные столбцы\n",
        "* данные разделены на выборки, далее можно сделать вывод о том, что\n",
        "* второе место для бурение лучше всего подходит под критерии, так как риски составляют меньше 2,5 %"
      ]
    }
  ],
  "metadata": {
    "ExecuteTimeLog": [
      {
        "duration": 1497,
        "start_time": "2022-11-19T15:32:06.342Z"
      },
      {
        "duration": 1572,
        "start_time": "2022-11-19T15:32:31.031Z"
      },
      {
        "duration": 11,
        "start_time": "2022-11-19T15:32:54.996Z"
      },
      {
        "duration": 9,
        "start_time": "2022-11-19T15:33:07.617Z"
      },
      {
        "duration": 12,
        "start_time": "2022-11-19T15:33:13.902Z"
      },
      {
        "duration": 12,
        "start_time": "2022-11-19T15:33:21.312Z"
      },
      {
        "duration": 15,
        "start_time": "2022-11-19T15:33:26.229Z"
      },
      {
        "duration": 12,
        "start_time": "2022-11-19T15:33:31.144Z"
      },
      {
        "duration": 15,
        "start_time": "2022-11-19T15:33:37.461Z"
      },
      {
        "duration": 8,
        "start_time": "2022-11-19T15:34:08.953Z"
      },
      {
        "duration": 7,
        "start_time": "2022-11-19T15:34:19.791Z"
      },
      {
        "duration": 43,
        "start_time": "2022-11-19T15:34:54.156Z"
      },
      {
        "duration": 1590,
        "start_time": "2022-11-20T11:32:11.709Z"
      },
      {
        "duration": 1614,
        "start_time": "2022-11-20T11:32:13.302Z"
      },
      {
        "duration": 16,
        "start_time": "2022-11-20T11:32:15.299Z"
      },
      {
        "duration": 12,
        "start_time": "2022-11-20T11:32:22.991Z"
      },
      {
        "duration": 12,
        "start_time": "2022-11-20T11:32:25.737Z"
      },
      {
        "duration": 35,
        "start_time": "2022-11-20T11:32:32.605Z"
      },
      {
        "duration": 170,
        "start_time": "2022-11-20T11:34:45.205Z"
      },
      {
        "duration": 65,
        "start_time": "2022-11-20T11:34:56.387Z"
      },
      {
        "duration": 66,
        "start_time": "2022-11-20T11:35:14.526Z"
      },
      {
        "duration": 69,
        "start_time": "2022-11-20T11:35:33.948Z"
      },
      {
        "duration": 4,
        "start_time": "2022-11-20T11:48:30.768Z"
      },
      {
        "duration": 11,
        "start_time": "2022-11-20T11:48:32.612Z"
      },
      {
        "duration": 111,
        "start_time": "2022-11-20T11:49:09.988Z"
      },
      {
        "duration": 1499,
        "start_time": "2022-11-20T14:07:41.952Z"
      },
      {
        "duration": 1525,
        "start_time": "2022-11-20T14:07:43.453Z"
      },
      {
        "duration": 75,
        "start_time": "2022-11-20T14:07:47.591Z"
      },
      {
        "duration": 67,
        "start_time": "2022-11-20T14:07:53.424Z"
      },
      {
        "duration": 95,
        "start_time": "2022-11-20T14:07:57.729Z"
      },
      {
        "duration": 111,
        "start_time": "2022-11-20T14:13:28.685Z"
      },
      {
        "duration": 12,
        "start_time": "2022-11-20T14:13:45.580Z"
      },
      {
        "duration": 11,
        "start_time": "2022-11-20T14:13:59.917Z"
      },
      {
        "duration": 12,
        "start_time": "2022-11-20T14:14:18.972Z"
      },
      {
        "duration": 13,
        "start_time": "2022-11-20T14:14:36.065Z"
      },
      {
        "duration": 435,
        "start_time": "2022-11-20T14:41:39.953Z"
      },
      {
        "duration": 18,
        "start_time": "2022-11-20T14:42:11.698Z"
      },
      {
        "duration": 170,
        "start_time": "2022-11-20T14:42:21.221Z"
      },
      {
        "duration": 12,
        "start_time": "2022-11-20T14:42:32.694Z"
      },
      {
        "duration": 1678,
        "start_time": "2022-11-20T14:43:13.248Z"
      },
      {
        "duration": 10,
        "start_time": "2022-11-20T14:43:40.582Z"
      },
      {
        "duration": 1070,
        "start_time": "2022-11-20T14:43:51.788Z"
      },
      {
        "duration": 1232,
        "start_time": "2022-11-20T14:46:05.378Z"
      },
      {
        "duration": 302,
        "start_time": "2022-11-20T14:46:25.760Z"
      },
      {
        "duration": 389,
        "start_time": "2022-11-20T14:46:48.912Z"
      },
      {
        "duration": 350,
        "start_time": "2022-11-20T14:46:51.769Z"
      },
      {
        "duration": 83,
        "start_time": "2022-11-20T14:49:23.526Z"
      },
      {
        "duration": 390,
        "start_time": "2022-11-20T14:49:32.333Z"
      },
      {
        "duration": 375,
        "start_time": "2022-11-20T14:49:40.423Z"
      },
      {
        "duration": 450,
        "start_time": "2022-11-20T14:49:48.672Z"
      },
      {
        "duration": 361,
        "start_time": "2022-11-20T14:55:17.017Z"
      },
      {
        "duration": 6,
        "start_time": "2022-11-20T14:56:09.247Z"
      },
      {
        "duration": 13,
        "start_time": "2022-11-20T14:56:19.175Z"
      },
      {
        "duration": 9,
        "start_time": "2022-11-20T14:56:25.430Z"
      },
      {
        "duration": 270,
        "start_time": "2022-11-20T14:56:41.704Z"
      },
      {
        "duration": 155,
        "start_time": "2022-11-20T14:57:04.057Z"
      },
      {
        "duration": 171,
        "start_time": "2022-11-20T14:57:12.527Z"
      },
      {
        "duration": 283,
        "start_time": "2022-11-20T14:57:32.885Z"
      },
      {
        "duration": 153,
        "start_time": "2022-11-20T14:59:32.318Z"
      },
      {
        "duration": 14,
        "start_time": "2022-11-20T15:01:40.643Z"
      },
      {
        "duration": 16,
        "start_time": "2022-11-20T15:01:48.811Z"
      },
      {
        "duration": 204,
        "start_time": "2022-11-20T15:02:13.908Z"
      },
      {
        "duration": 212,
        "start_time": "2022-11-20T15:02:49.842Z"
      },
      {
        "duration": 290,
        "start_time": "2022-11-20T15:03:00.506Z"
      },
      {
        "duration": 218,
        "start_time": "2022-11-20T15:03:09.605Z"
      },
      {
        "duration": 400,
        "start_time": "2022-11-20T15:04:21.496Z"
      },
      {
        "duration": 10,
        "start_time": "2022-11-20T15:04:36.647Z"
      },
      {
        "duration": 10,
        "start_time": "2022-11-20T15:04:56.206Z"
      },
      {
        "duration": 230,
        "start_time": "2022-11-20T15:05:11.368Z"
      },
      {
        "duration": 199,
        "start_time": "2022-11-20T15:05:26.927Z"
      },
      {
        "duration": 9,
        "start_time": "2022-11-20T15:06:18.029Z"
      },
      {
        "duration": 9,
        "start_time": "2022-11-20T15:07:24.993Z"
      },
      {
        "duration": 4,
        "start_time": "2022-11-20T15:07:39.430Z"
      },
      {
        "duration": 374,
        "start_time": "2022-11-20T15:07:40.045Z"
      },
      {
        "duration": 79,
        "start_time": "2022-11-20T15:07:43.834Z"
      },
      {
        "duration": 471,
        "start_time": "2022-11-20T15:08:10.049Z"
      },
      {
        "duration": 10,
        "start_time": "2022-11-20T15:08:45.645Z"
      },
      {
        "duration": 298,
        "start_time": "2022-11-20T15:09:06.574Z"
      },
      {
        "duration": 18,
        "start_time": "2022-11-20T15:09:42.109Z"
      },
      {
        "duration": 12,
        "start_time": "2022-11-20T15:10:33.710Z"
      },
      {
        "duration": 23,
        "start_time": "2022-11-20T15:10:40.273Z"
      },
      {
        "duration": 194,
        "start_time": "2022-11-20T15:11:17.650Z"
      },
      {
        "duration": 285,
        "start_time": "2022-11-20T15:14:17.597Z"
      },
      {
        "duration": 14,
        "start_time": "2022-11-20T15:14:37.443Z"
      },
      {
        "duration": 228,
        "start_time": "2022-11-20T15:14:45.534Z"
      },
      {
        "duration": 179,
        "start_time": "2022-11-20T15:15:06.828Z"
      },
      {
        "duration": 56,
        "start_time": "2022-11-20T15:16:46.360Z"
      },
      {
        "duration": 222,
        "start_time": "2022-11-20T15:16:53.835Z"
      },
      {
        "duration": 168,
        "start_time": "2022-11-20T15:17:03.563Z"
      },
      {
        "duration": 195,
        "start_time": "2022-11-20T15:17:11.038Z"
      },
      {
        "duration": 175,
        "start_time": "2022-11-20T15:17:16.568Z"
      },
      {
        "duration": 174,
        "start_time": "2022-11-20T15:18:07.471Z"
      },
      {
        "duration": 272,
        "start_time": "2022-11-20T15:20:03.382Z"
      },
      {
        "duration": 14,
        "start_time": "2022-11-20T15:20:23.968Z"
      },
      {
        "duration": 248,
        "start_time": "2022-11-20T15:20:43.932Z"
      },
      {
        "duration": 195,
        "start_time": "2022-11-20T15:21:46.295Z"
      },
      {
        "duration": 177,
        "start_time": "2022-11-20T15:21:58.997Z"
      },
      {
        "duration": 204,
        "start_time": "2022-11-20T15:22:13.840Z"
      },
      {
        "duration": 206,
        "start_time": "2022-11-20T15:22:21.648Z"
      },
      {
        "duration": 271,
        "start_time": "2022-11-20T15:22:31.148Z"
      },
      {
        "duration": 100,
        "start_time": "2022-11-20T15:23:32.997Z"
      },
      {
        "duration": 96,
        "start_time": "2022-11-20T15:24:22.457Z"
      },
      {
        "duration": 94,
        "start_time": "2022-11-20T15:24:34.954Z"
      },
      {
        "duration": 4,
        "start_time": "2022-11-20T15:27:08.348Z"
      },
      {
        "duration": 383,
        "start_time": "2022-11-20T15:27:10.602Z"
      },
      {
        "duration": 68,
        "start_time": "2022-11-20T15:27:13.060Z"
      },
      {
        "duration": 70,
        "start_time": "2022-11-20T15:27:17.053Z"
      },
      {
        "duration": 65,
        "start_time": "2022-11-20T15:27:20.535Z"
      },
      {
        "duration": 1305,
        "start_time": "2022-11-20T15:27:31.290Z"
      },
      {
        "duration": 345,
        "start_time": "2022-11-20T15:27:34.461Z"
      },
      {
        "duration": 70,
        "start_time": "2022-11-20T15:27:39.171Z"
      },
      {
        "duration": 94,
        "start_time": "2022-11-20T15:27:43.984Z"
      },
      {
        "duration": 71,
        "start_time": "2022-11-20T15:27:47.467Z"
      },
      {
        "duration": 13,
        "start_time": "2022-11-20T15:27:55.659Z"
      },
      {
        "duration": 434,
        "start_time": "2022-11-20T15:28:00.167Z"
      },
      {
        "duration": 387,
        "start_time": "2022-11-20T15:28:33.137Z"
      },
      {
        "duration": 442,
        "start_time": "2022-11-20T15:28:36.721Z"
      },
      {
        "duration": 406,
        "start_time": "2022-11-20T15:28:39.998Z"
      },
      {
        "duration": 314,
        "start_time": "2022-11-20T15:28:58.533Z"
      },
      {
        "duration": 196,
        "start_time": "2022-11-20T15:29:01.507Z"
      },
      {
        "duration": 17,
        "start_time": "2022-11-20T15:29:07.170Z"
      },
      {
        "duration": 281,
        "start_time": "2022-11-20T15:29:08.978Z"
      },
      {
        "duration": 304,
        "start_time": "2022-11-20T15:29:19.116Z"
      },
      {
        "duration": 162,
        "start_time": "2022-11-20T15:29:27.748Z"
      },
      {
        "duration": 277,
        "start_time": "2022-11-20T15:29:32.023Z"
      },
      {
        "duration": 164,
        "start_time": "2022-11-20T15:29:44.307Z"
      },
      {
        "duration": 14,
        "start_time": "2022-11-20T15:31:47.905Z"
      },
      {
        "duration": 176,
        "start_time": "2022-11-20T15:32:10.332Z"
      },
      {
        "duration": 270,
        "start_time": "2022-11-20T15:32:16.276Z"
      },
      {
        "duration": 9,
        "start_time": "2022-11-20T15:32:33.271Z"
      },
      {
        "duration": 8,
        "start_time": "2022-11-20T15:32:49.557Z"
      },
      {
        "duration": 8,
        "start_time": "2022-11-20T15:33:06.763Z"
      },
      {
        "duration": 8,
        "start_time": "2022-11-20T15:33:35.019Z"
      },
      {
        "duration": 166,
        "start_time": "2022-11-20T15:34:59.708Z"
      },
      {
        "duration": 179,
        "start_time": "2022-11-20T15:36:16.817Z"
      },
      {
        "duration": 160,
        "start_time": "2022-11-20T15:36:37.037Z"
      },
      {
        "duration": 177,
        "start_time": "2022-11-20T15:36:47.131Z"
      },
      {
        "duration": 261,
        "start_time": "2022-11-20T15:36:54.093Z"
      },
      {
        "duration": 8,
        "start_time": "2022-11-20T15:37:16.923Z"
      },
      {
        "duration": 176,
        "start_time": "2022-11-20T15:38:48.265Z"
      },
      {
        "duration": 169,
        "start_time": "2022-11-20T15:38:59.120Z"
      },
      {
        "duration": 1535,
        "start_time": "2022-11-22T13:31:24.358Z"
      },
      {
        "duration": 736,
        "start_time": "2022-11-22T13:31:25.895Z"
      },
      {
        "duration": 5,
        "start_time": "2022-11-22T13:32:11.567Z"
      },
      {
        "duration": 481,
        "start_time": "2022-11-22T13:32:11.873Z"
      },
      {
        "duration": 91,
        "start_time": "2022-11-22T13:32:12.357Z"
      },
      {
        "duration": 87,
        "start_time": "2022-11-22T13:32:12.450Z"
      },
      {
        "duration": 75,
        "start_time": "2022-11-22T13:32:12.592Z"
      },
      {
        "duration": 101,
        "start_time": "2022-11-22T13:32:12.796Z"
      },
      {
        "duration": 443,
        "start_time": "2022-11-22T13:32:13.203Z"
      },
      {
        "duration": 411,
        "start_time": "2022-11-22T13:32:14.023Z"
      },
      {
        "duration": 421,
        "start_time": "2022-11-22T13:32:15.558Z"
      },
      {
        "duration": 8,
        "start_time": "2022-11-22T13:32:21.293Z"
      },
      {
        "duration": 181,
        "start_time": "2022-11-22T13:32:21.680Z"
      },
      {
        "duration": 18,
        "start_time": "2022-11-22T13:32:26.315Z"
      },
      {
        "duration": 183,
        "start_time": "2022-11-22T13:32:27.029Z"
      },
      {
        "duration": 10,
        "start_time": "2022-11-22T13:32:27.644Z"
      },
      {
        "duration": 243,
        "start_time": "2022-11-22T13:32:31.328Z"
      },
      {
        "duration": 8,
        "start_time": "2022-11-22T13:32:31.668Z"
      },
      {
        "duration": 166,
        "start_time": "2022-11-22T13:32:32.239Z"
      },
      {
        "duration": 10,
        "start_time": "2022-11-22T13:32:35.425Z"
      },
      {
        "duration": 161,
        "start_time": "2022-11-22T13:32:35.641Z"
      },
      {
        "duration": 9,
        "start_time": "2022-11-22T13:32:35.833Z"
      },
      {
        "duration": 5,
        "start_time": "2022-11-22T13:41:50.330Z"
      },
      {
        "duration": 4,
        "start_time": "2022-11-22T13:50:00.938Z"
      },
      {
        "duration": 5,
        "start_time": "2022-11-22T13:51:37.118Z"
      },
      {
        "duration": 5,
        "start_time": "2022-11-22T13:51:46.539Z"
      },
      {
        "duration": 5,
        "start_time": "2022-11-22T13:52:42.521Z"
      },
      {
        "duration": 5,
        "start_time": "2022-11-22T13:53:14.368Z"
      },
      {
        "duration": 109,
        "start_time": "2022-11-22T13:55:19.501Z"
      },
      {
        "duration": 14,
        "start_time": "2022-11-22T13:55:31.686Z"
      },
      {
        "duration": 10,
        "start_time": "2022-11-22T13:57:23.401Z"
      },
      {
        "duration": 3,
        "start_time": "2022-11-22T14:04:35.121Z"
      },
      {
        "duration": 351,
        "start_time": "2022-11-22T14:04:35.964Z"
      },
      {
        "duration": 74,
        "start_time": "2022-11-22T14:04:39.945Z"
      },
      {
        "duration": 64,
        "start_time": "2022-11-22T14:04:40.531Z"
      },
      {
        "duration": 69,
        "start_time": "2022-11-22T14:04:41.562Z"
      },
      {
        "duration": 388,
        "start_time": "2022-11-22T14:04:45.773Z"
      },
      {
        "duration": 378,
        "start_time": "2022-11-22T14:04:47.616Z"
      },
      {
        "duration": 386,
        "start_time": "2022-11-22T14:04:51.915Z"
      },
      {
        "duration": 7,
        "start_time": "2022-11-22T14:04:57.135Z"
      },
      {
        "duration": 171,
        "start_time": "2022-11-22T14:05:02.147Z"
      },
      {
        "duration": 17,
        "start_time": "2022-11-22T14:05:03.691Z"
      },
      {
        "duration": 165,
        "start_time": "2022-11-22T14:05:04.544Z"
      },
      {
        "duration": 9,
        "start_time": "2022-11-22T14:05:05.766Z"
      },
      {
        "duration": 159,
        "start_time": "2022-11-22T14:05:07.012Z"
      },
      {
        "duration": 8,
        "start_time": "2022-11-22T14:05:13.012Z"
      },
      {
        "duration": 158,
        "start_time": "2022-11-22T14:05:16.211Z"
      },
      {
        "duration": 11,
        "start_time": "2022-11-22T14:05:18.335Z"
      },
      {
        "duration": 163,
        "start_time": "2022-11-22T14:05:19.525Z"
      },
      {
        "duration": 8,
        "start_time": "2022-11-22T14:05:24.626Z"
      },
      {
        "duration": 182,
        "start_time": "2022-11-22T14:05:31.284Z"
      },
      {
        "duration": 4,
        "start_time": "2022-11-22T14:05:41.265Z"
      },
      {
        "duration": 28,
        "start_time": "2022-11-22T14:05:43.490Z"
      },
      {
        "duration": 4,
        "start_time": "2022-11-22T14:14:30.632Z"
      },
      {
        "duration": 363,
        "start_time": "2022-11-22T14:14:31.140Z"
      },
      {
        "duration": 67,
        "start_time": "2022-11-22T14:14:32.772Z"
      },
      {
        "duration": 65,
        "start_time": "2022-11-22T14:14:33.493Z"
      },
      {
        "duration": 68,
        "start_time": "2022-11-22T14:14:33.901Z"
      },
      {
        "duration": 97,
        "start_time": "2022-11-22T14:14:34.026Z"
      },
      {
        "duration": 394,
        "start_time": "2022-11-22T14:14:34.513Z"
      },
      {
        "duration": 510,
        "start_time": "2022-11-22T14:14:34.909Z"
      },
      {
        "duration": 404,
        "start_time": "2022-11-22T14:14:35.422Z"
      },
      {
        "duration": 8,
        "start_time": "2022-11-22T14:14:35.828Z"
      },
      {
        "duration": 164,
        "start_time": "2022-11-22T14:14:35.941Z"
      },
      {
        "duration": 17,
        "start_time": "2022-11-22T14:14:37.082Z"
      },
      {
        "duration": 171,
        "start_time": "2022-11-22T14:14:37.791Z"
      },
      {
        "duration": 18,
        "start_time": "2022-11-22T14:14:37.964Z"
      },
      {
        "duration": 207,
        "start_time": "2022-11-22T14:14:38.209Z"
      },
      {
        "duration": 8,
        "start_time": "2022-11-22T14:14:38.601Z"
      },
      {
        "duration": 170,
        "start_time": "2022-11-22T14:14:38.811Z"
      },
      {
        "duration": 9,
        "start_time": "2022-11-22T14:14:39.543Z"
      },
      {
        "duration": 160,
        "start_time": "2022-11-22T14:14:40.235Z"
      },
      {
        "duration": 8,
        "start_time": "2022-11-22T14:14:40.450Z"
      },
      {
        "duration": 170,
        "start_time": "2022-11-22T14:14:40.671Z"
      },
      {
        "duration": 3,
        "start_time": "2022-11-22T14:14:47.328Z"
      },
      {
        "duration": 32,
        "start_time": "2022-11-22T14:14:48.445Z"
      },
      {
        "duration": 1457,
        "start_time": "2022-11-22T17:39:20.980Z"
      },
      {
        "duration": 1578,
        "start_time": "2022-11-22T17:39:22.439Z"
      },
      {
        "duration": 109,
        "start_time": "2022-11-22T17:39:24.019Z"
      },
      {
        "duration": 95,
        "start_time": "2022-11-22T17:39:24.130Z"
      },
      {
        "duration": 87,
        "start_time": "2022-11-22T17:39:24.228Z"
      },
      {
        "duration": 110,
        "start_time": "2022-11-22T17:39:24.317Z"
      },
      {
        "duration": 406,
        "start_time": "2022-11-22T17:39:24.428Z"
      },
      {
        "duration": 408,
        "start_time": "2022-11-22T17:39:24.836Z"
      },
      {
        "duration": 403,
        "start_time": "2022-11-22T17:39:25.246Z"
      },
      {
        "duration": 8,
        "start_time": "2022-11-22T17:39:25.650Z"
      },
      {
        "duration": 181,
        "start_time": "2022-11-22T17:39:25.660Z"
      },
      {
        "duration": 17,
        "start_time": "2022-11-22T17:39:25.842Z"
      },
      {
        "duration": 185,
        "start_time": "2022-11-22T17:39:25.861Z"
      },
      {
        "duration": 7,
        "start_time": "2022-11-22T17:39:26.049Z"
      },
      {
        "duration": 254,
        "start_time": "2022-11-22T17:39:26.057Z"
      },
      {
        "duration": 8,
        "start_time": "2022-11-22T17:39:26.313Z"
      },
      {
        "duration": 180,
        "start_time": "2022-11-22T17:39:26.323Z"
      },
      {
        "duration": 7,
        "start_time": "2022-11-22T17:39:26.504Z"
      },
      {
        "duration": 184,
        "start_time": "2022-11-22T17:39:26.513Z"
      },
      {
        "duration": 7,
        "start_time": "2022-11-22T17:39:26.699Z"
      },
      {
        "duration": 173,
        "start_time": "2022-11-22T17:39:26.942Z"
      },
      {
        "duration": 4,
        "start_time": "2022-11-22T17:39:27.116Z"
      },
      {
        "duration": 27,
        "start_time": "2022-11-22T17:39:27.121Z"
      },
      {
        "duration": 3,
        "start_time": "2022-11-22T17:45:02.952Z"
      },
      {
        "duration": 125,
        "start_time": "2022-11-22T17:46:54.702Z"
      },
      {
        "duration": 25,
        "start_time": "2022-11-22T17:47:09.323Z"
      },
      {
        "duration": 5,
        "start_time": "2022-11-22T17:47:19.968Z"
      },
      {
        "duration": 28,
        "start_time": "2022-11-22T17:47:22.330Z"
      },
      {
        "duration": 25,
        "start_time": "2022-11-22T17:49:02.169Z"
      },
      {
        "duration": 9,
        "start_time": "2022-11-22T17:53:36.502Z"
      },
      {
        "duration": 4,
        "start_time": "2022-11-22T17:53:51.475Z"
      },
      {
        "duration": 16,
        "start_time": "2022-11-22T17:53:52.874Z"
      },
      {
        "duration": 4,
        "start_time": "2022-11-22T17:53:58.216Z"
      },
      {
        "duration": 4,
        "start_time": "2022-11-22T17:54:57.075Z"
      },
      {
        "duration": 98,
        "start_time": "2022-11-22T17:55:40.081Z"
      },
      {
        "duration": 13,
        "start_time": "2022-11-22T17:55:58.102Z"
      },
      {
        "duration": 9,
        "start_time": "2022-11-22T17:58:27.814Z"
      },
      {
        "duration": 10,
        "start_time": "2022-11-22T17:58:59.069Z"
      },
      {
        "duration": 4,
        "start_time": "2022-11-22T17:59:06.105Z"
      },
      {
        "duration": 10,
        "start_time": "2022-11-22T17:59:06.935Z"
      },
      {
        "duration": 23,
        "start_time": "2022-11-22T17:59:48.513Z"
      },
      {
        "duration": 4,
        "start_time": "2022-11-22T18:00:19.778Z"
      },
      {
        "duration": 28,
        "start_time": "2022-11-22T18:00:20.984Z"
      },
      {
        "duration": 3,
        "start_time": "2022-11-22T18:01:08.484Z"
      },
      {
        "duration": 4,
        "start_time": "2022-11-22T18:01:39.412Z"
      },
      {
        "duration": 82,
        "start_time": "2022-11-22T18:01:47.602Z"
      },
      {
        "duration": 4,
        "start_time": "2022-11-22T18:02:17.672Z"
      },
      {
        "duration": 35,
        "start_time": "2022-11-22T18:02:23.568Z"
      },
      {
        "duration": 10,
        "start_time": "2022-11-22T18:06:55.939Z"
      },
      {
        "duration": 24,
        "start_time": "2022-11-22T18:07:08.419Z"
      },
      {
        "duration": 4,
        "start_time": "2022-11-22T18:07:32.176Z"
      },
      {
        "duration": 13,
        "start_time": "2022-11-22T18:08:18.062Z"
      },
      {
        "duration": 18,
        "start_time": "2022-11-22T18:11:28.036Z"
      },
      {
        "duration": 4,
        "start_time": "2022-11-22T18:21:26.786Z"
      },
      {
        "duration": 5,
        "start_time": "2022-11-22T18:22:32.795Z"
      },
      {
        "duration": 15,
        "start_time": "2022-11-22T18:26:13.104Z"
      },
      {
        "duration": 3,
        "start_time": "2022-11-22T18:27:16.527Z"
      },
      {
        "duration": 14,
        "start_time": "2022-11-22T18:27:22.086Z"
      },
      {
        "duration": 15,
        "start_time": "2022-11-22T18:28:55.464Z"
      },
      {
        "duration": 15,
        "start_time": "2022-11-22T18:29:32.294Z"
      },
      {
        "duration": 3,
        "start_time": "2022-11-22T18:32:09.605Z"
      },
      {
        "duration": 19,
        "start_time": "2022-11-22T18:32:42.347Z"
      },
      {
        "duration": 10,
        "start_time": "2022-11-22T18:33:25.814Z"
      },
      {
        "duration": 4,
        "start_time": "2022-11-22T18:33:30.925Z"
      },
      {
        "duration": 12,
        "start_time": "2022-11-22T18:33:33.785Z"
      },
      {
        "duration": 3,
        "start_time": "2022-11-22T18:33:39.085Z"
      },
      {
        "duration": 11,
        "start_time": "2022-11-22T18:33:42.385Z"
      },
      {
        "duration": 4,
        "start_time": "2022-11-22T18:34:05.734Z"
      },
      {
        "duration": 18,
        "start_time": "2022-11-22T18:34:13.124Z"
      },
      {
        "duration": 3,
        "start_time": "2022-11-22T18:34:44.740Z"
      },
      {
        "duration": 71,
        "start_time": "2022-11-22T18:34:47.709Z"
      },
      {
        "duration": 3,
        "start_time": "2022-11-22T18:35:20.796Z"
      },
      {
        "duration": 14,
        "start_time": "2022-11-22T18:35:24.068Z"
      },
      {
        "duration": 4,
        "start_time": "2022-11-22T18:35:32.564Z"
      },
      {
        "duration": 15,
        "start_time": "2022-11-22T18:35:37.660Z"
      },
      {
        "duration": 3,
        "start_time": "2022-11-22T18:35:49.824Z"
      },
      {
        "duration": 14,
        "start_time": "2022-11-22T18:35:51.314Z"
      },
      {
        "duration": 3,
        "start_time": "2022-11-22T18:35:59.192Z"
      },
      {
        "duration": 15,
        "start_time": "2022-11-22T18:36:00.628Z"
      },
      {
        "duration": 14,
        "start_time": "2022-11-22T18:36:29.994Z"
      },
      {
        "duration": 13,
        "start_time": "2022-11-22T18:37:40.525Z"
      },
      {
        "duration": 21,
        "start_time": "2022-11-22T18:38:34.148Z"
      },
      {
        "duration": 3,
        "start_time": "2022-11-22T18:55:14.636Z"
      },
      {
        "duration": 3,
        "start_time": "2022-11-22T18:57:38.559Z"
      },
      {
        "duration": 20,
        "start_time": "2022-11-22T18:59:22.381Z"
      },
      {
        "duration": 3,
        "start_time": "2022-11-22T19:05:16.661Z"
      },
      {
        "duration": 8,
        "start_time": "2022-11-22T19:05:27.341Z"
      },
      {
        "duration": 97,
        "start_time": "2022-11-22T19:10:19.381Z"
      },
      {
        "duration": 14,
        "start_time": "2022-11-22T19:10:26.468Z"
      },
      {
        "duration": 15,
        "start_time": "2022-11-22T19:10:36.083Z"
      },
      {
        "duration": 17,
        "start_time": "2022-11-22T19:10:46.110Z"
      },
      {
        "duration": 3,
        "start_time": "2022-11-22T19:12:13.161Z"
      },
      {
        "duration": 13,
        "start_time": "2022-11-22T19:12:20.297Z"
      },
      {
        "duration": 14,
        "start_time": "2022-11-22T19:12:27.599Z"
      },
      {
        "duration": 15,
        "start_time": "2022-11-22T19:12:38.965Z"
      },
      {
        "duration": 3,
        "start_time": "2022-11-22T19:18:31.621Z"
      },
      {
        "duration": 3,
        "start_time": "2022-11-22T19:18:50.663Z"
      },
      {
        "duration": 3,
        "start_time": "2022-11-22T19:22:27.766Z"
      },
      {
        "duration": 4,
        "start_time": "2022-11-22T19:27:33.629Z"
      },
      {
        "duration": 5,
        "start_time": "2022-11-22T19:27:39.860Z"
      },
      {
        "duration": 3936,
        "start_time": "2022-11-22T19:29:10.367Z"
      },
      {
        "duration": 1278,
        "start_time": "2022-11-22T19:29:29.941Z"
      },
      {
        "duration": 4066,
        "start_time": "2022-11-22T19:30:02.811Z"
      },
      {
        "duration": 3855,
        "start_time": "2022-11-22T19:30:22.582Z"
      },
      {
        "duration": 3960,
        "start_time": "2022-11-22T19:30:37.230Z"
      },
      {
        "duration": 3791,
        "start_time": "2022-11-22T19:31:31.901Z"
      },
      {
        "duration": 3806,
        "start_time": "2022-11-22T19:31:57.620Z"
      },
      {
        "duration": 15,
        "start_time": "2022-11-22T19:37:13.092Z"
      },
      {
        "duration": 14,
        "start_time": "2022-11-22T19:37:40.131Z"
      },
      {
        "duration": 3,
        "start_time": "2022-11-22T19:42:27.080Z"
      },
      {
        "duration": 4,
        "start_time": "2022-11-22T19:51:21.502Z"
      },
      {
        "duration": 3,
        "start_time": "2022-11-22T19:53:22.056Z"
      },
      {
        "duration": 3,
        "start_time": "2022-11-22T19:53:27.095Z"
      },
      {
        "duration": 4,
        "start_time": "2022-11-22T19:56:35.153Z"
      },
      {
        "duration": 3,
        "start_time": "2022-11-22T19:56:46.750Z"
      },
      {
        "duration": 3,
        "start_time": "2022-11-22T19:58:13.243Z"
      },
      {
        "duration": 18,
        "start_time": "2022-11-22T19:58:17.036Z"
      },
      {
        "duration": 4,
        "start_time": "2022-11-22T19:58:29.423Z"
      },
      {
        "duration": 18,
        "start_time": "2022-11-22T19:58:36.077Z"
      },
      {
        "duration": 5,
        "start_time": "2022-11-22T19:59:25.821Z"
      },
      {
        "duration": 16,
        "start_time": "2022-11-22T19:59:27.998Z"
      },
      {
        "duration": 15,
        "start_time": "2022-11-22T19:59:36.897Z"
      },
      {
        "duration": 2,
        "start_time": "2022-11-22T19:59:57.589Z"
      },
      {
        "duration": 3,
        "start_time": "2022-11-22T19:59:58.564Z"
      },
      {
        "duration": 4,
        "start_time": "2022-11-22T19:59:59.352Z"
      },
      {
        "duration": 3,
        "start_time": "2022-11-22T20:00:01.295Z"
      },
      {
        "duration": 5,
        "start_time": "2022-11-22T20:00:06.098Z"
      },
      {
        "duration": 1264,
        "start_time": "2022-11-22T20:00:07.616Z"
      },
      {
        "duration": 1422,
        "start_time": "2022-11-22T20:01:13.984Z"
      },
      {
        "duration": 5,
        "start_time": "2022-11-22T20:01:29.861Z"
      },
      {
        "duration": 1260,
        "start_time": "2022-11-22T20:01:31.076Z"
      },
      {
        "duration": 6,
        "start_time": "2022-11-22T20:01:43.170Z"
      },
      {
        "duration": 1297,
        "start_time": "2022-11-22T20:01:48.597Z"
      },
      {
        "duration": 7,
        "start_time": "2022-11-22T20:01:55.056Z"
      },
      {
        "duration": 1272,
        "start_time": "2022-11-22T20:01:56.065Z"
      },
      {
        "duration": 5,
        "start_time": "2022-11-22T20:02:05.160Z"
      },
      {
        "duration": 1248,
        "start_time": "2022-11-22T20:02:07.097Z"
      },
      {
        "duration": 3861,
        "start_time": "2022-11-22T20:03:02.640Z"
      },
      {
        "duration": 3900,
        "start_time": "2022-11-22T20:05:01.257Z"
      },
      {
        "duration": 54,
        "start_time": "2022-11-22T20:11:36.565Z"
      },
      {
        "duration": 362,
        "start_time": "2022-11-22T20:11:36.757Z"
      },
      {
        "duration": 71,
        "start_time": "2022-11-22T20:11:37.260Z"
      },
      {
        "duration": 63,
        "start_time": "2022-11-22T20:11:37.371Z"
      },
      {
        "duration": 62,
        "start_time": "2022-11-22T20:11:37.573Z"
      },
      {
        "duration": 88,
        "start_time": "2022-11-22T20:11:37.773Z"
      },
      {
        "duration": 12,
        "start_time": "2022-11-22T20:11:38.093Z"
      },
      {
        "duration": 373,
        "start_time": "2022-11-22T20:11:38.449Z"
      },
      {
        "duration": 383,
        "start_time": "2022-11-22T20:11:38.824Z"
      },
      {
        "duration": 431,
        "start_time": "2022-11-22T20:11:39.208Z"
      },
      {
        "duration": 8,
        "start_time": "2022-11-22T20:11:39.641Z"
      },
      {
        "duration": 169,
        "start_time": "2022-11-22T20:11:39.718Z"
      },
      {
        "duration": 16,
        "start_time": "2022-11-22T20:11:40.301Z"
      },
      {
        "duration": 153,
        "start_time": "2022-11-22T20:11:40.458Z"
      },
      {
        "duration": 7,
        "start_time": "2022-11-22T20:11:40.645Z"
      },
      {
        "duration": 155,
        "start_time": "2022-11-22T20:11:40.913Z"
      },
      {
        "duration": 7,
        "start_time": "2022-11-22T20:11:41.268Z"
      },
      {
        "duration": 232,
        "start_time": "2022-11-22T20:11:41.588Z"
      },
      {
        "duration": 7,
        "start_time": "2022-11-22T20:11:41.822Z"
      },
      {
        "duration": 154,
        "start_time": "2022-11-22T20:11:41.968Z"
      },
      {
        "duration": 8,
        "start_time": "2022-11-22T20:11:42.172Z"
      },
      {
        "duration": 155,
        "start_time": "2022-11-22T20:11:42.502Z"
      },
      {
        "duration": 23,
        "start_time": "2022-11-22T20:11:43.463Z"
      },
      {
        "duration": 4,
        "start_time": "2022-11-22T20:11:43.717Z"
      },
      {
        "duration": 12,
        "start_time": "2022-11-22T20:11:43.930Z"
      },
      {
        "duration": 65,
        "start_time": "2022-11-22T20:11:44.456Z"
      },
      {
        "duration": 4,
        "start_time": "2022-11-22T20:11:44.656Z"
      },
      {
        "duration": 14,
        "start_time": "2022-11-22T20:11:45.175Z"
      },
      {
        "duration": 71,
        "start_time": "2022-11-22T20:11:51.744Z"
      },
      {
        "duration": 3,
        "start_time": "2022-11-22T20:11:53.256Z"
      },
      {
        "duration": 6,
        "start_time": "2022-11-22T20:12:00.450Z"
      },
      {
        "duration": 371,
        "start_time": "2022-11-22T20:12:00.961Z"
      },
      {
        "duration": 71,
        "start_time": "2022-11-22T20:12:01.777Z"
      },
      {
        "duration": 69,
        "start_time": "2022-11-22T20:12:01.961Z"
      },
      {
        "duration": 66,
        "start_time": "2022-11-22T20:12:05.661Z"
      },
      {
        "duration": 66,
        "start_time": "2022-11-22T20:12:06.904Z"
      },
      {
        "duration": 89,
        "start_time": "2022-11-22T20:12:09.153Z"
      },
      {
        "duration": 14,
        "start_time": "2022-11-22T20:12:09.928Z"
      },
      {
        "duration": 396,
        "start_time": "2022-11-22T20:12:12.413Z"
      },
      {
        "duration": 354,
        "start_time": "2022-11-22T20:12:17.249Z"
      },
      {
        "duration": 8,
        "start_time": "2022-11-22T20:12:24.702Z"
      },
      {
        "duration": 160,
        "start_time": "2022-11-22T20:12:24.883Z"
      },
      {
        "duration": 16,
        "start_time": "2022-11-22T20:12:25.291Z"
      },
      {
        "duration": 163,
        "start_time": "2022-11-22T20:12:25.493Z"
      },
      {
        "duration": 8,
        "start_time": "2022-11-22T20:12:25.703Z"
      },
      {
        "duration": 157,
        "start_time": "2022-11-22T20:12:26.048Z"
      },
      {
        "duration": 7,
        "start_time": "2022-11-22T20:12:26.413Z"
      },
      {
        "duration": 144,
        "start_time": "2022-11-22T20:12:26.736Z"
      },
      {
        "duration": 8,
        "start_time": "2022-11-22T20:12:26.881Z"
      },
      {
        "duration": 139,
        "start_time": "2022-11-22T20:12:27.996Z"
      },
      {
        "duration": 7,
        "start_time": "2022-11-22T20:12:28.666Z"
      },
      {
        "duration": 163,
        "start_time": "2022-11-22T20:12:28.879Z"
      },
      {
        "duration": 20,
        "start_time": "2022-11-22T20:12:33.805Z"
      },
      {
        "duration": 3,
        "start_time": "2022-11-22T20:12:34.677Z"
      },
      {
        "duration": 10,
        "start_time": "2022-11-22T20:12:38.849Z"
      },
      {
        "duration": 67,
        "start_time": "2022-11-22T20:12:40.972Z"
      },
      {
        "duration": 13,
        "start_time": "2022-11-22T20:12:46.915Z"
      },
      {
        "duration": 1322,
        "start_time": "2022-11-22T20:14:37.415Z"
      },
      {
        "duration": 392,
        "start_time": "2022-11-22T20:14:41.283Z"
      },
      {
        "duration": 4,
        "start_time": "2022-11-22T20:15:09.657Z"
      },
      {
        "duration": 371,
        "start_time": "2022-11-22T20:15:10.376Z"
      },
      {
        "duration": 79,
        "start_time": "2022-11-22T20:15:11.716Z"
      },
      {
        "duration": 66,
        "start_time": "2022-11-22T20:15:15.295Z"
      },
      {
        "duration": 61,
        "start_time": "2022-11-22T20:15:18.265Z"
      },
      {
        "duration": 111,
        "start_time": "2022-11-22T20:15:24.003Z"
      },
      {
        "duration": 15,
        "start_time": "2022-11-22T20:15:29.689Z"
      },
      {
        "duration": 386,
        "start_time": "2022-11-22T20:15:33.215Z"
      },
      {
        "duration": 390,
        "start_time": "2022-11-22T20:15:35.065Z"
      },
      {
        "duration": 374,
        "start_time": "2022-11-22T20:15:37.615Z"
      },
      {
        "duration": 7,
        "start_time": "2022-11-22T20:15:51.563Z"
      },
      {
        "duration": 151,
        "start_time": "2022-11-22T20:15:53.495Z"
      },
      {
        "duration": 18,
        "start_time": "2022-11-22T20:15:59.144Z"
      },
      {
        "duration": 159,
        "start_time": "2022-11-22T20:16:02.994Z"
      },
      {
        "duration": 8,
        "start_time": "2022-11-22T20:16:06.199Z"
      },
      {
        "duration": 225,
        "start_time": "2022-11-22T20:16:09.554Z"
      },
      {
        "duration": 10,
        "start_time": "2022-11-22T20:16:14.098Z"
      },
      {
        "duration": 140,
        "start_time": "2022-11-22T20:16:16.649Z"
      },
      {
        "duration": 8,
        "start_time": "2022-11-22T20:16:18.763Z"
      },
      {
        "duration": 151,
        "start_time": "2022-11-22T20:16:21.564Z"
      },
      {
        "duration": 8,
        "start_time": "2022-11-22T20:16:23.603Z"
      },
      {
        "duration": 154,
        "start_time": "2022-11-22T20:16:26.463Z"
      },
      {
        "duration": 21,
        "start_time": "2022-11-22T20:16:31.495Z"
      },
      {
        "duration": 3,
        "start_time": "2022-11-22T20:16:32.605Z"
      },
      {
        "duration": 12,
        "start_time": "2022-11-22T20:16:45.405Z"
      },
      {
        "duration": 101,
        "start_time": "2022-11-22T20:16:48.665Z"
      },
      {
        "duration": 10,
        "start_time": "2022-11-22T20:17:26.467Z"
      },
      {
        "duration": 33,
        "start_time": "2022-11-22T20:17:42.651Z"
      },
      {
        "duration": 20,
        "start_time": "2022-11-22T20:18:12.963Z"
      },
      {
        "duration": 3,
        "start_time": "2022-11-22T20:18:16.461Z"
      },
      {
        "duration": 15,
        "start_time": "2022-11-22T20:18:22.558Z"
      },
      {
        "duration": 11,
        "start_time": "2022-11-22T20:18:24.539Z"
      },
      {
        "duration": 11,
        "start_time": "2022-11-22T20:18:32.005Z"
      },
      {
        "duration": 1302,
        "start_time": "2022-11-22T20:18:45.007Z"
      },
      {
        "duration": 348,
        "start_time": "2022-11-22T20:18:46.313Z"
      },
      {
        "duration": 73,
        "start_time": "2022-11-22T20:18:46.663Z"
      },
      {
        "duration": 79,
        "start_time": "2022-11-22T20:18:46.738Z"
      },
      {
        "duration": 67,
        "start_time": "2022-11-22T20:18:48.094Z"
      },
      {
        "duration": 97,
        "start_time": "2022-11-22T20:18:48.363Z"
      },
      {
        "duration": 18,
        "start_time": "2022-11-22T20:18:48.473Z"
      },
      {
        "duration": 412,
        "start_time": "2022-11-22T20:18:48.895Z"
      },
      {
        "duration": 371,
        "start_time": "2022-11-22T20:18:49.308Z"
      },
      {
        "duration": 397,
        "start_time": "2022-11-22T20:18:49.681Z"
      },
      {
        "duration": 8,
        "start_time": "2022-11-22T20:18:50.079Z"
      },
      {
        "duration": 156,
        "start_time": "2022-11-22T20:18:51.355Z"
      },
      {
        "duration": 16,
        "start_time": "2022-11-22T20:18:53.411Z"
      },
      {
        "duration": 152,
        "start_time": "2022-11-22T20:18:54.217Z"
      },
      {
        "duration": 7,
        "start_time": "2022-11-22T20:18:56.886Z"
      },
      {
        "duration": 242,
        "start_time": "2022-11-22T20:18:57.915Z"
      },
      {
        "duration": 7,
        "start_time": "2022-11-22T20:19:05.093Z"
      },
      {
        "duration": 159,
        "start_time": "2022-11-22T20:19:08.137Z"
      },
      {
        "duration": 8,
        "start_time": "2022-11-22T20:19:09.596Z"
      },
      {
        "duration": 156,
        "start_time": "2022-11-22T20:19:10.315Z"
      },
      {
        "duration": 8,
        "start_time": "2022-11-22T20:19:10.494Z"
      },
      {
        "duration": 163,
        "start_time": "2022-11-22T20:19:10.695Z"
      },
      {
        "duration": 22,
        "start_time": "2022-11-22T20:19:12.246Z"
      },
      {
        "duration": 4,
        "start_time": "2022-11-22T20:19:12.435Z"
      },
      {
        "duration": 13,
        "start_time": "2022-11-22T20:19:12.638Z"
      },
      {
        "duration": 112,
        "start_time": "2022-11-22T20:19:13.694Z"
      },
      {
        "duration": 10,
        "start_time": "2022-11-22T20:19:20.025Z"
      },
      {
        "duration": 10,
        "start_time": "2022-11-22T20:19:41.116Z"
      },
      {
        "duration": 9,
        "start_time": "2022-11-22T20:19:48.675Z"
      },
      {
        "duration": 9,
        "start_time": "2022-11-22T20:19:51.785Z"
      },
      {
        "duration": 9,
        "start_time": "2022-11-22T20:20:12.455Z"
      },
      {
        "duration": 31,
        "start_time": "2022-11-22T20:20:28.769Z"
      },
      {
        "duration": 18,
        "start_time": "2022-11-22T20:20:35.805Z"
      },
      {
        "duration": 9,
        "start_time": "2022-11-22T20:20:38.890Z"
      },
      {
        "duration": 9,
        "start_time": "2022-11-22T20:20:44.798Z"
      },
      {
        "duration": 33,
        "start_time": "2022-11-22T20:20:46.263Z"
      },
      {
        "duration": 4,
        "start_time": "2022-11-22T20:20:49.225Z"
      },
      {
        "duration": 16,
        "start_time": "2022-11-22T20:20:50.455Z"
      },
      {
        "duration": 11,
        "start_time": "2022-11-22T20:20:50.833Z"
      },
      {
        "duration": 12,
        "start_time": "2022-11-22T20:20:51.243Z"
      },
      {
        "duration": 4,
        "start_time": "2022-11-22T20:20:53.936Z"
      },
      {
        "duration": 3,
        "start_time": "2022-11-22T20:20:59.145Z"
      },
      {
        "duration": 3,
        "start_time": "2022-11-22T20:20:59.333Z"
      },
      {
        "duration": 3,
        "start_time": "2022-11-22T20:20:59.766Z"
      },
      {
        "duration": 6,
        "start_time": "2022-11-22T20:21:00.305Z"
      },
      {
        "duration": 3791,
        "start_time": "2022-11-22T20:21:00.463Z"
      },
      {
        "duration": 1369,
        "start_time": "2022-11-22T20:21:13.595Z"
      },
      {
        "duration": 370,
        "start_time": "2022-11-22T20:21:14.966Z"
      },
      {
        "duration": 78,
        "start_time": "2022-11-22T20:21:15.338Z"
      },
      {
        "duration": 81,
        "start_time": "2022-11-22T20:21:15.418Z"
      },
      {
        "duration": 84,
        "start_time": "2022-11-22T20:21:15.501Z"
      },
      {
        "duration": 125,
        "start_time": "2022-11-22T20:21:15.587Z"
      },
      {
        "duration": 17,
        "start_time": "2022-11-22T20:21:15.713Z"
      },
      {
        "duration": 428,
        "start_time": "2022-11-22T20:21:15.732Z"
      },
      {
        "duration": 418,
        "start_time": "2022-11-22T20:21:16.868Z"
      },
      {
        "duration": 411,
        "start_time": "2022-11-22T20:21:17.287Z"
      },
      {
        "duration": 9,
        "start_time": "2022-11-22T20:21:17.797Z"
      },
      {
        "duration": 158,
        "start_time": "2022-11-22T20:21:18.072Z"
      },
      {
        "duration": 17,
        "start_time": "2022-11-22T20:21:18.605Z"
      },
      {
        "duration": 160,
        "start_time": "2022-11-22T20:21:18.809Z"
      },
      {
        "duration": 8,
        "start_time": "2022-11-22T20:21:18.998Z"
      },
      {
        "duration": 225,
        "start_time": "2022-11-22T20:21:19.242Z"
      },
      {
        "duration": 7,
        "start_time": "2022-11-22T20:21:19.719Z"
      },
      {
        "duration": 146,
        "start_time": "2022-11-22T20:21:20.044Z"
      },
      {
        "duration": 7,
        "start_time": "2022-11-22T20:21:20.228Z"
      },
      {
        "duration": 147,
        "start_time": "2022-11-22T20:21:21.297Z"
      },
      {
        "duration": 8,
        "start_time": "2022-11-22T20:21:21.465Z"
      },
      {
        "duration": 157,
        "start_time": "2022-11-22T20:21:21.757Z"
      },
      {
        "duration": 24,
        "start_time": "2022-11-22T20:21:24.245Z"
      },
      {
        "duration": 4,
        "start_time": "2022-11-22T20:21:24.951Z"
      },
      {
        "duration": 14,
        "start_time": "2022-11-22T20:21:25.547Z"
      },
      {
        "duration": 33,
        "start_time": "2022-11-22T20:21:29.253Z"
      },
      {
        "duration": 4,
        "start_time": "2022-11-22T20:21:30.271Z"
      },
      {
        "duration": 19,
        "start_time": "2022-11-22T20:21:32.027Z"
      },
      {
        "duration": 13,
        "start_time": "2022-11-22T20:21:35.914Z"
      },
      {
        "duration": 12,
        "start_time": "2022-11-22T20:21:39.590Z"
      },
      {
        "duration": 3,
        "start_time": "2022-11-22T20:22:18.105Z"
      },
      {
        "duration": 3,
        "start_time": "2022-11-22T20:22:18.409Z"
      },
      {
        "duration": 3,
        "start_time": "2022-11-22T20:22:18.606Z"
      },
      {
        "duration": 3,
        "start_time": "2022-11-22T20:22:19.024Z"
      },
      {
        "duration": 5,
        "start_time": "2022-11-22T20:22:19.442Z"
      },
      {
        "duration": 3788,
        "start_time": "2022-11-22T20:22:19.544Z"
      },
      {
        "duration": 1511,
        "start_time": "2022-11-23T12:45:53.628Z"
      },
      {
        "duration": 404,
        "start_time": "2022-11-23T12:45:55.141Z"
      },
      {
        "duration": 104,
        "start_time": "2022-11-23T12:45:55.547Z"
      },
      {
        "duration": 97,
        "start_time": "2022-11-23T12:45:55.653Z"
      },
      {
        "duration": 105,
        "start_time": "2022-11-23T12:45:55.753Z"
      },
      {
        "duration": 124,
        "start_time": "2022-11-23T12:45:55.860Z"
      },
      {
        "duration": 20,
        "start_time": "2022-11-23T12:45:55.985Z"
      },
      {
        "duration": 452,
        "start_time": "2022-11-23T12:45:56.024Z"
      },
      {
        "duration": 420,
        "start_time": "2022-11-23T12:45:56.478Z"
      },
      {
        "duration": 413,
        "start_time": "2022-11-23T12:45:56.899Z"
      },
      {
        "duration": 15,
        "start_time": "2022-11-23T12:45:57.313Z"
      },
      {
        "duration": 278,
        "start_time": "2022-11-23T12:45:57.331Z"
      },
      {
        "duration": 17,
        "start_time": "2022-11-23T12:45:57.621Z"
      },
      {
        "duration": 190,
        "start_time": "2022-11-23T12:45:57.641Z"
      },
      {
        "duration": 9,
        "start_time": "2022-11-23T12:45:57.833Z"
      },
      {
        "duration": 226,
        "start_time": "2022-11-23T12:45:57.844Z"
      },
      {
        "duration": 8,
        "start_time": "2022-11-23T12:45:58.072Z"
      },
      {
        "duration": 190,
        "start_time": "2022-11-23T12:45:58.083Z"
      },
      {
        "duration": 8,
        "start_time": "2022-11-23T12:45:58.275Z"
      },
      {
        "duration": 189,
        "start_time": "2022-11-23T12:45:58.285Z"
      },
      {
        "duration": 8,
        "start_time": "2022-11-23T12:45:58.476Z"
      },
      {
        "duration": 195,
        "start_time": "2022-11-23T12:45:58.485Z"
      },
      {
        "duration": 40,
        "start_time": "2022-11-23T12:45:58.682Z"
      },
      {
        "duration": 4,
        "start_time": "2022-11-23T12:45:58.724Z"
      },
      {
        "duration": 14,
        "start_time": "2022-11-23T12:45:58.730Z"
      },
      {
        "duration": 29,
        "start_time": "2022-11-23T12:45:58.746Z"
      },
      {
        "duration": 3,
        "start_time": "2022-11-23T12:45:58.777Z"
      },
      {
        "duration": 67,
        "start_time": "2022-11-23T12:45:58.782Z"
      },
      {
        "duration": 181,
        "start_time": "2022-11-23T12:45:58.851Z"
      },
      {
        "duration": 197,
        "start_time": "2022-11-23T12:45:59.034Z"
      },
      {
        "duration": 98,
        "start_time": "2022-11-23T12:45:59.324Z"
      },
      {
        "duration": 3,
        "start_time": "2022-11-23T12:45:59.424Z"
      },
      {
        "duration": 28,
        "start_time": "2022-11-23T12:45:59.429Z"
      },
      {
        "duration": 11,
        "start_time": "2022-11-23T12:45:59.459Z"
      },
      {
        "duration": 25,
        "start_time": "2022-11-23T12:45:59.472Z"
      },
      {
        "duration": 4544,
        "start_time": "2022-11-23T12:45:59.499Z"
      },
      {
        "duration": 4,
        "start_time": "2022-11-23T12:46:07.644Z"
      },
      {
        "duration": 5,
        "start_time": "2022-11-23T12:46:08.198Z"
      },
      {
        "duration": 4541,
        "start_time": "2022-11-23T12:46:08.818Z"
      },
      {
        "duration": 3,
        "start_time": "2022-11-23T12:46:14.334Z"
      },
      {
        "duration": 5,
        "start_time": "2022-11-23T12:46:14.818Z"
      },
      {
        "duration": 4685,
        "start_time": "2022-11-23T12:46:15.067Z"
      },
      {
        "duration": 6,
        "start_time": "2022-11-23T12:46:24.229Z"
      },
      {
        "duration": 5,
        "start_time": "2022-11-23T12:46:24.686Z"
      },
      {
        "duration": 4664,
        "start_time": "2022-11-23T12:46:24.848Z"
      },
      {
        "duration": 4,
        "start_time": "2022-11-23T12:46:34.974Z"
      },
      {
        "duration": 5,
        "start_time": "2022-11-23T12:46:35.437Z"
      },
      {
        "duration": 4596,
        "start_time": "2022-11-23T12:46:36.295Z"
      },
      {
        "duration": 4,
        "start_time": "2022-11-23T12:46:45.894Z"
      },
      {
        "duration": 6,
        "start_time": "2022-11-23T12:46:47.576Z"
      },
      {
        "duration": 4910,
        "start_time": "2022-11-23T12:46:48.415Z"
      },
      {
        "duration": 5,
        "start_time": "2022-11-23T12:46:54.179Z"
      },
      {
        "duration": 6,
        "start_time": "2022-11-23T12:46:54.696Z"
      },
      {
        "duration": 4666,
        "start_time": "2022-11-23T12:46:55.108Z"
      },
      {
        "duration": 3,
        "start_time": "2022-11-23T12:47:02.088Z"
      },
      {
        "duration": 7,
        "start_time": "2022-11-23T12:47:03.581Z"
      },
      {
        "duration": 4693,
        "start_time": "2022-11-23T12:47:03.968Z"
      },
      {
        "duration": 4,
        "start_time": "2022-11-23T12:47:11.125Z"
      },
      {
        "duration": 5,
        "start_time": "2022-11-23T12:47:11.503Z"
      },
      {
        "duration": 4594,
        "start_time": "2022-11-23T12:47:11.698Z"
      },
      {
        "duration": 4,
        "start_time": "2022-11-23T12:59:08.238Z"
      },
      {
        "duration": 6,
        "start_time": "2022-11-23T12:59:08.538Z"
      },
      {
        "duration": 4739,
        "start_time": "2022-11-23T12:59:08.683Z"
      },
      {
        "duration": 7,
        "start_time": "2022-11-25T13:19:53.176Z"
      },
      {
        "duration": 1631,
        "start_time": "2022-11-25T13:29:12.253Z"
      },
      {
        "duration": 775,
        "start_time": "2022-11-25T13:29:13.887Z"
      },
      {
        "duration": 95,
        "start_time": "2022-11-25T13:29:14.664Z"
      },
      {
        "duration": 85,
        "start_time": "2022-11-25T13:29:14.762Z"
      },
      {
        "duration": 86,
        "start_time": "2022-11-25T13:29:14.848Z"
      },
      {
        "duration": 109,
        "start_time": "2022-11-25T13:29:14.936Z"
      },
      {
        "duration": 17,
        "start_time": "2022-11-25T13:29:15.047Z"
      },
      {
        "duration": 417,
        "start_time": "2022-11-25T13:29:15.065Z"
      },
      {
        "duration": 403,
        "start_time": "2022-11-25T13:29:15.483Z"
      },
      {
        "duration": 413,
        "start_time": "2022-11-25T13:29:15.898Z"
      },
      {
        "duration": 10,
        "start_time": "2022-11-25T13:29:16.313Z"
      },
      {
        "duration": 200,
        "start_time": "2022-11-25T13:29:16.325Z"
      },
      {
        "duration": 16,
        "start_time": "2022-11-25T13:29:16.526Z"
      },
      {
        "duration": 173,
        "start_time": "2022-11-25T13:29:16.544Z"
      },
      {
        "duration": 8,
        "start_time": "2022-11-25T13:29:16.718Z"
      },
      {
        "duration": 233,
        "start_time": "2022-11-25T13:29:16.728Z"
      },
      {
        "duration": 7,
        "start_time": "2022-11-25T13:29:16.963Z"
      },
      {
        "duration": 167,
        "start_time": "2022-11-25T13:29:16.971Z"
      },
      {
        "duration": 7,
        "start_time": "2022-11-25T13:29:17.494Z"
      },
      {
        "duration": 139,
        "start_time": "2022-11-25T13:29:17.699Z"
      },
      {
        "duration": 8,
        "start_time": "2022-11-25T13:29:17.890Z"
      },
      {
        "duration": 151,
        "start_time": "2022-11-25T13:29:18.111Z"
      },
      {
        "duration": 22,
        "start_time": "2022-11-25T13:29:19.420Z"
      },
      {
        "duration": 5,
        "start_time": "2022-11-25T13:29:19.627Z"
      },
      {
        "duration": 13,
        "start_time": "2022-11-25T13:29:19.859Z"
      },
      {
        "duration": 36,
        "start_time": "2022-11-25T13:29:20.300Z"
      },
      {
        "duration": 3,
        "start_time": "2022-11-25T13:29:20.786Z"
      },
      {
        "duration": 28,
        "start_time": "2022-11-25T13:29:21.278Z"
      },
      {
        "duration": 11,
        "start_time": "2022-11-25T13:29:21.671Z"
      },
      {
        "duration": 10,
        "start_time": "2022-11-25T13:29:22.398Z"
      },
      {
        "duration": 3,
        "start_time": "2022-11-25T13:29:25.896Z"
      },
      {
        "duration": 4,
        "start_time": "2022-11-25T13:29:27.310Z"
      },
      {
        "duration": 2,
        "start_time": "2022-11-25T13:29:27.411Z"
      },
      {
        "duration": 98,
        "start_time": "2022-11-25T13:29:27.616Z"
      },
      {
        "duration": 3,
        "start_time": "2022-11-25T13:29:27.820Z"
      },
      {
        "duration": 4,
        "start_time": "2022-11-25T13:33:11.486Z"
      },
      {
        "duration": 4,
        "start_time": "2022-11-25T13:35:25.631Z"
      },
      {
        "duration": 4,
        "start_time": "2022-11-25T13:35:51.125Z"
      },
      {
        "duration": 4,
        "start_time": "2022-11-25T13:39:04.758Z"
      },
      {
        "duration": 3,
        "start_time": "2022-11-25T13:39:52.579Z"
      },
      {
        "duration": 3,
        "start_time": "2022-11-25T13:39:53.497Z"
      },
      {
        "duration": 3,
        "start_time": "2022-11-25T13:39:55.039Z"
      },
      {
        "duration": 3,
        "start_time": "2022-11-25T13:46:50.678Z"
      },
      {
        "duration": 5,
        "start_time": "2022-11-25T13:46:53.339Z"
      },
      {
        "duration": 18,
        "start_time": "2022-11-25T13:47:01.538Z"
      },
      {
        "duration": 4,
        "start_time": "2022-11-25T13:53:10.175Z"
      },
      {
        "duration": 14,
        "start_time": "2022-11-25T13:55:28.712Z"
      },
      {
        "duration": 5,
        "start_time": "2022-11-25T13:55:55.381Z"
      },
      {
        "duration": 18,
        "start_time": "2022-11-25T13:55:58.944Z"
      },
      {
        "duration": 17,
        "start_time": "2022-11-25T13:58:36.717Z"
      },
      {
        "duration": 3,
        "start_time": "2022-11-25T13:59:21.698Z"
      },
      {
        "duration": 3,
        "start_time": "2022-11-25T13:59:26.687Z"
      },
      {
        "duration": 5,
        "start_time": "2022-11-25T13:59:31.198Z"
      },
      {
        "duration": 1367,
        "start_time": "2022-11-25T13:59:33.947Z"
      },
      {
        "duration": 1236,
        "start_time": "2022-11-25T14:00:16.633Z"
      },
      {
        "duration": 1241,
        "start_time": "2022-11-25T14:01:18.535Z"
      },
      {
        "duration": 49,
        "start_time": "2022-11-25T14:02:55.615Z"
      },
      {
        "duration": 1189,
        "start_time": "2022-11-25T14:03:26.209Z"
      },
      {
        "duration": 1224,
        "start_time": "2022-11-25T14:04:19.258Z"
      },
      {
        "duration": 1581,
        "start_time": "2022-11-25T20:30:54.098Z"
      },
      {
        "duration": 790,
        "start_time": "2022-11-25T20:30:55.681Z"
      },
      {
        "duration": 102,
        "start_time": "2022-11-25T20:30:56.474Z"
      },
      {
        "duration": 68,
        "start_time": "2022-11-25T20:30:56.871Z"
      },
      {
        "duration": 72,
        "start_time": "2022-11-25T20:30:57.343Z"
      },
      {
        "duration": 109,
        "start_time": "2022-11-25T20:30:58.157Z"
      },
      {
        "duration": 17,
        "start_time": "2022-11-25T20:30:58.519Z"
      },
      {
        "duration": 428,
        "start_time": "2022-11-25T20:30:59.336Z"
      },
      {
        "duration": 392,
        "start_time": "2022-11-25T20:31:03.641Z"
      },
      {
        "duration": 399,
        "start_time": "2022-11-25T20:31:04.203Z"
      },
      {
        "duration": 9,
        "start_time": "2022-11-25T20:31:05.700Z"
      },
      {
        "duration": 202,
        "start_time": "2022-11-25T20:31:06.193Z"
      },
      {
        "duration": 20,
        "start_time": "2022-11-25T20:31:07.255Z"
      },
      {
        "duration": 205,
        "start_time": "2022-11-25T20:31:07.660Z"
      },
      {
        "duration": 12,
        "start_time": "2022-11-25T20:31:08.340Z"
      },
      {
        "duration": 245,
        "start_time": "2022-11-25T20:31:09.043Z"
      },
      {
        "duration": 9,
        "start_time": "2022-11-25T20:31:11.124Z"
      },
      {
        "duration": 168,
        "start_time": "2022-11-25T20:31:11.908Z"
      },
      {
        "duration": 8,
        "start_time": "2022-11-25T20:31:12.328Z"
      },
      {
        "duration": 158,
        "start_time": "2022-11-25T20:31:12.858Z"
      },
      {
        "duration": 9,
        "start_time": "2022-11-25T20:31:13.382Z"
      },
      {
        "duration": 182,
        "start_time": "2022-11-25T20:31:14.119Z"
      },
      {
        "duration": 23,
        "start_time": "2022-11-25T20:31:17.289Z"
      },
      {
        "duration": 4,
        "start_time": "2022-11-25T20:31:18.002Z"
      },
      {
        "duration": 13,
        "start_time": "2022-11-25T20:31:18.379Z"
      },
      {
        "duration": 36,
        "start_time": "2022-11-25T20:31:19.704Z"
      },
      {
        "duration": 4,
        "start_time": "2022-11-25T20:31:20.654Z"
      },
      {
        "duration": 18,
        "start_time": "2022-11-25T20:31:21.302Z"
      },
      {
        "duration": 11,
        "start_time": "2022-11-25T20:31:22.164Z"
      },
      {
        "duration": 13,
        "start_time": "2022-11-25T20:31:23.135Z"
      },
      {
        "duration": 3,
        "start_time": "2022-11-25T20:31:27.450Z"
      },
      {
        "duration": 4,
        "start_time": "2022-11-25T20:31:29.863Z"
      },
      {
        "duration": 3,
        "start_time": "2022-11-25T20:31:30.784Z"
      },
      {
        "duration": 4,
        "start_time": "2022-11-25T20:31:31.923Z"
      },
      {
        "duration": 3,
        "start_time": "2022-11-25T20:31:33.394Z"
      },
      {
        "duration": 4,
        "start_time": "2022-11-25T20:31:36.163Z"
      },
      {
        "duration": 3,
        "start_time": "2022-11-25T20:33:43.964Z"
      },
      {
        "duration": 4,
        "start_time": "2022-11-25T20:34:29.363Z"
      },
      {
        "duration": 3,
        "start_time": "2022-11-25T20:34:31.629Z"
      },
      {
        "duration": 3,
        "start_time": "2022-11-25T20:34:32.443Z"
      },
      {
        "duration": 4,
        "start_time": "2022-11-25T20:34:52.602Z"
      },
      {
        "duration": 3,
        "start_time": "2022-11-25T20:35:15.744Z"
      },
      {
        "duration": 5,
        "start_time": "2022-11-25T20:35:17.254Z"
      },
      {
        "duration": 1375,
        "start_time": "2022-11-25T20:35:20.469Z"
      },
      {
        "duration": 1363,
        "start_time": "2022-11-25T20:35:24.335Z"
      },
      {
        "duration": 1331,
        "start_time": "2022-11-25T20:35:26.664Z"
      },
      {
        "duration": 48,
        "start_time": "2022-11-25T20:40:21.587Z"
      },
      {
        "duration": 46,
        "start_time": "2022-11-25T20:41:56.938Z"
      },
      {
        "duration": 54,
        "start_time": "2022-11-25T20:42:26.727Z"
      },
      {
        "duration": 6579,
        "start_time": "2022-11-25T22:42:12.862Z"
      },
      {
        "duration": 1882,
        "start_time": "2022-11-25T22:42:19.442Z"
      },
      {
        "duration": 72,
        "start_time": "2022-11-25T22:42:21.326Z"
      },
      {
        "duration": 88,
        "start_time": "2022-11-25T22:42:21.399Z"
      },
      {
        "duration": 92,
        "start_time": "2022-11-25T22:42:21.488Z"
      },
      {
        "duration": 143,
        "start_time": "2022-11-25T22:42:21.582Z"
      },
      {
        "duration": 20,
        "start_time": "2022-11-25T22:42:21.727Z"
      },
      {
        "duration": 395,
        "start_time": "2022-11-25T22:42:21.749Z"
      },
      {
        "duration": 369,
        "start_time": "2022-11-25T22:42:22.146Z"
      },
      {
        "duration": 374,
        "start_time": "2022-11-25T22:42:22.522Z"
      },
      {
        "duration": 8,
        "start_time": "2022-11-25T22:42:22.898Z"
      },
      {
        "duration": 162,
        "start_time": "2022-11-25T22:42:22.922Z"
      },
      {
        "duration": 16,
        "start_time": "2022-11-25T22:42:23.086Z"
      },
      {
        "duration": 159,
        "start_time": "2022-11-25T22:42:23.122Z"
      },
      {
        "duration": 8,
        "start_time": "2022-11-25T22:42:23.282Z"
      },
      {
        "duration": 241,
        "start_time": "2022-11-25T22:42:23.291Z"
      },
      {
        "duration": 8,
        "start_time": "2022-11-25T22:42:23.533Z"
      },
      {
        "duration": 154,
        "start_time": "2022-11-25T22:42:23.543Z"
      },
      {
        "duration": 25,
        "start_time": "2022-11-25T22:42:23.698Z"
      },
      {
        "duration": 152,
        "start_time": "2022-11-25T22:42:23.725Z"
      },
      {
        "duration": 8,
        "start_time": "2022-11-25T22:42:23.878Z"
      },
      {
        "duration": 212,
        "start_time": "2022-11-25T22:42:23.887Z"
      },
      {
        "duration": 32,
        "start_time": "2022-11-25T22:42:24.101Z"
      },
      {
        "duration": 5,
        "start_time": "2022-11-25T22:42:24.134Z"
      },
      {
        "duration": 23,
        "start_time": "2022-11-25T22:42:24.141Z"
      },
      {
        "duration": 43,
        "start_time": "2022-11-25T22:42:24.166Z"
      },
      {
        "duration": 12,
        "start_time": "2022-11-25T22:42:24.210Z"
      },
      {
        "duration": 102,
        "start_time": "2022-11-25T22:42:24.224Z"
      },
      {
        "duration": 100,
        "start_time": "2022-11-25T22:42:24.327Z"
      },
      {
        "duration": 99,
        "start_time": "2022-11-25T22:42:24.429Z"
      },
      {
        "duration": 193,
        "start_time": "2022-11-25T22:42:24.530Z"
      },
      {
        "duration": 8,
        "start_time": "2022-11-25T22:42:24.725Z"
      },
      {
        "duration": 6,
        "start_time": "2022-11-25T22:42:24.735Z"
      },
      {
        "duration": 7,
        "start_time": "2022-11-25T22:42:24.743Z"
      },
      {
        "duration": 6,
        "start_time": "2022-11-25T22:42:24.752Z"
      },
      {
        "duration": 5,
        "start_time": "2022-11-25T22:42:24.760Z"
      },
      {
        "duration": 5,
        "start_time": "2022-11-25T22:42:24.767Z"
      },
      {
        "duration": 6,
        "start_time": "2022-11-25T22:42:24.773Z"
      },
      {
        "duration": 1241,
        "start_time": "2022-11-25T22:42:24.781Z"
      },
      {
        "duration": 1212,
        "start_time": "2022-11-25T22:42:26.024Z"
      },
      {
        "duration": 1238,
        "start_time": "2022-11-25T22:42:27.239Z"
      },
      {
        "duration": 6,
        "start_time": "2022-11-25T22:42:29.892Z"
      }
    ],
    "kernelspec": {
      "display_name": "Python 3 (ipykernel)",
      "language": "python",
      "name": "python3"
    },
    "language_info": {
      "codemirror_mode": {
        "name": "ipython",
        "version": 3
      },
      "file_extension": ".py",
      "mimetype": "text/x-python",
      "name": "python",
      "nbconvert_exporter": "python",
      "pygments_lexer": "ipython3",
      "version": "3.9.5"
    },
    "toc": {
      "base_numbering": 1,
      "nav_menu": {},
      "number_sections": true,
      "sideBar": true,
      "skip_h1_title": true,
      "title_cell": "Table of Contents",
      "title_sidebar": "Contents",
      "toc_cell": false,
      "toc_position": {},
      "toc_section_display": true,
      "toc_window_display": false
    },
    "colab": {
      "provenance": []
    }
  },
  "nbformat": 4,
  "nbformat_minor": 0
}