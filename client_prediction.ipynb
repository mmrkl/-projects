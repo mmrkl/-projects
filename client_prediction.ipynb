{
  "cells": [
    {
      "cell_type": "markdown",
      "metadata": {
        "id": "xoPPsQ4kxPwY",
        "toc": true
      },
      "source": [
        "<h1>Содержание<span class=\"tocSkip\"></span></h1>\n",
        "<div class=\"toc\"><ul class=\"toc-item\"><li><span><a href=\"#Подготовка-данных\" data-toc-modified-id=\"Подготовка-данных-1\"><span class=\"toc-item-num\">1&nbsp;&nbsp;</span>Подготовка данных</a></span></li><li><span><a href=\"#Исследование-задачи\" data-toc-modified-id=\"Исследование-задачи-2\"><span class=\"toc-item-num\">2&nbsp;&nbsp;</span>Исследование задачи</a></span></li><li><span><a href=\"#Тестирование-модели\" data-toc-modified-id=\"Тестирование-модели-3\"><span class=\"toc-item-num\">3&nbsp;&nbsp;</span>Тестирование модели</a></span></li></ul></div>"
      ]
    },
    {
      "cell_type": "markdown",
      "metadata": {
        "id": "dFAli4pBxPwZ"
      },
      "source": [
        "# Отток клиентов"
      ]
    },
    {
      "cell_type": "markdown",
      "metadata": {
        "id": "k4T00uacxPwa"
      },
      "source": [
        "Из «Бета-Банка» стали уходить клиенты. Каждый месяц. Немного, но заметно. Банковские маркетологи посчитали: сохранять текущих клиентов дешевле, чем привлекать новых.\n",
        "\n",
        "Нужно спрогнозировать, уйдёт клиент из банка в ближайшее время или нет. Вам предоставлены исторические данные о поведении клиентов и расторжении договоров с банком. \n",
        "\n",
        "Постройте модель с предельно большим значением *F1*-меры. Чтобы сдать проект успешно, нужно довести метрику до 0.59. Проверьте *F1*-меру на тестовой выборке самостоятельно.\n",
        "\n",
        "Дополнительно измеряйте *AUC-ROC*, сравнивайте её значение с *F1*-мерой.\n",
        "\n",
        "Источник данных: [https://www.kaggle.com/barelydedicated/bank-customer-churn-modeling](https://www.kaggle.com/barelydedicated/bank-customer-churn-modeling)"
      ]
    },
    {
      "cell_type": "markdown",
      "metadata": {
        "id": "j4qk-UGVxPwa"
      },
      "source": [
        "## Подготовка данных"
      ]
    },
    {
      "cell_type": "code",
      "execution_count": 4,
      "metadata": {
        "id": "fa-4nhZpxPwa"
      },
      "outputs": [],
      "source": [
        "import pandas as pd\n",
        "import numpy as np\n",
        "import matplotlib.pyplot as plt\n",
        "from sklearn.impute import SimpleImputer\n",
        "from sklearn.preprocessing import StandardScaler, OrdinalEncoder\n",
        "from sklearn.model_selection import train_test_split\n",
        "from sklearn.ensemble import RandomForestClassifier\n",
        "from sklearn.tree import DecisionTreeClassifier\n",
        "from sklearn.linear_model import LogisticRegression\n",
        "from sklearn.model_selection import train_test_split, GridSearchCV\n",
        "from sklearn.metrics import accuracy_score, confusion_matrix, f1_score, roc_curve, roc_auc_score\n",
        "from sklearn.utils import shuffle\n",
        "import warnings\n",
        "warnings.filterwarnings(\"ignore\")"
      ]
    },
    {
      "cell_type": "code",
      "execution_count": 5,
      "metadata": {
        "id": "CynsejuUxPwb"
      },
      "outputs": [],
      "source": [
        "try:\n",
        "    data = pd.read_csv('/datasets/Churn.csv')\n",
        "except:\n",
        "    data = pd.read_csv('https://code.s3.yandex.net/datasets/Churn.csv') "
      ]
    },
    {
      "cell_type": "markdown",
      "metadata": {
        "id": "PWJGhTUNxPwb"
      },
      "source": [
        "Просмотр информации о таблице "
      ]
    },
    {
      "cell_type": "code",
      "execution_count": 6,
      "metadata": {
        "colab": {
          "base_uri": "https://localhost:8080/",
          "height": 942
        },
        "id": "nDyBYuLjxPwc",
        "outputId": "da228d98-de80-4f42-b270-ecc3ae7f55f7"
      },
      "outputs": [
        {
          "output_type": "stream",
          "name": "stdout",
          "text": [
            "<class 'pandas.core.frame.DataFrame'>\n",
            "RangeIndex: 10000 entries, 0 to 9999\n",
            "Data columns (total 14 columns):\n",
            " #   Column           Non-Null Count  Dtype  \n",
            "---  ------           --------------  -----  \n",
            " 0   RowNumber        10000 non-null  int64  \n",
            " 1   CustomerId       10000 non-null  int64  \n",
            " 2   Surname          10000 non-null  object \n",
            " 3   CreditScore      10000 non-null  int64  \n",
            " 4   Geography        10000 non-null  object \n",
            " 5   Gender           10000 non-null  object \n",
            " 6   Age              10000 non-null  int64  \n",
            " 7   Tenure           9091 non-null   float64\n",
            " 8   Balance          10000 non-null  float64\n",
            " 9   NumOfProducts    10000 non-null  int64  \n",
            " 10  HasCrCard        10000 non-null  int64  \n",
            " 11  IsActiveMember   10000 non-null  int64  \n",
            " 12  EstimatedSalary  10000 non-null  float64\n",
            " 13  Exited           10000 non-null  int64  \n",
            "dtypes: float64(3), int64(8), object(3)\n",
            "memory usage: 1.1+ MB\n"
          ]
        },
        {
          "output_type": "display_data",
          "data": {
            "text/plain": [
              "None"
            ]
          },
          "metadata": {}
        },
        {
          "output_type": "display_data",
          "data": {
            "text/plain": [
              "         RowNumber    CustomerId   CreditScore           Age       Tenure  \\\n",
              "count  10000.00000  1.000000e+04  10000.000000  10000.000000  9091.000000   \n",
              "mean    5000.50000  1.569094e+07    650.528800     38.921800     4.997690   \n",
              "std     2886.89568  7.193619e+04     96.653299     10.487806     2.894723   \n",
              "min        1.00000  1.556570e+07    350.000000     18.000000     0.000000   \n",
              "25%     2500.75000  1.562853e+07    584.000000     32.000000     2.000000   \n",
              "50%     5000.50000  1.569074e+07    652.000000     37.000000     5.000000   \n",
              "75%     7500.25000  1.575323e+07    718.000000     44.000000     7.000000   \n",
              "max    10000.00000  1.581569e+07    850.000000     92.000000    10.000000   \n",
              "\n",
              "             Balance  NumOfProducts    HasCrCard  IsActiveMember  \\\n",
              "count   10000.000000   10000.000000  10000.00000    10000.000000   \n",
              "mean    76485.889288       1.530200      0.70550        0.515100   \n",
              "std     62397.405202       0.581654      0.45584        0.499797   \n",
              "min         0.000000       1.000000      0.00000        0.000000   \n",
              "25%         0.000000       1.000000      0.00000        0.000000   \n",
              "50%     97198.540000       1.000000      1.00000        1.000000   \n",
              "75%    127644.240000       2.000000      1.00000        1.000000   \n",
              "max    250898.090000       4.000000      1.00000        1.000000   \n",
              "\n",
              "       EstimatedSalary        Exited  \n",
              "count     10000.000000  10000.000000  \n",
              "mean     100090.239881      0.203700  \n",
              "std       57510.492818      0.402769  \n",
              "min          11.580000      0.000000  \n",
              "25%       51002.110000      0.000000  \n",
              "50%      100193.915000      0.000000  \n",
              "75%      149388.247500      0.000000  \n",
              "max      199992.480000      1.000000  "
            ],
            "text/html": [
              "\n",
              "  <div id=\"df-b9af0d27-3ac0-4703-90f9-86b28d2c97ce\">\n",
              "    <div class=\"colab-df-container\">\n",
              "      <div>\n",
              "<style scoped>\n",
              "    .dataframe tbody tr th:only-of-type {\n",
              "        vertical-align: middle;\n",
              "    }\n",
              "\n",
              "    .dataframe tbody tr th {\n",
              "        vertical-align: top;\n",
              "    }\n",
              "\n",
              "    .dataframe thead th {\n",
              "        text-align: right;\n",
              "    }\n",
              "</style>\n",
              "<table border=\"1\" class=\"dataframe\">\n",
              "  <thead>\n",
              "    <tr style=\"text-align: right;\">\n",
              "      <th></th>\n",
              "      <th>RowNumber</th>\n",
              "      <th>CustomerId</th>\n",
              "      <th>CreditScore</th>\n",
              "      <th>Age</th>\n",
              "      <th>Tenure</th>\n",
              "      <th>Balance</th>\n",
              "      <th>NumOfProducts</th>\n",
              "      <th>HasCrCard</th>\n",
              "      <th>IsActiveMember</th>\n",
              "      <th>EstimatedSalary</th>\n",
              "      <th>Exited</th>\n",
              "    </tr>\n",
              "  </thead>\n",
              "  <tbody>\n",
              "    <tr>\n",
              "      <th>count</th>\n",
              "      <td>10000.00000</td>\n",
              "      <td>1.000000e+04</td>\n",
              "      <td>10000.000000</td>\n",
              "      <td>10000.000000</td>\n",
              "      <td>9091.000000</td>\n",
              "      <td>10000.000000</td>\n",
              "      <td>10000.000000</td>\n",
              "      <td>10000.00000</td>\n",
              "      <td>10000.000000</td>\n",
              "      <td>10000.000000</td>\n",
              "      <td>10000.000000</td>\n",
              "    </tr>\n",
              "    <tr>\n",
              "      <th>mean</th>\n",
              "      <td>5000.50000</td>\n",
              "      <td>1.569094e+07</td>\n",
              "      <td>650.528800</td>\n",
              "      <td>38.921800</td>\n",
              "      <td>4.997690</td>\n",
              "      <td>76485.889288</td>\n",
              "      <td>1.530200</td>\n",
              "      <td>0.70550</td>\n",
              "      <td>0.515100</td>\n",
              "      <td>100090.239881</td>\n",
              "      <td>0.203700</td>\n",
              "    </tr>\n",
              "    <tr>\n",
              "      <th>std</th>\n",
              "      <td>2886.89568</td>\n",
              "      <td>7.193619e+04</td>\n",
              "      <td>96.653299</td>\n",
              "      <td>10.487806</td>\n",
              "      <td>2.894723</td>\n",
              "      <td>62397.405202</td>\n",
              "      <td>0.581654</td>\n",
              "      <td>0.45584</td>\n",
              "      <td>0.499797</td>\n",
              "      <td>57510.492818</td>\n",
              "      <td>0.402769</td>\n",
              "    </tr>\n",
              "    <tr>\n",
              "      <th>min</th>\n",
              "      <td>1.00000</td>\n",
              "      <td>1.556570e+07</td>\n",
              "      <td>350.000000</td>\n",
              "      <td>18.000000</td>\n",
              "      <td>0.000000</td>\n",
              "      <td>0.000000</td>\n",
              "      <td>1.000000</td>\n",
              "      <td>0.00000</td>\n",
              "      <td>0.000000</td>\n",
              "      <td>11.580000</td>\n",
              "      <td>0.000000</td>\n",
              "    </tr>\n",
              "    <tr>\n",
              "      <th>25%</th>\n",
              "      <td>2500.75000</td>\n",
              "      <td>1.562853e+07</td>\n",
              "      <td>584.000000</td>\n",
              "      <td>32.000000</td>\n",
              "      <td>2.000000</td>\n",
              "      <td>0.000000</td>\n",
              "      <td>1.000000</td>\n",
              "      <td>0.00000</td>\n",
              "      <td>0.000000</td>\n",
              "      <td>51002.110000</td>\n",
              "      <td>0.000000</td>\n",
              "    </tr>\n",
              "    <tr>\n",
              "      <th>50%</th>\n",
              "      <td>5000.50000</td>\n",
              "      <td>1.569074e+07</td>\n",
              "      <td>652.000000</td>\n",
              "      <td>37.000000</td>\n",
              "      <td>5.000000</td>\n",
              "      <td>97198.540000</td>\n",
              "      <td>1.000000</td>\n",
              "      <td>1.00000</td>\n",
              "      <td>1.000000</td>\n",
              "      <td>100193.915000</td>\n",
              "      <td>0.000000</td>\n",
              "    </tr>\n",
              "    <tr>\n",
              "      <th>75%</th>\n",
              "      <td>7500.25000</td>\n",
              "      <td>1.575323e+07</td>\n",
              "      <td>718.000000</td>\n",
              "      <td>44.000000</td>\n",
              "      <td>7.000000</td>\n",
              "      <td>127644.240000</td>\n",
              "      <td>2.000000</td>\n",
              "      <td>1.00000</td>\n",
              "      <td>1.000000</td>\n",
              "      <td>149388.247500</td>\n",
              "      <td>0.000000</td>\n",
              "    </tr>\n",
              "    <tr>\n",
              "      <th>max</th>\n",
              "      <td>10000.00000</td>\n",
              "      <td>1.581569e+07</td>\n",
              "      <td>850.000000</td>\n",
              "      <td>92.000000</td>\n",
              "      <td>10.000000</td>\n",
              "      <td>250898.090000</td>\n",
              "      <td>4.000000</td>\n",
              "      <td>1.00000</td>\n",
              "      <td>1.000000</td>\n",
              "      <td>199992.480000</td>\n",
              "      <td>1.000000</td>\n",
              "    </tr>\n",
              "  </tbody>\n",
              "</table>\n",
              "</div>\n",
              "      <button class=\"colab-df-convert\" onclick=\"convertToInteractive('df-b9af0d27-3ac0-4703-90f9-86b28d2c97ce')\"\n",
              "              title=\"Convert this dataframe to an interactive table.\"\n",
              "              style=\"display:none;\">\n",
              "        \n",
              "  <svg xmlns=\"http://www.w3.org/2000/svg\" height=\"24px\"viewBox=\"0 0 24 24\"\n",
              "       width=\"24px\">\n",
              "    <path d=\"M0 0h24v24H0V0z\" fill=\"none\"/>\n",
              "    <path d=\"M18.56 5.44l.94 2.06.94-2.06 2.06-.94-2.06-.94-.94-2.06-.94 2.06-2.06.94zm-11 1L8.5 8.5l.94-2.06 2.06-.94-2.06-.94L8.5 2.5l-.94 2.06-2.06.94zm10 10l.94 2.06.94-2.06 2.06-.94-2.06-.94-.94-2.06-.94 2.06-2.06.94z\"/><path d=\"M17.41 7.96l-1.37-1.37c-.4-.4-.92-.59-1.43-.59-.52 0-1.04.2-1.43.59L10.3 9.45l-7.72 7.72c-.78.78-.78 2.05 0 2.83L4 21.41c.39.39.9.59 1.41.59.51 0 1.02-.2 1.41-.59l7.78-7.78 2.81-2.81c.8-.78.8-2.07 0-2.86zM5.41 20L4 18.59l7.72-7.72 1.47 1.35L5.41 20z\"/>\n",
              "  </svg>\n",
              "      </button>\n",
              "      \n",
              "  <style>\n",
              "    .colab-df-container {\n",
              "      display:flex;\n",
              "      flex-wrap:wrap;\n",
              "      gap: 12px;\n",
              "    }\n",
              "\n",
              "    .colab-df-convert {\n",
              "      background-color: #E8F0FE;\n",
              "      border: none;\n",
              "      border-radius: 50%;\n",
              "      cursor: pointer;\n",
              "      display: none;\n",
              "      fill: #1967D2;\n",
              "      height: 32px;\n",
              "      padding: 0 0 0 0;\n",
              "      width: 32px;\n",
              "    }\n",
              "\n",
              "    .colab-df-convert:hover {\n",
              "      background-color: #E2EBFA;\n",
              "      box-shadow: 0px 1px 2px rgba(60, 64, 67, 0.3), 0px 1px 3px 1px rgba(60, 64, 67, 0.15);\n",
              "      fill: #174EA6;\n",
              "    }\n",
              "\n",
              "    [theme=dark] .colab-df-convert {\n",
              "      background-color: #3B4455;\n",
              "      fill: #D2E3FC;\n",
              "    }\n",
              "\n",
              "    [theme=dark] .colab-df-convert:hover {\n",
              "      background-color: #434B5C;\n",
              "      box-shadow: 0px 1px 3px 1px rgba(0, 0, 0, 0.15);\n",
              "      filter: drop-shadow(0px 1px 2px rgba(0, 0, 0, 0.3));\n",
              "      fill: #FFFFFF;\n",
              "    }\n",
              "  </style>\n",
              "\n",
              "      <script>\n",
              "        const buttonEl =\n",
              "          document.querySelector('#df-b9af0d27-3ac0-4703-90f9-86b28d2c97ce button.colab-df-convert');\n",
              "        buttonEl.style.display =\n",
              "          google.colab.kernel.accessAllowed ? 'block' : 'none';\n",
              "\n",
              "        async function convertToInteractive(key) {\n",
              "          const element = document.querySelector('#df-b9af0d27-3ac0-4703-90f9-86b28d2c97ce');\n",
              "          const dataTable =\n",
              "            await google.colab.kernel.invokeFunction('convertToInteractive',\n",
              "                                                     [key], {});\n",
              "          if (!dataTable) return;\n",
              "\n",
              "          const docLinkHtml = 'Like what you see? Visit the ' +\n",
              "            '<a target=\"_blank\" href=https://colab.research.google.com/notebooks/data_table.ipynb>data table notebook</a>'\n",
              "            + ' to learn more about interactive tables.';\n",
              "          element.innerHTML = '';\n",
              "          dataTable['output_type'] = 'display_data';\n",
              "          await google.colab.output.renderOutput(dataTable, element);\n",
              "          const docLink = document.createElement('div');\n",
              "          docLink.innerHTML = docLinkHtml;\n",
              "          element.appendChild(docLink);\n",
              "        }\n",
              "      </script>\n",
              "    </div>\n",
              "  </div>\n",
              "  "
            ]
          },
          "metadata": {}
        },
        {
          "output_type": "stream",
          "name": "stdout",
          "text": [
            "RowNumber            0\n",
            "CustomerId           0\n",
            "Surname              0\n",
            "CreditScore          0\n",
            "Geography            0\n",
            "Gender               0\n",
            "Age                  0\n",
            "Tenure             909\n",
            "Balance              0\n",
            "NumOfProducts        0\n",
            "HasCrCard            0\n",
            "IsActiveMember       0\n",
            "EstimatedSalary      0\n",
            "Exited               0\n",
            "dtype: int64\n"
          ]
        }
      ],
      "source": [
        "display(data.info())\n",
        "display(data.describe())\n",
        "print(data.isnull().sum())"
      ]
    },
    {
      "cell_type": "markdown",
      "metadata": {
        "id": "EksvCtk0xPwc"
      },
      "source": [
        "* RowNumber — индекс строки в данных\n",
        "* CustomerId — уникальный идентификатор клиента\n",
        "* Surname — фамилия\n",
        "* CreditScore — кредитный рейтинг\n",
        "* Geography — страна проживания\n",
        "* Gender — пол\n",
        "* Age — возраст\n",
        "* Tenure — сколько лет человек является клиентом банка\n",
        "* Balance — баланс на счёте\n",
        "* NumOfProducts — количество продуктов банка, используемых клиентом\n",
        "* HasCrCard — наличие кредитной карты\n",
        "* IsActiveMember — активность клиента\n",
        "* EstimatedSalary — предполагаемая зарплата"
      ]
    },
    {
      "cell_type": "markdown",
      "metadata": {
        "id": "_usfVfAJxPwc"
      },
      "source": [
        "столб Tenure изменить тип данных. Кроме того, не могу заменить пропуски на среднее значение, потому что возникнет проблема переобучения."
      ]
    },
    {
      "cell_type": "markdown",
      "metadata": {
        "id": "SEie4kPfxPwd"
      },
      "source": [
        "Есть столбы, которые нам не очень нужны для анализа, удалю их"
      ]
    },
    {
      "cell_type": "code",
      "execution_count": 7,
      "metadata": {
        "colab": {
          "base_uri": "https://localhost:8080/",
          "height": 424
        },
        "id": "ddMaz5XsxPwd",
        "outputId": "97c3e896-14df-421c-eda0-d23943004cab"
      },
      "outputs": [
        {
          "output_type": "execute_result",
          "data": {
            "text/plain": [
              "      CreditScore Geography  Gender  Age  Tenure    Balance  NumOfProducts  \\\n",
              "0             619    France  Female   42     2.0       0.00              1   \n",
              "1             608     Spain  Female   41     1.0   83807.86              1   \n",
              "2             502    France  Female   42     8.0  159660.80              3   \n",
              "3             699    France  Female   39     1.0       0.00              2   \n",
              "4             850     Spain  Female   43     2.0  125510.82              1   \n",
              "...           ...       ...     ...  ...     ...        ...            ...   \n",
              "9995          771    France    Male   39     5.0       0.00              2   \n",
              "9996          516    France    Male   35    10.0   57369.61              1   \n",
              "9997          709    France  Female   36     7.0       0.00              1   \n",
              "9998          772   Germany    Male   42     3.0   75075.31              2   \n",
              "9999          792    France  Female   28     NaN  130142.79              1   \n",
              "\n",
              "      HasCrCard  IsActiveMember  EstimatedSalary  Exited  \n",
              "0             1               1        101348.88       1  \n",
              "1             0               1        112542.58       0  \n",
              "2             1               0        113931.57       1  \n",
              "3             0               0         93826.63       0  \n",
              "4             1               1         79084.10       0  \n",
              "...         ...             ...              ...     ...  \n",
              "9995          1               0         96270.64       0  \n",
              "9996          1               1        101699.77       0  \n",
              "9997          0               1         42085.58       1  \n",
              "9998          1               0         92888.52       1  \n",
              "9999          1               0         38190.78       0  \n",
              "\n",
              "[10000 rows x 11 columns]"
            ],
            "text/html": [
              "\n",
              "  <div id=\"df-e54cc47e-cbdc-4841-8a1a-a92e5df5c69d\">\n",
              "    <div class=\"colab-df-container\">\n",
              "      <div>\n",
              "<style scoped>\n",
              "    .dataframe tbody tr th:only-of-type {\n",
              "        vertical-align: middle;\n",
              "    }\n",
              "\n",
              "    .dataframe tbody tr th {\n",
              "        vertical-align: top;\n",
              "    }\n",
              "\n",
              "    .dataframe thead th {\n",
              "        text-align: right;\n",
              "    }\n",
              "</style>\n",
              "<table border=\"1\" class=\"dataframe\">\n",
              "  <thead>\n",
              "    <tr style=\"text-align: right;\">\n",
              "      <th></th>\n",
              "      <th>CreditScore</th>\n",
              "      <th>Geography</th>\n",
              "      <th>Gender</th>\n",
              "      <th>Age</th>\n",
              "      <th>Tenure</th>\n",
              "      <th>Balance</th>\n",
              "      <th>NumOfProducts</th>\n",
              "      <th>HasCrCard</th>\n",
              "      <th>IsActiveMember</th>\n",
              "      <th>EstimatedSalary</th>\n",
              "      <th>Exited</th>\n",
              "    </tr>\n",
              "  </thead>\n",
              "  <tbody>\n",
              "    <tr>\n",
              "      <th>0</th>\n",
              "      <td>619</td>\n",
              "      <td>France</td>\n",
              "      <td>Female</td>\n",
              "      <td>42</td>\n",
              "      <td>2.0</td>\n",
              "      <td>0.00</td>\n",
              "      <td>1</td>\n",
              "      <td>1</td>\n",
              "      <td>1</td>\n",
              "      <td>101348.88</td>\n",
              "      <td>1</td>\n",
              "    </tr>\n",
              "    <tr>\n",
              "      <th>1</th>\n",
              "      <td>608</td>\n",
              "      <td>Spain</td>\n",
              "      <td>Female</td>\n",
              "      <td>41</td>\n",
              "      <td>1.0</td>\n",
              "      <td>83807.86</td>\n",
              "      <td>1</td>\n",
              "      <td>0</td>\n",
              "      <td>1</td>\n",
              "      <td>112542.58</td>\n",
              "      <td>0</td>\n",
              "    </tr>\n",
              "    <tr>\n",
              "      <th>2</th>\n",
              "      <td>502</td>\n",
              "      <td>France</td>\n",
              "      <td>Female</td>\n",
              "      <td>42</td>\n",
              "      <td>8.0</td>\n",
              "      <td>159660.80</td>\n",
              "      <td>3</td>\n",
              "      <td>1</td>\n",
              "      <td>0</td>\n",
              "      <td>113931.57</td>\n",
              "      <td>1</td>\n",
              "    </tr>\n",
              "    <tr>\n",
              "      <th>3</th>\n",
              "      <td>699</td>\n",
              "      <td>France</td>\n",
              "      <td>Female</td>\n",
              "      <td>39</td>\n",
              "      <td>1.0</td>\n",
              "      <td>0.00</td>\n",
              "      <td>2</td>\n",
              "      <td>0</td>\n",
              "      <td>0</td>\n",
              "      <td>93826.63</td>\n",
              "      <td>0</td>\n",
              "    </tr>\n",
              "    <tr>\n",
              "      <th>4</th>\n",
              "      <td>850</td>\n",
              "      <td>Spain</td>\n",
              "      <td>Female</td>\n",
              "      <td>43</td>\n",
              "      <td>2.0</td>\n",
              "      <td>125510.82</td>\n",
              "      <td>1</td>\n",
              "      <td>1</td>\n",
              "      <td>1</td>\n",
              "      <td>79084.10</td>\n",
              "      <td>0</td>\n",
              "    </tr>\n",
              "    <tr>\n",
              "      <th>...</th>\n",
              "      <td>...</td>\n",
              "      <td>...</td>\n",
              "      <td>...</td>\n",
              "      <td>...</td>\n",
              "      <td>...</td>\n",
              "      <td>...</td>\n",
              "      <td>...</td>\n",
              "      <td>...</td>\n",
              "      <td>...</td>\n",
              "      <td>...</td>\n",
              "      <td>...</td>\n",
              "    </tr>\n",
              "    <tr>\n",
              "      <th>9995</th>\n",
              "      <td>771</td>\n",
              "      <td>France</td>\n",
              "      <td>Male</td>\n",
              "      <td>39</td>\n",
              "      <td>5.0</td>\n",
              "      <td>0.00</td>\n",
              "      <td>2</td>\n",
              "      <td>1</td>\n",
              "      <td>0</td>\n",
              "      <td>96270.64</td>\n",
              "      <td>0</td>\n",
              "    </tr>\n",
              "    <tr>\n",
              "      <th>9996</th>\n",
              "      <td>516</td>\n",
              "      <td>France</td>\n",
              "      <td>Male</td>\n",
              "      <td>35</td>\n",
              "      <td>10.0</td>\n",
              "      <td>57369.61</td>\n",
              "      <td>1</td>\n",
              "      <td>1</td>\n",
              "      <td>1</td>\n",
              "      <td>101699.77</td>\n",
              "      <td>0</td>\n",
              "    </tr>\n",
              "    <tr>\n",
              "      <th>9997</th>\n",
              "      <td>709</td>\n",
              "      <td>France</td>\n",
              "      <td>Female</td>\n",
              "      <td>36</td>\n",
              "      <td>7.0</td>\n",
              "      <td>0.00</td>\n",
              "      <td>1</td>\n",
              "      <td>0</td>\n",
              "      <td>1</td>\n",
              "      <td>42085.58</td>\n",
              "      <td>1</td>\n",
              "    </tr>\n",
              "    <tr>\n",
              "      <th>9998</th>\n",
              "      <td>772</td>\n",
              "      <td>Germany</td>\n",
              "      <td>Male</td>\n",
              "      <td>42</td>\n",
              "      <td>3.0</td>\n",
              "      <td>75075.31</td>\n",
              "      <td>2</td>\n",
              "      <td>1</td>\n",
              "      <td>0</td>\n",
              "      <td>92888.52</td>\n",
              "      <td>1</td>\n",
              "    </tr>\n",
              "    <tr>\n",
              "      <th>9999</th>\n",
              "      <td>792</td>\n",
              "      <td>France</td>\n",
              "      <td>Female</td>\n",
              "      <td>28</td>\n",
              "      <td>NaN</td>\n",
              "      <td>130142.79</td>\n",
              "      <td>1</td>\n",
              "      <td>1</td>\n",
              "      <td>0</td>\n",
              "      <td>38190.78</td>\n",
              "      <td>0</td>\n",
              "    </tr>\n",
              "  </tbody>\n",
              "</table>\n",
              "<p>10000 rows × 11 columns</p>\n",
              "</div>\n",
              "      <button class=\"colab-df-convert\" onclick=\"convertToInteractive('df-e54cc47e-cbdc-4841-8a1a-a92e5df5c69d')\"\n",
              "              title=\"Convert this dataframe to an interactive table.\"\n",
              "              style=\"display:none;\">\n",
              "        \n",
              "  <svg xmlns=\"http://www.w3.org/2000/svg\" height=\"24px\"viewBox=\"0 0 24 24\"\n",
              "       width=\"24px\">\n",
              "    <path d=\"M0 0h24v24H0V0z\" fill=\"none\"/>\n",
              "    <path d=\"M18.56 5.44l.94 2.06.94-2.06 2.06-.94-2.06-.94-.94-2.06-.94 2.06-2.06.94zm-11 1L8.5 8.5l.94-2.06 2.06-.94-2.06-.94L8.5 2.5l-.94 2.06-2.06.94zm10 10l.94 2.06.94-2.06 2.06-.94-2.06-.94-.94-2.06-.94 2.06-2.06.94z\"/><path d=\"M17.41 7.96l-1.37-1.37c-.4-.4-.92-.59-1.43-.59-.52 0-1.04.2-1.43.59L10.3 9.45l-7.72 7.72c-.78.78-.78 2.05 0 2.83L4 21.41c.39.39.9.59 1.41.59.51 0 1.02-.2 1.41-.59l7.78-7.78 2.81-2.81c.8-.78.8-2.07 0-2.86zM5.41 20L4 18.59l7.72-7.72 1.47 1.35L5.41 20z\"/>\n",
              "  </svg>\n",
              "      </button>\n",
              "      \n",
              "  <style>\n",
              "    .colab-df-container {\n",
              "      display:flex;\n",
              "      flex-wrap:wrap;\n",
              "      gap: 12px;\n",
              "    }\n",
              "\n",
              "    .colab-df-convert {\n",
              "      background-color: #E8F0FE;\n",
              "      border: none;\n",
              "      border-radius: 50%;\n",
              "      cursor: pointer;\n",
              "      display: none;\n",
              "      fill: #1967D2;\n",
              "      height: 32px;\n",
              "      padding: 0 0 0 0;\n",
              "      width: 32px;\n",
              "    }\n",
              "\n",
              "    .colab-df-convert:hover {\n",
              "      background-color: #E2EBFA;\n",
              "      box-shadow: 0px 1px 2px rgba(60, 64, 67, 0.3), 0px 1px 3px 1px rgba(60, 64, 67, 0.15);\n",
              "      fill: #174EA6;\n",
              "    }\n",
              "\n",
              "    [theme=dark] .colab-df-convert {\n",
              "      background-color: #3B4455;\n",
              "      fill: #D2E3FC;\n",
              "    }\n",
              "\n",
              "    [theme=dark] .colab-df-convert:hover {\n",
              "      background-color: #434B5C;\n",
              "      box-shadow: 0px 1px 3px 1px rgba(0, 0, 0, 0.15);\n",
              "      filter: drop-shadow(0px 1px 2px rgba(0, 0, 0, 0.3));\n",
              "      fill: #FFFFFF;\n",
              "    }\n",
              "  </style>\n",
              "\n",
              "      <script>\n",
              "        const buttonEl =\n",
              "          document.querySelector('#df-e54cc47e-cbdc-4841-8a1a-a92e5df5c69d button.colab-df-convert');\n",
              "        buttonEl.style.display =\n",
              "          google.colab.kernel.accessAllowed ? 'block' : 'none';\n",
              "\n",
              "        async function convertToInteractive(key) {\n",
              "          const element = document.querySelector('#df-e54cc47e-cbdc-4841-8a1a-a92e5df5c69d');\n",
              "          const dataTable =\n",
              "            await google.colab.kernel.invokeFunction('convertToInteractive',\n",
              "                                                     [key], {});\n",
              "          if (!dataTable) return;\n",
              "\n",
              "          const docLinkHtml = 'Like what you see? Visit the ' +\n",
              "            '<a target=\"_blank\" href=https://colab.research.google.com/notebooks/data_table.ipynb>data table notebook</a>'\n",
              "            + ' to learn more about interactive tables.';\n",
              "          element.innerHTML = '';\n",
              "          dataTable['output_type'] = 'display_data';\n",
              "          await google.colab.output.renderOutput(dataTable, element);\n",
              "          const docLink = document.createElement('div');\n",
              "          docLink.innerHTML = docLinkHtml;\n",
              "          element.appendChild(docLink);\n",
              "        }\n",
              "      </script>\n",
              "    </div>\n",
              "  </div>\n",
              "  "
            ]
          },
          "metadata": {},
          "execution_count": 7
        }
      ],
      "source": [
        "data = data.drop(['RowNumber','CustomerId','Surname'], axis=1)\n",
        "data"
      ]
    },
    {
      "cell_type": "markdown",
      "metadata": {
        "id": "HMsG-jT6xPwc"
      },
      "source": [
        "заменю пустые значения и тип данных"
      ]
    },
    {
      "cell_type": "code",
      "execution_count": 8,
      "metadata": {
        "id": "0a5GS-TyxPwd",
        "colab": {
          "base_uri": "https://localhost:8080/"
        },
        "outputId": "a8c034cf-9981-44b7-a169-2fbd936b38fc"
      },
      "outputs": [
        {
          "output_type": "execute_result",
          "data": {
            "text/plain": [
              "0"
            ]
          },
          "metadata": {},
          "execution_count": 8
        }
      ],
      "source": [
        "data['Tenure'] = data['Tenure'].replace(np.NaN, None).astype(int,errors='ignore').astype(object)\n",
        "imputer = SimpleImputer(strategy='constant')\n",
        "imp_data = pd.DataFrame(imputer.fit_transform(data))\n",
        "imp_data.columns = data.columns\n",
        "data['Tenure'].isnull().sum()"
      ]
    },
    {
      "cell_type": "markdown",
      "metadata": {
        "id": "_zKUIgsQxPwd"
      },
      "source": [
        "кодирование с помощью OHE"
      ]
    },
    {
      "cell_type": "code",
      "execution_count": 9,
      "metadata": {
        "id": "YzN3Q-hUxPwd"
      },
      "outputs": [],
      "source": [
        "data = pd.get_dummies(data, drop_first=True)\n",
        "scaler = StandardScaler()\n",
        "numeric = ['CreditScore', 'Age', 'Balance', 'EstimatedSalary']\n",
        "scaler.fit(data[numeric])\n",
        "data[numeric] = scaler.transform(data[numeric])"
      ]
    },
    {
      "cell_type": "markdown",
      "metadata": {
        "id": "j1jPDmEaxPwd"
      },
      "source": [
        "поделим выборку на тестовые и валидационные данные "
      ]
    },
    {
      "cell_type": "code",
      "execution_count": 10,
      "metadata": {
        "colab": {
          "base_uri": "https://localhost:8080/"
        },
        "id": "2yEtBuiSxPwd",
        "outputId": "294fb298-2cb9-4b24-93bf-21012ff2cc69"
      },
      "outputs": [
        {
          "output_type": "stream",
          "name": "stdout",
          "text": [
            "6000\n",
            "2000\n",
            "2000\n"
          ]
        }
      ],
      "source": [
        "X = data.drop(['Exited'], axis=1)\n",
        "y = data['Exited']\n",
        "\n",
        "X_train, X_valid, y_train, y_valid = train_test_split(X, y, train_size=0.6, test_size=0.4, random_state=12345)\n",
        "X_test, X_valid, y_test, y_valid = train_test_split(X_valid, y_valid, test_size=0.5, random_state=12345)\n",
        "\n",
        "print(X_train.shape[0])\n",
        "print(X_valid.shape[0])\n",
        "print(X_test.shape[0])"
      ]
    },
    {
      "cell_type": "markdown",
      "metadata": {
        "id": "ySR0eOd2xPwe"
      },
      "source": [
        "Итог:\n",
        "* в столбе Tenure изменен тип данных;\n",
        "* заменила пропуски; \n",
        "* изменила тип данных;\n",
        "* разделила данные на тестовую и валидационную выборку \n"
      ]
    },
    {
      "cell_type": "markdown",
      "metadata": {
        "id": "IAy-aNk2xPwe"
      },
      "source": [
        "## Исследование задачи"
      ]
    },
    {
      "cell_type": "markdown",
      "metadata": {
        "id": "NNWe2szexPwe"
      },
      "source": [
        "посмотрим баланс классов "
      ]
    },
    {
      "cell_type": "code",
      "execution_count": 11,
      "metadata": {
        "colab": {
          "base_uri": "https://localhost:8080/",
          "height": 292
        },
        "id": "M-gBPg4bybox",
        "outputId": "9fa4b45d-9a3a-4aca-9d04-c29c0f0238ce"
      },
      "outputs": [
        {
          "output_type": "display_data",
          "data": {
            "text/plain": [
              "<Figure size 432x288 with 1 Axes>"
            ],
            "image/png": "[encoded data removed]"
          },
          "metadata": {
            "needs_background": "light"
          }
        }
      ],
      "source": [
        "class_frequency = data['Exited'].value_counts(normalize=True)\n",
        "plot = class_frequency.plot(kind='bar')\n",
        "for rect in plot.patches:\n",
        "    height = rect.get_height()\n",
        "    plot.text(rect.get_x() + rect.get_width()/2, 1.01*height, round(height, 3), ha='center', va='bottom')\n",
        "plt.title('Распределение по классам')\n",
        "plt.xlabel('Класс')\n",
        "plt.ylabel('Значение')\n",
        "plt.ylim(0, 1)\n",
        "plt.show()"
      ]
    },
    {
      "cell_type": "markdown",
      "metadata": {
        "id": "3b3uZZbXxPwe"
      },
      "source": [
        "Классы несбалансированы:  почти 80% отрицательных и 20% положительных."
      ]
    },
    {
      "cell_type": "markdown",
      "metadata": {
        "id": "r9qwvDhu0IRB"
      },
      "source": [
        "Посмотрю, что лучше для обучение логическая регрессия или модель леса"
      ]
    },
    {
      "cell_type": "code",
      "execution_count": 12,
      "metadata": {
        "id": "8XyttXZzyboy"
      },
      "outputs": [],
      "source": [
        "rfc = RandomForestClassifier(random_state=12345)\n",
        "param_grid = { \n",
        "    'n_estimators': [10, 20, 30, 40, 50],\n",
        "    'max_features': ['log2'],\n",
        "    'max_depth' : [5,7,9,11,13,15],\n",
        "    'criterion' : ['gini']\n",
        "}"
      ]
    },
    {
      "cell_type": "code",
      "execution_count": 13,
      "metadata": {
        "colab": {
          "base_uri": "https://localhost:8080/"
        },
        "id": "hOXaDY09yboz",
        "outputId": "7f9a31e0-92ad-4614-ecd6-db8bbd4d0cba"
      },
      "outputs": [
        {
          "output_type": "execute_result",
          "data": {
            "text/plain": [
              "GridSearchCV(cv=5, estimator=RandomForestClassifier(random_state=12345),\n",
              "             param_grid={'criterion': ['gini'],\n",
              "                         'max_depth': [5, 7, 9, 11, 13, 15],\n",
              "                         'max_features': ['log2'],\n",
              "                         'n_estimators': [10, 20, 30, 40, 50]})"
            ]
          },
          "metadata": {},
          "execution_count": 13
        }
      ],
      "source": [
        "CV_rfc = GridSearchCV(estimator=rfc, param_grid=param_grid, cv=5)\n",
        "CV_rfc.fit(X_train, y_train)"
      ]
    },
    {
      "cell_type": "code",
      "execution_count": 14,
      "metadata": {
        "colab": {
          "base_uri": "https://localhost:8080/"
        },
        "id": "8v53urgOxPwf",
        "outputId": "8c5dc28d-175b-4302-c44a-edf2d21163b1"
      },
      "outputs": [
        {
          "output_type": "stream",
          "name": "stdout",
          "text": [
            "Accuracy: 0.841\n",
            "f1: 0.4903846153846155\n"
          ]
        }
      ],
      "source": [
        "predicted_valid = CV_rfc.predict(X_valid)\n",
        "accuracy_valid = accuracy_score(predicted_valid, y_valid)\n",
        "print('Accuracy:', accuracy_valid)\n",
        "print('f1:', f1_score(y_valid, predicted_valid))"
      ]
    },
    {
      "cell_type": "code",
      "execution_count": 15,
      "metadata": {
        "colab": {
          "base_uri": "https://localhost:8080/"
        },
        "id": "YMMCllCV0Cs1",
        "outputId": "ca6f90dc-d72c-44f0-d6c6-da429322b14f"
      },
      "outputs": [
        {
          "output_type": "stream",
          "name": "stdout",
          "text": [
            "Accuracy: 0.789\n",
            "f1: 0.2673611111111111\n"
          ]
        }
      ],
      "source": [
        "model = LogisticRegression(random_state=12345, solver='liblinear')\n",
        "model.fit(X_train, y_train)\n",
        "predicted_valid = model.predict(X_valid)\n",
        "accuracy_valid = accuracy_score(predicted_valid, y_valid)\n",
        "print('Accuracy:',accuracy_valid)\n",
        "print('f1:', f1_score(y_valid, predicted_valid))"
      ]
    },
    {
      "cell_type": "markdown",
      "metadata": {
        "id": "L-KBM-q00VKN"
      },
      "source": [
        "Модель леса явно выигрывает по точности "
      ]
    },
    {
      "cell_type": "markdown",
      "metadata": {
        "id": "khEGCrDL4pzN"
      },
      "source": [
        "# Борьба с дисбалансом"
      ]
    },
    {
      "cell_type": "markdown",
      "metadata": {
        "id": "jeSrnLZx5oza"
      },
      "source": [
        "добавим в модель случайного леса class_weight='balanced'"
      ]
    },
    {
      "cell_type": "code",
      "execution_count": 16,
      "metadata": {
        "colab": {
          "base_uri": "https://localhost:8080/"
        },
        "id": "OcarSBb4yw6K",
        "outputId": "846642be-3e40-4965-e23a-a54055b316c4"
      },
      "outputs": [
        {
          "output_type": "stream",
          "name": "stdout",
          "text": [
            "depth =  1 0.737\n",
            "\n",
            "\n",
            "f1 0.4932562620423892\n",
            "depth =  3 0.775\n",
            "\n",
            "\n",
            "f1 0.5689655172413792\n",
            "depth =  5 0.7865\n",
            "\n",
            "\n",
            "f1 0.5784797630799605\n",
            "depth =  7 0.7995\n",
            "\n",
            "\n",
            "f1 0.5835929387331257\n",
            "depth =  9 0.8215\n",
            "\n",
            "\n",
            "f1 0.6011173184357542\n",
            "depth =  11 0.8375\n",
            "\n",
            "\n",
            "f1 0.6002460024600247\n",
            "depth =  13 0.842\n",
            "\n",
            "\n",
            "f1 0.5809018567639258\n",
            "depth =  15 0.847\n",
            "\n",
            "\n",
            "f1 0.5665722379603401\n",
            "depth =  17 0.843\n",
            "\n",
            "\n",
            "f1 0.5355029585798817\n",
            "depth =  19 0.843\n",
            "\n",
            "\n",
            "f1 0.5184049079754601\n",
            "depth =  21 0.8395\n",
            "\n",
            "\n",
            "f1 0.4944881889763779\n",
            "depth =  23 0.8415\n",
            "\n",
            "\n",
            "f1 0.5023547880690737\n",
            "depth =  25 0.8405\n",
            "\n",
            "\n",
            "f1 0.49763779527559054\n",
            "depth =  27 0.838\n",
            "\n",
            "\n",
            "f1 0.4840764331210191\n",
            "depth =  29 0.839\n",
            "\n",
            "\n",
            "f1 0.4888888888888888\n",
            "depth =  31 0.839\n",
            "\n",
            "\n",
            "f1 0.4888888888888888\n",
            "depth =  33 0.839\n",
            "\n",
            "\n",
            "f1 0.4888888888888888\n",
            "depth =  35 0.839\n",
            "\n",
            "\n",
            "f1 0.4888888888888888\n",
            "depth =  37 0.839\n",
            "\n",
            "\n",
            "f1 0.4888888888888888\n",
            "depth =  39 0.839\n",
            "\n",
            "\n",
            "f1 0.4888888888888888\n",
            "depth =  41 0.839\n",
            "\n",
            "\n",
            "f1 0.4888888888888888\n",
            "depth =  43 0.839\n",
            "\n",
            "\n",
            "f1 0.4888888888888888\n",
            "depth =  45 0.839\n",
            "\n",
            "\n",
            "f1 0.4888888888888888\n",
            "depth =  47 0.839\n",
            "\n",
            "\n",
            "f1 0.4888888888888888\n",
            "depth =  49 0.839\n",
            "\n",
            "\n",
            "f1 0.4888888888888888\n"
          ]
        }
      ],
      "source": [
        "for depth in range(1, 50, 2):\n",
        "    model = RandomForestClassifier(random_state=12345, max_depth=depth, n_estimators=50, class_weight='balanced')\n",
        "    model.fit(X_train, y_train)\n",
        "    predictions = model.predict(X_valid)\n",
        "    print(\"depth = \", depth, accuracy_score(predictions, y_valid))\n",
        "    print('\\n')\n",
        "    print('f1', f1_score(y_valid, predictions))"
      ]
    },
    {
      "cell_type": "markdown",
      "metadata": {
        "id": "nspAY4Ln4O0u"
      },
      "source": [
        "depth =  17 Accuracy: 0.8435 лучший результат"
      ]
    },
    {
      "cell_type": "markdown",
      "metadata": {
        "id": "5KNtXGpQ56Xq"
      },
      "source": [
        "теперь попробую увеличить выборку и посмотреть "
      ]
    },
    {
      "cell_type": "code",
      "execution_count": 17,
      "metadata": {
        "id": "8OX3RC9S4m1U"
      },
      "outputs": [],
      "source": [
        "def upsample(features, target, repeat):\n",
        "    X_zeros = X_train[y_train == 0]\n",
        "    X_ones = X_train[y_train == 1]\n",
        "    y_zeros = y_train[y_train == 0]\n",
        "    y_ones = y_train[y_train == 1]\n",
        "\n",
        "    X_upsampled = pd.concat([X_zeros] + [X_ones] * repeat)\n",
        "    y_upsampled = pd.concat([y_zeros] + [y_ones] * repeat)\n",
        "    \n",
        "    X_upsampled, y_upsampled = shuffle(X_upsampled, y_upsampled, random_state=12345)\n",
        "    return X_upsampled, y_upsampled"
      ]
    },
    {
      "cell_type": "code",
      "execution_count": 18,
      "metadata": {
        "id": "RkNQRbsrybo5"
      },
      "outputs": [],
      "source": [
        "X_upsampled, y_upsampled = upsample(X_train, y_train, 5)"
      ]
    },
    {
      "cell_type": "code",
      "execution_count": 19,
      "metadata": {
        "colab": {
          "base_uri": "https://localhost:8080/"
        },
        "id": "wgf0HVO_ybo6",
        "outputId": "4af072ec-e340-4424-a1ee-20ca3dfeec90"
      },
      "outputs": [
        {
          "output_type": "execute_result",
          "data": {
            "text/plain": [
              "GridSearchCV(cv=5, estimator=RandomForestClassifier(random_state=12345),\n",
              "             param_grid={'criterion': ['gini'],\n",
              "                         'max_depth': [5, 7, 9, 11, 13, 15],\n",
              "                         'max_features': ['log2'],\n",
              "                         'n_estimators': [10, 20, 30, 40, 50]})"
            ]
          },
          "metadata": {},
          "execution_count": 19
        }
      ],
      "source": [
        "CV_rfc = GridSearchCV(estimator=rfc, param_grid=param_grid, cv=5)\n",
        "CV_rfc.fit(X_upsampled, y_upsampled)"
      ]
    },
    {
      "cell_type": "code",
      "execution_count": 20,
      "metadata": {
        "colab": {
          "base_uri": "https://localhost:8080/"
        },
        "id": "vWukDbpsybo6",
        "outputId": "fd904dcd-573d-401f-bd4b-fab77c2a74b1"
      },
      "outputs": [
        {
          "output_type": "stream",
          "name": "stdout",
          "text": [
            "Accuracy: 0.833\n",
            "F1: 0.5946601941747574\n"
          ]
        }
      ],
      "source": [
        "predictions = CV_rfc.best_estimator_.predict(X_valid)\n",
        "print(\"Accuracy:\", accuracy_score(predictions, y_valid))\n",
        "print(\"F1:\", f1_score(predictions, y_valid))"
      ]
    },
    {
      "cell_type": "markdown",
      "metadata": {
        "id": "owSjoorP6Odd"
      },
      "source": [
        " результат 0.582210242587601 наилучший "
      ]
    },
    {
      "cell_type": "code",
      "execution_count": 21,
      "metadata": {
        "id": "x6YkejMVxPwf"
      },
      "outputs": [],
      "source": [
        "def downsample(X, y, fraction):\n",
        "    X_zeros = X[y == 0]\n",
        "    X_ones = X[y == 1]\n",
        "    y_zeros = y[y == 0]\n",
        "    y_ones = y[y == 1]\n",
        "\n",
        "    X_downsampled = pd.concat([X_zeros.sample(frac=fraction, random_state=12345)] + [X_ones])\n",
        "    y_downsampled = pd.concat([y_zeros.sample(frac=fraction, random_state=12345)] + [y_ones])\n",
        "    \n",
        "    X_downsampled, y_downsampled = shuffle(X_downsampled, y_downsampled, random_state=12345)\n",
        "    \n",
        "    return X_downsampled, y_downsampled"
      ]
    },
    {
      "cell_type": "code",
      "execution_count": 22,
      "metadata": {
        "colab": {
          "base_uri": "https://localhost:8080/"
        },
        "id": "_wIR1byZybo-",
        "outputId": "63be0f0a-ad07-4122-a641-9c736c30dd16"
      },
      "outputs": [
        {
          "output_type": "stream",
          "name": "stdout",
          "text": [
            "Accuracy: 0.7855\n",
            "F1: 0.5918173168411037\n"
          ]
        }
      ],
      "source": [
        "X_downsampled, y_downsampled = downsample(X_train, y_train, 0.26)\n",
        "CV_rfc = GridSearchCV(estimator=rfc, param_grid=param_grid, cv=5)\n",
        "CV_rfc.fit(X_downsampled, y_downsampled)   \n",
        "predictions = CV_rfc.best_estimator_.predict(X_valid)\n",
        "print(\"Accuracy:\", accuracy_score(predictions, y_valid))\n",
        "print(\"F1:\", f1_score(predictions, y_valid))   "
      ]
    },
    {
      "cell_type": "code",
      "execution_count": 23,
      "metadata": {
        "colab": {
          "base_uri": "https://localhost:8080/",
          "height": 282
        },
        "id": "5IN8K9jyybo-",
        "outputId": "f689369a-6174-47bc-c0db-2942c314a69e"
      },
      "outputs": [
        {
          "output_type": "execute_result",
          "data": {
            "text/plain": [
              "<matplotlib.axes._subplots.AxesSubplot at 0x7fc30cb19970>"
            ]
          },
          "metadata": {},
          "execution_count": 23
        },
        {
          "output_type": "display_data",
          "data": {
            "text/plain": [
              "<Figure size 432x288 with 1 Axes>"
            ],
            "image/png": "[encoded data removed]"
          },
          "metadata": {
            "needs_background": "light"
          }
        }
      ],
      "source": [
        "y_downsampled.value_counts(normalize=True).plot()"
      ]
    },
    {
      "cell_type": "code",
      "execution_count": 24,
      "metadata": {
        "colab": {
          "base_uri": "https://localhost:8080/"
        },
        "id": "oTxCkXOXybpA",
        "outputId": "eb3b219e-c93b-4200-b867-b209fc79817c"
      },
      "outputs": [
        {
          "output_type": "execute_result",
          "data": {
            "text/plain": [
              "GridSearchCV(cv=5, estimator=RandomForestClassifier(random_state=12345),\n",
              "             param_grid={'criterion': ['gini'],\n",
              "                         'max_depth': [5, 7, 9, 11, 13, 15],\n",
              "                         'max_features': ['log2'],\n",
              "                         'n_estimators': [10, 20, 30, 40, 50]})"
            ]
          },
          "metadata": {},
          "execution_count": 24
        }
      ],
      "source": [
        "CV_rfc = GridSearchCV(estimator=rfc, param_grid=param_grid, cv=5)\n",
        "CV_rfc.fit(X_downsampled, y_downsampled)"
      ]
    },
    {
      "cell_type": "code",
      "execution_count": 25,
      "metadata": {
        "colab": {
          "base_uri": "https://localhost:8080/"
        },
        "id": "XKCGrZAMybpB",
        "outputId": "29f532e3-a29b-40ba-e8f9-204bff59a938"
      },
      "outputs": [
        {
          "output_type": "stream",
          "name": "stdout",
          "text": [
            "Accuracy: 0.7855\n",
            "F1: 0.5918173168411037\n"
          ]
        }
      ],
      "source": [
        "predictions = CV_rfc.best_estimator_.predict(X_valid)\n",
        "print(\"Accuracy:\", accuracy_score(predictions, y_valid))\n",
        "print(\"F1:\", f1_score(predictions, y_valid))"
      ]
    },
    {
      "cell_type": "markdown",
      "metadata": {
        "id": "t6vv6wmA7BB_"
      },
      "source": [
        " результат 0.5938069216757742 наилучший"
      ]
    },
    {
      "cell_type": "markdown",
      "metadata": {
        "id": "Mm__dSh2xPwf"
      },
      "source": [
        "## Тестирование модели"
      ]
    },
    {
      "cell_type": "code",
      "execution_count": 26,
      "metadata": {
        "colab": {
          "base_uri": "https://localhost:8080/"
        },
        "id": "Wvg-7GCZxPwf",
        "outputId": "4af9b586-a77f-42b0-c999-e7849484d015"
      },
      "outputs": [
        {
          "output_type": "stream",
          "name": "stdout",
          "text": [
            "Accuracy: 0.7865\n",
            "F1: 0.5906040268456376\n"
          ]
        }
      ],
      "source": [
        "predictions = CV_rfc.best_estimator_.predict(X_test)\n",
        "print(\"Accuracy:\", accuracy_score(predictions, y_test))\n",
        "print(\"F1:\", f1_score(predictions, y_test))"
      ]
    },
    {
      "cell_type": "code",
      "execution_count": 27,
      "metadata": {
        "colab": {
          "base_uri": "https://localhost:8080/",
          "height": 431
        },
        "id": "i5p4stpQ-htM",
        "outputId": "1295a091-715a-48e3-e68d-24689a342281"
      },
      "outputs": [
        {
          "output_type": "display_data",
          "data": {
            "text/plain": [
              "<Figure size 792x468 with 1 Axes>"
            ],
            "image/png": "[encoded data removed]"
          },
          "metadata": {
            "needs_background": "light"
          }
        }
      ],
      "source": [
        "y_pred = CV_rfc.best_estimator_.predict_proba(X_test)[:,1]\n",
        "fpr, tpr, thresholds = roc_curve(y_test, y_pred)\n",
        "plt.figure(figsize=(11, 6.5))\n",
        "plt.plot(fpr, tpr, color='green',label='ROC кривая (area = %0.2f)')\n",
        "plt.grid(True)\n",
        "plt.title('ROC-curve')\n",
        "plt.plot([0,1], [0,1], linestyle='--')\n",
        "plt.xlabel('False Positive Rate')\n",
        "plt.ylabel('True Positive Rate')\n",
        "\n",
        "plt.xlim(0, 1)\n",
        "plt.ylim(0, 1)\n",
        "\n",
        "plt.show()"
      ]
    },
    {
      "cell_type": "markdown",
      "metadata": {
        "id": "eeOBq4nWxPwf"
      },
      "source": [
        "Вывод:\n",
        "* Cделана предработка данных\n",
        "* Разделены данные на выборки \n",
        "* Я использовала LogisticRegression и RandomForestClassifier, где получилось, что LogisticRegression показывает наименьшие результаты. \n",
        "* Далее я увеличивала и уменьшала выборку уже в RandomForestClassifier, где результат 0.5938069216757742 наилучший\n",
        "* тестирование модели показало результат accuracy = 0.854 и f1_score 0.61\n",
        "\n"
      ]
    }
  ],
  "metadata": {
    "ExecuteTimeLog": [
      {
        "duration": 1297,
        "start_time": "2022-11-09T14:03:49.881Z"
      },
      {
        "duration": 176,
        "start_time": "2022-11-09T14:04:39.190Z"
      },
      {
        "duration": 13,
        "start_time": "2022-11-09T14:04:51.358Z"
      },
      {
        "duration": 99,
        "start_time": "2022-11-09T14:07:58.282Z"
      },
      {
        "duration": 51,
        "start_time": "2022-11-09T14:08:09.268Z"
      },
      {
        "duration": 7,
        "start_time": "2022-11-09T16:10:52.989Z"
      },
      {
        "duration": 1048,
        "start_time": "2022-11-10T16:16:13.242Z"
      },
      {
        "duration": 386,
        "start_time": "2022-11-10T16:16:14.292Z"
      },
      {
        "duration": 56,
        "start_time": "2022-11-10T16:16:14.680Z"
      },
      {
        "duration": 7,
        "start_time": "2022-11-10T16:16:14.738Z"
      },
      {
        "duration": 47,
        "start_time": "2022-11-10T16:16:14.747Z"
      },
      {
        "duration": 0,
        "start_time": "2022-11-10T16:16:14.796Z"
      },
      {
        "duration": 9,
        "start_time": "2022-11-10T16:16:26.195Z"
      },
      {
        "duration": 3,
        "start_time": "2022-11-10T16:16:49.445Z"
      },
      {
        "duration": 8,
        "start_time": "2022-11-10T16:17:01.738Z"
      },
      {
        "duration": 705,
        "start_time": "2022-11-10T16:18:27.868Z"
      },
      {
        "duration": 3,
        "start_time": "2022-11-10T16:18:53.507Z"
      },
      {
        "duration": 124,
        "start_time": "2022-11-10T16:18:57.909Z"
      },
      {
        "duration": 13,
        "start_time": "2022-11-10T16:26:27.443Z"
      },
      {
        "duration": 17,
        "start_time": "2022-11-10T16:26:35.763Z"
      },
      {
        "duration": 7,
        "start_time": "2022-11-10T16:27:38.316Z"
      },
      {
        "duration": 4,
        "start_time": "2022-11-10T16:54:47.755Z"
      },
      {
        "duration": 10,
        "start_time": "2022-11-10T17:14:11.255Z"
      },
      {
        "duration": 11,
        "start_time": "2022-11-10T17:14:31.976Z"
      },
      {
        "duration": 39,
        "start_time": "2022-11-10T17:14:58.508Z"
      },
      {
        "duration": 25,
        "start_time": "2022-11-10T17:15:02.480Z"
      },
      {
        "duration": 24,
        "start_time": "2022-11-10T17:15:16.918Z"
      },
      {
        "duration": 22,
        "start_time": "2022-11-10T17:15:54.200Z"
      },
      {
        "duration": 18,
        "start_time": "2022-11-10T17:17:00.244Z"
      },
      {
        "duration": 23,
        "start_time": "2022-11-10T17:17:10.673Z"
      },
      {
        "duration": 46,
        "start_time": "2022-11-10T17:19:02.005Z"
      },
      {
        "duration": 19,
        "start_time": "2022-11-10T17:19:53.671Z"
      },
      {
        "duration": 3,
        "start_time": "2022-11-10T17:20:25.640Z"
      },
      {
        "duration": 64,
        "start_time": "2022-11-10T17:20:26.407Z"
      },
      {
        "duration": 50,
        "start_time": "2022-11-10T17:20:28.781Z"
      },
      {
        "duration": 8,
        "start_time": "2022-11-10T17:20:32.151Z"
      },
      {
        "duration": 9,
        "start_time": "2022-11-10T17:20:34.269Z"
      },
      {
        "duration": 27,
        "start_time": "2022-11-10T17:20:35.411Z"
      },
      {
        "duration": 17,
        "start_time": "2022-11-10T17:20:37.427Z"
      },
      {
        "duration": 46,
        "start_time": "2022-11-10T17:22:55.992Z"
      },
      {
        "duration": 10,
        "start_time": "2022-11-10T17:23:40.627Z"
      },
      {
        "duration": 11,
        "start_time": "2022-11-10T17:23:58.539Z"
      },
      {
        "duration": 3,
        "start_time": "2022-11-10T17:24:25.743Z"
      },
      {
        "duration": 10,
        "start_time": "2022-11-10T17:24:30.516Z"
      },
      {
        "duration": 10,
        "start_time": "2022-11-10T17:34:20.241Z"
      },
      {
        "duration": 110,
        "start_time": "2022-11-10T17:38:21.886Z"
      },
      {
        "duration": 118,
        "start_time": "2022-11-10T17:42:40.455Z"
      },
      {
        "duration": 106,
        "start_time": "2022-11-10T17:44:01.862Z"
      },
      {
        "duration": 10,
        "start_time": "2022-11-10T17:46:17.057Z"
      },
      {
        "duration": 86,
        "start_time": "2022-11-10T17:47:01.977Z"
      },
      {
        "duration": 22,
        "start_time": "2022-11-10T17:47:07.179Z"
      },
      {
        "duration": 10,
        "start_time": "2022-11-10T17:48:08.959Z"
      },
      {
        "duration": 18,
        "start_time": "2022-11-10T17:48:11.490Z"
      },
      {
        "duration": 17,
        "start_time": "2022-11-10T17:49:37.617Z"
      },
      {
        "duration": 4,
        "start_time": "2022-11-10T17:50:06.532Z"
      },
      {
        "duration": 21,
        "start_time": "2022-11-10T17:50:13.497Z"
      },
      {
        "duration": 19,
        "start_time": "2022-11-10T17:50:55.105Z"
      },
      {
        "duration": 3,
        "start_time": "2022-11-10T17:51:26.019Z"
      },
      {
        "duration": 18,
        "start_time": "2022-11-10T17:51:30.993Z"
      },
      {
        "duration": 8,
        "start_time": "2022-11-10T17:52:10.157Z"
      },
      {
        "duration": 23,
        "start_time": "2022-11-10T17:52:21.161Z"
      },
      {
        "duration": 19,
        "start_time": "2022-11-10T17:52:44.063Z"
      },
      {
        "duration": 4,
        "start_time": "2022-11-10T17:54:05.675Z"
      },
      {
        "duration": 53,
        "start_time": "2022-11-10T17:54:06.304Z"
      },
      {
        "duration": 53,
        "start_time": "2022-11-10T17:54:09.389Z"
      },
      {
        "duration": 9,
        "start_time": "2022-11-10T17:54:14.697Z"
      },
      {
        "duration": 248,
        "start_time": "2022-11-10T17:56:45.546Z"
      },
      {
        "duration": 13,
        "start_time": "2022-11-10T17:56:49.266Z"
      },
      {
        "duration": 5,
        "start_time": "2022-11-10T18:03:01.925Z"
      },
      {
        "duration": 68,
        "start_time": "2022-11-10T18:03:02.266Z"
      },
      {
        "duration": 13,
        "start_time": "2022-11-10T18:03:13.529Z"
      },
      {
        "duration": 120,
        "start_time": "2022-11-10T18:03:15.883Z"
      },
      {
        "duration": 30,
        "start_time": "2022-11-10T18:03:19.804Z"
      },
      {
        "duration": 18,
        "start_time": "2022-11-10T18:03:54.062Z"
      },
      {
        "duration": 12,
        "start_time": "2022-11-10T18:04:03.687Z"
      },
      {
        "duration": 28,
        "start_time": "2022-11-10T18:04:05.944Z"
      },
      {
        "duration": 12,
        "start_time": "2022-11-10T18:04:48.084Z"
      },
      {
        "duration": 11,
        "start_time": "2022-11-10T18:04:57.976Z"
      },
      {
        "duration": 22,
        "start_time": "2022-11-10T18:05:00.212Z"
      },
      {
        "duration": 1699,
        "start_time": "2022-11-12T07:48:25.949Z"
      },
      {
        "duration": 146,
        "start_time": "2022-11-12T07:48:46.159Z"
      },
      {
        "duration": 104,
        "start_time": "2022-11-12T07:49:25.762Z"
      },
      {
        "duration": 66,
        "start_time": "2022-11-12T07:49:34.434Z"
      },
      {
        "duration": 8,
        "start_time": "2022-11-12T07:49:38.672Z"
      },
      {
        "duration": 22,
        "start_time": "2022-11-12T07:49:41.375Z"
      },
      {
        "duration": 33,
        "start_time": "2022-11-12T07:49:44.868Z"
      },
      {
        "duration": 28,
        "start_time": "2022-11-12T07:49:55.839Z"
      },
      {
        "duration": 28,
        "start_time": "2022-11-12T07:50:03.007Z"
      },
      {
        "duration": 4,
        "start_time": "2022-11-12T08:40:22.090Z"
      },
      {
        "duration": 58,
        "start_time": "2022-11-12T08:40:25.325Z"
      },
      {
        "duration": 58,
        "start_time": "2022-11-12T08:40:27.455Z"
      },
      {
        "duration": 8,
        "start_time": "2022-11-12T08:40:34.417Z"
      },
      {
        "duration": 21,
        "start_time": "2022-11-12T08:40:39.369Z"
      },
      {
        "duration": 31,
        "start_time": "2022-11-12T08:40:47.239Z"
      },
      {
        "duration": 146,
        "start_time": "2022-11-12T09:04:13.410Z"
      },
      {
        "duration": 129,
        "start_time": "2022-11-12T09:04:44.806Z"
      },
      {
        "duration": 132,
        "start_time": "2022-11-12T09:04:51.480Z"
      },
      {
        "duration": 16,
        "start_time": "2022-11-12T09:10:42.832Z"
      },
      {
        "duration": 24,
        "start_time": "2022-11-12T09:10:55.930Z"
      },
      {
        "duration": 12,
        "start_time": "2022-11-12T09:10:58.420Z"
      },
      {
        "duration": 132,
        "start_time": "2022-11-12T09:11:05.523Z"
      },
      {
        "duration": 73,
        "start_time": "2022-11-12T09:11:11.405Z"
      },
      {
        "duration": 808,
        "start_time": "2022-11-12T09:11:13.791Z"
      },
      {
        "duration": 9142,
        "start_time": "2022-11-12T09:11:19.942Z"
      },
      {
        "duration": 70,
        "start_time": "2022-11-12T09:12:14.873Z"
      },
      {
        "duration": 7687,
        "start_time": "2022-11-12T09:12:31.421Z"
      },
      {
        "duration": 9036,
        "start_time": "2022-11-12T09:20:07.422Z"
      },
      {
        "duration": 11898,
        "start_time": "2022-11-12T09:20:22.636Z"
      },
      {
        "duration": 1345,
        "start_time": "2022-11-12T09:20:52.549Z"
      },
      {
        "duration": 9235,
        "start_time": "2022-11-12T09:21:25.323Z"
      },
      {
        "duration": 25069,
        "start_time": "2022-11-12T09:22:02.877Z"
      },
      {
        "duration": 978,
        "start_time": "2022-11-12T09:30:42.328Z"
      },
      {
        "duration": 25475,
        "start_time": "2022-11-12T09:32:48.824Z"
      },
      {
        "duration": 1526,
        "start_time": "2022-11-12T09:33:32.064Z"
      },
      {
        "duration": 25188,
        "start_time": "2022-11-12T09:33:42.410Z"
      },
      {
        "duration": 13,
        "start_time": "2022-11-12T09:39:19.535Z"
      },
      {
        "duration": 4,
        "start_time": "2022-11-12T09:39:40.782Z"
      },
      {
        "duration": 10,
        "start_time": "2022-11-12T09:39:47.769Z"
      },
      {
        "duration": 4,
        "start_time": "2022-11-12T09:40:30.906Z"
      },
      {
        "duration": 85,
        "start_time": "2022-11-12T09:40:32.394Z"
      },
      {
        "duration": 665,
        "start_time": "2022-11-12T09:40:34.300Z"
      },
      {
        "duration": 4,
        "start_time": "2022-11-12T09:42:50.554Z"
      },
      {
        "duration": 55687,
        "start_time": "2022-11-12T09:43:55.618Z"
      },
      {
        "duration": 11,
        "start_time": "2022-11-12T09:46:02.311Z"
      },
      {
        "duration": 10,
        "start_time": "2022-11-12T09:46:27.795Z"
      },
      {
        "duration": 11,
        "start_time": "2022-11-12T09:46:45.221Z"
      },
      {
        "duration": 13,
        "start_time": "2022-11-12T09:47:03.377Z"
      },
      {
        "duration": 10,
        "start_time": "2022-11-12T09:47:13.240Z"
      },
      {
        "duration": 11,
        "start_time": "2022-11-12T09:47:29.149Z"
      },
      {
        "duration": 10,
        "start_time": "2022-11-12T09:47:34.740Z"
      },
      {
        "duration": 4,
        "start_time": "2022-11-12T09:56:41.090Z"
      },
      {
        "duration": 20448,
        "start_time": "2022-11-12T09:57:46.915Z"
      },
      {
        "duration": 4,
        "start_time": "2022-11-12T09:58:07.365Z"
      },
      {
        "duration": 60,
        "start_time": "2022-11-12T09:59:17.433Z"
      },
      {
        "duration": 59,
        "start_time": "2022-11-12T09:59:26.734Z"
      },
      {
        "duration": 27,
        "start_time": "2022-11-12T09:59:37.627Z"
      },
      {
        "duration": 5,
        "start_time": "2022-11-12T10:00:36.111Z"
      },
      {
        "duration": 20778,
        "start_time": "2022-11-12T10:00:41.349Z"
      },
      {
        "duration": 3,
        "start_time": "2022-11-12T10:01:02.130Z"
      },
      {
        "duration": 20982,
        "start_time": "2022-11-12T10:01:04.395Z"
      },
      {
        "duration": 22,
        "start_time": "2022-11-12T10:01:34.057Z"
      },
      {
        "duration": 19,
        "start_time": "2022-11-12T10:05:05.130Z"
      },
      {
        "duration": 7737,
        "start_time": "2022-11-12T10:05:40.262Z"
      },
      {
        "duration": 7786,
        "start_time": "2022-11-12T10:06:39.816Z"
      },
      {
        "duration": 4,
        "start_time": "2022-11-12T10:07:28.570Z"
      },
      {
        "duration": 11,
        "start_time": "2022-11-12T10:08:41.350Z"
      },
      {
        "duration": 30537,
        "start_time": "2022-11-12T10:08:43.200Z"
      },
      {
        "duration": 40,
        "start_time": "2022-11-12T10:11:02.055Z"
      },
      {
        "duration": 4,
        "start_time": "2022-11-12T10:11:41.109Z"
      },
      {
        "duration": 43,
        "start_time": "2022-11-12T10:11:50.006Z"
      },
      {
        "duration": 44,
        "start_time": "2022-11-12T10:12:21.497Z"
      },
      {
        "duration": 30920,
        "start_time": "2022-11-12T10:12:38.722Z"
      },
      {
        "duration": 48,
        "start_time": "2022-11-12T10:13:09.644Z"
      },
      {
        "duration": 4,
        "start_time": "2022-11-12T14:34:35.223Z"
      },
      {
        "duration": 3,
        "start_time": "2022-11-12T14:34:35.851Z"
      },
      {
        "duration": 59,
        "start_time": "2022-11-12T14:34:36.364Z"
      },
      {
        "duration": 52,
        "start_time": "2022-11-12T14:34:38.805Z"
      },
      {
        "duration": 9,
        "start_time": "2022-11-12T14:34:41.894Z"
      },
      {
        "duration": 21,
        "start_time": "2022-11-12T14:34:44.355Z"
      },
      {
        "duration": 27,
        "start_time": "2022-11-12T14:34:46.649Z"
      },
      {
        "duration": 24,
        "start_time": "2022-11-12T14:34:48.833Z"
      },
      {
        "duration": 12,
        "start_time": "2022-11-12T14:34:52.092Z"
      },
      {
        "duration": 134,
        "start_time": "2022-11-12T14:34:55.534Z"
      },
      {
        "duration": 3,
        "start_time": "2022-11-12T14:35:02.263Z"
      },
      {
        "duration": 22973,
        "start_time": "2022-11-12T14:35:04.600Z"
      },
      {
        "duration": 43,
        "start_time": "2022-11-12T14:35:30.043Z"
      },
      {
        "duration": 129,
        "start_time": "2022-11-12T14:35:30.759Z"
      },
      {
        "duration": 27600,
        "start_time": "2022-11-12T14:35:44.199Z"
      },
      {
        "duration": 60875,
        "start_time": "2022-11-12T14:36:26.696Z"
      },
      {
        "duration": 61,
        "start_time": "2022-11-12T14:37:35.302Z"
      },
      {
        "duration": 44,
        "start_time": "2022-11-12T14:37:50.323Z"
      },
      {
        "duration": 21499,
        "start_time": "2022-11-12T14:39:25.721Z"
      },
      {
        "duration": 5301,
        "start_time": "2022-11-12T14:40:02.221Z"
      },
      {
        "duration": 80,
        "start_time": "2022-11-12T14:40:33.256Z"
      },
      {
        "duration": 13,
        "start_time": "2022-11-12T14:44:45.027Z"
      },
      {
        "duration": 12,
        "start_time": "2022-11-12T14:44:55.276Z"
      },
      {
        "duration": 11,
        "start_time": "2022-11-12T14:44:58.063Z"
      },
      {
        "duration": 11,
        "start_time": "2022-11-12T14:45:05.364Z"
      },
      {
        "duration": 28,
        "start_time": "2022-11-12T14:45:07.415Z"
      },
      {
        "duration": 11,
        "start_time": "2022-11-12T14:45:20.939Z"
      },
      {
        "duration": 17,
        "start_time": "2022-11-12T14:45:31.477Z"
      },
      {
        "duration": 35,
        "start_time": "2022-11-12T14:45:42.563Z"
      },
      {
        "duration": 3,
        "start_time": "2022-11-12T14:46:58.772Z"
      },
      {
        "duration": 28,
        "start_time": "2022-11-12T14:47:23.885Z"
      },
      {
        "duration": 4983,
        "start_time": "2022-11-12T14:47:45.215Z"
      },
      {
        "duration": 4,
        "start_time": "2022-11-12T14:48:48.029Z"
      },
      {
        "duration": 15,
        "start_time": "2022-11-12T14:48:49.884Z"
      },
      {
        "duration": 52039,
        "start_time": "2022-11-12T14:49:28.442Z"
      },
      {
        "duration": 34,
        "start_time": "2022-11-12T14:51:32.002Z"
      },
      {
        "duration": 4,
        "start_time": "2022-11-12T14:54:15.816Z"
      },
      {
        "duration": 11,
        "start_time": "2022-11-12T14:54:18.805Z"
      },
      {
        "duration": 15899,
        "start_time": "2022-11-12T14:54:22.536Z"
      },
      {
        "duration": 26,
        "start_time": "2022-11-12T14:54:48.758Z"
      },
      {
        "duration": 25,
        "start_time": "2022-11-12T14:54:54.048Z"
      },
      {
        "duration": 22034,
        "start_time": "2022-11-12T14:59:44.425Z"
      },
      {
        "duration": 70,
        "start_time": "2022-11-12T15:05:23.532Z"
      },
      {
        "duration": 215,
        "start_time": "2022-11-12T15:06:26.779Z"
      },
      {
        "duration": 1999,
        "start_time": "2022-11-12T19:52:07.860Z"
      },
      {
        "duration": 3,
        "start_time": "2022-11-12T19:52:09.861Z"
      },
      {
        "duration": 204,
        "start_time": "2022-11-12T19:52:09.866Z"
      },
      {
        "duration": 82,
        "start_time": "2022-11-12T19:52:10.076Z"
      },
      {
        "duration": 10,
        "start_time": "2022-11-12T19:52:10.741Z"
      },
      {
        "duration": 21,
        "start_time": "2022-11-12T19:52:11.892Z"
      },
      {
        "duration": 26,
        "start_time": "2022-11-12T19:52:13.022Z"
      },
      {
        "duration": 25,
        "start_time": "2022-11-12T19:52:14.283Z"
      },
      {
        "duration": 13,
        "start_time": "2022-11-12T19:52:15.859Z"
      },
      {
        "duration": 138,
        "start_time": "2022-11-12T19:52:18.486Z"
      },
      {
        "duration": 57,
        "start_time": "2022-11-12T19:52:21.846Z"
      },
      {
        "duration": 240,
        "start_time": "2022-11-12T19:52:57.939Z"
      },
      {
        "duration": 16,
        "start_time": "2022-11-12T19:53:12.021Z"
      },
      {
        "duration": 129,
        "start_time": "2022-11-12T19:53:36.014Z"
      },
      {
        "duration": 130,
        "start_time": "2022-11-12T19:54:04.819Z"
      },
      {
        "duration": 117,
        "start_time": "2022-11-12T19:54:12.851Z"
      },
      {
        "duration": 3,
        "start_time": "2022-11-12T19:56:10.144Z"
      },
      {
        "duration": 19234,
        "start_time": "2022-11-12T19:56:11.356Z"
      },
      {
        "duration": 10,
        "start_time": "2022-11-12T19:56:30.592Z"
      },
      {
        "duration": 0,
        "start_time": "2022-11-12T19:56:30.604Z"
      },
      {
        "duration": 0,
        "start_time": "2022-11-12T19:56:30.605Z"
      },
      {
        "duration": 0,
        "start_time": "2022-11-12T19:56:30.606Z"
      },
      {
        "duration": 0,
        "start_time": "2022-11-12T19:56:30.606Z"
      },
      {
        "duration": 7203,
        "start_time": "2022-11-12T19:56:48.079Z"
      },
      {
        "duration": 3,
        "start_time": "2022-11-12T19:56:55.284Z"
      },
      {
        "duration": 15,
        "start_time": "2022-11-12T19:56:55.289Z"
      },
      {
        "duration": 3,
        "start_time": "2022-11-12T20:06:55.414Z"
      },
      {
        "duration": 10,
        "start_time": "2022-11-12T20:06:55.958Z"
      },
      {
        "duration": 19374,
        "start_time": "2022-11-12T20:07:10.130Z"
      },
      {
        "duration": 40,
        "start_time": "2022-11-12T20:07:29.506Z"
      },
      {
        "duration": 184,
        "start_time": "2022-11-12T20:07:29.548Z"
      },
      {
        "duration": 14111,
        "start_time": "2022-11-12T20:08:21.374Z"
      },
      {
        "duration": 20,
        "start_time": "2022-11-12T20:08:35.486Z"
      },
      {
        "duration": 1797,
        "start_time": "2022-11-12T20:58:21.039Z"
      },
      {
        "duration": 101,
        "start_time": "2022-11-12T20:58:24.007Z"
      },
      {
        "duration": 54,
        "start_time": "2022-11-12T20:58:26.575Z"
      },
      {
        "duration": 7,
        "start_time": "2022-11-12T20:58:29.529Z"
      },
      {
        "duration": 21,
        "start_time": "2022-11-12T20:58:31.746Z"
      },
      {
        "duration": 34,
        "start_time": "2022-11-12T20:58:34.483Z"
      },
      {
        "duration": 28,
        "start_time": "2022-11-12T20:58:36.457Z"
      },
      {
        "duration": 16,
        "start_time": "2022-11-12T20:58:38.756Z"
      },
      {
        "duration": 3,
        "start_time": "2022-11-12T21:00:16.932Z"
      },
      {
        "duration": 21517,
        "start_time": "2022-11-12T21:00:17.657Z"
      },
      {
        "duration": 37,
        "start_time": "2022-11-12T21:00:39.177Z"
      },
      {
        "duration": 48,
        "start_time": "2022-11-12T21:00:39.216Z"
      },
      {
        "duration": 84,
        "start_time": "2022-11-12T21:00:39.268Z"
      },
      {
        "duration": 70,
        "start_time": "2022-11-12T21:00:46.081Z"
      },
      {
        "duration": 8693,
        "start_time": "2022-11-12T21:00:50.625Z"
      },
      {
        "duration": 4,
        "start_time": "2022-11-12T21:01:39.525Z"
      },
      {
        "duration": 15,
        "start_time": "2022-11-12T21:01:41.081Z"
      },
      {
        "duration": 33322,
        "start_time": "2022-11-12T21:01:43.681Z"
      },
      {
        "duration": 39,
        "start_time": "2022-11-12T21:02:27.358Z"
      },
      {
        "duration": 23448,
        "start_time": "2022-11-12T21:09:34.897Z"
      },
      {
        "duration": 39,
        "start_time": "2022-11-12T21:09:58.351Z"
      },
      {
        "duration": 17621,
        "start_time": "2022-11-12T21:10:52.346Z"
      },
      {
        "duration": 42,
        "start_time": "2022-11-12T21:11:20.077Z"
      },
      {
        "duration": 47059,
        "start_time": "2022-11-12T21:11:27.919Z"
      },
      {
        "duration": 39,
        "start_time": "2022-11-12T21:12:14.980Z"
      },
      {
        "duration": 148,
        "start_time": "2022-11-12T21:16:56.165Z"
      },
      {
        "duration": 36,
        "start_time": "2022-11-12T21:17:02.484Z"
      },
      {
        "duration": 12,
        "start_time": "2022-11-12T21:19:09.711Z"
      },
      {
        "duration": 39,
        "start_time": "2022-11-12T21:19:17.504Z"
      },
      {
        "duration": 38,
        "start_time": "2022-11-12T21:19:41.802Z"
      },
      {
        "duration": 321,
        "start_time": "2022-11-12T21:20:04.747Z"
      },
      {
        "duration": 323,
        "start_time": "2022-11-12T21:20:40.017Z"
      },
      {
        "duration": 6,
        "start_time": "2022-11-12T21:20:58.823Z"
      },
      {
        "duration": 14,
        "start_time": "2022-11-12T21:20:59.363Z"
      },
      {
        "duration": 34755,
        "start_time": "2022-11-12T21:21:00.004Z"
      },
      {
        "duration": 41,
        "start_time": "2022-11-12T21:21:34.762Z"
      },
      {
        "duration": 5,
        "start_time": "2022-11-12T21:21:42.285Z"
      },
      {
        "duration": 13,
        "start_time": "2022-11-12T21:21:43.239Z"
      },
      {
        "duration": 16766,
        "start_time": "2022-11-12T21:21:47.941Z"
      },
      {
        "duration": 24,
        "start_time": "2022-11-12T21:22:04.710Z"
      },
      {
        "duration": 334,
        "start_time": "2022-11-12T21:22:04.737Z"
      },
      {
        "duration": 330,
        "start_time": "2022-11-12T21:22:39.831Z"
      },
      {
        "duration": 25,
        "start_time": "2022-11-12T21:25:28.866Z"
      },
      {
        "duration": 94,
        "start_time": "2022-11-12T21:28:23.523Z"
      },
      {
        "duration": 189,
        "start_time": "2022-11-12T21:34:27.195Z"
      },
      {
        "duration": 17,
        "start_time": "2022-11-12T21:36:49.817Z"
      },
      {
        "duration": 12342,
        "start_time": "2022-11-12T21:37:05.386Z"
      },
      {
        "duration": 12291,
        "start_time": "2022-11-12T21:37:34.498Z"
      },
      {
        "duration": 12044,
        "start_time": "2022-11-12T21:38:24.469Z"
      },
      {
        "duration": 99,
        "start_time": "2022-11-12T21:39:26.101Z"
      },
      {
        "duration": 12758,
        "start_time": "2022-11-12T21:40:33.308Z"
      },
      {
        "duration": 1962,
        "start_time": "2022-11-13T08:31:42.610Z"
      },
      {
        "duration": 3,
        "start_time": "2022-11-13T08:31:44.574Z"
      },
      {
        "duration": 199,
        "start_time": "2022-11-13T08:31:44.578Z"
      },
      {
        "duration": 50,
        "start_time": "2022-11-13T08:31:44.779Z"
      },
      {
        "duration": 8,
        "start_time": "2022-11-13T08:31:44.830Z"
      },
      {
        "duration": 28,
        "start_time": "2022-11-13T08:31:44.840Z"
      },
      {
        "duration": 28,
        "start_time": "2022-11-13T08:31:45.236Z"
      },
      {
        "duration": 25,
        "start_time": "2022-11-13T08:31:45.716Z"
      },
      {
        "duration": 13,
        "start_time": "2022-11-13T08:31:46.503Z"
      },
      {
        "duration": 128,
        "start_time": "2022-11-13T08:31:47.660Z"
      },
      {
        "duration": 109,
        "start_time": "2022-11-13T08:31:48.401Z"
      },
      {
        "duration": 4,
        "start_time": "2022-11-13T08:31:49.190Z"
      },
      {
        "duration": 19141,
        "start_time": "2022-11-13T08:31:49.364Z"
      },
      {
        "duration": 33,
        "start_time": "2022-11-13T08:32:08.507Z"
      },
      {
        "duration": 93,
        "start_time": "2022-11-13T08:32:08.542Z"
      },
      {
        "duration": 7355,
        "start_time": "2022-11-13T08:32:08.638Z"
      },
      {
        "duration": 4,
        "start_time": "2022-11-13T08:32:15.995Z"
      },
      {
        "duration": 13,
        "start_time": "2022-11-13T08:32:16.001Z"
      },
      {
        "duration": 10676,
        "start_time": "2022-11-13T08:32:44.235Z"
      },
      {
        "duration": 6,
        "start_time": "2022-11-13T08:33:39.397Z"
      },
      {
        "duration": 4,
        "start_time": "2022-11-13T08:34:02.033Z"
      },
      {
        "duration": 46,
        "start_time": "2022-11-13T09:42:04.936Z"
      },
      {
        "duration": 1370,
        "start_time": "2022-11-13T09:42:15.373Z"
      },
      {
        "duration": 2,
        "start_time": "2022-11-13T09:42:16.745Z"
      },
      {
        "duration": 195,
        "start_time": "2022-11-13T09:42:16.748Z"
      },
      {
        "duration": 45,
        "start_time": "2022-11-13T09:42:16.946Z"
      },
      {
        "duration": 6,
        "start_time": "2022-11-13T09:42:16.993Z"
      },
      {
        "duration": 18,
        "start_time": "2022-11-13T09:42:17.001Z"
      },
      {
        "duration": 58,
        "start_time": "2022-11-13T09:42:17.021Z"
      },
      {
        "duration": 25,
        "start_time": "2022-11-13T09:42:17.081Z"
      },
      {
        "duration": 9,
        "start_time": "2022-11-13T09:42:17.107Z"
      },
      {
        "duration": 136,
        "start_time": "2022-11-13T09:42:17.118Z"
      },
      {
        "duration": 109,
        "start_time": "2022-11-13T09:42:17.259Z"
      },
      {
        "duration": 3,
        "start_time": "2022-11-13T09:42:17.369Z"
      },
      {
        "duration": 17629,
        "start_time": "2022-11-13T09:42:17.374Z"
      },
      {
        "duration": 27,
        "start_time": "2022-11-13T09:42:35.005Z"
      },
      {
        "duration": 51,
        "start_time": "2022-11-13T09:42:35.033Z"
      },
      {
        "duration": 6969,
        "start_time": "2022-11-13T09:42:35.159Z"
      },
      {
        "duration": 4,
        "start_time": "2022-11-13T09:42:42.130Z"
      },
      {
        "duration": 30,
        "start_time": "2022-11-13T09:42:42.136Z"
      },
      {
        "duration": 25865,
        "start_time": "2022-11-13T09:42:42.168Z"
      },
      {
        "duration": 36,
        "start_time": "2022-11-13T09:43:08.034Z"
      },
      {
        "duration": 3,
        "start_time": "2022-11-13T09:43:08.072Z"
      },
      {
        "duration": 3044,
        "start_time": "2022-11-13T09:43:08.077Z"
      },
      {
        "duration": 5,
        "start_time": "2022-11-13T09:43:11.123Z"
      },
      {
        "duration": 11511,
        "start_time": "2022-11-13T09:43:11.129Z"
      },
      {
        "duration": 29,
        "start_time": "2022-11-13T09:43:22.642Z"
      },
      {
        "duration": 23,
        "start_time": "2022-11-13T09:43:22.673Z"
      },
      {
        "duration": 186,
        "start_time": "2022-11-13T09:43:22.697Z"
      },
      {
        "duration": 11573,
        "start_time": "2022-11-13T09:47:07.470Z"
      },
      {
        "duration": 6,
        "start_time": "2022-11-13T09:47:23.799Z"
      },
      {
        "duration": 12946,
        "start_time": "2022-11-13T09:47:57.970Z"
      },
      {
        "duration": 49,
        "start_time": "2022-11-13T09:48:10.918Z"
      },
      {
        "duration": 6,
        "start_time": "2022-11-13T09:48:17.611Z"
      },
      {
        "duration": 10219,
        "start_time": "2022-11-13T09:48:25.700Z"
      },
      {
        "duration": 6,
        "start_time": "2022-11-13T09:48:38.792Z"
      },
      {
        "duration": 11818,
        "start_time": "2022-11-13T09:48:49.856Z"
      },
      {
        "duration": 5,
        "start_time": "2022-11-13T09:49:01.676Z"
      },
      {
        "duration": 11040,
        "start_time": "2022-11-13T09:49:09.738Z"
      },
      {
        "duration": 6,
        "start_time": "2022-11-13T09:49:26.124Z"
      },
      {
        "duration": 10487,
        "start_time": "2022-11-13T09:49:32.892Z"
      },
      {
        "duration": 5,
        "start_time": "2022-11-13T09:49:43.381Z"
      },
      {
        "duration": 10597,
        "start_time": "2022-11-13T09:49:51.842Z"
      },
      {
        "duration": 6,
        "start_time": "2022-11-13T09:50:02.441Z"
      },
      {
        "duration": 10739,
        "start_time": "2022-11-13T09:50:12.224Z"
      },
      {
        "duration": 6,
        "start_time": "2022-11-13T09:50:22.964Z"
      }
    ],
    "colab": {
      "provenance": []
    },
    "kernelspec": {
      "display_name": "Python 3 (ipykernel)",
      "language": "python",
      "name": "python3"
    },
    "language_info": {
      "codemirror_mode": {
        "name": "ipython",
        "version": 3
      },
      "file_extension": ".py",
      "mimetype": "text/x-python",
      "name": "python",
      "nbconvert_exporter": "python",
      "pygments_lexer": "ipython3",
      "version": "3.9.5"
    },
    "toc": {
      "base_numbering": 1,
      "nav_menu": {
        "height": "11.9886px",
        "width": "160px"
      },
      "number_sections": true,
      "sideBar": true,
      "skip_h1_title": true,
      "title_cell": "Содержание",
      "title_sidebar": "Contents",
      "toc_cell": true,
      "toc_position": {},
      "toc_section_display": true,
      "toc_window_display": false
    }
  },
  "nbformat": 4,
  "nbformat_minor": 0
}