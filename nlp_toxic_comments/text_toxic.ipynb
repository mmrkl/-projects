{
  "cells": [
    {
      "cell_type": "markdown",
      "metadata": {
        "id": "d7lp_ZBX4WnO"
      },
      "source": [
        "# Проект для «Викишоп»"
      ]
    },
    {
      "cell_type": "markdown",
      "metadata": {
        "id": "Hku-5T0A4Vrw"
      },
      "source": [
        "Интернет-магазин «Викишоп» запускает новый сервис. Теперь пользователи могут редактировать и дополнять описания товаров, как в вики-сообществах. То есть клиенты предлагают свои правки и комментируют изменения других. Магазину нужен инструмент, который будет искать токсичные комментарии и отправлять их на модерацию. \n",
        "\n",
        "Обучите модель классифицировать комментарии на позитивные и негативные. В вашем распоряжении набор данных с разметкой о токсичности правок.\n",
        "\n",
        "Постройте модель со значением метрики качества *F1* не меньше 0.75. \n",
        "\n",
        "**Описание данных**\n",
        "\n",
        "Данные находятся в файле `toxic_comments.csv`. Столбец *text* в нём содержит текст комментария, а *toxic* — целевой признак."
      ]
    },
    {
      "cell_type": "code",
      "execution_count": null,
      "metadata": {
        "colab": {
          "base_uri": "https://localhost:8080/"
        },
        "id": "j9Cjb6Pqywx4",
        "outputId": "b6f0302e-86c6-478e-8773-eafec2683422"
      },
      "outputs": [
        {
          "name": "stdout",
          "output_type": "stream",
          "text": [
            "Looking in indexes: https://pypi.org/simple, https://us-python.pkg.dev/colab-wheels/public/simple/\n",
            "Collecting pytorch-transformers\n",
            "  Downloading pytorch_transformers-1.2.0-py3-none-any.whl (176 kB)\n",
            "\u001b[2K     \u001b[90m━━━━━━━━━━━━━━━━━━━━━━━━━━━━━━━━━━━━━━━\u001b[0m \u001b[32m176.4/176.4 KB\u001b[0m \u001b[31m4.3 MB/s\u001b[0m eta \u001b[36m0:00:00\u001b[0m\n",
            "\u001b[?25hRequirement already satisfied: tqdm in /usr/local/lib/python3.8/dist-packages (from pytorch-transformers) (4.64.1)\n",
            "Requirement already satisfied: numpy in /usr/local/lib/python3.8/dist-packages (from pytorch-transformers) (1.21.6)\n",
            "Requirement already satisfied: requests in /usr/local/lib/python3.8/dist-packages (from pytorch-transformers) (2.25.1)\n",
            "Collecting boto3\n",
            "  Downloading boto3-1.26.59-py3-none-any.whl (132 kB)\n",
            "\u001b[2K     \u001b[90m━━━━━━━━━━━━━━━━━━━━━━━━━━━━━━━━━━━━━━━\u001b[0m \u001b[32m132.7/132.7 KB\u001b[0m \u001b[31m1.2 MB/s\u001b[0m eta \u001b[36m0:00:00\u001b[0m\n",
            "\u001b[?25hRequirement already satisfied: torch>=1.0.0 in /usr/local/lib/python3.8/dist-packages (from pytorch-transformers) (1.13.1+cu116)\n",
            "Collecting sacremoses\n",
            "  Downloading sacremoses-0.0.53.tar.gz (880 kB)\n",
            "\u001b[2K     \u001b[90m━━━━━━━━━━━━━━━━━━━━━━━━━━━━━━━━━━━━━━\u001b[0m \u001b[32m880.6/880.6 KB\u001b[0m \u001b[31m30.1 MB/s\u001b[0m eta \u001b[36m0:00:00\u001b[0m\n",
            "\u001b[?25h  Preparing metadata (setup.py) ... \u001b[?25l\u001b[?25hdone\n",
            "Requirement already satisfied: regex in /usr/local/lib/python3.8/dist-packages (from pytorch-transformers) (2022.6.2)\n",
            "Collecting sentencepiece\n",
            "  Downloading sentencepiece-0.1.97-cp38-cp38-manylinux_2_17_x86_64.manylinux2014_x86_64.whl (1.3 MB)\n",
            "\u001b[2K     \u001b[90m━━━━━━━━━━━━━━━━━━━━━━━━━━━━━━━━━━━━━━━━\u001b[0m \u001b[32m1.3/1.3 MB\u001b[0m \u001b[31m27.9 MB/s\u001b[0m eta \u001b[36m0:00:00\u001b[0m\n",
            "\u001b[?25hRequirement already satisfied: typing-extensions in /usr/local/lib/python3.8/dist-packages (from torch>=1.0.0->pytorch-transformers) (4.4.0)\n",
            "Collecting jmespath<2.0.0,>=0.7.1\n",
            "  Downloading jmespath-1.0.1-py3-none-any.whl (20 kB)\n",
            "Collecting s3transfer<0.7.0,>=0.6.0\n",
            "  Downloading s3transfer-0.6.0-py3-none-any.whl (79 kB)\n",
            "\u001b[2K     \u001b[90m━━━━━━━━━━━━━━━━━━━━━━━━━━━━━━━━━━━━━━━━\u001b[0m \u001b[32m79.6/79.6 KB\u001b[0m \u001b[31m6.2 MB/s\u001b[0m eta \u001b[36m0:00:00\u001b[0m\n",
            "\u001b[?25hCollecting botocore<1.30.0,>=1.29.59\n",
            "  Downloading botocore-1.29.59-py3-none-any.whl (10.4 MB)\n",
            "\u001b[2K     \u001b[90m━━━━━━━━━━━━━━━━━━━━━━━━━━━━━━━━━━━━━━━━\u001b[0m \u001b[32m10.4/10.4 MB\u001b[0m \u001b[31m52.3 MB/s\u001b[0m eta \u001b[36m0:00:00\u001b[0m\n",
            "\u001b[?25hRequirement already satisfied: urllib3<1.27,>=1.21.1 in /usr/local/lib/python3.8/dist-packages (from requests->pytorch-transformers) (1.24.3)\n",
            "Requirement already satisfied: idna<3,>=2.5 in /usr/local/lib/python3.8/dist-packages (from requests->pytorch-transformers) (2.10)\n",
            "Requirement already satisfied: chardet<5,>=3.0.2 in /usr/local/lib/python3.8/dist-packages (from requests->pytorch-transformers) (4.0.0)\n",
            "Requirement already satisfied: certifi>=2017.4.17 in /usr/local/lib/python3.8/dist-packages (from requests->pytorch-transformers) (2022.12.7)\n",
            "Requirement already satisfied: six in /usr/local/lib/python3.8/dist-packages (from sacremoses->pytorch-transformers) (1.15.0)\n",
            "Requirement already satisfied: click in /usr/local/lib/python3.8/dist-packages (from sacremoses->pytorch-transformers) (7.1.2)\n",
            "Requirement already satisfied: joblib in /usr/local/lib/python3.8/dist-packages (from sacremoses->pytorch-transformers) (1.2.0)\n",
            "Collecting urllib3<1.27,>=1.21.1\n",
            "  Downloading urllib3-1.26.14-py2.py3-none-any.whl (140 kB)\n",
            "\u001b[2K     \u001b[90m━━━━━━━━━━━━━━━━━━━━━━━━━━━━━━━━━━━━━━\u001b[0m \u001b[32m140.6/140.6 KB\u001b[0m \u001b[31m11.4 MB/s\u001b[0m eta \u001b[36m0:00:00\u001b[0m\n",
            "\u001b[?25hRequirement already satisfied: python-dateutil<3.0.0,>=2.1 in /usr/local/lib/python3.8/dist-packages (from botocore<1.30.0,>=1.29.59->boto3->pytorch-transformers) (2.8.2)\n",
            "Building wheels for collected packages: sacremoses\n",
            "  Building wheel for sacremoses (setup.py) ... \u001b[?25l\u001b[?25hdone\n",
            "  Created wheel for sacremoses: filename=sacremoses-0.0.53-py3-none-any.whl size=895260 sha256=6438f5b2dc2ec69723977d5bfc9eb93cdaae24a6c70c3e76b6a72e9a21654f56\n",
            "  Stored in directory: /root/.cache/pip/wheels/82/ab/9b/c15899bf659ba74f623ac776e861cf2eb8608c1825ddec66a4\n",
            "Successfully built sacremoses\n",
            "Installing collected packages: sentencepiece, urllib3, sacremoses, jmespath, botocore, s3transfer, boto3, pytorch-transformers\n",
            "  Attempting uninstall: urllib3\n",
            "    Found existing installation: urllib3 1.24.3\n",
            "    Uninstalling urllib3-1.24.3:\n",
            "      Successfully uninstalled urllib3-1.24.3\n",
            "Successfully installed boto3-1.26.59 botocore-1.29.59 jmespath-1.0.1 pytorch-transformers-1.2.0 s3transfer-0.6.0 sacremoses-0.0.53 sentencepiece-0.1.97 urllib3-1.26.14\n",
            "Looking in indexes: https://pypi.org/simple, https://us-python.pkg.dev/colab-wheels/public/simple/\n",
            "Collecting catboost\n",
            "  Downloading catboost-1.1.1-cp38-none-manylinux1_x86_64.whl (76.6 MB)\n",
            "\u001b[2K     \u001b[90m━━━━━━━━━━━━━━━━━━━━━━━━━━━━━━━━━━━━━━━━\u001b[0m \u001b[32m76.6/76.6 MB\u001b[0m \u001b[31m9.5 MB/s\u001b[0m eta \u001b[36m0:00:00\u001b[0m\n",
            "\u001b[?25hRequirement already satisfied: pandas>=0.24.0 in /usr/local/lib/python3.8/dist-packages (from catboost) (1.3.5)\n",
            "Requirement already satisfied: scipy in /usr/local/lib/python3.8/dist-packages (from catboost) (1.7.3)\n",
            "Requirement already satisfied: plotly in /usr/local/lib/python3.8/dist-packages (from catboost) (5.5.0)\n",
            "Requirement already satisfied: six in /usr/local/lib/python3.8/dist-packages (from catboost) (1.15.0)\n",
            "Requirement already satisfied: graphviz in /usr/local/lib/python3.8/dist-packages (from catboost) (0.10.1)\n",
            "Requirement already satisfied: matplotlib in /usr/local/lib/python3.8/dist-packages (from catboost) (3.2.2)\n",
            "Requirement already satisfied: numpy>=1.16.0 in /usr/local/lib/python3.8/dist-packages (from catboost) (1.21.6)\n",
            "Requirement already satisfied: pytz>=2017.3 in /usr/local/lib/python3.8/dist-packages (from pandas>=0.24.0->catboost) (2022.7)\n",
            "Requirement already satisfied: python-dateutil>=2.7.3 in /usr/local/lib/python3.8/dist-packages (from pandas>=0.24.0->catboost) (2.8.2)\n",
            "Requirement already satisfied: kiwisolver>=1.0.1 in /usr/local/lib/python3.8/dist-packages (from matplotlib->catboost) (1.4.4)\n",
            "Requirement already satisfied: pyparsing!=2.0.4,!=2.1.2,!=2.1.6,>=2.0.1 in /usr/local/lib/python3.8/dist-packages (from matplotlib->catboost) (3.0.9)\n",
            "Requirement already satisfied: cycler>=0.10 in /usr/local/lib/python3.8/dist-packages (from matplotlib->catboost) (0.11.0)\n",
            "Requirement already satisfied: tenacity>=6.2.0 in /usr/local/lib/python3.8/dist-packages (from plotly->catboost) (8.1.0)\n",
            "Installing collected packages: catboost\n",
            "Successfully installed catboost-1.1.1\n"
          ]
        }
      ],
      "source": [
        "!pip install pytorch-transformers\n",
        "!pip install catboost"
      ]
    },
    {
      "cell_type": "code",
      "execution_count": null,
      "metadata": {
        "colab": {
          "base_uri": "https://localhost:8080/"
        },
        "id": "eclPZ34n_JmG",
        "outputId": "7ef6dc17-bf9e-470d-c501-4ea98677e71f"
      },
      "outputs": [
        {
          "name": "stderr",
          "output_type": "stream",
          "text": [
            "[nltk_data] Downloading package stopwords to /root/nltk_data...\n",
            "[nltk_data]   Unzipping corpora/stopwords.zip.\n",
            "[nltk_data] Downloading package wordnet to /root/nltk_data...\n",
            "[nltk_data] Downloading package omw-1.4 to /root/nltk_data...\n",
            "[nltk_data] Downloading package punkt to /root/nltk_data...\n",
            "[nltk_data]   Unzipping tokenizers/punkt.zip.\n",
            "[nltk_data] Downloading package averaged_perceptron_tagger to\n",
            "[nltk_data]     /root/nltk_data...\n",
            "[nltk_data]   Unzipping taggers/averaged_perceptron_tagger.zip.\n"
          ]
        }
      ],
      "source": [
        "import pandas as pd\n",
        "import numpy as np\n",
        "\n",
        "from sklearn.metrics import f1_score\n",
        "\n",
        "import warnings\n",
        "warnings.filterwarnings('ignore')\n",
        "\n",
        "from sklearn.model_selection import train_test_split\n",
        "from sklearn.tree import DecisionTreeClassifier\n",
        "from sklearn.linear_model import LogisticRegression\n",
        "\n",
        "from nltk.stem import WordNetLemmatizer\n",
        "from tqdm.notebook import tqdm\n",
        "\n",
        "import nltk\n",
        "from nltk.corpus import stopwords\n",
        "nltk.download(\"stopwords\") \n",
        "stop = set(stopwords.words('english'))\n",
        "stop\n",
        "nltk.download('wordnet')\n",
        "nltk.download('omw-1.4')\n",
        "nltk.download('punkt')\n",
        "nltk.download('averaged_perceptron_tagger')\n",
        "\n",
        "import matplotlib.pyplot as plt\n",
        "import seaborn as sns\n",
        "from nltk.corpus import wordnet\n",
        "from sklearn.model_selection import GridSearchCV, RandomizedSearchCV\n",
        "from sklearn.ensemble import RandomForestClassifier\n",
        "\n",
        "import time\n",
        "from sklearn.feature_extraction.text import CountVectorizer \n",
        "import nltk\n",
        "from nltk.corpus import stopwords as nltk_stopwords\n",
        "from sklearn.feature_extraction.text import TfidfVectorizer \n",
        "import re \n",
        "from sklearn.metrics import classification_report\n",
        "from sklearn.metrics import precision_recall_curve\n",
        "from sklearn.metrics import precision_score, recall_score"
      ]
    },
    {
      "cell_type": "markdown",
      "metadata": {
        "id": "0ULRY5Zo_JmH"
      },
      "source": [
        "\n",
        "# Подготовка"
      ]
    },
    {
      "cell_type": "code",
      "execution_count": null,
      "metadata": {
        "id": "EkEFv4nN_JmH"
      },
      "outputs": [],
      "source": [
        "try:\n",
        "    toxic = pd.read_csv('/datasets/toxic_comments.csv', index_col=0)\n",
        "except:\n",
        "    toxic = pd.read_csv('https://code.s3.yandex.net/datasets/toxic_comments.csv', index_col=0)"
      ]
    },
    {
      "cell_type": "code",
      "execution_count": null,
      "metadata": {
        "colab": {
          "base_uri": "https://localhost:8080/",
          "height": 432
        },
        "id": "V0Ggu1Sk4h9w",
        "outputId": "8658c046-4958-4e94-b897-cf26f6f80818"
      },
      "outputs": [
        {
          "name": "stdout",
          "output_type": "stream",
          "text": [
            "<class 'pandas.core.frame.DataFrame'>\n",
            "Int64Index: 159292 entries, 0 to 159450\n",
            "Data columns (total 2 columns):\n",
            " #   Column  Non-Null Count   Dtype \n",
            "---  ------  --------------   ----- \n",
            " 0   text    159292 non-null  object\n",
            " 1   toxic   159292 non-null  int64 \n",
            "dtypes: int64(1), object(1)\n",
            "memory usage: 3.6+ MB\n"
          ]
        },
        {
          "data": {
            "text/plain": [
              "None"
            ]
          },
          "metadata": {},
          "output_type": "display_data"
        },
        {
          "data": {
            "text/html": [
              "\n",
              "  <div id=\"df-8330d5a6-f04b-4f08-8e20-dccea8a187b1\">\n",
              "    <div class=\"colab-df-container\">\n",
              "      <div>\n",
              "<style scoped>\n",
              "    .dataframe tbody tr th:only-of-type {\n",
              "        vertical-align: middle;\n",
              "    }\n",
              "\n",
              "    .dataframe tbody tr th {\n",
              "        vertical-align: top;\n",
              "    }\n",
              "\n",
              "    .dataframe thead th {\n",
              "        text-align: right;\n",
              "    }\n",
              "</style>\n",
              "<table border=\"1\" class=\"dataframe\">\n",
              "  <thead>\n",
              "    <tr style=\"text-align: right;\">\n",
              "      <th></th>\n",
              "      <th>text</th>\n",
              "      <th>toxic</th>\n",
              "    </tr>\n",
              "  </thead>\n",
              "  <tbody>\n",
              "    <tr>\n",
              "      <th>0</th>\n",
              "      <td>Explanation\\nWhy the edits made under my usern...</td>\n",
              "      <td>0</td>\n",
              "    </tr>\n",
              "    <tr>\n",
              "      <th>1</th>\n",
              "      <td>D'aww! He matches this background colour I'm s...</td>\n",
              "      <td>0</td>\n",
              "    </tr>\n",
              "    <tr>\n",
              "      <th>2</th>\n",
              "      <td>Hey man, I'm really not trying to edit war. It...</td>\n",
              "      <td>0</td>\n",
              "    </tr>\n",
              "    <tr>\n",
              "      <th>3</th>\n",
              "      <td>\"\\nMore\\nI can't make any real suggestions on ...</td>\n",
              "      <td>0</td>\n",
              "    </tr>\n",
              "    <tr>\n",
              "      <th>4</th>\n",
              "      <td>You, sir, are my hero. Any chance you remember...</td>\n",
              "      <td>0</td>\n",
              "    </tr>\n",
              "  </tbody>\n",
              "</table>\n",
              "</div>\n",
              "      <button class=\"colab-df-convert\" onclick=\"convertToInteractive('df-8330d5a6-f04b-4f08-8e20-dccea8a187b1')\"\n",
              "              title=\"Convert this dataframe to an interactive table.\"\n",
              "              style=\"display:none;\">\n",
              "        \n",
              "  <svg xmlns=\"http://www.w3.org/2000/svg\" height=\"24px\"viewBox=\"0 0 24 24\"\n",
              "       width=\"24px\">\n",
              "    <path d=\"M0 0h24v24H0V0z\" fill=\"none\"/>\n",
              "    <path d=\"M18.56 5.44l.94 2.06.94-2.06 2.06-.94-2.06-.94-.94-2.06-.94 2.06-2.06.94zm-11 1L8.5 8.5l.94-2.06 2.06-.94-2.06-.94L8.5 2.5l-.94 2.06-2.06.94zm10 10l.94 2.06.94-2.06 2.06-.94-2.06-.94-.94-2.06-.94 2.06-2.06.94z\"/><path d=\"M17.41 7.96l-1.37-1.37c-.4-.4-.92-.59-1.43-.59-.52 0-1.04.2-1.43.59L10.3 9.45l-7.72 7.72c-.78.78-.78 2.05 0 2.83L4 21.41c.39.39.9.59 1.41.59.51 0 1.02-.2 1.41-.59l7.78-7.78 2.81-2.81c.8-.78.8-2.07 0-2.86zM5.41 20L4 18.59l7.72-7.72 1.47 1.35L5.41 20z\"/>\n",
              "  </svg>\n",
              "      </button>\n",
              "      \n",
              "  <style>\n",
              "    .colab-df-container {\n",
              "      display:flex;\n",
              "      flex-wrap:wrap;\n",
              "      gap: 12px;\n",
              "    }\n",
              "\n",
              "    .colab-df-convert {\n",
              "      background-color: #E8F0FE;\n",
              "      border: none;\n",
              "      border-radius: 50%;\n",
              "      cursor: pointer;\n",
              "      display: none;\n",
              "      fill: #1967D2;\n",
              "      height: 32px;\n",
              "      padding: 0 0 0 0;\n",
              "      width: 32px;\n",
              "    }\n",
              "\n",
              "    .colab-df-convert:hover {\n",
              "      background-color: #E2EBFA;\n",
              "      box-shadow: 0px 1px 2px rgba(60, 64, 67, 0.3), 0px 1px 3px 1px rgba(60, 64, 67, 0.15);\n",
              "      fill: #174EA6;\n",
              "    }\n",
              "\n",
              "    [theme=dark] .colab-df-convert {\n",
              "      background-color: #3B4455;\n",
              "      fill: #D2E3FC;\n",
              "    }\n",
              "\n",
              "    [theme=dark] .colab-df-convert:hover {\n",
              "      background-color: #434B5C;\n",
              "      box-shadow: 0px 1px 3px 1px rgba(0, 0, 0, 0.15);\n",
              "      filter: drop-shadow(0px 1px 2px rgba(0, 0, 0, 0.3));\n",
              "      fill: #FFFFFF;\n",
              "    }\n",
              "  </style>\n",
              "\n",
              "      <script>\n",
              "        const buttonEl =\n",
              "          document.querySelector('#df-8330d5a6-f04b-4f08-8e20-dccea8a187b1 button.colab-df-convert');\n",
              "        buttonEl.style.display =\n",
              "          google.colab.kernel.accessAllowed ? 'block' : 'none';\n",
              "\n",
              "        async function convertToInteractive(key) {\n",
              "          const element = document.querySelector('#df-8330d5a6-f04b-4f08-8e20-dccea8a187b1');\n",
              "          const dataTable =\n",
              "            await google.colab.kernel.invokeFunction('convertToInteractive',\n",
              "                                                     [key], {});\n",
              "          if (!dataTable) return;\n",
              "\n",
              "          const docLinkHtml = 'Like what you see? Visit the ' +\n",
              "            '<a target=\"_blank\" href=https://colab.research.google.com/notebooks/data_table.ipynb>data table notebook</a>'\n",
              "            + ' to learn more about interactive tables.';\n",
              "          element.innerHTML = '';\n",
              "          dataTable['output_type'] = 'display_data';\n",
              "          await google.colab.output.renderOutput(dataTable, element);\n",
              "          const docLink = document.createElement('div');\n",
              "          docLink.innerHTML = docLinkHtml;\n",
              "          element.appendChild(docLink);\n",
              "        }\n",
              "      </script>\n",
              "    </div>\n",
              "  </div>\n",
              "  "
            ],
            "text/plain": [
              "                                                text  toxic\n",
              "0  Explanation\\nWhy the edits made under my usern...      0\n",
              "1  D'aww! He matches this background colour I'm s...      0\n",
              "2  Hey man, I'm really not trying to edit war. It...      0\n",
              "3  \"\\nMore\\nI can't make any real suggestions on ...      0\n",
              "4  You, sir, are my hero. Any chance you remember...      0"
            ]
          },
          "metadata": {},
          "output_type": "display_data"
        },
        {
          "data": {
            "text/plain": [
              "text     0\n",
              "toxic    0\n",
              "dtype: int64"
            ]
          },
          "metadata": {},
          "output_type": "display_data"
        }
      ],
      "source": [
        "display(toxic.info())\n",
        "display(toxic.head())\n",
        "display(toxic.isnull().sum())"
      ]
    },
    {
      "cell_type": "code",
      "execution_count": null,
      "metadata": {
        "colab": {
          "base_uri": "https://localhost:8080/",
          "height": 279
        },
        "id": "0YI7LRx148vM",
        "outputId": "d9a848ca-2764-404f-9968-2c90ec1bc52b"
      },
      "outputs": [
        {
          "data": {
            "text/plain": [
              "<matplotlib.axes._subplots.AxesSubplot at 0x7ff3b1fa3430>"
            ]
          },
          "execution_count": 5,
          "metadata": {},
          "output_type": "execute_result"
        },
        {
          "data": {
            "image/png": "[encoded data removed]",
            "text/plain": [
              "<Figure size 432x288 with 1 Axes>"
            ]
          },
          "metadata": {
            "needs_background": "light"
          },
          "output_type": "display_data"
        }
      ],
      "source": [
        "toxic['toxic'].value_counts().plot(kind='bar')"
      ]
    },
    {
      "cell_type": "markdown",
      "metadata": {
        "id": "BF0ju8xe5CWs"
      },
      "source": [
        "* дубликатов и пропусков нет\n",
        "* 90% твитов не токсичны\n",
        "* классы несблансированы\n",
        "* нужно сделать леммизацию и токенизацию комментариев\n",
        "* привести текст к одному регистру \n",
        "*  upsampled увеличить выборку с положительным классом \n",
        "*  downsampled уменьшить выборку с отрицательным\n",
        "\n",
        "\n"
      ]
    },
    {
      "cell_type": "markdown",
      "metadata": {
        "id": "uMC_2TH1_JmJ"
      },
      "source": [
        "### Создадим корпус слов"
      ]
    },
    {
      "cell_type": "code",
      "execution_count": null,
      "metadata": {
        "id": "QhaOzeuM_JmK"
      },
      "outputs": [],
      "source": [
        "corpus = toxic['text'].values"
      ]
    },
    {
      "cell_type": "markdown",
      "metadata": {
        "id": "1TEdRr6a_JmL"
      },
      "source": [
        "### Леммизация и токенизация"
      ]
    },
    {
      "cell_type": "code",
      "execution_count": null,
      "metadata": {
        "id": "hTocH_3icMEJ"
      },
      "outputs": [],
      "source": [
        "corpus = list(toxic['text'])"
      ]
    },
    {
      "cell_type": "code",
      "execution_count": null,
      "metadata": {
        "id": "y9sGpsVyL-no"
      },
      "outputs": [],
      "source": [
        "def clear_text(text):\n",
        "    return \" \".join(re.sub(r'[^a-zA-Z]', ' ', text).split())"
      ]
    },
    {
      "cell_type": "code",
      "execution_count": null,
      "metadata": {
        "id": "zpDH3sKsa0Rh"
      },
      "outputs": [],
      "source": [
        "from nltk.corpus import wordnet\n",
        "def get_wordnet_pos(word):\n",
        "    tag = nltk.pos_tag([word])[0][1][0].upper()\n",
        "    tag_dict = {\"J\": wordnet.ADJ,\n",
        "                \"N\": wordnet.NOUN,\n",
        "                \"V\": wordnet.VERB,\n",
        "                \"R\": wordnet.ADV}\n",
        "    return tag_dict.get(tag, wordnet.NOUN)"
      ]
    },
    {
      "cell_type": "code",
      "execution_count": null,
      "metadata": {
        "colab": {
          "base_uri": "https://localhost:8080/"
        },
        "id": "fXxjn-AJZzOa",
        "outputId": "06868324-3aaa-4ce6-a88b-9178e6c0b828"
      },
      "outputs": [
        {
          "name": "stdout",
          "output_type": "stream",
          "text": [
            "['I', 'want', 'that', 'this', 'wonderful', 'project', 'will', 'be', 'accept']\n"
          ]
        }
      ],
      "source": [
        "test = 'I want that this wonderful project will be accept'\n",
        "print([WordNetLemmatizer().lemmatize(w, get_wordnet_pos(w)) for w in nltk.word_tokenize(test)])"
      ]
    },
    {
      "cell_type": "code",
      "execution_count": null,
      "metadata": {
        "colab": {
          "base_uri": "https://localhost:8080/",
          "height": 49,
          "referenced_widgets": [
            "3c59a5da696849999576d99fd2934613",
            "cf45af5a550a4d33a153043b99d69fcd",
            "60adb011d7a44a81903b9c5a68d3ee5a",
            "710a6632e81b4cab87dea84b4f06fdeb",
            "cdf5b033b02f44028eceb03bf67d127f",
            "750aab44ddd14b4380d20152d2386778",
            "d27e0219c5cc4e94a93287252ef3c607",
            "99fc7e12ad7342719bb498b452f219c8",
            "e18b5fc4fe554607a3e46068bbe893a2",
            "35d5df31e9124a57a114583834119364",
            "0c48bccb33334a5b87bf7fe5e21b939c"
          ]
        },
        "id": "kse0UbhJlYZt",
        "outputId": "a2c6d014-adfc-4c40-bb3c-a1f981e90847"
      },
      "outputs": [
        {
          "data": {
            "application/vnd.jupyter.widget-view+json": {
              "model_id": "3c59a5da696849999576d99fd2934613",
              "version_major": 2,
              "version_minor": 0
            },
            "text/plain": [
              "  0%|          | 0/159292 [00:00<?, ?it/s]"
            ]
          },
          "metadata": {},
          "output_type": "display_data"
        }
      ],
      "source": [
        "def lemmafunction(textc):\n",
        "    k = []\n",
        "    for i in nltk.word_tokenize(textc):\n",
        "        k.append(WordNetLemmatizer().lemmatize(i, get_wordnet_pos(i)))\n",
        "    return ' '.join(k) \n",
        "\n",
        "lemy=[]\n",
        "for i in tqdm(range(len(corpus))):\n",
        "    lemy.append(lemmafunction(clear_text(corpus[i])))"
      ]
    },
    {
      "cell_type": "code",
      "execution_count": null,
      "metadata": {
        "id": "-G5XCGv7mA7L"
      },
      "outputs": [],
      "source": [
        "toxic['lemm_text'] = pd.Series(lemy, index=toxic.index)"
      ]
    },
    {
      "cell_type": "code",
      "execution_count": null,
      "metadata": {
        "colab": {
          "base_uri": "https://localhost:8080/",
          "height": 424
        },
        "id": "tuSfx-B5mGe_",
        "outputId": "7b649f3b-f6d9-43fe-f4a3-3423bd32c593"
      },
      "outputs": [
        {
          "data": {
            "text/html": [
              "\n",
              "  <div id=\"df-4ea0afab-a3ac-4752-862d-fc49a1126dcf\">\n",
              "    <div class=\"colab-df-container\">\n",
              "      <div>\n",
              "<style scoped>\n",
              "    .dataframe tbody tr th:only-of-type {\n",
              "        vertical-align: middle;\n",
              "    }\n",
              "\n",
              "    .dataframe tbody tr th {\n",
              "        vertical-align: top;\n",
              "    }\n",
              "\n",
              "    .dataframe thead th {\n",
              "        text-align: right;\n",
              "    }\n",
              "</style>\n",
              "<table border=\"1\" class=\"dataframe\">\n",
              "  <thead>\n",
              "    <tr style=\"text-align: right;\">\n",
              "      <th></th>\n",
              "      <th>text</th>\n",
              "      <th>toxic</th>\n",
              "      <th>lemm_text</th>\n",
              "    </tr>\n",
              "  </thead>\n",
              "  <tbody>\n",
              "    <tr>\n",
              "      <th>0</th>\n",
              "      <td>Explanation\\nWhy the edits made under my usern...</td>\n",
              "      <td>0</td>\n",
              "      <td>Explanation Why the edits make under my userna...</td>\n",
              "    </tr>\n",
              "    <tr>\n",
              "      <th>1</th>\n",
              "      <td>D'aww! He matches this background colour I'm s...</td>\n",
              "      <td>0</td>\n",
              "      <td>D aww He match this background colour I m seem...</td>\n",
              "    </tr>\n",
              "    <tr>\n",
              "      <th>2</th>\n",
              "      <td>Hey man, I'm really not trying to edit war. It...</td>\n",
              "      <td>0</td>\n",
              "      <td>Hey man I m really not try to edit war It s ju...</td>\n",
              "    </tr>\n",
              "    <tr>\n",
              "      <th>3</th>\n",
              "      <td>\"\\nMore\\nI can't make any real suggestions on ...</td>\n",
              "      <td>0</td>\n",
              "      <td>More I can t make any real suggestion on impro...</td>\n",
              "    </tr>\n",
              "    <tr>\n",
              "      <th>4</th>\n",
              "      <td>You, sir, are my hero. Any chance you remember...</td>\n",
              "      <td>0</td>\n",
              "      <td>You sir be my hero Any chance you remember wha...</td>\n",
              "    </tr>\n",
              "    <tr>\n",
              "      <th>...</th>\n",
              "      <td>...</td>\n",
              "      <td>...</td>\n",
              "      <td>...</td>\n",
              "    </tr>\n",
              "    <tr>\n",
              "      <th>159446</th>\n",
              "      <td>\":::::And for the second time of asking, when ...</td>\n",
              "      <td>0</td>\n",
              "      <td>And for the second time of ask when your view ...</td>\n",
              "    </tr>\n",
              "    <tr>\n",
              "      <th>159447</th>\n",
              "      <td>You should be ashamed of yourself \\n\\nThat is ...</td>\n",
              "      <td>0</td>\n",
              "      <td>You should be ashamed of yourself That be a ho...</td>\n",
              "    </tr>\n",
              "    <tr>\n",
              "      <th>159448</th>\n",
              "      <td>Spitzer \\n\\nUmm, theres no actual article for ...</td>\n",
              "      <td>0</td>\n",
              "      <td>Spitzer Umm there no actual article for prosti...</td>\n",
              "    </tr>\n",
              "    <tr>\n",
              "      <th>159449</th>\n",
              "      <td>And it looks like it was actually you who put ...</td>\n",
              "      <td>0</td>\n",
              "      <td>And it look like it be actually you who put on...</td>\n",
              "    </tr>\n",
              "    <tr>\n",
              "      <th>159450</th>\n",
              "      <td>\"\\nAnd ... I really don't think you understand...</td>\n",
              "      <td>0</td>\n",
              "      <td>And I really don t think you understand I come...</td>\n",
              "    </tr>\n",
              "  </tbody>\n",
              "</table>\n",
              "<p>159292 rows × 3 columns</p>\n",
              "</div>\n",
              "      <button class=\"colab-df-convert\" onclick=\"convertToInteractive('df-4ea0afab-a3ac-4752-862d-fc49a1126dcf')\"\n",
              "              title=\"Convert this dataframe to an interactive table.\"\n",
              "              style=\"display:none;\">\n",
              "        \n",
              "  <svg xmlns=\"http://www.w3.org/2000/svg\" height=\"24px\"viewBox=\"0 0 24 24\"\n",
              "       width=\"24px\">\n",
              "    <path d=\"M0 0h24v24H0V0z\" fill=\"none\"/>\n",
              "    <path d=\"M18.56 5.44l.94 2.06.94-2.06 2.06-.94-2.06-.94-.94-2.06-.94 2.06-2.06.94zm-11 1L8.5 8.5l.94-2.06 2.06-.94-2.06-.94L8.5 2.5l-.94 2.06-2.06.94zm10 10l.94 2.06.94-2.06 2.06-.94-2.06-.94-.94-2.06-.94 2.06-2.06.94z\"/><path d=\"M17.41 7.96l-1.37-1.37c-.4-.4-.92-.59-1.43-.59-.52 0-1.04.2-1.43.59L10.3 9.45l-7.72 7.72c-.78.78-.78 2.05 0 2.83L4 21.41c.39.39.9.59 1.41.59.51 0 1.02-.2 1.41-.59l7.78-7.78 2.81-2.81c.8-.78.8-2.07 0-2.86zM5.41 20L4 18.59l7.72-7.72 1.47 1.35L5.41 20z\"/>\n",
              "  </svg>\n",
              "      </button>\n",
              "      \n",
              "  <style>\n",
              "    .colab-df-container {\n",
              "      display:flex;\n",
              "      flex-wrap:wrap;\n",
              "      gap: 12px;\n",
              "    }\n",
              "\n",
              "    .colab-df-convert {\n",
              "      background-color: #E8F0FE;\n",
              "      border: none;\n",
              "      border-radius: 50%;\n",
              "      cursor: pointer;\n",
              "      display: none;\n",
              "      fill: #1967D2;\n",
              "      height: 32px;\n",
              "      padding: 0 0 0 0;\n",
              "      width: 32px;\n",
              "    }\n",
              "\n",
              "    .colab-df-convert:hover {\n",
              "      background-color: #E2EBFA;\n",
              "      box-shadow: 0px 1px 2px rgba(60, 64, 67, 0.3), 0px 1px 3px 1px rgba(60, 64, 67, 0.15);\n",
              "      fill: #174EA6;\n",
              "    }\n",
              "\n",
              "    [theme=dark] .colab-df-convert {\n",
              "      background-color: #3B4455;\n",
              "      fill: #D2E3FC;\n",
              "    }\n",
              "\n",
              "    [theme=dark] .colab-df-convert:hover {\n",
              "      background-color: #434B5C;\n",
              "      box-shadow: 0px 1px 3px 1px rgba(0, 0, 0, 0.15);\n",
              "      filter: drop-shadow(0px 1px 2px rgba(0, 0, 0, 0.3));\n",
              "      fill: #FFFFFF;\n",
              "    }\n",
              "  </style>\n",
              "\n",
              "      <script>\n",
              "        const buttonEl =\n",
              "          document.querySelector('#df-4ea0afab-a3ac-4752-862d-fc49a1126dcf button.colab-df-convert');\n",
              "        buttonEl.style.display =\n",
              "          google.colab.kernel.accessAllowed ? 'block' : 'none';\n",
              "\n",
              "        async function convertToInteractive(key) {\n",
              "          const element = document.querySelector('#df-4ea0afab-a3ac-4752-862d-fc49a1126dcf');\n",
              "          const dataTable =\n",
              "            await google.colab.kernel.invokeFunction('convertToInteractive',\n",
              "                                                     [key], {});\n",
              "          if (!dataTable) return;\n",
              "\n",
              "          const docLinkHtml = 'Like what you see? Visit the ' +\n",
              "            '<a target=\"_blank\" href=https://colab.research.google.com/notebooks/data_table.ipynb>data table notebook</a>'\n",
              "            + ' to learn more about interactive tables.';\n",
              "          element.innerHTML = '';\n",
              "          dataTable['output_type'] = 'display_data';\n",
              "          await google.colab.output.renderOutput(dataTable, element);\n",
              "          const docLink = document.createElement('div');\n",
              "          docLink.innerHTML = docLinkHtml;\n",
              "          element.appendChild(docLink);\n",
              "        }\n",
              "      </script>\n",
              "    </div>\n",
              "  </div>\n",
              "  "
            ],
            "text/plain": [
              "                                                     text  toxic  \\\n",
              "0       Explanation\\nWhy the edits made under my usern...      0   \n",
              "1       D'aww! He matches this background colour I'm s...      0   \n",
              "2       Hey man, I'm really not trying to edit war. It...      0   \n",
              "3       \"\\nMore\\nI can't make any real suggestions on ...      0   \n",
              "4       You, sir, are my hero. Any chance you remember...      0   \n",
              "...                                                   ...    ...   \n",
              "159446  \":::::And for the second time of asking, when ...      0   \n",
              "159447  You should be ashamed of yourself \\n\\nThat is ...      0   \n",
              "159448  Spitzer \\n\\nUmm, theres no actual article for ...      0   \n",
              "159449  And it looks like it was actually you who put ...      0   \n",
              "159450  \"\\nAnd ... I really don't think you understand...      0   \n",
              "\n",
              "                                                lemm_text  \n",
              "0       Explanation Why the edits make under my userna...  \n",
              "1       D aww He match this background colour I m seem...  \n",
              "2       Hey man I m really not try to edit war It s ju...  \n",
              "3       More I can t make any real suggestion on impro...  \n",
              "4       You sir be my hero Any chance you remember wha...  \n",
              "...                                                   ...  \n",
              "159446  And for the second time of ask when your view ...  \n",
              "159447  You should be ashamed of yourself That be a ho...  \n",
              "159448  Spitzer Umm there no actual article for prosti...  \n",
              "159449  And it look like it be actually you who put on...  \n",
              "159450  And I really don t think you understand I come...  \n",
              "\n",
              "[159292 rows x 3 columns]"
            ]
          },
          "execution_count": 12,
          "metadata": {},
          "output_type": "execute_result"
        }
      ],
      "source": [
        "toxic"
      ]
    },
    {
      "cell_type": "markdown",
      "metadata": {
        "id": "HCbWBSogL-np"
      },
      "source": [
        "# Обучение "
      ]
    },
    {
      "cell_type": "markdown",
      "metadata": {
        "id": "wU_7wHl8_JmN"
      },
      "source": [
        "\n",
        "## Разделим данные"
      ]
    },
    {
      "cell_type": "code",
      "execution_count": null,
      "metadata": {
        "id": "eLAYXFBP_JmO"
      },
      "outputs": [],
      "source": [
        "X = toxic.drop('toxic', axis=1)\n",
        "y = toxic['toxic']"
      ]
    },
    {
      "cell_type": "code",
      "execution_count": null,
      "metadata": {
        "colab": {
          "base_uri": "https://localhost:8080/"
        },
        "id": "279FXSyN_JmO",
        "outputId": "9d144a74-10bc-4dd2-9159-1bba3e276aaa"
      },
      "outputs": [
        {
          "name": "stdout",
          "output_type": "stream",
          "text": [
            "тренировочная выборка- 70%\n",
            "тестовая выборка - 30%\n"
          ]
        }
      ],
      "source": [
        "X_train, X_test, y_train, y_test = train_test_split(X, y, test_size=0.3, random_state=42, shuffle=True,stratify=y)\n",
        "print('тренировочная выборка- {:.0%}'.format(X_train.shape[0]/X.shape[0]))\n",
        "print('тестовая выборка - {:.0%}'.format(X_test.shape[0]/X.shape[0]))"
      ]
    },
    {
      "cell_type": "markdown",
      "metadata": {
        "id": "6muqz3lh_JmP"
      },
      "source": [
        "### Создадим функцию, для увеличения выборки по 1 классу данных и уменьшению выборки по нулевому [0]0"
      ]
    },
    {
      "cell_type": "code",
      "execution_count": null,
      "metadata": {
        "id": "R5_CXHHU2L4N"
      },
      "outputs": [],
      "source": [
        "def down_up_sample(features, target, fraction, repeat):\n",
        "    features_zeros = features[target == 0]\n",
        "    features_ones = features[target == 1]\n",
        "    target_zeros = target[target == 0]\n",
        "    target_ones = target[target == 1]\n",
        "\n",
        "    features_down_up = pd.concat([features_zeros.sample(frac=fraction, random_state=12345)] + [features_ones]*repeat)\n",
        "    target_down_up = pd.concat([target_zeros.sample(frac=fraction, random_state=12345)] + [target_ones]*repeat)\n",
        "    \n",
        "    features_down_up_sampled, target_down_up_sampled = shuffle(\n",
        "        features_down_up, target_down_up, random_state=12345)\n",
        "    \n",
        "    return features_down_up_sampled, target_down_up_sampled\n",
        "\n",
        "features_upsampled, target_upsampled  = down_up_sample(X_train, y_train, 0.6, 5)"
      ]
    },
    {
      "cell_type": "code",
      "execution_count": null,
      "metadata": {
        "colab": {
          "base_uri": "https://localhost:8080/",
          "height": 331
        },
        "id": "xq-XPKPUhWRj",
        "outputId": "6dda153c-ed73-4ed2-ca2c-8a389fe43c3f"
      },
      "outputs": [
        {
          "name": "stdout",
          "output_type": "stream",
          "text": [
            "0    60104\n",
            "1    56650\n",
            "Name: toxic, dtype: int64\n"
          ]
        },
        {
          "data": {
            "text/plain": [
              "<matplotlib.axes._subplots.AxesSubplot at 0x7faf85cf3e50>"
            ]
          },
          "metadata": {},
          "output_type": "display_data"
        },
        {
          "data": {
            "image/png": "[encoded data removed]",
            "text/plain": [
              "<Figure size 432x288 with 1 Axes>"
            ]
          },
          "metadata": {
            "needs_background": "light"
          },
          "output_type": "display_data"
        }
      ],
      "source": [
        "print(target_upsampled.value_counts())\n",
        "display(target_upsampled.value_counts().plot(kind='bar'))"
      ]
    },
    {
      "cell_type": "markdown",
      "metadata": {
        "id": "eno360A0_JmS"
      },
      "source": [
        "\n",
        "### TF-IDF для обработки данныx"
      ]
    },
    {
      "cell_type": "code",
      "execution_count": null,
      "metadata": {
        "colab": {
          "base_uri": "https://localhost:8080/"
        },
        "id": "F5LX6imFL-nr",
        "outputId": "5fa0388e-2edf-4fab-97af-ee72e436b37f"
      },
      "outputs": [
        {
          "name": "stderr",
          "output_type": "stream",
          "text": [
            "[nltk_data] Downloading package stopwords to /root/nltk_data...\n",
            "[nltk_data]   Package stopwords is already up-to-date!\n"
          ]
        }
      ],
      "source": [
        "nltk.download('stopwords') \n",
        "stop_words = set(nltk_stopwords.words('english')) "
      ]
    },
    {
      "cell_type": "code",
      "execution_count": null,
      "metadata": {
        "id": "-FkR8lqbsX-a"
      },
      "outputs": [],
      "source": [
        "corpus_lemm_train = features_upsampled['lemm_text'].values\n",
        "corpus_lemm_test = X_test['lemm_text'].values"
      ]
    },
    {
      "cell_type": "code",
      "execution_count": null,
      "metadata": {
        "id": "rUV7CMuTsrcU"
      },
      "outputs": [],
      "source": [
        "count_tf_idf = TfidfVectorizer(stop_words=stop_words,analyzer='word') \n",
        "tf_idf = count_tf_idf.fit_transform(corpus_lemm_train) \n",
        "tf_test = count_tf_idf.transform(corpus_lemm_test)"
      ]
    },
    {
      "cell_type": "markdown",
      "metadata": {
        "id": "GZKuwIZm_JmV"
      },
      "source": [
        "### DecisionTreeClassifier"
      ]
    },
    {
      "cell_type": "code",
      "execution_count": null,
      "metadata": {
        "colab": {
          "base_uri": "https://localhost:8080/"
        },
        "id": "PBukvIOuFCW5",
        "outputId": "28f1d994-df34-4185-ceeb-e25620b6945f"
      },
      "outputs": [
        {
          "name": "stdout",
          "output_type": "stream",
          "text": [
            "DecisionTreeClassifier(max_depth=9, min_samples_leaf=10, random_state=12345)\n",
            "0.5905621718387974\n",
            "{'min_samples_leaf': 10, 'max_depth': 9}\n",
            "CPU times: user 14min, sys: 755 ms, total: 14min 1s\n",
            "Wall time: 14min 1s\n"
          ]
        }
      ],
      "source": [
        "%%time\n",
        "gs_params = {\n",
        "    'max_depth': range(1, 11),\n",
        "    'min_samples_leaf':range(1,11)}\n",
        "\n",
        "gs_tree = RandomizedSearchCV(DecisionTreeClassifier(random_state=12345),gs_params,scoring='f1',cv=5, n_iter=20)\n",
        "gs_tree.fit(tf_idf,target_upsampled)\n",
        "\n",
        "\n",
        "print(gs_tree.best_estimator_)\n",
        "print(gs_tree.best_score_)\n",
        "print(gs_tree.best_params_)"
      ]
    },
    {
      "cell_type": "markdown",
      "metadata": {
        "id": "kuMxB-CrF1Sb"
      },
      "source": [
        "### LogisticRegression"
      ]
    },
    {
      "cell_type": "code",
      "execution_count": null,
      "metadata": {
        "colab": {
          "base_uri": "https://localhost:8080/"
        },
        "id": "x__Enpin-e9Q",
        "outputId": "cf2e3bb0-40bc-4084-be7d-59454883f5bf"
      },
      "outputs": [
        {
          "name": "stdout",
          "output_type": "stream",
          "text": [
            "LogisticRegression(C=1.5, intercept_scaling=1.5, random_state=12345,\n",
            "                   solver='saga')\n",
            "0.9518866077940664\n",
            "{'solver': 'saga', 'intercept_scaling': 1.5, 'C': 1.5}\n",
            "CPU times: user 3min 35s, sys: 1min 35s, total: 5min 10s\n",
            "Wall time: 3min 25s\n"
          ]
        }
      ],
      "source": [
        "%%time\n",
        "gs_params = {\n",
        "    'solver': ['liblinear', 'sag','saga','newton-cg'],\n",
        "    'C': [0.5,1.0,1.5],\n",
        "    'intercept_scaling':[0.5,1.0,1.5]}\n",
        "gs_logistic = RandomizedSearchCV(LogisticRegression(random_state=12345),gs_params,scoring='f1', cv=5, n_iter=20)\n",
        "gs_logistic.fit(tf_idf,target_upsampled)\n",
        "\n",
        "print(gs_logistic.best_estimator_)\n",
        "print(gs_logistic.best_score_)\n",
        "print(gs_logistic.best_params_)"
      ]
    },
    {
      "cell_type": "markdown",
      "metadata": {
        "id": "JnklfTl-_JmY"
      },
      "source": [
        "\n",
        "### RandomForestClassifier"
      ]
    },
    {
      "cell_type": "code",
      "execution_count": null,
      "metadata": {
        "colab": {
          "base_uri": "https://localhost:8080/"
        },
        "id": "cB1n66MgHT9V",
        "outputId": "4b7358b4-5df8-46e2-d93f-1160835e1b9c"
      },
      "outputs": [
        {
          "name": "stdout",
          "output_type": "stream",
          "text": [
            "CPU times: user 43min 19s, sys: 2.98 s, total: 43min 22s\n",
            "Wall time: 43min 33s\n"
          ]
        },
        {
          "data": {
            "text/plain": [
              "RandomizedSearchCV(cv=5, estimator=RandomForestClassifier(random_state=12345),\n",
              "                   n_iter=20,\n",
              "                   param_distributions={'max_depth': range(1, 26),\n",
              "                                        'min_samples_leaf': range(1, 11)},\n",
              "                   scoring='f1')"
            ]
          },
          "execution_count": 55,
          "metadata": {},
          "output_type": "execute_result"
        }
      ],
      "source": [
        "%%time\n",
        "\n",
        "rs_params = {\n",
        "    'max_depth': range(1, 30),\n",
        "    'min_samples_leaf':range(1,11)}\n",
        "\n",
        "tree_balanced_rs = RandomizedSearchCV(RandomForestClassifier(random_state=12345),rs_params,scoring='f1',cv=5, n_iter=20)\n",
        "tree_balanced_rs.fit(tf_idf,target_upsampled)\n"
      ]
    },
    {
      "cell_type": "code",
      "execution_count": null,
      "metadata": {
        "colab": {
          "base_uri": "https://localhost:8080/"
        },
        "id": "gDHU_Bc3ON95",
        "outputId": "786b0903-9b6c-48ea-ff67-b9e464cfd078"
      },
      "outputs": [
        {
          "name": "stdout",
          "output_type": "stream",
          "text": [
            "RandomForestClassifier(max_depth=24, min_samples_leaf=3, random_state=12345)\n",
            " \n",
            "0.838884928933264\n",
            " \n",
            "{'min_samples_leaf': 3, 'max_depth': 24}\n"
          ]
        }
      ],
      "source": [
        "print(tree_balanced_rs.best_estimator_)\n",
        "print(tree_balanced_rs.best_score_)\n",
        "print(tree_balanced_rs.best_params_)"
      ]
    },
    {
      "cell_type": "markdown",
      "metadata": {
        "id": "8Ahiah9bInbz"
      },
      "source": [
        "# Тестирование модели "
      ]
    },
    {
      "cell_type": "code",
      "execution_count": null,
      "metadata": {
        "colab": {
          "base_uri": "https://localhost:8080/"
        },
        "id": "Qrh3_mfcIyDR",
        "outputId": "d859674f-34f7-4737-eff6-7090e69c10ae"
      },
      "outputs": [
        {
          "name": "stdout",
          "output_type": "stream",
          "text": [
            "0.7408350768670973\n",
            "CPU times: user 4min 11s, sys: 2min 23s, total: 6min 34s\n",
            "Wall time: 3min 58s\n"
          ]
        }
      ],
      "source": [
        "%%time\n",
        "gs_params = {\n",
        "    'solver': ['liblinear', 'sag','saga','newton-cg'],\n",
        "    'C': [0.5,1.0,1.5],\n",
        "    'intercept_scaling':[0.5,1.0,1.5]\n",
        "}\n",
        "gs_logistic = RandomizedSearchCV(LogisticRegression(random_state=12345),gs_params,scoring='f1', cv=5, n_iter=20)\n",
        "gs_logistic.fit(tf_idf,target_upsampled)\n",
        "predicted_lr = gs_logistic.predict(tf_test)\n",
        "f1_log_r_1 = f1_score(y_test, predicted_lr)\n",
        "print(f1_log_r_1)"
      ]
    },
    {
      "cell_type": "code",
      "execution_count": null,
      "metadata": {
        "colab": {
          "base_uri": "https://localhost:8080/"
        },
        "id": "09rf_G33aeS4",
        "outputId": "7f905cc1-b3b8-49d5-da59-6374eba1d811"
      },
      "outputs": [
        {
          "name": "stdout",
          "output_type": "stream",
          "text": [
            "Вероятность положительного класса: [0.05779784 0.02854877 0.00848526 0.9512111  0.16074299]\n"
          ]
        }
      ],
      "source": [
        "probabilities=gs_logistic.predict_proba(tf_test)\n",
        "probabilities_one = probabilities[:, 1]\n",
        "print(\"Вероятность положительного класса:\",probabilities_one[:5])"
      ]
    },
    {
      "cell_type": "code",
      "execution_count": null,
      "metadata": {
        "colab": {
          "base_uri": "https://localhost:8080/"
        },
        "id": "VLJKhNgNayL4",
        "outputId": "9d29c212-1c70-46b6-d651-e822b96c22f4"
      },
      "outputs": [
        {
          "name": "stdout",
          "output_type": "stream",
          "text": [
            "F1 = 0.400\n",
            "F1 = 0.420\n",
            "F1 = 0.440\n",
            "F1 = 0.460\n",
            "F1 = 0.480\n",
            "F1 = 0.500\n",
            "F1 = 0.520\n",
            "F1 = 0.540\n",
            "F1 = 0.560\n",
            "F1 = 0.580\n",
            "F1 = 0.600\n",
            "F1 = 0.620\n",
            "F1 = 0.640\n",
            "F1 = 0.660\n",
            "F1 = 0.680\n",
            "F1 = 0.700\n",
            "F1 = 0.720\n",
            "F1 = 0.740\n",
            "F1 = 0.760\n",
            "F1 = 0.780\n",
            "F1 = 0.800\n",
            "F1 = 0.820\n",
            "F1 = 0.840\n",
            "F1 = 0.860\n",
            "F1 = 0.880\n"
          ]
        }
      ],
      "source": [
        "for threshold in np.arange(0.4, 0.9, 0.02):\n",
        "    predicted_v = probabilities_one > threshold\n",
        "    f1 = f1_score(y_test,predicted_v)\n",
        "    print(\"F1 = {:.3f}\".format(threshold, f1))"
      ]
    },
    {
      "cell_type": "code",
      "execution_count": null,
      "metadata": {
        "colab": {
          "base_uri": "https://localhost:8080/"
        },
        "id": "hfY9y8nLbDfc",
        "outputId": "b66294d7-d061-44d3-e649-25018bc5c5d0"
      },
      "outputs": [
        {
          "name": "stdout",
          "output_type": "stream",
          "text": [
            "              precision    recall  f1-score   support\n",
            "\n",
            "           0       0.97      0.98      0.98     42932\n",
            "           1       0.84      0.71      0.77      4856\n",
            "\n",
            "    accuracy                           0.96     47788\n",
            "   macro avg       0.90      0.85      0.87     47788\n",
            "weighted avg       0.95      0.96      0.95     47788\n",
            "\n"
          ]
        }
      ],
      "source": [
        "predicted_rf_threshold=(probabilities_one>0.76)*1\n",
        "print(classification_report(y_test,predicted_rf_threshold))"
      ]
    },
    {
      "cell_type": "code",
      "execution_count": null,
      "metadata": {
        "colab": {
          "base_uri": "https://localhost:8080/"
        },
        "id": "HQwcIgb4bXhN",
        "outputId": "0f54319d-bdc4-478d-d573-1f6a48460678"
      },
      "outputs": [
        {
          "name": "stdout",
          "output_type": "stream",
          "text": [
            "F1:  0.7674626199509039\n"
          ]
        }
      ],
      "source": [
        "predicted_test=(gs_logistic.predict_proba(tf_test)[:,1] > 0.76)*1\n",
        "f1_log_r_1 = f1_score(y_test, predicted_test)\n",
        "print('F1: ',f1_log_r_1)"
      ]
    },
    {
      "cell_type": "markdown",
      "metadata": {
        "id": "SY7kO8TK_Jme"
      },
      "source": [
        "LogisticRegression показала наилучший результат при обучении, это подтверждает значение метрики $F1 > 0.75$ \n"
      ]
    },
    {
      "cell_type": "markdown",
      "metadata": {
        "id": "GPLWsQGl_Jme"
      },
      "source": [
        "\n",
        "# Вывод"
      ]
    },
    {
      "cell_type": "markdown",
      "metadata": {
        "id": "zgfi42Ym_Jme"
      },
      "source": [
        "* дубликатов и пропусков нет\n",
        "* 90% твитов не токсичны\n",
        "* сделана леммизация и токенизация комментариев\n",
        "* классы были изначально несбалансированны, с помощью `upsample` и `downsamle` удалось это изменить, так как дисбаланс влияет на качество предсказанных моделей\n",
        "* текст приведен к одному регистру \n",
        "* Обучено три модели DecisionTreeClassifier ,  LogisticRegression и RandomForestClassifier\n",
        "* По результатам было выявлено:  f1  в LogisticRegression = 0.767"
      ]
    }
  ],
  "metadata": {
    "ExecuteTimeLog": [
      {
        "duration": 10281,
        "start_time": "2023-01-30T07:30:46.575Z"
      },
      {
        "duration": 2190,
        "start_time": "2023-01-30T07:30:56.858Z"
      },
      {
        "duration": 54445,
        "start_time": "2023-01-30T07:31:14.099Z"
      },
      {
        "duration": 3518,
        "start_time": "2023-01-30T07:32:08.546Z"
      },
      {
        "duration": 66,
        "start_time": "2023-01-30T07:32:12.066Z"
      },
      {
        "duration": 154,
        "start_time": "2023-01-30T07:32:12.141Z"
      },
      {
        "duration": 955,
        "start_time": "2023-01-30T07:34:45.959Z"
      },
      {
        "duration": 77,
        "start_time": "2023-01-30T07:34:46.917Z"
      },
      {
        "duration": 132,
        "start_time": "2023-01-30T07:34:49.702Z"
      },
      {
        "duration": 31,
        "start_time": "2023-01-30T07:34:56.304Z"
      },
      {
        "duration": 82,
        "start_time": "2023-01-30T07:36:09.112Z"
      },
      {
        "duration": 3,
        "start_time": "2023-01-30T07:36:17.358Z"
      },
      {
        "duration": 5,
        "start_time": "2023-01-30T07:36:17.754Z"
      },
      {
        "duration": 1562,
        "start_time": "2023-01-30T07:36:17.960Z"
      },
      {
        "duration": 263,
        "start_time": "2023-01-30T07:39:36.221Z"
      },
      {
        "duration": 116,
        "start_time": "2023-01-30T07:41:22.156Z"
      },
      {
        "duration": 4405,
        "start_time": "2023-01-30T08:05:57.942Z"
      },
      {
        "duration": 5,
        "start_time": "2023-01-30T08:06:54.218Z"
      },
      {
        "duration": 5,
        "start_time": "2023-01-30T08:07:50.004Z"
      },
      {
        "duration": 4495,
        "start_time": "2023-01-30T08:15:56.538Z"
      },
      {
        "duration": 4,
        "start_time": "2023-01-30T08:16:04.784Z"
      },
      {
        "duration": 161,
        "start_time": "2023-01-30T08:17:14.921Z"
      },
      {
        "duration": 5,
        "start_time": "2023-01-30T08:17:25.736Z"
      },
      {
        "duration": 10,
        "start_time": "2023-01-30T08:17:28.228Z"
      },
      {
        "duration": 5,
        "start_time": "2023-01-30T08:18:04.767Z"
      },
      {
        "duration": 1295,
        "start_time": "2023-01-30T08:19:00.992Z"
      },
      {
        "duration": 4328,
        "start_time": "2023-01-30T08:19:09.205Z"
      },
      {
        "duration": 7,
        "start_time": "2023-01-30T08:19:13.536Z"
      },
      {
        "duration": 1291,
        "start_time": "2023-01-30T08:19:17.946Z"
      },
      {
        "duration": 4,
        "start_time": "2023-01-30T08:19:31.097Z"
      },
      {
        "duration": 1247,
        "start_time": "2023-01-30T08:19:41.972Z"
      },
      {
        "duration": 4,
        "start_time": "2023-01-30T08:20:55.439Z"
      },
      {
        "duration": 4,
        "start_time": "2023-01-30T08:20:56.220Z"
      },
      {
        "duration": 4854,
        "start_time": "2023-01-30T08:28:18.010Z"
      },
      {
        "duration": 2039,
        "start_time": "2023-01-30T08:28:22.867Z"
      },
      {
        "duration": 921,
        "start_time": "2023-01-30T08:28:24.908Z"
      },
      {
        "duration": 87,
        "start_time": "2023-01-30T08:28:25.832Z"
      },
      {
        "duration": 160,
        "start_time": "2023-01-30T08:28:25.920Z"
      },
      {
        "duration": 32,
        "start_time": "2023-01-30T08:28:26.082Z"
      },
      {
        "duration": 14,
        "start_time": "2023-01-30T08:28:26.116Z"
      },
      {
        "duration": 13,
        "start_time": "2023-01-30T08:28:26.141Z"
      },
      {
        "duration": 1506,
        "start_time": "2023-01-30T08:28:26.157Z"
      },
      {
        "duration": 1310843,
        "start_time": "2023-01-30T08:28:27.666Z"
      },
      {
        "duration": 163,
        "start_time": "2023-01-30T08:50:18.511Z"
      },
      {
        "duration": 0,
        "start_time": "2023-01-30T08:50:18.676Z"
      },
      {
        "duration": 0,
        "start_time": "2023-01-30T08:50:18.677Z"
      },
      {
        "duration": 0,
        "start_time": "2023-01-30T08:50:18.679Z"
      },
      {
        "duration": 0,
        "start_time": "2023-01-30T08:50:18.680Z"
      },
      {
        "duration": 0,
        "start_time": "2023-01-30T08:50:18.682Z"
      },
      {
        "duration": 0,
        "start_time": "2023-01-30T08:50:18.684Z"
      },
      {
        "duration": 0,
        "start_time": "2023-01-30T08:50:18.685Z"
      },
      {
        "duration": 0,
        "start_time": "2023-01-30T08:50:18.687Z"
      },
      {
        "duration": 0,
        "start_time": "2023-01-30T08:50:18.688Z"
      },
      {
        "duration": 0,
        "start_time": "2023-01-30T08:50:18.689Z"
      },
      {
        "duration": 0,
        "start_time": "2023-01-30T08:50:18.691Z"
      },
      {
        "duration": 0,
        "start_time": "2023-01-30T08:50:18.692Z"
      },
      {
        "duration": 0,
        "start_time": "2023-01-30T08:50:18.694Z"
      },
      {
        "duration": 0,
        "start_time": "2023-01-30T08:50:18.696Z"
      },
      {
        "duration": 0,
        "start_time": "2023-01-30T08:50:18.697Z"
      },
      {
        "duration": 0,
        "start_time": "2023-01-30T08:50:18.698Z"
      },
      {
        "duration": 0,
        "start_time": "2023-01-30T08:50:18.700Z"
      },
      {
        "duration": 0,
        "start_time": "2023-01-30T08:50:18.741Z"
      },
      {
        "duration": 0,
        "start_time": "2023-01-30T08:50:18.742Z"
      },
      {
        "duration": 0,
        "start_time": "2023-01-30T08:50:18.743Z"
      },
      {
        "duration": 0,
        "start_time": "2023-01-30T08:50:18.744Z"
      },
      {
        "duration": 0,
        "start_time": "2023-01-30T08:50:18.745Z"
      },
      {
        "duration": 50,
        "start_time": "2023-01-30T08:54:03.125Z"
      },
      {
        "duration": 12,
        "start_time": "2023-01-30T08:54:13.823Z"
      },
      {
        "duration": 38,
        "start_time": "2023-01-30T09:02:44.293Z"
      },
      {
        "duration": 73,
        "start_time": "2023-01-30T09:02:44.641Z"
      },
      {
        "duration": 4,
        "start_time": "2023-01-30T09:03:02.177Z"
      },
      {
        "duration": 83,
        "start_time": "2023-01-30T09:03:09.165Z"
      },
      {
        "duration": 117,
        "start_time": "2023-01-30T09:03:12.139Z"
      },
      {
        "duration": 106,
        "start_time": "2023-01-30T09:03:37.391Z"
      },
      {
        "duration": 103,
        "start_time": "2023-01-30T09:06:52.811Z"
      },
      {
        "duration": 5,
        "start_time": "2023-01-30T09:16:51.388Z"
      },
      {
        "duration": 117,
        "start_time": "2023-01-30T09:16:56.512Z"
      },
      {
        "duration": 5,
        "start_time": "2023-01-30T09:17:14.095Z"
      },
      {
        "duration": 105,
        "start_time": "2023-01-30T09:17:17.364Z"
      },
      {
        "duration": 14,
        "start_time": "2023-01-30T09:17:29.538Z"
      },
      {
        "duration": 261,
        "start_time": "2023-01-30T09:17:36.280Z"
      },
      {
        "duration": 6,
        "start_time": "2023-01-30T09:20:18.126Z"
      },
      {
        "duration": 10,
        "start_time": "2023-01-30T09:20:21.390Z"
      },
      {
        "duration": 9,
        "start_time": "2023-01-30T09:20:30.161Z"
      },
      {
        "duration": 16,
        "start_time": "2023-01-30T09:20:38.801Z"
      },
      {
        "duration": 4,
        "start_time": "2023-01-30T09:21:21.057Z"
      },
      {
        "duration": 4473,
        "start_time": "2023-01-30T09:21:21.246Z"
      },
      {
        "duration": 4,
        "start_time": "2023-01-30T09:21:29.602Z"
      },
      {
        "duration": 2077,
        "start_time": "2023-01-30T09:21:33.231Z"
      },
      {
        "duration": 27753,
        "start_time": "2023-01-30T09:22:23.218Z"
      },
      {
        "duration": 27102,
        "start_time": "2023-01-30T09:23:23.047Z"
      },
      {
        "duration": 8879,
        "start_time": "2023-01-30T09:23:53.787Z"
      },
      {
        "duration": 65043,
        "start_time": "2023-01-30T09:24:12.819Z"
      },
      {
        "duration": 101,
        "start_time": "2023-01-30T09:25:17.864Z"
      },
      {
        "duration": 4,
        "start_time": "2023-01-30T09:36:33.024Z"
      },
      {
        "duration": 12,
        "start_time": "2023-01-30T09:36:41.590Z"
      },
      {
        "duration": 89,
        "start_time": "2023-01-30T09:37:38.494Z"
      },
      {
        "duration": 4,
        "start_time": "2023-01-30T09:37:41.932Z"
      },
      {
        "duration": 351,
        "start_time": "2023-01-30T09:37:42.465Z"
      },
      {
        "duration": 25,
        "start_time": "2023-01-30T09:38:25.511Z"
      },
      {
        "duration": 308,
        "start_time": "2023-01-30T09:38:35.134Z"
      },
      {
        "duration": 16,
        "start_time": "2023-01-30T09:38:42.670Z"
      },
      {
        "duration": 17,
        "start_time": "2023-01-30T09:38:57.301Z"
      },
      {
        "duration": 117,
        "start_time": "2023-01-30T09:39:30.245Z"
      },
      {
        "duration": 17,
        "start_time": "2023-01-30T09:39:48.671Z"
      },
      {
        "duration": 4,
        "start_time": "2023-01-30T09:40:02.043Z"
      },
      {
        "duration": 17,
        "start_time": "2023-01-30T09:41:30.412Z"
      },
      {
        "duration": 7,
        "start_time": "2023-01-30T09:43:35.101Z"
      },
      {
        "duration": 28733,
        "start_time": "2023-01-30T09:43:40.046Z"
      },
      {
        "duration": 27,
        "start_time": "2023-01-30T09:44:08.781Z"
      },
      {
        "duration": 5,
        "start_time": "2023-01-30T09:44:49.747Z"
      },
      {
        "duration": 4821,
        "start_time": "2023-01-30T09:46:13.843Z"
      },
      {
        "duration": 2098,
        "start_time": "2023-01-30T09:46:18.666Z"
      },
      {
        "duration": 865,
        "start_time": "2023-01-30T09:46:20.766Z"
      },
      {
        "duration": 75,
        "start_time": "2023-01-30T09:46:21.633Z"
      },
      {
        "duration": 159,
        "start_time": "2023-01-30T09:46:21.709Z"
      },
      {
        "duration": 33,
        "start_time": "2023-01-30T09:46:21.870Z"
      },
      {
        "duration": 513,
        "start_time": "2023-01-30T09:46:21.907Z"
      },
      {
        "duration": 15,
        "start_time": "2023-01-30T09:46:22.422Z"
      },
      {
        "duration": 1413,
        "start_time": "2023-01-30T09:46:22.439Z"
      },
      {
        "duration": 4995,
        "start_time": "2023-01-30T09:48:39.222Z"
      },
      {
        "duration": 2189,
        "start_time": "2023-01-30T09:48:44.220Z"
      },
      {
        "duration": 918,
        "start_time": "2023-01-30T09:48:46.411Z"
      },
      {
        "duration": 74,
        "start_time": "2023-01-30T09:48:47.331Z"
      },
      {
        "duration": 184,
        "start_time": "2023-01-30T09:48:47.407Z"
      },
      {
        "duration": 47,
        "start_time": "2023-01-30T09:48:47.594Z"
      },
      {
        "duration": 28,
        "start_time": "2023-01-30T09:48:47.644Z"
      },
      {
        "duration": 29,
        "start_time": "2023-01-30T09:48:47.674Z"
      },
      {
        "duration": 1496,
        "start_time": "2023-01-30T09:48:47.705Z"
      },
      {
        "duration": 1252434,
        "start_time": "2023-01-30T09:48:49.206Z"
      },
      {
        "duration": 47,
        "start_time": "2023-01-30T10:09:41.642Z"
      },
      {
        "duration": 11,
        "start_time": "2023-01-30T10:09:41.691Z"
      },
      {
        "duration": 64,
        "start_time": "2023-01-30T10:09:41.705Z"
      },
      {
        "duration": 4,
        "start_time": "2023-01-30T10:09:41.853Z"
      },
      {
        "duration": 97,
        "start_time": "2023-01-30T10:09:41.859Z"
      },
      {
        "duration": 4,
        "start_time": "2023-01-30T10:09:45.985Z"
      },
      {
        "duration": 130,
        "start_time": "2023-01-30T10:09:46.643Z"
      },
      {
        "duration": 4568,
        "start_time": "2023-01-30T10:14:23.540Z"
      },
      {
        "duration": 2563,
        "start_time": "2023-01-30T10:14:28.110Z"
      },
      {
        "duration": 3748,
        "start_time": "2023-01-30T10:14:30.674Z"
      },
      {
        "duration": 63,
        "start_time": "2023-01-30T10:14:34.424Z"
      },
      {
        "duration": 139,
        "start_time": "2023-01-30T10:14:34.489Z"
      },
      {
        "duration": 34,
        "start_time": "2023-01-30T10:14:34.630Z"
      },
      {
        "duration": 8,
        "start_time": "2023-01-30T10:14:34.666Z"
      },
      {
        "duration": 6,
        "start_time": "2023-01-30T10:14:34.676Z"
      },
      {
        "duration": 1439,
        "start_time": "2023-01-30T10:14:34.684Z"
      }
    ],
    "colab": {
      "collapsed_sections": [
        "ELquKE83_Jmb"
      ],
      "provenance": []
    },
    "kernelspec": {
      "display_name": "Python 3 (ipykernel)",
      "language": "python",
      "name": "python3"
    },
    "language_info": {
      "codemirror_mode": {
        "name": "ipython",
        "version": 3
      },
      "file_extension": ".py",
      "mimetype": "text/x-python",
      "name": "python",
      "nbconvert_exporter": "python",
      "pygments_lexer": "ipython3",
      "version": "3.9.5"
    },
    "toc": {
      "base_numbering": 1,
      "nav_menu": {},
      "number_sections": true,
      "sideBar": true,
      "skip_h1_title": false,
      "title_cell": "Table of Contents",
      "title_sidebar": "Contents",
      "toc_cell": false,
      "toc_position": {},
      "toc_section_display": true,
      "toc_window_display": false
    },
    "widgets": {
      "application/vnd.jupyter.widget-state+json": {
        "0c48bccb33334a5b87bf7fe5e21b939c": {
          "model_module": "@jupyter-widgets/controls",
          "model_module_version": "1.5.0",
          "model_name": "DescriptionStyleModel",
          "state": {
            "_model_module": "@jupyter-widgets/controls",
            "_model_module_version": "1.5.0",
            "_model_name": "DescriptionStyleModel",
            "_view_count": null,
            "_view_module": "@jupyter-widgets/base",
            "_view_module_version": "1.2.0",
            "_view_name": "StyleView",
            "description_width": ""
          }
        },
        "35d5df31e9124a57a114583834119364": {
          "model_module": "@jupyter-widgets/base",
          "model_module_version": "1.2.0",
          "model_name": "LayoutModel",
          "state": {
            "_model_module": "@jupyter-widgets/base",
            "_model_module_version": "1.2.0",
            "_model_name": "LayoutModel",
            "_view_count": null,
            "_view_module": "@jupyter-widgets/base",
            "_view_module_version": "1.2.0",
            "_view_name": "LayoutView",
            "align_content": null,
            "align_items": null,
            "align_self": null,
            "border": null,
            "bottom": null,
            "display": null,
            "flex": null,
            "flex_flow": null,
            "grid_area": null,
            "grid_auto_columns": null,
            "grid_auto_flow": null,
            "grid_auto_rows": null,
            "grid_column": null,
            "grid_gap": null,
            "grid_row": null,
            "grid_template_areas": null,
            "grid_template_columns": null,
            "grid_template_rows": null,
            "height": null,
            "justify_content": null,
            "justify_items": null,
            "left": null,
            "margin": null,
            "max_height": null,
            "max_width": null,
            "min_height": null,
            "min_width": null,
            "object_fit": null,
            "object_position": null,
            "order": null,
            "overflow": null,
            "overflow_x": null,
            "overflow_y": null,
            "padding": null,
            "right": null,
            "top": null,
            "visibility": null,
            "width": null
          }
        },
        "3c59a5da696849999576d99fd2934613": {
          "model_module": "@jupyter-widgets/controls",
          "model_module_version": "1.5.0",
          "model_name": "HBoxModel",
          "state": {
            "_dom_classes": [],
            "_model_module": "@jupyter-widgets/controls",
            "_model_module_version": "1.5.0",
            "_model_name": "HBoxModel",
            "_view_count": null,
            "_view_module": "@jupyter-widgets/controls",
            "_view_module_version": "1.5.0",
            "_view_name": "HBoxView",
            "box_style": "",
            "children": [
              "IPY_MODEL_cf45af5a550a4d33a153043b99d69fcd",
              "IPY_MODEL_60adb011d7a44a81903b9c5a68d3ee5a",
              "IPY_MODEL_710a6632e81b4cab87dea84b4f06fdeb"
            ],
            "layout": "IPY_MODEL_cdf5b033b02f44028eceb03bf67d127f"
          }
        },
        "60adb011d7a44a81903b9c5a68d3ee5a": {
          "model_module": "@jupyter-widgets/controls",
          "model_module_version": "1.5.0",
          "model_name": "FloatProgressModel",
          "state": {
            "_dom_classes": [],
            "_model_module": "@jupyter-widgets/controls",
            "_model_module_version": "1.5.0",
            "_model_name": "FloatProgressModel",
            "_view_count": null,
            "_view_module": "@jupyter-widgets/controls",
            "_view_module_version": "1.5.0",
            "_view_name": "ProgressView",
            "bar_style": "success",
            "description": "",
            "description_tooltip": null,
            "layout": "IPY_MODEL_99fc7e12ad7342719bb498b452f219c8",
            "max": 159292,
            "min": 0,
            "orientation": "horizontal",
            "style": "IPY_MODEL_e18b5fc4fe554607a3e46068bbe893a2",
            "value": 159292
          }
        },
        "710a6632e81b4cab87dea84b4f06fdeb": {
          "model_module": "@jupyter-widgets/controls",
          "model_module_version": "1.5.0",
          "model_name": "HTMLModel",
          "state": {
            "_dom_classes": [],
            "_model_module": "@jupyter-widgets/controls",
            "_model_module_version": "1.5.0",
            "_model_name": "HTMLModel",
            "_view_count": null,
            "_view_module": "@jupyter-widgets/controls",
            "_view_module_version": "1.5.0",
            "_view_name": "HTMLView",
            "description": "",
            "description_tooltip": null,
            "layout": "IPY_MODEL_35d5df31e9124a57a114583834119364",
            "placeholder": "​",
            "style": "IPY_MODEL_0c48bccb33334a5b87bf7fe5e21b939c",
            "value": " 159292/159292 [23:22&lt;00:00, 112.02it/s]"
          }
        },
        "750aab44ddd14b4380d20152d2386778": {
          "model_module": "@jupyter-widgets/base",
          "model_module_version": "1.2.0",
          "model_name": "LayoutModel",
          "state": {
            "_model_module": "@jupyter-widgets/base",
            "_model_module_version": "1.2.0",
            "_model_name": "LayoutModel",
            "_view_count": null,
            "_view_module": "@jupyter-widgets/base",
            "_view_module_version": "1.2.0",
            "_view_name": "LayoutView",
            "align_content": null,
            "align_items": null,
            "align_self": null,
            "border": null,
            "bottom": null,
            "display": null,
            "flex": null,
            "flex_flow": null,
            "grid_area": null,
            "grid_auto_columns": null,
            "grid_auto_flow": null,
            "grid_auto_rows": null,
            "grid_column": null,
            "grid_gap": null,
            "grid_row": null,
            "grid_template_areas": null,
            "grid_template_columns": null,
            "grid_template_rows": null,
            "height": null,
            "justify_content": null,
            "justify_items": null,
            "left": null,
            "margin": null,
            "max_height": null,
            "max_width": null,
            "min_height": null,
            "min_width": null,
            "object_fit": null,
            "object_position": null,
            "order": null,
            "overflow": null,
            "overflow_x": null,
            "overflow_y": null,
            "padding": null,
            "right": null,
            "top": null,
            "visibility": null,
            "width": null
          }
        },
        "99fc7e12ad7342719bb498b452f219c8": {
          "model_module": "@jupyter-widgets/base",
          "model_module_version": "1.2.0",
          "model_name": "LayoutModel",
          "state": {
            "_model_module": "@jupyter-widgets/base",
            "_model_module_version": "1.2.0",
            "_model_name": "LayoutModel",
            "_view_count": null,
            "_view_module": "@jupyter-widgets/base",
            "_view_module_version": "1.2.0",
            "_view_name": "LayoutView",
            "align_content": null,
            "align_items": null,
            "align_self": null,
            "border": null,
            "bottom": null,
            "display": null,
            "flex": null,
            "flex_flow": null,
            "grid_area": null,
            "grid_auto_columns": null,
            "grid_auto_flow": null,
            "grid_auto_rows": null,
            "grid_column": null,
            "grid_gap": null,
            "grid_row": null,
            "grid_template_areas": null,
            "grid_template_columns": null,
            "grid_template_rows": null,
            "height": null,
            "justify_content": null,
            "justify_items": null,
            "left": null,
            "margin": null,
            "max_height": null,
            "max_width": null,
            "min_height": null,
            "min_width": null,
            "object_fit": null,
            "object_position": null,
            "order": null,
            "overflow": null,
            "overflow_x": null,
            "overflow_y": null,
            "padding": null,
            "right": null,
            "top": null,
            "visibility": null,
            "width": null
          }
        },
        "cdf5b033b02f44028eceb03bf67d127f": {
          "model_module": "@jupyter-widgets/base",
          "model_module_version": "1.2.0",
          "model_name": "LayoutModel",
          "state": {
            "_model_module": "@jupyter-widgets/base",
            "_model_module_version": "1.2.0",
            "_model_name": "LayoutModel",
            "_view_count": null,
            "_view_module": "@jupyter-widgets/base",
            "_view_module_version": "1.2.0",
            "_view_name": "LayoutView",
            "align_content": null,
            "align_items": null,
            "align_self": null,
            "border": null,
            "bottom": null,
            "display": null,
            "flex": null,
            "flex_flow": null,
            "grid_area": null,
            "grid_auto_columns": null,
            "grid_auto_flow": null,
            "grid_auto_rows": null,
            "grid_column": null,
            "grid_gap": null,
            "grid_row": null,
            "grid_template_areas": null,
            "grid_template_columns": null,
            "grid_template_rows": null,
            "height": null,
            "justify_content": null,
            "justify_items": null,
            "left": null,
            "margin": null,
            "max_height": null,
            "max_width": null,
            "min_height": null,
            "min_width": null,
            "object_fit": null,
            "object_position": null,
            "order": null,
            "overflow": null,
            "overflow_x": null,
            "overflow_y": null,
            "padding": null,
            "right": null,
            "top": null,
            "visibility": null,
            "width": null
          }
        },
        "cf45af5a550a4d33a153043b99d69fcd": {
          "model_module": "@jupyter-widgets/controls",
          "model_module_version": "1.5.0",
          "model_name": "HTMLModel",
          "state": {
            "_dom_classes": [],
            "_model_module": "@jupyter-widgets/controls",
            "_model_module_version": "1.5.0",
            "_model_name": "HTMLModel",
            "_view_count": null,
            "_view_module": "@jupyter-widgets/controls",
            "_view_module_version": "1.5.0",
            "_view_name": "HTMLView",
            "description": "",
            "description_tooltip": null,
            "layout": "IPY_MODEL_750aab44ddd14b4380d20152d2386778",
            "placeholder": "​",
            "style": "IPY_MODEL_d27e0219c5cc4e94a93287252ef3c607",
            "value": "100%"
          }
        },
        "d27e0219c5cc4e94a93287252ef3c607": {
          "model_module": "@jupyter-widgets/controls",
          "model_module_version": "1.5.0",
          "model_name": "DescriptionStyleModel",
          "state": {
            "_model_module": "@jupyter-widgets/controls",
            "_model_module_version": "1.5.0",
            "_model_name": "DescriptionStyleModel",
            "_view_count": null,
            "_view_module": "@jupyter-widgets/base",
            "_view_module_version": "1.2.0",
            "_view_name": "StyleView",
            "description_width": ""
          }
        },
        "e18b5fc4fe554607a3e46068bbe893a2": {
          "model_module": "@jupyter-widgets/controls",
          "model_module_version": "1.5.0",
          "model_name": "ProgressStyleModel",
          "state": {
            "_model_module": "@jupyter-widgets/controls",
            "_model_module_version": "1.5.0",
            "_model_name": "ProgressStyleModel",
            "_view_count": null,
            "_view_module": "@jupyter-widgets/base",
            "_view_module_version": "1.2.0",
            "_view_name": "StyleView",
            "bar_color": null,
            "description_width": ""
          }
        }
      }
    }
  },
  "nbformat": 4,
  "nbformat_minor": 0
}