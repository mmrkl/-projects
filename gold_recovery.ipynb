{
  "cells": [
    {
      "cell_type": "markdown",
      "metadata": {
        "toc": true,
        "id": "6bxlHwXo-KIW"
      },
      "source": [
        "<h1>Содержание<span class=\"tocSkip\"></span></h1>\n",
        "<div class=\"toc\"><ul class=\"toc-item\"><li><span><a href=\"#Подготовка-данных\" data-toc-modified-id=\"Подготовка-данных-1\"><span class=\"toc-item-num\">1&nbsp;&nbsp;</span>Подготовка данных</a></span></li><li><span><a href=\"#Анализ-данных\" data-toc-modified-id=\"Анализ-данных-2\"><span class=\"toc-item-num\">2&nbsp;&nbsp;</span>Анализ данных</a></span><ul class=\"toc-item\"><li><ul class=\"toc-item\"><li><span><a href=\"#Pb\" data-toc-modified-id=\"Pb-2.0.1\"><span class=\"toc-item-num\">2.0.1&nbsp;&nbsp;</span>Pb</a></span></li><li><span><a href=\"#Ag\" data-toc-modified-id=\"Ag-2.0.2\"><span class=\"toc-item-num\">2.0.2&nbsp;&nbsp;</span>Ag</a></span></li><li><span><a href=\"#Au\" data-toc-modified-id=\"Au-2.0.3\"><span class=\"toc-item-num\">2.0.3&nbsp;&nbsp;</span>Au</a></span></li></ul></li><li><span><a href=\"#суммарная-концентрацию-всех-веществ-на-разных-стадиях:-в-сырье,-в-черновом-и-финальном-концентратах.\" data-toc-modified-id=\"суммарная-концентрацию-всех-веществ-на-разных-стадиях:-в-сырье,-в-черновом-и-финальном-концентратах.-2.1\"><span class=\"toc-item-num\">2.1&nbsp;&nbsp;</span>суммарная концентрацию всех веществ на разных стадиях: в сырье, в черновом и финальном концентратах.</a></span></li></ul></li><li><span><a href=\"#Модель\" data-toc-modified-id=\"Модель-3\"><span class=\"toc-item-num\">3&nbsp;&nbsp;</span>Модель</a></span></li></ul></div>"
      ]
    },
    {
      "cell_type": "markdown",
      "metadata": {
        "id": "1oaa6Tvm-KIW"
      },
      "source": [
        "# Восстановление золота из руды"
      ]
    },
    {
      "cell_type": "markdown",
      "metadata": {
        "id": "Mmqrxqh3-KIX"
      },
      "source": [
        "Подготовьте прототип модели машинного обучения для «Цифры». Компания разрабатывает решения для эффективной работы промышленных предприятий.\n",
        "\n",
        "Модель должна предсказать коэффициент восстановления золота из золотосодержащей руды. Используйте данные с параметрами добычи и очистки. \n",
        "\n",
        "Модель поможет оптимизировать производство, чтобы не запускать предприятие с убыточными характеристиками.\n",
        "\n",
        "Вам нужно:\n",
        "\n",
        "1. Подготовить данные;\n",
        "2. Провести исследовательский анализ данных;\n",
        "3. Построить и обучить модель.\n",
        "\n",
        "Чтобы выполнить проект, обращайтесь к библиотекам *pandas*, *matplotlib* и *sklearn.* Вам поможет их документация."
      ]
    },
    {
      "cell_type": "markdown",
      "metadata": {
        "id": "24FEndTj-KIX"
      },
      "source": [
        "## Подготовка данных"
      ]
    },
    {
      "cell_type": "code",
      "execution_count": null,
      "metadata": {
        "id": "lDFzX9I0-KIY"
      },
      "outputs": [],
      "source": [
        "import pandas as pd\n",
        "import numpy as np\n",
        "from matplotlib import pyplot as plt\n",
        "import seaborn as sns\n",
        "from sklearn.metrics import mean_absolute_error\n",
        "from sklearn.linear_model import LinearRegression\n",
        "from sklearn.model_selection import cross_val_score\n",
        "from sklearn.model_selection import cross_val_predict\n",
        "from sklearn.metrics import fbeta_score, make_scorer\n",
        "from sklearn.tree import DecisionTreeRegressor\n",
        "from sklearn.ensemble import RandomForestRegressor\n",
        "from sklearn.dummy import DummyRegressor\n",
        "from sklearn.model_selection import GridSearchCV\n",
        "\n",
        "import warnings\n",
        "warnings.simplefilter(action='ignore', category=FutureWarning)"
      ]
    },
    {
      "cell_type": "code",
      "execution_count": null,
      "metadata": {
        "id": "T2WYx0Ii-KIZ"
      },
      "outputs": [],
      "source": [
        "try:\n",
        "    test_frame = pd.read_csv(\"/datasets/gold_recovery_test_new.csv\")\n",
        "    train_frame = pd.read_csv(\"/datasets/gold_recovery_train_new.csv\")\n",
        "    full_frame = pd.read_csv(\"/datasets/gold_recovery_full_new.csv\")\n",
        "except:\n",
        "    test_frame = pd.read_csv(\"https://code.s3.yandex.net/datasets/gold_recovery_test_new.csv\")\n",
        "    train_frame = pd.read_csv(\"https://code.s3.yandex.net/datasets/gold_recovery_train_new.csv\")\n",
        "    full_frame = pd.read_csv(\"https://code.s3.yandex.net/datasets/gold_recovery_full_new.csv\")"
      ]
    },
    {
      "cell_type": "code",
      "execution_count": null,
      "metadata": {
        "id": "lHJ9qkSa-KIZ",
        "outputId": "e70b8675-7279-4078-f8c3-698b849170a0"
      },
      "outputs": [
        {
          "name": "stdout",
          "output_type": "stream",
          "text": [
            "<class 'pandas.core.frame.DataFrame'>\n",
            "RangeIndex: 5290 entries, 0 to 5289\n",
            "Data columns (total 53 columns):\n",
            " #   Column                                      Non-Null Count  Dtype  \n",
            "---  ------                                      --------------  -----  \n",
            " 0   date                                        5290 non-null   object \n",
            " 1   primary_cleaner.input.sulfate               5286 non-null   float64\n",
            " 2   primary_cleaner.input.depressant            5285 non-null   float64\n",
            " 3   primary_cleaner.input.feed_size             5290 non-null   float64\n",
            " 4   primary_cleaner.input.xanthate              5286 non-null   float64\n",
            " 5   primary_cleaner.state.floatbank8_a_air      5290 non-null   float64\n",
            " 6   primary_cleaner.state.floatbank8_a_level    5290 non-null   float64\n",
            " 7   primary_cleaner.state.floatbank8_b_air      5290 non-null   float64\n",
            " 8   primary_cleaner.state.floatbank8_b_level    5290 non-null   float64\n",
            " 9   primary_cleaner.state.floatbank8_c_air      5290 non-null   float64\n",
            " 10  primary_cleaner.state.floatbank8_c_level    5290 non-null   float64\n",
            " 11  primary_cleaner.state.floatbank8_d_air      5290 non-null   float64\n",
            " 12  primary_cleaner.state.floatbank8_d_level    5290 non-null   float64\n",
            " 13  rougher.input.feed_ag                       5290 non-null   float64\n",
            " 14  rougher.input.feed_pb                       5290 non-null   float64\n",
            " 15  rougher.input.feed_rate                     5287 non-null   float64\n",
            " 16  rougher.input.feed_size                     5289 non-null   float64\n",
            " 17  rougher.input.feed_sol                      5269 non-null   float64\n",
            " 18  rougher.input.feed_au                       5290 non-null   float64\n",
            " 19  rougher.input.floatbank10_sulfate           5285 non-null   float64\n",
            " 20  rougher.input.floatbank10_xanthate          5290 non-null   float64\n",
            " 21  rougher.input.floatbank11_sulfate           5282 non-null   float64\n",
            " 22  rougher.input.floatbank11_xanthate          5265 non-null   float64\n",
            " 23  rougher.state.floatbank10_a_air             5290 non-null   float64\n",
            " 24  rougher.state.floatbank10_a_level           5290 non-null   float64\n",
            " 25  rougher.state.floatbank10_b_air             5290 non-null   float64\n",
            " 26  rougher.state.floatbank10_b_level           5290 non-null   float64\n",
            " 27  rougher.state.floatbank10_c_air             5290 non-null   float64\n",
            " 28  rougher.state.floatbank10_c_level           5290 non-null   float64\n",
            " 29  rougher.state.floatbank10_d_air             5290 non-null   float64\n",
            " 30  rougher.state.floatbank10_d_level           5290 non-null   float64\n",
            " 31  rougher.state.floatbank10_e_air             5290 non-null   float64\n",
            " 32  rougher.state.floatbank10_e_level           5290 non-null   float64\n",
            " 33  rougher.state.floatbank10_f_air             5290 non-null   float64\n",
            " 34  rougher.state.floatbank10_f_level           5290 non-null   float64\n",
            " 35  secondary_cleaner.state.floatbank2_a_air    5287 non-null   float64\n",
            " 36  secondary_cleaner.state.floatbank2_a_level  5290 non-null   float64\n",
            " 37  secondary_cleaner.state.floatbank2_b_air    5288 non-null   float64\n",
            " 38  secondary_cleaner.state.floatbank2_b_level  5290 non-null   float64\n",
            " 39  secondary_cleaner.state.floatbank3_a_air    5281 non-null   float64\n",
            " 40  secondary_cleaner.state.floatbank3_a_level  5290 non-null   float64\n",
            " 41  secondary_cleaner.state.floatbank3_b_air    5290 non-null   float64\n",
            " 42  secondary_cleaner.state.floatbank3_b_level  5290 non-null   float64\n",
            " 43  secondary_cleaner.state.floatbank4_a_air    5290 non-null   float64\n",
            " 44  secondary_cleaner.state.floatbank4_a_level  5290 non-null   float64\n",
            " 45  secondary_cleaner.state.floatbank4_b_air    5290 non-null   float64\n",
            " 46  secondary_cleaner.state.floatbank4_b_level  5290 non-null   float64\n",
            " 47  secondary_cleaner.state.floatbank5_a_air    5290 non-null   float64\n",
            " 48  secondary_cleaner.state.floatbank5_a_level  5290 non-null   float64\n",
            " 49  secondary_cleaner.state.floatbank5_b_air    5290 non-null   float64\n",
            " 50  secondary_cleaner.state.floatbank5_b_level  5290 non-null   float64\n",
            " 51  secondary_cleaner.state.floatbank6_a_air    5290 non-null   float64\n",
            " 52  secondary_cleaner.state.floatbank6_a_level  5290 non-null   float64\n",
            "dtypes: float64(52), object(1)\n",
            "memory usage: 2.1+ MB\n"
          ]
        },
        {
          "data": {
            "text/plain": [
              "None"
            ]
          },
          "metadata": {},
          "output_type": "display_data"
        },
        {
          "name": "stdout",
          "output_type": "stream",
          "text": [
            "<class 'pandas.core.frame.DataFrame'>\n",
            "RangeIndex: 14149 entries, 0 to 14148\n",
            "Data columns (total 87 columns):\n",
            " #   Column                                              Non-Null Count  Dtype  \n",
            "---  ------                                              --------------  -----  \n",
            " 0   date                                                14149 non-null  object \n",
            " 1   final.output.concentrate_ag                         14148 non-null  float64\n",
            " 2   final.output.concentrate_pb                         14148 non-null  float64\n",
            " 3   final.output.concentrate_sol                        13938 non-null  float64\n",
            " 4   final.output.concentrate_au                         14149 non-null  float64\n",
            " 5   final.output.recovery                               14149 non-null  float64\n",
            " 6   final.output.tail_ag                                14149 non-null  float64\n",
            " 7   final.output.tail_pb                                14049 non-null  float64\n",
            " 8   final.output.tail_sol                               14144 non-null  float64\n",
            " 9   final.output.tail_au                                14149 non-null  float64\n",
            " 10  primary_cleaner.input.sulfate                       14129 non-null  float64\n",
            " 11  primary_cleaner.input.depressant                    14117 non-null  float64\n",
            " 12  primary_cleaner.input.feed_size                     14149 non-null  float64\n",
            " 13  primary_cleaner.input.xanthate                      14049 non-null  float64\n",
            " 14  primary_cleaner.output.concentrate_ag               14149 non-null  float64\n",
            " 15  primary_cleaner.output.concentrate_pb               14063 non-null  float64\n",
            " 16  primary_cleaner.output.concentrate_sol              13863 non-null  float64\n",
            " 17  primary_cleaner.output.concentrate_au               14149 non-null  float64\n",
            " 18  primary_cleaner.output.tail_ag                      14148 non-null  float64\n",
            " 19  primary_cleaner.output.tail_pb                      14134 non-null  float64\n",
            " 20  primary_cleaner.output.tail_sol                     14103 non-null  float64\n",
            " 21  primary_cleaner.output.tail_au                      14149 non-null  float64\n",
            " 22  primary_cleaner.state.floatbank8_a_air              14145 non-null  float64\n",
            " 23  primary_cleaner.state.floatbank8_a_level            14148 non-null  float64\n",
            " 24  primary_cleaner.state.floatbank8_b_air              14145 non-null  float64\n",
            " 25  primary_cleaner.state.floatbank8_b_level            14148 non-null  float64\n",
            " 26  primary_cleaner.state.floatbank8_c_air              14147 non-null  float64\n",
            " 27  primary_cleaner.state.floatbank8_c_level            14148 non-null  float64\n",
            " 28  primary_cleaner.state.floatbank8_d_air              14146 non-null  float64\n",
            " 29  primary_cleaner.state.floatbank8_d_level            14148 non-null  float64\n",
            " 30  rougher.calculation.sulfate_to_au_concentrate       14148 non-null  float64\n",
            " 31  rougher.calculation.floatbank10_sulfate_to_au_feed  14148 non-null  float64\n",
            " 32  rougher.calculation.floatbank11_sulfate_to_au_feed  14148 non-null  float64\n",
            " 33  rougher.calculation.au_pb_ratio                     14149 non-null  float64\n",
            " 34  rougher.input.feed_ag                               14149 non-null  float64\n",
            " 35  rougher.input.feed_pb                               14049 non-null  float64\n",
            " 36  rougher.input.feed_rate                             14141 non-null  float64\n",
            " 37  rougher.input.feed_size                             14005 non-null  float64\n",
            " 38  rougher.input.feed_sol                              14071 non-null  float64\n",
            " 39  rougher.input.feed_au                               14149 non-null  float64\n",
            " 40  rougher.input.floatbank10_sulfate                   14120 non-null  float64\n",
            " 41  rougher.input.floatbank10_xanthate                  14141 non-null  float64\n",
            " 42  rougher.input.floatbank11_sulfate                   14113 non-null  float64\n",
            " 43  rougher.input.floatbank11_xanthate                  13721 non-null  float64\n",
            " 44  rougher.output.concentrate_ag                       14149 non-null  float64\n",
            " 45  rougher.output.concentrate_pb                       14149 non-null  float64\n",
            " 46  rougher.output.concentrate_sol                      14127 non-null  float64\n",
            " 47  rougher.output.concentrate_au                       14149 non-null  float64\n",
            " 48  rougher.output.recovery                             14149 non-null  float64\n",
            " 49  rougher.output.tail_ag                              14148 non-null  float64\n",
            " 50  rougher.output.tail_pb                              14149 non-null  float64\n",
            " 51  rougher.output.tail_sol                             14149 non-null  float64\n",
            " 52  rougher.output.tail_au                              14149 non-null  float64\n",
            " 53  rougher.state.floatbank10_a_air                     14148 non-null  float64\n",
            " 54  rougher.state.floatbank10_a_level                   14148 non-null  float64\n",
            " 55  rougher.state.floatbank10_b_air                     14148 non-null  float64\n",
            " 56  rougher.state.floatbank10_b_level                   14148 non-null  float64\n",
            " 57  rougher.state.floatbank10_c_air                     14148 non-null  float64\n",
            " 58  rougher.state.floatbank10_c_level                   14148 non-null  float64\n",
            " 59  rougher.state.floatbank10_d_air                     14149 non-null  float64\n",
            " 60  rougher.state.floatbank10_d_level                   14149 non-null  float64\n",
            " 61  rougher.state.floatbank10_e_air                     13713 non-null  float64\n",
            " 62  rougher.state.floatbank10_e_level                   14149 non-null  float64\n",
            " 63  rougher.state.floatbank10_f_air                     14149 non-null  float64\n",
            " 64  rougher.state.floatbank10_f_level                   14149 non-null  float64\n",
            " 65  secondary_cleaner.output.tail_ag                    14147 non-null  float64\n",
            " 66  secondary_cleaner.output.tail_pb                    14139 non-null  float64\n",
            " 67  secondary_cleaner.output.tail_sol                   12544 non-null  float64\n",
            " 68  secondary_cleaner.output.tail_au                    14149 non-null  float64\n",
            " 69  secondary_cleaner.state.floatbank2_a_air            13932 non-null  float64\n",
            " 70  secondary_cleaner.state.floatbank2_a_level          14148 non-null  float64\n",
            " 71  secondary_cleaner.state.floatbank2_b_air            14128 non-null  float64\n",
            " 72  secondary_cleaner.state.floatbank2_b_level          14148 non-null  float64\n",
            " 73  secondary_cleaner.state.floatbank3_a_air            14145 non-null  float64\n",
            " 74  secondary_cleaner.state.floatbank3_a_level          14148 non-null  float64\n",
            " 75  secondary_cleaner.state.floatbank3_b_air            14148 non-null  float64\n",
            " 76  secondary_cleaner.state.floatbank3_b_level          14148 non-null  float64\n",
            " 77  secondary_cleaner.state.floatbank4_a_air            14143 non-null  float64\n",
            " 78  secondary_cleaner.state.floatbank4_a_level          14148 non-null  float64\n",
            " 79  secondary_cleaner.state.floatbank4_b_air            14148 non-null  float64\n",
            " 80  secondary_cleaner.state.floatbank4_b_level          14148 non-null  float64\n",
            " 81  secondary_cleaner.state.floatbank5_a_air            14148 non-null  float64\n",
            " 82  secondary_cleaner.state.floatbank5_a_level          14148 non-null  float64\n",
            " 83  secondary_cleaner.state.floatbank5_b_air            14148 non-null  float64\n",
            " 84  secondary_cleaner.state.floatbank5_b_level          14148 non-null  float64\n",
            " 85  secondary_cleaner.state.floatbank6_a_air            14147 non-null  float64\n",
            " 86  secondary_cleaner.state.floatbank6_a_level          14148 non-null  float64\n",
            "dtypes: float64(86), object(1)\n",
            "memory usage: 9.4+ MB\n"
          ]
        },
        {
          "data": {
            "text/plain": [
              "None"
            ]
          },
          "metadata": {},
          "output_type": "display_data"
        },
        {
          "name": "stdout",
          "output_type": "stream",
          "text": [
            "<class 'pandas.core.frame.DataFrame'>\n",
            "RangeIndex: 19439 entries, 0 to 19438\n",
            "Data columns (total 87 columns):\n",
            " #   Column                                              Non-Null Count  Dtype  \n",
            "---  ------                                              --------------  -----  \n",
            " 0   date                                                19439 non-null  object \n",
            " 1   final.output.concentrate_ag                         19438 non-null  float64\n",
            " 2   final.output.concentrate_pb                         19438 non-null  float64\n",
            " 3   final.output.concentrate_sol                        19228 non-null  float64\n",
            " 4   final.output.concentrate_au                         19439 non-null  float64\n",
            " 5   final.output.recovery                               19439 non-null  float64\n",
            " 6   final.output.tail_ag                                19438 non-null  float64\n",
            " 7   final.output.tail_pb                                19338 non-null  float64\n",
            " 8   final.output.tail_sol                               19433 non-null  float64\n",
            " 9   final.output.tail_au                                19439 non-null  float64\n",
            " 10  primary_cleaner.input.sulfate                       19415 non-null  float64\n",
            " 11  primary_cleaner.input.depressant                    19402 non-null  float64\n",
            " 12  primary_cleaner.input.feed_size                     19439 non-null  float64\n",
            " 13  primary_cleaner.input.xanthate                      19335 non-null  float64\n",
            " 14  primary_cleaner.output.concentrate_ag               19439 non-null  float64\n",
            " 15  primary_cleaner.output.concentrate_pb               19323 non-null  float64\n",
            " 16  primary_cleaner.output.concentrate_sol              19069 non-null  float64\n",
            " 17  primary_cleaner.output.concentrate_au               19439 non-null  float64\n",
            " 18  primary_cleaner.output.tail_ag                      19435 non-null  float64\n",
            " 19  primary_cleaner.output.tail_pb                      19418 non-null  float64\n",
            " 20  primary_cleaner.output.tail_sol                     19377 non-null  float64\n",
            " 21  primary_cleaner.output.tail_au                      19439 non-null  float64\n",
            " 22  primary_cleaner.state.floatbank8_a_air              19435 non-null  float64\n",
            " 23  primary_cleaner.state.floatbank8_a_level            19438 non-null  float64\n",
            " 24  primary_cleaner.state.floatbank8_b_air              19435 non-null  float64\n",
            " 25  primary_cleaner.state.floatbank8_b_level            19438 non-null  float64\n",
            " 26  primary_cleaner.state.floatbank8_c_air              19437 non-null  float64\n",
            " 27  primary_cleaner.state.floatbank8_c_level            19438 non-null  float64\n",
            " 28  primary_cleaner.state.floatbank8_d_air              19436 non-null  float64\n",
            " 29  primary_cleaner.state.floatbank8_d_level            19438 non-null  float64\n",
            " 30  rougher.calculation.sulfate_to_au_concentrate       19437 non-null  float64\n",
            " 31  rougher.calculation.floatbank10_sulfate_to_au_feed  19437 non-null  float64\n",
            " 32  rougher.calculation.floatbank11_sulfate_to_au_feed  19437 non-null  float64\n",
            " 33  rougher.calculation.au_pb_ratio                     19439 non-null  float64\n",
            " 34  rougher.input.feed_ag                               19439 non-null  float64\n",
            " 35  rougher.input.feed_pb                               19339 non-null  float64\n",
            " 36  rougher.input.feed_rate                             19428 non-null  float64\n",
            " 37  rougher.input.feed_size                             19294 non-null  float64\n",
            " 38  rougher.input.feed_sol                              19340 non-null  float64\n",
            " 39  rougher.input.feed_au                               19439 non-null  float64\n",
            " 40  rougher.input.floatbank10_sulfate                   19405 non-null  float64\n",
            " 41  rougher.input.floatbank10_xanthate                  19431 non-null  float64\n",
            " 42  rougher.input.floatbank11_sulfate                   19395 non-null  float64\n",
            " 43  rougher.input.floatbank11_xanthate                  18986 non-null  float64\n",
            " 44  rougher.output.concentrate_ag                       19439 non-null  float64\n",
            " 45  rougher.output.concentrate_pb                       19439 non-null  float64\n",
            " 46  rougher.output.concentrate_sol                      19416 non-null  float64\n",
            " 47  rougher.output.concentrate_au                       19439 non-null  float64\n",
            " 48  rougher.output.recovery                             19439 non-null  float64\n",
            " 49  rougher.output.tail_ag                              19438 non-null  float64\n",
            " 50  rougher.output.tail_pb                              19439 non-null  float64\n",
            " 51  rougher.output.tail_sol                             19439 non-null  float64\n",
            " 52  rougher.output.tail_au                              19439 non-null  float64\n",
            " 53  rougher.state.floatbank10_a_air                     19438 non-null  float64\n",
            " 54  rougher.state.floatbank10_a_level                   19438 non-null  float64\n",
            " 55  rougher.state.floatbank10_b_air                     19438 non-null  float64\n",
            " 56  rougher.state.floatbank10_b_level                   19438 non-null  float64\n",
            " 57  rougher.state.floatbank10_c_air                     19438 non-null  float64\n",
            " 58  rougher.state.floatbank10_c_level                   19438 non-null  float64\n",
            " 59  rougher.state.floatbank10_d_air                     19439 non-null  float64\n",
            " 60  rougher.state.floatbank10_d_level                   19439 non-null  float64\n",
            " 61  rougher.state.floatbank10_e_air                     19003 non-null  float64\n",
            " 62  rougher.state.floatbank10_e_level                   19439 non-null  float64\n",
            " 63  rougher.state.floatbank10_f_air                     19439 non-null  float64\n",
            " 64  rougher.state.floatbank10_f_level                   19439 non-null  float64\n",
            " 65  secondary_cleaner.output.tail_ag                    19437 non-null  float64\n",
            " 66  secondary_cleaner.output.tail_pb                    19427 non-null  float64\n",
            " 67  secondary_cleaner.output.tail_sol                   17691 non-null  float64\n",
            " 68  secondary_cleaner.output.tail_au                    19439 non-null  float64\n",
            " 69  secondary_cleaner.state.floatbank2_a_air            19219 non-null  float64\n",
            " 70  secondary_cleaner.state.floatbank2_a_level          19438 non-null  float64\n",
            " 71  secondary_cleaner.state.floatbank2_b_air            19416 non-null  float64\n",
            " 72  secondary_cleaner.state.floatbank2_b_level          19438 non-null  float64\n",
            " 73  secondary_cleaner.state.floatbank3_a_air            19426 non-null  float64\n",
            " 74  secondary_cleaner.state.floatbank3_a_level          19438 non-null  float64\n",
            " 75  secondary_cleaner.state.floatbank3_b_air            19438 non-null  float64\n",
            " 76  secondary_cleaner.state.floatbank3_b_level          19438 non-null  float64\n",
            " 77  secondary_cleaner.state.floatbank4_a_air            19433 non-null  float64\n",
            " 78  secondary_cleaner.state.floatbank4_a_level          19438 non-null  float64\n",
            " 79  secondary_cleaner.state.floatbank4_b_air            19438 non-null  float64\n",
            " 80  secondary_cleaner.state.floatbank4_b_level          19438 non-null  float64\n",
            " 81  secondary_cleaner.state.floatbank5_a_air            19438 non-null  float64\n",
            " 82  secondary_cleaner.state.floatbank5_a_level          19438 non-null  float64\n",
            " 83  secondary_cleaner.state.floatbank5_b_air            19438 non-null  float64\n",
            " 84  secondary_cleaner.state.floatbank5_b_level          19438 non-null  float64\n",
            " 85  secondary_cleaner.state.floatbank6_a_air            19437 non-null  float64\n",
            " 86  secondary_cleaner.state.floatbank6_a_level          19438 non-null  float64\n",
            "dtypes: float64(86), object(1)\n",
            "memory usage: 12.9+ MB\n"
          ]
        },
        {
          "data": {
            "text/plain": [
              "None"
            ]
          },
          "metadata": {},
          "output_type": "display_data"
        }
      ],
      "source": [
        "datasets = [test_frame, train_frame, full_frame]\n",
        "for dataset in datasets:\n",
        "    display(dataset.info())"
      ]
    },
    {
      "cell_type": "markdown",
      "metadata": {
        "id": "ej0gJIdH-KIa"
      },
      "source": [
        "вычислим эффективность обогащения на обучающей выборке"
      ]
    },
    {
      "cell_type": "code",
      "execution_count": null,
      "metadata": {
        "id": "nd-HAJJv-KIa"
      },
      "outputs": [],
      "source": [
        "C = train_frame['rougher.output.concentrate_au']\n",
        "F = train_frame['rougher.input.feed_au']\n",
        "T = train_frame['rougher.output.tail_au']"
      ]
    },
    {
      "cell_type": "code",
      "execution_count": null,
      "metadata": {
        "id": "ZRefm3ZS-KIa"
      },
      "outputs": [],
      "source": [
        "train_frame['recovery_calc'] = ((C*(F-T))/(F*(C-T)))*100"
      ]
    },
    {
      "cell_type": "code",
      "execution_count": null,
      "metadata": {
        "id": "qTYoq7Bw-KIb",
        "outputId": "44f11ffb-3dbd-4d39-dd1a-22320340e351"
      },
      "outputs": [
        {
          "name": "stdout",
          "output_type": "stream",
          "text": [
            "82.70450164550293  = 82.70450164550293\n",
            "эффективность рассчитана верно, значения совпадают\n"
          ]
        }
      ],
      "source": [
        "if train_frame['recovery_calc'].mean() == train_frame['rougher.output.recovery'].mean(): \n",
        "    print(train_frame['recovery_calc'].mean(), \" =\",train_frame['rougher.output.recovery'].mean())\n",
        "    print(\"эффективность рассчитана верно, значения совпадают\")\n",
        "else:\n",
        "    print(\"эффективность рассчитана неверно, значения не совпадают\") \n",
        "    "
      ]
    },
    {
      "cell_type": "code",
      "execution_count": null,
      "metadata": {
        "id": "xmAq5tz--KIb",
        "outputId": "d2df43c8-ded1-4455-a004-bba9eb6c29e0"
      },
      "outputs": [
        {
          "name": "stdout",
          "output_type": "stream",
          "text": [
            "9.73512347450521e-15\n"
          ]
        }
      ],
      "source": [
        "MAE = mean_absolute_error(train_frame['recovery_calc'], train_frame['rougher.output.recovery'])\n",
        "print(MAE)"
      ]
    },
    {
      "cell_type": "markdown",
      "metadata": {
        "id": "lvNGvX9q-KIb"
      },
      "source": [
        "MAE = 9.73512347450521e-15 -> формула для расчета эффективности корректная, и доступные данные ее подтверждают."
      ]
    },
    {
      "cell_type": "code",
      "execution_count": null,
      "metadata": {
        "id": "z8g9XJKa-KIb"
      },
      "outputs": [],
      "source": [
        "train_frame.drop('recovery_calc', axis=1, inplace=True)"
      ]
    },
    {
      "cell_type": "markdown",
      "metadata": {
        "id": "DxEoVCNZ-KIc"
      },
      "source": [
        "просмотр недоступных признаков в тестовой выборке "
      ]
    },
    {
      "cell_type": "code",
      "execution_count": null,
      "metadata": {
        "id": "-Lw1ZUsm-KIc",
        "outputId": "6a0fb2c1-e4e5-44ce-e5d1-c8a04eb214c7"
      },
      "outputs": [
        {
          "data": {
            "text/plain": [
              "{'final.output.concentrate_ag',\n",
              " 'final.output.concentrate_au',\n",
              " 'final.output.concentrate_pb',\n",
              " 'final.output.concentrate_sol',\n",
              " 'final.output.recovery',\n",
              " 'final.output.tail_ag',\n",
              " 'final.output.tail_au',\n",
              " 'final.output.tail_pb',\n",
              " 'final.output.tail_sol',\n",
              " 'primary_cleaner.output.concentrate_ag',\n",
              " 'primary_cleaner.output.concentrate_au',\n",
              " 'primary_cleaner.output.concentrate_pb',\n",
              " 'primary_cleaner.output.concentrate_sol',\n",
              " 'primary_cleaner.output.tail_ag',\n",
              " 'primary_cleaner.output.tail_au',\n",
              " 'primary_cleaner.output.tail_pb',\n",
              " 'primary_cleaner.output.tail_sol',\n",
              " 'rougher.calculation.au_pb_ratio',\n",
              " 'rougher.calculation.floatbank10_sulfate_to_au_feed',\n",
              " 'rougher.calculation.floatbank11_sulfate_to_au_feed',\n",
              " 'rougher.calculation.sulfate_to_au_concentrate',\n",
              " 'rougher.output.concentrate_ag',\n",
              " 'rougher.output.concentrate_au',\n",
              " 'rougher.output.concentrate_pb',\n",
              " 'rougher.output.concentrate_sol',\n",
              " 'rougher.output.recovery',\n",
              " 'rougher.output.tail_ag',\n",
              " 'rougher.output.tail_au',\n",
              " 'rougher.output.tail_pb',\n",
              " 'rougher.output.tail_sol',\n",
              " 'secondary_cleaner.output.tail_ag',\n",
              " 'secondary_cleaner.output.tail_au',\n",
              " 'secondary_cleaner.output.tail_pb',\n",
              " 'secondary_cleaner.output.tail_sol'}"
            ]
          },
          "execution_count": 10,
          "metadata": {},
          "output_type": "execute_result"
        }
      ],
      "source": [
        "set(train_frame.columns)-set(test_frame.columns) "
      ]
    },
    {
      "cell_type": "markdown",
      "metadata": {
        "id": "QGF5_yC9-KIc"
      },
      "source": [
        "Мы видим, что это признаки, которые относятся к вторичным стадиям обогащения, параметры продуктов, расчетные характеристики, относящиеся к разным этапам, т.е значения final.output, primary_cleaner.output, rougher.calculations, rougher.output, secondary_cleaner.output"
      ]
    },
    {
      "cell_type": "markdown",
      "metadata": {
        "id": "bsdQxlZn-KIc"
      },
      "source": [
        "## Анализ данных"
      ]
    },
    {
      "cell_type": "markdown",
      "metadata": {
        "id": "GQ97k5El-KIc"
      },
      "source": [
        "пропущеныне значения "
      ]
    },
    {
      "cell_type": "code",
      "execution_count": null,
      "metadata": {
        "id": "ZMrqi4QB-KIc",
        "outputId": "5d94d3e5-6ad0-432a-8e52-41eae5054eae"
      },
      "outputs": [
        {
          "data": {
            "text/plain": [
              "date                                            0\n",
              "final.output.concentrate_ag                     1\n",
              "final.output.concentrate_pb                     1\n",
              "final.output.concentrate_sol                  211\n",
              "final.output.concentrate_au                     0\n",
              "                                             ... \n",
              "secondary_cleaner.state.floatbank5_a_level      1\n",
              "secondary_cleaner.state.floatbank5_b_air        1\n",
              "secondary_cleaner.state.floatbank5_b_level      1\n",
              "secondary_cleaner.state.floatbank6_a_air        2\n",
              "secondary_cleaner.state.floatbank6_a_level      1\n",
              "Length: 87, dtype: int64"
            ]
          },
          "metadata": {},
          "output_type": "display_data"
        },
        {
          "data": {
            "text/plain": [
              "date                                            0\n",
              "final.output.concentrate_ag                     1\n",
              "final.output.concentrate_pb                     1\n",
              "final.output.concentrate_sol                  211\n",
              "final.output.concentrate_au                     0\n",
              "                                             ... \n",
              "secondary_cleaner.state.floatbank5_a_level      1\n",
              "secondary_cleaner.state.floatbank5_b_air        1\n",
              "secondary_cleaner.state.floatbank5_b_level      1\n",
              "secondary_cleaner.state.floatbank6_a_air        2\n",
              "secondary_cleaner.state.floatbank6_a_level      1\n",
              "Length: 87, dtype: int64"
            ]
          },
          "metadata": {},
          "output_type": "display_data"
        },
        {
          "data": {
            "text/plain": [
              "date                                            0\n",
              "final.output.concentrate_ag                     1\n",
              "final.output.concentrate_pb                     1\n",
              "final.output.concentrate_sol                  211\n",
              "final.output.concentrate_au                     0\n",
              "                                             ... \n",
              "secondary_cleaner.state.floatbank5_a_level      1\n",
              "secondary_cleaner.state.floatbank5_b_air        1\n",
              "secondary_cleaner.state.floatbank5_b_level      1\n",
              "secondary_cleaner.state.floatbank6_a_air        2\n",
              "secondary_cleaner.state.floatbank6_a_level      1\n",
              "Length: 87, dtype: int64"
            ]
          },
          "metadata": {},
          "output_type": "display_data"
        }
      ],
      "source": [
        "for i in datasets:\n",
        "    display(dataset.isna().sum())"
      ]
    },
    {
      "cell_type": "code",
      "execution_count": null,
      "metadata": {
        "id": "3V5mH8sK-KId"
      },
      "outputs": [],
      "source": [
        "for dataset in datasets:\n",
        "    dataset.ffill(axis='rows', inplace=True)"
      ]
    },
    {
      "cell_type": "markdown",
      "metadata": {
        "id": "q0qem2hi-KId"
      },
      "source": [
        "заполним значения"
      ]
    },
    {
      "cell_type": "code",
      "execution_count": null,
      "metadata": {
        "id": "Jgcf5BNK-KId",
        "outputId": "9481607c-b94c-4047-fd1b-518f980cbfff"
      },
      "outputs": [
        {
          "name": "stdout",
          "output_type": "stream",
          "text": [
            "0\n",
            "0\n",
            "0\n"
          ]
        }
      ],
      "source": [
        "print(train_frame.duplicated().sum())\n",
        "print(test_frame.duplicated().sum())\n",
        "print(full_frame.duplicated().sum())"
      ]
    },
    {
      "cell_type": "markdown",
      "metadata": {
        "id": "XXTzKP_j-KId"
      },
      "source": [
        "Посмотрим, как меняется концентрация металлов (Au, Ag, Pb) на различных этапах очистки"
      ]
    },
    {
      "cell_type": "code",
      "execution_count": null,
      "metadata": {
        "id": "Z7mUepnR-KId"
      },
      "outputs": [],
      "source": [
        "df_pb = full_frame[['rougher.output.concentrate_pb', \n",
        "              'primary_cleaner.output.concentrate_pb', \n",
        "              'final.output.concentrate_pb']]\n",
        "df_pb = df_pb.rename(columns={'rougher.output.concentrate_pb': 'флотация', \n",
        "                              'primary_cleaner.output.concentrate_pb': 'первичная очистка', \n",
        "                              'final.output.concentrate_pb': 'финальная очистка'})"
      ]
    },
    {
      "cell_type": "markdown",
      "metadata": {
        "id": "OSoQLPAw-KIe"
      },
      "source": [
        "#### Pb"
      ]
    },
    {
      "cell_type": "code",
      "execution_count": null,
      "metadata": {
        "id": "ra9LAY5Q-KIe",
        "outputId": "88bb078b-f284-4d5b-82a4-db6911b27b0e"
      },
      "outputs": [
        {
          "data": {
            "image/png": "[encoded data removed]",
            "text/plain": [
              "<Figure size 432x288 with 1 Axes>"
            ]
          },
          "metadata": {
            "needs_background": "light"
          },
          "output_type": "display_data"
        }
      ],
      "source": [
        "df_pb.mean().plot(color = \"red\", subplots=True, fontsize=12, grid = \"o\")\n",
        "plt.title('Свинец (Pb)', fontsize=16)\n",
        "plt.ylabel('Концентрация металла', fontsize=14)\n",
        "plt.show()"
      ]
    },
    {
      "cell_type": "markdown",
      "metadata": {
        "id": "IyH6bf2Q-KIe"
      },
      "source": [
        "#### Ag"
      ]
    },
    {
      "cell_type": "code",
      "execution_count": null,
      "metadata": {
        "id": "IV2gD3xi-KIe"
      },
      "outputs": [],
      "source": [
        "df_ag = full_frame[['rougher.output.concentrate_ag', \n",
        "              'primary_cleaner.output.concentrate_ag', \n",
        "              'final.output.concentrate_ag']]\n",
        "df_ag = df_ag.rename(columns={'rougher.output.concentrate_ag': 'флотация', \n",
        "                              'primary_cleaner.output.concentrate_ag': 'первичная очистка', \n",
        "                              'final.output.concentrate_ag': 'финальная очистка'})"
      ]
    },
    {
      "cell_type": "code",
      "execution_count": null,
      "metadata": {
        "id": "8B5OLBcs-KIe",
        "outputId": "91716a8f-ccdb-49d2-93e8-217329d48156"
      },
      "outputs": [
        {
          "data": {
            "image/png": "[encoded data removed]",
            "text/plain": [
              "<Figure size 432x288 with 1 Axes>"
            ]
          },
          "metadata": {
            "needs_background": "light"
          },
          "output_type": "display_data"
        }
      ],
      "source": [
        "df_ag.mean().plot(color = \"red\", subplots=True, fontsize=12, grid = \"o\")\n",
        "plt.title('Серебро (Ag)', fontsize=16)\n",
        "plt.ylabel('Концентрация металла', fontsize=14)\n",
        "plt.show()"
      ]
    },
    {
      "cell_type": "markdown",
      "metadata": {
        "id": "l8jqteDt-KIe"
      },
      "source": [
        "#### Au "
      ]
    },
    {
      "cell_type": "code",
      "execution_count": null,
      "metadata": {
        "id": "7xNjn7BS-KIe"
      },
      "outputs": [],
      "source": [
        "df_au = full_frame[['rougher.output.concentrate_au', \n",
        "              'primary_cleaner.output.concentrate_au', \n",
        "              'final.output.concentrate_au']]\n",
        "df_au = df_au.rename(columns={'rougher.output.concentrate_au': 'флотация', \n",
        "                              'primary_cleaner.output.concentrate_au': 'первичная очистка', \n",
        "                              'final.output.concentrate_au': 'финальная очистка'})"
      ]
    },
    {
      "cell_type": "code",
      "execution_count": null,
      "metadata": {
        "id": "Rzt8Iq2V-KIe",
        "outputId": "b731e96f-3edd-43ba-f3b6-23299883307d"
      },
      "outputs": [
        {
          "data": {
            "image/png": "[encoded data removed]",
            "text/plain": [
              "<Figure size 432x288 with 1 Axes>"
            ]
          },
          "metadata": {
            "needs_background": "light"
          },
          "output_type": "display_data"
        }
      ],
      "source": [
        "df_au.mean().plot(color = \"red\", subplots=True, fontsize=12, grid = \"o\")\n",
        "plt.title('Золото (Au)', fontsize=16)\n",
        "plt.ylabel('Концентрация металла', fontsize=14)\n",
        "plt.show()"
      ]
    },
    {
      "cell_type": "markdown",
      "metadata": {
        "id": "JVk_eobG-KIf"
      },
      "source": [
        "* Концентрация серебра уменьшается в процессе очистки. Самая большая концентрация на первой стадии и самая маленькая на конечной.\n",
        "\n",
        "* Концентрация свинца значительно повышается от стадии флотации к первичной очистке, и еще немного повышается на стадии финальной очистки.\n",
        "\n",
        "* Концентрация золота равномерно повышается от флотации до финальной очистки."
      ]
    },
    {
      "cell_type": "code",
      "execution_count": null,
      "metadata": {
        "id": "xfSJ7m8R-KIf",
        "outputId": "3b3db041-fcdb-4105-ae64-e71dbac1b4dd"
      },
      "outputs": [
        {
          "data": {
            "image/png": "[encoded data removed]",
            "text/plain": [
              "<Figure size 432x288 with 1 Axes>"
            ]
          },
          "metadata": {
            "needs_background": "light"
          },
          "output_type": "display_data"
        }
      ],
      "source": [
        "train_frame['rougher.input.feed_size'].hist(bins=100, alpha=0.5, label='train')\n",
        "test_frame['rougher.input.feed_size'].hist(bins=100, alpha=0.5, label='test')\n",
        "plt.title('Сравнение распределения размеров гранул сырья на обучающей и тестовой выборках')\n",
        "plt.xlabel('размер гранул')\n",
        "plt.ylabel('количество наблюдений')\n",
        "plt.show()"
      ]
    },
    {
      "cell_type": "markdown",
      "metadata": {
        "id": "SZivCpqh-KIf"
      },
      "source": [
        "визуально значительных отличий нет."
      ]
    },
    {
      "cell_type": "markdown",
      "metadata": {
        "id": "OpZ22GQa-KIf"
      },
      "source": [
        "### суммарная концентрацию всех веществ на разных стадиях: в сырье, в черновом и финальном концентратах."
      ]
    },
    {
      "cell_type": "code",
      "execution_count": null,
      "metadata": {
        "id": "H5oD2q6V-KIf"
      },
      "outputs": [],
      "source": [
        "train_frame = train_frame.drop(index = train_frame[train_frame[\"rougher.input.feed_au\"] < 1].index,\n",
        "                               axis = 0)\n",
        "train_frame = train_frame.drop(index = train_frame[train_frame[\"rougher.input.feed_ag\"] < 1].index,\n",
        "                               axis = 0)\n",
        "train_frame = train_frame.drop(index = train_frame[train_frame[\"rougher.input.feed_pb\"] < 1].index,\n",
        "                               axis = 0)\n",
        "train_frame = train_frame.drop(index = train_frame[train_frame[\"rougher.input.feed_sol\"] < 1].index,\n",
        "                               axis = 0)\n",
        "\n",
        "\n",
        "train_frame = train_frame.drop(index = train_frame[train_frame[\"rougher.output.concentrate_au\"] < 1].index,\n",
        "                               axis = 0)\n",
        "train_frame = train_frame.drop(index = train_frame[train_frame[\"rougher.output.concentrate_ag\"] < 1].index,\n",
        "                               axis = 0)\n",
        "train_frame = train_frame.drop(index = train_frame[train_frame[\"rougher.output.concentrate_pb\"] < 1].index,\n",
        "                               axis = 0)\n",
        "train_frame = train_frame.drop(index = train_frame[train_frame[\"rougher.output.concentrate_sol\"] < 1].index,\n",
        "                               axis = 0)\n",
        "train_frame = train_frame.drop(index = train_frame[train_frame[\"primary_cleaner.output.concentrate_au\"] < 1].index,\n",
        "                               axis = 0)\n",
        "train_frame = train_frame.drop(index = train_frame[train_frame[\"primary_cleaner.output.concentrate_ag\"] < 1].index,\n",
        "                               axis = 0)\n",
        "train_frame = train_frame.drop(index = train_frame[train_frame[\"primary_cleaner.output.concentrate_pb\"] < 1].index,\n",
        "                               axis = 0)\n",
        "train_frame = train_frame.drop(index = train_frame[train_frame[\"primary_cleaner.output.concentrate_sol\"] < 1].index,\n",
        "                               axis = 0)\n",
        "\n",
        "train_frame = train_frame.drop(index = train_frame[train_frame[\"final.output.concentrate_au\"] < 1].index,\n",
        "                               axis = 0)\n",
        "train_frame = train_frame.drop(index = train_frame[train_frame[\"final.output.concentrate_ag\"] < 1].index,\n",
        "                               axis = 0)\n",
        "train_frame = train_frame.drop(index = train_frame[train_frame[\"final.output.concentrate_pb\"] < 1].index,\n",
        "                               axis = 0)\n",
        "train_frame = train_frame.drop(index = train_frame[train_frame[\"final.output.concentrate_sol\"] < 1].index,\n",
        "                               axis = 0)"
      ]
    },
    {
      "cell_type": "code",
      "execution_count": null,
      "metadata": {
        "id": "G6u7mUGJ-KIg",
        "outputId": "ecece041-d02e-4479-f52a-373e500873c0"
      },
      "outputs": [
        {
          "data": {
            "image/png": "[encoded data removed]",
            "text/plain": [
              "<Figure size 900x432 with 1 Axes>"
            ]
          },
          "metadata": {
            "needs_background": "light"
          },
          "output_type": "display_data"
        }
      ],
      "source": [
        "before = train_frame[['rougher.input.feed_ag', \n",
        "                   'rougher.input.feed_pb', \n",
        "                   'rougher.input.feed_sol', \n",
        "                   'rougher.input.feed_au']].sum(axis=1)\n",
        "plt.subplots(figsize = (12.5,6))\n",
        "sns.histplot(before, fill=True, bins=200, palette='coolwarm')\n",
        "plt.title('Суммарная концентрация металлов в сырье')\n",
        "plt.show()"
      ]
    },
    {
      "cell_type": "code",
      "execution_count": null,
      "metadata": {
        "id": "PZNXCdGQ-KIg",
        "outputId": "63a4caac-a156-463b-beb1-b0f64d397ca7"
      },
      "outputs": [
        {
          "data": {
            "image/png": "[encoded data removed]",
            "text/plain": [
              "<Figure size 900x432 with 1 Axes>"
            ]
          },
          "metadata": {
            "needs_background": "light"
          },
          "output_type": "display_data"
        }
      ],
      "source": [
        "middle = train_frame[['rougher.output.concentrate_pb', \n",
        "                   'rougher.output.concentrate_ag', \n",
        "                   'rougher.output.concentrate_sol', \n",
        "                   'rougher.output.concentrate_au']].sum(axis=1)\n",
        "plt.subplots(figsize = (12.5,6))\n",
        "sns.histplot(middle, fill=True, bins=200, palette='coolwarm')\n",
        "plt.title('Суммарная концентрация металлов в черновом концентрате')\n",
        "plt.show()"
      ]
    },
    {
      "cell_type": "code",
      "execution_count": null,
      "metadata": {
        "scrolled": true,
        "id": "7o89HdsF-KIg",
        "outputId": "3158cfd9-549f-4418-8635-218dcbe013e4"
      },
      "outputs": [
        {
          "data": {
            "image/png": "[encoded data removed]",
            "text/plain": [
              "<Figure size 900x432 with 1 Axes>"
            ]
          },
          "metadata": {
            "needs_background": "light"
          },
          "output_type": "display_data"
        }
      ],
      "source": [
        "final = train_frame[['final.output.concentrate_pb', \n",
        "                   'final.output.concentrate_ag', \n",
        "                   'final.output.concentrate_sol', \n",
        "                   'final.output.concentrate_au']].sum(axis=1)\n",
        "plt.subplots(figsize = (12.5,6))\n",
        "sns.histplot(final, fill=True, bins=200, palette='coolwarm')\n",
        "plt.title('Суммарная концентрация металлов в финальном концентрате')\n",
        "plt.show()"
      ]
    },
    {
      "cell_type": "markdown",
      "metadata": {
        "id": "z_pj2VXH-KIg"
      },
      "source": [
        "Аномалии больше всего проявляются на этапе черновой очистки, особенно в районе нуля. На этапе сырья их почти нет, в финальном концентрате есть, но не так много как на черновом. Эти аномалии могут влиять на конечные рассчетные характеристики. Поскольку в тестовой выборке содержатся только признаки для сырья, а в них почти нет аномалий, я не стала их удалять"
      ]
    },
    {
      "cell_type": "markdown",
      "metadata": {
        "id": "hC6SPuPy-KIh"
      },
      "source": [
        "## Модель"
      ]
    },
    {
      "cell_type": "code",
      "execution_count": null,
      "metadata": {
        "id": "34IyrTbe-KIh",
        "outputId": "c10d8955-76fa-48ba-8473-23e2da67f8f7"
      },
      "outputs": [
        {
          "data": {
            "text/html": [
              "<div>\n",
              "<style scoped>\n",
              "    .dataframe tbody tr th:only-of-type {\n",
              "        vertical-align: middle;\n",
              "    }\n",
              "\n",
              "    .dataframe tbody tr th {\n",
              "        vertical-align: top;\n",
              "    }\n",
              "\n",
              "    .dataframe thead th {\n",
              "        text-align: right;\n",
              "    }\n",
              "</style>\n",
              "<table border=\"1\" class=\"dataframe\">\n",
              "  <thead>\n",
              "    <tr style=\"text-align: right;\">\n",
              "      <th></th>\n",
              "      <th>date</th>\n",
              "      <th>rougher.output.recovery</th>\n",
              "      <th>final.output.recovery</th>\n",
              "    </tr>\n",
              "  </thead>\n",
              "  <tbody>\n",
              "    <tr>\n",
              "      <th>0</th>\n",
              "      <td>2016-01-15 00:00:00</td>\n",
              "      <td>87.107763</td>\n",
              "      <td>70.541216</td>\n",
              "    </tr>\n",
              "    <tr>\n",
              "      <th>1</th>\n",
              "      <td>2016-01-15 01:00:00</td>\n",
              "      <td>86.843261</td>\n",
              "      <td>69.266198</td>\n",
              "    </tr>\n",
              "    <tr>\n",
              "      <th>2</th>\n",
              "      <td>2016-01-15 02:00:00</td>\n",
              "      <td>86.842308</td>\n",
              "      <td>68.116445</td>\n",
              "    </tr>\n",
              "    <tr>\n",
              "      <th>3</th>\n",
              "      <td>2016-01-15 03:00:00</td>\n",
              "      <td>87.226430</td>\n",
              "      <td>68.347543</td>\n",
              "    </tr>\n",
              "    <tr>\n",
              "      <th>4</th>\n",
              "      <td>2016-01-15 04:00:00</td>\n",
              "      <td>86.688794</td>\n",
              "      <td>66.927016</td>\n",
              "    </tr>\n",
              "  </tbody>\n",
              "</table>\n",
              "</div>"
            ],
            "text/plain": [
              "                  date  rougher.output.recovery  final.output.recovery\n",
              "0  2016-01-15 00:00:00                87.107763              70.541216\n",
              "1  2016-01-15 01:00:00                86.843261              69.266198\n",
              "2  2016-01-15 02:00:00                86.842308              68.116445\n",
              "3  2016-01-15 03:00:00                87.226430              68.347543\n",
              "4  2016-01-15 04:00:00                86.688794              66.927016"
            ]
          },
          "execution_count": 31,
          "metadata": {},
          "output_type": "execute_result"
        }
      ],
      "source": [
        "df_target = full_frame[['date', 'rougher.output.recovery', 'final.output.recovery']]\n",
        "df_target.head()"
      ]
    },
    {
      "cell_type": "code",
      "execution_count": null,
      "metadata": {
        "id": "yEwnyDdt-KIh"
      },
      "outputs": [],
      "source": [
        "test_frame = test_frame.merge(df_target, how = 'left', on = 'date')"
      ]
    },
    {
      "cell_type": "code",
      "execution_count": null,
      "metadata": {
        "id": "hl1e1arM-KIh"
      },
      "outputs": [],
      "source": [
        "test_frame.drop(['date'], axis=1, inplace=True)"
      ]
    },
    {
      "cell_type": "code",
      "execution_count": null,
      "metadata": {
        "id": "Jc0KEWmp-KIh"
      },
      "outputs": [],
      "source": [
        "train_frame = train_frame.drop(set(train_frame.columns)-set(test_frame.columns), axis=1)"
      ]
    },
    {
      "cell_type": "code",
      "execution_count": null,
      "metadata": {
        "id": "LQTGcJ9e-KIh"
      },
      "outputs": [],
      "source": [
        "def smape_total(target_rougher, predicted_rougher, target_final, predicted_final):\n",
        "    smape_rough = 1/len(target_rougher) * np.sum(2 * np.abs(\n",
        "      target_rougher - predicted_rougher) / (np.abs(target_rougher) + np.abs(predicted_rougher))*100)\n",
        "    smape_fin = 1/len(target_final) * np.sum(2 * np.abs(\n",
        "      target_final - predicted_final) / (np.abs(target_final) + np.abs(predicted_final))*100)\n",
        "    return (0.25*smape_rough) + (0.75*smape_fin)\n"
      ]
    },
    {
      "cell_type": "code",
      "execution_count": null,
      "metadata": {
        "id": "Lo_liUsR-KIh"
      },
      "outputs": [],
      "source": [
        "def smape(target, predicted):\n",
        "    return 1/len(target) * np.sum(2 * np.abs(\n",
        "       target - predicted) / (np.abs(target) + np.abs(predicted))*100)\n",
        "def smape_final(rougher, final):\n",
        "    return 0.25*rougher + 0.75*final\n"
      ]
    },
    {
      "cell_type": "code",
      "execution_count": null,
      "metadata": {
        "id": "a3Jjdl3O-KIj"
      },
      "outputs": [],
      "source": [
        "features_train_r = train_frame.filter(regex='^rougher',axis=1)\n",
        "features_train_r = features_train_r.drop(['rougher.output.recovery'], axis=1)\n",
        "target_train_r = train_frame['rougher.output.recovery']\n",
        "\n",
        "features_train_f = train_frame.drop(['rougher.output.recovery', 'final.output.recovery'], axis=1)\n",
        "target_train_f = train_frame['final.output.recovery']\n",
        "\n",
        "features_test_r = test_frame.filter(regex='^rougher',axis=1)\n",
        "features_test_r = features_test_r.drop(['rougher.output.recovery'], axis=1)\n",
        "target_test_r = test_frame['rougher.output.recovery']\n",
        "\n",
        "features_test_f = test_frame.drop(['rougher.output.recovery', 'final.output.recovery'], axis=1)\n",
        "target_test_f = test_frame['final.output.recovery']"
      ]
    },
    {
      "cell_type": "code",
      "execution_count": null,
      "metadata": {
        "id": "dfJjTQjM-KIj",
        "outputId": "85620670-7b87-40dd-dc57-722b9afd32a9"
      },
      "outputs": [
        {
          "data": {
            "text/plain": [
              "(13304, 22)"
            ]
          },
          "metadata": {},
          "output_type": "display_data"
        },
        {
          "data": {
            "text/plain": [
              "(13304,)"
            ]
          },
          "metadata": {},
          "output_type": "display_data"
        },
        {
          "data": {
            "text/plain": [
              "(13304, 52)"
            ]
          },
          "metadata": {},
          "output_type": "display_data"
        },
        {
          "data": {
            "text/plain": [
              "(13304,)"
            ]
          },
          "metadata": {},
          "output_type": "display_data"
        },
        {
          "data": {
            "text/plain": [
              "(5276, 22)"
            ]
          },
          "metadata": {},
          "output_type": "display_data"
        },
        {
          "data": {
            "text/plain": [
              "(5276,)"
            ]
          },
          "metadata": {},
          "output_type": "display_data"
        },
        {
          "data": {
            "text/plain": [
              "(5276, 52)"
            ]
          },
          "metadata": {},
          "output_type": "display_data"
        },
        {
          "data": {
            "text/plain": [
              "(5276,)"
            ]
          },
          "metadata": {},
          "output_type": "display_data"
        }
      ],
      "source": [
        "display(features_train_r.shape)\n",
        "display(target_train_r.shape)\n",
        "display(features_train_f.shape)\n",
        "display(target_train_f.shape)\n",
        "display(features_test_r.shape)\n",
        "display(target_test_r.shape)\n",
        "display(features_test_f.shape)\n",
        "display(target_test_f.shape)"
      ]
    },
    {
      "cell_type": "markdown",
      "metadata": {
        "id": "FedUD95O-KIj"
      },
      "source": [
        "# Обучение моделей"
      ]
    },
    {
      "cell_type": "code",
      "execution_count": null,
      "metadata": {
        "id": "NeGOexA3-KIj",
        "outputId": "7806fcc7-1464-4467-ca20-594cb3d81340"
      },
      "outputs": [
        {
          "name": "stdout",
          "output_type": "stream",
          "text": [
            "sMAPE = 9.673962390618957\n"
          ]
        }
      ],
      "source": [
        "model = LinearRegression()\n",
        "scorer = make_scorer(smape)\n",
        "rougher_lin = cross_val_score(model, features_train_r, target_train_r, scoring=scorer, cv=5)\n",
        "final_lin =  cross_val_score(model, features_train_f, target_train_f, scoring=scorer, cv=5)\n",
        "print('sMAPE =', smape_final(rougher_lin, final_lin).mean())"
      ]
    },
    {
      "cell_type": "code",
      "execution_count": null,
      "metadata": {
        "id": "QKwuH5FH-KIk",
        "outputId": "0aaefcc1-148b-4d0f-9483-18f0bb5ec2a9"
      },
      "outputs": [
        {
          "name": "stdout",
          "output_type": "stream",
          "text": [
            "depth= 1\n",
            "sMAPE = 8.854017023368183\n",
            "depth= 3\n",
            "sMAPE = 8.4622787502315\n",
            "depth= 5\n",
            "sMAPE = 8.857786336999299\n",
            "depth= 7\n",
            "sMAPE = 10.05176643163934\n",
            "depth= 9\n",
            "sMAPE = 10.65859180092193\n",
            "depth= 11\n",
            "sMAPE = 11.686966472954404\n",
            "depth= 13\n",
            "sMAPE = 11.547811546710147\n",
            "depth= 15\n",
            "sMAPE = 12.184880545619256\n",
            "depth= 17\n",
            "sMAPE = 13.662542532989875\n",
            "depth= 19\n",
            "sMAPE = 12.74352930298524\n",
            "depth= 21\n",
            "sMAPE = 13.221858775235244\n",
            "\n"
          ]
        }
      ],
      "source": [
        "for depth in range(1, 22, 2):\n",
        "    model2 = DecisionTreeRegressor(random_state=12345, max_depth = depth)\n",
        "    scorer = make_scorer(smape)\n",
        "    rougher_tree = cross_val_score(model2, features_train_r, target_train_r, scoring=scorer, cv=5)\n",
        "    final_tree = cross_val_score(model2, features_train_f, target_train_f, scoring=scorer, cv=5)\n",
        "    print('depth=',depth)\n",
        "    print('sMAPE =',smape_final(rougher_tree, final_tree).mean())\n",
        "print()"
      ]
    },
    {
      "cell_type": "markdown",
      "metadata": {
        "id": "cpk59_FH-KIk"
      },
      "source": [
        "Наилучший результат = 13.6 при глубине = 17. Этот результат лучше, чем у линейной регрессии = 9.67."
      ]
    },
    {
      "cell_type": "markdown",
      "metadata": {
        "id": "DRAAhWAt-KIk"
      },
      "source": [
        "# Проверка"
      ]
    },
    {
      "cell_type": "code",
      "execution_count": null,
      "metadata": {
        "id": "ZXAx0RHZ-KIk",
        "outputId": "9e2a5729-3105-475f-d256-d817c5a22a46"
      },
      "outputs": [
        {
          "name": "stdout",
          "output_type": "stream",
          "text": [
            "sMAPE = 7.287810067213351\n"
          ]
        }
      ],
      "source": [
        "dummy_model_r = DummyRegressor(strategy=\"mean\")\n",
        "dummy_model_f = DummyRegressor(strategy=\"mean\")\n",
        "dummy_model_r.fit(features_train_r, target_train_r)\n",
        "dummy_model_f.fit(features_train_f, target_train_f)\n",
        "test_predictions_r = dummy_model_r.predict(features_test_r)\n",
        "test_predictions_f = dummy_model_f.predict(features_test_f)\n",
        "print('sMAPE =',smape_total(target_test_r, test_predictions_r, target_test_f, test_predictions_f).mean())"
      ]
    },
    {
      "cell_type": "code",
      "execution_count": null,
      "metadata": {
        "id": "SdMyqTvl-KIl",
        "outputId": "7b69990b-6e3f-414f-bc72-66deff432fbb"
      },
      "outputs": [
        {
          "name": "stdout",
          "output_type": "stream",
          "text": [
            "Итоговое sMAPE на тестовой выборке: 7.202288717314682\n"
          ]
        }
      ],
      "source": [
        "model_r = DecisionTreeRegressor(random_state=12345, max_depth = 3)\n",
        "model_f = DecisionTreeRegressor(random_state=12345, max_depth = 3)\n",
        "model_r.fit(features_train_r, target_train_r)\n",
        "model_f.fit(features_train_f, target_train_f)\n",
        "test_predictions_r = model_r.predict(features_test_r)\n",
        "test_predictions_f = model_f.predict(features_test_f)\n",
        "print('Итоговое sMAPE на тестовой выборке:',smape_total(\n",
        "    target_test_r, test_predictions_r, target_test_f, test_predictions_f).mean())\n"
      ]
    },
    {
      "cell_type": "markdown",
      "metadata": {
        "id": "Mo4Z3qaQ-KIl"
      },
      "source": [
        "В ходе анализа данных было выявлено:\n",
        "* Концентрация серебра уменьшается в процессе очистки. Самая большая концентрация на первой стадии и самая маленькая на конечной.\n",
        "\n",
        "* Концентрация свинца значительно повышается от стадии флотации к первичной очистке, и еще немного повышается на стадии финальной очистки.\n",
        "\n",
        "* Концентрация золота равномерно повышается от флотации до финальной очистки.\n",
        "\n",
        "* Итоговая модель построена на алгоритме DecisionTreeRegressor\n",
        "\n",
        "* sMAPE  = 7.20\n"
      ]
    }
  ],
  "metadata": {
    "ExecuteTimeLog": [
      {
        "duration": 1657,
        "start_time": "2022-12-03T17:41:45.266Z"
      },
      {
        "duration": 528,
        "start_time": "2022-12-03T17:42:10.509Z"
      },
      {
        "duration": 465,
        "start_time": "2022-12-03T17:42:26.108Z"
      },
      {
        "duration": 174,
        "start_time": "2022-12-03T17:43:24.121Z"
      },
      {
        "duration": 59,
        "start_time": "2022-12-03T17:43:54.296Z"
      },
      {
        "duration": 2126,
        "start_time": "2022-12-03T17:44:58.810Z"
      },
      {
        "duration": 19,
        "start_time": "2022-12-03T17:45:17.294Z"
      },
      {
        "duration": 44,
        "start_time": "2022-12-03T17:45:29.397Z"
      },
      {
        "duration": 18,
        "start_time": "2022-12-03T17:45:44.760Z"
      },
      {
        "duration": 32,
        "start_time": "2022-12-03T17:45:55.875Z"
      },
      {
        "duration": 10,
        "start_time": "2022-12-03T17:47:28.601Z"
      },
      {
        "duration": 61,
        "start_time": "2022-12-03T17:47:48.612Z"
      },
      {
        "duration": 9,
        "start_time": "2022-12-03T17:48:56.598Z"
      },
      {
        "duration": 3,
        "start_time": "2022-12-03T17:49:44.274Z"
      },
      {
        "duration": 10,
        "start_time": "2022-12-03T17:50:36.456Z"
      },
      {
        "duration": 15,
        "start_time": "2022-12-03T17:51:02.504Z"
      },
      {
        "duration": 5,
        "start_time": "2022-12-03T17:51:10.052Z"
      },
      {
        "duration": 78,
        "start_time": "2022-12-03T17:53:29.624Z"
      },
      {
        "duration": 5,
        "start_time": "2022-12-03T17:53:35.665Z"
      },
      {
        "duration": 7,
        "start_time": "2022-12-03T17:54:17.748Z"
      },
      {
        "duration": 6,
        "start_time": "2022-12-03T17:54:51.696Z"
      },
      {
        "duration": 6,
        "start_time": "2022-12-03T17:55:04.090Z"
      },
      {
        "duration": 7,
        "start_time": "2022-12-03T17:55:45.956Z"
      },
      {
        "duration": 10,
        "start_time": "2022-12-03T17:56:35.812Z"
      },
      {
        "duration": 5,
        "start_time": "2022-12-03T17:56:48.716Z"
      },
      {
        "duration": 9,
        "start_time": "2022-12-03T17:59:42.323Z"
      },
      {
        "duration": 5,
        "start_time": "2022-12-03T17:59:51.633Z"
      },
      {
        "duration": 5,
        "start_time": "2022-12-03T18:00:10.957Z"
      },
      {
        "duration": 28,
        "start_time": "2022-12-03T18:02:59.398Z"
      },
      {
        "duration": 69,
        "start_time": "2022-12-03T18:09:27.883Z"
      },
      {
        "duration": 42,
        "start_time": "2022-12-03T18:11:18.713Z"
      },
      {
        "duration": 127,
        "start_time": "2022-12-03T18:11:54.235Z"
      },
      {
        "duration": 130,
        "start_time": "2022-12-03T18:12:09.870Z"
      },
      {
        "duration": 273,
        "start_time": "2022-12-03T18:13:05.848Z"
      },
      {
        "duration": 595,
        "start_time": "2022-12-03T18:26:31.413Z"
      },
      {
        "duration": 746,
        "start_time": "2022-12-03T18:27:19.007Z"
      },
      {
        "duration": 586,
        "start_time": "2022-12-03T18:28:40.633Z"
      },
      {
        "duration": 705,
        "start_time": "2022-12-03T18:29:33.876Z"
      },
      {
        "duration": 585,
        "start_time": "2022-12-03T18:29:42.867Z"
      },
      {
        "duration": 538,
        "start_time": "2022-12-03T18:30:05.423Z"
      },
      {
        "duration": 734,
        "start_time": "2022-12-03T18:30:10.897Z"
      },
      {
        "duration": 592,
        "start_time": "2022-12-03T18:30:25.760Z"
      },
      {
        "duration": 556,
        "start_time": "2022-12-03T18:30:52.978Z"
      },
      {
        "duration": 738,
        "start_time": "2022-12-03T18:31:14.997Z"
      },
      {
        "duration": 12,
        "start_time": "2022-12-03T18:32:24.237Z"
      },
      {
        "duration": 11,
        "start_time": "2022-12-03T18:32:24.601Z"
      },
      {
        "duration": 7,
        "start_time": "2022-12-03T18:32:49.193Z"
      },
      {
        "duration": 5,
        "start_time": "2022-12-03T18:32:51.874Z"
      },
      {
        "duration": 6,
        "start_time": "2022-12-03T18:32:52.661Z"
      },
      {
        "duration": 606,
        "start_time": "2022-12-03T18:35:09.175Z"
      },
      {
        "duration": 481,
        "start_time": "2022-12-03T18:35:22.697Z"
      },
      {
        "duration": 615,
        "start_time": "2022-12-03T18:35:33.796Z"
      },
      {
        "duration": 388,
        "start_time": "2022-12-03T18:35:43.009Z"
      },
      {
        "duration": 666,
        "start_time": "2022-12-03T18:35:48.959Z"
      },
      {
        "duration": 1569,
        "start_time": "2022-12-06T13:39:37.181Z"
      },
      {
        "duration": 1985,
        "start_time": "2022-12-06T13:39:38.752Z"
      },
      {
        "duration": 42,
        "start_time": "2022-12-06T13:39:40.739Z"
      },
      {
        "duration": 3,
        "start_time": "2022-12-06T13:39:40.782Z"
      },
      {
        "duration": 6,
        "start_time": "2022-12-06T13:39:41.795Z"
      },
      {
        "duration": 6,
        "start_time": "2022-12-06T13:39:42.303Z"
      },
      {
        "duration": 4,
        "start_time": "2022-12-06T13:39:42.842Z"
      },
      {
        "duration": 4,
        "start_time": "2022-12-06T13:39:44.752Z"
      },
      {
        "duration": 23,
        "start_time": "2022-12-06T13:39:48.891Z"
      },
      {
        "duration": 43,
        "start_time": "2022-12-06T13:39:52.947Z"
      },
      {
        "duration": 221,
        "start_time": "2022-12-06T13:39:56.394Z"
      },
      {
        "duration": 102,
        "start_time": "2022-12-06T14:00:51.020Z"
      },
      {
        "duration": 4,
        "start_time": "2022-12-06T14:01:03.876Z"
      },
      {
        "duration": 11,
        "start_time": "2022-12-06T14:01:30.016Z"
      },
      {
        "duration": 77,
        "start_time": "2022-12-06T14:02:12.791Z"
      },
      {
        "duration": 129,
        "start_time": "2022-12-06T14:02:25.300Z"
      },
      {
        "duration": 148,
        "start_time": "2022-12-06T14:03:26.328Z"
      },
      {
        "duration": 332,
        "start_time": "2022-12-06T14:04:37.097Z"
      },
      {
        "duration": 276,
        "start_time": "2022-12-06T14:04:42.339Z"
      },
      {
        "duration": 194,
        "start_time": "2022-12-06T14:07:04.158Z"
      },
      {
        "duration": 120,
        "start_time": "2022-12-06T14:08:14.399Z"
      },
      {
        "duration": 121,
        "start_time": "2022-12-06T14:08:39.862Z"
      },
      {
        "duration": 5,
        "start_time": "2022-12-06T14:09:17.510Z"
      },
      {
        "duration": 133,
        "start_time": "2022-12-06T14:09:17.949Z"
      },
      {
        "duration": 10,
        "start_time": "2022-12-06T14:11:40.678Z"
      },
      {
        "duration": 5,
        "start_time": "2022-12-06T14:11:52.212Z"
      },
      {
        "duration": 4,
        "start_time": "2022-12-06T14:12:20.792Z"
      },
      {
        "duration": 126,
        "start_time": "2022-12-06T14:12:21.501Z"
      },
      {
        "duration": 126,
        "start_time": "2022-12-06T14:12:34.626Z"
      },
      {
        "duration": 5,
        "start_time": "2022-12-06T14:14:07.880Z"
      },
      {
        "duration": 124,
        "start_time": "2022-12-06T14:14:35.963Z"
      },
      {
        "duration": 777,
        "start_time": "2022-12-06T14:20:12.568Z"
      },
      {
        "duration": 613,
        "start_time": "2022-12-06T14:20:23.597Z"
      },
      {
        "duration": 691,
        "start_time": "2022-12-06T14:20:29.381Z"
      },
      {
        "duration": 686,
        "start_time": "2022-12-06T14:20:33.744Z"
      },
      {
        "duration": 337,
        "start_time": "2022-12-06T14:20:47.228Z"
      },
      {
        "duration": 12,
        "start_time": "2022-12-06T14:25:30.562Z"
      },
      {
        "duration": 670,
        "start_time": "2022-12-06T14:25:38.528Z"
      },
      {
        "duration": 433,
        "start_time": "2022-12-06T14:27:21.035Z"
      },
      {
        "duration": 445,
        "start_time": "2022-12-06T14:27:38.901Z"
      },
      {
        "duration": 5,
        "start_time": "2022-12-06T14:29:52.530Z"
      },
      {
        "duration": 13,
        "start_time": "2022-12-06T14:30:10.920Z"
      },
      {
        "duration": 72,
        "start_time": "2022-12-06T14:31:00.375Z"
      },
      {
        "duration": 9,
        "start_time": "2022-12-06T14:31:24.484Z"
      },
      {
        "duration": 5,
        "start_time": "2022-12-06T14:31:29.542Z"
      },
      {
        "duration": 11,
        "start_time": "2022-12-06T14:31:48.968Z"
      },
      {
        "duration": 9,
        "start_time": "2022-12-06T14:31:57.100Z"
      },
      {
        "duration": 127,
        "start_time": "2022-12-06T14:32:34.875Z"
      },
      {
        "duration": 5,
        "start_time": "2022-12-06T14:32:42.585Z"
      },
      {
        "duration": 117,
        "start_time": "2022-12-06T14:32:47.042Z"
      },
      {
        "duration": 59,
        "start_time": "2022-12-06T14:33:21.220Z"
      },
      {
        "duration": 606,
        "start_time": "2022-12-06T14:33:26.405Z"
      },
      {
        "duration": 452,
        "start_time": "2022-12-06T14:33:44.608Z"
      },
      {
        "duration": 19,
        "start_time": "2022-12-06T14:34:43.959Z"
      },
      {
        "duration": 695,
        "start_time": "2022-12-06T14:34:49.129Z"
      },
      {
        "duration": 573,
        "start_time": "2022-12-06T14:36:03.393Z"
      },
      {
        "duration": 421,
        "start_time": "2022-12-06T14:36:24.701Z"
      },
      {
        "duration": 404,
        "start_time": "2022-12-06T14:36:30.988Z"
      },
      {
        "duration": 396,
        "start_time": "2022-12-06T14:37:01.505Z"
      },
      {
        "duration": 603,
        "start_time": "2022-12-06T14:37:20.891Z"
      },
      {
        "duration": 411,
        "start_time": "2022-12-06T14:37:41.287Z"
      },
      {
        "duration": 11,
        "start_time": "2022-12-06T15:43:38.817Z"
      },
      {
        "duration": 10,
        "start_time": "2022-12-06T15:46:01.802Z"
      },
      {
        "duration": 12,
        "start_time": "2022-12-06T15:46:26.037Z"
      },
      {
        "duration": 37,
        "start_time": "2022-12-06T15:46:46.984Z"
      },
      {
        "duration": 30,
        "start_time": "2022-12-06T15:47:03.458Z"
      },
      {
        "duration": 9,
        "start_time": "2022-12-06T15:47:28.180Z"
      },
      {
        "duration": 17,
        "start_time": "2022-12-06T15:47:38.788Z"
      },
      {
        "duration": 27,
        "start_time": "2022-12-06T15:47:44.323Z"
      },
      {
        "duration": 5,
        "start_time": "2022-12-06T15:47:49.533Z"
      },
      {
        "duration": 4,
        "start_time": "2022-12-06T15:48:53.211Z"
      },
      {
        "duration": 3,
        "start_time": "2022-12-06T15:50:59.202Z"
      },
      {
        "duration": 3,
        "start_time": "2022-12-06T15:51:06.620Z"
      },
      {
        "duration": 13,
        "start_time": "2022-12-06T15:51:34.292Z"
      },
      {
        "duration": 20,
        "start_time": "2022-12-06T15:52:07.537Z"
      },
      {
        "duration": 73,
        "start_time": "2022-12-06T15:52:28.846Z"
      },
      {
        "duration": 67,
        "start_time": "2022-12-06T15:52:31.888Z"
      },
      {
        "duration": 5,
        "start_time": "2022-12-06T15:52:37.357Z"
      },
      {
        "duration": 3,
        "start_time": "2022-12-06T15:53:04.735Z"
      },
      {
        "duration": 17,
        "start_time": "2022-12-06T15:53:07.073Z"
      },
      {
        "duration": 17,
        "start_time": "2022-12-06T15:53:09.715Z"
      },
      {
        "duration": 16,
        "start_time": "2022-12-06T15:53:15.423Z"
      },
      {
        "duration": 17,
        "start_time": "2022-12-06T15:53:35.130Z"
      },
      {
        "duration": 6,
        "start_time": "2022-12-06T15:53:55.073Z"
      },
      {
        "duration": 4,
        "start_time": "2022-12-06T15:53:55.459Z"
      },
      {
        "duration": 4,
        "start_time": "2022-12-06T15:53:55.917Z"
      },
      {
        "duration": 16,
        "start_time": "2022-12-06T15:53:57.003Z"
      },
      {
        "duration": 16,
        "start_time": "2022-12-06T15:54:52.257Z"
      },
      {
        "duration": 4,
        "start_time": "2022-12-06T15:58:14.560Z"
      },
      {
        "duration": 4,
        "start_time": "2022-12-06T15:58:15.000Z"
      },
      {
        "duration": 16,
        "start_time": "2022-12-06T15:59:04.532Z"
      },
      {
        "duration": 4,
        "start_time": "2022-12-06T16:00:00.165Z"
      },
      {
        "duration": 16,
        "start_time": "2022-12-06T16:00:06.640Z"
      },
      {
        "duration": 12,
        "start_time": "2022-12-06T16:05:48.603Z"
      },
      {
        "duration": 11,
        "start_time": "2022-12-06T16:07:37.367Z"
      },
      {
        "duration": 9,
        "start_time": "2022-12-06T16:07:44.262Z"
      },
      {
        "duration": 16,
        "start_time": "2022-12-06T16:08:31.929Z"
      },
      {
        "duration": 13,
        "start_time": "2022-12-06T16:08:46.052Z"
      },
      {
        "duration": 14,
        "start_time": "2022-12-06T16:09:04.284Z"
      },
      {
        "duration": 1501,
        "start_time": "2022-12-06T16:09:14.596Z"
      },
      {
        "duration": 0,
        "start_time": "2022-12-06T16:09:16.098Z"
      },
      {
        "duration": 0,
        "start_time": "2022-12-06T16:09:16.100Z"
      },
      {
        "duration": 0,
        "start_time": "2022-12-06T16:09:16.100Z"
      },
      {
        "duration": 0,
        "start_time": "2022-12-06T16:09:16.101Z"
      },
      {
        "duration": 12,
        "start_time": "2022-12-06T16:09:16.306Z"
      },
      {
        "duration": 10,
        "start_time": "2022-12-06T16:09:16.561Z"
      },
      {
        "duration": 10,
        "start_time": "2022-12-06T16:09:21.195Z"
      },
      {
        "duration": 4,
        "start_time": "2022-12-06T16:09:56.080Z"
      },
      {
        "duration": 4,
        "start_time": "2022-12-06T16:09:59.047Z"
      },
      {
        "duration": 10,
        "start_time": "2022-12-06T16:09:59.377Z"
      },
      {
        "duration": 5,
        "start_time": "2022-12-06T16:10:27.362Z"
      },
      {
        "duration": 653,
        "start_time": "2022-12-06T16:10:29.207Z"
      },
      {
        "duration": 54,
        "start_time": "2022-12-06T16:10:29.861Z"
      },
      {
        "duration": 3,
        "start_time": "2022-12-06T16:10:31.008Z"
      },
      {
        "duration": 7,
        "start_time": "2022-12-06T16:10:31.210Z"
      },
      {
        "duration": 5,
        "start_time": "2022-12-06T16:10:31.842Z"
      },
      {
        "duration": 3,
        "start_time": "2022-12-06T16:10:32.810Z"
      },
      {
        "duration": 4,
        "start_time": "2022-12-06T16:10:34.808Z"
      },
      {
        "duration": 24,
        "start_time": "2022-12-06T16:10:36.184Z"
      },
      {
        "duration": 49,
        "start_time": "2022-12-06T16:10:36.924Z"
      },
      {
        "duration": 232,
        "start_time": "2022-12-06T16:10:37.411Z"
      },
      {
        "duration": 5,
        "start_time": "2022-12-06T16:10:38.208Z"
      },
      {
        "duration": 165,
        "start_time": "2022-12-06T16:10:38.974Z"
      },
      {
        "duration": 5,
        "start_time": "2022-12-06T16:10:39.709Z"
      },
      {
        "duration": 132,
        "start_time": "2022-12-06T16:10:40.090Z"
      },
      {
        "duration": 5,
        "start_time": "2022-12-06T16:10:40.751Z"
      },
      {
        "duration": 132,
        "start_time": "2022-12-06T16:10:41.030Z"
      },
      {
        "duration": 437,
        "start_time": "2022-12-06T16:10:42.065Z"
      },
      {
        "duration": 415,
        "start_time": "2022-12-06T16:10:46.722Z"
      },
      {
        "duration": 401,
        "start_time": "2022-12-06T16:10:47.272Z"
      },
      {
        "duration": 525,
        "start_time": "2022-12-06T16:10:48.162Z"
      },
      {
        "duration": 12,
        "start_time": "2022-12-06T16:10:48.912Z"
      },
      {
        "duration": 14,
        "start_time": "2022-12-06T16:10:49.377Z"
      },
      {
        "duration": 8,
        "start_time": "2022-12-06T16:10:50.301Z"
      },
      {
        "duration": 13,
        "start_time": "2022-12-06T16:10:52.209Z"
      },
      {
        "duration": 15,
        "start_time": "2022-12-06T16:11:02.515Z"
      },
      {
        "duration": 5,
        "start_time": "2022-12-06T16:11:24.000Z"
      },
      {
        "duration": 7,
        "start_time": "2022-12-06T16:11:35.821Z"
      },
      {
        "duration": 18,
        "start_time": "2022-12-06T16:12:12.447Z"
      },
      {
        "duration": 15,
        "start_time": "2022-12-06T16:12:22.756Z"
      },
      {
        "duration": 57,
        "start_time": "2022-12-06T16:12:36.122Z"
      },
      {
        "duration": 4,
        "start_time": "2022-12-06T16:12:58.905Z"
      },
      {
        "duration": 50,
        "start_time": "2022-12-06T16:13:02.895Z"
      },
      {
        "duration": 310,
        "start_time": "2022-12-06T16:13:31.327Z"
      },
      {
        "duration": 17,
        "start_time": "2022-12-06T16:13:52.812Z"
      },
      {
        "duration": 10,
        "start_time": "2022-12-06T16:14:09.504Z"
      },
      {
        "duration": 28,
        "start_time": "2022-12-06T16:14:09.515Z"
      },
      {
        "duration": 14,
        "start_time": "2022-12-06T16:14:09.603Z"
      },
      {
        "duration": 4,
        "start_time": "2022-12-06T16:14:10.363Z"
      },
      {
        "duration": 1400,
        "start_time": "2022-12-06T16:14:23.753Z"
      },
      {
        "duration": 684,
        "start_time": "2022-12-06T16:14:25.154Z"
      },
      {
        "duration": 61,
        "start_time": "2022-12-06T16:14:25.840Z"
      },
      {
        "duration": 3,
        "start_time": "2022-12-06T16:14:26.871Z"
      },
      {
        "duration": 6,
        "start_time": "2022-12-06T16:14:27.084Z"
      },
      {
        "duration": 6,
        "start_time": "2022-12-06T16:14:27.271Z"
      },
      {
        "duration": 5,
        "start_time": "2022-12-06T16:14:27.463Z"
      },
      {
        "duration": 4,
        "start_time": "2022-12-06T16:14:28.007Z"
      },
      {
        "duration": 22,
        "start_time": "2022-12-06T16:14:28.826Z"
      },
      {
        "duration": 38,
        "start_time": "2022-12-06T16:14:29.252Z"
      },
      {
        "duration": 220,
        "start_time": "2022-12-06T16:14:29.452Z"
      },
      {
        "duration": 5,
        "start_time": "2022-12-06T16:14:29.893Z"
      },
      {
        "duration": 139,
        "start_time": "2022-12-06T16:14:30.308Z"
      },
      {
        "duration": 5,
        "start_time": "2022-12-06T16:14:30.699Z"
      },
      {
        "duration": 140,
        "start_time": "2022-12-06T16:14:30.954Z"
      },
      {
        "duration": 5,
        "start_time": "2022-12-06T16:14:31.416Z"
      },
      {
        "duration": 130,
        "start_time": "2022-12-06T16:14:31.598Z"
      },
      {
        "duration": 445,
        "start_time": "2022-12-06T16:14:32.067Z"
      },
      {
        "duration": 408,
        "start_time": "2022-12-06T16:14:32.758Z"
      },
      {
        "duration": 406,
        "start_time": "2022-12-06T16:14:33.168Z"
      },
      {
        "duration": 596,
        "start_time": "2022-12-06T16:14:33.578Z"
      },
      {
        "duration": 12,
        "start_time": "2022-12-06T16:14:34.178Z"
      },
      {
        "duration": 48,
        "start_time": "2022-12-06T16:14:34.191Z"
      },
      {
        "duration": 27,
        "start_time": "2022-12-06T16:14:34.254Z"
      },
      {
        "duration": 16,
        "start_time": "2022-12-06T16:14:34.500Z"
      },
      {
        "duration": 4,
        "start_time": "2022-12-06T16:14:35.109Z"
      },
      {
        "duration": 3,
        "start_time": "2022-12-06T16:14:35.570Z"
      },
      {
        "duration": 17,
        "start_time": "2022-12-06T16:14:35.991Z"
      },
      {
        "duration": 12,
        "start_time": "2022-12-06T16:14:36.422Z"
      },
      {
        "duration": 69,
        "start_time": "2022-12-06T16:14:37.495Z"
      },
      {
        "duration": 373,
        "start_time": "2022-12-06T16:14:38.165Z"
      },
      {
        "duration": 122,
        "start_time": "2022-12-06T16:14:38.739Z"
      },
      {
        "duration": 4,
        "start_time": "2022-12-06T16:15:21.030Z"
      },
      {
        "duration": 645,
        "start_time": "2022-12-06T16:15:21.494Z"
      },
      {
        "duration": 1331,
        "start_time": "2022-12-06T16:15:28.914Z"
      },
      {
        "duration": 682,
        "start_time": "2022-12-06T16:15:30.247Z"
      },
      {
        "duration": 60,
        "start_time": "2022-12-06T16:15:30.932Z"
      },
      {
        "duration": 3,
        "start_time": "2022-12-06T16:15:31.110Z"
      },
      {
        "duration": 6,
        "start_time": "2022-12-06T16:15:32.162Z"
      },
      {
        "duration": 5,
        "start_time": "2022-12-06T16:15:32.629Z"
      },
      {
        "duration": 5,
        "start_time": "2022-12-06T16:15:33.020Z"
      },
      {
        "duration": 5,
        "start_time": "2022-12-06T16:15:34.461Z"
      },
      {
        "duration": 24,
        "start_time": "2022-12-06T16:15:35.268Z"
      },
      {
        "duration": 47,
        "start_time": "2022-12-06T16:15:35.737Z"
      },
      {
        "duration": 240,
        "start_time": "2022-12-06T16:15:35.990Z"
      },
      {
        "duration": 5,
        "start_time": "2022-12-06T16:15:36.768Z"
      },
      {
        "duration": 163,
        "start_time": "2022-12-06T16:15:37.960Z"
      },
      {
        "duration": 7,
        "start_time": "2022-12-06T16:15:38.923Z"
      },
      {
        "duration": 142,
        "start_time": "2022-12-06T16:15:39.309Z"
      },
      {
        "duration": 5,
        "start_time": "2022-12-06T16:15:40.344Z"
      },
      {
        "duration": 120,
        "start_time": "2022-12-06T16:15:40.646Z"
      },
      {
        "duration": 440,
        "start_time": "2022-12-06T16:15:41.282Z"
      },
      {
        "duration": 404,
        "start_time": "2022-12-06T16:15:42.734Z"
      },
      {
        "duration": 398,
        "start_time": "2022-12-06T16:15:43.140Z"
      },
      {
        "duration": 568,
        "start_time": "2022-12-06T16:15:43.741Z"
      },
      {
        "duration": 14,
        "start_time": "2022-12-06T16:15:44.341Z"
      },
      {
        "duration": 17,
        "start_time": "2022-12-06T16:15:44.553Z"
      },
      {
        "duration": 10,
        "start_time": "2022-12-06T16:15:44.743Z"
      },
      {
        "duration": 19,
        "start_time": "2022-12-06T16:15:44.943Z"
      },
      {
        "duration": 4,
        "start_time": "2022-12-06T16:15:45.158Z"
      },
      {
        "duration": 4,
        "start_time": "2022-12-06T16:15:45.399Z"
      },
      {
        "duration": 20,
        "start_time": "2022-12-06T16:15:45.727Z"
      },
      {
        "duration": 15,
        "start_time": "2022-12-06T16:15:46.012Z"
      },
      {
        "duration": 71,
        "start_time": "2022-12-06T16:15:46.791Z"
      },
      {
        "duration": 320,
        "start_time": "2022-12-06T16:15:47.238Z"
      },
      {
        "duration": 115,
        "start_time": "2022-12-06T16:15:47.925Z"
      },
      {
        "duration": 9,
        "start_time": "2022-12-06T16:16:51.645Z"
      },
      {
        "duration": 16,
        "start_time": "2022-12-06T16:17:00.242Z"
      },
      {
        "duration": 1446,
        "start_time": "2022-12-06T16:17:10.204Z"
      },
      {
        "duration": 693,
        "start_time": "2022-12-06T16:17:11.652Z"
      },
      {
        "duration": 58,
        "start_time": "2022-12-06T16:17:14.027Z"
      },
      {
        "duration": 3,
        "start_time": "2022-12-06T16:17:15.254Z"
      },
      {
        "duration": 7,
        "start_time": "2022-12-06T16:17:17.302Z"
      },
      {
        "duration": 5,
        "start_time": "2022-12-06T16:17:17.937Z"
      },
      {
        "duration": 5,
        "start_time": "2022-12-06T16:17:18.423Z"
      },
      {
        "duration": 18,
        "start_time": "2022-12-06T16:17:19.388Z"
      },
      {
        "duration": 5,
        "start_time": "2022-12-06T16:17:21.805Z"
      },
      {
        "duration": 28,
        "start_time": "2022-12-06T16:18:17.784Z"
      },
      {
        "duration": 41,
        "start_time": "2022-12-06T16:18:18.176Z"
      },
      {
        "duration": 257,
        "start_time": "2022-12-06T16:18:18.378Z"
      },
      {
        "duration": 6,
        "start_time": "2022-12-06T16:18:18.784Z"
      },
      {
        "duration": 185,
        "start_time": "2022-12-06T16:18:19.251Z"
      },
      {
        "duration": 5,
        "start_time": "2022-12-06T16:18:19.716Z"
      },
      {
        "duration": 187,
        "start_time": "2022-12-06T16:18:19.932Z"
      },
      {
        "duration": 5,
        "start_time": "2022-12-06T16:18:20.348Z"
      },
      {
        "duration": 144,
        "start_time": "2022-12-06T16:18:20.534Z"
      },
      {
        "duration": 446,
        "start_time": "2022-12-06T16:18:20.953Z"
      },
      {
        "duration": 406,
        "start_time": "2022-12-06T16:18:21.691Z"
      },
      {
        "duration": 412,
        "start_time": "2022-12-06T16:18:22.128Z"
      },
      {
        "duration": 526,
        "start_time": "2022-12-06T16:18:22.541Z"
      },
      {
        "duration": 11,
        "start_time": "2022-12-06T16:18:24.215Z"
      },
      {
        "duration": 14,
        "start_time": "2022-12-06T16:18:24.415Z"
      },
      {
        "duration": 6,
        "start_time": "2022-12-06T16:18:24.601Z"
      },
      {
        "duration": 7,
        "start_time": "2022-12-06T16:18:24.781Z"
      },
      {
        "duration": 4,
        "start_time": "2022-12-06T16:18:24.976Z"
      },
      {
        "duration": 4,
        "start_time": "2022-12-06T16:18:25.190Z"
      },
      {
        "duration": 17,
        "start_time": "2022-12-06T16:18:25.689Z"
      },
      {
        "duration": 14,
        "start_time": "2022-12-06T16:18:26.746Z"
      },
      {
        "duration": 55,
        "start_time": "2022-12-06T16:18:28.266Z"
      },
      {
        "duration": 335,
        "start_time": "2022-12-06T16:18:29.106Z"
      },
      {
        "duration": 112,
        "start_time": "2022-12-06T16:18:29.669Z"
      },
      {
        "duration": 24,
        "start_time": "2022-12-06T16:19:42.285Z"
      },
      {
        "duration": 4,
        "start_time": "2022-12-06T16:20:09.812Z"
      },
      {
        "duration": 48,
        "start_time": "2022-12-06T16:20:21.091Z"
      },
      {
        "duration": 4,
        "start_time": "2022-12-06T16:33:41.332Z"
      },
      {
        "duration": 3,
        "start_time": "2022-12-06T16:34:50.260Z"
      },
      {
        "duration": 1349,
        "start_time": "2022-12-06T16:39:04.787Z"
      },
      {
        "duration": 666,
        "start_time": "2022-12-06T16:39:06.138Z"
      },
      {
        "duration": 45,
        "start_time": "2022-12-06T16:39:06.805Z"
      },
      {
        "duration": 35,
        "start_time": "2022-12-06T16:39:08.629Z"
      },
      {
        "duration": 3,
        "start_time": "2022-12-06T16:39:08.986Z"
      },
      {
        "duration": 6,
        "start_time": "2022-12-06T16:39:09.270Z"
      },
      {
        "duration": 5,
        "start_time": "2022-12-06T16:39:09.640Z"
      },
      {
        "duration": 4,
        "start_time": "2022-12-06T16:39:10.022Z"
      },
      {
        "duration": 18,
        "start_time": "2022-12-06T16:39:10.672Z"
      },
      {
        "duration": 4,
        "start_time": "2022-12-06T16:39:11.382Z"
      },
      {
        "duration": 24,
        "start_time": "2022-12-06T16:39:12.728Z"
      },
      {
        "duration": 38,
        "start_time": "2022-12-06T16:39:13.396Z"
      },
      {
        "duration": 217,
        "start_time": "2022-12-06T16:39:13.630Z"
      },
      {
        "duration": 5,
        "start_time": "2022-12-06T16:39:14.258Z"
      },
      {
        "duration": 141,
        "start_time": "2022-12-06T16:39:15.103Z"
      },
      {
        "duration": 5,
        "start_time": "2022-12-06T16:39:16.125Z"
      },
      {
        "duration": 140,
        "start_time": "2022-12-06T16:39:16.442Z"
      },
      {
        "duration": 5,
        "start_time": "2022-12-06T16:39:17.033Z"
      },
      {
        "duration": 125,
        "start_time": "2022-12-06T16:39:17.346Z"
      },
      {
        "duration": 454,
        "start_time": "2022-12-06T16:39:18.011Z"
      },
      {
        "duration": 443,
        "start_time": "2022-12-06T16:39:19.192Z"
      },
      {
        "duration": 438,
        "start_time": "2022-12-06T16:39:19.638Z"
      },
      {
        "duration": 570,
        "start_time": "2022-12-06T16:39:20.079Z"
      },
      {
        "duration": 4,
        "start_time": "2022-12-06T16:39:21.057Z"
      },
      {
        "duration": 116,
        "start_time": "2022-12-06T16:39:59.700Z"
      },
      {
        "duration": 15,
        "start_time": "2022-12-06T16:40:19.211Z"
      },
      {
        "duration": 9,
        "start_time": "2022-12-06T16:40:23.243Z"
      },
      {
        "duration": 12,
        "start_time": "2022-12-06T16:40:28.474Z"
      },
      {
        "duration": 34,
        "start_time": "2022-12-06T16:40:33.222Z"
      },
      {
        "duration": 6,
        "start_time": "2022-12-06T16:41:22.009Z"
      },
      {
        "duration": 11,
        "start_time": "2022-12-06T16:41:46.212Z"
      },
      {
        "duration": 6,
        "start_time": "2022-12-06T16:41:56.395Z"
      },
      {
        "duration": 4,
        "start_time": "2022-12-06T16:42:12.310Z"
      },
      {
        "duration": 3,
        "start_time": "2022-12-06T16:42:24.327Z"
      },
      {
        "duration": 17,
        "start_time": "2022-12-06T16:42:59.066Z"
      },
      {
        "duration": 13,
        "start_time": "2022-12-06T16:43:11.755Z"
      },
      {
        "duration": 55,
        "start_time": "2022-12-06T16:43:28.508Z"
      },
      {
        "duration": 4,
        "start_time": "2022-12-06T16:44:00.248Z"
      },
      {
        "duration": 633,
        "start_time": "2022-12-06T16:44:24.947Z"
      },
      {
        "duration": 50,
        "start_time": "2022-12-06T16:44:32.084Z"
      },
      {
        "duration": 4,
        "start_time": "2022-12-06T16:48:15.457Z"
      },
      {
        "duration": 17,
        "start_time": "2022-12-06T16:48:56.100Z"
      },
      {
        "duration": 19,
        "start_time": "2022-12-06T16:50:38.720Z"
      },
      {
        "duration": 20,
        "start_time": "2022-12-06T16:51:34.702Z"
      },
      {
        "duration": 1383,
        "start_time": "2022-12-06T16:51:44.851Z"
      },
      {
        "duration": 667,
        "start_time": "2022-12-06T16:51:46.236Z"
      },
      {
        "duration": 45,
        "start_time": "2022-12-06T16:51:48.364Z"
      },
      {
        "duration": 3,
        "start_time": "2022-12-06T16:51:52.266Z"
      },
      {
        "duration": 6,
        "start_time": "2022-12-06T16:51:53.509Z"
      },
      {
        "duration": 5,
        "start_time": "2022-12-06T16:51:54.069Z"
      },
      {
        "duration": 5,
        "start_time": "2022-12-06T16:51:54.775Z"
      },
      {
        "duration": 14,
        "start_time": "2022-12-06T16:51:55.558Z"
      },
      {
        "duration": 4,
        "start_time": "2022-12-06T16:51:56.065Z"
      },
      {
        "duration": 24,
        "start_time": "2022-12-06T16:52:02.373Z"
      },
      {
        "duration": 25,
        "start_time": "2022-12-06T16:52:19.733Z"
      },
      {
        "duration": 118,
        "start_time": "2022-12-06T16:52:21.902Z"
      },
      {
        "duration": 17,
        "start_time": "2022-12-06T16:53:20.854Z"
      },
      {
        "duration": 17,
        "start_time": "2022-12-06T16:53:42.045Z"
      },
      {
        "duration": 17,
        "start_time": "2022-12-06T16:55:14.946Z"
      },
      {
        "duration": 9,
        "start_time": "2022-12-06T16:55:17.392Z"
      },
      {
        "duration": 9,
        "start_time": "2022-12-06T16:55:23.453Z"
      },
      {
        "duration": 1346,
        "start_time": "2022-12-06T16:55:31.874Z"
      },
      {
        "duration": 643,
        "start_time": "2022-12-06T16:55:33.223Z"
      },
      {
        "duration": 69,
        "start_time": "2022-12-06T16:55:33.868Z"
      },
      {
        "duration": 7,
        "start_time": "2022-12-06T16:55:33.939Z"
      },
      {
        "duration": 3,
        "start_time": "2022-12-06T16:55:36.435Z"
      },
      {
        "duration": 7,
        "start_time": "2022-12-06T16:55:36.697Z"
      },
      {
        "duration": 6,
        "start_time": "2022-12-06T16:55:37.143Z"
      },
      {
        "duration": 5,
        "start_time": "2022-12-06T16:55:37.532Z"
      },
      {
        "duration": 18,
        "start_time": "2022-12-06T16:55:38.369Z"
      },
      {
        "duration": 5,
        "start_time": "2022-12-06T16:55:39.353Z"
      },
      {
        "duration": 24,
        "start_time": "2022-12-06T16:55:41.861Z"
      },
      {
        "duration": 13,
        "start_time": "2022-12-06T16:55:44.297Z"
      },
      {
        "duration": 263,
        "start_time": "2022-12-06T16:55:45.625Z"
      },
      {
        "duration": 14,
        "start_time": "2022-12-06T16:56:54.579Z"
      },
      {
        "duration": 12,
        "start_time": "2022-12-06T16:57:20.706Z"
      },
      {
        "duration": 6,
        "start_time": "2022-12-06T16:57:33.234Z"
      },
      {
        "duration": 5,
        "start_time": "2022-12-06T16:58:04.892Z"
      },
      {
        "duration": 4,
        "start_time": "2022-12-06T16:58:18.676Z"
      },
      {
        "duration": 3,
        "start_time": "2022-12-06T16:58:30.838Z"
      },
      {
        "duration": 16,
        "start_time": "2022-12-06T16:59:18.421Z"
      },
      {
        "duration": 13,
        "start_time": "2022-12-06T16:59:26.638Z"
      },
      {
        "duration": 2436,
        "start_time": "2022-12-06T16:59:39.447Z"
      },
      {
        "duration": 12684,
        "start_time": "2022-12-06T16:59:55.528Z"
      },
      {
        "duration": 12730,
        "start_time": "2022-12-06T17:09:08.895Z"
      },
      {
        "duration": 12,
        "start_time": "2022-12-06T17:12:23.963Z"
      },
      {
        "duration": 120,
        "start_time": "2022-12-06T17:12:24.473Z"
      },
      {
        "duration": 17,
        "start_time": "2022-12-06T17:12:24.994Z"
      },
      {
        "duration": 1609,
        "start_time": "2022-12-06T17:12:48.999Z"
      },
      {
        "duration": 743,
        "start_time": "2022-12-06T17:12:50.610Z"
      },
      {
        "duration": 63,
        "start_time": "2022-12-06T17:12:51.354Z"
      },
      {
        "duration": 3,
        "start_time": "2022-12-06T17:12:51.419Z"
      },
      {
        "duration": 43,
        "start_time": "2022-12-06T17:12:51.423Z"
      },
      {
        "duration": 31,
        "start_time": "2022-12-06T17:12:51.468Z"
      },
      {
        "duration": 25,
        "start_time": "2022-12-06T17:12:51.500Z"
      },
      {
        "duration": 59,
        "start_time": "2022-12-06T17:12:51.527Z"
      },
      {
        "duration": 10,
        "start_time": "2022-12-06T17:12:51.588Z"
      },
      {
        "duration": 24,
        "start_time": "2022-12-06T17:12:52.849Z"
      },
      {
        "duration": 12,
        "start_time": "2022-12-06T17:12:53.231Z"
      },
      {
        "duration": 259,
        "start_time": "2022-12-06T17:12:53.792Z"
      },
      {
        "duration": 5,
        "start_time": "2022-12-06T17:12:54.529Z"
      },
      {
        "duration": 131,
        "start_time": "2022-12-06T17:12:55.983Z"
      },
      {
        "duration": 4,
        "start_time": "2022-12-06T17:12:56.851Z"
      },
      {
        "duration": 135,
        "start_time": "2022-12-06T17:12:57.129Z"
      },
      {
        "duration": 5,
        "start_time": "2022-12-06T17:12:57.962Z"
      },
      {
        "duration": 120,
        "start_time": "2022-12-06T17:12:58.187Z"
      },
      {
        "duration": 439,
        "start_time": "2022-12-06T17:12:58.723Z"
      },
      {
        "duration": 386,
        "start_time": "2022-12-06T17:12:59.845Z"
      },
      {
        "duration": 394,
        "start_time": "2022-12-06T17:13:00.233Z"
      },
      {
        "duration": 535,
        "start_time": "2022-12-06T17:13:00.630Z"
      },
      {
        "duration": 12,
        "start_time": "2022-12-06T17:13:02.170Z"
      },
      {
        "duration": 13,
        "start_time": "2022-12-06T17:13:03.441Z"
      },
      {
        "duration": 7,
        "start_time": "2022-12-06T17:13:04.128Z"
      },
      {
        "duration": 6,
        "start_time": "2022-12-06T17:13:04.662Z"
      },
      {
        "duration": 100,
        "start_time": "2022-12-06T17:14:51.189Z"
      },
      {
        "duration": 10,
        "start_time": "2022-12-06T17:14:55.123Z"
      },
      {
        "duration": 11,
        "start_time": "2022-12-06T17:15:06.775Z"
      },
      {
        "duration": 17,
        "start_time": "2022-12-06T17:15:11.733Z"
      },
      {
        "duration": 11,
        "start_time": "2022-12-06T17:15:14.752Z"
      },
      {
        "duration": 12,
        "start_time": "2022-12-06T17:15:17.766Z"
      },
      {
        "duration": 6,
        "start_time": "2022-12-06T17:15:26.994Z"
      },
      {
        "duration": 5,
        "start_time": "2022-12-06T17:15:27.423Z"
      },
      {
        "duration": 14,
        "start_time": "2022-12-06T17:15:27.954Z"
      },
      {
        "duration": 15,
        "start_time": "2022-12-06T17:15:28.473Z"
      },
      {
        "duration": 2430,
        "start_time": "2022-12-06T17:15:29.452Z"
      },
      {
        "duration": 12895,
        "start_time": "2022-12-06T17:15:31.884Z"
      },
      {
        "duration": 314,
        "start_time": "2022-12-06T17:15:44.781Z"
      },
      {
        "duration": 37452,
        "start_time": "2022-12-06T17:21:30.110Z"
      },
      {
        "duration": 36674,
        "start_time": "2022-12-06T17:22:42.464Z"
      },
      {
        "duration": 2039,
        "start_time": "2022-12-06T17:23:19.140Z"
      },
      {
        "duration": 330,
        "start_time": "2022-12-06T17:25:19.550Z"
      },
      {
        "duration": 315,
        "start_time": "2022-12-06T17:25:24.023Z"
      },
      {
        "duration": 10,
        "start_time": "2022-12-06T17:29:01.672Z"
      },
      {
        "duration": 72,
        "start_time": "2022-12-06T17:32:26.950Z"
      },
      {
        "duration": 128,
        "start_time": "2022-12-06T17:33:02.702Z"
      },
      {
        "duration": 155,
        "start_time": "2022-12-06T17:33:15.177Z"
      },
      {
        "duration": 121,
        "start_time": "2022-12-06T17:33:25.110Z"
      },
      {
        "duration": 119,
        "start_time": "2022-12-06T17:33:48.189Z"
      },
      {
        "duration": 125,
        "start_time": "2022-12-06T17:33:59.187Z"
      },
      {
        "duration": 271,
        "start_time": "2022-12-06T17:34:01.485Z"
      },
      {
        "duration": 119,
        "start_time": "2022-12-06T17:34:04.498Z"
      },
      {
        "duration": 12,
        "start_time": "2022-12-06T17:34:44.825Z"
      },
      {
        "duration": 9,
        "start_time": "2022-12-06T17:37:26.977Z"
      },
      {
        "duration": 1472,
        "start_time": "2022-12-06T17:37:39.065Z"
      },
      {
        "duration": 700,
        "start_time": "2022-12-06T17:37:40.539Z"
      },
      {
        "duration": 57,
        "start_time": "2022-12-06T17:37:41.240Z"
      },
      {
        "duration": 3,
        "start_time": "2022-12-06T17:37:41.299Z"
      },
      {
        "duration": 15,
        "start_time": "2022-12-06T17:37:41.303Z"
      },
      {
        "duration": 6,
        "start_time": "2022-12-06T17:37:41.319Z"
      },
      {
        "duration": 15,
        "start_time": "2022-12-06T17:37:41.327Z"
      },
      {
        "duration": 34,
        "start_time": "2022-12-06T17:37:41.344Z"
      },
      {
        "duration": 5,
        "start_time": "2022-12-06T17:37:41.380Z"
      },
      {
        "duration": 26,
        "start_time": "2022-12-06T17:37:41.728Z"
      },
      {
        "duration": 13,
        "start_time": "2022-12-06T17:37:41.924Z"
      },
      {
        "duration": 219,
        "start_time": "2022-12-06T17:37:42.325Z"
      },
      {
        "duration": 5,
        "start_time": "2022-12-06T17:37:42.734Z"
      },
      {
        "duration": 155,
        "start_time": "2022-12-06T17:37:43.176Z"
      },
      {
        "duration": 5,
        "start_time": "2022-12-06T17:37:43.590Z"
      },
      {
        "duration": 139,
        "start_time": "2022-12-06T17:37:43.803Z"
      },
      {
        "duration": 5,
        "start_time": "2022-12-06T17:37:44.220Z"
      },
      {
        "duration": 120,
        "start_time": "2022-12-06T17:37:44.459Z"
      },
      {
        "duration": 432,
        "start_time": "2022-12-06T17:37:44.891Z"
      },
      {
        "duration": 408,
        "start_time": "2022-12-06T17:37:45.539Z"
      },
      {
        "duration": 367,
        "start_time": "2022-12-06T17:37:45.949Z"
      },
      {
        "duration": 500,
        "start_time": "2022-12-06T17:37:46.319Z"
      },
      {
        "duration": 10,
        "start_time": "2022-12-06T17:37:46.821Z"
      },
      {
        "duration": 14,
        "start_time": "2022-12-06T17:37:46.933Z"
      },
      {
        "duration": 7,
        "start_time": "2022-12-06T17:37:47.175Z"
      },
      {
        "duration": 6,
        "start_time": "2022-12-06T17:37:47.395Z"
      },
      {
        "duration": 4,
        "start_time": "2022-12-06T17:37:47.620Z"
      },
      {
        "duration": 3,
        "start_time": "2022-12-06T17:37:47.851Z"
      },
      {
        "duration": 15,
        "start_time": "2022-12-06T17:37:48.073Z"
      },
      {
        "duration": 14,
        "start_time": "2022-12-06T17:37:48.256Z"
      },
      {
        "duration": 1817,
        "start_time": "2022-12-06T17:37:51.368Z"
      },
      {
        "duration": 37073,
        "start_time": "2022-12-06T17:37:53.187Z"
      },
      {
        "duration": 89,
        "start_time": "2022-12-06T17:38:30.262Z"
      },
      {
        "duration": 0,
        "start_time": "2022-12-06T17:38:30.353Z"
      },
      {
        "duration": 10,
        "start_time": "2022-12-06T17:38:41.580Z"
      },
      {
        "duration": 8,
        "start_time": "2022-12-06T17:39:25.146Z"
      },
      {
        "duration": 45,
        "start_time": "2022-12-06T20:31:08.778Z"
      },
      {
        "duration": 1762,
        "start_time": "2022-12-07T10:12:46.838Z"
      },
      {
        "duration": 2608,
        "start_time": "2022-12-07T10:12:48.602Z"
      },
      {
        "duration": 56,
        "start_time": "2022-12-07T10:12:51.211Z"
      },
      {
        "duration": 4,
        "start_time": "2022-12-07T10:12:51.269Z"
      },
      {
        "duration": 28,
        "start_time": "2022-12-07T10:12:51.274Z"
      },
      {
        "duration": 51,
        "start_time": "2022-12-07T10:12:51.304Z"
      },
      {
        "duration": 30,
        "start_time": "2022-12-07T10:12:51.357Z"
      },
      {
        "duration": 34,
        "start_time": "2022-12-07T10:12:51.389Z"
      },
      {
        "duration": 28,
        "start_time": "2022-12-07T10:12:51.425Z"
      },
      {
        "duration": 32,
        "start_time": "2022-12-07T10:12:52.768Z"
      },
      {
        "duration": 17,
        "start_time": "2022-12-07T10:12:53.350Z"
      },
      {
        "duration": 278,
        "start_time": "2022-12-07T10:12:55.672Z"
      },
      {
        "duration": 5,
        "start_time": "2022-12-07T10:12:56.768Z"
      },
      {
        "duration": 166,
        "start_time": "2022-12-07T10:12:57.911Z"
      },
      {
        "duration": 5,
        "start_time": "2022-12-07T10:12:58.948Z"
      },
      {
        "duration": 144,
        "start_time": "2022-12-07T10:12:59.412Z"
      },
      {
        "duration": 16,
        "start_time": "2022-12-07T10:13:00.415Z"
      },
      {
        "duration": 136,
        "start_time": "2022-12-07T10:13:00.743Z"
      },
      {
        "duration": 488,
        "start_time": "2022-12-07T10:13:02.405Z"
      },
      {
        "duration": 103,
        "start_time": "2022-12-07T10:13:05.506Z"
      },
      {
        "duration": 437,
        "start_time": "2022-12-07T10:13:08.671Z"
      },
      {
        "duration": 463,
        "start_time": "2022-12-07T10:13:09.378Z"
      },
      {
        "duration": 540,
        "start_time": "2022-12-07T10:13:11.242Z"
      },
      {
        "duration": 108,
        "start_time": "2022-12-07T10:13:56.731Z"
      },
      {
        "duration": 143,
        "start_time": "2022-12-07T10:14:23.512Z"
      },
      {
        "duration": 149,
        "start_time": "2022-12-07T10:14:30.042Z"
      },
      {
        "duration": 140,
        "start_time": "2022-12-07T10:14:38.742Z"
      },
      {
        "duration": 95,
        "start_time": "2022-12-07T10:16:38.844Z"
      },
      {
        "duration": 132,
        "start_time": "2022-12-07T10:17:28.891Z"
      },
      {
        "duration": 13,
        "start_time": "2022-12-07T10:17:38.699Z"
      },
      {
        "duration": 12,
        "start_time": "2022-12-07T10:17:38.850Z"
      },
      {
        "duration": 6,
        "start_time": "2022-12-07T10:17:39.143Z"
      },
      {
        "duration": 6,
        "start_time": "2022-12-07T10:17:39.301Z"
      },
      {
        "duration": 4,
        "start_time": "2022-12-07T10:17:39.460Z"
      },
      {
        "duration": 5,
        "start_time": "2022-12-07T10:17:39.640Z"
      },
      {
        "duration": 21,
        "start_time": "2022-12-07T10:17:39.994Z"
      },
      {
        "duration": 15,
        "start_time": "2022-12-07T10:17:40.376Z"
      },
      {
        "duration": 4171,
        "start_time": "2022-12-07T10:17:41.546Z"
      },
      {
        "duration": 3818,
        "start_time": "2022-12-07T10:18:58.330Z"
      },
      {
        "duration": 1622,
        "start_time": "2022-12-07T10:20:42.300Z"
      },
      {
        "duration": 785,
        "start_time": "2022-12-07T10:20:43.931Z"
      },
      {
        "duration": 95,
        "start_time": "2022-12-07T10:20:44.723Z"
      },
      {
        "duration": 4,
        "start_time": "2022-12-07T10:20:44.821Z"
      },
      {
        "duration": 51,
        "start_time": "2022-12-07T10:20:44.827Z"
      },
      {
        "duration": 13,
        "start_time": "2022-12-07T10:20:44.883Z"
      },
      {
        "duration": 13,
        "start_time": "2022-12-07T10:20:44.898Z"
      },
      {
        "duration": 74,
        "start_time": "2022-12-07T10:20:44.913Z"
      },
      {
        "duration": 7,
        "start_time": "2022-12-07T10:20:45.260Z"
      },
      {
        "duration": 30,
        "start_time": "2022-12-07T10:20:46.544Z"
      },
      {
        "duration": 16,
        "start_time": "2022-12-07T10:20:46.769Z"
      },
      {
        "duration": 288,
        "start_time": "2022-12-07T10:20:47.897Z"
      },
      {
        "duration": 10,
        "start_time": "2022-12-07T10:20:48.371Z"
      },
      {
        "duration": 239,
        "start_time": "2022-12-07T10:20:48.895Z"
      },
      {
        "duration": 15,
        "start_time": "2022-12-07T10:20:49.331Z"
      },
      {
        "duration": 179,
        "start_time": "2022-12-07T10:20:49.555Z"
      },
      {
        "duration": 6,
        "start_time": "2022-12-07T10:20:50.057Z"
      },
      {
        "duration": 228,
        "start_time": "2022-12-07T10:20:50.319Z"
      },
      {
        "duration": 598,
        "start_time": "2022-12-07T10:20:51.056Z"
      },
      {
        "duration": 120,
        "start_time": "2022-12-07T10:20:52.010Z"
      },
      {
        "duration": 470,
        "start_time": "2022-12-07T10:20:52.257Z"
      },
      {
        "duration": 648,
        "start_time": "2022-12-07T10:20:52.729Z"
      },
      {
        "duration": 631,
        "start_time": "2022-12-07T10:20:53.379Z"
      },
      {
        "duration": 14,
        "start_time": "2022-12-07T10:20:54.481Z"
      },
      {
        "duration": 29,
        "start_time": "2022-12-07T10:20:54.742Z"
      },
      {
        "duration": 10,
        "start_time": "2022-12-07T10:20:55.210Z"
      },
      {
        "duration": 20,
        "start_time": "2022-12-07T10:20:55.442Z"
      },
      {
        "duration": 8,
        "start_time": "2022-12-07T10:20:55.643Z"
      },
      {
        "duration": 4,
        "start_time": "2022-12-07T10:20:55.954Z"
      },
      {
        "duration": 27,
        "start_time": "2022-12-07T10:20:56.410Z"
      },
      {
        "duration": 15,
        "start_time": "2022-12-07T10:20:56.676Z"
      },
      {
        "duration": 4485,
        "start_time": "2022-12-07T10:20:57.367Z"
      },
      {
        "duration": 43733,
        "start_time": "2022-12-07T10:21:01.920Z"
      },
      {
        "duration": 13,
        "start_time": "2022-12-07T10:21:45.655Z"
      },
      {
        "duration": 355,
        "start_time": "2022-12-07T10:21:45.672Z"
      },
      {
        "duration": 1899,
        "start_time": "2022-12-07T19:25:36.824Z"
      },
      {
        "duration": 764,
        "start_time": "2022-12-07T19:25:38.725Z"
      },
      {
        "duration": 57,
        "start_time": "2022-12-07T19:25:39.491Z"
      },
      {
        "duration": 26,
        "start_time": "2022-12-07T19:25:39.551Z"
      },
      {
        "duration": 8,
        "start_time": "2022-12-07T19:25:39.579Z"
      },
      {
        "duration": 5,
        "start_time": "2022-12-07T19:25:39.589Z"
      },
      {
        "duration": 7,
        "start_time": "2022-12-07T19:25:39.596Z"
      },
      {
        "duration": 27,
        "start_time": "2022-12-07T19:25:39.605Z"
      },
      {
        "duration": 4,
        "start_time": "2022-12-07T19:25:39.634Z"
      },
      {
        "duration": 50,
        "start_time": "2022-12-07T19:25:39.641Z"
      },
      {
        "duration": 13,
        "start_time": "2022-12-07T19:25:39.692Z"
      },
      {
        "duration": 273,
        "start_time": "2022-12-07T19:25:39.706Z"
      },
      {
        "duration": 4,
        "start_time": "2022-12-07T19:25:39.981Z"
      },
      {
        "duration": 167,
        "start_time": "2022-12-07T19:25:39.987Z"
      },
      {
        "duration": 5,
        "start_time": "2022-12-07T19:25:40.156Z"
      },
      {
        "duration": 155,
        "start_time": "2022-12-07T19:25:40.162Z"
      },
      {
        "duration": 5,
        "start_time": "2022-12-07T19:25:40.319Z"
      },
      {
        "duration": 146,
        "start_time": "2022-12-07T19:25:40.325Z"
      },
      {
        "duration": 502,
        "start_time": "2022-12-07T19:25:40.476Z"
      },
      {
        "duration": 96,
        "start_time": "2022-12-07T19:25:40.980Z"
      },
      {
        "duration": 392,
        "start_time": "2022-12-07T19:25:41.078Z"
      },
      {
        "duration": 411,
        "start_time": "2022-12-07T19:25:41.475Z"
      },
      {
        "duration": 483,
        "start_time": "2022-12-07T19:25:41.887Z"
      },
      {
        "duration": 10,
        "start_time": "2022-12-07T19:25:42.376Z"
      },
      {
        "duration": 34,
        "start_time": "2022-12-07T19:25:42.387Z"
      },
      {
        "duration": 18,
        "start_time": "2022-12-07T19:25:42.422Z"
      },
      {
        "duration": 35,
        "start_time": "2022-12-07T19:25:42.441Z"
      },
      {
        "duration": 9,
        "start_time": "2022-12-07T19:25:42.479Z"
      },
      {
        "duration": 11,
        "start_time": "2022-12-07T19:25:42.489Z"
      },
      {
        "duration": 22,
        "start_time": "2022-12-07T19:25:42.502Z"
      },
      {
        "duration": 12,
        "start_time": "2022-12-07T19:26:01.761Z"
      },
      {
        "duration": 14,
        "start_time": "2022-12-07T19:26:20.710Z"
      },
      {
        "duration": 57,
        "start_time": "2022-12-07T19:51:44.591Z"
      },
      {
        "duration": 1762,
        "start_time": "2022-12-07T19:51:51.643Z"
      },
      {
        "duration": 2088,
        "start_time": "2022-12-07T19:51:53.408Z"
      },
      {
        "duration": 57,
        "start_time": "2022-12-07T19:51:55.498Z"
      },
      {
        "duration": 3,
        "start_time": "2022-12-07T19:51:55.558Z"
      },
      {
        "duration": 12,
        "start_time": "2022-12-07T19:51:55.563Z"
      },
      {
        "duration": 6,
        "start_time": "2022-12-07T19:51:55.578Z"
      },
      {
        "duration": 5,
        "start_time": "2022-12-07T19:51:55.585Z"
      },
      {
        "duration": 21,
        "start_time": "2022-12-07T19:51:55.591Z"
      },
      {
        "duration": 41,
        "start_time": "2022-12-07T19:51:55.614Z"
      },
      {
        "duration": 30,
        "start_time": "2022-12-07T19:51:55.658Z"
      },
      {
        "duration": 13,
        "start_time": "2022-12-07T19:51:55.690Z"
      },
      {
        "duration": 257,
        "start_time": "2022-12-07T19:51:56.769Z"
      },
      {
        "duration": 6,
        "start_time": "2022-12-07T19:51:57.161Z"
      },
      {
        "duration": 157,
        "start_time": "2022-12-07T19:51:57.540Z"
      },
      {
        "duration": 7,
        "start_time": "2022-12-07T19:51:57.918Z"
      },
      {
        "duration": 149,
        "start_time": "2022-12-07T19:51:58.112Z"
      },
      {
        "duration": 8,
        "start_time": "2022-12-07T19:51:59.800Z"
      },
      {
        "duration": 144,
        "start_time": "2022-12-07T19:51:59.970Z"
      },
      {
        "duration": 535,
        "start_time": "2022-12-07T19:52:00.549Z"
      },
      {
        "duration": 1773,
        "start_time": "2022-12-07T19:52:03.551Z"
      },
      {
        "duration": 105,
        "start_time": "2022-12-07T19:53:49.385Z"
      },
      {
        "duration": 458,
        "start_time": "2022-12-07T20:18:28.148Z"
      },
      {
        "duration": 428,
        "start_time": "2022-12-07T20:18:41.994Z"
      },
      {
        "duration": 629,
        "start_time": "2022-12-07T20:18:49.222Z"
      },
      {
        "duration": 29,
        "start_time": "2022-12-07T20:21:00.591Z"
      },
      {
        "duration": 72,
        "start_time": "2022-12-07T20:21:35.316Z"
      },
      {
        "duration": 425,
        "start_time": "2022-12-07T20:21:38.422Z"
      },
      {
        "duration": 464,
        "start_time": "2022-12-07T20:21:40.316Z"
      },
      {
        "duration": 446,
        "start_time": "2022-12-07T20:21:40.782Z"
      },
      {
        "duration": 12,
        "start_time": "2022-12-07T20:21:42.636Z"
      },
      {
        "duration": 15,
        "start_time": "2022-12-07T20:21:42.885Z"
      },
      {
        "duration": 6,
        "start_time": "2022-12-07T20:21:43.303Z"
      },
      {
        "duration": 7,
        "start_time": "2022-12-07T20:21:43.524Z"
      },
      {
        "duration": 5,
        "start_time": "2022-12-07T20:21:43.702Z"
      },
      {
        "duration": 4,
        "start_time": "2022-12-07T20:21:43.932Z"
      },
      {
        "duration": 18,
        "start_time": "2022-12-07T20:21:44.353Z"
      },
      {
        "duration": 16,
        "start_time": "2022-12-07T20:21:44.591Z"
      },
      {
        "duration": 2449,
        "start_time": "2022-12-07T20:21:46.214Z"
      },
      {
        "duration": 39042,
        "start_time": "2022-12-07T20:21:48.666Z"
      },
      {
        "duration": 9,
        "start_time": "2022-12-07T20:22:27.709Z"
      },
      {
        "duration": 335,
        "start_time": "2022-12-07T20:22:27.720Z"
      },
      {
        "duration": 2509,
        "start_time": "2022-12-07T20:22:35.843Z"
      },
      {
        "duration": 38601,
        "start_time": "2022-12-07T20:22:57.193Z"
      },
      {
        "duration": 12,
        "start_time": "2022-12-07T20:23:57.127Z"
      },
      {
        "duration": 395,
        "start_time": "2022-12-07T20:23:59.922Z"
      },
      {
        "duration": 106,
        "start_time": "2022-12-07T20:25:41.530Z"
      }
    ],
    "kernelspec": {
      "display_name": "Python 3 (ipykernel)",
      "language": "python",
      "name": "python3"
    },
    "language_info": {
      "codemirror_mode": {
        "name": "ipython",
        "version": 3
      },
      "file_extension": ".py",
      "mimetype": "text/x-python",
      "name": "python",
      "nbconvert_exporter": "python",
      "pygments_lexer": "ipython3",
      "version": "3.9.5"
    },
    "toc": {
      "base_numbering": 1,
      "nav_menu": {},
      "number_sections": true,
      "sideBar": true,
      "skip_h1_title": true,
      "title_cell": "Содержание",
      "title_sidebar": "Contents",
      "toc_cell": true,
      "toc_position": {},
      "toc_section_display": true,
      "toc_window_display": true
    },
    "colab": {
      "provenance": []
    }
  },
  "nbformat": 4,
  "nbformat_minor": 0
}
