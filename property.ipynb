{
  "cells": [
    {
      "cell_type": "markdown",
      "metadata": {
        "id": "7IzAN9FhDQIv"
      },
      "source": [
        "# Исследование объявлений о продаже квартир\n",
        "\n",
        "В вашем распоряжении данные сервиса Яндекс.Недвижимость — архив объявлений о продаже квартир в Санкт-Петербурге и соседних населённых пунктов за несколько лет. Нужно научиться определять рыночную стоимость объектов недвижимости. Ваша задача — установить параметры. Это позволит построить автоматизированную систему: она отследит аномалии и мошенническую деятельность. \n",
        "\n",
        "По каждой квартире на продажу доступны два вида данных. Первые вписаны пользователем, вторые — получены автоматически на основе картографических данных. Например, расстояние до центра, аэропорта, ближайшего парка и водоёма. "
      ]
    },
    {
      "cell_type": "markdown",
      "metadata": {
        "id": "7DkhiYZQDQIw"
      },
      "source": [
        "### Откройте файл с данными и изучите общую информацию. "
      ]
    },
    {
      "cell_type": "code",
      "execution_count": null,
      "metadata": {
        "id": "dohprnL_DQIx"
      },
      "outputs": [],
      "source": [
        "import pandas as pd\n",
        "import numpy as np \n",
        "import matplotlib.pyplot as plt\n",
        "import seaborn as sns"
      ]
    },
    {
      "cell_type": "code",
      "execution_count": null,
      "metadata": {
        "id": "_eCklOWmDQIy"
      },
      "outputs": [],
      "source": [
        "try:\n",
        "    df = pd.read_csv('/datasets/real_estate_data.csv', sep='\\t')\n",
        "except:\n",
        "    df = pd.read_csv('https://code.s3.yandex.net/datasets/real_estate_data.csv', sep='\\t')"
      ]
    },
    {
      "cell_type": "code",
      "execution_count": null,
      "metadata": {
        "id": "XO8CwrrADQI0",
        "outputId": "268a0540-334b-4f5f-d469-1554fa4d55f4"
      },
      "outputs": [
        {
          "data": {
            "text/html": [
              "<div>\n",
              "<style scoped>\n",
              "    .dataframe tbody tr th:only-of-type {\n",
              "        vertical-align: middle;\n",
              "    }\n",
              "\n",
              "    .dataframe tbody tr th {\n",
              "        vertical-align: top;\n",
              "    }\n",
              "\n",
              "    .dataframe thead th {\n",
              "        text-align: right;\n",
              "    }\n",
              "</style>\n",
              "<table border=\"1\" class=\"dataframe\">\n",
              "  <thead>\n",
              "    <tr style=\"text-align: right;\">\n",
              "      <th></th>\n",
              "      <th>total_images</th>\n",
              "      <th>last_price</th>\n",
              "      <th>total_area</th>\n",
              "      <th>first_day_exposition</th>\n",
              "      <th>rooms</th>\n",
              "      <th>ceiling_height</th>\n",
              "      <th>floors_total</th>\n",
              "      <th>living_area</th>\n",
              "      <th>floor</th>\n",
              "      <th>is_apartment</th>\n",
              "      <th>...</th>\n",
              "      <th>kitchen_area</th>\n",
              "      <th>balcony</th>\n",
              "      <th>locality_name</th>\n",
              "      <th>airports_nearest</th>\n",
              "      <th>cityCenters_nearest</th>\n",
              "      <th>parks_around3000</th>\n",
              "      <th>parks_nearest</th>\n",
              "      <th>ponds_around3000</th>\n",
              "      <th>ponds_nearest</th>\n",
              "      <th>days_exposition</th>\n",
              "    </tr>\n",
              "  </thead>\n",
              "  <tbody>\n",
              "    <tr>\n",
              "      <th>0</th>\n",
              "      <td>20</td>\n",
              "      <td>13000000.0</td>\n",
              "      <td>108.00</td>\n",
              "      <td>2019-03-07T00:00:00</td>\n",
              "      <td>3</td>\n",
              "      <td>2.70</td>\n",
              "      <td>16.0</td>\n",
              "      <td>51.0</td>\n",
              "      <td>8</td>\n",
              "      <td>NaN</td>\n",
              "      <td>...</td>\n",
              "      <td>25.00</td>\n",
              "      <td>NaN</td>\n",
              "      <td>Санкт-Петербург</td>\n",
              "      <td>18863.0</td>\n",
              "      <td>16028.0</td>\n",
              "      <td>1.0</td>\n",
              "      <td>482.0</td>\n",
              "      <td>2.0</td>\n",
              "      <td>755.0</td>\n",
              "      <td>NaN</td>\n",
              "    </tr>\n",
              "    <tr>\n",
              "      <th>1</th>\n",
              "      <td>7</td>\n",
              "      <td>3350000.0</td>\n",
              "      <td>40.40</td>\n",
              "      <td>2018-12-04T00:00:00</td>\n",
              "      <td>1</td>\n",
              "      <td>NaN</td>\n",
              "      <td>11.0</td>\n",
              "      <td>18.6</td>\n",
              "      <td>1</td>\n",
              "      <td>NaN</td>\n",
              "      <td>...</td>\n",
              "      <td>11.00</td>\n",
              "      <td>2.0</td>\n",
              "      <td>посёлок Шушары</td>\n",
              "      <td>12817.0</td>\n",
              "      <td>18603.0</td>\n",
              "      <td>0.0</td>\n",
              "      <td>NaN</td>\n",
              "      <td>0.0</td>\n",
              "      <td>NaN</td>\n",
              "      <td>81.0</td>\n",
              "    </tr>\n",
              "    <tr>\n",
              "      <th>2</th>\n",
              "      <td>10</td>\n",
              "      <td>5196000.0</td>\n",
              "      <td>56.00</td>\n",
              "      <td>2015-08-20T00:00:00</td>\n",
              "      <td>2</td>\n",
              "      <td>NaN</td>\n",
              "      <td>5.0</td>\n",
              "      <td>34.3</td>\n",
              "      <td>4</td>\n",
              "      <td>NaN</td>\n",
              "      <td>...</td>\n",
              "      <td>8.30</td>\n",
              "      <td>0.0</td>\n",
              "      <td>Санкт-Петербург</td>\n",
              "      <td>21741.0</td>\n",
              "      <td>13933.0</td>\n",
              "      <td>1.0</td>\n",
              "      <td>90.0</td>\n",
              "      <td>2.0</td>\n",
              "      <td>574.0</td>\n",
              "      <td>558.0</td>\n",
              "    </tr>\n",
              "    <tr>\n",
              "      <th>3</th>\n",
              "      <td>0</td>\n",
              "      <td>64900000.0</td>\n",
              "      <td>159.00</td>\n",
              "      <td>2015-07-24T00:00:00</td>\n",
              "      <td>3</td>\n",
              "      <td>NaN</td>\n",
              "      <td>14.0</td>\n",
              "      <td>NaN</td>\n",
              "      <td>9</td>\n",
              "      <td>NaN</td>\n",
              "      <td>...</td>\n",
              "      <td>NaN</td>\n",
              "      <td>0.0</td>\n",
              "      <td>Санкт-Петербург</td>\n",
              "      <td>28098.0</td>\n",
              "      <td>6800.0</td>\n",
              "      <td>2.0</td>\n",
              "      <td>84.0</td>\n",
              "      <td>3.0</td>\n",
              "      <td>234.0</td>\n",
              "      <td>424.0</td>\n",
              "    </tr>\n",
              "    <tr>\n",
              "      <th>4</th>\n",
              "      <td>2</td>\n",
              "      <td>10000000.0</td>\n",
              "      <td>100.00</td>\n",
              "      <td>2018-06-19T00:00:00</td>\n",
              "      <td>2</td>\n",
              "      <td>3.03</td>\n",
              "      <td>14.0</td>\n",
              "      <td>32.0</td>\n",
              "      <td>13</td>\n",
              "      <td>NaN</td>\n",
              "      <td>...</td>\n",
              "      <td>41.00</td>\n",
              "      <td>NaN</td>\n",
              "      <td>Санкт-Петербург</td>\n",
              "      <td>31856.0</td>\n",
              "      <td>8098.0</td>\n",
              "      <td>2.0</td>\n",
              "      <td>112.0</td>\n",
              "      <td>1.0</td>\n",
              "      <td>48.0</td>\n",
              "      <td>121.0</td>\n",
              "    </tr>\n",
              "    <tr>\n",
              "      <th>...</th>\n",
              "      <td>...</td>\n",
              "      <td>...</td>\n",
              "      <td>...</td>\n",
              "      <td>...</td>\n",
              "      <td>...</td>\n",
              "      <td>...</td>\n",
              "      <td>...</td>\n",
              "      <td>...</td>\n",
              "      <td>...</td>\n",
              "      <td>...</td>\n",
              "      <td>...</td>\n",
              "      <td>...</td>\n",
              "      <td>...</td>\n",
              "      <td>...</td>\n",
              "      <td>...</td>\n",
              "      <td>...</td>\n",
              "      <td>...</td>\n",
              "      <td>...</td>\n",
              "      <td>...</td>\n",
              "      <td>...</td>\n",
              "      <td>...</td>\n",
              "    </tr>\n",
              "    <tr>\n",
              "      <th>23694</th>\n",
              "      <td>9</td>\n",
              "      <td>9700000.0</td>\n",
              "      <td>133.81</td>\n",
              "      <td>2017-03-21T00:00:00</td>\n",
              "      <td>3</td>\n",
              "      <td>3.70</td>\n",
              "      <td>5.0</td>\n",
              "      <td>73.3</td>\n",
              "      <td>3</td>\n",
              "      <td>NaN</td>\n",
              "      <td>...</td>\n",
              "      <td>13.83</td>\n",
              "      <td>NaN</td>\n",
              "      <td>Санкт-Петербург</td>\n",
              "      <td>24665.0</td>\n",
              "      <td>4232.0</td>\n",
              "      <td>1.0</td>\n",
              "      <td>796.0</td>\n",
              "      <td>3.0</td>\n",
              "      <td>381.0</td>\n",
              "      <td>NaN</td>\n",
              "    </tr>\n",
              "    <tr>\n",
              "      <th>23695</th>\n",
              "      <td>14</td>\n",
              "      <td>3100000.0</td>\n",
              "      <td>59.00</td>\n",
              "      <td>2018-01-15T00:00:00</td>\n",
              "      <td>3</td>\n",
              "      <td>NaN</td>\n",
              "      <td>5.0</td>\n",
              "      <td>38.0</td>\n",
              "      <td>4</td>\n",
              "      <td>NaN</td>\n",
              "      <td>...</td>\n",
              "      <td>8.50</td>\n",
              "      <td>NaN</td>\n",
              "      <td>Тосно</td>\n",
              "      <td>NaN</td>\n",
              "      <td>NaN</td>\n",
              "      <td>NaN</td>\n",
              "      <td>NaN</td>\n",
              "      <td>NaN</td>\n",
              "      <td>NaN</td>\n",
              "      <td>45.0</td>\n",
              "    </tr>\n",
              "    <tr>\n",
              "      <th>23696</th>\n",
              "      <td>18</td>\n",
              "      <td>2500000.0</td>\n",
              "      <td>56.70</td>\n",
              "      <td>2018-02-11T00:00:00</td>\n",
              "      <td>2</td>\n",
              "      <td>NaN</td>\n",
              "      <td>3.0</td>\n",
              "      <td>29.7</td>\n",
              "      <td>1</td>\n",
              "      <td>NaN</td>\n",
              "      <td>...</td>\n",
              "      <td>NaN</td>\n",
              "      <td>NaN</td>\n",
              "      <td>село Рождествено</td>\n",
              "      <td>NaN</td>\n",
              "      <td>NaN</td>\n",
              "      <td>NaN</td>\n",
              "      <td>NaN</td>\n",
              "      <td>NaN</td>\n",
              "      <td>NaN</td>\n",
              "      <td>NaN</td>\n",
              "    </tr>\n",
              "    <tr>\n",
              "      <th>23697</th>\n",
              "      <td>13</td>\n",
              "      <td>11475000.0</td>\n",
              "      <td>76.75</td>\n",
              "      <td>2017-03-28T00:00:00</td>\n",
              "      <td>2</td>\n",
              "      <td>3.00</td>\n",
              "      <td>17.0</td>\n",
              "      <td>NaN</td>\n",
              "      <td>12</td>\n",
              "      <td>NaN</td>\n",
              "      <td>...</td>\n",
              "      <td>23.30</td>\n",
              "      <td>2.0</td>\n",
              "      <td>Санкт-Петербург</td>\n",
              "      <td>39140.0</td>\n",
              "      <td>10364.0</td>\n",
              "      <td>2.0</td>\n",
              "      <td>173.0</td>\n",
              "      <td>3.0</td>\n",
              "      <td>196.0</td>\n",
              "      <td>602.0</td>\n",
              "    </tr>\n",
              "    <tr>\n",
              "      <th>23698</th>\n",
              "      <td>4</td>\n",
              "      <td>1350000.0</td>\n",
              "      <td>32.30</td>\n",
              "      <td>2017-07-21T00:00:00</td>\n",
              "      <td>1</td>\n",
              "      <td>2.50</td>\n",
              "      <td>5.0</td>\n",
              "      <td>12.3</td>\n",
              "      <td>1</td>\n",
              "      <td>NaN</td>\n",
              "      <td>...</td>\n",
              "      <td>9.00</td>\n",
              "      <td>NaN</td>\n",
              "      <td>поселок Новый Учхоз</td>\n",
              "      <td>NaN</td>\n",
              "      <td>NaN</td>\n",
              "      <td>NaN</td>\n",
              "      <td>NaN</td>\n",
              "      <td>NaN</td>\n",
              "      <td>NaN</td>\n",
              "      <td>NaN</td>\n",
              "    </tr>\n",
              "  </tbody>\n",
              "</table>\n",
              "<p>23699 rows × 22 columns</p>\n",
              "</div>"
            ],
            "text/plain": [
              "       total_images  last_price  total_area first_day_exposition  rooms  \\\n",
              "0                20  13000000.0      108.00  2019-03-07T00:00:00      3   \n",
              "1                 7   3350000.0       40.40  2018-12-04T00:00:00      1   \n",
              "2                10   5196000.0       56.00  2015-08-20T00:00:00      2   \n",
              "3                 0  64900000.0      159.00  2015-07-24T00:00:00      3   \n",
              "4                 2  10000000.0      100.00  2018-06-19T00:00:00      2   \n",
              "...             ...         ...         ...                  ...    ...   \n",
              "23694             9   9700000.0      133.81  2017-03-21T00:00:00      3   \n",
              "23695            14   3100000.0       59.00  2018-01-15T00:00:00      3   \n",
              "23696            18   2500000.0       56.70  2018-02-11T00:00:00      2   \n",
              "23697            13  11475000.0       76.75  2017-03-28T00:00:00      2   \n",
              "23698             4   1350000.0       32.30  2017-07-21T00:00:00      1   \n",
              "\n",
              "       ceiling_height  floors_total  living_area  floor is_apartment  ...  \\\n",
              "0                2.70          16.0         51.0      8          NaN  ...   \n",
              "1                 NaN          11.0         18.6      1          NaN  ...   \n",
              "2                 NaN           5.0         34.3      4          NaN  ...   \n",
              "3                 NaN          14.0          NaN      9          NaN  ...   \n",
              "4                3.03          14.0         32.0     13          NaN  ...   \n",
              "...               ...           ...          ...    ...          ...  ...   \n",
              "23694            3.70           5.0         73.3      3          NaN  ...   \n",
              "23695             NaN           5.0         38.0      4          NaN  ...   \n",
              "23696             NaN           3.0         29.7      1          NaN  ...   \n",
              "23697            3.00          17.0          NaN     12          NaN  ...   \n",
              "23698            2.50           5.0         12.3      1          NaN  ...   \n",
              "\n",
              "       kitchen_area  balcony        locality_name  airports_nearest  \\\n",
              "0             25.00      NaN      Санкт-Петербург           18863.0   \n",
              "1             11.00      2.0       посёлок Шушары           12817.0   \n",
              "2              8.30      0.0      Санкт-Петербург           21741.0   \n",
              "3               NaN      0.0      Санкт-Петербург           28098.0   \n",
              "4             41.00      NaN      Санкт-Петербург           31856.0   \n",
              "...             ...      ...                  ...               ...   \n",
              "23694         13.83      NaN      Санкт-Петербург           24665.0   \n",
              "23695          8.50      NaN                Тосно               NaN   \n",
              "23696           NaN      NaN     село Рождествено               NaN   \n",
              "23697         23.30      2.0      Санкт-Петербург           39140.0   \n",
              "23698          9.00      NaN  поселок Новый Учхоз               NaN   \n",
              "\n",
              "      cityCenters_nearest  parks_around3000  parks_nearest  ponds_around3000  \\\n",
              "0                 16028.0               1.0          482.0               2.0   \n",
              "1                 18603.0               0.0            NaN               0.0   \n",
              "2                 13933.0               1.0           90.0               2.0   \n",
              "3                  6800.0               2.0           84.0               3.0   \n",
              "4                  8098.0               2.0          112.0               1.0   \n",
              "...                   ...               ...            ...               ...   \n",
              "23694              4232.0               1.0          796.0               3.0   \n",
              "23695                 NaN               NaN            NaN               NaN   \n",
              "23696                 NaN               NaN            NaN               NaN   \n",
              "23697             10364.0               2.0          173.0               3.0   \n",
              "23698                 NaN               NaN            NaN               NaN   \n",
              "\n",
              "       ponds_nearest  days_exposition  \n",
              "0              755.0              NaN  \n",
              "1                NaN             81.0  \n",
              "2              574.0            558.0  \n",
              "3              234.0            424.0  \n",
              "4               48.0            121.0  \n",
              "...              ...              ...  \n",
              "23694          381.0              NaN  \n",
              "23695            NaN             45.0  \n",
              "23696            NaN              NaN  \n",
              "23697          196.0            602.0  \n",
              "23698            NaN              NaN  \n",
              "\n",
              "[23699 rows x 22 columns]"
            ]
          },
          "execution_count": 3,
          "metadata": {},
          "output_type": "execute_result"
        }
      ],
      "source": [
        "df # вывела таблицу"
      ]
    },
    {
      "cell_type": "code",
      "execution_count": null,
      "metadata": {
        "id": "mHaOwWm6DQI1",
        "outputId": "f46bde65-efa6-4c1a-8e1d-bc016bed64f6"
      },
      "outputs": [
        {
          "data": {
            "text/html": [
              "<div>\n",
              "<style scoped>\n",
              "    .dataframe tbody tr th:only-of-type {\n",
              "        vertical-align: middle;\n",
              "    }\n",
              "\n",
              "    .dataframe tbody tr th {\n",
              "        vertical-align: top;\n",
              "    }\n",
              "\n",
              "    .dataframe thead th {\n",
              "        text-align: right;\n",
              "    }\n",
              "</style>\n",
              "<table border=\"1\" class=\"dataframe\">\n",
              "  <thead>\n",
              "    <tr style=\"text-align: right;\">\n",
              "      <th></th>\n",
              "      <th>total_images</th>\n",
              "      <th>last_price</th>\n",
              "      <th>total_area</th>\n",
              "      <th>rooms</th>\n",
              "      <th>ceiling_height</th>\n",
              "      <th>floors_total</th>\n",
              "      <th>living_area</th>\n",
              "      <th>floor</th>\n",
              "      <th>kitchen_area</th>\n",
              "      <th>balcony</th>\n",
              "      <th>airports_nearest</th>\n",
              "      <th>cityCenters_nearest</th>\n",
              "      <th>parks_around3000</th>\n",
              "      <th>parks_nearest</th>\n",
              "      <th>ponds_around3000</th>\n",
              "      <th>ponds_nearest</th>\n",
              "      <th>days_exposition</th>\n",
              "    </tr>\n",
              "  </thead>\n",
              "  <tbody>\n",
              "    <tr>\n",
              "      <th>count</th>\n",
              "      <td>23699.000000</td>\n",
              "      <td>2.369900e+04</td>\n",
              "      <td>23699.000000</td>\n",
              "      <td>23699.000000</td>\n",
              "      <td>14504.000000</td>\n",
              "      <td>23613.000000</td>\n",
              "      <td>21796.000000</td>\n",
              "      <td>23699.000000</td>\n",
              "      <td>21421.000000</td>\n",
              "      <td>12180.000000</td>\n",
              "      <td>18157.000000</td>\n",
              "      <td>18180.000000</td>\n",
              "      <td>18181.000000</td>\n",
              "      <td>8079.000000</td>\n",
              "      <td>18181.000000</td>\n",
              "      <td>9110.000000</td>\n",
              "      <td>20518.000000</td>\n",
              "    </tr>\n",
              "    <tr>\n",
              "      <th>mean</th>\n",
              "      <td>9.858475</td>\n",
              "      <td>6.541549e+06</td>\n",
              "      <td>60.348651</td>\n",
              "      <td>2.070636</td>\n",
              "      <td>2.771499</td>\n",
              "      <td>10.673824</td>\n",
              "      <td>34.457852</td>\n",
              "      <td>5.892358</td>\n",
              "      <td>10.569807</td>\n",
              "      <td>1.150082</td>\n",
              "      <td>28793.672193</td>\n",
              "      <td>14191.277833</td>\n",
              "      <td>0.611408</td>\n",
              "      <td>490.804555</td>\n",
              "      <td>0.770255</td>\n",
              "      <td>517.980900</td>\n",
              "      <td>180.888634</td>\n",
              "    </tr>\n",
              "    <tr>\n",
              "      <th>std</th>\n",
              "      <td>5.682529</td>\n",
              "      <td>1.088701e+07</td>\n",
              "      <td>35.654083</td>\n",
              "      <td>1.078405</td>\n",
              "      <td>1.261056</td>\n",
              "      <td>6.597173</td>\n",
              "      <td>22.030445</td>\n",
              "      <td>4.885249</td>\n",
              "      <td>5.905438</td>\n",
              "      <td>1.071300</td>\n",
              "      <td>12630.880622</td>\n",
              "      <td>8608.386210</td>\n",
              "      <td>0.802074</td>\n",
              "      <td>342.317995</td>\n",
              "      <td>0.938346</td>\n",
              "      <td>277.720643</td>\n",
              "      <td>219.727988</td>\n",
              "    </tr>\n",
              "    <tr>\n",
              "      <th>min</th>\n",
              "      <td>0.000000</td>\n",
              "      <td>1.219000e+04</td>\n",
              "      <td>12.000000</td>\n",
              "      <td>0.000000</td>\n",
              "      <td>1.000000</td>\n",
              "      <td>1.000000</td>\n",
              "      <td>2.000000</td>\n",
              "      <td>1.000000</td>\n",
              "      <td>1.300000</td>\n",
              "      <td>0.000000</td>\n",
              "      <td>0.000000</td>\n",
              "      <td>181.000000</td>\n",
              "      <td>0.000000</td>\n",
              "      <td>1.000000</td>\n",
              "      <td>0.000000</td>\n",
              "      <td>13.000000</td>\n",
              "      <td>1.000000</td>\n",
              "    </tr>\n",
              "    <tr>\n",
              "      <th>25%</th>\n",
              "      <td>6.000000</td>\n",
              "      <td>3.400000e+06</td>\n",
              "      <td>40.000000</td>\n",
              "      <td>1.000000</td>\n",
              "      <td>2.520000</td>\n",
              "      <td>5.000000</td>\n",
              "      <td>18.600000</td>\n",
              "      <td>2.000000</td>\n",
              "      <td>7.000000</td>\n",
              "      <td>0.000000</td>\n",
              "      <td>18585.000000</td>\n",
              "      <td>9238.000000</td>\n",
              "      <td>0.000000</td>\n",
              "      <td>288.000000</td>\n",
              "      <td>0.000000</td>\n",
              "      <td>294.000000</td>\n",
              "      <td>45.000000</td>\n",
              "    </tr>\n",
              "    <tr>\n",
              "      <th>50%</th>\n",
              "      <td>9.000000</td>\n",
              "      <td>4.650000e+06</td>\n",
              "      <td>52.000000</td>\n",
              "      <td>2.000000</td>\n",
              "      <td>2.650000</td>\n",
              "      <td>9.000000</td>\n",
              "      <td>30.000000</td>\n",
              "      <td>4.000000</td>\n",
              "      <td>9.100000</td>\n",
              "      <td>1.000000</td>\n",
              "      <td>26726.000000</td>\n",
              "      <td>13098.500000</td>\n",
              "      <td>0.000000</td>\n",
              "      <td>455.000000</td>\n",
              "      <td>1.000000</td>\n",
              "      <td>502.000000</td>\n",
              "      <td>95.000000</td>\n",
              "    </tr>\n",
              "    <tr>\n",
              "      <th>75%</th>\n",
              "      <td>14.000000</td>\n",
              "      <td>6.800000e+06</td>\n",
              "      <td>69.900000</td>\n",
              "      <td>3.000000</td>\n",
              "      <td>2.800000</td>\n",
              "      <td>16.000000</td>\n",
              "      <td>42.300000</td>\n",
              "      <td>8.000000</td>\n",
              "      <td>12.000000</td>\n",
              "      <td>2.000000</td>\n",
              "      <td>37273.000000</td>\n",
              "      <td>16293.000000</td>\n",
              "      <td>1.000000</td>\n",
              "      <td>612.000000</td>\n",
              "      <td>1.000000</td>\n",
              "      <td>729.000000</td>\n",
              "      <td>232.000000</td>\n",
              "    </tr>\n",
              "    <tr>\n",
              "      <th>max</th>\n",
              "      <td>50.000000</td>\n",
              "      <td>7.630000e+08</td>\n",
              "      <td>900.000000</td>\n",
              "      <td>19.000000</td>\n",
              "      <td>100.000000</td>\n",
              "      <td>60.000000</td>\n",
              "      <td>409.700000</td>\n",
              "      <td>33.000000</td>\n",
              "      <td>112.000000</td>\n",
              "      <td>5.000000</td>\n",
              "      <td>84869.000000</td>\n",
              "      <td>65968.000000</td>\n",
              "      <td>3.000000</td>\n",
              "      <td>3190.000000</td>\n",
              "      <td>3.000000</td>\n",
              "      <td>1344.000000</td>\n",
              "      <td>1580.000000</td>\n",
              "    </tr>\n",
              "  </tbody>\n",
              "</table>\n",
              "</div>"
            ],
            "text/plain": [
              "       total_images    last_price    total_area         rooms  ceiling_height  \\\n",
              "count  23699.000000  2.369900e+04  23699.000000  23699.000000    14504.000000   \n",
              "mean       9.858475  6.541549e+06     60.348651      2.070636        2.771499   \n",
              "std        5.682529  1.088701e+07     35.654083      1.078405        1.261056   \n",
              "min        0.000000  1.219000e+04     12.000000      0.000000        1.000000   \n",
              "25%        6.000000  3.400000e+06     40.000000      1.000000        2.520000   \n",
              "50%        9.000000  4.650000e+06     52.000000      2.000000        2.650000   \n",
              "75%       14.000000  6.800000e+06     69.900000      3.000000        2.800000   \n",
              "max       50.000000  7.630000e+08    900.000000     19.000000      100.000000   \n",
              "\n",
              "       floors_total   living_area         floor  kitchen_area       balcony  \\\n",
              "count  23613.000000  21796.000000  23699.000000  21421.000000  12180.000000   \n",
              "mean      10.673824     34.457852      5.892358     10.569807      1.150082   \n",
              "std        6.597173     22.030445      4.885249      5.905438      1.071300   \n",
              "min        1.000000      2.000000      1.000000      1.300000      0.000000   \n",
              "25%        5.000000     18.600000      2.000000      7.000000      0.000000   \n",
              "50%        9.000000     30.000000      4.000000      9.100000      1.000000   \n",
              "75%       16.000000     42.300000      8.000000     12.000000      2.000000   \n",
              "max       60.000000    409.700000     33.000000    112.000000      5.000000   \n",
              "\n",
              "       airports_nearest  cityCenters_nearest  parks_around3000  parks_nearest  \\\n",
              "count      18157.000000         18180.000000      18181.000000    8079.000000   \n",
              "mean       28793.672193         14191.277833          0.611408     490.804555   \n",
              "std        12630.880622          8608.386210          0.802074     342.317995   \n",
              "min            0.000000           181.000000          0.000000       1.000000   \n",
              "25%        18585.000000          9238.000000          0.000000     288.000000   \n",
              "50%        26726.000000         13098.500000          0.000000     455.000000   \n",
              "75%        37273.000000         16293.000000          1.000000     612.000000   \n",
              "max        84869.000000         65968.000000          3.000000    3190.000000   \n",
              "\n",
              "       ponds_around3000  ponds_nearest  days_exposition  \n",
              "count      18181.000000    9110.000000     20518.000000  \n",
              "mean           0.770255     517.980900       180.888634  \n",
              "std            0.938346     277.720643       219.727988  \n",
              "min            0.000000      13.000000         1.000000  \n",
              "25%            0.000000     294.000000        45.000000  \n",
              "50%            1.000000     502.000000        95.000000  \n",
              "75%            1.000000     729.000000       232.000000  \n",
              "max            3.000000    1344.000000      1580.000000  "
            ]
          },
          "execution_count": 4,
          "metadata": {},
          "output_type": "execute_result"
        }
      ],
      "source": [
        "df.describe()"
      ]
    },
    {
      "cell_type": "code",
      "execution_count": null,
      "metadata": {
        "id": "SuOp--fuDQI2",
        "outputId": "4a313da1-0aa5-4ed3-8b80-7c61cc973ed2"
      },
      "outputs": [
        {
          "data": {
            "text/plain": [
              "array([nan, False, True], dtype=object)"
            ]
          },
          "execution_count": 5,
          "metadata": {},
          "output_type": "execute_result"
        }
      ],
      "source": [
        "df['is_apartment'].unique()  \n",
        "# столб df['is_apartment'] подозрительный, так как могут содержаться только Nan-значеня поэтому я проверила на уникальные значения"
      ]
    },
    {
      "cell_type": "code",
      "execution_count": null,
      "metadata": {
        "id": "2BnEwFnMDQI3",
        "outputId": "50bc548c-0ca2-41f7-c4ef-78e599fff16f"
      },
      "outputs": [
        {
          "name": "stdout",
          "output_type": "stream",
          "text": [
            "<class 'pandas.core.frame.DataFrame'>\n",
            "RangeIndex: 23699 entries, 0 to 23698\n",
            "Data columns (total 22 columns):\n",
            " #   Column                Non-Null Count  Dtype  \n",
            "---  ------                --------------  -----  \n",
            " 0   total_images          23699 non-null  int64  \n",
            " 1   last_price            23699 non-null  float64\n",
            " 2   total_area            23699 non-null  float64\n",
            " 3   first_day_exposition  23699 non-null  object \n",
            " 4   rooms                 23699 non-null  int64  \n",
            " 5   ceiling_height        14504 non-null  float64\n",
            " 6   floors_total          23613 non-null  float64\n",
            " 7   living_area           21796 non-null  float64\n",
            " 8   floor                 23699 non-null  int64  \n",
            " 9   is_apartment          2775 non-null   object \n",
            " 10  studio                23699 non-null  bool   \n",
            " 11  open_plan             23699 non-null  bool   \n",
            " 12  kitchen_area          21421 non-null  float64\n",
            " 13  balcony               12180 non-null  float64\n",
            " 14  locality_name         23650 non-null  object \n",
            " 15  airports_nearest      18157 non-null  float64\n",
            " 16  cityCenters_nearest   18180 non-null  float64\n",
            " 17  parks_around3000      18181 non-null  float64\n",
            " 18  parks_nearest         8079 non-null   float64\n",
            " 19  ponds_around3000      18181 non-null  float64\n",
            " 20  ponds_nearest         9110 non-null   float64\n",
            " 21  days_exposition       20518 non-null  float64\n",
            "dtypes: bool(2), float64(14), int64(3), object(3)\n",
            "memory usage: 3.7+ MB\n"
          ]
        }
      ],
      "source": [
        "df.info()"
      ]
    },
    {
      "cell_type": "markdown",
      "metadata": {
        "id": "66048lX9DQI3"
      },
      "source": [
        "Расшифровка столбов \n",
        "* total_images - число фотографий квартиры в объявлении \n",
        "* last_price -  цена на момент снятия с публикации\n",
        "* total_area - общая площадь квартиры в квадратных метрах (м²)\n",
        "* first_day_exposition - дата публикации\n",
        "* rooms - число комнат\n",
        "* ceiling_height - высота потолков (м)\n",
        "* floors_total -  всего этажей в доме\n",
        "* living_area  - жилая площадь в квадратных метрах (м²)\n",
        "* floor - этаж\n",
        "* is_apartment - апартаменты (булев тип)\n",
        "* studio - квартира-студия (булев тип)\n",
        "* open_plan — свободная планировка (булев тип)\n",
        "* kitchen_area - площадь кухни в квадратных метрах (м²)\n",
        "* balcony — число балконов \n",
        "* locality_name - название населенного пункта \n",
        "* airports_nearest - расстояние до ближайшего аэропорта в метрах (м)\n",
        "* cityCenters_nearest - расстояние до центра города (м)\n",
        "* parks_around3000 - число парков в радиусе 3 км\n",
        "* parks_nearest - расстояние до ближайшего парка (м)\n",
        "* ponds_around3000 - число водоёмов в радиусе 3 км\n",
        "* ponds_nearest -  расстояние до ближайшего водоёма (м)\n",
        "* days_exposition - сколько дней было размещено объявление (от публикации до снятия)"
      ]
    },
    {
      "cell_type": "code",
      "execution_count": null,
      "metadata": {
        "id": "WUJSIu1KDQI3",
        "outputId": "22191b25-cf0a-4930-c2fc-ae60c3b4e9b1"
      },
      "outputs": [
        {
          "data": {
            "text/plain": [
              "total_images                0\n",
              "last_price                  0\n",
              "total_area                  0\n",
              "first_day_exposition        0\n",
              "rooms                       0\n",
              "ceiling_height           9195\n",
              "floors_total               86\n",
              "living_area              1903\n",
              "floor                       0\n",
              "is_apartment            20924\n",
              "studio                      0\n",
              "open_plan                   0\n",
              "kitchen_area             2278\n",
              "balcony                 11519\n",
              "locality_name              49\n",
              "airports_nearest         5542\n",
              "cityCenters_nearest      5519\n",
              "parks_around3000         5518\n",
              "parks_nearest           15620\n",
              "ponds_around3000         5518\n",
              "ponds_nearest           14589\n",
              "days_exposition          3181\n",
              "dtype: int64"
            ]
          },
          "execution_count": 7,
          "metadata": {},
          "output_type": "execute_result"
        }
      ],
      "source": [
        "df.isna().sum() # просмотрим сколько и где есть пропущенные значения"
      ]
    },
    {
      "cell_type": "markdown",
      "metadata": {
        "id": "fXDLxspBDQI4"
      },
      "source": [
        "# Результат предосмотра данных"
      ]
    },
    {
      "cell_type": "markdown",
      "metadata": {
        "id": "ugHdcGPVDQI4"
      },
      "source": [
        "1. Заменить название столбца \n",
        "* df['cityCenters_nearest'] на df['сity_centers_nearest']\n",
        "* df['parks_around3000'] на df['parks_around_3000']\n",
        "* df['ponds_around3000'] на df['ponds_around_3000']\n",
        "\n",
        "2. Заменить Nan в столбах:\n",
        "* df['ceiling_height']  \n",
        "> Можно пропуски заменить на медианное значение, потому что медиана не сильно зависит от выбросов\n",
        "\n",
        "* df['floors_total']      \n",
        "> Можно заменить на 0\n",
        "\n",
        "* df['living_area']    \n",
        "> Можно пропуски заменить на медианное значение\n",
        "\n",
        "* df['is_apartment']   \n",
        "> Заменим пропуски 0\n",
        "\n",
        "* df['parks_nearest']  \n",
        "> Парки могут отстуствовать \n",
        "> Заменим пропуски на 0\n",
        "\n",
        "* df['kitchen_area']   \n",
        "> Можно пропуски заменить на медианное значение\n",
        "\n",
        "* df['balcony ']\n",
        "> Балконы могут отстуствовать \n",
        "> Заменим пропуски на 0 \n",
        "\n",
        "* df['locality_name ']   \n",
        "> В пропусках поставим ничего \n",
        "\n",
        "* df['airports_nearest'] \n",
        "> Заменим на 0 пропуски\n",
        "\n",
        "* df['cityCenters_nearest'] \n",
        "> Медиану будет считать некорректно, потому что это место \n",
        "> Удалю пропуски\n",
        "\n",
        "* df['parks_around3000']\n",
        "> Парки могут отстуствовать \n",
        "> Заменим пропуски на 0 \n",
        "\n",
        "* df['parks_nearest']\n",
        "> Заменим пропуски на 0\n",
        "\n",
        "* df['ponds_around3000']\n",
        "> Водоемы могут отстуствовать \n",
        "> Заменим пропуски на 0 \n",
        "\n",
        "* df['days_exposition']     \n",
        "> Можно пропуски заменить на медианное значение\n",
        "* df['ponds_nearest']\n",
        "> Заменю пропуски на 0\n",
        "3. Привести данные \n",
        "* df['first_day_exposition'] из  в datetime потому что странный перевод\n",
        "* df['floors_total'] в int потому что не бывает дробных этажей\n",
        "* df['balcony'] в int потому что количество балконов не может быть дробным числом\n",
        "* df['is_apartment'] в bool потому что указано, что изначально это должно быть bool\n",
        "* df['parks_around3000']  перевести в int\n",
        "* df['ponds_around3000']  перевести в int\n",
        "* df['days_exposition'] перевести в int\n",
        "* df['last_price'] перевести в int \n",
        "* df['ceiling_height']  перевести в int для удобства "
      ]
    },
    {
      "cell_type": "markdown",
      "metadata": {
        "id": "TIkOsJBXDQI5"
      },
      "source": [
        "# Предобработка данных"
      ]
    },
    {
      "cell_type": "markdown",
      "metadata": {
        "id": "Wce33x4hDQI5"
      },
      "source": [
        "# Выполним замену названий столбцов"
      ]
    },
    {
      "cell_type": "code",
      "execution_count": null,
      "metadata": {
        "id": "XLRYI_fmDQI6",
        "outputId": "3ea76c17-05a2-4268-b5b4-fdb11a62942b"
      },
      "outputs": [
        {
          "name": "stdout",
          "output_type": "stream",
          "text": [
            "<class 'pandas.core.frame.DataFrame'>\n",
            "RangeIndex: 23699 entries, 0 to 23698\n",
            "Data columns (total 22 columns):\n",
            " #   Column                Non-Null Count  Dtype  \n",
            "---  ------                --------------  -----  \n",
            " 0   total_images          23699 non-null  int64  \n",
            " 1   last_price            23699 non-null  float64\n",
            " 2   total_area            23699 non-null  float64\n",
            " 3   first_day_exposition  23699 non-null  object \n",
            " 4   rooms                 23699 non-null  int64  \n",
            " 5   ceiling_height        14504 non-null  float64\n",
            " 6   floors_total          23613 non-null  float64\n",
            " 7   living_area           21796 non-null  float64\n",
            " 8   floor                 23699 non-null  int64  \n",
            " 9   is_apartment          2775 non-null   object \n",
            " 10  studio                23699 non-null  bool   \n",
            " 11  open_plan             23699 non-null  bool   \n",
            " 12  kitchen_area          21421 non-null  float64\n",
            " 13  balcony               12180 non-null  float64\n",
            " 14  locality_name         23650 non-null  object \n",
            " 15  airports_nearest      18157 non-null  float64\n",
            " 16  сity_centers_nearest  18180 non-null  float64\n",
            " 17  parks_around_3000     18181 non-null  float64\n",
            " 18  parks_nearest         8079 non-null   float64\n",
            " 19  ponds_around_3000     18181 non-null  float64\n",
            " 20  ponds_nearest         9110 non-null   float64\n",
            " 21  days_exposition       20518 non-null  float64\n",
            "dtypes: bool(2), float64(14), int64(3), object(3)\n",
            "memory usage: 3.7+ MB\n"
          ]
        }
      ],
      "source": [
        "df.rename(columns={'cityCenters_nearest': 'сity_centers_nearest', 'parks_around3000': 'parks_around_3000', 'ponds_around3000':'ponds_around_3000'}, inplace=True)\n",
        "df.info() #проверим, что все столбы, которые указаны переименовались"
      ]
    },
    {
      "cell_type": "markdown",
      "metadata": {
        "id": "SAgiBq4_DQI6"
      },
      "source": [
        "# Работа с пропусками"
      ]
    },
    {
      "cell_type": "code",
      "execution_count": null,
      "metadata": {
        "id": "DAmsmvLPDQI7"
      },
      "outputs": [],
      "source": [
        "for i in df.columns:\n",
        "    if i in ['days_exposition','kitchen_area', 'living_area', 'ceiling_height']:\n",
        "        df[i] = df[i].fillna(value=df[i].median()) # заменила на медианное значение \n",
        "    elif i in ['is_apartment', 'parks_nearest', 'balcony', 'airports_nearest', 'parks_around_3000', \n",
        "                  'parks_nearest ','ponds_around_3000', 'ponds_nearest','floors_total']:\n",
        "        df[i] = df[i].fillna(value=0) # заменила на 0"
      ]
    },
    {
      "cell_type": "code",
      "execution_count": null,
      "metadata": {
        "id": "ETBwEgIfDQI7"
      },
      "outputs": [],
      "source": [
        "df.loc[df['floors_total'].isnull(), 'floors_total'] = df['floor']"
      ]
    },
    {
      "cell_type": "code",
      "execution_count": null,
      "metadata": {
        "id": "dbdW2QOpDQI8"
      },
      "outputs": [],
      "source": [
        "df.loc[df['living_area'].isnull(), 'living_area'] = df['living_area']/df['total_area']"
      ]
    },
    {
      "cell_type": "code",
      "execution_count": null,
      "metadata": {
        "id": "lt7oZfwVDQI8"
      },
      "outputs": [],
      "source": [
        "df.loc[df['kitchen_area'].isnull(), 'kitchen_area'] = df['kitchen_area']/df['total_area']"
      ]
    },
    {
      "cell_type": "code",
      "execution_count": null,
      "metadata": {
        "id": "Rj3QKpnPDQI9",
        "outputId": "81f01f02-4c62-4e01-d267-3536c02feaea"
      },
      "outputs": [
        {
          "data": {
            "text/plain": [
              "total_images               0\n",
              "last_price                 0\n",
              "total_area                 0\n",
              "first_day_exposition       0\n",
              "rooms                      0\n",
              "ceiling_height             0\n",
              "floors_total               0\n",
              "living_area                0\n",
              "floor                      0\n",
              "is_apartment               0\n",
              "studio                     0\n",
              "open_plan                  0\n",
              "kitchen_area               0\n",
              "balcony                    0\n",
              "locality_name             49\n",
              "airports_nearest           0\n",
              "сity_centers_nearest    5519\n",
              "parks_around_3000          0\n",
              "parks_nearest              0\n",
              "ponds_around_3000          0\n",
              "ponds_nearest              0\n",
              "days_exposition            0\n",
              "dtype: int64"
            ]
          },
          "execution_count": 13,
          "metadata": {},
          "output_type": "execute_result"
        }
      ],
      "source": [
        "df.isna().sum()  # проверила пропуски"
      ]
    },
    {
      "cell_type": "markdown",
      "metadata": {
        "id": "B9PN78k_DQI-"
      },
      "source": [
        "# Изменение типа данных "
      ]
    },
    {
      "cell_type": "code",
      "execution_count": null,
      "metadata": {
        "id": "qtidX3ADDQI-",
        "outputId": "005f53f9-31b6-4538-8e06-22e61b19fa0c"
      },
      "outputs": [
        {
          "name": "stdout",
          "output_type": "stream",
          "text": [
            "<class 'pandas.core.frame.DataFrame'>\n",
            "RangeIndex: 23699 entries, 0 to 23698\n",
            "Data columns (total 22 columns):\n",
            " #   Column                Non-Null Count  Dtype         \n",
            "---  ------                --------------  -----         \n",
            " 0   total_images          23699 non-null  int64         \n",
            " 1   last_price            23699 non-null  int64         \n",
            " 2   total_area            23699 non-null  float64       \n",
            " 3   first_day_exposition  23699 non-null  datetime64[ns]\n",
            " 4   rooms                 23699 non-null  int64         \n",
            " 5   ceiling_height        23699 non-null  float64       \n",
            " 6   floors_total          23699 non-null  int64         \n",
            " 7   living_area           23699 non-null  int64         \n",
            " 8   floor                 23699 non-null  int64         \n",
            " 9   is_apartment          23699 non-null  bool          \n",
            " 10  studio                23699 non-null  bool          \n",
            " 11  open_plan             23699 non-null  bool          \n",
            " 12  kitchen_area          23699 non-null  float64       \n",
            " 13  balcony               23699 non-null  int64         \n",
            " 14  locality_name         23650 non-null  object        \n",
            " 15  airports_nearest      23699 non-null  float64       \n",
            " 16  сity_centers_nearest  18180 non-null  float64       \n",
            " 17  parks_around_3000     23699 non-null  int64         \n",
            " 18  parks_nearest         23699 non-null  float64       \n",
            " 19  ponds_around_3000     23699 non-null  int64         \n",
            " 20  ponds_nearest         23699 non-null  float64       \n",
            " 21  days_exposition       23699 non-null  int64         \n",
            "dtypes: bool(3), datetime64[ns](1), float64(7), int64(10), object(1)\n",
            "memory usage: 3.5+ MB\n"
          ]
        }
      ],
      "source": [
        "for i in df.columns:\n",
        "    if i in ['living_area','floors_total', 'balcony', 'parks_around_3000', 'ponds_around_3000','days_exposition', 'last_price']:\n",
        "        df[i] = df[i].astype('int')\n",
        "    elif i in ['is_apartment']:\n",
        "        df[i] = df[i].astype('bool')\n",
        "    elif i in ['first_day_exposition']:\n",
        "        df[i] = pd.to_datetime(df[i])\n",
        "df.info()"
      ]
    },
    {
      "cell_type": "code",
      "execution_count": null,
      "metadata": {
        "id": "QOpubUDsDQI_",
        "outputId": "e240d700-e5c3-45c8-d6b9-9935d3baecce"
      },
      "outputs": [
        {
          "data": {
            "text/plain": [
              "0       2019-03-07\n",
              "1       2018-12-04\n",
              "2       2015-08-20\n",
              "3       2015-07-24\n",
              "4       2018-06-19\n",
              "           ...    \n",
              "23694   2017-03-21\n",
              "23695   2018-01-15\n",
              "23696   2018-02-11\n",
              "23697   2017-03-28\n",
              "23698   2017-07-21\n",
              "Name: first_day_exposition, Length: 23699, dtype: datetime64[ns]"
            ]
          },
          "execution_count": 15,
          "metadata": {},
          "output_type": "execute_result"
        }
      ],
      "source": [
        "df['first_day_exposition'] # просмотрю как вывелся столбец с датой   "
      ]
    },
    {
      "cell_type": "markdown",
      "metadata": {
        "id": "R9_bfA0ZDQI_"
      },
      "source": [
        "# Изучаем уникальные значения и удаляем дубликаты "
      ]
    },
    {
      "cell_type": "code",
      "execution_count": null,
      "metadata": {
        "id": "toOaQnPgDQJA",
        "outputId": "ce3da76d-3043-44d4-b2cc-722a57645e48"
      },
      "outputs": [
        {
          "data": {
            "text/plain": [
              "(23699, 22)"
            ]
          },
          "execution_count": 16,
          "metadata": {},
          "output_type": "execute_result"
        }
      ],
      "source": [
        "df.shape #вывела таблицу целиком "
      ]
    },
    {
      "cell_type": "code",
      "execution_count": null,
      "metadata": {
        "id": "UHTj430JDQJA",
        "outputId": "47a74078-59cf-449d-f261-52b3fcd325db"
      },
      "outputs": [
        {
          "data": {
            "text/plain": [
              "0            Санкт-Петербург\n",
              "1             посёлок Шушары\n",
              "2            Санкт-Петербург\n",
              "3            Санкт-Петербург\n",
              "4            Санкт-Петербург\n",
              "                ...         \n",
              "23694        Санкт-Петербург\n",
              "23695                  Тосно\n",
              "23696       село Рождествено\n",
              "23697        Санкт-Петербург\n",
              "23698    поселок Новый Учхоз\n",
              "Name: locality_name, Length: 23699, dtype: object"
            ]
          },
          "execution_count": 17,
          "metadata": {},
          "output_type": "execute_result"
        }
      ],
      "source": [
        "df['locality_name'] "
      ]
    },
    {
      "cell_type": "code",
      "execution_count": null,
      "metadata": {
        "scrolled": false,
        "id": "eMb-ZVckDQJB",
        "outputId": "e41ea976-25bc-4c92-b55e-2f7e910704ed"
      },
      "outputs": [
        {
          "data": {
            "text/plain": [
              "array(['Санкт-Петербург', 'посёлок Шушары', 'городской посёлок Янино-1',\n",
              "       'посёлок Парголово', 'посёлок Мурино', 'Ломоносов', 'Сертолово',\n",
              "       'Петергоф', 'Пушкин', 'деревня Кудрово', 'Коммунар', 'Колпино',\n",
              "       'поселок городского типа Красный Бор', 'Гатчина', 'поселок Мурино',\n",
              "       'деревня Фёдоровское', 'Выборг', 'Кронштадт', 'Кировск',\n",
              "       'деревня Новое Девяткино', 'посёлок Металлострой',\n",
              "       'посёлок городского типа Лебяжье',\n",
              "       'посёлок городского типа Сиверский', 'поселок Молодцово',\n",
              "       'поселок городского типа Кузьмоловский',\n",
              "       'садовое товарищество Новая Ропша', 'Павловск',\n",
              "       'деревня Пикколово', 'Всеволожск', 'Волхов', 'Кингисепп',\n",
              "       'Приозерск', 'Сестрорецк', 'деревня Куттузи', 'посёлок Аннино',\n",
              "       'поселок городского типа Ефимовский', 'посёлок Плодовое',\n",
              "       'деревня Заклинье', 'поселок Торковичи', 'поселок Первомайское',\n",
              "       'Красное Село', 'посёлок Понтонный', 'Сясьстрой', 'деревня Старая',\n",
              "       'деревня Лесколово', 'посёлок Новый Свет', 'Сланцы',\n",
              "       'село Путилово', 'Ивангород', 'Мурино', 'Шлиссельбург',\n",
              "       'Никольское', 'Зеленогорск', 'Сосновый Бор', 'поселок Новый Свет',\n",
              "       'деревня Оржицы', 'деревня Кальтино', 'Кудрово',\n",
              "       'поселок Романовка', 'посёлок Бугры', 'поселок Бугры',\n",
              "       'поселок городского типа Рощино', 'Кириши', 'Луга', 'Волосово',\n",
              "       'Отрадное', 'село Павлово', 'поселок Оредеж', 'село Копорье',\n",
              "       'посёлок городского типа Красный Бор', 'посёлок Молодёжное',\n",
              "       'Тихвин', 'посёлок Победа', 'деревня Нурма',\n",
              "       'поселок городского типа Синявино', 'Тосно',\n",
              "       'посёлок городского типа Кузьмоловский', 'посёлок Стрельна',\n",
              "       'Бокситогорск', 'посёлок Александровская', 'деревня Лопухинка',\n",
              "       'Пикалёво', 'поселок Терволово',\n",
              "       'поселок городского типа Советский', 'Подпорожье',\n",
              "       'посёлок Петровское', 'посёлок городского типа Токсово',\n",
              "       'поселок Сельцо', 'посёлок городского типа Вырица',\n",
              "       'деревня Кипень', 'деревня Келози', 'деревня Вартемяги',\n",
              "       'посёлок Тельмана', 'поселок Севастьяново',\n",
              "       'городской поселок Большая Ижора', nan,\n",
              "       'городской посёлок Павлово', 'деревня Агалатово',\n",
              "       'посёлок Новогорелово', 'городской посёлок Лесогорский',\n",
              "       'деревня Лаголово', 'поселок Цвелодубово',\n",
              "       'поселок городского типа Рахья', 'поселок городского типа Вырица',\n",
              "       'деревня Белогорка', 'поселок Заводской',\n",
              "       'городской посёлок Новоселье', 'деревня Большие Колпаны',\n",
              "       'деревня Горбунки', 'деревня Батово', 'деревня Заневка',\n",
              "       'деревня Иссад', 'Приморск', 'городской посёлок Фёдоровское',\n",
              "       'деревня Мистолово', 'Новая Ладога', 'поселок Зимитицы',\n",
              "       'поселок Барышево', 'деревня Разметелево',\n",
              "       'поселок городского типа имени Свердлова', 'деревня Пеники',\n",
              "       'поселок Рябово', 'деревня Пудомяги', 'поселок станции Корнево',\n",
              "       'деревня Низино', 'деревня Бегуницы', 'посёлок Поляны',\n",
              "       'городской посёлок Мга', 'поселок Елизаветино',\n",
              "       'посёлок городского типа Кузнечное', 'деревня Колтуши',\n",
              "       'поселок Запорожское', 'посёлок городского типа Рощино',\n",
              "       'деревня Гостилицы', 'деревня Малое Карлино',\n",
              "       'посёлок Мичуринское', 'посёлок городского типа имени Морозова',\n",
              "       'посёлок Песочный', 'посёлок Сосново', 'деревня Аро',\n",
              "       'поселок Ильичёво', 'посёлок городского типа Тайцы',\n",
              "       'деревня Малое Верево', 'деревня Извара', 'поселок станции Вещево',\n",
              "       'село Паша', 'деревня Калитино',\n",
              "       'посёлок городского типа Ульяновка', 'деревня Чудской Бор',\n",
              "       'поселок городского типа Дубровка', 'деревня Мины',\n",
              "       'поселок Войсковицы', 'посёлок городского типа имени Свердлова',\n",
              "       'деревня Коркино', 'посёлок Ропша',\n",
              "       'поселок городского типа Приладожский', 'посёлок Щеглово',\n",
              "       'посёлок Гаврилово', 'Лодейное Поле', 'деревня Рабитицы',\n",
              "       'поселок городского типа Никольский', 'деревня Кузьмолово',\n",
              "       'деревня Малые Колпаны', 'поселок Тельмана',\n",
              "       'посёлок Петро-Славянка', 'городской посёлок Назия',\n",
              "       'посёлок Репино', 'посёлок Ильичёво', 'поселок Углово',\n",
              "       'поселок Старая Малукса', 'садовое товарищество Рахья',\n",
              "       'поселок Аннино', 'поселок Победа', 'деревня Меньково',\n",
              "       'деревня Старые Бегуницы', 'посёлок Сапёрный', 'поселок Семрино',\n",
              "       'поселок Гаврилово', 'поселок Глажево', 'поселок Кобринское',\n",
              "       'деревня Гарболово', 'деревня Юкки',\n",
              "       'поселок станции Приветнинское', 'деревня Мануйлово',\n",
              "       'деревня Пчева', 'поселок Поляны', 'поселок Цвылёво',\n",
              "       'поселок Мельниково', 'посёлок Пудость', 'посёлок Усть-Луга',\n",
              "       'Светогорск', 'Любань', 'поселок Селезнёво',\n",
              "       'поселок городского типа Рябово', 'Каменногорск', 'деревня Кривко',\n",
              "       'поселок Глебычево', 'деревня Парицы', 'поселок Жилпосёлок',\n",
              "       'посёлок городского типа Мга', 'городской поселок Янино-1',\n",
              "       'посёлок Войскорово', 'село Никольское', 'посёлок Терволово',\n",
              "       'поселок Стеклянный', 'посёлок городского типа Важины',\n",
              "       'посёлок Мыза-Ивановка', 'село Русско-Высоцкое',\n",
              "       'поселок городского типа Лебяжье',\n",
              "       'поселок городского типа Форносово', 'село Старая Ладога',\n",
              "       'поселок Житково', 'городской посёлок Виллози', 'деревня Лампово',\n",
              "       'деревня Шпаньково', 'деревня Лаврики', 'посёлок Сумино',\n",
              "       'посёлок Возрождение', 'деревня Старосиверская',\n",
              "       'посёлок Кикерино', 'поселок Возрождение',\n",
              "       'деревня Старое Хинколово', 'посёлок Пригородный',\n",
              "       'посёлок Торфяное', 'городской посёлок Будогощь',\n",
              "       'поселок Суходолье', 'поселок Красная Долина', 'деревня Хапо-Ое',\n",
              "       'поселок городского типа Дружная Горка', 'поселок Лисий Нос',\n",
              "       'деревня Яльгелево', 'посёлок Стеклянный', 'село Рождествено',\n",
              "       'деревня Старополье', 'посёлок Левашово', 'деревня Сяськелево',\n",
              "       'деревня Камышовка',\n",
              "       'садоводческое некоммерческое товарищество Лесная Поляна',\n",
              "       'деревня Хязельки', 'поселок Жилгородок',\n",
              "       'посёлок городского типа Павлово', 'деревня Ялгино',\n",
              "       'поселок Новый Учхоз', 'городской посёлок Рощино',\n",
              "       'поселок Гончарово', 'поселок Почап', 'посёлок Сапёрное',\n",
              "       'посёлок Платформа 69-й километр', 'поселок Каложицы',\n",
              "       'деревня Фалилеево', 'деревня Пельгора',\n",
              "       'поселок городского типа Лесогорский', 'деревня Торошковичи',\n",
              "       'посёлок Белоостров', 'посёлок Алексеевка', 'поселок Серебрянский',\n",
              "       'поселок Лукаши', 'поселок Петровское', 'деревня Щеглово',\n",
              "       'поселок Мичуринское', 'деревня Тарасово', 'поселок Кингисеппский',\n",
              "       'посёлок при железнодорожной станции Вещево', 'поселок Ушаки',\n",
              "       'деревня Котлы', 'деревня Сижно', 'деревня Торосово',\n",
              "       'посёлок Форт Красная Горка', 'поселок городского типа Токсово',\n",
              "       'деревня Новолисино', 'посёлок станции Громово', 'деревня Глинка',\n",
              "       'посёлок Мельниково', 'поселок городского типа Назия',\n",
              "       'деревня Старая Пустошь', 'поселок Коммунары', 'поселок Починок',\n",
              "       'посёлок городского типа Вознесенье', 'деревня Разбегаево',\n",
              "       'посёлок городского типа Рябово', 'поселок Гладкое',\n",
              "       'посёлок при железнодорожной станции Приветнинское',\n",
              "       'поселок Тёсово-4', 'посёлок Жилгородок', 'деревня Бор',\n",
              "       'посёлок Коробицыно', 'деревня Большая Вруда', 'деревня Курковицы',\n",
              "       'посёлок Лисий Нос', 'городской посёлок Советский',\n",
              "       'посёлок Кобралово', 'деревня Суоранда', 'поселок Кобралово',\n",
              "       'поселок городского типа Кондратьево',\n",
              "       'коттеджный поселок Счастье', 'поселок Любань', 'деревня Реброво',\n",
              "       'деревня Зимитицы', 'деревня Тойворово', 'поселок Семиозерье',\n",
              "       'поселок Лесное', 'поселок Совхозный', 'поселок Усть-Луга',\n",
              "       'посёлок Ленинское', 'посёлок Суйда',\n",
              "       'посёлок городского типа Форносово', 'деревня Нижние Осельки',\n",
              "       'посёлок станции Свирь', 'поселок Перово', 'Высоцк',\n",
              "       'поселок Гарболово', 'село Шум', 'поселок Котельский',\n",
              "       'поселок станции Лужайка', 'деревня Большая Пустомержа',\n",
              "       'поселок Красносельское', 'деревня Вахнова Кара', 'деревня Пижма',\n",
              "       'коттеджный поселок Кивеннапа Север', 'поселок Коробицыно',\n",
              "       'поселок Ромашки', 'посёлок Перово', 'деревня Каськово',\n",
              "       'деревня Куровицы', 'посёлок Плоское', 'поселок Сумино',\n",
              "       'поселок городского типа Большая Ижора', 'поселок Кирпичное',\n",
              "       'деревня Ям-Тесово', 'деревня Раздолье', 'деревня Терпилицы',\n",
              "       'посёлок Шугозеро', 'деревня Ваганово', 'поселок Пушное',\n",
              "       'садовое товарищество Садко', 'посёлок Усть-Ижора',\n",
              "       'деревня Выскатка', 'городской посёлок Свирьстрой',\n",
              "       'поселок Громово', 'деревня Кисельня', 'посёлок Старая Малукса',\n",
              "       'деревня Трубников Бор', 'поселок Калитино',\n",
              "       'посёлок Высокоключевой', 'садовое товарищество Приладожский',\n",
              "       'посёлок Пансионат Зелёный Бор', 'деревня Ненимяки',\n",
              "       'поселок Пансионат Зелёный Бор', 'деревня Снегирёвка',\n",
              "       'деревня Рапполово', 'деревня Пустынка', 'поселок Рабитицы',\n",
              "       'деревня Большой Сабск', 'деревня Русско', 'деревня Лупполово',\n",
              "       'деревня Большое Рейзино', 'деревня Малая Романовка',\n",
              "       'поселок Дружноселье', 'поселок Пчевжа', 'поселок Володарское',\n",
              "       'деревня Нижняя', 'коттеджный посёлок Лесное', 'деревня Тихковицы',\n",
              "       'деревня Борисова Грива', 'посёлок Дзержинского'], dtype=object)"
            ]
          },
          "execution_count": 18,
          "metadata": {},
          "output_type": "execute_result"
        }
      ],
      "source": [
        "df['locality_name'].unique() # данный столбец просмотрела на уникальные значения"
      ]
    },
    {
      "cell_type": "code",
      "execution_count": null,
      "metadata": {
        "id": "u4sONvmGDQJB"
      },
      "outputs": [],
      "source": [
        "df['locality_name'] = df['locality_name'].where(~df['locality_name'].isnull() & ~df['locality_name'].isnull(), 'Санкт-Петербург')"
      ]
    },
    {
      "cell_type": "code",
      "execution_count": null,
      "metadata": {
        "id": "vNxPxJkbDQJB",
        "outputId": "e921fd1a-3c9a-4ef0-f32c-d6dc77705304"
      },
      "outputs": [
        {
          "data": {
            "text/plain": [
              "array(['санкт-петербург', ' шушары', 'городской  янино-1', ' парголово',\n",
              "       ' мурино', 'ломоносов', 'сертолово', 'петергоф', 'пушкин',\n",
              "       'деревня кудрово', 'коммунар', 'колпино',\n",
              "       ' городского типа красный бор', 'гатчина', 'деревня федоровское',\n",
              "       'выборг', 'кронштадт', 'кировск', 'деревня новое девяткино',\n",
              "       ' металлострой', ' городского типа лебяжье',\n",
              "       ' городского типа сиверский', ' молодцово',\n",
              "       ' городского типа кузьмоловский',\n",
              "       'садовое товарищество новая ропша', 'павловск',\n",
              "       'деревня пикколово', 'всеволожск', 'волхов', 'кингисепп',\n",
              "       'приозерск', 'сестрорецк', 'деревня куттузи', ' аннино',\n",
              "       ' городского типа ефимовский', ' плодовое', 'деревня заклинье',\n",
              "       ' торковичи', ' первомайское', 'красное село', ' понтонный',\n",
              "       'сясьстрой', 'деревня старая', 'деревня лесколово', ' новый свет',\n",
              "       'сланцы', 'село путилово', 'ивангород', 'мурино', 'шлиссельбург',\n",
              "       'никольское', 'зеленогорск', 'сосновый бор', 'деревня оржицы',\n",
              "       'деревня кальтино', 'кудрово', ' романовка', ' бугры',\n",
              "       ' городского типа рощино', 'кириши', 'луга', 'волосово',\n",
              "       'отрадное', 'село павлово', ' оредеж', 'село копорье',\n",
              "       ' молодежное', 'тихвин', ' победа', 'деревня нурма',\n",
              "       ' городского типа синявино', 'тосно', ' стрельна', 'бокситогорск',\n",
              "       ' александровская', 'деревня лопухинка', 'пикалево', ' терволово',\n",
              "       ' городского типа советский', 'подпорожье', ' петровское',\n",
              "       ' городского типа токсово', ' сельцо', ' городского типа вырица',\n",
              "       'деревня кипень', 'деревня келози', 'деревня вартемяги',\n",
              "       ' тельмана', ' севастьяново', 'городской  большая ижора',\n",
              "       'городской  павлово', 'деревня агалатово', ' новогорелово',\n",
              "       'городской  лесогорский', 'деревня лаголово', ' цвелодубово',\n",
              "       ' городского типа рахья', 'деревня белогорка', ' заводской',\n",
              "       'городской  новоселье', 'деревня большие колпаны',\n",
              "       'деревня горбунки', 'деревня батово', 'деревня заневка',\n",
              "       'деревня иссад', 'приморск', 'городской  федоровское',\n",
              "       'деревня мистолово', 'новая ладога', ' зимитицы', ' барышево',\n",
              "       'деревня разметелево', ' городского типа имени свердлова',\n",
              "       'деревня пеники', ' рябово', 'деревня пудомяги',\n",
              "       ' станции корнево', 'деревня низино', 'деревня бегуницы',\n",
              "       ' поляны', 'городской  мга', ' елизаветино',\n",
              "       ' городского типа кузнечное', 'деревня колтуши', ' запорожское',\n",
              "       'деревня гостилицы', 'деревня малое карлино', ' мичуринское',\n",
              "       ' городского типа имени морозова', ' песочный', ' сосново',\n",
              "       'деревня аро', ' ильичево', ' городского типа тайцы',\n",
              "       'деревня малое верево', 'деревня извара', ' станции вещево',\n",
              "       'село паша', 'деревня калитино', ' городского типа ульяновка',\n",
              "       'деревня чудской бор', ' городского типа дубровка', 'деревня мины',\n",
              "       ' войсковицы', 'деревня коркино', ' ропша',\n",
              "       ' городского типа приладожский', ' щеглово', ' гаврилово',\n",
              "       'лодейное поле', 'деревня рабитицы', ' городского типа никольский',\n",
              "       'деревня кузьмолово', 'деревня малые колпаны', ' петро-славянка',\n",
              "       'городской  назия', ' репино', ' углово', ' старая малукса',\n",
              "       'садовое товарищество рахья', 'деревня меньково',\n",
              "       'деревня старые бегуницы', ' саперный', ' семрино', ' глажево',\n",
              "       ' кобринское', 'деревня гарболово', 'деревня юкки',\n",
              "       ' станции приветнинское', 'деревня мануйлово', 'деревня пчева',\n",
              "       ' цвылево', ' мельниково', ' пудость', ' усть-луга', 'светогорск',\n",
              "       'любань', ' селезнево', ' городского типа рябово', 'каменногорск',\n",
              "       'деревня кривко', ' глебычево', 'деревня парицы', ' жил',\n",
              "       ' городского типа мга', ' войскорово', 'село никольское',\n",
              "       ' стеклянный', ' городского типа важины', ' мыза-ивановка',\n",
              "       'село русско-высоцкое', ' городского типа форносово',\n",
              "       'село старая ладога', ' житково', 'городской  виллози',\n",
              "       'деревня лампово', 'деревня шпаньково', 'деревня лаврики',\n",
              "       ' сумино', ' возрождение', 'деревня старосиверская', ' кикерино',\n",
              "       'деревня старое хинколово', ' пригородный', ' торфяное',\n",
              "       'городской  будогощь', ' суходолье', ' красная долина',\n",
              "       'деревня хапо-ое', ' городского типа дружная горка', ' лисий нос',\n",
              "       'деревня яльгелево', 'село рождествено', 'деревня старополье',\n",
              "       ' левашово', 'деревня сяськелево', 'деревня камышовка',\n",
              "       'садоводческое некоммерческое товарищество лесная поляна',\n",
              "       'деревня хязельки', ' жилгородок', ' городского типа павлово',\n",
              "       'деревня ялгино', ' новый учхоз', 'городской  рощино',\n",
              "       ' гончарово', ' почап', ' саперное', ' платформа 69-й километр',\n",
              "       ' каложицы', 'деревня фалилеево', 'деревня пельгора',\n",
              "       ' городского типа лесогорский', 'деревня торошковичи',\n",
              "       ' белоостров', ' алексеевка', ' серебрянский', ' лукаши',\n",
              "       'деревня щеглово', 'деревня тарасово', ' кингисеппский',\n",
              "       ' при железнодорожной станции вещево', ' ушаки', 'деревня котлы',\n",
              "       'деревня сижно', 'деревня торосово', ' форт красная горка',\n",
              "       'деревня новолисино', ' станции громово', 'деревня глинка',\n",
              "       ' городского типа назия', 'деревня старая пустошь', ' коммунары',\n",
              "       ' починок', ' городского типа вознесенье', 'деревня разбегаево',\n",
              "       ' гладкое', ' при железнодорожной станции приветнинское',\n",
              "       ' тесово-4', 'деревня бор', ' коробицыно', 'деревня большая вруда',\n",
              "       'деревня курковицы', 'городской  советский', ' кобралово',\n",
              "       'деревня суоранда', ' городского типа кондратьево',\n",
              "       'коттеджный  счастье', ' любань', 'деревня реброво',\n",
              "       'деревня зимитицы', 'деревня тойворово', ' семиозерье', ' лесное',\n",
              "       ' совхозный', ' ленинское', ' суйда', 'деревня нижние осельки',\n",
              "       ' станции свирь', ' перово', 'высоцк', ' гарболово', 'село шум',\n",
              "       ' котельский', ' станции лужайка', 'деревня большая пустомержа',\n",
              "       ' красносельское', 'деревня вахнова кара', 'деревня пижма',\n",
              "       'коттеджный  кивеннапа север', ' ромашки', 'деревня каськово',\n",
              "       'деревня куровицы', ' плоское', ' городского типа большая ижора',\n",
              "       ' кирпичное', 'деревня ям-тесово', 'деревня раздолье',\n",
              "       'деревня терпилицы', ' шугозеро', 'деревня ваганово', ' пушное',\n",
              "       'садовое товарищество садко', ' усть-ижора', 'деревня выскатка',\n",
              "       'городской  свирьстрой', ' громово', 'деревня кисельня',\n",
              "       'деревня трубников бор', ' калитино', ' высокоключевой',\n",
              "       'садовое товарищество приладожский', ' пансионат зеленый бор',\n",
              "       'деревня ненимяки', 'деревня снегиревка', 'деревня рапполово',\n",
              "       'деревня пустынка', ' рабитицы', 'деревня большой сабск',\n",
              "       'деревня русско', 'деревня лупполово', 'деревня большое рейзино',\n",
              "       'деревня малая романовка', ' дружноселье', ' пчевжа',\n",
              "       ' володарское', 'деревня нижняя', 'коттеджный  лесное',\n",
              "       'деревня тихковицы', 'деревня борисова грива', ' дзержинского'],\n",
              "      dtype=object)"
            ]
          },
          "execution_count": 20,
          "metadata": {},
          "output_type": "execute_result"
        }
      ],
      "source": [
        "#привожу данные в столбе к нормальным, исходя из задания\n",
        "df['locality_name'] = df['locality_name'] .str.lower()\n",
        "df['locality_name'] = df['locality_name'] .str.strip()\n",
        "df['locality_name'] = df['locality_name'].apply(lambda x: x.replace('ё','е'))\n",
        "df['locality_name'] = df['locality_name'].apply(lambda x: x.replace('поселок',''))\n",
        "df['locality_name'].unique()"
      ]
    },
    {
      "cell_type": "markdown",
      "metadata": {
        "id": "hDLbM4bhDQJC"
      },
      "source": [
        "# Найдем редкие и выбивабщиеся значения"
      ]
    },
    {
      "cell_type": "code",
      "execution_count": null,
      "metadata": {
        "id": "8L6ps_ywDQJD",
        "outputId": "103f0268-1d4b-4668-81e2-d54e7e0f340c"
      },
      "outputs": [
        {
          "name": "stdout",
          "output_type": "stream",
          "text": [
            "<class 'pandas.core.frame.DataFrame'>\n",
            "RangeIndex: 23699 entries, 0 to 23698\n",
            "Data columns (total 22 columns):\n",
            " #   Column                Non-Null Count  Dtype         \n",
            "---  ------                --------------  -----         \n",
            " 0   total_images          23699 non-null  int64         \n",
            " 1   last_price            23699 non-null  int64         \n",
            " 2   total_area            23699 non-null  float64       \n",
            " 3   first_day_exposition  23699 non-null  datetime64[ns]\n",
            " 4   rooms                 23699 non-null  int64         \n",
            " 5   ceiling_height        23699 non-null  float64       \n",
            " 6   floors_total          23699 non-null  int64         \n",
            " 7   living_area           23699 non-null  int64         \n",
            " 8   floor                 23699 non-null  int64         \n",
            " 9   is_apartment          23699 non-null  bool          \n",
            " 10  studio                23699 non-null  bool          \n",
            " 11  open_plan             23699 non-null  bool          \n",
            " 12  kitchen_area          23699 non-null  float64       \n",
            " 13  balcony               23699 non-null  int64         \n",
            " 14  locality_name         23699 non-null  object        \n",
            " 15  airports_nearest      23699 non-null  float64       \n",
            " 16  сity_centers_nearest  18180 non-null  float64       \n",
            " 17  parks_around_3000     23699 non-null  int64         \n",
            " 18  parks_nearest         23699 non-null  float64       \n",
            " 19  ponds_around_3000     23699 non-null  int64         \n",
            " 20  ponds_nearest         23699 non-null  float64       \n",
            " 21  days_exposition       23699 non-null  int64         \n",
            "dtypes: bool(3), datetime64[ns](1), float64(7), int64(10), object(1)\n",
            "memory usage: 3.5+ MB\n"
          ]
        }
      ],
      "source": [
        "df.info()   #смотрю, что есть в таблице, чтобы обработать столбы"
      ]
    },
    {
      "cell_type": "markdown",
      "metadata": {
        "id": "3X5z947dDQJD"
      },
      "source": [
        "# Цена"
      ]
    },
    {
      "cell_type": "code",
      "execution_count": null,
      "metadata": {
        "scrolled": true,
        "id": "CSRcjr-GDQJD",
        "outputId": "a8958728-b60f-466b-8be5-0ea63ea264a3"
      },
      "outputs": [
        {
          "data": {
            "text/plain": [
              "count    2.369900e+04\n",
              "mean     6.541549e+06\n",
              "std      1.088701e+07\n",
              "min      1.219000e+04\n",
              "25%      3.400000e+06\n",
              "50%      4.650000e+06\n",
              "75%      6.800000e+06\n",
              "max      7.630000e+08\n",
              "Name: last_price, dtype: float64"
            ]
          },
          "execution_count": 23,
          "metadata": {},
          "output_type": "execute_result"
        }
      ],
      "source": [
        "df['last_price'].describe() # перевожу в миллионы цену "
      ]
    },
    {
      "cell_type": "code",
      "execution_count": null,
      "metadata": {
        "id": "G1dJHY96DQJE"
      },
      "outputs": [],
      "source": [
        "#Изменим большие цифры в last_price на миллионы\n",
        "df['last_price'] = df['last_price']/1000000"
      ]
    },
    {
      "cell_type": "code",
      "execution_count": null,
      "metadata": {
        "id": "8-3U771ZDQJE",
        "outputId": "ed1520cf-8e35-4084-e039-f979a8e4dae1"
      },
      "outputs": [
        {
          "data": {
            "text/plain": [
              "count    23699.000000\n",
              "mean         6.541549\n",
              "std         10.887013\n",
              "min          0.012190\n",
              "25%          3.400000\n",
              "50%          4.650000\n",
              "75%          6.800000\n",
              "max        763.000000\n",
              "Name: last_price, dtype: float64"
            ]
          },
          "execution_count": 25,
          "metadata": {},
          "output_type": "execute_result"
        }
      ],
      "source": [
        "df['last_price'].describe() "
      ]
    },
    {
      "cell_type": "code",
      "execution_count": null,
      "metadata": {
        "id": "gvGPqbkcDQJE",
        "outputId": "6a4e2426-25e6-4f29-ec9f-2834f1983b59"
      },
      "outputs": [
        {
          "data": {
            "text/plain": [
              "<AxesSubplot:>"
            ]
          },
          "execution_count": 26,
          "metadata": {},
          "output_type": "execute_result"
        },
        {
          "data": {
            "image/png": "[encoded data removed]",
            "text/plain": [
              "<Figure size 432x288 with 1 Axes>"
            ]
          },
          "metadata": {
            "needs_background": "light"
          },
          "output_type": "display_data"
        }
      ],
      "source": [
        "df['last_price'].hist(range=(0,80000000),bins = 20)"
      ]
    },
    {
      "cell_type": "code",
      "execution_count": null,
      "metadata": {
        "id": "YQQv0u2fDQJF"
      },
      "outputs": [],
      "source": [
        "df = df.query('last_price > 0 and last_price <=6.8').reset_index(drop=True)"
      ]
    },
    {
      "cell_type": "code",
      "execution_count": null,
      "metadata": {
        "id": "Q2jsw2B8DQJF",
        "outputId": "54532169-44de-40b2-b263-d39f8617686e"
      },
      "outputs": [
        {
          "data": {
            "text/plain": [
              "(17883, 22)"
            ]
          },
          "execution_count": 28,
          "metadata": {},
          "output_type": "execute_result"
        }
      ],
      "source": [
        "df.shape"
      ]
    },
    {
      "cell_type": "markdown",
      "metadata": {
        "id": "uMawLtyvDQJF"
      },
      "source": [
        " Анализ 'last_price'\n",
        "* Средняя цена 6.541549 млн\n",
        "* Медианная цена 4.65 млн\n",
        "* Минимальная цена 12190 тыся рублей \n",
        "* Максимальная цена 7,63 млн \n",
        "* Перезаписала столбец и убрала аномалии \n",
        "Большее число квартир продается от 3 до 4 млн "
      ]
    },
    {
      "cell_type": "markdown",
      "metadata": {
        "id": "9A-fMcgxDQJF"
      },
      "source": [
        "<div class=\"alert-warning\">\n",
        "<b>Комментарий ревьюера ⚠️</b>\n",
        "\n",
        "А как ты определила границу, где начинаются аномалии? </div>"
      ]
    },
    {
      "cell_type": "markdown",
      "metadata": {
        "id": "_QEy7Xv3DQJG"
      },
      "source": [
        "<p>\n",
        "<div class=\"alert-info\">\n",
        "    Я смотрела по ящикам с усами\n",
        "   </div>"
      ]
    },
    {
      "cell_type": "markdown",
      "metadata": {
        "id": "aNZ1Dn3VDQJG"
      },
      "source": [
        "# Комнаты"
      ]
    },
    {
      "cell_type": "code",
      "execution_count": null,
      "metadata": {
        "id": "Bcp7vgCKDQJG",
        "outputId": "392f6f25-21c0-4252-a5a1-aa1f0198f167"
      },
      "outputs": [
        {
          "data": {
            "text/plain": [
              "count    17883.000000\n",
              "mean         1.783649\n",
              "std          0.847767\n",
              "min          0.000000\n",
              "25%          1.000000\n",
              "50%          2.000000\n",
              "75%          2.000000\n",
              "max          6.000000\n",
              "Name: rooms, dtype: float64"
            ]
          },
          "execution_count": 29,
          "metadata": {},
          "output_type": "execute_result"
        }
      ],
      "source": [
        "df['rooms'].describe()"
      ]
    },
    {
      "cell_type": "code",
      "execution_count": null,
      "metadata": {
        "id": "7U8Swvi6DQJG",
        "outputId": "898a69cd-3a0c-448d-a899-cd6ebe9bc568"
      },
      "outputs": [
        {
          "data": {
            "text/plain": [
              "<AxesSubplot:>"
            ]
          },
          "execution_count": 30,
          "metadata": {},
          "output_type": "execute_result"
        },
        {
          "data": {
            "image/png": "[encoded data removed]",
            "text/plain": [
              "<Figure size 432x288 with 1 Axes>"
            ]
          },
          "metadata": {
            "needs_background": "light"
          },
          "output_type": "display_data"
        }
      ],
      "source": [
        "df.boxplot('rooms')"
      ]
    },
    {
      "cell_type": "code",
      "execution_count": null,
      "metadata": {
        "id": "advLifXNDQJH",
        "outputId": "91494653-c357-4843-ae8c-a40d302aeb25"
      },
      "outputs": [
        {
          "data": {
            "text/plain": [
              "<AxesSubplot:>"
            ]
          },
          "execution_count": 31,
          "metadata": {},
          "output_type": "execute_result"
        },
        {
          "data": {
            "image/png": "[encoded data removed]",
            "text/plain": [
              "<Figure size 432x288 with 1 Axes>"
            ]
          },
          "metadata": {
            "needs_background": "light"
          },
          "output_type": "display_data"
        }
      ],
      "source": [
        "df['rooms'].hist(range=(0,7),bins=60)"
      ]
    },
    {
      "cell_type": "code",
      "execution_count": null,
      "metadata": {
        "id": "-irHpXSZDQJH"
      },
      "outputs": [],
      "source": [
        "df = df.query('rooms > 0 and rooms <=6').reset_index(drop=True)"
      ]
    },
    {
      "cell_type": "code",
      "execution_count": null,
      "metadata": {
        "id": "WGqi6tGxDQJH",
        "outputId": "39bf5a3d-2b91-4762-c283-70ef35853167"
      },
      "outputs": [
        {
          "data": {
            "text/plain": [
              "(17691, 22)"
            ]
          },
          "execution_count": 33,
          "metadata": {},
          "output_type": "execute_result"
        }
      ],
      "source": [
        "df.shape"
      ]
    },
    {
      "cell_type": "markdown",
      "metadata": {
        "id": "c3yxD0_cDQJI"
      },
      "source": [
        " Анализ 'rooms'\n",
        "* Среднее число комнат 2\n",
        "* Медианное число комнат 2\n",
        "* Минимальное число комнат 0, это может быть студия\n",
        "* Максимальное число комнат 6\n",
        "* Перезаписала столбец и убрала аномалии \n",
        "* Большее число квартир продается от 1-2 комнат"
      ]
    },
    {
      "cell_type": "markdown",
      "metadata": {
        "id": "povFyv2aDQJI"
      },
      "source": [
        "# Высота потолков"
      ]
    },
    {
      "cell_type": "code",
      "execution_count": null,
      "metadata": {
        "id": "53JdKN_gDQJI",
        "outputId": "b8820451-ff87-4a66-9051-d5a9d16fbf65"
      },
      "outputs": [
        {
          "data": {
            "image/png": "[encoded data removed]",
            "text/plain": [
              "<Figure size 432x288 with 1 Axes>"
            ]
          },
          "metadata": {
            "needs_background": "light"
          },
          "output_type": "display_data"
        }
      ],
      "source": [
        "plt.ylim(1, 4)\n",
        "df.boxplot('ceiling_height')\n",
        "plt.show()"
      ]
    },
    {
      "cell_type": "code",
      "execution_count": null,
      "metadata": {
        "id": "6RQEU8HiDQJJ",
        "outputId": "94916893-63c1-4c36-be09-fd92c15e639b"
      },
      "outputs": [
        {
          "data": {
            "text/plain": [
              "count    17691.000000\n",
              "mean         2.670449\n",
              "std          0.763330\n",
              "min          1.000000\n",
              "25%          2.550000\n",
              "50%          2.650000\n",
              "75%          2.650000\n",
              "max         32.000000\n",
              "Name: ceiling_height, dtype: float64"
            ]
          },
          "execution_count": 35,
          "metadata": {},
          "output_type": "execute_result"
        }
      ],
      "source": [
        "df['ceiling_height'].describe()"
      ]
    },
    {
      "cell_type": "code",
      "execution_count": null,
      "metadata": {
        "id": "3fRH9OgJDQJJ",
        "outputId": "8e98e9ca-7265-41c6-ab21-ecea3475fe36"
      },
      "outputs": [
        {
          "data": {
            "text/plain": [
              "array([2.65, 2.5 , 2.67, 2.56, 3.05, 2.7 , 2.75, 2.6 , 2.9 , 2.55, 2.8 ,\n",
              "       3.  , 2.61, 3.25, 3.45, 2.57, 2.73, 2.34, 2.77, 3.4 , 3.2 , 2.72,\n",
              "       2.54, 2.51, 2.78, 2.76, 2.58, 2.52, 3.5 , 3.1 , 2.64, 2.66, 2.59,\n",
              "       2.  , 2.85, 2.45, 3.15, 2.53, 2.74, 5.  , 2.79, 2.95, 4.06, 3.7 ,\n",
              "       2.83, 2.4 , 3.3 , 3.65, 2.71, 2.3 , 2.48, 2.84, 2.62, 2.82, 2.63,\n",
              "       3.83, 2.88, 3.55, 4.19, 4.  , 4.5 , 3.12, 3.75, 3.07, 8.  , 3.16,\n",
              "       3.6 , 3.8 , 2.68, 3.33, 2.81, 3.32, 1.2 , 3.18, 8.3 , 3.01, 2.93,\n",
              "       2.92, 3.08, 4.2 , 3.17, 3.04, 3.47, 3.21, 2.96, 2.87, 2.69, 3.03,\n",
              "       5.3 , 2.2 , 3.54, 2.86, 3.35, 3.42, 2.99, 2.46, 1.4 , 3.95, 3.02,\n",
              "       3.22, 2.94, 3.78, 1.75, 3.38, 2.25, 3.28, 2.26, 2.89, 3.27, 2.49,\n",
              "       1.03, 2.47, 1.  , 3.49, 3.59, 2.91])"
            ]
          },
          "execution_count": 36,
          "metadata": {},
          "output_type": "execute_result"
        }
      ],
      "source": [
        "def change_parametr(a):\n",
        "    if a > 10:\n",
        "        return a/10\n",
        "    return a\n",
        "    \n",
        "df['ceiling_height'] = df['ceiling_height'].apply(change_parametr)\n",
        "df['ceiling_height'].unique()"
      ]
    },
    {
      "cell_type": "code",
      "execution_count": null,
      "metadata": {
        "id": "ivD_vtBADQJK",
        "outputId": "ad0ef1e4-cfb7-4a5b-f3e0-0989d8aa6351"
      },
      "outputs": [
        {
          "data": {
            "text/plain": [
              "<AxesSubplot:>"
            ]
          },
          "execution_count": 37,
          "metadata": {},
          "output_type": "execute_result"
        },
        {
          "data": {
            "image/png": "[encoded data removed]",
            "text/plain": [
              "<Figure size 432x288 with 1 Axes>"
            ]
          },
          "metadata": {
            "needs_background": "light"
          },
          "output_type": "display_data"
        }
      ],
      "source": [
        "df['ceiling_height'].hist(range=(0,6),bins = 100 )"
      ]
    },
    {
      "cell_type": "code",
      "execution_count": null,
      "metadata": {
        "id": "BQBFZFIyDQJK"
      },
      "outputs": [],
      "source": [
        "df = df.query('ceiling_height >= 2.6 and ceiling_height < 3.2').reset_index(drop=True) "
      ]
    },
    {
      "cell_type": "code",
      "execution_count": null,
      "metadata": {
        "id": "6ZcT9QGyDQJL",
        "outputId": "f902e7f5-0350-40f0-e460-179195dd64e9"
      },
      "outputs": [
        {
          "data": {
            "text/plain": [
              "array([2.65, 2.67, 3.05, 2.7 , 2.75, 2.6 , 2.9 , 2.8 , 3.  , 2.61, 2.73,\n",
              "       2.77, 2.72, 2.78, 2.76, 3.1 , 2.64, 2.66, 2.85, 3.15, 2.74, 2.79,\n",
              "       2.95, 2.83, 2.71, 2.84, 2.62, 2.82, 2.63, 2.88, 3.12, 3.07, 3.16,\n",
              "       2.68, 2.81, 3.18, 3.01, 2.93, 2.92, 3.08, 3.17, 3.04, 2.96, 2.87,\n",
              "       2.69, 3.03, 2.86, 2.99, 3.02, 2.94, 2.89, 2.91])"
            ]
          },
          "execution_count": 39,
          "metadata": {},
          "output_type": "execute_result"
        }
      ],
      "source": [
        "df['ceiling_height'].unique()"
      ]
    },
    {
      "cell_type": "code",
      "execution_count": null,
      "metadata": {
        "id": "1nvHJ155DQJM",
        "outputId": "35d51e50-e123-48f7-9099-578631179f1d"
      },
      "outputs": [
        {
          "data": {
            "text/plain": [
              "(12602, 22)"
            ]
          },
          "execution_count": 40,
          "metadata": {},
          "output_type": "execute_result"
        }
      ],
      "source": [
        "df.shape"
      ]
    },
    {
      "cell_type": "markdown",
      "metadata": {
        "id": "KXLtKyVnDQJM"
      },
      "source": [
        "Анализ 'ceiling_height'\n",
        "* Средняя высота потолков 2.72 м\n",
        "* Медианное значение 2.65 м\n",
        "* Минимальное  1 м\n",
        "* Максимальное 32 м \n",
        "* Заметила, что высота не может быть больше 10 м, поделила значение потолка на 10, возможно это просто ошибки \n",
        "* Перезаписала столбец и убрала аномалии \n",
        "* Большее число квартир продается с потолками 2,60 м "
      ]
    },
    {
      "cell_type": "markdown",
      "metadata": {
        "id": "OfKYkhs1DQJN"
      },
      "source": [
        "# Количество этажей"
      ]
    },
    {
      "cell_type": "code",
      "execution_count": null,
      "metadata": {
        "id": "QV_6sNWlDQJN",
        "outputId": "f725250f-285d-4fb0-9a5e-f328c8083838"
      },
      "outputs": [
        {
          "data": {
            "text/plain": [
              "count    12602.000000\n",
              "mean        11.522139\n",
              "std          7.024441\n",
              "min          0.000000\n",
              "25%          5.000000\n",
              "50%          9.000000\n",
              "75%         16.000000\n",
              "max         60.000000\n",
              "Name: floors_total, dtype: float64"
            ]
          },
          "execution_count": 41,
          "metadata": {},
          "output_type": "execute_result"
        }
      ],
      "source": [
        "df['floors_total'].describe()"
      ]
    },
    {
      "cell_type": "code",
      "execution_count": null,
      "metadata": {
        "id": "VgSUmW_PDQJN",
        "outputId": "3f18e895-cb8b-40d9-d249-bf9a9d7d4fb8"
      },
      "outputs": [
        {
          "data": {
            "text/plain": [
              "<AxesSubplot:>"
            ]
          },
          "execution_count": 42,
          "metadata": {},
          "output_type": "execute_result"
        },
        {
          "data": {
            "image/png": "[encoded data removed]",
            "text/plain": [
              "<Figure size 432x288 with 1 Axes>"
            ]
          },
          "metadata": {
            "needs_background": "light"
          },
          "output_type": "display_data"
        }
      ],
      "source": [
        "df.boxplot('floors_total')"
      ]
    },
    {
      "cell_type": "code",
      "execution_count": null,
      "metadata": {
        "id": "hlb5bcccDQJO"
      },
      "outputs": [],
      "source": [
        "df= df.query('floors_total > 0 and floors_total < 30 ').reset_index(drop=True) "
      ]
    },
    {
      "cell_type": "code",
      "execution_count": null,
      "metadata": {
        "id": "5iTOxFeRDQJO",
        "outputId": "6ebecf20-1798-4108-9e04-d14f16eb2e94"
      },
      "outputs": [
        {
          "data": {
            "text/plain": [
              "(12529, 22)"
            ]
          },
          "execution_count": 44,
          "metadata": {},
          "output_type": "execute_result"
        }
      ],
      "source": [
        "df.shape"
      ]
    },
    {
      "cell_type": "markdown",
      "metadata": {
        "id": "XHFAT-YUDQJO"
      },
      "source": [
        "Анализ  'floors_total'\n",
        "* Среднее количество этажей - 11\n",
        "* Медианное значение этажей - 10 м\n",
        "* Минимальное значение 0\n",
        "* Максимальное 60 этажей \n",
        "* Перезаписала столбец и убрала аномалии "
      ]
    },
    {
      "cell_type": "markdown",
      "metadata": {
        "id": "jYFcaicMDQJO"
      },
      "source": [
        "# Жилая площадь"
      ]
    },
    {
      "cell_type": "code",
      "execution_count": null,
      "metadata": {
        "id": "_EfEaQR3DQJO",
        "outputId": "76e18bcb-fe6e-428e-e278-4b5076e2ebca"
      },
      "outputs": [
        {
          "data": {
            "text/plain": [
              "count    12529.000000\n",
              "mean        27.168090\n",
              "std         10.775731\n",
              "min          2.000000\n",
              "25%         18.000000\n",
              "50%         28.000000\n",
              "75%         32.000000\n",
              "max        100.000000\n",
              "Name: living_area, dtype: float64"
            ]
          },
          "execution_count": 45,
          "metadata": {},
          "output_type": "execute_result"
        }
      ],
      "source": [
        "df['living_area'].describe()"
      ]
    },
    {
      "cell_type": "code",
      "execution_count": null,
      "metadata": {
        "id": "fxYspXq4DQJP",
        "outputId": "851bbc4f-4d05-44c9-8d92-abcef87b4514"
      },
      "outputs": [
        {
          "data": {
            "text/plain": [
              "<AxesSubplot:>"
            ]
          },
          "execution_count": 46,
          "metadata": {},
          "output_type": "execute_result"
        },
        {
          "data": {
            "image/png": "[encoded data removed]",
            "text/plain": [
              "<Figure size 432x288 with 1 Axes>"
            ]
          },
          "metadata": {
            "needs_background": "light"
          },
          "output_type": "display_data"
        }
      ],
      "source": [
        "df.boxplot('living_area')"
      ]
    },
    {
      "cell_type": "code",
      "execution_count": null,
      "metadata": {
        "id": "7U95fn0CDQJP",
        "outputId": "3e6c3787-e788-4348-d6d1-f75eb3d066e2"
      },
      "outputs": [
        {
          "data": {
            "text/plain": [
              "<AxesSubplot:>"
            ]
          },
          "execution_count": 47,
          "metadata": {},
          "output_type": "execute_result"
        },
        {
          "data": {
            "image/png": "[encoded data removed]",
            "text/plain": [
              "<Figure size 432x288 with 1 Axes>"
            ]
          },
          "metadata": {
            "needs_background": "light"
          },
          "output_type": "display_data"
        }
      ],
      "source": [
        "df['living_area'].hist(range=(34, 200), bins= 100)"
      ]
    },
    {
      "cell_type": "code",
      "execution_count": null,
      "metadata": {
        "id": "mK-75JEIDQJP"
      },
      "outputs": [],
      "source": [
        "df = df.query('living_area > 2 and living_area < 100').reset_index(drop=True)"
      ]
    },
    {
      "cell_type": "code",
      "execution_count": null,
      "metadata": {
        "id": "M8jc128hDQJP",
        "outputId": "b1b2248f-bfff-406a-8340-c4bb9248306e"
      },
      "outputs": [
        {
          "data": {
            "text/plain": [
              "(12527, 22)"
            ]
          },
          "execution_count": 49,
          "metadata": {},
          "output_type": "execute_result"
        }
      ],
      "source": [
        "df.shape"
      ]
    },
    {
      "cell_type": "markdown",
      "metadata": {
        "id": "_w_pwoqwDQJP"
      },
      "source": [
        "Анализ 'living_area'\n",
        "* Среднее значение метража квартиры 28\n",
        "* Медианное значение метража квартиры 30\n",
        "* Максимальное значение метража квартиры 100\n",
        "* Перезаписала столбец и убрала аномалии\n",
        "Больше всего продается квартир от 0 до 50 квадратных метров "
      ]
    },
    {
      "cell_type": "markdown",
      "metadata": {
        "id": "4G-KqvDQDQJQ"
      },
      "source": [
        "# Общая площадь"
      ]
    },
    {
      "cell_type": "code",
      "execution_count": null,
      "metadata": {
        "id": "KU1urNGPDQJQ",
        "outputId": "b779cb57-c70e-45fc-ca57-b0f96ac85c17"
      },
      "outputs": [
        {
          "data": {
            "text/plain": [
              "count    12527.000000\n",
              "mean        48.768289\n",
              "std         14.872046\n",
              "min         13.000000\n",
              "25%         37.600000\n",
              "50%         45.000000\n",
              "75%         57.800000\n",
              "max        190.000000\n",
              "Name: total_area, dtype: float64"
            ]
          },
          "execution_count": 50,
          "metadata": {},
          "output_type": "execute_result"
        },
        {
          "data": {
            "image/png": "[encoded data removed]",
            "text/plain": [
              "<Figure size 432x288 with 1 Axes>"
            ]
          },
          "metadata": {
            "needs_background": "light"
          },
          "output_type": "display_data"
        }
      ],
      "source": [
        "df.boxplot('total_area')\n",
        "df['total_area'].describe()"
      ]
    },
    {
      "cell_type": "code",
      "execution_count": null,
      "metadata": {
        "id": "YYO1MhuHDQJQ"
      },
      "outputs": [],
      "source": [
        "df = df.query('total_area > 12 and total_area <100' ).reset_index(drop=True)"
      ]
    },
    {
      "cell_type": "code",
      "execution_count": null,
      "metadata": {
        "id": "bhTWuOLHDQJQ",
        "outputId": "c80a5153-c085-422b-888f-730846706318"
      },
      "outputs": [
        {
          "data": {
            "text/plain": [
              "(12479, 22)"
            ]
          },
          "execution_count": 52,
          "metadata": {},
          "output_type": "execute_result"
        }
      ],
      "source": [
        "df.shape"
      ]
    },
    {
      "cell_type": "markdown",
      "metadata": {
        "id": "JPYbc9mODQJR"
      },
      "source": [
        "Анализ 'total_area'\n",
        "* Среднее значение общего метража квартиры  54 кв м \n",
        "* Медианное значение общего метража квартиры 51 кв м \n",
        "* Максимальное значение общего метража квартиры 190 кв м \n",
        "* Перезаписала столбец и убрала аномалии "
      ]
    },
    {
      "cell_type": "markdown",
      "metadata": {
        "id": "xXXmTYhnDQJR"
      },
      "source": [
        "# Этаж"
      ]
    },
    {
      "cell_type": "code",
      "execution_count": null,
      "metadata": {
        "id": "ZOffn3cgDQJR",
        "outputId": "6332da53-ef16-41fc-f10e-2385563e33b4"
      },
      "outputs": [
        {
          "data": {
            "text/plain": [
              "count    12479.000000\n",
              "mean         6.286161\n",
              "std          5.212530\n",
              "min          1.000000\n",
              "25%          2.000000\n",
              "50%          5.000000\n",
              "75%          9.000000\n",
              "max         27.000000\n",
              "Name: floor, dtype: float64"
            ]
          },
          "execution_count": 53,
          "metadata": {},
          "output_type": "execute_result"
        },
        {
          "data": {
            "image/png": "[encoded data removed]",
            "text/plain": [
              "<Figure size 432x288 with 1 Axes>"
            ]
          },
          "metadata": {
            "needs_background": "light"
          },
          "output_type": "display_data"
        }
      ],
      "source": [
        "df.boxplot('floor')\n",
        "df['floor'].describe()"
      ]
    },
    {
      "cell_type": "code",
      "execution_count": null,
      "metadata": {
        "id": "WHrUKwxaDQJR"
      },
      "outputs": [],
      "source": [
        "df['floor'] = df.query('floor > 0 and floor < 20').reset_index(drop=True)"
      ]
    },
    {
      "cell_type": "code",
      "execution_count": null,
      "metadata": {
        "id": "QAtW_mFyDQJS",
        "outputId": "d6a5ce38-3641-415b-cb21-0e9d5b04dd61"
      },
      "outputs": [
        {
          "data": {
            "text/plain": [
              "(12479, 22)"
            ]
          },
          "execution_count": 55,
          "metadata": {},
          "output_type": "execute_result"
        }
      ],
      "source": [
        "df.shape"
      ]
    },
    {
      "cell_type": "markdown",
      "metadata": {
        "id": "tjLeL4OGDQJS"
      },
      "source": [
        "Анализ 'floor'\n",
        "* Среднее значение этажа 4\n",
        "* Медианное значение этажа 4 \n",
        "* Максимальное значение этажа 15\n",
        "* Перезаписала столбец и убрала аномалии "
      ]
    },
    {
      "cell_type": "markdown",
      "metadata": {
        "id": "gg9XN57kDQJS"
      },
      "source": [
        "# Метраж кухни"
      ]
    },
    {
      "cell_type": "code",
      "execution_count": null,
      "metadata": {
        "id": "m3dr_yg0DQJS",
        "outputId": "60b35ae6-4aec-4f77-900f-87a0951885a3"
      },
      "outputs": [
        {
          "data": {
            "text/plain": [
              "count    12479.000000\n",
              "mean         9.407775\n",
              "std          3.014372\n",
              "min          1.300000\n",
              "25%          7.500000\n",
              "50%          9.100000\n",
              "75%         10.685000\n",
              "max         50.000000\n",
              "Name: kitchen_area, dtype: float64"
            ]
          },
          "execution_count": 56,
          "metadata": {},
          "output_type": "execute_result"
        },
        {
          "data": {
            "image/png": "[encoded data removed]",
            "text/plain": [
              "<Figure size 432x288 with 1 Axes>"
            ]
          },
          "metadata": {
            "needs_background": "light"
          },
          "output_type": "display_data"
        }
      ],
      "source": [
        "df.boxplot('kitchen_area')\n",
        "df['kitchen_area'].describe()"
      ]
    },
    {
      "cell_type": "code",
      "execution_count": null,
      "metadata": {
        "id": "XlwulpVXDQJS",
        "outputId": "70be79b1-d0c5-49ea-a885-3cae16ea4dab"
      },
      "outputs": [
        {
          "data": {
            "text/plain": [
              "<AxesSubplot:>"
            ]
          },
          "execution_count": 57,
          "metadata": {},
          "output_type": "execute_result"
        },
        {
          "data": {
            "image/png": "[encoded data removed]",
            "text/plain": [
              "<Figure size 432x288 with 1 Axes>"
            ]
          },
          "metadata": {
            "needs_background": "light"
          },
          "output_type": "display_data"
        }
      ],
      "source": [
        "df['kitchen_area'].hist(range=(0, 50), bins= 20)"
      ]
    },
    {
      "cell_type": "code",
      "execution_count": null,
      "metadata": {
        "id": "2fjJ7R8_DQJT"
      },
      "outputs": [],
      "source": [
        "df = df.query('kitchen_area > 2 and  kitchen_area < 30').reset_index(drop=True)"
      ]
    },
    {
      "cell_type": "code",
      "execution_count": null,
      "metadata": {
        "id": "D_lyYqKXDQJT",
        "outputId": "725475dc-f059-48df-d94f-e14f05688064"
      },
      "outputs": [
        {
          "data": {
            "text/plain": [
              "(12456, 22)"
            ]
          },
          "execution_count": 59,
          "metadata": {},
          "output_type": "execute_result"
        }
      ],
      "source": [
        "df.shape"
      ]
    },
    {
      "cell_type": "markdown",
      "metadata": {
        "id": "loBFst9cDQJT"
      },
      "source": [
        "Анализ 'kitchen_area'\n",
        "* Средняя площадь кухни - 9,1 кв м \n",
        "* Медианное значение площадь кухни - 8,5\n",
        "* Максимальное значение площадь кухни - 53\n",
        "* Перезаписала столбец и убрала аномалии "
      ]
    },
    {
      "cell_type": "markdown",
      "metadata": {
        "id": "Rf74w_8NDQJT"
      },
      "source": [
        "# Близость к аэропорту"
      ]
    },
    {
      "cell_type": "code",
      "execution_count": null,
      "metadata": {
        "id": "lzimVpi7DQJT",
        "outputId": "97f4f327-8860-45b3-b4b5-306eb2c58cd7"
      },
      "outputs": [
        {
          "data": {
            "text/plain": [
              "count    12456.000000\n",
              "mean     19805.993818\n",
              "std      17216.141908\n",
              "min          0.000000\n",
              "25%          0.000000\n",
              "50%      18423.500000\n",
              "75%      33623.000000\n",
              "max      78527.000000\n",
              "Name: airports_nearest, dtype: float64"
            ]
          },
          "execution_count": 60,
          "metadata": {},
          "output_type": "execute_result"
        },
        {
          "data": {
            "image/png": "[encoded data removed]",
            "text/plain": [
              "<Figure size 432x288 with 1 Axes>"
            ]
          },
          "metadata": {
            "needs_background": "light"
          },
          "output_type": "display_data"
        }
      ],
      "source": [
        "df.boxplot('airports_nearest')\n",
        "df['airports_nearest'].describe()"
      ]
    },
    {
      "cell_type": "code",
      "execution_count": null,
      "metadata": {
        "id": "XYpKCVHQDQJT"
      },
      "outputs": [],
      "source": [
        "df= df.query('airports_nearest >= 0 and airports_nearest < 35000').reset_index(drop=True)"
      ]
    },
    {
      "cell_type": "code",
      "execution_count": null,
      "metadata": {
        "id": "Iskd2C0SDQJU",
        "outputId": "ce8ad86c-8a6a-47d7-b9d4-2774a059d838"
      },
      "outputs": [
        {
          "data": {
            "text/plain": [
              "(9655, 22)"
            ]
          },
          "execution_count": 62,
          "metadata": {},
          "output_type": "execute_result"
        }
      ],
      "source": [
        "df.shape"
      ]
    },
    {
      "cell_type": "markdown",
      "metadata": {
        "id": "9Bjdlf4lDQJU"
      },
      "source": [
        "Анализ 'airports_nearest'\n",
        "* Среднее расстояние до аэропорта  20767 м \n",
        "* Медианное расстояние до аэропорта 20192 м\n",
        "* Минимальное расстояние до аэропорта  0 м\n",
        "* Максимальное 84869 м \n",
        "* Перезаписала столбец и убрала аномалии"
      ]
    },
    {
      "cell_type": "markdown",
      "metadata": {
        "id": "kDVEDo0NDQJU"
      },
      "source": [
        "# Близость к центру"
      ]
    },
    {
      "cell_type": "code",
      "execution_count": null,
      "metadata": {
        "id": "9jtyEUJ7DQJU",
        "outputId": "5088f558-7a48-4f39-ff53-3beab122b34a"
      },
      "outputs": [
        {
          "data": {
            "text/plain": [
              "count     5735.000000\n",
              "mean     15011.232258\n",
              "std       7176.096212\n",
              "min        467.000000\n",
              "25%      11370.000000\n",
              "50%      13838.000000\n",
              "75%      17102.000000\n",
              "max      37477.000000\n",
              "Name: сity_centers_nearest, dtype: float64"
            ]
          },
          "execution_count": 63,
          "metadata": {},
          "output_type": "execute_result"
        },
        {
          "data": {
            "image/png": "[encoded data removed]",
            "text/plain": [
              "<Figure size 432x288 with 1 Axes>"
            ]
          },
          "metadata": {
            "needs_background": "light"
          },
          "output_type": "display_data"
        }
      ],
      "source": [
        "df.boxplot('сity_centers_nearest')\n",
        "df['сity_centers_nearest'].describe()"
      ]
    },
    {
      "cell_type": "code",
      "execution_count": null,
      "metadata": {
        "scrolled": true,
        "id": "2pu6IOarDQJU",
        "outputId": "44f99b3c-0aec-4a1f-ee71-50eceab815fc"
      },
      "outputs": [
        {
          "data": {
            "text/plain": [
              "<AxesSubplot:>"
            ]
          },
          "execution_count": 64,
          "metadata": {},
          "output_type": "execute_result"
        },
        {
          "data": {
            "image/png": "[encoded data removed]",
            "text/plain": [
              "<Figure size 432x288 with 1 Axes>"
            ]
          },
          "metadata": {
            "needs_background": "light"
          },
          "output_type": "display_data"
        }
      ],
      "source": [
        "df['сity_centers_nearest'].hist(range=(0,35000), bins= 100)"
      ]
    },
    {
      "cell_type": "code",
      "execution_count": null,
      "metadata": {
        "id": "NMureet5DQJV"
      },
      "outputs": [],
      "source": [
        "df = df.query('сity_centers_nearest <30000').reset_index(drop=True)"
      ]
    },
    {
      "cell_type": "code",
      "execution_count": null,
      "metadata": {
        "id": "Jq37FBI9DQJV",
        "outputId": "5fd80f47-baf3-4a6a-fca4-23ce79a582cd"
      },
      "outputs": [
        {
          "data": {
            "text/plain": [
              "(5335, 22)"
            ]
          },
          "execution_count": 66,
          "metadata": {},
          "output_type": "execute_result"
        }
      ],
      "source": [
        "df.shape"
      ]
    },
    {
      "cell_type": "markdown",
      "metadata": {
        "id": "WnArzuolDQJV"
      },
      "source": [
        "Анализ 'сity_centers_nearest'\n",
        "* Среднее расстояние до центра 15161 м \n",
        "* Медианное расстояние до центра 13335 м\n",
        "* Минимальное расстояние до центра 467 м\n",
        "* Максимальное 37477 м \n",
        "* Перезаписала столбец и убрала аномалии"
      ]
    },
    {
      "cell_type": "markdown",
      "metadata": {
        "id": "xCHr8ipiDQJV"
      },
      "source": [
        "# Количество парков в районе 3 км"
      ]
    },
    {
      "cell_type": "code",
      "execution_count": null,
      "metadata": {
        "id": "scNfd8mMDQJV",
        "outputId": "cd7330c6-ff86-4a8d-9f3b-2b61f3771546"
      },
      "outputs": [
        {
          "data": {
            "text/plain": [
              "count    5335.000000\n",
              "mean        0.492034\n",
              "std         0.715857\n",
              "min         0.000000\n",
              "25%         0.000000\n",
              "50%         0.000000\n",
              "75%         1.000000\n",
              "max         3.000000\n",
              "Name: parks_around_3000, dtype: float64"
            ]
          },
          "execution_count": 67,
          "metadata": {},
          "output_type": "execute_result"
        },
        {
          "data": {
            "image/png": "[encoded data removed]",
            "text/plain": [
              "<Figure size 432x288 with 1 Axes>"
            ]
          },
          "metadata": {
            "needs_background": "light"
          },
          "output_type": "display_data"
        }
      ],
      "source": [
        "df.boxplot('parks_around_3000')\n",
        "df['parks_around_3000'].describe()"
      ]
    },
    {
      "cell_type": "code",
      "execution_count": null,
      "metadata": {
        "id": "5Q5npw7lDQJV"
      },
      "outputs": [],
      "source": [
        "df=df.query('сity_centers_nearest !=3').reset_index(drop=True)"
      ]
    },
    {
      "cell_type": "code",
      "execution_count": null,
      "metadata": {
        "id": "vafCdW5BDQJW",
        "outputId": "5b484ac3-d027-4690-ecf6-f5ba607479f6"
      },
      "outputs": [
        {
          "data": {
            "text/plain": [
              "(5335, 22)"
            ]
          },
          "execution_count": 69,
          "metadata": {},
          "output_type": "execute_result"
        }
      ],
      "source": [
        "df.shape"
      ]
    },
    {
      "cell_type": "markdown",
      "metadata": {
        "id": "oCTcDB_DDQJW"
      },
      "source": [
        "Анализ 'parks_around_3000'\n",
        "* Среднее количество парков 0\n",
        "* Медианное количество парков 0\n",
        "* Минимальное количество парков 0\n",
        "* Максимальное количество парков 3 "
      ]
    },
    {
      "cell_type": "markdown",
      "metadata": {
        "id": "Ta2mSdg6DQJW"
      },
      "source": [
        "# Расстояние до парков"
      ]
    },
    {
      "cell_type": "code",
      "execution_count": null,
      "metadata": {
        "id": "taCY6FEbDQJW",
        "outputId": "a94cf530-3cee-4d93-9e4c-09efe7950de9"
      },
      "outputs": [
        {
          "data": {
            "text/plain": [
              "count    5335.000000\n",
              "mean      191.341143\n",
              "std       319.675724\n",
              "min         0.000000\n",
              "25%         0.000000\n",
              "50%         0.000000\n",
              "75%       366.000000\n",
              "max      3190.000000\n",
              "Name: parks_nearest, dtype: float64"
            ]
          },
          "execution_count": 70,
          "metadata": {},
          "output_type": "execute_result"
        },
        {
          "data": {
            "image/png": "[encoded data removed]",
            "text/plain": [
              "<Figure size 432x288 with 1 Axes>"
            ]
          },
          "metadata": {
            "needs_background": "light"
          },
          "output_type": "display_data"
        }
      ],
      "source": [
        "df.boxplot('parks_nearest')\n",
        "df['parks_nearest'].describe()"
      ]
    },
    {
      "cell_type": "code",
      "execution_count": null,
      "metadata": {
        "id": "Jln9hrjMDQJW",
        "outputId": "d194759b-1a47-47c7-a1b5-0e5f4cd30405"
      },
      "outputs": [
        {
          "data": {
            "text/plain": [
              "<AxesSubplot:>"
            ]
          },
          "execution_count": 71,
          "metadata": {},
          "output_type": "execute_result"
        },
        {
          "data": {
            "image/png": "[encoded data removed]",
            "text/plain": [
              "<Figure size 432x288 with 1 Axes>"
            ]
          },
          "metadata": {
            "needs_background": "light"
          },
          "output_type": "display_data"
        }
      ],
      "source": [
        "df['parks_nearest'].hist(range=(0,3000), bins= 100)"
      ]
    },
    {
      "cell_type": "code",
      "execution_count": null,
      "metadata": {
        "id": "dtYi2SIwDQJW"
      },
      "outputs": [],
      "source": [
        "df = df.query('parks_nearest < 1000').reset_index(drop=True)"
      ]
    },
    {
      "cell_type": "code",
      "execution_count": null,
      "metadata": {
        "id": "Ga17bOkkDQJX",
        "outputId": "d02f0e12-1487-427a-dd11-17e7478beb13"
      },
      "outputs": [
        {
          "data": {
            "text/plain": [
              "(5234, 22)"
            ]
          },
          "execution_count": 73,
          "metadata": {},
          "output_type": "execute_result"
        }
      ],
      "source": [
        "df.shape"
      ]
    },
    {
      "cell_type": "markdown",
      "metadata": {
        "id": "p1aIvSvoDQJX"
      },
      "source": [
        "Анализ 'parks_around_3000'\n",
        "* Среднее расстояние до ближайшего парка 258 м \n",
        "* Медианное расстояние до ближайшего парка 51 м \n",
        "* Минимальное расстояние до ближайшего парка  0 м \n",
        "* Максимальное расстояние до ближайшего парка  3190\n",
        "* Перезаписала столбец, убрав аномалии"
      ]
    },
    {
      "cell_type": "markdown",
      "metadata": {
        "id": "o3ltc1GaDQJX"
      },
      "source": [
        "# Количество прудов в 3 км "
      ]
    },
    {
      "cell_type": "code",
      "execution_count": null,
      "metadata": {
        "id": "Jc2WGuJiDQJX",
        "outputId": "60e331e0-ab02-4f72-9093-dabf7a1fc626"
      },
      "outputs": [
        {
          "data": {
            "text/plain": [
              "count    5234.000000\n",
              "mean        0.668705\n",
              "std         0.798615\n",
              "min         0.000000\n",
              "25%         0.000000\n",
              "50%         0.000000\n",
              "75%         1.000000\n",
              "max         3.000000\n",
              "Name: ponds_around_3000, dtype: float64"
            ]
          },
          "execution_count": 74,
          "metadata": {},
          "output_type": "execute_result"
        },
        {
          "data": {
            "image/png": "[encoded data removed]",
            "text/plain": [
              "<Figure size 432x288 with 1 Axes>"
            ]
          },
          "metadata": {
            "needs_background": "light"
          },
          "output_type": "display_data"
        }
      ],
      "source": [
        "df.boxplot('ponds_around_3000')\n",
        "df['ponds_around_3000'].describe()"
      ]
    },
    {
      "cell_type": "code",
      "execution_count": null,
      "metadata": {
        "id": "_WVmBzsiDQJX"
      },
      "outputs": [],
      "source": [
        "#df = df.query('ponds_around_3000 !=3').reset_index(drop=True)"
      ]
    },
    {
      "cell_type": "code",
      "execution_count": null,
      "metadata": {
        "id": "bkLuhdQjDQJY"
      },
      "outputs": [],
      "source": [
        "#df.shape"
      ]
    },
    {
      "cell_type": "markdown",
      "metadata": {
        "id": "iq8I0YxnDQJY"
      },
      "source": [
        "Анализ 'ponds_around_3000'\n",
        "* Среднее количество озер 0 \n",
        "* Медианное количество озер 1  \n",
        "* Минимальное количество озер 0 \n",
        "* Максимальное количество озер 3 \n",
        "* Перезаписала столбец, убрав аномалии\n"
      ]
    },
    {
      "cell_type": "markdown",
      "metadata": {
        "id": "RjwInv_BDQJY"
      },
      "source": [
        "# Пруды рядом "
      ]
    },
    {
      "cell_type": "code",
      "execution_count": null,
      "metadata": {
        "id": "jEZ0JVUxDQJY",
        "outputId": "1caff3eb-130a-44ed-9f16-db13114a9912"
      },
      "outputs": [
        {
          "data": {
            "text/plain": [
              "count    5234.000000\n",
              "mean      262.679595\n",
              "std       329.340900\n",
              "min         0.000000\n",
              "25%         0.000000\n",
              "50%         0.000000\n",
              "75%       522.000000\n",
              "max      1299.000000\n",
              "Name: ponds_nearest, dtype: float64"
            ]
          },
          "execution_count": 77,
          "metadata": {},
          "output_type": "execute_result"
        },
        {
          "data": {
            "image/png": "[encoded data removed]",
            "text/plain": [
              "<Figure size 432x288 with 1 Axes>"
            ]
          },
          "metadata": {
            "needs_background": "light"
          },
          "output_type": "display_data"
        }
      ],
      "source": [
        "df.boxplot('ponds_nearest')\n",
        "df['ponds_nearest'].describe()"
      ]
    },
    {
      "cell_type": "markdown",
      "metadata": {
        "id": "jAO0ze4nDQJY"
      },
      "source": [
        "\n",
        "* Cреднее  275.286735\n",
        "* Медианное 83\n",
        "* Максимальное 1299"
      ]
    },
    {
      "cell_type": "markdown",
      "metadata": {
        "id": "M-2YayYDDQJY"
      },
      "source": [
        "# Количество дней"
      ]
    },
    {
      "cell_type": "code",
      "execution_count": null,
      "metadata": {
        "id": "kAG4d5BNDQJY",
        "outputId": "f54f8077-108a-4a79-df06-40fdbf47b707"
      },
      "outputs": [
        {
          "data": {
            "text/plain": [
              "count    5234.000000\n",
              "mean      162.760413\n",
              "std       203.038303\n",
              "min         2.000000\n",
              "25%        43.000000\n",
              "50%        95.000000\n",
              "75%       194.750000\n",
              "max      1477.000000\n",
              "Name: days_exposition, dtype: float64"
            ]
          },
          "execution_count": 78,
          "metadata": {},
          "output_type": "execute_result"
        },
        {
          "data": {
            "image/png": "[encoded data removed]",
            "text/plain": [
              "<Figure size 432x288 with 1 Axes>"
            ]
          },
          "metadata": {
            "needs_background": "light"
          },
          "output_type": "display_data"
        }
      ],
      "source": [
        "df.boxplot('days_exposition')\n",
        "df['days_exposition'].describe()"
      ]
    },
    {
      "cell_type": "code",
      "execution_count": null,
      "metadata": {
        "id": "TxnnCYTiDQJZ",
        "outputId": "a9d7ebaa-30d9-4b92-f099-4753cd68c7f8"
      },
      "outputs": [
        {
          "data": {
            "text/plain": [
              "<AxesSubplot:>"
            ]
          },
          "execution_count": 79,
          "metadata": {},
          "output_type": "execute_result"
        },
        {
          "data": {
            "image/png": "[encoded data removed]",
            "text/plain": [
              "<Figure size 432x288 with 1 Axes>"
            ]
          },
          "metadata": {
            "needs_background": "light"
          },
          "output_type": "display_data"
        }
      ],
      "source": [
        "df['days_exposition'].hist(range=(0,200),bins = 15)"
      ]
    },
    {
      "cell_type": "code",
      "execution_count": null,
      "metadata": {
        "id": "PCp1PBB8DQJZ"
      },
      "outputs": [],
      "source": [
        "df = df.query('days_exposition < 200').reset_index(drop=True)"
      ]
    },
    {
      "cell_type": "code",
      "execution_count": null,
      "metadata": {
        "id": "phSrRqp-DQJZ",
        "outputId": "959aef88-2212-4204-dc57-0c0de9631adf"
      },
      "outputs": [
        {
          "data": {
            "text/plain": [
              "(3960, 22)"
            ]
          },
          "execution_count": 81,
          "metadata": {},
          "output_type": "execute_result"
        }
      ],
      "source": [
        "df.shape"
      ]
    },
    {
      "cell_type": "markdown",
      "metadata": {
        "id": "nmvlBw7qDQJZ"
      },
      "source": [
        "Анализ 'days_exposition'\n",
        "* Среднее количесво дней 167\n",
        "* Медианное количесво дней 95 м \n",
        "* Минимальное количесво дней 1 м \n",
        "* Максимальное количесво дней  1458 - необычайно долгая продажа квартиры\n",
        "* Перезаписала столбец, убрав аномалии\n",
        "* Быстрые продажи длятся 45 дней\n",
        "Больше всего продаж на 95 день"
      ]
    },
    {
      "cell_type": "markdown",
      "metadata": {
        "id": "3qqPPr84DQJa"
      },
      "source": [
        "### Посчитайте и добавьте в таблицу новые столбцы"
      ]
    },
    {
      "cell_type": "code",
      "execution_count": null,
      "metadata": {
        "id": "FiFAAHLmDQJa"
      },
      "outputs": [],
      "source": [
        "df['square_meter_price'] = (df['last_price'] / df['total_area'])*100000 "
      ]
    },
    {
      "cell_type": "code",
      "execution_count": null,
      "metadata": {
        "id": "KvkcvgV0DQJa"
      },
      "outputs": [],
      "source": [
        "df['published_day'] = df['first_day_exposition'].dt.weekday\n",
        "df['published_month'] = pd.DatetimeIndex(df['first_day_exposition']).month\n",
        "df['published_year'] = pd.DatetimeIndex(df['first_day_exposition']).year"
      ]
    },
    {
      "cell_type": "code",
      "execution_count": null,
      "metadata": {
        "id": "kFR3jrcVDQJa"
      },
      "outputs": [],
      "source": [
        "def floor_group(a):\n",
        "    number_floor=a['floor']\n",
        "    total_floor=a['floors_total']\n",
        "    if number_floor==1:\n",
        "        return 'первый'\n",
        "    if number_floor==total_floor:\n",
        "        return 'последний'\n",
        "    return 'другой'"
      ]
    },
    {
      "cell_type": "code",
      "execution_count": null,
      "metadata": {
        "id": "QN_8Gp0vDQJb"
      },
      "outputs": [],
      "source": [
        "floor_position=df.apply(floor_group,axis=1)"
      ]
    },
    {
      "cell_type": "code",
      "execution_count": null,
      "metadata": {
        "id": "ssSC0cPvDQJb"
      },
      "outputs": [],
      "source": [
        "df['type_of_floor']=floor_position"
      ]
    },
    {
      "cell_type": "code",
      "execution_count": null,
      "metadata": {
        "id": "0SWFX7GyDQJb",
        "outputId": "c9bf8771-1316-431c-96b8-8b7d14d718a0"
      },
      "outputs": [
        {
          "data": {
            "text/plain": [
              "Index(['total_images', 'last_price', 'total_area', 'first_day_exposition',\n",
              "       'rooms', 'ceiling_height', 'floors_total', 'living_area', 'floor',\n",
              "       'is_apartment', 'studio', 'open_plan', 'kitchen_area', 'balcony',\n",
              "       'locality_name', 'airports_nearest', 'сity_centers_nearest',\n",
              "       'parks_around_3000', 'parks_nearest', 'ponds_around_3000',\n",
              "       'ponds_nearest', 'days_exposition', 'square_meter_price',\n",
              "       'published_day', 'published_month', 'published_year', 'type_of_floor'],\n",
              "      dtype='object')"
            ]
          },
          "execution_count": 87,
          "metadata": {},
          "output_type": "execute_result"
        }
      ],
      "source": [
        "df.columns #проверяем, добавились ли столбы"
      ]
    },
    {
      "cell_type": "code",
      "execution_count": null,
      "metadata": {
        "id": "ZAZKWtivDQJb",
        "outputId": "5e0a9509-3563-4b5b-895f-3b8a14a9a2de"
      },
      "outputs": [
        {
          "data": {
            "text/plain": [
              "0     18.603\n",
              "1     14.259\n",
              "2     12.209\n",
              "3     11.603\n",
              "4     12.872\n",
              "       ...  \n",
              "95     9.241\n",
              "96    19.694\n",
              "97    28.339\n",
              "98     4.465\n",
              "99    11.639\n",
              "Name: сity_centers_nearest, Length: 100, dtype: float64"
            ]
          },
          "execution_count": 88,
          "metadata": {},
          "output_type": "execute_result"
        }
      ],
      "source": [
        "df['сity_centers_nearest'] = (df['сity_centers_nearest']/1000)\n",
        "df['сity_centers_nearest'].head(100) # из м в км "
      ]
    },
    {
      "cell_type": "markdown",
      "metadata": {
        "id": "m3FZNSX-DQJc"
      },
      "source": [
        "Мной были добавлены новые столбцы \n",
        "* цена одного квадратного метра;\n",
        "* день недели публикации объявления (0 — понедельник, 1 — вторник и так далее);\n",
        "* месяц публикации объявления;\n",
        "* год публикации объявления;\n",
        "* тип этажа квартиры (значения — «‎первый», «последний», «другой»);\n",
        "* расстояние до центра города в километрах"
      ]
    },
    {
      "cell_type": "markdown",
      "metadata": {
        "id": "eu7By8NUDQJd"
      },
      "source": [
        "# Анализ факторов влияющих на стоимость объекта "
      ]
    },
    {
      "cell_type": "code",
      "execution_count": null,
      "metadata": {
        "id": "aybf86x2DQJd",
        "outputId": "fa6aba58-2dc4-44fe-a276-40627361fd78"
      },
      "outputs": [
        {
          "data": {
            "text/plain": [
              "0.6550890336165468"
            ]
          },
          "execution_count": 89,
          "metadata": {},
          "output_type": "execute_result"
        }
      ],
      "source": [
        "df['last_price'].corr(df['total_area'])"
      ]
    },
    {
      "cell_type": "code",
      "execution_count": null,
      "metadata": {
        "id": "_WRpyPrHDQJd",
        "outputId": "6d42edc4-78bf-4e8b-cb8b-7308b7256f3e"
      },
      "outputs": [
        {
          "data": {
            "text/plain": [
              "Text(0.5, 1.0, 'Влияние размера квартиры на цену')"
            ]
          },
          "execution_count": 90,
          "metadata": {},
          "output_type": "execute_result"
        },
        {
          "data": {
            "image/png": "[encoded data removed]",
            "text/plain": [
              "<Figure size 864x432 with 1 Axes>"
            ]
          },
          "metadata": {
            "needs_background": "light"
          },
          "output_type": "display_data"
        }
      ],
      "source": [
        "df.plot(x='total_area',y='last_price',grid=True, style='o',figsize=(12,6))\n",
        "plt.title('Влияние размера квартиры на цену', fontsize=15)"
      ]
    },
    {
      "cell_type": "markdown",
      "metadata": {
        "id": "wEsnFeQxDQJd"
      },
      "source": [
        "Чем больше площадь, тем больше и цена. Корреляция положительна, и стоимость от площади -> очень зависит"
      ]
    },
    {
      "cell_type": "code",
      "execution_count": null,
      "metadata": {
        "id": "StBgFW51DQJe",
        "outputId": "8f71283c-de9a-462e-eefc-957a0ec08367"
      },
      "outputs": [
        {
          "data": {
            "text/plain": [
              "0.5063065498380148"
            ]
          },
          "execution_count": 91,
          "metadata": {},
          "output_type": "execute_result"
        }
      ],
      "source": [
        "df['last_price'].corr(df['living_area'])"
      ]
    },
    {
      "cell_type": "code",
      "execution_count": null,
      "metadata": {
        "id": "7wdEW2AfDQJe",
        "outputId": "8565b391-fd58-4f67-836e-031585b62e4c"
      },
      "outputs": [
        {
          "data": {
            "text/plain": [
              "Text(0.5, 1.0, 'Влияние жилой площади на цену')"
            ]
          },
          "execution_count": 92,
          "metadata": {},
          "output_type": "execute_result"
        },
        {
          "data": {
            "image/png": "[encoded data removed]",
            "text/plain": [
              "<Figure size 864x432 with 1 Axes>"
            ]
          },
          "metadata": {
            "needs_background": "light"
          },
          "output_type": "display_data"
        }
      ],
      "source": [
        "df.plot(x='living_area',y='last_price',grid=True, style='o',figsize=(12,6))\n",
        "plt.title('Влияние жилой площади на цену', fontsize=15)"
      ]
    },
    {
      "cell_type": "code",
      "execution_count": null,
      "metadata": {
        "id": "X8rOdStrDQJf",
        "outputId": "ea90757c-cc60-4bce-ce42-4926d44e154c"
      },
      "outputs": [
        {
          "data": {
            "image/png": "[encoded data removed]",
            "text/plain": [
              "<Figure size 432x288 with 1 Axes>"
            ]
          },
          "metadata": {
            "needs_background": "light"
          },
          "output_type": "display_data"
        }
      ],
      "source": [
        "df.groupby('living_area')['last_price'].median()\\\n",
        "    .plot();"
      ]
    },
    {
      "cell_type": "markdown",
      "metadata": {
        "id": "sJ66bq4sDQJf"
      },
      "source": [
        "Чем больше площадь, тем больше и цена. Корреляция положительна, и стоимость от площади -> очень зависит"
      ]
    },
    {
      "cell_type": "code",
      "execution_count": null,
      "metadata": {
        "id": "QUcMxoyJDQJf",
        "outputId": "d3ecf876-9a0a-469f-ddb2-bf18a096dfa8"
      },
      "outputs": [
        {
          "data": {
            "text/plain": [
              "0.29030258701400086"
            ]
          },
          "execution_count": 94,
          "metadata": {},
          "output_type": "execute_result"
        }
      ],
      "source": [
        "df['last_price'].corr(df['kitchen_area'])"
      ]
    },
    {
      "cell_type": "code",
      "execution_count": null,
      "metadata": {
        "id": "OpFJQ7ohDQJg"
      },
      "outputs": [],
      "source": [
        "#df.plot(x='kitchen_area',y='last_price',grid=True, style='o',figsize=(12,6))\n",
        "#plt.title('Влияние метража кухни на цену', fontsize=15)"
      ]
    },
    {
      "cell_type": "code",
      "execution_count": null,
      "metadata": {
        "id": "Dv9--G30DQJg",
        "outputId": "ab20e42d-7c95-4880-f749-4ab764f68af0"
      },
      "outputs": [
        {
          "data": {
            "image/png": "[encoded data removed]",
            "text/plain": [
              "<Figure size 432x288 with 1 Axes>"
            ]
          },
          "metadata": {
            "needs_background": "light"
          },
          "output_type": "display_data"
        }
      ],
      "source": [
        "df.groupby('kitchen_area')['last_price'].median()\\\n",
        "    .plot();"
      ]
    },
    {
      "cell_type": "markdown",
      "metadata": {
        "id": "xJ8d3B3ZDQJh"
      },
      "source": [
        "Чем больше метраж кухни, тем больше стоимость"
      ]
    },
    {
      "cell_type": "code",
      "execution_count": null,
      "metadata": {
        "id": "dU7SwyjaDQJh",
        "outputId": "6935f4ab-3da7-452b-e782-845fcd182d10"
      },
      "outputs": [
        {
          "data": {
            "text/plain": [
              "0.45094643456155203"
            ]
          },
          "execution_count": 97,
          "metadata": {},
          "output_type": "execute_result"
        }
      ],
      "source": [
        "df['last_price'].corr(df[\"rooms\"])"
      ]
    },
    {
      "cell_type": "code",
      "execution_count": null,
      "metadata": {
        "id": "_jKfFXYJDQJh"
      },
      "outputs": [],
      "source": [
        "rooms_dependency = df.pivot_table(index='rooms', values='last_price', aggfunc=['sum','mean'])\n",
        "rooms_dependency.columns = ['sum_last_price', 'mean']"
      ]
    },
    {
      "cell_type": "markdown",
      "metadata": {
        "id": "RuvaIXXPDQJh"
      },
      "source": [
        "По графику можно увидеть, что цена увиличивается с увеличением количества комнат"
      ]
    },
    {
      "cell_type": "code",
      "execution_count": null,
      "metadata": {
        "id": "Ydc4hgufDQJi",
        "outputId": "821183b6-9ba5-4645-b424-a36d12e58553"
      },
      "outputs": [
        {
          "data": {
            "image/png": "[encoded data removed]",
            "text/plain": [
              "<Figure size 432x288 with 1 Axes>"
            ]
          },
          "metadata": {
            "needs_background": "light"
          },
          "output_type": "display_data"
        }
      ],
      "source": [
        "df.query('rooms < 6').groupby('rooms')['last_price'].median()\\\n",
        "    .plot(kind = 'bar', title = 'Медианная стоимость квартир в зависимости от количества комнат')\\\n",
        "    .axhline(y = df.query('rooms < 6')['last_price'].median(), color = 'r', linestyle = 'dashed')\n",
        "plt.show()"
      ]
    },
    {
      "cell_type": "code",
      "execution_count": null,
      "metadata": {
        "id": "KuhbHQqqDQJi"
      },
      "outputs": [],
      "source": [
        "floor_price = df.pivot_table(index='type_of_floor', values='last_price', aggfunc=['sum','mean'])\n",
        "floor_price.columns = ['sum_last_price', 'mean']"
      ]
    },
    {
      "cell_type": "code",
      "execution_count": null,
      "metadata": {
        "id": "Yyab7134DQJi",
        "outputId": "1da2d927-2127-4697-880b-3e1233c183cb"
      },
      "outputs": [
        {
          "data": {
            "image/png": "[encoded data removed]",
            "text/plain": [
              "<Figure size 432x288 with 1 Axes>"
            ]
          },
          "metadata": {
            "needs_background": "light"
          },
          "output_type": "display_data"
        }
      ],
      "source": [
        "df.groupby('type_of_floor')['last_price'].median()\\\n",
        "    .plot();"
      ]
    },
    {
      "cell_type": "markdown",
      "metadata": {
        "id": "YzFd8O2xDQJi"
      },
      "source": [
        "Цена на \"другом\" этаже выше, чем на \"первом\" или \"последнем\" "
      ]
    },
    {
      "cell_type": "code",
      "execution_count": null,
      "metadata": {
        "id": "6bWIUp6TDQJj",
        "outputId": "f299e626-594d-4357-ef92-b23f0267e651"
      },
      "outputs": [
        {
          "data": {
            "image/png": "[encoded data removed]",
            "text/plain": [
              "<Figure size 432x288 with 1 Axes>"
            ]
          },
          "metadata": {
            "needs_background": "light"
          },
          "output_type": "display_data"
        }
      ],
      "source": [
        "df.groupby('published_day')['last_price'].median()\\\n",
        "    .plot();"
      ]
    },
    {
      "cell_type": "markdown",
      "metadata": {
        "id": "en6weDx3DQJj"
      },
      "source": [
        "Цена падает к выходным"
      ]
    },
    {
      "cell_type": "code",
      "execution_count": null,
      "metadata": {
        "id": "sW178JVJDQJk"
      },
      "outputs": [],
      "source": [
        "month_price = df.pivot_table(index='published_month', values='last_price', aggfunc=['sum', 'mean'])\n",
        "month_price.columns = ['sum_last_price', 'mean']"
      ]
    },
    {
      "cell_type": "code",
      "execution_count": null,
      "metadata": {
        "id": "ny9-1n_fDQJk",
        "outputId": "54dd1c61-87ea-491b-d96e-5d89379316a0"
      },
      "outputs": [
        {
          "data": {
            "text/plain": [
              "<AxesSubplot:title={'center':'Влияниe месяца на цену квартиры'}, xlabel='published_month', ylabel='mean'>"
            ]
          },
          "execution_count": 105,
          "metadata": {},
          "output_type": "execute_result"
        },
        {
          "data": {
            "image/png": "[encoded data removed]",
            "text/plain": [
              "<Figure size 864x432 with 1 Axes>"
            ]
          },
          "metadata": {
            "needs_background": "light"
          },
          "output_type": "display_data"
        }
      ],
      "source": [
        "month_price = df.pivot_table(index='published_month', values='last_price', aggfunc=['sum', 'mean'])\n",
        "month_price.columns = ['last_price', 'mean']\n",
        "fig, ax = plt.subplots(figsize=(12, 6))\n",
        "plt.title('Влияниe месяца на цену квартиры', fontsize=15)\n",
        "sns.barplot(x=month_price.index,y=month_price['mean'])"
      ]
    },
    {
      "cell_type": "code",
      "execution_count": null,
      "metadata": {
        "id": "DNycoPJ8DQJk",
        "outputId": "1f08d775-3671-4a85-f57e-2329e64f3301"
      },
      "outputs": [
        {
          "data": {
            "image/png": "[encoded data removed]",
            "text/plain": [
              "<Figure size 432x288 with 1 Axes>"
            ]
          },
          "metadata": {
            "needs_background": "light"
          },
          "output_type": "display_data"
        }
      ],
      "source": [
        "df.groupby('published_month')['last_price'].median()\\\n",
        "    .plot();"
      ]
    },
    {
      "cell_type": "markdown",
      "metadata": {
        "id": "hXbPF8QwDQJl"
      },
      "source": [
        "В апреле цена выше, чем в другие месяцы"
      ]
    },
    {
      "cell_type": "code",
      "execution_count": null,
      "metadata": {
        "id": "3NslMfRGDQJl"
      },
      "outputs": [],
      "source": [
        "year_price = df.pivot_table(index='published_month', values='last_price', aggfunc=['sum', 'mean'])\n",
        "year_price.columns = ['sum_last_price', 'mean']"
      ]
    },
    {
      "cell_type": "code",
      "execution_count": null,
      "metadata": {
        "id": "z3FG1pDhDQJl",
        "outputId": "0481a5af-0bcb-4cf7-81e5-8d7d62367c65"
      },
      "outputs": [
        {
          "data": {
            "text/plain": [
              "<AxesSubplot:title={'center':'Влияниe года на цену квартиры'}, xlabel='published_year', ylabel='mean'>"
            ]
          },
          "execution_count": 108,
          "metadata": {},
          "output_type": "execute_result"
        },
        {
          "data": {
            "image/png": "[encoded data removed]",
            "text/plain": [
              "<Figure size 864x432 with 1 Axes>"
            ]
          },
          "metadata": {
            "needs_background": "light"
          },
          "output_type": "display_data"
        }
      ],
      "source": [
        "year_price = df.pivot_table(index='published_year', values='last_price', aggfunc=['sum', 'mean'])\n",
        "year_price.columns = ['last_price', 'mean']\n",
        "fig, ax = plt.subplots(figsize=(12, 6))\n",
        "plt.title('Влияниe года на цену квартиры', fontsize=15)\n",
        "sns.barplot(x=year_price.index,y=year_price['mean'])"
      ]
    },
    {
      "cell_type": "markdown",
      "metadata": {
        "id": "o-uAST0ODQJl"
      },
      "source": [
        "с 2014 - 2015 стоимость росла, 2015 - была максимальной, затем можно увидеть волнообразные скачки "
      ]
    },
    {
      "cell_type": "markdown",
      "metadata": {
        "id": "bugxuzTWDQJm"
      },
      "source": [
        "Наибольшее количество объявлений в Санкт-Петербурге\n",
        "Наименьшее в Петергофе, Усть-Ижоре, Александровская"
      ]
    },
    {
      "cell_type": "code",
      "execution_count": null,
      "metadata": {
        "id": "8d0Q7N9eDQJm",
        "outputId": "014be330-41c5-4cfa-a8f4-def370e89aeb"
      },
      "outputs": [
        {
          "data": {
            "text/html": [
              "<div>\n",
              "<style scoped>\n",
              "    .dataframe tbody tr th:only-of-type {\n",
              "        vertical-align: middle;\n",
              "    }\n",
              "\n",
              "    .dataframe tbody tr th {\n",
              "        vertical-align: top;\n",
              "    }\n",
              "\n",
              "    .dataframe thead tr th {\n",
              "        text-align: left;\n",
              "    }\n",
              "\n",
              "    .dataframe thead tr:last-of-type th {\n",
              "        text-align: right;\n",
              "    }\n",
              "</style>\n",
              "<table border=\"1\" class=\"dataframe\">\n",
              "  <thead>\n",
              "    <tr>\n",
              "      <th></th>\n",
              "      <th>count</th>\n",
              "      <th>mean</th>\n",
              "    </tr>\n",
              "    <tr>\n",
              "      <th></th>\n",
              "      <th>square_meter_price</th>\n",
              "      <th>square_meter_price</th>\n",
              "    </tr>\n",
              "    <tr>\n",
              "      <th>locality_name</th>\n",
              "      <th></th>\n",
              "      <th></th>\n",
              "    </tr>\n",
              "  </thead>\n",
              "  <tbody>\n",
              "    <tr>\n",
              "      <th>Санкт-Петербург</th>\n",
              "      <td>15721</td>\n",
              "      <td>114849.008794</td>\n",
              "    </tr>\n",
              "    <tr>\n",
              "      <th>Пушкин</th>\n",
              "      <td>369</td>\n",
              "      <td>103125.819291</td>\n",
              "    </tr>\n",
              "    <tr>\n",
              "      <th>деревня Кудрово</th>\n",
              "      <td>299</td>\n",
              "      <td>92473.547576</td>\n",
              "    </tr>\n",
              "    <tr>\n",
              "      <th>посёлок Парголово</th>\n",
              "      <td>327</td>\n",
              "      <td>90175.913458</td>\n",
              "    </tr>\n",
              "    <tr>\n",
              "      <th>посёлок Мурино</th>\n",
              "      <td>522</td>\n",
              "      <td>85752.189195</td>\n",
              "    </tr>\n",
              "    <tr>\n",
              "      <th>посёлок Шушары</th>\n",
              "      <td>440</td>\n",
              "      <td>78677.364217</td>\n",
              "    </tr>\n",
              "    <tr>\n",
              "      <th>Колпино</th>\n",
              "      <td>338</td>\n",
              "      <td>75424.579098</td>\n",
              "    </tr>\n",
              "    <tr>\n",
              "      <th>Гатчина</th>\n",
              "      <td>307</td>\n",
              "      <td>68746.146763</td>\n",
              "    </tr>\n",
              "    <tr>\n",
              "      <th>Всеволожск</th>\n",
              "      <td>398</td>\n",
              "      <td>68654.473986</td>\n",
              "    </tr>\n",
              "    <tr>\n",
              "      <th>Выборг</th>\n",
              "      <td>237</td>\n",
              "      <td>58141.909153</td>\n",
              "    </tr>\n",
              "  </tbody>\n",
              "</table>\n",
              "</div>"
            ],
            "text/plain": [
              "                               count               mean\n",
              "                  square_meter_price square_meter_price\n",
              "locality_name                                          \n",
              "Санкт-Петербург                15721      114849.008794\n",
              "Пушкин                           369      103125.819291\n",
              "деревня Кудрово                  299       92473.547576\n",
              "посёлок Парголово                327       90175.913458\n",
              "посёлок Мурино                   522       85752.189195\n",
              "посёлок Шушары                   440       78677.364217\n",
              "Колпино                          338       75424.579098\n",
              "Гатчина                          307       68746.146763\n",
              "Всеволожск                       398       68654.473986\n",
              "Выборг                           237       58141.909153"
            ]
          },
          "execution_count": 129,
          "metadata": {},
          "output_type": "execute_result"
        }
      ],
      "source": [
        "data['square_meter_price'] = data['last_price'] / data['total_area']\n",
        "data.pivot_table(index = 'locality_name', values = 'square_meter_price', aggfunc=['count', 'mean'])\\\n",
        "    .sort_values(by = ('count', 'square_meter_price'), ascending = False)\\\n",
        "    .head(10)\\\n",
        "    .sort_values(by = ('mean', 'square_meter_price'), ascending = False)"
      ]
    },
    {
      "cell_type": "code",
      "execution_count": null,
      "metadata": {
        "id": "s2ZdHB5xDQJn",
        "outputId": "33270bdb-0ed7-4805-9f22-a439832b4267"
      },
      "outputs": [
        {
          "data": {
            "text/plain": [
              "Index(['total_images', 'last_price', 'total_area', 'first_day_exposition',\n",
              "       'rooms', 'ceiling_height', 'floors_total', 'living_area', 'floor',\n",
              "       'is_apartment', 'studio', 'open_plan', 'kitchen_area', 'balcony',\n",
              "       'locality_name', 'airports_nearest', 'сity_centers_nearest',\n",
              "       'parks_around_3000', 'parks_nearest', 'ponds_around_3000',\n",
              "       'ponds_nearest', 'days_exposition', 'square_meter_price',\n",
              "       'published_day', 'published_month', 'published_year', 'type_of_floor'],\n",
              "      dtype='object')"
            ]
          },
          "execution_count": 110,
          "metadata": {},
          "output_type": "execute_result"
        }
      ],
      "source": [
        "df.columns"
      ]
    },
    {
      "cell_type": "code",
      "execution_count": null,
      "metadata": {
        "id": "HRByaw1qDQJn",
        "outputId": "b60295ed-21cc-489f-dbe6-30850686eda3"
      },
      "outputs": [
        {
          "data": {
            "text/plain": [
              "0       18\n",
              "1       14\n",
              "2       12\n",
              "3       11\n",
              "4       12\n",
              "        ..\n",
              "3955    11\n",
              "3956     9\n",
              "3957    11\n",
              "3958    16\n",
              "3959     6\n",
              "Name: сity_centers_nearest, Length: 3960, dtype: int64"
            ]
          },
          "execution_count": 111,
          "metadata": {},
          "output_type": "execute_result"
        }
      ],
      "source": [
        "df['сity_centers_nearest'].astype(int)"
      ]
    },
    {
      "cell_type": "code",
      "execution_count": null,
      "metadata": {
        "id": "Grwpno9XDQJn"
      },
      "outputs": [],
      "source": [
        "df['km_price'] = df['last_price']/df['сity_centers_nearest']"
      ]
    },
    {
      "cell_type": "code",
      "execution_count": null,
      "metadata": {
        "id": "QCtvOPk5DQJn",
        "outputId": "0392ef4c-3367-428b-b239-27a7bab83da7"
      },
      "outputs": [
        {
          "data": {
            "text/html": [
              "<div>\n",
              "<style scoped>\n",
              "    .dataframe tbody tr th:only-of-type {\n",
              "        vertical-align: middle;\n",
              "    }\n",
              "\n",
              "    .dataframe tbody tr th {\n",
              "        vertical-align: top;\n",
              "    }\n",
              "\n",
              "    .dataframe thead th {\n",
              "        text-align: right;\n",
              "    }\n",
              "</style>\n",
              "<table border=\"1\" class=\"dataframe\">\n",
              "  <thead>\n",
              "    <tr style=\"text-align: right;\">\n",
              "      <th></th>\n",
              "      <th>total_images</th>\n",
              "      <th>last_price</th>\n",
              "      <th>total_area</th>\n",
              "      <th>first_day_exposition</th>\n",
              "      <th>rooms</th>\n",
              "      <th>ceiling_height</th>\n",
              "      <th>floors_total</th>\n",
              "      <th>living_area</th>\n",
              "      <th>floor</th>\n",
              "      <th>is_apartment</th>\n",
              "      <th>...</th>\n",
              "      <th>parks_nearest</th>\n",
              "      <th>ponds_around_3000</th>\n",
              "      <th>ponds_nearest</th>\n",
              "      <th>days_exposition</th>\n",
              "      <th>square_meter_price</th>\n",
              "      <th>published_day</th>\n",
              "      <th>published_month</th>\n",
              "      <th>published_year</th>\n",
              "      <th>type_of_floor</th>\n",
              "      <th>km_price</th>\n",
              "    </tr>\n",
              "  </thead>\n",
              "  <tbody>\n",
              "    <tr>\n",
              "      <th>1</th>\n",
              "      <td>16</td>\n",
              "      <td>4.65</td>\n",
              "      <td>39.0</td>\n",
              "      <td>2017-11-18</td>\n",
              "      <td>1</td>\n",
              "      <td>2.65</td>\n",
              "      <td>14</td>\n",
              "      <td>20</td>\n",
              "      <td>11.0</td>\n",
              "      <td>False</td>\n",
              "      <td>...</td>\n",
              "      <td>590.0</td>\n",
              "      <td>1</td>\n",
              "      <td>296.0</td>\n",
              "      <td>19</td>\n",
              "      <td>11923.076923</td>\n",
              "      <td>5</td>\n",
              "      <td>11</td>\n",
              "      <td>2017</td>\n",
              "      <td>другой</td>\n",
              "      <td>0.326110</td>\n",
              "    </tr>\n",
              "    <tr>\n",
              "      <th>2</th>\n",
              "      <td>15</td>\n",
              "      <td>5.20</td>\n",
              "      <td>54.4</td>\n",
              "      <td>2018-11-29</td>\n",
              "      <td>2</td>\n",
              "      <td>2.75</td>\n",
              "      <td>9</td>\n",
              "      <td>29</td>\n",
              "      <td>13.0</td>\n",
              "      <td>False</td>\n",
              "      <td>...</td>\n",
              "      <td>0.0</td>\n",
              "      <td>1</td>\n",
              "      <td>1175.0</td>\n",
              "      <td>29</td>\n",
              "      <td>9558.823529</td>\n",
              "      <td>3</td>\n",
              "      <td>11</td>\n",
              "      <td>2018</td>\n",
              "      <td>другой</td>\n",
              "      <td>0.425915</td>\n",
              "    </tr>\n",
              "    <tr>\n",
              "      <th>3</th>\n",
              "      <td>13</td>\n",
              "      <td>5.35</td>\n",
              "      <td>40.0</td>\n",
              "      <td>2018-11-18</td>\n",
              "      <td>1</td>\n",
              "      <td>2.65</td>\n",
              "      <td>22</td>\n",
              "      <td>30</td>\n",
              "      <td>17.0</td>\n",
              "      <td>False</td>\n",
              "      <td>...</td>\n",
              "      <td>620.0</td>\n",
              "      <td>1</td>\n",
              "      <td>1152.0</td>\n",
              "      <td>95</td>\n",
              "      <td>13375.000000</td>\n",
              "      <td>6</td>\n",
              "      <td>11</td>\n",
              "      <td>2018</td>\n",
              "      <td>другой</td>\n",
              "      <td>0.461088</td>\n",
              "    </tr>\n",
              "    <tr>\n",
              "      <th>4</th>\n",
              "      <td>17</td>\n",
              "      <td>5.20</td>\n",
              "      <td>50.6</td>\n",
              "      <td>2018-12-02</td>\n",
              "      <td>2</td>\n",
              "      <td>2.65</td>\n",
              "      <td>9</td>\n",
              "      <td>30</td>\n",
              "      <td>17.0</td>\n",
              "      <td>False</td>\n",
              "      <td>...</td>\n",
              "      <td>0.0</td>\n",
              "      <td>0</td>\n",
              "      <td>0.0</td>\n",
              "      <td>95</td>\n",
              "      <td>10276.679842</td>\n",
              "      <td>6</td>\n",
              "      <td>12</td>\n",
              "      <td>2018</td>\n",
              "      <td>другой</td>\n",
              "      <td>0.403978</td>\n",
              "    </tr>\n",
              "    <tr>\n",
              "      <th>5</th>\n",
              "      <td>17</td>\n",
              "      <td>6.60</td>\n",
              "      <td>52.1</td>\n",
              "      <td>2019-01-31</td>\n",
              "      <td>2</td>\n",
              "      <td>2.60</td>\n",
              "      <td>24</td>\n",
              "      <td>29</td>\n",
              "      <td>10.0</td>\n",
              "      <td>False</td>\n",
              "      <td>...</td>\n",
              "      <td>0.0</td>\n",
              "      <td>0</td>\n",
              "      <td>0.0</td>\n",
              "      <td>95</td>\n",
              "      <td>12667.946257</td>\n",
              "      <td>3</td>\n",
              "      <td>1</td>\n",
              "      <td>2019</td>\n",
              "      <td>другой</td>\n",
              "      <td>0.519603</td>\n",
              "    </tr>\n",
              "    <tr>\n",
              "      <th>...</th>\n",
              "      <td>...</td>\n",
              "      <td>...</td>\n",
              "      <td>...</td>\n",
              "      <td>...</td>\n",
              "      <td>...</td>\n",
              "      <td>...</td>\n",
              "      <td>...</td>\n",
              "      <td>...</td>\n",
              "      <td>...</td>\n",
              "      <td>...</td>\n",
              "      <td>...</td>\n",
              "      <td>...</td>\n",
              "      <td>...</td>\n",
              "      <td>...</td>\n",
              "      <td>...</td>\n",
              "      <td>...</td>\n",
              "      <td>...</td>\n",
              "      <td>...</td>\n",
              "      <td>...</td>\n",
              "      <td>...</td>\n",
              "      <td>...</td>\n",
              "    </tr>\n",
              "    <tr>\n",
              "      <th>3955</th>\n",
              "      <td>9</td>\n",
              "      <td>3.10</td>\n",
              "      <td>23.0</td>\n",
              "      <td>2018-03-19</td>\n",
              "      <td>1</td>\n",
              "      <td>2.80</td>\n",
              "      <td>9</td>\n",
              "      <td>12</td>\n",
              "      <td>NaN</td>\n",
              "      <td>False</td>\n",
              "      <td>...</td>\n",
              "      <td>262.0</td>\n",
              "      <td>1</td>\n",
              "      <td>442.0</td>\n",
              "      <td>41</td>\n",
              "      <td>13478.260870</td>\n",
              "      <td>0</td>\n",
              "      <td>3</td>\n",
              "      <td>2018</td>\n",
              "      <td>другой</td>\n",
              "      <td>0.260921</td>\n",
              "    </tr>\n",
              "    <tr>\n",
              "      <th>3956</th>\n",
              "      <td>10</td>\n",
              "      <td>5.95</td>\n",
              "      <td>56.0</td>\n",
              "      <td>2019-03-05</td>\n",
              "      <td>3</td>\n",
              "      <td>2.65</td>\n",
              "      <td>8</td>\n",
              "      <td>32</td>\n",
              "      <td>NaN</td>\n",
              "      <td>False</td>\n",
              "      <td>...</td>\n",
              "      <td>0.0</td>\n",
              "      <td>2</td>\n",
              "      <td>303.0</td>\n",
              "      <td>95</td>\n",
              "      <td>10625.000000</td>\n",
              "      <td>1</td>\n",
              "      <td>3</td>\n",
              "      <td>2019</td>\n",
              "      <td>другой</td>\n",
              "      <td>0.645546</td>\n",
              "    </tr>\n",
              "    <tr>\n",
              "      <th>3957</th>\n",
              "      <td>19</td>\n",
              "      <td>3.55</td>\n",
              "      <td>36.4</td>\n",
              "      <td>2016-06-08</td>\n",
              "      <td>1</td>\n",
              "      <td>2.65</td>\n",
              "      <td>16</td>\n",
              "      <td>14</td>\n",
              "      <td>NaN</td>\n",
              "      <td>False</td>\n",
              "      <td>...</td>\n",
              "      <td>701.0</td>\n",
              "      <td>0</td>\n",
              "      <td>0.0</td>\n",
              "      <td>70</td>\n",
              "      <td>9752.747253</td>\n",
              "      <td>2</td>\n",
              "      <td>6</td>\n",
              "      <td>2016</td>\n",
              "      <td>другой</td>\n",
              "      <td>0.298721</td>\n",
              "    </tr>\n",
              "    <tr>\n",
              "      <th>3958</th>\n",
              "      <td>13</td>\n",
              "      <td>3.55</td>\n",
              "      <td>35.3</td>\n",
              "      <td>2018-02-28</td>\n",
              "      <td>1</td>\n",
              "      <td>2.86</td>\n",
              "      <td>15</td>\n",
              "      <td>16</td>\n",
              "      <td>NaN</td>\n",
              "      <td>False</td>\n",
              "      <td>...</td>\n",
              "      <td>353.0</td>\n",
              "      <td>2</td>\n",
              "      <td>652.0</td>\n",
              "      <td>29</td>\n",
              "      <td>10056.657224</td>\n",
              "      <td>2</td>\n",
              "      <td>2</td>\n",
              "      <td>2018</td>\n",
              "      <td>другой</td>\n",
              "      <td>0.220757</td>\n",
              "    </tr>\n",
              "    <tr>\n",
              "      <th>3959</th>\n",
              "      <td>3</td>\n",
              "      <td>5.50</td>\n",
              "      <td>52.0</td>\n",
              "      <td>2018-07-19</td>\n",
              "      <td>2</td>\n",
              "      <td>2.65</td>\n",
              "      <td>5</td>\n",
              "      <td>31</td>\n",
              "      <td>NaN</td>\n",
              "      <td>False</td>\n",
              "      <td>...</td>\n",
              "      <td>300.0</td>\n",
              "      <td>0</td>\n",
              "      <td>0.0</td>\n",
              "      <td>15</td>\n",
              "      <td>10576.923077</td>\n",
              "      <td>3</td>\n",
              "      <td>7</td>\n",
              "      <td>2018</td>\n",
              "      <td>другой</td>\n",
              "      <td>0.878173</td>\n",
              "    </tr>\n",
              "  </tbody>\n",
              "</table>\n",
              "<p>3560 rows × 28 columns</p>\n",
              "</div>"
            ],
            "text/plain": [
              "      total_images  last_price  total_area first_day_exposition  rooms  \\\n",
              "1               16        4.65        39.0           2017-11-18      1   \n",
              "2               15        5.20        54.4           2018-11-29      2   \n",
              "3               13        5.35        40.0           2018-11-18      1   \n",
              "4               17        5.20        50.6           2018-12-02      2   \n",
              "5               17        6.60        52.1           2019-01-31      2   \n",
              "...            ...         ...         ...                  ...    ...   \n",
              "3955             9        3.10        23.0           2018-03-19      1   \n",
              "3956            10        5.95        56.0           2019-03-05      3   \n",
              "3957            19        3.55        36.4           2016-06-08      1   \n",
              "3958            13        3.55        35.3           2018-02-28      1   \n",
              "3959             3        5.50        52.0           2018-07-19      2   \n",
              "\n",
              "      ceiling_height  floors_total  living_area floor  is_apartment  ...  \\\n",
              "1               2.65            14           20  11.0         False  ...   \n",
              "2               2.75             9           29  13.0         False  ...   \n",
              "3               2.65            22           30  17.0         False  ...   \n",
              "4               2.65             9           30  17.0         False  ...   \n",
              "5               2.60            24           29  10.0         False  ...   \n",
              "...              ...           ...          ...   ...           ...  ...   \n",
              "3955            2.80             9           12   NaN         False  ...   \n",
              "3956            2.65             8           32   NaN         False  ...   \n",
              "3957            2.65            16           14   NaN         False  ...   \n",
              "3958            2.86            15           16   NaN         False  ...   \n",
              "3959            2.65             5           31   NaN         False  ...   \n",
              "\n",
              "      parks_nearest  ponds_around_3000  ponds_nearest  days_exposition  \\\n",
              "1             590.0                  1          296.0               19   \n",
              "2               0.0                  1         1175.0               29   \n",
              "3             620.0                  1         1152.0               95   \n",
              "4               0.0                  0            0.0               95   \n",
              "5               0.0                  0            0.0               95   \n",
              "...             ...                ...            ...              ...   \n",
              "3955          262.0                  1          442.0               41   \n",
              "3956            0.0                  2          303.0               95   \n",
              "3957          701.0                  0            0.0               70   \n",
              "3958          353.0                  2          652.0               29   \n",
              "3959          300.0                  0            0.0               15   \n",
              "\n",
              "     square_meter_price  published_day  published_month  published_year  \\\n",
              "1          11923.076923              5               11            2017   \n",
              "2           9558.823529              3               11            2018   \n",
              "3          13375.000000              6               11            2018   \n",
              "4          10276.679842              6               12            2018   \n",
              "5          12667.946257              3                1            2019   \n",
              "...                 ...            ...              ...             ...   \n",
              "3955       13478.260870              0                3            2018   \n",
              "3956       10625.000000              1                3            2019   \n",
              "3957        9752.747253              2                6            2016   \n",
              "3958       10056.657224              2                2            2018   \n",
              "3959       10576.923077              3                7            2018   \n",
              "\n",
              "      type_of_floor  km_price  \n",
              "1            другой  0.326110  \n",
              "2            другой  0.425915  \n",
              "3            другой  0.461088  \n",
              "4            другой  0.403978  \n",
              "5            другой  0.519603  \n",
              "...             ...       ...  \n",
              "3955         другой  0.260921  \n",
              "3956         другой  0.645546  \n",
              "3957         другой  0.298721  \n",
              "3958         другой  0.220757  \n",
              "3959         другой  0.878173  \n",
              "\n",
              "[3560 rows x 28 columns]"
            ]
          },
          "execution_count": 113,
          "metadata": {},
          "output_type": "execute_result"
        }
      ],
      "source": [
        "spb = df.query('locality_name == \"санкт-петербург\"')\n",
        "spb"
      ]
    },
    {
      "cell_type": "code",
      "execution_count": null,
      "metadata": {
        "id": "mtv_enWLDQJn",
        "outputId": "e9d6c74b-5861-4efc-b702-a6d5b480b14d"
      },
      "outputs": [
        {
          "data": {
            "text/html": [
              "<div>\n",
              "<style scoped>\n",
              "    .dataframe tbody tr th:only-of-type {\n",
              "        vertical-align: middle;\n",
              "    }\n",
              "\n",
              "    .dataframe tbody tr th {\n",
              "        vertical-align: top;\n",
              "    }\n",
              "\n",
              "    .dataframe thead th {\n",
              "        text-align: right;\n",
              "    }\n",
              "</style>\n",
              "<table border=\"1\" class=\"dataframe\">\n",
              "  <thead>\n",
              "    <tr style=\"text-align: right;\">\n",
              "      <th></th>\n",
              "      <th>km_price</th>\n",
              "    </tr>\n",
              "    <tr>\n",
              "      <th>сity_centers_nearest</th>\n",
              "      <th></th>\n",
              "    </tr>\n",
              "  </thead>\n",
              "  <tbody>\n",
              "    <tr>\n",
              "      <th>0.769</th>\n",
              "      <td>4.551365</td>\n",
              "    </tr>\n",
              "    <tr>\n",
              "      <th>0.853</th>\n",
              "      <td>4.689332</td>\n",
              "    </tr>\n",
              "    <tr>\n",
              "      <th>0.959</th>\n",
              "      <td>6.465068</td>\n",
              "    </tr>\n",
              "    <tr>\n",
              "      <th>1.015</th>\n",
              "      <td>5.566502</td>\n",
              "    </tr>\n",
              "    <tr>\n",
              "      <th>1.097</th>\n",
              "      <td>5.834093</td>\n",
              "    </tr>\n",
              "    <tr>\n",
              "      <th>...</th>\n",
              "      <td>...</td>\n",
              "    </tr>\n",
              "    <tr>\n",
              "      <th>26.286</th>\n",
              "      <td>0.098912</td>\n",
              "    </tr>\n",
              "    <tr>\n",
              "      <th>27.431</th>\n",
              "      <td>0.082024</td>\n",
              "    </tr>\n",
              "    <tr>\n",
              "      <th>28.015</th>\n",
              "      <td>0.224880</td>\n",
              "    </tr>\n",
              "    <tr>\n",
              "      <th>28.644</th>\n",
              "      <td>0.169320</td>\n",
              "    </tr>\n",
              "    <tr>\n",
              "      <th>29.493</th>\n",
              "      <td>0.083071</td>\n",
              "    </tr>\n",
              "  </tbody>\n",
              "</table>\n",
              "<p>2198 rows × 1 columns</p>\n",
              "</div>"
            ],
            "text/plain": [
              "                      km_price\n",
              "сity_centers_nearest          \n",
              "0.769                 4.551365\n",
              "0.853                 4.689332\n",
              "0.959                 6.465068\n",
              "1.015                 5.566502\n",
              "1.097                 5.834093\n",
              "...                        ...\n",
              "26.286                0.098912\n",
              "27.431                0.082024\n",
              "28.015                0.224880\n",
              "28.644                0.169320\n",
              "29.493                0.083071\n",
              "\n",
              "[2198 rows x 1 columns]"
            ]
          },
          "execution_count": 114,
          "metadata": {},
          "output_type": "execute_result"
        }
      ],
      "source": [
        "spb = spb.pivot_table(index='сity_centers_nearest', values='km_price', aggfunc='mean')\n",
        "spb"
      ]
    },
    {
      "cell_type": "code",
      "execution_count": null,
      "metadata": {
        "id": "GDqexQRbDQJo",
        "outputId": "4d0c87d8-33b8-4cc2-f2d1-4b107c01a724"
      },
      "outputs": [
        {
          "data": {
            "image/png": "[encoded data removed]",
            "text/plain": [
              "<Figure size 1080x360 with 1 Axes>"
            ]
          },
          "metadata": {
            "needs_background": "light"
          },
          "output_type": "display_data"
        }
      ],
      "source": [
        "data['сity_centers_nearest_round'] = np.round(data['cityCenters_nearest'] /1000, 0) #Здесь нам нужно округлять км до целого\n",
        "\n",
        "data_spb = data[data['locality_name'] == 'Санкт-Петербург']\n",
        "\n",
        "data_spb.groupby('сity_centers_nearest_round')['last_price'].mean()\\\n",
        "    .plot(figsize = (15,5), title = 'Средняя цена квартир на каждом км от центра Петербурга');"
      ]
    },
    {
      "cell_type": "markdown",
      "metadata": {
        "id": "hihv7OVhDQJp"
      },
      "source": [
        "Чем дальше от центра, тем ниже цена "
      ]
    },
    {
      "cell_type": "markdown",
      "metadata": {
        "id": "SjpFYExNDQJp"
      },
      "source": [
        "### Общий вывод"
      ]
    },
    {
      "cell_type": "markdown",
      "metadata": {
        "id": "x_oEpzpGDQJp"
      },
      "source": [
        "В моем распоряжение были данные сервиса Яндекс Недвижимость — архив объявлений за несколько лет о продаже квартир в Санкт-Петербурге и соседних населённых пунктах.\n",
        "Моя задача была — выполнить предобработку данных и изучить их, в результате было обнаружено:\n",
        "* Площадь влияет на стоимость, чем больше площадь, тем больше и стоимость\n",
        "*  Чем больше комнат, тем больше стоимость, однако это считается при количестве комнат = 3, далее цена падает\n",
        "*  Чем больше расстояние до центра, тем ниже цена \n",
        "*  Стоимость \"другого\" этажа выше, чем стоимость \"первого\" или \"последнего\"\n",
        "*  Дата продажи: самая высокая стоимость в 2015 году, затем волнообразное колебание цены\n",
        "*  Стоимость квартир падает к выходным \n",
        "*  Стоимость квартир в апреле выше, чем в другие месяцы \n",
        "*  Наибольшее количество объявлений в Санкт-Петербурге\n",
        "*  Наименьшее в Петергофе, Усть-Ижоре, Александровская\n",
        "*  Большее число продаж приходится на 95 день\n",
        "*  Самые быстрые продажи за 1 день\n"
      ]
    }
  ],
  "metadata": {
    "ExecuteTimeLog": [
      {
        "duration": 728,
        "start_time": "2022-09-12T17:13:09.959Z"
      },
      {
        "duration": 100,
        "start_time": "2022-09-12T17:13:14.976Z"
      },
      {
        "duration": 86,
        "start_time": "2022-09-12T17:13:35.047Z"
      },
      {
        "duration": 86,
        "start_time": "2022-09-12T17:17:12.854Z"
      },
      {
        "duration": 124,
        "start_time": "2022-09-12T17:17:39.273Z"
      },
      {
        "duration": 25,
        "start_time": "2022-09-12T17:19:01.296Z"
      },
      {
        "duration": 67,
        "start_time": "2022-09-12T17:43:26.239Z"
      },
      {
        "duration": 1559,
        "start_time": "2022-09-12T17:45:13.707Z"
      },
      {
        "duration": 44,
        "start_time": "2022-09-13T09:20:46.153Z"
      },
      {
        "duration": 1108,
        "start_time": "2022-09-13T09:20:50.250Z"
      },
      {
        "duration": 22,
        "start_time": "2022-09-13T09:20:51.361Z"
      },
      {
        "duration": 83,
        "start_time": "2022-09-13T09:20:57.827Z"
      },
      {
        "duration": 69,
        "start_time": "2022-09-13T09:21:06.633Z"
      },
      {
        "duration": 8,
        "start_time": "2022-09-13T09:21:15.745Z"
      },
      {
        "duration": 2627,
        "start_time": "2022-09-13T09:21:59.471Z"
      },
      {
        "duration": 162,
        "start_time": "2022-09-13T09:22:55.486Z"
      },
      {
        "duration": 2200,
        "start_time": "2022-09-13T09:23:00.385Z"
      },
      {
        "duration": 2173,
        "start_time": "2022-09-13T09:23:17.400Z"
      },
      {
        "duration": 132,
        "start_time": "2022-09-13T09:24:12.080Z"
      },
      {
        "duration": 24,
        "start_time": "2022-09-13T09:24:18.431Z"
      },
      {
        "duration": 70,
        "start_time": "2022-09-13T09:24:25.701Z"
      },
      {
        "duration": 1848,
        "start_time": "2022-09-13T09:24:30.307Z"
      },
      {
        "duration": 15,
        "start_time": "2022-09-13T09:35:44.412Z"
      },
      {
        "duration": 7,
        "start_time": "2022-09-13T09:36:07.042Z"
      },
      {
        "duration": 15,
        "start_time": "2022-09-13T09:36:20.253Z"
      },
      {
        "duration": 14,
        "start_time": "2022-09-13T09:37:00.331Z"
      },
      {
        "duration": 5,
        "start_time": "2022-09-13T10:13:14.364Z"
      },
      {
        "duration": 4,
        "start_time": "2022-09-13T10:13:42.319Z"
      },
      {
        "duration": 4,
        "start_time": "2022-09-13T10:14:28.207Z"
      },
      {
        "duration": 4,
        "start_time": "2022-09-13T10:14:35.772Z"
      },
      {
        "duration": 5,
        "start_time": "2022-09-13T10:14:44.374Z"
      },
      {
        "duration": 135,
        "start_time": "2022-09-13T10:15:01.272Z"
      },
      {
        "duration": 15,
        "start_time": "2022-09-13T10:42:02.176Z"
      },
      {
        "duration": 8,
        "start_time": "2022-09-13T11:26:15.280Z"
      },
      {
        "duration": 10,
        "start_time": "2022-09-13T11:26:24.080Z"
      },
      {
        "duration": 1793,
        "start_time": "2022-09-13T11:27:49.493Z"
      },
      {
        "duration": 82,
        "start_time": "2022-09-13T11:54:17.626Z"
      },
      {
        "duration": 42,
        "start_time": "2022-09-13T11:54:32.517Z"
      },
      {
        "duration": 5,
        "start_time": "2022-09-13T11:55:23.777Z"
      },
      {
        "duration": 14,
        "start_time": "2022-09-13T12:00:42.375Z"
      },
      {
        "duration": 8,
        "start_time": "2022-09-13T12:49:54.212Z"
      },
      {
        "duration": 18,
        "start_time": "2022-09-13T12:50:06.189Z"
      },
      {
        "duration": 43,
        "start_time": "2022-09-13T12:50:12.480Z"
      },
      {
        "duration": 9,
        "start_time": "2022-09-13T12:50:24.584Z"
      },
      {
        "duration": 12,
        "start_time": "2022-09-13T12:55:19.062Z"
      },
      {
        "duration": 9,
        "start_time": "2022-09-13T12:55:20.562Z"
      },
      {
        "duration": 5,
        "start_time": "2022-09-13T12:55:32.612Z"
      },
      {
        "duration": 9,
        "start_time": "2022-09-13T12:55:50.931Z"
      },
      {
        "duration": 4,
        "start_time": "2022-09-13T12:57:16.174Z"
      },
      {
        "duration": 10,
        "start_time": "2022-09-13T12:57:20.577Z"
      },
      {
        "duration": 26,
        "start_time": "2022-09-13T12:58:48.473Z"
      },
      {
        "duration": 12,
        "start_time": "2022-09-13T12:58:49.871Z"
      },
      {
        "duration": 20,
        "start_time": "2022-09-13T12:59:57.271Z"
      },
      {
        "duration": 11,
        "start_time": "2022-09-13T12:59:59.872Z"
      },
      {
        "duration": 21,
        "start_time": "2022-09-13T13:01:27.265Z"
      },
      {
        "duration": 9,
        "start_time": "2022-09-13T13:01:28.465Z"
      },
      {
        "duration": 6,
        "start_time": "2022-09-13T13:13:35.872Z"
      },
      {
        "duration": 19,
        "start_time": "2022-09-13T13:13:45.317Z"
      },
      {
        "duration": 19,
        "start_time": "2022-09-13T13:14:10.017Z"
      },
      {
        "duration": 5,
        "start_time": "2022-09-13T13:14:24.702Z"
      },
      {
        "duration": 8,
        "start_time": "2022-09-13T13:16:49.481Z"
      },
      {
        "duration": 13,
        "start_time": "2022-09-13T13:17:01.864Z"
      },
      {
        "duration": 25,
        "start_time": "2022-09-13T13:17:13.977Z"
      },
      {
        "duration": 25,
        "start_time": "2022-09-13T13:17:33.875Z"
      },
      {
        "duration": 17,
        "start_time": "2022-09-13T13:21:34.411Z"
      },
      {
        "duration": 41,
        "start_time": "2022-09-13T13:21:49.547Z"
      },
      {
        "duration": 7,
        "start_time": "2022-09-13T13:23:48.197Z"
      },
      {
        "duration": 14,
        "start_time": "2022-09-13T13:25:55.908Z"
      },
      {
        "duration": 6,
        "start_time": "2022-09-13T13:26:41.883Z"
      },
      {
        "duration": 5,
        "start_time": "2022-09-13T13:26:49.867Z"
      },
      {
        "duration": 20,
        "start_time": "2022-09-13T13:27:50.063Z"
      },
      {
        "duration": 57,
        "start_time": "2022-09-13T13:27:59.692Z"
      },
      {
        "duration": 21,
        "start_time": "2022-09-13T13:28:07.674Z"
      },
      {
        "duration": 23,
        "start_time": "2022-09-13T13:28:16.776Z"
      },
      {
        "duration": 237,
        "start_time": "2022-09-13T13:28:35.902Z"
      },
      {
        "duration": 9,
        "start_time": "2022-09-13T13:28:59.802Z"
      },
      {
        "duration": 6,
        "start_time": "2022-09-13T13:29:17.067Z"
      },
      {
        "duration": 4,
        "start_time": "2022-09-13T13:37:51.428Z"
      },
      {
        "duration": 91,
        "start_time": "2022-09-13T13:37:52.607Z"
      },
      {
        "duration": 44,
        "start_time": "2022-09-14T10:45:49.220Z"
      },
      {
        "duration": 519,
        "start_time": "2022-09-14T10:46:00.038Z"
      },
      {
        "duration": 2197,
        "start_time": "2022-09-14T10:46:00.771Z"
      },
      {
        "duration": 43,
        "start_time": "2022-09-14T10:46:02.969Z"
      },
      {
        "duration": 64,
        "start_time": "2022-09-14T10:46:03.013Z"
      },
      {
        "duration": 5,
        "start_time": "2022-09-14T10:46:03.079Z"
      },
      {
        "duration": 21,
        "start_time": "2022-09-14T10:46:03.085Z"
      },
      {
        "duration": 15,
        "start_time": "2022-09-14T10:46:03.107Z"
      },
      {
        "duration": 14,
        "start_time": "2022-09-14T10:46:03.930Z"
      },
      {
        "duration": 24,
        "start_time": "2022-09-14T10:46:06.063Z"
      },
      {
        "duration": 9,
        "start_time": "2022-09-14T10:46:06.706Z"
      },
      {
        "duration": 28,
        "start_time": "2022-09-14T10:46:10.996Z"
      },
      {
        "duration": 41,
        "start_time": "2022-09-14T10:46:14.067Z"
      },
      {
        "duration": 57,
        "start_time": "2022-09-14T10:46:18.279Z"
      },
      {
        "duration": 19,
        "start_time": "2022-09-14T10:46:46.763Z"
      },
      {
        "duration": 6,
        "start_time": "2022-09-14T10:46:59.534Z"
      },
      {
        "duration": 15,
        "start_time": "2022-09-14T10:47:02.960Z"
      },
      {
        "duration": 5,
        "start_time": "2022-09-14T10:47:07.520Z"
      },
      {
        "duration": 7,
        "start_time": "2022-09-14T10:47:29.741Z"
      },
      {
        "duration": 17,
        "start_time": "2022-09-14T10:52:57.831Z"
      },
      {
        "duration": 13,
        "start_time": "2022-09-14T10:53:01.826Z"
      },
      {
        "duration": 8,
        "start_time": "2022-09-14T10:53:02.952Z"
      },
      {
        "duration": 13,
        "start_time": "2022-09-14T10:53:30.907Z"
      },
      {
        "duration": 12,
        "start_time": "2022-09-14T10:53:57.225Z"
      },
      {
        "duration": 8,
        "start_time": "2022-09-14T10:53:58.760Z"
      },
      {
        "duration": 13,
        "start_time": "2022-09-14T10:54:14.939Z"
      },
      {
        "duration": 8,
        "start_time": "2022-09-14T10:54:16.613Z"
      },
      {
        "duration": 36,
        "start_time": "2022-09-14T11:20:42.560Z"
      },
      {
        "duration": 6,
        "start_time": "2022-09-14T11:20:58.125Z"
      },
      {
        "duration": 23,
        "start_time": "2022-09-14T11:21:47.003Z"
      },
      {
        "duration": 5,
        "start_time": "2022-09-14T11:22:03.557Z"
      },
      {
        "duration": 12,
        "start_time": "2022-09-14T11:28:08.103Z"
      },
      {
        "duration": 13,
        "start_time": "2022-09-14T11:28:21.825Z"
      },
      {
        "duration": 9,
        "start_time": "2022-09-14T11:28:29.300Z"
      },
      {
        "duration": 10,
        "start_time": "2022-09-14T11:28:32.167Z"
      },
      {
        "duration": 8,
        "start_time": "2022-09-14T11:28:32.279Z"
      },
      {
        "duration": 13,
        "start_time": "2022-09-14T11:28:44.660Z"
      },
      {
        "duration": 10,
        "start_time": "2022-09-14T11:28:47.117Z"
      },
      {
        "duration": 25,
        "start_time": "2022-09-14T11:33:09.078Z"
      },
      {
        "duration": 6,
        "start_time": "2022-09-14T11:33:12.027Z"
      },
      {
        "duration": 6,
        "start_time": "2022-09-14T11:34:53.403Z"
      },
      {
        "duration": 16,
        "start_time": "2022-09-14T11:38:36.228Z"
      },
      {
        "duration": 9,
        "start_time": "2022-09-14T11:38:44.539Z"
      },
      {
        "duration": 10,
        "start_time": "2022-09-14T11:39:12.606Z"
      },
      {
        "duration": 7,
        "start_time": "2022-09-14T11:39:27.735Z"
      },
      {
        "duration": 6,
        "start_time": "2022-09-14T11:39:32.753Z"
      },
      {
        "duration": 11,
        "start_time": "2022-09-14T11:46:06.997Z"
      },
      {
        "duration": 12,
        "start_time": "2022-09-14T11:46:16.827Z"
      },
      {
        "duration": 12,
        "start_time": "2022-09-14T11:46:30.755Z"
      },
      {
        "duration": 12,
        "start_time": "2022-09-14T11:46:42.040Z"
      },
      {
        "duration": 10,
        "start_time": "2022-09-14T11:54:55.892Z"
      },
      {
        "duration": 15,
        "start_time": "2022-09-14T11:55:06.442Z"
      },
      {
        "duration": 7,
        "start_time": "2022-09-14T11:55:18.657Z"
      },
      {
        "duration": 8,
        "start_time": "2022-09-14T11:55:31.425Z"
      },
      {
        "duration": 10,
        "start_time": "2022-09-14T11:55:43.918Z"
      },
      {
        "duration": 9,
        "start_time": "2022-09-14T11:56:04.808Z"
      },
      {
        "duration": 35,
        "start_time": "2022-09-14T11:56:43.206Z"
      },
      {
        "duration": 83,
        "start_time": "2022-09-14T12:01:09.655Z"
      },
      {
        "duration": 1905,
        "start_time": "2022-09-14T12:01:10.167Z"
      },
      {
        "duration": 52,
        "start_time": "2022-09-14T12:01:12.074Z"
      },
      {
        "duration": 69,
        "start_time": "2022-09-14T12:01:12.128Z"
      },
      {
        "duration": 5,
        "start_time": "2022-09-14T12:01:12.199Z"
      },
      {
        "duration": 14,
        "start_time": "2022-09-14T12:01:12.221Z"
      },
      {
        "duration": 8,
        "start_time": "2022-09-14T12:01:12.236Z"
      },
      {
        "duration": 13,
        "start_time": "2022-09-14T12:01:13.955Z"
      },
      {
        "duration": 18,
        "start_time": "2022-09-14T12:01:16.615Z"
      },
      {
        "duration": 8,
        "start_time": "2022-09-14T12:01:18.358Z"
      },
      {
        "duration": 25,
        "start_time": "2022-09-14T12:01:21.759Z"
      },
      {
        "duration": 6,
        "start_time": "2022-09-14T12:01:25.527Z"
      },
      {
        "duration": 44,
        "start_time": "2022-09-14T12:01:34.847Z"
      },
      {
        "duration": 31,
        "start_time": "2022-09-14T12:01:36.406Z"
      },
      {
        "duration": 19,
        "start_time": "2022-09-14T12:04:03.453Z"
      },
      {
        "duration": 22,
        "start_time": "2022-09-14T12:04:14.691Z"
      },
      {
        "duration": 21,
        "start_time": "2022-09-14T12:05:12.547Z"
      },
      {
        "duration": 26,
        "start_time": "2022-09-14T12:05:38.147Z"
      },
      {
        "duration": 79,
        "start_time": "2022-09-14T12:11:53.445Z"
      },
      {
        "duration": 92,
        "start_time": "2022-09-14T12:12:09.439Z"
      },
      {
        "duration": 24,
        "start_time": "2022-09-14T12:12:48.741Z"
      },
      {
        "duration": 27,
        "start_time": "2022-09-14T12:16:01.359Z"
      },
      {
        "duration": 18,
        "start_time": "2022-09-14T12:16:21.942Z"
      },
      {
        "duration": 18,
        "start_time": "2022-09-14T12:18:16.528Z"
      },
      {
        "duration": 24,
        "start_time": "2022-09-14T12:18:47.453Z"
      },
      {
        "duration": 18,
        "start_time": "2022-09-14T12:20:52.892Z"
      },
      {
        "duration": 20,
        "start_time": "2022-09-14T12:21:11.835Z"
      },
      {
        "duration": 19,
        "start_time": "2022-09-14T12:21:33.034Z"
      },
      {
        "duration": 18,
        "start_time": "2022-09-14T12:22:08.883Z"
      },
      {
        "duration": 17,
        "start_time": "2022-09-14T12:22:32.831Z"
      },
      {
        "duration": 16,
        "start_time": "2022-09-14T12:25:16.279Z"
      },
      {
        "duration": 16,
        "start_time": "2022-09-14T12:25:25.273Z"
      },
      {
        "duration": 16,
        "start_time": "2022-09-14T12:25:32.466Z"
      },
      {
        "duration": 16,
        "start_time": "2022-09-14T12:25:38.688Z"
      },
      {
        "duration": 5,
        "start_time": "2022-09-14T12:25:39.961Z"
      },
      {
        "duration": 1846,
        "start_time": "2022-09-14T12:27:10.550Z"
      },
      {
        "duration": 1340,
        "start_time": "2022-09-14T12:27:27.027Z"
      },
      {
        "duration": 104,
        "start_time": "2022-09-14T12:27:57.337Z"
      },
      {
        "duration": 1436,
        "start_time": "2022-09-14T12:28:06.152Z"
      },
      {
        "duration": 1680,
        "start_time": "2022-09-14T12:30:45.997Z"
      },
      {
        "duration": 1406,
        "start_time": "2022-09-14T12:31:00.429Z"
      },
      {
        "duration": 2513,
        "start_time": "2022-09-14T12:31:07.704Z"
      },
      {
        "duration": 79,
        "start_time": "2022-09-14T12:31:43.856Z"
      },
      {
        "duration": 1857,
        "start_time": "2022-09-14T12:31:44.018Z"
      },
      {
        "duration": 51,
        "start_time": "2022-09-14T12:31:45.877Z"
      },
      {
        "duration": 70,
        "start_time": "2022-09-14T12:31:45.930Z"
      },
      {
        "duration": 20,
        "start_time": "2022-09-14T12:31:46.002Z"
      },
      {
        "duration": 17,
        "start_time": "2022-09-14T12:31:46.023Z"
      },
      {
        "duration": 10,
        "start_time": "2022-09-14T12:31:46.043Z"
      },
      {
        "duration": 15,
        "start_time": "2022-09-14T12:31:51.321Z"
      },
      {
        "duration": 20,
        "start_time": "2022-09-14T12:31:55.150Z"
      },
      {
        "duration": 11,
        "start_time": "2022-09-14T12:31:56.033Z"
      },
      {
        "duration": 25,
        "start_time": "2022-09-14T12:31:58.798Z"
      },
      {
        "duration": 6,
        "start_time": "2022-09-14T12:31:59.824Z"
      },
      {
        "duration": 46,
        "start_time": "2022-09-14T12:32:02.796Z"
      },
      {
        "duration": 40,
        "start_time": "2022-09-14T12:32:04.405Z"
      },
      {
        "duration": 6,
        "start_time": "2022-09-14T12:32:08.423Z"
      },
      {
        "duration": 6,
        "start_time": "2022-09-14T12:32:14.979Z"
      },
      {
        "duration": 10,
        "start_time": "2022-09-14T12:37:54.848Z"
      },
      {
        "duration": 10,
        "start_time": "2022-09-14T12:38:03.135Z"
      },
      {
        "duration": 11,
        "start_time": "2022-09-14T12:38:09.913Z"
      },
      {
        "duration": 7,
        "start_time": "2022-09-14T12:38:14.812Z"
      },
      {
        "duration": 18,
        "start_time": "2022-09-14T12:41:29.477Z"
      },
      {
        "duration": 12,
        "start_time": "2022-09-14T12:43:48.438Z"
      },
      {
        "duration": 11,
        "start_time": "2022-09-14T12:44:02.769Z"
      },
      {
        "duration": 10,
        "start_time": "2022-09-14T12:44:07.480Z"
      },
      {
        "duration": 7,
        "start_time": "2022-09-14T12:44:08.399Z"
      },
      {
        "duration": 13,
        "start_time": "2022-09-14T12:44:17.411Z"
      },
      {
        "duration": 6,
        "start_time": "2022-09-14T12:45:09.637Z"
      },
      {
        "duration": 47,
        "start_time": "2022-09-14T12:45:13.290Z"
      },
      {
        "duration": 36,
        "start_time": "2022-09-14T12:45:14.787Z"
      },
      {
        "duration": 6,
        "start_time": "2022-09-14T12:45:18.140Z"
      },
      {
        "duration": 7,
        "start_time": "2022-09-14T12:45:22.743Z"
      },
      {
        "duration": 19,
        "start_time": "2022-09-14T12:50:05.885Z"
      },
      {
        "duration": 12,
        "start_time": "2022-09-14T12:50:18.065Z"
      },
      {
        "duration": 7,
        "start_time": "2022-09-14T12:50:18.987Z"
      },
      {
        "duration": 25,
        "start_time": "2022-09-14T12:50:21.340Z"
      },
      {
        "duration": 6,
        "start_time": "2022-09-14T12:50:22.773Z"
      },
      {
        "duration": 42,
        "start_time": "2022-09-14T12:50:25.136Z"
      },
      {
        "duration": 32,
        "start_time": "2022-09-14T12:50:30.352Z"
      },
      {
        "duration": 5,
        "start_time": "2022-09-14T12:50:32.093Z"
      },
      {
        "duration": 7,
        "start_time": "2022-09-14T12:50:37.315Z"
      },
      {
        "duration": 18,
        "start_time": "2022-09-14T12:50:43.267Z"
      },
      {
        "duration": 4,
        "start_time": "2022-09-14T12:51:22.074Z"
      },
      {
        "duration": 6,
        "start_time": "2022-09-14T12:51:23.089Z"
      },
      {
        "duration": 7,
        "start_time": "2022-09-14T12:51:38.858Z"
      },
      {
        "duration": 7,
        "start_time": "2022-09-14T12:51:41.934Z"
      },
      {
        "duration": 21,
        "start_time": "2022-09-14T12:52:13.094Z"
      },
      {
        "duration": 22,
        "start_time": "2022-09-14T12:52:47.628Z"
      },
      {
        "duration": 18,
        "start_time": "2022-09-14T12:53:20.953Z"
      },
      {
        "duration": 19,
        "start_time": "2022-09-14T12:53:43.644Z"
      },
      {
        "duration": 21,
        "start_time": "2022-09-14T12:54:00.912Z"
      },
      {
        "duration": 20,
        "start_time": "2022-09-14T12:54:13.193Z"
      },
      {
        "duration": 21,
        "start_time": "2022-09-14T12:54:51.178Z"
      },
      {
        "duration": 20,
        "start_time": "2022-09-14T12:55:17.390Z"
      },
      {
        "duration": 19,
        "start_time": "2022-09-14T12:55:25.634Z"
      },
      {
        "duration": 19,
        "start_time": "2022-09-14T12:56:38.610Z"
      },
      {
        "duration": 1421,
        "start_time": "2022-09-14T12:59:31.598Z"
      },
      {
        "duration": 18,
        "start_time": "2022-09-14T13:00:45.378Z"
      },
      {
        "duration": 24,
        "start_time": "2022-09-14T13:01:05.344Z"
      },
      {
        "duration": 23,
        "start_time": "2022-09-14T13:01:17.733Z"
      },
      {
        "duration": 23,
        "start_time": "2022-09-14T13:01:58.204Z"
      },
      {
        "duration": 23,
        "start_time": "2022-09-14T13:02:37.924Z"
      },
      {
        "duration": 8,
        "start_time": "2022-09-14T13:11:55.276Z"
      },
      {
        "duration": 22,
        "start_time": "2022-09-14T13:12:12.270Z"
      },
      {
        "duration": 28,
        "start_time": "2022-09-14T13:12:43.400Z"
      },
      {
        "duration": 9,
        "start_time": "2022-09-14T13:13:10.125Z"
      },
      {
        "duration": 31,
        "start_time": "2022-09-14T13:13:15.365Z"
      },
      {
        "duration": 31,
        "start_time": "2022-09-14T13:14:17.710Z"
      },
      {
        "duration": 29,
        "start_time": "2022-09-14T13:14:34.608Z"
      },
      {
        "duration": 28,
        "start_time": "2022-09-14T13:15:01.231Z"
      },
      {
        "duration": 40,
        "start_time": "2022-09-14T13:15:13.109Z"
      },
      {
        "duration": 8,
        "start_time": "2022-09-14T13:16:15.592Z"
      },
      {
        "duration": 51,
        "start_time": "2022-09-14T13:18:51.733Z"
      },
      {
        "duration": 61,
        "start_time": "2022-09-14T13:20:00.754Z"
      },
      {
        "duration": 71,
        "start_time": "2022-09-14T13:20:49.801Z"
      },
      {
        "duration": 62,
        "start_time": "2022-09-14T13:21:07.935Z"
      },
      {
        "duration": 63,
        "start_time": "2022-09-14T13:21:31.275Z"
      },
      {
        "duration": 69,
        "start_time": "2022-09-14T13:21:58.716Z"
      },
      {
        "duration": 11,
        "start_time": "2022-09-14T13:22:12.028Z"
      },
      {
        "duration": 11,
        "start_time": "2022-09-14T13:22:54.934Z"
      },
      {
        "duration": 6,
        "start_time": "2022-09-14T13:23:00.464Z"
      },
      {
        "duration": 8,
        "start_time": "2022-09-14T13:23:16.360Z"
      },
      {
        "duration": 6,
        "start_time": "2022-09-14T13:23:20.739Z"
      },
      {
        "duration": 6,
        "start_time": "2022-09-14T13:24:42.453Z"
      },
      {
        "duration": 3,
        "start_time": "2022-09-14T13:25:15.017Z"
      },
      {
        "duration": 42,
        "start_time": "2022-09-14T13:25:22.697Z"
      },
      {
        "duration": 40,
        "start_time": "2022-09-14T13:25:38.160Z"
      },
      {
        "duration": 12,
        "start_time": "2022-09-14T13:25:57.720Z"
      },
      {
        "duration": 12,
        "start_time": "2022-09-14T13:28:39.308Z"
      },
      {
        "duration": 12,
        "start_time": "2022-09-14T13:30:22.237Z"
      },
      {
        "duration": 14,
        "start_time": "2022-09-14T13:36:10.581Z"
      },
      {
        "duration": 14,
        "start_time": "2022-09-14T13:36:25.065Z"
      },
      {
        "duration": 68,
        "start_time": "2022-09-14T13:36:47.040Z"
      },
      {
        "duration": 94,
        "start_time": "2022-09-14T13:37:27.489Z"
      },
      {
        "duration": 39,
        "start_time": "2022-09-14T14:40:28.163Z"
      },
      {
        "duration": 109,
        "start_time": "2022-09-14T14:40:46.952Z"
      },
      {
        "duration": 13,
        "start_time": "2022-09-14T14:41:59.349Z"
      },
      {
        "duration": 9,
        "start_time": "2022-09-14T14:46:51.188Z"
      },
      {
        "duration": 10,
        "start_time": "2022-09-14T14:47:07.777Z"
      },
      {
        "duration": 7,
        "start_time": "2022-09-14T14:47:35.321Z"
      },
      {
        "duration": 11,
        "start_time": "2022-09-14T14:49:05.434Z"
      },
      {
        "duration": 62,
        "start_time": "2022-09-14T14:49:53.972Z"
      },
      {
        "duration": 8,
        "start_time": "2022-09-14T15:01:51.186Z"
      },
      {
        "duration": 8,
        "start_time": "2022-09-14T15:01:57.330Z"
      },
      {
        "duration": 8,
        "start_time": "2022-09-14T15:02:36.241Z"
      },
      {
        "duration": 22589,
        "start_time": "2022-09-14T15:05:14.553Z"
      },
      {
        "duration": 2,
        "start_time": "2022-09-14T15:07:20.185Z"
      },
      {
        "duration": 195,
        "start_time": "2022-09-14T15:07:43.036Z"
      },
      {
        "duration": 3804,
        "start_time": "2022-09-14T15:07:43.233Z"
      },
      {
        "duration": 96,
        "start_time": "2022-09-14T15:07:47.039Z"
      },
      {
        "duration": 122,
        "start_time": "2022-09-14T15:07:47.137Z"
      },
      {
        "duration": 5,
        "start_time": "2022-09-14T15:07:47.260Z"
      },
      {
        "duration": 15,
        "start_time": "2022-09-14T15:07:47.322Z"
      },
      {
        "duration": 10,
        "start_time": "2022-09-14T15:07:47.338Z"
      },
      {
        "duration": 77,
        "start_time": "2022-09-14T15:07:47.352Z"
      },
      {
        "duration": 30,
        "start_time": "2022-09-14T15:07:47.431Z"
      },
      {
        "duration": 63,
        "start_time": "2022-09-14T15:07:47.463Z"
      },
      {
        "duration": 29,
        "start_time": "2022-09-14T15:07:47.528Z"
      },
      {
        "duration": 5,
        "start_time": "2022-09-14T15:07:47.559Z"
      },
      {
        "duration": 89,
        "start_time": "2022-09-14T15:07:47.565Z"
      },
      {
        "duration": 89,
        "start_time": "2022-09-14T15:07:47.656Z"
      },
      {
        "duration": 6,
        "start_time": "2022-09-14T15:07:47.747Z"
      },
      {
        "duration": 13,
        "start_time": "2022-09-14T15:07:47.754Z"
      },
      {
        "duration": 128,
        "start_time": "2022-09-14T15:07:47.768Z"
      },
      {
        "duration": 24,
        "start_time": "2022-09-14T15:07:47.898Z"
      },
      {
        "duration": 64,
        "start_time": "2022-09-14T15:07:47.923Z"
      },
      {
        "duration": 2,
        "start_time": "2022-09-14T15:07:47.989Z"
      },
      {
        "duration": 76,
        "start_time": "2022-09-14T15:10:32.518Z"
      },
      {
        "duration": 1731,
        "start_time": "2022-09-14T15:10:33.444Z"
      },
      {
        "duration": 56,
        "start_time": "2022-09-14T15:10:35.177Z"
      },
      {
        "duration": 69,
        "start_time": "2022-09-14T15:10:35.783Z"
      },
      {
        "duration": 6,
        "start_time": "2022-09-14T15:10:35.992Z"
      },
      {
        "duration": 15,
        "start_time": "2022-09-14T15:10:36.199Z"
      },
      {
        "duration": 9,
        "start_time": "2022-09-14T15:10:36.603Z"
      },
      {
        "duration": 14,
        "start_time": "2022-09-14T15:10:38.391Z"
      },
      {
        "duration": 20,
        "start_time": "2022-09-14T15:10:40.288Z"
      },
      {
        "duration": 10,
        "start_time": "2022-09-14T15:10:40.922Z"
      },
      {
        "duration": 25,
        "start_time": "2022-09-14T15:10:41.329Z"
      },
      {
        "duration": 6,
        "start_time": "2022-09-14T15:10:41.477Z"
      },
      {
        "duration": 40,
        "start_time": "2022-09-14T15:10:43.462Z"
      },
      {
        "duration": 36,
        "start_time": "2022-09-14T15:10:44.081Z"
      },
      {
        "duration": 5,
        "start_time": "2022-09-14T15:10:45.230Z"
      },
      {
        "duration": 8,
        "start_time": "2022-09-14T15:10:46.217Z"
      },
      {
        "duration": 66,
        "start_time": "2022-09-14T15:10:47.197Z"
      },
      {
        "duration": 7,
        "start_time": "2022-09-14T15:10:48.062Z"
      },
      {
        "duration": 83,
        "start_time": "2022-09-14T15:10:50.940Z"
      },
      {
        "duration": 9,
        "start_time": "2022-09-14T15:11:35.838Z"
      },
      {
        "duration": 64,
        "start_time": "2022-09-14T15:12:04.567Z"
      },
      {
        "duration": 85,
        "start_time": "2022-09-14T15:12:51.056Z"
      },
      {
        "duration": 9,
        "start_time": "2022-09-14T15:12:53.724Z"
      },
      {
        "duration": 3,
        "start_time": "2022-09-14T15:13:05.905Z"
      },
      {
        "duration": 22420,
        "start_time": "2022-09-14T15:13:06.623Z"
      },
      {
        "duration": 191,
        "start_time": "2022-09-14T15:13:29.045Z"
      },
      {
        "duration": 3,
        "start_time": "2022-09-14T15:13:32.518Z"
      },
      {
        "duration": 60,
        "start_time": "2022-09-14T15:13:41.888Z"
      },
      {
        "duration": 11,
        "start_time": "2022-09-14T15:13:42.748Z"
      },
      {
        "duration": 134,
        "start_time": "2022-09-14T15:13:43.315Z"
      },
      {
        "duration": 7,
        "start_time": "2022-09-14T15:14:57.012Z"
      },
      {
        "duration": 5,
        "start_time": "2022-09-14T15:17:24.366Z"
      },
      {
        "duration": 124,
        "start_time": "2022-09-14T15:22:36.784Z"
      },
      {
        "duration": 4,
        "start_time": "2022-09-14T15:29:05.501Z"
      },
      {
        "duration": 56,
        "start_time": "2022-09-14T15:29:08.992Z"
      },
      {
        "duration": 58,
        "start_time": "2022-09-14T15:29:18.730Z"
      },
      {
        "duration": 3,
        "start_time": "2022-09-14T15:29:46.563Z"
      },
      {
        "duration": 54,
        "start_time": "2022-09-14T15:29:47.388Z"
      },
      {
        "duration": 3,
        "start_time": "2022-09-14T15:30:19.637Z"
      },
      {
        "duration": 52,
        "start_time": "2022-09-14T15:30:20.763Z"
      },
      {
        "duration": 8,
        "start_time": "2022-09-14T15:30:22.086Z"
      },
      {
        "duration": 2,
        "start_time": "2022-09-14T15:30:27.928Z"
      },
      {
        "duration": 3,
        "start_time": "2022-09-14T15:30:28.648Z"
      },
      {
        "duration": 51,
        "start_time": "2022-09-14T15:30:29.466Z"
      },
      {
        "duration": 7,
        "start_time": "2022-09-14T15:30:30.698Z"
      },
      {
        "duration": 122,
        "start_time": "2022-09-14T15:30:33.046Z"
      },
      {
        "duration": 58,
        "start_time": "2022-09-14T15:30:41.039Z"
      },
      {
        "duration": 3,
        "start_time": "2022-09-14T15:30:42.165Z"
      },
      {
        "duration": 2,
        "start_time": "2022-09-14T15:30:43.600Z"
      },
      {
        "duration": 52,
        "start_time": "2022-09-14T15:30:44.625Z"
      },
      {
        "duration": 76,
        "start_time": "2022-09-14T15:31:09.909Z"
      },
      {
        "duration": 1908,
        "start_time": "2022-09-14T15:31:10.113Z"
      },
      {
        "duration": 33,
        "start_time": "2022-09-14T15:31:12.024Z"
      },
      {
        "duration": 82,
        "start_time": "2022-09-14T15:31:12.058Z"
      },
      {
        "duration": 4,
        "start_time": "2022-09-14T15:31:12.143Z"
      },
      {
        "duration": 17,
        "start_time": "2022-09-14T15:31:12.149Z"
      },
      {
        "duration": 8,
        "start_time": "2022-09-14T15:31:12.167Z"
      },
      {
        "duration": 16,
        "start_time": "2022-09-14T15:31:12.673Z"
      },
      {
        "duration": 19,
        "start_time": "2022-09-14T15:31:14.342Z"
      },
      {
        "duration": 9,
        "start_time": "2022-09-14T15:31:14.993Z"
      },
      {
        "duration": 23,
        "start_time": "2022-09-14T15:31:16.988Z"
      },
      {
        "duration": 5,
        "start_time": "2022-09-14T15:31:20.865Z"
      },
      {
        "duration": 42,
        "start_time": "2022-09-14T15:31:30.707Z"
      },
      {
        "duration": 23,
        "start_time": "2022-09-14T15:32:50.677Z"
      },
      {
        "duration": 15,
        "start_time": "2022-09-14T15:33:17.402Z"
      },
      {
        "duration": 12,
        "start_time": "2022-09-14T15:33:22.991Z"
      },
      {
        "duration": 9,
        "start_time": "2022-09-14T15:33:24.979Z"
      },
      {
        "duration": 24,
        "start_time": "2022-09-14T15:33:31.534Z"
      },
      {
        "duration": 7,
        "start_time": "2022-09-14T15:33:36.142Z"
      },
      {
        "duration": 36,
        "start_time": "2022-09-14T15:33:38.485Z"
      },
      {
        "duration": 37,
        "start_time": "2022-09-14T15:33:44.943Z"
      },
      {
        "duration": 5,
        "start_time": "2022-09-14T15:33:45.970Z"
      },
      {
        "duration": 6,
        "start_time": "2022-09-14T15:33:49.759Z"
      },
      {
        "duration": 68,
        "start_time": "2022-09-14T15:33:56.616Z"
      },
      {
        "duration": 7,
        "start_time": "2022-09-14T15:34:00.200Z"
      },
      {
        "duration": 58,
        "start_time": "2022-09-14T15:34:10.953Z"
      },
      {
        "duration": 51,
        "start_time": "2022-09-14T15:34:36.862Z"
      },
      {
        "duration": 8,
        "start_time": "2022-09-14T15:35:18.949Z"
      },
      {
        "duration": 104,
        "start_time": "2022-09-14T15:35:28.985Z"
      },
      {
        "duration": 10,
        "start_time": "2022-09-14T15:36:59.096Z"
      },
      {
        "duration": 57,
        "start_time": "2022-09-14T16:13:00.663Z"
      },
      {
        "duration": 9,
        "start_time": "2022-09-14T16:13:08.037Z"
      },
      {
        "duration": 129,
        "start_time": "2022-09-14T16:13:12.440Z"
      },
      {
        "duration": 36,
        "start_time": "2022-09-14T16:14:50.950Z"
      },
      {
        "duration": 71,
        "start_time": "2022-09-14T16:15:28.019Z"
      },
      {
        "duration": 4,
        "start_time": "2022-09-14T16:15:35.291Z"
      },
      {
        "duration": 123,
        "start_time": "2022-09-14T16:17:25.781Z"
      },
      {
        "duration": 113,
        "start_time": "2022-09-14T16:18:59.786Z"
      },
      {
        "duration": 120,
        "start_time": "2022-09-14T16:19:07.258Z"
      },
      {
        "duration": 128,
        "start_time": "2022-09-14T16:19:37.273Z"
      },
      {
        "duration": 2,
        "start_time": "2022-09-14T16:19:48.014Z"
      },
      {
        "duration": 8,
        "start_time": "2022-09-14T16:19:48.653Z"
      },
      {
        "duration": 141,
        "start_time": "2022-09-14T16:19:49.857Z"
      },
      {
        "duration": 86,
        "start_time": "2022-09-14T16:19:58.253Z"
      },
      {
        "duration": 1740,
        "start_time": "2022-09-14T16:19:58.457Z"
      },
      {
        "duration": 43,
        "start_time": "2022-09-14T16:20:00.199Z"
      },
      {
        "duration": 80,
        "start_time": "2022-09-14T16:20:00.244Z"
      },
      {
        "duration": 5,
        "start_time": "2022-09-14T16:20:00.326Z"
      },
      {
        "duration": 28,
        "start_time": "2022-09-14T16:20:00.333Z"
      },
      {
        "duration": 10,
        "start_time": "2022-09-14T16:20:00.363Z"
      },
      {
        "duration": 15,
        "start_time": "2022-09-14T16:20:01.325Z"
      },
      {
        "duration": 23,
        "start_time": "2022-09-14T16:20:02.345Z"
      },
      {
        "duration": 10,
        "start_time": "2022-09-14T16:20:03.129Z"
      },
      {
        "duration": 23,
        "start_time": "2022-09-14T16:20:07.060Z"
      },
      {
        "duration": 6,
        "start_time": "2022-09-14T16:20:07.987Z"
      },
      {
        "duration": 37,
        "start_time": "2022-09-14T16:20:10.369Z"
      },
      {
        "duration": 41,
        "start_time": "2022-09-14T16:20:11.156Z"
      },
      {
        "duration": 8,
        "start_time": "2022-09-14T16:20:12.033Z"
      },
      {
        "duration": 7,
        "start_time": "2022-09-14T16:20:13.511Z"
      },
      {
        "duration": 74,
        "start_time": "2022-09-14T16:20:15.150Z"
      },
      {
        "duration": 9,
        "start_time": "2022-09-14T16:20:15.849Z"
      },
      {
        "duration": 60,
        "start_time": "2022-09-14T16:20:18.984Z"
      },
      {
        "duration": 3,
        "start_time": "2022-09-14T16:20:22.522Z"
      },
      {
        "duration": 9,
        "start_time": "2022-09-14T16:20:23.340Z"
      },
      {
        "duration": 139,
        "start_time": "2022-09-14T16:20:26.209Z"
      },
      {
        "duration": 843,
        "start_time": "2022-09-14T16:40:10.673Z"
      },
      {
        "duration": 709,
        "start_time": "2022-09-14T16:40:21.528Z"
      },
      {
        "duration": 8,
        "start_time": "2022-09-14T16:40:32.586Z"
      },
      {
        "duration": 5,
        "start_time": "2022-09-14T17:03:22.909Z"
      },
      {
        "duration": 5,
        "start_time": "2022-09-14T17:03:34.792Z"
      },
      {
        "duration": 8,
        "start_time": "2022-09-14T17:03:59.467Z"
      },
      {
        "duration": 118,
        "start_time": "2022-09-14T17:04:14.827Z"
      },
      {
        "duration": 115,
        "start_time": "2022-09-14T17:06:07.260Z"
      },
      {
        "duration": 7,
        "start_time": "2022-09-14T17:06:44.640Z"
      },
      {
        "duration": 5,
        "start_time": "2022-09-14T17:06:52.318Z"
      },
      {
        "duration": 5,
        "start_time": "2022-09-14T17:07:08.907Z"
      },
      {
        "duration": 22,
        "start_time": "2022-09-14T17:11:02.066Z"
      },
      {
        "duration": 1376,
        "start_time": "2022-09-14T17:12:31.676Z"
      },
      {
        "duration": 6,
        "start_time": "2022-09-14T17:12:46.828Z"
      },
      {
        "duration": 144,
        "start_time": "2022-09-14T17:15:21.424Z"
      },
      {
        "duration": 113,
        "start_time": "2022-09-14T17:15:34.828Z"
      },
      {
        "duration": 85,
        "start_time": "2022-09-14T17:17:48.172Z"
      },
      {
        "duration": 9,
        "start_time": "2022-09-14T17:17:53.973Z"
      },
      {
        "duration": 4,
        "start_time": "2022-09-14T17:23:10.644Z"
      },
      {
        "duration": 8,
        "start_time": "2022-09-14T17:23:29.696Z"
      },
      {
        "duration": 4,
        "start_time": "2022-09-14T17:23:37.681Z"
      },
      {
        "duration": 121,
        "start_time": "2022-09-14T17:24:19.001Z"
      },
      {
        "duration": 93,
        "start_time": "2022-09-14T17:31:59.911Z"
      },
      {
        "duration": 9,
        "start_time": "2022-09-14T17:32:19.175Z"
      },
      {
        "duration": 19,
        "start_time": "2022-09-14T17:32:29.436Z"
      },
      {
        "duration": 12,
        "start_time": "2022-09-14T17:33:25.292Z"
      },
      {
        "duration": 8,
        "start_time": "2022-09-14T17:33:49.919Z"
      },
      {
        "duration": 64,
        "start_time": "2022-09-14T17:34:03.197Z"
      },
      {
        "duration": 257,
        "start_time": "2022-09-14T17:35:02.316Z"
      },
      {
        "duration": 41,
        "start_time": "2022-09-14T17:35:17.485Z"
      },
      {
        "duration": 135,
        "start_time": "2022-09-14T17:37:42.038Z"
      },
      {
        "duration": 24,
        "start_time": "2022-09-14T17:37:56.694Z"
      },
      {
        "duration": 14,
        "start_time": "2022-09-14T17:38:02.899Z"
      },
      {
        "duration": 92,
        "start_time": "2022-09-14T17:52:06.368Z"
      },
      {
        "duration": 110,
        "start_time": "2022-09-14T17:53:36.854Z"
      },
      {
        "duration": 3,
        "start_time": "2022-09-14T17:53:46.496Z"
      },
      {
        "duration": 114,
        "start_time": "2022-09-14T17:53:51.388Z"
      },
      {
        "duration": 86,
        "start_time": "2022-09-14T17:54:28.096Z"
      },
      {
        "duration": 4346,
        "start_time": "2022-09-14T17:54:28.301Z"
      },
      {
        "duration": 33,
        "start_time": "2022-09-14T17:54:32.649Z"
      },
      {
        "duration": 92,
        "start_time": "2022-09-14T17:54:32.684Z"
      },
      {
        "duration": 6,
        "start_time": "2022-09-14T17:54:32.778Z"
      },
      {
        "duration": 16,
        "start_time": "2022-09-14T17:54:32.786Z"
      },
      {
        "duration": 11,
        "start_time": "2022-09-14T17:54:32.823Z"
      },
      {
        "duration": 14,
        "start_time": "2022-09-14T17:54:32.836Z"
      },
      {
        "duration": 22,
        "start_time": "2022-09-14T17:54:32.852Z"
      },
      {
        "duration": 8,
        "start_time": "2022-09-14T17:54:32.876Z"
      },
      {
        "duration": 25,
        "start_time": "2022-09-14T17:54:32.922Z"
      },
      {
        "duration": 6,
        "start_time": "2022-09-14T17:54:32.949Z"
      },
      {
        "duration": 41,
        "start_time": "2022-09-14T17:54:32.956Z"
      },
      {
        "duration": 63,
        "start_time": "2022-09-14T17:54:32.999Z"
      },
      {
        "duration": 6,
        "start_time": "2022-09-14T17:54:33.065Z"
      },
      {
        "duration": 6,
        "start_time": "2022-09-14T17:54:33.173Z"
      },
      {
        "duration": 72,
        "start_time": "2022-09-14T17:54:33.394Z"
      },
      {
        "duration": 8,
        "start_time": "2022-09-14T17:54:33.622Z"
      },
      {
        "duration": 56,
        "start_time": "2022-09-14T17:54:34.768Z"
      },
      {
        "duration": 2,
        "start_time": "2022-09-14T17:54:36.480Z"
      },
      {
        "duration": 117,
        "start_time": "2022-09-14T17:54:48.769Z"
      },
      {
        "duration": 77,
        "start_time": "2022-09-14T17:54:52.622Z"
      },
      {
        "duration": 117,
        "start_time": "2022-09-14T17:55:23.310Z"
      },
      {
        "duration": 13,
        "start_time": "2022-09-14T17:56:21.383Z"
      },
      {
        "duration": 8,
        "start_time": "2022-09-14T17:56:40.049Z"
      },
      {
        "duration": 1181,
        "start_time": "2022-09-14T17:57:05.539Z"
      },
      {
        "duration": 8,
        "start_time": "2022-09-14T17:57:11.962Z"
      },
      {
        "duration": 4,
        "start_time": "2022-09-14T17:57:33.564Z"
      },
      {
        "duration": 8,
        "start_time": "2022-09-14T17:58:35.503Z"
      },
      {
        "duration": 82,
        "start_time": "2022-09-14T17:59:53.213Z"
      },
      {
        "duration": 111,
        "start_time": "2022-09-14T18:00:48.602Z"
      },
      {
        "duration": 9,
        "start_time": "2022-09-14T18:04:17.370Z"
      },
      {
        "duration": 8,
        "start_time": "2022-09-14T18:04:24.408Z"
      },
      {
        "duration": 86,
        "start_time": "2022-09-14T18:05:32.078Z"
      },
      {
        "duration": 7,
        "start_time": "2022-09-14T18:05:36.979Z"
      },
      {
        "duration": 68,
        "start_time": "2022-09-14T18:06:11.844Z"
      },
      {
        "duration": 81,
        "start_time": "2022-09-14T18:07:13.206Z"
      },
      {
        "duration": 7,
        "start_time": "2022-09-14T18:07:20.218Z"
      },
      {
        "duration": 7,
        "start_time": "2022-09-14T18:07:39.004Z"
      },
      {
        "duration": 79,
        "start_time": "2022-09-14T18:07:56.878Z"
      },
      {
        "duration": 108,
        "start_time": "2022-09-14T18:08:05.448Z"
      },
      {
        "duration": 87,
        "start_time": "2022-09-14T18:09:11.592Z"
      },
      {
        "duration": 104,
        "start_time": "2022-09-14T18:10:53.914Z"
      },
      {
        "duration": 85,
        "start_time": "2022-09-14T18:11:02.632Z"
      },
      {
        "duration": 3,
        "start_time": "2022-09-14T18:11:19.882Z"
      },
      {
        "duration": 3,
        "start_time": "2022-09-14T18:11:23.543Z"
      },
      {
        "duration": 5,
        "start_time": "2022-09-14T18:11:52.755Z"
      },
      {
        "duration": 3,
        "start_time": "2022-09-14T18:12:19.313Z"
      },
      {
        "duration": 6,
        "start_time": "2022-09-14T18:12:28.722Z"
      },
      {
        "duration": 5,
        "start_time": "2022-09-14T18:12:57.389Z"
      },
      {
        "duration": 83,
        "start_time": "2022-09-14T18:14:11.734Z"
      },
      {
        "duration": 1808,
        "start_time": "2022-09-14T18:14:12.260Z"
      },
      {
        "duration": 32,
        "start_time": "2022-09-14T18:14:14.069Z"
      },
      {
        "duration": 81,
        "start_time": "2022-09-14T18:14:14.103Z"
      },
      {
        "duration": 5,
        "start_time": "2022-09-14T18:14:14.186Z"
      },
      {
        "duration": 30,
        "start_time": "2022-09-14T18:14:14.192Z"
      },
      {
        "duration": 8,
        "start_time": "2022-09-14T18:14:14.224Z"
      },
      {
        "duration": 16,
        "start_time": "2022-09-14T18:14:17.441Z"
      },
      {
        "duration": 22,
        "start_time": "2022-09-14T18:14:31.379Z"
      },
      {
        "duration": 8,
        "start_time": "2022-09-14T18:14:35.129Z"
      },
      {
        "duration": 13,
        "start_time": "2022-09-14T18:15:20.141Z"
      },
      {
        "duration": 19,
        "start_time": "2022-09-14T18:15:23.646Z"
      },
      {
        "duration": 10,
        "start_time": "2022-09-14T18:15:24.284Z"
      },
      {
        "duration": 31,
        "start_time": "2022-09-14T18:15:26.097Z"
      },
      {
        "duration": 6,
        "start_time": "2022-09-14T18:15:26.859Z"
      },
      {
        "duration": 32,
        "start_time": "2022-09-14T18:15:28.759Z"
      },
      {
        "duration": 32,
        "start_time": "2022-09-14T18:15:30.707Z"
      },
      {
        "duration": 5,
        "start_time": "2022-09-14T18:15:32.617Z"
      },
      {
        "duration": 6,
        "start_time": "2022-09-14T18:15:33.613Z"
      },
      {
        "duration": 65,
        "start_time": "2022-09-14T18:15:37.061Z"
      },
      {
        "duration": 9,
        "start_time": "2022-09-14T18:15:37.837Z"
      },
      {
        "duration": 52,
        "start_time": "2022-09-14T18:15:44.307Z"
      },
      {
        "duration": 3,
        "start_time": "2022-09-14T18:16:00.398Z"
      },
      {
        "duration": 108,
        "start_time": "2022-09-14T18:16:01.601Z"
      },
      {
        "duration": 78,
        "start_time": "2022-09-14T18:16:05.009Z"
      },
      {
        "duration": 120,
        "start_time": "2022-09-14T18:16:05.954Z"
      },
      {
        "duration": 84,
        "start_time": "2022-09-14T18:16:09.705Z"
      },
      {
        "duration": 92,
        "start_time": "2022-09-14T18:16:14.562Z"
      },
      {
        "duration": 97,
        "start_time": "2022-09-14T18:16:39.605Z"
      },
      {
        "duration": 7,
        "start_time": "2022-09-14T18:17:22.496Z"
      },
      {
        "duration": 82,
        "start_time": "2022-09-14T18:19:14.783Z"
      },
      {
        "duration": 6,
        "start_time": "2022-09-14T18:20:46.644Z"
      },
      {
        "duration": 5,
        "start_time": "2022-09-14T18:20:52.881Z"
      },
      {
        "duration": 87,
        "start_time": "2022-09-14T18:21:12.547Z"
      },
      {
        "duration": 109,
        "start_time": "2022-09-14T18:22:10.280Z"
      },
      {
        "duration": 67,
        "start_time": "2022-09-14T18:26:30.761Z"
      },
      {
        "duration": 111,
        "start_time": "2022-09-14T18:28:43.535Z"
      },
      {
        "duration": 92,
        "start_time": "2022-09-14T18:29:17.336Z"
      },
      {
        "duration": 119,
        "start_time": "2022-09-14T18:46:10.171Z"
      },
      {
        "duration": 100,
        "start_time": "2022-09-14T18:47:47.835Z"
      },
      {
        "duration": 89,
        "start_time": "2022-09-14T18:47:53.252Z"
      },
      {
        "duration": 56,
        "start_time": "2022-09-14T18:47:54.174Z"
      },
      {
        "duration": 79,
        "start_time": "2022-09-14T18:48:27.002Z"
      },
      {
        "duration": 98,
        "start_time": "2022-09-14T18:48:27.709Z"
      },
      {
        "duration": 76,
        "start_time": "2022-09-14T18:48:29.566Z"
      },
      {
        "duration": 78,
        "start_time": "2022-09-14T18:49:40.434Z"
      },
      {
        "duration": 1763,
        "start_time": "2022-09-14T18:49:40.589Z"
      },
      {
        "duration": 28,
        "start_time": "2022-09-14T18:49:42.354Z"
      },
      {
        "duration": 72,
        "start_time": "2022-09-14T18:49:42.384Z"
      },
      {
        "duration": 4,
        "start_time": "2022-09-14T18:49:42.458Z"
      },
      {
        "duration": 15,
        "start_time": "2022-09-14T18:49:42.464Z"
      },
      {
        "duration": 9,
        "start_time": "2022-09-14T18:49:42.480Z"
      },
      {
        "duration": 14,
        "start_time": "2022-09-14T18:49:42.873Z"
      },
      {
        "duration": 20,
        "start_time": "2022-09-14T18:49:43.293Z"
      },
      {
        "duration": 9,
        "start_time": "2022-09-14T18:49:43.519Z"
      },
      {
        "duration": 24,
        "start_time": "2022-09-14T18:49:43.878Z"
      },
      {
        "duration": 6,
        "start_time": "2022-09-14T18:49:44.047Z"
      },
      {
        "duration": 32,
        "start_time": "2022-09-14T18:49:44.433Z"
      },
      {
        "duration": 32,
        "start_time": "2022-09-14T18:49:44.645Z"
      },
      {
        "duration": 6,
        "start_time": "2022-09-14T18:49:45.362Z"
      },
      {
        "duration": 8,
        "start_time": "2022-09-14T18:49:46.063Z"
      },
      {
        "duration": 73,
        "start_time": "2022-09-14T18:49:46.655Z"
      },
      {
        "duration": 8,
        "start_time": "2022-09-14T18:49:46.837Z"
      },
      {
        "duration": 55,
        "start_time": "2022-09-14T18:49:47.205Z"
      },
      {
        "duration": 3,
        "start_time": "2022-09-14T18:49:47.438Z"
      },
      {
        "duration": 73,
        "start_time": "2022-09-14T18:49:48.152Z"
      },
      {
        "duration": 76,
        "start_time": "2022-09-14T18:49:48.343Z"
      },
      {
        "duration": 78,
        "start_time": "2022-09-14T18:49:48.558Z"
      },
      {
        "duration": 75,
        "start_time": "2022-09-14T18:49:48.778Z"
      },
      {
        "duration": 106,
        "start_time": "2022-09-14T18:49:49.898Z"
      },
      {
        "duration": 79,
        "start_time": "2022-09-14T18:49:51.958Z"
      },
      {
        "duration": 94,
        "start_time": "2022-09-14T18:49:52.965Z"
      },
      {
        "duration": 77,
        "start_time": "2022-09-14T18:52:51.877Z"
      },
      {
        "duration": 93,
        "start_time": "2022-09-14T18:53:38.501Z"
      },
      {
        "duration": 72,
        "start_time": "2022-09-14T18:55:09.864Z"
      },
      {
        "duration": 89,
        "start_time": "2022-09-14T18:55:44.505Z"
      },
      {
        "duration": 89,
        "start_time": "2022-09-14T18:57:04.415Z"
      },
      {
        "duration": 81,
        "start_time": "2022-09-14T18:58:50.993Z"
      },
      {
        "duration": 94,
        "start_time": "2022-09-14T18:59:42.462Z"
      },
      {
        "duration": 21,
        "start_time": "2022-09-14T19:01:10.228Z"
      },
      {
        "duration": 9,
        "start_time": "2022-09-14T19:01:42.536Z"
      },
      {
        "duration": 8,
        "start_time": "2022-09-14T19:01:53.625Z"
      },
      {
        "duration": 83,
        "start_time": "2022-09-14T19:03:52.520Z"
      },
      {
        "duration": 102,
        "start_time": "2022-09-14T19:03:53.301Z"
      },
      {
        "duration": 120,
        "start_time": "2022-09-14T19:03:56.088Z"
      },
      {
        "duration": 73,
        "start_time": "2022-09-14T19:03:57.017Z"
      },
      {
        "duration": 105,
        "start_time": "2022-09-14T19:04:04.818Z"
      },
      {
        "duration": 46,
        "start_time": "2022-09-14T19:05:06.978Z"
      },
      {
        "duration": 97,
        "start_time": "2022-09-14T19:05:07.476Z"
      },
      {
        "duration": 19,
        "start_time": "2022-09-14T19:05:08.748Z"
      },
      {
        "duration": 99,
        "start_time": "2022-09-14T19:07:06.907Z"
      },
      {
        "duration": 58,
        "start_time": "2022-09-14T19:07:59.677Z"
      },
      {
        "duration": 101,
        "start_time": "2022-09-14T19:08:31.454Z"
      },
      {
        "duration": 71,
        "start_time": "2022-09-14T19:09:13.795Z"
      },
      {
        "duration": 78,
        "start_time": "2022-09-14T19:10:10.482Z"
      },
      {
        "duration": 96,
        "start_time": "2022-09-14T19:10:50.206Z"
      },
      {
        "duration": 100,
        "start_time": "2022-09-14T19:10:55.937Z"
      },
      {
        "duration": 82,
        "start_time": "2022-09-14T19:11:24.445Z"
      },
      {
        "duration": 1968,
        "start_time": "2022-09-14T19:11:24.634Z"
      },
      {
        "duration": 45,
        "start_time": "2022-09-14T19:11:26.605Z"
      },
      {
        "duration": 82,
        "start_time": "2022-09-14T19:11:26.652Z"
      },
      {
        "duration": 5,
        "start_time": "2022-09-14T19:11:26.736Z"
      },
      {
        "duration": 21,
        "start_time": "2022-09-14T19:11:26.743Z"
      },
      {
        "duration": 8,
        "start_time": "2022-09-14T19:11:26.766Z"
      },
      {
        "duration": 16,
        "start_time": "2022-09-14T19:11:27.506Z"
      },
      {
        "duration": 28,
        "start_time": "2022-09-14T19:11:27.933Z"
      },
      {
        "duration": 9,
        "start_time": "2022-09-14T19:11:28.238Z"
      },
      {
        "duration": 25,
        "start_time": "2022-09-14T19:11:28.922Z"
      },
      {
        "duration": 6,
        "start_time": "2022-09-14T19:11:29.139Z"
      },
      {
        "duration": 33,
        "start_time": "2022-09-14T19:11:29.534Z"
      },
      {
        "duration": 35,
        "start_time": "2022-09-14T19:11:29.781Z"
      },
      {
        "duration": 6,
        "start_time": "2022-09-14T19:11:30.005Z"
      },
      {
        "duration": 7,
        "start_time": "2022-09-14T19:11:30.533Z"
      },
      {
        "duration": 67,
        "start_time": "2022-09-14T19:11:31.103Z"
      },
      {
        "duration": 9,
        "start_time": "2022-09-14T19:11:31.367Z"
      },
      {
        "duration": 50,
        "start_time": "2022-09-14T19:11:31.874Z"
      },
      {
        "duration": 2,
        "start_time": "2022-09-14T19:11:32.168Z"
      },
      {
        "duration": 74,
        "start_time": "2022-09-14T19:11:32.446Z"
      },
      {
        "duration": 77,
        "start_time": "2022-09-14T19:11:32.719Z"
      },
      {
        "duration": 76,
        "start_time": "2022-09-14T19:11:32.943Z"
      },
      {
        "duration": 75,
        "start_time": "2022-09-14T19:11:33.238Z"
      },
      {
        "duration": 2709,
        "start_time": "2022-09-14T19:11:34.368Z"
      },
      {
        "duration": 89,
        "start_time": "2022-09-14T19:11:37.080Z"
      },
      {
        "duration": 109,
        "start_time": "2022-09-14T19:11:37.171Z"
      },
      {
        "duration": 76,
        "start_time": "2022-09-14T19:11:55.908Z"
      },
      {
        "duration": 99,
        "start_time": "2022-09-14T19:11:56.657Z"
      },
      {
        "duration": 76,
        "start_time": "2022-09-14T19:12:54.337Z"
      },
      {
        "duration": 95,
        "start_time": "2022-09-14T19:12:54.933Z"
      },
      {
        "duration": 22,
        "start_time": "2022-09-14T19:12:56.047Z"
      },
      {
        "duration": 9,
        "start_time": "2022-09-14T19:12:59.504Z"
      },
      {
        "duration": 76,
        "start_time": "2022-09-14T19:13:00.433Z"
      },
      {
        "duration": 96,
        "start_time": "2022-09-14T19:13:04.269Z"
      },
      {
        "duration": 65,
        "start_time": "2022-09-14T19:13:06.420Z"
      },
      {
        "duration": 106,
        "start_time": "2022-09-14T19:13:07.382Z"
      },
      {
        "duration": 84,
        "start_time": "2022-09-14T19:13:16.024Z"
      },
      {
        "duration": 99,
        "start_time": "2022-09-14T19:13:16.974Z"
      },
      {
        "duration": 64,
        "start_time": "2022-09-14T19:13:49.334Z"
      },
      {
        "duration": 103,
        "start_time": "2022-09-14T19:14:18.502Z"
      },
      {
        "duration": 61,
        "start_time": "2022-09-14T19:15:03.066Z"
      },
      {
        "duration": 121,
        "start_time": "2022-09-14T19:16:39.381Z"
      },
      {
        "duration": 82,
        "start_time": "2022-09-14T19:17:09.373Z"
      },
      {
        "duration": 7,
        "start_time": "2022-09-14T19:18:01.355Z"
      },
      {
        "duration": 4,
        "start_time": "2022-09-14T19:18:05.292Z"
      },
      {
        "duration": 638,
        "start_time": "2022-09-15T06:06:00.635Z"
      },
      {
        "duration": 2964,
        "start_time": "2022-09-15T06:06:01.276Z"
      },
      {
        "duration": 63,
        "start_time": "2022-09-15T06:06:04.242Z"
      },
      {
        "duration": 103,
        "start_time": "2022-09-15T06:06:04.307Z"
      },
      {
        "duration": 8,
        "start_time": "2022-09-15T06:06:04.413Z"
      },
      {
        "duration": 26,
        "start_time": "2022-09-15T06:06:04.424Z"
      },
      {
        "duration": 10,
        "start_time": "2022-09-15T06:06:04.452Z"
      },
      {
        "duration": 15,
        "start_time": "2022-09-15T06:06:04.463Z"
      },
      {
        "duration": 51,
        "start_time": "2022-09-15T06:06:04.480Z"
      },
      {
        "duration": 11,
        "start_time": "2022-09-15T06:06:04.534Z"
      },
      {
        "duration": 30,
        "start_time": "2022-09-15T06:06:04.547Z"
      },
      {
        "duration": 14,
        "start_time": "2022-09-15T06:06:04.600Z"
      },
      {
        "duration": 57,
        "start_time": "2022-09-15T06:06:04.636Z"
      },
      {
        "duration": 40,
        "start_time": "2022-09-15T06:06:05.549Z"
      },
      {
        "duration": 7,
        "start_time": "2022-09-15T06:06:06.343Z"
      },
      {
        "duration": 8,
        "start_time": "2022-09-15T06:06:08.054Z"
      },
      {
        "duration": 105,
        "start_time": "2022-09-15T06:06:08.892Z"
      },
      {
        "duration": 15,
        "start_time": "2022-09-15T06:06:17.320Z"
      },
      {
        "duration": 88,
        "start_time": "2022-09-15T06:06:19.350Z"
      },
      {
        "duration": 9,
        "start_time": "2022-09-15T06:06:20.400Z"
      },
      {
        "duration": 117,
        "start_time": "2022-09-15T06:06:21.223Z"
      },
      {
        "duration": 185,
        "start_time": "2022-09-15T06:06:22.036Z"
      },
      {
        "duration": 126,
        "start_time": "2022-09-15T06:06:24.493Z"
      },
      {
        "duration": 101,
        "start_time": "2022-09-15T06:06:25.936Z"
      },
      {
        "duration": 154,
        "start_time": "2022-09-15T06:06:27.156Z"
      },
      {
        "duration": 115,
        "start_time": "2022-09-15T06:06:31.048Z"
      },
      {
        "duration": 126,
        "start_time": "2022-09-15T06:06:33.838Z"
      },
      {
        "duration": 173,
        "start_time": "2022-09-15T06:06:37.092Z"
      },
      {
        "duration": 133,
        "start_time": "2022-09-15T06:06:37.703Z"
      },
      {
        "duration": 128,
        "start_time": "2022-09-15T06:06:41.492Z"
      },
      {
        "duration": 113,
        "start_time": "2022-09-15T06:06:42.210Z"
      },
      {
        "duration": 97,
        "start_time": "2022-09-15T06:06:42.829Z"
      },
      {
        "duration": 122,
        "start_time": "2022-09-15T06:06:43.034Z"
      },
      {
        "duration": 10,
        "start_time": "2022-09-15T06:06:43.438Z"
      },
      {
        "duration": 161,
        "start_time": "2022-09-15T06:06:43.642Z"
      },
      {
        "duration": 136,
        "start_time": "2022-09-15T06:06:43.805Z"
      },
      {
        "duration": 96,
        "start_time": "2022-09-15T06:06:43.953Z"
      },
      {
        "duration": 136,
        "start_time": "2022-09-15T06:06:44.484Z"
      },
      {
        "duration": 79,
        "start_time": "2022-09-15T06:06:44.701Z"
      },
      {
        "duration": 130,
        "start_time": "2022-09-15T06:06:45.177Z"
      },
      {
        "duration": 79,
        "start_time": "2022-09-15T06:06:45.404Z"
      },
      {
        "duration": 129,
        "start_time": "2022-09-15T06:06:45.653Z"
      },
      {
        "duration": 80,
        "start_time": "2022-09-15T06:06:45.863Z"
      },
      {
        "duration": 159,
        "start_time": "2022-09-15T06:06:46.356Z"
      },
      {
        "duration": 205,
        "start_time": "2022-09-15T06:06:47.156Z"
      },
      {
        "duration": 74,
        "start_time": "2022-09-15T06:14:28.136Z"
      },
      {
        "duration": 8,
        "start_time": "2022-09-15T06:14:45.640Z"
      },
      {
        "duration": 16,
        "start_time": "2022-09-15T06:24:24.101Z"
      },
      {
        "duration": 13,
        "start_time": "2022-09-15T06:26:52.991Z"
      },
      {
        "duration": 32,
        "start_time": "2022-09-15T06:27:01.694Z"
      },
      {
        "duration": 8,
        "start_time": "2022-09-15T06:27:47.161Z"
      },
      {
        "duration": 666,
        "start_time": "2022-09-15T06:28:05.490Z"
      },
      {
        "duration": 576,
        "start_time": "2022-09-15T06:28:25.355Z"
      },
      {
        "duration": 12,
        "start_time": "2022-09-15T06:28:51.256Z"
      },
      {
        "duration": 4,
        "start_time": "2022-09-15T06:35:09.631Z"
      },
      {
        "duration": 100,
        "start_time": "2022-09-15T06:36:22.337Z"
      },
      {
        "duration": 81,
        "start_time": "2022-09-15T06:36:32.986Z"
      },
      {
        "duration": 9,
        "start_time": "2022-09-15T06:36:42.715Z"
      },
      {
        "duration": 25,
        "start_time": "2022-09-15T06:36:52.853Z"
      },
      {
        "duration": 10,
        "start_time": "2022-09-15T06:39:38.331Z"
      },
      {
        "duration": 11,
        "start_time": "2022-09-15T06:39:48.775Z"
      },
      {
        "duration": 11,
        "start_time": "2022-09-15T06:39:59.117Z"
      },
      {
        "duration": 76,
        "start_time": "2022-09-15T06:40:54.721Z"
      },
      {
        "duration": 176,
        "start_time": "2022-09-15T06:42:37.123Z"
      },
      {
        "duration": 95,
        "start_time": "2022-09-15T06:42:45.007Z"
      },
      {
        "duration": 2128,
        "start_time": "2022-09-15T06:42:45.109Z"
      },
      {
        "duration": 73,
        "start_time": "2022-09-15T06:42:47.240Z"
      },
      {
        "duration": 218,
        "start_time": "2022-09-15T06:42:47.316Z"
      },
      {
        "duration": 5,
        "start_time": "2022-09-15T06:42:47.536Z"
      },
      {
        "duration": 17,
        "start_time": "2022-09-15T06:42:47.543Z"
      },
      {
        "duration": 34,
        "start_time": "2022-09-15T06:42:47.562Z"
      },
      {
        "duration": 16,
        "start_time": "2022-09-15T06:42:47.598Z"
      },
      {
        "duration": 27,
        "start_time": "2022-09-15T06:42:47.874Z"
      },
      {
        "duration": 12,
        "start_time": "2022-09-15T06:42:48.080Z"
      },
      {
        "duration": 34,
        "start_time": "2022-09-15T06:42:48.489Z"
      },
      {
        "duration": 8,
        "start_time": "2022-09-15T06:42:48.673Z"
      },
      {
        "duration": 54,
        "start_time": "2022-09-15T06:42:49.300Z"
      },
      {
        "duration": 69,
        "start_time": "2022-09-15T06:42:49.357Z"
      },
      {
        "duration": 8,
        "start_time": "2022-09-15T06:42:49.520Z"
      },
      {
        "duration": 10,
        "start_time": "2022-09-15T06:42:49.712Z"
      },
      {
        "duration": 108,
        "start_time": "2022-09-15T06:42:49.946Z"
      },
      {
        "duration": 13,
        "start_time": "2022-09-15T06:42:50.161Z"
      },
      {
        "duration": 67,
        "start_time": "2022-09-15T06:42:50.623Z"
      },
      {
        "duration": 3,
        "start_time": "2022-09-15T06:42:50.835Z"
      },
      {
        "duration": 109,
        "start_time": "2022-09-15T06:42:51.027Z"
      },
      {
        "duration": 106,
        "start_time": "2022-09-15T06:42:51.228Z"
      },
      {
        "duration": 100,
        "start_time": "2022-09-15T06:42:51.446Z"
      },
      {
        "duration": 89,
        "start_time": "2022-09-15T06:42:51.646Z"
      },
      {
        "duration": 265,
        "start_time": "2022-09-15T06:42:51.873Z"
      },
      {
        "duration": 116,
        "start_time": "2022-09-15T06:42:52.140Z"
      },
      {
        "duration": 124,
        "start_time": "2022-09-15T06:42:52.272Z"
      },
      {
        "duration": 124,
        "start_time": "2022-09-15T06:42:52.784Z"
      },
      {
        "duration": 129,
        "start_time": "2022-09-15T06:42:52.983Z"
      },
      {
        "duration": 94,
        "start_time": "2022-09-15T06:42:53.204Z"
      },
      {
        "duration": 229,
        "start_time": "2022-09-15T06:42:53.419Z"
      },
      {
        "duration": 102,
        "start_time": "2022-09-15T06:42:53.650Z"
      },
      {
        "duration": 140,
        "start_time": "2022-09-15T06:42:53.867Z"
      },
      {
        "duration": 14,
        "start_time": "2022-09-15T06:42:54.086Z"
      },
      {
        "duration": 86,
        "start_time": "2022-09-15T06:42:54.308Z"
      },
      {
        "duration": 113,
        "start_time": "2022-09-15T06:42:54.526Z"
      },
      {
        "duration": 77,
        "start_time": "2022-09-15T06:42:54.737Z"
      },
      {
        "duration": 157,
        "start_time": "2022-09-15T06:42:55.238Z"
      },
      {
        "duration": 83,
        "start_time": "2022-09-15T06:42:55.438Z"
      },
      {
        "duration": 122,
        "start_time": "2022-09-15T06:42:55.643Z"
      },
      {
        "duration": 77,
        "start_time": "2022-09-15T06:42:55.849Z"
      },
      {
        "duration": 142,
        "start_time": "2022-09-15T06:42:56.042Z"
      },
      {
        "duration": 121,
        "start_time": "2022-09-15T06:42:56.232Z"
      },
      {
        "duration": 182,
        "start_time": "2022-09-15T06:42:56.426Z"
      },
      {
        "duration": 301,
        "start_time": "2022-09-15T06:42:56.647Z"
      },
      {
        "duration": 15,
        "start_time": "2022-09-15T06:42:57.286Z"
      },
      {
        "duration": 16,
        "start_time": "2022-09-15T06:42:57.571Z"
      },
      {
        "duration": 39,
        "start_time": "2022-09-15T06:42:57.800Z"
      },
      {
        "duration": 132,
        "start_time": "2022-09-15T06:42:58.014Z"
      },
      {
        "duration": 3,
        "start_time": "2022-09-15T06:44:16.347Z"
      },
      {
        "duration": 83,
        "start_time": "2022-09-15T06:44:23.619Z"
      },
      {
        "duration": 9,
        "start_time": "2022-09-15T06:45:02.531Z"
      },
      {
        "duration": 387,
        "start_time": "2022-09-15T06:45:16.558Z"
      },
      {
        "duration": 491,
        "start_time": "2022-09-15T06:45:23.012Z"
      },
      {
        "duration": 340,
        "start_time": "2022-09-15T06:46:13.802Z"
      },
      {
        "duration": 338,
        "start_time": "2022-09-15T06:46:28.854Z"
      },
      {
        "duration": 356,
        "start_time": "2022-09-15T06:46:43.292Z"
      },
      {
        "duration": 386,
        "start_time": "2022-09-15T06:47:10.225Z"
      },
      {
        "duration": 444,
        "start_time": "2022-09-15T06:47:24.151Z"
      },
      {
        "duration": 390,
        "start_time": "2022-09-15T06:47:26.711Z"
      },
      {
        "duration": 66,
        "start_time": "2022-09-15T06:49:48.125Z"
      },
      {
        "duration": 6,
        "start_time": "2022-09-15T06:50:58.475Z"
      },
      {
        "duration": 11,
        "start_time": "2022-09-15T06:52:31.556Z"
      },
      {
        "duration": 5,
        "start_time": "2022-09-15T06:52:59.000Z"
      },
      {
        "duration": 7,
        "start_time": "2022-09-15T06:53:18.147Z"
      },
      {
        "duration": 5,
        "start_time": "2022-09-15T06:53:39.856Z"
      },
      {
        "duration": 8,
        "start_time": "2022-09-15T06:54:28.498Z"
      },
      {
        "duration": 653,
        "start_time": "2022-09-15T15:07:14.042Z"
      },
      {
        "duration": 2094,
        "start_time": "2022-09-15T15:07:14.697Z"
      },
      {
        "duration": 44,
        "start_time": "2022-09-15T15:07:16.792Z"
      },
      {
        "duration": 70,
        "start_time": "2022-09-15T15:07:16.838Z"
      },
      {
        "duration": 6,
        "start_time": "2022-09-15T15:07:16.909Z"
      },
      {
        "duration": 28,
        "start_time": "2022-09-15T15:07:16.916Z"
      },
      {
        "duration": 8,
        "start_time": "2022-09-15T15:07:16.946Z"
      },
      {
        "duration": 13,
        "start_time": "2022-09-15T15:07:16.955Z"
      },
      {
        "duration": 38,
        "start_time": "2022-09-15T15:07:16.970Z"
      },
      {
        "duration": 8,
        "start_time": "2022-09-15T15:07:17.011Z"
      },
      {
        "duration": 24,
        "start_time": "2022-09-15T15:07:17.318Z"
      },
      {
        "duration": 6,
        "start_time": "2022-09-15T15:07:17.491Z"
      },
      {
        "duration": 40,
        "start_time": "2022-09-15T15:07:17.882Z"
      },
      {
        "duration": 35,
        "start_time": "2022-09-15T15:07:18.055Z"
      },
      {
        "duration": 6,
        "start_time": "2022-09-15T15:07:18.255Z"
      },
      {
        "duration": 6,
        "start_time": "2022-09-15T15:07:18.455Z"
      },
      {
        "duration": 63,
        "start_time": "2022-09-15T15:07:18.664Z"
      },
      {
        "duration": 8,
        "start_time": "2022-09-15T15:07:18.848Z"
      },
      {
        "duration": 62,
        "start_time": "2022-09-15T15:07:19.228Z"
      },
      {
        "duration": 2,
        "start_time": "2022-09-15T15:07:19.435Z"
      },
      {
        "duration": 91,
        "start_time": "2022-09-15T15:07:19.644Z"
      },
      {
        "duration": 152,
        "start_time": "2022-09-15T15:07:19.838Z"
      },
      {
        "duration": 92,
        "start_time": "2022-09-15T15:07:20.035Z"
      },
      {
        "duration": 87,
        "start_time": "2022-09-15T15:07:20.259Z"
      },
      {
        "duration": 115,
        "start_time": "2022-09-15T15:07:20.482Z"
      },
      {
        "duration": 87,
        "start_time": "2022-09-15T15:07:20.682Z"
      },
      {
        "duration": 101,
        "start_time": "2022-09-15T15:07:20.868Z"
      },
      {
        "duration": 160,
        "start_time": "2022-09-15T15:07:21.090Z"
      },
      {
        "duration": 118,
        "start_time": "2022-09-15T15:07:21.342Z"
      },
      {
        "duration": 95,
        "start_time": "2022-09-15T15:07:21.553Z"
      },
      {
        "duration": 103,
        "start_time": "2022-09-15T15:07:22.401Z"
      },
      {
        "duration": 80,
        "start_time": "2022-09-15T15:07:22.893Z"
      },
      {
        "duration": 104,
        "start_time": "2022-09-15T15:07:23.113Z"
      },
      {
        "duration": 10,
        "start_time": "2022-09-15T15:07:23.826Z"
      },
      {
        "duration": 177,
        "start_time": "2022-09-15T15:07:24.406Z"
      },
      {
        "duration": 107,
        "start_time": "2022-09-15T15:07:24.942Z"
      },
      {
        "duration": 87,
        "start_time": "2022-09-15T15:07:25.141Z"
      },
      {
        "duration": 104,
        "start_time": "2022-09-15T15:07:25.334Z"
      },
      {
        "duration": 65,
        "start_time": "2022-09-15T15:07:25.616Z"
      },
      {
        "duration": 99,
        "start_time": "2022-09-15T15:07:26.023Z"
      },
      {
        "duration": 70,
        "start_time": "2022-09-15T15:07:26.126Z"
      },
      {
        "duration": 125,
        "start_time": "2022-09-15T15:07:26.342Z"
      },
      {
        "duration": 67,
        "start_time": "2022-09-15T15:07:26.534Z"
      },
      {
        "duration": 112,
        "start_time": "2022-09-15T15:07:26.740Z"
      },
      {
        "duration": 164,
        "start_time": "2022-09-15T15:07:26.943Z"
      },
      {
        "duration": 11,
        "start_time": "2022-09-15T15:07:27.352Z"
      },
      {
        "duration": 11,
        "start_time": "2022-09-15T15:07:27.544Z"
      },
      {
        "duration": 305,
        "start_time": "2022-09-15T15:07:27.745Z"
      },
      {
        "duration": 7,
        "start_time": "2022-09-15T15:07:28.052Z"
      },
      {
        "duration": 43,
        "start_time": "2022-09-15T15:07:28.139Z"
      },
      {
        "duration": 53,
        "start_time": "2022-09-15T15:07:44.454Z"
      },
      {
        "duration": 54,
        "start_time": "2022-09-16T09:56:12.798Z"
      },
      {
        "duration": 729,
        "start_time": "2022-09-16T09:56:22.115Z"
      },
      {
        "duration": 2219,
        "start_time": "2022-09-16T09:56:22.846Z"
      },
      {
        "duration": 51,
        "start_time": "2022-09-16T09:56:25.067Z"
      },
      {
        "duration": 76,
        "start_time": "2022-09-16T09:56:25.120Z"
      },
      {
        "duration": 5,
        "start_time": "2022-09-16T09:56:25.198Z"
      },
      {
        "duration": 31,
        "start_time": "2022-09-16T09:56:25.205Z"
      },
      {
        "duration": 9,
        "start_time": "2022-09-16T09:56:25.237Z"
      },
      {
        "duration": 14,
        "start_time": "2022-09-16T09:56:25.247Z"
      },
      {
        "duration": 25,
        "start_time": "2022-09-16T09:56:25.262Z"
      },
      {
        "duration": 8,
        "start_time": "2022-09-16T09:56:25.289Z"
      },
      {
        "duration": 23,
        "start_time": "2022-09-16T09:56:25.394Z"
      },
      {
        "duration": 5,
        "start_time": "2022-09-16T09:56:25.597Z"
      },
      {
        "duration": 46,
        "start_time": "2022-09-16T09:56:26.008Z"
      },
      {
        "duration": 44,
        "start_time": "2022-09-16T09:56:26.209Z"
      },
      {
        "duration": 5,
        "start_time": "2022-09-16T09:56:26.373Z"
      },
      {
        "duration": 7,
        "start_time": "2022-09-16T09:56:26.577Z"
      },
      {
        "duration": 77,
        "start_time": "2022-09-16T09:56:26.806Z"
      },
      {
        "duration": 9,
        "start_time": "2022-09-16T09:56:27.011Z"
      },
      {
        "duration": 65,
        "start_time": "2022-09-16T09:56:27.415Z"
      },
      {
        "duration": 8,
        "start_time": "2022-09-16T09:56:27.621Z"
      },
      {
        "duration": 94,
        "start_time": "2022-09-16T09:56:27.841Z"
      },
      {
        "duration": 149,
        "start_time": "2022-09-16T09:56:28.041Z"
      },
      {
        "duration": 105,
        "start_time": "2022-09-16T09:56:28.259Z"
      },
      {
        "duration": 75,
        "start_time": "2022-09-16T09:56:28.444Z"
      },
      {
        "duration": 114,
        "start_time": "2022-09-16T09:56:28.642Z"
      },
      {
        "duration": 119,
        "start_time": "2022-09-16T09:56:28.870Z"
      },
      {
        "duration": 117,
        "start_time": "2022-09-16T09:56:29.063Z"
      },
      {
        "duration": 153,
        "start_time": "2022-09-16T09:56:29.274Z"
      },
      {
        "duration": 121,
        "start_time": "2022-09-16T09:56:29.481Z"
      },
      {
        "duration": 97,
        "start_time": "2022-09-16T09:56:29.678Z"
      },
      {
        "duration": 103,
        "start_time": "2022-09-16T09:56:29.877Z"
      },
      {
        "duration": 83,
        "start_time": "2022-09-16T09:56:30.120Z"
      },
      {
        "duration": 120,
        "start_time": "2022-09-16T09:56:30.311Z"
      },
      {
        "duration": 8,
        "start_time": "2022-09-16T09:56:30.502Z"
      },
      {
        "duration": 155,
        "start_time": "2022-09-16T09:56:30.706Z"
      },
      {
        "duration": 117,
        "start_time": "2022-09-16T09:56:30.934Z"
      },
      {
        "duration": 68,
        "start_time": "2022-09-16T09:56:31.141Z"
      },
      {
        "duration": 110,
        "start_time": "2022-09-16T09:56:31.345Z"
      },
      {
        "duration": 64,
        "start_time": "2022-09-16T09:56:31.551Z"
      },
      {
        "duration": 115,
        "start_time": "2022-09-16T09:56:31.758Z"
      },
      {
        "duration": 84,
        "start_time": "2022-09-16T09:56:31.978Z"
      },
      {
        "duration": 112,
        "start_time": "2022-09-16T09:56:32.206Z"
      },
      {
        "duration": 74,
        "start_time": "2022-09-16T09:56:32.396Z"
      },
      {
        "duration": 120,
        "start_time": "2022-09-16T09:56:32.596Z"
      },
      {
        "duration": 173,
        "start_time": "2022-09-16T09:56:32.780Z"
      },
      {
        "duration": 11,
        "start_time": "2022-09-16T09:56:33.373Z"
      },
      {
        "duration": 11,
        "start_time": "2022-09-16T09:56:33.588Z"
      },
      {
        "duration": 325,
        "start_time": "2022-09-16T09:56:33.793Z"
      },
      {
        "duration": 17,
        "start_time": "2022-09-16T09:56:34.120Z"
      },
      {
        "duration": 40,
        "start_time": "2022-09-16T09:56:34.235Z"
      },
      {
        "duration": 6,
        "start_time": "2022-09-16T09:56:34.481Z"
      },
      {
        "duration": 36,
        "start_time": "2022-09-16T09:56:45.157Z"
      },
      {
        "duration": 9,
        "start_time": "2022-09-16T09:56:50.072Z"
      },
      {
        "duration": 6,
        "start_time": "2022-09-16T09:57:30.839Z"
      },
      {
        "duration": 978,
        "start_time": "2022-09-16T10:05:01.286Z"
      },
      {
        "duration": 0,
        "start_time": "2022-09-16T10:06:09.648Z"
      },
      {
        "duration": 436,
        "start_time": "2022-09-16T10:06:15.863Z"
      },
      {
        "duration": 619,
        "start_time": "2022-09-16T10:06:25.972Z"
      },
      {
        "duration": 1922,
        "start_time": "2022-09-16T10:07:17.338Z"
      },
      {
        "duration": 3,
        "start_time": "2022-09-16T10:07:42.567Z"
      },
      {
        "duration": 65420,
        "start_time": "2022-09-16T10:08:53.071Z"
      },
      {
        "duration": 5,
        "start_time": "2022-09-16T10:09:58.493Z"
      },
      {
        "duration": 321,
        "start_time": "2022-09-16T10:12:23.349Z"
      },
      {
        "duration": 154,
        "start_time": "2022-09-16T10:12:25.295Z"
      },
      {
        "duration": 8,
        "start_time": "2022-09-16T10:12:25.499Z"
      },
      {
        "duration": 323,
        "start_time": "2022-09-16T10:12:35.238Z"
      },
      {
        "duration": 7,
        "start_time": "2022-09-16T10:17:04.027Z"
      },
      {
        "duration": 111,
        "start_time": "2022-09-16T10:17:10.172Z"
      },
      {
        "duration": 221,
        "start_time": "2022-09-16T10:17:54.933Z"
      },
      {
        "duration": 139,
        "start_time": "2022-09-16T10:18:07.003Z"
      },
      {
        "duration": 137,
        "start_time": "2022-09-16T10:20:05.174Z"
      },
      {
        "duration": 126,
        "start_time": "2022-09-16T10:20:17.873Z"
      },
      {
        "duration": 127,
        "start_time": "2022-09-16T10:20:30.261Z"
      },
      {
        "duration": 131,
        "start_time": "2022-09-16T10:24:27.734Z"
      },
      {
        "duration": 8,
        "start_time": "2022-09-16T10:30:34.640Z"
      },
      {
        "duration": 8,
        "start_time": "2022-09-16T10:30:51.133Z"
      },
      {
        "duration": 9,
        "start_time": "2022-09-16T10:31:04.634Z"
      },
      {
        "duration": 136,
        "start_time": "2022-09-16T10:32:05.254Z"
      },
      {
        "duration": 134,
        "start_time": "2022-09-16T10:32:40.482Z"
      },
      {
        "duration": 850,
        "start_time": "2022-09-16T10:37:28.437Z"
      },
      {
        "duration": 228,
        "start_time": "2022-09-16T10:41:50.575Z"
      },
      {
        "duration": 144,
        "start_time": "2022-09-16T10:41:59.688Z"
      },
      {
        "duration": 110,
        "start_time": "2022-09-16T10:43:07.892Z"
      },
      {
        "duration": 106,
        "start_time": "2022-09-16T10:43:34.934Z"
      },
      {
        "duration": 114,
        "start_time": "2022-09-16T10:44:49.569Z"
      },
      {
        "duration": 141,
        "start_time": "2022-09-16T10:44:56.738Z"
      },
      {
        "duration": 129,
        "start_time": "2022-09-16T10:45:11.688Z"
      },
      {
        "duration": 196,
        "start_time": "2022-09-16T10:45:44.661Z"
      },
      {
        "duration": 149,
        "start_time": "2022-09-16T10:45:50.600Z"
      },
      {
        "duration": 142,
        "start_time": "2022-09-16T10:46:29.819Z"
      },
      {
        "duration": 131,
        "start_time": "2022-09-16T10:46:37.089Z"
      },
      {
        "duration": 153,
        "start_time": "2022-09-16T11:01:37.394Z"
      },
      {
        "duration": 153,
        "start_time": "2022-09-16T11:01:47.437Z"
      },
      {
        "duration": 66,
        "start_time": "2022-09-16T11:13:09.314Z"
      },
      {
        "duration": 54,
        "start_time": "2022-09-16T11:13:49.455Z"
      },
      {
        "duration": 118,
        "start_time": "2022-09-16T11:15:02.774Z"
      },
      {
        "duration": 115,
        "start_time": "2022-09-16T11:15:07.688Z"
      },
      {
        "duration": 147,
        "start_time": "2022-09-16T11:15:44.041Z"
      },
      {
        "duration": 120,
        "start_time": "2022-09-16T11:17:05.141Z"
      },
      {
        "duration": 7,
        "start_time": "2022-09-16T11:17:18.254Z"
      },
      {
        "duration": 87,
        "start_time": "2022-09-16T11:18:44.371Z"
      },
      {
        "duration": 1898,
        "start_time": "2022-09-16T11:18:44.576Z"
      },
      {
        "duration": 37,
        "start_time": "2022-09-16T11:18:46.476Z"
      },
      {
        "duration": 73,
        "start_time": "2022-09-16T11:18:46.522Z"
      },
      {
        "duration": 6,
        "start_time": "2022-09-16T11:18:46.597Z"
      },
      {
        "duration": 28,
        "start_time": "2022-09-16T11:18:46.604Z"
      },
      {
        "duration": 18,
        "start_time": "2022-09-16T11:18:46.633Z"
      },
      {
        "duration": 15,
        "start_time": "2022-09-16T11:18:48.733Z"
      },
      {
        "duration": 20,
        "start_time": "2022-09-16T11:18:50.310Z"
      },
      {
        "duration": 8,
        "start_time": "2022-09-16T11:18:51.743Z"
      },
      {
        "duration": 26,
        "start_time": "2022-09-16T11:18:53.279Z"
      },
      {
        "duration": 6,
        "start_time": "2022-09-16T11:18:54.816Z"
      },
      {
        "duration": 44,
        "start_time": "2022-09-16T11:19:02.292Z"
      },
      {
        "duration": 46,
        "start_time": "2022-09-16T11:19:03.622Z"
      },
      {
        "duration": 6,
        "start_time": "2022-09-16T11:19:04.725Z"
      },
      {
        "duration": 7,
        "start_time": "2022-09-16T11:19:05.816Z"
      },
      {
        "duration": 79,
        "start_time": "2022-09-16T11:19:06.815Z"
      },
      {
        "duration": 8,
        "start_time": "2022-09-16T11:19:07.772Z"
      },
      {
        "duration": 61,
        "start_time": "2022-09-16T11:19:50.010Z"
      },
      {
        "duration": 3,
        "start_time": "2022-09-16T11:19:50.933Z"
      },
      {
        "duration": 8,
        "start_time": "2022-09-16T11:20:23.188Z"
      },
      {
        "duration": 11,
        "start_time": "2022-09-16T11:23:47.271Z"
      },
      {
        "duration": 8,
        "start_time": "2022-09-16T11:23:52.501Z"
      },
      {
        "duration": 5,
        "start_time": "2022-09-16T11:24:10.933Z"
      },
      {
        "duration": 10,
        "start_time": "2022-09-16T11:25:39.399Z"
      },
      {
        "duration": 8,
        "start_time": "2022-09-16T11:25:47.182Z"
      },
      {
        "duration": 6,
        "start_time": "2022-09-16T11:26:09.402Z"
      },
      {
        "duration": 6,
        "start_time": "2022-09-16T11:26:46.268Z"
      },
      {
        "duration": 8,
        "start_time": "2022-09-16T11:26:54.050Z"
      },
      {
        "duration": 8,
        "start_time": "2022-09-16T11:27:11.560Z"
      },
      {
        "duration": 9,
        "start_time": "2022-09-16T11:27:30.402Z"
      },
      {
        "duration": 9,
        "start_time": "2022-09-16T11:27:42.690Z"
      },
      {
        "duration": 2,
        "start_time": "2022-09-16T11:28:02.568Z"
      },
      {
        "duration": 20,
        "start_time": "2022-09-16T11:28:56.520Z"
      },
      {
        "duration": 6,
        "start_time": "2022-09-16T11:31:13.840Z"
      },
      {
        "duration": 136,
        "start_time": "2022-09-16T11:34:12.220Z"
      },
      {
        "duration": 145,
        "start_time": "2022-09-16T11:35:09.053Z"
      },
      {
        "duration": 91,
        "start_time": "2022-09-16T11:36:02.915Z"
      },
      {
        "duration": 12,
        "start_time": "2022-09-16T11:36:57.289Z"
      },
      {
        "duration": 80,
        "start_time": "2022-09-16T11:37:18.179Z"
      },
      {
        "duration": 165,
        "start_time": "2022-09-16T11:37:24.835Z"
      },
      {
        "duration": 80,
        "start_time": "2022-09-16T11:39:35.907Z"
      },
      {
        "duration": 1718,
        "start_time": "2022-09-16T11:39:36.111Z"
      },
      {
        "duration": 40,
        "start_time": "2022-09-16T11:39:37.831Z"
      },
      {
        "duration": 82,
        "start_time": "2022-09-16T11:39:37.872Z"
      },
      {
        "duration": 5,
        "start_time": "2022-09-16T11:39:37.956Z"
      },
      {
        "duration": 17,
        "start_time": "2022-09-16T11:39:37.962Z"
      },
      {
        "duration": 8,
        "start_time": "2022-09-16T11:39:37.981Z"
      },
      {
        "duration": 14,
        "start_time": "2022-09-16T11:39:38.365Z"
      },
      {
        "duration": 20,
        "start_time": "2022-09-16T11:39:39.185Z"
      },
      {
        "duration": 9,
        "start_time": "2022-09-16T11:39:39.389Z"
      },
      {
        "duration": 26,
        "start_time": "2022-09-16T11:39:39.690Z"
      },
      {
        "duration": 6,
        "start_time": "2022-09-16T11:39:39.888Z"
      },
      {
        "duration": 40,
        "start_time": "2022-09-16T11:39:40.368Z"
      },
      {
        "duration": 43,
        "start_time": "2022-09-16T11:39:40.591Z"
      },
      {
        "duration": 6,
        "start_time": "2022-09-16T11:39:41.333Z"
      },
      {
        "duration": 8,
        "start_time": "2022-09-16T11:39:41.933Z"
      },
      {
        "duration": 66,
        "start_time": "2022-09-16T11:39:42.152Z"
      },
      {
        "duration": 15,
        "start_time": "2022-09-16T11:39:42.736Z"
      },
      {
        "duration": 3,
        "start_time": "2022-09-16T11:39:44.851Z"
      },
      {
        "duration": 13,
        "start_time": "2022-09-16T11:39:45.943Z"
      },
      {
        "duration": 10,
        "start_time": "2022-09-16T11:39:49.219Z"
      },
      {
        "duration": 9,
        "start_time": "2022-09-16T11:41:56.093Z"
      },
      {
        "duration": 11,
        "start_time": "2022-09-16T11:42:07.049Z"
      },
      {
        "duration": 59,
        "start_time": "2022-09-16T11:43:26.103Z"
      },
      {
        "duration": 8,
        "start_time": "2022-09-16T11:45:02.055Z"
      },
      {
        "duration": 117,
        "start_time": "2022-09-16T11:47:31.046Z"
      },
      {
        "duration": 241,
        "start_time": "2022-09-16T11:48:35.968Z"
      },
      {
        "duration": 8,
        "start_time": "2022-09-16T11:49:14.880Z"
      },
      {
        "duration": 8,
        "start_time": "2022-09-16T11:54:29.556Z"
      },
      {
        "duration": 77,
        "start_time": "2022-09-16T11:56:33.870Z"
      },
      {
        "duration": 8,
        "start_time": "2022-09-16T11:57:32.032Z"
      },
      {
        "duration": 84,
        "start_time": "2022-09-16T11:58:57.742Z"
      },
      {
        "duration": 9,
        "start_time": "2022-09-16T11:59:24.264Z"
      },
      {
        "duration": 9,
        "start_time": "2022-09-16T11:59:58.159Z"
      },
      {
        "duration": 95,
        "start_time": "2022-09-16T12:02:59.713Z"
      },
      {
        "duration": 85,
        "start_time": "2022-09-16T12:04:48.260Z"
      },
      {
        "duration": 104,
        "start_time": "2022-09-16T12:05:34.953Z"
      },
      {
        "duration": 108,
        "start_time": "2022-09-16T12:05:55.229Z"
      },
      {
        "duration": 108,
        "start_time": "2022-09-16T12:06:05.469Z"
      },
      {
        "duration": 226,
        "start_time": "2022-09-16T12:07:26.467Z"
      },
      {
        "duration": 100,
        "start_time": "2022-09-16T12:07:46.230Z"
      },
      {
        "duration": 104,
        "start_time": "2022-09-16T12:10:23.518Z"
      },
      {
        "duration": 79,
        "start_time": "2022-09-16T12:15:41.173Z"
      },
      {
        "duration": 107,
        "start_time": "2022-09-16T12:16:42.552Z"
      },
      {
        "duration": 80,
        "start_time": "2022-09-16T12:19:04.475Z"
      },
      {
        "duration": 103,
        "start_time": "2022-09-16T12:19:24.934Z"
      },
      {
        "duration": 88,
        "start_time": "2022-09-16T12:21:57.346Z"
      },
      {
        "duration": 92,
        "start_time": "2022-09-16T12:22:13.817Z"
      },
      {
        "duration": 111,
        "start_time": "2022-09-16T12:22:41.266Z"
      },
      {
        "duration": 60,
        "start_time": "2022-09-16T12:25:10.220Z"
      },
      {
        "duration": 251,
        "start_time": "2022-09-16T12:25:49.275Z"
      },
      {
        "duration": 75,
        "start_time": "2022-09-16T12:27:34.464Z"
      },
      {
        "duration": 126,
        "start_time": "2022-09-16T12:27:58.778Z"
      },
      {
        "duration": 58,
        "start_time": "2022-09-16T12:29:15.708Z"
      },
      {
        "duration": 117,
        "start_time": "2022-09-16T12:29:37.179Z"
      },
      {
        "duration": 81,
        "start_time": "2022-09-16T12:31:08.373Z"
      },
      {
        "duration": 83,
        "start_time": "2022-09-16T12:32:16.310Z"
      },
      {
        "duration": 1694,
        "start_time": "2022-09-16T12:32:16.486Z"
      },
      {
        "duration": 53,
        "start_time": "2022-09-16T12:32:18.182Z"
      },
      {
        "duration": 233,
        "start_time": "2022-09-16T12:32:18.237Z"
      },
      {
        "duration": 5,
        "start_time": "2022-09-16T12:32:18.472Z"
      },
      {
        "duration": 15,
        "start_time": "2022-09-16T12:32:18.479Z"
      },
      {
        "duration": 32,
        "start_time": "2022-09-16T12:32:18.495Z"
      },
      {
        "duration": 17,
        "start_time": "2022-09-16T12:32:18.985Z"
      },
      {
        "duration": 19,
        "start_time": "2022-09-16T12:32:19.399Z"
      },
      {
        "duration": 9,
        "start_time": "2022-09-16T12:32:19.620Z"
      },
      {
        "duration": 23,
        "start_time": "2022-09-16T12:32:20.560Z"
      },
      {
        "duration": 6,
        "start_time": "2022-09-16T12:32:21.251Z"
      },
      {
        "duration": 37,
        "start_time": "2022-09-16T12:32:22.539Z"
      },
      {
        "duration": 33,
        "start_time": "2022-09-16T12:32:23.257Z"
      },
      {
        "duration": 5,
        "start_time": "2022-09-16T12:32:23.752Z"
      },
      {
        "duration": 6,
        "start_time": "2022-09-16T12:32:23.959Z"
      },
      {
        "duration": 70,
        "start_time": "2022-09-16T12:32:24.164Z"
      },
      {
        "duration": 8,
        "start_time": "2022-09-16T12:32:24.358Z"
      },
      {
        "duration": 3,
        "start_time": "2022-09-16T12:32:24.741Z"
      },
      {
        "duration": 13,
        "start_time": "2022-09-16T12:32:24.935Z"
      },
      {
        "duration": 10,
        "start_time": "2022-09-16T12:32:25.126Z"
      },
      {
        "duration": 123,
        "start_time": "2022-09-16T12:32:25.312Z"
      },
      {
        "duration": 56,
        "start_time": "2022-09-16T12:32:25.518Z"
      },
      {
        "duration": 9,
        "start_time": "2022-09-16T12:32:25.909Z"
      },
      {
        "duration": 105,
        "start_time": "2022-09-16T12:32:26.109Z"
      },
      {
        "duration": 88,
        "start_time": "2022-09-16T12:32:26.316Z"
      },
      {
        "duration": 9,
        "start_time": "2022-09-16T12:32:26.716Z"
      },
      {
        "duration": 91,
        "start_time": "2022-09-16T12:32:26.915Z"
      },
      {
        "duration": 9,
        "start_time": "2022-09-16T12:32:27.336Z"
      },
      {
        "duration": 82,
        "start_time": "2022-09-16T12:32:27.535Z"
      },
      {
        "duration": 9,
        "start_time": "2022-09-16T12:32:28.304Z"
      },
      {
        "duration": 121,
        "start_time": "2022-09-16T12:32:28.488Z"
      },
      {
        "duration": 82,
        "start_time": "2022-09-16T12:32:28.695Z"
      },
      {
        "duration": 100,
        "start_time": "2022-09-16T12:32:29.080Z"
      },
      {
        "duration": 90,
        "start_time": "2022-09-16T12:32:29.264Z"
      },
      {
        "duration": 261,
        "start_time": "2022-09-16T12:32:29.670Z"
      },
      {
        "duration": 98,
        "start_time": "2022-09-16T12:32:29.933Z"
      },
      {
        "duration": 110,
        "start_time": "2022-09-16T12:32:30.313Z"
      },
      {
        "duration": 84,
        "start_time": "2022-09-16T12:32:30.542Z"
      },
      {
        "duration": 102,
        "start_time": "2022-09-16T12:32:30.970Z"
      },
      {
        "duration": 94,
        "start_time": "2022-09-16T12:32:31.190Z"
      },
      {
        "duration": 118,
        "start_time": "2022-09-16T12:32:31.998Z"
      },
      {
        "duration": 76,
        "start_time": "2022-09-16T12:32:32.215Z"
      },
      {
        "duration": 106,
        "start_time": "2022-09-16T12:32:33.461Z"
      },
      {
        "duration": 89,
        "start_time": "2022-09-16T12:32:33.631Z"
      },
      {
        "duration": 114,
        "start_time": "2022-09-16T12:32:34.044Z"
      },
      {
        "duration": 66,
        "start_time": "2022-09-16T12:32:34.229Z"
      },
      {
        "duration": 288,
        "start_time": "2022-09-16T12:32:34.645Z"
      },
      {
        "duration": 64,
        "start_time": "2022-09-16T12:32:35.293Z"
      },
      {
        "duration": 113,
        "start_time": "2022-09-16T12:32:35.773Z"
      },
      {
        "duration": 57,
        "start_time": "2022-09-16T12:32:36.003Z"
      },
      {
        "duration": 112,
        "start_time": "2022-09-16T12:32:36.439Z"
      },
      {
        "duration": 96,
        "start_time": "2022-09-16T12:32:36.675Z"
      },
      {
        "duration": 15,
        "start_time": "2022-09-16T12:32:41.434Z"
      },
      {
        "duration": 11,
        "start_time": "2022-09-16T12:32:41.833Z"
      },
      {
        "duration": 77,
        "start_time": "2022-09-16T12:32:42.040Z"
      },
      {
        "duration": 292,
        "start_time": "2022-09-16T12:32:42.257Z"
      },
      {
        "duration": 292,
        "start_time": "2022-09-16T12:32:51.361Z"
      },
      {
        "duration": 8,
        "start_time": "2022-09-16T12:32:53.047Z"
      },
      {
        "duration": 41,
        "start_time": "2022-09-16T12:32:53.704Z"
      },
      {
        "duration": 141,
        "start_time": "2022-09-16T12:34:01.709Z"
      },
      {
        "duration": 127,
        "start_time": "2022-09-16T12:34:20.860Z"
      },
      {
        "duration": 13,
        "start_time": "2022-09-16T12:35:26.850Z"
      },
      {
        "duration": 14,
        "start_time": "2022-09-16T12:35:33.363Z"
      },
      {
        "duration": 86,
        "start_time": "2022-09-16T12:35:46.252Z"
      },
      {
        "duration": 1856,
        "start_time": "2022-09-16T12:35:46.457Z"
      },
      {
        "duration": 46,
        "start_time": "2022-09-16T12:35:48.314Z"
      },
      {
        "duration": 75,
        "start_time": "2022-09-16T12:35:48.361Z"
      },
      {
        "duration": 4,
        "start_time": "2022-09-16T12:35:48.438Z"
      },
      {
        "duration": 18,
        "start_time": "2022-09-16T12:35:48.444Z"
      },
      {
        "duration": 8,
        "start_time": "2022-09-16T12:35:48.464Z"
      },
      {
        "duration": 15,
        "start_time": "2022-09-16T12:35:48.771Z"
      },
      {
        "duration": 21,
        "start_time": "2022-09-16T12:35:49.171Z"
      },
      {
        "duration": 12,
        "start_time": "2022-09-16T12:35:49.369Z"
      },
      {
        "duration": 25,
        "start_time": "2022-09-16T12:35:49.791Z"
      },
      {
        "duration": 6,
        "start_time": "2022-09-16T12:35:49.991Z"
      },
      {
        "duration": 39,
        "start_time": "2022-09-16T12:35:50.427Z"
      },
      {
        "duration": 35,
        "start_time": "2022-09-16T12:35:50.640Z"
      },
      {
        "duration": 6,
        "start_time": "2022-09-16T12:35:50.848Z"
      },
      {
        "duration": 6,
        "start_time": "2022-09-16T12:35:51.077Z"
      },
      {
        "duration": 69,
        "start_time": "2022-09-16T12:35:51.284Z"
      },
      {
        "duration": 8,
        "start_time": "2022-09-16T12:35:51.498Z"
      },
      {
        "duration": 3,
        "start_time": "2022-09-16T12:35:51.963Z"
      },
      {
        "duration": 13,
        "start_time": "2022-09-16T12:35:52.201Z"
      },
      {
        "duration": 10,
        "start_time": "2022-09-16T12:35:52.459Z"
      },
      {
        "duration": 137,
        "start_time": "2022-09-16T12:35:52.734Z"
      },
      {
        "duration": 58,
        "start_time": "2022-09-16T12:35:52.948Z"
      },
      {
        "duration": 8,
        "start_time": "2022-09-16T12:35:54.313Z"
      },
      {
        "duration": 122,
        "start_time": "2022-09-16T12:35:54.900Z"
      },
      {
        "duration": 89,
        "start_time": "2022-09-16T12:36:01.355Z"
      },
      {
        "duration": 9,
        "start_time": "2022-09-16T12:36:01.564Z"
      },
      {
        "duration": 83,
        "start_time": "2022-09-16T12:36:02.396Z"
      },
      {
        "duration": 8,
        "start_time": "2022-09-16T12:36:05.515Z"
      },
      {
        "duration": 77,
        "start_time": "2022-09-16T12:36:06.372Z"
      },
      {
        "duration": 8,
        "start_time": "2022-09-16T12:36:09.946Z"
      },
      {
        "duration": 107,
        "start_time": "2022-09-16T12:36:10.677Z"
      },
      {
        "duration": 81,
        "start_time": "2022-09-16T12:36:11.326Z"
      },
      {
        "duration": 99,
        "start_time": "2022-09-16T12:36:13.083Z"
      },
      {
        "duration": 274,
        "start_time": "2022-09-16T12:36:13.785Z"
      },
      {
        "duration": 107,
        "start_time": "2022-09-16T12:36:15.150Z"
      },
      {
        "duration": 83,
        "start_time": "2022-09-16T12:36:15.890Z"
      },
      {
        "duration": 105,
        "start_time": "2022-09-16T12:36:17.256Z"
      },
      {
        "duration": 83,
        "start_time": "2022-09-16T12:36:17.912Z"
      },
      {
        "duration": 102,
        "start_time": "2022-09-16T12:36:19.080Z"
      },
      {
        "duration": 87,
        "start_time": "2022-09-16T12:36:19.731Z"
      },
      {
        "duration": 106,
        "start_time": "2022-09-16T12:36:21.265Z"
      },
      {
        "duration": 94,
        "start_time": "2022-09-16T12:36:21.968Z"
      },
      {
        "duration": 107,
        "start_time": "2022-09-16T12:36:23.185Z"
      },
      {
        "duration": 85,
        "start_time": "2022-09-16T12:36:23.855Z"
      },
      {
        "duration": 110,
        "start_time": "2022-09-16T12:36:25.388Z"
      },
      {
        "duration": 65,
        "start_time": "2022-09-16T12:36:26.114Z"
      },
      {
        "duration": 109,
        "start_time": "2022-09-16T12:36:27.647Z"
      },
      {
        "duration": 302,
        "start_time": "2022-09-16T12:36:28.799Z"
      },
      {
        "duration": 110,
        "start_time": "2022-09-16T12:36:30.199Z"
      },
      {
        "duration": 60,
        "start_time": "2022-09-16T12:36:30.721Z"
      },
      {
        "duration": 128,
        "start_time": "2022-09-16T12:36:31.060Z"
      },
      {
        "duration": 83,
        "start_time": "2022-09-16T12:36:31.216Z"
      },
      {
        "duration": 12,
        "start_time": "2022-09-16T12:36:31.956Z"
      },
      {
        "duration": 15,
        "start_time": "2022-09-16T12:36:47.760Z"
      },
      {
        "duration": 83,
        "start_time": "2022-09-16T12:37:28.358Z"
      },
      {
        "duration": 1707,
        "start_time": "2022-09-16T12:37:29.157Z"
      },
      {
        "duration": 72,
        "start_time": "2022-09-16T12:37:30.866Z"
      },
      {
        "duration": 82,
        "start_time": "2022-09-16T12:37:43.079Z"
      },
      {
        "duration": 5,
        "start_time": "2022-09-16T12:37:49.577Z"
      },
      {
        "duration": 15,
        "start_time": "2022-09-16T12:37:50.363Z"
      },
      {
        "duration": 9,
        "start_time": "2022-09-16T12:37:54.386Z"
      },
      {
        "duration": 16,
        "start_time": "2022-09-16T12:38:07.726Z"
      },
      {
        "duration": 20,
        "start_time": "2022-09-16T12:38:09.183Z"
      },
      {
        "duration": 9,
        "start_time": "2022-09-16T12:38:10.317Z"
      },
      {
        "duration": 26,
        "start_time": "2022-09-16T12:38:12.490Z"
      },
      {
        "duration": 6,
        "start_time": "2022-09-16T12:38:13.227Z"
      },
      {
        "duration": 37,
        "start_time": "2022-09-16T12:38:17.715Z"
      },
      {
        "duration": 33,
        "start_time": "2022-09-16T12:38:20.725Z"
      },
      {
        "duration": 5,
        "start_time": "2022-09-16T12:38:21.355Z"
      },
      {
        "duration": 6,
        "start_time": "2022-09-16T12:38:23.532Z"
      },
      {
        "duration": 68,
        "start_time": "2022-09-16T12:38:24.206Z"
      },
      {
        "duration": 8,
        "start_time": "2022-09-16T12:38:27.767Z"
      },
      {
        "duration": 3,
        "start_time": "2022-09-16T12:38:34.331Z"
      },
      {
        "duration": 15,
        "start_time": "2022-09-16T12:38:37.637Z"
      },
      {
        "duration": 11,
        "start_time": "2022-09-16T12:38:45.699Z"
      },
      {
        "duration": 5,
        "start_time": "2022-09-16T12:39:06.793Z"
      },
      {
        "duration": 5,
        "start_time": "2022-09-16T12:39:16.311Z"
      },
      {
        "duration": 12,
        "start_time": "2022-09-16T12:39:17.624Z"
      },
      {
        "duration": 283,
        "start_time": "2022-09-16T12:39:19.544Z"
      },
      {
        "duration": 6,
        "start_time": "2022-09-16T12:39:24.619Z"
      },
      {
        "duration": 112,
        "start_time": "2022-09-16T12:39:54.361Z"
      },
      {
        "duration": 125,
        "start_time": "2022-09-16T12:40:46.911Z"
      },
      {
        "duration": 66,
        "start_time": "2022-09-16T12:41:16.919Z"
      },
      {
        "duration": 122,
        "start_time": "2022-09-16T12:41:21.966Z"
      },
      {
        "duration": 113,
        "start_time": "2022-09-16T12:41:39.858Z"
      },
      {
        "duration": 9,
        "start_time": "2022-09-16T12:42:41.099Z"
      },
      {
        "duration": 8,
        "start_time": "2022-09-16T12:43:03.210Z"
      },
      {
        "duration": 114,
        "start_time": "2022-09-16T12:44:11.402Z"
      },
      {
        "duration": 6,
        "start_time": "2022-09-16T12:45:43.609Z"
      },
      {
        "duration": 4,
        "start_time": "2022-09-16T12:45:49.639Z"
      },
      {
        "duration": 2455,
        "start_time": "2022-09-16T12:45:59.948Z"
      },
      {
        "duration": 2616,
        "start_time": "2022-09-16T12:46:22.494Z"
      },
      {
        "duration": 3127,
        "start_time": "2022-09-16T12:49:03.597Z"
      },
      {
        "duration": 4450,
        "start_time": "2022-09-16T12:49:19.538Z"
      },
      {
        "duration": 2111,
        "start_time": "2022-09-16T12:49:55.031Z"
      },
      {
        "duration": 690,
        "start_time": "2022-09-16T12:50:02.174Z"
      },
      {
        "duration": 8,
        "start_time": "2022-09-16T13:00:48.217Z"
      },
      {
        "duration": 130,
        "start_time": "2022-09-16T13:00:54.560Z"
      },
      {
        "duration": 84,
        "start_time": "2022-09-16T13:01:14.507Z"
      },
      {
        "duration": 1700,
        "start_time": "2022-09-16T13:01:14.653Z"
      },
      {
        "duration": 39,
        "start_time": "2022-09-16T13:01:16.354Z"
      },
      {
        "duration": 78,
        "start_time": "2022-09-16T13:01:16.395Z"
      },
      {
        "duration": 4,
        "start_time": "2022-09-16T13:01:16.475Z"
      },
      {
        "duration": 25,
        "start_time": "2022-09-16T13:01:16.481Z"
      },
      {
        "duration": 10,
        "start_time": "2022-09-16T13:01:20.645Z"
      },
      {
        "duration": 15,
        "start_time": "2022-09-16T13:01:26.405Z"
      },
      {
        "duration": 22,
        "start_time": "2022-09-16T13:01:28.825Z"
      },
      {
        "duration": 10,
        "start_time": "2022-09-16T13:01:29.235Z"
      },
      {
        "duration": 24,
        "start_time": "2022-09-16T13:01:29.644Z"
      },
      {
        "duration": 5,
        "start_time": "2022-09-16T13:01:29.827Z"
      },
      {
        "duration": 36,
        "start_time": "2022-09-16T13:01:30.241Z"
      },
      {
        "duration": 32,
        "start_time": "2022-09-16T13:01:30.442Z"
      },
      {
        "duration": 4,
        "start_time": "2022-09-16T13:01:33.367Z"
      },
      {
        "duration": 6,
        "start_time": "2022-09-16T13:01:36.352Z"
      },
      {
        "duration": 71,
        "start_time": "2022-09-16T13:01:39.074Z"
      },
      {
        "duration": 9,
        "start_time": "2022-09-16T13:01:40.026Z"
      },
      {
        "duration": 3,
        "start_time": "2022-09-16T13:01:44.780Z"
      },
      {
        "duration": 15,
        "start_time": "2022-09-16T13:01:45.635Z"
      },
      {
        "duration": 8,
        "start_time": "2022-09-16T13:01:46.369Z"
      },
      {
        "duration": 117,
        "start_time": "2022-09-16T13:01:47.640Z"
      },
      {
        "duration": 123,
        "start_time": "2022-09-16T13:01:52.576Z"
      },
      {
        "duration": 135,
        "start_time": "2022-09-16T13:02:04.807Z"
      },
      {
        "duration": 336,
        "start_time": "2022-09-16T13:03:31.607Z"
      },
      {
        "duration": 340,
        "start_time": "2022-09-16T13:03:39.783Z"
      },
      {
        "duration": 141,
        "start_time": "2022-09-16T13:07:07.901Z"
      },
      {
        "duration": 10,
        "start_time": "2022-09-16T13:08:41.547Z"
      },
      {
        "duration": 181,
        "start_time": "2022-09-16T13:08:46.382Z"
      },
      {
        "duration": 106,
        "start_time": "2022-09-16T13:12:00.278Z"
      },
      {
        "duration": 241,
        "start_time": "2022-09-16T13:12:38.983Z"
      },
      {
        "duration": 613,
        "start_time": "2022-09-16T13:13:17.649Z"
      },
      {
        "duration": 77,
        "start_time": "2022-09-16T13:16:46.774Z"
      },
      {
        "duration": 4,
        "start_time": "2022-09-16T13:16:52.889Z"
      },
      {
        "duration": 231,
        "start_time": "2022-09-16T13:16:56.646Z"
      },
      {
        "duration": 230,
        "start_time": "2022-09-16T13:18:49.639Z"
      },
      {
        "duration": 152,
        "start_time": "2022-09-16T13:18:56.007Z"
      },
      {
        "duration": 124,
        "start_time": "2022-09-16T13:19:04.162Z"
      },
      {
        "duration": 169,
        "start_time": "2022-09-16T13:19:13.469Z"
      },
      {
        "duration": 126,
        "start_time": "2022-09-16T13:19:37.775Z"
      },
      {
        "duration": 139,
        "start_time": "2022-09-16T13:19:46.992Z"
      },
      {
        "duration": 7,
        "start_time": "2022-09-16T13:22:48.235Z"
      },
      {
        "duration": 338,
        "start_time": "2022-09-16T13:23:27.304Z"
      },
      {
        "duration": 309,
        "start_time": "2022-09-16T13:23:36.501Z"
      },
      {
        "duration": 4,
        "start_time": "2022-09-16T13:23:43.330Z"
      },
      {
        "duration": 304,
        "start_time": "2022-09-16T13:23:43.993Z"
      },
      {
        "duration": 1144,
        "start_time": "2022-09-16T13:31:06.221Z"
      },
      {
        "duration": 109,
        "start_time": "2022-09-16T13:31:15.261Z"
      },
      {
        "duration": 325,
        "start_time": "2022-09-16T13:31:48.596Z"
      },
      {
        "duration": 974,
        "start_time": "2022-09-16T13:31:56.638Z"
      },
      {
        "duration": 3,
        "start_time": "2022-09-16T13:32:21.996Z"
      },
      {
        "duration": 5,
        "start_time": "2022-09-16T13:32:28.421Z"
      },
      {
        "duration": 311,
        "start_time": "2022-09-16T13:33:10.384Z"
      },
      {
        "duration": 6,
        "start_time": "2022-09-16T13:34:09.911Z"
      },
      {
        "duration": 292,
        "start_time": "2022-09-16T13:34:48.304Z"
      },
      {
        "duration": 186,
        "start_time": "2022-09-16T13:35:21.918Z"
      },
      {
        "duration": 257,
        "start_time": "2022-09-16T13:35:29.932Z"
      },
      {
        "duration": 184,
        "start_time": "2022-09-16T13:36:21.606Z"
      },
      {
        "duration": 5,
        "start_time": "2022-09-16T13:37:48.359Z"
      },
      {
        "duration": 209,
        "start_time": "2022-09-16T13:38:09.697Z"
      },
      {
        "duration": 195,
        "start_time": "2022-09-16T13:41:16.752Z"
      },
      {
        "duration": 247,
        "start_time": "2022-09-16T13:41:48.725Z"
      },
      {
        "duration": 5,
        "start_time": "2022-09-16T13:41:56.453Z"
      },
      {
        "duration": 195,
        "start_time": "2022-09-16T13:43:29.596Z"
      },
      {
        "duration": 205,
        "start_time": "2022-09-16T13:44:01.398Z"
      },
      {
        "duration": 5,
        "start_time": "2022-09-16T13:48:54.848Z"
      },
      {
        "duration": 199,
        "start_time": "2022-09-16T13:48:58.704Z"
      },
      {
        "duration": 287,
        "start_time": "2022-09-16T13:49:37.167Z"
      },
      {
        "duration": 207,
        "start_time": "2022-09-16T13:51:13.991Z"
      },
      {
        "duration": 200,
        "start_time": "2022-09-16T13:51:29.708Z"
      },
      {
        "duration": 383,
        "start_time": "2022-09-16T13:51:56.333Z"
      },
      {
        "duration": 214,
        "start_time": "2022-09-16T13:52:25.132Z"
      },
      {
        "duration": 61,
        "start_time": "2022-09-16T13:52:56.829Z"
      },
      {
        "duration": 179,
        "start_time": "2022-09-16T13:53:02.674Z"
      },
      {
        "duration": 92,
        "start_time": "2022-09-16T13:53:28.973Z"
      },
      {
        "duration": 1755,
        "start_time": "2022-09-16T13:53:29.194Z"
      },
      {
        "duration": 41,
        "start_time": "2022-09-16T13:53:30.951Z"
      },
      {
        "duration": 100,
        "start_time": "2022-09-16T13:53:30.994Z"
      },
      {
        "duration": 10,
        "start_time": "2022-09-16T13:53:31.098Z"
      },
      {
        "duration": 34,
        "start_time": "2022-09-16T13:53:31.110Z"
      },
      {
        "duration": 36,
        "start_time": "2022-09-16T13:53:31.146Z"
      },
      {
        "duration": 14,
        "start_time": "2022-09-16T13:53:31.392Z"
      },
      {
        "duration": 20,
        "start_time": "2022-09-16T13:53:31.723Z"
      },
      {
        "duration": 9,
        "start_time": "2022-09-16T13:53:31.886Z"
      },
      {
        "duration": 24,
        "start_time": "2022-09-16T13:53:32.233Z"
      },
      {
        "duration": 7,
        "start_time": "2022-09-16T13:53:32.394Z"
      },
      {
        "duration": 40,
        "start_time": "2022-09-16T13:53:32.726Z"
      },
      {
        "duration": 33,
        "start_time": "2022-09-16T13:53:32.903Z"
      },
      {
        "duration": 6,
        "start_time": "2022-09-16T13:53:33.066Z"
      },
      {
        "duration": 6,
        "start_time": "2022-09-16T13:53:33.221Z"
      },
      {
        "duration": 65,
        "start_time": "2022-09-16T13:53:33.419Z"
      },
      {
        "duration": 9,
        "start_time": "2022-09-16T13:53:33.624Z"
      },
      {
        "duration": 2,
        "start_time": "2022-09-16T13:53:35.826Z"
      },
      {
        "duration": 14,
        "start_time": "2022-09-16T13:53:36.211Z"
      },
      {
        "duration": 11,
        "start_time": "2022-09-16T13:53:37.414Z"
      },
      {
        "duration": 119,
        "start_time": "2022-09-16T13:53:44.143Z"
      },
      {
        "duration": 135,
        "start_time": "2022-09-16T13:53:49.045Z"
      },
      {
        "duration": 5,
        "start_time": "2022-09-16T13:54:05.859Z"
      },
      {
        "duration": 11,
        "start_time": "2022-09-16T13:54:10.182Z"
      },
      {
        "duration": 323,
        "start_time": "2022-09-16T13:54:11.521Z"
      },
      {
        "duration": 6,
        "start_time": "2022-09-16T13:54:16.041Z"
      },
      {
        "duration": 5,
        "start_time": "2022-09-16T13:54:21.149Z"
      },
      {
        "duration": 198,
        "start_time": "2022-09-16T13:54:23.794Z"
      },
      {
        "duration": 6,
        "start_time": "2022-09-16T13:54:30.906Z"
      },
      {
        "duration": 211,
        "start_time": "2022-09-16T13:54:31.786Z"
      },
      {
        "duration": 6,
        "start_time": "2022-09-16T13:54:35.662Z"
      },
      {
        "duration": 208,
        "start_time": "2022-09-16T13:54:36.834Z"
      },
      {
        "duration": 5,
        "start_time": "2022-09-16T13:54:46.436Z"
      },
      {
        "duration": 204,
        "start_time": "2022-09-16T13:54:50.275Z"
      },
      {
        "duration": 176,
        "start_time": "2022-09-16T13:55:33.881Z"
      },
      {
        "duration": 672,
        "start_time": "2022-09-16T13:55:45.014Z"
      },
      {
        "duration": 201,
        "start_time": "2022-09-16T13:55:55.934Z"
      },
      {
        "duration": 214,
        "start_time": "2022-09-16T13:56:03.402Z"
      },
      {
        "duration": 131,
        "start_time": "2022-09-16T13:56:23.968Z"
      },
      {
        "duration": 209,
        "start_time": "2022-09-16T13:56:30.066Z"
      },
      {
        "duration": 4,
        "start_time": "2022-09-16T13:59:19.191Z"
      },
      {
        "duration": 11,
        "start_time": "2022-09-16T13:59:20.378Z"
      },
      {
        "duration": 291,
        "start_time": "2022-09-16T13:59:21.880Z"
      },
      {
        "duration": 59,
        "start_time": "2022-09-16T14:00:38.949Z"
      },
      {
        "duration": 81,
        "start_time": "2022-09-16T14:16:46.346Z"
      },
      {
        "duration": 1762,
        "start_time": "2022-09-16T14:16:47.314Z"
      },
      {
        "duration": 45,
        "start_time": "2022-09-16T14:16:49.078Z"
      },
      {
        "duration": 64,
        "start_time": "2022-09-16T14:16:49.124Z"
      },
      {
        "duration": 5,
        "start_time": "2022-09-16T14:16:49.688Z"
      },
      {
        "duration": 14,
        "start_time": "2022-09-16T14:16:50.937Z"
      },
      {
        "duration": 9,
        "start_time": "2022-09-16T14:16:55.562Z"
      },
      {
        "duration": 14,
        "start_time": "2022-09-16T14:17:00.056Z"
      },
      {
        "duration": 20,
        "start_time": "2022-09-16T14:17:01.358Z"
      },
      {
        "duration": 9,
        "start_time": "2022-09-16T14:17:02.476Z"
      },
      {
        "duration": 25,
        "start_time": "2022-09-16T14:17:05.474Z"
      },
      {
        "duration": 6,
        "start_time": "2022-09-16T14:17:07.925Z"
      },
      {
        "duration": 38,
        "start_time": "2022-09-16T14:17:10.285Z"
      },
      {
        "duration": 33,
        "start_time": "2022-09-16T14:17:15.273Z"
      },
      {
        "duration": 6,
        "start_time": "2022-09-16T14:17:16.063Z"
      },
      {
        "duration": 6,
        "start_time": "2022-09-16T14:17:17.046Z"
      },
      {
        "duration": 68,
        "start_time": "2022-09-16T14:17:20.518Z"
      },
      {
        "duration": 8,
        "start_time": "2022-09-16T14:17:23.858Z"
      },
      {
        "duration": 2,
        "start_time": "2022-09-16T14:17:25.422Z"
      },
      {
        "duration": 13,
        "start_time": "2022-09-16T14:17:26.340Z"
      },
      {
        "duration": 8,
        "start_time": "2022-09-16T14:17:27.226Z"
      },
      {
        "duration": 125,
        "start_time": "2022-09-16T14:17:31.167Z"
      },
      {
        "duration": 91,
        "start_time": "2022-09-16T14:17:39.054Z"
      },
      {
        "duration": 5,
        "start_time": "2022-09-16T14:18:11.809Z"
      },
      {
        "duration": 11,
        "start_time": "2022-09-16T14:18:13.598Z"
      },
      {
        "duration": 87,
        "start_time": "2022-09-16T14:18:15.316Z"
      },
      {
        "duration": 95,
        "start_time": "2022-09-16T14:18:21.611Z"
      },
      {
        "duration": 71,
        "start_time": "2022-09-16T14:18:35.787Z"
      },
      {
        "duration": 3,
        "start_time": "2022-09-16T14:20:10.627Z"
      },
      {
        "duration": 253,
        "start_time": "2022-09-16T14:20:13.154Z"
      },
      {
        "duration": 3,
        "start_time": "2022-09-16T14:20:13.955Z"
      },
      {
        "duration": 6,
        "start_time": "2022-09-16T14:20:18.563Z"
      },
      {
        "duration": 5,
        "start_time": "2022-09-16T14:20:22.733Z"
      },
      {
        "duration": 203,
        "start_time": "2022-09-16T14:20:24.595Z"
      },
      {
        "duration": 5,
        "start_time": "2022-09-16T14:20:28.729Z"
      },
      {
        "duration": 227,
        "start_time": "2022-09-16T14:20:29.848Z"
      },
      {
        "duration": 6,
        "start_time": "2022-09-16T14:20:33.424Z"
      },
      {
        "duration": 210,
        "start_time": "2022-09-16T14:20:35.430Z"
      },
      {
        "duration": 5,
        "start_time": "2022-09-16T14:20:39.966Z"
      },
      {
        "duration": 206,
        "start_time": "2022-09-16T14:20:40.607Z"
      },
      {
        "duration": 5,
        "start_time": "2022-09-16T14:20:43.672Z"
      },
      {
        "duration": 744,
        "start_time": "2022-09-16T14:27:08.290Z"
      },
      {
        "duration": 2003,
        "start_time": "2022-09-16T14:27:09.037Z"
      },
      {
        "duration": 48,
        "start_time": "2022-09-16T14:27:11.042Z"
      },
      {
        "duration": 74,
        "start_time": "2022-09-16T14:27:15.696Z"
      },
      {
        "duration": 14,
        "start_time": "2022-09-16T14:27:23.858Z"
      },
      {
        "duration": 21,
        "start_time": "2022-09-16T14:27:26.935Z"
      },
      {
        "duration": 9,
        "start_time": "2022-09-16T14:27:27.852Z"
      },
      {
        "duration": 26,
        "start_time": "2022-09-16T14:27:31.619Z"
      },
      {
        "duration": 38,
        "start_time": "2022-09-16T14:27:38.056Z"
      },
      {
        "duration": 32,
        "start_time": "2022-09-16T14:27:40.735Z"
      },
      {
        "duration": 5,
        "start_time": "2022-09-16T14:27:41.809Z"
      },
      {
        "duration": 6,
        "start_time": "2022-09-16T14:27:46.856Z"
      },
      {
        "duration": 69,
        "start_time": "2022-09-16T14:27:47.735Z"
      },
      {
        "duration": 8,
        "start_time": "2022-09-16T14:27:48.594Z"
      },
      {
        "duration": 10,
        "start_time": "2022-09-16T14:27:58.900Z"
      },
      {
        "duration": 6,
        "start_time": "2022-09-16T14:28:05.149Z"
      },
      {
        "duration": 3,
        "start_time": "2022-09-16T14:28:13.840Z"
      },
      {
        "duration": 15,
        "start_time": "2022-09-16T14:28:14.468Z"
      },
      {
        "duration": 23,
        "start_time": "2022-09-16T14:28:18.841Z"
      },
      {
        "duration": 117,
        "start_time": "2022-09-16T14:28:19.443Z"
      },
      {
        "duration": 132,
        "start_time": "2022-09-16T14:28:22.950Z"
      },
      {
        "duration": 8,
        "start_time": "2022-09-16T14:28:26.508Z"
      },
      {
        "duration": 106,
        "start_time": "2022-09-16T14:28:27.393Z"
      },
      {
        "duration": 210,
        "start_time": "2022-09-16T14:28:28.744Z"
      },
      {
        "duration": 106,
        "start_time": "2022-09-16T14:28:33.191Z"
      },
      {
        "duration": 318,
        "start_time": "2022-09-16T14:28:37.039Z"
      },
      {
        "duration": 87,
        "start_time": "2022-09-16T14:28:40.076Z"
      },
      {
        "duration": 4,
        "start_time": "2022-09-16T14:29:15.349Z"
      },
      {
        "duration": 11,
        "start_time": "2022-09-16T14:29:16.742Z"
      },
      {
        "duration": 3,
        "start_time": "2022-09-16T14:29:18.775Z"
      },
      {
        "duration": 249,
        "start_time": "2022-09-16T14:29:21.416Z"
      },
      {
        "duration": 3,
        "start_time": "2022-09-16T14:29:22.717Z"
      },
      {
        "duration": 6,
        "start_time": "2022-09-16T14:29:27.794Z"
      },
      {
        "duration": 5,
        "start_time": "2022-09-16T14:29:32.799Z"
      },
      {
        "duration": 201,
        "start_time": "2022-09-16T14:29:34.202Z"
      },
      {
        "duration": 95,
        "start_time": "2022-09-16T14:35:05.626Z"
      },
      {
        "duration": 0,
        "start_time": "2022-09-16T14:35:06.878Z"
      },
      {
        "duration": 0,
        "start_time": "2022-09-16T14:35:06.881Z"
      },
      {
        "duration": 0,
        "start_time": "2022-09-16T14:35:06.882Z"
      },
      {
        "duration": 0,
        "start_time": "2022-09-16T14:35:06.884Z"
      },
      {
        "duration": 0,
        "start_time": "2022-09-16T14:35:06.885Z"
      },
      {
        "duration": 0,
        "start_time": "2022-09-16T14:35:06.886Z"
      },
      {
        "duration": 87,
        "start_time": "2022-09-16T14:47:07.096Z"
      },
      {
        "duration": 1814,
        "start_time": "2022-09-16T14:47:07.753Z"
      },
      {
        "duration": 42,
        "start_time": "2022-09-16T14:47:13.207Z"
      },
      {
        "duration": 69,
        "start_time": "2022-09-16T14:47:16.492Z"
      },
      {
        "duration": 5,
        "start_time": "2022-09-16T14:47:19.102Z"
      },
      {
        "duration": 15,
        "start_time": "2022-09-16T14:47:22.649Z"
      },
      {
        "duration": 11,
        "start_time": "2022-09-16T14:47:26.554Z"
      },
      {
        "duration": 16,
        "start_time": "2022-09-16T14:47:33.027Z"
      },
      {
        "duration": 21,
        "start_time": "2022-09-16T14:47:39.112Z"
      },
      {
        "duration": 9,
        "start_time": "2022-09-16T14:47:39.938Z"
      },
      {
        "duration": 29,
        "start_time": "2022-09-16T14:47:43.099Z"
      },
      {
        "duration": 6,
        "start_time": "2022-09-16T14:47:45.631Z"
      },
      {
        "duration": 68,
        "start_time": "2022-09-16T14:47:59.811Z"
      },
      {
        "duration": 8,
        "start_time": "2022-09-16T14:48:06.082Z"
      },
      {
        "duration": 3,
        "start_time": "2022-09-16T14:48:27.237Z"
      },
      {
        "duration": 14,
        "start_time": "2022-09-16T14:48:28.055Z"
      },
      {
        "duration": 9,
        "start_time": "2022-09-16T14:48:31.864Z"
      },
      {
        "duration": 121,
        "start_time": "2022-09-16T14:48:33.190Z"
      },
      {
        "duration": 81,
        "start_time": "2022-09-16T14:50:12.070Z"
      },
      {
        "duration": 87,
        "start_time": "2022-09-16T14:53:25.642Z"
      },
      {
        "duration": 93,
        "start_time": "2022-09-16T14:55:29.825Z"
      },
      {
        "duration": 5,
        "start_time": "2022-09-16T14:55:37.807Z"
      },
      {
        "duration": 13,
        "start_time": "2022-09-16T14:55:40.541Z"
      },
      {
        "duration": 3,
        "start_time": "2022-09-16T14:55:43.187Z"
      },
      {
        "duration": 253,
        "start_time": "2022-09-16T14:55:44.020Z"
      },
      {
        "duration": 3,
        "start_time": "2022-09-16T14:55:45.671Z"
      },
      {
        "duration": 316443,
        "start_time": "2022-09-16T14:55:52.906Z"
      },
      {
        "duration": 0,
        "start_time": "2022-09-16T15:01:10.711Z"
      },
      {
        "duration": 0,
        "start_time": "2022-09-16T15:01:10.712Z"
      },
      {
        "duration": 0,
        "start_time": "2022-09-16T15:01:10.713Z"
      },
      {
        "duration": 0,
        "start_time": "2022-09-16T15:01:10.714Z"
      },
      {
        "duration": 0,
        "start_time": "2022-09-16T15:01:10.715Z"
      },
      {
        "duration": 0,
        "start_time": "2022-09-16T15:01:10.716Z"
      },
      {
        "duration": 0,
        "start_time": "2022-09-16T15:01:10.717Z"
      },
      {
        "duration": 0,
        "start_time": "2022-09-16T15:01:10.718Z"
      },
      {
        "duration": 0,
        "start_time": "2022-09-16T15:01:10.718Z"
      },
      {
        "duration": 0,
        "start_time": "2022-09-16T15:01:10.721Z"
      },
      {
        "duration": 991,
        "start_time": "2022-09-16T15:02:32.510Z"
      },
      {
        "duration": 1037,
        "start_time": "2022-09-16T15:02:33.568Z"
      },
      {
        "duration": 90,
        "start_time": "2022-09-16T15:35:10.421Z"
      },
      {
        "duration": 1688,
        "start_time": "2022-09-16T15:35:12.903Z"
      },
      {
        "duration": 40,
        "start_time": "2022-09-16T15:35:18.411Z"
      },
      {
        "duration": 68,
        "start_time": "2022-09-16T15:35:28.183Z"
      },
      {
        "duration": 6,
        "start_time": "2022-09-16T15:35:28.752Z"
      },
      {
        "duration": 14,
        "start_time": "2022-09-16T15:35:30.920Z"
      },
      {
        "duration": 9,
        "start_time": "2022-09-16T15:36:34.881Z"
      },
      {
        "duration": 16,
        "start_time": "2022-09-16T15:36:42.077Z"
      },
      {
        "duration": 21,
        "start_time": "2022-09-16T15:55:35.334Z"
      },
      {
        "duration": 11,
        "start_time": "2022-09-16T15:55:36.120Z"
      },
      {
        "duration": 85,
        "start_time": "2022-09-16T15:55:41.387Z"
      },
      {
        "duration": 1665,
        "start_time": "2022-09-16T15:55:42.375Z"
      },
      {
        "duration": 39,
        "start_time": "2022-09-16T15:55:44.043Z"
      },
      {
        "duration": 8,
        "start_time": "2022-09-16T15:55:52.372Z"
      },
      {
        "duration": 10,
        "start_time": "2022-09-16T15:55:56.006Z"
      },
      {
        "duration": 14,
        "start_time": "2022-09-16T15:56:00.317Z"
      },
      {
        "duration": 21,
        "start_time": "2022-09-16T15:56:03.445Z"
      },
      {
        "duration": 10,
        "start_time": "2022-09-16T15:56:04.309Z"
      },
      {
        "duration": 25,
        "start_time": "2022-09-16T15:56:08.117Z"
      },
      {
        "duration": 6,
        "start_time": "2022-09-16T15:56:19.747Z"
      },
      {
        "duration": 36,
        "start_time": "2022-09-16T15:56:24.031Z"
      },
      {
        "duration": 41,
        "start_time": "2022-09-16T15:56:44.209Z"
      },
      {
        "duration": 32,
        "start_time": "2022-09-16T15:56:47.178Z"
      },
      {
        "duration": 5,
        "start_time": "2022-09-16T15:56:48.134Z"
      },
      {
        "duration": 6,
        "start_time": "2022-09-16T15:56:49.268Z"
      },
      {
        "duration": 66,
        "start_time": "2022-09-16T15:56:52.158Z"
      },
      {
        "duration": 8,
        "start_time": "2022-09-16T15:56:53.499Z"
      },
      {
        "duration": 3,
        "start_time": "2022-09-16T15:57:06.116Z"
      },
      {
        "duration": 14,
        "start_time": "2022-09-16T15:57:06.794Z"
      },
      {
        "duration": 9,
        "start_time": "2022-09-16T15:57:13.173Z"
      },
      {
        "duration": 126,
        "start_time": "2022-09-16T15:57:15.579Z"
      },
      {
        "duration": 129,
        "start_time": "2022-09-16T15:57:33.545Z"
      },
      {
        "duration": 4,
        "start_time": "2022-09-16T15:57:55.301Z"
      },
      {
        "duration": 5,
        "start_time": "2022-09-16T15:57:57.332Z"
      },
      {
        "duration": 4,
        "start_time": "2022-09-16T15:58:06.524Z"
      },
      {
        "duration": 7,
        "start_time": "2022-09-16T15:59:13.624Z"
      },
      {
        "duration": 3,
        "start_time": "2022-09-16T15:59:14.371Z"
      },
      {
        "duration": 3,
        "start_time": "2022-09-16T15:59:17.412Z"
      },
      {
        "duration": 8,
        "start_time": "2022-09-16T15:59:46.892Z"
      },
      {
        "duration": 4,
        "start_time": "2022-09-16T15:59:48.519Z"
      },
      {
        "duration": 7,
        "start_time": "2022-09-16T15:59:57.221Z"
      },
      {
        "duration": 4,
        "start_time": "2022-09-16T15:59:58.447Z"
      },
      {
        "duration": 87,
        "start_time": "2022-09-16T16:00:04.853Z"
      },
      {
        "duration": 1682,
        "start_time": "2022-09-16T16:00:05.427Z"
      },
      {
        "duration": 37,
        "start_time": "2022-09-16T16:00:08.522Z"
      },
      {
        "duration": 64,
        "start_time": "2022-09-16T16:00:10.196Z"
      },
      {
        "duration": 7,
        "start_time": "2022-09-16T16:00:11.067Z"
      },
      {
        "duration": 14,
        "start_time": "2022-09-16T16:00:11.959Z"
      },
      {
        "duration": 8,
        "start_time": "2022-09-16T16:00:13.466Z"
      },
      {
        "duration": 16,
        "start_time": "2022-09-16T16:00:16.618Z"
      },
      {
        "duration": 21,
        "start_time": "2022-09-16T16:00:17.957Z"
      },
      {
        "duration": 9,
        "start_time": "2022-09-16T16:00:18.811Z"
      },
      {
        "duration": 25,
        "start_time": "2022-09-16T16:00:20.253Z"
      },
      {
        "duration": 6,
        "start_time": "2022-09-16T16:00:21.029Z"
      },
      {
        "duration": 37,
        "start_time": "2022-09-16T16:00:23.687Z"
      },
      {
        "duration": 34,
        "start_time": "2022-09-16T16:00:23.915Z"
      },
      {
        "duration": 6,
        "start_time": "2022-09-16T16:00:28.739Z"
      },
      {
        "duration": 8,
        "start_time": "2022-09-16T16:00:28.963Z"
      },
      {
        "duration": 71,
        "start_time": "2022-09-16T16:00:29.186Z"
      },
      {
        "duration": 9,
        "start_time": "2022-09-16T16:00:31.546Z"
      },
      {
        "duration": 3,
        "start_time": "2022-09-16T16:00:33.997Z"
      },
      {
        "duration": 13,
        "start_time": "2022-09-16T16:00:34.926Z"
      },
      {
        "duration": 42,
        "start_time": "2022-09-16T16:00:52.463Z"
      },
      {
        "duration": 737,
        "start_time": "2022-09-16T16:01:00.603Z"
      },
      {
        "duration": 2159,
        "start_time": "2022-09-16T16:01:01.342Z"
      },
      {
        "duration": 44,
        "start_time": "2022-09-16T16:01:03.502Z"
      },
      {
        "duration": 76,
        "start_time": "2022-09-16T16:01:03.548Z"
      },
      {
        "duration": 5,
        "start_time": "2022-09-16T16:01:03.626Z"
      },
      {
        "duration": 18,
        "start_time": "2022-09-16T16:01:03.632Z"
      },
      {
        "duration": 9,
        "start_time": "2022-09-16T16:01:06.835Z"
      },
      {
        "duration": 18,
        "start_time": "2022-09-16T16:01:08.242Z"
      },
      {
        "duration": 20,
        "start_time": "2022-09-16T16:01:14.046Z"
      },
      {
        "duration": 9,
        "start_time": "2022-09-16T16:01:16.309Z"
      },
      {
        "duration": 24,
        "start_time": "2022-09-16T16:01:30.940Z"
      },
      {
        "duration": 6,
        "start_time": "2022-09-16T16:01:31.565Z"
      },
      {
        "duration": 4,
        "start_time": "2022-09-16T16:01:42.437Z"
      },
      {
        "duration": 35,
        "start_time": "2022-09-16T16:02:08.773Z"
      },
      {
        "duration": 5,
        "start_time": "2022-09-16T16:02:10.930Z"
      },
      {
        "duration": 6,
        "start_time": "2022-09-16T16:02:11.663Z"
      },
      {
        "duration": 66,
        "start_time": "2022-09-16T16:02:12.427Z"
      },
      {
        "duration": 8,
        "start_time": "2022-09-16T16:02:13.154Z"
      },
      {
        "duration": 2,
        "start_time": "2022-09-16T16:02:15.226Z"
      },
      {
        "duration": 13,
        "start_time": "2022-09-16T16:02:16.496Z"
      },
      {
        "duration": 10,
        "start_time": "2022-09-16T16:02:25.230Z"
      },
      {
        "duration": 120,
        "start_time": "2022-09-16T16:02:25.989Z"
      },
      {
        "duration": 3,
        "start_time": "2022-09-16T16:02:34.972Z"
      },
      {
        "duration": 93,
        "start_time": "2022-09-16T16:02:41.596Z"
      },
      {
        "duration": 3,
        "start_time": "2022-09-16T16:02:42.734Z"
      },
      {
        "duration": 169,
        "start_time": "2022-09-16T16:03:05.010Z"
      },
      {
        "duration": 4,
        "start_time": "2022-09-16T16:03:07.681Z"
      },
      {
        "duration": 10,
        "start_time": "2022-09-16T16:03:18.866Z"
      },
      {
        "duration": 105,
        "start_time": "2022-09-16T16:03:20.768Z"
      },
      {
        "duration": 12,
        "start_time": "2022-09-16T16:03:30.498Z"
      },
      {
        "duration": 4,
        "start_time": "2022-09-16T16:03:31.613Z"
      },
      {
        "duration": 103,
        "start_time": "2022-09-16T16:04:25.635Z"
      },
      {
        "duration": 4,
        "start_time": "2022-09-16T16:04:41.101Z"
      },
      {
        "duration": 19,
        "start_time": "2022-09-16T16:04:47.692Z"
      },
      {
        "duration": 5,
        "start_time": "2022-09-16T16:04:49.011Z"
      },
      {
        "duration": 8,
        "start_time": "2022-09-16T16:05:08.449Z"
      },
      {
        "duration": 4,
        "start_time": "2022-09-16T16:05:17.485Z"
      },
      {
        "duration": 10,
        "start_time": "2022-09-16T16:05:22.763Z"
      },
      {
        "duration": 4,
        "start_time": "2022-09-16T16:05:23.467Z"
      },
      {
        "duration": 88,
        "start_time": "2022-09-16T16:06:19.878Z"
      },
      {
        "duration": 9,
        "start_time": "2022-09-16T16:06:31.397Z"
      },
      {
        "duration": 4,
        "start_time": "2022-09-16T16:06:38.444Z"
      },
      {
        "duration": 8,
        "start_time": "2022-09-16T16:06:56.798Z"
      },
      {
        "duration": 92,
        "start_time": "2022-09-16T16:06:59.719Z"
      },
      {
        "duration": 8,
        "start_time": "2022-09-16T16:07:22.414Z"
      },
      {
        "duration": 202,
        "start_time": "2022-09-16T16:07:24.834Z"
      },
      {
        "duration": 87,
        "start_time": "2022-09-16T16:07:33.605Z"
      },
      {
        "duration": 10,
        "start_time": "2022-09-16T16:07:53.676Z"
      },
      {
        "duration": 4,
        "start_time": "2022-09-16T16:08:05.587Z"
      },
      {
        "duration": 91,
        "start_time": "2022-09-16T16:08:23.933Z"
      },
      {
        "duration": 8,
        "start_time": "2022-09-16T16:08:41.797Z"
      },
      {
        "duration": 4,
        "start_time": "2022-09-16T16:08:52.087Z"
      },
      {
        "duration": 9,
        "start_time": "2022-09-16T16:09:09.485Z"
      },
      {
        "duration": 4,
        "start_time": "2022-09-16T16:09:10.878Z"
      },
      {
        "duration": 8,
        "start_time": "2022-09-16T16:09:19.041Z"
      },
      {
        "duration": 4,
        "start_time": "2022-09-16T16:09:19.756Z"
      },
      {
        "duration": 99,
        "start_time": "2022-09-16T16:09:42.166Z"
      },
      {
        "duration": 107,
        "start_time": "2022-09-16T16:10:10.515Z"
      },
      {
        "duration": 34,
        "start_time": "2022-09-16T16:10:37.662Z"
      },
      {
        "duration": 4,
        "start_time": "2022-09-16T16:11:07.890Z"
      },
      {
        "duration": 91,
        "start_time": "2022-09-16T16:11:20.381Z"
      },
      {
        "duration": 8,
        "start_time": "2022-09-16T16:12:03.938Z"
      },
      {
        "duration": 4,
        "start_time": "2022-09-16T16:12:10.558Z"
      },
      {
        "duration": 101,
        "start_time": "2022-09-16T16:12:15.606Z"
      },
      {
        "duration": 10,
        "start_time": "2022-09-16T16:13:58.348Z"
      },
      {
        "duration": 3,
        "start_time": "2022-09-16T16:14:07.345Z"
      },
      {
        "duration": 102,
        "start_time": "2022-09-16T16:14:38.337Z"
      },
      {
        "duration": 22,
        "start_time": "2022-09-16T16:15:56.915Z"
      },
      {
        "duration": 219,
        "start_time": "2022-09-16T16:16:02.509Z"
      },
      {
        "duration": 215,
        "start_time": "2022-09-16T16:16:10.283Z"
      },
      {
        "duration": 123,
        "start_time": "2022-09-16T16:16:14.640Z"
      },
      {
        "duration": 93,
        "start_time": "2022-09-16T16:16:38.178Z"
      },
      {
        "duration": 1770,
        "start_time": "2022-09-16T16:16:39.003Z"
      },
      {
        "duration": 49,
        "start_time": "2022-09-16T16:16:40.774Z"
      },
      {
        "duration": 67,
        "start_time": "2022-09-16T16:16:42.130Z"
      },
      {
        "duration": 6,
        "start_time": "2022-09-16T16:16:43.220Z"
      },
      {
        "duration": 13,
        "start_time": "2022-09-16T16:16:44.455Z"
      },
      {
        "duration": 9,
        "start_time": "2022-09-16T16:16:46.334Z"
      },
      {
        "duration": 13,
        "start_time": "2022-09-16T16:16:50.708Z"
      },
      {
        "duration": 22,
        "start_time": "2022-09-16T16:16:52.414Z"
      },
      {
        "duration": 11,
        "start_time": "2022-09-16T16:16:53.255Z"
      },
      {
        "duration": 26,
        "start_time": "2022-09-16T16:16:55.258Z"
      },
      {
        "duration": 6,
        "start_time": "2022-09-16T16:16:56.235Z"
      },
      {
        "duration": 3,
        "start_time": "2022-09-16T16:16:57.824Z"
      },
      {
        "duration": 36,
        "start_time": "2022-09-16T16:17:14.433Z"
      },
      {
        "duration": 6,
        "start_time": "2022-09-16T16:17:15.241Z"
      },
      {
        "duration": 8,
        "start_time": "2022-09-16T16:17:17.788Z"
      },
      {
        "duration": 66,
        "start_time": "2022-09-16T16:17:22.367Z"
      },
      {
        "duration": 9,
        "start_time": "2022-09-16T16:17:25.781Z"
      },
      {
        "duration": 3,
        "start_time": "2022-09-16T16:17:30.218Z"
      },
      {
        "duration": 14,
        "start_time": "2022-09-16T16:17:31.012Z"
      },
      {
        "duration": 10,
        "start_time": "2022-09-16T16:17:33.384Z"
      },
      {
        "duration": 125,
        "start_time": "2022-09-16T16:17:35.702Z"
      },
      {
        "duration": 139,
        "start_time": "2022-09-16T16:17:38.725Z"
      },
      {
        "duration": 10,
        "start_time": "2022-09-16T16:17:46.231Z"
      },
      {
        "duration": 4,
        "start_time": "2022-09-16T16:17:47.335Z"
      },
      {
        "duration": 8,
        "start_time": "2022-09-16T16:18:17.442Z"
      },
      {
        "duration": 103,
        "start_time": "2022-09-16T16:18:18.364Z"
      },
      {
        "duration": 286,
        "start_time": "2022-09-16T16:18:20.637Z"
      },
      {
        "duration": 11,
        "start_time": "2022-09-16T16:18:23.925Z"
      },
      {
        "duration": 3,
        "start_time": "2022-09-16T16:18:24.940Z"
      },
      {
        "duration": 101,
        "start_time": "2022-09-16T16:18:46.262Z"
      },
      {
        "duration": 216,
        "start_time": "2022-09-16T16:18:52.583Z"
      },
      {
        "duration": 9,
        "start_time": "2022-09-16T16:18:56.473Z"
      },
      {
        "duration": 12,
        "start_time": "2022-09-16T16:19:01.263Z"
      },
      {
        "duration": 4,
        "start_time": "2022-09-16T16:19:02.195Z"
      },
      {
        "duration": 10,
        "start_time": "2022-09-16T16:19:18.696Z"
      },
      {
        "duration": 104,
        "start_time": "2022-09-16T16:19:19.342Z"
      },
      {
        "duration": 10,
        "start_time": "2022-09-16T16:19:23.525Z"
      },
      {
        "duration": 4,
        "start_time": "2022-09-16T16:19:24.192Z"
      },
      {
        "duration": 9,
        "start_time": "2022-09-16T16:19:32.982Z"
      },
      {
        "duration": 105,
        "start_time": "2022-09-16T16:19:39.651Z"
      },
      {
        "duration": 96,
        "start_time": "2022-09-16T16:20:12.104Z"
      },
      {
        "duration": 8,
        "start_time": "2022-09-16T16:20:24.889Z"
      },
      {
        "duration": 104,
        "start_time": "2022-09-16T16:20:26.333Z"
      },
      {
        "duration": 208,
        "start_time": "2022-09-16T16:20:30.446Z"
      },
      {
        "duration": 102,
        "start_time": "2022-09-16T16:21:33.104Z"
      },
      {
        "duration": 106,
        "start_time": "2022-09-16T16:21:53.640Z"
      },
      {
        "duration": 10,
        "start_time": "2022-09-16T16:21:59.425Z"
      },
      {
        "duration": 3,
        "start_time": "2022-09-16T16:22:02.917Z"
      },
      {
        "duration": 103,
        "start_time": "2022-09-16T16:22:33.551Z"
      },
      {
        "duration": 64,
        "start_time": "2022-09-16T16:22:44.465Z"
      },
      {
        "duration": 4,
        "start_time": "2022-09-16T16:22:46.888Z"
      },
      {
        "duration": 226,
        "start_time": "2022-09-16T16:23:06.497Z"
      },
      {
        "duration": 15,
        "start_time": "2022-09-16T16:23:43.081Z"
      },
      {
        "duration": 3,
        "start_time": "2022-09-16T16:23:43.826Z"
      },
      {
        "duration": 95,
        "start_time": "2022-09-16T16:23:48.615Z"
      },
      {
        "duration": 3,
        "start_time": "2022-09-16T16:24:43.606Z"
      },
      {
        "duration": 105,
        "start_time": "2022-09-16T16:24:47.729Z"
      },
      {
        "duration": 212,
        "start_time": "2022-09-16T16:24:52.441Z"
      },
      {
        "duration": 226,
        "start_time": "2022-09-16T16:25:25.848Z"
      },
      {
        "duration": 258,
        "start_time": "2022-09-16T16:25:37.743Z"
      },
      {
        "duration": 12,
        "start_time": "2022-09-16T16:27:15.305Z"
      },
      {
        "duration": 5,
        "start_time": "2022-09-16T16:27:25.238Z"
      },
      {
        "duration": 113,
        "start_time": "2022-09-16T16:27:34.024Z"
      },
      {
        "duration": 42,
        "start_time": "2022-09-16T16:28:06.535Z"
      },
      {
        "duration": 4,
        "start_time": "2022-09-16T16:28:17.607Z"
      },
      {
        "duration": 13,
        "start_time": "2022-09-16T16:28:30.100Z"
      },
      {
        "duration": 3,
        "start_time": "2022-09-16T16:28:31.601Z"
      },
      {
        "duration": 101,
        "start_time": "2022-09-16T16:28:50.658Z"
      },
      {
        "duration": 42,
        "start_time": "2022-09-16T16:29:56.233Z"
      },
      {
        "duration": 4,
        "start_time": "2022-09-16T16:30:06.227Z"
      },
      {
        "duration": 50,
        "start_time": "2022-09-16T16:30:29.435Z"
      },
      {
        "duration": 5,
        "start_time": "2022-09-16T16:30:31.067Z"
      },
      {
        "duration": 10,
        "start_time": "2022-09-16T16:30:49.338Z"
      },
      {
        "duration": 3,
        "start_time": "2022-09-16T16:30:50.019Z"
      },
      {
        "duration": 102,
        "start_time": "2022-09-16T16:31:12.848Z"
      },
      {
        "duration": 7,
        "start_time": "2022-09-16T16:31:24.725Z"
      },
      {
        "duration": 3,
        "start_time": "2022-09-16T16:31:33.216Z"
      },
      {
        "duration": 8,
        "start_time": "2022-09-16T16:31:54.649Z"
      },
      {
        "duration": 5,
        "start_time": "2022-09-16T16:31:56.224Z"
      },
      {
        "duration": 7,
        "start_time": "2022-09-16T16:31:59.213Z"
      },
      {
        "duration": 4,
        "start_time": "2022-09-16T16:31:59.864Z"
      },
      {
        "duration": 113,
        "start_time": "2022-09-16T16:32:07.478Z"
      },
      {
        "duration": 95,
        "start_time": "2022-09-16T16:32:46.115Z"
      },
      {
        "duration": 87,
        "start_time": "2022-09-16T16:32:55.222Z"
      },
      {
        "duration": 244,
        "start_time": "2022-09-16T16:33:17.199Z"
      },
      {
        "duration": 6,
        "start_time": "2022-09-16T16:33:29.491Z"
      },
      {
        "duration": 3,
        "start_time": "2022-09-16T16:33:29.991Z"
      },
      {
        "duration": 108,
        "start_time": "2022-09-16T16:33:33.415Z"
      },
      {
        "duration": 19,
        "start_time": "2022-09-16T16:35:02.945Z"
      },
      {
        "duration": 9,
        "start_time": "2022-09-16T16:35:08.609Z"
      },
      {
        "duration": 4,
        "start_time": "2022-09-16T16:35:15.523Z"
      },
      {
        "duration": 104,
        "start_time": "2022-09-16T16:35:25.206Z"
      },
      {
        "duration": 130,
        "start_time": "2022-09-16T16:35:29.565Z"
      },
      {
        "duration": 7,
        "start_time": "2022-09-16T16:36:43.805Z"
      },
      {
        "duration": 4,
        "start_time": "2022-09-16T16:36:50.037Z"
      },
      {
        "duration": 5,
        "start_time": "2022-09-16T16:36:59.302Z"
      },
      {
        "duration": 4,
        "start_time": "2022-09-16T16:37:09.427Z"
      },
      {
        "duration": 5,
        "start_time": "2022-09-16T16:38:03.559Z"
      },
      {
        "duration": 7,
        "start_time": "2022-09-16T16:38:04.179Z"
      },
      {
        "duration": 3,
        "start_time": "2022-09-16T16:38:06.113Z"
      },
      {
        "duration": 3,
        "start_time": "2022-09-16T16:38:13.376Z"
      },
      {
        "duration": 30,
        "start_time": "2022-09-16T16:38:17.774Z"
      },
      {
        "duration": 4,
        "start_time": "2022-09-16T16:38:18.815Z"
      },
      {
        "duration": 4,
        "start_time": "2022-09-16T16:38:19.860Z"
      },
      {
        "duration": 8,
        "start_time": "2022-09-16T16:39:01.480Z"
      },
      {
        "duration": 10,
        "start_time": "2022-09-16T16:39:20.050Z"
      },
      {
        "duration": 7,
        "start_time": "2022-09-16T16:39:38.479Z"
      },
      {
        "duration": 6,
        "start_time": "2022-09-16T16:39:44.953Z"
      },
      {
        "duration": 5,
        "start_time": "2022-09-16T16:39:47.738Z"
      },
      {
        "duration": 4,
        "start_time": "2022-09-16T16:39:52.423Z"
      },
      {
        "duration": 6,
        "start_time": "2022-09-16T16:39:53.173Z"
      },
      {
        "duration": 6,
        "start_time": "2022-09-16T16:39:59.747Z"
      },
      {
        "duration": 8,
        "start_time": "2022-09-16T16:40:04.188Z"
      },
      {
        "duration": 7,
        "start_time": "2022-09-16T16:40:08.101Z"
      },
      {
        "duration": 98,
        "start_time": "2022-09-16T16:40:27.843Z"
      },
      {
        "duration": 84,
        "start_time": "2022-09-16T16:40:57.502Z"
      },
      {
        "duration": 1794,
        "start_time": "2022-09-16T16:40:58.082Z"
      },
      {
        "duration": 49,
        "start_time": "2022-09-16T16:40:59.879Z"
      },
      {
        "duration": 67,
        "start_time": "2022-09-16T16:40:59.929Z"
      },
      {
        "duration": 5,
        "start_time": "2022-09-16T16:41:00.138Z"
      },
      {
        "duration": 13,
        "start_time": "2022-09-16T16:41:00.367Z"
      },
      {
        "duration": 9,
        "start_time": "2022-09-16T16:41:01.154Z"
      },
      {
        "duration": 14,
        "start_time": "2022-09-16T16:41:02.126Z"
      },
      {
        "duration": 20,
        "start_time": "2022-09-16T16:41:02.534Z"
      },
      {
        "duration": 9,
        "start_time": "2022-09-16T16:41:02.750Z"
      },
      {
        "duration": 25,
        "start_time": "2022-09-16T16:41:03.149Z"
      },
      {
        "duration": 6,
        "start_time": "2022-09-16T16:41:03.374Z"
      },
      {
        "duration": 4,
        "start_time": "2022-09-16T16:41:04.040Z"
      },
      {
        "duration": 41,
        "start_time": "2022-09-16T16:41:04.982Z"
      },
      {
        "duration": 5,
        "start_time": "2022-09-16T16:41:05.176Z"
      },
      {
        "duration": 6,
        "start_time": "2022-09-16T16:41:05.398Z"
      },
      {
        "duration": 68,
        "start_time": "2022-09-16T16:41:06.504Z"
      },
      {
        "duration": 9,
        "start_time": "2022-09-16T16:41:07.313Z"
      },
      {
        "duration": 4,
        "start_time": "2022-09-16T16:41:08.864Z"
      },
      {
        "duration": 13,
        "start_time": "2022-09-16T16:41:10.174Z"
      },
      {
        "duration": 9,
        "start_time": "2022-09-16T16:41:13.213Z"
      },
      {
        "duration": 127,
        "start_time": "2022-09-16T16:41:28.104Z"
      },
      {
        "duration": 149,
        "start_time": "2022-09-16T16:41:28.725Z"
      },
      {
        "duration": 10,
        "start_time": "2022-09-16T16:41:32.340Z"
      },
      {
        "duration": 5,
        "start_time": "2022-09-16T16:41:32.962Z"
      },
      {
        "duration": 8,
        "start_time": "2022-09-16T16:41:35.076Z"
      },
      {
        "duration": 283,
        "start_time": "2022-09-16T16:41:35.778Z"
      },
      {
        "duration": 176,
        "start_time": "2022-09-16T16:41:36.463Z"
      },
      {
        "duration": 11,
        "start_time": "2022-09-16T16:41:37.301Z"
      },
      {
        "duration": 4,
        "start_time": "2022-09-16T16:41:38.410Z"
      },
      {
        "duration": 101,
        "start_time": "2022-09-16T16:41:41.105Z"
      },
      {
        "duration": 228,
        "start_time": "2022-09-16T16:41:42.026Z"
      },
      {
        "duration": 12,
        "start_time": "2022-09-16T16:41:42.929Z"
      },
      {
        "duration": 3,
        "start_time": "2022-09-16T16:41:43.769Z"
      },
      {
        "duration": 9,
        "start_time": "2022-09-16T16:41:45.939Z"
      },
      {
        "duration": 100,
        "start_time": "2022-09-16T16:41:46.780Z"
      },
      {
        "duration": 10,
        "start_time": "2022-09-16T16:41:49.922Z"
      },
      {
        "duration": 3,
        "start_time": "2022-09-16T16:41:50.579Z"
      },
      {
        "duration": 9,
        "start_time": "2022-09-16T16:41:52.427Z"
      },
      {
        "duration": 123,
        "start_time": "2022-09-16T16:41:53.157Z"
      },
      {
        "duration": 243,
        "start_time": "2022-09-16T16:41:53.710Z"
      },
      {
        "duration": 10,
        "start_time": "2022-09-16T16:41:54.784Z"
      },
      {
        "duration": 5,
        "start_time": "2022-09-16T16:41:55.498Z"
      },
      {
        "duration": 109,
        "start_time": "2022-09-16T16:41:58.730Z"
      },
      {
        "duration": 9,
        "start_time": "2022-09-16T16:41:59.401Z"
      },
      {
        "duration": 4,
        "start_time": "2022-09-16T16:42:00.289Z"
      },
      {
        "duration": 110,
        "start_time": "2022-09-16T16:42:02.218Z"
      },
      {
        "duration": 68,
        "start_time": "2022-09-16T16:42:03.125Z"
      },
      {
        "duration": 4,
        "start_time": "2022-09-16T16:42:03.917Z"
      },
      {
        "duration": 108,
        "start_time": "2022-09-16T16:42:05.819Z"
      },
      {
        "duration": 15,
        "start_time": "2022-09-16T16:42:06.564Z"
      },
      {
        "duration": 4,
        "start_time": "2022-09-16T16:42:07.294Z"
      },
      {
        "duration": 96,
        "start_time": "2022-09-16T16:42:09.314Z"
      },
      {
        "duration": 9,
        "start_time": "2022-09-16T16:42:09.948Z"
      },
      {
        "duration": 4,
        "start_time": "2022-09-16T16:42:10.536Z"
      },
      {
        "duration": 102,
        "start_time": "2022-09-16T16:42:12.462Z"
      },
      {
        "duration": 212,
        "start_time": "2022-09-16T16:42:13.454Z"
      },
      {
        "duration": 8,
        "start_time": "2022-09-16T16:42:14.738Z"
      },
      {
        "duration": 4,
        "start_time": "2022-09-16T16:42:15.440Z"
      },
      {
        "duration": 102,
        "start_time": "2022-09-16T16:42:19.758Z"
      },
      {
        "duration": 151,
        "start_time": "2022-09-16T16:43:41.927Z"
      },
      {
        "duration": 10,
        "start_time": "2022-09-16T16:43:52.022Z"
      },
      {
        "duration": 4,
        "start_time": "2022-09-16T16:43:52.675Z"
      },
      {
        "duration": 117,
        "start_time": "2022-09-16T16:43:57.519Z"
      },
      {
        "duration": 114,
        "start_time": "2022-09-16T16:44:20.359Z"
      },
      {
        "duration": 8,
        "start_time": "2022-09-16T16:44:24.575Z"
      },
      {
        "duration": 3,
        "start_time": "2022-09-16T16:44:25.773Z"
      },
      {
        "duration": 104,
        "start_time": "2022-09-16T16:44:33.228Z"
      },
      {
        "duration": 108,
        "start_time": "2022-09-16T16:44:52.990Z"
      },
      {
        "duration": 8,
        "start_time": "2022-09-16T16:44:56.468Z"
      },
      {
        "duration": 3,
        "start_time": "2022-09-16T16:44:57.588Z"
      },
      {
        "duration": 305,
        "start_time": "2022-09-16T16:45:04.236Z"
      },
      {
        "duration": 8,
        "start_time": "2022-09-16T16:45:08.620Z"
      },
      {
        "duration": 4,
        "start_time": "2022-09-16T16:45:09.367Z"
      },
      {
        "duration": 118,
        "start_time": "2022-09-16T16:45:35.650Z"
      },
      {
        "duration": 128,
        "start_time": "2022-09-16T16:45:45.387Z"
      },
      {
        "duration": 8,
        "start_time": "2022-09-16T16:45:48.343Z"
      },
      {
        "duration": 3,
        "start_time": "2022-09-16T16:45:50.568Z"
      },
      {
        "duration": 5,
        "start_time": "2022-09-16T16:46:19.629Z"
      },
      {
        "duration": 4,
        "start_time": "2022-09-16T16:46:29.259Z"
      },
      {
        "duration": 7,
        "start_time": "2022-09-16T16:46:30.933Z"
      },
      {
        "duration": 4,
        "start_time": "2022-09-16T16:46:31.850Z"
      },
      {
        "duration": 29,
        "start_time": "2022-09-16T16:46:33.110Z"
      },
      {
        "duration": 3,
        "start_time": "2022-09-16T16:46:35.263Z"
      },
      {
        "duration": 5,
        "start_time": "2022-09-16T16:46:36.293Z"
      },
      {
        "duration": 8,
        "start_time": "2022-09-16T16:46:48.321Z"
      },
      {
        "duration": 7,
        "start_time": "2022-09-16T16:46:53.978Z"
      },
      {
        "duration": 172,
        "start_time": "2022-09-16T16:46:58.005Z"
      },
      {
        "duration": 163,
        "start_time": "2022-09-16T16:47:22.315Z"
      },
      {
        "duration": 5,
        "start_time": "2022-09-16T16:47:36.036Z"
      },
      {
        "duration": 191,
        "start_time": "2022-09-16T16:47:38.732Z"
      },
      {
        "duration": 218,
        "start_time": "2022-09-16T16:48:02.749Z"
      },
      {
        "duration": 173,
        "start_time": "2022-09-16T16:48:09.611Z"
      },
      {
        "duration": 5,
        "start_time": "2022-09-16T16:48:22.715Z"
      },
      {
        "duration": 164,
        "start_time": "2022-09-16T16:48:25.439Z"
      },
      {
        "duration": 6,
        "start_time": "2022-09-16T16:48:54.682Z"
      },
      {
        "duration": 156,
        "start_time": "2022-09-16T16:48:58.264Z"
      },
      {
        "duration": 224,
        "start_time": "2022-09-16T16:49:22.973Z"
      },
      {
        "duration": 242,
        "start_time": "2022-09-16T16:49:57.104Z"
      },
      {
        "duration": 29663,
        "start_time": "2022-09-16T16:50:04.204Z"
      },
      {
        "duration": 18,
        "start_time": "2022-09-16T16:51:59.413Z"
      },
      {
        "duration": 14,
        "start_time": "2022-09-16T16:52:18.691Z"
      },
      {
        "duration": 13,
        "start_time": "2022-09-16T16:52:23.235Z"
      },
      {
        "duration": 466,
        "start_time": "2022-09-16T16:54:04.992Z"
      },
      {
        "duration": 15,
        "start_time": "2022-09-16T16:54:48.622Z"
      },
      {
        "duration": 127,
        "start_time": "2022-09-16T16:54:49.402Z"
      },
      {
        "duration": 3,
        "start_time": "2022-09-16T16:55:19.238Z"
      },
      {
        "duration": 98,
        "start_time": "2022-09-16T16:55:32.046Z"
      },
      {
        "duration": 107,
        "start_time": "2022-09-16T16:55:41.600Z"
      },
      {
        "duration": 116,
        "start_time": "2022-09-16T16:55:55.719Z"
      },
      {
        "duration": 108,
        "start_time": "2022-09-16T16:56:34.402Z"
      },
      {
        "duration": 1361,
        "start_time": "2022-09-16T16:57:12.208Z"
      },
      {
        "duration": 4,
        "start_time": "2022-09-16T16:58:28.685Z"
      },
      {
        "duration": 137,
        "start_time": "2022-09-16T16:59:29.737Z"
      },
      {
        "duration": 151,
        "start_time": "2022-09-16T16:59:51.524Z"
      },
      {
        "duration": 129,
        "start_time": "2022-09-16T17:00:01.008Z"
      },
      {
        "duration": 4,
        "start_time": "2022-09-16T17:02:39.730Z"
      },
      {
        "duration": 145,
        "start_time": "2022-09-16T17:03:50.716Z"
      },
      {
        "duration": 148,
        "start_time": "2022-09-16T17:04:05.159Z"
      },
      {
        "duration": 137,
        "start_time": "2022-09-16T17:04:28.087Z"
      },
      {
        "duration": 127,
        "start_time": "2022-09-16T17:04:46.805Z"
      },
      {
        "duration": 21,
        "start_time": "2022-09-16T17:05:39.436Z"
      },
      {
        "duration": 14,
        "start_time": "2022-09-16T17:05:56.074Z"
      },
      {
        "duration": 130,
        "start_time": "2022-09-16T17:06:00.175Z"
      },
      {
        "duration": 288,
        "start_time": "2022-09-16T17:06:38.846Z"
      },
      {
        "duration": 214,
        "start_time": "2022-09-16T17:06:53.314Z"
      },
      {
        "duration": 182,
        "start_time": "2022-09-16T17:06:59.103Z"
      },
      {
        "duration": 148,
        "start_time": "2022-09-16T17:07:07.326Z"
      },
      {
        "duration": 143,
        "start_time": "2022-09-16T17:10:34.651Z"
      },
      {
        "duration": 23752,
        "start_time": "2022-09-16T17:11:42.243Z"
      },
      {
        "duration": 36,
        "start_time": "2022-09-16T17:12:05.997Z"
      },
      {
        "duration": 21,
        "start_time": "2022-09-16T17:12:21.100Z"
      },
      {
        "duration": 20,
        "start_time": "2022-09-16T17:14:06.203Z"
      },
      {
        "duration": 8,
        "start_time": "2022-09-16T17:14:22.268Z"
      },
      {
        "duration": 8,
        "start_time": "2022-09-16T17:14:33.462Z"
      },
      {
        "duration": 260,
        "start_time": "2022-09-16T17:15:09.123Z"
      },
      {
        "duration": 170,
        "start_time": "2022-09-16T17:15:34.966Z"
      },
      {
        "duration": 153,
        "start_time": "2022-09-16T17:15:42.392Z"
      },
      {
        "duration": 195,
        "start_time": "2022-09-16T17:16:01.439Z"
      },
      {
        "duration": 149,
        "start_time": "2022-09-16T17:16:30.474Z"
      },
      {
        "duration": 19,
        "start_time": "2022-09-16T17:17:11.658Z"
      },
      {
        "duration": 5,
        "start_time": "2022-09-16T17:18:09.138Z"
      },
      {
        "duration": 5,
        "start_time": "2022-09-16T17:18:29.554Z"
      },
      {
        "duration": 23,
        "start_time": "2022-09-16T17:20:32.498Z"
      },
      {
        "duration": 19,
        "start_time": "2022-09-16T17:21:11.761Z"
      },
      {
        "duration": 20,
        "start_time": "2022-09-16T17:21:35.102Z"
      },
      {
        "duration": 20,
        "start_time": "2022-09-16T17:21:46.727Z"
      },
      {
        "duration": 10,
        "start_time": "2022-09-16T17:23:47.508Z"
      },
      {
        "duration": 5,
        "start_time": "2022-09-16T17:26:11.643Z"
      },
      {
        "duration": 20,
        "start_time": "2022-09-16T17:26:24.994Z"
      },
      {
        "duration": 31,
        "start_time": "2022-09-16T17:29:23.290Z"
      },
      {
        "duration": 8,
        "start_time": "2022-09-16T17:31:03.336Z"
      },
      {
        "duration": 4,
        "start_time": "2022-09-16T17:31:10.882Z"
      },
      {
        "duration": 6,
        "start_time": "2022-09-16T17:31:20.663Z"
      },
      {
        "duration": 6,
        "start_time": "2022-09-16T17:32:56.426Z"
      },
      {
        "duration": 14,
        "start_time": "2022-09-16T17:33:05.981Z"
      },
      {
        "duration": 9,
        "start_time": "2022-09-16T17:35:44.440Z"
      },
      {
        "duration": 4,
        "start_time": "2022-09-16T17:37:19.072Z"
      },
      {
        "duration": 760,
        "start_time": "2022-09-16T17:37:37.189Z"
      },
      {
        "duration": 1040,
        "start_time": "2022-09-16T17:38:07.347Z"
      },
      {
        "duration": 4,
        "start_time": "2022-09-16T17:38:55.982Z"
      },
      {
        "duration": 6,
        "start_time": "2022-09-16T17:39:05.177Z"
      },
      {
        "duration": 6,
        "start_time": "2022-09-16T17:39:17.253Z"
      },
      {
        "duration": 4,
        "start_time": "2022-09-16T17:39:21.920Z"
      },
      {
        "duration": 34,
        "start_time": "2022-09-16T17:39:40.281Z"
      },
      {
        "duration": 4,
        "start_time": "2022-09-16T17:41:11.426Z"
      },
      {
        "duration": 3,
        "start_time": "2022-09-16T17:41:21.405Z"
      },
      {
        "duration": 33,
        "start_time": "2022-09-16T17:41:22.886Z"
      },
      {
        "duration": 3,
        "start_time": "2022-09-16T17:41:48.797Z"
      },
      {
        "duration": 33,
        "start_time": "2022-09-16T17:41:49.688Z"
      },
      {
        "duration": 14,
        "start_time": "2022-09-16T17:41:52.456Z"
      },
      {
        "duration": 235,
        "start_time": "2022-09-16T17:43:09.368Z"
      },
      {
        "duration": 13,
        "start_time": "2022-09-16T17:43:31.180Z"
      },
      {
        "duration": 10,
        "start_time": "2022-09-16T17:44:18.057Z"
      },
      {
        "duration": 10,
        "start_time": "2022-09-16T17:44:20.924Z"
      },
      {
        "duration": 7,
        "start_time": "2022-09-16T17:44:27.679Z"
      },
      {
        "duration": 4,
        "start_time": "2022-09-16T17:44:28.284Z"
      },
      {
        "duration": 37,
        "start_time": "2022-09-16T17:44:29.071Z"
      },
      {
        "duration": 15,
        "start_time": "2022-09-16T17:44:31.142Z"
      },
      {
        "duration": 1619,
        "start_time": "2022-09-16T17:46:11.777Z"
      },
      {
        "duration": 1249,
        "start_time": "2022-09-16T17:46:22.910Z"
      },
      {
        "duration": 14,
        "start_time": "2022-09-16T17:46:55.110Z"
      },
      {
        "duration": 1028,
        "start_time": "2022-09-16T17:47:22.227Z"
      },
      {
        "duration": 157,
        "start_time": "2022-09-16T17:47:38.352Z"
      },
      {
        "duration": 179,
        "start_time": "2022-09-16T17:47:56.922Z"
      },
      {
        "duration": 183,
        "start_time": "2022-09-16T17:48:48.025Z"
      },
      {
        "duration": 20,
        "start_time": "2022-09-16T17:59:39.985Z"
      },
      {
        "duration": 46,
        "start_time": "2022-09-17T10:42:44.613Z"
      },
      {
        "duration": 592,
        "start_time": "2022-09-17T10:42:54.589Z"
      },
      {
        "duration": 2157,
        "start_time": "2022-09-17T10:42:55.183Z"
      },
      {
        "duration": 65,
        "start_time": "2022-09-17T10:42:57.341Z"
      },
      {
        "duration": 86,
        "start_time": "2022-09-17T10:42:57.410Z"
      },
      {
        "duration": 6,
        "start_time": "2022-09-17T10:42:57.498Z"
      },
      {
        "duration": 29,
        "start_time": "2022-09-17T10:42:57.505Z"
      },
      {
        "duration": 10,
        "start_time": "2022-09-17T10:42:57.536Z"
      },
      {
        "duration": 18,
        "start_time": "2022-09-17T10:42:57.548Z"
      },
      {
        "duration": 35,
        "start_time": "2022-09-17T10:42:57.568Z"
      },
      {
        "duration": 10,
        "start_time": "2022-09-17T10:42:57.605Z"
      },
      {
        "duration": 27,
        "start_time": "2022-09-17T10:42:57.617Z"
      },
      {
        "duration": 5,
        "start_time": "2022-09-17T10:42:57.646Z"
      },
      {
        "duration": 11,
        "start_time": "2022-09-17T10:42:57.652Z"
      },
      {
        "duration": 36,
        "start_time": "2022-09-17T10:42:57.690Z"
      },
      {
        "duration": 5,
        "start_time": "2022-09-17T10:42:57.727Z"
      },
      {
        "duration": 10,
        "start_time": "2022-09-17T10:42:57.733Z"
      },
      {
        "duration": 94,
        "start_time": "2022-09-17T10:42:57.744Z"
      },
      {
        "duration": 8,
        "start_time": "2022-09-17T10:42:57.839Z"
      },
      {
        "duration": 10,
        "start_time": "2022-09-17T10:42:57.848Z"
      },
      {
        "duration": 587,
        "start_time": "2022-09-17T10:42:57.859Z"
      },
      {
        "duration": 15,
        "start_time": "2022-09-17T10:42:58.447Z"
      },
      {
        "duration": 10,
        "start_time": "2022-09-17T10:42:58.464Z"
      },
      {
        "duration": 162,
        "start_time": "2022-09-17T10:42:58.476Z"
      },
      {
        "duration": 155,
        "start_time": "2022-09-17T10:42:58.640Z"
      },
      {
        "duration": 13,
        "start_time": "2022-09-17T10:42:58.797Z"
      },
      {
        "duration": 4,
        "start_time": "2022-09-17T10:42:58.811Z"
      },
      {
        "duration": 11,
        "start_time": "2022-09-17T10:42:58.816Z"
      },
      {
        "duration": 134,
        "start_time": "2022-09-17T10:42:58.831Z"
      },
      {
        "duration": 214,
        "start_time": "2022-09-17T10:42:58.967Z"
      },
      {
        "duration": 17,
        "start_time": "2022-09-17T10:42:59.183Z"
      },
      {
        "duration": 4,
        "start_time": "2022-09-17T10:42:59.202Z"
      },
      {
        "duration": 139,
        "start_time": "2022-09-17T10:42:59.207Z"
      },
      {
        "duration": 304,
        "start_time": "2022-09-17T10:42:59.348Z"
      },
      {
        "duration": 12,
        "start_time": "2022-09-17T10:42:59.654Z"
      },
      {
        "duration": 4,
        "start_time": "2022-09-17T10:42:59.667Z"
      },
      {
        "duration": 8,
        "start_time": "2022-09-17T10:42:59.690Z"
      },
      {
        "duration": 118,
        "start_time": "2022-09-17T10:42:59.700Z"
      },
      {
        "duration": 10,
        "start_time": "2022-09-17T10:42:59.820Z"
      },
      {
        "duration": 8,
        "start_time": "2022-09-17T10:42:59.831Z"
      },
      {
        "duration": 12,
        "start_time": "2022-09-17T10:42:59.840Z"
      },
      {
        "duration": 123,
        "start_time": "2022-09-17T10:42:59.853Z"
      },
      {
        "duration": 381,
        "start_time": "2022-09-17T10:42:59.977Z"
      },
      {
        "duration": 12,
        "start_time": "2022-09-17T10:43:00.359Z"
      },
      {
        "duration": 69,
        "start_time": "2022-09-17T10:43:00.373Z"
      },
      {
        "duration": 148,
        "start_time": "2022-09-17T10:43:00.443Z"
      },
      {
        "duration": 20,
        "start_time": "2022-09-17T10:43:00.593Z"
      },
      {
        "duration": 39,
        "start_time": "2022-09-17T10:43:00.615Z"
      },
      {
        "duration": 198,
        "start_time": "2022-09-17T10:43:00.656Z"
      },
      {
        "duration": 67,
        "start_time": "2022-09-17T10:43:00.856Z"
      },
      {
        "duration": 4,
        "start_time": "2022-09-17T10:43:00.925Z"
      },
      {
        "duration": 129,
        "start_time": "2022-09-17T10:43:00.930Z"
      },
      {
        "duration": 16,
        "start_time": "2022-09-17T10:43:01.061Z"
      },
      {
        "duration": 6,
        "start_time": "2022-09-17T10:43:01.090Z"
      },
      {
        "duration": 120,
        "start_time": "2022-09-17T10:43:01.098Z"
      },
      {
        "duration": 12,
        "start_time": "2022-09-17T10:43:01.220Z"
      },
      {
        "duration": 25,
        "start_time": "2022-09-17T10:43:01.234Z"
      },
      {
        "duration": 143,
        "start_time": "2022-09-17T10:43:01.261Z"
      },
      {
        "duration": 266,
        "start_time": "2022-09-17T10:43:01.406Z"
      },
      {
        "duration": 18,
        "start_time": "2022-09-17T10:43:01.674Z"
      },
      {
        "duration": 8,
        "start_time": "2022-09-17T10:43:01.694Z"
      },
      {
        "duration": 136,
        "start_time": "2022-09-17T10:43:01.703Z"
      },
      {
        "duration": 11,
        "start_time": "2022-09-17T10:43:01.841Z"
      },
      {
        "duration": 10,
        "start_time": "2022-09-17T10:43:01.854Z"
      },
      {
        "duration": 266,
        "start_time": "2022-09-17T10:43:01.866Z"
      },
      {
        "duration": 8,
        "start_time": "2022-09-17T10:43:02.133Z"
      },
      {
        "duration": 8,
        "start_time": "2022-09-17T10:43:02.143Z"
      },
      {
        "duration": 119,
        "start_time": "2022-09-17T10:43:02.152Z"
      },
      {
        "duration": 16,
        "start_time": "2022-09-17T10:43:02.273Z"
      },
      {
        "duration": 4,
        "start_time": "2022-09-17T10:43:02.290Z"
      },
      {
        "duration": 120,
        "start_time": "2022-09-17T10:43:02.295Z"
      },
      {
        "duration": 8,
        "start_time": "2022-09-17T10:43:02.417Z"
      },
      {
        "duration": 8,
        "start_time": "2022-09-17T10:43:02.427Z"
      },
      {
        "duration": 136,
        "start_time": "2022-09-17T10:43:02.436Z"
      },
      {
        "duration": 161,
        "start_time": "2022-09-17T10:43:02.574Z"
      },
      {
        "duration": 8,
        "start_time": "2022-09-17T10:43:02.736Z"
      },
      {
        "duration": 7,
        "start_time": "2022-09-17T10:43:02.745Z"
      },
      {
        "duration": 6,
        "start_time": "2022-09-17T10:43:02.754Z"
      },
      {
        "duration": 8,
        "start_time": "2022-09-17T10:43:02.761Z"
      },
      {
        "duration": 4,
        "start_time": "2022-09-17T10:43:02.788Z"
      },
      {
        "duration": 34,
        "start_time": "2022-09-17T10:43:02.793Z"
      },
      {
        "duration": 3,
        "start_time": "2022-09-17T10:43:02.829Z"
      },
      {
        "duration": 5,
        "start_time": "2022-09-17T10:43:02.837Z"
      },
      {
        "duration": 9,
        "start_time": "2022-09-17T10:43:02.843Z"
      },
      {
        "duration": 6,
        "start_time": "2022-09-17T10:43:02.854Z"
      },
      {
        "duration": 198,
        "start_time": "2022-09-17T10:43:02.861Z"
      },
      {
        "duration": 4,
        "start_time": "2022-09-17T10:43:03.061Z"
      },
      {
        "duration": 202,
        "start_time": "2022-09-17T10:43:03.067Z"
      },
      {
        "duration": 5,
        "start_time": "2022-09-17T10:43:03.271Z"
      },
      {
        "duration": 213,
        "start_time": "2022-09-17T10:43:03.277Z"
      },
      {
        "duration": 5,
        "start_time": "2022-09-17T10:43:03.492Z"
      },
      {
        "duration": 180,
        "start_time": "2022-09-17T10:43:03.498Z"
      },
      {
        "duration": 22,
        "start_time": "2022-09-17T10:43:03.680Z"
      },
      {
        "duration": 153,
        "start_time": "2022-09-17T10:43:03.704Z"
      },
      {
        "duration": 200,
        "start_time": "2022-09-17T10:43:03.860Z"
      },
      {
        "duration": 75,
        "start_time": "2022-09-17T10:43:04.062Z"
      },
      {
        "duration": 0,
        "start_time": "2022-09-17T10:43:04.138Z"
      },
      {
        "duration": 0,
        "start_time": "2022-09-17T10:43:04.140Z"
      },
      {
        "duration": 0,
        "start_time": "2022-09-17T10:43:04.141Z"
      },
      {
        "duration": 0,
        "start_time": "2022-09-17T10:43:04.142Z"
      },
      {
        "duration": 0,
        "start_time": "2022-09-17T10:43:04.143Z"
      },
      {
        "duration": 0,
        "start_time": "2022-09-17T10:43:04.144Z"
      },
      {
        "duration": 0,
        "start_time": "2022-09-17T10:43:04.145Z"
      },
      {
        "duration": 0,
        "start_time": "2022-09-17T10:43:04.146Z"
      },
      {
        "duration": 0,
        "start_time": "2022-09-17T10:43:04.147Z"
      },
      {
        "duration": 0,
        "start_time": "2022-09-17T10:43:04.148Z"
      },
      {
        "duration": 0,
        "start_time": "2022-09-17T10:43:04.149Z"
      },
      {
        "duration": 19,
        "start_time": "2022-09-17T10:43:13.230Z"
      },
      {
        "duration": 213,
        "start_time": "2022-09-17T10:43:13.251Z"
      },
      {
        "duration": 23,
        "start_time": "2022-09-17T10:43:13.466Z"
      },
      {
        "duration": 165,
        "start_time": "2022-09-17T10:43:13.492Z"
      },
      {
        "duration": 31,
        "start_time": "2022-09-17T10:43:13.659Z"
      },
      {
        "duration": 4,
        "start_time": "2022-09-17T10:43:13.691Z"
      },
      {
        "duration": 7,
        "start_time": "2022-09-17T10:43:13.696Z"
      },
      {
        "duration": 5,
        "start_time": "2022-09-17T10:43:13.704Z"
      },
      {
        "duration": 39,
        "start_time": "2022-09-17T10:43:13.710Z"
      },
      {
        "duration": 38,
        "start_time": "2022-09-17T10:43:13.752Z"
      },
      {
        "duration": 176,
        "start_time": "2022-09-17T10:43:13.792Z"
      },
      {
        "duration": 102,
        "start_time": "2022-09-17T10:55:43.036Z"
      },
      {
        "duration": 130,
        "start_time": "2022-09-17T10:56:02.548Z"
      },
      {
        "duration": 126,
        "start_time": "2022-09-17T10:56:43.063Z"
      },
      {
        "duration": 129,
        "start_time": "2022-09-17T10:58:43.519Z"
      },
      {
        "duration": 74,
        "start_time": "2022-09-17T11:05:17.713Z"
      },
      {
        "duration": 467,
        "start_time": "2022-09-17T20:38:16.122Z"
      },
      {
        "duration": 335,
        "start_time": "2022-09-17T20:38:18.067Z"
      },
      {
        "duration": 10,
        "start_time": "2022-09-17T20:49:29.302Z"
      },
      {
        "duration": 14,
        "start_time": "2022-09-17T20:49:35.551Z"
      },
      {
        "duration": 23,
        "start_time": "2022-09-17T20:49:41.590Z"
      },
      {
        "duration": 98,
        "start_time": "2022-09-17T20:49:46.916Z"
      },
      {
        "duration": 10,
        "start_time": "2022-09-17T20:49:54.699Z"
      },
      {
        "duration": 11,
        "start_time": "2022-09-17T20:50:49.072Z"
      },
      {
        "duration": 10,
        "start_time": "2022-09-17T20:52:29.834Z"
      },
      {
        "duration": 60,
        "start_time": "2022-09-17T20:52:48.983Z"
      },
      {
        "duration": 54,
        "start_time": "2022-09-17T20:52:56.472Z"
      },
      {
        "duration": 45,
        "start_time": "2022-09-17T20:53:02.601Z"
      },
      {
        "duration": 18,
        "start_time": "2022-09-17T20:53:53.598Z"
      },
      {
        "duration": 61,
        "start_time": "2022-09-17T20:53:59.638Z"
      },
      {
        "duration": 6,
        "start_time": "2022-09-17T20:54:26.373Z"
      },
      {
        "duration": 20,
        "start_time": "2022-09-17T20:54:33.022Z"
      },
      {
        "duration": 8,
        "start_time": "2022-09-17T20:54:34.160Z"
      },
      {
        "duration": 7,
        "start_time": "2022-09-17T20:54:35.384Z"
      },
      {
        "duration": 27,
        "start_time": "2022-09-17T20:54:45.105Z"
      },
      {
        "duration": 4,
        "start_time": "2022-09-17T20:55:02.308Z"
      },
      {
        "duration": 7,
        "start_time": "2022-09-17T20:55:04.365Z"
      },
      {
        "duration": 4,
        "start_time": "2022-09-17T20:55:05.893Z"
      },
      {
        "duration": 21,
        "start_time": "2022-09-17T21:01:22.344Z"
      },
      {
        "duration": 33,
        "start_time": "2022-09-17T21:01:28.780Z"
      },
      {
        "duration": 6,
        "start_time": "2022-09-17T21:01:34.605Z"
      },
      {
        "duration": 4,
        "start_time": "2022-09-17T21:01:37.778Z"
      },
      {
        "duration": 52,
        "start_time": "2022-09-17T21:01:40.240Z"
      },
      {
        "duration": 9,
        "start_time": "2022-09-17T21:01:41.262Z"
      },
      {
        "duration": 14,
        "start_time": "2022-09-17T21:01:45.461Z"
      },
      {
        "duration": 415,
        "start_time": "2022-09-17T21:01:50.075Z"
      },
      {
        "duration": 7,
        "start_time": "2022-09-17T21:01:51.398Z"
      },
      {
        "duration": 364,
        "start_time": "2022-09-17T21:02:06.898Z"
      },
      {
        "duration": 434,
        "start_time": "2022-09-17T21:02:34.551Z"
      },
      {
        "duration": 76,
        "start_time": "2022-09-17T21:03:27.859Z"
      },
      {
        "duration": 5,
        "start_time": "2022-09-17T21:03:33.184Z"
      },
      {
        "duration": 4,
        "start_time": "2022-09-17T21:03:35.141Z"
      },
      {
        "duration": 35,
        "start_time": "2022-09-17T21:03:37.494Z"
      },
      {
        "duration": 4,
        "start_time": "2022-09-17T21:03:39.339Z"
      },
      {
        "duration": 11,
        "start_time": "2022-09-17T21:03:41.582Z"
      },
      {
        "duration": 392,
        "start_time": "2022-09-17T21:03:43.909Z"
      },
      {
        "duration": 368,
        "start_time": "2022-09-17T21:03:52.948Z"
      },
      {
        "duration": 22,
        "start_time": "2022-09-17T21:04:06.976Z"
      },
      {
        "duration": 571,
        "start_time": "2022-09-17T21:04:13.121Z"
      },
      {
        "duration": 364,
        "start_time": "2022-09-17T21:06:52.867Z"
      },
      {
        "duration": 318,
        "start_time": "2022-09-17T21:07:58.297Z"
      },
      {
        "duration": 410,
        "start_time": "2022-09-17T21:09:09.377Z"
      },
      {
        "duration": 25,
        "start_time": "2022-09-17T21:10:06.401Z"
      },
      {
        "duration": 266,
        "start_time": "2022-09-17T21:10:12.972Z"
      },
      {
        "duration": 53,
        "start_time": "2022-09-18T09:07:24.544Z"
      },
      {
        "duration": 372,
        "start_time": "2022-09-18T09:07:31.632Z"
      },
      {
        "duration": 304,
        "start_time": "2022-09-18T09:07:32.326Z"
      },
      {
        "duration": 45,
        "start_time": "2022-09-18T09:07:36.637Z"
      },
      {
        "duration": 62,
        "start_time": "2022-09-18T09:07:39.402Z"
      },
      {
        "duration": 5,
        "start_time": "2022-09-18T09:07:42.363Z"
      },
      {
        "duration": 14,
        "start_time": "2022-09-18T09:07:45.652Z"
      },
      {
        "duration": 9,
        "start_time": "2022-09-18T09:07:48.622Z"
      },
      {
        "duration": 14,
        "start_time": "2022-09-18T09:08:18.637Z"
      },
      {
        "duration": 18,
        "start_time": "2022-09-18T09:08:22.521Z"
      },
      {
        "duration": 3,
        "start_time": "2022-09-18T09:08:27.234Z"
      },
      {
        "duration": 5,
        "start_time": "2022-09-18T09:08:28.340Z"
      },
      {
        "duration": 3,
        "start_time": "2022-09-18T09:08:29.158Z"
      },
      {
        "duration": 9,
        "start_time": "2022-09-18T09:08:33.049Z"
      },
      {
        "duration": 25,
        "start_time": "2022-09-18T09:08:38.476Z"
      },
      {
        "duration": 5,
        "start_time": "2022-09-18T09:08:48.932Z"
      },
      {
        "duration": 4,
        "start_time": "2022-09-18T09:08:51.813Z"
      },
      {
        "duration": 33,
        "start_time": "2022-09-18T09:08:54.554Z"
      },
      {
        "duration": 6,
        "start_time": "2022-09-18T09:08:56.413Z"
      },
      {
        "duration": 6,
        "start_time": "2022-09-18T09:09:06.759Z"
      },
      {
        "duration": 20,
        "start_time": "2022-09-18T09:09:11.449Z"
      },
      {
        "duration": 299,
        "start_time": "2022-09-18T09:09:14.624Z"
      },
      {
        "duration": 199,
        "start_time": "2022-09-18T09:29:07.894Z"
      },
      {
        "duration": 288,
        "start_time": "2022-09-18T09:30:41.589Z"
      },
      {
        "duration": 7,
        "start_time": "2022-09-18T09:47:13.093Z"
      },
      {
        "duration": 10,
        "start_time": "2022-09-18T09:47:28.738Z"
      },
      {
        "duration": 8,
        "start_time": "2022-09-18T09:47:32.584Z"
      },
      {
        "duration": 6,
        "start_time": "2022-09-18T09:47:53.024Z"
      },
      {
        "duration": 13,
        "start_time": "2022-09-18T09:49:02.929Z"
      },
      {
        "duration": 12,
        "start_time": "2022-09-18T09:49:48.952Z"
      },
      {
        "duration": 11,
        "start_time": "2022-09-18T09:51:45.229Z"
      },
      {
        "duration": 27,
        "start_time": "2022-09-18T09:51:53.112Z"
      },
      {
        "duration": 13,
        "start_time": "2022-09-18T09:51:53.907Z"
      },
      {
        "duration": 10,
        "start_time": "2022-09-18T09:52:02.355Z"
      },
      {
        "duration": 7,
        "start_time": "2022-09-18T09:52:08.040Z"
      },
      {
        "duration": 203,
        "start_time": "2022-09-18T09:54:54.618Z"
      },
      {
        "duration": 254,
        "start_time": "2022-09-18T09:55:05.735Z"
      },
      {
        "duration": 11,
        "start_time": "2022-09-18T09:56:50.844Z"
      },
      {
        "duration": 14,
        "start_time": "2022-09-18T09:57:05.139Z"
      },
      {
        "duration": 36,
        "start_time": "2022-09-18T09:57:12.676Z"
      },
      {
        "duration": 67,
        "start_time": "2022-09-18T09:57:47.702Z"
      },
      {
        "duration": 7,
        "start_time": "2022-09-18T09:57:51.283Z"
      },
      {
        "duration": 11,
        "start_time": "2022-09-18T09:59:17.422Z"
      },
      {
        "duration": 8,
        "start_time": "2022-09-18T09:59:25.293Z"
      },
      {
        "duration": 50,
        "start_time": "2022-09-18T09:59:40.640Z"
      },
      {
        "duration": 51,
        "start_time": "2022-09-18T10:00:41.478Z"
      },
      {
        "duration": 882,
        "start_time": "2022-09-18T10:03:55.510Z"
      },
      {
        "duration": 25,
        "start_time": "2022-09-18T10:03:56.394Z"
      },
      {
        "duration": 10,
        "start_time": "2022-09-18T10:04:00.314Z"
      },
      {
        "duration": 134,
        "start_time": "2022-09-18T10:04:02.009Z"
      },
      {
        "duration": 124,
        "start_time": "2022-09-18T10:04:05.421Z"
      },
      {
        "duration": 12,
        "start_time": "2022-09-18T10:04:09.583Z"
      },
      {
        "duration": 4,
        "start_time": "2022-09-18T10:04:10.529Z"
      },
      {
        "duration": 8,
        "start_time": "2022-09-18T10:04:14.840Z"
      },
      {
        "duration": 103,
        "start_time": "2022-09-18T10:04:15.423Z"
      },
      {
        "duration": 172,
        "start_time": "2022-09-18T10:04:17.772Z"
      },
      {
        "duration": 12,
        "start_time": "2022-09-18T10:04:20.562Z"
      },
      {
        "duration": 3,
        "start_time": "2022-09-18T10:04:21.528Z"
      },
      {
        "duration": 101,
        "start_time": "2022-09-18T10:04:26.642Z"
      },
      {
        "duration": 246,
        "start_time": "2022-09-18T10:04:29.140Z"
      },
      {
        "duration": 10,
        "start_time": "2022-09-18T10:04:29.746Z"
      },
      {
        "duration": 3,
        "start_time": "2022-09-18T10:04:31.519Z"
      },
      {
        "duration": 105,
        "start_time": "2022-09-18T10:06:17.870Z"
      },
      {
        "duration": 5,
        "start_time": "2022-09-18T10:07:35.871Z"
      },
      {
        "duration": 200,
        "start_time": "2022-09-18T10:07:48.322Z"
      },
      {
        "duration": 215,
        "start_time": "2022-09-18T10:07:55.254Z"
      },
      {
        "duration": 23,
        "start_time": "2022-09-18T10:08:30.874Z"
      },
      {
        "duration": 106,
        "start_time": "2022-09-18T10:08:56.803Z"
      },
      {
        "duration": 4,
        "start_time": "2022-09-18T10:09:01.382Z"
      },
      {
        "duration": 210,
        "start_time": "2022-09-18T10:09:07.540Z"
      },
      {
        "duration": 4,
        "start_time": "2022-09-18T10:09:22.252Z"
      },
      {
        "duration": 2,
        "start_time": "2022-09-18T10:11:19.857Z"
      },
      {
        "duration": 87,
        "start_time": "2022-09-18T10:11:20.445Z"
      },
      {
        "duration": 38,
        "start_time": "2022-09-18T10:11:22.352Z"
      },
      {
        "duration": 74,
        "start_time": "2022-09-18T10:11:22.572Z"
      },
      {
        "duration": 5,
        "start_time": "2022-09-18T10:11:22.756Z"
      },
      {
        "duration": 15,
        "start_time": "2022-09-18T10:11:22.957Z"
      },
      {
        "duration": 8,
        "start_time": "2022-09-18T10:11:23.350Z"
      },
      {
        "duration": 17,
        "start_time": "2022-09-18T10:11:24.582Z"
      },
      {
        "duration": 24,
        "start_time": "2022-09-18T10:11:24.982Z"
      },
      {
        "duration": 5,
        "start_time": "2022-09-18T10:11:25.746Z"
      },
      {
        "duration": 4,
        "start_time": "2022-09-18T10:11:26.408Z"
      },
      {
        "duration": 4,
        "start_time": "2022-09-18T10:11:27.066Z"
      },
      {
        "duration": 10,
        "start_time": "2022-09-18T10:11:34.454Z"
      },
      {
        "duration": 23,
        "start_time": "2022-09-18T10:11:48.356Z"
      },
      {
        "duration": 6,
        "start_time": "2022-09-18T10:11:51.910Z"
      },
      {
        "duration": 4,
        "start_time": "2022-09-18T10:11:55.782Z"
      },
      {
        "duration": 5,
        "start_time": "2022-09-18T10:11:56.484Z"
      },
      {
        "duration": 6,
        "start_time": "2022-09-18T10:11:57.270Z"
      },
      {
        "duration": 6,
        "start_time": "2022-09-18T10:12:03.033Z"
      },
      {
        "duration": 49,
        "start_time": "2022-09-18T10:12:04.716Z"
      },
      {
        "duration": 71,
        "start_time": "2022-09-18T10:13:26.049Z"
      },
      {
        "duration": 81,
        "start_time": "2022-09-18T10:13:40.312Z"
      },
      {
        "duration": 74,
        "start_time": "2022-09-18T10:14:07.044Z"
      },
      {
        "duration": 2,
        "start_time": "2022-09-18T10:14:22.641Z"
      },
      {
        "duration": 13,
        "start_time": "2022-09-18T10:14:23.466Z"
      },
      {
        "duration": 8,
        "start_time": "2022-09-18T10:14:25.559Z"
      },
      {
        "duration": 115,
        "start_time": "2022-09-18T10:14:29.340Z"
      },
      {
        "duration": 188,
        "start_time": "2022-09-18T10:14:31.722Z"
      },
      {
        "duration": 14,
        "start_time": "2022-09-18T10:14:34.561Z"
      },
      {
        "duration": 4,
        "start_time": "2022-09-18T10:14:35.275Z"
      },
      {
        "duration": 7,
        "start_time": "2022-09-18T10:14:39.618Z"
      },
      {
        "duration": 101,
        "start_time": "2022-09-18T10:14:40.352Z"
      },
      {
        "duration": 167,
        "start_time": "2022-09-18T10:14:42.760Z"
      },
      {
        "duration": 11,
        "start_time": "2022-09-18T10:14:44.976Z"
      },
      {
        "duration": 4,
        "start_time": "2022-09-18T10:14:46.648Z"
      },
      {
        "duration": 102,
        "start_time": "2022-09-18T10:15:11.146Z"
      },
      {
        "duration": 6,
        "start_time": "2022-09-18T10:15:14.147Z"
      },
      {
        "duration": 189,
        "start_time": "2022-09-18T10:15:16.550Z"
      },
      {
        "duration": 11,
        "start_time": "2022-09-18T10:16:10.577Z"
      },
      {
        "duration": 4,
        "start_time": "2022-09-18T10:16:11.363Z"
      },
      {
        "duration": 1677,
        "start_time": "2022-09-18T10:16:39.718Z"
      },
      {
        "duration": 5,
        "start_time": "2022-09-18T10:16:46.950Z"
      },
      {
        "duration": 10,
        "start_time": "2022-09-18T10:17:13.750Z"
      },
      {
        "duration": 7,
        "start_time": "2022-09-18T10:17:14.535Z"
      },
      {
        "duration": 124,
        "start_time": "2022-09-18T10:18:32.948Z"
      },
      {
        "duration": 12,
        "start_time": "2022-09-18T10:18:42.014Z"
      },
      {
        "duration": 7,
        "start_time": "2022-09-18T10:18:44.150Z"
      },
      {
        "duration": 8,
        "start_time": "2022-09-18T10:20:59.540Z"
      },
      {
        "duration": 97,
        "start_time": "2022-09-18T10:21:00.119Z"
      },
      {
        "duration": 12,
        "start_time": "2022-09-18T10:21:03.256Z"
      },
      {
        "duration": 4,
        "start_time": "2022-09-18T10:21:03.722Z"
      },
      {
        "duration": 8,
        "start_time": "2022-09-18T10:21:06.666Z"
      },
      {
        "duration": 112,
        "start_time": "2022-09-18T10:21:09.760Z"
      },
      {
        "duration": 218,
        "start_time": "2022-09-18T10:21:10.360Z"
      },
      {
        "duration": 181,
        "start_time": "2022-09-18T10:22:00.541Z"
      },
      {
        "duration": 10,
        "start_time": "2022-09-18T10:22:01.106Z"
      },
      {
        "duration": 4,
        "start_time": "2022-09-18T10:22:02.816Z"
      },
      {
        "duration": 99,
        "start_time": "2022-09-18T10:22:05.614Z"
      },
      {
        "duration": 66,
        "start_time": "2022-09-18T10:22:15.414Z"
      },
      {
        "duration": 4,
        "start_time": "2022-09-18T10:22:15.878Z"
      },
      {
        "duration": 96,
        "start_time": "2022-09-18T10:22:21.365Z"
      },
      {
        "duration": 14,
        "start_time": "2022-09-18T10:22:28.681Z"
      },
      {
        "duration": 3,
        "start_time": "2022-09-18T10:22:29.262Z"
      },
      {
        "duration": 90,
        "start_time": "2022-09-18T10:22:31.961Z"
      },
      {
        "duration": 10,
        "start_time": "2022-09-18T10:23:15.057Z"
      },
      {
        "duration": 4,
        "start_time": "2022-09-18T10:23:15.664Z"
      },
      {
        "duration": 29,
        "start_time": "2022-09-18T10:23:43.206Z"
      },
      {
        "duration": 8,
        "start_time": "2022-09-18T10:23:49.602Z"
      },
      {
        "duration": 4,
        "start_time": "2022-09-18T10:23:51.550Z"
      },
      {
        "duration": 14,
        "start_time": "2022-09-18T10:24:04.564Z"
      },
      {
        "duration": 3,
        "start_time": "2022-09-18T10:24:06.474Z"
      },
      {
        "duration": 92,
        "start_time": "2022-09-18T10:24:12.006Z"
      },
      {
        "duration": 198,
        "start_time": "2022-09-18T10:24:12.564Z"
      },
      {
        "duration": 11,
        "start_time": "2022-09-18T10:24:15.859Z"
      },
      {
        "duration": 8,
        "start_time": "2022-09-18T10:24:53.256Z"
      },
      {
        "duration": 4,
        "start_time": "2022-09-18T10:24:53.909Z"
      },
      {
        "duration": 94,
        "start_time": "2022-09-18T10:25:33.556Z"
      },
      {
        "duration": 7,
        "start_time": "2022-09-18T10:25:36.807Z"
      },
      {
        "duration": 3,
        "start_time": "2022-09-18T10:25:37.448Z"
      },
      {
        "duration": 103,
        "start_time": "2022-09-18T10:25:40.241Z"
      },
      {
        "duration": 8,
        "start_time": "2022-09-18T10:25:43.171Z"
      },
      {
        "duration": 3,
        "start_time": "2022-09-18T10:25:43.785Z"
      },
      {
        "duration": 8,
        "start_time": "2022-09-18T10:26:00.659Z"
      },
      {
        "duration": 4,
        "start_time": "2022-09-18T10:26:01.635Z"
      },
      {
        "duration": 98,
        "start_time": "2022-09-18T10:26:05.712Z"
      },
      {
        "duration": 7,
        "start_time": "2022-09-18T10:26:15.873Z"
      },
      {
        "duration": 4,
        "start_time": "2022-09-18T10:26:16.545Z"
      },
      {
        "duration": 108,
        "start_time": "2022-09-18T10:26:22.818Z"
      },
      {
        "duration": 8,
        "start_time": "2022-09-18T10:26:26.446Z"
      },
      {
        "duration": 3,
        "start_time": "2022-09-18T10:26:27.034Z"
      },
      {
        "duration": 102,
        "start_time": "2022-09-18T10:27:15.259Z"
      },
      {
        "duration": 135,
        "start_time": "2022-09-18T10:27:18.409Z"
      },
      {
        "duration": 9,
        "start_time": "2022-09-18T10:27:27.455Z"
      },
      {
        "duration": 5,
        "start_time": "2022-09-18T10:27:28.156Z"
      },
      {
        "duration": 81,
        "start_time": "2022-09-18T11:19:27.263Z"
      },
      {
        "duration": 47,
        "start_time": "2022-09-18T11:19:39.158Z"
      },
      {
        "duration": 43,
        "start_time": "2022-09-18T11:19:48.167Z"
      },
      {
        "duration": 5,
        "start_time": "2022-09-18T11:20:49.196Z"
      },
      {
        "duration": 292,
        "start_time": "2022-09-18T11:20:50.458Z"
      },
      {
        "duration": 131,
        "start_time": "2022-09-18T11:21:50.114Z"
      },
      {
        "duration": 5,
        "start_time": "2022-09-18T11:23:29.454Z"
      },
      {
        "duration": 3,
        "start_time": "2022-09-18T11:23:31.183Z"
      },
      {
        "duration": 209,
        "start_time": "2022-09-18T11:23:54.446Z"
      },
      {
        "duration": 136,
        "start_time": "2022-09-18T11:24:45.115Z"
      },
      {
        "duration": 15,
        "start_time": "2022-09-18T11:27:27.318Z"
      },
      {
        "duration": 5,
        "start_time": "2022-09-18T11:27:41.666Z"
      },
      {
        "duration": 5,
        "start_time": "2022-09-18T11:27:42.166Z"
      },
      {
        "duration": 4,
        "start_time": "2022-09-18T11:27:42.795Z"
      },
      {
        "duration": 29,
        "start_time": "2022-09-18T11:27:43.770Z"
      },
      {
        "duration": 3,
        "start_time": "2022-09-18T11:27:44.111Z"
      },
      {
        "duration": 4,
        "start_time": "2022-09-18T11:27:45.804Z"
      },
      {
        "duration": 6,
        "start_time": "2022-09-18T11:27:47.799Z"
      },
      {
        "duration": 5,
        "start_time": "2022-09-18T11:27:52.507Z"
      },
      {
        "duration": 156,
        "start_time": "2022-09-18T11:27:54.155Z"
      },
      {
        "duration": 15,
        "start_time": "2022-09-18T11:28:15.556Z"
      },
      {
        "duration": 15,
        "start_time": "2022-09-18T11:28:23.852Z"
      },
      {
        "duration": 127,
        "start_time": "2022-09-18T11:28:27.653Z"
      },
      {
        "duration": 131,
        "start_time": "2022-09-18T11:29:38.303Z"
      },
      {
        "duration": 121,
        "start_time": "2022-09-18T11:29:55.799Z"
      },
      {
        "duration": 115,
        "start_time": "2022-09-18T11:31:58.999Z"
      },
      {
        "duration": 15,
        "start_time": "2022-09-18T11:32:04.521Z"
      },
      {
        "duration": 214,
        "start_time": "2022-09-18T11:32:05.546Z"
      },
      {
        "duration": 148,
        "start_time": "2022-09-18T11:32:37.904Z"
      },
      {
        "duration": 160,
        "start_time": "2022-09-18T11:34:25.446Z"
      },
      {
        "duration": 19,
        "start_time": "2022-09-18T11:34:35.763Z"
      },
      {
        "duration": 145,
        "start_time": "2022-09-18T11:35:28.504Z"
      },
      {
        "duration": 2317,
        "start_time": "2022-09-18T11:35:50.005Z"
      },
      {
        "duration": 118,
        "start_time": "2022-09-18T11:36:08.347Z"
      },
      {
        "duration": 149,
        "start_time": "2022-09-18T11:36:46.560Z"
      },
      {
        "duration": 189,
        "start_time": "2022-09-18T11:36:54.718Z"
      },
      {
        "duration": 4,
        "start_time": "2022-09-18T11:37:50.759Z"
      },
      {
        "duration": 120,
        "start_time": "2022-09-18T11:38:01.709Z"
      },
      {
        "duration": 13,
        "start_time": "2022-09-18T11:38:51.163Z"
      },
      {
        "duration": 178,
        "start_time": "2022-09-18T11:38:51.666Z"
      },
      {
        "duration": 19,
        "start_time": "2022-09-18T11:38:57.711Z"
      },
      {
        "duration": 151,
        "start_time": "2022-09-18T11:38:59.059Z"
      },
      {
        "duration": 18,
        "start_time": "2022-09-18T11:39:08.574Z"
      },
      {
        "duration": 21,
        "start_time": "2022-09-18T11:39:44.051Z"
      },
      {
        "duration": 20,
        "start_time": "2022-09-18T11:39:48.406Z"
      },
      {
        "duration": 25,
        "start_time": "2022-09-18T11:39:53.716Z"
      },
      {
        "duration": 158,
        "start_time": "2022-09-18T11:43:22.617Z"
      },
      {
        "duration": 8,
        "start_time": "2022-09-18T11:45:37.474Z"
      },
      {
        "duration": 8,
        "start_time": "2022-09-18T11:45:49.465Z"
      },
      {
        "duration": 8,
        "start_time": "2022-09-18T11:46:13.621Z"
      },
      {
        "duration": 31,
        "start_time": "2022-09-18T11:46:38.309Z"
      },
      {
        "duration": 36,
        "start_time": "2022-09-18T11:46:46.503Z"
      },
      {
        "duration": 5,
        "start_time": "2022-09-18T11:48:42.310Z"
      },
      {
        "duration": 5,
        "start_time": "2022-09-18T11:48:57.368Z"
      },
      {
        "duration": 17,
        "start_time": "2022-09-18T11:51:06.080Z"
      },
      {
        "duration": 2,
        "start_time": "2022-09-18T11:51:50.318Z"
      },
      {
        "duration": 90,
        "start_time": "2022-09-18T11:51:50.535Z"
      },
      {
        "duration": 39,
        "start_time": "2022-09-18T11:51:51.052Z"
      },
      {
        "duration": 68,
        "start_time": "2022-09-18T11:51:51.252Z"
      },
      {
        "duration": 6,
        "start_time": "2022-09-18T11:51:51.451Z"
      },
      {
        "duration": 14,
        "start_time": "2022-09-18T11:51:51.664Z"
      },
      {
        "duration": 9,
        "start_time": "2022-09-18T11:51:52.060Z"
      },
      {
        "duration": 16,
        "start_time": "2022-09-18T11:51:53.173Z"
      },
      {
        "duration": 17,
        "start_time": "2022-09-18T11:51:53.664Z"
      },
      {
        "duration": 4,
        "start_time": "2022-09-18T11:51:53.879Z"
      },
      {
        "duration": 4,
        "start_time": "2022-09-18T11:51:54.318Z"
      },
      {
        "duration": 4,
        "start_time": "2022-09-18T11:51:54.618Z"
      },
      {
        "duration": 10,
        "start_time": "2022-09-18T11:51:56.272Z"
      },
      {
        "duration": 25,
        "start_time": "2022-09-18T11:51:56.675Z"
      },
      {
        "duration": 6,
        "start_time": "2022-09-18T11:51:57.075Z"
      },
      {
        "duration": 3,
        "start_time": "2022-09-18T11:51:57.507Z"
      },
      {
        "duration": 5,
        "start_time": "2022-09-18T11:51:57.699Z"
      },
      {
        "duration": 6,
        "start_time": "2022-09-18T11:51:57.912Z"
      },
      {
        "duration": 6,
        "start_time": "2022-09-18T11:51:58.102Z"
      },
      {
        "duration": 90,
        "start_time": "2022-09-18T11:51:58.310Z"
      },
      {
        "duration": 3,
        "start_time": "2022-09-18T11:51:58.948Z"
      },
      {
        "duration": 14,
        "start_time": "2022-09-18T11:51:59.209Z"
      },
      {
        "duration": 9,
        "start_time": "2022-09-18T11:51:59.656Z"
      },
      {
        "duration": 114,
        "start_time": "2022-09-18T11:51:59.872Z"
      },
      {
        "duration": 146,
        "start_time": "2022-09-18T11:52:00.073Z"
      },
      {
        "duration": 12,
        "start_time": "2022-09-18T11:52:00.336Z"
      },
      {
        "duration": 4,
        "start_time": "2022-09-18T11:52:00.600Z"
      },
      {
        "duration": 8,
        "start_time": "2022-09-18T11:52:01.618Z"
      },
      {
        "duration": 107,
        "start_time": "2022-09-18T11:52:01.844Z"
      },
      {
        "duration": 177,
        "start_time": "2022-09-18T11:52:02.056Z"
      },
      {
        "duration": 15,
        "start_time": "2022-09-18T11:52:02.268Z"
      },
      {
        "duration": 5,
        "start_time": "2022-09-18T11:52:02.456Z"
      },
      {
        "duration": 130,
        "start_time": "2022-09-18T11:52:03.190Z"
      },
      {
        "duration": 5,
        "start_time": "2022-09-18T11:52:03.417Z"
      },
      {
        "duration": 326,
        "start_time": "2022-09-18T11:52:03.764Z"
      },
      {
        "duration": 22,
        "start_time": "2022-09-18T11:52:04.092Z"
      },
      {
        "duration": 6,
        "start_time": "2022-09-18T11:52:04.368Z"
      },
      {
        "duration": 4,
        "start_time": "2022-09-18T11:52:04.580Z"
      },
      {
        "duration": 7,
        "start_time": "2022-09-18T11:52:06.113Z"
      },
      {
        "duration": 162,
        "start_time": "2022-09-18T11:52:06.910Z"
      },
      {
        "duration": 11,
        "start_time": "2022-09-18T11:52:07.112Z"
      },
      {
        "duration": 3,
        "start_time": "2022-09-18T11:52:07.419Z"
      },
      {
        "duration": 8,
        "start_time": "2022-09-18T11:52:08.136Z"
      },
      {
        "duration": 127,
        "start_time": "2022-09-18T11:52:08.752Z"
      },
      {
        "duration": 218,
        "start_time": "2022-09-18T11:52:08.961Z"
      },
      {
        "duration": 9,
        "start_time": "2022-09-18T11:52:09.181Z"
      },
      {
        "duration": 4,
        "start_time": "2022-09-18T11:52:09.369Z"
      },
      {
        "duration": 122,
        "start_time": "2022-09-18T11:52:10.510Z"
      },
      {
        "duration": 9,
        "start_time": "2022-09-18T11:52:10.764Z"
      },
      {
        "duration": 5,
        "start_time": "2022-09-18T11:52:10.972Z"
      },
      {
        "duration": 115,
        "start_time": "2022-09-18T11:52:12.056Z"
      },
      {
        "duration": 63,
        "start_time": "2022-09-18T11:52:12.260Z"
      },
      {
        "duration": 3,
        "start_time": "2022-09-18T11:52:13.064Z"
      },
      {
        "duration": 124,
        "start_time": "2022-09-18T11:52:14.349Z"
      },
      {
        "duration": 20,
        "start_time": "2022-09-18T11:52:14.589Z"
      },
      {
        "duration": 4,
        "start_time": "2022-09-18T11:52:15.206Z"
      },
      {
        "duration": 97,
        "start_time": "2022-09-18T11:52:15.815Z"
      },
      {
        "duration": 10,
        "start_time": "2022-09-18T11:52:16.019Z"
      },
      {
        "duration": 4,
        "start_time": "2022-09-18T11:52:16.708Z"
      },
      {
        "duration": 108,
        "start_time": "2022-09-18T11:52:18.308Z"
      },
      {
        "duration": 201,
        "start_time": "2022-09-18T11:52:18.579Z"
      },
      {
        "duration": 9,
        "start_time": "2022-09-18T11:52:19.406Z"
      },
      {
        "duration": 4,
        "start_time": "2022-09-18T11:52:19.607Z"
      },
      {
        "duration": 109,
        "start_time": "2022-09-18T11:52:20.782Z"
      },
      {
        "duration": 7,
        "start_time": "2022-09-18T11:52:20.972Z"
      },
      {
        "duration": 4,
        "start_time": "2022-09-18T11:52:21.156Z"
      },
      {
        "duration": 98,
        "start_time": "2022-09-18T11:52:21.756Z"
      },
      {
        "duration": 7,
        "start_time": "2022-09-18T11:52:21.973Z"
      },
      {
        "duration": 5,
        "start_time": "2022-09-18T11:52:22.212Z"
      },
      {
        "duration": 106,
        "start_time": "2022-09-18T11:52:22.880Z"
      },
      {
        "duration": 8,
        "start_time": "2022-09-18T11:52:23.649Z"
      },
      {
        "duration": 4,
        "start_time": "2022-09-18T11:52:23.882Z"
      },
      {
        "duration": 102,
        "start_time": "2022-09-18T11:52:25.056Z"
      },
      {
        "duration": 9,
        "start_time": "2022-09-18T11:52:44.502Z"
      },
      {
        "duration": 4,
        "start_time": "2022-09-18T11:52:47.269Z"
      },
      {
        "duration": 98,
        "start_time": "2022-09-18T11:52:50.764Z"
      },
      {
        "duration": 266,
        "start_time": "2022-09-18T11:52:53.500Z"
      },
      {
        "duration": 7,
        "start_time": "2022-09-18T11:52:54.215Z"
      },
      {
        "duration": 3,
        "start_time": "2022-09-18T11:52:55.248Z"
      },
      {
        "duration": 5,
        "start_time": "2022-09-18T11:52:59.242Z"
      },
      {
        "duration": 6,
        "start_time": "2022-09-18T11:52:59.748Z"
      },
      {
        "duration": 4,
        "start_time": "2022-09-18T11:53:00.673Z"
      },
      {
        "duration": 32,
        "start_time": "2022-09-18T11:53:01.494Z"
      },
      {
        "duration": 3,
        "start_time": "2022-09-18T11:53:02.509Z"
      },
      {
        "duration": 5,
        "start_time": "2022-09-18T11:53:03.335Z"
      },
      {
        "duration": 6,
        "start_time": "2022-09-18T11:53:04.768Z"
      },
      {
        "duration": 6,
        "start_time": "2022-09-18T11:53:12.962Z"
      },
      {
        "duration": 153,
        "start_time": "2022-09-18T11:53:13.781Z"
      },
      {
        "duration": 5,
        "start_time": "2022-09-18T11:53:16.971Z"
      },
      {
        "duration": 194,
        "start_time": "2022-09-18T11:53:19.405Z"
      },
      {
        "duration": 5,
        "start_time": "2022-09-18T11:53:21.260Z"
      },
      {
        "duration": 166,
        "start_time": "2022-09-18T11:53:22.322Z"
      },
      {
        "duration": 17,
        "start_time": "2022-09-18T11:53:23.278Z"
      },
      {
        "duration": 118,
        "start_time": "2022-09-18T11:53:26.573Z"
      },
      {
        "duration": 4,
        "start_time": "2022-09-18T11:53:28.725Z"
      },
      {
        "duration": 14,
        "start_time": "2022-09-18T11:53:29.452Z"
      },
      {
        "duration": 133,
        "start_time": "2022-09-18T11:53:30.700Z"
      },
      {
        "duration": 15,
        "start_time": "2022-09-18T11:53:38.672Z"
      },
      {
        "duration": 121,
        "start_time": "2022-09-18T11:53:41.422Z"
      },
      {
        "duration": 113,
        "start_time": "2022-09-18T11:53:44.671Z"
      },
      {
        "duration": 160,
        "start_time": "2022-09-18T11:54:00.004Z"
      },
      {
        "duration": 15,
        "start_time": "2022-09-18T11:54:04.770Z"
      },
      {
        "duration": 189,
        "start_time": "2022-09-18T11:54:05.909Z"
      },
      {
        "duration": 14,
        "start_time": "2022-09-18T11:54:09.993Z"
      },
      {
        "duration": 143,
        "start_time": "2022-09-18T11:54:10.948Z"
      },
      {
        "duration": 18,
        "start_time": "2022-09-18T11:54:14.303Z"
      },
      {
        "duration": 6,
        "start_time": "2022-09-18T11:54:43.579Z"
      },
      {
        "duration": 5,
        "start_time": "2022-09-18T11:55:37.652Z"
      },
      {
        "duration": 19,
        "start_time": "2022-09-18T11:55:40.105Z"
      },
      {
        "duration": 5,
        "start_time": "2022-09-18T11:55:50.657Z"
      },
      {
        "duration": 24,
        "start_time": "2022-09-18T11:55:51.280Z"
      },
      {
        "duration": 10,
        "start_time": "2022-09-18T11:56:00.178Z"
      },
      {
        "duration": 13,
        "start_time": "2022-09-18T11:56:16.273Z"
      },
      {
        "duration": 3,
        "start_time": "2022-09-18T11:56:48.812Z"
      },
      {
        "duration": 85,
        "start_time": "2022-09-18T11:56:49.221Z"
      },
      {
        "duration": 38,
        "start_time": "2022-09-18T11:56:51.373Z"
      },
      {
        "duration": 71,
        "start_time": "2022-09-18T11:56:53.764Z"
      },
      {
        "duration": 5,
        "start_time": "2022-09-18T11:56:54.364Z"
      },
      {
        "duration": 14,
        "start_time": "2022-09-18T11:56:55.276Z"
      },
      {
        "duration": 10,
        "start_time": "2022-09-18T11:56:57.114Z"
      },
      {
        "duration": 16,
        "start_time": "2022-09-18T11:57:03.052Z"
      },
      {
        "duration": 17,
        "start_time": "2022-09-18T11:57:06.752Z"
      },
      {
        "duration": 4,
        "start_time": "2022-09-18T11:57:07.672Z"
      },
      {
        "duration": 4,
        "start_time": "2022-09-18T11:57:08.373Z"
      },
      {
        "duration": 4,
        "start_time": "2022-09-18T11:57:09.103Z"
      },
      {
        "duration": 8,
        "start_time": "2022-09-18T11:57:13.902Z"
      },
      {
        "duration": 23,
        "start_time": "2022-09-18T11:57:18.113Z"
      },
      {
        "duration": 5,
        "start_time": "2022-09-18T11:57:22.512Z"
      },
      {
        "duration": 4,
        "start_time": "2022-09-18T11:57:26.299Z"
      },
      {
        "duration": 5,
        "start_time": "2022-09-18T11:57:28.161Z"
      },
      {
        "duration": 7,
        "start_time": "2022-09-18T11:57:36.265Z"
      },
      {
        "duration": 219,
        "start_time": "2022-09-18T11:57:37.975Z"
      },
      {
        "duration": 7,
        "start_time": "2022-09-18T11:57:43.108Z"
      },
      {
        "duration": 222,
        "start_time": "2022-09-18T11:57:55.271Z"
      },
      {
        "duration": 7,
        "start_time": "2022-09-18T11:58:00.802Z"
      },
      {
        "duration": 7,
        "start_time": "2022-09-18T11:58:21.999Z"
      },
      {
        "duration": 33,
        "start_time": "2022-09-18T11:58:24.360Z"
      },
      {
        "duration": 3,
        "start_time": "2022-09-18T11:58:35.417Z"
      },
      {
        "duration": 13,
        "start_time": "2022-09-18T11:58:37.165Z"
      },
      {
        "duration": 9,
        "start_time": "2022-09-18T11:58:40.334Z"
      },
      {
        "duration": 131,
        "start_time": "2022-09-18T11:58:44.022Z"
      },
      {
        "duration": 132,
        "start_time": "2022-09-18T11:58:50.175Z"
      },
      {
        "duration": 12,
        "start_time": "2022-09-18T11:58:52.922Z"
      },
      {
        "duration": 8,
        "start_time": "2022-09-18T11:58:57.018Z"
      },
      {
        "duration": 101,
        "start_time": "2022-09-18T11:58:59.681Z"
      },
      {
        "duration": 169,
        "start_time": "2022-09-18T11:59:07.170Z"
      },
      {
        "duration": 12,
        "start_time": "2022-09-18T11:59:09.002Z"
      },
      {
        "duration": 3,
        "start_time": "2022-09-18T11:59:09.715Z"
      },
      {
        "duration": 102,
        "start_time": "2022-09-18T11:59:15.356Z"
      },
      {
        "duration": 5,
        "start_time": "2022-09-18T11:59:21.901Z"
      },
      {
        "duration": 192,
        "start_time": "2022-09-18T11:59:23.057Z"
      },
      {
        "duration": 10,
        "start_time": "2022-09-18T11:59:31.761Z"
      },
      {
        "duration": 5,
        "start_time": "2022-09-18T11:59:32.461Z"
      },
      {
        "duration": 3,
        "start_time": "2022-09-18T11:59:37.472Z"
      },
      {
        "duration": 8,
        "start_time": "2022-09-18T11:59:43.917Z"
      },
      {
        "duration": 105,
        "start_time": "2022-09-18T11:59:44.565Z"
      },
      {
        "duration": 9,
        "start_time": "2022-09-18T11:59:47.198Z"
      },
      {
        "duration": 4,
        "start_time": "2022-09-18T11:59:48.012Z"
      },
      {
        "duration": 7,
        "start_time": "2022-09-18T11:59:51.406Z"
      },
      {
        "duration": 107,
        "start_time": "2022-09-18T11:59:54.568Z"
      },
      {
        "duration": 63,
        "start_time": "2022-09-18T12:00:21.601Z"
      },
      {
        "duration": 8,
        "start_time": "2022-09-18T12:00:27.853Z"
      },
      {
        "duration": 4,
        "start_time": "2022-09-18T12:00:30.202Z"
      },
      {
        "duration": 140,
        "start_time": "2022-09-18T12:00:34.504Z"
      },
      {
        "duration": 10,
        "start_time": "2022-09-18T12:00:45.171Z"
      },
      {
        "duration": 4,
        "start_time": "2022-09-18T12:00:46.076Z"
      },
      {
        "duration": 116,
        "start_time": "2022-09-18T12:00:55.807Z"
      },
      {
        "duration": 69,
        "start_time": "2022-09-18T12:00:56.417Z"
      },
      {
        "duration": 4,
        "start_time": "2022-09-18T12:01:09.523Z"
      },
      {
        "duration": 274,
        "start_time": "2022-09-18T12:01:12.305Z"
      },
      {
        "duration": 200,
        "start_time": "2022-09-18T12:01:55.503Z"
      },
      {
        "duration": 263,
        "start_time": "2022-09-18T12:02:06.570Z"
      },
      {
        "duration": 186,
        "start_time": "2022-09-18T12:02:21.205Z"
      },
      {
        "duration": 142,
        "start_time": "2022-09-18T12:02:29.307Z"
      },
      {
        "duration": 488,
        "start_time": "2022-09-18T12:02:39.453Z"
      },
      {
        "duration": 16,
        "start_time": "2022-09-18T12:02:46.135Z"
      },
      {
        "duration": 4,
        "start_time": "2022-09-18T12:02:49.066Z"
      },
      {
        "duration": 94,
        "start_time": "2022-09-18T12:02:58.071Z"
      },
      {
        "duration": 9,
        "start_time": "2022-09-18T12:03:00.865Z"
      },
      {
        "duration": 4,
        "start_time": "2022-09-18T12:03:01.473Z"
      },
      {
        "duration": 125,
        "start_time": "2022-09-18T12:03:05.264Z"
      },
      {
        "duration": 220,
        "start_time": "2022-09-18T12:03:08.105Z"
      },
      {
        "duration": 8,
        "start_time": "2022-09-18T12:03:11.300Z"
      },
      {
        "duration": 4,
        "start_time": "2022-09-18T12:03:12.206Z"
      },
      {
        "duration": 142,
        "start_time": "2022-09-18T12:03:16.808Z"
      },
      {
        "duration": 4,
        "start_time": "2022-09-18T12:03:30.222Z"
      },
      {
        "duration": 130,
        "start_time": "2022-09-18T12:03:33.397Z"
      },
      {
        "duration": 213,
        "start_time": "2022-09-18T12:04:18.981Z"
      },
      {
        "duration": 212,
        "start_time": "2022-09-18T12:04:36.801Z"
      },
      {
        "duration": 8,
        "start_time": "2022-09-18T12:04:53.806Z"
      },
      {
        "duration": 3,
        "start_time": "2022-09-18T12:04:55.113Z"
      },
      {
        "duration": 96,
        "start_time": "2022-09-18T12:05:27.898Z"
      },
      {
        "duration": 9,
        "start_time": "2022-09-18T12:05:32.296Z"
      },
      {
        "duration": 4,
        "start_time": "2022-09-18T12:05:33.004Z"
      },
      {
        "duration": 108,
        "start_time": "2022-09-18T12:05:36.185Z"
      },
      {
        "duration": 110,
        "start_time": "2022-09-18T12:06:41.200Z"
      },
      {
        "duration": 128,
        "start_time": "2022-09-18T12:06:46.012Z"
      },
      {
        "duration": 10,
        "start_time": "2022-09-18T12:06:54.510Z"
      },
      {
        "duration": 5,
        "start_time": "2022-09-18T12:06:55.257Z"
      },
      {
        "duration": 5,
        "start_time": "2022-09-18T12:07:03.420Z"
      },
      {
        "duration": 6,
        "start_time": "2022-09-18T12:07:03.961Z"
      },
      {
        "duration": 4,
        "start_time": "2022-09-18T12:07:04.781Z"
      },
      {
        "duration": 75,
        "start_time": "2022-09-18T12:07:05.594Z"
      },
      {
        "duration": 5,
        "start_time": "2022-09-18T12:07:06.304Z"
      },
      {
        "duration": 4,
        "start_time": "2022-09-18T12:07:08.681Z"
      },
      {
        "duration": 9,
        "start_time": "2022-09-18T12:07:09.699Z"
      },
      {
        "duration": 6,
        "start_time": "2022-09-18T12:07:14.394Z"
      },
      {
        "duration": 182,
        "start_time": "2022-09-18T12:07:15.197Z"
      },
      {
        "duration": 6,
        "start_time": "2022-09-18T12:07:21.257Z"
      },
      {
        "duration": 165,
        "start_time": "2022-09-18T12:07:22.293Z"
      },
      {
        "duration": 160,
        "start_time": "2022-09-18T12:08:01.905Z"
      },
      {
        "duration": 11,
        "start_time": "2022-09-18T12:08:28.312Z"
      },
      {
        "duration": 5,
        "start_time": "2022-09-18T12:08:46.337Z"
      },
      {
        "duration": 189,
        "start_time": "2022-09-18T12:08:47.369Z"
      },
      {
        "duration": 6,
        "start_time": "2022-09-18T12:08:58.416Z"
      },
      {
        "duration": 180,
        "start_time": "2022-09-18T12:09:00.073Z"
      },
      {
        "duration": 108,
        "start_time": "2022-09-18T12:09:04.273Z"
      },
      {
        "duration": 2,
        "start_time": "2022-09-18T12:09:50.265Z"
      },
      {
        "duration": 137,
        "start_time": "2022-09-18T12:09:51.177Z"
      },
      {
        "duration": 11,
        "start_time": "2022-09-18T12:10:34.383Z"
      },
      {
        "duration": 200,
        "start_time": "2022-09-18T12:10:40.612Z"
      },
      {
        "duration": 3,
        "start_time": "2022-09-18T12:11:31.710Z"
      },
      {
        "duration": 85,
        "start_time": "2022-09-18T12:11:31.811Z"
      },
      {
        "duration": 38,
        "start_time": "2022-09-18T12:11:32.453Z"
      },
      {
        "duration": 66,
        "start_time": "2022-09-18T12:11:32.553Z"
      },
      {
        "duration": 5,
        "start_time": "2022-09-18T12:11:32.753Z"
      },
      {
        "duration": 14,
        "start_time": "2022-09-18T12:11:32.961Z"
      },
      {
        "duration": 9,
        "start_time": "2022-09-18T12:11:33.253Z"
      },
      {
        "duration": 14,
        "start_time": "2022-09-18T12:11:34.273Z"
      },
      {
        "duration": 30,
        "start_time": "2022-09-18T12:11:34.617Z"
      },
      {
        "duration": 5,
        "start_time": "2022-09-18T12:11:34.811Z"
      },
      {
        "duration": 4,
        "start_time": "2022-09-18T12:11:35.004Z"
      },
      {
        "duration": 4,
        "start_time": "2022-09-18T12:11:35.173Z"
      },
      {
        "duration": 9,
        "start_time": "2022-09-18T12:11:35.804Z"
      },
      {
        "duration": 25,
        "start_time": "2022-09-18T12:11:36.215Z"
      },
      {
        "duration": 5,
        "start_time": "2022-09-18T12:11:36.623Z"
      },
      {
        "duration": 4,
        "start_time": "2022-09-18T12:11:36.957Z"
      },
      {
        "duration": 5,
        "start_time": "2022-09-18T12:11:37.148Z"
      },
      {
        "duration": 6,
        "start_time": "2022-09-18T12:11:37.353Z"
      },
      {
        "duration": 6,
        "start_time": "2022-09-18T12:11:37.459Z"
      },
      {
        "duration": 33,
        "start_time": "2022-09-18T12:11:37.661Z"
      },
      {
        "duration": 2,
        "start_time": "2022-09-18T12:11:38.277Z"
      },
      {
        "duration": 8,
        "start_time": "2022-09-18T12:12:09.299Z"
      },
      {
        "duration": 128,
        "start_time": "2022-09-18T12:12:09.509Z"
      },
      {
        "duration": 130,
        "start_time": "2022-09-18T12:12:09.707Z"
      },
      {
        "duration": 12,
        "start_time": "2022-09-18T12:12:09.913Z"
      },
      {
        "duration": 3,
        "start_time": "2022-09-18T12:12:10.012Z"
      },
      {
        "duration": 8,
        "start_time": "2022-09-18T12:12:11.065Z"
      },
      {
        "duration": 110,
        "start_time": "2022-09-18T12:12:11.216Z"
      },
      {
        "duration": 177,
        "start_time": "2022-09-18T12:12:11.500Z"
      },
      {
        "duration": 11,
        "start_time": "2022-09-18T12:12:11.683Z"
      },
      {
        "duration": 4,
        "start_time": "2022-09-18T12:12:11.903Z"
      },
      {
        "duration": 110,
        "start_time": "2022-09-18T12:12:12.482Z"
      },
      {
        "duration": 5,
        "start_time": "2022-09-18T12:12:12.698Z"
      },
      {
        "duration": 227,
        "start_time": "2022-09-18T12:12:12.905Z"
      },
      {
        "duration": 13,
        "start_time": "2022-09-18T12:12:13.133Z"
      },
      {
        "duration": 6,
        "start_time": "2022-09-18T12:12:13.300Z"
      },
      {
        "duration": 3,
        "start_time": "2022-09-18T12:12:13.503Z"
      },
      {
        "duration": 10,
        "start_time": "2022-09-18T12:12:14.553Z"
      },
      {
        "duration": 136,
        "start_time": "2022-09-18T12:12:15.165Z"
      },
      {
        "duration": 10,
        "start_time": "2022-09-18T12:12:15.400Z"
      },
      {
        "duration": 4,
        "start_time": "2022-09-18T12:12:15.577Z"
      },
      {
        "duration": 10,
        "start_time": "2022-09-18T12:12:16.161Z"
      },
      {
        "duration": 99,
        "start_time": "2022-09-18T12:12:16.374Z"
      },
      {
        "duration": 213,
        "start_time": "2022-09-18T12:12:16.606Z"
      },
      {
        "duration": 10,
        "start_time": "2022-09-18T12:12:16.820Z"
      },
      {
        "duration": 5,
        "start_time": "2022-09-18T12:12:16.990Z"
      },
      {
        "duration": 120,
        "start_time": "2022-09-18T12:12:17.602Z"
      },
      {
        "duration": 10,
        "start_time": "2022-09-18T12:12:17.807Z"
      },
      {
        "duration": 4,
        "start_time": "2022-09-18T12:12:18.006Z"
      },
      {
        "duration": 98,
        "start_time": "2022-09-18T12:12:18.661Z"
      },
      {
        "duration": 68,
        "start_time": "2022-09-18T12:12:18.869Z"
      },
      {
        "duration": 3,
        "start_time": "2022-09-18T12:12:19.073Z"
      },
      {
        "duration": 93,
        "start_time": "2022-09-18T12:12:19.779Z"
      },
      {
        "duration": 124,
        "start_time": "2022-09-18T12:12:20.008Z"
      },
      {
        "duration": 16,
        "start_time": "2022-09-18T12:12:20.261Z"
      },
      {
        "duration": 5,
        "start_time": "2022-09-18T12:12:20.477Z"
      },
      {
        "duration": 96,
        "start_time": "2022-09-18T12:12:21.153Z"
      },
      {
        "duration": 12,
        "start_time": "2022-09-18T12:12:21.387Z"
      },
      {
        "duration": 4,
        "start_time": "2022-09-18T12:12:21.569Z"
      },
      {
        "duration": 93,
        "start_time": "2022-09-18T12:12:22.225Z"
      },
      {
        "duration": 205,
        "start_time": "2022-09-18T12:12:22.477Z"
      },
      {
        "duration": 8,
        "start_time": "2022-09-18T12:12:22.705Z"
      },
      {
        "duration": 4,
        "start_time": "2022-09-18T12:12:22.953Z"
      },
      {
        "duration": 97,
        "start_time": "2022-09-18T12:12:23.669Z"
      },
      {
        "duration": 3,
        "start_time": "2022-09-18T12:12:23.901Z"
      },
      {
        "duration": 98,
        "start_time": "2022-09-18T12:12:24.715Z"
      },
      {
        "duration": 206,
        "start_time": "2022-09-18T12:12:24.965Z"
      },
      {
        "duration": 8,
        "start_time": "2022-09-18T12:12:25.172Z"
      },
      {
        "duration": 3,
        "start_time": "2022-09-18T12:12:25.345Z"
      },
      {
        "duration": 104,
        "start_time": "2022-09-18T12:12:26.005Z"
      },
      {
        "duration": 8,
        "start_time": "2022-09-18T12:12:26.265Z"
      },
      {
        "duration": 5,
        "start_time": "2022-09-18T12:12:26.469Z"
      },
      {
        "duration": 127,
        "start_time": "2022-09-18T12:12:27.199Z"
      },
      {
        "duration": 106,
        "start_time": "2022-09-18T12:12:27.904Z"
      },
      {
        "duration": 120,
        "start_time": "2022-09-18T12:12:28.116Z"
      },
      {
        "duration": 7,
        "start_time": "2022-09-18T12:12:28.362Z"
      },
      {
        "duration": 3,
        "start_time": "2022-09-18T12:12:28.577Z"
      },
      {
        "duration": 5,
        "start_time": "2022-09-18T12:12:29.713Z"
      },
      {
        "duration": 6,
        "start_time": "2022-09-18T12:12:29.917Z"
      },
      {
        "duration": 3,
        "start_time": "2022-09-18T12:12:30.203Z"
      },
      {
        "duration": 290,
        "start_time": "2022-09-18T12:12:30.400Z"
      },
      {
        "duration": 3,
        "start_time": "2022-09-18T12:12:30.692Z"
      },
      {
        "duration": 4,
        "start_time": "2022-09-18T12:12:31.221Z"
      },
      {
        "duration": 8,
        "start_time": "2022-09-18T12:12:31.721Z"
      },
      {
        "duration": 5,
        "start_time": "2022-09-18T12:12:35.101Z"
      },
      {
        "duration": 183,
        "start_time": "2022-09-18T12:12:35.211Z"
      },
      {
        "duration": 6,
        "start_time": "2022-09-18T12:12:35.709Z"
      },
      {
        "duration": 162,
        "start_time": "2022-09-18T12:12:35.913Z"
      },
      {
        "duration": 6,
        "start_time": "2022-09-18T12:12:47.193Z"
      },
      {
        "duration": 3,
        "start_time": "2022-09-18T12:12:48.714Z"
      },
      {
        "duration": 137,
        "start_time": "2022-09-18T12:12:49.354Z"
      },
      {
        "duration": 6,
        "start_time": "2022-09-18T12:12:56.205Z"
      },
      {
        "duration": 16,
        "start_time": "2022-09-18T12:12:57.113Z"
      },
      {
        "duration": 135,
        "start_time": "2022-09-18T12:12:58.877Z"
      },
      {
        "duration": 14,
        "start_time": "2022-09-18T12:13:11.965Z"
      },
      {
        "duration": 127,
        "start_time": "2022-09-18T12:13:12.778Z"
      },
      {
        "duration": 146,
        "start_time": "2022-09-18T12:13:18.716Z"
      },
      {
        "duration": 20,
        "start_time": "2022-09-18T12:13:53.562Z"
      },
      {
        "duration": 208,
        "start_time": "2022-09-18T12:13:55.201Z"
      },
      {
        "duration": 15,
        "start_time": "2022-09-18T12:14:17.705Z"
      },
      {
        "duration": 141,
        "start_time": "2022-09-18T12:14:19.665Z"
      },
      {
        "duration": 6,
        "start_time": "2022-09-18T12:14:27.121Z"
      },
      {
        "duration": 20,
        "start_time": "2022-09-18T12:14:30.807Z"
      },
      {
        "duration": 5,
        "start_time": "2022-09-18T12:15:53.757Z"
      },
      {
        "duration": 9,
        "start_time": "2022-09-18T12:18:51.619Z"
      },
      {
        "duration": 40,
        "start_time": "2022-09-18T12:19:31.678Z"
      },
      {
        "duration": 7,
        "start_time": "2022-09-18T12:19:36.985Z"
      },
      {
        "duration": 3,
        "start_time": "2022-09-18T12:20:21.462Z"
      },
      {
        "duration": 82,
        "start_time": "2022-09-18T12:20:21.666Z"
      },
      {
        "duration": 45,
        "start_time": "2022-09-18T12:20:23.078Z"
      },
      {
        "duration": 69,
        "start_time": "2022-09-18T12:20:23.201Z"
      },
      {
        "duration": 5,
        "start_time": "2022-09-18T12:20:23.396Z"
      },
      {
        "duration": 14,
        "start_time": "2022-09-18T12:20:23.705Z"
      },
      {
        "duration": 11,
        "start_time": "2022-09-18T12:20:25.422Z"
      },
      {
        "duration": 14,
        "start_time": "2022-09-18T12:20:28.204Z"
      },
      {
        "duration": 19,
        "start_time": "2022-09-18T12:20:30.265Z"
      },
      {
        "duration": 5,
        "start_time": "2022-09-18T12:20:30.965Z"
      },
      {
        "duration": 4,
        "start_time": "2022-09-18T12:20:31.184Z"
      },
      {
        "duration": 5,
        "start_time": "2022-09-18T12:20:31.787Z"
      },
      {
        "duration": 13,
        "start_time": "2022-09-18T12:21:23.106Z"
      },
      {
        "duration": 24,
        "start_time": "2022-09-18T12:21:26.868Z"
      },
      {
        "duration": 5,
        "start_time": "2022-09-18T12:21:31.074Z"
      },
      {
        "duration": 4,
        "start_time": "2022-09-18T12:21:38.565Z"
      },
      {
        "duration": 5,
        "start_time": "2022-09-18T12:21:39.502Z"
      },
      {
        "duration": 7,
        "start_time": "2022-09-18T12:21:41.725Z"
      },
      {
        "duration": 7,
        "start_time": "2022-09-18T12:21:52.697Z"
      },
      {
        "duration": 32,
        "start_time": "2022-09-18T12:21:54.121Z"
      },
      {
        "duration": 3,
        "start_time": "2022-09-18T12:22:01.201Z"
      },
      {
        "duration": 18,
        "start_time": "2022-09-18T12:22:01.908Z"
      },
      {
        "duration": 8,
        "start_time": "2022-09-18T12:22:05.469Z"
      },
      {
        "duration": 124,
        "start_time": "2022-09-18T12:22:06.721Z"
      },
      {
        "duration": 25,
        "start_time": "2022-09-18T12:23:39.066Z"
      },
      {
        "duration": 129,
        "start_time": "2022-09-18T12:24:08.506Z"
      },
      {
        "duration": 11,
        "start_time": "2022-09-18T12:24:14.304Z"
      },
      {
        "duration": 4,
        "start_time": "2022-09-18T12:24:15.322Z"
      },
      {
        "duration": 9,
        "start_time": "2022-09-18T12:28:34.307Z"
      },
      {
        "duration": 11,
        "start_time": "2022-09-18T12:29:05.732Z"
      },
      {
        "duration": 4,
        "start_time": "2022-09-18T12:29:06.560Z"
      },
      {
        "duration": 9,
        "start_time": "2022-09-18T12:29:39.934Z"
      },
      {
        "duration": 4,
        "start_time": "2022-09-18T12:29:40.878Z"
      },
      {
        "duration": 8,
        "start_time": "2022-09-18T12:30:02.566Z"
      },
      {
        "duration": 102,
        "start_time": "2022-09-18T12:30:03.887Z"
      },
      {
        "duration": 198,
        "start_time": "2022-09-18T12:30:06.370Z"
      },
      {
        "duration": 9,
        "start_time": "2022-09-18T12:30:18.670Z"
      },
      {
        "duration": 9,
        "start_time": "2022-09-18T12:30:21.408Z"
      },
      {
        "duration": 113,
        "start_time": "2022-09-18T12:30:55.306Z"
      },
      {
        "duration": 131,
        "start_time": "2022-09-18T12:31:29.010Z"
      },
      {
        "duration": 107,
        "start_time": "2022-09-18T12:31:51.001Z"
      },
      {
        "duration": 114,
        "start_time": "2022-09-18T12:31:59.408Z"
      },
      {
        "duration": 120,
        "start_time": "2022-09-18T12:33:33.308Z"
      },
      {
        "duration": 11,
        "start_time": "2022-09-18T12:34:25.424Z"
      },
      {
        "duration": 10,
        "start_time": "2022-09-18T12:34:38.874Z"
      },
      {
        "duration": 9,
        "start_time": "2022-09-18T12:34:46.935Z"
      },
      {
        "duration": 223,
        "start_time": "2022-09-18T12:35:04.025Z"
      },
      {
        "duration": 113,
        "start_time": "2022-09-18T12:35:19.905Z"
      },
      {
        "duration": 13,
        "start_time": "2022-09-18T12:35:40.279Z"
      },
      {
        "duration": 6,
        "start_time": "2022-09-18T12:35:42.128Z"
      },
      {
        "duration": 4,
        "start_time": "2022-09-18T12:35:45.602Z"
      },
      {
        "duration": 106,
        "start_time": "2022-09-18T12:36:05.979Z"
      },
      {
        "duration": 12,
        "start_time": "2022-09-18T12:36:24.012Z"
      },
      {
        "duration": 4,
        "start_time": "2022-09-18T12:36:24.303Z"
      },
      {
        "duration": 4,
        "start_time": "2022-09-18T12:36:25.436Z"
      },
      {
        "duration": 11,
        "start_time": "2022-09-18T12:36:46.224Z"
      },
      {
        "duration": 13,
        "start_time": "2022-09-18T12:36:55.136Z"
      },
      {
        "duration": 131,
        "start_time": "2022-09-18T12:36:56.267Z"
      },
      {
        "duration": 15,
        "start_time": "2022-09-18T12:37:36.607Z"
      },
      {
        "duration": 115,
        "start_time": "2022-09-18T12:37:39.888Z"
      },
      {
        "duration": 10,
        "start_time": "2022-09-18T12:37:42.137Z"
      },
      {
        "duration": 4,
        "start_time": "2022-09-18T12:37:43.574Z"
      },
      {
        "duration": 8,
        "start_time": "2022-09-18T12:37:47.763Z"
      },
      {
        "duration": 118,
        "start_time": "2022-09-18T12:37:53.407Z"
      },
      {
        "duration": 250,
        "start_time": "2022-09-18T12:38:54.636Z"
      },
      {
        "duration": 16,
        "start_time": "2022-09-18T12:39:11.009Z"
      },
      {
        "duration": 4,
        "start_time": "2022-09-18T12:39:11.836Z"
      },
      {
        "duration": 117,
        "start_time": "2022-09-18T12:39:37.029Z"
      },
      {
        "duration": 10,
        "start_time": "2022-09-18T12:39:47.094Z"
      },
      {
        "duration": 4,
        "start_time": "2022-09-18T12:39:47.879Z"
      },
      {
        "duration": 53,
        "start_time": "2022-09-18T12:39:53.729Z"
      },
      {
        "duration": 110,
        "start_time": "2022-09-18T12:40:09.103Z"
      },
      {
        "duration": 47,
        "start_time": "2022-09-18T12:40:50.771Z"
      },
      {
        "duration": 4,
        "start_time": "2022-09-18T12:40:52.078Z"
      },
      {
        "duration": 112,
        "start_time": "2022-09-18T12:40:58.771Z"
      },
      {
        "duration": 125,
        "start_time": "2022-09-18T12:41:07.855Z"
      },
      {
        "duration": 19,
        "start_time": "2022-09-18T12:41:27.101Z"
      },
      {
        "duration": 4,
        "start_time": "2022-09-18T12:41:28.037Z"
      },
      {
        "duration": 101,
        "start_time": "2022-09-18T12:41:30.834Z"
      },
      {
        "duration": 11,
        "start_time": "2022-09-18T12:41:52.906Z"
      },
      {
        "duration": 4,
        "start_time": "2022-09-18T12:41:53.833Z"
      },
      {
        "duration": 110,
        "start_time": "2022-09-18T12:41:57.833Z"
      },
      {
        "duration": 230,
        "start_time": "2022-09-18T12:42:14.737Z"
      },
      {
        "duration": 7,
        "start_time": "2022-09-18T12:42:15.540Z"
      },
      {
        "duration": 3,
        "start_time": "2022-09-18T12:42:17.935Z"
      },
      {
        "duration": 124,
        "start_time": "2022-09-18T12:43:44.437Z"
      },
      {
        "duration": 7,
        "start_time": "2022-09-18T12:44:19.259Z"
      },
      {
        "duration": 4,
        "start_time": "2022-09-18T12:44:21.307Z"
      },
      {
        "duration": 109,
        "start_time": "2022-09-18T12:44:40.233Z"
      },
      {
        "duration": 467,
        "start_time": "2022-09-18T12:44:43.736Z"
      },
      {
        "duration": 8,
        "start_time": "2022-09-18T12:44:48.433Z"
      },
      {
        "duration": 4,
        "start_time": "2022-09-18T12:44:50.980Z"
      },
      {
        "duration": 107,
        "start_time": "2022-09-18T12:44:55.929Z"
      },
      {
        "duration": 8,
        "start_time": "2022-09-18T12:45:03.178Z"
      },
      {
        "duration": 4,
        "start_time": "2022-09-18T12:45:03.381Z"
      },
      {
        "duration": 105,
        "start_time": "2022-09-18T12:45:06.567Z"
      },
      {
        "duration": 108,
        "start_time": "2022-09-18T12:45:40.867Z"
      },
      {
        "duration": 128,
        "start_time": "2022-09-18T12:45:47.433Z"
      },
      {
        "duration": 7,
        "start_time": "2022-09-18T12:45:49.046Z"
      },
      {
        "duration": 4,
        "start_time": "2022-09-18T12:45:50.079Z"
      },
      {
        "duration": 3,
        "start_time": "2022-09-18T12:48:06.060Z"
      },
      {
        "duration": 111,
        "start_time": "2022-09-18T12:48:06.499Z"
      },
      {
        "duration": 40,
        "start_time": "2022-09-18T12:48:07.935Z"
      },
      {
        "duration": 71,
        "start_time": "2022-09-18T12:48:08.101Z"
      },
      {
        "duration": 7,
        "start_time": "2022-09-18T12:48:08.435Z"
      },
      {
        "duration": 16,
        "start_time": "2022-09-18T12:48:08.521Z"
      },
      {
        "duration": 9,
        "start_time": "2022-09-18T12:48:09.533Z"
      },
      {
        "duration": 17,
        "start_time": "2022-09-18T12:48:12.229Z"
      },
      {
        "duration": 27,
        "start_time": "2022-09-18T12:48:12.709Z"
      },
      {
        "duration": 7,
        "start_time": "2022-09-18T12:48:12.929Z"
      },
      {
        "duration": 4,
        "start_time": "2022-09-18T12:48:13.133Z"
      },
      {
        "duration": 4,
        "start_time": "2022-09-18T12:48:13.768Z"
      },
      {
        "duration": 9,
        "start_time": "2022-09-18T12:48:15.681Z"
      },
      {
        "duration": 24,
        "start_time": "2022-09-18T12:48:17.132Z"
      },
      {
        "duration": 5,
        "start_time": "2022-09-18T12:48:19.179Z"
      },
      {
        "duration": 5,
        "start_time": "2022-09-18T12:48:20.825Z"
      },
      {
        "duration": 6,
        "start_time": "2022-09-18T12:48:21.834Z"
      },
      {
        "duration": 6,
        "start_time": "2022-09-18T12:48:24.184Z"
      },
      {
        "duration": 12,
        "start_time": "2022-09-18T12:48:24.407Z"
      },
      {
        "duration": 33,
        "start_time": "2022-09-18T12:48:25.321Z"
      },
      {
        "duration": 2,
        "start_time": "2022-09-18T12:48:29.196Z"
      },
      {
        "duration": 13,
        "start_time": "2022-09-18T12:48:29.633Z"
      },
      {
        "duration": 7,
        "start_time": "2022-09-18T12:48:31.660Z"
      },
      {
        "duration": 141,
        "start_time": "2022-09-18T12:48:32.808Z"
      },
      {
        "duration": 132,
        "start_time": "2022-09-18T12:48:36.275Z"
      },
      {
        "duration": 11,
        "start_time": "2022-09-18T12:48:38.533Z"
      },
      {
        "duration": 15,
        "start_time": "2022-09-18T12:49:29.130Z"
      },
      {
        "duration": 6,
        "start_time": "2022-09-18T12:49:30.125Z"
      },
      {
        "duration": 8,
        "start_time": "2022-09-18T12:49:53.679Z"
      },
      {
        "duration": 114,
        "start_time": "2022-09-18T12:50:28.608Z"
      },
      {
        "duration": 197,
        "start_time": "2022-09-18T12:50:30.555Z"
      },
      {
        "duration": 11,
        "start_time": "2022-09-18T12:50:37.229Z"
      },
      {
        "duration": 10,
        "start_time": "2022-09-18T12:50:43.963Z"
      },
      {
        "duration": 5,
        "start_time": "2022-09-18T12:50:47.133Z"
      },
      {
        "duration": 116,
        "start_time": "2022-09-18T12:51:04.671Z"
      },
      {
        "duration": 106,
        "start_time": "2022-09-18T12:51:10.379Z"
      },
      {
        "duration": 8,
        "start_time": "2022-09-18T12:51:17.964Z"
      },
      {
        "duration": 11,
        "start_time": "2022-09-18T12:51:21.756Z"
      },
      {
        "duration": 213,
        "start_time": "2022-09-18T12:51:30.980Z"
      },
      {
        "duration": 32,
        "start_time": "2022-09-18T12:51:56.156Z"
      },
      {
        "duration": 24,
        "start_time": "2022-09-18T12:52:03.180Z"
      },
      {
        "duration": 10,
        "start_time": "2022-09-18T12:52:09.263Z"
      },
      {
        "duration": 5,
        "start_time": "2022-09-18T12:52:13.372Z"
      },
      {
        "duration": 4,
        "start_time": "2022-09-18T12:52:19.604Z"
      },
      {
        "duration": 8,
        "start_time": "2022-09-18T12:52:51.880Z"
      },
      {
        "duration": 114,
        "start_time": "2022-09-18T12:53:02.136Z"
      },
      {
        "duration": 13,
        "start_time": "2022-09-18T12:53:20.234Z"
      },
      {
        "duration": 145,
        "start_time": "2022-09-18T12:53:31.199Z"
      },
      {
        "duration": 5,
        "start_time": "2022-09-18T12:53:38.169Z"
      },
      {
        "duration": 8,
        "start_time": "2022-09-18T12:54:04.779Z"
      },
      {
        "duration": 113,
        "start_time": "2022-09-18T12:54:05.901Z"
      },
      {
        "duration": 223,
        "start_time": "2022-09-18T12:54:23.026Z"
      },
      {
        "duration": 10,
        "start_time": "2022-09-18T12:54:32.334Z"
      },
      {
        "duration": 4,
        "start_time": "2022-09-18T12:54:33.236Z"
      },
      {
        "duration": 117,
        "start_time": "2022-09-18T12:54:36.626Z"
      },
      {
        "duration": 12,
        "start_time": "2022-09-18T12:55:06.233Z"
      },
      {
        "duration": 136,
        "start_time": "2022-09-18T12:55:25.472Z"
      },
      {
        "duration": 9,
        "start_time": "2022-09-18T12:55:33.464Z"
      },
      {
        "duration": 96,
        "start_time": "2022-09-18T12:55:34.880Z"
      },
      {
        "duration": 10,
        "start_time": "2022-09-18T12:55:42.560Z"
      },
      {
        "duration": 110,
        "start_time": "2022-09-18T12:55:43.377Z"
      },
      {
        "duration": 13,
        "start_time": "2022-09-18T12:55:53.828Z"
      },
      {
        "duration": 103,
        "start_time": "2022-09-18T12:55:55.868Z"
      },
      {
        "duration": 12,
        "start_time": "2022-09-18T12:56:01.133Z"
      },
      {
        "duration": 101,
        "start_time": "2022-09-18T12:56:01.892Z"
      },
      {
        "duration": 12,
        "start_time": "2022-09-18T12:56:07.261Z"
      },
      {
        "duration": 132,
        "start_time": "2022-09-18T12:56:08.076Z"
      },
      {
        "duration": 14,
        "start_time": "2022-09-18T12:56:14.003Z"
      },
      {
        "duration": 124,
        "start_time": "2022-09-18T12:56:15.229Z"
      },
      {
        "duration": 12,
        "start_time": "2022-09-18T12:56:20.157Z"
      },
      {
        "duration": 103,
        "start_time": "2022-09-18T12:56:20.773Z"
      },
      {
        "duration": 4,
        "start_time": "2022-09-18T12:56:33.172Z"
      },
      {
        "duration": 101,
        "start_time": "2022-09-18T12:56:36.329Z"
      },
      {
        "duration": 92,
        "start_time": "2022-09-18T12:56:52.103Z"
      },
      {
        "duration": 5,
        "start_time": "2022-09-18T12:56:53.625Z"
      },
      {
        "duration": 147,
        "start_time": "2022-09-18T12:56:56.805Z"
      },
      {
        "duration": 18,
        "start_time": "2022-09-18T12:57:37.894Z"
      },
      {
        "duration": 4,
        "start_time": "2022-09-18T12:57:42.064Z"
      },
      {
        "duration": 152,
        "start_time": "2022-09-18T12:57:46.185Z"
      },
      {
        "duration": 19,
        "start_time": "2022-09-18T12:57:51.808Z"
      },
      {
        "duration": 5,
        "start_time": "2022-09-18T12:57:52.537Z"
      },
      {
        "duration": 112,
        "start_time": "2022-09-18T12:57:56.802Z"
      },
      {
        "duration": 9,
        "start_time": "2022-09-18T12:58:12.068Z"
      },
      {
        "duration": 4,
        "start_time": "2022-09-18T12:58:12.834Z"
      },
      {
        "duration": 125,
        "start_time": "2022-09-18T12:58:21.200Z"
      },
      {
        "duration": 131,
        "start_time": "2022-09-18T12:58:34.528Z"
      },
      {
        "duration": 241,
        "start_time": "2022-09-18T12:58:34.826Z"
      },
      {
        "duration": 10,
        "start_time": "2022-09-18T12:59:02.766Z"
      },
      {
        "duration": 7,
        "start_time": "2022-09-18T12:59:03.404Z"
      },
      {
        "duration": 110,
        "start_time": "2022-09-18T12:59:06.664Z"
      },
      {
        "duration": 106,
        "start_time": "2022-09-18T12:59:35.535Z"
      },
      {
        "duration": 132,
        "start_time": "2022-09-18T12:59:58.357Z"
      },
      {
        "duration": 194,
        "start_time": "2022-09-18T13:00:01.695Z"
      },
      {
        "duration": 10,
        "start_time": "2022-09-18T13:00:13.730Z"
      },
      {
        "duration": 7,
        "start_time": "2022-09-18T13:00:14.330Z"
      },
      {
        "duration": 7,
        "start_time": "2022-09-18T13:00:31.026Z"
      },
      {
        "duration": 6,
        "start_time": "2022-09-18T13:00:32.576Z"
      },
      {
        "duration": 3,
        "start_time": "2022-09-18T13:00:33.180Z"
      },
      {
        "duration": 63,
        "start_time": "2022-09-18T13:00:33.999Z"
      },
      {
        "duration": 6,
        "start_time": "2022-09-18T13:00:35.117Z"
      },
      {
        "duration": 4,
        "start_time": "2022-09-18T13:00:36.049Z"
      },
      {
        "duration": 16,
        "start_time": "2022-09-18T13:00:38.706Z"
      },
      {
        "duration": 10,
        "start_time": "2022-09-18T13:00:43.628Z"
      },
      {
        "duration": 187,
        "start_time": "2022-09-18T13:00:45.764Z"
      },
      {
        "duration": 5,
        "start_time": "2022-09-18T13:00:55.599Z"
      },
      {
        "duration": 5,
        "start_time": "2022-09-18T13:01:04.098Z"
      },
      {
        "duration": 3,
        "start_time": "2022-09-18T13:01:05.127Z"
      },
      {
        "duration": 151,
        "start_time": "2022-09-18T13:01:06.868Z"
      },
      {
        "duration": 5,
        "start_time": "2022-09-18T13:01:27.468Z"
      },
      {
        "duration": 21,
        "start_time": "2022-09-18T13:01:28.472Z"
      },
      {
        "duration": 190,
        "start_time": "2022-09-18T13:01:35.539Z"
      },
      {
        "duration": 16,
        "start_time": "2022-09-18T13:01:43.726Z"
      },
      {
        "duration": 153,
        "start_time": "2022-09-18T13:01:44.668Z"
      },
      {
        "duration": 452,
        "start_time": "2022-09-18T13:02:29.708Z"
      },
      {
        "duration": 14,
        "start_time": "2022-09-18T13:03:14.759Z"
      },
      {
        "duration": 9,
        "start_time": "2022-09-18T13:03:16.204Z"
      },
      {
        "duration": 113,
        "start_time": "2022-09-18T13:03:16.908Z"
      },
      {
        "duration": 162,
        "start_time": "2022-09-18T13:03:17.667Z"
      },
      {
        "duration": 7,
        "start_time": "2022-09-18T13:03:18.555Z"
      },
      {
        "duration": 4,
        "start_time": "2022-09-18T13:03:19.572Z"
      },
      {
        "duration": 4,
        "start_time": "2022-09-18T13:04:30.428Z"
      },
      {
        "duration": 193,
        "start_time": "2022-09-18T13:04:30.763Z"
      },
      {
        "duration": 51,
        "start_time": "2022-09-18T13:04:32.737Z"
      },
      {
        "duration": 70,
        "start_time": "2022-09-18T13:04:32.883Z"
      },
      {
        "duration": 5,
        "start_time": "2022-09-18T13:04:33.095Z"
      },
      {
        "duration": 21,
        "start_time": "2022-09-18T13:04:34.036Z"
      },
      {
        "duration": 14,
        "start_time": "2022-09-18T13:04:35.280Z"
      },
      {
        "duration": 23,
        "start_time": "2022-09-18T13:04:38.107Z"
      },
      {
        "duration": 18,
        "start_time": "2022-09-18T13:04:39.259Z"
      },
      {
        "duration": 4,
        "start_time": "2022-09-18T13:04:39.970Z"
      },
      {
        "duration": 5,
        "start_time": "2022-09-18T13:04:40.478Z"
      },
      {
        "duration": 4,
        "start_time": "2022-09-18T13:04:40.578Z"
      },
      {
        "duration": 11,
        "start_time": "2022-09-18T13:04:41.704Z"
      },
      {
        "duration": 32,
        "start_time": "2022-09-18T13:04:42.325Z"
      },
      {
        "duration": 6,
        "start_time": "2022-09-18T13:04:42.728Z"
      },
      {
        "duration": 4,
        "start_time": "2022-09-18T13:04:43.141Z"
      },
      {
        "duration": 10,
        "start_time": "2022-09-18T13:04:43.337Z"
      },
      {
        "duration": 7,
        "start_time": "2022-09-18T13:04:43.570Z"
      },
      {
        "duration": 7,
        "start_time": "2022-09-18T13:04:43.766Z"
      },
      {
        "duration": 32,
        "start_time": "2022-09-18T13:04:44.258Z"
      },
      {
        "duration": 3,
        "start_time": "2022-09-18T13:04:44.870Z"
      },
      {
        "duration": 13,
        "start_time": "2022-09-18T13:04:45.773Z"
      },
      {
        "duration": 8,
        "start_time": "2022-09-18T13:04:48.463Z"
      },
      {
        "duration": 9,
        "start_time": "2022-09-18T13:06:31.569Z"
      },
      {
        "duration": 3,
        "start_time": "2022-09-18T13:06:32.998Z"
      },
      {
        "duration": 9,
        "start_time": "2022-09-18T13:06:42.633Z"
      },
      {
        "duration": 11,
        "start_time": "2022-09-18T13:07:17.961Z"
      },
      {
        "duration": 11,
        "start_time": "2022-09-18T13:07:51.353Z"
      },
      {
        "duration": 4,
        "start_time": "2022-09-18T13:07:52.168Z"
      },
      {
        "duration": 117,
        "start_time": "2022-09-18T13:08:07.535Z"
      },
      {
        "duration": 11,
        "start_time": "2022-09-18T13:08:37.832Z"
      },
      {
        "duration": 113,
        "start_time": "2022-09-18T13:08:40.926Z"
      },
      {
        "duration": 10,
        "start_time": "2022-09-18T13:08:51.668Z"
      },
      {
        "duration": 4,
        "start_time": "2022-09-18T13:08:52.473Z"
      },
      {
        "duration": 8,
        "start_time": "2022-09-18T13:08:57.689Z"
      },
      {
        "duration": 111,
        "start_time": "2022-09-18T13:09:03.133Z"
      },
      {
        "duration": 12,
        "start_time": "2022-09-18T13:09:27.600Z"
      },
      {
        "duration": 4,
        "start_time": "2022-09-18T13:09:28.407Z"
      },
      {
        "duration": 110,
        "start_time": "2022-09-18T13:09:40.496Z"
      },
      {
        "duration": 9,
        "start_time": "2022-09-18T13:09:46.134Z"
      },
      {
        "duration": 10,
        "start_time": "2022-09-18T13:09:48.071Z"
      },
      {
        "duration": 238,
        "start_time": "2022-09-18T13:09:53.096Z"
      },
      {
        "duration": 8,
        "start_time": "2022-09-18T13:09:55.152Z"
      },
      {
        "duration": 4,
        "start_time": "2022-09-18T13:10:08.369Z"
      },
      {
        "duration": 4,
        "start_time": "2022-09-18T13:10:08.968Z"
      },
      {
        "duration": 7,
        "start_time": "2022-09-18T13:10:25.448Z"
      },
      {
        "duration": 104,
        "start_time": "2022-09-18T13:10:26.877Z"
      },
      {
        "duration": 8,
        "start_time": "2022-09-18T13:10:58.952Z"
      },
      {
        "duration": 9,
        "start_time": "2022-09-18T13:11:04.379Z"
      },
      {
        "duration": 3,
        "start_time": "2022-09-18T13:11:05.178Z"
      },
      {
        "duration": 10,
        "start_time": "2022-09-18T13:11:10.201Z"
      },
      {
        "duration": 102,
        "start_time": "2022-09-18T13:11:30.672Z"
      },
      {
        "duration": 10,
        "start_time": "2022-09-18T13:11:33.555Z"
      },
      {
        "duration": 123,
        "start_time": "2022-09-18T13:11:34.669Z"
      },
      {
        "duration": 120,
        "start_time": "2022-09-18T13:11:50.552Z"
      },
      {
        "duration": 9,
        "start_time": "2022-09-18T13:11:57.736Z"
      },
      {
        "duration": 113,
        "start_time": "2022-09-18T13:11:58.530Z"
      },
      {
        "duration": 10,
        "start_time": "2022-09-18T13:12:24.463Z"
      },
      {
        "duration": 4,
        "start_time": "2022-09-18T13:12:27.930Z"
      },
      {
        "duration": 100,
        "start_time": "2022-09-18T13:12:31.402Z"
      },
      {
        "duration": 10,
        "start_time": "2022-09-18T13:12:40.407Z"
      },
      {
        "duration": 98,
        "start_time": "2022-09-18T13:12:41.227Z"
      },
      {
        "duration": 9,
        "start_time": "2022-09-18T13:12:55.159Z"
      },
      {
        "duration": 11,
        "start_time": "2022-09-18T13:13:06.112Z"
      },
      {
        "duration": 118,
        "start_time": "2022-09-18T13:13:07.064Z"
      },
      {
        "duration": 8,
        "start_time": "2022-09-18T13:13:16.992Z"
      },
      {
        "duration": 111,
        "start_time": "2022-09-18T13:13:21.789Z"
      },
      {
        "duration": 10,
        "start_time": "2022-09-18T13:13:27.433Z"
      },
      {
        "duration": 112,
        "start_time": "2022-09-18T13:13:29.355Z"
      },
      {
        "duration": 104,
        "start_time": "2022-09-18T13:13:40.833Z"
      },
      {
        "duration": 49,
        "start_time": "2022-09-18T13:13:53.734Z"
      },
      {
        "duration": 8,
        "start_time": "2022-09-18T13:13:55.383Z"
      },
      {
        "duration": 109,
        "start_time": "2022-09-18T13:13:59.567Z"
      },
      {
        "duration": 130,
        "start_time": "2022-09-18T13:14:05.104Z"
      },
      {
        "duration": 19,
        "start_time": "2022-09-18T13:14:27.226Z"
      },
      {
        "duration": 4,
        "start_time": "2022-09-18T13:14:27.833Z"
      },
      {
        "duration": 136,
        "start_time": "2022-09-18T13:14:30.601Z"
      },
      {
        "duration": 9,
        "start_time": "2022-09-18T13:14:30.795Z"
      },
      {
        "duration": 3,
        "start_time": "2022-09-18T13:14:31.002Z"
      },
      {
        "duration": 116,
        "start_time": "2022-09-18T13:14:32.255Z"
      },
      {
        "duration": 218,
        "start_time": "2022-09-18T13:14:32.451Z"
      },
      {
        "duration": 7,
        "start_time": "2022-09-18T13:14:35.997Z"
      },
      {
        "duration": 4,
        "start_time": "2022-09-18T13:14:36.763Z"
      },
      {
        "duration": 107,
        "start_time": "2022-09-18T13:14:48.829Z"
      },
      {
        "duration": 7,
        "start_time": "2022-09-18T13:14:53.555Z"
      },
      {
        "duration": 3,
        "start_time": "2022-09-18T13:14:53.759Z"
      },
      {
        "duration": 103,
        "start_time": "2022-09-18T13:14:54.267Z"
      },
      {
        "duration": 255,
        "start_time": "2022-09-18T13:14:54.467Z"
      },
      {
        "duration": 13,
        "start_time": "2022-09-18T13:14:54.728Z"
      },
      {
        "duration": 3,
        "start_time": "2022-09-18T13:14:54.955Z"
      },
      {
        "duration": 104,
        "start_time": "2022-09-18T13:14:56.799Z"
      },
      {
        "duration": 2,
        "start_time": "2022-09-18T13:14:57.101Z"
      },
      {
        "duration": 2,
        "start_time": "2022-09-18T13:14:57.305Z"
      },
      {
        "duration": 101,
        "start_time": "2022-09-18T13:14:57.880Z"
      },
      {
        "duration": 116,
        "start_time": "2022-09-18T13:14:58.503Z"
      },
      {
        "duration": 134,
        "start_time": "2022-09-18T13:14:58.734Z"
      },
      {
        "duration": 7,
        "start_time": "2022-09-18T13:14:58.967Z"
      },
      {
        "duration": 3,
        "start_time": "2022-09-18T13:14:59.355Z"
      },
      {
        "duration": 4,
        "start_time": "2022-09-18T13:15:06.752Z"
      },
      {
        "duration": 7,
        "start_time": "2022-09-18T13:15:07.255Z"
      },
      {
        "duration": 4,
        "start_time": "2022-09-18T13:15:07.459Z"
      },
      {
        "duration": 66,
        "start_time": "2022-09-18T13:15:07.588Z"
      },
      {
        "duration": 3,
        "start_time": "2022-09-18T13:15:07.788Z"
      },
      {
        "duration": 4,
        "start_time": "2022-09-18T13:15:08.499Z"
      },
      {
        "duration": 7,
        "start_time": "2022-09-18T13:15:08.594Z"
      },
      {
        "duration": 6,
        "start_time": "2022-09-18T13:15:10.129Z"
      },
      {
        "duration": 243,
        "start_time": "2022-09-18T13:15:10.329Z"
      },
      {
        "duration": 5,
        "start_time": "2022-09-18T13:15:11.255Z"
      },
      {
        "duration": 181,
        "start_time": "2022-09-18T13:15:13.116Z"
      },
      {
        "duration": 106,
        "start_time": "2022-09-18T13:15:51.798Z"
      },
      {
        "duration": 5,
        "start_time": "2022-09-18T13:16:12.997Z"
      },
      {
        "duration": 2,
        "start_time": "2022-09-18T13:16:15.455Z"
      },
      {
        "duration": 119,
        "start_time": "2022-09-18T13:16:16.267Z"
      },
      {
        "duration": 8,
        "start_time": "2022-09-18T13:17:00.099Z"
      },
      {
        "duration": 4,
        "start_time": "2022-09-18T13:17:00.622Z"
      },
      {
        "duration": 115,
        "start_time": "2022-09-18T13:17:01.333Z"
      },
      {
        "duration": 8,
        "start_time": "2022-09-18T13:17:01.467Z"
      },
      {
        "duration": 4,
        "start_time": "2022-09-18T13:17:01.647Z"
      },
      {
        "duration": 103,
        "start_time": "2022-09-18T13:17:02.259Z"
      },
      {
        "duration": 237,
        "start_time": "2022-09-18T13:17:02.365Z"
      },
      {
        "duration": 15,
        "start_time": "2022-09-18T13:17:02.604Z"
      },
      {
        "duration": 4,
        "start_time": "2022-09-18T13:17:02.751Z"
      },
      {
        "duration": 106,
        "start_time": "2022-09-18T13:17:03.291Z"
      },
      {
        "duration": 7,
        "start_time": "2022-09-18T13:17:03.495Z"
      },
      {
        "duration": 3,
        "start_time": "2022-09-18T13:17:03.672Z"
      },
      {
        "duration": 104,
        "start_time": "2022-09-18T13:17:04.259Z"
      },
      {
        "duration": 252,
        "start_time": "2022-09-18T13:17:04.455Z"
      },
      {
        "duration": 12,
        "start_time": "2022-09-18T13:17:04.709Z"
      },
      {
        "duration": 3,
        "start_time": "2022-09-18T13:17:04.859Z"
      },
      {
        "duration": 103,
        "start_time": "2022-09-18T13:17:05.451Z"
      },
      {
        "duration": 2,
        "start_time": "2022-09-18T13:17:05.663Z"
      },
      {
        "duration": 2,
        "start_time": "2022-09-18T13:17:05.863Z"
      },
      {
        "duration": 105,
        "start_time": "2022-09-18T13:17:06.471Z"
      },
      {
        "duration": 133,
        "start_time": "2022-09-18T13:17:07.100Z"
      },
      {
        "duration": 498,
        "start_time": "2022-09-18T13:17:07.289Z"
      },
      {
        "duration": 8,
        "start_time": "2022-09-18T13:17:07.789Z"
      },
      {
        "duration": 17,
        "start_time": "2022-09-18T13:17:07.798Z"
      },
      {
        "duration": 3,
        "start_time": "2022-09-18T13:17:08.793Z"
      },
      {
        "duration": 6,
        "start_time": "2022-09-18T13:17:08.999Z"
      },
      {
        "duration": 4,
        "start_time": "2022-09-18T13:17:09.234Z"
      },
      {
        "duration": 62,
        "start_time": "2022-09-18T13:17:09.598Z"
      },
      {
        "duration": 3,
        "start_time": "2022-09-18T13:17:09.772Z"
      },
      {
        "duration": 4,
        "start_time": "2022-09-18T13:17:10.004Z"
      },
      {
        "duration": 8,
        "start_time": "2022-09-18T13:17:10.235Z"
      },
      {
        "duration": 5,
        "start_time": "2022-09-18T13:17:11.855Z"
      },
      {
        "duration": 194,
        "start_time": "2022-09-18T13:17:12.066Z"
      },
      {
        "duration": 7,
        "start_time": "2022-09-18T13:17:12.504Z"
      },
      {
        "duration": 179,
        "start_time": "2022-09-18T13:17:16.296Z"
      },
      {
        "duration": 151,
        "start_time": "2022-09-18T13:17:17.402Z"
      },
      {
        "duration": 4,
        "start_time": "2022-09-18T13:17:27.363Z"
      },
      {
        "duration": 2,
        "start_time": "2022-09-18T13:17:27.555Z"
      },
      {
        "duration": 123,
        "start_time": "2022-09-18T13:17:28.475Z"
      },
      {
        "duration": 5,
        "start_time": "2022-09-18T13:17:40.055Z"
      },
      {
        "duration": 13,
        "start_time": "2022-09-18T13:17:40.351Z"
      },
      {
        "duration": 135,
        "start_time": "2022-09-18T13:17:40.871Z"
      },
      {
        "duration": 15,
        "start_time": "2022-09-18T13:17:59.200Z"
      },
      {
        "duration": 124,
        "start_time": "2022-09-18T13:18:02.362Z"
      },
      {
        "duration": 164,
        "start_time": "2022-09-18T13:18:04.605Z"
      },
      {
        "duration": 118,
        "start_time": "2022-09-18T13:18:10.451Z"
      },
      {
        "duration": 163,
        "start_time": "2022-09-18T13:19:06.063Z"
      },
      {
        "duration": 125,
        "start_time": "2022-09-18T13:19:43.025Z"
      },
      {
        "duration": 3,
        "start_time": "2022-09-18T13:20:06.564Z"
      },
      {
        "duration": 20,
        "start_time": "2022-09-18T13:20:33.299Z"
      },
      {
        "duration": 191,
        "start_time": "2022-09-18T13:20:34.124Z"
      },
      {
        "duration": 143,
        "start_time": "2022-09-18T13:21:05.251Z"
      },
      {
        "duration": 20,
        "start_time": "2022-09-18T13:21:21.235Z"
      },
      {
        "duration": 19,
        "start_time": "2022-09-18T13:23:32.206Z"
      },
      {
        "duration": 30,
        "start_time": "2022-09-18T13:23:53.702Z"
      },
      {
        "duration": 100,
        "start_time": "2022-09-18T13:25:18.989Z"
      },
      {
        "duration": 5,
        "start_time": "2022-09-18T13:25:34.451Z"
      },
      {
        "duration": 6,
        "start_time": "2022-09-18T13:25:34.961Z"
      },
      {
        "duration": 4,
        "start_time": "2022-09-18T13:25:35.101Z"
      },
      {
        "duration": 44,
        "start_time": "2022-09-18T13:25:36.300Z"
      },
      {
        "duration": 14,
        "start_time": "2022-09-18T13:25:37.729Z"
      },
      {
        "duration": 157,
        "start_time": "2022-09-18T13:25:50.950Z"
      },
      {
        "duration": 3,
        "start_time": "2022-09-18T13:26:09.473Z"
      },
      {
        "duration": 115,
        "start_time": "2022-09-18T13:27:02.321Z"
      },
      {
        "duration": 45,
        "start_time": "2022-09-18T13:36:13.224Z"
      },
      {
        "duration": 373,
        "start_time": "2022-09-19T05:03:38.765Z"
      },
      {
        "duration": 306,
        "start_time": "2022-09-19T05:03:39.140Z"
      },
      {
        "duration": 55,
        "start_time": "2022-09-19T05:03:39.448Z"
      },
      {
        "duration": 75,
        "start_time": "2022-09-19T05:03:39.506Z"
      },
      {
        "duration": 5,
        "start_time": "2022-09-19T05:03:39.582Z"
      },
      {
        "duration": 26,
        "start_time": "2022-09-19T05:03:39.588Z"
      },
      {
        "duration": 8,
        "start_time": "2022-09-19T05:03:39.616Z"
      },
      {
        "duration": 13,
        "start_time": "2022-09-19T05:03:39.625Z"
      },
      {
        "duration": 17,
        "start_time": "2022-09-19T05:03:39.639Z"
      },
      {
        "duration": 3,
        "start_time": "2022-09-19T05:03:39.659Z"
      },
      {
        "duration": 8,
        "start_time": "2022-09-19T05:03:39.664Z"
      },
      {
        "duration": 4,
        "start_time": "2022-09-19T05:03:39.673Z"
      },
      {
        "duration": 9,
        "start_time": "2022-09-19T05:03:39.709Z"
      },
      {
        "duration": 23,
        "start_time": "2022-09-19T05:03:39.720Z"
      },
      {
        "duration": 5,
        "start_time": "2022-09-19T05:03:39.745Z"
      },
      {
        "duration": 10,
        "start_time": "2022-09-19T05:03:39.751Z"
      },
      {
        "duration": 8,
        "start_time": "2022-09-19T05:03:39.763Z"
      },
      {
        "duration": 9,
        "start_time": "2022-09-19T05:03:39.772Z"
      },
      {
        "duration": 5,
        "start_time": "2022-09-19T05:03:39.809Z"
      },
      {
        "duration": 36,
        "start_time": "2022-09-19T05:03:39.816Z"
      },
      {
        "duration": 884,
        "start_time": "2022-09-19T05:03:39.854Z"
      },
      {
        "duration": 16,
        "start_time": "2022-09-19T05:03:40.739Z"
      },
      {
        "duration": 15,
        "start_time": "2022-09-19T05:03:40.756Z"
      },
      {
        "duration": 19,
        "start_time": "2022-09-19T05:03:40.773Z"
      },
      {
        "duration": 26,
        "start_time": "2022-09-19T05:03:40.794Z"
      },
      {
        "duration": 152,
        "start_time": "2022-09-19T05:03:40.821Z"
      },
      {
        "duration": 14,
        "start_time": "2022-09-19T05:03:40.974Z"
      },
      {
        "duration": 16,
        "start_time": "2022-09-19T05:03:40.993Z"
      },
      {
        "duration": 8,
        "start_time": "2022-09-19T05:03:41.011Z"
      },
      {
        "duration": 112,
        "start_time": "2022-09-19T05:03:41.020Z"
      },
      {
        "duration": 179,
        "start_time": "2022-09-19T05:03:41.134Z"
      },
      {
        "duration": 9,
        "start_time": "2022-09-19T05:03:41.315Z"
      },
      {
        "duration": 14,
        "start_time": "2022-09-19T05:03:41.326Z"
      },
      {
        "duration": 105,
        "start_time": "2022-09-19T05:03:41.342Z"
      },
      {
        "duration": 7,
        "start_time": "2022-09-19T05:03:41.448Z"
      },
      {
        "duration": 13,
        "start_time": "2022-09-19T05:03:41.457Z"
      },
      {
        "duration": 276,
        "start_time": "2022-09-19T05:03:41.472Z"
      },
      {
        "duration": 9,
        "start_time": "2022-09-19T05:03:41.749Z"
      },
      {
        "duration": 6,
        "start_time": "2022-09-19T05:03:41.759Z"
      },
      {
        "duration": 5,
        "start_time": "2022-09-19T05:03:41.766Z"
      },
      {
        "duration": 7,
        "start_time": "2022-09-19T05:03:41.772Z"
      },
      {
        "duration": 172,
        "start_time": "2022-09-19T05:03:41.780Z"
      },
      {
        "duration": 8,
        "start_time": "2022-09-19T05:03:41.954Z"
      },
      {
        "duration": 4,
        "start_time": "2022-09-19T05:03:41.963Z"
      },
      {
        "duration": 9,
        "start_time": "2022-09-19T05:03:41.969Z"
      },
      {
        "duration": 109,
        "start_time": "2022-09-19T05:03:41.979Z"
      },
      {
        "duration": 214,
        "start_time": "2022-09-19T05:03:42.090Z"
      },
      {
        "duration": 9,
        "start_time": "2022-09-19T05:03:42.305Z"
      },
      {
        "duration": 5,
        "start_time": "2022-09-19T05:03:42.316Z"
      },
      {
        "duration": 114,
        "start_time": "2022-09-19T05:03:42.323Z"
      },
      {
        "duration": 8,
        "start_time": "2022-09-19T05:03:42.439Z"
      },
      {
        "duration": 11,
        "start_time": "2022-09-19T05:03:42.449Z"
      },
      {
        "duration": 99,
        "start_time": "2022-09-19T05:03:42.461Z"
      },
      {
        "duration": 66,
        "start_time": "2022-09-19T05:03:42.562Z"
      },
      {
        "duration": 4,
        "start_time": "2022-09-19T05:03:42.630Z"
      },
      {
        "duration": 105,
        "start_time": "2022-09-19T05:03:42.636Z"
      },
      {
        "duration": 130,
        "start_time": "2022-09-19T05:03:42.742Z"
      },
      {
        "duration": 13,
        "start_time": "2022-09-19T05:03:42.873Z"
      },
      {
        "duration": 5,
        "start_time": "2022-09-19T05:03:42.887Z"
      },
      {
        "duration": 145,
        "start_time": "2022-09-19T05:03:42.894Z"
      },
      {
        "duration": 8,
        "start_time": "2022-09-19T05:03:43.040Z"
      },
      {
        "duration": 5,
        "start_time": "2022-09-19T05:03:43.050Z"
      },
      {
        "duration": 116,
        "start_time": "2022-09-19T05:03:43.057Z"
      },
      {
        "duration": 279,
        "start_time": "2022-09-19T05:03:43.175Z"
      },
      {
        "duration": 8,
        "start_time": "2022-09-19T05:03:43.455Z"
      },
      {
        "duration": 28,
        "start_time": "2022-09-19T05:03:43.465Z"
      },
      {
        "duration": 131,
        "start_time": "2022-09-19T05:03:43.494Z"
      },
      {
        "duration": 8,
        "start_time": "2022-09-19T05:03:43.627Z"
      },
      {
        "duration": 27,
        "start_time": "2022-09-19T05:03:43.637Z"
      },
      {
        "duration": 118,
        "start_time": "2022-09-19T05:03:43.666Z"
      },
      {
        "duration": 251,
        "start_time": "2022-09-19T05:03:43.786Z"
      },
      {
        "duration": 7,
        "start_time": "2022-09-19T05:03:44.039Z"
      },
      {
        "duration": 15,
        "start_time": "2022-09-19T05:03:44.047Z"
      },
      {
        "duration": 129,
        "start_time": "2022-09-19T05:03:44.063Z"
      },
      {
        "duration": 2,
        "start_time": "2022-09-19T05:03:44.194Z"
      },
      {
        "duration": 12,
        "start_time": "2022-09-19T05:03:44.197Z"
      },
      {
        "duration": 109,
        "start_time": "2022-09-19T05:03:44.211Z"
      },
      {
        "duration": 123,
        "start_time": "2022-09-19T05:03:44.322Z"
      },
      {
        "duration": 169,
        "start_time": "2022-09-19T05:03:44.447Z"
      },
      {
        "duration": 8,
        "start_time": "2022-09-19T05:03:44.619Z"
      },
      {
        "duration": 16,
        "start_time": "2022-09-19T05:03:44.629Z"
      },
      {
        "duration": 6,
        "start_time": "2022-09-19T05:03:44.653Z"
      },
      {
        "duration": 19,
        "start_time": "2022-09-19T05:03:44.661Z"
      },
      {
        "duration": 18,
        "start_time": "2022-09-19T05:03:44.681Z"
      },
      {
        "duration": 84,
        "start_time": "2022-09-19T05:03:44.700Z"
      },
      {
        "duration": 4,
        "start_time": "2022-09-19T05:03:44.785Z"
      },
      {
        "duration": 9,
        "start_time": "2022-09-19T05:03:44.790Z"
      },
      {
        "duration": 7,
        "start_time": "2022-09-19T05:03:44.800Z"
      },
      {
        "duration": 6,
        "start_time": "2022-09-19T05:03:44.809Z"
      },
      {
        "duration": 169,
        "start_time": "2022-09-19T05:03:44.817Z"
      },
      {
        "duration": 5,
        "start_time": "2022-09-19T05:03:44.987Z"
      },
      {
        "duration": 286,
        "start_time": "2022-09-19T05:03:44.993Z"
      },
      {
        "duration": 125,
        "start_time": "2022-09-19T05:03:45.281Z"
      },
      {
        "duration": 6,
        "start_time": "2022-09-19T05:03:45.407Z"
      },
      {
        "duration": 11,
        "start_time": "2022-09-19T05:03:45.415Z"
      },
      {
        "duration": 176,
        "start_time": "2022-09-19T05:03:45.427Z"
      },
      {
        "duration": 9,
        "start_time": "2022-09-19T05:03:45.604Z"
      },
      {
        "duration": 30,
        "start_time": "2022-09-19T05:03:45.614Z"
      },
      {
        "duration": 133,
        "start_time": "2022-09-19T05:03:45.646Z"
      },
      {
        "duration": 28,
        "start_time": "2022-09-19T05:03:45.781Z"
      },
      {
        "duration": 122,
        "start_time": "2022-09-19T05:03:45.811Z"
      },
      {
        "duration": 3,
        "start_time": "2022-09-19T05:03:45.934Z"
      },
      {
        "duration": 142,
        "start_time": "2022-09-19T05:03:45.938Z"
      },
      {
        "duration": 13,
        "start_time": "2022-09-19T05:03:46.082Z"
      },
      {
        "duration": 246,
        "start_time": "2022-09-19T05:03:46.096Z"
      },
      {
        "duration": 106,
        "start_time": "2022-09-19T05:03:46.344Z"
      },
      {
        "duration": 15,
        "start_time": "2022-09-19T05:03:46.452Z"
      },
      {
        "duration": 211,
        "start_time": "2022-09-19T05:03:46.469Z"
      },
      {
        "duration": 29,
        "start_time": "2022-09-19T05:03:46.682Z"
      },
      {
        "duration": 4,
        "start_time": "2022-09-19T05:03:46.712Z"
      },
      {
        "duration": 11,
        "start_time": "2022-09-19T05:03:46.718Z"
      },
      {
        "duration": 5,
        "start_time": "2022-09-19T05:03:46.731Z"
      },
      {
        "duration": 49,
        "start_time": "2022-09-19T05:03:46.738Z"
      },
      {
        "duration": 31,
        "start_time": "2022-09-19T05:03:46.788Z"
      },
      {
        "duration": 3,
        "start_time": "2022-09-19T05:03:46.821Z"
      },
      {
        "duration": 126,
        "start_time": "2022-09-19T05:03:46.826Z"
      },
      {
        "duration": 58,
        "start_time": "2022-09-19T05:10:50.995Z"
      },
      {
        "duration": 107,
        "start_time": "2022-09-19T05:13:30.946Z"
      },
      {
        "duration": 395,
        "start_time": "2022-09-19T05:14:26.417Z"
      },
      {
        "duration": 353,
        "start_time": "2022-09-19T05:15:01.707Z"
      },
      {
        "duration": 244,
        "start_time": "2022-09-19T05:20:05.502Z"
      },
      {
        "duration": 12,
        "start_time": "2022-09-19T05:22:01.135Z"
      },
      {
        "duration": 24,
        "start_time": "2022-09-19T05:22:57.935Z"
      },
      {
        "duration": 31,
        "start_time": "2022-09-19T05:23:44.554Z"
      },
      {
        "duration": 24,
        "start_time": "2022-09-19T05:24:01.635Z"
      },
      {
        "duration": 39,
        "start_time": "2022-09-19T05:24:14.507Z"
      },
      {
        "duration": 28,
        "start_time": "2022-09-19T05:24:44.633Z"
      },
      {
        "duration": 23,
        "start_time": "2022-09-19T05:24:53.565Z"
      },
      {
        "duration": 26,
        "start_time": "2022-09-19T05:27:58.904Z"
      },
      {
        "duration": 124,
        "start_time": "2022-09-19T05:29:45.155Z"
      },
      {
        "duration": 108,
        "start_time": "2022-09-19T05:31:52.727Z"
      },
      {
        "duration": 332,
        "start_time": "2022-09-19T05:32:06.003Z"
      },
      {
        "duration": 251,
        "start_time": "2022-09-19T05:32:49.843Z"
      },
      {
        "duration": 121,
        "start_time": "2022-09-19T05:33:00.804Z"
      },
      {
        "duration": 150,
        "start_time": "2022-09-19T05:33:14.473Z"
      },
      {
        "duration": 1560,
        "start_time": "2022-09-19T05:33:59.134Z"
      },
      {
        "duration": 1554,
        "start_time": "2022-09-19T05:34:16.451Z"
      },
      {
        "duration": 32,
        "start_time": "2022-09-19T05:34:36.036Z"
      },
      {
        "duration": 191,
        "start_time": "2022-09-19T05:37:41.294Z"
      },
      {
        "duration": 193,
        "start_time": "2022-09-19T05:39:17.792Z"
      },
      {
        "duration": 14,
        "start_time": "2022-09-19T05:39:53.301Z"
      },
      {
        "duration": 12,
        "start_time": "2022-09-19T05:40:14.067Z"
      },
      {
        "duration": 130,
        "start_time": "2022-09-19T05:40:32.548Z"
      },
      {
        "duration": 145,
        "start_time": "2022-09-19T05:40:43.736Z"
      },
      {
        "duration": 157,
        "start_time": "2022-09-19T05:43:47.621Z"
      }
    ],
    "kernelspec": {
      "display_name": "Python 3 (ipykernel)",
      "language": "python",
      "name": "python3"
    },
    "language_info": {
      "codemirror_mode": {
        "name": "ipython",
        "version": 3
      },
      "file_extension": ".py",
      "mimetype": "text/x-python",
      "name": "python",
      "nbconvert_exporter": "python",
      "pygments_lexer": "ipython3",
      "version": "3.9.5"
    },
    "toc": {
      "base_numbering": 1,
      "nav_menu": {},
      "number_sections": true,
      "sideBar": true,
      "skip_h1_title": true,
      "title_cell": "Table of Contents",
      "title_sidebar": "Contents",
      "toc_cell": false,
      "toc_position": {},
      "toc_section_display": true,
      "toc_window_display": false
    },
    "colab": {
      "provenance": []
    }
  },
  "nbformat": 4,
  "nbformat_minor": 0
}
