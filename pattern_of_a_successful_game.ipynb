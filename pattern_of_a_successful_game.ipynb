{
  "cells": [
    {
      "cell_type": "markdown",
      "metadata": {
        "id": "0ZmlI_pbUdGP"
      },
      "source": [
        "# Описание проекта"
      ]
    },
    {
      "cell_type": "markdown",
      "metadata": {
        "id": "FEVWEe69UdGP"
      },
      "source": [
        "* Интернет-магазин «Стримчик», который продаёт по всему миру компьютерные игры. Из открытых источников доступны исторические данные о продажах игр, оценки пользователей и экспертов, жанры и платформы (например, Xbox или PlayStation). Нужно выявить определяющие успешность игры закономерности. Это позволит сделать ставку на потенциально популярный продукт и спланировать рекламные кампании.\n",
        "* Перед вами данные до 2016 года. Представим, что сейчас декабрь 2016 г., и вы планируете кампанию на 2017-й. Нужно отработать принцип работы с данными. Неважно, прогнозируете ли вы продажи на 2017 год по данным 2016-го или же 2027-й — по данным 2026 года.\n",
        "* В наборе данных попадается аббревиатура ESRB (Entertainment Software Rating Board) — это ассоциация, определяющая возрастной рейтинг компьютерных игр. ESRB оценивает игровой контент и присваивает ему подходящую возрастную категорию, например, «Для взрослых», «Для детей младшего возраста» или «Для подростков»."
      ]
    },
    {
      "cell_type": "markdown",
      "metadata": {
        "id": "d4f61746"
      },
  
    },
    {
      "cell_type": "code",
      "execution_count": null,
      "metadata": {
        "id": "0K_HBE43UdGQ"
      },
      "outputs": [],
      "source": [
        "import pandas as pd\n",
        "import numpy as np\n",
        "import numpy as np \n",
        "import matplotlib.pyplot as plt\n",
        "import seaborn as sns\n",
        "import scipy.stats as st"
      ]
    },
    {
      "cell_type": "code",
      "execution_count": null,
      "metadata": {
        "colab": {
          "base_uri": "https://localhost:8080/",
          "height": 424
        },
        "id": "Xu0_CF-qUdGQ",
        "outputId": "5faccc84-01e1-4bb3-8846-a99606307669"
      },
      "outputs": [
        {
          "data": {
            "text/html": [
              "<div>\n",
              "<style scoped>\n",
              "    .dataframe tbody tr th:only-of-type {\n",
              "        vertical-align: middle;\n",
              "    }\n",
              "\n",
              "    .dataframe tbody tr th {\n",
              "        vertical-align: top;\n",
              "    }\n",
              "\n",
              "    .dataframe thead th {\n",
              "        text-align: right;\n",
              "    }\n",
              "</style>\n",
              "<table border=\"1\" class=\"dataframe\">\n",
              "  <thead>\n",
              "    <tr style=\"text-align: right;\">\n",
              "      <th></th>\n",
              "      <th>Name</th>\n",
              "      <th>Platform</th>\n",
              "      <th>Year_of_Release</th>\n",
              "      <th>Genre</th>\n",
              "      <th>NA_sales</th>\n",
              "      <th>EU_sales</th>\n",
              "      <th>JP_sales</th>\n",
              "      <th>Other_sales</th>\n",
              "      <th>Critic_Score</th>\n",
              "      <th>User_Score</th>\n",
              "      <th>Rating</th>\n",
              "    </tr>\n",
              "  </thead>\n",
              "  <tbody>\n",
              "    <tr>\n",
              "      <th>0</th>\n",
              "      <td>Wii Sports</td>\n",
              "      <td>Wii</td>\n",
              "      <td>2006.0</td>\n",
              "      <td>Sports</td>\n",
              "      <td>41.36</td>\n",
              "      <td>28.96</td>\n",
              "      <td>3.77</td>\n",
              "      <td>8.45</td>\n",
              "      <td>76.0</td>\n",
              "      <td>8</td>\n",
              "      <td>E</td>\n",
              "    </tr>\n",
              "    <tr>\n",
              "      <th>1</th>\n",
              "      <td>Super Mario Bros.</td>\n",
              "      <td>NES</td>\n",
              "      <td>1985.0</td>\n",
              "      <td>Platform</td>\n",
              "      <td>29.08</td>\n",
              "      <td>3.58</td>\n",
              "      <td>6.81</td>\n",
              "      <td>0.77</td>\n",
              "      <td>NaN</td>\n",
              "      <td>NaN</td>\n",
              "      <td>NaN</td>\n",
              "    </tr>\n",
              "    <tr>\n",
              "      <th>2</th>\n",
              "      <td>Mario Kart Wii</td>\n",
              "      <td>Wii</td>\n",
              "      <td>2008.0</td>\n",
              "      <td>Racing</td>\n",
              "      <td>15.68</td>\n",
              "      <td>12.76</td>\n",
              "      <td>3.79</td>\n",
              "      <td>3.29</td>\n",
              "      <td>82.0</td>\n",
              "      <td>8.3</td>\n",
              "      <td>E</td>\n",
              "    </tr>\n",
              "    <tr>\n",
              "      <th>3</th>\n",
              "      <td>Wii Sports Resort</td>\n",
              "      <td>Wii</td>\n",
              "      <td>2009.0</td>\n",
              "      <td>Sports</td>\n",
              "      <td>15.61</td>\n",
              "      <td>10.93</td>\n",
              "      <td>3.28</td>\n",
              "      <td>2.95</td>\n",
              "      <td>80.0</td>\n",
              "      <td>8</td>\n",
              "      <td>E</td>\n",
              "    </tr>\n",
              "    <tr>\n",
              "      <th>4</th>\n",
              "      <td>Pokemon Red/Pokemon Blue</td>\n",
              "      <td>GB</td>\n",
              "      <td>1996.0</td>\n",
              "      <td>Role-Playing</td>\n",
              "      <td>11.27</td>\n",
              "      <td>8.89</td>\n",
              "      <td>10.22</td>\n",
              "      <td>1.00</td>\n",
              "      <td>NaN</td>\n",
              "      <td>NaN</td>\n",
              "      <td>NaN</td>\n",
              "    </tr>\n",
              "    <tr>\n",
              "      <th>...</th>\n",
              "      <td>...</td>\n",
              "      <td>...</td>\n",
              "      <td>...</td>\n",
              "      <td>...</td>\n",
              "      <td>...</td>\n",
              "      <td>...</td>\n",
              "      <td>...</td>\n",
              "      <td>...</td>\n",
              "      <td>...</td>\n",
              "      <td>...</td>\n",
              "      <td>...</td>\n",
              "    </tr>\n",
              "    <tr>\n",
              "      <th>16710</th>\n",
              "      <td>Samurai Warriors: Sanada Maru</td>\n",
              "      <td>PS3</td>\n",
              "      <td>2016.0</td>\n",
              "      <td>Action</td>\n",
              "      <td>0.00</td>\n",
              "      <td>0.00</td>\n",
              "      <td>0.01</td>\n",
              "      <td>0.00</td>\n",
              "      <td>NaN</td>\n",
              "      <td>NaN</td>\n",
              "      <td>NaN</td>\n",
              "    </tr>\n",
              "    <tr>\n",
              "      <th>16711</th>\n",
              "      <td>LMA Manager 2007</td>\n",
              "      <td>X360</td>\n",
              "      <td>2006.0</td>\n",
              "      <td>Sports</td>\n",
              "      <td>0.00</td>\n",
              "      <td>0.01</td>\n",
              "      <td>0.00</td>\n",
              "      <td>0.00</td>\n",
              "      <td>NaN</td>\n",
              "      <td>NaN</td>\n",
              "      <td>NaN</td>\n",
              "    </tr>\n",
              "    <tr>\n",
              "      <th>16712</th>\n",
              "      <td>Haitaka no Psychedelica</td>\n",
              "      <td>PSV</td>\n",
              "      <td>2016.0</td>\n",
              "      <td>Adventure</td>\n",
              "      <td>0.00</td>\n",
              "      <td>0.00</td>\n",
              "      <td>0.01</td>\n",
              "      <td>0.00</td>\n",
              "      <td>NaN</td>\n",
              "      <td>NaN</td>\n",
              "      <td>NaN</td>\n",
              "    </tr>\n",
              "    <tr>\n",
              "      <th>16713</th>\n",
              "      <td>Spirits &amp; Spells</td>\n",
              "      <td>GBA</td>\n",
              "      <td>2003.0</td>\n",
              "      <td>Platform</td>\n",
              "      <td>0.01</td>\n",
              "      <td>0.00</td>\n",
              "      <td>0.00</td>\n",
              "      <td>0.00</td>\n",
              "      <td>NaN</td>\n",
              "      <td>NaN</td>\n",
              "      <td>NaN</td>\n",
              "    </tr>\n",
              "    <tr>\n",
              "      <th>16714</th>\n",
              "      <td>Winning Post 8 2016</td>\n",
              "      <td>PSV</td>\n",
              "      <td>2016.0</td>\n",
              "      <td>Simulation</td>\n",
              "      <td>0.00</td>\n",
              "      <td>0.00</td>\n",
              "      <td>0.01</td>\n",
              "      <td>0.00</td>\n",
              "      <td>NaN</td>\n",
              "      <td>NaN</td>\n",
              "      <td>NaN</td>\n",
              "    </tr>\n",
              "  </tbody>\n",
              "</table>\n",
              "<p>16715 rows × 11 columns</p>\n",
              "</div>"
            ],
            "text/plain": [
              "                                Name Platform  Year_of_Release         Genre  \\\n",
              "0                         Wii Sports      Wii           2006.0        Sports   \n",
              "1                  Super Mario Bros.      NES           1985.0      Platform   \n",
              "2                     Mario Kart Wii      Wii           2008.0        Racing   \n",
              "3                  Wii Sports Resort      Wii           2009.0        Sports   \n",
              "4           Pokemon Red/Pokemon Blue       GB           1996.0  Role-Playing   \n",
              "...                              ...      ...              ...           ...   \n",
              "16710  Samurai Warriors: Sanada Maru      PS3           2016.0        Action   \n",
              "16711               LMA Manager 2007     X360           2006.0        Sports   \n",
              "16712        Haitaka no Psychedelica      PSV           2016.0     Adventure   \n",
              "16713               Spirits & Spells      GBA           2003.0      Platform   \n",
              "16714            Winning Post 8 2016      PSV           2016.0    Simulation   \n",
              "\n",
              "       NA_sales  EU_sales  JP_sales  Other_sales  Critic_Score User_Score  \\\n",
              "0         41.36     28.96      3.77         8.45          76.0          8   \n",
              "1         29.08      3.58      6.81         0.77           NaN        NaN   \n",
              "2         15.68     12.76      3.79         3.29          82.0        8.3   \n",
              "3         15.61     10.93      3.28         2.95          80.0          8   \n",
              "4         11.27      8.89     10.22         1.00           NaN        NaN   \n",
              "...         ...       ...       ...          ...           ...        ...   \n",
              "16710      0.00      0.00      0.01         0.00           NaN        NaN   \n",
              "16711      0.00      0.01      0.00         0.00           NaN        NaN   \n",
              "16712      0.00      0.00      0.01         0.00           NaN        NaN   \n",
              "16713      0.01      0.00      0.00         0.00           NaN        NaN   \n",
              "16714      0.00      0.00      0.01         0.00           NaN        NaN   \n",
              "\n",
              "      Rating  \n",
              "0          E  \n",
              "1        NaN  \n",
              "2          E  \n",
              "3          E  \n",
              "4        NaN  \n",
              "...      ...  \n",
              "16710    NaN  \n",
              "16711    NaN  \n",
              "16712    NaN  \n",
              "16713    NaN  \n",
              "16714    NaN  \n",
              "\n",
              "[16715 rows x 11 columns]"
            ]
          },
          "execution_count": 3,
          "metadata": {},
          "output_type": "execute_result"
        }
      ],
      "source": [
        "try:\n",
        "    df = pd.read_csv('/datasets/games.csv')\n",
        "except:\n",
        "    df = pd.read_csv('https://code.s3.yandex.net/datasets/games.csv')"
      ]
    },
    {
      "cell_type": "markdown",
      "metadata": {
        "id": "08D2kM2CUdGR"
      },
      "source": [
        "# Описание данных"
      ]
    },
    {
      "cell_type": "markdown",
      "metadata": {
        "id": "stb3VmqjUdGR"
      },
      "source": [
        "* Name — название игры\n",
        "* Platform — платформа\n",
        "* Year_of_Release — год выпуска\n",
        "* Genre — жанр игры\n",
        "* NA_sales — продажи в Северной Америке (миллионы проданных копий)\n",
        "* EU_sales — продажи в Европе (миллионы проданных копий)\n",
        "* JP_sales — продажи в Японии (миллионы проданных копий)\n",
        "* Other_sales — продажи в других странах (миллионы проданных копий)\n",
        "* Critic_Score — оценка критиков (максимум 100)\n",
        "* User_Score — оценка пользователей (максимум 10)\n",
        "* Rating — рейтинг от организации ESRB (англ. Entertainment Software Rating Board).\n",
        "Эта ассоциация определяет рейтинг компьютерных игр и присваивает им подходящую возрастную категорию."
      ]
    },
    {
      "cell_type": "code",
      "execution_count": null,
      "metadata": {
        "colab": {
          "base_uri": "https://localhost:8080/"
        },
        "id": "8Xd6HjGyUdGR",
        "outputId": "45768793-408a-4021-edca-f042fdc13423",
        "scrolled": false
      },
      "outputs": [
        {
          "name": "stdout",
          "output_type": "stream",
          "text": [
            "<class 'pandas.core.frame.DataFrame'>\n",
            "RangeIndex: 16715 entries, 0 to 16714\n",
            "Data columns (total 11 columns):\n",
            " #   Column           Non-Null Count  Dtype  \n",
            "---  ------           --------------  -----  \n",
            " 0   Name             16713 non-null  object \n",
            " 1   Platform         16715 non-null  object \n",
            " 2   Year_of_Release  16446 non-null  float64\n",
            " 3   Genre            16713 non-null  object \n",
            " 4   NA_sales         16715 non-null  float64\n",
            " 5   EU_sales         16715 non-null  float64\n",
            " 6   JP_sales         16715 non-null  float64\n",
            " 7   Other_sales      16715 non-null  float64\n",
            " 8   Critic_Score     8137 non-null   float64\n",
            " 9   User_Score       10014 non-null  object \n",
            " 10  Rating           9949 non-null   object \n",
            "dtypes: float64(6), object(5)\n",
            "memory usage: 1.4+ MB\n"
          ]
        }
      ],
      "source": [
        "df.info()"
      ]
    },
    {
      "cell_type": "code",
      "execution_count": null,
      "metadata": {
        "colab": {
          "base_uri": "https://localhost:8080/"
        },
        "id": "So_LnU24UdGR",
        "outputId": "9f9c23a1-8dc4-4467-9442-fa9c4676ac8d"
      },
      "outputs": [
        {
          "data": {
            "text/plain": [
              "Name                  2\n",
              "Platform              0\n",
              "Year_of_Release     269\n",
              "Genre                 2\n",
              "NA_sales              0\n",
              "EU_sales              0\n",
              "JP_sales              0\n",
              "Other_sales           0\n",
              "Critic_Score       8578\n",
              "User_Score         6701\n",
              "Rating             6766\n",
              "dtype: int64"
            ]
          },
          "execution_count": 5,
          "metadata": {},
          "output_type": "execute_result"
        }
      ],
      "source": [
        "df.isna().sum()"
      ]
    },
    {
      "cell_type": "code",
      "execution_count": null,
      "metadata": {
        "colab": {
          "base_uri": "https://localhost:8080/",
          "height": 424
        },
        "id": "RKkhJ9reUdGR",
        "outputId": "fc1115ba-87f6-4666-a1a0-514c884daf71"
      },
      "outputs": [
        {
          "data": {
            "text/html": [
              "<div>\n",
              "<style scoped>\n",
              "    .dataframe tbody tr th:only-of-type {\n",
              "        vertical-align: middle;\n",
              "    }\n",
              "\n",
              "    .dataframe tbody tr th {\n",
              "        vertical-align: top;\n",
              "    }\n",
              "\n",
              "    .dataframe thead th {\n",
              "        text-align: right;\n",
              "    }\n",
              "</style>\n",
              "<table border=\"1\" class=\"dataframe\">\n",
              "  <thead>\n",
              "    <tr style=\"text-align: right;\">\n",
              "      <th></th>\n",
              "      <th>Name</th>\n",
              "      <th>Platform</th>\n",
              "      <th>Year_of_Release</th>\n",
              "      <th>Genre</th>\n",
              "      <th>NA_sales</th>\n",
              "      <th>EU_sales</th>\n",
              "      <th>JP_sales</th>\n",
              "      <th>Other_sales</th>\n",
              "      <th>Critic_Score</th>\n",
              "      <th>User_Score</th>\n",
              "      <th>Rating</th>\n",
              "    </tr>\n",
              "  </thead>\n",
              "  <tbody>\n",
              "    <tr>\n",
              "      <th>0</th>\n",
              "      <td>Wii Sports</td>\n",
              "      <td>Wii</td>\n",
              "      <td>2006.0</td>\n",
              "      <td>Sports</td>\n",
              "      <td>41.36</td>\n",
              "      <td>28.96</td>\n",
              "      <td>3.77</td>\n",
              "      <td>8.45</td>\n",
              "      <td>76.0</td>\n",
              "      <td>8</td>\n",
              "      <td>E</td>\n",
              "    </tr>\n",
              "    <tr>\n",
              "      <th>1</th>\n",
              "      <td>Super Mario Bros.</td>\n",
              "      <td>NES</td>\n",
              "      <td>1985.0</td>\n",
              "      <td>Platform</td>\n",
              "      <td>29.08</td>\n",
              "      <td>3.58</td>\n",
              "      <td>6.81</td>\n",
              "      <td>0.77</td>\n",
              "      <td>NaN</td>\n",
              "      <td>NaN</td>\n",
              "      <td>NaN</td>\n",
              "    </tr>\n",
              "    <tr>\n",
              "      <th>2</th>\n",
              "      <td>Mario Kart Wii</td>\n",
              "      <td>Wii</td>\n",
              "      <td>2008.0</td>\n",
              "      <td>Racing</td>\n",
              "      <td>15.68</td>\n",
              "      <td>12.76</td>\n",
              "      <td>3.79</td>\n",
              "      <td>3.29</td>\n",
              "      <td>82.0</td>\n",
              "      <td>8.3</td>\n",
              "      <td>E</td>\n",
              "    </tr>\n",
              "    <tr>\n",
              "      <th>3</th>\n",
              "      <td>Wii Sports Resort</td>\n",
              "      <td>Wii</td>\n",
              "      <td>2009.0</td>\n",
              "      <td>Sports</td>\n",
              "      <td>15.61</td>\n",
              "      <td>10.93</td>\n",
              "      <td>3.28</td>\n",
              "      <td>2.95</td>\n",
              "      <td>80.0</td>\n",
              "      <td>8</td>\n",
              "      <td>E</td>\n",
              "    </tr>\n",
              "    <tr>\n",
              "      <th>4</th>\n",
              "      <td>Pokemon Red/Pokemon Blue</td>\n",
              "      <td>GB</td>\n",
              "      <td>1996.0</td>\n",
              "      <td>Role-Playing</td>\n",
              "      <td>11.27</td>\n",
              "      <td>8.89</td>\n",
              "      <td>10.22</td>\n",
              "      <td>1.00</td>\n",
              "      <td>NaN</td>\n",
              "      <td>NaN</td>\n",
              "      <td>NaN</td>\n",
              "    </tr>\n",
              "    <tr>\n",
              "      <th>...</th>\n",
              "      <td>...</td>\n",
              "      <td>...</td>\n",
              "      <td>...</td>\n",
              "      <td>...</td>\n",
              "      <td>...</td>\n",
              "      <td>...</td>\n",
              "      <td>...</td>\n",
              "      <td>...</td>\n",
              "      <td>...</td>\n",
              "      <td>...</td>\n",
              "      <td>...</td>\n",
              "    </tr>\n",
              "    <tr>\n",
              "      <th>16710</th>\n",
              "      <td>Samurai Warriors: Sanada Maru</td>\n",
              "      <td>PS3</td>\n",
              "      <td>2016.0</td>\n",
              "      <td>Action</td>\n",
              "      <td>0.00</td>\n",
              "      <td>0.00</td>\n",
              "      <td>0.01</td>\n",
              "      <td>0.00</td>\n",
              "      <td>NaN</td>\n",
              "      <td>NaN</td>\n",
              "      <td>NaN</td>\n",
              "    </tr>\n",
              "    <tr>\n",
              "      <th>16711</th>\n",
              "      <td>LMA Manager 2007</td>\n",
              "      <td>X360</td>\n",
              "      <td>2006.0</td>\n",
              "      <td>Sports</td>\n",
              "      <td>0.00</td>\n",
              "      <td>0.01</td>\n",
              "      <td>0.00</td>\n",
              "      <td>0.00</td>\n",
              "      <td>NaN</td>\n",
              "      <td>NaN</td>\n",
              "      <td>NaN</td>\n",
              "    </tr>\n",
              "    <tr>\n",
              "      <th>16712</th>\n",
              "      <td>Haitaka no Psychedelica</td>\n",
              "      <td>PSV</td>\n",
              "      <td>2016.0</td>\n",
              "      <td>Adventure</td>\n",
              "      <td>0.00</td>\n",
              "      <td>0.00</td>\n",
              "      <td>0.01</td>\n",
              "      <td>0.00</td>\n",
              "      <td>NaN</td>\n",
              "      <td>NaN</td>\n",
              "      <td>NaN</td>\n",
              "    </tr>\n",
              "    <tr>\n",
              "      <th>16713</th>\n",
              "      <td>Spirits &amp; Spells</td>\n",
              "      <td>GBA</td>\n",
              "      <td>2003.0</td>\n",
              "      <td>Platform</td>\n",
              "      <td>0.01</td>\n",
              "      <td>0.00</td>\n",
              "      <td>0.00</td>\n",
              "      <td>0.00</td>\n",
              "      <td>NaN</td>\n",
              "      <td>NaN</td>\n",
              "      <td>NaN</td>\n",
              "    </tr>\n",
              "    <tr>\n",
              "      <th>16714</th>\n",
              "      <td>Winning Post 8 2016</td>\n",
              "      <td>PSV</td>\n",
              "      <td>2016.0</td>\n",
              "      <td>Simulation</td>\n",
              "      <td>0.00</td>\n",
              "      <td>0.00</td>\n",
              "      <td>0.01</td>\n",
              "      <td>0.00</td>\n",
              "      <td>NaN</td>\n",
              "      <td>NaN</td>\n",
              "      <td>NaN</td>\n",
              "    </tr>\n",
              "  </tbody>\n",
              "</table>\n",
              "<p>16715 rows × 11 columns</p>\n",
              "</div>"
            ],
            "text/plain": [
              "                                Name Platform  Year_of_Release         Genre  \\\n",
              "0                         Wii Sports      Wii           2006.0        Sports   \n",
              "1                  Super Mario Bros.      NES           1985.0      Platform   \n",
              "2                     Mario Kart Wii      Wii           2008.0        Racing   \n",
              "3                  Wii Sports Resort      Wii           2009.0        Sports   \n",
              "4           Pokemon Red/Pokemon Blue       GB           1996.0  Role-Playing   \n",
              "...                              ...      ...              ...           ...   \n",
              "16710  Samurai Warriors: Sanada Maru      PS3           2016.0        Action   \n",
              "16711               LMA Manager 2007     X360           2006.0        Sports   \n",
              "16712        Haitaka no Psychedelica      PSV           2016.0     Adventure   \n",
              "16713               Spirits & Spells      GBA           2003.0      Platform   \n",
              "16714            Winning Post 8 2016      PSV           2016.0    Simulation   \n",
              "\n",
              "       NA_sales  EU_sales  JP_sales  Other_sales  Critic_Score User_Score  \\\n",
              "0         41.36     28.96      3.77         8.45          76.0          8   \n",
              "1         29.08      3.58      6.81         0.77           NaN        NaN   \n",
              "2         15.68     12.76      3.79         3.29          82.0        8.3   \n",
              "3         15.61     10.93      3.28         2.95          80.0          8   \n",
              "4         11.27      8.89     10.22         1.00           NaN        NaN   \n",
              "...         ...       ...       ...          ...           ...        ...   \n",
              "16710      0.00      0.00      0.01         0.00           NaN        NaN   \n",
              "16711      0.00      0.01      0.00         0.00           NaN        NaN   \n",
              "16712      0.00      0.00      0.01         0.00           NaN        NaN   \n",
              "16713      0.01      0.00      0.00         0.00           NaN        NaN   \n",
              "16714      0.00      0.00      0.01         0.00           NaN        NaN   \n",
              "\n",
              "      Rating  \n",
              "0          E  \n",
              "1        NaN  \n",
              "2          E  \n",
              "3          E  \n",
              "4        NaN  \n",
              "...      ...  \n",
              "16710    NaN  \n",
              "16711    NaN  \n",
              "16712    NaN  \n",
              "16713    NaN  \n",
              "16714    NaN  \n",
              "\n",
              "[16715 rows x 11 columns]"
            ]
          },
          "execution_count": 6,
          "metadata": {},
          "output_type": "execute_result"
        }
      ],
      "source": [
        "df"
      ]
    },
    {
      "cell_type": "markdown",
      "metadata": {
        "id": "z7dc-VnoUdGS"
      },
      "source": [
        "# План по обработке данных:"
      ]
    },
    {
      "cell_type": "markdown",
      "metadata": {
        "id": "s1UJFmwuUdGS"
      },
      "source": [
        "1. Сделаю название столбов строчными буквами \n",
        "2. В данных типа object буквы сделаю все строчными \n",
        "3. Пропуски в столбе name заменю на пустую unknown\n",
        "4. Пропуски в столбе year_of_release заменю на пустоту\n",
        "5. Пропуски в столбе critic_score заменю на 0\n",
        "6. Пропуски в столбе user_score заменю на 0\n",
        "7. Пропуски в столбе rating заменю на unknown\n",
        "8. Пропуски в столбе genre заменю на unknown\n",
        "10. В столбы na_sales, eu_sales, jp_sales, other_sales перевести в миллионы и поменять данные, если надо будет, потому как не могут быть продажи дробными\n",
        "13. Удалю дубликаты "
      ]
    },
    {
      "cell_type": "markdown",
      "metadata": {
        "id": "ec9ed47f"
      },
      "source": [
        "<div class=\"alert alert-block alert-success\">\n",
        "<b>✅Комментарий ревьюера:</b> Отлично, с данными познакомились!  </div>"
      ]
    },
    {
      "cell_type": "markdown",
      "metadata": {
        "id": "5J1LnF5dUdGS"
      },
      "source": [
        "# Сделаю название столбов строчными буквами"
      ]
    },
    {
      "cell_type": "code",
      "execution_count": null,
      "metadata": {
        "colab": {
          "base_uri": "https://localhost:8080/",
          "height": 424
        },
        "id": "P-VGA4yIUdGS",
        "outputId": "61e68d34-c1b1-4fc1-d4db-dcd296b8de1d"
      },
      "outputs": [
        {
          "data": {
            "text/html": [
              "<div>\n",
              "<style scoped>\n",
              "    .dataframe tbody tr th:only-of-type {\n",
              "        vertical-align: middle;\n",
              "    }\n",
              "\n",
              "    .dataframe tbody tr th {\n",
              "        vertical-align: top;\n",
              "    }\n",
              "\n",
              "    .dataframe thead th {\n",
              "        text-align: right;\n",
              "    }\n",
              "</style>\n",
              "<table border=\"1\" class=\"dataframe\">\n",
              "  <thead>\n",
              "    <tr style=\"text-align: right;\">\n",
              "      <th></th>\n",
              "      <th>name</th>\n",
              "      <th>platform</th>\n",
              "      <th>year_of_release</th>\n",
              "      <th>genre</th>\n",
              "      <th>na_sales</th>\n",
              "      <th>eu_sales</th>\n",
              "      <th>jp_sales</th>\n",
              "      <th>other_sales</th>\n",
              "      <th>critic_score</th>\n",
              "      <th>user_score</th>\n",
              "      <th>rating</th>\n",
              "    </tr>\n",
              "  </thead>\n",
              "  <tbody>\n",
              "    <tr>\n",
              "      <th>0</th>\n",
              "      <td>Wii Sports</td>\n",
              "      <td>Wii</td>\n",
              "      <td>2006.0</td>\n",
              "      <td>Sports</td>\n",
              "      <td>41.36</td>\n",
              "      <td>28.96</td>\n",
              "      <td>3.77</td>\n",
              "      <td>8.45</td>\n",
              "      <td>76.0</td>\n",
              "      <td>8</td>\n",
              "      <td>E</td>\n",
              "    </tr>\n",
              "    <tr>\n",
              "      <th>1</th>\n",
              "      <td>Super Mario Bros.</td>\n",
              "      <td>NES</td>\n",
              "      <td>1985.0</td>\n",
              "      <td>Platform</td>\n",
              "      <td>29.08</td>\n",
              "      <td>3.58</td>\n",
              "      <td>6.81</td>\n",
              "      <td>0.77</td>\n",
              "      <td>NaN</td>\n",
              "      <td>NaN</td>\n",
              "      <td>NaN</td>\n",
              "    </tr>\n",
              "    <tr>\n",
              "      <th>2</th>\n",
              "      <td>Mario Kart Wii</td>\n",
              "      <td>Wii</td>\n",
              "      <td>2008.0</td>\n",
              "      <td>Racing</td>\n",
              "      <td>15.68</td>\n",
              "      <td>12.76</td>\n",
              "      <td>3.79</td>\n",
              "      <td>3.29</td>\n",
              "      <td>82.0</td>\n",
              "      <td>8.3</td>\n",
              "      <td>E</td>\n",
              "    </tr>\n",
              "    <tr>\n",
              "      <th>3</th>\n",
              "      <td>Wii Sports Resort</td>\n",
              "      <td>Wii</td>\n",
              "      <td>2009.0</td>\n",
              "      <td>Sports</td>\n",
              "      <td>15.61</td>\n",
              "      <td>10.93</td>\n",
              "      <td>3.28</td>\n",
              "      <td>2.95</td>\n",
              "      <td>80.0</td>\n",
              "      <td>8</td>\n",
              "      <td>E</td>\n",
              "    </tr>\n",
              "    <tr>\n",
              "      <th>4</th>\n",
              "      <td>Pokemon Red/Pokemon Blue</td>\n",
              "      <td>GB</td>\n",
              "      <td>1996.0</td>\n",
              "      <td>Role-Playing</td>\n",
              "      <td>11.27</td>\n",
              "      <td>8.89</td>\n",
              "      <td>10.22</td>\n",
              "      <td>1.00</td>\n",
              "      <td>NaN</td>\n",
              "      <td>NaN</td>\n",
              "      <td>NaN</td>\n",
              "    </tr>\n",
              "    <tr>\n",
              "      <th>...</th>\n",
              "      <td>...</td>\n",
              "      <td>...</td>\n",
              "      <td>...</td>\n",
              "      <td>...</td>\n",
              "      <td>...</td>\n",
              "      <td>...</td>\n",
              "      <td>...</td>\n",
              "      <td>...</td>\n",
              "      <td>...</td>\n",
              "      <td>...</td>\n",
              "      <td>...</td>\n",
              "    </tr>\n",
              "    <tr>\n",
              "      <th>16710</th>\n",
              "      <td>Samurai Warriors: Sanada Maru</td>\n",
              "      <td>PS3</td>\n",
              "      <td>2016.0</td>\n",
              "      <td>Action</td>\n",
              "      <td>0.00</td>\n",
              "      <td>0.00</td>\n",
              "      <td>0.01</td>\n",
              "      <td>0.00</td>\n",
              "      <td>NaN</td>\n",
              "      <td>NaN</td>\n",
              "      <td>NaN</td>\n",
              "    </tr>\n",
              "    <tr>\n",
              "      <th>16711</th>\n",
              "      <td>LMA Manager 2007</td>\n",
              "      <td>X360</td>\n",
              "      <td>2006.0</td>\n",
              "      <td>Sports</td>\n",
              "      <td>0.00</td>\n",
              "      <td>0.01</td>\n",
              "      <td>0.00</td>\n",
              "      <td>0.00</td>\n",
              "      <td>NaN</td>\n",
              "      <td>NaN</td>\n",
              "      <td>NaN</td>\n",
              "    </tr>\n",
              "    <tr>\n",
              "      <th>16712</th>\n",
              "      <td>Haitaka no Psychedelica</td>\n",
              "      <td>PSV</td>\n",
              "      <td>2016.0</td>\n",
              "      <td>Adventure</td>\n",
              "      <td>0.00</td>\n",
              "      <td>0.00</td>\n",
              "      <td>0.01</td>\n",
              "      <td>0.00</td>\n",
              "      <td>NaN</td>\n",
              "      <td>NaN</td>\n",
              "      <td>NaN</td>\n",
              "    </tr>\n",
              "    <tr>\n",
              "      <th>16713</th>\n",
              "      <td>Spirits &amp; Spells</td>\n",
              "      <td>GBA</td>\n",
              "      <td>2003.0</td>\n",
              "      <td>Platform</td>\n",
              "      <td>0.01</td>\n",
              "      <td>0.00</td>\n",
              "      <td>0.00</td>\n",
              "      <td>0.00</td>\n",
              "      <td>NaN</td>\n",
              "      <td>NaN</td>\n",
              "      <td>NaN</td>\n",
              "    </tr>\n",
              "    <tr>\n",
              "      <th>16714</th>\n",
              "      <td>Winning Post 8 2016</td>\n",
              "      <td>PSV</td>\n",
              "      <td>2016.0</td>\n",
              "      <td>Simulation</td>\n",
              "      <td>0.00</td>\n",
              "      <td>0.00</td>\n",
              "      <td>0.01</td>\n",
              "      <td>0.00</td>\n",
              "      <td>NaN</td>\n",
              "      <td>NaN</td>\n",
              "      <td>NaN</td>\n",
              "    </tr>\n",
              "  </tbody>\n",
              "</table>\n",
              "<p>16715 rows × 11 columns</p>\n",
              "</div>"
            ],
            "text/plain": [
              "                                name platform  year_of_release         genre  \\\n",
              "0                         Wii Sports      Wii           2006.0        Sports   \n",
              "1                  Super Mario Bros.      NES           1985.0      Platform   \n",
              "2                     Mario Kart Wii      Wii           2008.0        Racing   \n",
              "3                  Wii Sports Resort      Wii           2009.0        Sports   \n",
              "4           Pokemon Red/Pokemon Blue       GB           1996.0  Role-Playing   \n",
              "...                              ...      ...              ...           ...   \n",
              "16710  Samurai Warriors: Sanada Maru      PS3           2016.0        Action   \n",
              "16711               LMA Manager 2007     X360           2006.0        Sports   \n",
              "16712        Haitaka no Psychedelica      PSV           2016.0     Adventure   \n",
              "16713               Spirits & Spells      GBA           2003.0      Platform   \n",
              "16714            Winning Post 8 2016      PSV           2016.0    Simulation   \n",
              "\n",
              "       na_sales  eu_sales  jp_sales  other_sales  critic_score user_score  \\\n",
              "0         41.36     28.96      3.77         8.45          76.0          8   \n",
              "1         29.08      3.58      6.81         0.77           NaN        NaN   \n",
              "2         15.68     12.76      3.79         3.29          82.0        8.3   \n",
              "3         15.61     10.93      3.28         2.95          80.0          8   \n",
              "4         11.27      8.89     10.22         1.00           NaN        NaN   \n",
              "...         ...       ...       ...          ...           ...        ...   \n",
              "16710      0.00      0.00      0.01         0.00           NaN        NaN   \n",
              "16711      0.00      0.01      0.00         0.00           NaN        NaN   \n",
              "16712      0.00      0.00      0.01         0.00           NaN        NaN   \n",
              "16713      0.01      0.00      0.00         0.00           NaN        NaN   \n",
              "16714      0.00      0.00      0.01         0.00           NaN        NaN   \n",
              "\n",
              "      rating  \n",
              "0          E  \n",
              "1        NaN  \n",
              "2          E  \n",
              "3          E  \n",
              "4        NaN  \n",
              "...      ...  \n",
              "16710    NaN  \n",
              "16711    NaN  \n",
              "16712    NaN  \n",
              "16713    NaN  \n",
              "16714    NaN  \n",
              "\n",
              "[16715 rows x 11 columns]"
            ]
          },
          "execution_count": 7,
          "metadata": {},
          "output_type": "execute_result"
        }
      ],
      "source": [
        "df.columns = df.columns.str.lower() \n",
        "df.columns = df.columns.str.strip() \n",
        "df"
      ]
    },
    {
      "cell_type": "markdown",
      "metadata": {
        "id": "PHu-WTB0UdGT"
      },
      "source": [
        "# В данных типа object буквы сделаю все строчными\n"
      ]
    },
    {
      "cell_type": "code",
      "execution_count": null,
      "metadata": {
        "colab": {
          "base_uri": "https://localhost:8080/",
          "height": 424
        },
        "id": "PQP3OcUvUdGT",
        "outputId": "f57656bd-d5ec-4223-cb7a-78bd4cf85163"
      },
      "outputs": [
        {
          "data": {
            "text/html": [
              "<div>\n",
              "<style scoped>\n",
              "    .dataframe tbody tr th:only-of-type {\n",
              "        vertical-align: middle;\n",
              "    }\n",
              "\n",
              "    .dataframe tbody tr th {\n",
              "        vertical-align: top;\n",
              "    }\n",
              "\n",
              "    .dataframe thead th {\n",
              "        text-align: right;\n",
              "    }\n",
              "</style>\n",
              "<table border=\"1\" class=\"dataframe\">\n",
              "  <thead>\n",
              "    <tr style=\"text-align: right;\">\n",
              "      <th></th>\n",
              "      <th>name</th>\n",
              "      <th>platform</th>\n",
              "      <th>year_of_release</th>\n",
              "      <th>genre</th>\n",
              "      <th>na_sales</th>\n",
              "      <th>eu_sales</th>\n",
              "      <th>jp_sales</th>\n",
              "      <th>other_sales</th>\n",
              "      <th>critic_score</th>\n",
              "      <th>user_score</th>\n",
              "      <th>rating</th>\n",
              "    </tr>\n",
              "  </thead>\n",
              "  <tbody>\n",
              "    <tr>\n",
              "      <th>0</th>\n",
              "      <td>wii sports</td>\n",
              "      <td>wii</td>\n",
              "      <td>2006.0</td>\n",
              "      <td>sports</td>\n",
              "      <td>41.36</td>\n",
              "      <td>28.96</td>\n",
              "      <td>3.77</td>\n",
              "      <td>8.45</td>\n",
              "      <td>76.0</td>\n",
              "      <td>8</td>\n",
              "      <td>E</td>\n",
              "    </tr>\n",
              "    <tr>\n",
              "      <th>1</th>\n",
              "      <td>super mario bros.</td>\n",
              "      <td>nes</td>\n",
              "      <td>1985.0</td>\n",
              "      <td>platform</td>\n",
              "      <td>29.08</td>\n",
              "      <td>3.58</td>\n",
              "      <td>6.81</td>\n",
              "      <td>0.77</td>\n",
              "      <td>NaN</td>\n",
              "      <td>NaN</td>\n",
              "      <td>NaN</td>\n",
              "    </tr>\n",
              "    <tr>\n",
              "      <th>2</th>\n",
              "      <td>mario kart wii</td>\n",
              "      <td>wii</td>\n",
              "      <td>2008.0</td>\n",
              "      <td>racing</td>\n",
              "      <td>15.68</td>\n",
              "      <td>12.76</td>\n",
              "      <td>3.79</td>\n",
              "      <td>3.29</td>\n",
              "      <td>82.0</td>\n",
              "      <td>8.3</td>\n",
              "      <td>E</td>\n",
              "    </tr>\n",
              "    <tr>\n",
              "      <th>3</th>\n",
              "      <td>wii sports resort</td>\n",
              "      <td>wii</td>\n",
              "      <td>2009.0</td>\n",
              "      <td>sports</td>\n",
              "      <td>15.61</td>\n",
              "      <td>10.93</td>\n",
              "      <td>3.28</td>\n",
              "      <td>2.95</td>\n",
              "      <td>80.0</td>\n",
              "      <td>8</td>\n",
              "      <td>E</td>\n",
              "    </tr>\n",
              "    <tr>\n",
              "      <th>4</th>\n",
              "      <td>pokemon red/pokemon blue</td>\n",
              "      <td>gb</td>\n",
              "      <td>1996.0</td>\n",
              "      <td>role-playing</td>\n",
              "      <td>11.27</td>\n",
              "      <td>8.89</td>\n",
              "      <td>10.22</td>\n",
              "      <td>1.00</td>\n",
              "      <td>NaN</td>\n",
              "      <td>NaN</td>\n",
              "      <td>NaN</td>\n",
              "    </tr>\n",
              "    <tr>\n",
              "      <th>...</th>\n",
              "      <td>...</td>\n",
              "      <td>...</td>\n",
              "      <td>...</td>\n",
              "      <td>...</td>\n",
              "      <td>...</td>\n",
              "      <td>...</td>\n",
              "      <td>...</td>\n",
              "      <td>...</td>\n",
              "      <td>...</td>\n",
              "      <td>...</td>\n",
              "      <td>...</td>\n",
              "    </tr>\n",
              "    <tr>\n",
              "      <th>16710</th>\n",
              "      <td>samurai warriors: sanada maru</td>\n",
              "      <td>ps3</td>\n",
              "      <td>2016.0</td>\n",
              "      <td>action</td>\n",
              "      <td>0.00</td>\n",
              "      <td>0.00</td>\n",
              "      <td>0.01</td>\n",
              "      <td>0.00</td>\n",
              "      <td>NaN</td>\n",
              "      <td>NaN</td>\n",
              "      <td>NaN</td>\n",
              "    </tr>\n",
              "    <tr>\n",
              "      <th>16711</th>\n",
              "      <td>lma manager 2007</td>\n",
              "      <td>x360</td>\n",
              "      <td>2006.0</td>\n",
              "      <td>sports</td>\n",
              "      <td>0.00</td>\n",
              "      <td>0.01</td>\n",
              "      <td>0.00</td>\n",
              "      <td>0.00</td>\n",
              "      <td>NaN</td>\n",
              "      <td>NaN</td>\n",
              "      <td>NaN</td>\n",
              "    </tr>\n",
              "    <tr>\n",
              "      <th>16712</th>\n",
              "      <td>haitaka no psychedelica</td>\n",
              "      <td>psv</td>\n",
              "      <td>2016.0</td>\n",
              "      <td>adventure</td>\n",
              "      <td>0.00</td>\n",
              "      <td>0.00</td>\n",
              "      <td>0.01</td>\n",
              "      <td>0.00</td>\n",
              "      <td>NaN</td>\n",
              "      <td>NaN</td>\n",
              "      <td>NaN</td>\n",
              "    </tr>\n",
              "    <tr>\n",
              "      <th>16713</th>\n",
              "      <td>spirits &amp; spells</td>\n",
              "      <td>gba</td>\n",
              "      <td>2003.0</td>\n",
              "      <td>platform</td>\n",
              "      <td>0.01</td>\n",
              "      <td>0.00</td>\n",
              "      <td>0.00</td>\n",
              "      <td>0.00</td>\n",
              "      <td>NaN</td>\n",
              "      <td>NaN</td>\n",
              "      <td>NaN</td>\n",
              "    </tr>\n",
              "    <tr>\n",
              "      <th>16714</th>\n",
              "      <td>winning post 8 2016</td>\n",
              "      <td>psv</td>\n",
              "      <td>2016.0</td>\n",
              "      <td>simulation</td>\n",
              "      <td>0.00</td>\n",
              "      <td>0.00</td>\n",
              "      <td>0.01</td>\n",
              "      <td>0.00</td>\n",
              "      <td>NaN</td>\n",
              "      <td>NaN</td>\n",
              "      <td>NaN</td>\n",
              "    </tr>\n",
              "  </tbody>\n",
              "</table>\n",
              "<p>16715 rows × 11 columns</p>\n",
              "</div>"
            ],
            "text/plain": [
              "                                name platform  year_of_release         genre  \\\n",
              "0                         wii sports      wii           2006.0        sports   \n",
              "1                  super mario bros.      nes           1985.0      platform   \n",
              "2                     mario kart wii      wii           2008.0        racing   \n",
              "3                  wii sports resort      wii           2009.0        sports   \n",
              "4           pokemon red/pokemon blue       gb           1996.0  role-playing   \n",
              "...                              ...      ...              ...           ...   \n",
              "16710  samurai warriors: sanada maru      ps3           2016.0        action   \n",
              "16711               lma manager 2007     x360           2006.0        sports   \n",
              "16712        haitaka no psychedelica      psv           2016.0     adventure   \n",
              "16713               spirits & spells      gba           2003.0      platform   \n",
              "16714            winning post 8 2016      psv           2016.0    simulation   \n",
              "\n",
              "       na_sales  eu_sales  jp_sales  other_sales  critic_score user_score  \\\n",
              "0         41.36     28.96      3.77         8.45          76.0          8   \n",
              "1         29.08      3.58      6.81         0.77           NaN        NaN   \n",
              "2         15.68     12.76      3.79         3.29          82.0        8.3   \n",
              "3         15.61     10.93      3.28         2.95          80.0          8   \n",
              "4         11.27      8.89     10.22         1.00           NaN        NaN   \n",
              "...         ...       ...       ...          ...           ...        ...   \n",
              "16710      0.00      0.00      0.01         0.00           NaN        NaN   \n",
              "16711      0.00      0.01      0.00         0.00           NaN        NaN   \n",
              "16712      0.00      0.00      0.01         0.00           NaN        NaN   \n",
              "16713      0.01      0.00      0.00         0.00           NaN        NaN   \n",
              "16714      0.00      0.00      0.01         0.00           NaN        NaN   \n",
              "\n",
              "      rating  \n",
              "0          E  \n",
              "1        NaN  \n",
              "2          E  \n",
              "3          E  \n",
              "4        NaN  \n",
              "...      ...  \n",
              "16710    NaN  \n",
              "16711    NaN  \n",
              "16712    NaN  \n",
              "16713    NaN  \n",
              "16714    NaN  \n",
              "\n",
              "[16715 rows x 11 columns]"
            ]
          },
          "execution_count": 8,
          "metadata": {},
          "output_type": "execute_result"
        }
      ],
      "source": [
        "for i in df.columns:\n",
        "    if i in ['name','platform','genre']:\n",
        "        df[i] = df[i].str.lower() \n",
        "df"
      ]
    },
    {
      "cell_type": "markdown",
      "metadata": {
        "id": "3z1B6GZoUdGT"
      },
      "source": [
        "# Работа со пропусками "
      ]
    },
    {
      "cell_type": "code",
      "execution_count": null,
      "metadata": {
        "id": "-Y-D8jo2UdGT"
      },
      "outputs": [],
      "source": [
        "for i in df.columns:\n",
        "    if i in ['year_of_release']:\n",
        "        df[i] = df[i].fillna('') \n",
        "    elif i in ['rating', 'name', 'genre']: \n",
        "        df[i] = df[i].fillna('unknown')"
      ]
    },
    {
      "cell_type": "markdown",
      "metadata": {
        "id": "871fd744"
      },
      "source": [
        "<div class=\"alert alert-block alert-success\">\n",
        "<b>✅Комментарий ревьюера:</b>Молодец, что используешь циклы! </div>"
      ]
    },
    {
      "cell_type": "code",
      "execution_count": null,
      "metadata": {
        "colab": {
          "base_uri": "https://localhost:8080/"
        },
        "id": "7SvRXhC7UdGT",
        "outputId": "6b3f8d80-fd3d-4aef-cf62-70e1eefcd7ed"
      },
      "outputs": [
        {
          "data": {
            "text/plain": [
              "name                  0\n",
              "platform              0\n",
              "year_of_release       0\n",
              "genre                 0\n",
              "na_sales              0\n",
              "eu_sales              0\n",
              "jp_sales              0\n",
              "other_sales           0\n",
              "critic_score       8578\n",
              "user_score         6701\n",
              "rating                0\n",
              "dtype: int64"
            ]
          },
          "execution_count": 10,
          "metadata": {},
          "output_type": "execute_result"
        }
      ],
      "source": [
        "df.isna().sum()  "
      ]
    },
    {
      "cell_type": "code",
      "execution_count": null,
      "metadata": {
        "colab": {
          "base_uri": "https://localhost:8080/",
          "height": 424
        },
        "id": "tQzlvSnyUdGU",
        "outputId": "9dc8d559-bc41-49f8-d34b-23a7312f789e"
      },
      "outputs": [
        {
          "data": {
            "text/html": [
              "<div>\n",
              "<style scoped>\n",
              "    .dataframe tbody tr th:only-of-type {\n",
              "        vertical-align: middle;\n",
              "    }\n",
              "\n",
              "    .dataframe tbody tr th {\n",
              "        vertical-align: top;\n",
              "    }\n",
              "\n",
              "    .dataframe thead th {\n",
              "        text-align: right;\n",
              "    }\n",
              "</style>\n",
              "<table border=\"1\" class=\"dataframe\">\n",
              "  <thead>\n",
              "    <tr style=\"text-align: right;\">\n",
              "      <th></th>\n",
              "      <th>name</th>\n",
              "      <th>platform</th>\n",
              "      <th>year_of_release</th>\n",
              "      <th>genre</th>\n",
              "      <th>na_sales</th>\n",
              "      <th>eu_sales</th>\n",
              "      <th>jp_sales</th>\n",
              "      <th>other_sales</th>\n",
              "      <th>critic_score</th>\n",
              "      <th>user_score</th>\n",
              "      <th>rating</th>\n",
              "    </tr>\n",
              "  </thead>\n",
              "  <tbody>\n",
              "    <tr>\n",
              "      <th>0</th>\n",
              "      <td>wii sports</td>\n",
              "      <td>wii</td>\n",
              "      <td>2006.0</td>\n",
              "      <td>sports</td>\n",
              "      <td>41.36</td>\n",
              "      <td>28.96</td>\n",
              "      <td>3.77</td>\n",
              "      <td>8.45</td>\n",
              "      <td>76.0</td>\n",
              "      <td>8</td>\n",
              "      <td>E</td>\n",
              "    </tr>\n",
              "    <tr>\n",
              "      <th>1</th>\n",
              "      <td>super mario bros.</td>\n",
              "      <td>nes</td>\n",
              "      <td>1985.0</td>\n",
              "      <td>platform</td>\n",
              "      <td>29.08</td>\n",
              "      <td>3.58</td>\n",
              "      <td>6.81</td>\n",
              "      <td>0.77</td>\n",
              "      <td>NaN</td>\n",
              "      <td>NaN</td>\n",
              "      <td>unknown</td>\n",
              "    </tr>\n",
              "    <tr>\n",
              "      <th>2</th>\n",
              "      <td>mario kart wii</td>\n",
              "      <td>wii</td>\n",
              "      <td>2008.0</td>\n",
              "      <td>racing</td>\n",
              "      <td>15.68</td>\n",
              "      <td>12.76</td>\n",
              "      <td>3.79</td>\n",
              "      <td>3.29</td>\n",
              "      <td>82.0</td>\n",
              "      <td>8.3</td>\n",
              "      <td>E</td>\n",
              "    </tr>\n",
              "    <tr>\n",
              "      <th>3</th>\n",
              "      <td>wii sports resort</td>\n",
              "      <td>wii</td>\n",
              "      <td>2009.0</td>\n",
              "      <td>sports</td>\n",
              "      <td>15.61</td>\n",
              "      <td>10.93</td>\n",
              "      <td>3.28</td>\n",
              "      <td>2.95</td>\n",
              "      <td>80.0</td>\n",
              "      <td>8</td>\n",
              "      <td>E</td>\n",
              "    </tr>\n",
              "    <tr>\n",
              "      <th>4</th>\n",
              "      <td>pokemon red/pokemon blue</td>\n",
              "      <td>gb</td>\n",
              "      <td>1996.0</td>\n",
              "      <td>role-playing</td>\n",
              "      <td>11.27</td>\n",
              "      <td>8.89</td>\n",
              "      <td>10.22</td>\n",
              "      <td>1.00</td>\n",
              "      <td>NaN</td>\n",
              "      <td>NaN</td>\n",
              "      <td>unknown</td>\n",
              "    </tr>\n",
              "    <tr>\n",
              "      <th>...</th>\n",
              "      <td>...</td>\n",
              "      <td>...</td>\n",
              "      <td>...</td>\n",
              "      <td>...</td>\n",
              "      <td>...</td>\n",
              "      <td>...</td>\n",
              "      <td>...</td>\n",
              "      <td>...</td>\n",
              "      <td>...</td>\n",
              "      <td>...</td>\n",
              "      <td>...</td>\n",
              "    </tr>\n",
              "    <tr>\n",
              "      <th>16710</th>\n",
              "      <td>samurai warriors: sanada maru</td>\n",
              "      <td>ps3</td>\n",
              "      <td>2016.0</td>\n",
              "      <td>action</td>\n",
              "      <td>0.00</td>\n",
              "      <td>0.00</td>\n",
              "      <td>0.01</td>\n",
              "      <td>0.00</td>\n",
              "      <td>NaN</td>\n",
              "      <td>NaN</td>\n",
              "      <td>unknown</td>\n",
              "    </tr>\n",
              "    <tr>\n",
              "      <th>16711</th>\n",
              "      <td>lma manager 2007</td>\n",
              "      <td>x360</td>\n",
              "      <td>2006.0</td>\n",
              "      <td>sports</td>\n",
              "      <td>0.00</td>\n",
              "      <td>0.01</td>\n",
              "      <td>0.00</td>\n",
              "      <td>0.00</td>\n",
              "      <td>NaN</td>\n",
              "      <td>NaN</td>\n",
              "      <td>unknown</td>\n",
              "    </tr>\n",
              "    <tr>\n",
              "      <th>16712</th>\n",
              "      <td>haitaka no psychedelica</td>\n",
              "      <td>psv</td>\n",
              "      <td>2016.0</td>\n",
              "      <td>adventure</td>\n",
              "      <td>0.00</td>\n",
              "      <td>0.00</td>\n",
              "      <td>0.01</td>\n",
              "      <td>0.00</td>\n",
              "      <td>NaN</td>\n",
              "      <td>NaN</td>\n",
              "      <td>unknown</td>\n",
              "    </tr>\n",
              "    <tr>\n",
              "      <th>16713</th>\n",
              "      <td>spirits &amp; spells</td>\n",
              "      <td>gba</td>\n",
              "      <td>2003.0</td>\n",
              "      <td>platform</td>\n",
              "      <td>0.01</td>\n",
              "      <td>0.00</td>\n",
              "      <td>0.00</td>\n",
              "      <td>0.00</td>\n",
              "      <td>NaN</td>\n",
              "      <td>NaN</td>\n",
              "      <td>unknown</td>\n",
              "    </tr>\n",
              "    <tr>\n",
              "      <th>16714</th>\n",
              "      <td>winning post 8 2016</td>\n",
              "      <td>psv</td>\n",
              "      <td>2016.0</td>\n",
              "      <td>simulation</td>\n",
              "      <td>0.00</td>\n",
              "      <td>0.00</td>\n",
              "      <td>0.01</td>\n",
              "      <td>0.00</td>\n",
              "      <td>NaN</td>\n",
              "      <td>NaN</td>\n",
              "      <td>unknown</td>\n",
              "    </tr>\n",
              "  </tbody>\n",
              "</table>\n",
              "<p>16715 rows × 11 columns</p>\n",
              "</div>"
            ],
            "text/plain": [
              "                                name platform year_of_release         genre  \\\n",
              "0                         wii sports      wii          2006.0        sports   \n",
              "1                  super mario bros.      nes          1985.0      platform   \n",
              "2                     mario kart wii      wii          2008.0        racing   \n",
              "3                  wii sports resort      wii          2009.0        sports   \n",
              "4           pokemon red/pokemon blue       gb          1996.0  role-playing   \n",
              "...                              ...      ...             ...           ...   \n",
              "16710  samurai warriors: sanada maru      ps3          2016.0        action   \n",
              "16711               lma manager 2007     x360          2006.0        sports   \n",
              "16712        haitaka no psychedelica      psv          2016.0     adventure   \n",
              "16713               spirits & spells      gba          2003.0      platform   \n",
              "16714            winning post 8 2016      psv          2016.0    simulation   \n",
              "\n",
              "       na_sales  eu_sales  jp_sales  other_sales  critic_score user_score  \\\n",
              "0         41.36     28.96      3.77         8.45          76.0          8   \n",
              "1         29.08      3.58      6.81         0.77           NaN        NaN   \n",
              "2         15.68     12.76      3.79         3.29          82.0        8.3   \n",
              "3         15.61     10.93      3.28         2.95          80.0          8   \n",
              "4         11.27      8.89     10.22         1.00           NaN        NaN   \n",
              "...         ...       ...       ...          ...           ...        ...   \n",
              "16710      0.00      0.00      0.01         0.00           NaN        NaN   \n",
              "16711      0.00      0.01      0.00         0.00           NaN        NaN   \n",
              "16712      0.00      0.00      0.01         0.00           NaN        NaN   \n",
              "16713      0.01      0.00      0.00         0.00           NaN        NaN   \n",
              "16714      0.00      0.00      0.01         0.00           NaN        NaN   \n",
              "\n",
              "        rating  \n",
              "0            E  \n",
              "1      unknown  \n",
              "2            E  \n",
              "3            E  \n",
              "4      unknown  \n",
              "...        ...  \n",
              "16710  unknown  \n",
              "16711  unknown  \n",
              "16712  unknown  \n",
              "16713  unknown  \n",
              "16714  unknown  \n",
              "\n",
              "[16715 rows x 11 columns]"
            ]
          },
          "execution_count": 11,
          "metadata": {},
          "output_type": "execute_result"
        }
      ],
      "source": [
        "df"
      ]
    },
    {
      "cell_type": "markdown",
      "metadata": {
        "id": "Q3RdCRK5UdGU"
      },
      "source": [
        "# Изменение типа данных"
      ]
    },
    {
      "cell_type": "code",
      "execution_count": null,
      "metadata": {
        "id": "VGAdG3FOUdGU"
      },
      "outputs": [],
      "source": [
        "df['na_sales'] = df['na_sales'] * 1000000\n",
        "df['eu_sales'] = df['eu_sales'] * 1000000\n",
        "df['jp_sales'] = df['jp_sales']* 1000000\n",
        "df['other_sales'] = df['other_sales']* 1000000"
      ]
    },
    {
      "cell_type": "code",
      "execution_count": null,
      "metadata": {
        "id": "qIN875rvUdGU"
      },
      "outputs": [],
      "source": [
        "for i in df.columns:\n",
        "    if i in [ 'na_sales','eu_sales','jp_sales', 'other_sales' ]:\n",
        "        df[i] = df[i].astype('int')"
      ]
    },
    {
      "cell_type": "code",
      "execution_count": null,
      "metadata": {
        "id": "quHCvITiYsub"
      },
      "outputs": [],
      "source": [
        "df['year_of_release'] = pd.to_numeric(df['year_of_release'], downcast='integer')"
      ]
    },
    {
      "cell_type": "markdown",
      "metadata": {
        "id": "mCeFAkiFWB-a"
      },
      "source": [
        "tbd - пропущенные данные, их можно заменить на NaN"
      ]
    },
    {
      "cell_type": "code",
      "execution_count": null,
      "metadata": {
        "id": "BfM-a-C2WVfL"
      },
      "outputs": [],
      "source": [
        "df['user_score'] = df['user_score'].replace(to_replace='tbd',\n",
        "                                                value=np.NaN)"
      ]
    },
    {
      "cell_type": "code",
      "execution_count": null,
      "metadata": {
        "id": "6yPJSHxDUdGU"
      },
      "outputs": [],
      "source": [
        "df['user_score'] = pd.to_numeric(df['user_score'], errors='coerce')"
      ]
    },
    {
      "cell_type": "code",
      "execution_count": null,
      "metadata": {
        "colab": {
          "base_uri": "https://localhost:8080/"
        },
        "id": "saP74gtiXO1r",
        "outputId": "c56a09d6-4e17-4f1c-c672-61e2d2ac0b34"
      },
      "outputs": [
        {
          "data": {
            "text/plain": [
              "array([8. , nan, 8.3, 8.5, 6.6, 8.4, 8.6, 7.7, 6.3, 7.4, 8.2, 9. , 7.9,\n",
              "       8.1, 8.7, 7.1, 3.4, 5.3, 4.8, 3.2, 8.9, 6.4, 7.8, 7.5, 2.6, 7.2,\n",
              "       9.2, 7. , 7.3, 4.3, 7.6, 5.7, 5. , 9.1, 6.5, 8.8, 6.9, 9.4, 6.8,\n",
              "       6.1, 6.7, 5.4, 4. , 4.9, 4.5, 9.3, 6.2, 4.2, 6. , 3.7, 4.1, 5.8,\n",
              "       5.6, 5.5, 4.4, 4.6, 5.9, 3.9, 3.1, 2.9, 5.2, 3.3, 4.7, 5.1, 3.5,\n",
              "       2.5, 1.9, 3. , 2.7, 2.2, 2. , 9.5, 2.1, 3.6, 2.8, 1.8, 3.8, 0. ,\n",
              "       1.6, 9.6, 2.4, 1.7, 1.1, 0.3, 1.5, 0.7, 1.2, 2.3, 0.5, 1.3, 0.2,\n",
              "       0.6, 1.4, 0.9, 1. , 9.7])"
            ]
          },
          "execution_count": 17,
          "metadata": {},
          "output_type": "execute_result"
        }
      ],
      "source": [
        "df['user_score'].unique()"
      ]
    },
    {
      "cell_type": "code",
      "execution_count": null,
      "metadata": {
        "colab": {
          "base_uri": "https://localhost:8080/"
        },
        "id": "XB1W7Q32UdGV",
        "outputId": "dc01c328-aff0-456b-a5a7-4d271bb48103"
      },
      "outputs": [
        {
          "name": "stdout",
          "output_type": "stream",
          "text": [
            "<class 'pandas.core.frame.DataFrame'>\n",
            "RangeIndex: 16715 entries, 0 to 16714\n",
            "Data columns (total 11 columns):\n",
            " #   Column           Non-Null Count  Dtype  \n",
            "---  ------           --------------  -----  \n",
            " 0   name             16715 non-null  object \n",
            " 1   platform         16715 non-null  object \n",
            " 2   year_of_release  16446 non-null  float64\n",
            " 3   genre            16715 non-null  object \n",
            " 4   na_sales         16715 non-null  int64  \n",
            " 5   eu_sales         16715 non-null  int64  \n",
            " 6   jp_sales         16715 non-null  int64  \n",
            " 7   other_sales      16715 non-null  int64  \n",
            " 8   critic_score     8137 non-null   float64\n",
            " 9   user_score       7590 non-null   float64\n",
            " 10  rating           16715 non-null  object \n",
            "dtypes: float64(3), int64(4), object(4)\n",
            "memory usage: 1.4+ MB\n"
          ]
        }
      ],
      "source": [
        "df.info()"
      ]
    },
    {
      "cell_type": "code",
      "execution_count": null,
      "metadata": {
        "colab": {
          "base_uri": "https://localhost:8080/"
        },
        "id": "DymKc68bUdGV",
        "outputId": "53fda452-7d8b-49b1-8bfa-847f3ca2e713"
      },
      "outputs": [
        {
          "data": {
            "text/plain": [
              "0"
            ]
          },
          "execution_count": 19,
          "metadata": {},
          "output_type": "execute_result"
        }
      ],
      "source": [
        "df.duplicated().sum()"
      ]
    },
    {
      "cell_type": "markdown",
      "metadata": {
        "id": "Lo_zZoazXQmA"
      },
      "source": [
        "1. Сделала названия столбов строчными буквами \n",
        "2. В данных типа object буквы  Сделала все строчными \n",
        "3. Пропуски в столбе name заменила на пустую unknown\n",
        "4. Пропуски в столбе year_of_release заменила на пустоту\n",
        "5. Пропуски в столбе critic_score заменила на 0\n",
        "6. Пропуски в столбе user_score заменила на 0\n",
        "7. Пропуски в столбе rating заменила на unknown\n",
        "8. Пропуски в столбе genre заменила на unknown\n",
        "10. В столбы na_sales, eu_sales, jp_sales, other_sales перевела в миллионы и поменяла данные\n",
        "13. Удалю дубликаты "
      ]
    },
    {
      "cell_type": "markdown",
      "metadata": {
        "id": "ydMrjKIAUdGV"
      },
      "source": [
        "# Создам новый столбец с продажами"
      ]
    },
    {
      "cell_type": "code",
      "execution_count": null,
      "metadata": {
        "colab": {
          "base_uri": "https://localhost:8080/",
          "height": 424
        },
        "id": "i4dkufiLUdGV",
        "outputId": "71fe6e2f-85a9-4e62-f66f-99e3e706a048"
      },
      "outputs": [
        {
          "data": {
            "text/html": [
              "<div>\n",
              "<style scoped>\n",
              "    .dataframe tbody tr th:only-of-type {\n",
              "        vertical-align: middle;\n",
              "    }\n",
              "\n",
              "    .dataframe tbody tr th {\n",
              "        vertical-align: top;\n",
              "    }\n",
              "\n",
              "    .dataframe thead th {\n",
              "        text-align: right;\n",
              "    }\n",
              "</style>\n",
              "<table border=\"1\" class=\"dataframe\">\n",
              "  <thead>\n",
              "    <tr style=\"text-align: right;\">\n",
              "      <th></th>\n",
              "      <th>name</th>\n",
              "      <th>platform</th>\n",
              "      <th>year_of_release</th>\n",
              "      <th>genre</th>\n",
              "      <th>na_sales</th>\n",
              "      <th>eu_sales</th>\n",
              "      <th>jp_sales</th>\n",
              "      <th>other_sales</th>\n",
              "      <th>critic_score</th>\n",
              "      <th>user_score</th>\n",
              "      <th>rating</th>\n",
              "      <th>all_sales</th>\n",
              "    </tr>\n",
              "  </thead>\n",
              "  <tbody>\n",
              "    <tr>\n",
              "      <th>0</th>\n",
              "      <td>wii sports</td>\n",
              "      <td>wii</td>\n",
              "      <td>2006.0</td>\n",
              "      <td>sports</td>\n",
              "      <td>41360000</td>\n",
              "      <td>28960000</td>\n",
              "      <td>3770000</td>\n",
              "      <td>8450000</td>\n",
              "      <td>76.0</td>\n",
              "      <td>8.0</td>\n",
              "      <td>E</td>\n",
              "      <td>82540000</td>\n",
              "    </tr>\n",
              "    <tr>\n",
              "      <th>1</th>\n",
              "      <td>super mario bros.</td>\n",
              "      <td>nes</td>\n",
              "      <td>1985.0</td>\n",
              "      <td>platform</td>\n",
              "      <td>29080000</td>\n",
              "      <td>3580000</td>\n",
              "      <td>6810000</td>\n",
              "      <td>770000</td>\n",
              "      <td>NaN</td>\n",
              "      <td>NaN</td>\n",
              "      <td>unknown</td>\n",
              "      <td>40240000</td>\n",
              "    </tr>\n",
              "    <tr>\n",
              "      <th>2</th>\n",
              "      <td>mario kart wii</td>\n",
              "      <td>wii</td>\n",
              "      <td>2008.0</td>\n",
              "      <td>racing</td>\n",
              "      <td>15680000</td>\n",
              "      <td>12760000</td>\n",
              "      <td>3790000</td>\n",
              "      <td>3290000</td>\n",
              "      <td>82.0</td>\n",
              "      <td>8.3</td>\n",
              "      <td>E</td>\n",
              "      <td>35520000</td>\n",
              "    </tr>\n",
              "    <tr>\n",
              "      <th>3</th>\n",
              "      <td>wii sports resort</td>\n",
              "      <td>wii</td>\n",
              "      <td>2009.0</td>\n",
              "      <td>sports</td>\n",
              "      <td>15610000</td>\n",
              "      <td>10930000</td>\n",
              "      <td>3280000</td>\n",
              "      <td>2950000</td>\n",
              "      <td>80.0</td>\n",
              "      <td>8.0</td>\n",
              "      <td>E</td>\n",
              "      <td>32770000</td>\n",
              "    </tr>\n",
              "    <tr>\n",
              "      <th>4</th>\n",
              "      <td>pokemon red/pokemon blue</td>\n",
              "      <td>gb</td>\n",
              "      <td>1996.0</td>\n",
              "      <td>role-playing</td>\n",
              "      <td>11270000</td>\n",
              "      <td>8890000</td>\n",
              "      <td>10220000</td>\n",
              "      <td>1000000</td>\n",
              "      <td>NaN</td>\n",
              "      <td>NaN</td>\n",
              "      <td>unknown</td>\n",
              "      <td>31380000</td>\n",
              "    </tr>\n",
              "    <tr>\n",
              "      <th>...</th>\n",
              "      <td>...</td>\n",
              "      <td>...</td>\n",
              "      <td>...</td>\n",
              "      <td>...</td>\n",
              "      <td>...</td>\n",
              "      <td>...</td>\n",
              "      <td>...</td>\n",
              "      <td>...</td>\n",
              "      <td>...</td>\n",
              "      <td>...</td>\n",
              "      <td>...</td>\n",
              "      <td>...</td>\n",
              "    </tr>\n",
              "    <tr>\n",
              "      <th>16710</th>\n",
              "      <td>samurai warriors: sanada maru</td>\n",
              "      <td>ps3</td>\n",
              "      <td>2016.0</td>\n",
              "      <td>action</td>\n",
              "      <td>0</td>\n",
              "      <td>0</td>\n",
              "      <td>10000</td>\n",
              "      <td>0</td>\n",
              "      <td>NaN</td>\n",
              "      <td>NaN</td>\n",
              "      <td>unknown</td>\n",
              "      <td>10000</td>\n",
              "    </tr>\n",
              "    <tr>\n",
              "      <th>16711</th>\n",
              "      <td>lma manager 2007</td>\n",
              "      <td>x360</td>\n",
              "      <td>2006.0</td>\n",
              "      <td>sports</td>\n",
              "      <td>0</td>\n",
              "      <td>10000</td>\n",
              "      <td>0</td>\n",
              "      <td>0</td>\n",
              "      <td>NaN</td>\n",
              "      <td>NaN</td>\n",
              "      <td>unknown</td>\n",
              "      <td>10000</td>\n",
              "    </tr>\n",
              "    <tr>\n",
              "      <th>16712</th>\n",
              "      <td>haitaka no psychedelica</td>\n",
              "      <td>psv</td>\n",
              "      <td>2016.0</td>\n",
              "      <td>adventure</td>\n",
              "      <td>0</td>\n",
              "      <td>0</td>\n",
              "      <td>10000</td>\n",
              "      <td>0</td>\n",
              "      <td>NaN</td>\n",
              "      <td>NaN</td>\n",
              "      <td>unknown</td>\n",
              "      <td>10000</td>\n",
              "    </tr>\n",
              "    <tr>\n",
              "      <th>16713</th>\n",
              "      <td>spirits &amp; spells</td>\n",
              "      <td>gba</td>\n",
              "      <td>2003.0</td>\n",
              "      <td>platform</td>\n",
              "      <td>10000</td>\n",
              "      <td>0</td>\n",
              "      <td>0</td>\n",
              "      <td>0</td>\n",
              "      <td>NaN</td>\n",
              "      <td>NaN</td>\n",
              "      <td>unknown</td>\n",
              "      <td>10000</td>\n",
              "    </tr>\n",
              "    <tr>\n",
              "      <th>16714</th>\n",
              "      <td>winning post 8 2016</td>\n",
              "      <td>psv</td>\n",
              "      <td>2016.0</td>\n",
              "      <td>simulation</td>\n",
              "      <td>0</td>\n",
              "      <td>0</td>\n",
              "      <td>10000</td>\n",
              "      <td>0</td>\n",
              "      <td>NaN</td>\n",
              "      <td>NaN</td>\n",
              "      <td>unknown</td>\n",
              "      <td>10000</td>\n",
              "    </tr>\n",
              "  </tbody>\n",
              "</table>\n",
              "<p>16715 rows × 12 columns</p>\n",
              "</div>"
            ],
            "text/plain": [
              "                                name platform  year_of_release         genre  \\\n",
              "0                         wii sports      wii           2006.0        sports   \n",
              "1                  super mario bros.      nes           1985.0      platform   \n",
              "2                     mario kart wii      wii           2008.0        racing   \n",
              "3                  wii sports resort      wii           2009.0        sports   \n",
              "4           pokemon red/pokemon blue       gb           1996.0  role-playing   \n",
              "...                              ...      ...              ...           ...   \n",
              "16710  samurai warriors: sanada maru      ps3           2016.0        action   \n",
              "16711               lma manager 2007     x360           2006.0        sports   \n",
              "16712        haitaka no psychedelica      psv           2016.0     adventure   \n",
              "16713               spirits & spells      gba           2003.0      platform   \n",
              "16714            winning post 8 2016      psv           2016.0    simulation   \n",
              "\n",
              "       na_sales  eu_sales  jp_sales  other_sales  critic_score  user_score  \\\n",
              "0      41360000  28960000   3770000      8450000          76.0         8.0   \n",
              "1      29080000   3580000   6810000       770000           NaN         NaN   \n",
              "2      15680000  12760000   3790000      3290000          82.0         8.3   \n",
              "3      15610000  10930000   3280000      2950000          80.0         8.0   \n",
              "4      11270000   8890000  10220000      1000000           NaN         NaN   \n",
              "...         ...       ...       ...          ...           ...         ...   \n",
              "16710         0         0     10000            0           NaN         NaN   \n",
              "16711         0     10000         0            0           NaN         NaN   \n",
              "16712         0         0     10000            0           NaN         NaN   \n",
              "16713     10000         0         0            0           NaN         NaN   \n",
              "16714         0         0     10000            0           NaN         NaN   \n",
              "\n",
              "        rating  all_sales  \n",
              "0            E   82540000  \n",
              "1      unknown   40240000  \n",
              "2            E   35520000  \n",
              "3            E   32770000  \n",
              "4      unknown   31380000  \n",
              "...        ...        ...  \n",
              "16710  unknown      10000  \n",
              "16711  unknown      10000  \n",
              "16712  unknown      10000  \n",
              "16713  unknown      10000  \n",
              "16714  unknown      10000  \n",
              "\n",
              "[16715 rows x 12 columns]"
            ]
          },
          "execution_count": 20,
          "metadata": {},
          "output_type": "execute_result"
        }
      ],
      "source": [
        "df['all_sales'] =  df['na_sales'] + df['eu_sales'] + df['jp_sales'] + df['other_sales']\n",
        "df"
      ]
    },
    {
      "cell_type": "markdown",
      "metadata": {
        "id": "kaIT-lKtUdGW"
      },
      "source": [
        "# Исследовательский анализ данных"
      ]
    },
    {
      "cell_type": "markdown",
      "metadata": {
        "id": "YXV9yZViUdGW"
      },
      "source": [
        "# Cколько игр выпускалось в разные годы"
      ]
    },
    {
      "cell_type": "code",
      "execution_count": null,
      "metadata": {
        "colab": {
          "base_uri": "https://localhost:8080/",
          "height": 1000
        },
        "id": "TeLpNXiTUdGW",
        "outputId": "717a7a2e-68d5-441d-fcb1-1787a2a461c3"
      },
      "outputs": [
        {
          "data": {
            "text/html": [
              "<div>\n",
              "<style scoped>\n",
              "    .dataframe tbody tr th:only-of-type {\n",
              "        vertical-align: middle;\n",
              "    }\n",
              "\n",
              "    .dataframe tbody tr th {\n",
              "        vertical-align: top;\n",
              "    }\n",
              "\n",
              "    .dataframe thead th {\n",
              "        text-align: right;\n",
              "    }\n",
              "</style>\n",
              "<table border=\"1\" class=\"dataframe\">\n",
              "  <thead>\n",
              "    <tr style=\"text-align: right;\">\n",
              "      <th></th>\n",
              "      <th>name</th>\n",
              "    </tr>\n",
              "    <tr>\n",
              "      <th>year_of_release</th>\n",
              "      <th></th>\n",
              "    </tr>\n",
              "  </thead>\n",
              "  <tbody>\n",
              "    <tr>\n",
              "      <th>1980.0</th>\n",
              "      <td>9</td>\n",
              "    </tr>\n",
              "    <tr>\n",
              "      <th>1981.0</th>\n",
              "      <td>46</td>\n",
              "    </tr>\n",
              "    <tr>\n",
              "      <th>1982.0</th>\n",
              "      <td>36</td>\n",
              "    </tr>\n",
              "    <tr>\n",
              "      <th>1983.0</th>\n",
              "      <td>17</td>\n",
              "    </tr>\n",
              "    <tr>\n",
              "      <th>1984.0</th>\n",
              "      <td>14</td>\n",
              "    </tr>\n",
              "    <tr>\n",
              "      <th>1985.0</th>\n",
              "      <td>14</td>\n",
              "    </tr>\n",
              "    <tr>\n",
              "      <th>1986.0</th>\n",
              "      <td>21</td>\n",
              "    </tr>\n",
              "    <tr>\n",
              "      <th>1987.0</th>\n",
              "      <td>16</td>\n",
              "    </tr>\n",
              "    <tr>\n",
              "      <th>1988.0</th>\n",
              "      <td>15</td>\n",
              "    </tr>\n",
              "    <tr>\n",
              "      <th>1989.0</th>\n",
              "      <td>17</td>\n",
              "    </tr>\n",
              "    <tr>\n",
              "      <th>1990.0</th>\n",
              "      <td>16</td>\n",
              "    </tr>\n",
              "    <tr>\n",
              "      <th>1991.0</th>\n",
              "      <td>41</td>\n",
              "    </tr>\n",
              "    <tr>\n",
              "      <th>1992.0</th>\n",
              "      <td>43</td>\n",
              "    </tr>\n",
              "    <tr>\n",
              "      <th>1993.0</th>\n",
              "      <td>62</td>\n",
              "    </tr>\n",
              "    <tr>\n",
              "      <th>1994.0</th>\n",
              "      <td>121</td>\n",
              "    </tr>\n",
              "    <tr>\n",
              "      <th>1995.0</th>\n",
              "      <td>219</td>\n",
              "    </tr>\n",
              "    <tr>\n",
              "      <th>1996.0</th>\n",
              "      <td>263</td>\n",
              "    </tr>\n",
              "    <tr>\n",
              "      <th>1997.0</th>\n",
              "      <td>289</td>\n",
              "    </tr>\n",
              "    <tr>\n",
              "      <th>1998.0</th>\n",
              "      <td>379</td>\n",
              "    </tr>\n",
              "    <tr>\n",
              "      <th>1999.0</th>\n",
              "      <td>338</td>\n",
              "    </tr>\n",
              "    <tr>\n",
              "      <th>2000.0</th>\n",
              "      <td>350</td>\n",
              "    </tr>\n",
              "    <tr>\n",
              "      <th>2001.0</th>\n",
              "      <td>482</td>\n",
              "    </tr>\n",
              "    <tr>\n",
              "      <th>2002.0</th>\n",
              "      <td>829</td>\n",
              "    </tr>\n",
              "    <tr>\n",
              "      <th>2003.0</th>\n",
              "      <td>775</td>\n",
              "    </tr>\n",
              "    <tr>\n",
              "      <th>2004.0</th>\n",
              "      <td>762</td>\n",
              "    </tr>\n",
              "    <tr>\n",
              "      <th>2005.0</th>\n",
              "      <td>939</td>\n",
              "    </tr>\n",
              "    <tr>\n",
              "      <th>2006.0</th>\n",
              "      <td>1006</td>\n",
              "    </tr>\n",
              "    <tr>\n",
              "      <th>2007.0</th>\n",
              "      <td>1197</td>\n",
              "    </tr>\n",
              "    <tr>\n",
              "      <th>2008.0</th>\n",
              "      <td>1427</td>\n",
              "    </tr>\n",
              "    <tr>\n",
              "      <th>2009.0</th>\n",
              "      <td>1426</td>\n",
              "    </tr>\n",
              "    <tr>\n",
              "      <th>2010.0</th>\n",
              "      <td>1255</td>\n",
              "    </tr>\n",
              "    <tr>\n",
              "      <th>2011.0</th>\n",
              "      <td>1136</td>\n",
              "    </tr>\n",
              "    <tr>\n",
              "      <th>2012.0</th>\n",
              "      <td>653</td>\n",
              "    </tr>\n",
              "    <tr>\n",
              "      <th>2013.0</th>\n",
              "      <td>544</td>\n",
              "    </tr>\n",
              "    <tr>\n",
              "      <th>2014.0</th>\n",
              "      <td>581</td>\n",
              "    </tr>\n",
              "    <tr>\n",
              "      <th>2015.0</th>\n",
              "      <td>606</td>\n",
              "    </tr>\n",
              "    <tr>\n",
              "      <th>2016.0</th>\n",
              "      <td>502</td>\n",
              "    </tr>\n",
              "  </tbody>\n",
              "</table>\n",
              "</div>"
            ],
            "text/plain": [
              "                 name\n",
              "year_of_release      \n",
              "1980.0              9\n",
              "1981.0             46\n",
              "1982.0             36\n",
              "1983.0             17\n",
              "1984.0             14\n",
              "1985.0             14\n",
              "1986.0             21\n",
              "1987.0             16\n",
              "1988.0             15\n",
              "1989.0             17\n",
              "1990.0             16\n",
              "1991.0             41\n",
              "1992.0             43\n",
              "1993.0             62\n",
              "1994.0            121\n",
              "1995.0            219\n",
              "1996.0            263\n",
              "1997.0            289\n",
              "1998.0            379\n",
              "1999.0            338\n",
              "2000.0            350\n",
              "2001.0            482\n",
              "2002.0            829\n",
              "2003.0            775\n",
              "2004.0            762\n",
              "2005.0            939\n",
              "2006.0           1006\n",
              "2007.0           1197\n",
              "2008.0           1427\n",
              "2009.0           1426\n",
              "2010.0           1255\n",
              "2011.0           1136\n",
              "2012.0            653\n",
              "2013.0            544\n",
              "2014.0            581\n",
              "2015.0            606\n",
              "2016.0            502"
            ]
          },
          "execution_count": 21,
          "metadata": {},
          "output_type": "execute_result"
        }
      ],
      "source": [
        "# year_of_release— год выпуска, all_sales - все продажи \n",
        "year_sales = df.pivot_table( index='year_of_release', values='name', aggfunc='count')\n",
        "year_sales.sort_values('name')\n",
        "year_sales"
      ]
    },
    {
      "cell_type": "code",
      "execution_count": null,
      "metadata": {
        "colab": {
          "base_uri": "https://localhost:8080/",
          "height": 423
        },
        "id": "nWbVYIsAUdGW",
        "outputId": "65f8b9fa-b5c9-42b8-8ee1-2de8c9cf355b"
      },
      "outputs": [
        {
          "data": {
            "text/plain": [
              "Text(0, 0.5, 'Количество')"
            ]
          },
          "execution_count": 22,
          "metadata": {},
          "output_type": "execute_result"
        },
        {
          "data": {
            "image/png": "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\n",
            "text/plain": [
              "<Figure size 864x432 with 1 Axes>"
            ]
          },
          "metadata": {
            "needs_background": "light"
          },
          "output_type": "display_data"
        }
      ],
      "source": [
        "year_sales.plot(figsize=(12, 6), marker=\"o\")\n",
        "plt.title('Игры и года', fontsize=15)\n",
        "plt.xlabel('Год')\n",
        "plt.ylabel('Количество')"
      ]
    },
    {
      "cell_type": "markdown",
      "metadata": {
        "id": "Z05XTmwDUdGX"
      },
      "source": [
        "* C 1993 года начался рост покупок игр, однако более активный подъем начался уже после 2000, в 2007 был пик продаж, затем можно увидеть резкий спад. \n",
        "* Возьму данные после 2000 для дальнейшей обработки  "
      ]
    },
    {
      "cell_type": "code",
      "execution_count": null,
      "metadata": {
        "id": "1_3t-jEaUdGX"
      },
      "outputs": [],
      "source": [
        "df = df.query('year_of_release>2000').reset_index(drop=True)"
      ]
    },
    {
      "cell_type": "markdown",
      "metadata": {
        "id": "7572o0uGUdGX"
      },
      "source": [
        "# Как менялись продажи по платформам"
      ]
    },
    {
      "cell_type": "markdown",
      "metadata": {
        "id": "_mvktfaMUdGX"
      },
      "source": [
        "Таблица продаж и платформ "
      ]
    },
    {
      "cell_type": "code",
      "execution_count": null,
      "metadata": {
        "colab": {
          "base_uri": "https://localhost:8080/",
          "height": 1000
        },
        "id": "AqL1TTDoUdGX",
        "outputId": "12761038-258f-439a-eaaa-d15156a93598"
      },
      "outputs": [
        {
          "data": {
            "text/html": [
              "<div>\n",
              "<style scoped>\n",
              "    .dataframe tbody tr th:only-of-type {\n",
              "        vertical-align: middle;\n",
              "    }\n",
              "\n",
              "    .dataframe tbody tr th {\n",
              "        vertical-align: top;\n",
              "    }\n",
              "\n",
              "    .dataframe thead th {\n",
              "        text-align: right;\n",
              "    }\n",
              "</style>\n",
              "<table border=\"1\" class=\"dataframe\">\n",
              "  <thead>\n",
              "    <tr style=\"text-align: right;\">\n",
              "      <th></th>\n",
              "      <th></th>\n",
              "      <th>all_sales</th>\n",
              "    </tr>\n",
              "    <tr>\n",
              "      <th>platform</th>\n",
              "      <th>year_of_release</th>\n",
              "      <th></th>\n",
              "    </tr>\n",
              "  </thead>\n",
              "  <tbody>\n",
              "    <tr>\n",
              "      <th>ps2</th>\n",
              "      <th>2004.0</th>\n",
              "      <td>211809998</td>\n",
              "    </tr>\n",
              "    <tr>\n",
              "      <th>wii</th>\n",
              "      <th>2009.0</th>\n",
              "      <td>206969999</td>\n",
              "    </tr>\n",
              "    <tr>\n",
              "      <th rowspan=\"2\" valign=\"top\">ps2</th>\n",
              "      <th>2002.0</th>\n",
              "      <td>205380000</td>\n",
              "    </tr>\n",
              "    <tr>\n",
              "      <th>2003.0</th>\n",
              "      <td>184310000</td>\n",
              "    </tr>\n",
              "    <tr>\n",
              "      <th>wii</th>\n",
              "      <th>2008.0</th>\n",
              "      <td>171320000</td>\n",
              "    </tr>\n",
              "    <tr>\n",
              "      <th>x360</th>\n",
              "      <th>2010.0</th>\n",
              "      <td>170030000</td>\n",
              "    </tr>\n",
              "    <tr>\n",
              "      <th rowspan=\"2\" valign=\"top\">ps2</th>\n",
              "      <th>2001.0</th>\n",
              "      <td>166429996</td>\n",
              "    </tr>\n",
              "    <tr>\n",
              "      <th>2005.0</th>\n",
              "      <td>160659999</td>\n",
              "    </tr>\n",
              "    <tr>\n",
              "      <th>ps3</th>\n",
              "      <th>2011.0</th>\n",
              "      <td>156779999</td>\n",
              "    </tr>\n",
              "    <tr>\n",
              "      <th>wii</th>\n",
              "      <th>2007.0</th>\n",
              "      <td>152769999</td>\n",
              "    </tr>\n",
              "    <tr>\n",
              "      <th rowspan=\"2\" valign=\"top\">ds</th>\n",
              "      <th>2007.0</th>\n",
              "      <td>146940000</td>\n",
              "    </tr>\n",
              "    <tr>\n",
              "      <th>2008.0</th>\n",
              "      <td>145310000</td>\n",
              "    </tr>\n",
              "    <tr>\n",
              "      <th>x360</th>\n",
              "      <th>2011.0</th>\n",
              "      <td>143840000</td>\n",
              "    </tr>\n",
              "    <tr>\n",
              "      <th>ps3</th>\n",
              "      <th>2010.0</th>\n",
              "      <td>142170000</td>\n",
              "    </tr>\n",
              "    <tr>\n",
              "      <th>wii</th>\n",
              "      <th>2006.0</th>\n",
              "      <td>137150000</td>\n",
              "    </tr>\n",
              "    <tr>\n",
              "      <th>x360</th>\n",
              "      <th>2008.0</th>\n",
              "      <td>135260000</td>\n",
              "    </tr>\n",
              "    <tr>\n",
              "      <th>ps3</th>\n",
              "      <th>2009.0</th>\n",
              "      <td>130929998</td>\n",
              "    </tr>\n",
              "    <tr>\n",
              "      <th>ds</th>\n",
              "      <th>2005.0</th>\n",
              "      <td>130140000</td>\n",
              "    </tr>\n",
              "    <tr>\n",
              "      <th>wii</th>\n",
              "      <th>2010.0</th>\n",
              "      <td>127950000</td>\n",
              "    </tr>\n",
              "    <tr>\n",
              "      <th>x360</th>\n",
              "      <th>2009.0</th>\n",
              "      <td>120290000</td>\n",
              "    </tr>\n",
              "    <tr>\n",
              "      <th rowspan=\"2\" valign=\"top\">ds</th>\n",
              "      <th>2006.0</th>\n",
              "      <td>119810000</td>\n",
              "    </tr>\n",
              "    <tr>\n",
              "      <th>2009.0</th>\n",
              "      <td>119540000</td>\n",
              "    </tr>\n",
              "    <tr>\n",
              "      <th>ps4</th>\n",
              "      <th>2015.0</th>\n",
              "      <td>118899999</td>\n",
              "    </tr>\n",
              "    <tr>\n",
              "      <th rowspan=\"3\" valign=\"top\">ps3</th>\n",
              "      <th>2008.0</th>\n",
              "      <td>118520000</td>\n",
              "    </tr>\n",
              "    <tr>\n",
              "      <th>2013.0</th>\n",
              "      <td>113249999</td>\n",
              "    </tr>\n",
              "    <tr>\n",
              "      <th>2012.0</th>\n",
              "      <td>107360000</td>\n",
              "    </tr>\n",
              "    <tr>\n",
              "      <th>ps2</th>\n",
              "      <th>2006.0</th>\n",
              "      <td>103420000</td>\n",
              "    </tr>\n",
              "    <tr>\n",
              "      <th>ps4</th>\n",
              "      <th>2014.0</th>\n",
              "      <td>99999998</td>\n",
              "    </tr>\n",
              "    <tr>\n",
              "      <th rowspan=\"2\" valign=\"top\">x360</th>\n",
              "      <th>2012.0</th>\n",
              "      <td>99740000</td>\n",
              "    </tr>\n",
              "    <tr>\n",
              "      <th>2007.0</th>\n",
              "      <td>95409999</td>\n",
              "    </tr>\n",
              "  </tbody>\n",
              "</table>\n",
              "</div>"
            ],
            "text/plain": [
              "                          all_sales\n",
              "platform year_of_release           \n",
              "ps2      2004.0           211809998\n",
              "wii      2009.0           206969999\n",
              "ps2      2002.0           205380000\n",
              "         2003.0           184310000\n",
              "wii      2008.0           171320000\n",
              "x360     2010.0           170030000\n",
              "ps2      2001.0           166429996\n",
              "         2005.0           160659999\n",
              "ps3      2011.0           156779999\n",
              "wii      2007.0           152769999\n",
              "ds       2007.0           146940000\n",
              "         2008.0           145310000\n",
              "x360     2011.0           143840000\n",
              "ps3      2010.0           142170000\n",
              "wii      2006.0           137150000\n",
              "x360     2008.0           135260000\n",
              "ps3      2009.0           130929998\n",
              "ds       2005.0           130140000\n",
              "wii      2010.0           127950000\n",
              "x360     2009.0           120290000\n",
              "ds       2006.0           119810000\n",
              "         2009.0           119540000\n",
              "ps4      2015.0           118899999\n",
              "ps3      2008.0           118520000\n",
              "         2013.0           113249999\n",
              "         2012.0           107360000\n",
              "ps2      2006.0           103420000\n",
              "ps4      2014.0            99999998\n",
              "x360     2012.0            99740000\n",
              "         2007.0            95409999"
            ]
          },
          "execution_count": 24,
          "metadata": {},
          "output_type": "execute_result"
        }
      ],
      "source": [
        "platform_sales = df.pivot_table(index=('platform', 'year_of_release'), values='all_sales', aggfunc='sum').sort_values(by='all_sales',ascending=False)\n",
        "platform_sales.head(30)"
      ]
    },
    {
      "cell_type": "code",
      "execution_count": null,
      "metadata": {
        "colab": {
          "base_uri": "https://localhost:8080/",
          "height": 423
        },
        "id": "0aWd_EHYUdGX",
        "outputId": "eddb832f-abcf-4af0-8208-a38a1ad56ca4"
      },
      "outputs": [
        {
          "data": {
            "text/plain": [
              "Text(0.5, 0, 'Платформа')"
            ]
          },
          "execution_count": 25,
          "metadata": {},
          "output_type": "execute_result"
        },
        {
          "data": {
            "image/png": "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\n",
            "text/plain": [
              "<Figure size 864x432 with 1 Axes>"
            ]
          },
          "metadata": {
            "needs_background": "light"
          },
          "output_type": "display_data"
        }
      ],
      "source": [
        "sales_platform = df.pivot_table(index='platform', values='all_sales', aggfunc='sum')\\\n",
        ".sort_values(by='all_sales', ascending=False)\n",
        "\n",
        "plt.figure(figsize=(12,6))\n",
        "sns.barplot(x=sales_platform.index,y=sales_platform['all_sales'])\n",
        "plt.title('Популярность платформ', fontsize=15)\n",
        "plt.xlabel('Платформа')"
      ]
    },
    {
      "cell_type": "code",
      "execution_count": null,
      "metadata": {
        "id": "hlzaGAP1UdGX"
      },
      "outputs": [],
      "source": [
        "all_platform = df['platform'].unique()"
      ]
    },
    {
      "cell_type": "code",
      "execution_count": null,
      "metadata": {
        "colab": {
          "base_uri": "https://localhost:8080/"
        },
        "id": "dJgopZuIUdGX",
        "outputId": "c4a090d5-0eb3-4bab-cbf3-6d5553ca1285"
      },
      "outputs": [
        {
          "data": {
            "text/plain": [
              "['ps2',\n",
              " 'x360',\n",
              " 'ps3',\n",
              " 'wii',\n",
              " 'ds',\n",
              " 'ps4',\n",
              " 'gba',\n",
              " 'psp',\n",
              " '3ds',\n",
              " 'xb',\n",
              " 'pc',\n",
              " 'gc']"
            ]
          },
          "execution_count": 27,
          "metadata": {},
          "output_type": "execute_result"
        }
      ],
      "source": [
        "sales_platform = df.pivot_table(index=('platform'), values='all_sales', aggfunc='sum')\n",
        "sales_platform = sales_platform.sort_values(by='all_sales', ascending=False)\n",
        "sales_platform = list(sales_platform.index[:12])\n",
        "sales_platform "
      ]
    },
    {
      "cell_type": "code",
      "execution_count": null,
      "metadata": {
        "colab": {
          "base_uri": "https://localhost:8080/",
          "height": 1000
        },
        "id": "_IkohJ_eUdGY",
        "outputId": "dd33f026-69da-45d8-f817-025bdb8703fd"
      },
      "outputs": [
        {
          "data": {
            "image/png": "iVBORw0KGgoAAAANSUhEUgAAAlkAAAEwCAYAAACE62RIAAAAOXRFWHRTb2Z0d2FyZQBNYXRwbG90bGliIHZlcnNpb24zLjMuNCwgaHR0cHM6Ly9tYXRwbG90bGliLm9yZy8QVMy6AAAACXBIWXMAAAsTAAALEwEAmpwYAAAlvUlEQVR4nO3df5xddX3n8ddbiKaCRX6kVAkhWKnyO0BAKFVjrRh+VOxDbWHVSkVjXbDbtXYb1z7EVexCcd3WVYuppmBXodQubiogoIjY1SgBEeSXRoSSlEokaEV+42f/uCd6GSfMnWTO3DtnXs/H4z5y7/ecc8/nM3Nn8p7zM1WFJEmSptaThl2AJElSFxmyJEmSWmDIkiRJaoEhS5IkqQWGLEmSpBYYsiRJklpgyJIkSWqBIUvSrJPkKUk+luSOJD9Kcl2So4ddl6RuMWRJmo22Be4EXgjsAPwZcEGShcMsSlK3GLIkzXhJbk/y9iQ3Jbk3yd8mmZtklySfSfKDJBuTfCnJk6rqx1X1rqq6vap+UlWfAb4LHDLsXiR1x7bDLkCSpsirgZcCPwb+id7WqW2AdcC8Zp7DgZ+7l1iSXYFfBW6clkolzQojuyUrycokdyf55gDzLkjyhSRfT3J9kmOmo0ZJI+WDVXVnVW0E3gucCDwCPAPYo6oeqaov1ZgbtiaZA3wCOLeqbpn2qiV11siGLOAcYOmA8/4ZcEFVHQScAHy4raIkjaw7+57fATwTOAtYC1yW5LYky/sXSPIk4O+Ah4FTp6tQSbPDyIasqroK2Ng/luRXknw2yTXNsRXP3TQ78IvN8x2Af53GUiWNht37ni8A/rWqflRVf1xVzwJeBrw1yYsBkgT4GLAr8IqqemTaK5bUaSMbsjZjBfCWqjoEeBs/22L1LuA1SdYBFwNvGU55kobolCTzk+wEvAP4+yTHJXl2E6h+CDwG/KSZ/6+BvYHfqqoHhlOypC6bMSEryfbArwH/kOQ64CP0jrWA3rEX51TVfOAY4O+a3QCSZo9PApcBtwHfAU4H9gI+B9wHfAX4cFV9IckewJuARcC/Jbmvebx6KJVL6qSMOQZ0pDTXrPlMVe2X5BeBW6vqGePMdyOwtKrubF7fBhxeVXdPa8GShiLJ7cAbqupzw65FkjaZMVt7qurfge8meRX0jqdIcmAz+V+ATcdZ7A3MBTYMpVBJkiRGOGQlOY/e5v3nJFmX5GR618E5Ock36F3P5vhm9j8G3tiMnwecNPY0bUmSpOk00rsLJUmSZqqR3ZIlSZI0kxmyJEmSWjCS9y7cZZddauHChcMuQ5IkaULXXHPN96tq3tjxkQxZCxcuZM2aNcMuQ5IkaUJJ7hhv3N2FkiRJLTBkSZIktcCQJUmS1IKRPCZLkiS155FHHmHdunU8+OCDwy5lRpk7dy7z589nzpw5A81vyJIkaZZZt24dT3va01i4cCFJhl3OjFBV3HPPPaxbt44999xzoGXcXShJ0izz4IMPsvPOOxuwJiEJO++886S2/hmyJEmahQxYkzfZr5khS5IkqQUekyVNYOHyi6ZlPbefcey0rEeSxprq33Nb8/ts0wXJd9llF7bffnvuu+++KalpyZIlvO9972Px4sVT8n6DcEuWJElSCwxZkiRpKF7+8pdzyCGHsO+++7JixYpJLXvXXXfxghe8gEWLFrHffvvxpS99CYA3v/nNLF68mH333ZfTTjtt3GUvu+wyjjjiCA4++GBe9apX/XRr2fLly9lnn3044IADeNvb3rZ1zeHuQkmSNCQrV65kp5124oEHHuDQQw/lFa94xcDLfvKTn+SlL30p73jHO3jssce4//77AXjve9/LTjvtxGOPPcaLX/xirr/+eg444ICfLvf973+f008/nc997nNst912nHnmmbz//e/nlFNO4cILL+SWW24hCT/4wQ+2uj9DliRJGooPfOADXHjhhQDceeedfPvb3x542UMPPZTXv/71PPLII7z85S9n0aJFAFxwwQWsWLGCRx99lLvuuoubbrrpcSFr9erV3HTTTRx55JEAPPzwwxxxxBHssMMOzJ07l5NPPpnjjjuO4447bqv7M2RJkqRpd+WVV/K5z32Or3zlKzz1qU9lyZIlk7oG1Qte8AKuuuoqLrroIk466STe+ta38vznP5/3ve99XH311ey4446cdNJJP/eeVcVLXvISzjvvvJ97z6997Wt8/vOf51Of+hQf/OAHueKKK7aqR0PWiJmOM9k8i02SNGw//OEP2XHHHXnqU5/KLbfcwurVqye1/B133MH8+fN54xvfyEMPPcS1117LgQceyHbbbccOO+zA9773PS655BKWLFnyuOUOP/xwTjnlFNauXcuzn/1sfvzjH7N+/Xqe+cxncv/993PMMcdw5JFH8qxnPWurezRkSZI0yw3jj++lS5dy9tlns/fee/Oc5zyHww8/fFLLX3nllZx11lnMmTOH7bffno9//OPsueeeHHTQQTz3uc9l9913/+kuwX7z5s3jnHPO4cQTT+Shhx4C4PTTT+dpT3saxx9/PA8++CBVxfvf//6t7jFV9cQzJLsDHwd2BQpYUVV/NWaeAH8FHAPcD5xUVdc2014H/Fkz6+lVde5ERS1evLjWrFkzyVa6wS1Zo8frZEnqmptvvpm999572GXMSON97ZJcU1U/dwGuQbZkPQr8cVVdm+RpwDVJLq+qm/rmORrYq3k8D/hr4HlJdgJOAxbTC2jXJFlVVfduSWOSJEkzxYQhq6ruAu5qnv8oyc3AbkB/yDoe+Hj1NoutTvL0JM8AlgCXV9VGgCSXA0uBnz/aTJIkaYwbbriB1772tY8be8pTnsJXv/rVIVU0uEkdk5VkIXAQMLaz3YA7+16va8Y2Nz7eey8DlgEsWLBgMmVJkqRJqqoZcZPo/fffn+uuu27YZQC9r9lkDHzF9yTbA/8I/FFV/fsk65pQVa2oqsVVtXjevHlT/faSJKkxd+5c7rnnnkmHhtmsqrjnnnuYO3fuwMsMtCUryRx6AesTVfV/xpllPbB73+v5zdh6ersM+8evHLg6SZI05ebPn8+6devYsGHDsEuZUebOncv8+fMHnn/CkNWcOfgx4Oaq2tz5jKuAU5OcT+/A9x9W1V1JLgX+PMmOzXxHAW8fuDpJkjTl5syZw5577jnsMjpvkC1ZRwKvBW5Icl0z9l+BBQBVdTZwMb3LN6yldwmH32+mbUzyHuDqZrl3bzoIXpIkqcsGObvwn4EnPDKuOavwlM1MWwms3KLqJEmSZqiBD3yXJEnS4AxZkiRJLTBkSZIktcCQJUmS1AJDliRJUgsMWZIkSS0wZEmSJLXAkCVJktQCQ5YkSVILDFmSJEktGOTehdIWWbj8otbXcfsZx7a+DkmStoRbsiRJklpgyJIkSWqBIUuSJKkFhixJkqQWGLIkSZJaMOHZhUlWAscBd1fVfuNM/xPg1X3vtzcwr6o2Jrkd+BHwGPBoVS2eqsIlSZJG2SBbss4Blm5uYlWdVVWLqmoR8Hbgi1W1sW+WFzXTDViSJGnWmDBkVdVVwMaJ5mucCJy3VRVJkiR1wJQdk5XkqfS2eP1j33ABlyW5JsmyCZZflmRNkjUbNmyYqrIkSZKGYioPfP8t4P+N2VX461V1MHA0cEqSF2xu4apaUVWLq2rxvHnzprAsSZKk6TeVIesExuwqrKr1zb93AxcCh03h+iRJkkbWlISsJDsALwT+b9/Ydkmetuk5cBTwzalYnyRJ0qgb5BIO5wFLgF2SrANOA+YAVNXZzWy/DVxWVT/uW3RX4MIkm9bzyar67NSVLkmSNLomDFlVdeIA85xD71IP/WO3AQduaWGSJEkzmVd8lyRJaoEhS5IkqQUT7i6cCRYuv2ha1nP7GcdOy3okSdLM55YsSZKkFhiyJEmSWmDIkiRJaoEhS5IkqQWGLEmSpBZ04uxCSYPxTFxJmj5uyZIkSWqBIUuSJKkFhixJkqQWGLIkSZJaYMiSJElqgSFLkiSpBROGrCQrk9yd5Jubmb4kyQ+TXNc83tk3bWmSW5OsTbJ8KguXJEkaZYNsyToHWDrBPF+qqkXN490ASbYBPgQcDewDnJhkn60pVpIkaaaYMGRV1VXAxi1478OAtVV1W1U9DJwPHL8F7yNJkjTjTNUxWUck+UaSS5Ls24ztBtzZN8+6ZmxcSZYlWZNkzYYNG6aoLEmSpOGYipB1LbBHVR0I/C/g01vyJlW1oqoWV9XiefPmTUFZkiRJw7PVIauq/r2q7mueXwzMSbILsB7YvW/W+c2YJElS5211yEryy0nSPD+sec97gKuBvZLsmeTJwAnAqq1dnyRJ0kyw7UQzJDkPWALskmQdcBowB6CqzgZeCbw5yaPAA8AJVVXAo0lOBS4FtgFWVtWNrXQhSZI0YiYMWVV14gTTPwh8cDPTLgYu3rLSJEmSZi6v+C5JktQCQ5YkSVILDFmSJEktMGRJkiS1wJAlSZLUAkOWJElSCwxZkiRJLTBkSZIktcCQJUmS1AJDliRJUgsMWZIkSS0wZEmSJLXAkCVJktQCQ5YkSVILDFmSJEktmDBkJVmZ5O4k39zM9FcnuT7JDUm+nOTAvmm3N+PXJVkzlYVLkiSNskG2ZJ0DLH2C6d8FXlhV+wPvAVaMmf6iqlpUVYu3rERJkqSZZ9uJZqiqq5IsfILpX+57uRqYPwV1SZIkzWhTfUzWycAlfa8LuCzJNUmWTfG6JEmSRtaEW7IGleRF9ELWr/cN/3pVrU/yS8DlSW6pqqs2s/wyYBnAggULpqosSZKkoZiSLVlJDgA+ChxfVfdsGq+q9c2/dwMXAodt7j2qakVVLa6qxfPmzZuKsiRJkoZmq0NWkgXA/wFeW1Xf6hvfLsnTNj0HjgLGPUNRkiSpaybcXZjkPGAJsEuSdcBpwByAqjobeCewM/DhJACPNmcS7gpc2IxtC3yyqj7bQg+SJEkjZ5CzC0+cYPobgDeMM34bcODPLyFJktR9XvFdkiSpBYYsSZKkFhiyJEmSWmDIkiRJaoEhS5IkqQWGLEmSpBYYsiRJklpgyJIkSWqBIUuSJKkFhixJkqQWGLIkSZJaYMiSJElqgSFLkiSpBYYsSZKkFhiyJEmSWmDIkiRJasG2g8yUZCVwHHB3Ve03zvQAfwUcA9wPnFRV1zbTXgf8WTPr6VV17lQULml2W7j8otbXcfsZx7a+DkndNeiWrHOApU8w/Whgr+axDPhrgCQ7AacBzwMOA05LsuOWFitJkjRTDBSyquoqYOMTzHI88PHqWQ08PckzgJcCl1fVxqq6F7icJw5rkiRJnTBVx2TtBtzZ93pdM7a58Z+TZFmSNUnWbNiwYYrKkiRJGo6ROfC9qlZU1eKqWjxv3rxhlyNJkrRVpipkrQd273s9vxnb3LgkSVKnTVXIWgX8XnoOB35YVXcBlwJHJdmxOeD9qGZMkiSp0wa9hMN5wBJglyTr6J0xOAegqs4GLqZ3+Ya19C7h8PvNtI1J3gNc3bzVu6vqiQ6glyRJ6oSBQlZVnTjB9AJO2cy0lcDKyZcmSZI0c43Mge+SJEldYsiSJElqgSFLkiSpBYYsSZKkFhiyJEmSWmDIkiRJaoEhS5IkqQWGLEmSpBYYsiRJklpgyJIkSWqBIUuSJKkFhixJkqQWGLIkSZJaYMiSJElqgSFLkiSpBQOFrCRLk9yaZG2S5eNM/59Jrmse30ryg75pj/VNWzWFtUuSJI2sbSeaIck2wIeAlwDrgKuTrKqqmzbNU1X/uW/+twAH9b3FA1W1aMoqliRJmgEG2ZJ1GLC2qm6rqoeB84Hjn2D+E4HzpqI4SZKkmWrCLVnAbsCdfa/XAc8bb8YkewB7Alf0Dc9NsgZ4FDijqj69ZaVKUjctXH5R6+u4/YxjW1+HpMcbJGRNxgnAp6rqsb6xPapqfZJnAVckuaGqvjN2wSTLgGUACxYsmOKyJEmSptcguwvXA7v3vZ7fjI3nBMbsKqyq9c2/twFX8vjjtfrnW1FVi6tq8bx58wYoS5IkaXQNErKuBvZKsmeSJ9MLUj93lmCS5wI7Al/pG9sxyVOa57sARwI3jV1WkiSpaybcXVhVjyY5FbgU2AZYWVU3Jnk3sKaqNgWuE4Dzq6r6Ft8b+EiSn9ALdGf0n5UoSZLUVQMdk1VVFwMXjxl755jX7xpnuS8D+29FfZIkSTOSV3yXJElqgSFLkiSpBYYsSZKkFhiyJEmSWmDIkiRJaoEhS5IkqQWGLEmSpBYYsiRJklpgyJIkSWqBIUuSJKkFhixJkqQWGLIkSZJaYMiSJElqgSFLkiSpBYYsSZKkFmw77AIkSd2wcPlF07Ke2884dlrWI22tgbZkJVma5NYka5MsH2f6SUk2JLmuebyhb9rrkny7ebxuKouXJEkaVRNuyUqyDfAh4CXAOuDqJKuq6qYxs/59VZ06ZtmdgNOAxUAB1zTL3jsl1UuSJI2oQbZkHQasrarbquph4Hzg+AHf/6XA5VW1sQlWlwNLt6xUSZKkmWOQkLUbcGff63XN2FivSHJ9kk8l2X2Sy5JkWZI1SdZs2LBhgLIkSZJG11SdXfhPwMKqOoDe1qpzJ/sGVbWiqhZX1eJ58+ZNUVmSJEnDMUjIWg/s3vd6fjP2U1V1T1U91Lz8KHDIoMtKkiR10SAh62pgryR7JnkycAKwqn+GJM/oe/ky4Obm+aXAUUl2TLIjcFQzJkmS1GkTnl1YVY8mOZVeONoGWFlVNyZ5N7CmqlYBf5jkZcCjwEbgpGbZjUneQy+oAby7qja20IckSdJIGehipFV1MXDxmLF39j1/O/D2zSy7Eli5FTVKkiTNON5WR5IkqQWGLEmSpBYYsiRJklpgyJIkSWqBIUuSJKkFhixJkqQWGLIkSZJaYMiSJElqgSFLkiSpBYYsSZKkFhiyJEmSWmDIkiRJaoEhS5IkqQWGLEmSpBYYsiRJklowUMhKsjTJrUnWJlk+zvS3JrkpyfVJPp9kj75pjyW5rnmsmsriJUmSRtW2E82QZBvgQ8BLgHXA1UlWVdVNfbN9HVhcVfcneTPwF8DvNtMeqKpFU1u2JEnSaJswZAGHAWur6jaAJOcDxwM/DVlV9YW++VcDr5nKIiVJmk4Ll1/U+jpuP+PY1teh4Rpkd+FuwJ19r9c1Y5tzMnBJ3+u5SdYkWZ3k5ZMvUZIkaeYZZEvWwJK8BlgMvLBveI+qWp/kWcAVSW6oqu+Ms+wyYBnAggULprIsSZKkaTfIlqz1wO59r+c3Y4+T5DeBdwAvq6qHNo1X1frm39uAK4GDxltJVa2oqsVVtXjevHkDNyBJkjSKBglZVwN7JdkzyZOBE4DHnSWY5CDgI/QC1t194zsmeUrzfBfgSPqO5ZIkSeqqCXcXVtWjSU4FLgW2AVZW1Y1J3g2sqapVwFnA9sA/JAH4l6p6GbA38JEkP6EX6M4Yc1aiJElSJw10TFZVXQxcPGbsnX3Pf3Mzy30Z2H9rCpQkSZqJvOK7JElSCwxZkiRJLTBkSZIktcCQJUmS1AJDliRJUgsMWZIkSS0wZEmSJLXAkCVJktQCQ5YkSVILDFmSJEktMGRJkiS1wJAlSZLUAkOWJElSCwxZkiRJLdh22AVIkqT2LFx+UevruP2MY1tfx0zklixJkqQWDBSykixNcmuStUmWjzP9KUn+vpn+1SQL+6a9vRm/NclLp7B2SZKkkTVhyEqyDfAh4GhgH+DEJPuMme1k4N6qejbwP4Ezm2X3AU4A9gWWAh9u3k+SJKnTBtmSdRiwtqpuq6qHgfOB48fMczxwbvP8U8CLk6QZP7+qHqqq7wJrm/eTJEnqtFTVE8+QvBJYWlVvaF6/FnheVZ3aN883m3nWNa+/AzwPeBewuqr+dzP+MeCSqvrUOOtZBixrXj4HuHXrWpvQLsD3W17HdOlKL13pA+xlVHWll670AfYyirrSB0xfL3tU1byxgyNzdmFVrQBWTNf6kqypqsXTtb42daWXrvQB9jKqutJLV/oAexlFXekDht/LILsL1wO7972e34yNO0+SbYEdgHsGXFaSJKlzBglZVwN7JdkzyZPpHci+asw8q4DXNc9fCVxRvf2Qq4ATmrMP9wT2Ar42NaVLkiSNrgl3F1bVo0lOBS4FtgFWVtWNSd4NrKmqVcDHgL9LshbYSC+I0cx3AXAT8ChwSlU91lIvkzVtuyanQVd66UofYC+jqiu9dKUPsJdR1JU+YMi9THjguyRJkibPK75LkiS1wJAlSZLUAkOWJElSC2ZdyEqyU5Kdhl3H1upKHxpdXfmMdaUP6FYvXdKV70tX+hglsyJkJVmQ5PwkG4CvAl9LcncztnDI5Q2sK30AJNkhyRlJbkmyMck9SW5uxp4+7Pomo2O9dOIz1pU+oHO9+LMyYrrSR78kuyY5uHnsOsxaZkXIAv4euBD45araq7mR9TOAT9O7F+NM0ZU+AC4A7gWWVNVOVbUz8KJm7IKhVjZ5XeqlK5+xrvQB3erFn5XR05U+SLIoyWrgSuAvmscXk6xOcvBQapoNl3BI8u2q2muy00ZNV/oASHJrVT1nstNGUcd66cRnrCt9QOd68WdlxHSlD4Ak1wFvqqqvjhk/HPhIVR043TWNzL0LW3ZNkg8D5wJ3NmO707tK/deHVtXkdaUPgDuS/Bfg3Kr6HvQ28QIn8bPeZoou9dKVz1hX+oBu9eLPyujpSh8A240NWABVtTrJdsMoaLZsyXoycDJwPLBbM7wO+CfgY1X10LBqm4yu9AGQZEdgOb1efqkZ/h69WzGdWVUbh1XbZHWsl058xrrSB3SuF39WRkxX+gBI8gHgV4CP8/jA+HvAd6vq1GmvaTaELEmS1H1JjubxgXE9sKqqLh5GPbPlwPfNSnLcsGuYCl3pA2BYByi2oWO9dOIz1pU+oHO9+LMyYmZiH1V1SVX9QVX9VvP4g2EFLDBkARw67AKmSFf6AHjzsAuYQl3qpSufsa70Ad3qxZ+V0dOVPkiybCjrdXehJEnqsiRvqqqPTPt6Z3vISvKSqrp82HUMKskvAvOq6jtjxg+oquuHVNYWSfLLAFX1b0nmAc8Hbq2qG4db2dZL8udV9V+HXcfWSrIncBBwU1XdMux6BpVkAXB3VT2YJPTOXjsYuAn4m6p6dJj1TUaSlwGXVdWDw65lKiR5AfC9qro1yZHAEcDNVXXRkEubtCTbA0vpHVz9GPAtet+rnwy1sElK8lzGP47p5uFV1Q2GrORfqmrBsOsYRJLfAf4SuBuYA5xUVVc3066tqhlzTEOSN9E7yyjAmfT+E/wm8OvAX1TVx4ZX3eQ0Z7Q8bgh4Lb0zXKiqP5z2orZQkk9X1cub58fT+7xdCfwa8N+r6pxh1TYZSb4JHFZV9yc5k94ZR58GfgOgql4/xPImJckDwI+BS4DzgEur6rHhVrVlkvwlcBi9ywddCryYXl8vBL5eVX8yvOomp/l9/DbgenoXVP0yvUNw9gdeM1P+6E3yp8CJ9C48uq4Zng+cAJxfVWcMq7aplOT3q+pvp329syFkJVm1uUnAb1TVUK6fMVnNhdaOrqq7khxG7z/xt1fVhUm+XlUHDbfCwSW5AXge8AvAHcCzmy1aOwJfqKpFw6xvMpLcCXwRuIzeZwrgffR+AVNV5w6ptEnr/xwl+TLw6qr6bpJdgM8P42J+WyLJTVW1T/P8GuDQTVsXknxjpvQBve8JvXD4Snr/8e1H7wrd51XVF4dZ22QluZFe/b9Ab2vJbk0QnkMvZO031AInIcn1wOFN/bsAn6iqlyY5ADi7qn5tyCUOJMm3gH2r6pEx408GbpxJFyN9IsPaoDJbLkb6fOA1wH1jxkPvr6qZYpuqugugqr6W5EXAZ5LsDsy0tPxIVd0P3J/kO1X1bwBVdW+SmdbLPsB76O02eFtV/WuS02ZSuOrT/7Xftqq+C1BV308yk3aB3JnkN6rqCuB2ertz7kiy83DL2iJVVfcCfwP8TbOb/XeAM5LMr6rdh1vepFRVVd9nadPn7SfMvBOxAjzQPP8xzXW/qur65rCOmeInwDPp/bHb7xnNtBmjCb7jTgKGcg/D2RKyVgP3j/dXX5Jbh1DPlvpRkl/ZdDxWs0VrCb3dIPsOsa4tUUnmNH89HbtpMMlcZtgv26r6EfBHSQ4BPpHkImZYD30OTPLv9H4pPSXJM5rP2ZOBbYZc22S8Afh4kncBPwSua7YEPx146/DK2iLpf9H8QfIB4ANJ9hhOSVvsoiRfAuYCHwUuSO9ecy8ErhpqZZN3MfDZJFfR+wPrHwCS7MSY79mI+yPg80m+zc8u4LkAeDYw7Rfv3Eq7Ai+ldy/MfqG3O3fazYrdhV2R5EB6YfHbY8bnAL9TVZ8YTmWT1xyYfNc4m6h3A/auqs8Np7Kt0xxk/R+BI6rqNcOuZ6okeTq978tXhl3LZCTZG/hVen9QrgOunoEHJS+pqiuHXcdUSXIEvS1aq5P8CvDbwL8An5qB35tj6G3J/samE6iSPAmYM8OulP4kent1+g98v3qmHfuX5GPA31bVP48z7ZNV9R+mvabZFLKae2T99EO06d5ZM01X+gB7GVVd6aUrfYC9jKou9TJWku2rauxhNpqEWRGykhwE/DWwA72EDr2zJ34A/MequnZIpU1KkkXA2Yzfx5urasbczHMW9TJjPl8w4c/KjPm+dOx7sgh7GTld6mVzZtLZ9xMZVmCcLSHrOuBNNebu3EkOBz4yU8406kofYC+jqiu9dKUPsJdR1ZVekmzuGMUA76iqnaaznrZ4dmG7thv7gwDQHBMwIy7f0OhKH2Avo6orvXSlD7CXUdWVXv4cOAsY7wK9M+oEngkC4/bTWcsmsyVkXdKc8fVxfnb2xO7A7wGfHVpVk9eVPsBeRlVXeulKH2Avo6orvVwLfLqqrhk7IckbhlDP1hi5wDgrdhcCJDma8W8bMLS7c2+JrvQB9jKqutJLV/oAexlVXeglyXOAjVW1YZxpu86kA/nTu4DyWzYTGO8cxjXlZk3IkiRJ3TWKgXFG7W/dUkl2SHJGkpuTbExyT/P8jOb6PzNCV/oAexlVXemlK32AvYyqrvTS18ctM7kPgKq6dbyA1Uwbyha5WRGygAvoXQH2RVW1U1XtTO+Gnj9ops0UXekD7GVUdaWXrvQB9jKqutLLpj6WjOnjXmZWHyMZGGfF7sIkt1bVcyY7bdR0pQ+wl1HVlV660gfYy6jqSi9d6QMgyaXAFcC51dwPN717fb4OeHFVHTXdNc2WLVl3JPkv6V2ZF+jtn03yp/zsrJCZoCt9gL2Mqq700pU+wF5GVVd66UofAAur6sxNAQt69/qsqjOBodznc7aErN8Fdga+mOTeJBuBK4Gd6N3NfqboSh9gL6OqK710pQ+wl1HVlV660geMYGCcFbsLAZI8l94tD1b3X1o/ydKqmjHXNOlKH2Avo6orvXSlD7CXUdWVXjrUx47AcnqX1dgVKOB7wCrgzKraOO1FVVXnH8AfArcCnwZuB47vm3btsOubbX3Yy+g+utJLV/qwl9F9dKWXrvTRV/Nzgd8Eth8zvnQo9Qz7CzJNX/QbNn3BgYXAGuA/Na+/Puz6Zlsf9jK6j6700pU+7GV0H13ppSt9NPWOXGCcLbfVeVI1m0Cr6vYkS4BPJdmD3j2NZoqu9AH2Mqq60ktX+gB7GVVd6aUrfQC8ETikqu5LspBeHwur6q8YUi+z5cD37yVZtOlF84E6DtgF2H9YRW2BrvQB9jKqutJLV/oAexlVXemlK33AmMAILAGOTvJ+hhSyZsWB70nmA49W32mdfdOOrKr/N4SyJq0rfYC9jKqu9NKVPsBeRlVXeulKHwBJrgDeWlXX9Y1tC6wEXl1V20x7TbMhZEmSpG4bxcBoyJIkSWrBbDkmS5IkaVoZsiRJklpgyJLUOUmen+TGJNcl+YWteJ+FSb45lbVJmj0MWZJGXpLJnhX0auC/V9WiqnpggveeLdcLlDTNDFmSplSSdyf5o77X703yn5L8SZKrk1yf5L/1Tf90kmuaLU/L+sbvS/I/knwDOGIz63pxkq8nuSHJyiRPSfIGeje2fU+ST2xmuSVJvpRkFXBTkm2SnNVX35vGWWbceZJsn+TzSa5t6ji+Gd8uyUVJvpHkm0l+txk/JMkXm54vTfKMLfgyS5oBDFmSptpK4PcAkjwJOAH4N2Av4DBgEXBIkhc087++qg4BFgN/mGTnZnw74KtVdWBV/fPYlSSZC5wD/G5V7Q9sC7y5qj5K74awf1JVr36COg+md/uQXwVOBn5YVYcChwJvTLLnmPk3N8+DwG9X1cHAi4D/kSTAUuBfm/r3Az6bZA7wv4BXNj2vBN77hF9NSTOWm8klTanm1hz3JDkI2BX4Or1QclTzHGB7eqHrKnrB6reb8d2b8XuAx4B/fIJVPQf4blV9q3l9LnAK8JcDlvq1qvpu8/wo4IAkr2xe79DU8a2++Tc3zzrgz5vQ+BNgt6bvG+gFrjOBz1TVl5LsB+wHXN7LYWwD3DVgvZJmGEOWpDZ8FDgJ+GV6W2teTO8YqY/0z9TcJ+03gSOq6v4kVwJzm8kPVtVjLdb44/5SgLdU1aVj6ls4wDwnAfPo3TPtkSS3A3Or6ltJDgaOAU5P8nngQuDGqhp396ekbnF3oaQ2XEhvd9mhwKXN4/VJtgdIsluSX6K3NejeJmA9Fzh8Euu4FViY5NnN69cCX9zCei8F3tzsziPJrybZbsB5dgDubgLWi4A9munPBO6vqv8NnEVv9+StwLwkRzTzzEmy7xbWLGnEuSVL0pSrqoeTfAH4QbM16rIkewNfaXaT3Qe8Bvgs8AdJbqYXQFZPYh0PJvl94B+aMwSvBs7ewpI/CiwErm2Op9oAvHzAeT4B/FOSG4A1wC3N/PsDZyX5CfAIvePFHm52N34gyQ70fgf/JXDjFtYtaYR5Wx1JU6454P1a4FVV9e1h1yNJw+DuQklTKsk+wFrg8wYsSbOZW7IkjbwkFwJjL6nwp2MPQh9nuf2Bvxsz/FBVPW8q65Ok8RiyJEmSWuDuQkmSpBYYsiRJklpgyJIkSWqBIUuSJKkFhixJkqQW/H+By4+HgCzmtgAAAABJRU5ErkJggg==\n",
            "text/plain": [
              "<Figure size 720x288 with 1 Axes>"
            ]
          },
          "metadata": {
            "needs_background": "light"
          },
          "output_type": "display_data"
        },
        {
          "data": {
            "image/png": "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\n",
            "text/plain": [
              "<Figure size 720x288 with 1 Axes>"
            ]
          },
          "metadata": {
            "needs_background": "light"
          },
          "output_type": "display_data"
        },
        {
          "data": {
            "image/png": "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\n",
            "text/plain": [
              "<Figure size 720x288 with 1 Axes>"
            ]
          },
          "metadata": {
            "needs_background": "light"
          },
          "output_type": "display_data"
        },
        {
          "data": {
            "image/png": "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\n",
            "text/plain": [
              "<Figure size 720x288 with 1 Axes>"
            ]
          },
          "metadata": {
            "needs_background": "light"
          },
          "output_type": "display_data"
        },
        {
          "data": {
            "image/png": "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\n",
            "text/plain": [
              "<Figure size 720x288 with 1 Axes>"
            ]
          },
          "metadata": {
            "needs_background": "light"
          },
          "output_type": "display_data"
        },
        {
          "data": {
            "image/png": "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\n",
            "text/plain": [
              "<Figure size 720x288 with 1 Axes>"
            ]
          },
          "metadata": {
            "needs_background": "light"
          },
          "output_type": "display_data"
        },
        {
          "data": {
            "image/png": "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\n",
            "text/plain": [
              "<Figure size 720x288 with 1 Axes>"
            ]
          },
          "metadata": {
            "needs_background": "light"
          },
          "output_type": "display_data"
        },
        {
          "data": {
            "image/png": "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\n",
            "text/plain": [
              "<Figure size 720x288 with 1 Axes>"
            ]
          },
          "metadata": {
            "needs_background": "light"
          },
          "output_type": "display_data"
        },
        {
          "data": {
            "image/png": "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\n",
            "text/plain": [
              "<Figure size 720x288 with 1 Axes>"
            ]
          },
          "metadata": {
            "needs_background": "light"
          },
          "output_type": "display_data"
        },
        {
          "data": {
            "image/png": "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\n",
            "text/plain": [
              "<Figure size 720x288 with 1 Axes>"
            ]
          },
          "metadata": {
            "needs_background": "light"
          },
          "output_type": "display_data"
        },
        {
          "data": {
            "image/png": "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\n",
            "text/plain": [
              "<Figure size 720x288 with 1 Axes>"
            ]
          },
          "metadata": {
            "needs_background": "light"
          },
          "output_type": "display_data"
        },
        {
          "data": {
            "image/png": "iVBORw0KGgoAAAANSUhEUgAAAkkAAAEwCAYAAACjReWgAAAAOXRFWHRTb2Z0d2FyZQBNYXRwbG90bGliIHZlcnNpb24zLjMuNCwgaHR0cHM6Ly9tYXRwbG90bGliLm9yZy8QVMy6AAAACXBIWXMAAAsTAAALEwEAmpwYAAAaA0lEQVR4nO3de7hddX3n8fcHiKZcBrnESwmSPNZyxwCBQh0Z0Gqp8hRsveBTaVEUh3qtVzr+4bRFC9WiQzsdTZVBWsVS23SsjDfQiPpwCwgqNy8VhtgoIQoYEYT4nT/OxobwS845e51z1tk779fz5Mnea6+9z3d/cvbJ56y19tqpKiRJkvRI2/U9gCRJ0nxkSZIkSWqwJEmSJDVYkiRJkhosSZIkSQ2WJEmSpAZLkiRJUoMlSZIkqcGSJEmS1GBJkjTvJDksyVeT/DjJPyb5hyRnDW47Mcn1Se5N8p0kx/c9r6TxZEmSNK8keQywErgA2B24CHj+4LYjgQuBtwCPA44BbuthTEnbgMzWZ7clOR84Abizqg6aZN33AscNru4IPL6qHjcrg0ma15Icw0QxWlyDH1BJvgysAhYB91XVH/U3oaRtxWxuSboAmNJm8Kr6o6paVlXLgL8C/nkW55I0v/0y8L165G9wdwz+3hv4ztyPJGlbNGslqaouB3646bIkT0ny6STXJvlSkv0ad30JE79FSto2rQX2SpJNlu09+PsO4ClzP5KkbdFcH5O0AnhtVR0OvBn4m01vTLIPsBT4/BzPJWn+uALYCLwmyQ5JTgSOHNz2IeBlSZ6VZLske23hly1J6mzOSlKSnYFfB/4xyfXAB4AnbbbaycDHq2rjXM0laX6pqp8BvwOcBtwNvBT4JPBAVV0NvAx4L3AP8EVgn34mlTTudpjDr7UdcPfguKMtORl49dyMI2m+qqrVwLKHrye5CvjXwW0rmXj3myTNqjnbklRV9wLfTfJCgEx42sO3DzaZ78bEpnZJ27Ak/yXJEwe72/4AOAT4dN9zSdq2zFpJSnIRE4Vn3yRrkpwG/B5wWpIbgBuBEze5y8nAx2q2zkkgaZTsC9zAxO62NwEvqKq1vU4kaZsza+dJkiRJGmWecVuSJKnBkiRJktQwK+9u23PPPWvJkiWz8dCSJEkz6tprr72rqhZtvnxWStKSJUtYvXr1bDy0JEnSjEpye2u5u9skSZIaLEmSJEkNliRJkqSGufxYEkmSNAMefPBB1qxZw/3339/3KCNl4cKFLF68mAULFkxpfUuSJEkjZs2aNeyyyy4sWbKEJH2PMxKqivXr17NmzRqWLl06pfu4u02SpBFz//33s8cee1iQpiEJe+yxx7S2vlmSJEkaQRak6ZtuZpYkSZKkBo9JGnNLzryk7xG26razn9f3CJI08mb6Z32Xn80Pn1B6zz33ZOedd2bDhg0zMtOxxx7Le97zHpYvXz4jjzcVbkmSJElqsCRJkqShnHTSSRx++OEceOCBrFixYlr3Xbt2LccccwzLli3joIMO4ktf+hIAZ5xxBsuXL+fAAw/kHe94R/O+n/3sZzn66KM57LDDeOELX/iLrVVnnnkmBxxwAIcccghvfvObuz053N0mSZKGdP7557P77rvz05/+lCOOOILf/d3fnfJ9P/rRj/Kbv/mbvP3tb2fjxo3cd999ALzzne9k9913Z+PGjTzrWc/ia1/7Gocccsgv7nfXXXdx1llncemll7LTTjtxzjnncO655/LqV7+alStXcsstt5CEu+++u/Pzm1JJSnIb8GNgI/BQVc3dDkFJkjQvnXfeeaxcuRKAO+64g29961tTvu8RRxzBy1/+ch588EFOOukkli1bBsDFF1/MihUreOihh1i7di033XTTI0rSlVdeyU033cTTn/50AH72s59x9NFHs+uuu7Jw4UJOO+00TjjhBE444YTOz286W5KOq6q7On9FaYR44Lskta1atYpLL72UK664gh133JFjjz12WucgOuaYY7j88su55JJLOPXUU3njG9/IM57xDN7znvdwzTXXsNtuu3Hqqac+6jGrimc/+9lcdNFFj3rMq6++mssuu4yPf/zj/PVf/zWf//znOz1Hj0mSJEnTds8997Dbbrux4447csstt3DllVdO6/633347T3jCE3jlK1/JK17xCq677jruvfdedtppJ3bddVd+8IMf8KlPfepR9zvqqKP4yle+wre//W0AfvKTn/DNb36TDRs2cM899/Dc5z6X9773vdxwww2dn+NUtyQV8NkkBXygqh51dFaS04HTAZ785Cd3HkySJE1NH1uVjz/+eN7//vez//77s++++3LUUUdN6/6rVq3i3e9+NwsWLGDnnXfmwgsvZOnSpRx66KHst99+7L333r/YpbapRYsWccEFF/CSl7yEBx54AICzzjqLXXbZhRNPPJH777+fquLcc8/t/BxTVZOvlOxVVd9L8njgc8Brq+ryLa2/fPnyWr16defh1J27i7oxP0nz0c0338z+++/f9xgjqZVdkmtbx1tPaXdbVX1v8PedwErgyBmYU5Ikad6adHdbkp2A7arqx4PLzwH+dNYnkyRJI+/rX/86p5xyyiOWPfaxj+Wqq67qaaKpm8oxSU8AVg4+FG4H4KNV9elZnUqSJI2Fgw8+mOuvv77vMYYyaUmqqn8DnjYHs0iSpCmqqml/qv22birHYW/KUwBIkjRiFi5cyPr166f9n/62rKpYv349CxcunPJ9/FgSSZJGzOLFi1mzZg3r1q3re5SRsnDhQhYvXjzl9S1JkiSNmAULFrB06dK+xxh77m6TJElqsCRJkiQ1WJIkSZIaLEmSJEkNliRJkqQGS5IkSVKDJUmSJKnBkiRJktRgSZIkSWqwJEmSJDVYkiRJkhosSZIkSQ2WJEmSpAZLkiRJUoMlSZIkqcGSJEmS1GBJkiRJarAkSZIkNViSJEmSGixJkiRJDZYkSZKkBkuSJElSgyVJkiSpwZIkSZLUYEmSJElqsCRJkiQ1WJIkSZIaLEmSJEkNUy5JSbZP8tUkn5zNgSRJkuaD6WxJej1w82wNIkmSNJ9MqSQlWQw8D/jg7I4jSZI0P0x1S9L7gLcCP9/SCklOT7I6yep169bNxGySJEm9mbQkJTkBuLOqrt3aelW1oqqWV9XyRYsWzdiAkiRJfZjKlqSnA7+d5DbgY8Azk/z9rE4lSZLUs0lLUlX9cVUtrqolwMnA56vqpbM+mSRJUo88T5IkSVLDDtNZuapWAatmZRJJkqR5xC1JkiRJDZYkSZKkBkuSJElSgyVJkiSpwZIkSZLUYEmSJElqsCRJkiQ1WJIkSZIaLEmSJEkNliRJkqQGS5IkSVKDJUmSJKnBkiRJktRgSZIkSWqwJEmSJDVYkiRJkhosSZIkSQ2WJEmSpAZLkiRJUoMlSZIkqcGSJEmS1GBJkiRJarAkSZIkNViSJEmSGixJkiRJDZYkSZKkBkuSJElSgyVJkiSpwZIkSZLUYEmSJElqsCRJkiQ1TFqSkixMcnWSG5LcmORP5mIwSZKkPu0whXUeAJ5ZVRuSLAC+nORTVXXlLM8mSZLUm0lLUlUVsGFwdcHgT83mUJIkSX2b0jFJSbZPcj1wJ/C5qrqqsc7pSVYnWb1u3boZHlOSJGluTakkVdXGqloGLAaOTHJQY50VVbW8qpYvWrRohseUJEmaW9N6d1tV3Q18ATh+VqaRJEmaJ6by7rZFSR43uPxLwLOBW2Z5LkmSpF5N5d1tTwI+nGR7JkrVxVX1ydkdS5IkqV9TeXfb14BD52AWSWNmyZmX9D3CVt129vP6HkHSPOYZtyVJkhosSZIkSQ2WJEmSpAZLkiRJUsNU3t0mSZpjHvQu9c8tSZIkSQ2WJEmSpAZLkiRJUoMlSZIkqWEkDtyezwcwevCiJEnjyS1JkiRJDZYkSZKkBkuSJElSgyVJkiSpwZIkSZLUYEmSJElqsCRJkiQ1WJIkSZIaLEmSJEkNliRJkqQGS5IkSVKDJUmSJKnBkiRJktRgSZIkSWqwJEmSJDVYkiRJkhosSZIkSQ2WJEmSpAZLkiRJUoMlSZIkqcGSJEmS1DBpSUqyd5IvJLkpyY1JXj8Xg0mSJPVphyms8xDwpqq6LskuwLVJPldVN83ybJIkSb2ZdEtSVa2tqusGl38M3AzsNduDSZIk9WlaxyQlWQIcClzVuO30JKuTrF63bt0MjSdJktSPKZekJDsD/wS8oaru3fz2qlpRVcuravmiRYtmckZJkqQ5N6WSlGQBEwXpI1X1z7M7kiRJUv+m8u62AB8Cbq6qc2d/JEmSpP5NZUvS04FTgGcmuX7w57mzPJckSVKvJj0FQFV9GcgczCJJkjRveMZtSZKkBkuSJElSgyVJkiSpwZIkSZLUYEmSJElqsCRJkiQ1WJIkSZIaLEmSJEkNliRJkqQGS5IkSVKDJUmSJKnBkiRJktRgSZIkSWqwJEmSJDVYkiRJkhosSZIkSQ2WJEmSpAZLkiRJUoMlSZIkqcGSJEmS1GBJkiRJarAkSZIkNViSJEmSGixJkiRJDZYkSZKkBkuSJElSgyVJkiSpwZIkSZLUYEmSJElq2KHvASRJmmlLzryk7xG26razn9f3CJoCtyRJkiQ1TFqSkpyf5M4k35iLgSRJkuaDqWxJugA4fpbnkCRJmlcmLUlVdTnwwzmYRZIkad6YsWOSkpyeZHWS1evWrZuph5UkSerFjJWkqlpRVcuravmiRYtm6mElSZJ64bvbJEmSGixJkiRJDVM5BcBFwBXAvknWJDlt9seSJEnq16Rn3K6ql8zFIJIkSfOJu9skSZIaLEmSJEkNliRJkqQGS5IkSVKDJUmSJKnBkiRJktRgSZIkSWqwJEmSJDVYkiRJkhosSZIkSQ2WJEmSpAZLkiRJUoMlSZIkqcGSJEmS1GBJkiRJarAkSZIkNViSJEmSGixJkiRJDZYkSZKkBkuSJElSgyVJkiSpwZIkSZLUYEmSJElqsCRJkiQ1WJIkSZIaLEmSJEkNliRJkqQGS5IkSVKDJUmSJKnBkiRJktRgSZIkSWqYUklKcnySW5N8O8mZsz2UJElS3yYtSUm2B/4n8FvAAcBLkhww24NJkiT1aYcprHMk8O2q+jeAJB8DTgRums3BJElSP5aceUnfI2zVbWc/b06+Tqpq6yskLwCOr6pXDK6fAvxaVb1ms/VOB04fXN0XuHXmx50RewJ39T3ECDO/bsyvG/Mbntl1Y37dzPf89qmqRZsvnMqWpCmpqhXAipl6vNmSZHVVLe97jlFlft2YXzfmNzyz68b8uhnV/KZy4Pb3gL03ub54sEySJGlsTaUkXQM8NcnSJI8BTgY+MbtjSZIk9WvS3W1V9VCS1wCfAbYHzq+qG2d9stkz73cJznPm1435dWN+wzO7bsyvm5HMb9IDtyVJkrZFnnFbkiSpwZIkSZLUYEmSJElq2GZKUpLdk+ze9xyjyvyk0eRrtxvzG944ZDfWJSnJk5N8LMk64Crg6iR3DpYt6Xm8ec/8ukmya5Kzk9yS5IdJ1ie5ebDscX3PN5+ZXTe+drsxv+GNW3ZjXZKAfwBWAk+sqqdW1a8ATwL+BfhYn4ONCPPr5mLgR8CxVbV7Ve0BHDdYdnGvk81/ZteNr91uzG94Y5XdWJ8CIMm3quqp071NE8yvmyS3VtW+071NZteVr91uzG9445bdjH122zx1bZK/AT4M3DFYtjfwB8BXe5tqdJhfN7cneSvw4ar6AUCSJwCn8h95qs3suvG12435DW+sshv3LUmPAU4DTgT2GixeA/wr8KGqeqCv2UaB+XWTZDfgTCbye/xg8Q+Y+Fifc6rqh33NNt+ZXTe+drsxv+GNW3ZjXZIkSZKGNe4Hbm9RkhP6nmGUmV83SQ7re4ZRZXbd+NrtxvyGN4rZbbMlCTii7wFGnPl1c0bfA4wws+vG12435je8kcvO3W2SJEkN2+yWpCTP7nuGUZDkPyV5SmP5IX3MM2qSPDHJEweXFyX5nSQH9j3XKEryrr5nGFVJlg6+9/bre5ZRMDgh4sLB5SR5WZK/SnJGknF/V3gnSX774ezGwTa7JSnJ/6uqJ/c9x3yW5EXA+4A7gQXAqVV1zeC266rKY0O2IsmrmHiHVoBzmHj7+jeA/wz8RVV9qL/p5rck522+CDgFuBCgql4350ONkCT/UlUnDS6fyMTreBXw68CfV9UFfc02CpJ8Aziyqu5Lcg7wFCZOhvhMgKp6eY/jzWtJfgr8BPgUcBHwmara2O9UwxvrRpzkE1u6CdhjLmcZUf8NOLyq1iY5Evi7JH9cVSuZyFBb9xrgQOCXgNuBX6mq7w/e3v4FwJK0Zc8Hvgh8lv/4XjsZuLa3iUbLPptcfhvwzKr6bpI9gcuAC3qZanRsV1X3DS7/BnBEVf0c+PskN/Q41yi4hYky+QLgTcD/TrISuKiqvtjrZEMY65IEPAN4KbBhs+UBjpz7cUbO9lW1FqCqrk5yHPDJJHsD2+YmyOl5cPCD9r4k36mq7wNU1Y+SmN/WHQD8GXA88Oaq+vck76iqD/c816jY9Ptrh6r6LkBV3ZXk5z3NNEruSPLMqvo8cBsTJ0O8PYm/XE+uqupHwN8Cfzs43OBFwNlJFlfV3v2ONz3jXpKuBO5rtdckt/Ywz6j5cZKnVNV3AAZblI5lYrOzx9VMrpIsqKoHgec9vHCwv36bPR5wKqrqx8AbkhwOfCTJJZjZdDwtyb1M/EL42CRPGrx+HwNs3/Nso+AVwIVJ/jtwD3B9kuuBxwFv7G+skfCIvQyDXw7PA85Lsk/7LvPXNntMkiaX5GlMlMxvbbZ8AfCiqvpIP5ONhiRPBtYOStKmy/cC9q+qS/uZbLQkCfCHwNFV9dK+5xllSR7HxPfeFX3PMgqS7A/8KhMbFNYA1wx2u2kLkhxbVav6nmOmbBMlafCZTw+fHv17D38WlKbG/Loxv+GZXTfm1435DW9cshvrkpTkUOB/AbsC3xssXgzcDfxhVV3X02gjIcky4P208zujqkbuwwrnkvkNb5LsfO1OYpKffX7vTcLvv+GNW3bjXpKuB15VVVdttvwo4ANV9bReBhsR5teN+Q3P7Loxv27Mb3jjlt24Hwi50+b/UABVdSWwUw/zjBrz68b8hmd23ZhfN+Y3vLHKbtzf3fapwbtiLgTuGCzbG/h94NO9TTU6zK8b8xue2XVjft2Y3/DGKrux3t0GkOS3gBPZ5AAy4BNV9X/7m2p0mF835jc8s+vG/Loxv+GNU3ZjX5IkSZKGMdbHJCXZNcnZSW5O8sMk6weXzx6cL0RbYX7dmN/wzK4b8+vG/IY3btmNdUkCLgZ+BBxXVbtX1R7AcUy8FfHiPgcbEebXjfkNz+y6Mb9uzG94Y5XdWO9uS3JrVe073ds0wfy6Mb/hmV035teN+Q1v3LIb9y1Jtyd56+DMn8DEWUCTvI3/OOpeW2Z+3Zjf8MyuG/PrxvyGN1bZjXtJejGwB/DFJD9K8kNgFbA7E59KrK0zv27Mb3hm1435dWN+wxur7MZ6dxtAkv2YOCX6lVW1YZPlx1fVyJ2zYa6ZXzfmNzyz68b8ujG/4Y1TdmO9JSnJ64D/A7wG+EaSEze5+V39TDU6zK8b8xue2XVjft2Y3/DGLbtxP+P2K4HDq2pDkiXAx5Msqar/AaTf0UaC+XVjfsMzu27MrxvzG95YZTfuJWm7hzf1VdVtSY5l4h9sH0bwH6sH5teN+Q3P7Loxv27Mb3hjld1Y724DfpBk2cNXBv9wJwB7Agf3NdQIMb9uzG94ZteN+XVjfsMbq+zG+sDtJIuBh6rq+43bnl5VX+lhrJFhft2Y3/DMrhvz68b8hjdu2Y11SZIkSRrWuO9ukyRJGoolSZIkqcGSJEmS1GBJkjTvJHlGkhuTXJ/klzo8zpIk35jJ2SRtOyxJkmZdku2neZffA/68qpZV1U8neexxP9+bpJ5YkiQ9QpI/TfKGTa6/M8nrk7wlyTVJvpbkTza5/V+SXDvY8nP6Jss3JPnLJDcAR2/haz0ryVeTfD3J+Ukem+QVTHwQ5p8l+cgW7ndski8l+QRwU5Ltk7x7k/le1bhPc50kOye5LMl1gzlOHCzfKcklSW5I8o0kLx4sPzzJFwfP+TNJnjREzJJGgCVJ0ubOB34fIMl2wMnA94GnAkcCy4DDkxwzWP/lVXU4sBx4XZI9Bst3Aq6qqqdV1Zc3/yJJFgIXAC+uqoOZ+ASAM6rqg8AngLdU1e9tZc7DgNdX1a8CpwH3VNURwBHAK5Ms3Wz9La1zP/D8qjoMOA74yyQBjgf+fTD/QcCnkywA/gp4weA5nw+8c6tpShpZbqaW9AiDjxJYn+RQ4AnAV5koFc8ZXAbYmYnSdDkTxej5g+V7D5avBzYC/7SVL7Uv8N2q+ubg+oeBVwPvm+KoV1fVdweXnwMckuQFg+u7Dub45ibrb2mdNcC7BqXv58Beg+f9dSYK0znAJ6vqS0kOAg4CPjfRo9geWDvFeSWNGEuSpJYPAqcCT2Ria8mzmDhG6AObrjT4XKbfAI6uqvuSrAIWDm6+v6o2zuKMP9l0FOC1VfWZzeZbMoV1TgUWMfGhnA8muQ1YWFXfTHIY8FzgrCSXASuBG6uquftQ0nhxd5uklpVM7G46AvjM4M/Lk+wMkGSvJI9nYmvMjwYFaT/gqGl8jVuBJUl+ZXD9FOCLQ877GeCMwe4wkvxqkp2muM6uwJ2DgnQcsM/g9l8G7quqvwfezcTuvVuBRUmOHqyzIMmBQ84saZ5zS5KkR6mqnyX5AnD3YGvQZ5PsD1wx2M20AXgp8Gngvya5mYkCceU0vsb9SV4G/OPgHWrXAO8fcuQPAkuA6wbHE60DTpriOh8B/jXJ14HVwC2D9Q8G3p3k58CDTBwv9bPB7rrzkuzKxM/Q9wE3Djm3pHnMz26T9CiDA7avA15YVd/qex5J6oO72yQ9QpIDgG8Dl1mQJG3L3JIkadYlWQls/pb8t21+EHXjfgcDf7fZ4geq6tdmcj5JarEkSZIkNbi7TZIkqcGSJEmS1GBJkiRJarAkSZIkNViSJEmSGv4/ubqS3FuKB0MAAAAASUVORK5CYII=\n",
            "text/plain": [
              "<Figure size 720x288 with 1 Axes>"
            ]
          },
          "metadata": {
            "needs_background": "light"
          },
          "output_type": "display_data"
        }
      ],
      "source": [
        "for platform in sales_platform:\n",
        "    platform_sales = pd.pivot_table(df.query('platform == @platform'), index=['year_of_release'], \n",
        "                                    values='all_sales', aggfunc='sum')\\\n",
        "    .plot(kind='bar', figsize=(10,4))\n",
        "    plt.title(platform)"
      ]
    },
    {
      "cell_type": "markdown",
      "metadata": {
        "id": "5PI5O1QAUdGY"
      },
      "source": [
        "Отталкиваясь от графиков, можно сделать вывод, что средний период 'жизни' платформ длится 5-8 лет.\n",
        "* Топ  лидирующих по продажам начинают терять количество продаж на момент 2012 - 2014 года\n",
        "* Компания выпускающая ps2, ps3, ps4 занимает лидирующие позиции"
      ]
    },
    {
      "cell_type": "markdown",
      "metadata": {
        "id": "cknDvnOXUdGY"
      },
      "source": [
        "Выведем данные за актуальный период"
      ]
    },
    {
      "cell_type": "code",
      "execution_count": null,
      "metadata": {
        "colab": {
          "base_uri": "https://localhost:8080/",
          "height": 206
        },
        "id": "EUd3SHRiUdGY",
        "outputId": "074ceff0-cab5-486d-a14e-b80e6a01a89f"
      },
      "outputs": [
        {
          "data": {
            "text/html": [
              "<div>\n",
              "<style scoped>\n",
              "    .dataframe tbody tr th:only-of-type {\n",
              "        vertical-align: middle;\n",
              "    }\n",
              "\n",
              "    .dataframe tbody tr th {\n",
              "        vertical-align: top;\n",
              "    }\n",
              "\n",
              "    .dataframe thead th {\n",
              "        text-align: right;\n",
              "    }\n",
              "</style>\n",
              "<table border=\"1\" class=\"dataframe\">\n",
              "  <thead>\n",
              "    <tr style=\"text-align: right;\">\n",
              "      <th></th>\n",
              "      <th>name</th>\n",
              "      <th>platform</th>\n",
              "      <th>year_of_release</th>\n",
              "      <th>genre</th>\n",
              "      <th>na_sales</th>\n",
              "      <th>eu_sales</th>\n",
              "      <th>jp_sales</th>\n",
              "      <th>other_sales</th>\n",
              "      <th>critic_score</th>\n",
              "      <th>user_score</th>\n",
              "      <th>rating</th>\n",
              "      <th>all_sales</th>\n",
              "    </tr>\n",
              "  </thead>\n",
              "  <tbody>\n",
              "    <tr>\n",
              "      <th>11</th>\n",
              "      <td>grand theft auto v</td>\n",
              "      <td>ps3</td>\n",
              "      <td>2013.0</td>\n",
              "      <td>action</td>\n",
              "      <td>7020000</td>\n",
              "      <td>9090000</td>\n",
              "      <td>980000</td>\n",
              "      <td>3960000</td>\n",
              "      <td>97.0</td>\n",
              "      <td>8.2</td>\n",
              "      <td>M</td>\n",
              "      <td>21050000</td>\n",
              "    </tr>\n",
              "    <tr>\n",
              "      <th>15</th>\n",
              "      <td>grand theft auto v</td>\n",
              "      <td>x360</td>\n",
              "      <td>2013.0</td>\n",
              "      <td>action</td>\n",
              "      <td>9660000</td>\n",
              "      <td>5140000</td>\n",
              "      <td>60000</td>\n",
              "      <td>1410000</td>\n",
              "      <td>97.0</td>\n",
              "      <td>8.1</td>\n",
              "      <td>M</td>\n",
              "      <td>16270000</td>\n",
              "    </tr>\n",
              "    <tr>\n",
              "      <th>22</th>\n",
              "      <td>call of duty: black ops 3</td>\n",
              "      <td>ps4</td>\n",
              "      <td>2015.0</td>\n",
              "      <td>shooter</td>\n",
              "      <td>6030000</td>\n",
              "      <td>5860000</td>\n",
              "      <td>360000</td>\n",
              "      <td>2380000</td>\n",
              "      <td>NaN</td>\n",
              "      <td>NaN</td>\n",
              "      <td>unknown</td>\n",
              "      <td>14630000</td>\n",
              "    </tr>\n",
              "    <tr>\n",
              "      <th>24</th>\n",
              "      <td>pokemon x/pokemon y</td>\n",
              "      <td>3ds</td>\n",
              "      <td>2013.0</td>\n",
              "      <td>role-playing</td>\n",
              "      <td>5280000</td>\n",
              "      <td>4190000</td>\n",
              "      <td>4350000</td>\n",
              "      <td>780000</td>\n",
              "      <td>NaN</td>\n",
              "      <td>NaN</td>\n",
              "      <td>unknown</td>\n",
              "      <td>14600000</td>\n",
              "    </tr>\n",
              "    <tr>\n",
              "      <th>33</th>\n",
              "      <td>grand theft auto v</td>\n",
              "      <td>ps4</td>\n",
              "      <td>2014.0</td>\n",
              "      <td>action</td>\n",
              "      <td>3960000</td>\n",
              "      <td>6310000</td>\n",
              "      <td>380000</td>\n",
              "      <td>1970000</td>\n",
              "      <td>97.0</td>\n",
              "      <td>8.3</td>\n",
              "      <td>M</td>\n",
              "      <td>12620000</td>\n",
              "    </tr>\n",
              "  </tbody>\n",
              "</table>\n",
              "</div>"
            ],
            "text/plain": [
              "                         name platform  year_of_release         genre  \\\n",
              "11         grand theft auto v      ps3           2013.0        action   \n",
              "15         grand theft auto v     x360           2013.0        action   \n",
              "22  call of duty: black ops 3      ps4           2015.0       shooter   \n",
              "24        pokemon x/pokemon y      3ds           2013.0  role-playing   \n",
              "33         grand theft auto v      ps4           2014.0        action   \n",
              "\n",
              "    na_sales  eu_sales  jp_sales  other_sales  critic_score  user_score  \\\n",
              "11   7020000   9090000    980000      3960000          97.0         8.2   \n",
              "15   9660000   5140000     60000      1410000          97.0         8.1   \n",
              "22   6030000   5860000    360000      2380000           NaN         NaN   \n",
              "24   5280000   4190000   4350000       780000           NaN         NaN   \n",
              "33   3960000   6310000    380000      1970000          97.0         8.3   \n",
              "\n",
              "     rating  all_sales  \n",
              "11        M   21050000  \n",
              "15        M   16270000  \n",
              "22  unknown   14630000  \n",
              "24  unknown   14600000  \n",
              "33        M   12620000  "
            ]
          },
          "execution_count": 29,
          "metadata": {},
          "output_type": "execute_result"
        }
      ],
      "source": [
        "actual_platform = df.query('year_of_release >= 2013')\n",
        "actual_platform.head()"
      ]
    },
    {
      "cell_type": "code",
      "execution_count": null,
      "metadata": {
        "colab": {
          "base_uri": "https://localhost:8080/",
          "height": 1000
        },
        "id": "aXrRxx5eUdGY",
        "outputId": "883a11b3-948c-4f0d-c602-4d189ff11358"
      },
      "outputs": [
        {
          "data": {
            "text/html": [
              "<div>\n",
              "<style scoped>\n",
              "    .dataframe tbody tr th:only-of-type {\n",
              "        vertical-align: middle;\n",
              "    }\n",
              "\n",
              "    .dataframe tbody tr th {\n",
              "        vertical-align: top;\n",
              "    }\n",
              "\n",
              "    .dataframe thead th {\n",
              "        text-align: right;\n",
              "    }\n",
              "</style>\n",
              "<table border=\"1\" class=\"dataframe\">\n",
              "  <thead>\n",
              "    <tr style=\"text-align: right;\">\n",
              "      <th></th>\n",
              "      <th></th>\n",
              "      <th>all_sales</th>\n",
              "    </tr>\n",
              "    <tr>\n",
              "      <th>platform</th>\n",
              "      <th>year_of_release</th>\n",
              "      <th></th>\n",
              "    </tr>\n",
              "  </thead>\n",
              "  <tbody>\n",
              "    <tr>\n",
              "      <th>ps4</th>\n",
              "      <th>2015.0</th>\n",
              "      <td>118899999</td>\n",
              "    </tr>\n",
              "    <tr>\n",
              "      <th>ps3</th>\n",
              "      <th>2013.0</th>\n",
              "      <td>113249999</td>\n",
              "    </tr>\n",
              "    <tr>\n",
              "      <th>ps4</th>\n",
              "      <th>2014.0</th>\n",
              "      <td>99999998</td>\n",
              "    </tr>\n",
              "    <tr>\n",
              "      <th>x360</th>\n",
              "      <th>2013.0</th>\n",
              "      <td>88580000</td>\n",
              "    </tr>\n",
              "    <tr>\n",
              "      <th>ps4</th>\n",
              "      <th>2016.0</th>\n",
              "      <td>69250000</td>\n",
              "    </tr>\n",
              "    <tr>\n",
              "      <th>xone</th>\n",
              "      <th>2015.0</th>\n",
              "      <td>60140000</td>\n",
              "    </tr>\n",
              "    <tr>\n",
              "      <th>3ds</th>\n",
              "      <th>2013.0</th>\n",
              "      <td>56570000</td>\n",
              "    </tr>\n",
              "    <tr>\n",
              "      <th>xone</th>\n",
              "      <th>2014.0</th>\n",
              "      <td>54070000</td>\n",
              "    </tr>\n",
              "    <tr>\n",
              "      <th>ps3</th>\n",
              "      <th>2014.0</th>\n",
              "      <td>47759999</td>\n",
              "    </tr>\n",
              "    <tr>\n",
              "      <th>3ds</th>\n",
              "      <th>2014.0</th>\n",
              "      <td>43760000</td>\n",
              "    </tr>\n",
              "    <tr>\n",
              "      <th>x360</th>\n",
              "      <th>2014.0</th>\n",
              "      <td>34740000</td>\n",
              "    </tr>\n",
              "    <tr>\n",
              "      <th>3ds</th>\n",
              "      <th>2015.0</th>\n",
              "      <td>27780000</td>\n",
              "    </tr>\n",
              "    <tr>\n",
              "      <th>xone</th>\n",
              "      <th>2016.0</th>\n",
              "      <td>26149999</td>\n",
              "    </tr>\n",
              "    <tr>\n",
              "      <th>ps4</th>\n",
              "      <th>2013.0</th>\n",
              "      <td>25990000</td>\n",
              "    </tr>\n",
              "    <tr>\n",
              "      <th rowspan=\"2\" valign=\"top\">wiiu</th>\n",
              "      <th>2014.0</th>\n",
              "      <td>22030000</td>\n",
              "    </tr>\n",
              "    <tr>\n",
              "      <th>2013.0</th>\n",
              "      <td>21650000</td>\n",
              "    </tr>\n",
              "    <tr>\n",
              "      <th>xone</th>\n",
              "      <th>2013.0</th>\n",
              "      <td>18960000</td>\n",
              "    </tr>\n",
              "    <tr>\n",
              "      <th>ps3</th>\n",
              "      <th>2015.0</th>\n",
              "      <td>16820000</td>\n",
              "    </tr>\n",
              "    <tr>\n",
              "      <th>wiiu</th>\n",
              "      <th>2015.0</th>\n",
              "      <td>16350000</td>\n",
              "    </tr>\n",
              "    <tr>\n",
              "      <th>3ds</th>\n",
              "      <th>2016.0</th>\n",
              "      <td>15140000</td>\n",
              "    </tr>\n",
              "    <tr>\n",
              "      <th rowspan=\"2\" valign=\"top\">pc</th>\n",
              "      <th>2014.0</th>\n",
              "      <td>13280000</td>\n",
              "    </tr>\n",
              "    <tr>\n",
              "      <th>2013.0</th>\n",
              "      <td>12380000</td>\n",
              "    </tr>\n",
              "    <tr>\n",
              "      <th>x360</th>\n",
              "      <th>2015.0</th>\n",
              "      <td>11960000</td>\n",
              "    </tr>\n",
              "    <tr>\n",
              "      <th rowspan=\"2\" valign=\"top\">psv</th>\n",
              "      <th>2014.0</th>\n",
              "      <td>11900000</td>\n",
              "    </tr>\n",
              "    <tr>\n",
              "      <th>2013.0</th>\n",
              "      <td>10590000</td>\n",
              "    </tr>\n",
              "    <tr>\n",
              "      <th>wii</th>\n",
              "      <th>2013.0</th>\n",
              "      <td>8590000</td>\n",
              "    </tr>\n",
              "    <tr>\n",
              "      <th>pc</th>\n",
              "      <th>2015.0</th>\n",
              "      <td>8520000</td>\n",
              "    </tr>\n",
              "    <tr>\n",
              "      <th>psv</th>\n",
              "      <th>2015.0</th>\n",
              "      <td>6250000</td>\n",
              "    </tr>\n",
              "    <tr>\n",
              "      <th>pc</th>\n",
              "      <th>2016.0</th>\n",
              "      <td>5250000</td>\n",
              "    </tr>\n",
              "    <tr>\n",
              "      <th>wiiu</th>\n",
              "      <th>2016.0</th>\n",
              "      <td>4600000</td>\n",
              "    </tr>\n",
              "    <tr>\n",
              "      <th>psv</th>\n",
              "      <th>2016.0</th>\n",
              "      <td>4250000</td>\n",
              "    </tr>\n",
              "    <tr>\n",
              "      <th>wii</th>\n",
              "      <th>2014.0</th>\n",
              "      <td>3750000</td>\n",
              "    </tr>\n",
              "    <tr>\n",
              "      <th>ps3</th>\n",
              "      <th>2016.0</th>\n",
              "      <td>3600000</td>\n",
              "    </tr>\n",
              "    <tr>\n",
              "      <th>psp</th>\n",
              "      <th>2013.0</th>\n",
              "      <td>3140000</td>\n",
              "    </tr>\n",
              "    <tr>\n",
              "      <th>ds</th>\n",
              "      <th>2013.0</th>\n",
              "      <td>1540000</td>\n",
              "    </tr>\n",
              "    <tr>\n",
              "      <th>x360</th>\n",
              "      <th>2016.0</th>\n",
              "      <td>1520000</td>\n",
              "    </tr>\n",
              "    <tr>\n",
              "      <th>wii</th>\n",
              "      <th>2015.0</th>\n",
              "      <td>1140000</td>\n",
              "    </tr>\n",
              "    <tr>\n",
              "      <th>psp</th>\n",
              "      <th>2014.0</th>\n",
              "      <td>240000</td>\n",
              "    </tr>\n",
              "    <tr>\n",
              "      <th>wii</th>\n",
              "      <th>2016.0</th>\n",
              "      <td>180000</td>\n",
              "    </tr>\n",
              "    <tr>\n",
              "      <th>psp</th>\n",
              "      <th>2015.0</th>\n",
              "      <td>120000</td>\n",
              "    </tr>\n",
              "  </tbody>\n",
              "</table>\n",
              "</div>"
            ],
            "text/plain": [
              "                          all_sales\n",
              "platform year_of_release           \n",
              "ps4      2015.0           118899999\n",
              "ps3      2013.0           113249999\n",
              "ps4      2014.0            99999998\n",
              "x360     2013.0            88580000\n",
              "ps4      2016.0            69250000\n",
              "xone     2015.0            60140000\n",
              "3ds      2013.0            56570000\n",
              "xone     2014.0            54070000\n",
              "ps3      2014.0            47759999\n",
              "3ds      2014.0            43760000\n",
              "x360     2014.0            34740000\n",
              "3ds      2015.0            27780000\n",
              "xone     2016.0            26149999\n",
              "ps4      2013.0            25990000\n",
              "wiiu     2014.0            22030000\n",
              "         2013.0            21650000\n",
              "xone     2013.0            18960000\n",
              "ps3      2015.0            16820000\n",
              "wiiu     2015.0            16350000\n",
              "3ds      2016.0            15140000\n",
              "pc       2014.0            13280000\n",
              "         2013.0            12380000\n",
              "x360     2015.0            11960000\n",
              "psv      2014.0            11900000\n",
              "         2013.0            10590000\n",
              "wii      2013.0             8590000\n",
              "pc       2015.0             8520000\n",
              "psv      2015.0             6250000\n",
              "pc       2016.0             5250000\n",
              "wiiu     2016.0             4600000\n",
              "psv      2016.0             4250000\n",
              "wii      2014.0             3750000\n",
              "ps3      2016.0             3600000\n",
              "psp      2013.0             3140000\n",
              "ds       2013.0             1540000\n",
              "x360     2016.0             1520000\n",
              "wii      2015.0             1140000\n",
              "psp      2014.0              240000\n",
              "wii      2016.0              180000\n",
              "psp      2015.0              120000"
            ]
          },
          "execution_count": 30,
          "metadata": {},
          "output_type": "execute_result"
        }
      ],
      "source": [
        "best_sales_platform = pd.pivot_table(actual_platform, index=['platform','year_of_release'], values='all_sales', aggfunc = 'sum')\\\n",
        ".sort_values(by='all_sales', ascending=False)\n",
        "best_sales_platform"
      ]
    },
    {
      "cell_type": "code",
      "execution_count": null,
      "metadata": {
        "colab": {
          "base_uri": "https://localhost:8080/",
          "height": 426
        },
        "id": "CsyywG_tUdGY",
        "outputId": "eb9d5c17-ea5a-415f-a917-18b7930890b4"
      },
      "outputs": [
        {
          "data": {
            "text/html": [
              "<div>\n",
              "<style scoped>\n",
              "    .dataframe tbody tr th:only-of-type {\n",
              "        vertical-align: middle;\n",
              "    }\n",
              "\n",
              "    .dataframe tbody tr th {\n",
              "        vertical-align: top;\n",
              "    }\n",
              "\n",
              "    .dataframe thead th {\n",
              "        text-align: right;\n",
              "    }\n",
              "</style>\n",
              "<table border=\"1\" class=\"dataframe\">\n",
              "  <thead>\n",
              "    <tr style=\"text-align: right;\">\n",
              "      <th></th>\n",
              "      <th>all_sales</th>\n",
              "    </tr>\n",
              "    <tr>\n",
              "      <th>platform</th>\n",
              "      <th></th>\n",
              "    </tr>\n",
              "  </thead>\n",
              "  <tbody>\n",
              "    <tr>\n",
              "      <th>ps4</th>\n",
              "      <td>314139997</td>\n",
              "    </tr>\n",
              "    <tr>\n",
              "      <th>ps3</th>\n",
              "      <td>181429998</td>\n",
              "    </tr>\n",
              "    <tr>\n",
              "      <th>xone</th>\n",
              "      <td>159319999</td>\n",
              "    </tr>\n",
              "    <tr>\n",
              "      <th>3ds</th>\n",
              "      <td>143250000</td>\n",
              "    </tr>\n",
              "    <tr>\n",
              "      <th>x360</th>\n",
              "      <td>136800000</td>\n",
              "    </tr>\n",
              "    <tr>\n",
              "      <th>wiiu</th>\n",
              "      <td>64630000</td>\n",
              "    </tr>\n",
              "    <tr>\n",
              "      <th>pc</th>\n",
              "      <td>39430000</td>\n",
              "    </tr>\n",
              "    <tr>\n",
              "      <th>psv</th>\n",
              "      <td>32990000</td>\n",
              "    </tr>\n",
              "    <tr>\n",
              "      <th>wii</th>\n",
              "      <td>13660000</td>\n",
              "    </tr>\n",
              "    <tr>\n",
              "      <th>psp</th>\n",
              "      <td>3500000</td>\n",
              "    </tr>\n",
              "    <tr>\n",
              "      <th>ds</th>\n",
              "      <td>1540000</td>\n",
              "    </tr>\n",
              "  </tbody>\n",
              "</table>\n",
              "</div>"
            ],
            "text/plain": [
              "          all_sales\n",
              "platform           \n",
              "ps4       314139997\n",
              "ps3       181429998\n",
              "xone      159319999\n",
              "3ds       143250000\n",
              "x360      136800000\n",
              "wiiu       64630000\n",
              "pc         39430000\n",
              "psv        32990000\n",
              "wii        13660000\n",
              "psp         3500000\n",
              "ds          1540000"
            ]
          },
          "execution_count": 31,
          "metadata": {},
          "output_type": "execute_result"
        }
      ],
      "source": [
        "best_sales_platform = pd.pivot_table(actual_platform, index='platform', \n",
        "                                     values='all_sales', aggfunc = 'sum')\n",
        "best_sales_platform.sort_values('all_sales', ascending=False)"
      ]
    },
    {
      "cell_type": "markdown",
      "metadata": {
        "id": "gqJPwkleUdGY"
      },
      "source": [
        "Топ 5 платформ по миру: ps4, ps3, xone, 3ds\t и x360\t,у них растут продажи, потому что они заменяют прошлое поколение "
      ]
    },
    {
      "cell_type": "code",
      "execution_count": null,
      "metadata": {
        "colab": {
          "base_uri": "https://localhost:8080/",
          "height": 322
        },
        "id": "LyiJQ3erZITF",
        "outputId": "9c183ce0-6b5a-4b6a-a005-2ca02c14da6b"
      },
      "outputs": [
        {
          "data": {
            "text/plain": [
              "<AxesSubplot:xlabel='platform'>"
            ]
          },
          "execution_count": 32,
          "metadata": {},
          "output_type": "execute_result"
        },
        {
          "data": {
            "image/png": "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\n",
            "text/plain": [
              "<Figure size 432x288 with 1 Axes>"
            ]
          },
          "metadata": {
            "needs_background": "light"
          },
          "output_type": "display_data"
        }
      ],
      "source": [
        "best_sales_platform = pd.pivot_table(actual_platform, index=['platform'], values='all_sales', aggfunc = 'sum')\\\n",
        ".sort_values(by='all_sales', ascending=False)\n",
        "best_sales_platform.head(5).plot(kind='bar')"
      ]
    },
    {
      "cell_type": "markdown",
      "metadata": {
        "id": "iw9-4mrLUdGZ"
      },
      "source": [
        "# Ящики с усами"
      ]
    },
    {
      "cell_type": "code",
      "execution_count": null,
      "metadata": {
        "id": "--YZTTg2UdGZ",
        "outputId": "63c9fb17-da3f-41bd-9dd9-6238ee2c557a"
      },
      "outputs": [
        {
          "data": {
            "text/plain": [
              "count        2233.00\n",
              "mean       488441.56\n",
              "std       1235226.26\n",
              "min         10000.00\n",
              "25%         30000.00\n",
              "50%        110000.00\n",
              "75%        400000.00\n",
              "max      21050000.00\n",
              "Name: all_sales, dtype: object"
            ]
          },
          "execution_count": 33,
          "metadata": {},
          "output_type": "execute_result"
        },
        {
          "data": {
            "image/png": "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\n",
            "text/plain": [
              "<Figure size 864x432 with 1 Axes>"
            ]
          },
          "metadata": {
            "needs_background": "light"
          },
          "output_type": "display_data"
        }
      ],
      "source": [
        "actual_platform.boxplot(column = 'all_sales',figsize=(12,6))\n",
        "actual_platform['all_sales'].describe().apply(\"{0:.2f}\".format)"
      ]
    },
    {
      "cell_type": "markdown",
      "metadata": {
        "id": "g6dVJaYdUdGZ"
      },
      "source": [
        "* Средняя выручка на игру по миру: 1235226 \n",
        "* Медианная выручка  488441\n",
        "* Минимальная выручка 488441\n",
        "* Максимальная выручка 21 млн."
      ]
    },
    {
      "cell_type": "code",
      "execution_count": null,
      "metadata": {
        "id": "hGVp229yUdGZ",
        "outputId": "42294015-9068-488b-99a4-bff32a0db657"
      },
      "outputs": [
        {
          "data": {
            "text/plain": [
              "count         392.00\n",
              "mean       801377.54\n",
              "std       1609456.26\n",
              "min         10000.00\n",
              "25%         60000.00\n",
              "50%        200000.00\n",
              "75%        730000.00\n",
              "max      14630000.00\n",
              "Name: all_sales, dtype: object"
            ]
          },
          "execution_count": 34,
          "metadata": {},
          "output_type": "execute_result"
        },
        {
          "data": {
            "image/png": "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\n",
            "text/plain": [
              "<Figure size 864x432 with 1 Axes>"
            ]
          },
          "metadata": {
            "needs_background": "light"
          },
          "output_type": "display_data"
        }
      ],
      "source": [
        "ps4_sales = actual_platform.query('platform ==\"ps4\" ')\n",
        "ps4_sales.boxplot(column = 'all_sales',figsize=(12,6))\n",
        "ps4_sales['all_sales'].describe().apply(\"{0:.2f}\".format)"
      ]
    },
    {
      "cell_type": "markdown",
      "metadata": {
        "id": "DfQEEhNvUdGZ"
      },
      "source": [
        "ps4:\n",
        "* Средняя выручка на игру по миру: 1609456 \n",
        "* Медианная выручка  801377\n",
        "* Минимальная выручка 10000\n",
        "* Максимальная выручка 14630000"
      ]
    },
    {
      "cell_type": "code",
      "execution_count": null,
      "metadata": {
        "id": "Efpri0quUdGZ",
        "outputId": "f5ef838e-a0f3-405d-c4bc-493feba3faeb"
      },
      "outputs": [
        {
          "data": {
            "text/plain": [
              "count         345.00\n",
              "mean       525884.05\n",
              "std       1451939.29\n",
              "min         10000.00\n",
              "25%         40000.00\n",
              "50%        150000.00\n",
              "75%        510000.00\n",
              "max      21050000.00\n",
              "Name: all_sales, dtype: object"
            ]
          },
          "execution_count": 35,
          "metadata": {},
          "output_type": "execute_result"
        },
        {
          "data": {
            "image/png": "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\n",
            "text/plain": [
              "<Figure size 864x432 with 1 Axes>"
            ]
          },
          "metadata": {
            "needs_background": "light"
          },
          "output_type": "display_data"
        }
      ],
      "source": [
        "ps3_sales = actual_platform.query('platform ==\"ps3\" ')\n",
        "ps3_sales.boxplot(column = 'all_sales',figsize=(12,6))\n",
        "ps3_sales['all_sales'].describe().apply(\"{0:.2f}\".format)"
      ]
    },
    {
      "cell_type": "markdown",
      "metadata": {
        "id": "ljzhbfjcUdGZ"
      },
      "source": [
        "ps3:\n",
        "* Средняя выручка на игру:  525884 \n",
        "* Медианная выручка  525884\n",
        "* Минимальная выручка 10000\n",
        "* Максимальная выручка 21050000"
      ]
    },
    {
      "cell_type": "code",
      "execution_count": null,
      "metadata": {
        "id": "M3skpET9UdGa",
        "outputId": "825de38e-b04f-4218-aae2-24d46f6294a0"
      },
      "outputs": [
        {
          "data": {
            "text/plain": [
              "count        247.00\n",
              "mean      645020.24\n",
              "std      1036138.80\n",
              "min        10000.00\n",
              "25%        60000.00\n",
              "50%       220000.00\n",
              "75%       685000.00\n",
              "max      7390000.00\n",
              "Name: all_sales, dtype: object"
            ]
          },
          "execution_count": 36,
          "metadata": {},
          "output_type": "execute_result"
        },
        {
          "data": {
            "image/png": "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\n",
            "text/plain": [
              "<Figure size 864x432 with 1 Axes>"
            ]
          },
          "metadata": {
            "needs_background": "light"
          },
          "output_type": "display_data"
        }
      ],
      "source": [
        "xone_sales = actual_platform.query('platform ==\"xone\"')\n",
        "xone_sales.boxplot(column = 'all_sales',figsize=(12,6))\n",
        "xone_sales['all_sales'].describe().apply(\"{0:.2f}\".format)"
      ]
    },
    {
      "cell_type": "markdown",
      "metadata": {
        "id": "YtM-pZMrUdGa"
      },
      "source": [
        "xone:\n",
        "* Средняя выручка на игру:  1036138\n",
        "* Медианная выручка  645020\n",
        "* Минимальная выручка 10000\n",
        "* Максимальная выручка 7390000"
      ]
    },
    {
      "cell_type": "code",
      "execution_count": null,
      "metadata": {
        "id": "B06-KLFXUdGa",
        "outputId": "93a51db3-43ea-46cc-ebf2-c45658527b36"
      },
      "outputs": [
        {
          "data": {
            "text/plain": [
              "count         303.00\n",
              "mean       472772.28\n",
              "std       1381346.73\n",
              "min         10000.00\n",
              "25%         40000.00\n",
              "50%         90000.00\n",
              "75%        280000.00\n",
              "max      14600000.00\n",
              "Name: all_sales, dtype: object"
            ]
          },
          "execution_count": 37,
          "metadata": {},
          "output_type": "execute_result"
        },
        {
          "data": {
            "image/png": "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\n",
            "text/plain": [
              "<Figure size 864x432 with 1 Axes>"
            ]
          },
          "metadata": {
            "needs_background": "light"
          },
          "output_type": "display_data"
        }
      ],
      "source": [
        "ds_sales = actual_platform.query('platform ==\"3ds\"')\n",
        "ds_sales.boxplot(column = 'all_sales',figsize=(12,6))\n",
        "ds_sales['all_sales'].describe().apply(\"{0:.2f}\".format)"
      ]
    },
    {
      "cell_type": "markdown",
      "metadata": {
        "id": "lrIK624AUdGa"
      },
      "source": [
        "ds:\n",
        "* Средняя выручка на игру :  1381346\n",
        "* Медианная выручка   472772\n",
        "* Минимальная выручка 10000\n",
        "* Максимальная выручка 14600000"
      ]
    },
    {
      "cell_type": "code",
      "execution_count": null,
      "metadata": {
        "id": "6s5sLgnUUdGa",
        "outputId": "fc0fd709-40ff-4261-c78f-79700630587c"
      },
      "outputs": [
        {
          "data": {
            "text/plain": [
              "count         186.00\n",
              "mean       735483.87\n",
              "std       1663275.19\n",
              "min         10000.00\n",
              "25%         80000.00\n",
              "50%        265000.00\n",
              "75%        795000.00\n",
              "max      16270000.00\n",
              "Name: all_sales, dtype: object"
            ]
          },
          "execution_count": 38,
          "metadata": {},
          "output_type": "execute_result"
        },
        {
          "data": {
            "image/png": "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\n",
            "text/plain": [
              "<Figure size 864x432 with 1 Axes>"
            ]
          },
          "metadata": {
            "needs_background": "light"
          },
          "output_type": "display_data"
        }
      ],
      "source": [
        "x360_sales = actual_platform.query('platform ==\"x360\"')\n",
        "x360_sales.boxplot(column = 'all_sales',figsize=(12,6))\n",
        "x360_sales['all_sales'].describe().apply(\"{0:.2f}\".format)"
      ]
    },
    {
      "cell_type": "markdown",
      "metadata": {
        "id": "GDi3hE3fUdGa"
      },
      "source": [
        "x360:\n",
        "* Средняя выручка на игру :  1663275\n",
        "* Медианная выручка   735483\n",
        "* Минимальная выручка 10000\n",
        "* Максимальная выручка 16270000"
      ]
    },
    {
      "cell_type": "markdown",
      "metadata": {
        "id": "lWo_rWm2UdGa"
      },
      "source": [
        "ps4, ps3, 3ds делают более продаваемые игры, чем xone и x360"
      ]
    },
    {
      "cell_type": "code",
      "execution_count": null,
      "metadata": {
        "id": "d0c5cdbd",
        "outputId": "4642f482-dfa8-46be-f306-9f360dfe4b7e"
      },
      "outputs": [
        {
          "data": {
            "image/png": "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\n",
            "text/plain": [
              "<Figure size 1224x792 with 1 Axes>"
            ]
          },
          "metadata": {
            "needs_background": "light"
          },
          "output_type": "display_data"
        }
      ],
      "source": [
        "plt.figure(figsize=(17, 11))\n",
        "sns.boxplot(data=actual_platform, y='platform', x='all_sales')\n",
        "plt.xlim(-0.05e7, 0.6e7)\n",
        "plt.show()"
      ]
    },
    {
      "cell_type": "markdown",
      "metadata": {
        "id": "905lJOhFUdGb"
      },
      "source": [
        "# Корреляция отзывов и продаж"
      ]
    },
    {
      "cell_type": "markdown",
      "metadata": {
        "id": "DsPtetepUdGb"
      },
      "source": [
        "# Общая корреляция и графики "
      ]
    },
    {
      "cell_type": "code",
      "execution_count": null,
      "metadata": {
        "colab": {
          "base_uri": "https://localhost:8080/"
        },
        "id": "bb519430",
        "outputId": "1712eacd-db40-4b7d-f1bc-8bcd360011bb"
      },
      "outputs": [
        {
          "name": "stdout",
          "output_type": "stream",
          "text": [
            "7744\n",
            "7263\n",
            "6710\n"
          ]
        }
      ],
      "source": [
        "print(df[df['critic_score'] > 0].shape[0])\n",
        "print(df[df['user_score'] > 0].shape[0])\n",
        "print(df[(df['critic_score'] > 0) & (df['user_score'] > 0)].shape[0])"
      ]
    },
    {
      "cell_type": "code",
      "execution_count": null,
      "metadata": {
        "colab": {
          "base_uri": "https://localhost:8080/"
        },
        "id": "lzX9A5o7UdGb",
        "outputId": "6cd889b8-2df8-4f34-d3e6-ec2e2068cf05"
      },
      "outputs": [
        {
          "data": {
            "text/plain": [
              "0.23810220591090914"
            ]
          },
          "execution_count": 41,
          "metadata": {},
          "output_type": "execute_result"
        }
      ],
      "source": [
        "df['critic_score'].corr(df['all_sales'])"
      ]
    },
    {
      "cell_type": "code",
      "execution_count": null,
      "metadata": {
        "colab": {
          "base_uri": "https://localhost:8080/"
        },
        "id": "h3IWQZFBUdGb",
        "outputId": "ee2750b0-0a0b-4bdb-8a96-62147d04058a"
      },
      "outputs": [
        {
          "data": {
            "text/plain": [
              "0.08032762860488908"
            ]
          },
          "execution_count": 42,
          "metadata": {},
          "output_type": "execute_result"
        }
      ],
      "source": [
        "df['user_score'].corr(df['all_sales'])"
      ]
    },
    {
      "cell_type": "code",
      "execution_count": null,
      "metadata": {
        "colab": {
          "base_uri": "https://localhost:8080/",
          "height": 423
        },
        "id": "G1zE_EykUdGb",
        "outputId": "eee8f1fc-b16b-41da-8458-8fadb1300c66"
      },
      "outputs": [
        {
          "data": {
            "text/plain": [
              "Text(0, 0.5, 'продажи')"
            ]
          },
          "execution_count": 43,
          "metadata": {},
          "output_type": "execute_result"
        },
        {
          "data": {
            "image/png": "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\n",
            "text/plain": [
              "<Figure size 864x432 with 1 Axes>"
            ]
          },
          "metadata": {
            "needs_background": "light"
          },
          "output_type": "display_data"
        }
      ],
      "source": [
        "df.plot(x='critic_score',y='all_sales',grid=True, style='o',figsize=(12,6))\n",
        "plt.title('влияние отзывов критиков на продаваемость', fontsize=15)\n",
        "plt.xlabel('оценка')\n",
        "plt.ylabel('продажи')\n"
      ]
    },
    {
      "cell_type": "code",
      "execution_count": null,
      "metadata": {
        "colab": {
          "base_uri": "https://localhost:8080/",
          "height": 423
        },
        "id": "bOqlh88CUdGc",
        "outputId": "54a93a6e-e3a1-4a22-8965-6723b2874db4"
      },
      "outputs": [
        {
          "data": {
            "text/plain": [
              "Text(0, 0.5, 'продажи')"
            ]
          },
          "execution_count": 44,
          "metadata": {},
          "output_type": "execute_result"
        },
        {
          "data": {
            "image/png": "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\n",
            "text/plain": [
              "<Figure size 864x432 with 1 Axes>"
            ]
          },
          "metadata": {
            "needs_background": "light"
          },
          "output_type": "display_data"
        }
      ],
      "source": [
        "df.plot(x='user_score',y='all_sales',grid=True, style='o',figsize=(12,6))\n",
        "plt.title('влияние отзывов пользователей на продаваемость', fontsize=15)\n",
        "plt.xlabel('оценка')\n",
        "plt.ylabel('продажи')\n"
      ]
    },
    {
      "cell_type": "markdown",
      "metadata": {
        "id": "MLJ0ziTcUdGc"
      },
      "source": [
        "* Получается, что, чем выше оценка критиков, тем больше продажи.\n",
        "* Соотнесу это конкретно с прогрессивными платформами:  ps4, ps3, xone, 3ds и x360"
      ]
    },
    {
      "cell_type": "markdown",
      "metadata": {
        "id": "E-oIQoI6UdGc"
      },
      "source": [
        "# Корреляция для лидирующих платформ"
      ]
    },
    {
      "cell_type": "code",
      "execution_count": null,
      "metadata": {
        "colab": {
          "base_uri": "https://localhost:8080/"
        },
        "id": "Sn8hcjxMUdGc",
        "outputId": "53b1d6fc-12e6-4833-8d86-b992534eeb77"
      },
      "outputs": [
        {
          "name": "stdout",
          "output_type": "stream",
          "text": [
            "ps4\n",
            "              all_sales  critic_score  user_score\n",
            "all_sales      1.000000      0.401903   -0.040132\n",
            "critic_score   0.401903      1.000000    0.546434\n",
            "user_score    -0.040132      0.546434    1.000000\n",
            "____________\n",
            "ps3\n",
            "              all_sales  critic_score  user_score\n",
            "all_sales      1.000000      0.446575   -0.166761\n",
            "critic_score   0.446575      1.000000    0.693445\n",
            "user_score    -0.166761      0.693445    1.000000\n",
            "____________\n",
            "3ds\n",
            "              all_sales  critic_score  user_score\n",
            "all_sales      1.000000      0.284686    0.215193\n",
            "critic_score   0.284686      1.000000    0.862485\n",
            "user_score     0.215193      0.862485    1.000000\n",
            "____________\n",
            "xone\n",
            "              all_sales  critic_score  user_score\n",
            "all_sales      1.000000      0.422112   -0.070384\n",
            "critic_score   0.422112      1.000000    0.440977\n",
            "user_score    -0.070384      0.440977    1.000000\n",
            "____________\n",
            "x360\n",
            "              all_sales  critic_score  user_score\n",
            "all_sales      1.000000      0.525723   -0.138445\n",
            "critic_score   0.525723      1.000000    0.625309\n",
            "user_score    -0.138445      0.625309    1.000000\n"
          ]
        }
      ],
      "source": [
        "print('ps4')\n",
        "print(df.query('platform == \"ps4\" and year_of_release > 2013 and user_score > 0')[['all_sales', 'critic_score', 'user_score']].corr())\n",
        "print('____________')\n",
        "print('ps3')\n",
        "print(df.query('platform == \"ps3\" and year_of_release > 2013 and user_score > 0')[['all_sales', 'critic_score', 'user_score']].corr())\n",
        "print('____________')\n",
        "print('3ds')\n",
        "print(df.query('platform == \"3ds\" and year_of_release > 2013 and user_score > 0')[['all_sales', 'critic_score', 'user_score']].corr())\n",
        "print('____________')\n",
        "print('xone')\n",
        "print(df.query('platform == \"xone\" and year_of_release > 2013 and user_score > 0')[['all_sales', 'critic_score', 'user_score']].corr())\n",
        "print('____________')\n",
        "print('x360')\n",
        "print(df.query('platform == \"x360\" and year_of_release > 2013 and user_score > 0')[['all_sales', 'critic_score', 'user_score']].corr())"
      ]
    },
    {
      "cell_type": "markdown",
      "metadata": {
        "id": "3tq_SvtGUdGc"
      },
      "source": [
        "выделелила актуальные данные "
      ]
    },
    {
      "cell_type": "code",
      "execution_count": null,
      "metadata": {
        "id": "rI6hLqm_UdGc"
      },
      "outputs": [],
      "source": [
        "platform_ps4 = df.query('critic_score > 0 and user_score > 0 and platform ==\"ps4\"')\n",
        "platform_ps3 = df.query('critic_score > 0 and user_score > 0 and platform ==\"ps3\"')\n",
        "platform_3ds = df.query('critic_score > 0 and user_score > 0 and platform ==\"3ds\"')\n",
        "platform_xone = df.query('critic_score > 0 and user_score > 0 and platform ==\"xone\"')\n",
        "platform_x360 = df.query('critic_score > 0 and user_score > 0 and platform ==\"x360\"')"
      ]
    },
    {
      "cell_type": "markdown",
      "metadata": {
        "id": "TgyyXvsrUdGc"
      },
      "source": [
        "# Графики зависимости для одной из лидирующих платформ : ps4"
      ]
    },
    {
      "cell_type": "code",
      "execution_count": null,
      "metadata": {
        "colab": {
          "base_uri": "https://localhost:8080/",
          "height": 423
        },
        "id": "JC_iSrizUdGd",
        "outputId": "56e38740-76c6-47f2-ed5a-7e17cc96a322"
      },
      "outputs": [
        {
          "data": {
            "text/plain": [
              "Text(0, 0.5, 'продажи')"
            ]
          },
          "execution_count": 47,
          "metadata": {},
          "output_type": "execute_result"
        },
        {
          "data": {
            "image/png": "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\n",
            "text/plain": [
              "<Figure size 864x432 with 1 Axes>"
            ]
          },
          "metadata": {
            "needs_background": "light"
          },
          "output_type": "display_data"
        }
      ],
      "source": [
        "platform_ps4.plot(x='user_score',y='all_sales',grid=True, style='o',figsize=(12,6))\n",
        "plt.title('влияние отзывов пользователей на продаваемость', fontsize=15)\n",
        "plt.xlabel('оценка')\n",
        "plt.ylabel('продажи')"
      ]
    },
    {
      "cell_type": "code",
      "execution_count": null,
      "metadata": {
        "colab": {
          "base_uri": "https://localhost:8080/",
          "height": 423
        },
        "id": "7OcnTaK4UdGd",
        "outputId": "e9bd3d23-cafe-4c4f-a0a5-1b18863379bb"
      },
      "outputs": [
        {
          "data": {
            "text/plain": [
              "Text(0, 0.5, 'продажи')"
            ]
          },
          "execution_count": 48,
          "metadata": {},
          "output_type": "execute_result"
        },
        {
          "data": {
            "image/png": "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\n",
            "text/plain": [
              "<Figure size 864x432 with 1 Axes>"
            ]
          },
          "metadata": {
            "needs_background": "light"
          },
          "output_type": "display_data"
        }
      ],
      "source": [
        "platform_ps4.plot(x='critic_score',y='all_sales',grid=True, style='o',figsize=(12,6))\n",
        "plt.title('влияние отзывов пользователей на продаваемость', fontsize=15)\n",
        "plt.xlabel('оценка')\n",
        "plt.ylabel('продажи')"
      ]
    },
    {
      "cell_type": "markdown",
      "metadata": {
        "id": "5di-X_qkUdGd"
      },
      "source": [
        "По полученным данным отчетлива видна зависимость оценки критиков слабая положительная связь и юзеров - слабая отрицательная связь "
      ]
    },
    {
      "cell_type": "markdown",
      "metadata": {
        "id": "5aO7Bk-tUdGd"
      },
      "source": [
        "#  Распределение по жанрам "
      ]
    },
    {
      "cell_type": "code",
      "execution_count": null,
      "metadata": {
        "colab": {
          "base_uri": "https://localhost:8080/"
        },
        "id": "DE-NNzosUdGd",
        "outputId": "75040f0d-f03c-4d9e-aaab-b4b47d2da664"
      },
      "outputs": [
        {
          "data": {
            "text/plain": [
              "array(['sports', 'racing', 'platform', 'misc', 'simulation', 'action',\n",
              "       'role-playing', 'puzzle', 'shooter', 'fighting', 'adventure',\n",
              "       'strategy'], dtype=object)"
            ]
          },
          "execution_count": 49,
          "metadata": {},
          "output_type": "execute_result"
        }
      ],
      "source": [
        "df['genre'].unique()"
      ]
    },
    {
      "cell_type": "code",
      "execution_count": null,
      "metadata": {
        "colab": {
          "base_uri": "https://localhost:8080/",
          "height": 457
        },
        "id": "B-DGSYD_UdGd",
        "outputId": "86a8b8cb-16bd-4762-b921-8fe5ddedc2a7"
      },
      "outputs": [
        {
          "data": {
            "text/html": [
              "<div>\n",
              "<style scoped>\n",
              "    .dataframe tbody tr th:only-of-type {\n",
              "        vertical-align: middle;\n",
              "    }\n",
              "\n",
              "    .dataframe tbody tr th {\n",
              "        vertical-align: top;\n",
              "    }\n",
              "\n",
              "    .dataframe thead th {\n",
              "        text-align: right;\n",
              "    }\n",
              "</style>\n",
              "<table border=\"1\" class=\"dataframe\">\n",
              "  <thead>\n",
              "    <tr style=\"text-align: right;\">\n",
              "      <th></th>\n",
              "      <th>all_sales</th>\n",
              "    </tr>\n",
              "    <tr>\n",
              "      <th>genre</th>\n",
              "      <th></th>\n",
              "    </tr>\n",
              "  </thead>\n",
              "  <tbody>\n",
              "    <tr>\n",
              "      <th>action</th>\n",
              "      <td>1492179994</td>\n",
              "    </tr>\n",
              "    <tr>\n",
              "      <th>sports</th>\n",
              "      <td>1089679993</td>\n",
              "    </tr>\n",
              "    <tr>\n",
              "      <th>shooter</th>\n",
              "      <td>905869998</td>\n",
              "    </tr>\n",
              "    <tr>\n",
              "      <th>misc</th>\n",
              "      <td>702799998</td>\n",
              "    </tr>\n",
              "    <tr>\n",
              "      <th>role-playing</th>\n",
              "      <td>702169998</td>\n",
              "    </tr>\n",
              "    <tr>\n",
              "      <th>racing</th>\n",
              "      <td>541059997</td>\n",
              "    </tr>\n",
              "    <tr>\n",
              "      <th>platform</th>\n",
              "      <td>478369999</td>\n",
              "    </tr>\n",
              "    <tr>\n",
              "      <th>simulation</th>\n",
              "      <td>332039998</td>\n",
              "    </tr>\n",
              "    <tr>\n",
              "      <th>fighting</th>\n",
              "      <td>291639999</td>\n",
              "    </tr>\n",
              "    <tr>\n",
              "      <th>adventure</th>\n",
              "      <td>180780000</td>\n",
              "    </tr>\n",
              "    <tr>\n",
              "      <th>puzzle</th>\n",
              "      <td>134369999</td>\n",
              "    </tr>\n",
              "    <tr>\n",
              "      <th>strategy</th>\n",
              "      <td>106530000</td>\n",
              "    </tr>\n",
              "  </tbody>\n",
              "</table>\n",
              "</div>"
            ],
            "text/plain": [
              "               all_sales\n",
              "genre                   \n",
              "action        1492179994\n",
              "sports        1089679993\n",
              "shooter        905869998\n",
              "misc           702799998\n",
              "role-playing   702169998\n",
              "racing         541059997\n",
              "platform       478369999\n",
              "simulation     332039998\n",
              "fighting       291639999\n",
              "adventure      180780000\n",
              "puzzle         134369999\n",
              "strategy       106530000"
            ]
          },
          "execution_count": 50,
          "metadata": {},
          "output_type": "execute_result"
        }
      ],
      "source": [
        "genre_sales = df.pivot_table(index=('genre'), values='all_sales', aggfunc='sum').sort_values(by='all_sales',ascending=False)\n",
        "genre_sales"
      ]
    },
    {
      "cell_type": "code",
      "execution_count": null,
      "metadata": {
        "colab": {
          "base_uri": "https://localhost:8080/",
          "height": 457
        },
        "id": "hYxU_pGGc9ja",
        "outputId": "84d0f50d-b117-45b4-c5d1-729671105eb6"
      },
      "outputs": [
        {
          "data": {
            "text/html": [
              "<div>\n",
              "<style scoped>\n",
              "    .dataframe tbody tr th:only-of-type {\n",
              "        vertical-align: middle;\n",
              "    }\n",
              "\n",
              "    .dataframe tbody tr th {\n",
              "        vertical-align: top;\n",
              "    }\n",
              "\n",
              "    .dataframe thead th {\n",
              "        text-align: right;\n",
              "    }\n",
              "</style>\n",
              "<table border=\"1\" class=\"dataframe\">\n",
              "  <thead>\n",
              "    <tr style=\"text-align: right;\">\n",
              "      <th></th>\n",
              "      <th>all_sales</th>\n",
              "    </tr>\n",
              "    <tr>\n",
              "      <th>genre</th>\n",
              "      <th></th>\n",
              "    </tr>\n",
              "  </thead>\n",
              "  <tbody>\n",
              "    <tr>\n",
              "      <th>shooter</th>\n",
              "      <td>816834.984671</td>\n",
              "    </tr>\n",
              "    <tr>\n",
              "      <th>platform</th>\n",
              "      <td>687313.216954</td>\n",
              "    </tr>\n",
              "    <tr>\n",
              "      <th>sports</th>\n",
              "      <td>574120.122761</td>\n",
              "    </tr>\n",
              "    <tr>\n",
              "      <th>role-playing</th>\n",
              "      <td>552454.758458</td>\n",
              "    </tr>\n",
              "    <tr>\n",
              "      <th>racing</th>\n",
              "      <td>545423.384073</td>\n",
              "    </tr>\n",
              "    <tr>\n",
              "      <th>action</th>\n",
              "      <td>491657.329160</td>\n",
              "    </tr>\n",
              "    <tr>\n",
              "      <th>fighting</th>\n",
              "      <td>477315.873977</td>\n",
              "    </tr>\n",
              "    <tr>\n",
              "      <th>misc</th>\n",
              "      <td>445656.308180</td>\n",
              "    </tr>\n",
              "    <tr>\n",
              "      <th>simulation</th>\n",
              "      <td>440956.172643</td>\n",
              "    </tr>\n",
              "    <tr>\n",
              "      <th>puzzle</th>\n",
              "      <td>287730.190578</td>\n",
              "    </tr>\n",
              "    <tr>\n",
              "      <th>strategy</th>\n",
              "      <td>199868.667917</td>\n",
              "    </tr>\n",
              "    <tr>\n",
              "      <th>adventure</th>\n",
              "      <td>153463.497453</td>\n",
              "    </tr>\n",
              "  </tbody>\n",
              "</table>\n",
              "</div>"
            ],
            "text/plain": [
              "                  all_sales\n",
              "genre                      \n",
              "shooter       816834.984671\n",
              "platform      687313.216954\n",
              "sports        574120.122761\n",
              "role-playing  552454.758458\n",
              "racing        545423.384073\n",
              "action        491657.329160\n",
              "fighting      477315.873977\n",
              "misc          445656.308180\n",
              "simulation    440956.172643\n",
              "puzzle        287730.190578\n",
              "strategy      199868.667917\n",
              "adventure     153463.497453"
            ]
          },
          "execution_count": 51,
          "metadata": {},
          "output_type": "execute_result"
        }
      ],
      "source": [
        "genre_sales =df.pivot_table(index=('genre'), values='all_sales', aggfunc='mean').sort_values(by='all_sales',ascending=False)\n",
        "genre_sales"
      ]
    },
    {
      "cell_type": "markdown",
      "metadata": {
        "id": "Ee5zzrhZc8aM"
      },
      "source": []
    },
    {
      "cell_type": "markdown",
      "metadata": {
        "id": "GyXFHPR0UdGd"
      },
      "source": [
        "\n",
        "*   Получилось, что по сумме продаж action, shooter , sports самые популярные прибыльные жанры, один из самый неприбыльный жанр -пазлы\n",
        "*   По медиане получилось, что shooter, sports, action - самые прибыльные \n"
      ]
    },
    {
      "cell_type": "markdown",
      "metadata": {
        "id": "m9oZ4KijUdGe"
      },
      "source": [
        "# Портрет пользователя каждого региона (NA, EU, JP)"
      ]
    },
    {
      "cell_type": "markdown",
      "metadata": {
        "id": "bsYDJtv0UdGe"
      },
      "source": [
        " План:\n",
        " * Посмотрю по кажому региону лидирующую платформу\n",
        " * Популярный и продаваемый жанр "
      ]
    },
    {
      "cell_type": "code",
      "execution_count": null,
      "metadata": {
        "colab": {
          "base_uri": "https://localhost:8080/",
          "height": 424
        },
        "id": "TY1E-HhAUdGe",
        "outputId": "e5a0c245-a6f6-4753-c1ba-00d004110633",
        "scrolled": false
      },
      "outputs": [
        {
          "data": {
            "text/html": [
              "<div>\n",
              "<style scoped>\n",
              "    .dataframe tbody tr th:only-of-type {\n",
              "        vertical-align: middle;\n",
              "    }\n",
              "\n",
              "    .dataframe tbody tr th {\n",
              "        vertical-align: top;\n",
              "    }\n",
              "\n",
              "    .dataframe thead th {\n",
              "        text-align: right;\n",
              "    }\n",
              "</style>\n",
              "<table border=\"1\" class=\"dataframe\">\n",
              "  <thead>\n",
              "    <tr style=\"text-align: right;\">\n",
              "      <th></th>\n",
              "      <th>name</th>\n",
              "      <th>platform</th>\n",
              "      <th>year_of_release</th>\n",
              "      <th>genre</th>\n",
              "      <th>na_sales</th>\n",
              "      <th>eu_sales</th>\n",
              "      <th>jp_sales</th>\n",
              "      <th>other_sales</th>\n",
              "      <th>critic_score</th>\n",
              "      <th>user_score</th>\n",
              "      <th>rating</th>\n",
              "      <th>all_sales</th>\n",
              "    </tr>\n",
              "  </thead>\n",
              "  <tbody>\n",
              "    <tr>\n",
              "      <th>0</th>\n",
              "      <td>wii sports</td>\n",
              "      <td>wii</td>\n",
              "      <td>2006.0</td>\n",
              "      <td>sports</td>\n",
              "      <td>41360000</td>\n",
              "      <td>28960000</td>\n",
              "      <td>3770000</td>\n",
              "      <td>8450000</td>\n",
              "      <td>76.0</td>\n",
              "      <td>8.0</td>\n",
              "      <td>E</td>\n",
              "      <td>82540000</td>\n",
              "    </tr>\n",
              "    <tr>\n",
              "      <th>1</th>\n",
              "      <td>mario kart wii</td>\n",
              "      <td>wii</td>\n",
              "      <td>2008.0</td>\n",
              "      <td>racing</td>\n",
              "      <td>15680000</td>\n",
              "      <td>12760000</td>\n",
              "      <td>3790000</td>\n",
              "      <td>3290000</td>\n",
              "      <td>82.0</td>\n",
              "      <td>8.3</td>\n",
              "      <td>E</td>\n",
              "      <td>35520000</td>\n",
              "    </tr>\n",
              "    <tr>\n",
              "      <th>2</th>\n",
              "      <td>wii sports resort</td>\n",
              "      <td>wii</td>\n",
              "      <td>2009.0</td>\n",
              "      <td>sports</td>\n",
              "      <td>15610000</td>\n",
              "      <td>10930000</td>\n",
              "      <td>3280000</td>\n",
              "      <td>2950000</td>\n",
              "      <td>80.0</td>\n",
              "      <td>8.0</td>\n",
              "      <td>E</td>\n",
              "      <td>32770000</td>\n",
              "    </tr>\n",
              "    <tr>\n",
              "      <th>3</th>\n",
              "      <td>new super mario bros.</td>\n",
              "      <td>ds</td>\n",
              "      <td>2006.0</td>\n",
              "      <td>platform</td>\n",
              "      <td>11280000</td>\n",
              "      <td>9140000</td>\n",
              "      <td>6500000</td>\n",
              "      <td>2880000</td>\n",
              "      <td>89.0</td>\n",
              "      <td>8.5</td>\n",
              "      <td>E</td>\n",
              "      <td>29800000</td>\n",
              "    </tr>\n",
              "    <tr>\n",
              "      <th>4</th>\n",
              "      <td>wii play</td>\n",
              "      <td>wii</td>\n",
              "      <td>2006.0</td>\n",
              "      <td>misc</td>\n",
              "      <td>13960000</td>\n",
              "      <td>9180000</td>\n",
              "      <td>2930000</td>\n",
              "      <td>2840000</td>\n",
              "      <td>58.0</td>\n",
              "      <td>6.6</td>\n",
              "      <td>E</td>\n",
              "      <td>28910000</td>\n",
              "    </tr>\n",
              "    <tr>\n",
              "      <th>...</th>\n",
              "      <td>...</td>\n",
              "      <td>...</td>\n",
              "      <td>...</td>\n",
              "      <td>...</td>\n",
              "      <td>...</td>\n",
              "      <td>...</td>\n",
              "      <td>...</td>\n",
              "      <td>...</td>\n",
              "      <td>...</td>\n",
              "      <td>...</td>\n",
              "      <td>...</td>\n",
              "      <td>...</td>\n",
              "    </tr>\n",
              "    <tr>\n",
              "      <th>14115</th>\n",
              "      <td>samurai warriors: sanada maru</td>\n",
              "      <td>ps3</td>\n",
              "      <td>2016.0</td>\n",
              "      <td>action</td>\n",
              "      <td>0</td>\n",
              "      <td>0</td>\n",
              "      <td>10000</td>\n",
              "      <td>0</td>\n",
              "      <td>NaN</td>\n",
              "      <td>NaN</td>\n",
              "      <td>unknown</td>\n",
              "      <td>10000</td>\n",
              "    </tr>\n",
              "    <tr>\n",
              "      <th>14116</th>\n",
              "      <td>lma manager 2007</td>\n",
              "      <td>x360</td>\n",
              "      <td>2006.0</td>\n",
              "      <td>sports</td>\n",
              "      <td>0</td>\n",
              "      <td>10000</td>\n",
              "      <td>0</td>\n",
              "      <td>0</td>\n",
              "      <td>NaN</td>\n",
              "      <td>NaN</td>\n",
              "      <td>unknown</td>\n",
              "      <td>10000</td>\n",
              "    </tr>\n",
              "    <tr>\n",
              "      <th>14117</th>\n",
              "      <td>haitaka no psychedelica</td>\n",
              "      <td>psv</td>\n",
              "      <td>2016.0</td>\n",
              "      <td>adventure</td>\n",
              "      <td>0</td>\n",
              "      <td>0</td>\n",
              "      <td>10000</td>\n",
              "      <td>0</td>\n",
              "      <td>NaN</td>\n",
              "      <td>NaN</td>\n",
              "      <td>unknown</td>\n",
              "      <td>10000</td>\n",
              "    </tr>\n",
              "    <tr>\n",
              "      <th>14118</th>\n",
              "      <td>spirits &amp; spells</td>\n",
              "      <td>gba</td>\n",
              "      <td>2003.0</td>\n",
              "      <td>platform</td>\n",
              "      <td>10000</td>\n",
              "      <td>0</td>\n",
              "      <td>0</td>\n",
              "      <td>0</td>\n",
              "      <td>NaN</td>\n",
              "      <td>NaN</td>\n",
              "      <td>unknown</td>\n",
              "      <td>10000</td>\n",
              "    </tr>\n",
              "    <tr>\n",
              "      <th>14119</th>\n",
              "      <td>winning post 8 2016</td>\n",
              "      <td>psv</td>\n",
              "      <td>2016.0</td>\n",
              "      <td>simulation</td>\n",
              "      <td>0</td>\n",
              "      <td>0</td>\n",
              "      <td>10000</td>\n",
              "      <td>0</td>\n",
              "      <td>NaN</td>\n",
              "      <td>NaN</td>\n",
              "      <td>unknown</td>\n",
              "      <td>10000</td>\n",
              "    </tr>\n",
              "  </tbody>\n",
              "</table>\n",
              "<p>14120 rows × 12 columns</p>\n",
              "</div>"
            ],
            "text/plain": [
              "                                name platform  year_of_release       genre  \\\n",
              "0                         wii sports      wii           2006.0      sports   \n",
              "1                     mario kart wii      wii           2008.0      racing   \n",
              "2                  wii sports resort      wii           2009.0      sports   \n",
              "3              new super mario bros.       ds           2006.0    platform   \n",
              "4                           wii play      wii           2006.0        misc   \n",
              "...                              ...      ...              ...         ...   \n",
              "14115  samurai warriors: sanada maru      ps3           2016.0      action   \n",
              "14116               lma manager 2007     x360           2006.0      sports   \n",
              "14117        haitaka no psychedelica      psv           2016.0   adventure   \n",
              "14118               spirits & spells      gba           2003.0    platform   \n",
              "14119            winning post 8 2016      psv           2016.0  simulation   \n",
              "\n",
              "       na_sales  eu_sales  jp_sales  other_sales  critic_score  user_score  \\\n",
              "0      41360000  28960000   3770000      8450000          76.0         8.0   \n",
              "1      15680000  12760000   3790000      3290000          82.0         8.3   \n",
              "2      15610000  10930000   3280000      2950000          80.0         8.0   \n",
              "3      11280000   9140000   6500000      2880000          89.0         8.5   \n",
              "4      13960000   9180000   2930000      2840000          58.0         6.6   \n",
              "...         ...       ...       ...          ...           ...         ...   \n",
              "14115         0         0     10000            0           NaN         NaN   \n",
              "14116         0     10000         0            0           NaN         NaN   \n",
              "14117         0         0     10000            0           NaN         NaN   \n",
              "14118     10000         0         0            0           NaN         NaN   \n",
              "14119         0         0     10000            0           NaN         NaN   \n",
              "\n",
              "        rating  all_sales  \n",
              "0            E   82540000  \n",
              "1            E   35520000  \n",
              "2            E   32770000  \n",
              "3            E   29800000  \n",
              "4            E   28910000  \n",
              "...        ...        ...  \n",
              "14115  unknown      10000  \n",
              "14116  unknown      10000  \n",
              "14117  unknown      10000  \n",
              "14118  unknown      10000  \n",
              "14119  unknown      10000  \n",
              "\n",
              "[14120 rows x 12 columns]"
            ]
          },
          "execution_count": 52,
          "metadata": {},
          "output_type": "execute_result"
        }
      ],
      "source": [
        "df"
      ]
    },
    {
      "cell_type": "markdown",
      "metadata": {
        "id": "tQBaIwX7UdGe"
      },
      "source": [
        "# Cеверная Америка "
      ]
    },
    {
      "cell_type": "code",
      "execution_count": null,
      "metadata": {
        "colab": {
          "base_uri": "https://localhost:8080/",
          "height": 472
        },
        "id": "V-p9BxvnUdGe",
        "outputId": "cb4171c6-f59a-4db2-802e-b2c23f8106b3"
      },
      "outputs": [
        {
          "data": {
            "text/plain": [
              "Text(0, 0.5, 'Продажи')"
            ]
          },
          "execution_count": 53,
          "metadata": {},
          "output_type": "execute_result"
        },
        {
          "data": {
            "image/png": "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\n",
            "text/plain": [
              "<Figure size 864x432 with 1 Axes>"
            ]
          },
          "metadata": {
            "needs_background": "light"
          },
          "output_type": "display_data"
        }
      ],
      "source": [
        "genre_sales = actual_platform.pivot_table(index=('genre'), values='na_sales', aggfunc='sum').sort_values(by='na_sales',ascending=False)\\\n",
        ".plot(kind = 'bar',figsize=(12,6))\n",
        "plt.title('Продаваемость в Северной Америке от жанра', fontsize=15)\n",
        "plt.xlabel('Жанр')\n",
        "plt.ylabel('Продажи')"
      ]
    },
    {
      "cell_type": "code",
      "execution_count": null,
      "metadata": {
        "colab": {
          "base_uri": "https://localhost:8080/",
          "height": 457
        },
        "id": "ooCUoNOoUdGe",
        "outputId": "f0680058-66e9-48db-b593-dd60c986f673"
      },
      "outputs": [
        {
          "data": {
            "text/html": [
              "<div>\n",
              "<style scoped>\n",
              "    .dataframe tbody tr th:only-of-type {\n",
              "        vertical-align: middle;\n",
              "    }\n",
              "\n",
              "    .dataframe tbody tr th {\n",
              "        vertical-align: top;\n",
              "    }\n",
              "\n",
              "    .dataframe thead th {\n",
              "        text-align: right;\n",
              "    }\n",
              "</style>\n",
              "<table border=\"1\" class=\"dataframe\">\n",
              "  <thead>\n",
              "    <tr style=\"text-align: right;\">\n",
              "      <th></th>\n",
              "      <th>na_sales</th>\n",
              "    </tr>\n",
              "    <tr>\n",
              "      <th>genre</th>\n",
              "      <th></th>\n",
              "    </tr>\n",
              "  </thead>\n",
              "  <tbody>\n",
              "    <tr>\n",
              "      <th>action</th>\n",
              "      <td>126049999</td>\n",
              "    </tr>\n",
              "    <tr>\n",
              "      <th>shooter</th>\n",
              "      <td>109739999</td>\n",
              "    </tr>\n",
              "    <tr>\n",
              "      <th>sports</th>\n",
              "      <td>65270000</td>\n",
              "    </tr>\n",
              "    <tr>\n",
              "      <th>role-playing</th>\n",
              "      <td>46400000</td>\n",
              "    </tr>\n",
              "    <tr>\n",
              "      <th>misc</th>\n",
              "      <td>27489999</td>\n",
              "    </tr>\n",
              "    <tr>\n",
              "      <th>platform</th>\n",
              "      <td>18140000</td>\n",
              "    </tr>\n",
              "    <tr>\n",
              "      <th>fighting</th>\n",
              "      <td>15550000</td>\n",
              "    </tr>\n",
              "    <tr>\n",
              "      <th>racing</th>\n",
              "      <td>12960000</td>\n",
              "    </tr>\n",
              "    <tr>\n",
              "      <th>adventure</th>\n",
              "      <td>7140000</td>\n",
              "    </tr>\n",
              "    <tr>\n",
              "      <th>simulation</th>\n",
              "      <td>4860000</td>\n",
              "    </tr>\n",
              "    <tr>\n",
              "      <th>strategy</th>\n",
              "      <td>3280000</td>\n",
              "    </tr>\n",
              "    <tr>\n",
              "      <th>puzzle</th>\n",
              "      <td>830000</td>\n",
              "    </tr>\n",
              "  </tbody>\n",
              "</table>\n",
              "</div>"
            ],
            "text/plain": [
              "               na_sales\n",
              "genre                  \n",
              "action        126049999\n",
              "shooter       109739999\n",
              "sports         65270000\n",
              "role-playing   46400000\n",
              "misc           27489999\n",
              "platform       18140000\n",
              "fighting       15550000\n",
              "racing         12960000\n",
              "adventure       7140000\n",
              "simulation      4860000\n",
              "strategy        3280000\n",
              "puzzle           830000"
            ]
          },
          "execution_count": 54,
          "metadata": {},
          "output_type": "execute_result"
        }
      ],
      "source": [
        "genre_sales = actual_platform.pivot_table(index=('genre'), values='na_sales', aggfunc='sum').sort_values(by='na_sales',ascending=False)\n",
        "genre_sales.head(12)"
      ]
    },
    {
      "cell_type": "code",
      "execution_count": null,
      "metadata": {
        "colab": {
          "base_uri": "https://localhost:8080/",
          "height": 458
        },
        "id": "RA_Ecl6mUdGe",
        "outputId": "334b0b36-7774-4eb9-f1fd-946a1bbc7fcf"
      },
      "outputs": [
        {
          "data": {
            "text/plain": [
              "Text(0, 0.5, 'Продажи')"
            ]
          },
          "execution_count": 55,
          "metadata": {},
          "output_type": "execute_result"
        },
        {
          "data": {
            "image/png": "iVBORw0KGgoAAAANSUhEUgAAAtEAAAGoCAYAAACADLmTAAAAOXRFWHRTb2Z0d2FyZQBNYXRwbG90bGliIHZlcnNpb24zLjMuNCwgaHR0cHM6Ly9tYXRwbG90bGliLm9yZy8QVMy6AAAACXBIWXMAAAsTAAALEwEAmpwYAAAyaklEQVR4nO3debgkZX33//eHAR0URIVB/THgEMUEJIIwiAkuxA0QIwpuPEYcN9zQRBRDHo0S+BkX1MS4o+BAVFBcEAXEdcRIQAYEZJFFGGVwYQBFkEXA7/NH1YGmp8+ZU8Pp6XPOvF/X1dd0Vd1V/e061T2fvvuu6lQVkiRJkiZvnVEXIEmSJM00hmhJkiSpI0O0JEmS1JEhWpIkSerIEC1JkiR1ZIiWJEmSOjJEa1pLckiS6rndnOSnSfYfdW2zUZINk/w6ySOTPDjJqUmeNeq6hqXv2Oq9Xd7XblGSs5PcmOR3SX6S5IMTbOuWJBcn+eck6/a1W9zX9sYkZyXZu0Pd+yT5XpLfJ7ktyaVJPpjk/7t3e2RmSbI0yR5J7p/ksCTv77j+le3f4JHDqlHS7LXuqptII3cDsHt7//7A3wOfTHJTVX1+dGXNPlV1Y5IvA5e1s34MfGeEJa0JHwC+1Dfv1rE7Sf4FOAx4H3AwMBfYEfgH4MBxtrU+8CzgPcB6wP/f1+5nwMva+w8AFgHHJ3lyVf3PRMUm+QDwT8BngP8A/gBsA7wG2BJ47kTrzzIfBE4A7gP8Fth1sism+RtgQTu5L83fWJImLf7YiqazJIcAB1TVJn3zfwwsq6oXjKSwWS7JfJog+POq+vOo6xmWJAW8oao+MkGbq4ETqur1ffNTPW+gg7aV5JvAX1TVo3rmLQa2raqFPfPWAa4G/ruq3jpBLX8PnAi8oqqO6ls2B3hGVZ2yiqc9qyR5EPAw4IqqunVV7XvW+y/g5cAFwAOqapshlShplnI4h2aqG2l6+O4hybIBX80v7lm+pHe6nXdG227XnnkPT/KVJCv6tnVA32O9v29b2w7YViVZ1DM9L8kf2tDVu+6DkxyR5LdJbk1yepKdJ9oJSXZtt/+MJN9I8sckv0zymgFtn5jkB+2QmOuSfCrJhj3LF43VVFXLq+oy4NW9+3DA8Jr+26KO+/ke+7Sd96x2/oJ2esE4j/WdnnXek2aYz01Jlif5XJKHTrTvOngg8Jv+mTW5HojzgM1X1aj9oHIzA47pPm8CzukP0O027uwN0EnmJnlfkqvaIR/nJXlm7zp9r5fbklyU5CV9bSa7nfcn+dckv2n/Dp9LslFPm7Fjddu+dd+fZFnfvO2TfLc9Vn/XbushPcvHjoldq+p3VXUR8Igkd/Zva5A0HzheQPOB5Chg6yTb9bVZ1D7GxX3z79u+fvqP5XWSHJzk8tw9xOalfesuSfKlJPu3++yWJCcl2WzQc+uZ9+j+59b7em2n0+6nq5Js3jO/8/tKu96WSU5I8151Y5Kvp2fYSwa/1951m2C7+7Z1PKln3uIkS3qm/6r9u7+tZ96eSb6d5Jq2pjOSPKNv24ckuXbAYy7NPf8fWNzOe06Sn7X1/E+SbfrWe3OaoVY3tPvvHvtAMkRrRkiybnt7QJJ/AJ4MfHWc5p8H/qa9/WwV290bWDhg0WLgscDre7Y1Vf4VuF9fHfelGTbxNOAg4DnACuA7mVwYPBI4H9gbOBn4eHrGMifZpd3+b4Dn0QwHeCbNkICBktwPeAdwZ8/sT3P3/hjrmd27Z95J42xrvP3cxVt6HudvgDf0LNsU+HdgT5rn9hfA99L08K7KOj3H19itd71zgDckeWmSjTvWvAVw5aAFPY/14CRvoRla8LXxNpRkPeBvgW9O8rG/RDNM5N9phkCdBZyYZPu+dmOvl92BnwKLkzx6NbazL83x+yqaYS570hwvnSSZByyheY38H5q/85OBbye5zwSrvhuY7Ferfwc8BDiO5vnd3tY/yEPTDP0Y8xwgA9p9GHg7cATNc/8qcFRWPqdg7Ng9EHgF8BiaISkTmcxzez/Na3qPqroKVv99pV3vu8DWNH/PRTRDhX6Q5MFts+dy92vxZOAn3PP1OVBVHds+n68kecSAx94Y+Abwtap6V8+iLYGvAy8B9gFOB05p39tWx8NphgMdRnOcbQScmmRuT5v5wEeAvWj2wxzg9PR8ONRarqq8eZu2N+AQmv88+m8fGqf91cB7eqaXAot7ppeMTdO8IV5M8x99Abv2tPsjcHDftotmaMnY9DLg/X1tth2wrQIWtfe3BG4be8yeNq8A/gRs1TNvXeDnwOET7J9d2+0f0Tf/28AZPdM/BL7f1+Yp7brbttOL+mp6G82HkB/27sMBj71gwLLJ7ud77NN23rN6t0sTLgt41iSPmTnAZu06T1pF20HHVvUdM48Brmjn/xm4EDiUZghA/7be2P7dNqQJZbcBL+prt3jA490JvHkVtT60bfvqSeyDp7Ztn9w3/zTg+PGOYZphEQU8fzW2cz2wQc+8F7f7a+u+42Xbvm29n2Zo1tj0e4Df9+5fYOd23X37jold2+ld2n19TO+2Jtg/RwK/A+7TTn+jfQ7pabOofYyP0fP6Ak4FPtr3+I9sn+tL+x7nGOCsvtfF7cAWPfN2abe1e5fnRs/rlSaQ3wI8se/xV/d95TXAHTRDkcbmzW+39S8D2i8Glkzm9dmzzudo3hceOLY+zdj204AfjP1txll3nfZ5nAoc1TP/EODaAe37/x9Y3O7jv+2Z9/D2Ob9mnMecQzPE7UZgvy7P1dvsvdkTrZngBmCn9vYE4B+BlyZ554C269P8hzMZLwMeRHNyVr9lwF7tV5rrpu8KCz3S24NJ80Y7kcOAbwH9J489DTgbuLLv8X7A5Hpw+3vlvwLsmGRO26P8N8AX+2r9H5r/0Hcc8KQ2Bt5KE6Tv7F/e0UT7Gfp6glmNb8jSXKHh9CQ30PxHuLxd9KgJVhtzOHcfX2O3Q8YWVtX5ND1yz6YJVKH5NmFpkg36tvUhmn36B5oe3o9W1XEDHvPinsd6Mk2P/7vSM+xnApPpbX0azbcOP+rbt99l5eNp7BjekKa37Vaa3uau2/l2Vd3UM/1Vmn21U1+7OX3b6u/VfRzwrar6w11PuOpMmtfkE8Z5vu+l6QG+YpzlvU/2PjTfnny1qv7Uzj6OJkQN6kE9CnhhkvXTnCvwBODYvjZPpQnRXx2wn7ZPM3xkzDlV9cue5/Yj4Jr2eXd+bkn2pfkg8oGq+mHf4tV9X3lcW+ddj1lVy4EfMf7foKtX03xTczx3X+TgCOCJwMt6/jZAc55GkqPTnKNwB83r7BkMeI33f7M0zuNfU1Wnj01U1S9o9tVdf4ckj2+HkFzXPubNwAaDHlNrpxl5dY4kR9H0Vl1TVduuou0WwNE0n3bn0PQunjz0IjWV7qiqpT3TP2rfGN+d5MNVdT3cNc5xI+C6VW0wyfo0QelQml7nfq+kOW5W9Z/ygax8hYbxHnM74IU0w0T6/wPbBHg8zX8M/X4+ic1fM2B63Xa7Y+H+Y+2t36Axu/8X+FlVfTnJGwYsn5RJ7GdogueH7sVj7EQztvWrNL2Y19AEzTNorqSxKr/sO75WUlW30XyV/PX2MV9B07P+ir7aDwe+SHMc/hPwpiTfGfCec3PfY56WZszv4UmOrqpBQfk6mg+IW0ziOW1C03M96Hjq/1DUewzfDryxqpatxnbucQxW1c1JbqLp3e517oBt/aLn/sNoevv7/RZ4cP/MNCdbbkcTjF83YL1+e9D8f3Bykge285bQ7Nt9aYYJ9PpZW88+NL3EJ9L0lPfahOY1dsM4j/kw7v5g1/9aHZvXv58m+9wWA/8LvDLJB6rqd311rc77ysNo9ne/39J82JgKr6Xp1X0kzQdJaL71uZTmeOw9/2Qdmv2+Ic0Hzstp3k8OpRnK1WtjBj/fC/qmJ/w7tNnhWzRXKHo18CuanviTmNz7itYCMzJE07xpfITm661VeTvwxar6eJqTBk7m7ssaaea6mOarv0fQfI0MzZv7OjQ9VqvyBpqvPz9F89X/PVTV/yZ5E00wey7Nfx5n9bcDPss9Q9QjaHq1Bnk38LmquiBJf4i+nuYrx9cOWG8yPev9/5FsStNzci3NG37RhNlBHyB/1TvR/ufxeu6+rOC9MeF+bo0FzzFPYPxe60GeSzPO84Vj4TPJVP1HP1BVHZnkfcBf9S26K5AnOY1mjPHhSU4ZJxj3upgm9GxC83z6H/P2JD8CdqN5X5vI9TRDm56zqufC3cfwujTDJj6U5NdV9bWO27nHMdh+A7IB8Ou+di/ingHuH2l6H8f8un9brYfQ9BT2WodmrPYHquqaZNBQ5ZWMjX0+fsCy5yf5p6rq/4DwGZoreWzB4DB7Pc3rbReaHul+vYFt0HPblJX302Sf27tpeqvPp7nE4sv76lqd95VfA48eMP8h3P1+u9rSnPj4zrauc2h6uO9H82GhgO8m+UxVjf29H0nT+bBHVX2zZzvrD9j8DTQ98L0GZYXx/g5jH+B2b2vaq6r+2D7eugz4IKe114wM0VV1Wtoz98e0Jyh8FJhH85XLq6rqZzQvyAe0zTaiLzBoxhr7BuKqnnm70/y9z1zFug+iud7va9tgslKD9mv6j9OMGzypnTdoW7/t7VFMMt4ltp5MMwZ5vK8Bv0vz1eQvq2pQD8mqPBc4pW/67DYM/DHJGcBfVtWhk9jWoTTjp5esRh29VrmfW7/s24ddr6qxPnB7X0h9ccdtjCvJpv1/k/bkt40Y3FsH3BV6/5XmA8LYpekmsi3NB46Jvkn5T5qT+l5aVUf31bQOzSXuvklzPL0ZuKl9H5xI7zF8RpL9aELz1zpu5+lJNugZ0vFcmtdjfy//hVV1V69gkv59eCbw2iQbVtWNbZudaDo/+odB7UcT7D6witrGHmvsOvPH0gwd6PVYmhPNnkJzTkGv42j2/fU0J+r1Xw7vezQ90RtVVf+6/XZIssXYkI72xLhNaXo8e03quVXVIe12Xk1zwuBnq+p77eLVfV85E9gvyZZVdWW7/c1oTmw9pMN2xvMhmven/263fQLNORBL2uljaU6Ofnw1V64ZC8t3Bf/2g/IuNB8eevV/c0mSmwfUsGmSvx0b0tF2HuzA3Sdbr0/zgeiOnnVewAzNTRqO2XQwHEFzQsBlaS7f8zGaN8NDgG+1X0nfn5U/oWr6WzfJ49v796EZw/t2mrO3f9OOcXwDzd/6uKoaN9i0nkVzJvkXJ2jzbpqxoVP1Awz7Af/ZOxayzzE0J/MsSXPZvCtovpZ8HPCbqlpVz+weSd5FM9Zxb+DpNGeUj3krTe/On2muRnAjTa/ansDbqurSnrYv5t5fSQMmt5+nwreBf0rynzTDLf6W5odQJmtBz/E1ptpxuAA/TfI1mq92r6H5xuMtNB/Wj2ZiX6YZDnAQ9wzR9+95zPVpemJfBXysJrgud1V9Pc0vJR7Zhq+vATfR9Ii/huZbmG/S7JNTaa5o8V6a3rUHANsDc6vqX3o2+7C2lrGe6MfQjOem43ZuAU5KcjjNV+KH04w7vmgV+6jfB2l6KE9tH3MDmmE6P6XZn71eAvzTWNiehL1oehc/1PP3BaDt5X8bTU/1PYJwNT9C9GTg1qr6c/8Hwqq6JMkngOPabyiW0nwD9GjgUVX1yp7mK2j20zvbNu+lGX/cf9WVTs+tqr6X5jJuRyT566q6hdV/X1kM/DPN1S/GrtDzTppvtj45mXrGk2QPmg8yj52g2UE0r5tX03Rm/IxmOMwH2g+mGwL/RvMtyeq6FvhskrfTHLv/RvP6XtwuH/tg9JkkR9L8Ld/CykN5tDabqjMU1/SNplfigvb+BjQvgnN7bhe3yw6kPeud5qSRi4B1Rl2/t0n/nQ/hnlcx+BPNr+m9F9iwbbMZzZjK99L8x967/qCrcxTwtL5jqfds+MfT9D78Xd+2itW/OscNwMY98xbRcyWMdt5GND00V7XPcznNCYK7TLB/dm23vxtNT/TN7XqvG9B2Z5qA9Qea8YQX0QSWjXprAj7bt94SVu/qHBPu50H7tJ3X+eocNB8Srmqf13eArQZte8B6Nc7tjp42r6cJ0L+i+WC1jCZk/tVEx0fP/P3aZY9vpxf3PdYt7d/iYCa4IkHfNvcBvt8eV3+iGUf6fuChPW3uSxMMLm/b/Kb9++/ZdwyP1XF7O/1uYM5qbOcDNK/X37Z/h2OBBw44Xia8Okc777E0IeZmmtDyeeAhA46lK3r3Wfv4yybYb18HLp1g+cfax7svd78eNhjQbtDrPDTj4C+k6TFdQfOhdr+eNktoPsS+Bvhl+7c/Bdi863Nj8HvIg9q/z/vuzftKu95f0Fx670aaD2rfoOcqH31tFzOJq3PQfGj4Oc0QlQnXp+kYuR7YtJ3eiaa3/haa/wMWtest7dtHk706x1KaDodL27/Xj1j52HxJW+8tNOdY7MyA931va+9txv5iYTuc4xtVtW2SBwCXVNWgEzMupLl00Nh1M6+g+c9sdb4yl6aVND/I8H3gr6vnK3JpTUrzIyBfqqq3jLqW6SzND4pcW1XPG3Uta7MM+NVQaXXMikvcVXMppCuTPB/u+uWm7drFv6S5/BBJtqb5JLzSSTuSJEnSZM3IEN2edPC/wF+m+YnfV9CM43xFkvNovk4bGw/6ZuBV7fxjaX70YmZ2v0uSJGlamLHDOSRJkqRRmZE90ZIkSdIozbhL3G2yySa1YMGCUZchSZKkWe7ss8++tqrmDVo240L0ggULWLp0wl/olSRJku61JL8Yb5nDOSRJkqSODNGSJElSR4ZoSZIkqaMZNyZakiRJg91+++0sX76cW2+9ddSlzChz585l/vz5rLfeepNexxAtSZI0SyxfvpwNN9yQBQsWkGTU5cwIVcV1113H8uXL2XLLLSe9nsM5JEmSZolbb72VjTfe2ADdQRI23njjzr33hmhJkqRZxADd3ersM0O0JEmS1JFjoiVJkmapBQefNKXbW/aePad0ezOZPdGSJEmasZYtW8a22267xh/XEC1JkiR1ZIiWJEnSlFm2bBlbb701r3rVq3j0ox/NM57xDG655RY+9alPsdNOO7Hddtuxzz77cPPNN4+7jeOPP55tt92W7bbbjic96Ul3bfeJT3wiO+ywAzvssAOnn376SuvdeeedHHTQQey000485jGP4ZOf/CQAv/71r3nSk57E9ttvz7bbbssPf/jDe/08DdGSJEmaUpdddhmvf/3rufDCC3ngAx/Il7/8Zfbee2/OOusszjvvPLbeemuOPPLIcdc/9NBDOfXUUznvvPM48cQTAdh000359re/zTnnnMMXvvAF3vjGN6603pFHHslGG23EWWedxVlnncWnPvUprrzySj7/+c+z2267ce6553Leeeex/fbb3+vn6ImFkiRJmlJbbrnlXUF1xx13ZNmyZVxwwQW8/e1v5/e//z033XQTu+2227jr77LLLixatIgXvOAF7L333kDza4wHHHAA5557LnPmzOHSSy9dab1vfetbnH/++XzpS18C4IYbbuCyyy5jp5124uUvfzm33347z3nOcwzRozTVZ7vOZJ6pK0mSet33vve96/6cOXO45ZZbWLRoESeccALbbbcdixcvZsmSJeOu/4lPfIIzzzyTk046iR133JGzzz6bD3/4wzzkIQ/hvPPO489//jNz585dab2q4sMf/vDAgH7aaadx0kknsWjRIg488ED222+/e/UcDdGSJEmz1HTq6Lrxxht52MMexu23387nPvc5Nttss3Hb/vznP2fnnXdm55135pRTTuGqq67ihhtuYP78+ayzzjocffTR3HnnnSutt9tuu/Hxj3+cpzzlKay33npceumlbLbZZlx77bXMnz+fV73qVdx2222cc845hmhJkiRNf4cddhg777wz8+bNY+edd+bGG28ct+1BBx3EZZddRlXx1Kc+le22247Xve517LPPPhxzzDHsvvvu3P/+919pvVe+8pUsW7aMHXbYgapi3rx5nHDCCSxZsoTDDz+c9dZbjw022IBjjjnmXj+fVNW93siatHDhwlq6dOmoy3A4R4/p9ClXkqS12cUXX8zWW2896jJmpEH7LsnZVbVwUHuvziFJkiR15HAOSZIkjcS73vUujj/++HvMe/7zn8/b3va2EVU0eYZoSZKkWaSqSDLqMiblbW9727QIzKszvHlowzmSHJXkmiQXTNBm1yTnJrkwyQ+GVYskSdLaYO7cuVx33XWrFQrXVlXFddddN/CSeRMZZk/0YuAjwMDTH5M8EPgYsHtV/TLJpkOsRZIkadabP38+y5cvZ8WKFaMuZUaZO3cu8+fP77TO0EJ0VZ2WZMEETf4P8JWq+mXb/pph1SJJkrQ2WG+99dhyyy1HXcZaYZRX53gU8KAkS5KcnWTcK14n2T/J0iRL/WQlSZKkURtliF4X2BHYE9gN+NckjxrUsKqOqKqFVbVw3rx5a7JGSZIkaSWjvDrHcuC6qvoj8MckpwHbAZeOsCZJkiRplUbZE/014AlJ1k1yP2Bn4OIR1iNJkiRNytB6opMcC+wKbJJkOfBOYD2AqvpEVV2c5JvA+cCfgU9X1biXw5MkSZKmi2FenWPfSbQ5HDh8WDVIkiRJwzDK4RySJEnSjGSIliRJkjoyREuSJEkdGaIlSZKkjgzRkiRJUkeGaEmSJKkjQ7QkSZLUkSFakiRJ6sgQLUmSJHVkiJYkSZI6MkRLkiRJHRmiJUmSpI4M0ZIkSVJHhmhJkiSpI0O0JEmS1JEhWpIkSerIEC1JkiR1ZIiWJEmSOjJES5IkSR0ZoiVJkqSODNGSJElSR4ZoSZIkqSNDtCRJktSRIVqSJEnqyBAtSZIkdWSIliRJkjoyREuSJEkdGaIlSZKkjoYWopMcleSaJBesot1OSe5I8rxh1SJJkiRNpWH2RC8Gdp+oQZI5wHuBbw2xDkmSJGlKDS1EV9VpwPWraPYG4MvANcOqQ5IkSZpqIxsTnWQz4LnAxyfRdv8kS5MsXbFixfCLkyRJkiYwyhML/xP456r686oaVtURVbWwqhbOmzdv+JVJkiRJE1h3hI+9EDguCcAmwDOT3FFVJ4ywJkmSJGmVRhaiq2rLsftJFgPfMEBLkiRpJhhaiE5yLLArsEmS5cA7gfUAquoTw3pcSZIkadiGFqKrat8ObRcNqw5JkiRpqvmLhZIkSVJHhmhJkiSpI0O0JEmS1JEhWpIkSerIEC1JkiR1ZIiWJEmSOjJES5IkSR0ZoiVJkqSODNGSJElSR4ZoSZIkqSNDtCRJktSRIVqSJEnqyBAtSZIkdWSIliRJkjoyREuSJEkdGaIlSZKkjgzRkiRJUkeGaEmSJKkjQ7QkSZLUkSFakiRJ6sgQLUmSJHVkiJYkSZI6MkRLkiRJHRmiJUmSpI4M0ZIkSVJHhmhJkiSpI0O0JEmS1JEhWpIkSerIEC1JkiR1NLQQneSoJNckuWCc5S9Ocn6SnyY5Pcl2w6pFkiRJmkrD7IleDOw+wfIrgSdX1V8DhwFHDLEWSZIkacqsO6wNV9VpSRZMsPz0nskzgPnDqkWSJEmaStNlTPQrgFPGW5hk/yRLkyxdsWLFGixLkiRJWtnIQ3SSv6MJ0f88XpuqOqKqFlbVwnnz5q254iRJkqQBhjacYzKSPAb4NLBHVV03ylokSZKkyRpZT3SSLYCvAC+pqktHVYckSZLU1dB6opMcC+wKbJJkOfBOYD2AqvoE8A5gY+BjSQDuqKqFw6pHkiRJmirDvDrHvqtY/krglcN6fEmSJGlYRn5ioSRJkjTTGKIlSZKkjgzRkiRJUkeGaEmSJKkjQ7QkSZLUkSFakiRJ6sgQLUmSJHVkiJYkSZI6MkRLkiRJHRmiJUmSpI4M0ZIkSVJHhmhJkiSpI0O0JEmS1JEhWpIkSerIEC1JkiR1ZIiWJEmSOjJES5IkSR0ZoiVJkqSODNGSJElSR4ZoSZIkqSNDtCRJktSRIVqSJEnqyBAtSZIkdWSIliRJkjoyREuSJEkdGaIlSZKkjgzRkiRJUkeGaEmSJKmjoYXoJEcluSbJBeMsT5L/SnJ5kvOT7DCsWiRJkqSpNMye6MXA7hMs3wPYqr3tD3x8iLVIkiRJU2ZoIbqqTgOun6DJXsAx1TgDeGCShw2rHkmSJGmqjHJM9GbAVT3Ty9t5K0myf5KlSZauWLFijRQnSZIkjWdGnFhYVUdU1cKqWjhv3rxRlyNJkqS13ChD9NXA5j3T89t5kiRJ0rQ2yhB9IrBfe5WOxwM3VNWvR1iPJEmSNCnrTqZRkr0Hza+qr0ywzrHArsAmSZYD7wTWa9f7BHAy8EzgcuBm4GVdCpckSZJGZVIhGvgCcBFwNpB2XgHjhuiq2neiDVZVAa+f5ONLkiRJ08ZkQ/S2wGHABsC/VtUlwytJkiRJmt4mFaLb0PyCJDsCH0zyK+CQqvJEQEmSJK11Jjsm+sM0wzcArgCeDFwG3G9IdUmSJEnT1mSHcyxdxbQkSZK01pjscI6j++clecTUlyNJkiRNf5O6TnSSLyeZ296/T5JDgOOGWZgkSZI0XU32x1a+AHwnyb7Aj4GbgL8ZWlWSJEnSNDbZ4RxfTLIMOAF4bVV9bZhFSZIkSdPZZK/O8XWaq3P8Bvhsku8DVNWzh1ibJEmSNC1N9uoc72//PRhYDnxgOOVIkiRJ099kQ/SPgE8Djwb+Gzijqm4bWlWSJEnSNDbZEwtPBc4AtgSuBc5M8syhVSVJkiRNY5MN0e+tqk9U1Z1V9R/AM4GXDrEuSZIkadqa7NU5vtU3/SvghUOpSJIkSZrmJnt1jq2AdwPbAHPH5lfVXwypLmlGWnDwSaMuYdpY9p49R12CJElDM9nhHJ8BPg7cAfwdcAzw2WEVJUmSJE1nkw3R61fVd4FU1S+q6hDAbiZJkiStlSZ7ibvbkqwDXJbkAOBqYIPhlSVJkiRNX5Ptif5H4H7AG4EdgZfg1TkkSZK0lprs1TnOau/eBLwMIMlDk2wBrKiqW4ZUnyRJkjTtTPbqHAcOmP0m4FiaEwzPn8qiJEmSpOlsssM5DgI27LvNqaq3VpUBWpIkSWuVyZ5Y+Ouq+rfeGUmeM/XlSJIkSdPfZEP0w5N8GrgeWA6cBNTQqpIkSZKmscmG6P2BOTSXtdsS+DLNrxdKkiRJa53JXp3jy73TSQ4DPpvke8ChVbVkCLVJkiRJ09Jke6JJch/gUe3kJVX1guGUJEmSJE1vk73E3a7A0cAyIMDmSV5aVacNrTJJkiRpmppsT/QHgGdU1SUASR5Fc43oHYdVmCRJkjRdTfY60euNBWiAqroUWG9VKyXZPcklSS5PcvCA5Vsk+X6SnyQ5P8kzJ1+6JEmSNBqT7Yle2l7i7rPt9IuBpROtkGQO8FHg6TSXxTsryYlVdVFPs7cDX6yqjyfZBjgZWNChfkmSJGmNm2xP9GuBi4A3treL2nkTeRxweVVdUVV/Ao4D9uprU8AD2vsbAb+aZD2SJEnSyEz2Ene3JfkI8F3gzzRX5/jTKlbbDLiqZ3o5sHNfm0OAbyV5A3B/4GmDNpRkf5prVbPFFltMpmRJkiRpaCbVE51kT+DnwIeAjwCXJ9ljCh5/X2BxVc0Hngn8d5KVaqqqI6pqYVUtnDdv3hQ8rCRJkrT6ulyd4++q6nKAJI+g+envUyZY52pg857p+e28Xq8Adgeoqv9NMhfYBLhmknVJ0rS34OCTRl3CtLDsPXuOugRJmjKTHRN941iAbl0B3LiKdc4CtkqyZftDLS8CTuxr80vgqQBJtgbmAismWZMkSZI0El2uznEy8EWakwGfT3O1jb0Bquor/StU1R1JDgBOBeYAR1XVhUkOBZZW1YnAm4FPJXlTu91FVVX3+llJkiRJQzTZED0X+C3w5HZ6BbA+8Pc04XelEA1QVSfTXLaud947eu5fBOzSrWRJkiRptCZ7dY6XDbsQSZIkaaaYMEQn+a+JllfVG6e2HEmSJGn6W1VP9F7AO1bRRpIkSVqrrCpEX19VR6+RSiRJkqQZYlWXuPNKGZIkSVKfyV4nWpIkSVJrVcM5tkvyhwHzA1RVPWAINUmSJEnT2oQhuqrmrKlCJEmSpJnC4RySJElSR4ZoSZIkqSNDtCRJktSRIVqSJEnqyBAtSZIkdWSIliRJkjoyREuSJEkdGaIlSZKkjgzRkiRJUkeGaEmSJKkjQ7QkSZLUkSFakiRJ6sgQLUmSJHVkiJYkSZI6MkRLkiRJHRmiJUmSpI4M0ZIkSVJHhmhJkiSpI0O0JEmS1JEhWpIkSerIEC1JkiR1NNQQnWT3JJckuTzJweO0eUGSi5JcmOTzw6xHkiRJmgrrDmvDSeYAHwWeDiwHzkpyYlVd1NNmK+BfgF2q6ndJNh1WPZIkSdJUGWZP9OOAy6vqiqr6E3AcsFdfm1cBH62q3wFU1TVDrEeSJEmaEsMM0ZsBV/VML2/n9XoU8KgkP0pyRpLdB20oyf5JliZZumLFiiGVK0mSJE3OqE8sXBfYCtgV2Bf4VJIH9jeqqiOqamFVLZw3b96arVCSJEnqM8wQfTWwec/0/HZer+XAiVV1e1VdCVxKE6olSZKkaWuYIfosYKskWya5D/Ai4MS+NifQ9EKTZBOa4R1XDLEmSZIk6V4bWoiuqjuAA4BTgYuBL1bVhUkOTfLsttmpwHVJLgK+DxxUVdcNqyZJkiRpKgztEncAVXUycHLfvHf03C/gwPYmSZIkzQijPrFQkiRJmnEM0ZIkSVJHhmhJkiSpI0O0JEmS1NFQTyyUJEkrW3DwSaMuYdpY9p49R12CtFrsiZYkSZI6MkRLkiRJHRmiJUmSpI4M0ZIkSVJHhmhJkiSpI0O0JEmS1JEhWpIkSerIEC1JkiR15I+tSJIkTQP+CM/dZsKP8NgTLUmSJHVkiJYkSZI6MkRLkiRJHRmiJUmSpI4M0ZIkSVJHhmhJkiSpI0O0JEmS1JEhWpIkSerIEC1JkiR1ZIiWJEmSOjJES5IkSR0ZoiVJkqSODNGSJElSR4ZoSZIkqaOhhugkuye5JMnlSQ6eoN0+SSrJwmHWI0mSJE2FoYXoJHOAjwJ7ANsA+ybZZkC7DYF/BM4cVi2SJEnSVBpmT/TjgMur6oqq+hNwHLDXgHaHAe8Fbh1iLZIkSdKUGWaI3gy4qmd6eTvvLkl2ADavqpMm2lCS/ZMsTbJ0xYoVU1+pJEmS1MHITixMsg7wQeDNq2pbVUdU1cKqWjhv3rzhFydJkiRNYJgh+mpg857p+e28MRsC2wJLkiwDHg+c6MmFkiRJmu6GGaLPArZKsmWS+wAvAk4cW1hVN1TVJlW1oKoWAGcAz66qpUOsSZIkSbrXhhaiq+oO4ADgVOBi4ItVdWGSQ5M8e1iPK0mSJA3busPceFWdDJzcN+8d47TddZi1SJIkSVPFXyyUJEmSOjJES5IkSR0ZoiVJkqSODNGSJElSR4ZoSZIkqSNDtCRJktSRIVqSJEnqyBAtSZIkdWSIliRJkjoyREuSJEkdGaIlSZKkjgzRkiRJUkeGaEmSJKkjQ7QkSZLUkSFakiRJ6sgQLUmSJHVkiJYkSZI6MkRLkiRJHRmiJUmSpI4M0ZIkSVJHhmhJkiSpI0O0JEmS1JEhWpIkSerIEC1JkiR1ZIiWJEmSOjJES5IkSR0ZoiVJkqSODNGSJElSR4ZoSZIkqaOhhugkuye5JMnlSQ4esPzAJBclOT/Jd5M8fJj1SJIkSVNhaCE6yRzgo8AewDbAvkm26Wv2E2BhVT0G+BLwvmHVI0mSJE2VYfZEPw64vKquqKo/AccBe/U2qKrvV9XN7eQZwPwh1iNJkiRNiWGG6M2Aq3qml7fzxvMK4JRBC5Lsn2RpkqUrVqyYwhIlSZKk7qbFiYVJ/gFYCBw+aHlVHVFVC6tq4bx589ZscZIkSVKfdYe47auBzXum57fz7iHJ04C3AU+uqtuGWI8kSZI0JYbZE30WsFWSLZPcB3gRcGJvgySPBT4JPLuqrhliLZIkSdKUGVqIrqo7gAOAU4GLgS9W1YVJDk3y7LbZ4cAGwPFJzk1y4jibkyRJkqaNYQ7noKpOBk7um/eOnvtPG+bjS5IkScMwLU4slCRJkmYSQ7QkSZLUkSFakiRJ6sgQLUmSJHVkiJYkSZI6MkRLkiRJHRmiJUmSpI4M0ZIkSVJHhmhJkiSpI0O0JEmS1JEhWpIkSerIEC1JkiR1ZIiWJEmSOjJES5IkSR0ZoiVJkqSODNGSJElSR4ZoSZIkqSNDtCRJktSRIVqSJEnqyBAtSZIkdWSIliRJkjoyREuSJEkdGaIlSZKkjgzRkiRJUkeGaEmSJKkjQ7QkSZLUkSFakiRJ6sgQLUmSJHU01BCdZPcklyS5PMnBA5bfN8kX2uVnJlkwzHokSZKkqTC0EJ1kDvBRYA9gG2DfJNv0NXsF8LuqeiTwH8B7h1WPJEmSNFWG2RP9OODyqrqiqv4EHAfs1ddmL+Do9v6XgKcmyRBrkiRJku61VNVwNpw8D9i9ql7ZTr8E2LmqDuhpc0HbZnk7/fO2zbV929of2L+d/EvgkqEUPfNsAly7ylZa23hcaBCPCw3icaFBPC7u9vCqmjdowbprupLVUVVHAEeMuo7pJsnSqlo46jo0vXhcaBCPCw3icaFBPC4mZ5jDOa4GNu+Znt/OG9gmybrARsB1Q6xJkiRJuteGGaLPArZKsmWS+wAvAk7sa3Mi8NL2/vOA79WwxpdIkiRJU2Rowzmq6o4kBwCnAnOAo6rqwiSHAkur6kTgSOC/k1wOXE8TtDV5DnHRIB4XGsTjQoN4XGgQj4tJGNqJhZIkSdJs5S8WSpIkSR0ZoiVJktZC7UUdtJoM0ZIkSWunH4+6gJnMEC1JkrR28lei7wW78SVJktZO85IcON7CqvrgmixmpjFEzxBJ+q+xfQ9V9ew1VYumnyT3BfYBFtDzuq6qQ0dVk0YnyVur6n3t/edX1fE9y/69qv7v6KrTdJHk0VV14ajr0EjNATbAHunV4iXuZogkK4CrgGOBM+k74KvqB6OoS9NDkm8CNwBnA3eOza+qD4ysKI1MknOqaof++4OmtfbyWJDHwL1jT/TM8VDg6cC+wP8BTgKOtRdBrflVtfuoi9C0kXHuD5rW2stjQR4D94IheoaoqjuBbwLfbL+63xdYkuTfquojo61O08DpSf66qn466kI0LdQ49wdNay2S5J00x0CAhyR5x9gyh3+tlZ466gJmMkP0DNKG5z1pAvQC4L+Ar46yJk0bTwAWJbkSuI3mP8iqqseMtiyNyHZJ/kBzHKzf3qednju6sjQNLOu5fzvwixHVoWmgqq4fdQ0zmWOiZ4gkxwDbAicDx1XVBSMuSdNIkocPml9V/gcpaSDHw0r3jiF6hkjyZ+CP7WTvH22sx/EBa74qTRdJDgNOA06vqj+uqr0kJflJVT121HVIM5UhWpoFkrwMeCLwN8CNwA+B06rqayMtTNK0leTBfp0vrT5DtDSLJHko8ALgLcCDqmrDEZckaZpJ8hBgs3by6qr67SjrkWYqQ7Q0CyT5NLAN8FuaXuj/Ac6pqjtGWpikaSPJ9sAngI2Aq9vZ84HfA6+rqnNGU5k0M3l1Dml22Jjml6d+D1wPXGuAltRnMfDqqjqzd2aSxwOfAbYbRVHSTGVPtDSLJNka2A14EzCnquaPuCRJ00SSy6pqq3GWXV5Vj1zTNUkzmT3R0iyQ5Fk0JxY+CXgg8D2aYR2SNOaUJCcBxwBXtfM2B/aj+TEvSR3YEy3NAkk+QhOaf1hVvxp1PZKmpyR7AHvRc2IhcGJVnTy6qqSZyRAtzRLtGfc7tZM/rqprRlmPJEmz2TqjLkDSvZfk+cCPgefTXOLuzCTPG21VkmaKJEeMugZpprEnWpoFkpwHPH2s9znJPOA7VeXZ9pKA5sdVxlsEnOeJyFI3nlgozQ7r9A3fuA6/aZJ0TyuAX9CE5jHVTm86koqkGcwQLc0O30xyKnBsO/1CwBOFJPW6AnhqVf2yf0GSqwa0lzQBQ7Q0C1TVQUn2AXZpZx1RVV8dZU2Spp3/BB4ErBSigfet2VKkmc8x0ZIkSVJHjpmUZoEkeye5LMkNSf6Q5MYkfxh1XZKmjyRv7bn//L5l/77mK5JmNnuipVkgyeXA31fVxaOuRdL0lOScqtqh//6gaUmrZk+0NDv81gAtaRUyzv1B05JWwRMLpdlhaZIvACcAt43NrKqvjKwiSdNNjXN/0LSkVXA4hzQLJPnMgNlVVS9f48VImpaS3An8kabXeX3g5rFFwNyqWm9UtUkzkSFamgWSPLiqru+bt2VVXTmqmiRJms0cEy3NDl9P8oCxiSRbA18fYT2SJM1qhmhpdvh3miC9QZIdgS8B/zDimiRJmrU8sVCaBarqpCTrAd8CNgSeW1WXjrgsSZJmLcdESzNYkg9zz7Pqnwr8HFgGUFVvHEFZkiTNevZESzPb0r7ps0dShSRJaxl7oiVJkqSO7ImWZoEkuwCHAA+neV2H5jrRfzHKuiRJmq3siZZmgSQ/A95EM5zjzrH5VXXdyIqSJGkWsydamh1uqKpTRl2EJElrC3uipVkgyXuAOcBXgNvG5lfVOSMrSpKkWcwQLc0CSb7f3h17QY+NiX7KiEqSJGlWcziHNDssGTDPT8iSJA2JIVqaHW7quT8XeBZw8YhqkSRp1nM4hzQLJbkvcGpV7TrqWiRJmo3WGXUBkobifsD8URchSdJs5XAOaRZI8lPuHgM9B5gHHDq6iiRJmt0cziHNAkke3jN5B/DbqrpjVPVIkjTbGaIlSZKkjhwTLUmSJHVkiJYkSZI6MkRL0gyU5M4k5/bcDm7nPyvJT5Kcl+SiJK9u5x+S5Oq27UVJ9u3Z1uIkV7bLfpbknaN6XpI0UzgmWpJmoCQ3VdUGffPWA34BPK6qlrfXC19QVZckOQS4qaren2Qr4Gxg46q6Pcli4BtV9aUkc4GLgKdW1ZVr9ElJ0gxiT7QkzR4b0ly69DqAqrqtqi7pb1RVlwE3Aw8asI257b9/HFaRkjQbGKIlaWZav284xwur6nrgROAXSY5N8uIkK73PJ9kBuKyqrumZfXiSc4HlwHF9yyRJffyxFUmamW6pqu37Z1bVK5P8NfA04C3A04FF7eI3JXkZ8Cjg7/tWPagdzrEB8N0kf1tVpw+tekma4eyJlqRZpqp+WlX/QROg9+lZ9B9V9eh23pHt+Of+dW8ClgBPWBO1StJMZYiWpFkiyQZJdu2ZtT3NiYb3UFUnAkuBlw7YxrrAzsDPh1KkJM0ShmhJmpn6x0S/Bwjw1iSXtOOb/427h3L0OxQ4sGfM9NiY6POBnwJfGWr1kjTDeYk7SZIkqSN7oiVJkqSODNGSJElSR4ZoSZIkqSNDtCRJktSRIVqSJEnqyBAtSZIkdWSIliRJkjr6f6wGELIse/sxAAAAAElFTkSuQmCC\n",
            "text/plain": [
              "<Figure size 864x432 with 1 Axes>"
            ]
          },
          "metadata": {
            "needs_background": "light"
          },
          "output_type": "display_data"
        }
      ],
      "source": [
        "genre_sales = actual_platform.pivot_table(index=('rating'), values='na_sales', aggfunc='sum').sort_values(by='na_sales',ascending=False)\\\n",
        ".plot(kind = 'bar',figsize=(12,6))\n",
        "plt.title('Влияние рейтинга ESRB Северной Америке от жанра', fontsize=15)\n",
        "plt.xlabel('ESRB')\n",
        "plt.ylabel('Продажи')\n"
      ]
    },
    {
      "cell_type": "code",
      "execution_count": null,
      "metadata": {
        "colab": {
          "base_uri": "https://localhost:8080/",
          "height": 238
        },
        "id": "vYopg-3sUdGe",
        "outputId": "4d9e6461-38e8-4c79-9c29-4a59442c129b"
      },
      "outputs": [
        {
          "data": {
            "text/html": [
              "<div>\n",
              "<style scoped>\n",
              "    .dataframe tbody tr th:only-of-type {\n",
              "        vertical-align: middle;\n",
              "    }\n",
              "\n",
              "    .dataframe tbody tr th {\n",
              "        vertical-align: top;\n",
              "    }\n",
              "\n",
              "    .dataframe thead th {\n",
              "        text-align: right;\n",
              "    }\n",
              "</style>\n",
              "<table border=\"1\" class=\"dataframe\">\n",
              "  <thead>\n",
              "    <tr style=\"text-align: right;\">\n",
              "      <th></th>\n",
              "      <th>na_sales</th>\n",
              "    </tr>\n",
              "    <tr>\n",
              "      <th>platform</th>\n",
              "      <th></th>\n",
              "    </tr>\n",
              "  </thead>\n",
              "  <tbody>\n",
              "    <tr>\n",
              "      <th>ps4</th>\n",
              "      <td>108739999</td>\n",
              "    </tr>\n",
              "    <tr>\n",
              "      <th>xone</th>\n",
              "      <td>93120000</td>\n",
              "    </tr>\n",
              "    <tr>\n",
              "      <th>x360</th>\n",
              "      <td>81660000</td>\n",
              "    </tr>\n",
              "    <tr>\n",
              "      <th>ps3</th>\n",
              "      <td>63499998</td>\n",
              "    </tr>\n",
              "    <tr>\n",
              "      <th>3ds</th>\n",
              "      <td>38200000</td>\n",
              "    </tr>\n",
              "  </tbody>\n",
              "</table>\n",
              "</div>"
            ],
            "text/plain": [
              "           na_sales\n",
              "platform           \n",
              "ps4       108739999\n",
              "xone       93120000\n",
              "x360       81660000\n",
              "ps3        63499998\n",
              "3ds        38200000"
            ]
          },
          "execution_count": 56,
          "metadata": {},
          "output_type": "execute_result"
        }
      ],
      "source": [
        "platform_na = actual_platform.pivot_table(index = 'platform', values = 'na_sales', aggfunc = 'sum').sort_values(by='na_sales',ascending=False)\n",
        "platform_na.head()"
      ]
    },
    {
      "cell_type": "markdown",
      "metadata": {
        "id": "9ICLxi7MUdGf"
      },
      "source": [
        "* Самые популярные в Северной Америке жанры action\t= 126049999 продаж, shooter = 109739999,sports = 65270000, role-playing = 23080000, misc =\t27489999\n",
        "* Самые популярные в Северной Америке платформы: ps4, xone, x360, ps3, wiiu\t\n",
        "* Самый продаваемый рейтинг: M\n"
      ]
    },
    {
      "cell_type": "markdown",
      "metadata": {
        "id": "USNze0DuUdGf"
      },
      "source": [
        "# Европа"
      ]
    },
    {
      "cell_type": "code",
      "execution_count": null,
      "metadata": {
        "colab": {
          "base_uri": "https://localhost:8080/",
          "height": 472
        },
        "id": "BkR0CvtBUdGf",
        "outputId": "dba830a7-5eba-4a3b-adf4-6ba46801b6ee"
      },
      "outputs": [
        {
          "data": {
            "text/plain": [
              "Text(0, 0.5, 'Продажи')"
            ]
          },
          "execution_count": 57,
          "metadata": {},
          "output_type": "execute_result"
        },
        {
          "data": {
            "image/png": "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\n",
            "text/plain": [
              "<Figure size 864x432 with 1 Axes>"
            ]
          },
          "metadata": {
            "needs_background": "light"
          },
          "output_type": "display_data"
        }
      ],
      "source": [
        "genre_sales =  actual_platform.pivot_table(index=('genre'), values='eu_sales', aggfunc='sum').sort_values(by='eu_sales',ascending=False)\\\n",
        ".plot(kind = 'bar',figsize=(12,6))\n",
        "plt.title('Продаваемость в Европе от жанра', fontsize=15)\n",
        "plt.xlabel('Жанр')\n",
        "plt.ylabel('Продажи')"
      ]
    },
    {
      "cell_type": "code",
      "execution_count": null,
      "metadata": {
        "colab": {
          "base_uri": "https://localhost:8080/",
          "height": 457
        },
        "id": "V6K8-5wzUdGf",
        "outputId": "e4874fbb-a64d-4767-e1b9-ab7ca37383eb"
      },
      "outputs": [
        {
          "data": {
            "text/html": [
              "<div>\n",
              "<style scoped>\n",
              "    .dataframe tbody tr th:only-of-type {\n",
              "        vertical-align: middle;\n",
              "    }\n",
              "\n",
              "    .dataframe tbody tr th {\n",
              "        vertical-align: top;\n",
              "    }\n",
              "\n",
              "    .dataframe thead th {\n",
              "        text-align: right;\n",
              "    }\n",
              "</style>\n",
              "<table border=\"1\" class=\"dataframe\">\n",
              "  <thead>\n",
              "    <tr style=\"text-align: right;\">\n",
              "      <th></th>\n",
              "      <th>eu_sales</th>\n",
              "    </tr>\n",
              "    <tr>\n",
              "      <th>genre</th>\n",
              "      <th></th>\n",
              "    </tr>\n",
              "  </thead>\n",
              "  <tbody>\n",
              "    <tr>\n",
              "      <th>action</th>\n",
              "      <td>118129999</td>\n",
              "    </tr>\n",
              "    <tr>\n",
              "      <th>shooter</th>\n",
              "      <td>87859999</td>\n",
              "    </tr>\n",
              "    <tr>\n",
              "      <th>sports</th>\n",
              "      <td>60519999</td>\n",
              "    </tr>\n",
              "    <tr>\n",
              "      <th>role-playing</th>\n",
              "      <td>36970000</td>\n",
              "    </tr>\n",
              "    <tr>\n",
              "      <th>racing</th>\n",
              "      <td>20190000</td>\n",
              "    </tr>\n",
              "    <tr>\n",
              "      <th>misc</th>\n",
              "      <td>20040000</td>\n",
              "    </tr>\n",
              "    <tr>\n",
              "      <th>platform</th>\n",
              "      <td>15580000</td>\n",
              "    </tr>\n",
              "    <tr>\n",
              "      <th>simulation</th>\n",
              "      <td>10920000</td>\n",
              "    </tr>\n",
              "    <tr>\n",
              "      <th>fighting</th>\n",
              "      <td>8550000</td>\n",
              "    </tr>\n",
              "    <tr>\n",
              "      <th>adventure</th>\n",
              "      <td>8250000</td>\n",
              "    </tr>\n",
              "    <tr>\n",
              "      <th>strategy</th>\n",
              "      <td>4220000</td>\n",
              "    </tr>\n",
              "    <tr>\n",
              "      <th>puzzle</th>\n",
              "      <td>1000000</td>\n",
              "    </tr>\n",
              "  </tbody>\n",
              "</table>\n",
              "</div>"
            ],
            "text/plain": [
              "               eu_sales\n",
              "genre                  \n",
              "action        118129999\n",
              "shooter        87859999\n",
              "sports         60519999\n",
              "role-playing   36970000\n",
              "racing         20190000\n",
              "misc           20040000\n",
              "platform       15580000\n",
              "simulation     10920000\n",
              "fighting        8550000\n",
              "adventure       8250000\n",
              "strategy        4220000\n",
              "puzzle          1000000"
            ]
          },
          "execution_count": 58,
          "metadata": {},
          "output_type": "execute_result"
        }
      ],
      "source": [
        "genre_sales =  actual_platform.pivot_table(index=('genre'), values='eu_sales', aggfunc='sum').sort_values(by='eu_sales',ascending=False)\n",
        "genre_sales.head(12)"
      ]
    },
    {
      "cell_type": "code",
      "execution_count": null,
      "metadata": {
        "colab": {
          "base_uri": "https://localhost:8080/",
          "height": 458
        },
        "id": "5eNLe3oLUdGf",
        "outputId": "b241c670-fb56-428d-f48e-f9355ada1a51"
      },
      "outputs": [
        {
          "data": {
            "text/plain": [
              "Text(0, 0.5, 'Продажи')"
            ]
          },
          "execution_count": 59,
          "metadata": {},
          "output_type": "execute_result"
        },
        {
          "data": {
            "image/png": "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\n",
            "text/plain": [
              "<Figure size 864x432 with 1 Axes>"
            ]
          },
          "metadata": {
            "needs_background": "light"
          },
          "output_type": "display_data"
        }
      ],
      "source": [
        "genre_sales =  actual_platform.pivot_table(index=('rating'), values='eu_sales', aggfunc='sum').sort_values(by='eu_sales',ascending=False)\\\n",
        ".plot(kind = 'bar',figsize=(12,6))\n",
        "plt.title('Влияние рейтинга ESRB в Европе', fontsize=15)\n",
        "plt.xlabel('ESRB')\n",
        "plt.ylabel('Продажи')\n"
      ]
    },
    {
      "cell_type": "code",
      "execution_count": null,
      "metadata": {
        "colab": {
          "base_uri": "https://localhost:8080/",
          "height": 426
        },
        "id": "Fh5G-0YFUdGf",
        "outputId": "962972f9-85b8-4abe-bb89-1db396698f2c"
      },
      "outputs": [
        {
          "data": {
            "text/html": [
              "<div>\n",
              "<style scoped>\n",
              "    .dataframe tbody tr th:only-of-type {\n",
              "        vertical-align: middle;\n",
              "    }\n",
              "\n",
              "    .dataframe tbody tr th {\n",
              "        vertical-align: top;\n",
              "    }\n",
              "\n",
              "    .dataframe thead th {\n",
              "        text-align: right;\n",
              "    }\n",
              "</style>\n",
              "<table border=\"1\" class=\"dataframe\">\n",
              "  <thead>\n",
              "    <tr style=\"text-align: right;\">\n",
              "      <th></th>\n",
              "      <th>eu_sales</th>\n",
              "    </tr>\n",
              "    <tr>\n",
              "      <th>platform</th>\n",
              "      <th></th>\n",
              "    </tr>\n",
              "  </thead>\n",
              "  <tbody>\n",
              "    <tr>\n",
              "      <th>ps4</th>\n",
              "      <td>141089998</td>\n",
              "    </tr>\n",
              "    <tr>\n",
              "      <th>ps3</th>\n",
              "      <td>67810000</td>\n",
              "    </tr>\n",
              "    <tr>\n",
              "      <th>xone</th>\n",
              "      <td>51589999</td>\n",
              "    </tr>\n",
              "    <tr>\n",
              "      <th>x360</th>\n",
              "      <td>42520000</td>\n",
              "    </tr>\n",
              "    <tr>\n",
              "      <th>3ds</th>\n",
              "      <td>30960000</td>\n",
              "    </tr>\n",
              "    <tr>\n",
              "      <th>pc</th>\n",
              "      <td>25360000</td>\n",
              "    </tr>\n",
              "    <tr>\n",
              "      <th>wiiu</th>\n",
              "      <td>19850000</td>\n",
              "    </tr>\n",
              "    <tr>\n",
              "      <th>psv</th>\n",
              "      <td>6100000</td>\n",
              "    </tr>\n",
              "    <tr>\n",
              "      <th>wii</th>\n",
              "      <td>5930000</td>\n",
              "    </tr>\n",
              "    <tr>\n",
              "      <th>ds</th>\n",
              "      <td>850000</td>\n",
              "    </tr>\n",
              "    <tr>\n",
              "      <th>psp</th>\n",
              "      <td>170000</td>\n",
              "    </tr>\n",
              "  </tbody>\n",
              "</table>\n",
              "</div>"
            ],
            "text/plain": [
              "           eu_sales\n",
              "platform           \n",
              "ps4       141089998\n",
              "ps3        67810000\n",
              "xone       51589999\n",
              "x360       42520000\n",
              "3ds        30960000\n",
              "pc         25360000\n",
              "wiiu       19850000\n",
              "psv         6100000\n",
              "wii         5930000\n",
              "ds           850000\n",
              "psp          170000"
            ]
          },
          "execution_count": 60,
          "metadata": {},
          "output_type": "execute_result"
        }
      ],
      "source": [
        "platform_eu = actual_platform.pivot_table(index = 'platform', values = 'eu_sales', aggfunc = 'sum').sort_values(by='eu_sales',ascending=False)\n",
        "platform_eu"
      ]
    },
    {
      "cell_type": "markdown",
      "metadata": {
        "id": "aaovh_EcUdGg"
      },
      "source": [
        "* Самые продаваемые жанры в Европе: aaction =\t118129999, shooter =\t87859999\n",
        "sports = 60519999, role-playing = 36970000,racing=20190000\n",
        "* Самые продаваемые платформы: ps4, ps3, xone, x360, 3ds\n",
        "* Самый продаваемый рейтинг: M"
      ]
    },
    {
      "cell_type": "markdown",
      "metadata": {
        "id": "LLfv0DflUdGg"
      },
      "source": [
        "# Япония"
      ]
    },
    {
      "cell_type": "code",
      "execution_count": null,
      "metadata": {
        "colab": {
          "base_uri": "https://localhost:8080/",
          "height": 472
        },
        "id": "F8H_hY3nUdGg",
        "outputId": "e30c7053-b5cd-4bdd-ac39-f5a27764d0a1"
      },
      "outputs": [
        {
          "data": {
            "text/plain": [
              "Text(0, 0.5, 'Продажи')"
            ]
          },
          "execution_count": 61,
          "metadata": {},
          "output_type": "execute_result"
        },
        {
          "data": {
            "image/png": "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\n",
            "text/plain": [
              "<Figure size 864x432 with 1 Axes>"
            ]
          },
          "metadata": {
            "needs_background": "light"
          },
          "output_type": "display_data"
        }
      ],
      "source": [
        "genre_sales = actual_platform.pivot_table(index=('genre'), values='jp_sales', aggfunc='sum').sort_values(by='jp_sales',ascending=False)\\\n",
        ".plot(kind = 'bar',figsize=(12,6))\n",
        "plt.title('Продаваемость в Японии от жанра', fontsize=15)\n",
        "plt.xlabel('Жанр')\n",
        "plt.ylabel('Продажи')"
      ]
    },
    {
      "cell_type": "code",
      "execution_count": null,
      "metadata": {
        "colab": {
          "base_uri": "https://localhost:8080/",
          "height": 457
        },
        "id": "CAuczCEJUdGg",
        "outputId": "e4880151-d55d-49af-a0b2-24567cbfd29f"
      },
      "outputs": [
        {
          "data": {
            "text/html": [
              "<div>\n",
              "<style scoped>\n",
              "    .dataframe tbody tr th:only-of-type {\n",
              "        vertical-align: middle;\n",
              "    }\n",
              "\n",
              "    .dataframe tbody tr th {\n",
              "        vertical-align: top;\n",
              "    }\n",
              "\n",
              "    .dataframe thead th {\n",
              "        text-align: right;\n",
              "    }\n",
              "</style>\n",
              "<table border=\"1\" class=\"dataframe\">\n",
              "  <thead>\n",
              "    <tr style=\"text-align: right;\">\n",
              "      <th></th>\n",
              "      <th>jp_sales</th>\n",
              "    </tr>\n",
              "    <tr>\n",
              "      <th>genre</th>\n",
              "      <th></th>\n",
              "    </tr>\n",
              "  </thead>\n",
              "  <tbody>\n",
              "    <tr>\n",
              "      <th>role-playing</th>\n",
              "      <td>51040000</td>\n",
              "    </tr>\n",
              "    <tr>\n",
              "      <th>action</th>\n",
              "      <td>40490000</td>\n",
              "    </tr>\n",
              "    <tr>\n",
              "      <th>misc</th>\n",
              "      <td>9200000</td>\n",
              "    </tr>\n",
              "    <tr>\n",
              "      <th>fighting</th>\n",
              "      <td>7650000</td>\n",
              "    </tr>\n",
              "    <tr>\n",
              "      <th>shooter</th>\n",
              "      <td>6610000</td>\n",
              "    </tr>\n",
              "    <tr>\n",
              "      <th>adventure</th>\n",
              "      <td>5820000</td>\n",
              "    </tr>\n",
              "    <tr>\n",
              "      <th>sports</th>\n",
              "      <td>5410000</td>\n",
              "    </tr>\n",
              "    <tr>\n",
              "      <th>platform</th>\n",
              "      <td>4790000</td>\n",
              "    </tr>\n",
              "    <tr>\n",
              "      <th>simulation</th>\n",
              "      <td>4520000</td>\n",
              "    </tr>\n",
              "    <tr>\n",
              "      <th>racing</th>\n",
              "      <td>2300000</td>\n",
              "    </tr>\n",
              "    <tr>\n",
              "      <th>strategy</th>\n",
              "      <td>1770000</td>\n",
              "    </tr>\n",
              "    <tr>\n",
              "      <th>puzzle</th>\n",
              "      <td>1180000</td>\n",
              "    </tr>\n",
              "  </tbody>\n",
              "</table>\n",
              "</div>"
            ],
            "text/plain": [
              "              jp_sales\n",
              "genre                 \n",
              "role-playing  51040000\n",
              "action        40490000\n",
              "misc           9200000\n",
              "fighting       7650000\n",
              "shooter        6610000\n",
              "adventure      5820000\n",
              "sports         5410000\n",
              "platform       4790000\n",
              "simulation     4520000\n",
              "racing         2300000\n",
              "strategy       1770000\n",
              "puzzle         1180000"
            ]
          },
          "execution_count": 62,
          "metadata": {},
          "output_type": "execute_result"
        }
      ],
      "source": [
        "genre_sales = actual_platform.pivot_table(index=('genre'), values='jp_sales', aggfunc='sum').sort_values(by='jp_sales',ascending=False)\n",
        "genre_sales.head(12)"
      ]
    },
    {
      "cell_type": "code",
      "execution_count": null,
      "metadata": {
        "colab": {
          "base_uri": "https://localhost:8080/",
          "height": 458
        },
        "id": "cgDK30oxUdGg",
        "outputId": "8df8dbb4-470b-4868-c400-0b429a049fea"
      },
      "outputs": [
        {
          "data": {
            "text/plain": [
              "Text(0, 0.5, 'Продажи')"
            ]
          },
          "execution_count": 63,
          "metadata": {},
          "output_type": "execute_result"
        },
        {
          "data": {
            "image/png": "iVBORw0KGgoAAAANSUhEUgAAAscAAAGoCAYAAACqvEg8AAAAOXRFWHRTb2Z0d2FyZQBNYXRwbG90bGliIHZlcnNpb24zLjMuNCwgaHR0cHM6Ly9tYXRwbG90bGliLm9yZy8QVMy6AAAACXBIWXMAAAsTAAALEwEAmpwYAAAnzElEQVR4nO3de5hcVZnv8e9LEgwICMT2RpQERxk1nKAEoiAIMnpQUA8gCiOOYXSiUVBxgGGcGY2gwiiKI144QRRUREAQEQQcLxlk0EAChPstXBMRQjgDCQiG8J4/9mqoVKq7q9O9u6qT7+d5+knt63qrsrv716vWXhWZiSRJkiTYoNMFSJIkSd3CcCxJkiQVhmNJkiSpMBxLkiRJheFYkiRJKgzHkiRJUmE4lkaRiJgdEdnw9XhEXB8RMztd27ooIjaNiPsj4q8iYsuIuDQi9ul0XXVpurYav+5o2m9GRCyIiOUR8f8i4pqI+Go/5/pzRNwcEf8UEWOb9jutad/lEXFVROxX4/McFxFHR8RNEfFEU/uH1tWupNFh7MC7SOoyjwB7lcfPBd4B/N+IWJGZP+pcWeuezFweEecCt5dVVwK/6mBJI+ErwE+a1j3R+yAi/hk4FvgScDQwHtgBOBj4VB/n2gjYBzgeGAd8vmm/W4BDyuPNgBnAORHxpsy8fGhPp6XPA0eV+i4C/lzW/76GtiSNMuGHgEijR0TMBg7NzOc3rb8SuDsz39ORwtZxETGRKuAtysynO11PXSIigcMy8xv97LMEOD8zP9a0PrLhF0qrc0XEJcA2mfnKhnWnAVMyc1rDug2AJcAPMvOooT+z1esEHgV+l5lvb9o24POXtO5zWIW0blhO1SO3moi4u8Vb5Kc1bJ/buFzW/aHst3vDuq0j4ryIWNrXW9ClrROazjWlxbkyImY0LPdExKMlmDQeu2VEzImIB8pb31dExPT+XoSI2L2c/60RcWFEPBYR90bER1rsu2tE/FcZmrIsIk6JiE0bts/orSkzF2fm7cCHG1/DFsNcmr9mDPJ1XuNt/YjYp6yfVJYn9dHWrxqOOT6q4TYrImJxRJwRES/q77UbhM2BPzWvzPZ6WhYCLx1op/IHyOO0uKYbNQ3JWBUR95Xn3t/vthcAmwDXDVRH+X/r9/+27DemXAv3RsSTEXFjRPxti1rnt2jjofJHb2ObpzXt09e10lhDy+8jSYPnsAppFIpnx21uDLwTeBPw933s/iPgpPL4ewOcdz9gWotNpwGTgI8B95Z1w/UW9L9RPY/GOp5DNXxhc+BI4EFgFvCriHhFZq4RzpqcCvyA6nnvC3w7IhZn5oXl/LuU858PvBuYQPWW/xZleQ0RsTHwGWBVw+rvAJeUx68DvgnsB9xf1i3q41x9vc6DcQTw3w3LjzQ8fgHwReCPQA/wj8BvImJKGz3fG0TTuGDg6YbjrgYOi4h7gQszc9kgan4ZcFerDQ1tbkZ1LU8CftbGOXuHZIwF3gzMBu4GTu5j/xXA07QR0ovfAp9uWN4I+E3TPsdQDdP4HHAVsD9wRlSd6We22U5Lg7hW1vg+krR2DMfS6DMBWNm07uuZ+f0W+44D7svMPwBExGN9nTQixgBfoArCH2zavBNwbGae3bD/4Ctfs83JwIdbtHkwMAV4TemxpfSM3koV9I4c4NQXZ2ZvoLk0Il4O/CtwYVl3PHBFZr63oZYlwK9LgLyhxTkPpwqgz9yclpmLgcXl+PFl9TWZeXc/z7m/13kwbu39f22Wmc/8oVTa+32p843AZQOc9z/KV6PTqcYBQ/UH0vlU9WdE3AycC5yQmY82HdcbtHvHHO8HfKBFmzuw+jX9NHBUZs4doFaAxxpeh8sj4n3Adn3tnJmPRcT5wLsj4gLgFzw75riVhxtf54jYpHFjRGwJfBL4fGb2jqW+NKqhOLOBtQ7H7V4r/XwfSVoLDquQRp9HgB3L1xuBTwAfiIjPtth3I+DJNs97CFXP6Ykttt0NvCsiJkfE2BY9i72id3vZZ8wAbR4L/BJovunqb4AFwF1N7f0X7fWi/bRp+Txgh/L298bAG4Czm2q9nCqg7dDiSU2g6hn8F1bvOV4b/b3OUAJlQ12D/jkdEW+LahjKI8BTlAAPvLKfw3p9mWevr96v2b0bM/M64FVU71h8CwiqXsv5zcGRKmSvpBrj+yPgm5n54xZt3tzQ1puoeui/0DhsoD/ltXpORLwdmAz8boBD3k/Vs3x6qW0la/7B2a4pVD225zStPwt4ZUT0tKh17ADfR70GulZ69fV9JGktdF3PcUR8l6qH4cHMnDLAvicCe5TFjYEXZObm9VYoddxTmdk4dvG/yy/Z4yLipMx8GJ7pdXoeMODb3hGxEVUAOgZo1bv8IaogcecAp/oUa85Y0FebU4H3Aq9lzcD7fOD1tA4sLYcqNHmwxfLYct7e0P6t8tWs1dvtnwZuycxzI+KwNtpvqY3XGVr33A6mjR2BC6j+QDie6rkn8AeqmSUGcm/T9bWGzHwS+Hn5IiI+SDXE5INNtX8ZOJvqOvwkcHhE/Cozf9F0yseb2rwsIl4IfDkiTh9gPHNzr/P3qYJpf/U/HhGfpLrGxgG9UyFe1d9xfXhx+feBpvW9y1sCS/uotU9tXisDfR9JWgtdF46p3hb6BtUPuH5l5uG9j8svrNfWV5bU1W4GNgReDjxc1m1N1et4dxvHH0b11vIpwFbNGzPz9xFxOFXg2pfqF3+rIPFDVg9HLwda9RQCHAeckZk3RETzL/WHgflU44ybtdMT/oIWy08BD1EFxKQKHs0hDapxus+IiJdRDSXYq8W+g9Xv61z0Bspeb2TgnsNG+1KFsff2hsqI2HrwpbYvM0+NiC8Bf9206ZmgHRGXAddTBd6L27iB72aqP2aez7Phsq/9/o6qB3sy8FWqKdoG+iPtQ1Q91Ts31DjAIS31ji9/Aav/IfrC8u/DDet6a23U19SA7Vwr0P/3kaS10HXhODMvi3JXdq8yXvCbVDeWPA78Q2be0nToQUCrt5Wl9UHvuyz3NazbiyoEzhvg2C2o5qudlZkrWwWE8nb5t4EvZ+ZFZV2rcz3Q2AMYEU+02onqrfM30/fb/L8G3koVrpp7gduxL3Bx0/KCzFwFPBYRfwC2zcxj2jjXMcBv2xz/2p8BX+fi3qbXcLCzTGwErGwKn+8b5Dn6FBEvaP4/KUMHnseavafPKM/536iC/zuoerf7M4UqHA70zkdjr/NVUc1osh/9hOMyTvg44NS+xm0Pwg1Uv5cOoLpWer0HuC0zG4N9cw85EfFUi3O2e60M9H0kaS10XTjuwxzgI5l5e/nB9y2qHwjAM70ik1nzDmJpXTQ2Il5fHm9I9VbtvwI/y8w/RcSGVL1Os4EfZ2afgaXYB7iG1Xsrmx1H9UEQxw6l8AZ/B3wtM+/tY/v3gY8Ac6OaHu5OqhsRdwL+lJkD9aS+LSK+QDVGeT/gLcC7GrYfRXXz3dNUH1KxnGomhb2Bf8nM2xr2fR/D83Z1O6/zcPhP4JMR8TWqYQ87U93g2K5JDddXr8zM3j+yro+In1GNcX2Q6h2KI6gC4ukDnPtcqtkljmT1cPzchjY3AnYF/gH4Vhuza/Qe29tzfCDVjBr9Oa78e/QA+w0oMx8ur/W/lqA7n+qaeztVp83aaPdaGej7SNJa6PpwXHqsdqb6tKTe1c9p2u1A4CelV0ha1z2PZ6dRWwncQ3VzUe+d8j3Ax6n+iGzn3ZQNgKP7epu7BI9ZwFsys6+e4MFaQTXVWEuZ+URE7EHVE/c5qreoH6T6hLqBehyhesv8k1QzTDwMfCwznzkuMy+PiN3KuX9ANQb5Hqpp2Zr/mDgrMxe297T61e/rPFwy8xcR8U9UfyD9A9W1sg9wW78HPusfy1ejVTz7++IYqj80vk41nvZPwBVUwzhaTtPWUNvTEXEccHpEvL6h1/avefaafoJqurfPUA2RGEjvsUk1/OLX9N9rvCPV9fGRQU5D15/PUA3bmUV1rd4BHNzHzYftaPda6ff7SNLa6cpPyCvDKi7MzCkRsRnVlEUv7mf/a6h++V0xUjVK6j5RfUjCb4Ht+piOTZKkfnX9VG5l3sy7IuIAqOaJKnfnUpb/mmp81nB9IIEkSZLWU10XjiPiTKqgu21UH3v6Qaoxfx+MiIXAjaw+dvBAqnGV3dcFLkmSpFGlK4dVSJIkSZ3QdT3HkiRJUqd01WwVz3/+83PSpEmdLkOSJEnrsAULFjyUmT2ttnVVOJ40aRLz5/f7qaWSJEnSkETEPX1tc1iFJEmSVBiOJUmSpMJwLEmSJBVdNeZYkiRJ/Vu5ciWLFy/miSee6HQpXW/8+PFMnDiRcePGtX2M4ViSJGkUWbx4MZtuuimTJk0iIjpdTtfKTJYtW8bixYuZPHly28c5rEKSJGkUeeKJJ5gwYYLBeAARwYQJEwbdw244liRJGmUMxu1Zm9fJcCxJkiQVjjmWJEkaxSYdfdGwnu/u4/ce1vONNvYcS5IkadB23nnnWs8/e/ZsTjjhhFrbaMVwLEmSpEG74oorOl1CLQzHkiRJGrRNNtmEuXPnsttuu7H33nuz7bbb8pGPfISnn3665f6rVq1ixowZTJkyhe22244TTzwRgFNOOYUdd9yRqVOnsv/++/P444+vceyiRYvYa6+92GGHHdh111255ZZbADjnnHOYMmUKU6dOZbfddhuW52U4liRJ0lq78sorOemkk7jppptYtGgR5513Xsv9rr32WpYsWcINN9zA9ddfzyGHHALAfvvtx1VXXcXChQt51atexamnnrrGsTNnzuSkk05iwYIFnHDCCXz0ox8F4JhjjuHSSy9l4cKFXHDBBcPyfAzHkiRJWms77bQT22yzDWPGjOGggw7i8ssvb7nfNttsw5133slhhx3GJZdcwmabbQbADTfcwK677sp2223HGWecwY033rjacStWrOCKK67ggAMOYPvtt+fDH/4w999/PwC77LILM2bM4JRTTmHVqlXD8nycraLJcN/xOZqt73erSpKkgTXPJdzX3MJbbLEFCxcu5NJLL+Xkk0/m7LPP5rvf/S4zZszg/PPPZ+rUqZx22mnMnTt3teOefvppNt98c6699to1znnyySczb948LrroInbYYQcWLFjAhAkThvR8DMeSJEmjWKc7s6688kruuusutt56a8466yxmzpzZcr+HHnqIDTfckP33359tt92Wgw8+GIDly5fz4he/mJUrV3LGGWew1VZbrXbcZpttxuTJkznnnHM44IADyEyuu+46pk6dyqJFi5g+fTrTp0/n4osv5r777jMcS5IkaeT19hDvuOOOHHroodxxxx3sscce7Lvvvi33X7JkCYcccsgzN+wdd9xxABx77LFMnz6dnp4epk+fzvLly9c49owzzmDWrFl8/vOfZ+XKlRx44IFMnTqVI488kttvv53MZM8992Tq1KlDfl6GY0mSJA3KsmXL2HLLLYGqZ/fCCy8c8JipU6dy9dVXr7F+1qxZzJo1a431s2fPfubx5MmTueSSS9bYp6+b/4bCG/IkSZLUtj/+8Y+84Q1v4Igjjuh0KbWw51iSJElte8lLXsJtt932zPLuu+++xj7Tp0/nySefXG3dD37wA7bbbru6yxsyw7EkSdIok5l9zgrRDebNm9fpEoDqdRosh1VIkiSNIuPHj2fZsmVrFfzWJ5nJsmXLGD9+/KCOs+dYkiRpFJk4cSKLFy9m6dKlnS6l640fP56JEycO6hjDsSRJ0igybtw4Jk+e3Oky1lkOq5AkSZIKw7EkSZJUGI4lSZKkwnAsSZIkFYZjSZIkqag1HEfE4RFxY0TcEBFnRsTgJpqTJEmSRlBt4TgitgI+DkzLzCnAGODAutqTJEmShqruYRVjgY0iYiywMfDHmtuTJEmS1lpt4TgzlwAnAPcC9wOPZOYvm/eLiJkRMT8i5vtJL5IkSeqkOodVbAG8C5gMvAR4bkQc3LxfZs7JzGmZOa2np6euciRJkqQB1Tms4m+AuzJzaWauBM4Ddq6xPUmSJGlI6gzH9wKvj4iNIyKAPYGba2xPkiRJGpI6xxzPA34CXA1cX9qaU1d7kiRJ0lCNrfPkmflZ4LN1tiFJkiQNFz8hT5IkSSoMx5IkSVJhOJYkSZIKw7EkSZJUGI4lSZKkwnAsSZIkFYZjSZIkqTAcS5IkSYXhWJIkSSoMx5IkSVJhOJYkSZIKw7EkSZJUGI4lSZKkwnAsSZIkFYZjSZIkqTAcS5IkSYXhWJIkSSoMx5IkSVJhOJYkSZIKw7EkSZJUGI4lSZKkwnAsSZIkFYZjSZIkqTAcS5IkSYXhWJIkSSoMx5IkSVJhOJYkSZIKw7EkSZJU1BaOI2LbiLi24evRiPhkXe1JkiRJQzW2rhNn5q3A9gARMQZYAvy0rvYkSZKkoRqpYRV7Aosy854Rak+SJEkatJEKxwcCZ7baEBEzI2J+RMxfunTpCJUjSZIkran2cBwRGwLvBM5ptT0z52TmtMyc1tPTU3c5kiRJUp9Gouf4bcDVmfnACLQlSZIkrbWRCMcH0ceQCkmSJKmb1BqOI+K5wFuA8+psR5IkSRoOtU3lBpCZjwET6mxDkiRJGi5+Qp4kSZJUGI4lSZKkwnAsSZIkFYZjSZIkqTAcS5IkSYXhWJIkSSoMx5IkSVJhOJYkSZIKw7EkSZJUGI4lSZKkwnAsSZIkFYZjSZIkqTAcS5IkSYXhWJIkSSoMx5IkSVJhOJYkSZIKw7EkSZJUGI4lSZKkwnAsSZIkFYZjSZIkqTAcS5IkSYXhWJIkSSoMx5IkSVJhOJYkSZIKw7EkSZJUGI4lSZKkwnAsSZIkFbWG44jYPCJ+EhG3RMTNEfGGOtuTJEmShmJszef/D+CSzHx3RGwIbFxze5IkSdJaqy0cR8TzgN2AGQCZ+RfgL3W1J0mSJA1VncMqJgNLge9FxDUR8Z2IeG7zThExMyLmR8T8pUuX1liOJEmS1L86w/FY4HXAtzPztcBjwNHNO2XmnMyclpnTenp6aixHkiRJ6l+d4XgxsDgz55Xln1CFZUmSJKkr1RaOM/NPwH0RsW1ZtSdwU13tSZIkSUNV92wVhwFnlJkq7gQOqbk9SZIkaa3VGo4z81pgWp1tSJIkScPFT8iTJEmSCsOxJEmSVBiOJUmSpMJwLEmSJBWGY0mSJKkwHEuSJEmF4ViSJEkqDMeSJElSYTiWJEmSCsOxJEmSVBiOJUmSpMJwLEmSJBWGY0mSJKkwHEuSJEmF4ViSJEkqDMeSJElSYTiWJEmSCsOxJEmSVBiOJUmSpMJwLEmSJBWGY0mSJKkwHEuSJEmF4ViSJEkqDMeSJElSYTiWJEmSCsOxJEmSVBiOJUmSpMJwLEmSJBVj6zx5RNwNLAdWAU9l5rQ625MkSZKGoq1wHBH7tVqfmee1cfgemfnQoKqSJEmSOqDdnuOzgJuABUCUdQm0E44lSZKkUaHdMcdTgFuBTYDjM/OQzPz7No5L4JcRsSAiZrbaISJmRsT8iJi/dOnSNsuRJEmShl9b4Tgzb83M9wD/Dnw1Ik6JiK3aOPSNmfk64G3AxyJitxbnnpOZ0zJzWk9Pz6CKlyRJkoZTu2OOT6LqBQa4E3gTcDuwcX/HZeaS8u+DEfFTYCfgsrWuVpIkSapRu2OO5w+wvIaIeC6wQWYuL4/fChwzyPokSZKkEdNWOM7M05vXRcTLBzjshcBPI6K3nR9l5iWDrlCSJEkaIe0OqzgXeF9mPhERGwKfBvYGduzrmMy8E5g6LFVKkiRJI6Dd2SrOAn4VEQcBVwIrgDfUVpUkSZLUAe0Oqzi7fNrd+cCszPxZnUVJkiRJndDusIqfU81W8SfghxHxW4DMfGeNtUmSJEkjqt3ZKk4o/x4NLAa+Uk85kiRJUue0G47/G/gO8BrgB8AfMvPJ2qqSJEmSOqDdG/IuBf4ATAYeAuZFxNtrq0qSJEnqgHbD8b9n5smZuSozTwTeDnygxrokSZKkEdfubBW/bFr+I/DeWiqSJEmSOqTd2SpeARwHvBoY37s+M7epqS5JkiRpxLU7rOJ7wLeBp4A9gO8DP6yrKEmSJKkT2g3HG2Xmr4HIzHsyczbVx0dLkiRJ64x2p3J7MiI2AG6PiEOBJcAm9ZUlSZIkjbx2e44/AWwMfBzYAXg/zlYhSZKkdUy7s1VcVR6uAA4BiIgXRcTLgKWZ+eea6pMkSZJGTLuzVXyqxerDgTOpbsy7bjiLkiRJkjqh3WEVRwKbNn2NycyjMtNgLEmSpHVCuzfk3Z+Zn2tcERH/Z/jLkSRJkjqn3XC8dUR8B3gYWAxcBGRtVUmSJEkd0G44ngmMoZq+bTJwLtWn5UmSJEnrjHZnqzi3cTkijgV+GBG/AY7JzLk11CZJkiSNqHZ7jomIDYFXlsVbM/M99ZQkSZIkdUa7U7ntDpwO3A0E8NKI+EBmXlZbZZIkSdIIa7fn+CvAWzPzVoCIeCXVHMc71FWYJEmSNNLaned4XG8wBsjM24Bx9ZQkSZIkdUa7Pcfzy1RuPyzL7wPm11OSJEmS1BnthuNZwMeAj5fl3wHfqqUiSZIkqUPancrtyYj4BvBr4Gmq2Sr+UmtlkiRJ0ghra8xxROwNLAL+A/gGcEdEvK3NY8dExDURceHalylJkiTVbzCzVeyRmXcARMTLqT5C+uI2jv0EcDOw2VpVKEmSJI2QdmerWN4bjIs7geUDHRQRE4G9ge+sRW2SJEnSiBrMbBW/AM4GEjgAuCoi9gPIzPP6OO5rwFHApn2dOCJmAjMBXvayl7VZjiRJkjT82u05Hg88ALwJ2B1YCmwEvAPYp9UBEbEP8GBmLujvxJk5JzOnZea0np6eduuWJEmShl27s1Ucshbn3gV4Z0S8nSpcbxYRP8zMg9fiXJIkSVLt+g3HEfH1/rZn5sf72fbPwD+X8+wOHGEwliRJUjcbqOf4XcBnRqIQSZIkqdMGCscPZ+bpQ20kM+cCc4d6HkmSJKlOA92QlyNShSRJktQF2p2tQpIkSVrnDTSsYmpEPNpifQCZmX7qnSRJktYZ/YbjzBwzUoVIkiRJneawCkmSJKkwHEuSJEmF4ViSJEkqDMeSJElSYTiWJEmSCsOxJEmSVBiOJUmSpMJwLEmSJBWGY0mSJKkwHEuSJEmF4ViSJEkqDMeSJElSYTiWJEmSCsOxJEmSVBiOJUmSpMJwLEmSJBWGY0mSJKkwHEuSJEmF4ViSJEkqDMeSJElSYTiWJEmSCsOxJEmSVBiOJUmSpMJwLEmSJBW1heOIGB8RV0bEwoi4MSI+V1dbkiRJ0nAYW+O5nwTenJkrImIccHlEXJyZf6ixTUmSJGmt1RaOMzOBFWVxXPnKutqTJEmShqrWMccRMSYirgUeBP4zM+e12GdmRMyPiPlLly6tsxxJkiSpX7WG48xclZnbAxOBnSJiSot95mTmtMyc1tPTU2c5kiRJUr9GZLaKzPwf4LfAXiPRniRJkrQ26pytoiciNi+PNwLeAtxSV3uSJEnSUNU5W8WLgdMjYgxVCD87My+ssT1JkiRpSOqcreI64LV1nV+SJEkabn5CniRJklQYjiVJkqTCcCxJkiQVhmNJkiSpMBxLkiRJheFYkiRJKgzHkiRJUmE4liRJkgrDsSRJklQYjiVJkqTCcCxJkiQVhmNJkiSpMBxLkiRJheFYkiRJKgzHkiRJUmE4liRJkgrDsSRJklQYjiVJkqTCcCxJkiQVhmNJkiSpMBxLkiRJheFYkiRJKgzHkiRJUmE4liRJkgrDsSRJklQYjiVJkqTCcCxJkiQVtYXjiHhpRPw2Im6KiBsj4hN1tSVJkiQNh7E1nvsp4B8z8+qI2BRYEBH/mZk31dimVItJR1/U6RK6xt3H793pEiRJqk1tPceZeX9mXl0eLwduBraqqz1JkiRpqEZkzHFETAJeC8xrsW1mRMyPiPlLly4diXIkSZKklmoPxxGxCXAu8MnMfLR5e2bOycxpmTmtp6en7nIkSZKkPtUajiNiHFUwPiMzz6uzLUmSJGmo6pytIoBTgZsz86t1tSNJkiQNlzp7jncB3g+8OSKuLV9vr7E9SZIkaUhqm8otMy8Hoq7zS5IkScPNT8iTJEmSCsOxJEmSVBiOJUmSpMJwLEmSJBWGY0mSJKkwHEuSJEmF4ViSJEkqDMeSJElSYTiWJEmSCsOxJEmSVBiOJUmSpMJwLEmSJBVjO12AJI1Wk46+qNMldI27j9+70yVI0rCw51iSJEkqDMeSJElSYTiWJEmSCsccS5I0jByL/izHoms0sudYkiRJKgzHkiRJUmE4liRJkgrDsSRJklQYjiVJkqTCcCxJkiQVhmNJkiSpMBxLkiRJheFYkiRJKgzHkiRJUmE4liRJkorawnFEfDciHoyIG+pqQ5IkSRpOdfYcnwbsVeP5JUmSpGFVWzjOzMuAh+s6vyRJkjTcOj7mOCJmRsT8iJi/dOnSTpcjSZKk9VjHw3FmzsnMaZk5raenp9PlSJIkaT3W8XAsSZIkdQvDsSRJklTUOZXbmcDvgW0jYnFEfLCutiRJkqThMLauE2fmQXWdW5IkSaqDwyokSZKkwnAsSZIkFYZjSZIkqTAcS5IkSYXhWJIkSSoMx5IkSVJhOJYkSZIKw7EkSZJUGI4lSZKkorZPyJMkSVJl0tEXdbqErnH38Xt3uoR+2XMsSZIkFYZjSZIkqTAcS5IkSYXhWJIkSSoMx5IkSVJhOJYkSZIKw7EkSZJUGI4lSZKkwnAsSZIkFYZjSZIkqTAcS5IkSYXhWJIkSSoMx5IkSVJhOJYkSZIKw7EkSZJUGI4lSZKkwnAsSZIkFbWG44jYKyJujYg7IuLoOtuSJEmShqq2cBwRY4BvAm8DXg0cFBGvrqs9SZIkaajq7DneCbgjM+/MzL8APwbeVWN7kiRJ0pBEZtZz4oh3A3tl5ofK8vuB6Zl5aNN+M4GZZXFb4NZaChp9ng881Oki1FW8JtSK14Va8bpQK14Xz9o6M3tabRg70pU0y8w5wJxO19FtImJ+Zk7rdB3qHl4TasXrQq14XagVr4v21DmsYgnw0obliWWdJEmS1JXqDMdXAa+IiMkRsSFwIHBBje1JkiRJQ1LbsIrMfCoiDgUuBcYA383MG+tqbx3kUBM185pQK14XasXrQq14XbShthvyJEmSpNHGT8iTJEmSCsOx1GUiouOzyEiStL4yHEvd58pOFyBJ0vrKcCx1n+h0AZIkra98+1bqPj0R8am+NmbmV0eyGEmS1ieG4y4REc8B9gcm0fD/kpnHdKomdcwYYBPsQVaTiDgqM79UHh+Qmec0bPtiZn66c9WpUyKi388QyMx3jlQt6l4R8Rqn1G2PU7l1iYi4BHgEWACs6l2fmV/pWFHqiIi4OjNf1+k61H0ar43m68TrZv0VEUuB+4AzgXk0/WGdmf/VibrUXfwZ0T57jrvHxMzcq9NFqCvYY6y+RB+PWy1r/fEi4C3AQcDfAhcBZ9pLqCb+jGiT4bh7XBER22Xm9Z0uRB23Z6cLUNfKPh63WtZ6IjNXAZcAl5QhegcBcyPic5n5jc5Wp06KiM9S/WwI4IUR8ZnebQ7b7JvhuHu8EZgREXcBT1JdyJmZ/6uzZWmkZebDna5BXWtqRDxK9fNho/KYsjy+c2Wp00oo3psqGE8Cvg78tJM1qSvc3fB4JXBPh+oYVRxz3CUiYutW6zPTC1mS1KeI+D4wBfgF8OPMvKHDJakLOea4fYbjLhERxwKXAVdk5mOdrkeSNDpExNNA7++Nxl/qve9AbjbyVanbRMQ1mfnaTtcxGhiOu0REHALsCrwBWA78DrgsM3/W0cIkSdKoFxFbOmyvPYbjLhMRLwLeAxwBbJGZm3a4JEmSNEpFxAuBrcriksx8oJP1jAaG4y4REd8BXg08QNVrfDlwdWY+1dHCJEnSqBMR2wMnA88DlpTVE4H/AT6amVd3prLu52wV3WMC1Sej/Q/wMPCQwViSJK2l04APZ+a8xpUR8Xrge8DUThQ1Gthz3GUi4lXA/wYOB8Zk5sQOlyRJkkaZiLg9M1/Rx7Y7MvOvRrqm0cKe4y4REftQ3ZC3G7A58Buq4RWSJEmDdXFEXAR8n+rjxQFeCvwd1YfGqA/2HHeJiPgGVRj+XWb+sdP1SJKk0S0i3ga8i4Yb8oALMvMXnauq+xmOu0i5o3THsnhlZj7YyXokSZLWNxt0ugBVIuIA4ErgAKqp3OZFxLs7W5UkSVrXRMScTtfQzew57hIRsRB4S29vcUT0AL/KTO8mlSRJgxIRW/a1CVjoDf9984a87rFB0zCKZdizL0mS1s5S4B6qMNwry/ILOlLRKGE47h6XRMSlwJll+b2AA+YlSdLauBPYMzPvbd4QEfe12F+F4bhLZOaREbE/sEtZNSczf9rJmiRJ0qj1NWALYI1wDHxpZEsZXRxzLEmSJBWOae0SEbFfRNweEY9ExKMRsTwiHu10XZIkafSJiKMaHh/QtO2LI1/R6GHPcZeIiDuAd2TmzZ2uRZIkjW4RcXVmvq75catlrc6e4+7xgMFYkiQNk+jjcatlNfCGvO4xPyLOAs4HnuxdmZnndawiSZI0WmUfj1stq4HDKrpERHyvxerMzL8f8WIkSdKoFhGrgMeoeok3Ah7v3QSMz8xxnaqt2xmOu0REbJmZDzetm5yZd3WqJkmSpPWNY467x88jYrPehYh4FfDzDtYjSZK03jEcd48vUgXkTSJiB+AnwMEdrkmSJGm94g15XSIzL4qIccAvgU2BfTPztg6XJUmStF5xzHGHRcRJrH7X6J7AIuBugMz8eAfKkiRJWi/Zc9x585uWF3SkCkmSJNlzLEmSJPWy57hLRMQuwGxga6r/l6Ca53ibTtYlSZK0PrHnuEtExC3A4VTDKlb1rs/MZR0rSpIkaT1jz3H3eCQzL+50EZIkSesze467REQcD4wBzgOe7F2fmVd3rChJkqT1jOG4S0TEb8vD3v+Q3jHHb+5QSZIkSesdh1V0j7kt1vmXiyRJ0ggyHHePFQ2PxwP7ADd3qBZJkqT1ksMqulREPAe4NDN373QtkiRJ64sNOl2A+rQxMLHTRUiSJK1PHFbRJSLiep4dYzwG6AGO6VxFkiRJ6x+HVXSJiNi6YfEp4IHMfKpT9UiSJK2PDMeSJElS4ZhjSZIkqTAcS5IkSYXhWJK6SESsiohrG76OLuv3iYhrImJhRNwUER8u62dHxJKy700RcVDDuU6LiLvKtlsi4rOdel6SNFo45liSukhErMjMTZrWjQPuAXbKzMVlHvRJmXlrRMwGVmTmCRHxCmABMCEzV0bEacCFmfmTiBgP3ATsmZl3jeiTkqRRxJ5jSep+m1JNvbkMIDOfzMxbm3fKzNuBx4EtWpxjfPn3sbqKlKR1geFYkrrLRk3DKt6bmQ8DFwD3RMSZEfG+iFjj53dEvA64PTMfbFj95Yi4FlgM/LhpmySpiR8CIknd5c+ZuX3zysz8UERsB/wNcATwFmBG2Xx4RBwCvBJ4R9OhR5ZhFZsAv46InTPzitqql6RRzp5jSRolMvP6zDyRKhjv37DpxMx8TVl3ahlf3HzsCmAu8MaRqFWSRivDsSR1uYjYJCJ2b1i1PdUNeqvJzAuA+cAHWpxjLDAdWFRLkZK0jjAcS1J3aR5zfDwQwFERcWsZP/w5nh1S0ewY4FMNY5J7xxxfB1wPnFdr9ZI0yjmVmyRJklTYcyxJkiQVhmNJkiSpMBxLkiRJheFYkiRJKgzHkiRJUmE4liRJkgrDsSRJklT8f+6retkNqxPOAAAAAElFTkSuQmCC\n",
            "text/plain": [
              "<Figure size 864x432 with 1 Axes>"
            ]
          },
          "metadata": {
            "needs_background": "light"
          },
          "output_type": "display_data"
        }
      ],
      "source": [
        "genre_sales = actual_platform.pivot_table(index=('rating'), values='jp_sales', aggfunc='sum').sort_values(by='jp_sales',ascending=False)\\\n",
        ".plot(kind = 'bar',figsize=(12,6))\n",
        "plt.title('Влияние рейтинга ESRB в Японии', fontsize=15)\n",
        "plt.xlabel('ESRB')\n",
        "plt.ylabel('Продажи')"
      ]
    },
    {
      "cell_type": "code",
      "execution_count": null,
      "metadata": {
        "colab": {
          "base_uri": "https://localhost:8080/",
          "height": 426
        },
        "id": "eTLvbDlRUdGg",
        "outputId": "75a9df2f-d67f-49f5-c4c4-b9f7ec3cc919"
      },
      "outputs": [
        {
          "data": {
            "text/html": [
              "<div>\n",
              "<style scoped>\n",
              "    .dataframe tbody tr th:only-of-type {\n",
              "        vertical-align: middle;\n",
              "    }\n",
              "\n",
              "    .dataframe tbody tr th {\n",
              "        vertical-align: top;\n",
              "    }\n",
              "\n",
              "    .dataframe thead th {\n",
              "        text-align: right;\n",
              "    }\n",
              "</style>\n",
              "<table border=\"1\" class=\"dataframe\">\n",
              "  <thead>\n",
              "    <tr style=\"text-align: right;\">\n",
              "      <th></th>\n",
              "      <th>jp_sales</th>\n",
              "    </tr>\n",
              "    <tr>\n",
              "      <th>platform</th>\n",
              "      <th></th>\n",
              "    </tr>\n",
              "  </thead>\n",
              "  <tbody>\n",
              "    <tr>\n",
              "      <th>3ds</th>\n",
              "      <td>67810000</td>\n",
              "    </tr>\n",
              "    <tr>\n",
              "      <th>ps3</th>\n",
              "      <td>23350000</td>\n",
              "    </tr>\n",
              "    <tr>\n",
              "      <th>psv</th>\n",
              "      <td>18590000</td>\n",
              "    </tr>\n",
              "    <tr>\n",
              "      <th>ps4</th>\n",
              "      <td>15960000</td>\n",
              "    </tr>\n",
              "    <tr>\n",
              "      <th>wiiu</th>\n",
              "      <td>10880000</td>\n",
              "    </tr>\n",
              "    <tr>\n",
              "      <th>psp</th>\n",
              "      <td>3290000</td>\n",
              "    </tr>\n",
              "    <tr>\n",
              "      <th>x360</th>\n",
              "      <td>510000</td>\n",
              "    </tr>\n",
              "    <tr>\n",
              "      <th>xone</th>\n",
              "      <td>340000</td>\n",
              "    </tr>\n",
              "    <tr>\n",
              "      <th>wii</th>\n",
              "      <td>50000</td>\n",
              "    </tr>\n",
              "    <tr>\n",
              "      <th>ds</th>\n",
              "      <td>0</td>\n",
              "    </tr>\n",
              "    <tr>\n",
              "      <th>pc</th>\n",
              "      <td>0</td>\n",
              "    </tr>\n",
              "  </tbody>\n",
              "</table>\n",
              "</div>"
            ],
            "text/plain": [
              "          jp_sales\n",
              "platform          \n",
              "3ds       67810000\n",
              "ps3       23350000\n",
              "psv       18590000\n",
              "ps4       15960000\n",
              "wiiu      10880000\n",
              "psp        3290000\n",
              "x360        510000\n",
              "xone        340000\n",
              "wii          50000\n",
              "ds               0\n",
              "pc               0"
            ]
          },
          "execution_count": 64,
          "metadata": {},
          "output_type": "execute_result"
        }
      ],
      "source": [
        "platform_eu = actual_platform.pivot_table(index = 'platform', values = 'jp_sales', aggfunc = 'sum').sort_values(by='jp_sales',ascending=False)\n",
        "platform_eu"
      ]
    },
    {
      "cell_type": "markdown",
      "metadata": {
        "id": "hdd5D8dTUdGg"
      },
      "source": [
        "* Самые популярные продаваемые жанры в Японии role-playing =\t51040000, action =\t40490000, misc\t= 9200000, fighting\t= 7650000, shooter\t= 6610000\n",
        "* Cамые продаваемые платформы:  3ds, ps3,psv,ps4, wiiu\n",
        "* Самый продаваемый рейтинг: Unknown"
      ]
    },
    {
      "cell_type": "markdown",
      "metadata": {
        "id": "0TbygJnxUdGh"
      },
      "source": [
        "# Гипотезы"
      ]
    },
    {
      "cell_type": "code",
      "execution_count": null,
      "metadata": {
        "id": "xQ4vqHPuUdGh"
      },
      "outputs": [],
      "source": [
        "df_actual = actual_platform.query('year_of_release > 2013')"
      ]
    },
    {
      "cell_type": "markdown",
      "metadata": {
        "id": "La-rKKFUUdGh"
      },
      "source": [
        "# Пользовательские рейтинги платформ Xbox One и PC\n",
        "* H_o средние пользовательские рейтинги платформ Xbox One и PC одинаковы.\n",
        "* H_1 средние пользовательские рейтинги платформ Xbox One и PC различаются."
      ]
    },
    {
      "cell_type": "code",
      "execution_count": null,
      "metadata": {
        "id": "pmyHVJIZUdGh"
      },
      "outputs": [],
      "source": [
        "xone_scores = df_actual.query('platform == \"xone\" ')['user_score']\n",
        "pc_scores = df_actual.query('platform == \"pc\"')['user_score']"
      ]
    },
    {
      "cell_type": "code",
      "execution_count": null,
      "metadata": {
        "colab": {
          "base_uri": "https://localhost:8080/"
        },
        "id": "xiVlsHYMUdGi",
        "outputId": "2a7093bf-5f39-4112-b3ba-ce5b80903be1"
      },
      "outputs": [
        {
          "name": "stdout",
          "output_type": "stream",
          "text": [
            "Pvalue: nan\n",
            "Не получилось отвергнуть нулевую гипотезу\n"
          ]
        }
      ],
      "source": [
        "alpha = .05\n",
        "result = st.ttest_ind(xone_scores,\n",
        "                      pc_scores,\n",
        "                      equal_var=False)\n",
        "print(f'Pvalue: {result.pvalue}')\n",
        "if result.pvalue < alpha:\n",
        "    print(\"Отвергаем нулевую гипотезу\")\n",
        "else:\n",
        "    print(\"Не получилось отвергнуть нулевую гипотезу\")"
      ]
    },
    {
      "cell_type": "markdown",
      "metadata": {
        "id": "UPKmF-25UdGi"
      },
      "source": [
        "# Пользовательские рейтинги жанров Action и Sports\n",
        "* H_o cредние пользовательские рейтинги жанров Action и Sports одинаковы.\n",
        "* H_1 cредние пользовательские рейтинги жанров Action и Sports различаются."
      ]
    },
    {
      "cell_type": "code",
      "execution_count": null,
      "metadata": {
        "id": "Mjl8B3ETUdGi"
      },
      "outputs": [],
      "source": [
        "action_score = df_actual.query('genre == \"action\" ')['user_score']\n",
        "sports_score = df_actual.query('genre == \"sports\"')['user_score']\n"
      ]
    },
    {
      "cell_type": "code",
      "execution_count": null,
      "metadata": {
        "colab": {
          "base_uri": "https://localhost:8080/"
        },
        "id": "OTijrGUDUdGi",
        "outputId": "9442d899-4ee2-4661-f69d-deb0d7e9f736"
      },
      "outputs": [
        {
          "name": "stdout",
          "output_type": "stream",
          "text": [
            "Pvalue: nan\n",
            "Не получилось отвергнуть нулевую гипотезу\n"
          ]
        }
      ],
      "source": [
        "alpha = .05\n",
        "result = st.ttest_ind(action_score,\n",
        "                      sports_score,\n",
        "                      equal_var=False)\n",
        "print(f'Pvalue: {result.pvalue}')\n",
        "if result.pvalue < alpha:\n",
        "    print(\"Отвергаем нулевую гипотезу\")\n",
        "else:\n",
        "    print(\"Не получилось отвергнуть нулевую гипотезу\")"
      ]
    },
    {
      "cell_type": "markdown",
      "metadata": {
        "id": "cYiOTclaUdGi"
      },
      "source": [
        "Результаты проверки гипотез\n",
        "* Пользовательские рейтинги для платформ pc и xone совпадают.\n",
        "* Пользовательские рейтинги жанров action и sports различаются."
      ]
    },
    {
      "cell_type": "markdown",
      "metadata": {
        "id": "Ct7Umb6cUdGi"
      },
      "source": [
        "# Вывод"
      ]
    },
    {
      "cell_type": "markdown",
      "metadata": {
        "id": "9YZVN3vZUdGi"
      },
      "source": [
        "* Чем выше оценка критиков и юзеров, тем больше продажи.\n",
        "* Для Америки характернo:\n",
        "1. Самые популярные в Северной Америке жанры action\t= 126049999 продаж, shooter = 109739999,sports = 65270000, role-playing = 23080000, misc =\t27489999\n",
        "2. Самые популярные в Северной Америке платформы: ps4, xone, x360, ps3, wiiu\t\n",
        "3. Самый продаваемый рейтинг: M\n",
        "* Для Европы характернo:\n",
        "1. Самые продаваемые жанры в Европе: aaction = 118129999, shooter = 87859999 sports = 60519999, role-playing = 36970000,racing=20190000\n",
        "2. Самые продаваемые платформы: ps4, ps3, xone, x360, 3ds\n",
        "3. Самый продаваемый рейтинг: M\n",
        "* Для Японии характерно:\n",
        "1. Самые популярные продаваемые жанры в Японии role-playing = 51040000, action = 40490000, misc = 9200000, fighting = 7650000, shooter = 6610000\n",
        "2. Cамые продаваемые платформы: 3ds, ps3,psv,ps4, wiiu\n",
        "3. Самый продаваемый рейтинг: Unknown\n",
        "\n",
        "* Рейтинги пользователей xone и pc совпадают.\n",
        "* Рейтинги пользователей action и sports различаются.\n",
        "* Хуже всего продаются пазлы.\n",
        "\n",
        ">  Самая идеальная вариация для масштабных продаж:\n",
        "1. Высокие рейтинги юзеров и пользователей \n",
        "2. ESRB: M\n",
        "3. Жанр: action/role-playing\n",
        "4. Популярные платформы: ps4, ps3, 3ds\n"
      ]
    }
  ],
  "metadata": {
    "ExecuteTimeLog": [
      {
        "duration": 442,
        "start_time": "2022-10-05T15:07:01.894Z"
      },
      {
        "duration": 100,
        "start_time": "2022-10-05T15:07:25.429Z"
      },
      {
        "duration": 101,
        "start_time": "2022-10-05T15:07:39.883Z"
      },
      {
        "duration": 86,
        "start_time": "2022-10-05T15:07:47.807Z"
      },
      {
        "duration": 13,
        "start_time": "2022-10-05T15:12:21.875Z"
      },
      {
        "duration": 12,
        "start_time": "2022-10-05T15:13:00.262Z"
      },
      {
        "duration": 5,
        "start_time": "2022-10-05T15:13:02.820Z"
      },
      {
        "duration": 8,
        "start_time": "2022-10-05T16:27:33.627Z"
      },
      {
        "duration": 5,
        "start_time": "2022-10-05T16:28:01.985Z"
      },
      {
        "duration": 24,
        "start_time": "2022-10-05T16:28:11.479Z"
      },
      {
        "duration": 8,
        "start_time": "2022-10-05T16:29:27.066Z"
      },
      {
        "duration": 23,
        "start_time": "2022-10-05T16:29:35.992Z"
      },
      {
        "duration": 70,
        "start_time": "2022-10-05T16:29:46.384Z"
      },
      {
        "duration": 14,
        "start_time": "2022-10-05T16:29:52.628Z"
      },
      {
        "duration": 27,
        "start_time": "2022-10-05T16:30:03.442Z"
      },
      {
        "duration": 39,
        "start_time": "2022-10-05T16:37:10.699Z"
      },
      {
        "duration": 26,
        "start_time": "2022-10-05T16:37:14.551Z"
      },
      {
        "duration": 4,
        "start_time": "2022-10-05T16:40:57.203Z"
      },
      {
        "duration": 20,
        "start_time": "2022-10-05T16:41:01.581Z"
      },
      {
        "duration": 8,
        "start_time": "2022-10-05T16:41:12.226Z"
      },
      {
        "duration": 28,
        "start_time": "2022-10-05T16:41:29.016Z"
      },
      {
        "duration": 26,
        "start_time": "2022-10-05T16:43:02.570Z"
      },
      {
        "duration": 22,
        "start_time": "2022-10-05T16:43:06.821Z"
      },
      {
        "duration": 45,
        "start_time": "2022-10-05T16:43:51.611Z"
      },
      {
        "duration": 9,
        "start_time": "2022-10-05T17:04:15.779Z"
      },
      {
        "duration": 6,
        "start_time": "2022-10-05T17:07:34.116Z"
      },
      {
        "duration": 6,
        "start_time": "2022-10-05T17:07:48.293Z"
      },
      {
        "duration": 6,
        "start_time": "2022-10-05T17:07:58.767Z"
      },
      {
        "duration": 434,
        "start_time": "2022-10-06T15:10:29.954Z"
      },
      {
        "duration": 123,
        "start_time": "2022-10-06T15:10:30.390Z"
      },
      {
        "duration": 25,
        "start_time": "2022-10-06T15:10:36.110Z"
      },
      {
        "duration": 42,
        "start_time": "2022-10-06T15:10:41.424Z"
      },
      {
        "duration": 65,
        "start_time": "2022-10-06T15:11:46.645Z"
      },
      {
        "duration": 9,
        "start_time": "2022-10-06T15:12:26.870Z"
      },
      {
        "duration": 9,
        "start_time": "2022-10-06T15:13:06.356Z"
      },
      {
        "duration": 14,
        "start_time": "2022-10-06T15:13:39.940Z"
      },
      {
        "duration": 13,
        "start_time": "2022-10-06T15:13:51.446Z"
      },
      {
        "duration": 3,
        "start_time": "2022-10-06T15:14:01.326Z"
      },
      {
        "duration": 67,
        "start_time": "2022-10-06T15:14:01.671Z"
      },
      {
        "duration": 15,
        "start_time": "2022-10-06T15:14:03.246Z"
      },
      {
        "duration": 25,
        "start_time": "2022-10-06T15:14:04.202Z"
      },
      {
        "duration": 43,
        "start_time": "2022-10-06T15:14:04.465Z"
      },
      {
        "duration": 13,
        "start_time": "2022-10-06T15:14:05.108Z"
      },
      {
        "duration": 9,
        "start_time": "2022-10-06T15:14:05.688Z"
      },
      {
        "duration": 812,
        "start_time": "2022-10-06T15:15:35.201Z"
      },
      {
        "duration": 9,
        "start_time": "2022-10-06T15:17:02.796Z"
      },
      {
        "duration": 767,
        "start_time": "2022-10-06T15:20:11.754Z"
      },
      {
        "duration": 1000,
        "start_time": "2022-10-06T15:20:16.695Z"
      },
      {
        "duration": 21,
        "start_time": "2022-10-06T15:30:40.326Z"
      },
      {
        "duration": 66,
        "start_time": "2022-10-06T15:30:49.791Z"
      },
      {
        "duration": 21,
        "start_time": "2022-10-06T15:31:19.359Z"
      },
      {
        "duration": 22,
        "start_time": "2022-10-06T15:32:02.642Z"
      },
      {
        "duration": 24,
        "start_time": "2022-10-06T15:32:44.635Z"
      },
      {
        "duration": 54,
        "start_time": "2022-10-06T15:33:21.452Z"
      },
      {
        "duration": 31,
        "start_time": "2022-10-06T15:33:29.323Z"
      },
      {
        "duration": 1246,
        "start_time": "2022-10-06T15:33:57.258Z"
      },
      {
        "duration": 1113,
        "start_time": "2022-10-06T15:34:15.534Z"
      },
      {
        "duration": 3,
        "start_time": "2022-10-06T15:35:48.794Z"
      },
      {
        "duration": 886,
        "start_time": "2022-10-06T15:35:52.303Z"
      },
      {
        "duration": 25,
        "start_time": "2022-10-06T15:36:02.181Z"
      },
      {
        "duration": 21,
        "start_time": "2022-10-06T15:36:10.471Z"
      },
      {
        "duration": 25,
        "start_time": "2022-10-06T15:36:16.725Z"
      },
      {
        "duration": 21,
        "start_time": "2022-10-06T15:36:22.662Z"
      },
      {
        "duration": 20,
        "start_time": "2022-10-06T15:36:39.824Z"
      },
      {
        "duration": 20,
        "start_time": "2022-10-06T15:37:02.950Z"
      },
      {
        "duration": 20,
        "start_time": "2022-10-06T15:50:13.902Z"
      },
      {
        "duration": 21,
        "start_time": "2022-10-06T15:50:35.895Z"
      },
      {
        "duration": 21,
        "start_time": "2022-10-06T15:50:59.435Z"
      },
      {
        "duration": 1072,
        "start_time": "2022-10-06T15:51:16.859Z"
      },
      {
        "duration": 4,
        "start_time": "2022-10-06T15:52:32.660Z"
      },
      {
        "duration": 20,
        "start_time": "2022-10-06T15:52:46.449Z"
      },
      {
        "duration": 3,
        "start_time": "2022-10-06T15:58:13.990Z"
      },
      {
        "duration": 16,
        "start_time": "2022-10-06T16:04:23.418Z"
      },
      {
        "duration": 806,
        "start_time": "2022-10-06T16:04:34.195Z"
      },
      {
        "duration": 9,
        "start_time": "2022-10-06T16:04:59.456Z"
      },
      {
        "duration": 1337,
        "start_time": "2022-10-06T16:05:03.803Z"
      },
      {
        "duration": 7,
        "start_time": "2022-10-06T16:05:52.901Z"
      },
      {
        "duration": 1231,
        "start_time": "2022-10-06T16:06:02.620Z"
      },
      {
        "duration": 3,
        "start_time": "2022-10-06T16:06:28.728Z"
      },
      {
        "duration": 67,
        "start_time": "2022-10-06T16:06:28.969Z"
      },
      {
        "duration": 14,
        "start_time": "2022-10-06T16:06:29.857Z"
      },
      {
        "duration": 3,
        "start_time": "2022-10-06T16:06:30.916Z"
      },
      {
        "duration": 2,
        "start_time": "2022-10-06T16:06:31.335Z"
      },
      {
        "duration": 17,
        "start_time": "2022-10-06T16:06:31.770Z"
      },
      {
        "duration": 12,
        "start_time": "2022-10-06T16:06:32.294Z"
      },
      {
        "duration": 1150,
        "start_time": "2022-10-06T16:06:33.088Z"
      },
      {
        "duration": 19,
        "start_time": "2022-10-06T16:08:53.081Z"
      },
      {
        "duration": 57,
        "start_time": "2022-10-06T16:09:18.045Z"
      },
      {
        "duration": 8,
        "start_time": "2022-10-06T16:09:23.464Z"
      },
      {
        "duration": 9,
        "start_time": "2022-10-06T16:09:37.979Z"
      },
      {
        "duration": 8,
        "start_time": "2022-10-06T16:10:10.797Z"
      },
      {
        "duration": 10,
        "start_time": "2022-10-06T16:10:13.472Z"
      },
      {
        "duration": 686,
        "start_time": "2022-10-06T16:19:10.400Z"
      },
      {
        "duration": 7,
        "start_time": "2022-10-06T16:19:23.263Z"
      },
      {
        "duration": 593,
        "start_time": "2022-10-06T16:19:29.882Z"
      },
      {
        "duration": 8,
        "start_time": "2022-10-06T16:19:34.522Z"
      },
      {
        "duration": 13,
        "start_time": "2022-10-06T16:20:44.143Z"
      },
      {
        "duration": 12,
        "start_time": "2022-10-06T16:21:17.086Z"
      },
      {
        "duration": 10,
        "start_time": "2022-10-06T16:26:42.560Z"
      },
      {
        "duration": 3,
        "start_time": "2022-10-06T16:26:56.270Z"
      },
      {
        "duration": 565,
        "start_time": "2022-10-06T16:27:04.191Z"
      },
      {
        "duration": 9,
        "start_time": "2022-10-06T16:27:17.496Z"
      },
      {
        "duration": 4,
        "start_time": "2022-10-06T16:29:02.460Z"
      },
      {
        "duration": 9,
        "start_time": "2022-10-06T16:29:04.989Z"
      },
      {
        "duration": 647,
        "start_time": "2022-10-06T16:29:45.009Z"
      },
      {
        "duration": 416,
        "start_time": "2022-10-06T16:30:01.468Z"
      },
      {
        "duration": 124,
        "start_time": "2022-10-06T16:32:29.970Z"
      },
      {
        "duration": 4,
        "start_time": "2022-10-06T16:32:34.745Z"
      },
      {
        "duration": 4,
        "start_time": "2022-10-06T16:32:41.692Z"
      },
      {
        "duration": 3,
        "start_time": "2022-10-06T16:34:16.588Z"
      },
      {
        "duration": 65,
        "start_time": "2022-10-06T16:34:17.173Z"
      },
      {
        "duration": 15,
        "start_time": "2022-10-06T16:34:22.309Z"
      },
      {
        "duration": 28,
        "start_time": "2022-10-06T16:34:27.745Z"
      },
      {
        "duration": 20,
        "start_time": "2022-10-06T16:34:32.232Z"
      },
      {
        "duration": 3,
        "start_time": "2022-10-06T16:35:10.176Z"
      },
      {
        "duration": 4,
        "start_time": "2022-10-06T16:35:38.195Z"
      },
      {
        "duration": 23,
        "start_time": "2022-10-06T16:35:41.644Z"
      },
      {
        "duration": 2,
        "start_time": "2022-10-06T16:36:01.535Z"
      },
      {
        "duration": 69,
        "start_time": "2022-10-06T16:36:02.099Z"
      },
      {
        "duration": 16,
        "start_time": "2022-10-06T16:36:28.614Z"
      },
      {
        "duration": 27,
        "start_time": "2022-10-06T16:36:31.018Z"
      },
      {
        "duration": 7,
        "start_time": "2022-10-06T16:39:21.074Z"
      },
      {
        "duration": 7,
        "start_time": "2022-10-06T16:39:28.225Z"
      },
      {
        "duration": 24,
        "start_time": "2022-10-06T16:40:05.376Z"
      },
      {
        "duration": 775,
        "start_time": "2022-10-06T16:43:48.109Z"
      },
      {
        "duration": 865,
        "start_time": "2022-10-06T16:44:28.488Z"
      },
      {
        "duration": 833,
        "start_time": "2022-10-06T16:44:39.712Z"
      },
      {
        "duration": 9,
        "start_time": "2022-10-06T16:54:47.102Z"
      },
      {
        "duration": 10,
        "start_time": "2022-10-06T16:55:33.985Z"
      },
      {
        "duration": 3,
        "start_time": "2022-10-06T17:08:55.891Z"
      },
      {
        "duration": 68,
        "start_time": "2022-10-06T17:08:56.383Z"
      },
      {
        "duration": 13,
        "start_time": "2022-10-06T17:09:02.024Z"
      },
      {
        "duration": 10,
        "start_time": "2022-10-06T17:09:02.548Z"
      },
      {
        "duration": 3,
        "start_time": "2022-10-06T17:15:24.474Z"
      },
      {
        "duration": 28,
        "start_time": "2022-10-06T17:15:29.199Z"
      },
      {
        "duration": 22,
        "start_time": "2022-10-06T17:15:38.998Z"
      },
      {
        "duration": 929,
        "start_time": "2022-10-06T17:15:56.418Z"
      },
      {
        "duration": 73,
        "start_time": "2022-10-06T17:16:20.682Z"
      },
      {
        "duration": 908,
        "start_time": "2022-10-06T17:17:07.454Z"
      },
      {
        "duration": 683,
        "start_time": "2022-10-06T17:17:42.486Z"
      },
      {
        "duration": 771,
        "start_time": "2022-10-06T17:17:58.194Z"
      },
      {
        "duration": 752,
        "start_time": "2022-10-06T17:18:34.368Z"
      },
      {
        "duration": 1227,
        "start_time": "2022-10-06T17:18:56.693Z"
      },
      {
        "duration": 688,
        "start_time": "2022-10-06T17:19:47.536Z"
      },
      {
        "duration": 22,
        "start_time": "2022-10-06T17:20:09.942Z"
      },
      {
        "duration": 22,
        "start_time": "2022-10-06T17:20:14.597Z"
      },
      {
        "duration": 20,
        "start_time": "2022-10-06T17:20:19.616Z"
      },
      {
        "duration": 34,
        "start_time": "2022-10-06T17:20:24.264Z"
      },
      {
        "duration": 4,
        "start_time": "2022-10-06T17:26:16.685Z"
      },
      {
        "duration": 13,
        "start_time": "2022-10-06T17:26:21.528Z"
      },
      {
        "duration": 4,
        "start_time": "2022-10-06T17:26:27.414Z"
      },
      {
        "duration": 11,
        "start_time": "2022-10-06T17:26:28.489Z"
      },
      {
        "duration": 3,
        "start_time": "2022-10-06T17:26:36.301Z"
      },
      {
        "duration": 11,
        "start_time": "2022-10-06T17:26:37.224Z"
      },
      {
        "duration": 10,
        "start_time": "2022-10-06T17:27:15.320Z"
      },
      {
        "duration": 9,
        "start_time": "2022-10-06T17:27:17.667Z"
      },
      {
        "duration": 11,
        "start_time": "2022-10-06T17:28:22.591Z"
      },
      {
        "duration": 10,
        "start_time": "2022-10-06T17:28:26.153Z"
      },
      {
        "duration": 778,
        "start_time": "2022-10-06T17:31:14.781Z"
      },
      {
        "duration": 1073,
        "start_time": "2022-10-06T17:32:18.379Z"
      },
      {
        "duration": 214,
        "start_time": "2022-10-06T17:34:12.796Z"
      },
      {
        "duration": 2,
        "start_time": "2022-10-06T17:34:25.344Z"
      },
      {
        "duration": 69,
        "start_time": "2022-10-06T17:34:25.566Z"
      },
      {
        "duration": 13,
        "start_time": "2022-10-06T17:34:26.713Z"
      },
      {
        "duration": 9,
        "start_time": "2022-10-06T17:34:27.245Z"
      },
      {
        "duration": 22,
        "start_time": "2022-10-06T17:34:29.632Z"
      },
      {
        "duration": 38,
        "start_time": "2022-10-06T17:34:30.819Z"
      },
      {
        "duration": 12,
        "start_time": "2022-10-06T17:34:33.159Z"
      },
      {
        "duration": 9,
        "start_time": "2022-10-06T17:34:34.289Z"
      },
      {
        "duration": 59,
        "start_time": "2022-10-06T17:34:35.750Z"
      },
      {
        "duration": 187,
        "start_time": "2022-10-06T17:34:36.963Z"
      },
      {
        "duration": 209,
        "start_time": "2022-10-06T17:35:01.033Z"
      },
      {
        "duration": 3,
        "start_time": "2022-10-06T17:35:07.038Z"
      },
      {
        "duration": 76,
        "start_time": "2022-10-06T17:35:07.571Z"
      },
      {
        "duration": 13,
        "start_time": "2022-10-06T17:35:08.231Z"
      },
      {
        "duration": 9,
        "start_time": "2022-10-06T17:35:08.425Z"
      },
      {
        "duration": 27,
        "start_time": "2022-10-06T17:35:09.177Z"
      },
      {
        "duration": 36,
        "start_time": "2022-10-06T17:35:09.592Z"
      },
      {
        "duration": 12,
        "start_time": "2022-10-06T17:35:10.338Z"
      },
      {
        "duration": 11,
        "start_time": "2022-10-06T17:35:10.766Z"
      },
      {
        "duration": 42,
        "start_time": "2022-10-06T17:35:11.630Z"
      },
      {
        "duration": 205,
        "start_time": "2022-10-06T17:35:12.344Z"
      },
      {
        "duration": 214,
        "start_time": "2022-10-06T17:35:20.023Z"
      },
      {
        "duration": 21,
        "start_time": "2022-10-06T17:36:01.053Z"
      },
      {
        "duration": 203,
        "start_time": "2022-10-06T17:36:42.750Z"
      },
      {
        "duration": 5,
        "start_time": "2022-10-06T17:38:12.611Z"
      },
      {
        "duration": 8,
        "start_time": "2022-10-06T17:38:31.467Z"
      },
      {
        "duration": 8,
        "start_time": "2022-10-06T17:38:36.104Z"
      },
      {
        "duration": 4,
        "start_time": "2022-10-06T17:38:43.255Z"
      },
      {
        "duration": 14,
        "start_time": "2022-10-06T17:38:55.496Z"
      },
      {
        "duration": 3,
        "start_time": "2022-10-06T17:39:13.357Z"
      },
      {
        "duration": 4,
        "start_time": "2022-10-06T17:39:22.274Z"
      },
      {
        "duration": 2160,
        "start_time": "2022-10-06T17:40:01.092Z"
      },
      {
        "duration": 3,
        "start_time": "2022-10-06T17:40:09.578Z"
      },
      {
        "duration": 903,
        "start_time": "2022-10-06T17:40:16.384Z"
      },
      {
        "duration": 732,
        "start_time": "2022-10-06T17:40:47.102Z"
      },
      {
        "duration": 12,
        "start_time": "2022-10-06T17:41:40.860Z"
      },
      {
        "duration": 5,
        "start_time": "2022-10-06T17:43:06.042Z"
      },
      {
        "duration": 6,
        "start_time": "2022-10-06T17:43:21.392Z"
      },
      {
        "duration": 10,
        "start_time": "2022-10-06T17:45:29.483Z"
      },
      {
        "duration": 5,
        "start_time": "2022-10-06T17:45:41.764Z"
      },
      {
        "duration": 7,
        "start_time": "2022-10-06T17:46:11.532Z"
      },
      {
        "duration": 14,
        "start_time": "2022-10-06T17:47:36.752Z"
      },
      {
        "duration": 7,
        "start_time": "2022-10-06T17:47:52.180Z"
      },
      {
        "duration": 11,
        "start_time": "2022-10-06T17:48:37.803Z"
      },
      {
        "duration": 11,
        "start_time": "2022-10-06T17:48:42.363Z"
      },
      {
        "duration": 15,
        "start_time": "2022-10-06T17:49:23.898Z"
      },
      {
        "duration": 13,
        "start_time": "2022-10-06T17:50:47.160Z"
      },
      {
        "duration": 16,
        "start_time": "2022-10-06T17:50:49.673Z"
      },
      {
        "duration": 1327,
        "start_time": "2022-10-06T17:50:50.313Z"
      },
      {
        "duration": 0,
        "start_time": "2022-10-06T17:50:51.642Z"
      },
      {
        "duration": 13,
        "start_time": "2022-10-06T17:51:01.217Z"
      },
      {
        "duration": 12,
        "start_time": "2022-10-06T17:52:30.414Z"
      },
      {
        "duration": 12,
        "start_time": "2022-10-06T17:52:34.407Z"
      },
      {
        "duration": 12,
        "start_time": "2022-10-06T17:52:38.319Z"
      },
      {
        "duration": 11,
        "start_time": "2022-10-06T17:52:46.501Z"
      },
      {
        "duration": 374,
        "start_time": "2022-10-06T17:53:47.846Z"
      },
      {
        "duration": 6,
        "start_time": "2022-10-06T17:53:57.765Z"
      },
      {
        "duration": 345,
        "start_time": "2022-10-06T17:53:58.298Z"
      },
      {
        "duration": 393,
        "start_time": "2022-10-06T17:54:38.203Z"
      },
      {
        "duration": 400,
        "start_time": "2022-10-06T17:54:46.829Z"
      },
      {
        "duration": 9,
        "start_time": "2022-10-06T18:03:03.465Z"
      },
      {
        "duration": 5,
        "start_time": "2022-10-06T18:03:13.919Z"
      },
      {
        "duration": 5,
        "start_time": "2022-10-06T18:03:14.575Z"
      },
      {
        "duration": 19,
        "start_time": "2022-10-06T18:03:15.097Z"
      },
      {
        "duration": 6,
        "start_time": "2022-10-06T18:06:02.057Z"
      },
      {
        "duration": 6,
        "start_time": "2022-10-06T18:06:05.731Z"
      },
      {
        "duration": 31,
        "start_time": "2022-10-06T18:09:48.250Z"
      },
      {
        "duration": 65,
        "start_time": "2022-10-06T18:10:37.005Z"
      },
      {
        "duration": 22,
        "start_time": "2022-10-06T18:10:41.017Z"
      },
      {
        "duration": 15,
        "start_time": "2022-10-06T18:12:46.559Z"
      },
      {
        "duration": 29,
        "start_time": "2022-10-06T18:16:50.656Z"
      },
      {
        "duration": 3,
        "start_time": "2022-10-06T18:18:55.055Z"
      },
      {
        "duration": 67,
        "start_time": "2022-10-06T18:18:55.457Z"
      },
      {
        "duration": 15,
        "start_time": "2022-10-06T18:18:58.980Z"
      },
      {
        "duration": 9,
        "start_time": "2022-10-06T18:18:59.367Z"
      },
      {
        "duration": 21,
        "start_time": "2022-10-06T18:19:05.663Z"
      },
      {
        "duration": 36,
        "start_time": "2022-10-06T18:19:07.920Z"
      },
      {
        "duration": 11,
        "start_time": "2022-10-06T18:19:18.103Z"
      },
      {
        "duration": 9,
        "start_time": "2022-10-06T18:19:18.616Z"
      },
      {
        "duration": 21,
        "start_time": "2022-10-06T18:19:20.472Z"
      },
      {
        "duration": 4,
        "start_time": "2022-10-06T18:19:34.484Z"
      },
      {
        "duration": 32,
        "start_time": "2022-10-06T18:20:08.720Z"
      },
      {
        "duration": 14,
        "start_time": "2022-10-06T18:20:40.608Z"
      },
      {
        "duration": 8,
        "start_time": "2022-10-06T18:20:50.726Z"
      },
      {
        "duration": 8,
        "start_time": "2022-10-06T18:20:58.634Z"
      },
      {
        "duration": 36,
        "start_time": "2022-10-06T18:22:39.703Z"
      },
      {
        "duration": 6,
        "start_time": "2022-10-06T18:27:19.446Z"
      },
      {
        "duration": 7,
        "start_time": "2022-10-06T18:27:40.638Z"
      },
      {
        "duration": 9,
        "start_time": "2022-10-06T18:28:01.100Z"
      },
      {
        "duration": 961,
        "start_time": "2022-10-06T18:29:48.850Z"
      },
      {
        "duration": 2,
        "start_time": "2022-10-06T18:29:53.641Z"
      },
      {
        "duration": 262,
        "start_time": "2022-10-06T18:30:09.116Z"
      },
      {
        "duration": 4,
        "start_time": "2022-10-06T18:30:45.760Z"
      },
      {
        "duration": 6,
        "start_time": "2022-10-06T18:32:34.076Z"
      },
      {
        "duration": 5,
        "start_time": "2022-10-06T18:32:59.309Z"
      },
      {
        "duration": 3,
        "start_time": "2022-10-06T18:33:10.075Z"
      },
      {
        "duration": 72,
        "start_time": "2022-10-06T18:33:10.233Z"
      },
      {
        "duration": 16,
        "start_time": "2022-10-06T18:33:10.798Z"
      },
      {
        "duration": 12,
        "start_time": "2022-10-06T18:33:11.039Z"
      },
      {
        "duration": 22,
        "start_time": "2022-10-06T18:33:12.975Z"
      },
      {
        "duration": 41,
        "start_time": "2022-10-06T18:33:16.925Z"
      },
      {
        "duration": 14,
        "start_time": "2022-10-06T18:33:23.466Z"
      },
      {
        "duration": 9,
        "start_time": "2022-10-06T18:33:24.403Z"
      },
      {
        "duration": 22,
        "start_time": "2022-10-06T18:33:28.192Z"
      },
      {
        "duration": 6,
        "start_time": "2022-10-06T18:33:38.634Z"
      },
      {
        "duration": 8,
        "start_time": "2022-10-06T18:33:39.340Z"
      },
      {
        "duration": 19,
        "start_time": "2022-10-06T18:33:40.474Z"
      },
      {
        "duration": 43,
        "start_time": "2022-10-06T18:33:46.629Z"
      },
      {
        "duration": 3,
        "start_time": "2022-10-06T18:33:49.335Z"
      },
      {
        "duration": 5,
        "start_time": "2022-10-06T18:33:49.764Z"
      },
      {
        "duration": 5,
        "start_time": "2022-10-06T18:33:50.665Z"
      },
      {
        "duration": 45,
        "start_time": "2022-10-06T18:34:05.744Z"
      },
      {
        "duration": 151,
        "start_time": "2022-10-06T18:35:07.112Z"
      },
      {
        "duration": 122,
        "start_time": "2022-10-06T18:35:18.207Z"
      },
      {
        "duration": 9,
        "start_time": "2022-10-06T18:36:10.549Z"
      },
      {
        "duration": 32,
        "start_time": "2022-10-06T18:36:15.528Z"
      },
      {
        "duration": 6,
        "start_time": "2022-10-06T18:36:23.828Z"
      },
      {
        "duration": 27,
        "start_time": "2022-10-06T18:36:25.096Z"
      },
      {
        "duration": 26,
        "start_time": "2022-10-06T18:38:48.127Z"
      },
      {
        "duration": 36,
        "start_time": "2022-10-06T18:38:51.056Z"
      },
      {
        "duration": 14,
        "start_time": "2022-10-06T18:38:58.623Z"
      },
      {
        "duration": 25,
        "start_time": "2022-10-06T18:39:34.092Z"
      },
      {
        "duration": 6,
        "start_time": "2022-10-06T18:39:38.534Z"
      },
      {
        "duration": 3,
        "start_time": "2022-10-06T18:39:39.100Z"
      },
      {
        "duration": 17,
        "start_time": "2022-10-06T18:39:39.836Z"
      },
      {
        "duration": 35,
        "start_time": "2022-10-06T18:39:44.708Z"
      },
      {
        "duration": 3,
        "start_time": "2022-10-06T18:39:46.857Z"
      },
      {
        "duration": 5,
        "start_time": "2022-10-06T18:39:48.070Z"
      },
      {
        "duration": 30,
        "start_time": "2022-10-06T18:39:51.337Z"
      },
      {
        "duration": 23,
        "start_time": "2022-10-06T18:43:33.187Z"
      },
      {
        "duration": 5,
        "start_time": "2022-10-06T18:47:25.463Z"
      },
      {
        "duration": 12,
        "start_time": "2022-10-06T18:47:37.411Z"
      },
      {
        "duration": 8,
        "start_time": "2022-10-06T18:48:13.211Z"
      },
      {
        "duration": 3,
        "start_time": "2022-10-06T18:48:17.393Z"
      },
      {
        "duration": 17,
        "start_time": "2022-10-06T18:48:18.059Z"
      },
      {
        "duration": 30,
        "start_time": "2022-10-06T18:48:28.927Z"
      },
      {
        "duration": 6,
        "start_time": "2022-10-06T18:48:40.822Z"
      },
      {
        "duration": 21,
        "start_time": "2022-10-06T18:48:41.417Z"
      },
      {
        "duration": 6,
        "start_time": "2022-10-06T18:48:55.287Z"
      },
      {
        "duration": 3,
        "start_time": "2022-10-06T18:49:27.473Z"
      },
      {
        "duration": 67,
        "start_time": "2022-10-06T18:49:27.851Z"
      },
      {
        "duration": 13,
        "start_time": "2022-10-06T18:49:36.703Z"
      },
      {
        "duration": 9,
        "start_time": "2022-10-06T18:49:37.259Z"
      },
      {
        "duration": 21,
        "start_time": "2022-10-06T18:49:37.881Z"
      },
      {
        "duration": 23,
        "start_time": "2022-10-06T18:49:39.849Z"
      },
      {
        "duration": 34,
        "start_time": "2022-10-06T18:49:56.031Z"
      },
      {
        "duration": 11,
        "start_time": "2022-10-06T18:49:58.767Z"
      },
      {
        "duration": 9,
        "start_time": "2022-10-06T18:49:59.843Z"
      },
      {
        "duration": 29,
        "start_time": "2022-10-06T18:50:01.148Z"
      },
      {
        "duration": 7,
        "start_time": "2022-10-06T18:50:04.796Z"
      },
      {
        "duration": 8,
        "start_time": "2022-10-06T18:50:06.405Z"
      },
      {
        "duration": 14,
        "start_time": "2022-10-06T18:50:06.989Z"
      },
      {
        "duration": 13,
        "start_time": "2022-10-06T18:50:08.223Z"
      },
      {
        "duration": 31,
        "start_time": "2022-10-06T18:50:11.252Z"
      },
      {
        "duration": 4,
        "start_time": "2022-10-06T18:50:59.066Z"
      },
      {
        "duration": 8,
        "start_time": "2022-10-06T18:51:15.282Z"
      },
      {
        "duration": 22,
        "start_time": "2022-10-06T18:56:55.327Z"
      },
      {
        "duration": 87,
        "start_time": "2022-10-06T19:03:04.428Z"
      },
      {
        "duration": 10,
        "start_time": "2022-10-06T19:08:50.745Z"
      },
      {
        "duration": 15,
        "start_time": "2022-10-06T19:08:58.236Z"
      },
      {
        "duration": 3,
        "start_time": "2022-10-06T19:11:30.684Z"
      },
      {
        "duration": 15,
        "start_time": "2022-10-06T19:11:52.731Z"
      },
      {
        "duration": 18,
        "start_time": "2022-10-06T19:13:21.289Z"
      },
      {
        "duration": 17,
        "start_time": "2022-10-06T19:13:38.922Z"
      },
      {
        "duration": 15,
        "start_time": "2022-10-06T19:13:45.789Z"
      },
      {
        "duration": 17,
        "start_time": "2022-10-06T19:14:21.752Z"
      },
      {
        "duration": 20,
        "start_time": "2022-10-06T19:16:52.091Z"
      },
      {
        "duration": 16,
        "start_time": "2022-10-06T19:17:05.888Z"
      },
      {
        "duration": 20,
        "start_time": "2022-10-06T19:17:13.249Z"
      },
      {
        "duration": 14,
        "start_time": "2022-10-06T19:17:36.279Z"
      },
      {
        "duration": 19,
        "start_time": "2022-10-06T19:18:31.164Z"
      },
      {
        "duration": 16,
        "start_time": "2022-10-06T19:19:57.799Z"
      },
      {
        "duration": 31,
        "start_time": "2022-10-06T19:21:01.114Z"
      },
      {
        "duration": 23,
        "start_time": "2022-10-06T19:21:16.506Z"
      },
      {
        "duration": 30,
        "start_time": "2022-10-06T19:21:30.465Z"
      },
      {
        "duration": 21,
        "start_time": "2022-10-06T19:21:46.132Z"
      },
      {
        "duration": 19,
        "start_time": "2022-10-06T19:22:03.605Z"
      },
      {
        "duration": 11,
        "start_time": "2022-10-06T19:22:58.315Z"
      },
      {
        "duration": 147,
        "start_time": "2022-10-06T19:26:20.271Z"
      },
      {
        "duration": 162,
        "start_time": "2022-10-06T19:26:36.935Z"
      },
      {
        "duration": 151,
        "start_time": "2022-10-06T19:27:37.290Z"
      },
      {
        "duration": 816,
        "start_time": "2022-10-06T19:29:10.837Z"
      },
      {
        "duration": 164,
        "start_time": "2022-10-06T19:29:46.829Z"
      },
      {
        "duration": 50,
        "start_time": "2022-10-06T19:30:09.016Z"
      },
      {
        "duration": 43,
        "start_time": "2022-10-06T19:30:25.898Z"
      },
      {
        "duration": 124,
        "start_time": "2022-10-06T19:30:31.044Z"
      },
      {
        "duration": 222,
        "start_time": "2022-10-06T19:30:38.401Z"
      },
      {
        "duration": 158,
        "start_time": "2022-10-06T19:31:26.098Z"
      },
      {
        "duration": 364,
        "start_time": "2022-10-07T10:48:33.669Z"
      },
      {
        "duration": 115,
        "start_time": "2022-10-07T10:48:34.079Z"
      },
      {
        "duration": 16,
        "start_time": "2022-10-07T10:48:35.420Z"
      },
      {
        "duration": 9,
        "start_time": "2022-10-07T10:48:35.609Z"
      },
      {
        "duration": 19,
        "start_time": "2022-10-07T10:48:35.867Z"
      },
      {
        "duration": 19,
        "start_time": "2022-10-07T10:48:37.081Z"
      },
      {
        "duration": 35,
        "start_time": "2022-10-07T10:48:37.839Z"
      },
      {
        "duration": 14,
        "start_time": "2022-10-07T10:48:38.613Z"
      },
      {
        "duration": 9,
        "start_time": "2022-10-07T10:48:38.859Z"
      },
      {
        "duration": 19,
        "start_time": "2022-10-07T10:48:39.427Z"
      },
      {
        "duration": 6,
        "start_time": "2022-10-07T10:48:40.117Z"
      },
      {
        "duration": 7,
        "start_time": "2022-10-07T10:48:40.611Z"
      },
      {
        "duration": 8,
        "start_time": "2022-10-07T10:48:40.887Z"
      },
      {
        "duration": 13,
        "start_time": "2022-10-07T10:48:41.316Z"
      },
      {
        "duration": 15,
        "start_time": "2022-10-07T10:48:41.855Z"
      },
      {
        "duration": 6,
        "start_time": "2022-10-07T10:48:42.713Z"
      },
      {
        "duration": 890,
        "start_time": "2022-10-07T10:48:45.439Z"
      },
      {
        "duration": 21,
        "start_time": "2022-10-07T10:48:47.336Z"
      },
      {
        "duration": 11,
        "start_time": "2022-10-07T10:49:14.878Z"
      },
      {
        "duration": 11,
        "start_time": "2022-10-07T10:51:56.340Z"
      },
      {
        "duration": 16,
        "start_time": "2022-10-07T11:00:26.705Z"
      },
      {
        "duration": 15,
        "start_time": "2022-10-07T11:01:59.709Z"
      },
      {
        "duration": 95,
        "start_time": "2022-10-07T11:02:20.609Z"
      },
      {
        "duration": 12,
        "start_time": "2022-10-07T11:02:29.911Z"
      },
      {
        "duration": 14,
        "start_time": "2022-10-07T11:03:03.741Z"
      },
      {
        "duration": 3,
        "start_time": "2022-10-07T11:03:30.543Z"
      },
      {
        "duration": 69,
        "start_time": "2022-10-07T11:03:30.731Z"
      },
      {
        "duration": 13,
        "start_time": "2022-10-07T11:03:31.375Z"
      },
      {
        "duration": 10,
        "start_time": "2022-10-07T11:03:31.590Z"
      },
      {
        "duration": 19,
        "start_time": "2022-10-07T11:03:31.800Z"
      },
      {
        "duration": 20,
        "start_time": "2022-10-07T11:03:32.777Z"
      },
      {
        "duration": 33,
        "start_time": "2022-10-07T11:03:33.558Z"
      },
      {
        "duration": 11,
        "start_time": "2022-10-07T11:03:34.512Z"
      },
      {
        "duration": 9,
        "start_time": "2022-10-07T11:03:35.073Z"
      },
      {
        "duration": 19,
        "start_time": "2022-10-07T11:03:35.600Z"
      },
      {
        "duration": 6,
        "start_time": "2022-10-07T11:03:36.437Z"
      },
      {
        "duration": 7,
        "start_time": "2022-10-07T11:03:36.707Z"
      },
      {
        "duration": 9,
        "start_time": "2022-10-07T11:03:36.941Z"
      },
      {
        "duration": 15,
        "start_time": "2022-10-07T11:03:37.185Z"
      },
      {
        "duration": 15,
        "start_time": "2022-10-07T11:03:37.587Z"
      },
      {
        "duration": 6,
        "start_time": "2022-10-07T11:03:38.155Z"
      },
      {
        "duration": 2,
        "start_time": "2022-10-07T11:03:39.346Z"
      },
      {
        "duration": 16,
        "start_time": "2022-10-07T11:03:42.590Z"
      },
      {
        "duration": 10,
        "start_time": "2022-10-07T11:04:24.891Z"
      },
      {
        "duration": 8,
        "start_time": "2022-10-07T11:05:26.378Z"
      },
      {
        "duration": 15,
        "start_time": "2022-10-07T11:05:49.863Z"
      },
      {
        "duration": 161,
        "start_time": "2022-10-07T11:06:28.125Z"
      },
      {
        "duration": 106,
        "start_time": "2022-10-07T11:08:15.124Z"
      },
      {
        "duration": 1323,
        "start_time": "2022-10-07T11:09:37.750Z"
      },
      {
        "duration": 12,
        "start_time": "2022-10-07T11:09:43.723Z"
      },
      {
        "duration": 6,
        "start_time": "2022-10-07T11:09:52.138Z"
      },
      {
        "duration": 5,
        "start_time": "2022-10-07T11:10:59.172Z"
      },
      {
        "duration": 145,
        "start_time": "2022-10-07T11:11:00.170Z"
      },
      {
        "duration": 10,
        "start_time": "2022-10-07T11:12:30.752Z"
      },
      {
        "duration": 18,
        "start_time": "2022-10-07T11:12:32.374Z"
      },
      {
        "duration": 130,
        "start_time": "2022-10-07T11:12:35.179Z"
      },
      {
        "duration": 9,
        "start_time": "2022-10-07T11:13:02.695Z"
      },
      {
        "duration": 12,
        "start_time": "2022-10-07T11:13:24.619Z"
      },
      {
        "duration": 129,
        "start_time": "2022-10-07T11:25:26.723Z"
      },
      {
        "duration": 116,
        "start_time": "2022-10-07T11:25:48.268Z"
      },
      {
        "duration": 126,
        "start_time": "2022-10-07T11:26:56.599Z"
      },
      {
        "duration": 226,
        "start_time": "2022-10-07T11:27:08.312Z"
      },
      {
        "duration": 17,
        "start_time": "2022-10-07T11:28:01.375Z"
      },
      {
        "duration": 6,
        "start_time": "2022-10-07T11:29:54.641Z"
      },
      {
        "duration": 68,
        "start_time": "2022-10-07T11:46:57.315Z"
      },
      {
        "duration": 135,
        "start_time": "2022-10-07T12:12:01.578Z"
      },
      {
        "duration": 122,
        "start_time": "2022-10-07T12:12:19.332Z"
      },
      {
        "duration": 122,
        "start_time": "2022-10-07T12:12:26.362Z"
      },
      {
        "duration": 66,
        "start_time": "2022-10-07T12:12:31.859Z"
      },
      {
        "duration": 150,
        "start_time": "2022-10-07T12:12:37.830Z"
      },
      {
        "duration": 158,
        "start_time": "2022-10-07T12:14:21.325Z"
      },
      {
        "duration": 14,
        "start_time": "2022-10-07T12:14:59.949Z"
      },
      {
        "duration": 12,
        "start_time": "2022-10-07T12:15:14.641Z"
      },
      {
        "duration": 11,
        "start_time": "2022-10-07T12:16:19.834Z"
      },
      {
        "duration": 162,
        "start_time": "2022-10-07T12:16:29.550Z"
      },
      {
        "duration": 20,
        "start_time": "2022-10-07T12:21:42.951Z"
      },
      {
        "duration": 7,
        "start_time": "2022-10-07T12:25:30.260Z"
      },
      {
        "duration": 12,
        "start_time": "2022-10-07T12:26:09.540Z"
      },
      {
        "duration": 10,
        "start_time": "2022-10-07T12:26:15.769Z"
      },
      {
        "duration": 17,
        "start_time": "2022-10-07T12:27:26.736Z"
      },
      {
        "duration": 16,
        "start_time": "2022-10-07T12:27:50.127Z"
      },
      {
        "duration": 2,
        "start_time": "2022-10-07T12:27:56.607Z"
      },
      {
        "duration": 69,
        "start_time": "2022-10-07T12:27:56.850Z"
      },
      {
        "duration": 14,
        "start_time": "2022-10-07T12:27:57.432Z"
      },
      {
        "duration": 10,
        "start_time": "2022-10-07T12:27:57.598Z"
      },
      {
        "duration": 21,
        "start_time": "2022-10-07T12:27:57.782Z"
      },
      {
        "duration": 27,
        "start_time": "2022-10-07T12:27:58.565Z"
      },
      {
        "duration": 39,
        "start_time": "2022-10-07T12:27:58.996Z"
      },
      {
        "duration": 12,
        "start_time": "2022-10-07T12:27:59.696Z"
      },
      {
        "duration": 9,
        "start_time": "2022-10-07T12:27:59.936Z"
      },
      {
        "duration": 22,
        "start_time": "2022-10-07T12:28:00.133Z"
      },
      {
        "duration": 6,
        "start_time": "2022-10-07T12:28:00.642Z"
      },
      {
        "duration": 7,
        "start_time": "2022-10-07T12:28:00.862Z"
      },
      {
        "duration": 8,
        "start_time": "2022-10-07T12:28:01.113Z"
      },
      {
        "duration": 14,
        "start_time": "2022-10-07T12:28:01.349Z"
      },
      {
        "duration": 13,
        "start_time": "2022-10-07T12:28:01.583Z"
      },
      {
        "duration": 6,
        "start_time": "2022-10-07T12:28:02.427Z"
      },
      {
        "duration": 3,
        "start_time": "2022-10-07T12:28:03.727Z"
      },
      {
        "duration": 16,
        "start_time": "2022-10-07T12:28:04.155Z"
      },
      {
        "duration": 12,
        "start_time": "2022-10-07T12:28:04.612Z"
      },
      {
        "duration": 18,
        "start_time": "2022-10-07T12:28:16.302Z"
      },
      {
        "duration": 10,
        "start_time": "2022-10-07T12:28:44.737Z"
      },
      {
        "duration": 19,
        "start_time": "2022-10-07T12:28:49.903Z"
      },
      {
        "duration": 14,
        "start_time": "2022-10-07T12:30:21.884Z"
      },
      {
        "duration": 15,
        "start_time": "2022-10-07T12:30:37.195Z"
      },
      {
        "duration": 13,
        "start_time": "2022-10-07T12:30:41.260Z"
      },
      {
        "duration": 16,
        "start_time": "2022-10-07T12:30:55.641Z"
      },
      {
        "duration": 161,
        "start_time": "2022-10-07T12:31:04.112Z"
      },
      {
        "duration": 8,
        "start_time": "2022-10-07T12:32:18.905Z"
      },
      {
        "duration": 20,
        "start_time": "2022-10-07T12:32:24.059Z"
      },
      {
        "duration": 7,
        "start_time": "2022-10-07T12:34:52.818Z"
      },
      {
        "duration": 15,
        "start_time": "2022-10-07T12:36:19.098Z"
      },
      {
        "duration": 12,
        "start_time": "2022-10-07T12:36:49.220Z"
      },
      {
        "duration": 12,
        "start_time": "2022-10-07T12:37:12.954Z"
      },
      {
        "duration": 4,
        "start_time": "2022-10-07T12:38:28.543Z"
      },
      {
        "duration": 5,
        "start_time": "2022-10-07T12:38:34.442Z"
      },
      {
        "duration": 4,
        "start_time": "2022-10-07T12:38:55.689Z"
      },
      {
        "duration": 6,
        "start_time": "2022-10-07T12:39:11.263Z"
      },
      {
        "duration": 6,
        "start_time": "2022-10-07T12:39:18.058Z"
      },
      {
        "duration": 3,
        "start_time": "2022-10-07T12:39:24.770Z"
      },
      {
        "duration": 12,
        "start_time": "2022-10-07T12:39:24.940Z"
      },
      {
        "duration": 10,
        "start_time": "2022-10-07T12:39:25.142Z"
      },
      {
        "duration": 148,
        "start_time": "2022-10-07T12:39:25.341Z"
      },
      {
        "duration": 8,
        "start_time": "2022-10-07T12:39:25.931Z"
      },
      {
        "duration": 19,
        "start_time": "2022-10-07T12:39:27.856Z"
      },
      {
        "duration": 144,
        "start_time": "2022-10-07T12:39:28.735Z"
      },
      {
        "duration": 8,
        "start_time": "2022-10-07T12:39:32.329Z"
      },
      {
        "duration": 139,
        "start_time": "2022-10-07T12:39:34.633Z"
      },
      {
        "duration": 13,
        "start_time": "2022-10-07T12:39:37.567Z"
      },
      {
        "duration": 7,
        "start_time": "2022-10-07T12:40:07.763Z"
      },
      {
        "duration": 2,
        "start_time": "2022-10-07T12:40:14.117Z"
      },
      {
        "duration": 6,
        "start_time": "2022-10-07T12:40:14.963Z"
      },
      {
        "duration": 146,
        "start_time": "2022-10-07T12:40:15.579Z"
      },
      {
        "duration": 6,
        "start_time": "2022-10-07T12:40:19.266Z"
      },
      {
        "duration": 5,
        "start_time": "2022-10-07T12:40:19.455Z"
      },
      {
        "duration": 4,
        "start_time": "2022-10-07T12:40:19.618Z"
      },
      {
        "duration": 15,
        "start_time": "2022-10-07T12:40:19.788Z"
      },
      {
        "duration": 16,
        "start_time": "2022-10-07T12:40:19.982Z"
      },
      {
        "duration": 7,
        "start_time": "2022-10-07T12:40:20.662Z"
      },
      {
        "duration": 3,
        "start_time": "2022-10-07T12:40:22.358Z"
      },
      {
        "duration": 16,
        "start_time": "2022-10-07T12:40:22.580Z"
      },
      {
        "duration": 11,
        "start_time": "2022-10-07T12:40:23.178Z"
      },
      {
        "duration": 195,
        "start_time": "2022-10-07T12:40:28.528Z"
      },
      {
        "duration": 8,
        "start_time": "2022-10-07T12:40:34.238Z"
      },
      {
        "duration": 2,
        "start_time": "2022-10-07T12:40:49.438Z"
      },
      {
        "duration": 72,
        "start_time": "2022-10-07T12:40:49.642Z"
      },
      {
        "duration": 12,
        "start_time": "2022-10-07T12:40:50.234Z"
      },
      {
        "duration": 9,
        "start_time": "2022-10-07T12:40:50.468Z"
      },
      {
        "duration": 19,
        "start_time": "2022-10-07T12:40:50.678Z"
      },
      {
        "duration": 22,
        "start_time": "2022-10-07T12:40:51.717Z"
      },
      {
        "duration": 35,
        "start_time": "2022-10-07T12:40:52.786Z"
      },
      {
        "duration": 13,
        "start_time": "2022-10-07T12:40:53.616Z"
      },
      {
        "duration": 9,
        "start_time": "2022-10-07T12:40:53.886Z"
      },
      {
        "duration": 22,
        "start_time": "2022-10-07T12:40:54.458Z"
      },
      {
        "duration": 6,
        "start_time": "2022-10-07T12:40:55.490Z"
      },
      {
        "duration": 6,
        "start_time": "2022-10-07T12:40:55.776Z"
      },
      {
        "duration": 9,
        "start_time": "2022-10-07T12:40:55.965Z"
      },
      {
        "duration": 13,
        "start_time": "2022-10-07T12:40:56.172Z"
      },
      {
        "duration": 15,
        "start_time": "2022-10-07T12:40:56.399Z"
      },
      {
        "duration": 7,
        "start_time": "2022-10-07T12:40:57.116Z"
      },
      {
        "duration": 3,
        "start_time": "2022-10-07T12:40:58.480Z"
      },
      {
        "duration": 15,
        "start_time": "2022-10-07T12:40:59.039Z"
      },
      {
        "duration": 10,
        "start_time": "2022-10-07T12:40:59.560Z"
      },
      {
        "duration": 250,
        "start_time": "2022-10-07T12:41:00.612Z"
      },
      {
        "duration": 9,
        "start_time": "2022-10-07T12:41:04.237Z"
      },
      {
        "duration": 21,
        "start_time": "2022-10-07T12:41:06.435Z"
      },
      {
        "duration": 161,
        "start_time": "2022-10-07T12:41:08.412Z"
      },
      {
        "duration": 2,
        "start_time": "2022-10-07T12:41:12.928Z"
      },
      {
        "duration": 7,
        "start_time": "2022-10-07T12:41:13.804Z"
      },
      {
        "duration": 14,
        "start_time": "2022-10-07T12:41:28.244Z"
      },
      {
        "duration": 3,
        "start_time": "2022-10-07T12:42:12.936Z"
      },
      {
        "duration": 4,
        "start_time": "2022-10-07T12:42:31.003Z"
      },
      {
        "duration": 725,
        "start_time": "2022-10-07T12:42:50.579Z"
      },
      {
        "duration": 6,
        "start_time": "2022-10-07T13:05:44.665Z"
      },
      {
        "duration": 19,
        "start_time": "2022-10-07T13:05:52.513Z"
      },
      {
        "duration": 20,
        "start_time": "2022-10-07T13:05:53.199Z"
      },
      {
        "duration": 29,
        "start_time": "2022-10-07T13:05:53.538Z"
      },
      {
        "duration": 9,
        "start_time": "2022-10-07T13:05:53.891Z"
      },
      {
        "duration": 9,
        "start_time": "2022-10-07T13:05:54.062Z"
      },
      {
        "duration": 24,
        "start_time": "2022-10-07T13:05:54.241Z"
      },
      {
        "duration": 6,
        "start_time": "2022-10-07T13:05:54.625Z"
      },
      {
        "duration": 6,
        "start_time": "2022-10-07T13:05:54.826Z"
      },
      {
        "duration": 5,
        "start_time": "2022-10-07T13:05:55.007Z"
      },
      {
        "duration": 14,
        "start_time": "2022-10-07T13:05:55.205Z"
      },
      {
        "duration": 13,
        "start_time": "2022-10-07T13:05:55.382Z"
      },
      {
        "duration": 6,
        "start_time": "2022-10-07T13:05:55.780Z"
      },
      {
        "duration": 3,
        "start_time": "2022-10-07T13:05:56.523Z"
      },
      {
        "duration": 15,
        "start_time": "2022-10-07T13:05:56.727Z"
      },
      {
        "duration": 11,
        "start_time": "2022-10-07T13:05:56.921Z"
      },
      {
        "duration": 190,
        "start_time": "2022-10-07T13:05:57.151Z"
      },
      {
        "duration": 3,
        "start_time": "2022-10-07T13:06:13.333Z"
      },
      {
        "duration": 69,
        "start_time": "2022-10-07T13:06:13.497Z"
      },
      {
        "duration": 14,
        "start_time": "2022-10-07T13:06:14.064Z"
      },
      {
        "duration": 9,
        "start_time": "2022-10-07T13:06:14.259Z"
      },
      {
        "duration": 20,
        "start_time": "2022-10-07T13:06:14.445Z"
      },
      {
        "duration": 20,
        "start_time": "2022-10-07T13:06:15.458Z"
      },
      {
        "duration": 34,
        "start_time": "2022-10-07T13:06:15.984Z"
      },
      {
        "duration": 11,
        "start_time": "2022-10-07T13:06:16.531Z"
      },
      {
        "duration": 9,
        "start_time": "2022-10-07T13:06:16.805Z"
      },
      {
        "duration": 19,
        "start_time": "2022-10-07T13:06:17.107Z"
      },
      {
        "duration": 6,
        "start_time": "2022-10-07T13:06:18.053Z"
      },
      {
        "duration": 7,
        "start_time": "2022-10-07T13:06:18.275Z"
      },
      {
        "duration": 13,
        "start_time": "2022-10-07T13:06:18.570Z"
      },
      {
        "duration": 13,
        "start_time": "2022-10-07T13:06:18.876Z"
      },
      {
        "duration": 13,
        "start_time": "2022-10-07T13:06:19.189Z"
      },
      {
        "duration": 5,
        "start_time": "2022-10-07T13:06:19.995Z"
      },
      {
        "duration": 2,
        "start_time": "2022-10-07T13:06:21.515Z"
      },
      {
        "duration": 14,
        "start_time": "2022-10-07T13:06:21.733Z"
      },
      {
        "duration": 10,
        "start_time": "2022-10-07T13:06:22.131Z"
      },
      {
        "duration": 161,
        "start_time": "2022-10-07T13:06:23.026Z"
      },
      {
        "duration": 7,
        "start_time": "2022-10-07T13:06:24.081Z"
      },
      {
        "duration": 21,
        "start_time": "2022-10-07T13:06:27.033Z"
      },
      {
        "duration": 158,
        "start_time": "2022-10-07T13:16:54.383Z"
      },
      {
        "duration": 10,
        "start_time": "2022-10-07T13:16:57.154Z"
      },
      {
        "duration": 20,
        "start_time": "2022-10-07T13:17:44.333Z"
      },
      {
        "duration": 18,
        "start_time": "2022-10-07T13:22:41.559Z"
      },
      {
        "duration": 5,
        "start_time": "2022-10-07T13:25:04.544Z"
      },
      {
        "duration": 898,
        "start_time": "2022-10-07T13:26:12.266Z"
      },
      {
        "duration": 251,
        "start_time": "2022-10-07T13:26:27.467Z"
      },
      {
        "duration": 235,
        "start_time": "2022-10-07T13:27:21.656Z"
      },
      {
        "duration": 164,
        "start_time": "2022-10-07T13:29:15.412Z"
      },
      {
        "duration": 166,
        "start_time": "2022-10-07T13:30:13.250Z"
      },
      {
        "duration": 193,
        "start_time": "2022-10-07T13:30:27.038Z"
      },
      {
        "duration": 266,
        "start_time": "2022-10-07T13:31:48.459Z"
      },
      {
        "duration": 41,
        "start_time": "2022-10-07T13:37:56.694Z"
      },
      {
        "duration": 11,
        "start_time": "2022-10-07T13:38:02.121Z"
      },
      {
        "duration": 11,
        "start_time": "2022-10-07T13:38:09.215Z"
      },
      {
        "duration": 11,
        "start_time": "2022-10-07T13:38:16.818Z"
      },
      {
        "duration": 12,
        "start_time": "2022-10-07T13:38:28.450Z"
      },
      {
        "duration": 4,
        "start_time": "2022-10-07T13:39:25.712Z"
      },
      {
        "duration": 5,
        "start_time": "2022-10-07T13:39:29.499Z"
      },
      {
        "duration": 4,
        "start_time": "2022-10-07T13:39:35.888Z"
      },
      {
        "duration": 5,
        "start_time": "2022-10-07T13:39:46.107Z"
      },
      {
        "duration": 4,
        "start_time": "2022-10-07T13:39:53.200Z"
      },
      {
        "duration": 9,
        "start_time": "2022-10-07T13:40:02.136Z"
      },
      {
        "duration": 5,
        "start_time": "2022-10-07T13:40:14.161Z"
      },
      {
        "duration": 56,
        "start_time": "2022-10-07T13:42:11.609Z"
      },
      {
        "duration": 10,
        "start_time": "2022-10-07T13:42:20.761Z"
      },
      {
        "duration": 9,
        "start_time": "2022-10-07T13:42:45.016Z"
      },
      {
        "duration": 455,
        "start_time": "2022-10-07T13:42:55.383Z"
      },
      {
        "duration": 26,
        "start_time": "2022-10-07T13:45:43.402Z"
      },
      {
        "duration": 129,
        "start_time": "2022-10-07T13:45:59.908Z"
      },
      {
        "duration": 123,
        "start_time": "2022-10-07T13:46:15.897Z"
      },
      {
        "duration": 29,
        "start_time": "2022-10-07T13:46:36.348Z"
      },
      {
        "duration": 20,
        "start_time": "2022-10-07T13:51:21.428Z"
      },
      {
        "duration": 879,
        "start_time": "2022-10-07T13:51:36.569Z"
      },
      {
        "duration": 268,
        "start_time": "2022-10-07T13:51:50.580Z"
      },
      {
        "duration": 20,
        "start_time": "2022-10-07T13:52:11.041Z"
      },
      {
        "duration": 136,
        "start_time": "2022-10-07T13:52:20.139Z"
      },
      {
        "duration": 22,
        "start_time": "2022-10-07T13:52:27.785Z"
      },
      {
        "duration": 23,
        "start_time": "2022-10-07T13:52:46.136Z"
      },
      {
        "duration": 22,
        "start_time": "2022-10-07T13:52:55.444Z"
      },
      {
        "duration": 25,
        "start_time": "2022-10-07T13:52:59.246Z"
      },
      {
        "duration": 162,
        "start_time": "2022-10-07T13:53:35.994Z"
      },
      {
        "duration": 176,
        "start_time": "2022-10-07T13:55:18.707Z"
      },
      {
        "duration": 929,
        "start_time": "2022-10-07T13:56:10.800Z"
      },
      {
        "duration": 8,
        "start_time": "2022-10-07T13:56:17.721Z"
      },
      {
        "duration": 16,
        "start_time": "2022-10-07T13:57:00.738Z"
      },
      {
        "duration": 7,
        "start_time": "2022-10-07T13:57:16.608Z"
      },
      {
        "duration": 115,
        "start_time": "2022-10-07T13:58:19.008Z"
      },
      {
        "duration": 16,
        "start_time": "2022-10-07T13:58:25.499Z"
      },
      {
        "duration": 16,
        "start_time": "2022-10-07T14:00:40.960Z"
      },
      {
        "duration": 26,
        "start_time": "2022-10-07T14:02:22.812Z"
      },
      {
        "duration": 14,
        "start_time": "2022-10-07T14:02:42.341Z"
      },
      {
        "duration": 30,
        "start_time": "2022-10-07T14:02:55.854Z"
      },
      {
        "duration": 102,
        "start_time": "2022-10-07T14:03:26.333Z"
      },
      {
        "duration": 536,
        "start_time": "2022-10-07T14:03:44.632Z"
      },
      {
        "duration": 9,
        "start_time": "2022-10-07T14:03:51.198Z"
      },
      {
        "duration": 15,
        "start_time": "2022-10-07T14:04:17.689Z"
      },
      {
        "duration": 13,
        "start_time": "2022-10-07T14:04:29.579Z"
      },
      {
        "duration": 22,
        "start_time": "2022-10-07T14:04:43.127Z"
      },
      {
        "duration": 21,
        "start_time": "2022-10-07T14:04:53.836Z"
      },
      {
        "duration": 10,
        "start_time": "2022-10-07T14:10:51.993Z"
      },
      {
        "duration": 14,
        "start_time": "2022-10-07T14:11:08.266Z"
      },
      {
        "duration": 15,
        "start_time": "2022-10-07T14:11:22.951Z"
      },
      {
        "duration": 19,
        "start_time": "2022-10-07T14:11:51.947Z"
      },
      {
        "duration": 18,
        "start_time": "2022-10-07T14:12:09.021Z"
      },
      {
        "duration": 13,
        "start_time": "2022-10-07T14:12:21.055Z"
      },
      {
        "duration": 15,
        "start_time": "2022-10-07T14:13:16.526Z"
      },
      {
        "duration": 10,
        "start_time": "2022-10-07T14:13:34.971Z"
      },
      {
        "duration": 95,
        "start_time": "2022-10-07T14:15:17.214Z"
      },
      {
        "duration": 72,
        "start_time": "2022-10-07T14:15:26.745Z"
      },
      {
        "duration": 59,
        "start_time": "2022-10-07T14:16:04.876Z"
      },
      {
        "duration": 1265,
        "start_time": "2022-10-07T14:17:40.824Z"
      },
      {
        "duration": 1310,
        "start_time": "2022-10-07T14:18:02.403Z"
      },
      {
        "duration": 1296,
        "start_time": "2022-10-07T14:18:27.517Z"
      },
      {
        "duration": 1277,
        "start_time": "2022-10-07T14:19:26.723Z"
      },
      {
        "duration": 1403,
        "start_time": "2022-10-07T14:19:46.143Z"
      },
      {
        "duration": 1267,
        "start_time": "2022-10-07T14:20:03.756Z"
      },
      {
        "duration": 53,
        "start_time": "2022-10-07T14:22:05.389Z"
      },
      {
        "duration": 14,
        "start_time": "2022-10-07T14:23:05.137Z"
      },
      {
        "duration": 46,
        "start_time": "2022-10-07T14:23:52.678Z"
      },
      {
        "duration": 30,
        "start_time": "2022-10-07T14:23:57.438Z"
      },
      {
        "duration": 23,
        "start_time": "2022-10-07T14:24:05.664Z"
      },
      {
        "duration": 9,
        "start_time": "2022-10-07T14:25:01.355Z"
      },
      {
        "duration": 10,
        "start_time": "2022-10-07T14:26:30.001Z"
      },
      {
        "duration": 8,
        "start_time": "2022-10-07T14:26:39.499Z"
      },
      {
        "duration": 6,
        "start_time": "2022-10-07T14:26:44.272Z"
      },
      {
        "duration": 17,
        "start_time": "2022-10-07T14:27:37.089Z"
      },
      {
        "duration": 261,
        "start_time": "2022-10-07T14:27:43.231Z"
      },
      {
        "duration": 15,
        "start_time": "2022-10-07T14:30:21.416Z"
      },
      {
        "duration": 16,
        "start_time": "2022-10-07T14:31:16.051Z"
      },
      {
        "duration": 8,
        "start_time": "2022-10-07T14:31:43.205Z"
      },
      {
        "duration": 12,
        "start_time": "2022-10-07T14:32:45.905Z"
      },
      {
        "duration": 1402,
        "start_time": "2022-10-07T14:33:08.340Z"
      },
      {
        "duration": 1038,
        "start_time": "2022-10-07T14:33:49.910Z"
      },
      {
        "duration": 1092,
        "start_time": "2022-10-07T14:34:10.877Z"
      },
      {
        "duration": 1255,
        "start_time": "2022-10-07T14:34:17.586Z"
      },
      {
        "duration": 1029,
        "start_time": "2022-10-07T14:34:41.043Z"
      },
      {
        "duration": 13,
        "start_time": "2022-10-07T14:49:56.359Z"
      },
      {
        "duration": 2205,
        "start_time": "2022-10-07T14:50:00.686Z"
      },
      {
        "duration": 9,
        "start_time": "2022-10-07T15:17:20.785Z"
      },
      {
        "duration": 12,
        "start_time": "2022-10-07T15:20:18.003Z"
      },
      {
        "duration": 12,
        "start_time": "2022-10-07T15:20:36.674Z"
      },
      {
        "duration": 3,
        "start_time": "2022-10-07T15:20:41.571Z"
      },
      {
        "duration": 66,
        "start_time": "2022-10-07T15:20:41.793Z"
      },
      {
        "duration": 17,
        "start_time": "2022-10-07T15:20:42.338Z"
      },
      {
        "duration": 14,
        "start_time": "2022-10-07T15:20:42.543Z"
      },
      {
        "duration": 20,
        "start_time": "2022-10-07T15:20:42.749Z"
      },
      {
        "duration": 22,
        "start_time": "2022-10-07T15:20:44.207Z"
      },
      {
        "duration": 3,
        "start_time": "2022-10-07T15:20:55.047Z"
      },
      {
        "duration": 63,
        "start_time": "2022-10-07T15:20:55.207Z"
      },
      {
        "duration": 22,
        "start_time": "2022-10-07T15:20:55.796Z"
      },
      {
        "duration": 15,
        "start_time": "2022-10-07T15:20:55.981Z"
      },
      {
        "duration": 30,
        "start_time": "2022-10-07T15:20:56.159Z"
      },
      {
        "duration": 31,
        "start_time": "2022-10-07T15:20:57.165Z"
      },
      {
        "duration": 51,
        "start_time": "2022-10-07T15:20:58.262Z"
      },
      {
        "duration": 15,
        "start_time": "2022-10-07T15:20:59.120Z"
      },
      {
        "duration": 12,
        "start_time": "2022-10-07T15:20:59.665Z"
      },
      {
        "duration": 21,
        "start_time": "2022-10-07T15:21:00.419Z"
      },
      {
        "duration": 6,
        "start_time": "2022-10-07T15:21:01.595Z"
      },
      {
        "duration": 10,
        "start_time": "2022-10-07T15:21:02.033Z"
      },
      {
        "duration": 10,
        "start_time": "2022-10-07T15:21:02.742Z"
      },
      {
        "duration": 17,
        "start_time": "2022-10-07T15:21:03.240Z"
      },
      {
        "duration": 13,
        "start_time": "2022-10-07T15:21:05.621Z"
      },
      {
        "duration": 6,
        "start_time": "2022-10-07T15:21:06.620Z"
      },
      {
        "duration": 3,
        "start_time": "2022-10-07T15:21:08.019Z"
      },
      {
        "duration": 21,
        "start_time": "2022-10-07T15:21:08.479Z"
      },
      {
        "duration": 169,
        "start_time": "2022-10-07T15:21:09.146Z"
      },
      {
        "duration": 9,
        "start_time": "2022-10-07T15:21:10.493Z"
      },
      {
        "duration": 19,
        "start_time": "2022-10-07T15:21:16.111Z"
      },
      {
        "duration": 275,
        "start_time": "2022-10-07T15:21:18.554Z"
      },
      {
        "duration": 5,
        "start_time": "2022-10-07T15:21:24.093Z"
      },
      {
        "duration": 17,
        "start_time": "2022-10-07T15:21:28.013Z"
      },
      {
        "duration": 12,
        "start_time": "2022-10-07T15:21:33.572Z"
      },
      {
        "duration": 2133,
        "start_time": "2022-10-07T15:21:34.244Z"
      },
      {
        "duration": 9,
        "start_time": "2022-10-07T15:21:47.880Z"
      },
      {
        "duration": 11,
        "start_time": "2022-10-07T15:22:24.227Z"
      },
      {
        "duration": 8,
        "start_time": "2022-10-07T15:22:43.116Z"
      },
      {
        "duration": 9,
        "start_time": "2022-10-07T15:23:06.296Z"
      },
      {
        "duration": 8,
        "start_time": "2022-10-07T15:26:43.524Z"
      },
      {
        "duration": 6,
        "start_time": "2022-10-07T15:28:00.098Z"
      },
      {
        "duration": 12,
        "start_time": "2022-10-07T15:28:14.102Z"
      },
      {
        "duration": 15,
        "start_time": "2022-10-07T15:28:24.636Z"
      },
      {
        "duration": 67402,
        "start_time": "2022-10-07T15:28:59.795Z"
      },
      {
        "duration": 71,
        "start_time": "2022-10-07T15:34:23.139Z"
      },
      {
        "duration": 13,
        "start_time": "2022-10-07T15:34:28.854Z"
      },
      {
        "duration": 12,
        "start_time": "2022-10-07T15:34:43.400Z"
      },
      {
        "duration": 15,
        "start_time": "2022-10-07T15:34:57.442Z"
      },
      {
        "duration": 21,
        "start_time": "2022-10-07T15:35:09.338Z"
      },
      {
        "duration": 6,
        "start_time": "2022-10-07T15:35:49.812Z"
      },
      {
        "duration": 241,
        "start_time": "2022-10-07T15:39:27.790Z"
      },
      {
        "duration": 247,
        "start_time": "2022-10-07T15:41:54.639Z"
      },
      {
        "duration": 248,
        "start_time": "2022-10-07T15:42:07.539Z"
      },
      {
        "duration": 237,
        "start_time": "2022-10-07T15:42:29.847Z"
      },
      {
        "duration": 250,
        "start_time": "2022-10-07T15:42:38.557Z"
      },
      {
        "duration": 9,
        "start_time": "2022-10-07T15:56:36.639Z"
      },
      {
        "duration": 15,
        "start_time": "2022-10-07T16:03:01.078Z"
      },
      {
        "duration": 95,
        "start_time": "2022-10-07T16:05:48.386Z"
      },
      {
        "duration": 17,
        "start_time": "2022-10-07T16:06:06.604Z"
      },
      {
        "duration": 17,
        "start_time": "2022-10-07T16:10:45.690Z"
      },
      {
        "duration": 18,
        "start_time": "2022-10-07T16:11:44.605Z"
      },
      {
        "duration": 15,
        "start_time": "2022-10-07T16:17:44.338Z"
      },
      {
        "duration": 17,
        "start_time": "2022-10-07T16:17:55.399Z"
      },
      {
        "duration": 12,
        "start_time": "2022-10-07T16:18:44.215Z"
      },
      {
        "duration": 16,
        "start_time": "2022-10-07T16:24:47.932Z"
      },
      {
        "duration": 15,
        "start_time": "2022-10-07T16:25:04.318Z"
      },
      {
        "duration": 22,
        "start_time": "2022-10-07T16:25:26.977Z"
      },
      {
        "duration": 21,
        "start_time": "2022-10-07T16:25:40.920Z"
      },
      {
        "duration": 109,
        "start_time": "2022-10-07T16:28:57.478Z"
      },
      {
        "duration": 91,
        "start_time": "2022-10-07T16:29:07.591Z"
      },
      {
        "duration": 8,
        "start_time": "2022-10-07T16:31:15.891Z"
      },
      {
        "duration": 10,
        "start_time": "2022-10-07T16:31:22.530Z"
      },
      {
        "duration": 102,
        "start_time": "2022-10-07T16:31:32.690Z"
      },
      {
        "duration": 980,
        "start_time": "2022-10-07T16:33:47.622Z"
      },
      {
        "duration": 103,
        "start_time": "2022-10-07T16:34:00.862Z"
      },
      {
        "duration": 105,
        "start_time": "2022-10-07T16:35:18.990Z"
      },
      {
        "duration": 105,
        "start_time": "2022-10-07T16:38:02.384Z"
      },
      {
        "duration": 114,
        "start_time": "2022-10-07T16:39:11.935Z"
      },
      {
        "duration": 91,
        "start_time": "2022-10-07T16:39:44.412Z"
      },
      {
        "duration": 128,
        "start_time": "2022-10-07T16:39:57.833Z"
      },
      {
        "duration": 101,
        "start_time": "2022-10-07T16:40:01.287Z"
      },
      {
        "duration": 103,
        "start_time": "2022-10-07T16:40:46.454Z"
      },
      {
        "duration": 55,
        "start_time": "2022-10-07T16:42:17.933Z"
      },
      {
        "duration": 108,
        "start_time": "2022-10-07T16:42:40.274Z"
      },
      {
        "duration": 117,
        "start_time": "2022-10-07T16:43:15.615Z"
      },
      {
        "duration": 51,
        "start_time": "2022-10-07T16:52:50.334Z"
      },
      {
        "duration": 42,
        "start_time": "2022-10-08T12:26:45.588Z"
      },
      {
        "duration": 382,
        "start_time": "2022-10-08T12:26:51.710Z"
      },
      {
        "duration": 192,
        "start_time": "2022-10-08T12:26:52.093Z"
      },
      {
        "duration": 15,
        "start_time": "2022-10-08T12:26:52.373Z"
      },
      {
        "duration": 8,
        "start_time": "2022-10-08T12:26:52.547Z"
      },
      {
        "duration": 18,
        "start_time": "2022-10-08T12:26:52.895Z"
      },
      {
        "duration": 19,
        "start_time": "2022-10-08T12:26:53.607Z"
      },
      {
        "duration": 33,
        "start_time": "2022-10-08T12:26:54.007Z"
      },
      {
        "duration": 12,
        "start_time": "2022-10-08T12:26:54.530Z"
      },
      {
        "duration": 8,
        "start_time": "2022-10-08T12:26:54.787Z"
      },
      {
        "duration": 19,
        "start_time": "2022-10-08T12:26:55.031Z"
      },
      {
        "duration": 6,
        "start_time": "2022-10-08T12:26:55.502Z"
      },
      {
        "duration": 7,
        "start_time": "2022-10-08T12:26:55.768Z"
      },
      {
        "duration": 8,
        "start_time": "2022-10-08T12:26:55.968Z"
      },
      {
        "duration": 14,
        "start_time": "2022-10-08T12:26:56.193Z"
      },
      {
        "duration": 14,
        "start_time": "2022-10-08T12:26:56.862Z"
      },
      {
        "duration": 7,
        "start_time": "2022-10-08T12:26:57.786Z"
      },
      {
        "duration": 903,
        "start_time": "2022-10-08T12:26:58.469Z"
      },
      {
        "duration": 17,
        "start_time": "2022-10-08T12:26:59.374Z"
      },
      {
        "duration": 193,
        "start_time": "2022-10-08T12:26:59.393Z"
      },
      {
        "duration": 9,
        "start_time": "2022-10-08T12:26:59.588Z"
      },
      {
        "duration": 17,
        "start_time": "2022-10-08T12:27:00.010Z"
      },
      {
        "duration": 70,
        "start_time": "2022-10-08T12:27:00.284Z"
      },
      {
        "duration": 3,
        "start_time": "2022-10-08T12:27:00.545Z"
      },
      {
        "duration": 12,
        "start_time": "2022-10-08T12:27:00.752Z"
      },
      {
        "duration": 1912,
        "start_time": "2022-10-08T12:27:01.051Z"
      },
      {
        "duration": 3,
        "start_time": "2022-10-08T12:27:14.252Z"
      },
      {
        "duration": 62,
        "start_time": "2022-10-08T12:27:14.625Z"
      },
      {
        "duration": 15,
        "start_time": "2022-10-08T12:27:15.675Z"
      },
      {
        "duration": 9,
        "start_time": "2022-10-08T12:27:15.978Z"
      },
      {
        "duration": 19,
        "start_time": "2022-10-08T12:27:16.450Z"
      },
      {
        "duration": 20,
        "start_time": "2022-10-08T12:27:18.161Z"
      },
      {
        "duration": 32,
        "start_time": "2022-10-08T12:27:19.314Z"
      },
      {
        "duration": 11,
        "start_time": "2022-10-08T12:27:20.742Z"
      },
      {
        "duration": 7,
        "start_time": "2022-10-08T12:27:21.463Z"
      },
      {
        "duration": 18,
        "start_time": "2022-10-08T12:27:22.979Z"
      },
      {
        "duration": 6,
        "start_time": "2022-10-08T12:27:26.219Z"
      },
      {
        "duration": 9,
        "start_time": "2022-10-08T12:27:26.877Z"
      },
      {
        "duration": 14,
        "start_time": "2022-10-08T12:27:27.728Z"
      },
      {
        "duration": 19,
        "start_time": "2022-10-08T12:27:29.012Z"
      },
      {
        "duration": 14,
        "start_time": "2022-10-08T12:27:31.589Z"
      },
      {
        "duration": 6,
        "start_time": "2022-10-08T12:27:35.826Z"
      },
      {
        "duration": 3,
        "start_time": "2022-10-08T12:27:39.658Z"
      },
      {
        "duration": 21,
        "start_time": "2022-10-08T12:27:47.325Z"
      },
      {
        "duration": 3,
        "start_time": "2022-10-08T12:27:51.243Z"
      },
      {
        "duration": 15,
        "start_time": "2022-10-08T12:27:54.656Z"
      },
      {
        "duration": 192,
        "start_time": "2022-10-08T12:28:01.308Z"
      },
      {
        "duration": 8,
        "start_time": "2022-10-08T12:28:03.414Z"
      },
      {
        "duration": 24,
        "start_time": "2022-10-08T12:28:13.184Z"
      },
      {
        "duration": 18,
        "start_time": "2022-10-08T12:28:15.014Z"
      },
      {
        "duration": 18,
        "start_time": "2022-10-08T12:28:35.910Z"
      },
      {
        "duration": 2,
        "start_time": "2022-10-08T12:28:53.625Z"
      },
      {
        "duration": 60,
        "start_time": "2022-10-08T12:28:54.117Z"
      },
      {
        "duration": 13,
        "start_time": "2022-10-08T12:28:56.630Z"
      },
      {
        "duration": 10,
        "start_time": "2022-10-08T12:28:57.400Z"
      },
      {
        "duration": 32,
        "start_time": "2022-10-08T12:28:58.235Z"
      },
      {
        "duration": 29,
        "start_time": "2022-10-08T12:29:01.860Z"
      },
      {
        "duration": 31,
        "start_time": "2022-10-08T12:29:03.604Z"
      },
      {
        "duration": 11,
        "start_time": "2022-10-08T12:29:07.174Z"
      },
      {
        "duration": 12,
        "start_time": "2022-10-08T12:29:09.009Z"
      },
      {
        "duration": 21,
        "start_time": "2022-10-08T12:29:11.864Z"
      },
      {
        "duration": 5,
        "start_time": "2022-10-08T12:29:14.528Z"
      },
      {
        "duration": 7,
        "start_time": "2022-10-08T12:29:16.718Z"
      },
      {
        "duration": 9,
        "start_time": "2022-10-08T12:29:17.332Z"
      },
      {
        "duration": 12,
        "start_time": "2022-10-08T12:29:18.082Z"
      },
      {
        "duration": 12,
        "start_time": "2022-10-08T12:29:21.592Z"
      },
      {
        "duration": 18,
        "start_time": "2022-10-08T12:29:22.898Z"
      },
      {
        "duration": 2,
        "start_time": "2022-10-08T12:29:26.855Z"
      },
      {
        "duration": 14,
        "start_time": "2022-10-08T12:29:29.085Z"
      },
      {
        "duration": 154,
        "start_time": "2022-10-08T12:29:31.896Z"
      },
      {
        "duration": 8,
        "start_time": "2022-10-08T12:29:34.791Z"
      },
      {
        "duration": 17,
        "start_time": "2022-10-08T12:29:40.102Z"
      },
      {
        "duration": 234,
        "start_time": "2022-10-08T12:30:03.170Z"
      },
      {
        "duration": 4,
        "start_time": "2022-10-08T12:30:10.365Z"
      },
      {
        "duration": 13,
        "start_time": "2022-10-08T12:30:11.214Z"
      },
      {
        "duration": 4,
        "start_time": "2022-10-08T12:30:16.986Z"
      },
      {
        "duration": 13,
        "start_time": "2022-10-08T12:30:17.367Z"
      },
      {
        "duration": 1912,
        "start_time": "2022-10-08T12:30:20.133Z"
      },
      {
        "duration": 13,
        "start_time": "2022-10-08T12:30:24.807Z"
      },
      {
        "duration": 17,
        "start_time": "2022-10-08T12:30:25.867Z"
      },
      {
        "duration": 13,
        "start_time": "2022-10-08T12:30:28.514Z"
      },
      {
        "duration": 106,
        "start_time": "2022-10-08T12:30:35.217Z"
      },
      {
        "duration": 99,
        "start_time": "2022-10-08T12:30:38.528Z"
      },
      {
        "duration": 93,
        "start_time": "2022-10-08T12:30:39.291Z"
      },
      {
        "duration": 94,
        "start_time": "2022-10-08T12:30:39.711Z"
      },
      {
        "duration": 96,
        "start_time": "2022-10-08T12:30:40.332Z"
      },
      {
        "duration": 107,
        "start_time": "2022-10-08T12:30:40.771Z"
      },
      {
        "duration": 16,
        "start_time": "2022-10-08T12:30:42.102Z"
      },
      {
        "duration": 5,
        "start_time": "2022-10-08T12:31:33.068Z"
      },
      {
        "duration": 5,
        "start_time": "2022-10-08T12:31:56.572Z"
      },
      {
        "duration": 178,
        "start_time": "2022-10-08T12:33:06.259Z"
      },
      {
        "duration": 224,
        "start_time": "2022-10-08T12:34:09.975Z"
      },
      {
        "duration": 165,
        "start_time": "2022-10-08T12:35:12.592Z"
      },
      {
        "duration": 99,
        "start_time": "2022-10-08T12:35:22.727Z"
      },
      {
        "duration": 134,
        "start_time": "2022-10-08T12:35:52.159Z"
      },
      {
        "duration": 118,
        "start_time": "2022-10-08T12:36:10.123Z"
      },
      {
        "duration": 108,
        "start_time": "2022-10-08T12:36:23.630Z"
      },
      {
        "duration": 97,
        "start_time": "2022-10-08T12:36:27.055Z"
      },
      {
        "duration": 110,
        "start_time": "2022-10-08T12:36:33.164Z"
      },
      {
        "duration": 126,
        "start_time": "2022-10-08T12:36:37.311Z"
      },
      {
        "duration": 123,
        "start_time": "2022-10-08T12:36:43.214Z"
      },
      {
        "duration": 12,
        "start_time": "2022-10-08T12:44:12.939Z"
      },
      {
        "duration": 29,
        "start_time": "2022-10-08T12:47:00.118Z"
      },
      {
        "duration": 29,
        "start_time": "2022-10-08T12:47:16.745Z"
      },
      {
        "duration": 14,
        "start_time": "2022-10-08T12:47:34.252Z"
      },
      {
        "duration": 17,
        "start_time": "2022-10-08T12:47:47.312Z"
      },
      {
        "duration": 17,
        "start_time": "2022-10-08T12:47:54.740Z"
      },
      {
        "duration": 17,
        "start_time": "2022-10-08T12:48:02.044Z"
      },
      {
        "duration": 83,
        "start_time": "2022-10-08T12:48:25.162Z"
      },
      {
        "duration": 13,
        "start_time": "2022-10-08T12:52:20.840Z"
      },
      {
        "duration": 8,
        "start_time": "2022-10-08T12:52:35.771Z"
      },
      {
        "duration": 12,
        "start_time": "2022-10-08T12:52:54.140Z"
      },
      {
        "duration": 12,
        "start_time": "2022-10-08T12:59:40.491Z"
      },
      {
        "duration": 21,
        "start_time": "2022-10-08T13:00:07.788Z"
      },
      {
        "duration": 14,
        "start_time": "2022-10-08T13:00:33.833Z"
      },
      {
        "duration": 6,
        "start_time": "2022-10-08T13:01:58.027Z"
      },
      {
        "duration": 17,
        "start_time": "2022-10-08T13:02:03.383Z"
      },
      {
        "duration": 5,
        "start_time": "2022-10-08T13:02:35.231Z"
      },
      {
        "duration": 10,
        "start_time": "2022-10-08T13:02:35.772Z"
      },
      {
        "duration": 1098,
        "start_time": "2022-10-08T13:05:47.392Z"
      },
      {
        "duration": 6,
        "start_time": "2022-10-08T13:05:55.120Z"
      },
      {
        "duration": 4,
        "start_time": "2022-10-08T13:06:15.421Z"
      },
      {
        "duration": 163,
        "start_time": "2022-10-08T13:06:34.223Z"
      },
      {
        "duration": 183,
        "start_time": "2022-10-08T13:07:01.389Z"
      },
      {
        "duration": 9,
        "start_time": "2022-10-08T13:08:06.085Z"
      },
      {
        "duration": 4,
        "start_time": "2022-10-08T13:08:09.545Z"
      },
      {
        "duration": 5,
        "start_time": "2022-10-08T13:08:10.213Z"
      },
      {
        "duration": 169,
        "start_time": "2022-10-08T13:08:10.992Z"
      },
      {
        "duration": 154,
        "start_time": "2022-10-08T13:08:15.002Z"
      },
      {
        "duration": 205,
        "start_time": "2022-10-08T13:08:49.504Z"
      },
      {
        "duration": 526,
        "start_time": "2022-10-08T14:06:52.015Z"
      },
      {
        "duration": 507,
        "start_time": "2022-10-08T14:07:26.580Z"
      },
      {
        "duration": 2255,
        "start_time": "2022-10-08T14:07:34.339Z"
      },
      {
        "duration": 13,
        "start_time": "2022-10-08T14:12:12.763Z"
      },
      {
        "duration": 69,
        "start_time": "2022-10-08T14:12:51.985Z"
      },
      {
        "duration": 9,
        "start_time": "2022-10-08T14:12:59.453Z"
      },
      {
        "duration": 20,
        "start_time": "2022-10-08T14:26:16.092Z"
      },
      {
        "duration": 7,
        "start_time": "2022-10-08T14:27:12.890Z"
      },
      {
        "duration": 20,
        "start_time": "2022-10-08T14:27:17.776Z"
      },
      {
        "duration": 41,
        "start_time": "2022-10-08T21:13:48.665Z"
      },
      {
        "duration": 378,
        "start_time": "2022-10-08T21:14:34.709Z"
      },
      {
        "duration": 113,
        "start_time": "2022-10-08T21:14:35.089Z"
      },
      {
        "duration": 14,
        "start_time": "2022-10-08T21:14:35.536Z"
      },
      {
        "duration": 10,
        "start_time": "2022-10-08T21:14:35.730Z"
      },
      {
        "duration": 21,
        "start_time": "2022-10-08T21:14:35.909Z"
      },
      {
        "duration": 19,
        "start_time": "2022-10-08T21:14:36.643Z"
      },
      {
        "duration": 32,
        "start_time": "2022-10-08T21:14:37.017Z"
      },
      {
        "duration": 14,
        "start_time": "2022-10-08T21:14:37.424Z"
      },
      {
        "duration": 8,
        "start_time": "2022-10-08T21:14:37.633Z"
      },
      {
        "duration": 20,
        "start_time": "2022-10-08T21:14:37.795Z"
      },
      {
        "duration": 6,
        "start_time": "2022-10-08T21:14:38.178Z"
      },
      {
        "duration": 6,
        "start_time": "2022-10-08T21:14:38.391Z"
      },
      {
        "duration": 8,
        "start_time": "2022-10-08T21:14:38.604Z"
      },
      {
        "duration": 14,
        "start_time": "2022-10-08T21:14:38.802Z"
      },
      {
        "duration": 12,
        "start_time": "2022-10-08T21:14:39.021Z"
      },
      {
        "duration": 18,
        "start_time": "2022-10-08T21:14:39.471Z"
      },
      {
        "duration": 855,
        "start_time": "2022-10-08T21:14:40.156Z"
      },
      {
        "duration": 16,
        "start_time": "2022-10-08T21:14:41.013Z"
      },
      {
        "duration": 192,
        "start_time": "2022-10-08T21:14:41.030Z"
      },
      {
        "duration": 9,
        "start_time": "2022-10-08T21:14:41.224Z"
      },
      {
        "duration": 16,
        "start_time": "2022-10-08T21:14:42.109Z"
      },
      {
        "duration": 261,
        "start_time": "2022-10-08T21:14:42.343Z"
      },
      {
        "duration": 4,
        "start_time": "2022-10-08T21:14:43.497Z"
      },
      {
        "duration": 13,
        "start_time": "2022-10-08T21:14:43.714Z"
      },
      {
        "duration": 1988,
        "start_time": "2022-10-08T21:14:43.916Z"
      },
      {
        "duration": 13,
        "start_time": "2022-10-08T21:14:45.905Z"
      },
      {
        "duration": 17,
        "start_time": "2022-10-08T21:14:45.920Z"
      },
      {
        "duration": 12,
        "start_time": "2022-10-08T21:14:45.939Z"
      },
      {
        "duration": 149,
        "start_time": "2022-10-08T21:14:45.953Z"
      },
      {
        "duration": 124,
        "start_time": "2022-10-08T21:14:46.160Z"
      },
      {
        "duration": 105,
        "start_time": "2022-10-08T21:14:46.563Z"
      },
      {
        "duration": 112,
        "start_time": "2022-10-08T21:14:46.960Z"
      },
      {
        "duration": 125,
        "start_time": "2022-10-08T21:14:47.381Z"
      },
      {
        "duration": 114,
        "start_time": "2022-10-08T21:14:47.819Z"
      },
      {
        "duration": 8,
        "start_time": "2022-10-08T21:14:48.841Z"
      },
      {
        "duration": 5,
        "start_time": "2022-10-08T21:14:49.109Z"
      },
      {
        "duration": 6,
        "start_time": "2022-10-08T21:14:49.378Z"
      },
      {
        "duration": 145,
        "start_time": "2022-10-08T21:14:49.633Z"
      },
      {
        "duration": 144,
        "start_time": "2022-10-08T21:14:50.118Z"
      },
      {
        "duration": 227,
        "start_time": "2022-10-08T21:14:50.381Z"
      },
      {
        "duration": 6,
        "start_time": "2022-10-08T21:14:53.601Z"
      },
      {
        "duration": 74,
        "start_time": "2022-10-08T21:14:54.146Z"
      },
      {
        "duration": 17,
        "start_time": "2022-10-08T21:16:54.471Z"
      },
      {
        "duration": 828,
        "start_time": "2022-10-08T21:18:39.534Z"
      },
      {
        "duration": 12,
        "start_time": "2022-10-08T21:18:52.252Z"
      },
      {
        "duration": 28,
        "start_time": "2022-10-08T21:22:24.058Z"
      },
      {
        "duration": 6,
        "start_time": "2022-10-08T21:22:46.534Z"
      },
      {
        "duration": 57,
        "start_time": "2022-10-08T21:24:56.614Z"
      },
      {
        "duration": 15,
        "start_time": "2022-10-08T21:25:05.511Z"
      },
      {
        "duration": 27,
        "start_time": "2022-10-08T21:25:17.319Z"
      },
      {
        "duration": 24,
        "start_time": "2022-10-08T21:25:49.355Z"
      },
      {
        "duration": 24,
        "start_time": "2022-10-08T21:26:13.333Z"
      },
      {
        "duration": 25,
        "start_time": "2022-10-08T21:26:27.740Z"
      },
      {
        "duration": 16,
        "start_time": "2022-10-08T21:26:50.379Z"
      },
      {
        "duration": 19,
        "start_time": "2022-10-08T21:27:03.433Z"
      },
      {
        "duration": 27,
        "start_time": "2022-10-08T21:27:16.670Z"
      },
      {
        "duration": 8,
        "start_time": "2022-10-08T21:28:21.675Z"
      },
      {
        "duration": 29,
        "start_time": "2022-10-08T21:28:23.573Z"
      },
      {
        "duration": 28,
        "start_time": "2022-10-08T21:28:35.591Z"
      },
      {
        "duration": 30,
        "start_time": "2022-10-08T21:28:56.039Z"
      },
      {
        "duration": 30,
        "start_time": "2022-10-08T21:29:08.292Z"
      },
      {
        "duration": 28,
        "start_time": "2022-10-08T21:29:17.383Z"
      },
      {
        "duration": 52,
        "start_time": "2022-10-08T21:29:22.516Z"
      },
      {
        "duration": 30,
        "start_time": "2022-10-08T21:29:58.373Z"
      },
      {
        "duration": 14,
        "start_time": "2022-10-08T21:30:07.980Z"
      },
      {
        "duration": 9,
        "start_time": "2022-10-08T21:32:59.902Z"
      },
      {
        "duration": 10,
        "start_time": "2022-10-08T21:36:58.300Z"
      },
      {
        "duration": 29,
        "start_time": "2022-10-08T21:40:37.815Z"
      },
      {
        "duration": 29,
        "start_time": "2022-10-08T21:41:39.336Z"
      },
      {
        "duration": 6,
        "start_time": "2022-10-08T21:43:25.321Z"
      },
      {
        "duration": 14,
        "start_time": "2022-10-08T21:44:48.595Z"
      },
      {
        "duration": 7,
        "start_time": "2022-10-08T21:47:02.930Z"
      },
      {
        "duration": 5,
        "start_time": "2022-10-08T21:47:03.382Z"
      },
      {
        "duration": 5,
        "start_time": "2022-10-08T21:47:04.153Z"
      },
      {
        "duration": 150,
        "start_time": "2022-10-08T21:47:04.903Z"
      },
      {
        "duration": 140,
        "start_time": "2022-10-08T21:47:07.095Z"
      },
      {
        "duration": 146,
        "start_time": "2022-10-08T21:47:15.634Z"
      },
      {
        "duration": 38,
        "start_time": "2022-10-08T21:47:24.167Z"
      },
      {
        "duration": 137,
        "start_time": "2022-10-08T21:50:17.961Z"
      },
      {
        "duration": 6,
        "start_time": "2022-10-08T21:50:39.945Z"
      },
      {
        "duration": 5,
        "start_time": "2022-10-08T21:50:40.422Z"
      },
      {
        "duration": 4,
        "start_time": "2022-10-08T21:50:40.950Z"
      },
      {
        "duration": 179,
        "start_time": "2022-10-08T21:50:41.378Z"
      },
      {
        "duration": 144,
        "start_time": "2022-10-08T21:50:42.485Z"
      },
      {
        "duration": 132,
        "start_time": "2022-10-08T21:50:43.240Z"
      },
      {
        "duration": 30,
        "start_time": "2022-10-08T21:50:45.233Z"
      },
      {
        "duration": 149,
        "start_time": "2022-10-08T21:50:45.723Z"
      },
      {
        "duration": 111,
        "start_time": "2022-10-08T21:51:35.090Z"
      },
      {
        "duration": 104,
        "start_time": "2022-10-08T21:51:58.338Z"
      },
      {
        "duration": 100,
        "start_time": "2022-10-08T21:52:12.407Z"
      },
      {
        "duration": 122,
        "start_time": "2022-10-08T21:52:15.405Z"
      },
      {
        "duration": 2,
        "start_time": "2022-10-08T21:52:31.454Z"
      },
      {
        "duration": 67,
        "start_time": "2022-10-08T21:52:31.638Z"
      },
      {
        "duration": 15,
        "start_time": "2022-10-08T21:52:32.331Z"
      },
      {
        "duration": 10,
        "start_time": "2022-10-08T21:52:32.529Z"
      },
      {
        "duration": 18,
        "start_time": "2022-10-08T21:52:32.783Z"
      },
      {
        "duration": 20,
        "start_time": "2022-10-08T21:52:33.741Z"
      },
      {
        "duration": 33,
        "start_time": "2022-10-08T21:52:34.272Z"
      },
      {
        "duration": 10,
        "start_time": "2022-10-08T21:52:34.805Z"
      },
      {
        "duration": 9,
        "start_time": "2022-10-08T21:52:35.213Z"
      },
      {
        "duration": 18,
        "start_time": "2022-10-08T21:52:35.511Z"
      },
      {
        "duration": 5,
        "start_time": "2022-10-08T21:52:36.007Z"
      },
      {
        "duration": 7,
        "start_time": "2022-10-08T21:52:36.227Z"
      },
      {
        "duration": 9,
        "start_time": "2022-10-08T21:52:36.467Z"
      },
      {
        "duration": 12,
        "start_time": "2022-10-08T21:52:36.741Z"
      },
      {
        "duration": 13,
        "start_time": "2022-10-08T21:52:37.008Z"
      },
      {
        "duration": 18,
        "start_time": "2022-10-08T21:52:38.135Z"
      },
      {
        "duration": 3,
        "start_time": "2022-10-08T21:52:39.352Z"
      },
      {
        "duration": 13,
        "start_time": "2022-10-08T21:52:39.958Z"
      },
      {
        "duration": 166,
        "start_time": "2022-10-08T21:52:40.376Z"
      },
      {
        "duration": 7,
        "start_time": "2022-10-08T21:52:41.500Z"
      },
      {
        "duration": 23,
        "start_time": "2022-10-08T21:52:45.571Z"
      },
      {
        "duration": 299,
        "start_time": "2022-10-08T21:52:45.973Z"
      },
      {
        "duration": 4,
        "start_time": "2022-10-08T21:52:46.277Z"
      },
      {
        "duration": 12,
        "start_time": "2022-10-08T21:52:49.478Z"
      },
      {
        "duration": 1813,
        "start_time": "2022-10-08T21:52:50.089Z"
      },
      {
        "duration": 14,
        "start_time": "2022-10-08T21:52:52.664Z"
      },
      {
        "duration": 16,
        "start_time": "2022-10-08T21:52:53.979Z"
      },
      {
        "duration": 12,
        "start_time": "2022-10-08T21:52:56.777Z"
      },
      {
        "duration": 101,
        "start_time": "2022-10-08T21:53:00.383Z"
      },
      {
        "duration": 115,
        "start_time": "2022-10-08T21:53:10.139Z"
      },
      {
        "duration": 217,
        "start_time": "2022-10-08T21:53:13.412Z"
      },
      {
        "duration": 31,
        "start_time": "2022-10-08T21:53:46.357Z"
      },
      {
        "duration": 35,
        "start_time": "2022-10-08T21:54:01.360Z"
      },
      {
        "duration": 5,
        "start_time": "2022-10-08T21:56:58.611Z"
      },
      {
        "duration": 790,
        "start_time": "2022-10-08T21:58:19.439Z"
      },
      {
        "duration": 155,
        "start_time": "2022-10-08T21:58:24.117Z"
      },
      {
        "duration": 7,
        "start_time": "2022-10-08T21:59:30.352Z"
      },
      {
        "duration": 2,
        "start_time": "2022-10-08T21:59:41.674Z"
      },
      {
        "duration": 61,
        "start_time": "2022-10-08T21:59:41.864Z"
      },
      {
        "duration": 14,
        "start_time": "2022-10-08T21:59:42.429Z"
      },
      {
        "duration": 8,
        "start_time": "2022-10-08T21:59:42.620Z"
      },
      {
        "duration": 19,
        "start_time": "2022-10-08T21:59:42.807Z"
      },
      {
        "duration": 20,
        "start_time": "2022-10-08T21:59:43.716Z"
      },
      {
        "duration": 41,
        "start_time": "2022-10-08T21:59:44.490Z"
      },
      {
        "duration": 11,
        "start_time": "2022-10-08T21:59:45.230Z"
      },
      {
        "duration": 8,
        "start_time": "2022-10-08T21:59:45.623Z"
      },
      {
        "duration": 19,
        "start_time": "2022-10-08T21:59:45.987Z"
      },
      {
        "duration": 5,
        "start_time": "2022-10-08T21:59:46.937Z"
      },
      {
        "duration": 7,
        "start_time": "2022-10-08T21:59:47.286Z"
      },
      {
        "duration": 8,
        "start_time": "2022-10-08T21:59:47.516Z"
      },
      {
        "duration": 12,
        "start_time": "2022-10-08T21:59:47.903Z"
      },
      {
        "duration": 12,
        "start_time": "2022-10-08T21:59:48.330Z"
      },
      {
        "duration": 7,
        "start_time": "2022-10-08T21:59:48.737Z"
      },
      {
        "duration": 20,
        "start_time": "2022-10-08T21:59:49.403Z"
      },
      {
        "duration": 17,
        "start_time": "2022-10-08T21:59:56.850Z"
      },
      {
        "duration": 6,
        "start_time": "2022-10-08T22:00:09.841Z"
      },
      {
        "duration": 17,
        "start_time": "2022-10-08T22:00:15.632Z"
      },
      {
        "duration": 2,
        "start_time": "2022-10-08T22:00:23.594Z"
      },
      {
        "duration": 18,
        "start_time": "2022-10-08T22:00:24.166Z"
      },
      {
        "duration": 156,
        "start_time": "2022-10-08T22:00:24.658Z"
      },
      {
        "duration": 6,
        "start_time": "2022-10-08T22:00:26.934Z"
      },
      {
        "duration": 7,
        "start_time": "2022-10-08T22:00:48.818Z"
      },
      {
        "duration": 18,
        "start_time": "2022-10-08T22:00:51.334Z"
      },
      {
        "duration": 2,
        "start_time": "2022-10-08T22:00:53.734Z"
      },
      {
        "duration": 12,
        "start_time": "2022-10-08T22:00:53.956Z"
      },
      {
        "duration": 2,
        "start_time": "2022-10-08T22:01:07.234Z"
      },
      {
        "duration": 60,
        "start_time": "2022-10-08T22:01:07.443Z"
      },
      {
        "duration": 12,
        "start_time": "2022-10-08T22:01:08.784Z"
      },
      {
        "duration": 8,
        "start_time": "2022-10-08T22:01:09.364Z"
      },
      {
        "duration": 17,
        "start_time": "2022-10-08T22:01:09.857Z"
      },
      {
        "duration": 19,
        "start_time": "2022-10-08T22:01:12.661Z"
      },
      {
        "duration": 30,
        "start_time": "2022-10-08T22:01:14.036Z"
      },
      {
        "duration": 11,
        "start_time": "2022-10-08T22:01:14.856Z"
      },
      {
        "duration": 8,
        "start_time": "2022-10-08T22:01:15.301Z"
      },
      {
        "duration": 19,
        "start_time": "2022-10-08T22:01:15.786Z"
      },
      {
        "duration": 5,
        "start_time": "2022-10-08T22:01:18.275Z"
      },
      {
        "duration": 6,
        "start_time": "2022-10-08T22:01:18.620Z"
      },
      {
        "duration": 8,
        "start_time": "2022-10-08T22:01:18.941Z"
      },
      {
        "duration": 12,
        "start_time": "2022-10-08T22:01:19.375Z"
      },
      {
        "duration": 15,
        "start_time": "2022-10-08T22:01:19.883Z"
      },
      {
        "duration": 7,
        "start_time": "2022-10-08T22:01:20.855Z"
      },
      {
        "duration": 17,
        "start_time": "2022-10-08T22:01:22.658Z"
      },
      {
        "duration": 2,
        "start_time": "2022-10-08T22:01:59.828Z"
      },
      {
        "duration": 70,
        "start_time": "2022-10-08T22:02:00.004Z"
      },
      {
        "duration": 12,
        "start_time": "2022-10-08T22:02:00.628Z"
      },
      {
        "duration": 10,
        "start_time": "2022-10-08T22:02:00.831Z"
      },
      {
        "duration": 21,
        "start_time": "2022-10-08T22:02:01.024Z"
      },
      {
        "duration": 19,
        "start_time": "2022-10-08T22:02:01.903Z"
      },
      {
        "duration": 33,
        "start_time": "2022-10-08T22:02:02.329Z"
      },
      {
        "duration": 12,
        "start_time": "2022-10-08T22:02:02.766Z"
      },
      {
        "duration": 9,
        "start_time": "2022-10-08T22:02:02.987Z"
      },
      {
        "duration": 19,
        "start_time": "2022-10-08T22:02:03.207Z"
      },
      {
        "duration": 5,
        "start_time": "2022-10-08T22:02:03.691Z"
      },
      {
        "duration": 6,
        "start_time": "2022-10-08T22:02:03.937Z"
      },
      {
        "duration": 9,
        "start_time": "2022-10-08T22:02:04.143Z"
      },
      {
        "duration": 12,
        "start_time": "2022-10-08T22:02:04.327Z"
      },
      {
        "duration": 13,
        "start_time": "2022-10-08T22:02:04.570Z"
      },
      {
        "duration": 18,
        "start_time": "2022-10-08T22:02:05.041Z"
      },
      {
        "duration": 2,
        "start_time": "2022-10-08T22:02:05.751Z"
      },
      {
        "duration": 14,
        "start_time": "2022-10-08T22:02:05.985Z"
      },
      {
        "duration": 168,
        "start_time": "2022-10-08T22:02:06.220Z"
      },
      {
        "duration": 9,
        "start_time": "2022-10-08T22:02:06.690Z"
      },
      {
        "duration": 221,
        "start_time": "2022-10-08T22:02:20.788Z"
      },
      {
        "duration": 5,
        "start_time": "2022-10-08T22:02:22.940Z"
      },
      {
        "duration": 11,
        "start_time": "2022-10-08T22:02:23.866Z"
      },
      {
        "duration": 2018,
        "start_time": "2022-10-08T22:02:27.723Z"
      },
      {
        "duration": 8,
        "start_time": "2022-10-08T22:03:19.659Z"
      },
      {
        "duration": 15,
        "start_time": "2022-10-08T22:03:20.295Z"
      },
      {
        "duration": 17,
        "start_time": "2022-10-08T22:03:47.790Z"
      },
      {
        "duration": 13,
        "start_time": "2022-10-08T22:03:52.953Z"
      },
      {
        "duration": 3,
        "start_time": "2022-10-08T22:04:30.492Z"
      },
      {
        "duration": 65,
        "start_time": "2022-10-08T22:04:30.839Z"
      },
      {
        "duration": 12,
        "start_time": "2022-10-08T22:04:31.659Z"
      },
      {
        "duration": 9,
        "start_time": "2022-10-08T22:04:31.995Z"
      },
      {
        "duration": 21,
        "start_time": "2022-10-08T22:04:32.339Z"
      },
      {
        "duration": 19,
        "start_time": "2022-10-08T22:04:33.608Z"
      },
      {
        "duration": 35,
        "start_time": "2022-10-08T22:04:34.052Z"
      },
      {
        "duration": 13,
        "start_time": "2022-10-08T22:04:34.515Z"
      },
      {
        "duration": 9,
        "start_time": "2022-10-08T22:04:34.765Z"
      },
      {
        "duration": 18,
        "start_time": "2022-10-08T22:04:35.082Z"
      },
      {
        "duration": 6,
        "start_time": "2022-10-08T22:04:35.534Z"
      },
      {
        "duration": 9,
        "start_time": "2022-10-08T22:04:35.839Z"
      },
      {
        "duration": 9,
        "start_time": "2022-10-08T22:04:36.052Z"
      },
      {
        "duration": 14,
        "start_time": "2022-10-08T22:04:36.251Z"
      },
      {
        "duration": 15,
        "start_time": "2022-10-08T22:04:36.441Z"
      },
      {
        "duration": 18,
        "start_time": "2022-10-08T22:04:36.874Z"
      },
      {
        "duration": 2,
        "start_time": "2022-10-08T22:04:37.498Z"
      },
      {
        "duration": 14,
        "start_time": "2022-10-08T22:04:37.705Z"
      },
      {
        "duration": 171,
        "start_time": "2022-10-08T22:04:37.900Z"
      },
      {
        "duration": 9,
        "start_time": "2022-10-08T22:04:38.356Z"
      },
      {
        "duration": 17,
        "start_time": "2022-10-08T22:04:39.070Z"
      },
      {
        "duration": 259,
        "start_time": "2022-10-08T22:04:39.302Z"
      },
      {
        "duration": 4,
        "start_time": "2022-10-08T22:04:39.563Z"
      },
      {
        "duration": 12,
        "start_time": "2022-10-08T22:04:39.852Z"
      },
      {
        "duration": 1970,
        "start_time": "2022-10-08T22:04:40.154Z"
      },
      {
        "duration": 13,
        "start_time": "2022-10-08T22:04:42.125Z"
      },
      {
        "duration": 20,
        "start_time": "2022-10-08T22:04:42.140Z"
      },
      {
        "duration": 14,
        "start_time": "2022-10-08T22:04:43.874Z"
      },
      {
        "duration": 102,
        "start_time": "2022-10-08T22:04:47.258Z"
      },
      {
        "duration": 117,
        "start_time": "2022-10-08T22:04:50.407Z"
      },
      {
        "duration": 99,
        "start_time": "2022-10-08T22:04:50.816Z"
      },
      {
        "duration": 120,
        "start_time": "2022-10-08T22:04:51.334Z"
      },
      {
        "duration": 120,
        "start_time": "2022-10-08T22:04:52.035Z"
      },
      {
        "duration": 132,
        "start_time": "2022-10-08T22:04:52.614Z"
      },
      {
        "duration": 7,
        "start_time": "2022-10-08T22:05:19.839Z"
      },
      {
        "duration": 6,
        "start_time": "2022-10-08T22:05:20.255Z"
      },
      {
        "duration": 4,
        "start_time": "2022-10-08T22:05:20.728Z"
      },
      {
        "duration": 138,
        "start_time": "2022-10-08T22:05:21.533Z"
      },
      {
        "duration": 136,
        "start_time": "2022-10-08T22:05:25.573Z"
      },
      {
        "duration": 33,
        "start_time": "2022-10-08T22:05:33.657Z"
      },
      {
        "duration": 21,
        "start_time": "2022-10-08T22:11:12.961Z"
      },
      {
        "duration": 163,
        "start_time": "2022-10-08T22:11:22.668Z"
      },
      {
        "duration": 167,
        "start_time": "2022-10-08T22:11:49.358Z"
      },
      {
        "duration": 166,
        "start_time": "2022-10-08T22:12:10.338Z"
      },
      {
        "duration": 4,
        "start_time": "2022-10-08T22:21:44.241Z"
      },
      {
        "duration": 397,
        "start_time": "2022-10-09T09:31:52.535Z"
      },
      {
        "duration": 143,
        "start_time": "2022-10-09T09:31:52.934Z"
      },
      {
        "duration": 15,
        "start_time": "2022-10-09T09:31:53.341Z"
      },
      {
        "duration": 10,
        "start_time": "2022-10-09T09:31:53.557Z"
      },
      {
        "duration": 40,
        "start_time": "2022-10-09T09:31:53.791Z"
      },
      {
        "duration": 29,
        "start_time": "2022-10-09T09:31:54.737Z"
      },
      {
        "duration": 59,
        "start_time": "2022-10-09T09:31:55.180Z"
      },
      {
        "duration": 11,
        "start_time": "2022-10-09T09:31:55.648Z"
      },
      {
        "duration": 17,
        "start_time": "2022-10-09T09:31:55.931Z"
      },
      {
        "duration": 28,
        "start_time": "2022-10-09T09:31:56.160Z"
      },
      {
        "duration": 6,
        "start_time": "2022-10-09T09:31:56.691Z"
      },
      {
        "duration": 7,
        "start_time": "2022-10-09T09:31:56.944Z"
      },
      {
        "duration": 10,
        "start_time": "2022-10-09T09:31:57.151Z"
      },
      {
        "duration": 13,
        "start_time": "2022-10-09T09:31:57.439Z"
      },
      {
        "duration": 27,
        "start_time": "2022-10-09T09:31:57.708Z"
      },
      {
        "duration": 20,
        "start_time": "2022-10-09T09:31:58.376Z"
      },
      {
        "duration": 978,
        "start_time": "2022-10-09T09:31:59.095Z"
      },
      {
        "duration": 23,
        "start_time": "2022-10-09T09:32:00.077Z"
      },
      {
        "duration": 241,
        "start_time": "2022-10-09T09:32:00.102Z"
      },
      {
        "duration": 12,
        "start_time": "2022-10-09T09:32:00.448Z"
      },
      {
        "duration": 19,
        "start_time": "2022-10-09T09:32:01.487Z"
      },
      {
        "duration": 268,
        "start_time": "2022-10-09T09:32:12.173Z"
      },
      {
        "duration": 5,
        "start_time": "2022-10-09T09:32:12.443Z"
      },
      {
        "duration": 12,
        "start_time": "2022-10-09T09:32:12.541Z"
      },
      {
        "duration": 2328,
        "start_time": "2022-10-09T09:32:12.948Z"
      },
      {
        "duration": 20,
        "start_time": "2022-10-09T09:32:15.278Z"
      },
      {
        "duration": 44,
        "start_time": "2022-10-09T09:32:15.323Z"
      },
      {
        "duration": 17,
        "start_time": "2022-10-09T09:32:15.370Z"
      },
      {
        "duration": 116,
        "start_time": "2022-10-09T09:32:15.806Z"
      },
      {
        "duration": 198,
        "start_time": "2022-10-09T09:32:16.477Z"
      },
      {
        "duration": 166,
        "start_time": "2022-10-09T09:32:17.037Z"
      },
      {
        "duration": 130,
        "start_time": "2022-10-09T09:32:17.673Z"
      },
      {
        "duration": 139,
        "start_time": "2022-10-09T09:32:18.264Z"
      },
      {
        "duration": 135,
        "start_time": "2022-10-09T09:32:18.671Z"
      },
      {
        "duration": 7,
        "start_time": "2022-10-09T09:32:20.257Z"
      },
      {
        "duration": 7,
        "start_time": "2022-10-09T09:32:21.837Z"
      },
      {
        "duration": 6,
        "start_time": "2022-10-09T09:32:22.276Z"
      },
      {
        "duration": 242,
        "start_time": "2022-10-09T09:32:37.201Z"
      },
      {
        "duration": 205,
        "start_time": "2022-10-09T09:32:37.445Z"
      },
      {
        "duration": 143,
        "start_time": "2022-10-09T09:33:08.043Z"
      },
      {
        "duration": 18,
        "start_time": "2022-10-09T09:33:11.246Z"
      },
      {
        "duration": 183,
        "start_time": "2022-10-09T09:33:12.167Z"
      },
      {
        "duration": 239,
        "start_time": "2022-10-09T09:33:14.536Z"
      },
      {
        "duration": 17,
        "start_time": "2022-10-09T09:35:23.279Z"
      },
      {
        "duration": 13,
        "start_time": "2022-10-09T09:45:59.520Z"
      },
      {
        "duration": 13,
        "start_time": "2022-10-09T09:46:33.722Z"
      },
      {
        "duration": 246,
        "start_time": "2022-10-09T09:47:18.953Z"
      },
      {
        "duration": 140,
        "start_time": "2022-10-09T09:47:32.904Z"
      },
      {
        "duration": 184,
        "start_time": "2022-10-09T09:48:00.199Z"
      },
      {
        "duration": 209,
        "start_time": "2022-10-09T09:49:19.093Z"
      },
      {
        "duration": 9,
        "start_time": "2022-10-09T09:50:22.387Z"
      },
      {
        "duration": 15,
        "start_time": "2022-10-09T09:50:37.621Z"
      },
      {
        "duration": 164,
        "start_time": "2022-10-09T09:55:32.314Z"
      },
      {
        "duration": 161,
        "start_time": "2022-10-09T09:56:02.962Z"
      },
      {
        "duration": 160,
        "start_time": "2022-10-09T09:56:14.724Z"
      },
      {
        "duration": 16,
        "start_time": "2022-10-09T09:57:05.736Z"
      },
      {
        "duration": 8713,
        "start_time": "2022-10-09T09:57:33.012Z"
      },
      {
        "duration": 831,
        "start_time": "2022-10-09T09:58:05.244Z"
      },
      {
        "duration": 150,
        "start_time": "2022-10-09T09:58:22.121Z"
      },
      {
        "duration": 262,
        "start_time": "2022-10-09T09:58:49.088Z"
      },
      {
        "duration": 148,
        "start_time": "2022-10-09T09:59:07.592Z"
      },
      {
        "duration": 47,
        "start_time": "2022-10-09T09:59:51.148Z"
      },
      {
        "duration": 822,
        "start_time": "2022-10-09T09:59:59.681Z"
      },
      {
        "duration": 910,
        "start_time": "2022-10-09T10:01:06.211Z"
      },
      {
        "duration": 13,
        "start_time": "2022-10-09T10:05:36.637Z"
      },
      {
        "duration": 14,
        "start_time": "2022-10-09T10:05:44.294Z"
      },
      {
        "duration": 8,
        "start_time": "2022-10-09T10:06:02.530Z"
      },
      {
        "duration": 14,
        "start_time": "2022-10-09T10:06:11.432Z"
      },
      {
        "duration": 8,
        "start_time": "2022-10-09T10:07:29.436Z"
      },
      {
        "duration": 8,
        "start_time": "2022-10-09T10:07:35.511Z"
      },
      {
        "duration": 10,
        "start_time": "2022-10-09T10:07:51.414Z"
      },
      {
        "duration": 12,
        "start_time": "2022-10-09T10:08:02.540Z"
      },
      {
        "duration": 17,
        "start_time": "2022-10-09T10:13:32.395Z"
      },
      {
        "duration": 185,
        "start_time": "2022-10-09T10:13:41.083Z"
      },
      {
        "duration": 12,
        "start_time": "2022-10-09T10:14:07.876Z"
      },
      {
        "duration": 192,
        "start_time": "2022-10-09T10:14:43.757Z"
      },
      {
        "duration": 150,
        "start_time": "2022-10-09T10:15:07.073Z"
      },
      {
        "duration": 16,
        "start_time": "2022-10-09T10:15:46.895Z"
      },
      {
        "duration": 12,
        "start_time": "2022-10-09T10:15:52.762Z"
      },
      {
        "duration": 12,
        "start_time": "2022-10-09T10:17:39.385Z"
      },
      {
        "duration": 14,
        "start_time": "2022-10-09T10:17:54.993Z"
      },
      {
        "duration": 13,
        "start_time": "2022-10-09T10:18:04.138Z"
      },
      {
        "duration": 12,
        "start_time": "2022-10-09T10:18:09.048Z"
      },
      {
        "duration": 14,
        "start_time": "2022-10-09T10:18:16.684Z"
      },
      {
        "duration": 138,
        "start_time": "2022-10-09T10:18:55.766Z"
      },
      {
        "duration": 17,
        "start_time": "2022-10-09T10:28:38.805Z"
      },
      {
        "duration": 197,
        "start_time": "2022-10-09T10:28:44.695Z"
      },
      {
        "duration": 16,
        "start_time": "2022-10-09T10:29:08.234Z"
      },
      {
        "duration": 199,
        "start_time": "2022-10-09T10:29:43.126Z"
      },
      {
        "duration": 156,
        "start_time": "2022-10-09T10:30:27.611Z"
      },
      {
        "duration": 155,
        "start_time": "2022-10-09T10:30:47.681Z"
      },
      {
        "duration": 12,
        "start_time": "2022-10-09T10:31:14.033Z"
      },
      {
        "duration": 10,
        "start_time": "2022-10-09T10:37:51.585Z"
      },
      {
        "duration": 9,
        "start_time": "2022-10-09T10:39:39.800Z"
      },
      {
        "duration": 5,
        "start_time": "2022-10-09T10:39:43.853Z"
      },
      {
        "duration": 12,
        "start_time": "2022-10-09T10:39:44.268Z"
      },
      {
        "duration": 8,
        "start_time": "2022-10-09T10:39:47.767Z"
      },
      {
        "duration": 2,
        "start_time": "2022-10-09T10:40:20.743Z"
      },
      {
        "duration": 15,
        "start_time": "2022-10-09T10:40:21.289Z"
      },
      {
        "duration": 11,
        "start_time": "2022-10-09T10:40:21.451Z"
      },
      {
        "duration": 5,
        "start_time": "2022-10-09T10:40:21.649Z"
      },
      {
        "duration": 12,
        "start_time": "2022-10-09T10:51:52.612Z"
      },
      {
        "duration": 5,
        "start_time": "2022-10-09T10:52:06.379Z"
      },
      {
        "duration": 44,
        "start_time": "2022-10-09T10:52:46.444Z"
      },
      {
        "duration": 405,
        "start_time": "2022-10-09T14:54:54.248Z"
      },
      {
        "duration": 120,
        "start_time": "2022-10-09T14:54:54.655Z"
      },
      {
        "duration": 15,
        "start_time": "2022-10-09T14:54:54.776Z"
      },
      {
        "duration": 10,
        "start_time": "2022-10-09T14:54:54.793Z"
      },
      {
        "duration": 34,
        "start_time": "2022-10-09T14:54:54.804Z"
      },
      {
        "duration": 31,
        "start_time": "2022-10-09T14:54:54.840Z"
      },
      {
        "duration": 42,
        "start_time": "2022-10-09T14:54:54.873Z"
      },
      {
        "duration": 13,
        "start_time": "2022-10-09T14:54:54.917Z"
      },
      {
        "duration": 21,
        "start_time": "2022-10-09T14:54:54.932Z"
      },
      {
        "duration": 22,
        "start_time": "2022-10-09T14:54:54.956Z"
      },
      {
        "duration": 10,
        "start_time": "2022-10-09T14:54:54.980Z"
      },
      {
        "duration": 10,
        "start_time": "2022-10-09T14:54:54.992Z"
      },
      {
        "duration": 19,
        "start_time": "2022-10-09T14:54:55.004Z"
      },
      {
        "duration": 27,
        "start_time": "2022-10-09T14:54:55.025Z"
      },
      {
        "duration": 24,
        "start_time": "2022-10-09T14:54:55.054Z"
      },
      {
        "duration": 21,
        "start_time": "2022-10-09T14:54:55.080Z"
      },
      {
        "duration": 952,
        "start_time": "2022-10-09T14:54:55.103Z"
      },
      {
        "duration": 18,
        "start_time": "2022-10-09T14:54:56.057Z"
      },
      {
        "duration": 216,
        "start_time": "2022-10-09T14:54:56.076Z"
      },
      {
        "duration": 10,
        "start_time": "2022-10-09T14:54:56.294Z"
      },
      {
        "duration": 33,
        "start_time": "2022-10-09T14:54:56.305Z"
      },
      {
        "duration": 285,
        "start_time": "2022-10-09T14:54:56.339Z"
      },
      {
        "duration": 4,
        "start_time": "2022-10-09T14:54:56.626Z"
      },
      {
        "duration": 25,
        "start_time": "2022-10-09T14:54:56.633Z"
      },
      {
        "duration": 2265,
        "start_time": "2022-10-09T14:54:56.660Z"
      },
      {
        "duration": 22,
        "start_time": "2022-10-09T14:54:58.928Z"
      },
      {
        "duration": 24,
        "start_time": "2022-10-09T14:54:58.952Z"
      },
      {
        "duration": 42,
        "start_time": "2022-10-09T14:54:58.981Z"
      },
      {
        "duration": 185,
        "start_time": "2022-10-09T14:54:59.025Z"
      },
      {
        "duration": 159,
        "start_time": "2022-10-09T14:54:59.212Z"
      },
      {
        "duration": 133,
        "start_time": "2022-10-09T14:54:59.373Z"
      },
      {
        "duration": 149,
        "start_time": "2022-10-09T14:54:59.508Z"
      },
      {
        "duration": 152,
        "start_time": "2022-10-09T14:54:59.659Z"
      },
      {
        "duration": 157,
        "start_time": "2022-10-09T14:54:59.819Z"
      },
      {
        "duration": 8,
        "start_time": "2022-10-09T14:54:59.979Z"
      },
      {
        "duration": 8,
        "start_time": "2022-10-09T14:54:59.989Z"
      },
      {
        "duration": 24,
        "start_time": "2022-10-09T14:54:59.999Z"
      },
      {
        "duration": 203,
        "start_time": "2022-10-09T14:55:00.024Z"
      },
      {
        "duration": 192,
        "start_time": "2022-10-09T14:55:00.228Z"
      },
      {
        "duration": 169,
        "start_time": "2022-10-09T14:55:00.423Z"
      },
      {
        "duration": 43,
        "start_time": "2022-10-09T14:55:00.594Z"
      },
      {
        "duration": 230,
        "start_time": "2022-10-09T14:55:00.640Z"
      },
      {
        "duration": 218,
        "start_time": "2022-10-09T14:55:00.872Z"
      },
      {
        "duration": 5,
        "start_time": "2022-10-09T14:55:01.092Z"
      },
      {
        "duration": 56,
        "start_time": "2022-10-09T14:55:01.099Z"
      },
      {
        "duration": 68,
        "start_time": "2022-10-09T14:55:01.157Z"
      },
      {
        "duration": 275,
        "start_time": "2022-10-09T14:55:01.227Z"
      },
      {
        "duration": 19,
        "start_time": "2022-10-09T14:55:01.504Z"
      },
      {
        "duration": 229,
        "start_time": "2022-10-09T14:55:01.525Z"
      },
      {
        "duration": 15,
        "start_time": "2022-10-09T14:55:01.756Z"
      },
      {
        "duration": 280,
        "start_time": "2022-10-09T14:55:01.773Z"
      },
      {
        "duration": 15,
        "start_time": "2022-10-09T14:55:02.055Z"
      },
      {
        "duration": 254,
        "start_time": "2022-10-09T14:55:02.073Z"
      },
      {
        "duration": 15,
        "start_time": "2022-10-09T14:55:02.329Z"
      },
      {
        "duration": 255,
        "start_time": "2022-10-09T14:55:02.346Z"
      },
      {
        "duration": 22,
        "start_time": "2022-10-09T14:55:02.603Z"
      },
      {
        "duration": 200,
        "start_time": "2022-10-09T14:55:02.627Z"
      },
      {
        "duration": 14,
        "start_time": "2022-10-09T14:55:02.828Z"
      },
      {
        "duration": 6,
        "start_time": "2022-10-09T14:55:02.844Z"
      },
      {
        "duration": 18,
        "start_time": "2022-10-09T14:55:02.852Z"
      },
      {
        "duration": 18,
        "start_time": "2022-10-09T14:55:02.872Z"
      },
      {
        "duration": 10,
        "start_time": "2022-10-09T14:55:02.892Z"
      },
      {
        "duration": 23,
        "start_time": "2022-10-09T14:55:02.904Z"
      },
      {
        "duration": 15,
        "start_time": "2022-10-09T14:55:02.929Z"
      },
      {
        "duration": 9,
        "start_time": "2022-10-09T15:24:27.296Z"
      },
      {
        "duration": 9,
        "start_time": "2022-10-09T15:24:39.804Z"
      },
      {
        "duration": 417,
        "start_time": "2022-10-09T15:24:51.486Z"
      },
      {
        "duration": 76,
        "start_time": "2022-10-09T15:24:51.906Z"
      },
      {
        "duration": 15,
        "start_time": "2022-10-09T15:24:51.984Z"
      },
      {
        "duration": 16,
        "start_time": "2022-10-09T15:24:52.001Z"
      },
      {
        "duration": 44,
        "start_time": "2022-10-09T15:24:52.019Z"
      },
      {
        "duration": 37,
        "start_time": "2022-10-09T15:24:52.065Z"
      },
      {
        "duration": 65,
        "start_time": "2022-10-09T15:24:52.103Z"
      },
      {
        "duration": 14,
        "start_time": "2022-10-09T15:24:52.170Z"
      },
      {
        "duration": 41,
        "start_time": "2022-10-09T15:24:52.186Z"
      },
      {
        "duration": 54,
        "start_time": "2022-10-09T15:24:52.230Z"
      },
      {
        "duration": 25,
        "start_time": "2022-10-09T15:24:52.286Z"
      },
      {
        "duration": 27,
        "start_time": "2022-10-09T15:24:52.312Z"
      },
      {
        "duration": 24,
        "start_time": "2022-10-09T15:24:52.340Z"
      },
      {
        "duration": 18,
        "start_time": "2022-10-09T15:24:52.366Z"
      },
      {
        "duration": 15,
        "start_time": "2022-10-09T15:24:52.386Z"
      },
      {
        "duration": 26,
        "start_time": "2022-10-09T15:24:52.403Z"
      },
      {
        "duration": 793,
        "start_time": "2022-10-09T15:24:52.430Z"
      },
      {
        "duration": 16,
        "start_time": "2022-10-09T15:24:53.225Z"
      },
      {
        "duration": 211,
        "start_time": "2022-10-09T15:24:53.243Z"
      },
      {
        "duration": 10,
        "start_time": "2022-10-09T15:24:53.456Z"
      },
      {
        "duration": 18,
        "start_time": "2022-10-09T15:24:53.468Z"
      },
      {
        "duration": 278,
        "start_time": "2022-10-09T15:24:53.488Z"
      },
      {
        "duration": 4,
        "start_time": "2022-10-09T15:24:53.768Z"
      },
      {
        "duration": 25,
        "start_time": "2022-10-09T15:24:53.774Z"
      },
      {
        "duration": 2235,
        "start_time": "2022-10-09T15:24:53.801Z"
      },
      {
        "duration": 15,
        "start_time": "2022-10-09T15:24:56.038Z"
      },
      {
        "duration": 17,
        "start_time": "2022-10-09T15:24:56.054Z"
      },
      {
        "duration": 15,
        "start_time": "2022-10-09T15:24:56.075Z"
      },
      {
        "duration": 151,
        "start_time": "2022-10-09T15:24:56.092Z"
      },
      {
        "duration": 144,
        "start_time": "2022-10-09T15:24:56.245Z"
      },
      {
        "duration": 130,
        "start_time": "2022-10-09T15:24:56.390Z"
      },
      {
        "duration": 144,
        "start_time": "2022-10-09T15:24:56.522Z"
      },
      {
        "duration": 144,
        "start_time": "2022-10-09T15:24:56.668Z"
      },
      {
        "duration": 148,
        "start_time": "2022-10-09T15:24:56.813Z"
      },
      {
        "duration": 10,
        "start_time": "2022-10-09T15:24:56.962Z"
      },
      {
        "duration": 7,
        "start_time": "2022-10-09T15:24:56.973Z"
      },
      {
        "duration": 4,
        "start_time": "2022-10-09T15:24:56.982Z"
      },
      {
        "duration": 7,
        "start_time": "2022-10-09T15:24:56.988Z"
      },
      {
        "duration": 172,
        "start_time": "2022-10-09T15:24:57.021Z"
      },
      {
        "duration": 176,
        "start_time": "2022-10-09T15:24:57.194Z"
      },
      {
        "duration": 48,
        "start_time": "2022-10-09T15:24:57.372Z"
      },
      {
        "duration": 18,
        "start_time": "2022-10-09T15:24:57.422Z"
      },
      {
        "duration": 200,
        "start_time": "2022-10-09T15:24:57.442Z"
      },
      {
        "duration": 220,
        "start_time": "2022-10-09T15:24:57.643Z"
      },
      {
        "duration": 5,
        "start_time": "2022-10-09T15:24:57.865Z"
      },
      {
        "duration": 20,
        "start_time": "2022-10-09T15:24:57.872Z"
      },
      {
        "duration": 35,
        "start_time": "2022-10-09T15:24:57.894Z"
      },
      {
        "duration": 245,
        "start_time": "2022-10-09T15:24:57.932Z"
      },
      {
        "duration": 14,
        "start_time": "2022-10-09T15:24:58.179Z"
      },
      {
        "duration": 314,
        "start_time": "2022-10-09T15:24:58.194Z"
      },
      {
        "duration": 20,
        "start_time": "2022-10-09T15:24:58.510Z"
      },
      {
        "duration": 219,
        "start_time": "2022-10-09T15:24:58.532Z"
      },
      {
        "duration": 14,
        "start_time": "2022-10-09T15:24:58.752Z"
      },
      {
        "duration": 215,
        "start_time": "2022-10-09T15:24:58.768Z"
      },
      {
        "duration": 18,
        "start_time": "2022-10-09T15:24:58.985Z"
      },
      {
        "duration": 281,
        "start_time": "2022-10-09T15:24:59.005Z"
      },
      {
        "duration": 15,
        "start_time": "2022-10-09T15:24:59.287Z"
      },
      {
        "duration": 185,
        "start_time": "2022-10-09T15:24:59.304Z"
      },
      {
        "duration": 14,
        "start_time": "2022-10-09T15:24:59.491Z"
      },
      {
        "duration": 15,
        "start_time": "2022-10-09T15:24:59.506Z"
      },
      {
        "duration": 11,
        "start_time": "2022-10-09T15:24:59.523Z"
      },
      {
        "duration": 35,
        "start_time": "2022-10-09T15:24:59.535Z"
      },
      {
        "duration": 9,
        "start_time": "2022-10-09T15:24:59.572Z"
      },
      {
        "duration": 18,
        "start_time": "2022-10-09T15:24:59.582Z"
      },
      {
        "duration": 9,
        "start_time": "2022-10-09T15:24:59.602Z"
      },
      {
        "duration": 18,
        "start_time": "2022-10-09T15:33:47.136Z"
      },
      {
        "duration": 17,
        "start_time": "2022-10-09T15:34:33.642Z"
      },
      {
        "duration": 206,
        "start_time": "2022-10-09T15:34:54.766Z"
      },
      {
        "duration": 163,
        "start_time": "2022-10-09T15:38:52.426Z"
      },
      {
        "duration": 18,
        "start_time": "2022-10-09T15:39:56.348Z"
      },
      {
        "duration": 478,
        "start_time": "2022-10-09T15:46:08.722Z"
      },
      {
        "duration": 78,
        "start_time": "2022-10-09T15:46:09.202Z"
      },
      {
        "duration": 15,
        "start_time": "2022-10-09T15:46:09.281Z"
      },
      {
        "duration": 16,
        "start_time": "2022-10-09T15:46:09.298Z"
      },
      {
        "duration": 27,
        "start_time": "2022-10-09T15:46:09.316Z"
      },
      {
        "duration": 22,
        "start_time": "2022-10-09T15:46:09.345Z"
      },
      {
        "duration": 54,
        "start_time": "2022-10-09T15:46:09.368Z"
      },
      {
        "duration": 12,
        "start_time": "2022-10-09T15:46:09.424Z"
      },
      {
        "duration": 9,
        "start_time": "2022-10-09T15:46:09.438Z"
      },
      {
        "duration": 21,
        "start_time": "2022-10-09T15:46:09.450Z"
      },
      {
        "duration": 9,
        "start_time": "2022-10-09T15:46:09.473Z"
      },
      {
        "duration": 41,
        "start_time": "2022-10-09T15:46:09.484Z"
      },
      {
        "duration": 11,
        "start_time": "2022-10-09T15:46:09.529Z"
      },
      {
        "duration": 19,
        "start_time": "2022-10-09T15:46:09.542Z"
      },
      {
        "duration": 15,
        "start_time": "2022-10-09T15:46:09.563Z"
      },
      {
        "duration": 43,
        "start_time": "2022-10-09T15:46:09.580Z"
      },
      {
        "duration": 835,
        "start_time": "2022-10-09T15:46:09.624Z"
      },
      {
        "duration": 18,
        "start_time": "2022-10-09T15:46:10.461Z"
      },
      {
        "duration": 223,
        "start_time": "2022-10-09T15:46:10.481Z"
      },
      {
        "duration": 16,
        "start_time": "2022-10-09T15:46:10.706Z"
      },
      {
        "duration": 24,
        "start_time": "2022-10-09T15:46:10.724Z"
      },
      {
        "duration": 290,
        "start_time": "2022-10-09T15:46:10.750Z"
      },
      {
        "duration": 4,
        "start_time": "2022-10-09T15:46:11.043Z"
      },
      {
        "duration": 20,
        "start_time": "2022-10-09T15:46:11.049Z"
      },
      {
        "duration": 2330,
        "start_time": "2022-10-09T15:46:11.071Z"
      },
      {
        "duration": 21,
        "start_time": "2022-10-09T15:46:13.403Z"
      },
      {
        "duration": 18,
        "start_time": "2022-10-09T15:46:13.426Z"
      },
      {
        "duration": 13,
        "start_time": "2022-10-09T15:46:13.448Z"
      },
      {
        "duration": 144,
        "start_time": "2022-10-09T15:46:13.463Z"
      },
      {
        "duration": 155,
        "start_time": "2022-10-09T15:46:13.609Z"
      },
      {
        "duration": 148,
        "start_time": "2022-10-09T15:46:13.765Z"
      },
      {
        "duration": 140,
        "start_time": "2022-10-09T15:46:13.921Z"
      },
      {
        "duration": 142,
        "start_time": "2022-10-09T15:46:14.062Z"
      },
      {
        "duration": 151,
        "start_time": "2022-10-09T15:46:14.206Z"
      },
      {
        "duration": 7,
        "start_time": "2022-10-09T15:46:14.359Z"
      },
      {
        "duration": 16,
        "start_time": "2022-10-09T15:46:14.367Z"
      },
      {
        "duration": 5,
        "start_time": "2022-10-09T15:46:14.385Z"
      },
      {
        "duration": 6,
        "start_time": "2022-10-09T15:46:14.392Z"
      },
      {
        "duration": 185,
        "start_time": "2022-10-09T15:46:14.399Z"
      },
      {
        "duration": 174,
        "start_time": "2022-10-09T15:46:14.586Z"
      },
      {
        "duration": 41,
        "start_time": "2022-10-09T15:46:14.761Z"
      },
      {
        "duration": 31,
        "start_time": "2022-10-09T15:46:14.804Z"
      },
      {
        "duration": 196,
        "start_time": "2022-10-09T15:46:14.837Z"
      },
      {
        "duration": 225,
        "start_time": "2022-10-09T15:46:15.035Z"
      },
      {
        "duration": 6,
        "start_time": "2022-10-09T15:46:15.263Z"
      },
      {
        "duration": 32,
        "start_time": "2022-10-09T15:46:15.271Z"
      },
      {
        "duration": 29,
        "start_time": "2022-10-09T15:46:15.305Z"
      },
      {
        "duration": 252,
        "start_time": "2022-10-09T15:46:15.336Z"
      },
      {
        "duration": 31,
        "start_time": "2022-10-09T15:46:15.590Z"
      },
      {
        "duration": 297,
        "start_time": "2022-10-09T15:46:15.623Z"
      },
      {
        "duration": 13,
        "start_time": "2022-10-09T15:46:15.922Z"
      },
      {
        "duration": 224,
        "start_time": "2022-10-09T15:46:15.936Z"
      },
      {
        "duration": 14,
        "start_time": "2022-10-09T15:46:16.163Z"
      },
      {
        "duration": 185,
        "start_time": "2022-10-09T15:46:16.179Z"
      },
      {
        "duration": 13,
        "start_time": "2022-10-09T15:46:16.366Z"
      },
      {
        "duration": 232,
        "start_time": "2022-10-09T15:46:16.381Z"
      },
      {
        "duration": 17,
        "start_time": "2022-10-09T15:46:16.615Z"
      },
      {
        "duration": 203,
        "start_time": "2022-10-09T15:46:16.634Z"
      },
      {
        "duration": 14,
        "start_time": "2022-10-09T15:46:16.839Z"
      },
      {
        "duration": 5,
        "start_time": "2022-10-09T15:46:16.855Z"
      },
      {
        "duration": 9,
        "start_time": "2022-10-09T15:46:16.862Z"
      },
      {
        "duration": 14,
        "start_time": "2022-10-09T15:46:16.872Z"
      },
      {
        "duration": 9,
        "start_time": "2022-10-09T15:46:16.888Z"
      },
      {
        "duration": 32,
        "start_time": "2022-10-09T15:46:16.898Z"
      },
      {
        "duration": 6,
        "start_time": "2022-10-09T15:46:16.932Z"
      },
      {
        "duration": 2,
        "start_time": "2022-10-12T15:00:59.958Z"
      },
      {
        "duration": 1114,
        "start_time": "2022-10-12T15:00:59.962Z"
      },
      {
        "duration": 213,
        "start_time": "2022-10-12T15:01:01.078Z"
      },
      {
        "duration": 12,
        "start_time": "2022-10-12T15:01:01.293Z"
      },
      {
        "duration": 20,
        "start_time": "2022-10-12T15:01:01.306Z"
      },
      {
        "duration": 37,
        "start_time": "2022-10-12T15:01:01.328Z"
      },
      {
        "duration": 82,
        "start_time": "2022-10-12T15:01:01.367Z"
      },
      {
        "duration": 74,
        "start_time": "2022-10-12T15:01:01.450Z"
      },
      {
        "duration": 33,
        "start_time": "2022-10-12T15:01:01.526Z"
      },
      {
        "duration": 71,
        "start_time": "2022-10-12T15:01:01.560Z"
      },
      {
        "duration": 29,
        "start_time": "2022-10-12T15:01:01.632Z"
      },
      {
        "duration": 27,
        "start_time": "2022-10-12T15:01:01.663Z"
      },
      {
        "duration": 21,
        "start_time": "2022-10-12T15:01:01.691Z"
      },
      {
        "duration": 21,
        "start_time": "2022-10-12T15:01:01.713Z"
      },
      {
        "duration": 9,
        "start_time": "2022-10-12T15:01:01.736Z"
      },
      {
        "duration": 33,
        "start_time": "2022-10-12T15:01:01.747Z"
      },
      {
        "duration": 19,
        "start_time": "2022-10-12T15:01:01.782Z"
      },
      {
        "duration": 47,
        "start_time": "2022-10-12T15:01:01.803Z"
      },
      {
        "duration": 16,
        "start_time": "2022-10-12T15:01:01.852Z"
      },
      {
        "duration": 25,
        "start_time": "2022-10-12T15:01:01.870Z"
      },
      {
        "duration": 36,
        "start_time": "2022-10-12T15:01:01.896Z"
      },
      {
        "duration": 190,
        "start_time": "2022-10-12T15:01:01.934Z"
      },
      {
        "duration": 9,
        "start_time": "2022-10-12T15:01:02.127Z"
      },
      {
        "duration": 28,
        "start_time": "2022-10-12T15:01:02.140Z"
      },
      {
        "duration": 243,
        "start_time": "2022-10-12T15:01:02.186Z"
      },
      {
        "duration": 3,
        "start_time": "2022-10-12T15:01:02.431Z"
      },
      {
        "duration": 25,
        "start_time": "2022-10-12T15:01:02.436Z"
      },
      {
        "duration": 1994,
        "start_time": "2022-10-12T15:01:02.462Z"
      },
      {
        "duration": 14,
        "start_time": "2022-10-12T15:01:04.457Z"
      },
      {
        "duration": 29,
        "start_time": "2022-10-12T15:01:04.472Z"
      },
      {
        "duration": 12,
        "start_time": "2022-10-12T15:01:04.502Z"
      },
      {
        "duration": 147,
        "start_time": "2022-10-12T15:01:04.515Z"
      },
      {
        "duration": 110,
        "start_time": "2022-10-12T15:01:04.664Z"
      },
      {
        "duration": 130,
        "start_time": "2022-10-12T15:01:04.775Z"
      },
      {
        "duration": 117,
        "start_time": "2022-10-12T15:01:04.907Z"
      },
      {
        "duration": 132,
        "start_time": "2022-10-12T15:01:05.026Z"
      },
      {
        "duration": 131,
        "start_time": "2022-10-12T15:01:05.159Z"
      },
      {
        "duration": 131,
        "start_time": "2022-10-12T15:01:05.292Z"
      },
      {
        "duration": 3,
        "start_time": "2022-10-12T15:01:05.424Z"
      },
      {
        "duration": 11,
        "start_time": "2022-10-12T15:01:05.428Z"
      },
      {
        "duration": 4,
        "start_time": "2022-10-12T15:01:05.441Z"
      },
      {
        "duration": 5,
        "start_time": "2022-10-12T15:01:05.446Z"
      },
      {
        "duration": 182,
        "start_time": "2022-10-12T15:01:05.452Z"
      },
      {
        "duration": 169,
        "start_time": "2022-10-12T15:01:05.635Z"
      },
      {
        "duration": 35,
        "start_time": "2022-10-12T15:01:05.805Z"
      },
      {
        "duration": 17,
        "start_time": "2022-10-12T15:01:05.842Z"
      },
      {
        "duration": 194,
        "start_time": "2022-10-12T15:01:05.860Z"
      },
      {
        "duration": 180,
        "start_time": "2022-10-12T15:01:06.055Z"
      },
      {
        "duration": 5,
        "start_time": "2022-10-12T15:01:06.236Z"
      },
      {
        "duration": 17,
        "start_time": "2022-10-12T15:01:06.242Z"
      },
      {
        "duration": 26,
        "start_time": "2022-10-12T15:01:06.260Z"
      },
      {
        "duration": 17,
        "start_time": "2022-10-12T15:01:06.287Z"
      },
      {
        "duration": 308,
        "start_time": "2022-10-12T15:01:06.305Z"
      },
      {
        "duration": 13,
        "start_time": "2022-10-12T15:01:06.615Z"
      },
      {
        "duration": 170,
        "start_time": "2022-10-12T15:01:06.630Z"
      },
      {
        "duration": 13,
        "start_time": "2022-10-12T15:01:06.802Z"
      },
      {
        "duration": 253,
        "start_time": "2022-10-12T15:01:06.816Z"
      },
      {
        "duration": 24,
        "start_time": "2022-10-12T15:01:07.071Z"
      },
      {
        "duration": 188,
        "start_time": "2022-10-12T15:01:07.097Z"
      },
      {
        "duration": 13,
        "start_time": "2022-10-12T15:01:07.287Z"
      },
      {
        "duration": 200,
        "start_time": "2022-10-12T15:01:07.302Z"
      },
      {
        "duration": 13,
        "start_time": "2022-10-12T15:01:07.504Z"
      },
      {
        "duration": 172,
        "start_time": "2022-10-12T15:01:07.519Z"
      },
      {
        "duration": 13,
        "start_time": "2022-10-12T15:01:07.693Z"
      },
      {
        "duration": 10,
        "start_time": "2022-10-12T15:01:07.707Z"
      },
      {
        "duration": 17,
        "start_time": "2022-10-12T15:01:07.719Z"
      },
      {
        "duration": 6,
        "start_time": "2022-10-12T15:01:07.738Z"
      },
      {
        "duration": 10,
        "start_time": "2022-10-12T15:01:07.745Z"
      },
      {
        "duration": 6,
        "start_time": "2022-10-12T15:01:07.759Z"
      },
      {
        "duration": 261,
        "start_time": "2022-10-12T15:04:30.068Z"
      },
      {
        "duration": 268,
        "start_time": "2022-10-12T15:05:00.697Z"
      },
      {
        "duration": 336,
        "start_time": "2022-10-12T15:05:24.463Z"
      },
      {
        "duration": 247,
        "start_time": "2022-10-12T15:05:31.199Z"
      },
      {
        "duration": 262,
        "start_time": "2022-10-12T15:05:47.748Z"
      },
      {
        "duration": 9,
        "start_time": "2022-10-12T15:09:09.231Z"
      }
    ],
    "colab": {
      "provenance": []
    },
    "kernelspec": {
      "display_name": "Python 3 (ipykernel)",
      "language": "python",
      "name": "python3"
    },
    "language_info": {
      "codemirror_mode": {
        "name": "ipython",
        "version": 3
      },
      "file_extension": ".py",
      "mimetype": "text/x-python",
      "name": "python",
      "nbconvert_exporter": "python",
      "pygments_lexer": "ipython3",
      "version": "3.9.5"
    },
    "toc": {
      "base_numbering": 1,
      "nav_menu": {},
      "number_sections": true,
      "sideBar": true,
      "skip_h1_title": true,
      "title_cell": "Table of Contents",
      "title_sidebar": "Contents",
      "toc_cell": false,
      "toc_position": {},
      "toc_section_display": true,
      "toc_window_display": false
    }
  },
  "nbformat": 4,
  "nbformat_minor": 0
}
